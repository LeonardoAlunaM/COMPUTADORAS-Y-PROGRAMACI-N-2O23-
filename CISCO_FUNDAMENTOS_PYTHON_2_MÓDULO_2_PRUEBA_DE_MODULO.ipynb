{
  "nbformat": 4,
  "nbformat_minor": 0,
  "metadata": {
    "colab": {
      "provenance": [],
      "authorship_tag": "ABX9TyMlg5o0PIXaA4sxKFXr7+y8",
      "include_colab_link": true
    },
    "kernelspec": {
      "name": "python3",
      "display_name": "Python 3"
    },
    "language_info": {
      "name": "python"
    }
  },
  "cells": [
    {
      "cell_type": "markdown",
      "metadata": {
        "id": "view-in-github",
        "colab_type": "text"
      },
      "source": [
        "<a href=\"https://colab.research.google.com/github/LeonardoAlunaM/COMPUTADORAS-Y-PROGRAMACI-N-2O23-/blob/main-COMPUTADORAS-Y-PROGTRAMACI%C3%93N-2023/CISCO_FUNDAMENTOS_PYTHON_2_M%C3%93DULO_2_PRUEBA_DE_MODULO.ipynb\" target=\"_parent\"><img src=\"https://colab.research.google.com/assets/colab-badge.svg\" alt=\"Open In Colab\"/></a>"
      ]
    },
    {
      "cell_type": "code",
      "execution_count": 1,
      "metadata": {
        "colab": {
          "base_uri": "https://localhost:8080/"
        },
        "id": "zgGX1ipdwrtI",
        "outputId": "85b0da90-d1fa-426a-eb68-06797d3f29a3"
      },
      "outputs": [
        {
          "output_type": "stream",
          "name": "stdout",
          "text": [
            "b\n",
            "c\n",
            "d\n",
            "No existe tal clave: d\n"
          ]
        }
      ],
      "source": [
        "# ¿Cómo abusar del diccionario\n",
        "# y cómo lidiar con ello?\n",
        " \n",
        "dictionary = {'a': 'b', 'b': 'c', 'c': 'd'}\n",
        "ch = 'a'\n",
        " \n",
        "try:\n",
        "    while True:\n",
        "        ch = dictionary[ch]\n",
        "        print(ch)\n",
        "except KeyError:\n",
        "    print('No existe tal clave:', ch)"
      ]
    },
    {
      "cell_type": "code",
      "source": [
        "# Una de estas importaciones fallará, ¿cuál será?\n",
        " \n",
        "try:\n",
        "    import math\n",
        "    import time\n",
        "    import abracadabra:\n",
        " \n",
        "except:\n",
        "    print('Una de tus importaciones ha fallado.')"
      ],
      "metadata": {
        "colab": {
          "base_uri": "https://localhost:8080/",
          "height": 130
        },
        "id": "qhpBKw08w_m6",
        "outputId": "346ec653-d0c0-4662-e86f-4f96b5b4e146"
      },
      "execution_count": 3,
      "outputs": [
        {
          "output_type": "error",
          "ename": "SyntaxError",
          "evalue": "ignored",
          "traceback": [
            "\u001b[0;36m  File \u001b[0;32m\"<ipython-input-3-ecabdf35bb1b>\"\u001b[0;36m, line \u001b[0;32m6\u001b[0m\n\u001b[0;31m    import abracadabra:\u001b[0m\n\u001b[0m                      ^\u001b[0m\n\u001b[0;31mSyntaxError\u001b[0m\u001b[0;31m:\u001b[0m invalid syntax\n"
          ]
        }
      ]
    },
    {
      "cell_type": "code",
      "source": [
        "# El código imprime los valores subsequentes\n",
        "# de exp(k), k = 1, 2, 4, 8, 16, ...\n",
        " \n",
        "from math import exp\n",
        " \n",
        "ex = 1\n",
        " \n",
        "try:\n",
        "    while True:\n",
        "        print(exp(ex))\n",
        "        ex *= 2\n",
        "except OverflowError:\n",
        "    print('El número es demasiado grande.')"
      ],
      "metadata": {
        "colab": {
          "base_uri": "https://localhost:8080/"
        },
        "id": "fDT8Q851x8c4",
        "outputId": "2869590b-5b6c-4a61-9228-5beee44f6a7e"
      },
      "execution_count": 4,
      "outputs": [
        {
          "output_type": "stream",
          "name": "stdout",
          "text": [
            "2.718281828459045\n",
            "7.38905609893065\n",
            "54.598150033144236\n",
            "2980.9579870417283\n",
            "8886110.520507872\n",
            "78962960182680.69\n",
            "6.235149080811617e+27\n",
            "3.887708405994595e+55\n",
            "1.5114276650041035e+111\n",
            "2.2844135865397565e+222\n",
            "El número es demasiado grande.\n"
          ]
        }
      ]
    },
    {
      "cell_type": "markdown",
      "source": [],
      "metadata": {
        "id": "tm3fFMTKy0lw"
      }
    },
    {
      "cell_type": "code",
      "source": [
        "def read_int(prompt, min, max):\n",
        "    ok = False\n",
        "    while not ok:\n",
        "        try:\n",
        "            value = int(input(prompt))\n",
        "            ok = True\n",
        "        except ValueError:\n",
        "            print(\"Error: entrada incorrecta\")\n",
        "        if ok:\n",
        "            ok = value >= min and value <= max\n",
        "        if not ok:\n",
        "            print(\"Error: el valor no está dentro del rango permitido (\" + str(min) + \"..\" + str(max) + \")\")\n",
        "    return value;\n",
        "\n",
        "\n",
        "v = read_int(\"Ingresa un número entre -10 a 10: \", -10, 10)\n",
        "\n",
        "print(\"El número es:\", v)"
      ],
      "metadata": {
        "colab": {
          "base_uri": "https://localhost:8080/"
        },
        "id": "_pCcDapKzHbN",
        "outputId": "4b417762-6280-4b02-ae7f-28d605a04166"
      },
      "execution_count": 5,
      "outputs": [
        {
          "output_type": "stream",
          "name": "stdout",
          "text": [
            "Ingresa un número entre -10 a 10: 7\n",
            "El número es: 7\n"
          ]
        }
      ]
    },
    {
      "cell_type": "markdown",
      "source": [
        "# 2.9 Finalización del Módulo 2 – Prueba del Módulo"
      ],
      "metadata": {
        "id": "b1KGbSxY0myw"
      }
    },
    {
      "cell_type": "code",
      "source": [
        "# Pregunta 4\n",
        "# var = 0\n",
        "assert var == 0"
      ],
      "metadata": {
        "id": "HqWvEWwB1UGZ"
      },
      "execution_count": 16,
      "outputs": []
    },
    {
      "cell_type": "code",
      "source": [
        "assert var == 0"
      ],
      "metadata": {
        "id": "HTVcC7D66UJc"
      },
      "execution_count": 18,
      "outputs": []
    },
    {
      "cell_type": "code",
      "source": [
        "try:\n",
        "    print(\"5\"/0)\n",
        "except ArithmeticError:\n",
        "    print(\"arit\")\n",
        "except ZeroDivisionError:\n",
        "    print(\"cero\")\n",
        "except:\n",
        "    print(\"algo\")"
      ],
      "metadata": {
        "colab": {
          "base_uri": "https://localhost:8080/"
        },
        "id": "ib3P_JUH7sng",
        "outputId": "d00349b2-92de-46a4-aa16-558af049e09a"
      },
      "execution_count": 19,
      "outputs": [
        {
          "output_type": "stream",
          "name": "stdout",
          "text": [
            "algo\n"
          ]
        }
      ]
    },
    {
      "cell_type": "code",
      "source": [
        "# pregunta 10 \n",
        "x = '\\''\n",
        "print(len(x))"
      ],
      "metadata": {
        "colab": {
          "base_uri": "https://localhost:8080/"
        },
        "id": "nqLuA_r37_N8",
        "outputId": "5db65b79-0bcd-4c45-ea85-efc157d2da02"
      },
      "execution_count": 20,
      "outputs": [
        {
          "output_type": "stream",
          "name": "stdout",
          "text": [
            "1\n"
          ]
        }
      ]
    },
    {
      "cell_type": "code",
      "source": [
        "# pregunta 11 \n",
        "print(ord('c') - ord('a'))"
      ],
      "metadata": {
        "colab": {
          "base_uri": "https://localhost:8080/"
        },
        "id": "9xBEZDT27_Ir",
        "outputId": "1a10d1a2-0c35-4215-8ba5-5d6a97b42cb1"
      },
      "execution_count": 21,
      "outputs": [
        {
          "output_type": "stream",
          "name": "stdout",
          "text": [
            "2\n"
          ]
        }
      ]
    },
    {
      "cell_type": "code",
      "source": [
        "# Pregunta 12 \n",
        "\n",
        "print(chr(ord('z') ‑ 2))\n",
        "\n",
        "# x segun el interprete de visual studio "
      ],
      "metadata": {
        "colab": {
          "base_uri": "https://localhost:8080/",
          "height": 130
        },
        "id": "-bAZziZ97_GQ",
        "outputId": "bf45d957-37e9-4fc7-9a58-053135853676"
      },
      "execution_count": 23,
      "outputs": [
        {
          "output_type": "error",
          "ename": "SyntaxError",
          "evalue": "ignored",
          "traceback": [
            "\u001b[0;36m  File \u001b[0;32m\"<ipython-input-23-ada79a202525>\"\u001b[0;36m, line \u001b[0;32m3\u001b[0m\n\u001b[0;31m    print(chr(ord('z') ‑ 2))\u001b[0m\n\u001b[0m                       ^\u001b[0m\n\u001b[0;31mSyntaxError\u001b[0m\u001b[0;31m:\u001b[0m invalid character '‑' (U+2011)\n"
          ]
        }
      ]
    },
    {
      "cell_type": "code",
      "source": [
        "# Pregunta 13 \n",
        "print(3 * 'abc' + 'xyz')"
      ],
      "metadata": {
        "colab": {
          "base_uri": "https://localhost:8080/"
        },
        "id": "XCsGdRFt_rLy",
        "outputId": "eec79d5e-eab1-42f1-ea41-5117c9716681"
      },
      "execution_count": 24,
      "outputs": [
        {
          "output_type": "stream",
          "name": "stdout",
          "text": [
            "abcabcabcxyz\n"
          ]
        }
      ]
    },
    {
      "cell_type": "code",
      "source": [
        "# Pregunta 14 \n",
        "print('Mike' > \"Mikey\")"
      ],
      "metadata": {
        "colab": {
          "base_uri": "https://localhost:8080/"
        },
        "id": "ZbmDzVbJ_rJm",
        "outputId": "3db89f24-a948-443c-88dd-9a85a8d14d43"
      },
      "execution_count": 25,
      "outputs": [
        {
          "output_type": "stream",
          "name": "stdout",
          "text": [
            "False\n"
          ]
        }
      ]
    },
    {
      "cell_type": "code",
      "source": [
        "#Pregunta 15\n",
        "print(float(\"1, 3\"))"
      ],
      "metadata": {
        "colab": {
          "base_uri": "https://localhost:8080/",
          "height": 165
        },
        "id": "FEqzHCem7_D0",
        "outputId": "57073062-8963-4665-ab71-d6823693b032"
      },
      "execution_count": 26,
      "outputs": [
        {
          "output_type": "error",
          "ename": "ValueError",
          "evalue": "ignored",
          "traceback": [
            "\u001b[0;31m---------------------------------------------------------------------------\u001b[0m",
            "\u001b[0;31mValueError\u001b[0m                                Traceback (most recent call last)",
            "\u001b[0;32m<ipython-input-26-5c7bd3a0cf42>\u001b[0m in \u001b[0;36m<cell line: 1>\u001b[0;34m()\u001b[0m\n\u001b[0;32m----> 1\u001b[0;31m \u001b[0mprint\u001b[0m\u001b[0;34m(\u001b[0m\u001b[0mfloat\u001b[0m\u001b[0;34m(\u001b[0m\u001b[0;34m\"1, 3\"\u001b[0m\u001b[0;34m)\u001b[0m\u001b[0;34m)\u001b[0m\u001b[0;34m\u001b[0m\u001b[0;34m\u001b[0m\u001b[0m\n\u001b[0m",
            "\u001b[0;31mValueError\u001b[0m: could not convert string to float: '1, 3'"
          ]
        }
      ]
    },
    {
      "cell_type": "code",
      "source": [],
      "metadata": {
        "id": "T2EkGQ_i7_Bt"
      },
      "execution_count": null,
      "outputs": []
    },
    {
      "cell_type": "code",
      "source": [],
      "metadata": {
        "id": "eo5kS-ca7-_c"
      },
      "execution_count": null,
      "outputs": []
    },
    {
      "cell_type": "code",
      "source": [],
      "metadata": {
        "id": "rAqmlo2b7-9I"
      },
      "execution_count": null,
      "outputs": []
    },
    {
      "cell_type": "code",
      "source": [],
      "metadata": {
        "id": "9JnswE0L7-57"
      },
      "execution_count": null,
      "outputs": []
    },
    {
      "cell_type": "code",
      "source": [],
      "metadata": {
        "id": "RLlPFaWI7-2Q"
      },
      "execution_count": null,
      "outputs": []
    }
  ]
}