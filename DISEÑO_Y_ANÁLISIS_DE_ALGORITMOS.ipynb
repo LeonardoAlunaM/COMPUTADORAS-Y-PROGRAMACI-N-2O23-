{
  "nbformat": 4,
  "nbformat_minor": 0,
  "metadata": {
    "colab": {
      "provenance": [],
      "authorship_tag": "ABX9TyM7pFuIrzCeLK8hwLHf625r",
      "include_colab_link": true
    },
    "kernelspec": {
      "name": "python3",
      "display_name": "Python 3"
    },
    "language_info": {
      "name": "python"
    }
  },
  "cells": [
    {
      "cell_type": "markdown",
      "metadata": {
        "id": "view-in-github",
        "colab_type": "text"
      },
      "source": [
        "<a href=\"https://colab.research.google.com/github/LeonardoAlunaM/COMPUTADORAS-Y-PROGRAMACI-N-2O23-/blob/main-COMPUTADORAS-Y-PROGTRAMACI%C3%93N-2023/DISE%C3%91O_Y_AN%C3%81LISIS_DE_ALGORITMOS.ipynb\" target=\"_parent\"><img src=\"https://colab.research.google.com/assets/colab-badge.svg\" alt=\"Open In Colab\"/></a>"
      ]
    },
    {
      "cell_type": "markdown",
      "source": [
        "# Un modelo captura algún aspecto de la realidad que se intenta representar."
      ],
      "metadata": {
        "id": "rWwbln2MK3Ba"
      }
    },
    {
      "cell_type": "markdown",
      "source": [
        "# Programa 1, Cálculo de la raíz cuadrada"
      ],
      "metadata": {
        "id": "6BHhrZn3O_xc"
      }
    },
    {
      "cell_type": "code",
      "execution_count": null,
      "metadata": {
        "colab": {
          "base_uri": "https://localhost:8080/"
        },
        "id": "XLAEVrxjLbvn",
        "outputId": "707909f6-11d4-49dd-fb61-095afeff684b"
      },
      "outputs": [
        {
          "output_type": "stream",
          "name": "stdout",
          "text": [
            "Ingresa un número: 8\n",
            "La raíz cuadrada de 8.0 es 2.8284271247461903\n"
          ]
        }
      ],
      "source": [
        "# Programa 1\n",
        "# Utilizando la importación del módulo math\n",
        "import math\n",
        "\n",
        "# Solicitar al usuario que ingrese un número\n",
        "numero = float(input(\"Ingresa un número: \"))\n",
        "\n",
        "# Calcular la raíz cuadrada\n",
        "raiz_cuadrada = math.sqrt(numero)\n",
        "\n",
        "# Imprimir el resultado\n",
        "print(f\"La raíz cuadrada de {numero} es {raiz_cuadrada}\")"
      ]
    },
    {
      "cell_type": "code",
      "source": [
        "# 26 / 08 / 2023\n",
        "# LLAM\n",
        "# Solicitar al usuario que ingrese un número\n",
        "numero = float(input(\"Ingresa un número: \"))\n",
        "\n",
        "# Establecer una suposición inicial para la raíz cuadrada\n",
        "raiz_aproximada = numero / 2  # Es posible elegir otra suposición inicial para el programa, si el usuario así lo desea\n",
        "\n",
        "# Definir la tolerancia para detener la aproximación.\n",
        "tolerancia = 1e-6\n",
        "\n",
        "# Iterar hasta que la aproximación sea lo suficientemente cercana\n",
        "while abs(raiz_aproximada * raiz_aproximada - numero) > tolerancia:\n",
        "    raiz_aproximada = 0.5 * (raiz_aproximada + numero / raiz_aproximada)\n",
        "\n",
        "# Imprimir el resultado\n",
        "print(f\"La raíz cuadrada de {numero} es aproximadamente {raiz_aproximada}\")\n"
      ],
      "metadata": {
        "colab": {
          "base_uri": "https://localhost:8080/",
          "height": 227
        },
        "id": "_XPoh2CxLjhy",
        "outputId": "a56317fc-0f83-4da8-cbf1-0aeb735939d9"
      },
      "execution_count": null,
      "outputs": [
        {
          "name": "stdout",
          "output_type": "stream",
          "text": [
            "Ingresa un número: 100\n"
          ]
        },
        {
          "output_type": "error",
          "ename": "TypeError",
          "evalue": "ignored",
          "traceback": [
            "\u001b[0;31m---------------------------------------------------------------------------\u001b[0m",
            "\u001b[0;31mTypeError\u001b[0m                                 Traceback (most recent call last)",
            "\u001b[0;32m<ipython-input-22-23609fe7c37b>\u001b[0m in \u001b[0;36m<cell line: 17>\u001b[0;34m()\u001b[0m\n\u001b[1;32m     15\u001b[0m \u001b[0;34m\u001b[0m\u001b[0m\n\u001b[1;32m     16\u001b[0m \u001b[0;31m# Imprimir el resultado\u001b[0m\u001b[0;34m\u001b[0m\u001b[0;34m\u001b[0m\u001b[0m\n\u001b[0;32m---> 17\u001b[0;31m \u001b[0mprint\u001b[0m\u001b[0;34m(\u001b[0m\u001b[0;34mf\"La raíz cuadrada de {numero} es aproximadamente {raiz_aproximada}\"\u001b[0m\u001b[0;34m)\u001b[0m\u001b[0;34m\u001b[0m\u001b[0;34m\u001b[0m\u001b[0m\n\u001b[0m",
            "\u001b[0;31mTypeError\u001b[0m: 'tuple' object is not callable"
          ]
        }
      ]
    },
    {
      "cell_type": "code",
      "source": [
        "# 26 / 08 / 2023\n",
        "# LLAM\n",
        "numero = float(input(\"Ingresa un número: \"))\n",
        "\n",
        "# Establecer una suposición inicial para la raíz cuadrada\n",
        "raiz_aproximada = numero / 2  # Es posible elegir otra suposición inicial para el programa, si el usuario así lo desea\n",
        "\n",
        "# Definir la tolerancia para detener la aproximación.\n",
        "tolerancia = 1e-6\n",
        "\n",
        "# Iterar hasta que la aproximación sea lo suficientemente cercana\n",
        "while abs(raiz_aproximada * raiz_aproximada - numero) > tolerancia: # Generación del ciclo while\n",
        "    raiz_aproximada = 0.5 * (raiz_aproximada + numero / raiz_aproximada) # Operación necesaria para calcular la raíz cuadrada de un número \"n\"\n",
        "\n",
        "# Imprimir el resultado\n",
        "print(f\"La raíz cuadrada de {numero} es aproximadamente {raiz_aproximada}\") # Impresión del resultado en consola\n"
      ],
      "metadata": {
        "id": "3BIFXwKfObJR",
        "outputId": "c63b646d-3303-4f55-cb83-12b47d17737a",
        "colab": {
          "base_uri": "https://localhost:8080/",
          "height": 227
        }
      },
      "execution_count": 30,
      "outputs": [
        {
          "name": "stdout",
          "output_type": "stream",
          "text": [
            "Ingresa un número: 7\n"
          ]
        },
        {
          "output_type": "error",
          "ename": "TypeError",
          "evalue": "ignored",
          "traceback": [
            "\u001b[0;31m---------------------------------------------------------------------------\u001b[0m",
            "\u001b[0;31mTypeError\u001b[0m                                 Traceback (most recent call last)",
            "\u001b[0;32m<ipython-input-30-9fc08f566502>\u001b[0m in \u001b[0;36m<cell line: 16>\u001b[0;34m()\u001b[0m\n\u001b[1;32m     14\u001b[0m \u001b[0;34m\u001b[0m\u001b[0m\n\u001b[1;32m     15\u001b[0m \u001b[0;31m# Imprimir el resultado\u001b[0m\u001b[0;34m\u001b[0m\u001b[0;34m\u001b[0m\u001b[0m\n\u001b[0;32m---> 16\u001b[0;31m \u001b[0mprint\u001b[0m\u001b[0;34m(\u001b[0m\u001b[0;34mf\"La raíz cuadrada de {numero} es aproximadamente {raiz_aproximada}\"\u001b[0m\u001b[0;34m)\u001b[0m \u001b[0;31m# Impresión del resultado en consola\u001b[0m\u001b[0;34m\u001b[0m\u001b[0;34m\u001b[0m\u001b[0m\n\u001b[0m",
            "\u001b[0;31mTypeError\u001b[0m: 'tuple' object is not callable"
          ]
        }
      ]
    },
    {
      "cell_type": "code",
      "source": [
        "# 26 / 08 / 2023\n",
        "# LLAM\n",
        "# Solicitar al usuario que ingrese un número\n",
        "numero = float(input(\"Ingresa un número: \"))\n",
        "\n",
        "# Establecer una suposición inicial para la raíz cuadrada\n",
        "raiz_aproximada = numero / 2  # Es posible elegir otra suposición inicial para el programa, si el usuario así lo desea\n",
        "\n",
        "# Definir la tolerancia para detener la aproximación.\n",
        "tolerancia = 1e-6\n",
        "\n",
        "# Iterar hasta que la aproximación sea lo suficientemente cercana\n",
        "while abs(raiz_aproximada * raiz_aproximada - numero) > tolerancia:\n",
        "    raiz_aproximada1 = 0.5 * (raiz_aproximada + numero / raiz_aproximada)\n",
        "\n",
        "# Imprimir el resultado\n",
        "print(f\"La raíz cuadrada de {numero} es aproximadamente {raiz_aproximada1}\")"
      ],
      "metadata": {
        "id": "9UwNZqUGKePc",
        "colab": {
          "base_uri": "https://localhost:8080/",
          "height": 262
        },
        "outputId": "6f7c3f0d-2c60-4344-a9df-b690a4666bd6"
      },
      "execution_count": 29,
      "outputs": [
        {
          "name": "stdout",
          "output_type": "stream",
          "text": [
            "Ingresa un número: 8\n"
          ]
        },
        {
          "output_type": "error",
          "ename": "KeyboardInterrupt",
          "evalue": "ignored",
          "traceback": [
            "\u001b[0;31m---------------------------------------------------------------------------\u001b[0m",
            "\u001b[0;31mKeyboardInterrupt\u001b[0m                         Traceback (most recent call last)",
            "\u001b[0;32m<ipython-input-29-8e4eedd84bc1>\u001b[0m in \u001b[0;36m<cell line: 13>\u001b[0;34m()\u001b[0m\n\u001b[1;32m     11\u001b[0m \u001b[0;34m\u001b[0m\u001b[0m\n\u001b[1;32m     12\u001b[0m \u001b[0;31m# Iterar hasta que la aproximación sea lo suficientemente cercana\u001b[0m\u001b[0;34m\u001b[0m\u001b[0;34m\u001b[0m\u001b[0m\n\u001b[0;32m---> 13\u001b[0;31m \u001b[0;32mwhile\u001b[0m \u001b[0mabs\u001b[0m\u001b[0;34m(\u001b[0m\u001b[0mraiz_aproximada\u001b[0m \u001b[0;34m*\u001b[0m \u001b[0mraiz_aproximada\u001b[0m \u001b[0;34m-\u001b[0m \u001b[0mnumero\u001b[0m\u001b[0;34m)\u001b[0m \u001b[0;34m>\u001b[0m \u001b[0mtolerancia\u001b[0m\u001b[0;34m:\u001b[0m\u001b[0;34m\u001b[0m\u001b[0;34m\u001b[0m\u001b[0m\n\u001b[0m\u001b[1;32m     14\u001b[0m     \u001b[0mraiz_aproximada1\u001b[0m \u001b[0;34m=\u001b[0m \u001b[0;36m0.5\u001b[0m \u001b[0;34m*\u001b[0m \u001b[0;34m(\u001b[0m\u001b[0mraiz_aproximada\u001b[0m \u001b[0;34m+\u001b[0m \u001b[0mnumero\u001b[0m \u001b[0;34m/\u001b[0m \u001b[0mraiz_aproximada\u001b[0m\u001b[0;34m)\u001b[0m\u001b[0;34m\u001b[0m\u001b[0;34m\u001b[0m\u001b[0m\n\u001b[1;32m     15\u001b[0m \u001b[0;34m\u001b[0m\u001b[0m\n",
            "\u001b[0;31mKeyboardInterrupt\u001b[0m: "
          ]
        }
      ]
    },
    {
      "cell_type": "code",
      "source": [
        "numero = float(input(\"Ingresa un número: \"))\n",
        "\n",
        "# Establecer una suposición inicial para la raíz cuadrada\n",
        "raiz_aproximada = numero / 2  # Es posible elegir otra suposición inicial para el programa, si el usuario así lo desea\n",
        "\n",
        "# Definir la tolerancia para detener la aproximación.\n",
        "tolerancia = 1e-6\n",
        "\n",
        "# Iterar hasta que la aproximación sea lo suficientemente cercana\n",
        "while abs(raiz_aproximada * raiz_aproximada - numero) > tolerancia:\n",
        "    raiz_aproximada = 0.5 * (raiz_aproximada + numero / raiz_aproximada)  # Corrección de indentación\n",
        "\n",
        "# Imprimir el resultado\n",
        "print(f\"La raíz cuadrada de {numero} es aproximadamente {raiz_aproximada}\")\n"
      ],
      "metadata": {
        "id": "HbDPDBUeMixT"
      },
      "execution_count": null,
      "outputs": []
    },
    {
      "cell_type": "code",
      "source": [
        "import math\n",
        "\n",
        "x= float(input(\"Ingresa un número positivo\"))\n",
        "assert x >= 0.0\n",
        "\n",
        "x = math.sqrt(x)\n",
        "print(x)"
      ],
      "metadata": {
        "colab": {
          "base_uri": "https://localhost:8080/"
        },
        "id": "NJdT9yerNEXz",
        "outputId": "6aa160d0-b805-4f4a-ae5a-4ef731ad0249"
      },
      "execution_count": null,
      "outputs": [
        {
          "output_type": "stream",
          "name": "stdout",
          "text": [
            "Ingresa un número positivo78\n",
            "8.831760866327848\n"
          ]
        }
      ]
    },
    {
      "cell_type": "code",
      "source": [
        "# Método de Newton-Raphson\n",
        "# Solicitar al usuario que ingrese un número\n",
        "numero = float(input(\"Ingresa un número: \"))\n",
        "\n",
        "# Aproximación inicial (puede ser cualquier número positivo)\n",
        "aproximacion = numero / 2\n",
        "\n",
        "# Precisión deseada para la aproximación\n",
        "precision = 0.0001\n",
        "\n",
        "# Iterar hasta que la diferencia entre la aproximación actual y la siguiente sea menor que la precisión\n",
        "while abs(aproximacion * aproximacion - numero) > precision:\n",
        "    aproximacion = 0.5 * (aproximacion + numero / aproximacion)\n",
        "\n",
        "# Imprimir el resultado\n",
        "print(f\"La raíz cuadrada de {numero} es aproximadamente {aproximacion}\")\n"
      ],
      "metadata": {
        "colab": {
          "base_uri": "https://localhost:8080/"
        },
        "id": "Z7GJNaI1NqtZ",
        "outputId": "f246868c-491a-4da7-bc43-1e08ac2adc39"
      },
      "execution_count": null,
      "outputs": [
        {
          "output_type": "stream",
          "name": "stdout",
          "text": [
            "Ingresa un número: 64\n",
            "La raíz cuadrada de 64.0 es aproximadamente 8.000001273385879\n"
          ]
        }
      ]
    },
    {
      "cell_type": "code",
      "source": [
        "import numpy as np\n",
        "def ecuNumpy(a,b,c):\n",
        "        soluciones=np.roots([a,b,c])\n",
        "        return soluciones"
      ],
      "metadata": {
        "id": "GGXDSl9H63Mi"
      },
      "execution_count": null,
      "outputs": []
    },
    {
      "cell_type": "code",
      "source": [
        "ecuNumpy(2,2,3)"
      ],
      "metadata": {
        "id": "2e5Yy7Tb69e1",
        "outputId": "f52029ea-3a4d-47bc-9afe-ed48f4c2b75c",
        "colab": {
          "base_uri": "https://localhost:8080/"
        }
      },
      "execution_count": null,
      "outputs": [
        {
          "output_type": "execute_result",
          "data": {
            "text/plain": [
              "array([-0.5+1.11803399j, -0.5-1.11803399j])"
            ]
          },
          "metadata": {},
          "execution_count": 4
        }
      ]
    },
    {
      "cell_type": "markdown",
      "source": [
        "# Programa 2: Ecuación de segundo grado"
      ],
      "metadata": {
        "id": "sE5gKwnZPHNJ"
      }
    },
    {
      "cell_type": "code",
      "source": [
        "# 2 Resolviendo una ecuación de segundo grado\n",
        "import math\n",
        "\n",
        "# Función para calcular las raíces de una ecuación cuadrática\n",
        "def calcular_raices(a, b, c):\n",
        "    discriminante = b**2 - 4*a*c\n",
        "\n",
        "    if discriminante > 0:\n",
        "        raiz1 = (-b + math.sqrt(discriminante)) / (2*a)\n",
        "        raiz2 = (-b - math.sqrt(discriminante)) / (2*a)\n",
        "        return raiz1, raiz2\n",
        "    elif discriminante == 0:\n",
        "        raiz_unica = -b / (2*a)\n",
        "        return raiz_unica\n",
        "    else:\n",
        "        # Raíces complejas\n",
        "        parte_real = -b / (2*a)\n",
        "        parte_imaginaria = math.sqrt(abs(discriminante)) / (2*a)\n",
        "        raiz1 = complex(parte_real, parte_imaginaria)\n",
        "        raiz2 = complex(parte_real, -parte_imaginaria)\n",
        "        return raiz1, raiz2\n",
        "\n",
        "# Función para resolver la ecuación de segundo grado\n",
        "def resolver_ecuacion(a, b, c):\n",
        "    raices = calcular_raices(a, b, c)\n",
        "    if isinstance(raices, tuple):\n",
        "        return f\"Las raíces de la ecuación son: x1 = {raices[0]}, x2 = {raices[1]}\"\n",
        "    else:\n",
        "        return f\"La única raíz de la ecuación es: x = {raices}\"\n",
        "\n",
        "# Coeficientes de la ecuación cuadrática (ax^2 + bx + c)\n",
        "a = float(input(\"Ingrese el coeficiente 'a': \"))\n",
        "b = float(input(\"Ingrese el coeficiente 'b': \"))\n",
        "c = float(input(\"Ingrese el coeficiente 'c': \"))\n",
        "\n",
        "resultado = resolver_ecuacion(a, b, c)\n",
        "print(resultado)\n"
      ],
      "metadata": {
        "id": "8uW_GMG3NERt"
      },
      "execution_count": null,
      "outputs": []
    },
    {
      "cell_type": "code",
      "source": [
        "# 2 Resolviendo una ecuación de segundo grado, sin usar el módulo math\n",
        "# Función para calcular las raíces de una ecuación cuadrática\n",
        "def calcular_raices(a, b, c):\n",
        "    discriminante = b**2 - 4*a*c\n",
        "\n",
        "    if discriminante > 0:\n",
        "        raiz1 = (-b + discriminante**0.5) / (2*a)\n",
        "        raiz2 = (-b - discriminante**0.5) / (2*a)\n",
        "        return raiz1, raiz2\n",
        "    elif discriminante == 0:\n",
        "        raiz_unica = -b / (2*a)\n",
        "        return raiz_unica\n",
        "    else:\n",
        "        # Raíces complejas\n",
        "        parte_real = -b / (2*a)\n",
        "        parte_imaginaria = (abs(discriminante)**0.5) / (2*a)\n",
        "        raiz1 = complex(parte_real, parte_imaginaria)\n",
        "        raiz2 = complex(parte_real, -parte_imaginaria)\n",
        "        return raiz1, raiz2\n",
        "\n",
        "# Función para resolver la ecuación de segundo grado\n",
        "def resolver_ecuacion(a, b, c):\n",
        "    raices = calcular_raices(a, b, c)\n",
        "    if isinstance(raices, tuple):\n",
        "        return f\"Las raíces de la ecuación son: x1 = {raices[0]}, x2 = {raices[1]}\"\n",
        "    else:\n",
        "        return f\"La única raíz de la ecuación es: x = {raices}\"\n",
        "\n",
        "# Coeficientes de la ecuación cuadrática (ax^2 + bx + c)\n",
        "a = float(input(\"Ingrese el coeficiente 'a': \"))\n",
        "b = float(input(\"Ingrese el coeficiente 'b': \"))\n",
        "c = float(input(\"Ingrese el coeficiente 'c': \"))\n",
        "\n",
        "resultado = resolver_ecuacion(a, b, c)\n",
        "print(resultado)\n"
      ],
      "metadata": {
        "id": "K-E0CZHzNEOe"
      },
      "execution_count": null,
      "outputs": []
    },
    {
      "cell_type": "markdown",
      "source": [
        "# Programa 3, Calculo del número pi"
      ],
      "metadata": {
        "id": "HbdcIDJDPNBU"
      }
    },
    {
      "cell_type": "code",
      "source": [
        "import random\n",
        "\n",
        "def calcular_pi(aproximaciones):\n",
        "    puntos_en_circulo = 0\n",
        "    total_puntos = 0\n",
        "\n",
        "    for _ in range(aproximaciones):\n",
        "        x = random.uniform(0, 1)\n",
        "        y = random.uniform(0, 1)\n",
        "        distancia = x**2 + y**2\n",
        "\n",
        "        if distancia <= 1:\n",
        "            puntos_en_circulo += 1\n",
        "\n",
        "        total_puntos += 1\n",
        "\n",
        "    pi_aproximado = 4 * (puntos_en_circulo / total_puntos)\n",
        "    return pi_aproximado\n",
        "\n",
        "# Cambia el valor de 'aproximaciones' para aumentar la precisión.\n",
        "aproximaciones = 1000000\n",
        "pi_estimado = calcular_pi(aproximaciones)\n",
        "\n",
        "print(f\"Valor estimado de pi con {aproximaciones} aproximaciones: {pi_estimado}\")\n"
      ],
      "metadata": {
        "colab": {
          "base_uri": "https://localhost:8080/"
        },
        "id": "Xc0PyAotNEM6",
        "outputId": "340bd424-e876-4d6f-e4fa-a1cb29062a65"
      },
      "execution_count": null,
      "outputs": [
        {
          "output_type": "stream",
          "name": "stdout",
          "text": [
            "Valor estimado de pi con 1000000 aproximaciones: 3.138988\n"
          ]
        }
      ]
    },
    {
      "cell_type": "code",
      "source": [
        "def calcular_pi_leibniz(n):\n",
        "    suma = 0\n",
        "    for i in range(n):\n",
        "        termino = (-1) ** i / (2 * i + 1)\n",
        "        suma += termino\n",
        "    pi_aproximado = 4 * suma\n",
        "    return pi_aproximado\n",
        "\n",
        "# Cambia el valor de 'n' para aumentar la precisión.\n",
        "n = 1000000000\n",
        "pi_estimado = calcular_pi_leibniz(n)\n",
        "\n",
        "print(f\"Valor estimado de pi con {n} términos de la serie de Leibniz: {pi_estimado}\")\n"
      ],
      "metadata": {
        "colab": {
          "base_uri": "https://localhost:8080/"
        },
        "id": "NFab6tn1P3HL",
        "outputId": "0197e303-39d9-4c22-e086-53d9666b9527"
      },
      "execution_count": null,
      "outputs": [
        {
          "output_type": "stream",
          "name": "stdout",
          "text": [
            "Valor estimado de pi con 1000000000 términos de la serie de Leibniz: 3.1415926525880504\n"
          ]
        }
      ]
    },
    {
      "cell_type": "markdown",
      "source": [
        "# Programa 4, Calculando el Factorial de un número"
      ],
      "metadata": {
        "id": "7a2zyAw-P43V"
      }
    },
    {
      "cell_type": "code",
      "source": [
        "import math\n",
        "\n",
        "def calcular_factorial_con_math(numero):\n",
        "    if numero < 0:\n",
        "        return \"El factorial no está definido para números negativos\"\n",
        "    elif numero == 0:\n",
        "        return 1\n",
        "    else:\n",
        "        return math.factorial(numero)\n",
        "\n",
        "numero = int(input(\"Ingresa un número para calcular su factorial: \"))\n",
        "resultado = calcular_factorial_con_math(numero)\n",
        "print(f\"El factorial de {numero} es {resultado}\")\n"
      ],
      "metadata": {
        "colab": {
          "base_uri": "https://localhost:8080/"
        },
        "id": "BeawVeAvQW6e",
        "outputId": "39056fe6-e84a-4013-fc12-e85f48188b4a"
      },
      "execution_count": null,
      "outputs": [
        {
          "output_type": "stream",
          "name": "stdout",
          "text": [
            "Ingresa un número para calcular su factorial: 4\n",
            "El factorial de 4 es 24\n"
          ]
        }
      ]
    },
    {
      "cell_type": "code",
      "source": [
        "def calcular_factorial_sin_math(numero):\n",
        "    if numero < 0:\n",
        "        return \"El factorial no está definido para números negativos\"\n",
        "    elif numero == 0:\n",
        "        return 1\n",
        "    else:\n",
        "        factorial = 1\n",
        "        for i in range(1, numero + 1):\n",
        "            factorial *= i\n",
        "        return factorial\n",
        "\n",
        "numero = int(input(\"Ingresa un número para calcular su factorial: \"))\n",
        "resultado = calcular_factorial_sin_math(numero)\n",
        "print(f\"El factorial de {numero} es {resultado}\")\n"
      ],
      "metadata": {
        "colab": {
          "base_uri": "https://localhost:8080/"
        },
        "id": "wjtrZkfnQW4f",
        "outputId": "f5986992-48ca-4bc3-e141-7e644598f770"
      },
      "execution_count": null,
      "outputs": [
        {
          "output_type": "stream",
          "name": "stdout",
          "text": [
            "Ingresa un número para calcular su factorial: 4\n",
            "El factorial de 4 es 24\n"
          ]
        }
      ]
    },
    {
      "cell_type": "markdown",
      "source": [
        "Programa 5  contar las veces que se repite un número dentro de una lista de números enteros"
      ],
      "metadata": {
        "id": "qc3oM8OtQdtO"
      }
    },
    {
      "cell_type": "code",
      "source": [
        "def contar_repeticiones(lista, numero):\n",
        "    contador = 0\n",
        "    for elemento in lista:\n",
        "        if elemento == numero:\n",
        "            contador += 1\n",
        "    return contador\n",
        "\n",
        "# Ejemplo de uso:\n",
        "lista_numeros = [1, 2, 3, 4, 2, 5, 2, 6, 2, 7,2,2,22,2]\n",
        "numero_buscar = 1\n",
        "\n",
        "\n",
        "repeticiones = contar_repeticiones(lista_numeros, numero_buscar)\n",
        "\n",
        "print(f\"El número {numero_buscar} se repite {repeticiones} veces en la lista.\")\n"
      ],
      "metadata": {
        "colab": {
          "base_uri": "https://localhost:8080/"
        },
        "id": "PMHTQbJgQW1j",
        "outputId": "f1badfb6-f2c7-4f2f-d388-797b13f75fbb"
      },
      "execution_count": null,
      "outputs": [
        {
          "output_type": "stream",
          "name": "stdout",
          "text": [
            "El número 1 se repite 1 veces en la lista.\n"
          ]
        }
      ]
    },
    {
      "cell_type": "markdown",
      "source": [
        "# Programa 6, Programa que muestra 2 números grandes consecutivos de una lista  "
      ],
      "metadata": {
        "id": "wf7PMoDuQ-bj"
      }
    },
    {
      "cell_type": "code",
      "source": [
        "def encontrar_numeros_consecutivos(lista, umbral):\n",
        "    numeros_consecutivos = []\n",
        "\n",
        "    for i in range(len(lista) - 1):\n",
        "        if lista[i] > umbral and lista[i + 1] > umbral:\n",
        "            numeros_consecutivos.append((lista[i], lista[i + 1]))\n",
        "\n",
        "    return numeros_consecutivos\n",
        "\n",
        "# Ejemplo de uso\n",
        "lista_de_numeros = [10, 15, 20, 25, 5, 30, 40, 67,63, 67, 90,90,91,91,100 ]\n",
        "umbral = 90\n",
        "\n",
        "numeros_consecutivos = encontrar_numeros_consecutivos(lista_de_numeros, umbral)\n",
        "\n",
        "if numeros_consecutivos:\n",
        "    for num1, num2 in numeros_consecutivos:\n",
        "        #print(f\"Los números consecutivos grandes son: {num1} y {num2}\")\n",
        "        print(numeros_consecutivos)\n",
        "else:\n",
        "    print(\"No se encontraron números consecutivos grandes en la lista.\")\n"
      ],
      "metadata": {
        "colab": {
          "base_uri": "https://localhost:8080/"
        },
        "id": "tqZ2828FQ-IE",
        "outputId": "d1ea0207-5b7f-4978-cff2-db2a155924b1"
      },
      "execution_count": null,
      "outputs": [
        {
          "output_type": "stream",
          "name": "stdout",
          "text": [
            "[(91, 91), (91, 100)]\n",
            "[(91, 91), (91, 100)]\n"
          ]
        }
      ]
    },
    {
      "cell_type": "code",
      "source": [
        "def encontrar_numeros_consecutivos(lista, umbral):\n",
        "    numeros_consecutivos = []\n",
        "\n",
        "    for i in range(len(lista) - 1):\n",
        "        if lista[i] > umbral and lista[i + 1] > umbral:\n",
        "            numeros_consecutivos.append((lista[i], lista[i + 1]))\n",
        "\n",
        "    return numeros_consecutivos\n",
        "\n",
        "# Ejemplo de uso\n",
        "lista_de_numeros = [10, 15, 20, 25, 5, 30, 40, 67,63, 67, 90,90,91,91,100,100 ]\n",
        "umbral = 99\n",
        "\n",
        "numeros_consecutivos = encontrar_numeros_consecutivos(lista_de_numeros, umbral)\n",
        "\n",
        "if numeros_consecutivos:\n",
        "    for num1, num2 in numeros_consecutivos:\n",
        "        print(f\"Los números consecutivos grandes son: {num1} y {num2}\")\n",
        "        #print(numeros_consecutivos)\n",
        "else:\n",
        "    print(\"No se encontraron números consecutivos grandes en la lista.\")\n"
      ],
      "metadata": {
        "id": "h8770lBi_GB2",
        "outputId": "c845f40b-0d24-4368-91cf-ae945934d6bf",
        "colab": {
          "base_uri": "https://localhost:8080/"
        }
      },
      "execution_count": null,
      "outputs": [
        {
          "output_type": "stream",
          "name": "stdout",
          "text": [
            "Los números consecutivos grandes son: 100 y 100\n"
          ]
        }
      ]
    },
    {
      "cell_type": "code",
      "source": [
        "def encontrar_consecutivos(lista):\n",
        "    if len(lista) < 2:\n",
        "        return \"La lista debe tener al menos dos elementos\"\n",
        "\n",
        "    max1 = max(lista[0], lista[1])\n",
        "    max2 = min(lista[0], lista[1])\n",
        "\n",
        "    for i in range(2, len(lista)):\n",
        "        if lista[i] > max1:\n",
        "            max2 = max1\n",
        "            max1 = lista[i]\n",
        "        elif lista[i] > max2 and lista[i] != max1:\n",
        "            max2 = lista[i]\n",
        "\n",
        "    return (max1, max2)\n",
        "\n",
        "# Ejemplo de uso:\n",
        "mi_lista = [3, 6, 8, 2, 10, 15, 9,100,200,201,201,201,203,203,158,15,16]\n",
        "resultado = encontrar_consecutivos(mi_lista)\n",
        "print(\"Los dos números consecutivos más grandes son:\", resultado)\n"
      ],
      "metadata": {
        "id": "3gV3ATFJA5sI",
        "outputId": "075df610-7d80-4f19-f72c-0c3765f072eb",
        "colab": {
          "base_uri": "https://localhost:8080/"
        }
      },
      "execution_count": null,
      "outputs": [
        {
          "output_type": "stream",
          "name": "stdout",
          "text": [
            "Los dos números consecutivos más grandes son: (203, 201)\n"
          ]
        }
      ]
    },
    {
      "cell_type": "markdown",
      "source": [
        "# Programa 7, Devolver el indice del procesador menor de una lista de cadenas\n"
      ],
      "metadata": {
        "id": "YsAazmW5UYR6"
      }
    },
    {
      "cell_type": "code",
      "source": [
        "def indice_procesador_menor(lista_procesadores):\n",
        "    if not lista_procesadores:\n",
        "        return None  # Manejamos el caso de una lista vacía\n",
        "\n",
        "    menor_longitud = len(lista_procesadores[0])\n",
        "    indice_menor = 0\n",
        "\n",
        "    for i in range(1, len(lista_procesadores)):\n",
        "        longitud_actual = len(lista_procesadores[i])\n",
        "        if longitud_actual < menor_longitud:\n",
        "            menor_longitud = longitud_actual\n",
        "            indice_menor = i\n",
        "\n",
        "    return indice_menor\n",
        "\n",
        "# Ejemplo de uso:\n",
        "procesadores = [\"Intel Core i7\", \"AMD Ryzen 5\", \"Intel Core i5\", \"AMD Ryzen 3\", \"Intel Core i9\"]\n",
        "indice_menor = indice_procesador_menor(procesadores)\n",
        "\n",
        "if indice_menor is not None:\n",
        "    print(f\"El procesador más corto se encuentra en el índice {indice_menor}: {procesadores[indice_menor]}\")\n",
        "else:\n",
        "    print(\"La lista de procesadores está vacía.\")\n"
      ],
      "metadata": {
        "colab": {
          "base_uri": "https://localhost:8080/"
        },
        "id": "Vl1gl_kgQ-FI",
        "outputId": "d7b3fa14-4fcc-4f21-9be2-dff7254d6a25"
      },
      "execution_count": null,
      "outputs": [
        {
          "output_type": "stream",
          "name": "stdout",
          "text": [
            "El procesador más corto se encuentra en el índice 1: AMD Ryzen 5\n"
          ]
        }
      ]
    },
    {
      "cell_type": "code",
      "source": [
        "\"\"\"# Clase del dia 25 de a gosto de dlde 20223\n",
        "\n",
        "tupla0 = (34,3, 56)\n",
        "tuple = (56,45,\"Mexico\")\n",
        "\n",
        "# print(tupla[0])\n",
        "print(tupla0 [2])\n",
        "print(tuple [:3]) #  se imprime ( n-1  )\n",
        "print(max[0])\n",
        "\"\"\""
      ],
      "metadata": {
        "id": "NNRMazn1QW0I",
        "outputId": "719651fd-f25a-4a91-e3a3-0e905fad59a9",
        "colab": {
          "base_uri": "https://localhost:8080/",
          "height": 53
        }
      },
      "execution_count": null,
      "outputs": [
        {
          "output_type": "execute_result",
          "data": {
            "text/plain": [
              "'# Clase del dia 25 de a gosto de dlde 20223\\n\\ntupla0 = (34,3, 56)\\ntuple = (56,45,\"Mexico\")\\n\\n# print(tupla[0])\\nprint(tupla0 [2])\\nprint(tuple [:3]) #  se imprime ( n-1  )\\nprint(max[0])\\n'"
            ],
            "application/vnd.google.colaboratory.intrinsic+json": {
              "type": "string"
            }
          },
          "metadata": {},
          "execution_count": 21
        }
      ]
    },
    {
      "cell_type": "code",
      "source": [
        "#Convertir tuplas a listas\n",
        "\n",
        "\n",
        "# Calse del dia 25 de a gosto de dlde 20223\n",
        "\n",
        "\n",
        "\n",
        "#tupla0 = (34,3, 56)\n",
        "tupla = (56,45,\"Mexico\")\n",
        "\n",
        "#print(tupla0[0])\n",
        "#print=(tupla [2])\n",
        "#print=(tupla [:3]) #  se imprime ( n-1  )\n",
        "#print(max[0])\n",
        "\n",
        "\n",
        "lista = list(tupla)\n",
        "print(lista)\n",
        "\n",
        "\n",
        "tupla1 = tuple(lista)\n",
        "print(lista )\n",
        "\n",
        "print(45 in tupla)\n",
        "print(tupla.count(45))\n",
        "\n",
        "\n"
      ],
      "metadata": {
        "id": "TrqvENx4QWSc",
        "outputId": "2ea40720-028e-4b0c-9992-f2686c1ef99c",
        "colab": {
          "base_uri": "https://localhost:8080/",
          "height": 245
        }
      },
      "execution_count": null,
      "outputs": [
        {
          "output_type": "error",
          "ename": "TypeError",
          "evalue": "ignored",
          "traceback": [
            "\u001b[0;31m---------------------------------------------------------------------------\u001b[0m",
            "\u001b[0;31mTypeError\u001b[0m                                 Traceback (most recent call last)",
            "\u001b[0;32m<ipython-input-15-158a36c6d3fb>\u001b[0m in \u001b[0;36m<cell line: 18>\u001b[0;34m()\u001b[0m\n\u001b[1;32m     16\u001b[0m \u001b[0;34m\u001b[0m\u001b[0m\n\u001b[1;32m     17\u001b[0m \u001b[0mlista\u001b[0m \u001b[0;34m=\u001b[0m \u001b[0mlist\u001b[0m\u001b[0;34m(\u001b[0m\u001b[0mtupla\u001b[0m\u001b[0;34m)\u001b[0m\u001b[0;34m\u001b[0m\u001b[0;34m\u001b[0m\u001b[0m\n\u001b[0;32m---> 18\u001b[0;31m \u001b[0mprint\u001b[0m\u001b[0;34m(\u001b[0m\u001b[0mlista\u001b[0m\u001b[0;34m)\u001b[0m\u001b[0;34m\u001b[0m\u001b[0;34m\u001b[0m\u001b[0m\n\u001b[0m\u001b[1;32m     19\u001b[0m \u001b[0;34m\u001b[0m\u001b[0m\n\u001b[1;32m     20\u001b[0m \u001b[0;34m\u001b[0m\u001b[0m\n",
            "\u001b[0;31mTypeError\u001b[0m: 'tuple' object is not callable"
          ]
        }
      ]
    },
    {
      "cell_type": "code",
      "source": [
        "print (45 in tupla)\n",
        "\n",
        "\n",
        "print(tupla.coun(45))\n",
        "\n",
        "# Aignar valores de la tupla a varios daos\n",
        "\n",
        "datos(\"pedro\", 4, 10 , º978)\n",
        "nombre, dia , mes and = datos\n",
        "\n",
        "print(str(nombre)+ ' '+  str(datos[0]), )"
      ],
      "metadata": {
        "id": "atnLnuB000D1"
      },
      "execution_count": null,
      "outputs": []
    },
    {
      "cell_type": "code",
      "source": [],
      "metadata": {
        "id": "Sa7dbv2K00Az"
      },
      "execution_count": null,
      "outputs": []
    },
    {
      "cell_type": "code",
      "source": [
        "diccionario = {[ 'a0': 23, 0 a1: '89,'. 'a3: 90 ']}\n",
        "\n",
        "# Por lo tanto los diccionarios son dinamicos puesto que pueden camibar los valores d mientrara s se estan ejecutando en el programa\n",
        "\n",
        "\n",
        "\n",
        "\n",
        "# ES una ley entre elneguajes de programa cion el hech des  saber como leer una lista, diccionario oo tupla\n",
        "\n",
        "\n",
        "print( ['A2'])\n"
      ],
      "metadata": {
        "id": "-IG6Q-7g0z9w"
      },
      "execution_count": null,
      "outputs": []
    },
    {
      "cell_type": "markdown",
      "source": [
        "# PAra revisar documentacion de python o de cuaquier lenguaje es necsario de metrp de w3 schools.org buscar e"
      ],
      "metadata": {
        "id": "zpK7cBY85O1P"
      }
    },
    {
      "cell_type": "code",
      "source": [
        "# Todo a quelo ue necesistes e lo puese busacar dentro de la web"
      ],
      "metadata": {
        "id": "hZu3AF2f0z6Q"
      },
      "execution_count": null,
      "outputs": []
    },
    {
      "cell_type": "code",
      "source": [
        "# Antes d ealgun timepo java podia quedarse c con nuestro codigos dejajv, en realidad cualquiera  ue quiera puede quedarse con nuestro codigo\n",
        "\n",
        "\n",
        " en minneria de datos pu  a gente puece quedarse co mo nuestro excel puede trabarse con python, python ahora sera mentr de excel dentro de algun tiempo pero micrsosft querra aapoderarse del lenguaje\n",
        "\n",
        "\n",
        " w3 da r un nivel avanzeado aunque no uintermetdio\n",
        " # el profesor da  un niea vanzado intermedio\n",
        "\n",
        "\n",
        " # w3schooll\n",
        "s\n",
        "\n",
        "#\n",
        " codigo\n",
        "\n",
        " #"
      ],
      "metadata": {
        "id": "XmgcwWCA0z0O"
      },
      "execution_count": null,
      "outputs": []
    },
    {
      "cell_type": "code",
      "source": [
        ", existe dentro del pirmer parcial , la menra de poder resolver y elegig rcual es lmayor y acual es mayor,  elegirremos la funcion de compeejiddada para ere sver e porbe a\n",
        "\n",
        "\n",
        ".3 dersarrollar un algritmo que regreese la sma maxismo de valores consecutivosl enuna sucesion numeric ax1 , c1  x,2 x3\n",
        "\n",
        "\n",
        "ejemplo 27, 6 .6 4o , 1 , -2  15 , 28 , 9 , 24 , 4 .31 .00 el sresoiltdo seria una de las isguente forma 21, 3 ,3 13 , 15 ..5 . 23 .33 se manea una lista que seran vetres\n",
        "\n",
        "\n",
        " --\n",
        "\n",
        "\n",
        "\n",
        " eñ ,a gramde de tpdpsp ñps mi,per # ro,era `prìes es ecptmrar tpdapp s ñps vañpres de ñas si,as cmsecitovas u escpger ña # Prbelma"
      ],
      "metadata": {
        "id": "5xcuyT3Y6MLd"
      },
      "execution_count": null,
      "outputs": []
    },
    {
      "cell_type": "code",
      "source": [
        ".\n",
        "\n",
        "¿ç como devolver la suma maimo de un grupo devaore, cas o de sumar determinados numeros o , por que una suma no puede o noser mansg grande...\n",
        "\n",
        "4como sumar y encontar la suma macimo entre dos numro sucesivos, de que manera logragoo\n",
        "\n",
        "\n",
        "\n",
        "ademas de lograrglo el ealgoritmo dever se refeciente, lagunos son efeicentes,ptros solamente consumen mucha memoria\n",
        "\n",
        "\n",
        "\n",
        "\n",
        "#\n",
        "\n",
        " # primer forma de solucion , colocar dentro  de una matriz sobre la diagromnal todos lo numeros que se uestran dentro den  l a slista\n",
        "  . de dode sale el numero colocando lo snumeros de forma escalonarda\n",
        " uma 4s"
      ],
      "metadata": {
        "id": "x3tMJFSZ6z2L"
      },
      "execution_count": null,
      "outputs": []
    },
    {
      "cell_type": "code",
      "source": [
        "3 revisar los datos, como transformas rlosdatos,, la matrisz es de dce por doce\n",
        "3 Como hacer qu una list  guarde parte de la diafomnal y la  guarde en la diagona pirncicpla, denro de un arreglo de una matriz\n",
        "\n",
        "\n"
      ],
      "metadata": {
        "id": "wEIdknQp6zyu"
      },
      "execution_count": null,
      "outputs": []
    },
    {
      "cell_type": "code",
      "source": [
        "# matriz [][] = {{1,2},{3,4}}\n",
        "# print # ESta sintaxis set esta mala l parecer\n",
        "\n",
        "# Este codigo no funciona\n",
        "\n",
        "# De que manera puede excel puede ayudarme a compilar el cdigo que no funciona a en python ?\n",
        "\n",
        "# en todo cao brir exel y qtratar de probar algans funciones  de enetro de la funcion de exacel  debido a auna errror de sintaxis entre corchetes ey llaves\n",
        "\n",
        "\n",
        "#"
      ],
      "metadata": {
        "id": "ot7H0RVF6zw4"
      },
      "execution_count": null,
      "outputs": []
    },
    {
      "cell_type": "code",
      "source": [
        ". 2lista = [27,6,-5021.-2 ,14 l-16-67 .212 . 22 -21,\n",
        "\n",
        "              3Iterar una lista de 12 numeros, ]\n",
        "\n",
        "\n",
        "# recorrer la matriz\n",
        "\n",
        "\n",
        "print  (\" A =\", A)\n",
        "print(\" A[]\")\n",
        "\n",
        "column = [];\n",
        "    for row in A:\n",
        "        column\n",
        "\n",
        "\n"
      ],
      "metadata": {
        "id": "2imEVheP63Iz"
      },
      "execution_count": null,
      "outputs": []
    },
    {
      "cell_type": "code",
      "source": [
        " 3 sumas consecutivas\n",
        "\n",
        "\n",
        " lista = [27,6,-50,21,-3.14.16 ] #  agregar lso nuersos de l digaonla  dentro de al irmera tupla, para poder logar el pimer a arregloa cosniderarr\n",
        "\n",
        "\n",
        " # en python no existen arreglos, pero exitesn listas ,, ohhhhh\n",
        "\n",
        "\n",
        "\n",
        "   #.3 emtre las dos primeras listas\n",
        "\n"
      ],
      "metadata": {
        "id": "zMMBU7uT63GN"
      },
      "execution_count": null,
      "outputs": []
    },
    {
      "cell_type": "code",
      "source": [
        "\n",
        "\n",
        "\n",
        "# Aaban de  aramr una matriz de aguan sarrglos en 2 o en 3 de\n",
        "\n",
        "# es una lista con l istas, o c cap,,\n",
        "\n",
        "ne\n",
        "\n",
        "\n",
        "print[matriz[1][\n",
        "\n",
        "                3 una matriz mutada es una lista que tine lstas\n",
        "\n",
        "\n",
        "                3 àra poderobetener unba lista de una  fillase necesia nnn a a una\n",
        "\n",
        "                 +\n",
        "\n",
        "                3 mecesitamos obeenter el nmero treinta,  tres dentr de nuestra piimeralista\n",
        "\n",
        "\n",
        "\n",
        "\n",
        "\n",
        "\n",
        "                # EStp fiu todo una sucesion de pensamiento para poder llegar ala solucion ¡, undesasrrooolador de sotwares, elos\n",
        "\n",
        "\n",
        "                # quilo desarrolladores de d¡fotaware quieren una perosna que sepan como resoler un problema de una forma en la cual nadie mas pe\n",
        "\n",
        "                3 tarea, asa el algorimo a al soicin que rems dea cuerdo a nuestro progmaa\n",
        "\n",
        "]]"
      ],
      "metadata": {
        "id": "3pxPyor063EV"
      },
      "execution_count": null,
      "outputs": []
    },
    {
      "cell_type": "markdown",
      "source": [
        "# Programas proporcionados por mike\n",
        "# 25 / 08 / 2023"
      ],
      "metadata": {
        "id": "tOZLlsmxooAm"
      }
    },
    {
      "cell_type": "code",
      "source": [
        "# Algoritmo proporcionado por mike\n",
        "# DICCIONARIO\n",
        "# -*- coding: utf-8 -*-\n",
        "\"\"\"\n",
        "Created on Mon Sep 28 12:35:51 2020\n",
        "\n",
        "@author: mash\n",
        "\"\"\"\n",
        "diccionario={'A0':23,'A1':89,'A2':90}\n",
        "diccionario['A3']=100\n",
        "print(diccionario)\n",
        "print(diccionario['A2'])\n",
        "\n",
        "\n",
        "diccionario['A0']=100\n",
        "print(diccionario)\n",
        "\n",
        "#convertir diccionario a una cadena\n",
        "cadena=str(diccionario)\n",
        "print(cadena)\n",
        "print(type(cadena))\n",
        "\n",
        "#copiar dicccionario en otra variable\n",
        "dic_2=diccionario.copy()\n",
        "print(dic_2)\n",
        "dic_2['A2']=345\n",
        "print(dic_2)\n",
        "print(diccionario)\n",
        "\n",
        "#diccionario a partir de una lista\n",
        "lista=[1,2,3,4]\n",
        "datos=[\"Uno\",\"Dos\",\"Tres\",\"Cuatro\"]\n",
        "dic_3=diccionario.fromkeys(lista,datos)\n",
        "print(dic_3[2])\n",
        "\n",
        "dic_4={}\n",
        "dic_4[lista[0]]=datos[0]\n",
        "dic_4[lista[1]]=datos[1]\n",
        "print(dic_4)"
      ],
      "metadata": {
        "id": "kWzz9K4A63CJ",
        "colab": {
          "base_uri": "https://localhost:8080/"
        },
        "outputId": "1ade2eaf-15f6-40cb-ffd7-5c3ec0d9769a"
      },
      "execution_count": null,
      "outputs": [
        {
          "output_type": "stream",
          "name": "stdout",
          "text": [
            "{'A0': 23, 'A1': 89, 'A2': 90, 'A3': 100}\n",
            "90\n",
            "{'A0': 100, 'A1': 89, 'A2': 90, 'A3': 100}\n",
            "{'A0': 100, 'A1': 89, 'A2': 90, 'A3': 100}\n",
            "<class 'str'>\n",
            "{'A0': 100, 'A1': 89, 'A2': 90, 'A3': 100}\n",
            "{'A0': 100, 'A1': 89, 'A2': 345, 'A3': 100}\n",
            "{'A0': 100, 'A1': 89, 'A2': 90, 'A3': 100}\n",
            "['Uno', 'Dos', 'Tres', 'Cuatro']\n",
            "{1: 'Uno', 2: 'Dos'}\n"
          ]
        }
      ]
    },
    {
      "cell_type": "code",
      "source": [
        "# TUPLA\n",
        "#!/usr/bin/env python3\n",
        "# -*- coding: utf-8 -*-\n",
        "\"\"\"\n",
        "Created on Fri Aug 25 11:46:13 2023\n",
        "\n",
        "@author: mash\n",
        "\"\"\"\n",
        "tupla0=(34,3,56)\n",
        "tupla=(56,45,\"Mexico\",45)\n",
        "print(tupla0)\n",
        "print(tupla[2])\n",
        "print(tupla[:3])\n",
        "\n",
        "print(max(tupla0))\n",
        "\n",
        "#convertir tupla a lista\n",
        "lista=list(tupla)\n",
        "print(lista)\n",
        "\n",
        "#convertir lista a tupla\n",
        "tupla1=tuple(lista)\n",
        "print(tupla1)\n",
        "\n",
        "print(45 in tupla)\n",
        "\n",
        "print(tupla.count(45))\n",
        "\n",
        "#asignar valores de la tupla a variables\n",
        "datos=(\"Pedro\",4,10,1978)\n",
        "nombre,dia,mes,an=datos\n",
        "print(str(nombre)+ \" \"+ str(dia)+ \" \"+ str(mes)+\" \"+str(an))\n",
        "\n",
        "print(str(datos[0])+ \" \"+ str(datos[1])+ \" \"+ str(datos[2])+\" \"+str(datos[3]))"
      ],
      "metadata": {
        "id": "brWLc0EI62_z",
        "colab": {
          "base_uri": "https://localhost:8080/"
        },
        "outputId": "785b1f17-fc27-49bb-b72d-15554d20eafa"
      },
      "execution_count": null,
      "outputs": [
        {
          "output_type": "stream",
          "name": "stdout",
          "text": [
            "(34, 3, 56)\n",
            "Mexico\n",
            "(56, 45, 'Mexico')\n",
            "56\n",
            "[56, 45, 'Mexico', 45]\n",
            "(56, 45, 'Mexico', 45)\n",
            "True\n",
            "2\n",
            "Pedro 4 10 1978\n",
            "Pedro 4 10 1978\n"
          ]
        }
      ]
    },
    {
      "cell_type": "code",
      "source": [
        "# GRANDE\n",
        "\n",
        "#!/usr/bin/env python3\n",
        "# -*- coding: utf-8 -*-\n",
        "\"\"\"\n",
        "Created on Fri Aug 18 12:07:57 2023\n",
        "\n",
        "@author: mash\n",
        "\"\"\"\n",
        "\n",
        "def max(a,b,c):\n",
        "    grande=a\n",
        "    if(b>grande):\n",
        "        grande=b\n",
        "    if(c>grande):\n",
        "        grande=c\n",
        "    return grande\n",
        "\n",
        "def maxSerie(s):\n",
        "    grande=s[0]\n",
        "    for i in range(1,len(s)):\n",
        "        if(s[i]>grande):\n",
        "            grande=s[i]\n",
        "    return grande\n",
        "\n",
        "def maxSerie2(s):\n",
        "    it=iter(s)\n",
        "    grande=next(it)\n",
        "    for i in range(1,len(s)):\n",
        "        v=next(it)\n",
        "        if(v>grande):\n",
        "            grande=v\n",
        "    return grande\n",
        "if __name__==\"__main__\":\n",
        "    print(max(14,33,8))\n",
        "    datos=[11114,33,101,888]\n",
        "    print(maxSerie2(datos))"
      ],
      "metadata": {
        "id": "bYc5EkJD628S",
        "colab": {
          "base_uri": "https://localhost:8080/"
        },
        "outputId": "06c85517-48bf-4817-e9b5-6f020b3d0879"
      },
      "execution_count": null,
      "outputs": [
        {
          "output_type": "stream",
          "name": "stdout",
          "text": [
            "33\n",
            "11114\n"
          ]
        }
      ]
    },
    {
      "cell_type": "code",
      "source": [
        "# TUPLAS\n",
        "#  -*- coding: utf-8 -*-\n",
        "\"\"\"\n",
        "Created on Mon Sep 28 12:15:31 2020\n",
        "\n",
        "@author: mash\n",
        "\"\"\"\n",
        "\n",
        "tupla0=(34,3,56)\n",
        "tupla=(56,45,\"Mexico\")\n",
        "print(tupla0)\n",
        "print(tupla[2])\n",
        "print(tupla[:2])\n",
        "\n",
        "#print(max(tupla0))   # SI ESTÁ LÍNEA SE DESMARCA, ENTONCES EL PROGRAMA MUESTRA UN ERROR\n",
        "\n",
        "#convertir tupla a lista\n",
        "lista=list(tupla)\n",
        "print(lista)\n",
        "\n",
        "#convertir lista a tupla\n",
        "tupla1=tuple(lista)\n",
        "print(tupla1)\n",
        "\n",
        "print(45 in tupla)\n",
        "\n",
        "print(tupla.count(45))\n",
        "\n",
        "#asignar valores de la tupla a variables\n",
        "datos=(\"Pedro\",4,10,1978)\n",
        "nombre,dia,mes,an=datos\n",
        "print(str(nombre)+ \" \"+ str(dia)+ \" \"+ str(mes)+\" \"+str(an))\n",
        "\n",
        "print(str(datos[0])+ \" \"+ str(datos[1])+ \" \"+ str(datos[2])+\" \"+str(datos[3]))"
      ],
      "metadata": {
        "id": "CIdU0gdH626L",
        "colab": {
          "base_uri": "https://localhost:8080/"
        },
        "outputId": "6eb94043-f3bb-4e5e-9610-4aa674a120ba"
      },
      "execution_count": null,
      "outputs": [
        {
          "output_type": "stream",
          "name": "stdout",
          "text": [
            "(34, 3, 56)\n",
            "Mexico\n",
            "(56, 45)\n",
            "[56, 45, 'Mexico']\n",
            "(56, 45, 'Mexico')\n",
            "True\n",
            "1\n",
            "Pedro 4 10 1978\n",
            "Pedro 4 10 1978\n"
          ]
        }
      ]
    },
    {
      "cell_type": "code",
      "source": [
        "# LISTAS\n",
        "\n",
        "# -*- coding: utf-8 -*-\n",
        "\"\"\"\n",
        "Created on Wed Sep 23 12:01:55 2020\n",
        "\n",
        "@author: mash\n",
        "\"\"\"\n",
        "import copy\n",
        "\n",
        "def longitud(dato):\n",
        "    return len(dato)\n",
        "\n",
        "if __name__==\"__main__\":\n",
        "    nombres=[\"Juan\",\"Rosa\",\"Rebeca\"]\n",
        "    edad=[34,19,23]\n",
        "\n",
        "    print(nombres)\n",
        "    print(edad)\n",
        "\n",
        "    #concatenación\n",
        "    suma=nombres+edad\n",
        "    print(suma)\n",
        "\n",
        "    #multiplicación\n",
        "    mult=nombres*3\n",
        "    print(mult)\n",
        "\n",
        "    #longitud de lista\n",
        "    print(len(mult))\n",
        "\n",
        "    #porciones en una lisya, :n llega n-1\n",
        "    print(nombres[:2])\n",
        "    print(nombres[1:])\n",
        "    print(nombres[:-2])\n",
        "\n",
        "    #convertir una lista a cadena\n",
        "    cadena=\";\"\n",
        "    salida=cadena.join(nombres)\n",
        "    print(salida)\n",
        "\n",
        "    print(\"Rebeca\" in nombres)\n",
        "\n",
        "    for i in nombres:\n",
        "        print(i,end=\" \")\n",
        "    print()\n",
        "   # print(max(nombres)) # CUANDO EL PROGRAMA SE EJECUTA CON ESTÁ LÍNEA DESMARCADA, SE PRODUCE UN ERROR EN LA EJECUCIÓN, LA CUAL ÍNDICA QUE FALTA EL ÍNDICE C Y D, O ALGO ASÍ\n",
        "\n",
        "    nombres.append(\"Flores\")\n",
        "    print(nombres)\n",
        "\n",
        "    temp=nombres[0]\n",
        "    nombres[0]=nombres[3]\n",
        "    nombres[3]=temp\n",
        "    print(nombres)\n",
        "\n",
        "    nombres.insert(2, \"Maria\")\n",
        "    print(nombres)\n",
        "\n",
        "\n",
        "    copia=copy.deepcopy(nombres)\n",
        "    edad.sort(reverse=False)\n",
        "    ejemplo=[\"AMY\",\"BRUNO\",\"ELIE\",\"DAN\",\"ZEKE\"]\n",
        "\n",
        "    nombres.sort(key=longitud)\n",
        "    print(edad)\n",
        "    print(nombres)\n",
        "    print(copia)\n",
        "    print(\"............\")\n",
        "    print(ejemplo)\n",
        "    ejemplo.sort()\n",
        "    print(ejemplo)"
      ],
      "metadata": {
        "id": "__tYf7Mi6zuu",
        "colab": {
          "base_uri": "https://localhost:8080/"
        },
        "outputId": "41264c87-f4cd-41b4-9b49-2c7b9734cc5c"
      },
      "execution_count": null,
      "outputs": [
        {
          "output_type": "stream",
          "name": "stdout",
          "text": [
            "['Juan', 'Rosa', 'Rebeca']\n",
            "[34, 19, 23]\n",
            "['Juan', 'Rosa', 'Rebeca', 34, 19, 23]\n",
            "['Juan', 'Rosa', 'Rebeca', 'Juan', 'Rosa', 'Rebeca', 'Juan', 'Rosa', 'Rebeca']\n",
            "9\n",
            "['Juan', 'Rosa']\n",
            "['Rosa', 'Rebeca']\n",
            "['Juan']\n",
            "Juan;Rosa;Rebeca\n",
            "True\n",
            "Juan Rosa Rebeca \n",
            "['Juan', 'Rosa', 'Rebeca', 'Flores']\n",
            "['Flores', 'Rosa', 'Rebeca', 'Juan']\n",
            "['Flores', 'Rosa', 'Maria', 'Rebeca', 'Juan']\n",
            "[19, 23, 34]\n",
            "['Rosa', 'Juan', 'Maria', 'Flores', 'Rebeca']\n",
            "['Flores', 'Rosa', 'Maria', 'Rebeca', 'Juan']\n",
            "............\n",
            "['AMY', 'BRUNO', 'ELIE', 'DAN', 'ZEKE']\n",
            "['AMY', 'BRUNO', 'DAN', 'ELIE', 'ZEKE']\n"
          ]
        }
      ]
    },
    {
      "cell_type": "code",
      "source": [
        "# DICCIONARIO\n",
        "# -*- coding: utf-8 -*-\n",
        "\"\"\"\n",
        "Created on Mon Sep 28 12:35:51 2020\n",
        "\n",
        "@author: mash\n",
        "\"\"\"\n",
        "diccionario={'A0':23,'A1':89,'A2':90}\n",
        "diccionario['A3']=100\n",
        "print(diccionario)\n",
        "print(diccionario['A2'])\n",
        "\n",
        "\n",
        "diccionario['A0']=100\n",
        "print(diccionario)\n",
        "\n",
        "#convertir diccionario a una cadena\n",
        "cadena=str(diccionario)\n",
        "print(cadena)\n",
        "print(type(cadena))\n",
        "\n",
        "#copiar dicccionario en otra variable\n",
        "dic_2=diccionario.copy()\n",
        "print(dic_2)\n",
        "dic_2['A2']=345\n",
        "print(dic_2)\n",
        "print(diccionario)\n",
        "\n",
        "#diccionario a partir de una lista\n",
        "lista=[1,2,3,4]\n",
        "datos=[\"Uno\",\"Dos\",\"Tres\",\"Cuatro\"]\n",
        "dic_3=diccionario.fromkeys(lista,datos)\n",
        "print(dic_3[2])\n",
        "\n",
        "dic_4={}\n",
        "dic_4[lista[0]]=datos[0]\n",
        "dic_4[lista[1]]=datos[1]\n",
        "print(dic_4)"
      ],
      "metadata": {
        "id": "gSci0A0w6zsf",
        "colab": {
          "base_uri": "https://localhost:8080/"
        },
        "outputId": "83251d67-995d-42f1-8ae2-0b94ed6b0fcd"
      },
      "execution_count": null,
      "outputs": [
        {
          "output_type": "stream",
          "name": "stdout",
          "text": [
            "{'A0': 23, 'A1': 89, 'A2': 90, 'A3': 100}\n",
            "90\n",
            "{'A0': 100, 'A1': 89, 'A2': 90, 'A3': 100}\n",
            "{'A0': 100, 'A1': 89, 'A2': 90, 'A3': 100}\n",
            "<class 'str'>\n",
            "{'A0': 100, 'A1': 89, 'A2': 90, 'A3': 100}\n",
            "{'A0': 100, 'A1': 89, 'A2': 345, 'A3': 100}\n",
            "{'A0': 100, 'A1': 89, 'A2': 90, 'A3': 100}\n",
            "['Uno', 'Dos', 'Tres', 'Cuatro']\n",
            "{1: 'Uno', 2: 'Dos'}\n"
          ]
        }
      ]
    },
    {
      "cell_type": "code",
      "source": [
        "16.6666666666 * 3"
      ],
      "metadata": {
        "id": "-ox8KK5UyT1M",
        "outputId": "41e06b67-b448-4c6a-d3e9-681e4f1e50f6",
        "colab": {
          "base_uri": "https://localhost:8080/"
        }
      },
      "execution_count": null,
      "outputs": [
        {
          "output_type": "execute_result",
          "data": {
            "text/plain": [
              "49.9999999998"
            ]
          },
          "metadata": {},
          "execution_count": 2
        }
      ]
    },
    {
      "cell_type": "code",
      "source": [
        "for x in range(2):\n",
        "    print((x += 1)*x)"
      ],
      "metadata": {
        "id": "5B_elawc2CWp",
        "outputId": "940d7f39-5b64-4911-e733-99457ab91b48",
        "colab": {
          "base_uri": "https://localhost:8080/",
          "height": 140
        }
      },
      "execution_count": null,
      "outputs": [
        {
          "output_type": "error",
          "ename": "SyntaxError",
          "evalue": "ignored",
          "traceback": [
            "\u001b[0;36m  File \u001b[0;32m\"<ipython-input-4-a17ee587c74a>\"\u001b[0;36m, line \u001b[0;32m2\u001b[0m\n\u001b[0;31m    print((x += 1)*x)\u001b[0m\n\u001b[0m             ^\u001b[0m\n\u001b[0;31mSyntaxError\u001b[0m\u001b[0;31m:\u001b[0m invalid syntax\n"
          ]
        }
      ]
    },
    {
      "cell_type": "code",
      "source": [
        "# Tarea especial\n",
        "# Conjunto potencia\n",
        "\n",
        "\n",
        "\n",
        "def potencia(c):\n",
        "    \"\"\"Calcula y devuelve el conjunto potencia del\n",
        "       conjunto c.\n",
        "    \"\"\"\n",
        "    if len(c) == 0:\n",
        "        return [[]]\n",
        "    r = potencia(c[:-1])\n",
        "    return r + [s + [c[-1]] for s in r]\n",
        "\n",
        "def imprime_ordenado(c):\n",
        "    \"\"\"Imprime en la salida estándar todos los\n",
        "       subconjuntos del conjunto c (una lista de\n",
        "       listas) ordenados primero por tamaño y\n",
        "       luego lexicográficamente. Cada subconjunto\n",
        "       se imprime en su propia línea. Los\n",
        "       elementos de los subconjuntos deben ser\n",
        "       comparables entre sí, de otra forma puede\n",
        "       ocurrir un TypeError.\n",
        "    \"\"\"\n",
        "    for e in sorted(c, key=lambda s: (len(s), s)):\n",
        "        print(e)"
      ],
      "metadata": {
        "id": "pzSmWx_H6zqp"
      },
      "execution_count": null,
      "outputs": []
    },
    {
      "cell_type": "code",
      "source": [
        "# Combinaciones\n",
        "def combinaciones(c, n):\n",
        "    \"\"\"Calcula y devuelve una lista con todas las\n",
        "       combinaciones posibles que se pueden hacer\n",
        "       con los elementos contenidos en c tomando n\n",
        "       elementos a la vez.\n",
        "    \"\"\"\n",
        "    return [s for s in potencia(c) if len(s) == n]\n"
      ],
      "metadata": {
        "id": "SpybVGOJ6zor"
      },
      "execution_count": null,
      "outputs": []
    },
    {
      "cell_type": "code",
      "source": [
        "from math import factorial\n",
        "\n",
        "def numero_combinaciones(m, n):\n",
        "    \"\"\"Calcula y devuelve el número de combinaciones\n",
        "       posibles que se pueden hacer con m elementos\n",
        "       tomando n elementos a la vez.\n",
        "    \"\"\"\n",
        "    return factorial(m) // (factorial(n) * factorial(m - n))"
      ],
      "metadata": {
        "id": "phGz9li56zmx"
      },
      "execution_count": null,
      "outputs": []
    },
    {
      "cell_type": "code",
      "source": [
        "def inserta(x, lst, i):\n",
        "    \"\"\"Devuelve una nueva lista resultado de insertar\n",
        "       x dentro de lst en la posición i.\n",
        "    \"\"\"\n",
        "    return lst[:i] + [x] + lst[i:]"
      ],
      "metadata": {
        "id": "5Y3fZtkG6zkm"
      },
      "execution_count": null,
      "outputs": []
    },
    {
      "cell_type": "code",
      "source": [
        "def inserta_multiple(x, lst):\n",
        "    \"\"\"Devuelve una lista con el resultado de\n",
        "       insertar x en todas las posiciones de lst.\n",
        "    \"\"\"\n",
        "    return [inserta(x, lst, i) for i in range(len(lst) + 1)]"
      ],
      "metadata": {
        "id": "292knzPH6zis"
      },
      "execution_count": null,
      "outputs": []
    },
    {
      "cell_type": "code",
      "source": [
        "def permuta(c):\n",
        "    \"\"\"Calcula y devuelve una lista con todas las\n",
        "       permutaciones posibles que se pueden hacer\n",
        "       con los elementos contenidos en c.\n",
        "    \"\"\"\n",
        "    if len(c) == 0:\n",
        "        return [[]]\n",
        "    return sum([inserta_multiple(c[0], s)\n",
        "                for s in permuta(c[1:])],\n",
        "               [])"
      ],
      "metadata": {
        "id": "tmMqkPs96zgq"
      },
      "execution_count": null,
      "outputs": []
    },
    {
      "cell_type": "code",
      "source": [
        "def permutaciones(c, n):\n",
        "    \"\"\"Calcula y devuelve una lista con todas las\n",
        "       permutaciones posibles que se pueden hacer\n",
        "       con los elementos contenidos en c tomando n\n",
        "       elementos a la vez.\n",
        "    \"\"\"\n",
        "    return sum([permuta(s)\n",
        "                for s in combinaciones(c, n)],\n",
        "               [])"
      ],
      "metadata": {
        "id": "lyDPM_-m6zU_"
      },
      "execution_count": null,
      "outputs": []
    },
    {
      "cell_type": "code",
      "source": [
        "def numero_permutaciones(m, n):\n",
        "    \"\"\"Calcula y devuelve el número de permutaciones\n",
        "       posibles que se pueden hacer con m elementos\n",
        "       tomando n elementos a la vez.\n",
        "    \"\"\"\n",
        "    return factorial(m) // factorial(m - n)"
      ],
      "metadata": {
        "id": "36doSg1c6zRY"
      },
      "execution_count": null,
      "outputs": []
    },
    {
      "cell_type": "code",
      "source": [
        "import itertools\n",
        "\n",
        "if __name__ == '__main__':\n",
        "\n",
        "    nums = [1, 2, 3]\n",
        "\n",
        "    permutations = list(itertools.permutations(nums))\n",
        "    print(permutations)\n"
      ],
      "metadata": {
        "id": "CdKUFeZH6zPh"
      },
      "execution_count": null,
      "outputs": []
    },
    {
      "cell_type": "code",
      "source": [
        "import itertools\n",
        "\n",
        "if __name__ == '__main__':\n",
        "\n",
        "    nums = [1, 2, 3]\n",
        "    r = 2\n",
        "\n",
        "    permutations = list(itertools.permutations(nums, r))\n",
        "    print(permutations)"
      ],
      "metadata": {
        "id": "r2j8a2Hw6zNc"
      },
      "execution_count": null,
      "outputs": []
    },
    {
      "cell_type": "code",
      "source": [
        "import itertools\n",
        "\n",
        "if __name__ == '__main__':\n",
        "\n",
        "    nums = [1, 2, 3]\n",
        "    r = 2\n",
        "\n",
        "    combinations = list(itertools.combinations(nums, r))\n",
        "    print(combinations)"
      ],
      "metadata": {
        "id": "86vAcS4i6zLQ"
      },
      "execution_count": null,
      "outputs": []
    },
    {
      "cell_type": "code",
      "source": [
        "for i = 0 to vector.leght\n",
        "    if(vector[i])\n",
        "    for j = i + 1 yo vector legth\n",
        "        if(vector[j])\n",
        "            return true\n",
        "return false"
      ],
      "metadata": {
        "id": "wkU3Ua2L6zJP"
      },
      "execution_count": null,
      "outputs": []
    },
    {
      "cell_type": "code",
      "source": [
        "contador  = 0\n",
        "for i = 0 to vector.legth\n",
        "    if(vector[i])\n",
        "        contador++\n",
        "return contador >=2"
      ],
      "metadata": {
        "id": "rpCaiCkW6zHg"
      },
      "execution_count": null,
      "outputs": []
    },
    {
      "cell_type": "code",
      "source": [
        "def metodo_burbuja(lista):\n",
        "    for if un range(1, len(lista)):\n",
        "        for j in range(0,len(lista)-i):\n",
        "            if(lista[j]>lista[j+1]):\n",
        "                aux = lista[j]\n",
        "                lista[j] = lista[j+1]\n",
        "                lista[j+1] = aux"
      ],
      "metadata": {
        "id": "FKsXQ4R26zFm",
        "colab": {
          "base_uri": "https://localhost:8080/",
          "height": 176
        },
        "outputId": "e0eb6283-be65-4e52-b2f0-b23674e13e57"
      },
      "execution_count": null,
      "outputs": [
        {
          "output_type": "error",
          "ename": "SyntaxError",
          "evalue": "ignored",
          "traceback": [
            "\u001b[0;36m  File \u001b[0;32m\"<ipython-input-2-76eee020ce08>\"\u001b[0;36m, line \u001b[0;32m2\u001b[0m\n\u001b[0;31m    for if un range(1, len(lista)):\u001b[0m\n\u001b[0m        ^\u001b[0m\n\u001b[0;31mSyntaxError\u001b[0m\u001b[0;31m:\u001b[0m invalid syntax\n"
          ]
        }
      ]
    },
    {
      "cell_type": "code",
      "source": [],
      "metadata": {
        "id": "Yqp8ld756zD2"
      },
      "execution_count": null,
      "outputs": []
    },
    {
      "cell_type": "code",
      "source": [],
      "metadata": {
        "id": "GF_8pcS76zCC"
      },
      "execution_count": null,
      "outputs": []
    },
    {
      "cell_type": "code",
      "source": [],
      "metadata": {
        "id": "RL-wLrFC6zAW"
      },
      "execution_count": null,
      "outputs": []
    },
    {
      "cell_type": "code",
      "source": [],
      "metadata": {
        "id": "ZbtnAFO66MJq"
      },
      "execution_count": null,
      "outputs": []
    },
    {
      "cell_type": "code",
      "source": [],
      "metadata": {
        "id": "kzE_urSR6MH0"
      },
      "execution_count": null,
      "outputs": []
    },
    {
      "cell_type": "code",
      "source": [],
      "metadata": {
        "id": "F9bzvLhF6MFb"
      },
      "execution_count": null,
      "outputs": []
    },
    {
      "cell_type": "code",
      "source": [],
      "metadata": {
        "id": "T1a7uIEh6MBw"
      },
      "execution_count": null,
      "outputs": []
    },
    {
      "cell_type": "code",
      "source": [],
      "metadata": {
        "id": "gfnRhJGq6MAB"
      },
      "execution_count": null,
      "outputs": []
    },
    {
      "cell_type": "code",
      "source": [],
      "metadata": {
        "id": "K-fj3BMO6L91"
      },
      "execution_count": null,
      "outputs": []
    },
    {
      "cell_type": "code",
      "source": [],
      "metadata": {
        "id": "uc5elNBV6L8N"
      },
      "execution_count": null,
      "outputs": []
    },
    {
      "cell_type": "code",
      "source": [],
      "metadata": {
        "id": "ECqdWq5D6L6i"
      },
      "execution_count": null,
      "outputs": []
    },
    {
      "cell_type": "code",
      "source": [],
      "metadata": {
        "id": "ylW4quVC6L4-"
      },
      "execution_count": null,
      "outputs": []
    },
    {
      "cell_type": "code",
      "source": [],
      "metadata": {
        "id": "N5jf4Gcf6L3D"
      },
      "execution_count": null,
      "outputs": []
    },
    {
      "cell_type": "code",
      "source": [],
      "metadata": {
        "id": "OKGZ8RrM6L0U"
      },
      "execution_count": null,
      "outputs": []
    },
    {
      "cell_type": "code",
      "source": [],
      "metadata": {
        "id": "-SVj_QWu6Lxn"
      },
      "execution_count": null,
      "outputs": []
    },
    {
      "cell_type": "code",
      "source": [],
      "metadata": {
        "id": "aaLScJwY6Lv9"
      },
      "execution_count": null,
      "outputs": []
    },
    {
      "cell_type": "code",
      "source": [],
      "metadata": {
        "id": "h2YpCaKK5lEQ"
      },
      "execution_count": null,
      "outputs": []
    },
    {
      "cell_type": "code",
      "source": [],
      "metadata": {
        "id": "Iz1OzZU85lCt"
      },
      "execution_count": null,
      "outputs": []
    },
    {
      "cell_type": "code",
      "source": [],
      "metadata": {
        "id": "R6qTu8fe5lAU"
      },
      "execution_count": null,
      "outputs": []
    },
    {
      "cell_type": "code",
      "source": [],
      "metadata": {
        "id": "XjQO7Q7L5k-0"
      },
      "execution_count": null,
      "outputs": []
    },
    {
      "cell_type": "code",
      "source": [],
      "metadata": {
        "id": "-ZSP5l-f5k5R"
      },
      "execution_count": null,
      "outputs": []
    },
    {
      "cell_type": "code",
      "source": [],
      "metadata": {
        "id": "ggB44HeG5k3y"
      },
      "execution_count": null,
      "outputs": []
    },
    {
      "cell_type": "code",
      "source": [],
      "metadata": {
        "id": "IYGxhb2G5k1d"
      },
      "execution_count": null,
      "outputs": []
    },
    {
      "cell_type": "code",
      "source": [],
      "metadata": {
        "id": "XRxkMDnb5kz3"
      },
      "execution_count": null,
      "outputs": []
    },
    {
      "cell_type": "code",
      "source": [],
      "metadata": {
        "id": "LiTSaZvp5kvr"
      },
      "execution_count": null,
      "outputs": []
    },
    {
      "cell_type": "code",
      "source": [],
      "metadata": {
        "id": "vWlDG3JT5kuG"
      },
      "execution_count": null,
      "outputs": []
    },
    {
      "cell_type": "code",
      "source": [],
      "metadata": {
        "id": "2omMpThs5kqH"
      },
      "execution_count": null,
      "outputs": []
    },
    {
      "cell_type": "code",
      "source": [],
      "metadata": {
        "id": "h_Q-wVuG5koc"
      },
      "execution_count": null,
      "outputs": []
    },
    {
      "cell_type": "code",
      "source": [],
      "metadata": {
        "id": "uH6MBjde5kEj"
      },
      "execution_count": null,
      "outputs": []
    },
    {
      "cell_type": "code",
      "source": [],
      "metadata": {
        "id": "IbxxMaM00zwq"
      },
      "execution_count": null,
      "outputs": []
    }
  ]
}