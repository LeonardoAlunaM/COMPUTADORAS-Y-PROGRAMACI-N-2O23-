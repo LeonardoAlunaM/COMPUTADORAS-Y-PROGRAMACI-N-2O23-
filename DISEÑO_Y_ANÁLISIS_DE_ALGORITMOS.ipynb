{
  "nbformat": 4,
  "nbformat_minor": 0,
  "metadata": {
    "colab": {
      "provenance": [],
      "authorship_tag": "ABX9TyOy8CdmTN3FkLYQNddYaTWV",
      "include_colab_link": true
    },
    "kernelspec": {
      "name": "python3",
      "display_name": "Python 3"
    },
    "language_info": {
      "name": "python"
    }
  },
  "cells": [
    {
      "cell_type": "markdown",
      "metadata": {
        "id": "view-in-github",
        "colab_type": "text"
      },
      "source": [
        "<a href=\"https://colab.research.google.com/github/LeonardoAlunaM/COMPUTADORAS-Y-PROGRAMACI-N-2O23-/blob/main-COMPUTADORAS-Y-PROGTRAMACI%C3%93N-2023/DISE%C3%91O_Y_AN%C3%81LISIS_DE_ALGORITMOS.ipynb\" target=\"_parent\"><img src=\"https://colab.research.google.com/assets/colab-badge.svg\" alt=\"Open In Colab\"/></a>"
      ]
    },
    {
      "cell_type": "markdown",
      "source": [
        "# Programa 1, Cálculo de la raíz cuadrada"
      ],
      "metadata": {
        "id": "6BHhrZn3O_xc"
      }
    },
    {
      "cell_type": "code",
      "execution_count": 3,
      "metadata": {
        "colab": {
          "base_uri": "https://localhost:8080/"
        },
        "id": "XLAEVrxjLbvn",
        "outputId": "6a4befb5-842b-4877-9b02-7203bd00a693"
      },
      "outputs": [
        {
          "output_type": "stream",
          "name": "stdout",
          "text": [
            "Ingresa un número: 3\n",
            "La raíz cuadrada de 3.0 es 1.7320508075688772\n"
          ]
        }
      ],
      "source": [
        "# Programa 1\n",
        "# Utilizando la importación del módulo math\n",
        "import math\n",
        "\n",
        "# Solicitar al usuario que ingrese un número\n",
        "numero = float(input(\"Ingresa un número: \"))\n",
        "\n",
        "# Calcular la raíz cuadrada\n",
        "raiz_cuadrada = math.sqrt(numero)\n",
        "\n",
        "# Imprimir el resultado\n",
        "print(f\"La raíz cuadrada de {numero} es {raiz_cuadrada}\")"
      ]
    },
    {
      "cell_type": "code",
      "source": [
        "# Solicitar al usuario que ingrese un número\n",
        "numero = float(input(\"Ingresa un número: \"))\n",
        "\n",
        "# Establecer una suposición inicial para la raíz cuadrada\n",
        "raiz_aproximada = numero / 2  # Puedes elegir otra suposición inicial si lo deseas\n",
        "\n",
        "# Definir la tolerancia para detener la aproximación\n",
        "tolerancia = 1e-6\n",
        "\n",
        "# Iterar hasta que la aproximación sea lo suficientemente cercana\n",
        "while abs(raiz_aproximada * raiz_aproximada - numero) > tolerancia:\n",
        "    raiz_aproximada = 0.5 * (raiz_aproximada + numero / raiz_aproximada)\n",
        "\n",
        "# Imprimir el resultado\n",
        "print(f\"La raíz cuadrada de {numero} es aproximadamente {raiz_aproximada}\")\n"
      ],
      "metadata": {
        "colab": {
          "base_uri": "https://localhost:8080/"
        },
        "id": "_XPoh2CxLjhy",
        "outputId": "d0969f3f-378e-47c8-fd63-a08a42d7f7a0"
      },
      "execution_count": 5,
      "outputs": [
        {
          "output_type": "stream",
          "name": "stdout",
          "text": [
            "Ingresa un número: 78\n",
            "La raíz cuadrada de 78.0 es aproximadamente 8.83176086633058\n"
          ]
        }
      ]
    },
    {
      "cell_type": "code",
      "source": [
        "import math\n",
        "\n",
        "x= float(input(\"Ingresa un número positivo\"))\n",
        "assert x >= 0.0\n",
        "\n",
        "x = math.sqrt(x)\n",
        "print(x)"
      ],
      "metadata": {
        "colab": {
          "base_uri": "https://localhost:8080/"
        },
        "id": "NJdT9yerNEXz",
        "outputId": "6aa160d0-b805-4f4a-ae5a-4ef731ad0249"
      },
      "execution_count": 6,
      "outputs": [
        {
          "output_type": "stream",
          "name": "stdout",
          "text": [
            "Ingresa un número positivo78\n",
            "8.831760866327848\n"
          ]
        }
      ]
    },
    {
      "cell_type": "code",
      "source": [
        "# Método de Newton-Raphson\n",
        "# Solicitar al usuario que ingrese un número\n",
        "numero = float(input(\"Ingresa un número: \"))\n",
        "\n",
        "# Aproximación inicial (puede ser cualquier número positivo)\n",
        "aproximacion = numero / 2\n",
        "\n",
        "# Precisión deseada para la aproximación\n",
        "precision = 0.0001\n",
        "\n",
        "# Iterar hasta que la diferencia entre la aproximación actual y la siguiente sea menor que la precisión\n",
        "while abs(aproximacion * aproximacion - numero) > precision:\n",
        "    aproximacion = 0.5 * (aproximacion + numero / aproximacion)\n",
        "\n",
        "# Imprimir el resultado\n",
        "print(f\"La raíz cuadrada de {numero} es aproximadamente {aproximacion}\")\n"
      ],
      "metadata": {
        "colab": {
          "base_uri": "https://localhost:8080/"
        },
        "id": "Z7GJNaI1NqtZ",
        "outputId": "f246868c-491a-4da7-bc43-1e08ac2adc39"
      },
      "execution_count": 14,
      "outputs": [
        {
          "output_type": "stream",
          "name": "stdout",
          "text": [
            "Ingresa un número: 64\n",
            "La raíz cuadrada de 64.0 es aproximadamente 8.000001273385879\n"
          ]
        }
      ]
    },
    {
      "cell_type": "markdown",
      "source": [
        "# Programa 2: Ecuación de segundo grado"
      ],
      "metadata": {
        "id": "sE5gKwnZPHNJ"
      }
    },
    {
      "cell_type": "code",
      "source": [
        "# 2 Resolviendo una ecuación de segundo grado\n",
        "import math\n",
        "\n",
        "# Función para calcular las raíces de una ecuación cuadrática\n",
        "def calcular_raices(a, b, c):\n",
        "    discriminante = b**2 - 4*a*c\n",
        "\n",
        "    if discriminante > 0:\n",
        "        raiz1 = (-b + math.sqrt(discriminante)) / (2*a)\n",
        "        raiz2 = (-b - math.sqrt(discriminante)) / (2*a)\n",
        "        return raiz1, raiz2\n",
        "    elif discriminante == 0:\n",
        "        raiz_unica = -b / (2*a)\n",
        "        return raiz_unica\n",
        "    else:\n",
        "        # Raíces complejas\n",
        "        parte_real = -b / (2*a)\n",
        "        parte_imaginaria = math.sqrt(abs(discriminante)) / (2*a)\n",
        "        raiz1 = complex(parte_real, parte_imaginaria)\n",
        "        raiz2 = complex(parte_real, -parte_imaginaria)\n",
        "        return raiz1, raiz2\n",
        "\n",
        "# Función para resolver la ecuación de segundo grado\n",
        "def resolver_ecuacion(a, b, c):\n",
        "    raices = calcular_raices(a, b, c)\n",
        "    if isinstance(raices, tuple):\n",
        "        return f\"Las raíces de la ecuación son: x1 = {raices[0]}, x2 = {raices[1]}\"\n",
        "    else:\n",
        "        return f\"La única raíz de la ecuación es: x = {raices}\"\n",
        "\n",
        "# Coeficientes de la ecuación cuadrática (ax^2 + bx + c)\n",
        "a = float(input(\"Ingrese el coeficiente 'a': \"))\n",
        "b = float(input(\"Ingrese el coeficiente 'b': \"))\n",
        "c = float(input(\"Ingrese el coeficiente 'c': \"))\n",
        "\n",
        "resultado = resolver_ecuacion(a, b, c)\n",
        "print(resultado)\n"
      ],
      "metadata": {
        "id": "8uW_GMG3NERt"
      },
      "execution_count": null,
      "outputs": []
    },
    {
      "cell_type": "code",
      "source": [
        "# 2 Resolviendo una ecuación de segundo grado, sin usar el módulo math\n",
        "# Función para calcular las raíces de una ecuación cuadrática\n",
        "def calcular_raices(a, b, c):\n",
        "    discriminante = b**2 - 4*a*c\n",
        "\n",
        "    if discriminante > 0:\n",
        "        raiz1 = (-b + discriminante**0.5) / (2*a)\n",
        "        raiz2 = (-b - discriminante**0.5) / (2*a)\n",
        "        return raiz1, raiz2\n",
        "    elif discriminante == 0:\n",
        "        raiz_unica = -b / (2*a)\n",
        "        return raiz_unica\n",
        "    else:\n",
        "        # Raíces complejas\n",
        "        parte_real = -b / (2*a)\n",
        "        parte_imaginaria = (abs(discriminante)**0.5) / (2*a)\n",
        "        raiz1 = complex(parte_real, parte_imaginaria)\n",
        "        raiz2 = complex(parte_real, -parte_imaginaria)\n",
        "        return raiz1, raiz2\n",
        "\n",
        "# Función para resolver la ecuación de segundo grado\n",
        "def resolver_ecuacion(a, b, c):\n",
        "    raices = calcular_raices(a, b, c)\n",
        "    if isinstance(raices, tuple):\n",
        "        return f\"Las raíces de la ecuación son: x1 = {raices[0]}, x2 = {raices[1]}\"\n",
        "    else:\n",
        "        return f\"La única raíz de la ecuación es: x = {raices}\"\n",
        "\n",
        "# Coeficientes de la ecuación cuadrática (ax^2 + bx + c)\n",
        "a = float(input(\"Ingrese el coeficiente 'a': \"))\n",
        "b = float(input(\"Ingrese el coeficiente 'b': \"))\n",
        "c = float(input(\"Ingrese el coeficiente 'c': \"))\n",
        "\n",
        "resultado = resolver_ecuacion(a, b, c)\n",
        "print(resultado)\n"
      ],
      "metadata": {
        "id": "K-E0CZHzNEOe"
      },
      "execution_count": null,
      "outputs": []
    },
    {
      "cell_type": "markdown",
      "source": [
        "# Programa 3, Calculo del número pi"
      ],
      "metadata": {
        "id": "HbdcIDJDPNBU"
      }
    },
    {
      "cell_type": "code",
      "source": [
        "import random\n",
        "\n",
        "def calcular_pi(aproximaciones):\n",
        "    puntos_en_circulo = 0\n",
        "    total_puntos = 0\n",
        "\n",
        "    for _ in range(aproximaciones):\n",
        "        x = random.uniform(0, 1)\n",
        "        y = random.uniform(0, 1)\n",
        "        distancia = x**2 + y**2\n",
        "\n",
        "        if distancia <= 1:\n",
        "            puntos_en_circulo += 1\n",
        "\n",
        "        total_puntos += 1\n",
        "\n",
        "    pi_aproximado = 4 * (puntos_en_circulo / total_puntos)\n",
        "    return pi_aproximado\n",
        "\n",
        "# Cambia el valor de 'aproximaciones' para aumentar la precisión.\n",
        "aproximaciones = 1000000\n",
        "pi_estimado = calcular_pi(aproximaciones)\n",
        "\n",
        "print(f\"Valor estimado de pi con {aproximaciones} aproximaciones: {pi_estimado}\")\n"
      ],
      "metadata": {
        "colab": {
          "base_uri": "https://localhost:8080/"
        },
        "id": "Xc0PyAotNEM6",
        "outputId": "340bd424-e876-4d6f-e4fa-a1cb29062a65"
      },
      "execution_count": 13,
      "outputs": [
        {
          "output_type": "stream",
          "name": "stdout",
          "text": [
            "Valor estimado de pi con 1000000 aproximaciones: 3.138988\n"
          ]
        }
      ]
    },
    {
      "cell_type": "code",
      "source": [
        "def calcular_pi_leibniz(n):\n",
        "    suma = 0\n",
        "    for i in range(n):\n",
        "        termino = (-1) ** i / (2 * i + 1)\n",
        "        suma += termino\n",
        "    pi_aproximado = 4 * suma\n",
        "    return pi_aproximado\n",
        "\n",
        "# Cambia el valor de 'n' para aumentar la precisión.\n",
        "n = 100000\n",
        "pi_estimado = calcular_pi_leibniz(n)\n",
        "\n",
        "print(f\"Valor estimado de pi con {n} términos de la serie de Leibniz: {pi_estimado}\")\n"
      ],
      "metadata": {
        "colab": {
          "base_uri": "https://localhost:8080/"
        },
        "id": "NFab6tn1P3HL",
        "outputId": "ba0dc91d-d1e1-42e2-890a-35c082371832"
      },
      "execution_count": 12,
      "outputs": [
        {
          "output_type": "stream",
          "name": "stdout",
          "text": [
            "Valor estimado de pi con 100000 términos de la serie de Leibniz: 3.1415826535897198\n"
          ]
        }
      ]
    },
    {
      "cell_type": "markdown",
      "source": [
        "# Programa 4, Calculando el Factorial de un número"
      ],
      "metadata": {
        "id": "7a2zyAw-P43V"
      }
    },
    {
      "cell_type": "code",
      "source": [
        "import math\n",
        "\n",
        "def calcular_factorial_con_math(numero):\n",
        "    if numero < 0:\n",
        "        return \"El factorial no está definido para números negativos\"\n",
        "    elif numero == 0:\n",
        "        return 1\n",
        "    else:\n",
        "        return math.factorial(numero)\n",
        "\n",
        "numero = int(input(\"Ingresa un número para calcular su factorial: \"))\n",
        "resultado = calcular_factorial_con_math(numero)\n",
        "print(f\"El factorial de {numero} es {resultado}\")\n"
      ],
      "metadata": {
        "colab": {
          "base_uri": "https://localhost:8080/"
        },
        "id": "BeawVeAvQW6e",
        "outputId": "3f2b3582-35a6-4202-e668-33f67254fbbd"
      },
      "execution_count": 11,
      "outputs": [
        {
          "output_type": "stream",
          "name": "stdout",
          "text": [
            "Ingresa un número para calcular su factorial: 3\n",
            "El factorial de 3 es 6\n"
          ]
        }
      ]
    },
    {
      "cell_type": "code",
      "source": [
        "def calcular_factorial_sin_math(numero):\n",
        "    if numero < 0:\n",
        "        return \"El factorial no está definido para números negativos\"\n",
        "    elif numero == 0:\n",
        "        return 1\n",
        "    else:\n",
        "        factorial = 1\n",
        "        for i in range(1, numero + 1):\n",
        "            factorial *= i\n",
        "        return factorial\n",
        "\n",
        "numero = int(input(\"Ingresa un número para calcular su factorial: \"))\n",
        "resultado = calcular_factorial_sin_math(numero)\n",
        "print(f\"El factorial de {numero} es {resultado}\")\n"
      ],
      "metadata": {
        "colab": {
          "base_uri": "https://localhost:8080/"
        },
        "id": "wjtrZkfnQW4f",
        "outputId": "6115a5ea-a091-4eca-cb18-b9c2d56a72ee"
      },
      "execution_count": 10,
      "outputs": [
        {
          "output_type": "stream",
          "name": "stdout",
          "text": [
            "Ingresa un número para calcular su factorial: 34\n",
            "El factorial de 34 es 295232799039604140847618609643520000000\n"
          ]
        }
      ]
    },
    {
      "cell_type": "markdown",
      "source": [
        "Programa 5  contar las veces que se repite un número dentro de una lista de números enteros"
      ],
      "metadata": {
        "id": "qc3oM8OtQdtO"
      }
    },
    {
      "cell_type": "code",
      "source": [
        "def contar_repeticiones(lista, numero):\n",
        "    contador = 0\n",
        "    for elemento in lista:\n",
        "        if elemento == numero:\n",
        "            contador += 1\n",
        "    return contador\n",
        "\n",
        "# Ejemplo de uso:\n",
        "lista_numeros = [1, 2, 3, 4, 2, 5, 2, 6, 2, 7]\n",
        "numero_buscar = 2\n",
        "\n",
        "repeticiones = contar_repeticiones(lista_numeros, numero_buscar)\n",
        "\n",
        "print(f\"El número {numero_buscar} se repite {repeticiones} veces en la lista.\")\n"
      ],
      "metadata": {
        "colab": {
          "base_uri": "https://localhost:8080/"
        },
        "id": "PMHTQbJgQW1j",
        "outputId": "5f9f0ea0-fda5-4c33-8edc-a9030c642293"
      },
      "execution_count": 9,
      "outputs": [
        {
          "output_type": "stream",
          "name": "stdout",
          "text": [
            "El número 2 se repite 4 veces en la lista.\n"
          ]
        }
      ]
    },
    {
      "cell_type": "markdown",
      "source": [
        "# Programa 6, Programa que muestra 2 números grandes consecutivos de una lista  "
      ],
      "metadata": {
        "id": "wf7PMoDuQ-bj"
      }
    },
    {
      "cell_type": "code",
      "source": [
        "def encontrar_numeros_consecutivos(lista, umbral):\n",
        "    numeros_consecutivos = []\n",
        "\n",
        "    for i in range(len(lista) - 1):\n",
        "        if lista[i] > umbral and lista[i + 1] > umbral:\n",
        "            numeros_consecutivos.append((lista[i], lista[i + 1]))\n",
        "\n",
        "    return numeros_consecutivos\n",
        "\n",
        "# Ejemplo de uso\n",
        "lista_de_numeros = [10, 15, 20, 25, 5, 30, 35,35, 40]\n",
        "umbral = 20\n",
        "\n",
        "numeros_consecutivos = encontrar_numeros_consecutivos(lista_de_numeros, umbral)\n",
        "\n",
        "if numeros_consecutivos:\n",
        "    for num1, num2 in numeros_consecutivos:\n",
        "        print(f\"Los números consecutivos grandes son: {num1} y {num2}\")\n",
        "else:\n",
        "    print(\"No se encontraron números consecutivos grandes en la lista.\")\n"
      ],
      "metadata": {
        "colab": {
          "base_uri": "https://localhost:8080/"
        },
        "id": "tqZ2828FQ-IE",
        "outputId": "1d76bc4e-b860-4a92-8bb1-ad8e16d5f460"
      },
      "execution_count": 8,
      "outputs": [
        {
          "output_type": "stream",
          "name": "stdout",
          "text": [
            "Los números consecutivos grandes son: 30 y 35\n",
            "Los números consecutivos grandes son: 35 y 35\n",
            "Los números consecutivos grandes son: 35 y 40\n"
          ]
        }
      ]
    },
    {
      "cell_type": "markdown",
      "source": [
        "# Programa 7, Devolver el indice del procesador menor de una lista de cadenas\n"
      ],
      "metadata": {
        "id": "YsAazmW5UYR6"
      }
    },
    {
      "cell_type": "code",
      "source": [
        "def indice_procesador_menor(lista_procesadores):\n",
        "    if not lista_procesadores:\n",
        "        return None  # Manejamos el caso de una lista vacía\n",
        "\n",
        "    menor_longitud = len(lista_procesadores[0])\n",
        "    indice_menor = 0\n",
        "\n",
        "    for i in range(1, len(lista_procesadores)):\n",
        "        longitud_actual = len(lista_procesadores[i])\n",
        "        if longitud_actual < menor_longitud:\n",
        "            menor_longitud = longitud_actual\n",
        "            indice_menor = i\n",
        "\n",
        "    return indice_menor\n",
        "\n",
        "# Ejemplo de uso:\n",
        "procesadores = [\"Intel Core i7\", \"AMD Ryzen 5\", \"Intel Core i5\", \"AMD Ryzen 3\", \"Intel Core i9\"]\n",
        "indice_menor = indice_procesador_menor(procesadores)\n",
        "\n",
        "if indice_menor is not None:\n",
        "    print(f\"El procesador más corto se encuentra en el índice {indice_menor}: {procesadores[indice_menor]}\")\n",
        "else:\n",
        "    print(\"La lista de procesadores está vacía.\")\n"
      ],
      "metadata": {
        "colab": {
          "base_uri": "https://localhost:8080/"
        },
        "id": "Vl1gl_kgQ-FI",
        "outputId": "d7b3fa14-4fcc-4f21-9be2-dff7254d6a25"
      },
      "execution_count": 15,
      "outputs": [
        {
          "output_type": "stream",
          "name": "stdout",
          "text": [
            "El procesador más corto se encuentra en el índice 1: AMD Ryzen 5\n"
          ]
        }
      ]
    },
    {
      "cell_type": "code",
      "source": [],
      "metadata": {
        "id": "NNRMazn1QW0I"
      },
      "execution_count": null,
      "outputs": []
    },
    {
      "cell_type": "code",
      "source": [],
      "metadata": {
        "id": "TrqvENx4QWSc"
      },
      "execution_count": null,
      "outputs": []
    }
  ]
}