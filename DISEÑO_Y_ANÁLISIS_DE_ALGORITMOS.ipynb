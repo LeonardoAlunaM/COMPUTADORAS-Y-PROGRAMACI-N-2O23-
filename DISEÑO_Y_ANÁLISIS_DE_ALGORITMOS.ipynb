{
  "nbformat": 4,
  "nbformat_minor": 0,
  "metadata": {
    "colab": {
      "provenance": [],
      "authorship_tag": "ABX9TyPgcUiUz0cf459wKAnCHMHV",
      "include_colab_link": true
    },
    "kernelspec": {
      "name": "python3",
      "display_name": "Python 3"
    },
    "language_info": {
      "name": "python"
    }
  },
  "cells": [
    {
      "cell_type": "markdown",
      "metadata": {
        "id": "view-in-github",
        "colab_type": "text"
      },
      "source": [
        "<a href=\"https://colab.research.google.com/github/LeonardoAlunaM/COMPUTADORAS-Y-PROGRAMACI-N-2O23-/blob/main-COMPUTADORAS-Y-PROGTRAMACI%C3%93N-2023/DISE%C3%91O_Y_AN%C3%81LISIS_DE_ALGORITMOS.ipynb\" target=\"_parent\"><img src=\"https://colab.research.google.com/assets/colab-badge.svg\" alt=\"Open In Colab\"/></a>"
      ]
    },
    {
      "cell_type": "markdown",
      "source": [
        "# Programa 1, Cálculo de la raíz cuadrada"
      ],
      "metadata": {
        "id": "6BHhrZn3O_xc"
      }
    },
    {
      "cell_type": "code",
      "execution_count": null,
      "metadata": {
        "colab": {
          "base_uri": "https://localhost:8080/"
        },
        "id": "XLAEVrxjLbvn",
        "outputId": "6a4befb5-842b-4877-9b02-7203bd00a693"
      },
      "outputs": [
        {
          "output_type": "stream",
          "name": "stdout",
          "text": [
            "Ingresa un número: 3\n",
            "La raíz cuadrada de 3.0 es 1.7320508075688772\n"
          ]
        }
      ],
      "source": [
        "# Programa 1\n",
        "# Utilizando la importación del módulo math\n",
        "import math\n",
        "\n",
        "# Solicitar al usuario que ingrese un número\n",
        "numero = float(input(\"Ingresa un número: \"))\n",
        "\n",
        "# Calcular la raíz cuadrada\n",
        "raiz_cuadrada = math.sqrt(numero)\n",
        "\n",
        "# Imprimir el resultado\n",
        "print(f\"La raíz cuadrada de {numero} es {raiz_cuadrada}\")"
      ]
    },
    {
      "cell_type": "code",
      "source": [
        "# Solicitar al usuario que ingrese un número\n",
        "numero = float(input(\"Ingresa un número: \"))\n",
        "\n",
        "# Establecer una suposición inicial para la raíz cuadrada\n",
        "raiz_aproximada = numero / 2  # Puedes elegir otra suposición inicial si lo deseas\n",
        "\n",
        "# Definir la tolerancia para detener la aproximación\n",
        "tolerancia = 1e-6\n",
        "\n",
        "# Iterar hasta que la aproximación sea lo suficientemente cercana\n",
        "while abs(raiz_aproximada * raiz_aproximada - numero) > tolerancia:\n",
        "    raiz_aproximada = 0.5 * (raiz_aproximada + numero / raiz_aproximada)\n",
        "\n",
        "# Imprimir el resultado\n",
        "print(f\"La raíz cuadrada de {numero} es aproximadamente {raiz_aproximada}\")\n"
      ],
      "metadata": {
        "colab": {
          "base_uri": "https://localhost:8080/"
        },
        "id": "_XPoh2CxLjhy",
        "outputId": "d0969f3f-378e-47c8-fd63-a08a42d7f7a0"
      },
      "execution_count": null,
      "outputs": [
        {
          "output_type": "stream",
          "name": "stdout",
          "text": [
            "Ingresa un número: 78\n",
            "La raíz cuadrada de 78.0 es aproximadamente 8.83176086633058\n"
          ]
        }
      ]
    },
    {
      "cell_type": "code",
      "source": [
        "import math\n",
        "\n",
        "x= float(input(\"Ingresa un número positivo\"))\n",
        "assert x >= 0.0\n",
        "\n",
        "x = math.sqrt(x)\n",
        "print(x)"
      ],
      "metadata": {
        "colab": {
          "base_uri": "https://localhost:8080/"
        },
        "id": "NJdT9yerNEXz",
        "outputId": "6aa160d0-b805-4f4a-ae5a-4ef731ad0249"
      },
      "execution_count": null,
      "outputs": [
        {
          "output_type": "stream",
          "name": "stdout",
          "text": [
            "Ingresa un número positivo78\n",
            "8.831760866327848\n"
          ]
        }
      ]
    },
    {
      "cell_type": "code",
      "source": [
        "# Método de Newton-Raphson\n",
        "# Solicitar al usuario que ingrese un número\n",
        "numero = float(input(\"Ingresa un número: \"))\n",
        "\n",
        "# Aproximación inicial (puede ser cualquier número positivo)\n",
        "aproximacion = numero / 2\n",
        "\n",
        "# Precisión deseada para la aproximación\n",
        "precision = 0.0001\n",
        "\n",
        "# Iterar hasta que la diferencia entre la aproximación actual y la siguiente sea menor que la precisión\n",
        "while abs(aproximacion * aproximacion - numero) > precision:\n",
        "    aproximacion = 0.5 * (aproximacion + numero / aproximacion)\n",
        "\n",
        "# Imprimir el resultado\n",
        "print(f\"La raíz cuadrada de {numero} es aproximadamente {aproximacion}\")\n"
      ],
      "metadata": {
        "colab": {
          "base_uri": "https://localhost:8080/"
        },
        "id": "Z7GJNaI1NqtZ",
        "outputId": "f246868c-491a-4da7-bc43-1e08ac2adc39"
      },
      "execution_count": null,
      "outputs": [
        {
          "output_type": "stream",
          "name": "stdout",
          "text": [
            "Ingresa un número: 64\n",
            "La raíz cuadrada de 64.0 es aproximadamente 8.000001273385879\n"
          ]
        }
      ]
    },
    {
      "cell_type": "markdown",
      "source": [
        "# Programa 2: Ecuación de segundo grado"
      ],
      "metadata": {
        "id": "sE5gKwnZPHNJ"
      }
    },
    {
      "cell_type": "code",
      "source": [
        "# 2 Resolviendo una ecuación de segundo grado\n",
        "import math\n",
        "\n",
        "# Función para calcular las raíces de una ecuación cuadrática\n",
        "def calcular_raices(a, b, c):\n",
        "    discriminante = b**2 - 4*a*c\n",
        "\n",
        "    if discriminante > 0:\n",
        "        raiz1 = (-b + math.sqrt(discriminante)) / (2*a)\n",
        "        raiz2 = (-b - math.sqrt(discriminante)) / (2*a)\n",
        "        return raiz1, raiz2\n",
        "    elif discriminante == 0:\n",
        "        raiz_unica = -b / (2*a)\n",
        "        return raiz_unica\n",
        "    else:\n",
        "        # Raíces complejas\n",
        "        parte_real = -b / (2*a)\n",
        "        parte_imaginaria = math.sqrt(abs(discriminante)) / (2*a)\n",
        "        raiz1 = complex(parte_real, parte_imaginaria)\n",
        "        raiz2 = complex(parte_real, -parte_imaginaria)\n",
        "        return raiz1, raiz2\n",
        "\n",
        "# Función para resolver la ecuación de segundo grado\n",
        "def resolver_ecuacion(a, b, c):\n",
        "    raices = calcular_raices(a, b, c)\n",
        "    if isinstance(raices, tuple):\n",
        "        return f\"Las raíces de la ecuación son: x1 = {raices[0]}, x2 = {raices[1]}\"\n",
        "    else:\n",
        "        return f\"La única raíz de la ecuación es: x = {raices}\"\n",
        "\n",
        "# Coeficientes de la ecuación cuadrática (ax^2 + bx + c)\n",
        "a = float(input(\"Ingrese el coeficiente 'a': \"))\n",
        "b = float(input(\"Ingrese el coeficiente 'b': \"))\n",
        "c = float(input(\"Ingrese el coeficiente 'c': \"))\n",
        "\n",
        "resultado = resolver_ecuacion(a, b, c)\n",
        "print(resultado)\n"
      ],
      "metadata": {
        "id": "8uW_GMG3NERt"
      },
      "execution_count": null,
      "outputs": []
    },
    {
      "cell_type": "code",
      "source": [
        "# 2 Resolviendo una ecuación de segundo grado, sin usar el módulo math\n",
        "# Función para calcular las raíces de una ecuación cuadrática\n",
        "def calcular_raices(a, b, c):\n",
        "    discriminante = b**2 - 4*a*c\n",
        "\n",
        "    if discriminante > 0:\n",
        "        raiz1 = (-b + discriminante**0.5) / (2*a)\n",
        "        raiz2 = (-b - discriminante**0.5) / (2*a)\n",
        "        return raiz1, raiz2\n",
        "    elif discriminante == 0:\n",
        "        raiz_unica = -b / (2*a)\n",
        "        return raiz_unica\n",
        "    else:\n",
        "        # Raíces complejas\n",
        "        parte_real = -b / (2*a)\n",
        "        parte_imaginaria = (abs(discriminante)**0.5) / (2*a)\n",
        "        raiz1 = complex(parte_real, parte_imaginaria)\n",
        "        raiz2 = complex(parte_real, -parte_imaginaria)\n",
        "        return raiz1, raiz2\n",
        "\n",
        "# Función para resolver la ecuación de segundo grado\n",
        "def resolver_ecuacion(a, b, c):\n",
        "    raices = calcular_raices(a, b, c)\n",
        "    if isinstance(raices, tuple):\n",
        "        return f\"Las raíces de la ecuación son: x1 = {raices[0]}, x2 = {raices[1]}\"\n",
        "    else:\n",
        "        return f\"La única raíz de la ecuación es: x = {raices}\"\n",
        "\n",
        "# Coeficientes de la ecuación cuadrática (ax^2 + bx + c)\n",
        "a = float(input(\"Ingrese el coeficiente 'a': \"))\n",
        "b = float(input(\"Ingrese el coeficiente 'b': \"))\n",
        "c = float(input(\"Ingrese el coeficiente 'c': \"))\n",
        "\n",
        "resultado = resolver_ecuacion(a, b, c)\n",
        "print(resultado)\n"
      ],
      "metadata": {
        "id": "K-E0CZHzNEOe"
      },
      "execution_count": null,
      "outputs": []
    },
    {
      "cell_type": "markdown",
      "source": [
        "# Programa 3, Calculo del número pi"
      ],
      "metadata": {
        "id": "HbdcIDJDPNBU"
      }
    },
    {
      "cell_type": "code",
      "source": [
        "import random\n",
        "\n",
        "def calcular_pi(aproximaciones):\n",
        "    puntos_en_circulo = 0\n",
        "    total_puntos = 0\n",
        "\n",
        "    for _ in range(aproximaciones):\n",
        "        x = random.uniform(0, 1)\n",
        "        y = random.uniform(0, 1)\n",
        "        distancia = x**2 + y**2\n",
        "\n",
        "        if distancia <= 1:\n",
        "            puntos_en_circulo += 1\n",
        "\n",
        "        total_puntos += 1\n",
        "\n",
        "    pi_aproximado = 4 * (puntos_en_circulo / total_puntos)\n",
        "    return pi_aproximado\n",
        "\n",
        "# Cambia el valor de 'aproximaciones' para aumentar la precisión.\n",
        "aproximaciones = 1000000\n",
        "pi_estimado = calcular_pi(aproximaciones)\n",
        "\n",
        "print(f\"Valor estimado de pi con {aproximaciones} aproximaciones: {pi_estimado}\")\n"
      ],
      "metadata": {
        "colab": {
          "base_uri": "https://localhost:8080/"
        },
        "id": "Xc0PyAotNEM6",
        "outputId": "340bd424-e876-4d6f-e4fa-a1cb29062a65"
      },
      "execution_count": null,
      "outputs": [
        {
          "output_type": "stream",
          "name": "stdout",
          "text": [
            "Valor estimado de pi con 1000000 aproximaciones: 3.138988\n"
          ]
        }
      ]
    },
    {
      "cell_type": "code",
      "source": [
        "def calcular_pi_leibniz(n):\n",
        "    suma = 0\n",
        "    for i in range(n):\n",
        "        termino = (-1) ** i / (2 * i + 1)\n",
        "        suma += termino\n",
        "    pi_aproximado = 4 * suma\n",
        "    return pi_aproximado\n",
        "\n",
        "# Cambia el valor de 'n' para aumentar la precisión.\n",
        "n = 100000\n",
        "pi_estimado = calcular_pi_leibniz(n)\n",
        "\n",
        "print(f\"Valor estimado de pi con {n} términos de la serie de Leibniz: {pi_estimado}\")\n"
      ],
      "metadata": {
        "colab": {
          "base_uri": "https://localhost:8080/"
        },
        "id": "NFab6tn1P3HL",
        "outputId": "ba0dc91d-d1e1-42e2-890a-35c082371832"
      },
      "execution_count": null,
      "outputs": [
        {
          "output_type": "stream",
          "name": "stdout",
          "text": [
            "Valor estimado de pi con 100000 términos de la serie de Leibniz: 3.1415826535897198\n"
          ]
        }
      ]
    },
    {
      "cell_type": "markdown",
      "source": [
        "# Programa 4, Calculando el Factorial de un número"
      ],
      "metadata": {
        "id": "7a2zyAw-P43V"
      }
    },
    {
      "cell_type": "code",
      "source": [
        "import math\n",
        "\n",
        "def calcular_factorial_con_math(numero):\n",
        "    if numero < 0:\n",
        "        return \"El factorial no está definido para números negativos\"\n",
        "    elif numero == 0:\n",
        "        return 1\n",
        "    else:\n",
        "        return math.factorial(numero)\n",
        "\n",
        "numero = int(input(\"Ingresa un número para calcular su factorial: \"))\n",
        "resultado = calcular_factorial_con_math(numero)\n",
        "print(f\"El factorial de {numero} es {resultado}\")\n"
      ],
      "metadata": {
        "colab": {
          "base_uri": "https://localhost:8080/"
        },
        "id": "BeawVeAvQW6e",
        "outputId": "3f2b3582-35a6-4202-e668-33f67254fbbd"
      },
      "execution_count": null,
      "outputs": [
        {
          "output_type": "stream",
          "name": "stdout",
          "text": [
            "Ingresa un número para calcular su factorial: 3\n",
            "El factorial de 3 es 6\n"
          ]
        }
      ]
    },
    {
      "cell_type": "code",
      "source": [
        "def calcular_factorial_sin_math(numero):\n",
        "    if numero < 0:\n",
        "        return \"El factorial no está definido para números negativos\"\n",
        "    elif numero == 0:\n",
        "        return 1\n",
        "    else:\n",
        "        factorial = 1\n",
        "        for i in range(1, numero + 1):\n",
        "            factorial *= i\n",
        "        return factorial\n",
        "\n",
        "numero = int(input(\"Ingresa un número para calcular su factorial: \"))\n",
        "resultado = calcular_factorial_sin_math(numero)\n",
        "print(f\"El factorial de {numero} es {resultado}\")\n"
      ],
      "metadata": {
        "colab": {
          "base_uri": "https://localhost:8080/"
        },
        "id": "wjtrZkfnQW4f",
        "outputId": "6115a5ea-a091-4eca-cb18-b9c2d56a72ee"
      },
      "execution_count": null,
      "outputs": [
        {
          "output_type": "stream",
          "name": "stdout",
          "text": [
            "Ingresa un número para calcular su factorial: 34\n",
            "El factorial de 34 es 295232799039604140847618609643520000000\n"
          ]
        }
      ]
    },
    {
      "cell_type": "markdown",
      "source": [
        "Programa 5  contar las veces que se repite un número dentro de una lista de números enteros"
      ],
      "metadata": {
        "id": "qc3oM8OtQdtO"
      }
    },
    {
      "cell_type": "code",
      "source": [
        "def contar_repeticiones(lista, numero):\n",
        "    contador = 0\n",
        "    for elemento in lista:\n",
        "        if elemento == numero:\n",
        "            contador += 1\n",
        "    return contador\n",
        "\n",
        "# Ejemplo de uso:\n",
        "lista_numeros = [1, 2, 3, 4, 2, 5, 2, 6, 2, 7]\n",
        "numero_buscar = 2\n",
        "\n",
        "repeticiones = contar_repeticiones(lista_numeros, numero_buscar)\n",
        "\n",
        "print(f\"El número {numero_buscar} se repite {repeticiones} veces en la lista.\")\n"
      ],
      "metadata": {
        "colab": {
          "base_uri": "https://localhost:8080/"
        },
        "id": "PMHTQbJgQW1j",
        "outputId": "5f9f0ea0-fda5-4c33-8edc-a9030c642293"
      },
      "execution_count": null,
      "outputs": [
        {
          "output_type": "stream",
          "name": "stdout",
          "text": [
            "El número 2 se repite 4 veces en la lista.\n"
          ]
        }
      ]
    },
    {
      "cell_type": "markdown",
      "source": [
        "# Programa 6, Programa que muestra 2 números grandes consecutivos de una lista  "
      ],
      "metadata": {
        "id": "wf7PMoDuQ-bj"
      }
    },
    {
      "cell_type": "code",
      "source": [
        "def encontrar_numeros_consecutivos(lista, umbral):\n",
        "    numeros_consecutivos = []\n",
        "\n",
        "    for i in range(len(lista) - 1):\n",
        "        if lista[i] > umbral and lista[i + 1] > umbral:\n",
        "            numeros_consecutivos.append((lista[i], lista[i + 1]))\n",
        "\n",
        "    return numeros_consecutivos\n",
        "\n",
        "# Ejemplo de uso\n",
        "lista_de_numeros = [10, 15, 20, 25, 5, 30, 35,35, 40]\n",
        "umbral = 20\n",
        "\n",
        "numeros_consecutivos = encontrar_numeros_consecutivos(lista_de_numeros, umbral)\n",
        "\n",
        "if numeros_consecutivos:\n",
        "    for num1, num2 in numeros_consecutivos:\n",
        "        print(f\"Los números consecutivos grandes son: {num1} y {num2}\")\n",
        "else:\n",
        "    print(\"No se encontraron números consecutivos grandes en la lista.\")\n"
      ],
      "metadata": {
        "colab": {
          "base_uri": "https://localhost:8080/"
        },
        "id": "tqZ2828FQ-IE",
        "outputId": "1d76bc4e-b860-4a92-8bb1-ad8e16d5f460"
      },
      "execution_count": null,
      "outputs": [
        {
          "output_type": "stream",
          "name": "stdout",
          "text": [
            "Los números consecutivos grandes son: 30 y 35\n",
            "Los números consecutivos grandes son: 35 y 35\n",
            "Los números consecutivos grandes son: 35 y 40\n"
          ]
        }
      ]
    },
    {
      "cell_type": "markdown",
      "source": [
        "# Programa 7, Devolver el indice del procesador menor de una lista de cadenas\n"
      ],
      "metadata": {
        "id": "YsAazmW5UYR6"
      }
    },
    {
      "cell_type": "code",
      "source": [
        "def indice_procesador_menor(lista_procesadores):\n",
        "    if not lista_procesadores:\n",
        "        return None  # Manejamos el caso de una lista vacía\n",
        "\n",
        "    menor_longitud = len(lista_procesadores[0])\n",
        "    indice_menor = 0\n",
        "\n",
        "    for i in range(1, len(lista_procesadores)):\n",
        "        longitud_actual = len(lista_procesadores[i])\n",
        "        if longitud_actual < menor_longitud:\n",
        "            menor_longitud = longitud_actual\n",
        "            indice_menor = i\n",
        "\n",
        "    return indice_menor\n",
        "\n",
        "# Ejemplo de uso:\n",
        "procesadores = [\"Intel Core i7\", \"AMD Ryzen 5\", \"Intel Core i5\", \"AMD Ryzen 3\", \"Intel Core i9\"]\n",
        "indice_menor = indice_procesador_menor(procesadores)\n",
        "\n",
        "if indice_menor is not None:\n",
        "    print(f\"El procesador más corto se encuentra en el índice {indice_menor}: {procesadores[indice_menor]}\")\n",
        "else:\n",
        "    print(\"La lista de procesadores está vacía.\")\n"
      ],
      "metadata": {
        "colab": {
          "base_uri": "https://localhost:8080/"
        },
        "id": "Vl1gl_kgQ-FI",
        "outputId": "d7b3fa14-4fcc-4f21-9be2-dff7254d6a25"
      },
      "execution_count": null,
      "outputs": [
        {
          "output_type": "stream",
          "name": "stdout",
          "text": [
            "El procesador más corto se encuentra en el índice 1: AMD Ryzen 5\n"
          ]
        }
      ]
    },
    {
      "cell_type": "code",
      "source": [
        "# Calse del dia 25 de a gosto de dlde 20223\n",
        "\n",
        "\n",
        "\n",
        "tupla0 = (34,3, 56)\n",
        "tupla = (56,45,\"Mexico\")\n",
        "\n",
        "print(tupla[0])\n",
        "print)=(tupla [2])\n",
        "print)=(tupla [:3]) #  se imprime ( n-1  )\n",
        "print(max[0])\n",
        "\n",
        "\n",
        "\n",
        "\n"
      ],
      "metadata": {
        "id": "NNRMazn1QW0I",
        "outputId": "bf8c4c2b-ff31-41dc-c2e4-814d04ff8544",
        "colab": {
          "base_uri": "https://localhost:8080/",
          "height": 140
        }
      },
      "execution_count": null,
      "outputs": [
        {
          "output_type": "error",
          "ename": "SyntaxError",
          "evalue": "ignored",
          "traceback": [
            "\u001b[0;36m  File \u001b[0;32m\"<ipython-input-4-45dc091b9e30>\"\u001b[0;36m, line \u001b[0;32m9\u001b[0m\n\u001b[0;31m    print)=(tupla [2])\u001b[0m\n\u001b[0m         ^\u001b[0m\n\u001b[0;31mSyntaxError\u001b[0m\u001b[0;31m:\u001b[0m unmatched ')'\n"
          ]
        }
      ]
    },
    {
      "cell_type": "code",
      "source": [
        "#Convertir tuplas a listas\n",
        "\n",
        "\n",
        "# Calse del dia 25 de a gosto de dlde 20223\n",
        "\n",
        "\n",
        "\n",
        "#tupla0 = (34,3, 56)\n",
        "tupla = (56,45,\"Mexico\")\n",
        "\n",
        "#print(tupla0[0])\n",
        "#print=(tupla [2])\n",
        "#print=(tupla [:3]) #  se imprime ( n-1  )\n",
        "#print(max[0])\n",
        "\n",
        "\n",
        "lista = list(tupla)\n",
        "print(lista)\n",
        "\n",
        "\n",
        "tupla1 = tuple(lista)\n",
        "print(lista )\n",
        "\n",
        "print(45 in tupla)\n",
        "print(tupla.count(45))\n",
        "\n",
        "\n"
      ],
      "metadata": {
        "id": "TrqvENx4QWSc",
        "outputId": "2ea40720-028e-4b0c-9992-f2686c1ef99c",
        "colab": {
          "base_uri": "https://localhost:8080/",
          "height": 245
        }
      },
      "execution_count": null,
      "outputs": [
        {
          "output_type": "error",
          "ename": "TypeError",
          "evalue": "ignored",
          "traceback": [
            "\u001b[0;31m---------------------------------------------------------------------------\u001b[0m",
            "\u001b[0;31mTypeError\u001b[0m                                 Traceback (most recent call last)",
            "\u001b[0;32m<ipython-input-15-158a36c6d3fb>\u001b[0m in \u001b[0;36m<cell line: 18>\u001b[0;34m()\u001b[0m\n\u001b[1;32m     16\u001b[0m \u001b[0;34m\u001b[0m\u001b[0m\n\u001b[1;32m     17\u001b[0m \u001b[0mlista\u001b[0m \u001b[0;34m=\u001b[0m \u001b[0mlist\u001b[0m\u001b[0;34m(\u001b[0m\u001b[0mtupla\u001b[0m\u001b[0;34m)\u001b[0m\u001b[0;34m\u001b[0m\u001b[0;34m\u001b[0m\u001b[0m\n\u001b[0;32m---> 18\u001b[0;31m \u001b[0mprint\u001b[0m\u001b[0;34m(\u001b[0m\u001b[0mlista\u001b[0m\u001b[0;34m)\u001b[0m\u001b[0;34m\u001b[0m\u001b[0;34m\u001b[0m\u001b[0m\n\u001b[0m\u001b[1;32m     19\u001b[0m \u001b[0;34m\u001b[0m\u001b[0m\n\u001b[1;32m     20\u001b[0m \u001b[0;34m\u001b[0m\u001b[0m\n",
            "\u001b[0;31mTypeError\u001b[0m: 'tuple' object is not callable"
          ]
        }
      ]
    },
    {
      "cell_type": "code",
      "source": [
        "print (45 in tupla)\n",
        "\n",
        "\n",
        "print(tupla.coun(45))\n",
        "\n",
        "# Aignar valores de la tupla a varios daos\n",
        "\n",
        "datos(\"pedro\", 4, 10 , º978)\n",
        "nombre, dia , mes and = datos\n",
        "\n",
        "print(str(nombre)+ ' '+  str(datos[0]), )"
      ],
      "metadata": {
        "id": "atnLnuB000D1"
      },
      "execution_count": null,
      "outputs": []
    },
    {
      "cell_type": "code",
      "source": [],
      "metadata": {
        "id": "Sa7dbv2K00Az"
      },
      "execution_count": null,
      "outputs": []
    },
    {
      "cell_type": "code",
      "source": [
        "diccionario = {[ 'a0': 23, 0 a1: '89,'. 'a3: 90 ']}\n",
        "\n",
        "# Por lo tanto los diccionarios son dinamicos puesto que pueden camibar los valores d mientrara s se estan ejecutando en el programa\n",
        "\n",
        "\n",
        "\n",
        "\n",
        "# ES una ley entre elneguajes de programa cion el hech des  saber como leer una lista, diccionario oo tupla\n",
        "\n",
        "\n",
        "print( ['A2'])\n"
      ],
      "metadata": {
        "id": "-IG6Q-7g0z9w"
      },
      "execution_count": null,
      "outputs": []
    },
    {
      "cell_type": "markdown",
      "source": [
        "# PAra revisar documentacion de python o de cuaquier lenguaje es necsario de metrp de w3 schools.org buscar e"
      ],
      "metadata": {
        "id": "zpK7cBY85O1P"
      }
    },
    {
      "cell_type": "code",
      "source": [
        "# Todo a quelo ue necesistes e lo puese busacar dentro de la web"
      ],
      "metadata": {
        "id": "hZu3AF2f0z6Q"
      },
      "execution_count": null,
      "outputs": []
    },
    {
      "cell_type": "code",
      "source": [
        "# Antes d ealgun timepo java podia quedarse c con nuestro codigos dejajv, en realidad cualquiera  ue quiera puede quedarse con nuestro codigo\n",
        "\n",
        "\n",
        " en minneria de datos pu  a gente puece quedarse co mo nuestro excel puede trabarse con python, python ahora sera mentr de excel dentro de algun tiempo pero micrsosft querra aapoderarse del lenguaje\n",
        "\n",
        "\n",
        " w3 da r un nivel avanzeado aunque no uintermetdio\n",
        " # el profesor da  un niea vanzado intermedio\n",
        "\n",
        "\n",
        " # w3schooll\n",
        "s\n",
        "\n",
        "#\n",
        " codigo\n",
        "\n",
        " #"
      ],
      "metadata": {
        "id": "XmgcwWCA0z0O"
      },
      "execution_count": null,
      "outputs": []
    },
    {
      "cell_type": "code",
      "source": [
        ", existe dentro del pirmer parcial , la menra de poder resolver y elegig rcual es lmayor y acual es mayor,  elegirremos la funcion de compeejiddada para ere sver e porbe a\n",
        "\n",
        "\n",
        ".3 dersarrollar un algritmo que regreese la sma maxismo de valores consecutivosl enuna sucesion numeric ax1 , c1  x,2 x3\n",
        "\n",
        "\n",
        "ejemplo 27, 6 .6 4o , 1 , -2  15 , 28 , 9 , 24 , 4 .31 .00 el sresoiltdo seria una de las isguente forma 21, 3 ,3 13 , 15 ..5 . 23 .33 se manea una lista que seran vetres\n",
        "\n",
        "\n",
        " --\n",
        "\n",
        "\n",
        "\n",
        " eñ ,a gramde de tpdpsp ñps mi,per # ro,era `prìes es ecptmrar tpdapp s ñps vañpres de ñas si,as cmsecitovas u escpger ña # Prbelma"
      ],
      "metadata": {
        "id": "5xcuyT3Y6MLd"
      },
      "execution_count": null,
      "outputs": []
    },
    {
      "cell_type": "code",
      "source": [
        ".\n",
        "\n",
        "¿ç como devolver la suma maimo de un grupo devaore, cas o de sumar determinados numeros o , por que una suma no puede o noser mansg grande...\n",
        "\n",
        "4como sumar y encontar la suma macimo entre dos numro sucesivos, de que manera logragoo\n",
        "\n",
        "\n",
        "\n",
        "ademas de lograrglo el ealgoritmo dever se refeciente, lagunos son efeicentes,ptros solamente consumen mucha memoria\n",
        "\n",
        "\n",
        "\n",
        "\n",
        "#\n",
        "\n",
        " # primer forma de solucion , colocar dentro  de una matriz sobre la diagromnal todos lo numeros que se uestran dentro den  l a slista\n",
        "  . de dode sale el numero colocando lo snumeros de forma escalonarda\n",
        " uma 4s"
      ],
      "metadata": {
        "id": "x3tMJFSZ6z2L"
      },
      "execution_count": null,
      "outputs": []
    },
    {
      "cell_type": "code",
      "source": [
        "3 revisar los datos, como transformas rlosdatos,, la matrisz es de dce por doce\n",
        "3 Como hacer qu una list  guarde parte de la diafomnal y la  guarde en la diagona pirncicpla, denro de un arreglo de una matriz\n",
        "\n",
        "\n"
      ],
      "metadata": {
        "id": "wEIdknQp6zyu"
      },
      "execution_count": null,
      "outputs": []
    },
    {
      "cell_type": "code",
      "source": [
        "# matriz [][] = {{1,2},{3,4}}\n",
        "# print # ESta sintaxis set esta mala l parecer\n",
        "\n",
        "# Este codigo no funciona\n",
        "\n",
        "# De que manera puede excel puede ayudarme a compilar el cdigo que no funciona a en python ?\n",
        "\n",
        "# en todo cao brir exel y qtratar de probar algans funciones  de enetro de la funcion de exacel  debido a auna errror de sintaxis entre corchetes ey llaves\n",
        "\n",
        "\n",
        "#"
      ],
      "metadata": {
        "id": "ot7H0RVF6zw4"
      },
      "execution_count": null,
      "outputs": []
    },
    {
      "cell_type": "code",
      "source": [
        ". 2lista = [27,6,-5021.-2 ,14 l-16-67 .212 . 22 -21,\n",
        "\n",
        "              3Iterar una lista de 12 numeros, ]\n",
        "\n",
        "\n",
        "# recorrer la matriz\n",
        "\n",
        "\n",
        "print  (\" A =\", A)\n",
        "print(\" A[]\")\n",
        "\n",
        "column = [];\n",
        "    for row in A:\n",
        "        column\n",
        "\n",
        "\n"
      ],
      "metadata": {
        "id": "2imEVheP63Iz"
      },
      "execution_count": null,
      "outputs": []
    },
    {
      "cell_type": "code",
      "source": [
        " 3 sumas consecutivas\n",
        "\n",
        "\n",
        " lista = [27,6,-50,21,-3.14.16 ] #  agregar lso nuersos de l digaonla  dentro de al irmera tupla, para poder logar el pimer a arregloa cosniderarr\n",
        "\n",
        "\n",
        " # en python no existen arreglos, pero exitesn listas ,, ohhhhh\n",
        "\n",
        "\n",
        "\n",
        "   #.3 emtre las dos primeras listas\n",
        "\n"
      ],
      "metadata": {
        "id": "zMMBU7uT63GN"
      },
      "execution_count": null,
      "outputs": []
    },
    {
      "cell_type": "code",
      "source": [
        "\n",
        "\n",
        "\n",
        "# Aaban de  aramr una matriz de aguan sarrglos en 2 o en 3 de\n",
        "\n",
        "# es una lista con l istas, o c cap,,\n",
        "\n",
        "ne\n",
        "\n",
        "\n",
        "print[matriz[1][\n",
        "\n",
        "                3 una matriz mutada es una lista que tine lstas\n",
        "\n",
        "\n",
        "                3 àra poderobetener unba lista de una  fillase necesia nnn a a una\n",
        "\n",
        "                 +\n",
        "\n",
        "                3 mecesitamos obeenter el nmero treinta,  tres dentr de nuestra piimeralista\n",
        "\n",
        "\n",
        "\n",
        "\n",
        "\n",
        "\n",
        "                # EStp fiu todo una sucesion de pensamiento para poder llegar ala solucion ¡, undesasrrooolador de sotwares, elos\n",
        "\n",
        "\n",
        "                # quilo desarrolladores de d¡fotaware quieren una perosna que sepan como resoler un problema de una forma en la cual nadie mas pe\n",
        "\n",
        "                3 tarea, asa el algorimo a al soicin que rems dea cuerdo a nuestro progmaa\n",
        "\n",
        "]]"
      ],
      "metadata": {
        "id": "3pxPyor063EV"
      },
      "execution_count": null,
      "outputs": []
    },
    {
      "cell_type": "code",
      "source": [],
      "metadata": {
        "id": "kWzz9K4A63CJ"
      },
      "execution_count": null,
      "outputs": []
    },
    {
      "cell_type": "code",
      "source": [],
      "metadata": {
        "id": "brWLc0EI62_z"
      },
      "execution_count": null,
      "outputs": []
    },
    {
      "cell_type": "code",
      "source": [],
      "metadata": {
        "id": "bYc5EkJD628S"
      },
      "execution_count": null,
      "outputs": []
    },
    {
      "cell_type": "code",
      "source": [],
      "metadata": {
        "id": "CIdU0gdH626L"
      },
      "execution_count": null,
      "outputs": []
    },
    {
      "cell_type": "code",
      "source": [],
      "metadata": {
        "id": "__tYf7Mi6zuu"
      },
      "execution_count": null,
      "outputs": []
    },
    {
      "cell_type": "code",
      "source": [],
      "metadata": {
        "id": "gSci0A0w6zsf"
      },
      "execution_count": null,
      "outputs": []
    },
    {
      "cell_type": "code",
      "source": [],
      "metadata": {
        "id": "pzSmWx_H6zqp"
      },
      "execution_count": null,
      "outputs": []
    },
    {
      "cell_type": "code",
      "source": [],
      "metadata": {
        "id": "SpybVGOJ6zor"
      },
      "execution_count": null,
      "outputs": []
    },
    {
      "cell_type": "code",
      "source": [],
      "metadata": {
        "id": "phGz9li56zmx"
      },
      "execution_count": null,
      "outputs": []
    },
    {
      "cell_type": "code",
      "source": [],
      "metadata": {
        "id": "5Y3fZtkG6zkm"
      },
      "execution_count": null,
      "outputs": []
    },
    {
      "cell_type": "code",
      "source": [],
      "metadata": {
        "id": "292knzPH6zis"
      },
      "execution_count": null,
      "outputs": []
    },
    {
      "cell_type": "code",
      "source": [],
      "metadata": {
        "id": "tmMqkPs96zgq"
      },
      "execution_count": null,
      "outputs": []
    },
    {
      "cell_type": "code",
      "source": [],
      "metadata": {
        "id": "lyDPM_-m6zU_"
      },
      "execution_count": null,
      "outputs": []
    },
    {
      "cell_type": "code",
      "source": [],
      "metadata": {
        "id": "36doSg1c6zRY"
      },
      "execution_count": null,
      "outputs": []
    },
    {
      "cell_type": "code",
      "source": [],
      "metadata": {
        "id": "CdKUFeZH6zPh"
      },
      "execution_count": null,
      "outputs": []
    },
    {
      "cell_type": "code",
      "source": [],
      "metadata": {
        "id": "r2j8a2Hw6zNc"
      },
      "execution_count": null,
      "outputs": []
    },
    {
      "cell_type": "code",
      "source": [],
      "metadata": {
        "id": "86vAcS4i6zLQ"
      },
      "execution_count": null,
      "outputs": []
    },
    {
      "cell_type": "code",
      "source": [],
      "metadata": {
        "id": "wkU3Ua2L6zJP"
      },
      "execution_count": null,
      "outputs": []
    },
    {
      "cell_type": "code",
      "source": [],
      "metadata": {
        "id": "rpCaiCkW6zHg"
      },
      "execution_count": null,
      "outputs": []
    },
    {
      "cell_type": "code",
      "source": [],
      "metadata": {
        "id": "FKsXQ4R26zFm"
      },
      "execution_count": null,
      "outputs": []
    },
    {
      "cell_type": "code",
      "source": [],
      "metadata": {
        "id": "Yqp8ld756zD2"
      },
      "execution_count": null,
      "outputs": []
    },
    {
      "cell_type": "code",
      "source": [],
      "metadata": {
        "id": "GF_8pcS76zCC"
      },
      "execution_count": null,
      "outputs": []
    },
    {
      "cell_type": "code",
      "source": [],
      "metadata": {
        "id": "RL-wLrFC6zAW"
      },
      "execution_count": null,
      "outputs": []
    },
    {
      "cell_type": "code",
      "source": [],
      "metadata": {
        "id": "ZbtnAFO66MJq"
      },
      "execution_count": null,
      "outputs": []
    },
    {
      "cell_type": "code",
      "source": [],
      "metadata": {
        "id": "kzE_urSR6MH0"
      },
      "execution_count": null,
      "outputs": []
    },
    {
      "cell_type": "code",
      "source": [],
      "metadata": {
        "id": "F9bzvLhF6MFb"
      },
      "execution_count": null,
      "outputs": []
    },
    {
      "cell_type": "code",
      "source": [],
      "metadata": {
        "id": "T1a7uIEh6MBw"
      },
      "execution_count": null,
      "outputs": []
    },
    {
      "cell_type": "code",
      "source": [],
      "metadata": {
        "id": "gfnRhJGq6MAB"
      },
      "execution_count": null,
      "outputs": []
    },
    {
      "cell_type": "code",
      "source": [],
      "metadata": {
        "id": "K-fj3BMO6L91"
      },
      "execution_count": null,
      "outputs": []
    },
    {
      "cell_type": "code",
      "source": [],
      "metadata": {
        "id": "uc5elNBV6L8N"
      },
      "execution_count": null,
      "outputs": []
    },
    {
      "cell_type": "code",
      "source": [],
      "metadata": {
        "id": "ECqdWq5D6L6i"
      },
      "execution_count": null,
      "outputs": []
    },
    {
      "cell_type": "code",
      "source": [],
      "metadata": {
        "id": "ylW4quVC6L4-"
      },
      "execution_count": null,
      "outputs": []
    },
    {
      "cell_type": "code",
      "source": [],
      "metadata": {
        "id": "N5jf4Gcf6L3D"
      },
      "execution_count": null,
      "outputs": []
    },
    {
      "cell_type": "code",
      "source": [],
      "metadata": {
        "id": "OKGZ8RrM6L0U"
      },
      "execution_count": null,
      "outputs": []
    },
    {
      "cell_type": "code",
      "source": [],
      "metadata": {
        "id": "-SVj_QWu6Lxn"
      },
      "execution_count": null,
      "outputs": []
    },
    {
      "cell_type": "code",
      "source": [],
      "metadata": {
        "id": "aaLScJwY6Lv9"
      },
      "execution_count": null,
      "outputs": []
    },
    {
      "cell_type": "code",
      "source": [],
      "metadata": {
        "id": "h2YpCaKK5lEQ"
      },
      "execution_count": null,
      "outputs": []
    },
    {
      "cell_type": "code",
      "source": [],
      "metadata": {
        "id": "Iz1OzZU85lCt"
      },
      "execution_count": null,
      "outputs": []
    },
    {
      "cell_type": "code",
      "source": [],
      "metadata": {
        "id": "R6qTu8fe5lAU"
      },
      "execution_count": null,
      "outputs": []
    },
    {
      "cell_type": "code",
      "source": [],
      "metadata": {
        "id": "XjQO7Q7L5k-0"
      },
      "execution_count": null,
      "outputs": []
    },
    {
      "cell_type": "code",
      "source": [],
      "metadata": {
        "id": "-ZSP5l-f5k5R"
      },
      "execution_count": null,
      "outputs": []
    },
    {
      "cell_type": "code",
      "source": [],
      "metadata": {
        "id": "ggB44HeG5k3y"
      },
      "execution_count": null,
      "outputs": []
    },
    {
      "cell_type": "code",
      "source": [],
      "metadata": {
        "id": "IYGxhb2G5k1d"
      },
      "execution_count": null,
      "outputs": []
    },
    {
      "cell_type": "code",
      "source": [],
      "metadata": {
        "id": "XRxkMDnb5kz3"
      },
      "execution_count": null,
      "outputs": []
    },
    {
      "cell_type": "code",
      "source": [],
      "metadata": {
        "id": "LiTSaZvp5kvr"
      },
      "execution_count": null,
      "outputs": []
    },
    {
      "cell_type": "code",
      "source": [],
      "metadata": {
        "id": "vWlDG3JT5kuG"
      },
      "execution_count": null,
      "outputs": []
    },
    {
      "cell_type": "code",
      "source": [],
      "metadata": {
        "id": "2omMpThs5kqH"
      },
      "execution_count": null,
      "outputs": []
    },
    {
      "cell_type": "code",
      "source": [],
      "metadata": {
        "id": "h_Q-wVuG5koc"
      },
      "execution_count": null,
      "outputs": []
    },
    {
      "cell_type": "code",
      "source": [],
      "metadata": {
        "id": "uH6MBjde5kEj"
      },
      "execution_count": null,
      "outputs": []
    },
    {
      "cell_type": "code",
      "source": [],
      "metadata": {
        "id": "IbxxMaM00zwq"
      },
      "execution_count": null,
      "outputs": []
    }
  ]
}