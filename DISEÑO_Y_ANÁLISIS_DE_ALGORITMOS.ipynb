{
  "nbformat": 4,
  "nbformat_minor": 0,
  "metadata": {
    "colab": {
      "provenance": [],
      "authorship_tag": "ABX9TyNYkJkjeDlRftoG6wUHqEQN",
      "include_colab_link": true
    },
    "kernelspec": {
      "name": "python3",
      "display_name": "Python 3"
    },
    "language_info": {
      "name": "python"
    }
  },
  "cells": [
    {
      "cell_type": "markdown",
      "metadata": {
        "id": "view-in-github",
        "colab_type": "text"
      },
      "source": [
        "<a href=\"https://colab.research.google.com/github/LeonardoAlunaM/COMPUTADORAS-Y-PROGRAMACI-N-2O23-/blob/main-COMPUTADORAS-Y-PROGTRAMACI%C3%93N-2023/DISE%C3%91O_Y_AN%C3%81LISIS_DE_ALGORITMOS.ipynb\" target=\"_parent\"><img src=\"https://colab.research.google.com/assets/colab-badge.svg\" alt=\"Open In Colab\"/></a>"
      ]
    },
    {
      "cell_type": "markdown",
      "source": [
        "# Programa 1, Cálculo de la raíz cuadrada"
      ],
      "metadata": {
        "id": "6BHhrZn3O_xc"
      }
    },
    {
      "cell_type": "code",
      "execution_count": 3,
      "metadata": {
        "colab": {
          "base_uri": "https://localhost:8080/"
        },
        "id": "XLAEVrxjLbvn",
        "outputId": "6a4befb5-842b-4877-9b02-7203bd00a693"
      },
      "outputs": [
        {
          "output_type": "stream",
          "name": "stdout",
          "text": [
            "Ingresa un número: 3\n",
            "La raíz cuadrada de 3.0 es 1.7320508075688772\n"
          ]
        }
      ],
      "source": [
        "# Programa 1\n",
        "# Utilizando la importación del módulo math\n",
        "import math\n",
        "\n",
        "# Solicitar al usuario que ingrese un número\n",
        "numero = float(input(\"Ingresa un número: \"))\n",
        "\n",
        "# Calcular la raíz cuadrada\n",
        "raiz_cuadrada = math.sqrt(numero)\n",
        "\n",
        "# Imprimir el resultado\n",
        "print(f\"La raíz cuadrada de {numero} es {raiz_cuadrada}\")"
      ]
    },
    {
      "cell_type": "code",
      "source": [
        "# Solicitar al usuario que ingrese un número\n",
        "numero = float(input(\"Ingresa un número: \"))\n",
        "\n",
        "# Establecer una suposición inicial para la raíz cuadrada\n",
        "raiz_aproximada = numero / 2  # Puedes elegir otra suposición inicial si lo deseas\n",
        "\n",
        "# Definir la tolerancia para detener la aproximación\n",
        "tolerancia = 1e-6\n",
        "\n",
        "# Iterar hasta que la aproximación sea lo suficientemente cercana\n",
        "while abs(raiz_aproximada * raiz_aproximada - numero) > tolerancia:\n",
        "    raiz_aproximada = 0.5 * (raiz_aproximada + numero / raiz_aproximada)\n",
        "\n",
        "# Imprimir el resultado\n",
        "print(f\"La raíz cuadrada de {numero} es aproximadamente {raiz_aproximada}\")\n"
      ],
      "metadata": {
        "colab": {
          "base_uri": "https://localhost:8080/"
        },
        "id": "_XPoh2CxLjhy",
        "outputId": "d0969f3f-378e-47c8-fd63-a08a42d7f7a0"
      },
      "execution_count": 5,
      "outputs": [
        {
          "output_type": "stream",
          "name": "stdout",
          "text": [
            "Ingresa un número: 78\n",
            "La raíz cuadrada de 78.0 es aproximadamente 8.83176086633058\n"
          ]
        }
      ]
    },
    {
      "cell_type": "code",
      "source": [
        "import math\n",
        "\n",
        "x= float(input(\"Ingresa un número positivo\"))\n",
        "assert x >= 0.0\n",
        "\n",
        "x = math.sqrt(x)\n",
        "print(x)"
      ],
      "metadata": {
        "colab": {
          "base_uri": "https://localhost:8080/"
        },
        "id": "NJdT9yerNEXz",
        "outputId": "6aa160d0-b805-4f4a-ae5a-4ef731ad0249"
      },
      "execution_count": 6,
      "outputs": [
        {
          "output_type": "stream",
          "name": "stdout",
          "text": [
            "Ingresa un número positivo78\n",
            "8.831760866327848\n"
          ]
        }
      ]
    },
    {
      "cell_type": "code",
      "source": [
        "# Método de Newton-Raphson\n",
        "# Solicitar al usuario que ingrese un número\n",
        "numero = float(input(\"Ingresa un número: \"))\n",
        "\n",
        "# Aproximación inicial (puede ser cualquier número positivo)\n",
        "aproximacion = numero / 2\n",
        "\n",
        "# Precisión deseada para la aproximación\n",
        "precision = 0.0001\n",
        "\n",
        "# Iterar hasta que la diferencia entre la aproximación actual y la siguiente sea menor que la precisión\n",
        "while abs(aproximacion * aproximacion - numero) > precision:\n",
        "    aproximacion = 0.5 * (aproximacion + numero / aproximacion)\n",
        "\n",
        "# Imprimir el resultado\n",
        "print(f\"La raíz cuadrada de {numero} es aproximadamente {aproximacion}\")\n"
      ],
      "metadata": {
        "id": "Z7GJNaI1NqtZ"
      },
      "execution_count": null,
      "outputs": []
    },
    {
      "cell_type": "markdown",
      "source": [
        "# Programa 2: Ecuación de segundo grado"
      ],
      "metadata": {
        "id": "sE5gKwnZPHNJ"
      }
    },
    {
      "cell_type": "code",
      "source": [
        "# 2 Resolviendo una ecuación de segundo grado\n",
        "import math\n",
        "\n",
        "# Función para calcular las raíces de una ecuación cuadrática\n",
        "def calcular_raices(a, b, c):\n",
        "    discriminante = b**2 - 4*a*c\n",
        "\n",
        "    if discriminante > 0:\n",
        "        raiz1 = (-b + math.sqrt(discriminante)) / (2*a)\n",
        "        raiz2 = (-b - math.sqrt(discriminante)) / (2*a)\n",
        "        return raiz1, raiz2\n",
        "    elif discriminante == 0:\n",
        "        raiz_unica = -b / (2*a)\n",
        "        return raiz_unica\n",
        "    else:\n",
        "        # Raíces complejas\n",
        "        parte_real = -b / (2*a)\n",
        "        parte_imaginaria = math.sqrt(abs(discriminante)) / (2*a)\n",
        "        raiz1 = complex(parte_real, parte_imaginaria)\n",
        "        raiz2 = complex(parte_real, -parte_imaginaria)\n",
        "        return raiz1, raiz2\n",
        "\n",
        "# Función para resolver la ecuación de segundo grado\n",
        "def resolver_ecuacion(a, b, c):\n",
        "    raices = calcular_raices(a, b, c)\n",
        "    if isinstance(raices, tuple):\n",
        "        return f\"Las raíces de la ecuación son: x1 = {raices[0]}, x2 = {raices[1]}\"\n",
        "    else:\n",
        "        return f\"La única raíz de la ecuación es: x = {raices}\"\n",
        "\n",
        "# Coeficientes de la ecuación cuadrática (ax^2 + bx + c)\n",
        "a = float(input(\"Ingrese el coeficiente 'a': \"))\n",
        "b = float(input(\"Ingrese el coeficiente 'b': \"))\n",
        "c = float(input(\"Ingrese el coeficiente 'c': \"))\n",
        "\n",
        "resultado = resolver_ecuacion(a, b, c)\n",
        "print(resultado)\n"
      ],
      "metadata": {
        "id": "8uW_GMG3NERt"
      },
      "execution_count": null,
      "outputs": []
    },
    {
      "cell_type": "code",
      "source": [
        "# 2 Resolviendo una ecuación de segundo grado, sin usar el módulo math\n",
        "# Función para calcular las raíces de una ecuación cuadrática\n",
        "def calcular_raices(a, b, c):\n",
        "    discriminante = b**2 - 4*a*c\n",
        "\n",
        "    if discriminante > 0:\n",
        "        raiz1 = (-b + discriminante**0.5) / (2*a)\n",
        "        raiz2 = (-b - discriminante**0.5) / (2*a)\n",
        "        return raiz1, raiz2\n",
        "    elif discriminante == 0:\n",
        "        raiz_unica = -b / (2*a)\n",
        "        return raiz_unica\n",
        "    else:\n",
        "        # Raíces complejas\n",
        "        parte_real = -b / (2*a)\n",
        "        parte_imaginaria = (abs(discriminante)**0.5) / (2*a)\n",
        "        raiz1 = complex(parte_real, parte_imaginaria)\n",
        "        raiz2 = complex(parte_real, -parte_imaginaria)\n",
        "        return raiz1, raiz2\n",
        "\n",
        "# Función para resolver la ecuación de segundo grado\n",
        "def resolver_ecuacion(a, b, c):\n",
        "    raices = calcular_raices(a, b, c)\n",
        "    if isinstance(raices, tuple):\n",
        "        return f\"Las raíces de la ecuación son: x1 = {raices[0]}, x2 = {raices[1]}\"\n",
        "    else:\n",
        "        return f\"La única raíz de la ecuación es: x = {raices}\"\n",
        "\n",
        "# Coeficientes de la ecuación cuadrática (ax^2 + bx + c)\n",
        "a = float(input(\"Ingrese el coeficiente 'a': \"))\n",
        "b = float(input(\"Ingrese el coeficiente 'b': \"))\n",
        "c = float(input(\"Ingrese el coeficiente 'c': \"))\n",
        "\n",
        "resultado = resolver_ecuacion(a, b, c)\n",
        "print(resultado)\n"
      ],
      "metadata": {
        "id": "K-E0CZHzNEOe"
      },
      "execution_count": null,
      "outputs": []
    },
    {
      "cell_type": "markdown",
      "source": [
        "# Programa 3, Calculo del número pi"
      ],
      "metadata": {
        "id": "HbdcIDJDPNBU"
      }
    },
    {
      "cell_type": "code",
      "source": [
        "import random\n",
        "\n",
        "def calcular_pi(aproximaciones):\n",
        "    puntos_en_circulo = 0\n",
        "    total_puntos = 0\n",
        "\n",
        "    for _ in range(aproximaciones):\n",
        "        x = random.uniform(0, 1)\n",
        "        y = random.uniform(0, 1)\n",
        "        distancia = x**2 + y**2\n",
        "\n",
        "        if distancia <= 1:\n",
        "            puntos_en_circulo += 1\n",
        "\n",
        "        total_puntos += 1\n",
        "\n",
        "    pi_aproximado = 4 * (puntos_en_circulo / total_puntos)\n",
        "    return pi_aproximado\n",
        "\n",
        "# Cambia el valor de 'aproximaciones' para aumentar la precisión.\n",
        "aproximaciones = 1000000\n",
        "pi_estimado = calcular_pi(aproximaciones)\n",
        "\n",
        "print(f\"Valor estimado de pi con {aproximaciones} aproximaciones: {pi_estimado}\")\n"
      ],
      "metadata": {
        "id": "Xc0PyAotNEM6"
      },
      "execution_count": null,
      "outputs": []
    },
    {
      "cell_type": "code",
      "source": [
        "def calcular_pi_leibniz(n):\n",
        "    suma = 0\n",
        "    for i in range(n):\n",
        "        termino = (-1) ** i / (2 * i + 1)\n",
        "        suma += termino\n",
        "    pi_aproximado = 4 * suma\n",
        "    return pi_aproximado\n",
        "\n",
        "# Cambia el valor de 'n' para aumentar la precisión.\n",
        "n = 100000\n",
        "pi_estimado = calcular_pi_leibniz(n)\n",
        "\n",
        "print(f\"Valor estimado de pi con {n} términos de la serie de Leibniz: {pi_estimado}\")\n"
      ],
      "metadata": {
        "id": "NFab6tn1P3HL"
      },
      "execution_count": null,
      "outputs": []
    },
    {
      "cell_type": "markdown",
      "source": [
        "# Programa 4, Calculando el Factorial de un número"
      ],
      "metadata": {
        "id": "7a2zyAw-P43V"
      }
    },
    {
      "cell_type": "code",
      "source": [
        "import math\n",
        "\n",
        "def calcular_factorial_con_math(numero):\n",
        "    if numero < 0:\n",
        "        return \"El factorial no está definido para números negativos\"\n",
        "    elif numero == 0:\n",
        "        return 1\n",
        "    else:\n",
        "        return math.factorial(numero)\n",
        "\n",
        "numero = int(input(\"Ingresa un número para calcular su factorial: \"))\n",
        "resultado = calcular_factorial_con_math(numero)\n",
        "print(f\"El factorial de {numero} es {resultado}\")\n"
      ],
      "metadata": {
        "id": "BeawVeAvQW6e"
      },
      "execution_count": null,
      "outputs": []
    },
    {
      "cell_type": "code",
      "source": [
        "def calcular_factorial_sin_math(numero):\n",
        "    if numero < 0:\n",
        "        return \"El factorial no está definido para números negativos\"\n",
        "    elif numero == 0:\n",
        "        return 1\n",
        "    else:\n",
        "        factorial = 1\n",
        "        for i in range(1, numero + 1):\n",
        "            factorial *= i\n",
        "        return factorial\n",
        "\n",
        "numero = int(input(\"Ingresa un número para calcular su factorial: \"))\n",
        "resultado = calcular_factorial_sin_math(numero)\n",
        "print(f\"El factorial de {numero} es {resultado}\")\n"
      ],
      "metadata": {
        "id": "wjtrZkfnQW4f"
      },
      "execution_count": null,
      "outputs": []
    },
    {
      "cell_type": "markdown",
      "source": [
        "Programa 5  contar las veces que se repite un número dentro de una lista de números enteros"
      ],
      "metadata": {
        "id": "qc3oM8OtQdtO"
      }
    },
    {
      "cell_type": "code",
      "source": [
        "def contar_repeticiones(lista, numero):\n",
        "    contador = 0\n",
        "    for elemento in lista:\n",
        "        if elemento == numero:\n",
        "            contador += 1\n",
        "    return contador\n",
        "\n",
        "# Ejemplo de uso:\n",
        "lista_numeros = [1, 2, 3, 4, 2, 5, 2, 6, 2, 7]\n",
        "numero_buscar = 2\n",
        "\n",
        "repeticiones = contar_repeticiones(lista_numeros, numero_buscar)\n",
        "\n",
        "print(f\"El número {numero_buscar} se repite {repeticiones} veces en la lista.\")\n"
      ],
      "metadata": {
        "id": "PMHTQbJgQW1j"
      },
      "execution_count": null,
      "outputs": []
    },
    {
      "cell_type": "markdown",
      "source": [],
      "metadata": {
        "id": "wf7PMoDuQ-bj"
      }
    },
    {
      "cell_type": "code",
      "source": [],
      "metadata": {
        "id": "tqZ2828FQ-IE"
      },
      "execution_count": null,
      "outputs": []
    },
    {
      "cell_type": "code",
      "source": [],
      "metadata": {
        "id": "Vl1gl_kgQ-FI"
      },
      "execution_count": null,
      "outputs": []
    },
    {
      "cell_type": "code",
      "source": [],
      "metadata": {
        "id": "NNRMazn1QW0I"
      },
      "execution_count": null,
      "outputs": []
    },
    {
      "cell_type": "code",
      "source": [],
      "metadata": {
        "id": "TrqvENx4QWSc"
      },
      "execution_count": null,
      "outputs": []
    }
  ]
}