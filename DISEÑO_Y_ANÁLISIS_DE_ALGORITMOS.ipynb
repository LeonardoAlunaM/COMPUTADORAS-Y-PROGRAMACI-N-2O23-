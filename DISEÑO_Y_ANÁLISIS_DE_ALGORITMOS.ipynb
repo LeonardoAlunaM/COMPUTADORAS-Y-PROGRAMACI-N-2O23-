{
  "nbformat": 4,
  "nbformat_minor": 0,
  "metadata": {
    "colab": {
      "provenance": [],
      "authorship_tag": "ABX9TyOF9XXaKSflipvZqARbIrhi",
      "include_colab_link": true
    },
    "kernelspec": {
      "name": "python3",
      "display_name": "Python 3"
    },
    "language_info": {
      "name": "python"
    }
  },
  "cells": [
    {
      "cell_type": "markdown",
      "metadata": {
        "id": "view-in-github",
        "colab_type": "text"
      },
      "source": [
        "<a href=\"https://colab.research.google.com/github/LeonardoAlunaM/COMPUTADORAS-Y-PROGRAMACI-N-2O23-/blob/main-COMPUTADORAS-Y-PROGTRAMACI%C3%93N-2023/DISE%C3%91O_Y_AN%C3%81LISIS_DE_ALGORITMOS.ipynb\" target=\"_parent\"><img src=\"https://colab.research.google.com/assets/colab-badge.svg\" alt=\"Open In Colab\"/></a>"
      ]
    },
    {
      "cell_type": "code",
      "execution_count": 3,
      "metadata": {
        "colab": {
          "base_uri": "https://localhost:8080/"
        },
        "id": "XLAEVrxjLbvn",
        "outputId": "6a4befb5-842b-4877-9b02-7203bd00a693"
      },
      "outputs": [
        {
          "output_type": "stream",
          "name": "stdout",
          "text": [
            "Ingresa un número: 3\n",
            "La raíz cuadrada de 3.0 es 1.7320508075688772\n"
          ]
        }
      ],
      "source": [
        "# Programa 1\n",
        "# Utilizando la importación del módulo math\n",
        "import math\n",
        "\n",
        "# Solicitar al usuario que ingrese un número\n",
        "numero = float(input(\"Ingresa un número: \"))\n",
        "\n",
        "# Calcular la raíz cuadrada\n",
        "raiz_cuadrada = math.sqrt(numero)\n",
        "\n",
        "# Imprimir el resultado\n",
        "print(f\"La raíz cuadrada de {numero} es {raiz_cuadrada}\")"
      ]
    },
    {
      "cell_type": "code",
      "source": [
        "# Solicitar al usuario que ingrese un número\n",
        "numero = float(input(\"Ingresa un número: \"))\n",
        "\n",
        "# Establecer una suposición inicial para la raíz cuadrada\n",
        "raiz_aproximada = numero / 2  # Puedes elegir otra suposición inicial si lo deseas\n",
        "\n",
        "# Definir la tolerancia para detener la aproximación\n",
        "tolerancia = 1e-6\n",
        "\n",
        "# Iterar hasta que la aproximación sea lo suficientemente cercana\n",
        "while abs(raiz_aproximada * raiz_aproximada - numero) > tolerancia:\n",
        "    raiz_aproximada = 0.5 * (raiz_aproximada + numero / raiz_aproximada)\n",
        "\n",
        "# Imprimir el resultado\n",
        "print(f\"La raíz cuadrada de {numero} es aproximadamente {raiz_aproximada}\")\n"
      ],
      "metadata": {
        "id": "_XPoh2CxLjhy"
      },
      "execution_count": null,
      "outputs": []
    }
  ]
}