{
  "nbformat": 4,
  "nbformat_minor": 0,
  "metadata": {
    "colab": {
      "provenance": [],
      "authorship_tag": "ABX9TyOv0lzhTXGTRuapkWasqL/p",
      "include_colab_link": true
    },
    "kernelspec": {
      "name": "python3",
      "display_name": "Python 3"
    },
    "language_info": {
      "name": "python"
    }
  },
  "cells": [
    {
      "cell_type": "markdown",
      "metadata": {
        "id": "view-in-github",
        "colab_type": "text"
      },
      "source": [
        "<a href=\"https://colab.research.google.com/github/LeonardoAlunaM/COMPUTADORAS-Y-PROGRAMACI-N-2O23-/blob/main-COMPUTADORAS-Y-PROGTRAMACI%C3%93N-2023/DOCUMENTACI%C3%93N_PYTHON.ipynb\" target=\"_parent\"><img src=\"https://colab.research.google.com/assets/colab-badge.svg\" alt=\"Open In Colab\"/></a>"
      ]
    },
    {
      "cell_type": "code",
      "execution_count": null,
      "metadata": {
        "colab": {
          "base_uri": "https://localhost:8080/"
        },
        "id": "J5CcMFOeIikI",
        "outputId": "5b32f9ca-8354-45e2-b2da-0f2fa2a158c8"
      },
      "outputs": [
        {
          "output_type": "stream",
          "name": "stdout",
          "text": [
            "Hola de nuevo\n",
            "Leonardo Luna\n"
          ]
        }
      ],
      "source": [
        "print(\"Hola de nuevo\");print(\"Leonardo Luna\")"
      ]
    },
    {
      "cell_type": "code",
      "source": [
        "#    https://docs.python.org/es/3.10/tutorial/index.html\n",
        "#    https://docs.python.org/es/3.10/library/index.html#library-index\n",
        "#    https://docs.python.org/es/3.10/reference/index.html#reference-index"
      ],
      "metadata": {
        "id": "yd5G6azdQI7H"
      },
      "execution_count": null,
      "outputs": []
    },
    {
      "cell_type": "code",
      "source": [
        "import sys \n",
        "# Esta línea si es posible leer la en el visual estudio code, de momento no se exactamente como se utiliza "
      ],
      "metadata": {
        "id": "BmSpURBGVJDB"
      },
      "execution_count": null,
      "outputs": []
    },
    {
      "cell_type": "code",
      "source": [
        "the_world_is_flat = True # El mundo es plano \n",
        "if the_world_is_flat:\n",
        "    print(\"Be careful not to fall off!\")  # ¡Ten cuidado de no caerte!\n",
        "\n",
        "# Resultado impreso en pantalla \n",
        "\n",
        "# Be careful not to fall off!"
      ],
      "metadata": {
        "colab": {
          "base_uri": "https://localhost:8080/"
        },
        "id": "dbNIax_nQI17",
        "outputId": "02f34072-db34-4a53-91db-ccb159d124f8"
      },
      "execution_count": null,
      "outputs": [
        {
          "output_type": "stream",
          "name": "stdout",
          "text": [
            "Be careful not to fall off!\n"
          ]
        }
      ]
    },
    {
      "cell_type": "markdown",
      "source": [
        "2.2.1. Codificación del código fuente\n",
        "De forma predeterminada, los archivos fuente de Python se tratan como codificados en UTF-8. En esa codificación, los caracteres de la mayoría de los idiomas del mundo se pueden usar simultáneamente en literales, identificadores y comentarios, aunque la biblioteca estándar solo usa caracteres ASCII para los identificadores, una convención que debería seguir cualquier código que sea portable.Para mostrar todos estos caracteres correctamente, tu editor debe reconocer que el archivo es UTF-8, y debe usar una fuente que admita todos los caracteres del archivo.\n",
        "\n",
        "Para declarar una codificación que no sea la predeterminada, se debe agregar una línea de comentario especial como la primera línea del archivo. La sintaxis es la siguiente:"
      ],
      "metadata": {
        "id": "jreWKHX5VkwZ"
      }
    },
    {
      "cell_type": "code",
      "source": [
        "# -*- coding: encoding -*-"
      ],
      "metadata": {
        "id": "6MU7nKlBUUXg"
      },
      "execution_count": null,
      "outputs": []
    },
    {
      "cell_type": "markdown",
      "source": [
        "donde codificación es uno de los codecs soportados por Python.\n",
        "\n",
        "Por ejemplo, para declarar que se utilizará la codificación de Windows-1252, la primera línea del archivo de código fuente debe ser:"
      ],
      "metadata": {
        "id": "0CnS3x5eVuCj"
      }
    },
    {
      "cell_type": "code",
      "source": [
        "# -*- coding: cp1252 -*-"
      ],
      "metadata": {
        "id": "t9TYowIVUUTR"
      },
      "execution_count": null,
      "outputs": []
    },
    {
      "cell_type": "markdown",
      "source": [
        "Una excepción a la regla de primera línea es cuando el código fuente comienza con una línea UNIX «shebang» line. En ese caso, la declaración de codificación debe agregarse como la segunda línea del archivo. Por ejemplo:"
      ],
      "metadata": {
        "id": "XIort2vOV6as"
      }
    },
    {
      "cell_type": "code",
      "source": [
        "#!/usr/bin/env python3\n",
        "# -*- coding: cp1252 -*-"
      ],
      "metadata": {
        "id": "QI8sITeLUUa8"
      },
      "execution_count": null,
      "outputs": []
    },
    {
      "cell_type": "markdown",
      "source": [
        "Notas al pie\n",
        "\n",
        "1\n",
        "En Unix, el intérprete de Python 3.x no está instalado por defecto con el ejecutable llamado python, por lo que no entra en conflicto con un ejecutable de Python 2.x instalado simultáneamente."
      ],
      "metadata": {
        "id": "WRwzLyj_WEUV"
      }
    },
    {
      "cell_type": "code",
      "source": [
        "import sys "
      ],
      "metadata": {
        "id": "-ylMjPWxQI4G"
      },
      "execution_count": null,
      "outputs": []
    },
    {
      "cell_type": "code",
      "source": [
        "# this is the first comment\n",
        "spam = 1  # and this is the second comment\n",
        "          # ... and now a third!\n",
        "text = \"# This is not a comment because it's inside quotes.\""
      ],
      "metadata": {
        "id": "SA3LR9hwQIze"
      },
      "execution_count": null,
      "outputs": []
    },
    {
      "cell_type": "markdown",
      "source": [
        "3.1. Usando Python como una calculadora¶\n",
        "Probemos algunos comandos simples de Python. Inicia el intérprete y espere el prompt primario, >>>. (No debería tardar mucho.)\n",
        "3.1.1. Números\n",
        "El intérprete puede utilizarse como una simple calculadora; puedes introducir una expresión y este escribirá los valores. La sintaxis es sencilla: los operadores +, -, * y /``funcionan como en la mayoría de los lenguajes (por ejemplo, Pascal o C); los paréntesis (``()) pueden ser usados para agrupar. Por ejemplo:"
      ],
      "metadata": {
        "id": "9CdovgdzjRUK"
      }
    },
    {
      "cell_type": "code",
      "source": [
        "2 + 2\n",
        "50 - 5*6\n",
        "(50 - 5*6) / 4\n",
        "8 / 5  # division always returns a floating point number \n",
        "# Anque es posible realizar todas las operaciones descritas arriba, python solamente reconoce la ultima línea escria en el código\n",
        "# esto es (8 / 5 ) = 1.6"
      ],
      "metadata": {
        "id": "JVe2fJHWQIwF",
        "colab": {
          "base_uri": "https://localhost:8080/"
        },
        "outputId": "5baa7d23-75cc-4724-cc78-c69bac168577"
      },
      "execution_count": 1,
      "outputs": [
        {
          "output_type": "execute_result",
          "data": {
            "text/plain": [
              "1.6"
            ]
          },
          "metadata": {},
          "execution_count": 1
        }
      ]
    },
    {
      "cell_type": "markdown",
      "source": [
        "Los números enteros (ej. 2, 4, 20) tienen tipo int, los que tienen una parte fraccionaria (por ejemplo 5.0, 1.6) tiene el tipo float. Vamos a ver más acerca de los tipos numéricos más adelante en el tutorial.\n",
        "\n",
        "Division (/) always returns a float. To do floor division and get an integer result you can use the // operator; to calculate the remainder you can use %:\n",
        "\n",
        "\n",
        "La división (/) siempre devuelve un flotante. Para hacer una división de piso y obtener un resultado entero, puede usar el operador //; para calcular el resto puedes usar %:"
      ],
      "metadata": {
        "id": "ibWc6scRjr4F"
      }
    },
    {
      "cell_type": "code",
      "source": [
        "17 / 3  # classic division returns a float"
      ],
      "metadata": {
        "id": "Y08U8E9LQIsT",
        "colab": {
          "base_uri": "https://localhost:8080/"
        },
        "outputId": "1ec4dd76-d00d-4f11-f6ae-d4ec8b1e400b"
      },
      "execution_count": 2,
      "outputs": [
        {
          "output_type": "execute_result",
          "data": {
            "text/plain": [
              "5.666666666666667"
            ]
          },
          "metadata": {},
          "execution_count": 2
        }
      ]
    },
    {
      "cell_type": "code",
      "source": [
        "17 // 3  # floor division discards the fractional part"
      ],
      "metadata": {
        "id": "HfOjkZ3_QIoa",
        "colab": {
          "base_uri": "https://localhost:8080/"
        },
        "outputId": "e651be4f-41c9-4641-c7e9-6d47bd121a13"
      },
      "execution_count": 3,
      "outputs": [
        {
          "output_type": "execute_result",
          "data": {
            "text/plain": [
              "5"
            ]
          },
          "metadata": {},
          "execution_count": 3
        }
      ]
    },
    {
      "cell_type": "code",
      "source": [
        "17 % 3  # the % operator returns the remainder of the division"
      ],
      "metadata": {
        "id": "4dlzE7DSQIlW",
        "colab": {
          "base_uri": "https://localhost:8080/"
        },
        "outputId": "e9dd46e1-c5dd-4ac3-dcff-1a0cd768b2f5"
      },
      "execution_count": 4,
      "outputs": [
        {
          "output_type": "execute_result",
          "data": {
            "text/plain": [
              "2"
            ]
          },
          "metadata": {},
          "execution_count": 4
        }
      ]
    },
    {
      "cell_type": "code",
      "source": [
        "5 * 3 + 2  # floored quotient * divisor + remainder"
      ],
      "metadata": {
        "id": "0tzRhtQEQIiC",
        "colab": {
          "base_uri": "https://localhost:8080/"
        },
        "outputId": "28cd8f92-a213-4636-8320-1810f05fc75e"
      },
      "execution_count": 5,
      "outputs": [
        {
          "output_type": "execute_result",
          "data": {
            "text/plain": [
              "17"
            ]
          },
          "metadata": {},
          "execution_count": 5
        }
      ]
    },
    {
      "cell_type": "markdown",
      "source": [
        "Con Python, es posible usar el operador ** para calcular potencias 1:"
      ],
      "metadata": {
        "id": "OjHysZtXkkCn"
      }
    },
    {
      "cell_type": "code",
      "source": [
        "5 ** 2  # 5 squared"
      ],
      "metadata": {
        "id": "_cwQbZpsQIfa",
        "colab": {
          "base_uri": "https://localhost:8080/"
        },
        "outputId": "7e250172-c866-401d-98d6-5f843222190a"
      },
      "execution_count": 6,
      "outputs": [
        {
          "output_type": "execute_result",
          "data": {
            "text/plain": [
              "25"
            ]
          },
          "metadata": {},
          "execution_count": 6
        }
      ]
    },
    {
      "cell_type": "code",
      "source": [
        "2 ** 7  # 2 to the power of 7\n"
      ],
      "metadata": {
        "id": "Y45dyVTGQIc1",
        "colab": {
          "base_uri": "https://localhost:8080/"
        },
        "outputId": "5204bca4-63e6-4287-e8db-33eb767ccfd2"
      },
      "execution_count": 9,
      "outputs": [
        {
          "output_type": "execute_result",
          "data": {
            "text/plain": [
              "128"
            ]
          },
          "metadata": {},
          "execution_count": 9
        }
      ]
    },
    {
      "cell_type": "markdown",
      "source": [
        "El signo igual (=) se usa para asignar un valor a una variable. Ningún resultado se mostrará antes del siguiente prompt interactivo:"
      ],
      "metadata": {
        "id": "46xodQ78kyFc"
      }
    },
    {
      "cell_type": "code",
      "source": [
        "width = 20\n",
        "height = 5 * 9\n",
        "width * height"
      ],
      "metadata": {
        "id": "_T382pMLQIZo",
        "colab": {
          "base_uri": "https://localhost:8080/"
        },
        "outputId": "fd204abe-437d-4411-aed1-06a11ae13390"
      },
      "execution_count": 10,
      "outputs": [
        {
          "output_type": "execute_result",
          "data": {
            "text/plain": [
              "900"
            ]
          },
          "metadata": {},
          "execution_count": 10
        }
      ]
    },
    {
      "cell_type": "markdown",
      "source": [
        "Si una variable no está «definida» (no se le ha asignado un valor), al intentar usarla dará un error:"
      ],
      "metadata": {
        "id": "ny_UbcQR1gVp"
      }
    },
    {
      "cell_type": "code",
      "source": [
        "n  # try to access an undefined variable\n",
        "# Traceback (most recent call last):\n",
        "#  File \"<stdin>\", line 1, in <module>\n",
        "# NameError: name 'n' is not defined"
      ],
      "metadata": {
        "id": "iwaJMGMDQIWD"
      },
      "execution_count": null,
      "outputs": []
    },
    {
      "cell_type": "markdown",
      "source": [
        "Hay soporte completo de punto flotante; operadores con operando mezclados convertirán los enteros a punto flotante:"
      ],
      "metadata": {
        "id": "f3uSXwciVVix"
      }
    },
    {
      "cell_type": "code",
      "source": [
        "4 * 3.75 - 1"
      ],
      "metadata": {
        "id": "Hk0NqP5ZQITb",
        "colab": {
          "base_uri": "https://localhost:8080/"
        },
        "outputId": "6e621306-5674-44b8-a96d-8b53c4fd03c5"
      },
      "execution_count": 1,
      "outputs": [
        {
          "output_type": "execute_result",
          "data": {
            "text/plain": [
              "14.0"
            ]
          },
          "metadata": {},
          "execution_count": 1
        }
      ]
    },
    {
      "cell_type": "markdown",
      "source": [
        "En el modo interactivo, la última expresión impresa se asigna a la variable _. Esto significa que cuando se está utilizando Python como calculadora, es más fácil seguir calculando, por ejemplo:"
      ],
      "metadata": {
        "id": "Mje8KGehVhbA"
      }
    },
    {
      "cell_type": "code",
      "source": [
        "tax = 12.5 / 100\n",
        "price = 100.50\n",
        "price * tax"
      ],
      "metadata": {
        "colab": {
          "base_uri": "https://localhost:8080/"
        },
        "id": "zEPKWkwZV3eV",
        "outputId": "df3effe6-1a31-4c70-b217-92a4f03580cd"
      },
      "execution_count": 5,
      "outputs": [
        {
          "output_type": "execute_result",
          "data": {
            "text/plain": [
              "12.5625"
            ]
          },
          "metadata": {},
          "execution_count": 5
        }
      ]
    },
    {
      "cell_type": "code",
      "source": [
        "tax = 12.5 / 100\n",
        "price = 100.50\n",
        "price * tax\n",
        "price + _"
      ],
      "metadata": {
        "colab": {
          "base_uri": "https://localhost:8080/"
        },
        "id": "YRgG_rA4WAum",
        "outputId": "b7349793-ab65-44fb-b7ed-0948f953636b"
      },
      "execution_count": 6,
      "outputs": [
        {
          "output_type": "execute_result",
          "data": {
            "text/plain": [
              "113.0625"
            ]
          },
          "metadata": {},
          "execution_count": 6
        }
      ]
    },
    {
      "cell_type": "code",
      "source": [
        "tax = 12.5 / 100\n",
        "price = 100.50\n",
        "price * tax\n",
        "price + _\n",
        "round(_, 2)"
      ],
      "metadata": {
        "colab": {
          "base_uri": "https://localhost:8080/"
        },
        "id": "jMET4xVfWHvH",
        "outputId": "09d642c4-ed82-429a-c6c6-a4b508ecb4fb"
      },
      "execution_count": 7,
      "outputs": [
        {
          "output_type": "execute_result",
          "data": {
            "text/plain": [
              "113.06"
            ]
          },
          "metadata": {},
          "execution_count": 7
        }
      ]
    },
    {
      "cell_type": "code",
      "source": [
        "tax = 12.5 / 100\n",
        "price = 100.50\n",
        "price * tax\n",
        "# 12.5625\n",
        "price + _\n",
        "# 113.0625\n",
        "round(_, 2)\n",
        "# 113.06\n",
        "\n",
        "# Compile esté código sin más y el resultado fue erroneo "
      ],
      "metadata": {
        "id": "h2AC8lHfQIQk",
        "colab": {
          "base_uri": "https://localhost:8080/"
        },
        "outputId": "722fdf32-2a34-46fe-8659-5559a4908671"
      },
      "execution_count": 3,
      "outputs": [
        {
          "output_type": "execute_result",
          "data": {
            "text/plain": [
              "14.0"
            ]
          },
          "metadata": {},
          "execution_count": 3
        }
      ]
    },
    {
      "cell_type": "markdown",
      "source": [
        "Esta variable debe ser tratada como de sólo lectura por el usuario. No le asignes explícitamente un valor; crearás una variable local independiente con el mismo nombre enmascarando la variable con el comportamiento mágico.\n",
        "\n",
        "Además de int y float, Python admite otros tipos de números, como Decimal y Fraction. Python también tiene soporte incorporado para complex numbers, y usa el sufijo j o J para indicar la parte imaginaria (por ejemplo, 3+5j)."
      ],
      "metadata": {
        "id": "MKSqM39FWkFm"
      }
    },
    {
      "cell_type": "markdown",
      "source": [
        "3.1.2. Cadenas de caracteres\n",
        "Además de números, Python puede manipular cadenas de texto, las cuales pueden ser expresadas de distintas formas. Pueden estar encerradas en comillas simples ('...') o dobles (\"...\") con el mismo resultado 2. \\ puede ser usado para escapar comillas:"
      ],
      "metadata": {
        "id": "h1q5yhwzW39K"
      }
    },
    {
      "cell_type": "code",
      "source": [
        "'spam eggs' # single quotes"
      ],
      "metadata": {
        "id": "zK-K2mQGQINa",
        "colab": {
          "base_uri": "https://localhost:8080/",
          "height": 35
        },
        "outputId": "b37430db-19a7-44db-d8fd-648f1c3a46b7"
      },
      "execution_count": 8,
      "outputs": [
        {
          "output_type": "execute_result",
          "data": {
            "text/plain": [
              "'spam eggs'"
            ],
            "application/vnd.google.colaboratory.intrinsic+json": {
              "type": "string"
            }
          },
          "metadata": {},
          "execution_count": 8
        }
      ]
    },
    {
      "cell_type": "code",
      "source": [
        "'doesn\\'t'  # use \\' to escape the single quote..."
      ],
      "metadata": {
        "id": "-IY-cRiQQIKP",
        "colab": {
          "base_uri": "https://localhost:8080/",
          "height": 35
        },
        "outputId": "10fb87a8-6da2-4541-cdca-a9aacb11f5b2"
      },
      "execution_count": 9,
      "outputs": [
        {
          "output_type": "execute_result",
          "data": {
            "text/plain": [
              "\"doesn't\""
            ],
            "application/vnd.google.colaboratory.intrinsic+json": {
              "type": "string"
            }
          },
          "metadata": {},
          "execution_count": 9
        }
      ]
    },
    {
      "cell_type": "code",
      "source": [
        "\"doesn't\"  # ...or use double quotes instead"
      ],
      "metadata": {
        "colab": {
          "base_uri": "https://localhost:8080/",
          "height": 35
        },
        "id": "6JeZ7OqiXGVR",
        "outputId": "7ec0ba2a-5ebc-42f0-96b9-f9873bf38ff4"
      },
      "execution_count": 10,
      "outputs": [
        {
          "output_type": "execute_result",
          "data": {
            "text/plain": [
              "\"doesn't\""
            ],
            "application/vnd.google.colaboratory.intrinsic+json": {
              "type": "string"
            }
          },
          "metadata": {},
          "execution_count": 10
        }
      ]
    },
    {
      "cell_type": "code",
      "source": [
        "'\"Yes,\" they said.'"
      ],
      "metadata": {
        "colab": {
          "base_uri": "https://localhost:8080/",
          "height": 35
        },
        "id": "vKKKEV3SXGLV",
        "outputId": "a308354e-eb46-4be2-96c5-4d3313c375eb"
      },
      "execution_count": 11,
      "outputs": [
        {
          "output_type": "execute_result",
          "data": {
            "text/plain": [
              "'\"Yes,\" they said.'"
            ],
            "application/vnd.google.colaboratory.intrinsic+json": {
              "type": "string"
            }
          },
          "metadata": {},
          "execution_count": 11
        }
      ]
    },
    {
      "cell_type": "code",
      "source": [
        "\"\\\"Yes,\\\" they said.\""
      ],
      "metadata": {
        "colab": {
          "base_uri": "https://localhost:8080/",
          "height": 35
        },
        "id": "eawyJHGcXF_H",
        "outputId": "e8a530f1-1633-440b-8117-4a635ea6f253"
      },
      "execution_count": 12,
      "outputs": [
        {
          "output_type": "execute_result",
          "data": {
            "text/plain": [
              "'\"Yes,\" they said.'"
            ],
            "application/vnd.google.colaboratory.intrinsic+json": {
              "type": "string"
            }
          },
          "metadata": {},
          "execution_count": 12
        }
      ]
    },
    {
      "cell_type": "code",
      "source": [
        "'\"Isn\\'t,\" they said.'"
      ],
      "metadata": {
        "colab": {
          "base_uri": "https://localhost:8080/",
          "height": 35
        },
        "id": "hZhAPwUTXFuC",
        "outputId": "ba5c948a-6cd6-4f19-e89e-94ab19a14d82"
      },
      "execution_count": 13,
      "outputs": [
        {
          "output_type": "execute_result",
          "data": {
            "text/plain": [
              "'\"Isn\\'t,\" they said.'"
            ],
            "application/vnd.google.colaboratory.intrinsic+json": {
              "type": "string"
            }
          },
          "metadata": {},
          "execution_count": 13
        }
      ]
    },
    {
      "cell_type": "code",
      "source": [],
      "metadata": {
        "id": "ovztTC38XFeH"
      },
      "execution_count": null,
      "outputs": []
    },
    {
      "cell_type": "code",
      "source": [],
      "metadata": {
        "id": "fwPdXZXdXFL5"
      },
      "execution_count": null,
      "outputs": []
    },
    {
      "cell_type": "code",
      "source": [],
      "metadata": {
        "id": "EjLU35jRXE_r"
      },
      "execution_count": null,
      "outputs": []
    },
    {
      "cell_type": "code",
      "source": [],
      "metadata": {
        "id": "O0gW7wMaXE0J"
      },
      "execution_count": null,
      "outputs": []
    },
    {
      "cell_type": "code",
      "source": [],
      "metadata": {
        "id": "OCCAqEIJXEHF"
      },
      "execution_count": null,
      "outputs": []
    },
    {
      "cell_type": "code",
      "source": [
        "import tkinter \n",
        "\n",
        "tkinter.colorchooser \n",
        "# Cuadro de diálogo para que el usuario elija un color.\n",
        "tkinter.commondialog\n",
        "#Clase base para los diálogos definidos en los otros módulos enumerados aquí.\n",
        "\n",
        "tkinter.filedialog\n",
        "#Diálogos comunes para permitir al usuario especificar un archivo para abrir o guardar.\n",
        "\n",
        "tkinter.font\n",
        "#Utilidades para ayudar a trabajar con fuentes.\n",
        "\n",
        "tkinter.messagebox\n",
        "#Acceso a los cuadros de diálogo estándar de Tk.\n",
        "\n",
        "tkinter.scrolledtext\n",
        "#Widget de texto con una barra de desplazamiento vertical incorporada.\n",
        "\n",
        "tkinter.simpledialog\n",
        "#Diálogos básicos y funciones de conveniencia.\n",
        "\n",
        "tkinter.ttk\n",
        "#Conjunto de widgets temáticos introducido en Tk 8.5, que brinda alternativas modernas para muchos de los widgets clásicos en el tkintermódulo principal.\n",
        "\n",
        "#   idlelib\n",
        "#Entorno integrado de desarrollo y aprendizaje de Python (IDLE). Basado tkinteren\n",
        "\n",
        "tkinter.constants\n",
        "#Constantes simbólicas que se pueden usar en lugar de cadenas al pasar varios parámetros a las llamadas de Tkinter. Importado automáticamente por el tkintermódulo principal.\n",
        "\n",
        "tkinter.dnd\n",
        "#(experimental) Soporte de arrastrar y soltar para tkinter. Esto quedará obsoleto cuando se reemplace con Tk DND.\n",
        "\n",
        "tkinter.tix\n",
        "#(obsoleto) Un paquete Tcl/Tk de terceros más antiguo que agrega varios widgets nuevos. Se pueden encontrar mejores alternativas para la mayoría en tkinter.ttk.\n",
        "\n",
        "#   turtle\n",
        "#Gráficos de tortugas en una ventana Tk."
      ],
      "metadata": {
        "id": "nt0jklUHjKQs"
      },
      "execution_count": null,
      "outputs": []
    },
    {
      "cell_type": "code",
      "source": [
        "from tkinter import *     # Importando la libreria Tkinter por defecto \n",
        "from tkinter import ttk   # Importando las librerias acualizadas de tkinter \n",
        "\n",
        "root = Tk()    # Raíz principal de la ventana 1 \n",
        "# Después de las importaciones, la siguiente línea crea una instancia de la Tkclase, que inicializa Tk \n",
        "# y crea su intérprete Tcl asociado. También crea una ventana de nivel superior, conocida como ventana raíz, \n",
        "# que sirve como ventana principal de la aplicación.\n",
        "\n",
        "frm = ttk.Frame(root, padding = 50 )  # Aquí el frame es nombrado frm, no se para que servira el parametro padding = 10\n",
        "frm.grid(column = 20, row = 20 )    # Al parecer agregando el grid acá por defecto, se puede dividir el frame en tantas partes como se quiera\n",
        "# Aunque lo dividi y demás no parece haber cambios drásticos, por asi decirlo, en efecto, logré dividir el frame\n",
        "# Texto: \" Hola mundo \"\n",
        "\n",
        "# La siguiente línea crea un widget de marco, que en este caso contendrá una etiqueta y un botón que crearemos a \n",
        "# continuación. El marco se ajusta dentro de la ventana raíz.\n",
        "\n",
        "ttk.Label(frm, text=\"Hello World!\").grid(column=10, row=10) # Muestra un texto en el marco \n",
        "\n",
        "\n",
        "ttk.Button(frm, text=\"Quit\", command=root.destroy).grid(column=19, row=19) # Muestra un botón dentro del marco, cuyo parámetro es \n",
        "# frm, text=\"Quit\", command=root.destroy), así como la posición del mismo dentro del marco de la ventana principal \n",
        "# Es entonces cuando el botón del widget es creado y dejado a la derecha de la etiqueta.\n",
        "#  Una vez pulsado llamará al método destroy() de la ventana raíz.\n",
        "\n",
        "\n",
        "root.mainloop() # Mainloop \n",
        "# Finalmente el método mainloop() muestra todo en pantalla y responde a la entrada del usuario hasta que el programa termina."
      ],
      "metadata": {
        "id": "wMvS_ebEk_9s"
      },
      "execution_count": null,
      "outputs": []
    },
    {
      "cell_type": "code",
      "source": [
        "ttk::frame .frm -padding 10\n",
        "grid .frm\n",
        "grid [ttk::label .frm.lbl -text \"Hello World!\"] -column 0 -row 0\n",
        "grid [ttk::button .frm.btn -text \"Quit\" -command \"destroy .\"] -column 1 -row 0"
      ],
      "metadata": {
        "id": "Bz6bYKGCmUYL"
      },
      "execution_count": null,
      "outputs": []
    },
    {
      "cell_type": "code",
      "source": [
        "Cuando se busca sobre como usar una API, puede ser muy útil el saber exactamente el nombre de la clase, opción o método que está utilizando. Tener esto en cuenta de antemano, ya sea en un shell de Python interactivo o con print(), puede ayudar a identificar lo que necesitas.\n",
        "\n",
        "Para encontrar que opciones de configuración están disponibles en cada widget, se utiliza la llamada al método configure(), el cual retorna un diccionario que contiene una gran variedad de información sobre cada objeto, incluyendo valores por defecto y actuales. Utilice el keys() para saber los nombres de cada opción.\n",
        "\n",
        "btn = ttk.Button(frm, ...)\n",
        "print(btn.configure().keys())"
      ],
      "metadata": {
        "id": "pI7aGRQRo_Gi"
      },
      "execution_count": null,
      "outputs": []
    },
    {
      "cell_type": "code",
      "source": [
        "from tkinter import *     # Importando la libreria Tkinter por defecto \n",
        "from tkinter import ttk   # Importando las librerias acualizadas de tkinter \n",
        "\n",
        "root = Tk()    # Raíz principal de la ventana 1 \n",
        "# Después de las importaciones, la siguiente línea crea una instancia de la Tkclase, que inicializa Tk \n",
        "# y crea su intérprete Tcl asociado. También crea una ventana de nivel superior, conocida como ventana raíz, \n",
        "# que sirve como ventana principal de la aplicación.\n",
        "\n",
        "\n",
        "\n",
        "frm = ttk.Frame(root, padding = 50 )  # Aquí el frame es nombrado frm, no se para que servira el parametro padding = 10\n",
        "frm.grid(column = 20, row = 20 )    # Al parecer agregando el grid acá por defecto, se puede dividir el frame en tantas partes como se quiera\n",
        "# Aunque lo dividi y demás no parece haber cambios drásticos, por asi decirlo, en efecto, logré dividir el frame\n",
        "# Texto: \" Hola mundo \"\n",
        "\n",
        "\n",
        "btn = ttk.Button(frm)  # Tras usar está y la siugiente línea, la consola devuelve los siguientes dato\n",
        "print(btn.configure().keys())\n",
        "# dict_keys(['command', 'default', 'takefocus', 'text', 'textvariable', 'underline',\n",
        "#  'width', 'image', 'compound', 'padding', 'state', 'cursor', 'style', 'class']) \n",
        "\n",
        "\n",
        "\n",
        "\n",
        "# La siguiente línea crea un widget de marco, que en este caso contendrá una etiqueta y un botón que crearemos a \n",
        "# continuación. El marco se ajusta dentro de la ventana raíz.\n",
        "\n",
        "ttk.Label(frm, text=\"Hello World!\").grid(column=10, row=10) # Muestra un texto en el marco \n",
        "\n",
        "\n",
        "ttk.Button(frm, text=\"Quit\", command=root.destroy).grid(column=19, row=19) # Muestra un botón dentro del marco, cuyo parámetro es \n",
        "# frm, text=\"Quit\", command=root.destroy), así como la posición del mismo dentro del marco de la ventana principal \n",
        "# Es entonces cuando el botón del widget es creado y dejado a la derecha de la etiqueta.\n",
        "#  Una vez pulsado llamará al método destroy() de la ventana raíz.\n",
        "\n",
        "#ttk::frame .frm -padding 10\n",
        "#grid .frm\n",
        "#grid [ttk::label .frm.lbl -text \"Hello World!\"] -column 0 -row 0\n",
        "#grid [ttk::button .frm.btn -text \"Quit\" -command \"destroy .\"] -column 1 -row 0\n",
        "\n",
        "\n",
        "\n",
        "root.mainloop() # Mainloop \n",
        "# Finalmente el método mainloop() muestra todo en pantalla y responde a la entrada del usuario hasta que el programa termina."
      ],
      "metadata": {
        "id": "LTP8HacAB0eZ"
      },
      "execution_count": null,
      "outputs": []
    },
    {
      "cell_type": "code",
      "source": [
        "import tkinter as tk\n",
        "\n",
        "class App(tk.Frame):\n",
        "    def __init__(self, master=None):\n",
        "        super().__init__(master)\n",
        "        self.pack()\n",
        "\n",
        "# create the application\n",
        "myapp = App()\n",
        "\n",
        "#\n",
        "# here are method calls to the window manager class\n",
        "#\n",
        "myapp.master.title(\"My Do-Nothing Application\")\n",
        "myapp.master.maxsize(1000, 400)\n",
        "\n",
        "# start the program\n",
        "myapp.mainloop()\n",
        "\n",
        "\n",
        "# muestra unicamente los botones de la barra inicial de la ventana y nada más\n"
      ],
      "metadata": {
        "id": "2cEQUuEfB1uu"
      },
      "execution_count": null,
      "outputs": []
    }
  ]
}