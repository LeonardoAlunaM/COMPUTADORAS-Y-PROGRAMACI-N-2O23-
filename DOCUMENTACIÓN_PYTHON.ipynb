{
  "nbformat": 4,
  "nbformat_minor": 0,
  "metadata": {
    "colab": {
      "provenance": [],
      "authorship_tag": "ABX9TyOvGw29VoP8z1kv3FcEu3TY",
      "include_colab_link": true
    },
    "kernelspec": {
      "name": "python3",
      "display_name": "Python 3"
    },
    "language_info": {
      "name": "python"
    }
  },
  "cells": [
    {
      "cell_type": "markdown",
      "metadata": {
        "id": "view-in-github",
        "colab_type": "text"
      },
      "source": [
        "<a href=\"https://colab.research.google.com/github/LeonardoAlunaM/COMPUTADORAS-Y-PROGRAMACI-N-2O23-/blob/main-COMPUTADORAS-Y-PROGTRAMACI%C3%93N-2023/DOCUMENTACI%C3%93N_PYTHON.ipynb\" target=\"_parent\"><img src=\"https://colab.research.google.com/assets/colab-badge.svg\" alt=\"Open In Colab\"/></a>"
      ]
    },
    {
      "cell_type": "code",
      "execution_count": null,
      "metadata": {
        "colab": {
          "base_uri": "https://localhost:8080/"
        },
        "id": "J5CcMFOeIikI",
        "outputId": "5b32f9ca-8354-45e2-b2da-0f2fa2a158c8"
      },
      "outputs": [
        {
          "output_type": "stream",
          "name": "stdout",
          "text": [
            "Hola de nuevo\n",
            "Leonardo Luna\n"
          ]
        }
      ],
      "source": [
        "print(\"Hola de nuevo\");print(\"Leonardo Luna\")"
      ]
    },
    {
      "cell_type": "code",
      "source": [
        "#    https://docs.python.org/es/3.10/tutorial/index.html\n",
        "#    https://docs.python.org/es/3.10/library/index.html#library-index\n",
        "#    https://docs.python.org/es/3.10/reference/index.html#reference-index"
      ],
      "metadata": {
        "id": "yd5G6azdQI7H"
      },
      "execution_count": null,
      "outputs": []
    },
    {
      "cell_type": "code",
      "source": [
        "import sys \n",
        "# Esta línea si es posible leer la en el visual estudio code, de momento no se exactamente como se utiliza "
      ],
      "metadata": {
        "id": "BmSpURBGVJDB"
      },
      "execution_count": null,
      "outputs": []
    },
    {
      "cell_type": "code",
      "source": [
        "the_world_is_flat = True # El mundo es plano \n",
        "if the_world_is_flat:\n",
        "    print(\"Be careful not to fall off!\")  # ¡Ten cuidado de no caerte!\n",
        "\n",
        "# Resultado impreso en pantalla \n",
        "\n",
        "# Be careful not to fall off!"
      ],
      "metadata": {
        "colab": {
          "base_uri": "https://localhost:8080/"
        },
        "id": "dbNIax_nQI17",
        "outputId": "02f34072-db34-4a53-91db-ccb159d124f8"
      },
      "execution_count": null,
      "outputs": [
        {
          "output_type": "stream",
          "name": "stdout",
          "text": [
            "Be careful not to fall off!\n"
          ]
        }
      ]
    },
    {
      "cell_type": "markdown",
      "source": [
        "2.2.1. Codificación del código fuente\n",
        "De forma predeterminada, los archivos fuente de Python se tratan como codificados en UTF-8. En esa codificación, los caracteres de la mayoría de los idiomas del mundo se pueden usar simultáneamente en literales, identificadores y comentarios, aunque la biblioteca estándar solo usa caracteres ASCII para los identificadores, una convención que debería seguir cualquier código que sea portable.Para mostrar todos estos caracteres correctamente, tu editor debe reconocer que el archivo es UTF-8, y debe usar una fuente que admita todos los caracteres del archivo.\n",
        "\n",
        "Para declarar una codificación que no sea la predeterminada, se debe agregar una línea de comentario especial como la primera línea del archivo. La sintaxis es la siguiente:"
      ],
      "metadata": {
        "id": "jreWKHX5VkwZ"
      }
    },
    {
      "cell_type": "code",
      "source": [
        "# -*- coding: encoding -*-"
      ],
      "metadata": {
        "id": "6MU7nKlBUUXg"
      },
      "execution_count": null,
      "outputs": []
    },
    {
      "cell_type": "markdown",
      "source": [
        "donde codificación es uno de los codecs soportados por Python.\n",
        "\n",
        "Por ejemplo, para declarar que se utilizará la codificación de Windows-1252, la primera línea del archivo de código fuente debe ser:"
      ],
      "metadata": {
        "id": "0CnS3x5eVuCj"
      }
    },
    {
      "cell_type": "code",
      "source": [
        "# -*- coding: cp1252 -*-"
      ],
      "metadata": {
        "id": "t9TYowIVUUTR"
      },
      "execution_count": null,
      "outputs": []
    },
    {
      "cell_type": "markdown",
      "source": [
        "Una excepción a la regla de primera línea es cuando el código fuente comienza con una línea UNIX «shebang» line. En ese caso, la declaración de codificación debe agregarse como la segunda línea del archivo. Por ejemplo:"
      ],
      "metadata": {
        "id": "XIort2vOV6as"
      }
    },
    {
      "cell_type": "code",
      "source": [
        "#!/usr/bin/env python3\n",
        "# -*- coding: cp1252 -*-"
      ],
      "metadata": {
        "id": "QI8sITeLUUa8"
      },
      "execution_count": null,
      "outputs": []
    },
    {
      "cell_type": "markdown",
      "source": [
        "Notas al pie\n",
        "\n",
        "1\n",
        "En Unix, el intérprete de Python 3.x no está instalado por defecto con el ejecutable llamado python, por lo que no entra en conflicto con un ejecutable de Python 2.x instalado simultáneamente."
      ],
      "metadata": {
        "id": "WRwzLyj_WEUV"
      }
    },
    {
      "cell_type": "code",
      "source": [
        "import sys "
      ],
      "metadata": {
        "id": "-ylMjPWxQI4G"
      },
      "execution_count": null,
      "outputs": []
    },
    {
      "cell_type": "code",
      "source": [
        "# this is the first comment\n",
        "spam = 1  # and this is the second comment\n",
        "          # ... and now a third!\n",
        "text = \"# This is not a comment because it's inside quotes.\""
      ],
      "metadata": {
        "id": "SA3LR9hwQIze"
      },
      "execution_count": null,
      "outputs": []
    },
    {
      "cell_type": "markdown",
      "source": [
        "3.1. Usando Python como una calculadora¶\n",
        "Probemos algunos comandos simples de Python. Inicia el intérprete y espere el prompt primario, >>>. (No debería tardar mucho.)\n",
        "3.1.1. Números\n",
        "El intérprete puede utilizarse como una simple calculadora; puedes introducir una expresión y este escribirá los valores. La sintaxis es sencilla: los operadores +, -, * y /``funcionan como en la mayoría de los lenguajes (por ejemplo, Pascal o C); los paréntesis (``()) pueden ser usados para agrupar. Por ejemplo:"
      ],
      "metadata": {
        "id": "9CdovgdzjRUK"
      }
    },
    {
      "cell_type": "code",
      "source": [
        "2 + 2\n",
        "50 - 5*6\n",
        "(50 - 5*6) / 4\n",
        "8 / 5  # division always returns a floating point number \n",
        "# Anque es posible realizar todas las operaciones descritas arriba, python solamente reconoce la ultima línea escria en el código\n",
        "# esto es (8 / 5 ) = 1.6"
      ],
      "metadata": {
        "id": "JVe2fJHWQIwF",
        "colab": {
          "base_uri": "https://localhost:8080/"
        },
        "outputId": "5baa7d23-75cc-4724-cc78-c69bac168577"
      },
      "execution_count": 1,
      "outputs": [
        {
          "output_type": "execute_result",
          "data": {
            "text/plain": [
              "1.6"
            ]
          },
          "metadata": {},
          "execution_count": 1
        }
      ]
    },
    {
      "cell_type": "markdown",
      "source": [
        "Los números enteros (ej. 2, 4, 20) tienen tipo int, los que tienen una parte fraccionaria (por ejemplo 5.0, 1.6) tiene el tipo float. Vamos a ver más acerca de los tipos numéricos más adelante en el tutorial.\n",
        "\n",
        "Division (/) always returns a float. To do floor division and get an integer result you can use the // operator; to calculate the remainder you can use %:\n",
        "\n",
        "\n",
        "La división (/) siempre devuelve un flotante. Para hacer una división de piso y obtener un resultado entero, puede usar el operador //; para calcular el resto puedes usar %:"
      ],
      "metadata": {
        "id": "ibWc6scRjr4F"
      }
    },
    {
      "cell_type": "code",
      "source": [
        "17 / 3  # classic division returns a float"
      ],
      "metadata": {
        "id": "Y08U8E9LQIsT",
        "colab": {
          "base_uri": "https://localhost:8080/"
        },
        "outputId": "1ec4dd76-d00d-4f11-f6ae-d4ec8b1e400b"
      },
      "execution_count": 2,
      "outputs": [
        {
          "output_type": "execute_result",
          "data": {
            "text/plain": [
              "5.666666666666667"
            ]
          },
          "metadata": {},
          "execution_count": 2
        }
      ]
    },
    {
      "cell_type": "code",
      "source": [
        "17 // 3  # floor division discards the fractional part"
      ],
      "metadata": {
        "id": "HfOjkZ3_QIoa",
        "colab": {
          "base_uri": "https://localhost:8080/"
        },
        "outputId": "e651be4f-41c9-4641-c7e9-6d47bd121a13"
      },
      "execution_count": 3,
      "outputs": [
        {
          "output_type": "execute_result",
          "data": {
            "text/plain": [
              "5"
            ]
          },
          "metadata": {},
          "execution_count": 3
        }
      ]
    },
    {
      "cell_type": "code",
      "source": [
        "17 % 3  # the % operator returns the remainder of the division"
      ],
      "metadata": {
        "id": "4dlzE7DSQIlW",
        "colab": {
          "base_uri": "https://localhost:8080/"
        },
        "outputId": "e9dd46e1-c5dd-4ac3-dcff-1a0cd768b2f5"
      },
      "execution_count": 4,
      "outputs": [
        {
          "output_type": "execute_result",
          "data": {
            "text/plain": [
              "2"
            ]
          },
          "metadata": {},
          "execution_count": 4
        }
      ]
    },
    {
      "cell_type": "code",
      "source": [
        "5 * 3 + 2  # floored quotient * divisor + remainder"
      ],
      "metadata": {
        "id": "0tzRhtQEQIiC",
        "colab": {
          "base_uri": "https://localhost:8080/"
        },
        "outputId": "28cd8f92-a213-4636-8320-1810f05fc75e"
      },
      "execution_count": 5,
      "outputs": [
        {
          "output_type": "execute_result",
          "data": {
            "text/plain": [
              "17"
            ]
          },
          "metadata": {},
          "execution_count": 5
        }
      ]
    },
    {
      "cell_type": "markdown",
      "source": [
        "Con Python, es posible usar el operador ** para calcular potencias 1:"
      ],
      "metadata": {
        "id": "OjHysZtXkkCn"
      }
    },
    {
      "cell_type": "code",
      "source": [
        "5 ** 2  # 5 squared"
      ],
      "metadata": {
        "id": "_cwQbZpsQIfa",
        "colab": {
          "base_uri": "https://localhost:8080/"
        },
        "outputId": "7e250172-c866-401d-98d6-5f843222190a"
      },
      "execution_count": 6,
      "outputs": [
        {
          "output_type": "execute_result",
          "data": {
            "text/plain": [
              "25"
            ]
          },
          "metadata": {},
          "execution_count": 6
        }
      ]
    },
    {
      "cell_type": "code",
      "source": [
        "2 ** 7  # 2 to the power of 7\n"
      ],
      "metadata": {
        "id": "Y45dyVTGQIc1",
        "colab": {
          "base_uri": "https://localhost:8080/"
        },
        "outputId": "5204bca4-63e6-4287-e8db-33eb767ccfd2"
      },
      "execution_count": 9,
      "outputs": [
        {
          "output_type": "execute_result",
          "data": {
            "text/plain": [
              "128"
            ]
          },
          "metadata": {},
          "execution_count": 9
        }
      ]
    },
    {
      "cell_type": "markdown",
      "source": [
        "El signo igual (=) se usa para asignar un valor a una variable. Ningún resultado se mostrará antes del siguiente prompt interactivo:"
      ],
      "metadata": {
        "id": "46xodQ78kyFc"
      }
    },
    {
      "cell_type": "code",
      "source": [
        "width = 20\n",
        "height = 5 * 9\n",
        "width * height"
      ],
      "metadata": {
        "id": "_T382pMLQIZo",
        "colab": {
          "base_uri": "https://localhost:8080/"
        },
        "outputId": "fd204abe-437d-4411-aed1-06a11ae13390"
      },
      "execution_count": 10,
      "outputs": [
        {
          "output_type": "execute_result",
          "data": {
            "text/plain": [
              "900"
            ]
          },
          "metadata": {},
          "execution_count": 10
        }
      ]
    },
    {
      "cell_type": "markdown",
      "source": [
        "Si una variable no está «definida» (no se le ha asignado un valor), al intentar usarla dará un error:"
      ],
      "metadata": {
        "id": "ny_UbcQR1gVp"
      }
    },
    {
      "cell_type": "code",
      "source": [
        "n  # try to access an undefined variable\n",
        "# Traceback (most recent call last):\n",
        "#  File \"<stdin>\", line 1, in <module>\n",
        "# NameError: name 'n' is not defined"
      ],
      "metadata": {
        "id": "iwaJMGMDQIWD"
      },
      "execution_count": null,
      "outputs": []
    },
    {
      "cell_type": "markdown",
      "source": [
        "Hay soporte completo de punto flotante; operadores con operando mezclados convertirán los enteros a punto flotante:"
      ],
      "metadata": {
        "id": "f3uSXwciVVix"
      }
    },
    {
      "cell_type": "code",
      "source": [
        "4 * 3.75 - 1"
      ],
      "metadata": {
        "id": "Hk0NqP5ZQITb",
        "colab": {
          "base_uri": "https://localhost:8080/"
        },
        "outputId": "6e621306-5674-44b8-a96d-8b53c4fd03c5"
      },
      "execution_count": 1,
      "outputs": [
        {
          "output_type": "execute_result",
          "data": {
            "text/plain": [
              "14.0"
            ]
          },
          "metadata": {},
          "execution_count": 1
        }
      ]
    },
    {
      "cell_type": "markdown",
      "source": [
        "En el modo interactivo, la última expresión impresa se asigna a la variable _. Esto significa que cuando se está utilizando Python como calculadora, es más fácil seguir calculando, por ejemplo:"
      ],
      "metadata": {
        "id": "Mje8KGehVhbA"
      }
    },
    {
      "cell_type": "code",
      "source": [
        "tax = 12.5 / 100\n",
        "price = 100.50\n",
        "price * tax"
      ],
      "metadata": {
        "colab": {
          "base_uri": "https://localhost:8080/"
        },
        "id": "zEPKWkwZV3eV",
        "outputId": "df3effe6-1a31-4c70-b217-92a4f03580cd"
      },
      "execution_count": 5,
      "outputs": [
        {
          "output_type": "execute_result",
          "data": {
            "text/plain": [
              "12.5625"
            ]
          },
          "metadata": {},
          "execution_count": 5
        }
      ]
    },
    {
      "cell_type": "code",
      "source": [
        "tax = 12.5 / 100\n",
        "price = 100.50\n",
        "price * tax\n",
        "price + _"
      ],
      "metadata": {
        "colab": {
          "base_uri": "https://localhost:8080/"
        },
        "id": "YRgG_rA4WAum",
        "outputId": "b7349793-ab65-44fb-b7ed-0948f953636b"
      },
      "execution_count": 6,
      "outputs": [
        {
          "output_type": "execute_result",
          "data": {
            "text/plain": [
              "113.0625"
            ]
          },
          "metadata": {},
          "execution_count": 6
        }
      ]
    },
    {
      "cell_type": "code",
      "source": [
        "tax = 12.5 / 100\n",
        "price = 100.50\n",
        "price * tax\n",
        "price + _\n",
        "round(_, 2)"
      ],
      "metadata": {
        "colab": {
          "base_uri": "https://localhost:8080/"
        },
        "id": "jMET4xVfWHvH",
        "outputId": "09d642c4-ed82-429a-c6c6-a4b508ecb4fb"
      },
      "execution_count": 7,
      "outputs": [
        {
          "output_type": "execute_result",
          "data": {
            "text/plain": [
              "113.06"
            ]
          },
          "metadata": {},
          "execution_count": 7
        }
      ]
    },
    {
      "cell_type": "code",
      "source": [
        "tax = 12.5 / 100\n",
        "price = 100.50\n",
        "price * tax\n",
        "# 12.5625\n",
        "price + _\n",
        "# 113.0625\n",
        "round(_, 2)\n",
        "# 113.06\n",
        "\n",
        "# Compile esté código sin más y el resultado fue erroneo "
      ],
      "metadata": {
        "id": "h2AC8lHfQIQk",
        "colab": {
          "base_uri": "https://localhost:8080/"
        },
        "outputId": "722fdf32-2a34-46fe-8659-5559a4908671"
      },
      "execution_count": 3,
      "outputs": [
        {
          "output_type": "execute_result",
          "data": {
            "text/plain": [
              "14.0"
            ]
          },
          "metadata": {},
          "execution_count": 3
        }
      ]
    },
    {
      "cell_type": "markdown",
      "source": [
        "Esta variable debe ser tratada como de sólo lectura por el usuario. No le asignes explícitamente un valor; crearás una variable local independiente con el mismo nombre enmascarando la variable con el comportamiento mágico.\n",
        "\n",
        "Además de int y float, Python admite otros tipos de números, como Decimal y Fraction. Python también tiene soporte incorporado para complex numbers, y usa el sufijo j o J para indicar la parte imaginaria (por ejemplo, 3+5j)."
      ],
      "metadata": {
        "id": "MKSqM39FWkFm"
      }
    },
    {
      "cell_type": "markdown",
      "source": [
        "3.1.2. Cadenas de caracteres\n",
        "Además de números, Python puede manipular cadenas de texto, las cuales pueden ser expresadas de distintas formas. Pueden estar encerradas en comillas simples ('...') o dobles (\"...\") con el mismo resultado 2. \\ puede ser usado para escapar comillas:"
      ],
      "metadata": {
        "id": "h1q5yhwzW39K"
      }
    },
    {
      "cell_type": "code",
      "source": [
        "'spam eggs' # single quotes"
      ],
      "metadata": {
        "id": "zK-K2mQGQINa",
        "colab": {
          "base_uri": "https://localhost:8080/",
          "height": 35
        },
        "outputId": "b37430db-19a7-44db-d8fd-648f1c3a46b7"
      },
      "execution_count": 8,
      "outputs": [
        {
          "output_type": "execute_result",
          "data": {
            "text/plain": [
              "'spam eggs'"
            ],
            "application/vnd.google.colaboratory.intrinsic+json": {
              "type": "string"
            }
          },
          "metadata": {},
          "execution_count": 8
        }
      ]
    },
    {
      "cell_type": "code",
      "source": [
        "'doesn\\'t'  # use \\' to escape the single quote..."
      ],
      "metadata": {
        "id": "-IY-cRiQQIKP",
        "colab": {
          "base_uri": "https://localhost:8080/",
          "height": 35
        },
        "outputId": "10fb87a8-6da2-4541-cdca-a9aacb11f5b2"
      },
      "execution_count": 9,
      "outputs": [
        {
          "output_type": "execute_result",
          "data": {
            "text/plain": [
              "\"doesn't\""
            ],
            "application/vnd.google.colaboratory.intrinsic+json": {
              "type": "string"
            }
          },
          "metadata": {},
          "execution_count": 9
        }
      ]
    },
    {
      "cell_type": "code",
      "source": [
        "\"doesn't\"  # ...or use double quotes instead"
      ],
      "metadata": {
        "colab": {
          "base_uri": "https://localhost:8080/",
          "height": 35
        },
        "id": "6JeZ7OqiXGVR",
        "outputId": "7ec0ba2a-5ebc-42f0-96b9-f9873bf38ff4"
      },
      "execution_count": 10,
      "outputs": [
        {
          "output_type": "execute_result",
          "data": {
            "text/plain": [
              "\"doesn't\""
            ],
            "application/vnd.google.colaboratory.intrinsic+json": {
              "type": "string"
            }
          },
          "metadata": {},
          "execution_count": 10
        }
      ]
    },
    {
      "cell_type": "code",
      "source": [
        "'\"Yes,\" they said.'"
      ],
      "metadata": {
        "colab": {
          "base_uri": "https://localhost:8080/",
          "height": 35
        },
        "id": "vKKKEV3SXGLV",
        "outputId": "a308354e-eb46-4be2-96c5-4d3313c375eb"
      },
      "execution_count": 11,
      "outputs": [
        {
          "output_type": "execute_result",
          "data": {
            "text/plain": [
              "'\"Yes,\" they said.'"
            ],
            "application/vnd.google.colaboratory.intrinsic+json": {
              "type": "string"
            }
          },
          "metadata": {},
          "execution_count": 11
        }
      ]
    },
    {
      "cell_type": "code",
      "source": [
        "\"\\\"Yes,\\\" they said.\""
      ],
      "metadata": {
        "colab": {
          "base_uri": "https://localhost:8080/",
          "height": 35
        },
        "id": "eawyJHGcXF_H",
        "outputId": "e8a530f1-1633-440b-8117-4a635ea6f253"
      },
      "execution_count": 12,
      "outputs": [
        {
          "output_type": "execute_result",
          "data": {
            "text/plain": [
              "'\"Yes,\" they said.'"
            ],
            "application/vnd.google.colaboratory.intrinsic+json": {
              "type": "string"
            }
          },
          "metadata": {},
          "execution_count": 12
        }
      ]
    },
    {
      "cell_type": "code",
      "source": [
        "'\"Isn\\'t,\" they said.'"
      ],
      "metadata": {
        "colab": {
          "base_uri": "https://localhost:8080/",
          "height": 35
        },
        "id": "hZhAPwUTXFuC",
        "outputId": "ba5c948a-6cd6-4f19-e89e-94ab19a14d82"
      },
      "execution_count": 13,
      "outputs": [
        {
          "output_type": "execute_result",
          "data": {
            "text/plain": [
              "'\"Isn\\'t,\" they said.'"
            ],
            "application/vnd.google.colaboratory.intrinsic+json": {
              "type": "string"
            }
          },
          "metadata": {},
          "execution_count": 13
        }
      ]
    },
    {
      "cell_type": "markdown",
      "source": [
        "En el intérprete interactivo, la salida de caracteres está encerrada en comillas y los caracteres especiales se escapan con barras invertidas. Aunque esto a veces se vea diferente de la entrada (las comillas que encierran pueden cambiar), las dos cadenas son equivalentes. La cadena se encierra en comillas dobles si la cadena contiene una comilla simple y ninguna doble, de lo contrario es encerrada en comillas simples. La función print() produce una salida más legible, omitiendo las comillas que la encierran e imprimiendo caracteres especiales y escapados:"
      ],
      "metadata": {
        "id": "6WhMPWejdhyy"
      }
    },
    {
      "cell_type": "code",
      "source": [
        "'\"Isn\\'t,\" they said.'"
      ],
      "metadata": {
        "colab": {
          "base_uri": "https://localhost:8080/",
          "height": 35
        },
        "id": "ovztTC38XFeH",
        "outputId": "8db86276-9a21-47e8-d3a4-f1bd02b6526a"
      },
      "execution_count": 14,
      "outputs": [
        {
          "output_type": "execute_result",
          "data": {
            "text/plain": [
              "'\"Isn\\'t,\" they said.'"
            ],
            "application/vnd.google.colaboratory.intrinsic+json": {
              "type": "string"
            }
          },
          "metadata": {},
          "execution_count": 14
        }
      ]
    },
    {
      "cell_type": "code",
      "source": [
        "print('\"Isn\\'t,\" they said.')"
      ],
      "metadata": {
        "colab": {
          "base_uri": "https://localhost:8080/"
        },
        "id": "fwPdXZXdXFL5",
        "outputId": "d0e1a5ec-108e-4c71-ca48-b59da42adc82"
      },
      "execution_count": 18,
      "outputs": [
        {
          "output_type": "stream",
          "name": "stdout",
          "text": [
            "\"Isn't,\" they said.\n"
          ]
        }
      ]
    },
    {
      "cell_type": "code",
      "source": [
        "s = 'First line.\\nSecond line.'  # \\n means newline"
      ],
      "metadata": {
        "id": "EjLU35jRXE_r"
      },
      "execution_count": 19,
      "outputs": []
    },
    {
      "cell_type": "code",
      "source": [
        "s = 'First line.\\nSecond line.'  # \\n means newline\n",
        "s  # without print(), \\n is included in the output"
      ],
      "metadata": {
        "colab": {
          "base_uri": "https://localhost:8080/",
          "height": 35
        },
        "id": "O0gW7wMaXE0J",
        "outputId": "185be6b0-1b81-4f7e-a87b-799e22ebf0e3"
      },
      "execution_count": 20,
      "outputs": [
        {
          "output_type": "execute_result",
          "data": {
            "text/plain": [
              "'First line.\\nSecond line.'"
            ],
            "application/vnd.google.colaboratory.intrinsic+json": {
              "type": "string"
            }
          },
          "metadata": {},
          "execution_count": 20
        }
      ]
    },
    {
      "cell_type": "code",
      "source": [
        "s = 'First line.\\nSecond line.'  # \\n means newline \n",
        "s  # without print(), \\n is included in the output\n",
        "print(s)  # with print(), \\n produces a new line"
      ],
      "metadata": {
        "colab": {
          "base_uri": "https://localhost:8080/"
        },
        "id": "QhJHWl3AeBlx",
        "outputId": "be10e1ff-9c0a-4163-dfa8-9940fcc05ed8"
      },
      "execution_count": 21,
      "outputs": [
        {
          "output_type": "stream",
          "name": "stdout",
          "text": [
            "First line.\n",
            "Second line.\n"
          ]
        }
      ]
    },
    {
      "cell_type": "markdown",
      "source": [
        "Si no quieres que los caracteres precedidos por \\ se interpreten como caracteres especiales, puedes usar cadenas sin formato agregando una r antes de la primera comilla:"
      ],
      "metadata": {
        "id": "vQBMk315eVSY"
      }
    },
    {
      "cell_type": "code",
      "source": [
        "print(s)  # with print(), \\n produces a new line"
      ],
      "metadata": {
        "colab": {
          "base_uri": "https://localhost:8080/"
        },
        "id": "yv-DtC6beBit",
        "outputId": "38f856e5-edb8-4fed-a97d-7d3fe7e24b27"
      },
      "execution_count": 22,
      "outputs": [
        {
          "output_type": "stream",
          "name": "stdout",
          "text": [
            "First line.\n",
            "Second line.\n"
          ]
        }
      ]
    },
    {
      "cell_type": "code",
      "source": [
        "print('C:\\some\\name')  # here \\n means newline!"
      ],
      "metadata": {
        "colab": {
          "base_uri": "https://localhost:8080/"
        },
        "id": "VSJjn5tEeBf3",
        "outputId": "90ce728c-f91e-4685-8774-dff4b5f40206"
      },
      "execution_count": 23,
      "outputs": [
        {
          "output_type": "stream",
          "name": "stdout",
          "text": [
            "C:\\some\n",
            "ame\n"
          ]
        }
      ]
    },
    {
      "cell_type": "code",
      "source": [
        "print(r'C:\\some\\name')  # note the r before the quote"
      ],
      "metadata": {
        "colab": {
          "base_uri": "https://localhost:8080/"
        },
        "id": "zQVyZRlteBbt",
        "outputId": "d862deaf-7466-494f-a27c-95b6bf755dfb"
      },
      "execution_count": 24,
      "outputs": [
        {
          "output_type": "stream",
          "name": "stdout",
          "text": [
            "C:\\some\\name\n"
          ]
        }
      ]
    },
    {
      "cell_type": "markdown",
      "source": [
        "There is one subtle aspect to raw strings: a raw string may not end in an odd number of \\ characters; see the FAQ entry for more information and workarounds.\n",
        "\n",
        "Hay un aspecto sutil en las cadenas sin formato: una cadena sin formato no puede terminar en un número impar de \\ caracteres; consulte la entrada de preguntas frecuentes para obtener más información y soluciones alternativas.\n",
        "\n",
        "Las cadenas de texto literales pueden contener múltiples líneas. Una forma es usar triples comillas: \"\"\"...\"\"\" o '''...'''. Los fin de línea son incluidos automáticamente, pero es posible prevenir esto agregando una \\ al final de la línea. Por ejemplo:"
      ],
      "metadata": {
        "id": "BsLxmkZ7eslE"
      }
    },
    {
      "cell_type": "code",
      "source": [
        "print(\"\"\"\\\n",
        "Usage: thingy [OPTIONS]\n",
        "     -h                        Display this usage message\n",
        "     -H hostname               Hostname to connect to\n",
        "\"\"\")"
      ],
      "metadata": {
        "colab": {
          "base_uri": "https://localhost:8080/"
        },
        "id": "0vSpExyQeBWD",
        "outputId": "72fe57a3-b777-4bd1-af33-6136fef924c1"
      },
      "execution_count": 25,
      "outputs": [
        {
          "output_type": "stream",
          "name": "stdout",
          "text": [
            "Usage: thingy [OPTIONS]\n",
            "     -h                        Display this usage message\n",
            "     -H hostname               Hostname to connect to\n",
            "\n"
          ]
        }
      ]
    },
    {
      "cell_type": "markdown",
      "source": [
        "produce la siguiente salida (tened en cuenta que la línea inicial no está incluida):\n",
        "\n",
        "Usage: thingy [OPTIONS]\n",
        "     -h                        Display this usage message\n",
        "     -H hostname               Hostname to connect to\n",
        "\n",
        "\n",
        "traducido: \n",
        "Uso: cosita [OPCIONES] -h Mostrar este mensaje de uso -H nombre de host Nombre de host al que conectarse"
      ],
      "metadata": {
        "id": "CVhW7-bfe_Ob"
      }
    },
    {
      "cell_type": "code",
      "source": [
        "# Las cadenas se pueden concatenar (pegar juntas) con el operador + y se pueden repetir con *:"
      ],
      "metadata": {
        "id": "hgKZQVhofHEk"
      },
      "execution_count": null,
      "outputs": []
    },
    {
      "cell_type": "code",
      "source": [
        "# 3 times 'un', followed by 'ium'\n",
        "3 * 'un' + 'ium'\n",
        "# 'unununium'"
      ],
      "metadata": {
        "colab": {
          "base_uri": "https://localhost:8080/",
          "height": 35
        },
        "id": "Q5MTE3R7eBR7",
        "outputId": "45b65cb2-00b0-497c-f39c-c8b03cf36a72"
      },
      "execution_count": 26,
      "outputs": [
        {
          "output_type": "execute_result",
          "data": {
            "text/plain": [
              "'unununium'"
            ],
            "application/vnd.google.colaboratory.intrinsic+json": {
              "type": "string"
            }
          },
          "metadata": {},
          "execution_count": 26
        }
      ]
    },
    {
      "cell_type": "markdown",
      "source": [
        "Dos o más cadenas literales (es decir, las encerradas entre comillas) una al lado de la otra se concatenan automáticamente."
      ],
      "metadata": {
        "id": "FTjVO-_XfftO"
      }
    },
    {
      "cell_type": "code",
      "source": [
        "'Py' 'thon'"
      ],
      "metadata": {
        "colab": {
          "base_uri": "https://localhost:8080/",
          "height": 35
        },
        "id": "OCCAqEIJXEHF",
        "outputId": "28aff670-fdbf-41bb-8b88-a73d30262239"
      },
      "execution_count": 27,
      "outputs": [
        {
          "output_type": "execute_result",
          "data": {
            "text/plain": [
              "'Python'"
            ],
            "application/vnd.google.colaboratory.intrinsic+json": {
              "type": "string"
            }
          },
          "metadata": {},
          "execution_count": 27
        }
      ]
    },
    {
      "cell_type": "code",
      "source": [
        "text = ('Put several strings within parentheses '\n",
        "'to have them joined together.')\n",
        " #  ('Pon varias cadenas entre paréntesis' ... 'para unirlos.')\n",
        "text"
      ],
      "metadata": {
        "colab": {
          "base_uri": "https://localhost:8080/",
          "height": 35
        },
        "id": "wGpEY5YTfkzX",
        "outputId": "39f45c7f-e2fb-4e40-b857-a68695ede611"
      },
      "execution_count": 32,
      "outputs": [
        {
          "output_type": "execute_result",
          "data": {
            "text/plain": [
              "'Put several strings within parentheses to have them joined together.'"
            ],
            "application/vnd.google.colaboratory.intrinsic+json": {
              "type": "string"
            }
          },
          "metadata": {},
          "execution_count": 32
        }
      ]
    },
    {
      "cell_type": "markdown",
      "source": [
        "Esto solo funciona con dos literales, no con variables ni expresiones:"
      ],
      "metadata": {
        "id": "k8YU1fKJkKcq"
      }
    },
    {
      "cell_type": "code",
      "source": [
        "prefix = 'Py'\n",
        "prefix 'thon'  # can't concatenate a variable and a string literal"
      ],
      "metadata": {
        "colab": {
          "base_uri": "https://localhost:8080/",
          "height": 130
        },
        "id": "OxfEHRZMfkwI",
        "outputId": "18834f8a-a851-4c21-90ec-fc1780164976"
      },
      "execution_count": 34,
      "outputs": [
        {
          "output_type": "error",
          "ename": "SyntaxError",
          "evalue": "ignored",
          "traceback": [
            "\u001b[0;36m  File \u001b[0;32m\"<ipython-input-34-20527b549823>\"\u001b[0;36m, line \u001b[0;32m2\u001b[0m\n\u001b[0;31m    prefix 'thon'  # can't concatenate a variable and a string literal\u001b[0m\n\u001b[0m           ^\u001b[0m\n\u001b[0;31mSyntaxError\u001b[0m\u001b[0;31m:\u001b[0m invalid syntax\n"
          ]
        }
      ]
    },
    {
      "cell_type": "code",
      "source": [
        "('un' * 3) 'ium'"
      ],
      "metadata": {
        "colab": {
          "base_uri": "https://localhost:8080/",
          "height": 130
        },
        "id": "Fb8ufPTWfkou",
        "outputId": "f3045f6c-5f02-469f-b8e2-aa7380c1f4c6"
      },
      "execution_count": 35,
      "outputs": [
        {
          "output_type": "error",
          "ename": "SyntaxError",
          "evalue": "ignored",
          "traceback": [
            "\u001b[0;36m  File \u001b[0;32m\"<ipython-input-35-f4764cbe42a8>\"\u001b[0;36m, line \u001b[0;32m1\u001b[0m\n\u001b[0;31m    ('un' * 3) 'ium'\u001b[0m\n\u001b[0m               ^\u001b[0m\n\u001b[0;31mSyntaxError\u001b[0m\u001b[0;31m:\u001b[0m invalid syntax\n"
          ]
        }
      ]
    },
    {
      "cell_type": "code",
      "source": [
        "# Si quieres concatenar variables o una variable y un literal, usa +:\n",
        "prefix = 'Py'\n",
        "prefix + 'thon'"
      ],
      "metadata": {
        "colab": {
          "base_uri": "https://localhost:8080/",
          "height": 35
        },
        "id": "1WHAb_0cfkk3",
        "outputId": "b52716df-8d0b-4580-d728-263603df74c9"
      },
      "execution_count": 37,
      "outputs": [
        {
          "output_type": "execute_result",
          "data": {
            "text/plain": [
              "'Python'"
            ],
            "application/vnd.google.colaboratory.intrinsic+json": {
              "type": "string"
            }
          },
          "metadata": {},
          "execution_count": 37
        }
      ]
    },
    {
      "cell_type": "markdown",
      "source": [
        "Las cadenas de texto se pueden indexar (subíndices), el primer carácter de la cadena tiene el índice 0. No hay un tipo de dato diferente para los caracteres; un carácter es simplemente una cadena de longitud uno:"
      ],
      "metadata": {
        "id": "NmXLb0M9kpe0"
      }
    },
    {
      "cell_type": "code",
      "source": [
        "word = 'Python'\n",
        "word[0]  # character in position 0"
      ],
      "metadata": {
        "colab": {
          "base_uri": "https://localhost:8080/",
          "height": 35
        },
        "id": "fY-a2M-ifkh0",
        "outputId": "b039941b-8985-4acc-d041-e1286e7e130a"
      },
      "execution_count": 38,
      "outputs": [
        {
          "output_type": "execute_result",
          "data": {
            "text/plain": [
              "'P'"
            ],
            "application/vnd.google.colaboratory.intrinsic+json": {
              "type": "string"
            }
          },
          "metadata": {},
          "execution_count": 38
        }
      ]
    },
    {
      "cell_type": "code",
      "source": [
        "word[5]  # character in position 5"
      ],
      "metadata": {
        "colab": {
          "base_uri": "https://localhost:8080/",
          "height": 35
        },
        "id": "vsrOYi9Bfkeh",
        "outputId": "d48feb85-e24f-44fb-bdf4-65cc75615e10"
      },
      "execution_count": 39,
      "outputs": [
        {
          "output_type": "execute_result",
          "data": {
            "text/plain": [
              "'n'"
            ],
            "application/vnd.google.colaboratory.intrinsic+json": {
              "type": "string"
            }
          },
          "metadata": {},
          "execution_count": 39
        }
      ]
    },
    {
      "cell_type": "code",
      "source": [
        "# Los índices quizás sean números negativos, para empezar a contar desde la derecha:\n",
        "word[-1]  # last character\n",
        "#'n'\n",
        "#word[-2]  # second-last character\n",
        "#'o'\n",
        "#word[-6]\n",
        "#'P'"
      ],
      "metadata": {
        "colab": {
          "base_uri": "https://localhost:8080/",
          "height": 35
        },
        "id": "bWVJpbvnfkah",
        "outputId": "ed668157-e34c-4810-f459-378a10d48a62"
      },
      "execution_count": 40,
      "outputs": [
        {
          "output_type": "execute_result",
          "data": {
            "text/plain": [
              "'P'"
            ],
            "application/vnd.google.colaboratory.intrinsic+json": {
              "type": "string"
            }
          },
          "metadata": {},
          "execution_count": 40
        }
      ]
    },
    {
      "cell_type": "code",
      "source": [
        "word[-2]  # second-last character"
      ],
      "metadata": {
        "colab": {
          "base_uri": "https://localhost:8080/",
          "height": 35
        },
        "id": "KAGtpab3fkU9",
        "outputId": "cfde64c3-fa9e-4d57-da73-9ccc7373c3b2"
      },
      "execution_count": 41,
      "outputs": [
        {
          "output_type": "execute_result",
          "data": {
            "text/plain": [
              "'o'"
            ],
            "application/vnd.google.colaboratory.intrinsic+json": {
              "type": "string"
            }
          },
          "metadata": {},
          "execution_count": 41
        }
      ]
    },
    {
      "cell_type": "code",
      "source": [
        "word[-6]"
      ],
      "metadata": {
        "colab": {
          "base_uri": "https://localhost:8080/",
          "height": 35
        },
        "id": "YgXNMtYnfkP6",
        "outputId": "d91eb41a-7826-4b3b-db3a-ee4a6d04e555"
      },
      "execution_count": 42,
      "outputs": [
        {
          "output_type": "execute_result",
          "data": {
            "text/plain": [
              "'P'"
            ],
            "application/vnd.google.colaboratory.intrinsic+json": {
              "type": "string"
            }
          },
          "metadata": {},
          "execution_count": 42
        }
      ]
    },
    {
      "cell_type": "markdown",
      "source": [
        "Nota que -0 es lo mismo que 0, los índice negativos comienzan desde -1.\n",
        "\n",
        "Además de los índices, las rebanadas también están soportadas. Mientras que los índices se utilizar para obtener caracteres individuales, las rebanadas te permiten obtener partes de las cadenas de texto:"
      ],
      "metadata": {
        "id": "V1LT1pErlFys"
      }
    },
    {
      "cell_type": "code",
      "source": [
        "word[0:2]  # characters from position 0 (included) to 2 (excluded)"
      ],
      "metadata": {
        "colab": {
          "base_uri": "https://localhost:8080/",
          "height": 35
        },
        "id": "SM5F7LLGfkMS",
        "outputId": "26fdb15a-b9d7-4c7f-bc66-37cad5073b9e"
      },
      "execution_count": 43,
      "outputs": [
        {
          "output_type": "execute_result",
          "data": {
            "text/plain": [
              "'Py'"
            ],
            "application/vnd.google.colaboratory.intrinsic+json": {
              "type": "string"
            }
          },
          "metadata": {},
          "execution_count": 43
        }
      ]
    },
    {
      "cell_type": "code",
      "source": [
        "word[2:5]  # characters from position 2 (included) to 5 (excluded)"
      ],
      "metadata": {
        "colab": {
          "base_uri": "https://localhost:8080/",
          "height": 35
        },
        "id": "wiAEu6wcfkI5",
        "outputId": "5a7e7df9-21be-4195-cbdd-4678515af071"
      },
      "execution_count": 44,
      "outputs": [
        {
          "output_type": "execute_result",
          "data": {
            "text/plain": [
              "'tho'"
            ],
            "application/vnd.google.colaboratory.intrinsic+json": {
              "type": "string"
            }
          },
          "metadata": {},
          "execution_count": 44
        }
      ]
    },
    {
      "cell_type": "markdown",
      "source": [
        "Los índices de las rebanadas tienen valores por defecto útiles; el valor por defecto para el primer índice es cero, el valor por defecto para el segundo índice es la longitud de la cadena a rebanar."
      ],
      "metadata": {
        "id": "NL0LOjLnlSpp"
      }
    },
    {
      "cell_type": "code",
      "source": [
        "word[:2]   # character from the beginning to position 2 (excluded)"
      ],
      "metadata": {
        "colab": {
          "base_uri": "https://localhost:8080/",
          "height": 35
        },
        "id": "vPOv3PgsfkFn",
        "outputId": "af86b11c-74e9-479e-89cd-46ed4da18797"
      },
      "execution_count": 45,
      "outputs": [
        {
          "output_type": "execute_result",
          "data": {
            "text/plain": [
              "'Py'"
            ],
            "application/vnd.google.colaboratory.intrinsic+json": {
              "type": "string"
            }
          },
          "metadata": {},
          "execution_count": 45
        }
      ]
    },
    {
      "cell_type": "code",
      "source": [
        "word[4:]   # characters from position 4 (included) to the end"
      ],
      "metadata": {
        "colab": {
          "base_uri": "https://localhost:8080/",
          "height": 35
        },
        "id": "kk35jZGpfkBr",
        "outputId": "49d51841-0470-4d9d-956e-09894d12bd21"
      },
      "execution_count": 46,
      "outputs": [
        {
          "output_type": "execute_result",
          "data": {
            "text/plain": [
              "'on'"
            ],
            "application/vnd.google.colaboratory.intrinsic+json": {
              "type": "string"
            }
          },
          "metadata": {},
          "execution_count": 46
        }
      ]
    },
    {
      "cell_type": "code",
      "source": [
        "word[-2:]  # characters from the second-last (included) to the end"
      ],
      "metadata": {
        "colab": {
          "base_uri": "https://localhost:8080/",
          "height": 35
        },
        "id": "B9mXOnsVl3YK",
        "outputId": "f1dceae6-2fb4-4d57-a433-548262e8bdef"
      },
      "execution_count": 47,
      "outputs": [
        {
          "output_type": "execute_result",
          "data": {
            "text/plain": [
              "'on'"
            ],
            "application/vnd.google.colaboratory.intrinsic+json": {
              "type": "string"
            }
          },
          "metadata": {},
          "execution_count": 47
        }
      ]
    },
    {
      "cell_type": "markdown",
      "source": [
        "Nota cómo el inicio siempre se incluye y el final siempre se excluye. Esto asegura que s[:i] + s[i:] siempre sea igual a s:"
      ],
      "metadata": {
        "id": "XTXmZ2jjmgUr"
      }
    },
    {
      "cell_type": "code",
      "source": [
        "word[:2] + word[2:]"
      ],
      "metadata": {
        "colab": {
          "base_uri": "https://localhost:8080/",
          "height": 35
        },
        "id": "Puxrgqnul3VB",
        "outputId": "4223e7e2-2a48-4201-8e45-a08b76de42ec"
      },
      "execution_count": 48,
      "outputs": [
        {
          "output_type": "execute_result",
          "data": {
            "text/plain": [
              "'Python'"
            ],
            "application/vnd.google.colaboratory.intrinsic+json": {
              "type": "string"
            }
          },
          "metadata": {},
          "execution_count": 48
        }
      ]
    },
    {
      "cell_type": "code",
      "source": [
        "word[:4] + word[4:]"
      ],
      "metadata": {
        "colab": {
          "base_uri": "https://localhost:8080/",
          "height": 35
        },
        "id": "jVhgifrwl3QI",
        "outputId": "e7c7252d-42a6-43b7-a6fb-16a0565320f0"
      },
      "execution_count": 49,
      "outputs": [
        {
          "output_type": "execute_result",
          "data": {
            "text/plain": [
              "'Python'"
            ],
            "application/vnd.google.colaboratory.intrinsic+json": {
              "type": "string"
            }
          },
          "metadata": {},
          "execution_count": 49
        }
      ]
    },
    {
      "cell_type": "markdown",
      "source": [
        "Una forma de recordar cómo funcionan las rebanadas es pensar que los índices apuntan entre caracteres, con el borde izquierdo del primer carácter numerado 0. Luego, el punto derecho del último carácter de una cadena de n caracteres tiene un índice n, por ejemplo"
      ],
      "metadata": {
        "id": "oFdu7kESmvdl"
      }
    },
    {
      "cell_type": "code",
      "source": [
        " +---+---+---+---+---+---+\n",
        " | P | y | t | h | o | n |\n",
        " +---+---+---+---+---+---+\n",
        " 0   1   2   3   4   5   6\n",
        "-6  -5  -4  -3  -2  -1"
      ],
      "metadata": {
        "id": "xMC6yB2gl3Mq"
      },
      "execution_count": null,
      "outputs": []
    },
    {
      "cell_type": "markdown",
      "source": [
        "La primera fila de números da la posición de los índices 0…6 en la cadena; La segunda fila da los correspondientes indices negativos. La rebanada desde i hasta j consta de todos los caracteres entre los bordes etiquetados i y j, respectivamente.\n",
        "\n",
        "Para índices no negativos, la longitud de la rebanada es la diferencia de los índices, si ambos están dentro de los límites. Por ejemplo, la longitud de word[1:3] es 2.\n",
        "\n",
        "Intentar usar un índice que es muy grande resultará en un error:"
      ],
      "metadata": {
        "id": "5YDWGf49nDdy"
      }
    },
    {
      "cell_type": "code",
      "source": [
        "word[42]  # the word only has 6 characters"
      ],
      "metadata": {
        "colab": {
          "base_uri": "https://localhost:8080/",
          "height": 165
        },
        "id": "kPSebu5-l3JG",
        "outputId": "538f8803-f381-47a2-8260-884ccd67da60"
      },
      "execution_count": 50,
      "outputs": [
        {
          "output_type": "error",
          "ename": "IndexError",
          "evalue": "ignored",
          "traceback": [
            "\u001b[0;31m---------------------------------------------------------------------------\u001b[0m",
            "\u001b[0;31mIndexError\u001b[0m                                Traceback (most recent call last)",
            "\u001b[0;32m<ipython-input-50-469c6d99b5b2>\u001b[0m in \u001b[0;36m<module>\u001b[0;34m\u001b[0m\n\u001b[0;32m----> 1\u001b[0;31m \u001b[0mword\u001b[0m\u001b[0;34m[\u001b[0m\u001b[0;36m42\u001b[0m\u001b[0;34m]\u001b[0m  \u001b[0;31m# the word only has 6 characters\u001b[0m\u001b[0;34m\u001b[0m\u001b[0;34m\u001b[0m\u001b[0m\n\u001b[0m",
            "\u001b[0;31mIndexError\u001b[0m: string index out of range"
          ]
        }
      ]
    },
    {
      "cell_type": "markdown",
      "source": [
        "Sin embargo, los índices de rebanadas fuera de rango se manejan satisfactoriamente cuando se usan para rebanar:"
      ],
      "metadata": {
        "id": "fZhaMEBmokvN"
      }
    },
    {
      "cell_type": "code",
      "source": [
        "word[4:42]"
      ],
      "metadata": {
        "colab": {
          "base_uri": "https://localhost:8080/",
          "height": 35
        },
        "id": "hN5JOJQhl3FO",
        "outputId": "b54b9e65-a831-4657-b48f-b7d0c0531684"
      },
      "execution_count": 51,
      "outputs": [
        {
          "output_type": "execute_result",
          "data": {
            "text/plain": [
              "'on'"
            ],
            "application/vnd.google.colaboratory.intrinsic+json": {
              "type": "string"
            }
          },
          "metadata": {},
          "execution_count": 51
        }
      ]
    },
    {
      "cell_type": "code",
      "source": [
        "word[42:]"
      ],
      "metadata": {
        "colab": {
          "base_uri": "https://localhost:8080/",
          "height": 35
        },
        "id": "ikBg7npQl3CI",
        "outputId": "a894f917-413a-4d20-eb2f-4248ed69a291"
      },
      "execution_count": 52,
      "outputs": [
        {
          "output_type": "execute_result",
          "data": {
            "text/plain": [
              "''"
            ],
            "application/vnd.google.colaboratory.intrinsic+json": {
              "type": "string"
            }
          },
          "metadata": {},
          "execution_count": 52
        }
      ]
    },
    {
      "cell_type": "markdown",
      "source": [
        "Las cadenas de Python no se pueden modificar, son immutable. Por eso, asignar a una posición indexada de la cadena resulta en un error:"
      ],
      "metadata": {
        "id": "Q-fqbG9noxX8"
      }
    },
    {
      "cell_type": "code",
      "source": [
        "word[0] = 'J'  # el objeto no admite la asignación de elementos"
      ],
      "metadata": {
        "colab": {
          "base_uri": "https://localhost:8080/",
          "height": 165
        },
        "id": "t5hD1bQnl2-h",
        "outputId": "abdac1c4-7c9b-4528-f6fd-c08f8d80c921"
      },
      "execution_count": 53,
      "outputs": [
        {
          "output_type": "error",
          "ename": "TypeError",
          "evalue": "ignored",
          "traceback": [
            "\u001b[0;31m---------------------------------------------------------------------------\u001b[0m",
            "\u001b[0;31mTypeError\u001b[0m                                 Traceback (most recent call last)",
            "\u001b[0;32m<ipython-input-53-91a956888ca7>\u001b[0m in \u001b[0;36m<module>\u001b[0;34m\u001b[0m\n\u001b[0;32m----> 1\u001b[0;31m \u001b[0mword\u001b[0m\u001b[0;34m[\u001b[0m\u001b[0;36m0\u001b[0m\u001b[0;34m]\u001b[0m \u001b[0;34m=\u001b[0m \u001b[0;34m'J'\u001b[0m\u001b[0;34m\u001b[0m\u001b[0;34m\u001b[0m\u001b[0m\n\u001b[0m",
            "\u001b[0;31mTypeError\u001b[0m: 'str' object does not support item assignment"
          ]
        }
      ]
    },
    {
      "cell_type": "code",
      "source": [
        "word[2:] = 'py'  # el objeto no admite la asignación de elementos "
      ],
      "metadata": {
        "colab": {
          "base_uri": "https://localhost:8080/",
          "height": 165
        },
        "id": "dM8urWael27H",
        "outputId": "8286ef4d-c220-4379-ad01-7133cfd2fee6"
      },
      "execution_count": 54,
      "outputs": [
        {
          "output_type": "error",
          "ename": "TypeError",
          "evalue": "ignored",
          "traceback": [
            "\u001b[0;31m---------------------------------------------------------------------------\u001b[0m",
            "\u001b[0;31mTypeError\u001b[0m                                 Traceback (most recent call last)",
            "\u001b[0;32m<ipython-input-54-6488bbf78f5a>\u001b[0m in \u001b[0;36m<module>\u001b[0;34m\u001b[0m\n\u001b[0;32m----> 1\u001b[0;31m \u001b[0mword\u001b[0m\u001b[0;34m[\u001b[0m\u001b[0;36m2\u001b[0m\u001b[0;34m:\u001b[0m\u001b[0;34m]\u001b[0m \u001b[0;34m=\u001b[0m \u001b[0;34m'py'\u001b[0m\u001b[0;34m\u001b[0m\u001b[0;34m\u001b[0m\u001b[0m\n\u001b[0m",
            "\u001b[0;31mTypeError\u001b[0m: 'str' object does not support item assignment"
          ]
        }
      ]
    },
    {
      "cell_type": "code",
      "source": [
        "# Si necesitas una cadena diferente, deberías crear una nueva:\n",
        "\n",
        "'J' + word[1:]"
      ],
      "metadata": {
        "colab": {
          "base_uri": "https://localhost:8080/",
          "height": 35
        },
        "id": "s0CQ1ghpl24D",
        "outputId": "00e7242d-24fd-40e6-d5be-abe9dde4679f"
      },
      "execution_count": 55,
      "outputs": [
        {
          "output_type": "execute_result",
          "data": {
            "text/plain": [
              "'Jython'"
            ],
            "application/vnd.google.colaboratory.intrinsic+json": {
              "type": "string"
            }
          },
          "metadata": {},
          "execution_count": 55
        }
      ]
    },
    {
      "cell_type": "code",
      "source": [
        "word[:2] + 'py'"
      ],
      "metadata": {
        "colab": {
          "base_uri": "https://localhost:8080/",
          "height": 35
        },
        "id": "7DR62lY0pr9Y",
        "outputId": "4c8e39fc-9516-47ef-e0b5-7bcff1f30931"
      },
      "execution_count": 56,
      "outputs": [
        {
          "output_type": "execute_result",
          "data": {
            "text/plain": [
              "'Pypy'"
            ],
            "application/vnd.google.colaboratory.intrinsic+json": {
              "type": "string"
            }
          },
          "metadata": {},
          "execution_count": 56
        }
      ]
    },
    {
      "cell_type": "code",
      "source": [
        "# La función incorporada len() retorna la longitud de una cadena:\n",
        "s = 'supercalifragilisticexpialidocious'\n",
        "len(s)"
      ],
      "metadata": {
        "colab": {
          "base_uri": "https://localhost:8080/"
        },
        "id": "zVF-xPYzl2v2",
        "outputId": "2b84030a-5dbd-4d42-e709-389027cf73c2"
      },
      "execution_count": 57,
      "outputs": [
        {
          "output_type": "execute_result",
          "data": {
            "text/plain": [
              "34"
            ]
          },
          "metadata": {},
          "execution_count": 57
        }
      ]
    },
    {
      "cell_type": "markdown",
      "source": [
        "3.1.3. Listas¶\n",
        "Python tiene varios tipos de datos compuestos, utilizados para agrupar otros valores. El más versátil es la lista, la cual puede ser escrita como una lista de valores separados por coma (ítems) entre corchetes. Las listas pueden contener ítems de diferentes tipos, pero usualmente los ítems son del mismo tipo."
      ],
      "metadata": {
        "id": "BkxwzNH6qpGa"
      }
    },
    {
      "cell_type": "code",
      "source": [],
      "metadata": {
        "id": "7ih9ngx-qMTs"
      },
      "execution_count": null,
      "outputs": []
    },
    {
      "cell_type": "code",
      "source": [],
      "metadata": {
        "id": "m3MlXn_0qMQF"
      },
      "execution_count": null,
      "outputs": []
    },
    {
      "cell_type": "code",
      "source": [],
      "metadata": {
        "id": "Djq27ERxqMMw"
      },
      "execution_count": null,
      "outputs": []
    },
    {
      "cell_type": "code",
      "source": [],
      "metadata": {
        "id": "sSO0APkQqMHY"
      },
      "execution_count": null,
      "outputs": []
    },
    {
      "cell_type": "code",
      "source": [],
      "metadata": {
        "id": "LrTH0KXQqL_a"
      },
      "execution_count": null,
      "outputs": []
    },
    {
      "cell_type": "code",
      "source": [],
      "metadata": {
        "id": "TXHiZiOHqL8C"
      },
      "execution_count": null,
      "outputs": []
    },
    {
      "cell_type": "code",
      "source": [],
      "metadata": {
        "id": "mdzsEvfrqL4v"
      },
      "execution_count": null,
      "outputs": []
    },
    {
      "cell_type": "code",
      "source": [],
      "metadata": {
        "id": "u2bFIGmpqL1f"
      },
      "execution_count": null,
      "outputs": []
    },
    {
      "cell_type": "code",
      "source": [],
      "metadata": {
        "id": "orMccvYxqLyK"
      },
      "execution_count": null,
      "outputs": []
    },
    {
      "cell_type": "code",
      "source": [],
      "metadata": {
        "id": "NeaznUApqLqG"
      },
      "execution_count": null,
      "outputs": []
    },
    {
      "cell_type": "code",
      "source": [],
      "metadata": {
        "id": "6D8j9bXfqLk9"
      },
      "execution_count": null,
      "outputs": []
    },
    {
      "cell_type": "code",
      "source": [
        "import tkinter \n",
        "\n",
        "tkinter.colorchooser \n",
        "# Cuadro de diálogo para que el usuario elija un color.\n",
        "tkinter.commondialog\n",
        "#Clase base para los diálogos definidos en los otros módulos enumerados aquí.\n",
        "\n",
        "tkinter.filedialog\n",
        "#Diálogos comunes para permitir al usuario especificar un archivo para abrir o guardar.\n",
        "\n",
        "tkinter.font\n",
        "#Utilidades para ayudar a trabajar con fuentes.\n",
        "\n",
        "tkinter.messagebox\n",
        "#Acceso a los cuadros de diálogo estándar de Tk.\n",
        "\n",
        "tkinter.scrolledtext\n",
        "#Widget de texto con una barra de desplazamiento vertical incorporada.\n",
        "\n",
        "tkinter.simpledialog\n",
        "#Diálogos básicos y funciones de conveniencia.\n",
        "\n",
        "tkinter.ttk\n",
        "#Conjunto de widgets temáticos introducido en Tk 8.5, que brinda alternativas modernas para muchos de los widgets clásicos en el tkintermódulo principal.\n",
        "\n",
        "#   idlelib\n",
        "#Entorno integrado de desarrollo y aprendizaje de Python (IDLE). Basado tkinteren\n",
        "\n",
        "tkinter.constants\n",
        "#Constantes simbólicas que se pueden usar en lugar de cadenas al pasar varios parámetros a las llamadas de Tkinter. Importado automáticamente por el tkintermódulo principal.\n",
        "\n",
        "tkinter.dnd\n",
        "#(experimental) Soporte de arrastrar y soltar para tkinter. Esto quedará obsoleto cuando se reemplace con Tk DND.\n",
        "\n",
        "tkinter.tix\n",
        "#(obsoleto) Un paquete Tcl/Tk de terceros más antiguo que agrega varios widgets nuevos. Se pueden encontrar mejores alternativas para la mayoría en tkinter.ttk.\n",
        "\n",
        "#   turtle\n",
        "#Gráficos de tortugas en una ventana Tk."
      ],
      "metadata": {
        "id": "nt0jklUHjKQs"
      },
      "execution_count": null,
      "outputs": []
    },
    {
      "cell_type": "code",
      "source": [
        "from tkinter import *     # Importando la libreria Tkinter por defecto \n",
        "from tkinter import ttk   # Importando las librerias acualizadas de tkinter \n",
        "\n",
        "root = Tk()    # Raíz principal de la ventana 1 \n",
        "# Después de las importaciones, la siguiente línea crea una instancia de la Tkclase, que inicializa Tk \n",
        "# y crea su intérprete Tcl asociado. También crea una ventana de nivel superior, conocida como ventana raíz, \n",
        "# que sirve como ventana principal de la aplicación.\n",
        "\n",
        "frm = ttk.Frame(root, padding = 50 )  # Aquí el frame es nombrado frm, no se para que servira el parametro padding = 10\n",
        "frm.grid(column = 20, row = 20 )    # Al parecer agregando el grid acá por defecto, se puede dividir el frame en tantas partes como se quiera\n",
        "# Aunque lo dividi y demás no parece haber cambios drásticos, por asi decirlo, en efecto, logré dividir el frame\n",
        "# Texto: \" Hola mundo \"\n",
        "\n",
        "# La siguiente línea crea un widget de marco, que en este caso contendrá una etiqueta y un botón que crearemos a \n",
        "# continuación. El marco se ajusta dentro de la ventana raíz.\n",
        "\n",
        "ttk.Label(frm, text=\"Hello World!\").grid(column=10, row=10) # Muestra un texto en el marco \n",
        "\n",
        "\n",
        "ttk.Button(frm, text=\"Quit\", command=root.destroy).grid(column=19, row=19) # Muestra un botón dentro del marco, cuyo parámetro es \n",
        "# frm, text=\"Quit\", command=root.destroy), así como la posición del mismo dentro del marco de la ventana principal \n",
        "# Es entonces cuando el botón del widget es creado y dejado a la derecha de la etiqueta.\n",
        "#  Una vez pulsado llamará al método destroy() de la ventana raíz.\n",
        "\n",
        "\n",
        "root.mainloop() # Mainloop \n",
        "# Finalmente el método mainloop() muestra todo en pantalla y responde a la entrada del usuario hasta que el programa termina."
      ],
      "metadata": {
        "id": "wMvS_ebEk_9s"
      },
      "execution_count": null,
      "outputs": []
    },
    {
      "cell_type": "code",
      "source": [
        "ttk::frame .frm -padding 10\n",
        "grid .frm\n",
        "grid [ttk::label .frm.lbl -text \"Hello World!\"] -column 0 -row 0\n",
        "grid [ttk::button .frm.btn -text \"Quit\" -command \"destroy .\"] -column 1 -row 0"
      ],
      "metadata": {
        "id": "Bz6bYKGCmUYL"
      },
      "execution_count": null,
      "outputs": []
    },
    {
      "cell_type": "code",
      "source": [
        "Cuando se busca sobre como usar una API, puede ser muy útil el saber exactamente el nombre de la clase, opción o método que está utilizando. Tener esto en cuenta de antemano, ya sea en un shell de Python interactivo o con print(), puede ayudar a identificar lo que necesitas.\n",
        "\n",
        "Para encontrar que opciones de configuración están disponibles en cada widget, se utiliza la llamada al método configure(), el cual retorna un diccionario que contiene una gran variedad de información sobre cada objeto, incluyendo valores por defecto y actuales. Utilice el keys() para saber los nombres de cada opción.\n",
        "\n",
        "btn = ttk.Button(frm, ...)\n",
        "print(btn.configure().keys())"
      ],
      "metadata": {
        "id": "pI7aGRQRo_Gi"
      },
      "execution_count": null,
      "outputs": []
    },
    {
      "cell_type": "code",
      "source": [
        "from tkinter import *     # Importando la libreria Tkinter por defecto \n",
        "from tkinter import ttk   # Importando las librerias acualizadas de tkinter \n",
        "\n",
        "root = Tk()    # Raíz principal de la ventana 1 \n",
        "# Después de las importaciones, la siguiente línea crea una instancia de la Tkclase, que inicializa Tk \n",
        "# y crea su intérprete Tcl asociado. También crea una ventana de nivel superior, conocida como ventana raíz, \n",
        "# que sirve como ventana principal de la aplicación.\n",
        "\n",
        "\n",
        "\n",
        "frm = ttk.Frame(root, padding = 50 )  # Aquí el frame es nombrado frm, no se para que servira el parametro padding = 10\n",
        "frm.grid(column = 20, row = 20 )    # Al parecer agregando el grid acá por defecto, se puede dividir el frame en tantas partes como se quiera\n",
        "# Aunque lo dividi y demás no parece haber cambios drásticos, por asi decirlo, en efecto, logré dividir el frame\n",
        "# Texto: \" Hola mundo \"\n",
        "\n",
        "\n",
        "btn = ttk.Button(frm)  # Tras usar está y la siugiente línea, la consola devuelve los siguientes dato\n",
        "print(btn.configure().keys())\n",
        "# dict_keys(['command', 'default', 'takefocus', 'text', 'textvariable', 'underline',\n",
        "#  'width', 'image', 'compound', 'padding', 'state', 'cursor', 'style', 'class']) \n",
        "\n",
        "\n",
        "\n",
        "\n",
        "# La siguiente línea crea un widget de marco, que en este caso contendrá una etiqueta y un botón que crearemos a \n",
        "# continuación. El marco se ajusta dentro de la ventana raíz.\n",
        "\n",
        "ttk.Label(frm, text=\"Hello World!\").grid(column=10, row=10) # Muestra un texto en el marco \n",
        "\n",
        "\n",
        "ttk.Button(frm, text=\"Quit\", command=root.destroy).grid(column=19, row=19) # Muestra un botón dentro del marco, cuyo parámetro es \n",
        "# frm, text=\"Quit\", command=root.destroy), así como la posición del mismo dentro del marco de la ventana principal \n",
        "# Es entonces cuando el botón del widget es creado y dejado a la derecha de la etiqueta.\n",
        "#  Una vez pulsado llamará al método destroy() de la ventana raíz.\n",
        "\n",
        "#ttk::frame .frm -padding 10\n",
        "#grid .frm\n",
        "#grid [ttk::label .frm.lbl -text \"Hello World!\"] -column 0 -row 0\n",
        "#grid [ttk::button .frm.btn -text \"Quit\" -command \"destroy .\"] -column 1 -row 0\n",
        "\n",
        "\n",
        "\n",
        "root.mainloop() # Mainloop \n",
        "# Finalmente el método mainloop() muestra todo en pantalla y responde a la entrada del usuario hasta que el programa termina."
      ],
      "metadata": {
        "id": "LTP8HacAB0eZ"
      },
      "execution_count": null,
      "outputs": []
    },
    {
      "cell_type": "code",
      "source": [
        "import tkinter as tk\n",
        "\n",
        "class App(tk.Frame):\n",
        "    def __init__(self, master=None):\n",
        "        super().__init__(master)\n",
        "        self.pack()\n",
        "\n",
        "# create the application\n",
        "myapp = App()\n",
        "\n",
        "#\n",
        "# here are method calls to the window manager class\n",
        "#\n",
        "myapp.master.title(\"My Do-Nothing Application\")\n",
        "myapp.master.maxsize(1000, 400)\n",
        "\n",
        "# start the program\n",
        "myapp.mainloop()\n",
        "\n",
        "\n",
        "# muestra unicamente los botones de la barra inicial de la ventana y nada más\n"
      ],
      "metadata": {
        "id": "2cEQUuEfB1uu"
      },
      "execution_count": null,
      "outputs": []
    }
  ]
}