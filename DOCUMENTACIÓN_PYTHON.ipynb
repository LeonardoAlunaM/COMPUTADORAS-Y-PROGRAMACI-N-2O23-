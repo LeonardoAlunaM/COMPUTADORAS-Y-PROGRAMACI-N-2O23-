{
  "nbformat": 4,
  "nbformat_minor": 0,
  "metadata": {
    "colab": {
      "provenance": [],
      "authorship_tag": "ABX9TyO20VGMXlt0HySXak/EkZAJ",
      "include_colab_link": true
    },
    "kernelspec": {
      "name": "python3",
      "display_name": "Python 3"
    },
    "language_info": {
      "name": "python"
    }
  },
  "cells": [
    {
      "cell_type": "markdown",
      "metadata": {
        "id": "view-in-github",
        "colab_type": "text"
      },
      "source": [
        "<a href=\"https://colab.research.google.com/github/LeonardoAlunaM/COMPUTADORAS-Y-PROGRAMACI-N-2O23-/blob/main-COMPUTADORAS-Y-PROGTRAMACI%C3%93N-2023/DOCUMENTACI%C3%93N_PYTHON.ipynb\" target=\"_parent\"><img src=\"https://colab.research.google.com/assets/colab-badge.svg\" alt=\"Open In Colab\"/></a>"
      ]
    },
    {
      "cell_type": "code",
      "execution_count": null,
      "metadata": {
        "colab": {
          "base_uri": "https://localhost:8080/"
        },
        "id": "J5CcMFOeIikI",
        "outputId": "5b32f9ca-8354-45e2-b2da-0f2fa2a158c8"
      },
      "outputs": [
        {
          "output_type": "stream",
          "name": "stdout",
          "text": [
            "Hola de nuevo\n",
            "Leonardo Luna\n"
          ]
        }
      ],
      "source": [
        "print(\"Hola de nuevo\");print(\"Leonardo Luna\")"
      ]
    },
    {
      "cell_type": "code",
      "source": [
        "import tkinter \n",
        "\n",
        "tkinter.colorchooser \n",
        "# Cuadro de diálogo para que el usuario elija un color.\n",
        "tkinter.commondialog\n",
        "#Clase base para los diálogos definidos en los otros módulos enumerados aquí.\n",
        "\n",
        "tkinter.filedialog\n",
        "#Diálogos comunes para permitir al usuario especificar un archivo para abrir o guardar.\n",
        "\n",
        "tkinter.font\n",
        "#Utilidades para ayudar a trabajar con fuentes.\n",
        "\n",
        "tkinter.messagebox\n",
        "#Acceso a los cuadros de diálogo estándar de Tk.\n",
        "\n",
        "tkinter.scrolledtext\n",
        "#Widget de texto con una barra de desplazamiento vertical incorporada.\n",
        "\n",
        "tkinter.simpledialog\n",
        "#Diálogos básicos y funciones de conveniencia.\n",
        "\n",
        "tkinter.ttk\n",
        "#Conjunto de widgets temáticos introducido en Tk 8.5, que brinda alternativas modernas para muchos de los widgets clásicos en el tkintermódulo principal.\n",
        "\n",
        "#   idlelib\n",
        "#Entorno integrado de desarrollo y aprendizaje de Python (IDLE). Basado tkinteren\n",
        "\n",
        "tkinter.constants\n",
        "#Constantes simbólicas que se pueden usar en lugar de cadenas al pasar varios parámetros a las llamadas de Tkinter. Importado automáticamente por el tkintermódulo principal.\n",
        "\n",
        "tkinter.dnd\n",
        "#(experimental) Soporte de arrastrar y soltar para tkinter. Esto quedará obsoleto cuando se reemplace con Tk DND.\n",
        "\n",
        "tkinter.tix\n",
        "#(obsoleto) Un paquete Tcl/Tk de terceros más antiguo que agrega varios widgets nuevos. Se pueden encontrar mejores alternativas para la mayoría en tkinter.ttk.\n",
        "\n",
        "#   turtle\n",
        "#Gráficos de tortugas en una ventana Tk."
      ],
      "metadata": {
        "id": "nt0jklUHjKQs"
      },
      "execution_count": null,
      "outputs": []
    },
    {
      "cell_type": "code",
      "source": [
        "from tkinter import *     # Importando la libreria Tkinter por defecto \n",
        "from tkinter import ttk   # Importando las librerias acualizadas de tkinter \n",
        "\n",
        "root = Tk()    # Raíz principal de la ventana 1 \n",
        "# Después de las importaciones, la siguiente línea crea una instancia de la Tkclase, que inicializa Tk \n",
        "# y crea su intérprete Tcl asociado. También crea una ventana de nivel superior, conocida como ventana raíz, \n",
        "# que sirve como ventana principal de la aplicación.\n",
        "\n",
        "frm = ttk.Frame(root, padding = 50 )  # Aquí el frame es nombrado frm, no se para que servira el parametro padding = 10\n",
        "frm.grid(column = 20, row = 20 )    # Al parecer agregando el grid acá por defecto, se puede dividir el frame en tantas partes como se quiera\n",
        "# Aunque lo dividi y demás no parece haber cambios drásticos, por asi decirlo, en efecto, logré dividir el frame\n",
        "# Texto: \" Hola mundo \"\n",
        "\n",
        "# La siguiente línea crea un widget de marco, que en este caso contendrá una etiqueta y un botón que crearemos a \n",
        "# continuación. El marco se ajusta dentro de la ventana raíz.\n",
        "\n",
        "ttk.Label(frm, text=\"Hello World!\").grid(column=10, row=10) # Muestra un texto en el marco \n",
        "\n",
        "\n",
        "ttk.Button(frm, text=\"Quit\", command=root.destroy).grid(column=19, row=19) # Muestra un botón dentro del marco, cuyo parámetro es \n",
        "# frm, text=\"Quit\", command=root.destroy), así como la posición del mismo dentro del marco de la ventana principal \n",
        "# Es entonces cuando el botón del widget es creado y dejado a la derecha de la etiqueta.\n",
        "#  Una vez pulsado llamará al método destroy() de la ventana raíz.\n",
        "\n",
        "\n",
        "root.mainloop() # Mainloop \n",
        "# Finalmente el método mainloop() muestra todo en pantalla y responde a la entrada del usuario hasta que el programa termina."
      ],
      "metadata": {
        "id": "wMvS_ebEk_9s"
      },
      "execution_count": null,
      "outputs": []
    },
    {
      "cell_type": "code",
      "source": [
        "ttk::frame .frm -padding 10\n",
        "grid .frm\n",
        "grid [ttk::label .frm.lbl -text \"Hello World!\"] -column 0 -row 0\n",
        "grid [ttk::button .frm.btn -text \"Quit\" -command \"destroy .\"] -column 1 -row 0"
      ],
      "metadata": {
        "id": "Bz6bYKGCmUYL"
      },
      "execution_count": null,
      "outputs": []
    },
    {
      "cell_type": "code",
      "source": [
        "Cuando se busca sobre como usar una API, puede ser muy útil el saber exactamente el nombre de la clase, opción o método que está utilizando. Tener esto en cuenta de antemano, ya sea en un shell de Python interactivo o con print(), puede ayudar a identificar lo que necesitas.\n",
        "\n",
        "Para encontrar que opciones de configuración están disponibles en cada widget, se utiliza la llamada al método configure(), el cual retorna un diccionario que contiene una gran variedad de información sobre cada objeto, incluyendo valores por defecto y actuales. Utilice el keys() para saber los nombres de cada opción.\n",
        "\n",
        "btn = ttk.Button(frm, ...)\n",
        "print(btn.configure().keys())"
      ],
      "metadata": {
        "id": "pI7aGRQRo_Gi"
      },
      "execution_count": null,
      "outputs": []
    }
  ]
}