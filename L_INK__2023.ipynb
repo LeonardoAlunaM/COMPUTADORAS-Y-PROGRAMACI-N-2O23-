{
  "nbformat": 4,
  "nbformat_minor": 0,
  "metadata": {
    "colab": {
      "provenance": [],
      "authorship_tag": "ABX9TyOyvx25kUshIdfHVxMu8E02",
      "include_colab_link": true
    },
    "kernelspec": {
      "name": "python3",
      "display_name": "Python 3"
    },
    "language_info": {
      "name": "python"
    }
  },
  "cells": [
    {
      "cell_type": "markdown",
      "metadata": {
        "id": "view-in-github",
        "colab_type": "text"
      },
      "source": [
        "<a href=\"https://colab.research.google.com/github/LeonardoAlunaM/COMPUTADORAS-Y-PROGRAMACI-N-2O23-/blob/main-COMPUTADORAS-Y-PROGTRAMACI%C3%93N-2023/L_INK__2023.ipynb\" target=\"_parent\"><img src=\"https://colab.research.google.com/assets/colab-badge.svg\" alt=\"Open In Colab\"/></a>"
      ]
    },
    {
      "cell_type": "code",
      "execution_count": null,
      "metadata": {
        "id": "4IXfsP3d9Kk0"
      },
      "outputs": [],
      "source": [
        "# En un principio se tienen pestañas para depurar código\n",
        "# main, settings y bebug"
      ]
    },
    {
      "cell_type": "code",
      "source": [
        "# main.py \n",
        "# pestaña que incluye el nombre del videojuego \n",
        "\n",
        "\n",
        "import pygame, sys \n",
        "from settings import * # Importando infromación desde settings, aquí habrá información importante en su momento \n",
        "# Una vez creado el nivel, importamos la información del mismo en la línea que sigue a continuación \n",
        "from level import Level \n",
        "\n",
        "class Game:           # La clase Game \n",
        "    def __init__(self): # El método __init__(self) inicializa el juego, e incluye el parámetro (self) dentro del mismo \n",
        "        # Ajustes generales \n",
        "        pygame.init() \n",
        "        self.screen = pygame.display.set_mode((WIDTH,HEIGHT)) # Se crea la superficie en exhibición, aquí se muestran todos los elemetos del juego\n",
        "        pygame.display.set_caption('Leonardo Link')  # Con está línea podemos cambiar el nombre de la ventana, cuando ya se está ejecutando el programa   \n",
        "        self.clock = pygame.time.Clock()     # Se crea un reloj interno para el videojuego, el cual controla parte de las acciones dentro del mismo \n",
        "                                             # Estas líneas son la configuración básica de cada videojuego  \n",
        "\n",
        "        self.level = Level() # Se agrega está linea del nivel, después de importarlo previamente en la línea 8\n",
        "        # Con está línea se está instanciando el nivel en la parte principal del juego \n",
        "\n",
        "    def run(self):   # Se define el método run, no estoy bien seguro de para que sirva, al parecer toma los eventos como clicks de botón u otros \n",
        "        while True: \n",
        "            for event in pygame.event.get():\n",
        "                if event.type == pygame.QUIT: \n",
        "                    pygame.quit() \n",
        "                    sys.exit() \n",
        "\n",
        "            self.screen.fill('black') # Rellenando el fondo de pantalla con un color, en este caso negro \n",
        "            self.level.run() # Se ejecunta la instancia nivel dentro de este bucle \n",
        "            pygame.display.update()   # Actualiza la pantalla\n",
        "            debug()   # Acá se puede agregar la información del debugger en cuestión \n",
        "            self.clock.tick(FPS)      # Controlando la cantidad de cuadros por segundo que aparacen en la pantalla.\n",
        "                                      # Frames per second, tal valor aparece en la ventana settings, donde FPS = 60  \n",
        "\n",
        "            \n",
        "\n",
        "if __name__ == '__main__': # Comprobando la existencia del archivo principal \n",
        "    game = Game()          # Creando una instancia para la clase juego \n",
        "    game.run()             # Llamando al método run de juego para ejecutarlo\n"
      ],
      "metadata": {
        "id": "LdGbbn7Rxg50"
      },
      "execution_count": null,
      "outputs": []
    },
    {
      "cell_type": "code",
      "source": [
        "# Configuración general del juego\n",
        "# game setup \n",
        "# Pestaña settings \n",
        "\n",
        "WIDTH = 1280 # Aquí se determina el ancho de la ventana\n",
        "HEIGTH = 720 # Aquí se determina la altura de la ventana \n",
        "FPS = 60      # Cantidad de cuadros mostrados por segundo \n",
        "TILESIZE = 64 # Tamaño del mosaico, no se exactamente que signifique \n",
        "WORLD_MAP = [\n",
        "[' ',' ',' ',' ',' ',' ','x','x','x','x','x','x','x','x','x','x','x','x','x','x'], # 0\n",
        "[' ',' ',' ',' ',' ',' ',' ',' ',' ',' ',' ',' ',' ',' ',' ',' ',' ',' ',' ','x'], \n",
        "[' ',' ',' ',' ',' ',' ',' ',' ',' ',' ',' ',' ',' ',' ',' ',' ',' ',' ',' ','x'],\n",
        "[' ',' ',' ',' ',' ',' ',' ',' ',' ',' ',' ',' ',' ',' ',' ',' ',' ',' ',' ','x'],\n",
        "[' ',' ',' ',' ',' ',' ',' ',' ',' ','x','x','x','x',' ',' ',' ',' ',' ',' ','x'], \n",
        "[' ',' ',' ',' ',' ',' ',' ',' ',' ','x',' ',' ',' ',' ',' ',' ',' ',' ',' ','x'], \n",
        "['x',' ',' ',' ',' ',' ',' ',' ',' ','x',' ',' ',' ',' ',' ',' ',' ',' ',' ','x'], \n",
        "['x',' ',' ',' ',' ',' ',' ',' ',' ','x',' ',' ',' ',' ',' ',' ',' ',' ',' ','x'],\n",
        "['x',' ',' ',' ',' ',' ',' ',' ',' ','x',' ',' ',' ',' ',' ',' ',' ',' ',' ','x'],\n",
        "['x',' ',' ',' ',' ',' ',' ',' ',' ','x',' ',' ',' ',' ',' ',' ',' ',' ',' ','x'],\n",
        "['x',' ',' ',' ',' ',' ',' ',' ',' ','x',' ',' ',' ','x',' ',' ',' ',' ',' ','x'],\n",
        "['x',' ',' ',' ',' ',' ',' ',' ',' ','x',' ',' ',' ',' ',' ',' ',' ',' ',' ','x'],\n",
        "['x',' ',' ',' ',' ',' ',' ',' ',' ',' ',' ',' ',' ',' ','x','x',' ',' ',' ','x'],\n",
        "['x',' ',' ',' ',' ',' ',' ',' ',' ',' ',' ',' ',' ',' ',' ',' ',' ',' ',' ','x'],\n",
        "['x',' ',' ',' ',' ',' ',' ',' ',' ',' ',' ',' ',' ',' ',' ',' ',' ',' ',' ','x'],\n",
        "[' ',' ',' ',' ','x','x',' ',' ',' ',' ',' ',' ',' ',' ',' ',' ',' ',' ',' ','x'],\n",
        "[' ',' ',' ',' ',' ',' ',' ',' ',' ',' ',' ',' ',' ',' ',' ',' ',' ',' ',' ','x'],\n",
        "[' ',' ',' ',' ',' ',' ',' ',' ',' ',' ',' ',' ',' ',' ',' ',' ',' ',' ',' ','x'],\n",
        "[' ',' ','e','e','m','e',' ','m',' ','m',' ','x',' ',' ',' ',' ',' ',' ',' ',' '],\n",
        "['p',' ',' ','e','e','e','e','e','e',' ',' ',' ',' ','x',' ',' ',' ',' ',' ',' '], # 19\n",
        "]#0                                                                          #20\n",
        "# Es de vital importancia entender la manera en que se ocupan los espacios dentro del mapa \n",
        "# Es decir las coordenadas que ocupa determinado objeto en determinado momento \n",
        "\n",
        "# La posición de p en la linea 10 es escencial para que el jugador coincida con la imagen del suelo\n",
        "# coincida con la imagen del sueloDentro del mapa mundial, la letra p representa la posición del jugador \n",
        "# en el espacio, además, se nota de lejos que el mapa es un arreglo de matrices \n",
        "# Posición del jugador\n",
        " # x = 2 * 64 = 128 \n",
        " # y = 2 * 64 = 128 \n",
        "\n",
        "\n",
        "\n",
        "\n"
      ],
      "metadata": {
        "id": "areWXZZBKobt"
      },
      "execution_count": null,
      "outputs": []
    },
    {
      "cell_type": "code",
      "source": [
        "# Creando el Debug o depuración \n",
        "# No influye directamente en el juego, pero es de gran utilidad al momento de realizar pruebas \n",
        "# La depuración sirve para demostar que todo funciona correctamente dentro del juego\n",
        "# o aplicación que estemos creando en determinado momento\n",
        "\n",
        "import pygame \n",
        "pygame.init() \n",
        "font = pygame.font.Font(None,30)\n",
        "\n",
        "def debug(info, y = 10, x = 10):\n",
        "    display_surface = pygame.display.get_surface() \n",
        "    debug_surf = font.render(str(info), True, 'White')\n",
        "    debug_rect = debug_surf.get_rect(topleft = (x,y))\n",
        "    pygame.draw.rect(display_surface, 'Black', debug_rect)\n",
        "    display_surface.blit(debug_surf,debug_rect)\n"
      ],
      "metadata": {
        "id": "tJBKozfmQOyV"
      },
      "execution_count": null,
      "outputs": []
    },
    {
      "cell_type": "code",
      "source": [
        "# Creando el nivel, nombre de la pestaña \"level \"\n",
        "\n",
        "import pygame\n",
        "from settings import * \n",
        "from tile import Tile \n",
        "from player import Player\n",
        "\n",
        "class Level: \n",
        "    def __init__(self):\n",
        "\n",
        "        # Obtener la superficie de visualización \n",
        "        self.display_surface = pygame.display.get_surface()\n",
        "        \n",
        "        # Sprite group setup \n",
        "        self.visible_sprites = pygame.sprite.Group()\n",
        "        self.obstacle_sprites = pygame.sprite.Group() \n",
        "        \n",
        "        # Configuración de los sprites \n",
        "        self.create_map() \n",
        "\n",
        "    # Se agregá la siguiente línea pasando del minuto 20:34 \n",
        "    def create_map(self): \n",
        "        # for row in WORLD_MAP: primer intento antes de que el código funcionara \n",
        "        for row_index,row in enumerate(WORLD_MAP):\n",
        "            for col_index, col in enumerate(row):\n",
        "            #print(row_index)      \n",
        "            #print(row )   \n",
        "                x = col_index * TILESIZE \n",
        "                y = row_index * TILESIZE \n",
        "                #if col == 'x':\n",
        "                 #   Tile((x,y),[self.visible_sprites]) #Tile(pos,groups )\n",
        "                if col == 'x':\n",
        "                    Tile((x,y),[self.visible_sprites, self.obstacles_sprites]) #Tile(pos,groups )\n",
        "                \n",
        "                if col == 'p':                                                                             # Minuto 27:36 \n",
        "                    Player((x,y),[self.visible_sprites]) #Tile(pos,groups ), En este momento del desarrollo, Tile y Player cumplen la misma sintaxis\n",
        "                \n",
        "            \n",
        "    \n",
        "    def run(self):\n",
        "\n",
        "        # La línea de a continuación está relacionada con esté bloque de código \n",
        "        # self.level.run() # Se ejecunta la instancia nivel dentro de este bucle \n",
        "        \n",
        "        # Actualizar y dibujar el juego                                            \n",
        " \n",
        "        # pass # Está línea solo existirá de forma temporal, cumlió su función en la historia después del minuto 26:38 \n",
        "        self.visible_sprites.draw(self.display_surfaces )"
      ],
      "metadata": {
        "id": "AgyPF2ULJcwI"
      },
      "execution_count": null,
      "outputs": []
    },
    {
      "cell_type": "code",
      "source": [
        "# Agregando tile, mosaico \n",
        "import pygame\n",
        "from settings import * \n",
        "\n",
        "class Tile(pygame.sprite.Sprite): # Tile significa mosaico, Acá dentro del parentesis se define la herencia de los sprites\n",
        "    def __init__(self,pos,groups):\n",
        "        super().__init__(groups) # ¿Porqué está línea, al igual que cada una de las que componen el código es importante?\n",
        "\n",
        "        # Estas 2 líneas son primordiales para cualquier tipo de sprite \n",
        "        self.image = pygame.image.load('../graphics/test/ojodefinitivo.png').convert_alpha()\n",
        "        self.rect = self.image.get_rect(topleft = pos)"
      ],
      "metadata": {
        "id": "i_9uy9tfSFo-"
      },
      "execution_count": null,
      "outputs": []
    },
    {
      "cell_type": "code",
      "source": [
        "# Agregando al jugador del juego , player \n",
        "# El desarrollo del jugador comienza a partir del minuto, 28:43, movimiento del jugador y colisión mecánica \n",
        "import pygame  \n",
        "from settings import *  \n",
        "\n",
        "class Player(pygame.sprite.Sprite):\n",
        "    def __init__(self,pos,groups,obstacle_sprites):\n",
        "       super().__init__(groups)\n",
        "       self.image = pygame.image.load('../graphics/test/leonardo0.png').convert_alpha()  # Aquí se agrega la imagen que se utilizará para el sprite del jugador \n",
        "       self.rect = self.image.get_rect(topleft = pos)\n",
        "        \n",
        "       self.direction = pygame.math.Vector2()# De esta manera obtenemos un vector cuyos valores son 0,0, \n",
        "       #y a su vez podemos cambiar la entrada de estos dos números con la entrada de alguna dirección desde el teclado \n",
        "       \n",
        "\n",
        "    def input \n",
        "\n",
        "\n",
        "\n",
        "\n"
      ],
      "metadata": {
        "id": "UmsDEuBzYP5_"
      },
      "execution_count": null,
      "outputs": []
    },
    {
      "cell_type": "code",
      "source": [
        "# Minuto número 20:08, 11 / 06 / 2023 Retomando el desarrollo desde la última vez que hice algo\n",
        "\n",
        "#desafío del minuto 26:29 Draw all sprites in visible_sprites"
      ],
      "metadata": {
        "id": "K1v2VrrvbrRu"
      },
      "execution_count": null,
      "outputs": []
    },
    {
      "cell_type": "markdown",
      "source": [
        "La línea de código \"import pygame, sys\" se utiliza en Python para importar los módulos o bibliotecas de pygame y sys.\n",
        "Es la pirmera línea correspondiente al código del videojuego, o a la parte desarrollada hasta ahora sobre nuestro videojuego. \n",
        "\n",
        "\n",
        "\n",
        "El módulo pygame es una biblioteca popular de Python utilizada para desarrollar videojuegos y aplicaciones multimedia interactivas. Proporciona funciones y herramientas para trabajar con gráficos, sonido, entrada de usuario y otros aspectos relacionados con el desarrollo de juegos.\n",
        "\n",
        "\n",
        "\n",
        "El módulo sys es un módulo integrado en Python que proporciona acceso a variables y funciones relacionadas con el intérprete de Python. Permite interactuar con el sistema operativo, acceder a los argumentos de línea de comandos y realizar otras operaciones relacionadas con el entorno de ejecución.\n",
        "\n",
        "\n",
        "Al importar estos módulos, estás haciendo que las funcionalidades y características proporcionadas por ellos estén disponibles en tu programa. Por ejemplo, si quieres utilizar las funciones y clases de pygame para crear gráficos y manejar la entrada del usuario en tu juego, necesitas importar el módulo pygame. Del mismo modo, si necesitas acceder a las funciones y variables proporcionadas por el módulo sys, debes importarlo."
      ],
      "metadata": {
        "id": "HbWsDGbcVLgI"
      }
    }
  ]
}