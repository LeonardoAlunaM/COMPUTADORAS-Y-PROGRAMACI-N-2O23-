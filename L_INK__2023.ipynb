{
  "nbformat": 4,
  "nbformat_minor": 0,
  "metadata": {
    "colab": {
      "provenance": [],
      "authorship_tag": "ABX9TyMV14I6K7QKhiiGJSSZfh5w",
      "include_colab_link": true
    },
    "kernelspec": {
      "name": "python3",
      "display_name": "Python 3"
    },
    "language_info": {
      "name": "python"
    }
  },
  "cells": [
    {
      "cell_type": "markdown",
      "metadata": {
        "id": "view-in-github",
        "colab_type": "text"
      },
      "source": [
        "<a href=\"https://colab.research.google.com/github/LeonardoAlunaM/COMPUTADORAS-Y-PROGRAMACI-N-2O23-/blob/main-COMPUTADORAS-Y-PROGTRAMACI%C3%93N-2023/L_INK__2023.ipynb\" target=\"_parent\"><img src=\"https://colab.research.google.com/assets/colab-badge.svg\" alt=\"Open In Colab\"/></a>"
      ]
    },
    {
      "cell_type": "code",
      "execution_count": null,
      "metadata": {
        "id": "4IXfsP3d9Kk0"
      },
      "outputs": [],
      "source": [
        "# En un principio se tienen pestañas para depurar código\n",
        "# main, settings y bebug"
      ]
    },
    {
      "cell_type": "code",
      "source": [
        "# main.py \n",
        "# pestaña que incluye el nombre del videojuego \n",
        "\n",
        "\n",
        "import pygame, sys \n",
        "from settings import * # Importando infromación desde settings, aquí habrá información importante en su momento \n",
        "\n",
        "class Game:           # La clase Game \n",
        "    def __init__(self): # El método __init__(self) inicializa el juego, e incluye el parámetro (self) dentro del mismo \n",
        "        # Ajustes generales \n",
        "        pygame.init() \n",
        "        self.screen = pygame.display.set_mode((WIDTH,HEIGHT)) # Se crea la superficie en exhibición, aquí se muestran todos los elemetos del juego\n",
        "        pygame.display.set_caption('Leonardo Link')  # Con está línea podemos cambiar el nombre de la ventana, cuando ya se está ejecutando el programa   \n",
        "        self.clock = pygame.time.Clock()     # Se crea un reloj interno para el videojuego, el cual controla parte de las acciones dentro del mismo \n",
        "                                             # Estas líneas son la configuración básica de cada videojuego  \n",
        "    \n",
        "\n",
        "    def run(self):   # Se define el método run, no estoy bien seguro de para que sirva, al parecer toma los eventos como clicks de botón u otros \n",
        "        while True: \n",
        "            for event in pygame.event.get():\n",
        "                if event.type == pygame.QUIT: \n",
        "                    pygame.quit() \n",
        "                    sys.exit() \n",
        "\n",
        "            self.screen.fill('black') # Rellenando el fondo de pantalla con un color, en este caso negro \n",
        "            pygame.display.update()   # Actualiza la pantalla\n",
        "            debug()   # Acá se puede agregar la información del debugger en cuestión \n",
        "            self.clock.tick(FPS)      # Controlando la cantidad de cuadros por segundo que aparacen en la pantalla.\n",
        "                                      # Frames per second, tal valor aparece en la ventana settings, donde FPS = 60  \n",
        "\n",
        "if __name__ == '__main__': # Comprobando la existencia del archivo principal \n",
        "    game = Game()          # Creando una instancia para la clase juego \n",
        "    game.run()             # Llamando al método run de juego para ejecutarlo\n"
      ],
      "metadata": {
        "id": "LdGbbn7Rxg50"
      },
      "execution_count": null,
      "outputs": []
    },
    {
      "cell_type": "code",
      "source": [
        "# Configuración general del juego\n",
        "# game setup \n",
        "# Pestaña settings \n",
        "\n",
        "WIDTH = 1280 # Aquí se determina el ancho de la ventana\n",
        "HEIGTH = 720 # Aquí se determina la altura de la ventana \n",
        "FPS = 60      # Cantidad de cuadros mostrados por segundo \n",
        "TILESIZE = 64 # Tamaño del mosaico, no se exactamente que signifique \n",
        "\n",
        "WORLD_MAP = [\n",
        "[' ',' ',' ',' ',' ',' ','x','x','x','x','x','x','x','x','x','x','x','x','x','x'],\n",
        "[' ',' ',' ',' ',' ',' ',' ',' ',' ',' ',' ',' ',' ',' ',' ',' ',' ',' ',' ','x'], \n",
        "[' ',' ',' ',' ',' ',' ',' ',' ',' ',' ',' ',' ',' ',' ',' ',' ',' ',' ',' ','x'],\n",
        "[' ',' ',' ',' ',' ',' ',' ',' ',' ',' ',' ',' ',' ',' ',' ',' ',' ',' ',' ','x'],\n",
        "[' ',' ',' ',' ',' ',' ',' ',' ',' ','x','x','x','x',' ',' ',' ',' ',' ',' ','x'], \n",
        "[' ',' ',' ',' ',' ',' ',' ',' ',' ','x',' ',' ',' ',' ',' ',' ',' ',' ',' ','x'], \n",
        "['x',' ',' ',' ',' ',' ',' ',' ',' ','x',' ',' ',' ',' ',' ',' ',' ',' ',' ','x'], \n",
        "['x',' ',' ',' ',' ',' ',' ',' ',' ','x',' ',' ',' ',' ',' ',' ',' ',' ',' ','x'],\n",
        "['x',' ',' ',' ',' ',' ',' ',' ',' ','x',' ',' ',' ',' ',' ',' ',' ',' ',' ','x'],\n",
        "['x',' ',' ',' ',' ',' ',' ',' ',' ','x',' ',' ',' ',' ',' ',' ',' ',' ',' ','x'],\n",
        "['x',' ',' ',' ',' ',' ',' ',' ',' ','x',' ',' ',' ','x',' ',' ',' ',' ',' ','x'],\n",
        "['x',' ',' ',' ',' ',' ',' ',' ',' ','x',' ',' ',' ',' ',' ',' ',' ',' ',' ','x'],\n",
        "['x',' ',' ',' ',' ',' ',' ',' ',' ',' ',' ',' ',' ',' ','x','x',' ',' ',' ','x'],\n",
        "['x',' ',' ',' ',' ',' ',' ',' ',' ',' ',' ',' ',' ',' ',' ',' ',' ',' ',' ','x'],\n",
        "['x',' ',' ',' ',' ',' ',' ',' ',' ',' ',' ',' ',' ',' ',' ',' ',' ',' ',' ','x'],\n",
        "[' ',' ',' ',' ','x','x',' ',' ',' ',' ',' ',' ',' ',' ',' ',' ',' ',' ',' ','x'],\n",
        "[' ',' ',' ',' ',' ',' ',' ',' ',' ',' ',' ',' ',' ',' ',' ',' ',' ',' ',' ','x'],\n",
        "[' ',' ',' ',' ',' ',' ',' ',' ',' ',' ',' ',' ',' ',' ',' ',' ',' ',' ',' ','x'],\n",
        "[' ',' ','e','e','m','e',' ','m',' ','m',' ','x',' ',' ',' ',' ',' ',' ',' ',' '],\n",
        "['p',' ',' ','e','e','e','e','e','e',' ',' ',' ',' ','x',' ',' ',' ',' ',' ',' '],\n",
        "]\n",
        "\n",
        "# La posición de p en la linea 10 es escencial para que el jugador coincida con la imagen del suelo\n",
        "# coincida con la imagen del sueloDentro del mapa mundial, la letra p representa la posición del jugador \n",
        "# en el espacio, además, se nota de lejos que el mapa es un arreglo de matrices \n",
        "# Posición del jugador\n",
        " # x = 2 * 64 = 128 \n",
        " # y = 2 * 64 = 128 \n",
        "\n",
        "\n",
        "\n",
        "\n"
      ],
      "metadata": {
        "id": "areWXZZBKobt"
      },
      "execution_count": null,
      "outputs": []
    },
    {
      "cell_type": "code",
      "source": [
        "# Creando el Debug o depuración \n",
        "# No influye directamente en el juego, pero es de gran utilidad al momento de realizar pruebas \n",
        "# La depuración sirve para demostar que todo funciona correctamente dentro del juego\n",
        "# o aplicación que estemos creando en determinado momento\n",
        "\n",
        "import pygame \n",
        "pygame.init() \n",
        "font = pygame.font.Font(None,30)\n",
        "\n",
        "def debug(info, y = 10, x = 10):\n",
        "    display_surface = pygame.display.get_surface() \n",
        "    debug_surf = font.render(str(info), True, 'White')\n",
        "    debug_rect = debug_surf.get_rect(topleft = (x,y))\n",
        "    pygame.draw.rect(display_surface, 'Black', debug_rect)\n",
        "    display_surface.blit(debug_surf,debug_rect)\n"
      ],
      "metadata": {
        "id": "tJBKozfmQOyV"
      },
      "execution_count": null,
      "outputs": []
    },
    {
      "cell_type": "code",
      "source": [
        "# Creando el nivel \n",
        "\n",
        "import pygame\n",
        "\n",
        "class Level: \n",
        "    def __init__(self):\n",
        "        \n",
        "        # Sprite group setup \n",
        "        self.visible_sprites = pygame.sprite.Group()\n",
        "        self.obstacle_sprites = pygame.sprite.Group() \n",
        "    \n",
        "    def run(self):\n",
        "        # Actualizar y dibujar el juego \n",
        "        pass # Está línea solo existirá de forma temporal "
      ],
      "metadata": {
        "id": "AgyPF2ULJcwI"
      },
      "execution_count": null,
      "outputs": []
    },
    {
      "cell_type": "markdown",
      "source": [
        "La línea de código \"import pygame, sys\" se utiliza en Python para importar los módulos o bibliotecas de pygame y sys.\n",
        "Es la pirmera línea correspondiente al código del videojuego, o a la parte desarrollada hasta ahora sobre nuestro videojuego. \n",
        "\n",
        "\n",
        "\n",
        "El módulo pygame es una biblioteca popular de Python utilizada para desarrollar videojuegos y aplicaciones multimedia interactivas. Proporciona funciones y herramientas para trabajar con gráficos, sonido, entrada de usuario y otros aspectos relacionados con el desarrollo de juegos.\n",
        "\n",
        "\n",
        "\n",
        "El módulo sys es un módulo integrado en Python que proporciona acceso a variables y funciones relacionadas con el intérprete de Python. Permite interactuar con el sistema operativo, acceder a los argumentos de línea de comandos y realizar otras operaciones relacionadas con el entorno de ejecución.\n",
        "\n",
        "\n",
        "Al importar estos módulos, estás haciendo que las funcionalidades y características proporcionadas por ellos estén disponibles en tu programa. Por ejemplo, si quieres utilizar las funciones y clases de pygame para crear gráficos y manejar la entrada del usuario en tu juego, necesitas importar el módulo pygame. Del mismo modo, si necesitas acceder a las funciones y variables proporcionadas por el módulo sys, debes importarlo."
      ],
      "metadata": {
        "id": "HbWsDGbcVLgI"
      }
    }
  ]
}