{
  "nbformat": 4,
  "nbformat_minor": 0,
  "metadata": {
    "colab": {
      "provenance": [],
      "authorship_tag": "ABX9TyPBvq18nOH6pMEWHqudnwBJ",
      "include_colab_link": true
    },
    "kernelspec": {
      "name": "python3",
      "display_name": "Python 3"
    },
    "language_info": {
      "name": "python"
    }
  },
  "cells": [
    {
      "cell_type": "markdown",
      "metadata": {
        "id": "view-in-github",
        "colab_type": "text"
      },
      "source": [
        "<a href=\"https://colab.research.google.com/github/LeonardoAlunaM/COMPUTADORAS-Y-PROGRAMACI-N-2O23-/blob/main-COMPUTADORAS-Y-PROGTRAMACI%C3%93N-2023/MATEMATICAS_DISCRETAS.ipynb\" target=\"_parent\"><img src=\"https://colab.research.google.com/assets/colab-badge.svg\" alt=\"Open In Colab\"/></a>"
      ]
    },
    {
      "cell_type": "code",
      "source": [
        "def Euclides_extendido(e, b):\n",
        "    if b == 0:\n",
        "        return e, 1, 0\n",
        "    else:\n",
        "        d, x, y = Euclides_extendido(b, e % b)\n",
        "        return d, y, x - (e // b) * y\n",
        "\n",
        "\n",
        "def sol_congruencia_lineal(e, b, m):\n",
        "    d, x, y = Euclides_extendido(e, m)\n",
        "    if b % d == 0:\n",
        "        x0 = (x * (b // d)) % m\n",
        "        solucion = [] # El valor D\n",
        "        for i in range(d):\n",
        "            solucion.append((x0 + i * (m // d)) % m)\n",
        "        return solucion\n",
        "    else:\n",
        "        return []\n",
        "\n",
        "\n",
        "# Ingresar los valores implicados en la solución de la congruencia lineal\n",
        "e = 127  \n",
        "b = 1   # b = 1 por convención\n",
        "m = 25456  # m = n = módulo de la congruencia\n",
        "\n",
        "\n",
        "solucion = sol_congruencia_lineal(e, b, m)\n",
        "if solucion:\n",
        "    print(\"Las soluciones para la congruencia lineal {}D ≡ {} (mod {}) son:\".format(e, b, m))\n",
        "    for solution in solucion:\n",
        "        print(\"D ≡ {} (mod {})\".format(solucion, m))\n",
        "else:\n",
        "    print(\"No hay soluciones para la congruencia lineal {}D ≡ {} (mod {})\".format(e, b, m))"
      ],
      "metadata": {
        "colab": {
          "base_uri": "https://localhost:8080/"
        },
        "id": "wmlk5YI4r_lv",
        "outputId": "dbe9840c-f27b-4b8b-8002-164fbdf457ee"
      },
      "execution_count": 1,
      "outputs": [
        {
          "output_type": "stream",
          "name": "stdout",
          "text": [
            "Las soluciones para la congruencia lineal 127D ≡ 1 (mod 25456) son:\n",
            "D ≡ [6815] (mod 25456)\n"
          ]
        }
      ]
    },
    {
      "cell_type": "code",
      "execution_count": null,
      "metadata": {
        "colab": {
          "base_uri": "https://localhost:8080/"
        },
        "id": "NHY1Qi42gO_D",
        "outputId": "2f93c848-6051-475c-9f9d-350b3c8fb27d"
      },
      "outputs": [
        {
          "output_type": "stream",
          "name": "stdout",
          "text": [
            "Las soluciones para la congruencia lineal 127D ≡ 1 (mod 25456) son:\n",
            "D ≡ [6815] (mod 25456)\n"
          ]
        }
      ],
      "source": [
        "def Euclides_extendido(e, b):\n",
        "    if b == 0:\n",
        "        return e, 1, 0\n",
        "    else:\n",
        "        d, x, y = Euclides_extendido(b, e % b)\n",
        "        return d, y, x - (e // b) * y\n",
        "\n",
        "def sol_congruencia_lineal(e, b, m):\n",
        "    d, x, y = Euclides_extendido(e, m)\n",
        "    if b % d == 0:\n",
        "        x0 = (x * (b // d)) % m\n",
        "        solucion = [] # El valor D \n",
        "        for i in range(d):\n",
        "            solucion.append((x0 + i * (m // d)) % m)\n",
        "        return solucion\n",
        "    else:\n",
        "        return []\n",
        "\n",
        "# Ingresar los valores ímplicados en la solución de la congruencia lineal \n",
        "e = 127   \n",
        "b = 1   # b = 1 por convención \n",
        "m = 25456  # m = n = modulo de la congruencia \n",
        "\n",
        "solucion = sol_congruencia_lineal(e, b, m)\n",
        "if solucion:\n",
        "    print(\"Las soluciones para la congruencia lineal {}D ≡ {} (mod {}) son:\".format(e, b, m))\n",
        "    for solution in solucion:\n",
        "        print(\"D ≡ {} (mod {})\".format(solucion, m))\n",
        "else:\n",
        "    print(\"No hay soluciones para la congruencia lineal {}D ≡ {} (mod {})\".format(e, b, m))"
      ]
    },
    {
      "cell_type": "code",
      "source": [
        "((6)**7)  %  77\n",
        "# Sí el número tiene menos de 2 digitos se agrega un cero antes del numero en cuestion y se compara con la tabla que construimos previamente\n"
      ],
      "metadata": {
        "colab": {
          "base_uri": "https://localhost:8080/"
        },
        "id": "nsvKRKSciM3E",
        "outputId": "56937e4d-259e-4407-9640-5dcdc6a8e563"
      },
      "execution_count": null,
      "outputs": [
        {
          "output_type": "execute_result",
          "data": {
            "text/plain": [
              "57"
            ]
          },
          "metadata": {},
          "execution_count": 10
        }
      ]
    },
    {
      "cell_type": "code",
      "source": [],
      "metadata": {
        "id": "6OnDnUMwzkYe"
      },
      "execution_count": null,
      "outputs": []
    },
    {
      "cell_type": "code",
      "source": [],
      "metadata": {
        "id": "J-FR2QqUzkW0"
      },
      "execution_count": null,
      "outputs": []
    },
    {
      "cell_type": "code",
      "source": [],
      "metadata": {
        "id": "gyNZMZCTzkVG"
      },
      "execution_count": null,
      "outputs": []
    },
    {
      "cell_type": "code",
      "source": [],
      "metadata": {
        "id": "LwgU0r4KzkSU"
      },
      "execution_count": null,
      "outputs": []
    },
    {
      "cell_type": "code",
      "source": [],
      "metadata": {
        "id": "mmtTQSylzkQm"
      },
      "execution_count": null,
      "outputs": []
    },
    {
      "cell_type": "code",
      "source": [],
      "metadata": {
        "id": "KvznaHyGzkOU"
      },
      "execution_count": null,
      "outputs": []
    },
    {
      "cell_type": "code",
      "source": [
        "# Para cifrar \n",
        "((39)**127) % 25777"
      ],
      "metadata": {
        "colab": {
          "base_uri": "https://localhost:8080/"
        },
        "id": "w4UoEX9SkHCg",
        "outputId": "5fc8c027-528b-4da6-87b8-d0e7aff6820d"
      },
      "execution_count": null,
      "outputs": [
        {
          "output_type": "execute_result",
          "data": {
            "text/plain": [
              "9152"
            ]
          },
          "metadata": {},
          "execution_count": 38
        }
      ]
    },
    {
      "cell_type": "code",
      "source": [
        "# Para descifrar \n",
        "((9152)**6815) % 25777"
      ],
      "metadata": {
        "colab": {
          "base_uri": "https://localhost:8080/"
        },
        "id": "hjSJICzxke6j",
        "outputId": "3aeda2c7-c1f1-4af8-eb9a-a440f37308c2"
      },
      "execution_count": null,
      "outputs": [
        {
          "output_type": "execute_result",
          "data": {
            "text/plain": [
              "39"
            ]
          },
          "metadata": {},
          "execution_count": 47
        }
      ]
    },
    {
      "cell_type": "code",
      "source": [],
      "metadata": {
        "id": "wSODpH7Izpla"
      },
      "execution_count": null,
      "outputs": []
    },
    {
      "cell_type": "code",
      "source": [],
      "metadata": {
        "id": "PEV93o5Dzpjk"
      },
      "execution_count": null,
      "outputs": []
    },
    {
      "cell_type": "code",
      "source": [],
      "metadata": {
        "id": "cyqCZcotzpgg"
      },
      "execution_count": null,
      "outputs": []
    },
    {
      "cell_type": "code",
      "source": [],
      "metadata": {
        "id": "TBmngGiczpeU"
      },
      "execution_count": null,
      "outputs": []
    },
    {
      "cell_type": "code",
      "source": [],
      "metadata": {
        "id": "nRxH5RTfzpcW"
      },
      "execution_count": null,
      "outputs": []
    },
    {
      "cell_type": "code",
      "source": [],
      "metadata": {
        "id": "D-H2nJrCzpaQ"
      },
      "execution_count": null,
      "outputs": []
    },
    {
      "cell_type": "code",
      "source": [
        "# Para descifrar \n",
        "((216)**16971) % 25777 "
      ],
      "metadata": {
        "colab": {
          "base_uri": "https://localhost:8080/"
        },
        "id": "umAANjt5jk3z",
        "outputId": "e20c93f4-e9d1-46f7-af9e-51b2bcbe1041"
      },
      "execution_count": null,
      "outputs": [
        {
          "output_type": "execute_result",
          "data": {
            "text/plain": [
              "6"
            ]
          },
          "metadata": {},
          "execution_count": 11
        }
      ]
    },
    {
      "cell_type": "code",
      "source": [
        "216 % 25777 "
      ],
      "metadata": {
        "colab": {
          "base_uri": "https://localhost:8080/"
        },
        "id": "57pAAOyXiVK2",
        "outputId": "d8dc4ccd-a3a0-4c51-e205-a14d21a6a5b3"
      },
      "execution_count": null,
      "outputs": [
        {
          "output_type": "execute_result",
          "data": {
            "text/plain": [
              "216"
            ]
          },
          "metadata": {},
          "execution_count": 7
        }
      ]
    }
  ]
}