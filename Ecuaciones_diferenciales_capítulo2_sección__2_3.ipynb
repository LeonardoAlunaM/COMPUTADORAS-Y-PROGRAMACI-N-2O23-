{
  "nbformat": 4,
  "nbformat_minor": 0,
  "metadata": {
    "colab": {
      "provenance": [],
      "authorship_tag": "ABX9TyMMnzAttJneIzWkjBfLRL+6",
      "include_colab_link": true
    },
    "kernelspec": {
      "name": "python3",
      "display_name": "Python 3"
    },
    "language_info": {
      "name": "python"
    }
  },
  "cells": [
    {
      "cell_type": "markdown",
      "metadata": {
        "id": "view-in-github",
        "colab_type": "text"
      },
      "source": [
        "<a href=\"https://colab.research.google.com/github/LeonardoAlunaM/COMPUTADORAS-Y-PROGRAMACI-N-2O23-/blob/main-COMPUTADORAS-Y-PROGTRAMACI%C3%93N-2023/Ecuaciones_diferenciales_cap%C3%ADtulo2_secci%C3%B3n__2_3.ipynb\" target=\"_parent\"><img src=\"https://colab.research.google.com/assets/colab-badge.svg\" alt=\"Open In Colab\"/></a>"
      ]
    },
    {
      "cell_type": "code",
      "source": [
        "# Resuelve ecuaciones diferenciales lineales homogéneas \n",
        "import sympy as sp\n",
        "\n",
        "# Definir las variables simbólicas\n",
        "x = sp.symbols('x')\n",
        "y = sp.Function('y')(x)\n",
        "\n",
        "# Definir la ecuación diferencial lineal homogénea\n",
        "P = -3  # Coeficiente que multiplica a \"y\" en la ecuación diferencial\n",
        "eq = sp.Eq(y.diff(x) + P*y, 0)\n",
        "\n",
        "# Encontrar el factor integrante\n",
        "factor_integrante = sp.exp(sp.integrate(P, x))\n",
        "\n",
        "# Resolver la ecuación diferencial utilizando dsolve con el método \"separable\" para ecuaciones lineales homogéneas\n",
        "solucion_general = sp.dsolve(eq, y, hint='separable')\n",
        "\n",
        "# Mostrar la solución general\n",
        "print(\"La solución general de la ecuación diferencial homogénea es:\")\n",
        "print(solucion_general)"
      ],
      "metadata": {
        "colab": {
          "base_uri": "https://localhost:8080/"
        },
        "id": "wmY93FDr3MI4",
        "outputId": "0f9c90e2-1d70-47e0-89b3-03d5e4f3f566"
      },
      "execution_count": 9,
      "outputs": [
        {
          "output_type": "stream",
          "name": "stdout",
          "text": [
            "La solución general de la ecuación diferencial homogénea es:\n",
            "Eq(y(x), C1*exp(3*x))\n"
          ]
        }
      ]
    },
    {
      "cell_type": "code",
      "source": [
        "# El siguiente código permite resolver ecuaciones diferenciales lineales no homogéneas\n",
        "from sympy import Function, dsolve, Derivative, Eq, symbols\n",
        "\n",
        "# Define el símbolo para la variable independiente\n",
        "x = symbols('x')\n",
        "\n",
        "# Define la función desconocida y(x)\n",
        "y = Function('y')(x)\n",
        "\n",
        "# Define la ecuación diferencial\n",
        "diff_eq = Eq(Derivative(y, x) - 3*y, 6)    # Aquí -3 es el término que multiplica a y\n",
        "                                           # mismo que se usa para calcular el factor integrante \n",
        "# Resuelve la ecuación diferencial         # 6 es el número que hace no homogenea la ecuación diferencial \n",
        "sol = dsolve(diff_eq, y)\n",
        "\n",
        "# Imprime la solución general\n",
        "print(\"La solución general de la ecuación diferencial es:\")\n",
        "print(sol)\n",
        "\n",
        "# C1 es un valor arbitrario que bien puede ser el valor C1 = C "
      ],
      "metadata": {
        "colab": {
          "base_uri": "https://localhost:8080/"
        },
        "id": "Yih_whbl3MGh",
        "outputId": "366b38ce-67f6-4eb7-8750-296d12135926"
      },
      "execution_count": 10,
      "outputs": [
        {
          "output_type": "stream",
          "name": "stdout",
          "text": [
            "La solución general de la ecuación diferencial es:\n",
            "Eq(y(x), C1*exp(3*x) - 2)\n"
          ]
        }
      ]
    },
    {
      "cell_type": "code",
      "source": [],
      "metadata": {
        "id": "u8Z-bu3c3MEr"
      },
      "execution_count": null,
      "outputs": []
    },
    {
      "cell_type": "code",
      "source": [],
      "metadata": {
        "id": "ctQIYeSA3MCg"
      },
      "execution_count": null,
      "outputs": []
    },
    {
      "cell_type": "code",
      "source": [],
      "metadata": {
        "id": "zjKlm75o3MAN"
      },
      "execution_count": null,
      "outputs": []
    },
    {
      "cell_type": "code",
      "source": [],
      "metadata": {
        "id": "ZQbOkl7E3L9j"
      },
      "execution_count": null,
      "outputs": []
    },
    {
      "cell_type": "code",
      "source": [],
      "metadata": {
        "id": "MTJM5Wfg3K8t"
      },
      "execution_count": null,
      "outputs": []
    },
    {
      "cell_type": "code",
      "source": [],
      "metadata": {
        "id": "zPJ9TWH42D5K"
      },
      "execution_count": null,
      "outputs": []
    },
    {
      "cell_type": "code",
      "source": [],
      "metadata": {
        "id": "ntnVg_9W2D2n"
      },
      "execution_count": null,
      "outputs": []
    },
    {
      "cell_type": "code",
      "source": [],
      "metadata": {
        "id": "xDtjWXso2D00"
      },
      "execution_count": null,
      "outputs": []
    },
    {
      "cell_type": "code",
      "source": [],
      "metadata": {
        "id": "MF49Nspu2Dy8"
      },
      "execution_count": null,
      "outputs": []
    },
    {
      "cell_type": "code",
      "source": [],
      "metadata": {
        "id": "xTs3_Ioc2Dw0"
      },
      "execution_count": null,
      "outputs": []
    },
    {
      "cell_type": "code",
      "source": [],
      "metadata": {
        "id": "uDc5IZ5V2DuW"
      },
      "execution_count": null,
      "outputs": []
    },
    {
      "cell_type": "code",
      "source": [],
      "metadata": {
        "id": "bK44sNM42Dr4"
      },
      "execution_count": null,
      "outputs": []
    },
    {
      "cell_type": "code",
      "source": [],
      "metadata": {
        "id": "IxzN_nGY2DiP"
      },
      "execution_count": null,
      "outputs": []
    },
    {
      "cell_type": "code",
      "source": [],
      "metadata": {
        "id": "oK6IpEYS2Dfu"
      },
      "execution_count": null,
      "outputs": []
    },
    {
      "cell_type": "code",
      "source": [],
      "metadata": {
        "id": "Yw9CpcGP2DdU"
      },
      "execution_count": null,
      "outputs": []
    }
  ]
}