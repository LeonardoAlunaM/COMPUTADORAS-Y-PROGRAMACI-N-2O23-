{
  "nbformat": 4,
  "nbformat_minor": 0,
  "metadata": {
    "colab": {
      "provenance": [],
      "authorship_tag": "ABX9TyOUQC9HZ1/aIWm3Bbiv9DFc",
      "include_colab_link": true
    },
    "kernelspec": {
      "name": "python3",
      "display_name": "Python 3"
    },
    "language_info": {
      "name": "python"
    }
  },
  "cells": [
    {
      "cell_type": "markdown",
      "metadata": {
        "id": "view-in-github",
        "colab_type": "text"
      },
      "source": [
        "<a href=\"https://colab.research.google.com/github/LeonardoAlunaM/COMPUTADORAS-Y-PROGRAMACI-N-2O23-/blob/main-COMPUTADORAS-Y-PROGTRAMACI%C3%93N-2023/Ecuaciones_diferenciales_cap%C3%ADtulo2_secci%C3%B3n__2_3.ipynb\" target=\"_parent\"><img src=\"https://colab.research.google.com/assets/colab-badge.svg\" alt=\"Open In Colab\"/></a>"
      ]
    },
    {
      "cell_type": "markdown",
      "source": [
        "## Pregunta 1 "
      ],
      "metadata": {
        "id": "SUex1ekHDHDO"
      }
    },
    {
      "cell_type": "code",
      "source": [
        "# Este algoritmo resuelve una ecuación diferencial por el método de coeficientes indeterminados, cuando no se específican \n",
        "# las condiciones iniciales de la ecuación\n",
        "import sympy as sp\n",
        "\n",
        "def solve_differential_equation():\n",
        "    x = sp.symbols('x')\n",
        "    y = sp.Function('y')(x)\n",
        "\n",
        "    # Definir la ecuación diferencial\n",
        "    eq = sp.diff(y, x, 3) - 7*sp.diff(y, x, 1) -6*y  - (40*sp.exp(-2*x) +12*(x) +14)  # (5*(x**2) + 1.9*(x)+10)\n",
        "\n",
        "    # Resolver la ecuación diferencial\n",
        "    solution = sp.dsolve(eq)\n",
        "    return solution\n",
        "\n",
        "solution = solve_differential_equation()\n",
        "print(solution)"
      ],
      "metadata": {
        "id": "u8Z-bu3c3MEr",
        "colab": {
          "base_uri": "https://localhost:8080/"
        },
        "outputId": "bed33ba8-135a-4644-8421-3a1768b22629"
      },
      "execution_count": null,
      "outputs": [
        {
          "output_type": "stream",
          "name": "stdout",
          "text": [
            "Eq(y(x), C2*exp(-x) + C3*exp(3*x) - 2*x + (C1 + 8*x)*exp(-2*x))\n"
          ]
        }
      ]
    },
    {
      "cell_type": "markdown",
      "source": [
        "## pregunta 2 "
      ],
      "metadata": {
        "id": "XdwevXbjDK3P"
      }
    },
    {
      "cell_type": "code",
      "source": [
        "import sympy as sp\n",
        "\n",
        "def solve_differential_equation():\n",
        "    x = sp.symbols('x')\n",
        "    y = sp.Function('y')(x)\n",
        "\n",
        "    # Definir la ecuación diferencial\n",
        "    eq = sp.diff(y, x, 3) + sp.diff(y, x, 2) + 3*sp.diff(y, x, 1) - 5*y  - (200*(x**2))\n",
        "\n",
        "    # Resolver la ecuación diferencial\n",
        "    solution = sp.dsolve(eq)\n",
        "\n",
        "    # Obtener los valores de C1, C2 y C3\n",
        "    constants = sp.solve([solution.rhs.subs(x, 0) + 164/5, solution.rhs.diff(x).subs(x, 0) + 50, solution.rhs.diff(x, x).subs(x, 0) + 56], (sp.Symbol('C1'), sp.Symbol('C2'), sp.Symbol('C3')))\n",
        "\n",
        "    # Agregar los valores de las constantes a la solución\n",
        "    solution = solution.subs(constants)\n",
        "\n",
        "    return solution, constants\n",
        "\n",
        "solution, constants = solve_differential_equation()\n",
        "\n",
        "print(\"Solución de la ecuación diferencial:\")\n",
        "print(solution)\n",
        "print()\n",
        "print(\"Valores de las constantes:\")\n",
        "print(\"C1 =\", constants[sp.Symbol('C1')])\n",
        "print(\"C2 =\", constants[sp.Symbol('C2')])\n",
        "print(\"C3 =\", constants[sp.Symbol('C3')])"
      ],
      "metadata": {
        "colab": {
          "base_uri": "https://localhost:8080/"
        },
        "id": "ELHYi62fawAG",
        "outputId": "4789b716-0063-4aef-eec5-f75d9c1523cb"
      },
      "execution_count": null,
      "outputs": [
        {
          "output_type": "stream",
          "name": "stdout",
          "text": [
            "Solución de la ecuación diferencial:\n",
            "Eq(y(x), -40*x**2 - 48*x + (-5.0*sin(2*x) + 2.0*cos(2*x))*exp(-x) + 10.0*exp(x) - 224/5)\n",
            "\n",
            "Valores de las constantes:\n",
            "C1 = -5.00000000000000\n",
            "C2 = 2.00000000000000\n",
            "C3 = 10.0000000000000\n"
          ]
        }
      ]
    },
    {
      "cell_type": "code",
      "source": [
        "# Funciona para resolver la ecuación diferencial, pero no muestra los valores de C1, C2 y C3 \n",
        "import sympy as sp\n",
        "\n",
        "def solve_differential_equation():\n",
        "    x = sp.symbols('x')\n",
        "    y = sp.Function('y')(x)\n",
        "\n",
        "    # Definir la ecuación diferencial\n",
        "    eq = sp.diff(y, x, 3) + sp.diff(y, x, 2) + 3*sp.diff(y, x, 1) - 5*y  - (200*(x**2))  \n",
        "\n",
        "    # Resolver la ecuación diferencial\n",
        "    solution = sp.dsolve(eq)\n",
        "    return solution\n",
        "\n",
        "solution = solve_differential_equation()\n",
        "print(solution)\n"
      ],
      "metadata": {
        "colab": {
          "base_uri": "https://localhost:8080/"
        },
        "id": "MTJM5Wfg3K8t",
        "outputId": "511fcabb-afc8-4d79-bf0a-e5dc9354eec2"
      },
      "execution_count": null,
      "outputs": [
        {
          "output_type": "stream",
          "name": "stdout",
          "text": [
            "Eq(y(x), C3*exp(x) - 40*x**2 - 48*x + (C1*sin(2*x) + C2*cos(2*x))*exp(-x) - 224/5)\n"
          ]
        }
      ]
    },
    {
      "cell_type": "code",
      "source": [
        "from sympy import symbols, diff, exp, sin, cos\n",
        "\n",
        "# Definir las variables simbólicas\n",
        "x = symbols('x')\n",
        "\n",
        "# Definir la expresión\n",
        "expr = exp(x) - 40*x**2 - 48*x + (sin(2*x) + cos(2*x))*exp(-x) - 224/5\n",
        "\n",
        "# Derivar la expresión\n",
        "derivative = diff(expr, x)\n",
        "\n",
        "# Imprimir la derivada\n",
        "print(\"La primera derivada de la expresión es:\")\n",
        "print(derivative)\n",
        "\n",
        "# Se seguiría este camino, en donde tenemos que derivar la expresión calculada arriba \n",
        "# evaluar dicha expresión derivada con su correspondiente condicion inicial, y nuevamente \n",
        "# calcular su derivada, la cual seria la segunda derivada de la función obtenida en un principio \n",
        "# después evaluar dicha función derivada por segunda vez con sus condiciones iniciales correspondientes \n",
        "# formar el sistema de ecuaciones dependiendo de las condiciones iniciales, y finalmente resolver dicho sistema \n",
        "# para obtener los valores de C1, C2 y C3, para después sustituirlos en la formula general "
      ],
      "metadata": {
        "colab": {
          "base_uri": "https://localhost:8080/"
        },
        "id": "dUSghe_afXRd",
        "outputId": "b17dff04-a412-4141-c55c-72bcc94d289d"
      },
      "execution_count": null,
      "outputs": [
        {
          "output_type": "stream",
          "name": "stdout",
          "text": [
            "La primera derivada de la expresión es:\n",
            "-80*x + (-2*sin(2*x) + 2*cos(2*x))*exp(-x) - (sin(2*x) + cos(2*x))*exp(-x) + exp(x) - 48\n"
          ]
        }
      ]
    },
    {
      "cell_type": "markdown",
      "source": [
        "## Pregunta 3 "
      ],
      "metadata": {
        "id": "X4r1hoErka9-"
      }
    },
    {
      "cell_type": "code",
      "source": [
        "def solve_differential_equation():\n",
        "    # Valores iniciales\n",
        "    y_initial = 0.0  # Valor inicial de y(0)\n",
        "    y_prime_initial = 1.0  # Valor inicial de y'(0)\n",
        "    h = 0.1  # Paso de integración\n",
        "    n = 10  # Número total de pasos\n",
        "\n",
        "    # Lista para almacenar los valores de y\n",
        "    y_values = []\n",
        "\n",
        "    # Inicialización de variables\n",
        "    y_current = y_initial\n",
        "    y_prime_current = y_prime_initial\n",
        "\n",
        "    # Agregar y_actual a la lista de valores de y\n",
        "    y_values.append(y_current)\n",
        "\n",
        "    # Resolver la ecuación diferencial\n",
        "    for i in range(1, n+1):\n",
        "        x_current = i * h\n",
        "        y_double_prime_current = x_current**(-0.5)\n",
        "        \n",
        "        y_next = 2 * y_current - y_values[i-1] + h**2 * y_double_prime_current\n",
        "        \n",
        "        # Agregar y_siguiente a la lista de valores de y\n",
        "        y_values.append(y_next)\n",
        "        \n",
        "        # Actualizar y_anterior y y_actual\n",
        "        y_current = y_next\n",
        "\n",
        "    return y_values\n",
        "\n",
        "# Llamada al procedimiento y obtención de los valores de y\n",
        "solution = solve_differential_equation()\n",
        "\n",
        "# Imprimir los valores de y\n",
        "for i, y in enumerate(solution):\n",
        "    print(f\"y({i}) = {y}\")"
      ],
      "metadata": {
        "id": "wFCMbQA6qZqC",
        "outputId": "e70a736e-0e79-4d10-8630-29b31d3b098d",
        "colab": {
          "base_uri": "https://localhost:8080/"
        }
      },
      "execution_count": null,
      "outputs": [
        {
          "output_type": "stream",
          "name": "stdout",
          "text": [
            "y(0) = 0.0\n",
            "y(1) = 0.0316227766016838\n",
            "y(2) = 0.0539834563766817\n",
            "y(3) = 0.07224087496018725\n",
            "y(4) = 0.08805226326102915\n",
            "y(5) = 0.1021943988847601\n",
            "y(6) = 0.11510434337211817\n",
            "y(7) = 0.12705662946546212\n",
            "y(8) = 0.13823696935296106\n",
            "y(9) = 0.14877789488685567\n",
            "y(10) = 0.15877789488685567\n"
          ]
        }
      ]
    },
    {
      "cell_type": "code",
      "source": [],
      "metadata": {
        "id": "D_l39T3BqZnt"
      },
      "execution_count": null,
      "outputs": []
    },
    {
      "cell_type": "code",
      "source": [],
      "metadata": {
        "id": "63QuuLyuqZlK"
      },
      "execution_count": null,
      "outputs": []
    },
    {
      "cell_type": "code",
      "source": [],
      "metadata": {
        "id": "peFQoRN8qZiz"
      },
      "execution_count": null,
      "outputs": []
    },
    {
      "cell_type": "code",
      "source": [],
      "metadata": {
        "id": "Eyx5Gb0HfMYJ"
      },
      "execution_count": null,
      "outputs": []
    },
    {
      "cell_type": "code",
      "source": [],
      "metadata": {
        "id": "yePG300cfMWZ"
      },
      "execution_count": null,
      "outputs": []
    },
    {
      "cell_type": "markdown",
      "source": [
        "## Pregunta 4 "
      ],
      "metadata": {
        "id": "WhprSt6MmxXR"
      }
    },
    {
      "cell_type": "code",
      "source": [
        "# No funciona para resolver ecuaciones por el metodo de Laplace \n",
        "import sympy as sp\n",
        "\n",
        "def solve_differential_equation():\n",
        "    x = sp.symbols('x')\n",
        "    y = sp.Function('y')(x)\n",
        "\n",
        "    # Definir la ecuación diferencial\n",
        "    eq = sp.diff(y, x, 2) + sp.diff(y, x, 1) - 12*sp.diff(y, x, 1) - (250*sp.exp(-2*x))   # 40*sp.exp(-2*x) +12*(x) +1\n",
        "\n",
        "    # Resolver la ecuación diferencial\n",
        "    solution = sp.dsolve(eq)\n",
        "\n",
        "    # Obtener los valores de C1, C2 y C3, # Agregar las condiciones iniciales aquí\n",
        "    constants = sp.solve([solution.rhs.subs(x, 0), 0, solution.rhs.diff(x).subs(x, 0) + 1], (sp.Symbol('C1'), sp.Symbol('C2')))\n",
        "\n",
        "    # Agregar los valores de las constantes a la solución\n",
        "    solution = solution.subs(constants)\n",
        "\n",
        "    return solution, constants\n",
        "\n",
        "solution, constants = solve_differential_equation()\n",
        "\n",
        "print(\"Solución de la ecuación diferencial:\")\n",
        "print(solution)\n",
        "print()\n",
        "print(\"Valores de las constantes:\")\n",
        "print(\"C1 =\", constants[sp.Symbol('C1')])\n",
        "print(\"C2 =\", constants[sp.Symbol('C2')])\n",
        "# print(\"C3 =\", constants[sp.Symbol('C3')])"
      ],
      "metadata": {
        "colab": {
          "base_uri": "https://localhost:8080/"
        },
        "id": "LlqNM_pIfMUf",
        "outputId": "733cea22-6204-4179-fcda-68987cf7f8e2"
      },
      "execution_count": null,
      "outputs": [
        {
          "output_type": "stream",
          "name": "stdout",
          "text": [
            "Solución de la ecuación diferencial:\n",
            "Eq(y(x), 237*exp(11*x)/143 - 124/11 + 125*exp(-2*x)/13)\n",
            "\n",
            "Valores de las constantes:\n",
            "C1 = -124/11\n",
            "C2 = 237/143\n"
          ]
        }
      ]
    },
    {
      "cell_type": "code",
      "source": [],
      "metadata": {
        "id": "VD50_x3ofMSZ"
      },
      "execution_count": null,
      "outputs": []
    },
    {
      "cell_type": "code",
      "source": [],
      "metadata": {
        "id": "qUc3KwvefMQt"
      },
      "execution_count": null,
      "outputs": []
    },
    {
      "cell_type": "code",
      "source": [],
      "metadata": {
        "id": "I_OC--6RfMMv"
      },
      "execution_count": null,
      "outputs": []
    },
    {
      "cell_type": "code",
      "source": [],
      "metadata": {
        "id": "VaSjhdpdfMJg"
      },
      "execution_count": null,
      "outputs": []
    },
    {
      "cell_type": "code",
      "source": [],
      "metadata": {
        "id": "Zp9M2x2IfMHz"
      },
      "execution_count": null,
      "outputs": []
    },
    {
      "cell_type": "code",
      "source": [],
      "metadata": {
        "id": "2fZjlg-cfMFa"
      },
      "execution_count": null,
      "outputs": []
    },
    {
      "cell_type": "code",
      "source": [],
      "metadata": {
        "id": "pbHQj4-kfMDr"
      },
      "execution_count": null,
      "outputs": []
    },
    {
      "cell_type": "code",
      "source": [],
      "metadata": {
        "id": "7chIGwE0fMBi"
      },
      "execution_count": null,
      "outputs": []
    },
    {
      "cell_type": "code",
      "source": [],
      "metadata": {
        "id": "w-VXWEGtfL_X"
      },
      "execution_count": null,
      "outputs": []
    },
    {
      "cell_type": "code",
      "source": [],
      "metadata": {
        "id": "KCxl529xfL9b"
      },
      "execution_count": null,
      "outputs": []
    },
    {
      "cell_type": "code",
      "source": [
        "# Resuelve ecuaciones diferenciales lineales homogéneas \n",
        "import sympy as sp\n",
        "\n",
        "# Definir las variables simbólicas\n",
        "x = sp.symbols('x')\n",
        "y = sp.Function('y')(x)\n",
        "\n",
        "# Definir la ecuación diferencial lineal homogénea\n",
        "P = -3  # Coeficiente que multiplica a \"y\" en la ecuación diferencial\n",
        "eq = sp.Eq(y.diff(x) + P*y, 0)\n",
        "\n",
        "# Encontrar el factor integrante\n",
        "factor_integrante = sp.exp(sp.integrate(P, x))\n",
        "\n",
        "# Resolver la ecuación diferencial utilizando dsolve con el método \"separable\" para ecuaciones lineales homogéneas\n",
        "solucion_general = sp.dsolve(eq, y, hint='separable')\n",
        "\n",
        "# Mostrar la solución general\n",
        "print(\"La solución general de la ecuación diferencial homogénea es:\")\n",
        "print(solucion_general)"
      ],
      "metadata": {
        "colab": {
          "base_uri": "https://localhost:8080/"
        },
        "id": "wmY93FDr3MI4",
        "outputId": "0f9c90e2-1d70-47e0-89b3-03d5e4f3f566"
      },
      "execution_count": null,
      "outputs": [
        {
          "output_type": "stream",
          "name": "stdout",
          "text": [
            "La solución general de la ecuación diferencial homogénea es:\n",
            "Eq(y(x), C1*exp(3*x))\n"
          ]
        }
      ]
    },
    {
      "cell_type": "code",
      "source": [
        "# El siguiente código permite resolver ecuaciones diferenciales lineales no homogéneas\n",
        "from sympy import Function, dsolve, Derivative, Eq, symbols\n",
        "\n",
        "# Define el símbolo para la variable independiente\n",
        "x = symbols('x')\n",
        "\n",
        "# Define la función desconocida y(x)\n",
        "y = Function('y')(x)\n",
        "\n",
        "# Define la ecuación diferencial\n",
        "diff_eq = Eq(Derivative(y, x) - 3*y, 6)    # Aquí -3 es el término que multiplica a y\n",
        "                                           # mismo que se usa para calcular el factor integrante \n",
        "# Resuelve la ecuación diferencial         # 6 es el número que hace no homogenea la ecuación diferencial \n",
        "sol = dsolve(diff_eq, y)\n",
        "\n",
        "# Imprime la solución general\n",
        "print(\"La solución general de la ecuación diferencial es:\")\n",
        "print(sol)\n",
        "\n",
        "# C1 es un valor arbitrario que bien puede ser el valor C1 = C "
      ],
      "metadata": {
        "colab": {
          "base_uri": "https://localhost:8080/"
        },
        "id": "Yih_whbl3MGh",
        "outputId": "3ae485b5-aacd-496a-9b64-6b7fc638013d"
      },
      "execution_count": null,
      "outputs": [
        {
          "output_type": "stream",
          "name": "stdout",
          "text": [
            "La solución general de la ecuación diferencial es:\n",
            "Eq(y(x), C1*exp(3*x) - 2)\n"
          ]
        }
      ]
    },
    {
      "cell_type": "markdown",
      "source": [
        "## Está pregunta venía en la serie y era la número 10, la utilice para comprobar que el código de la pregunta 2 funciona según lo esperado, dado que ya en su momento resolví el problema a lápiz"
      ],
      "metadata": {
        "id": "aaOF_-hldkpB"
      }
    },
    {
      "cell_type": "code",
      "source": [
        "import sympy as sp\n",
        "\n",
        "def solve_differential_equation():\n",
        "    x = sp.symbols('x')\n",
        "    y = sp.Function('y')(x)\n",
        "\n",
        "    # Definir la ecuación diferencial\n",
        "    eq = sp.diff(y, x, 3) + 6*sp.diff(y, x, 2) + 11*sp.diff(y, x, 1) + 6*y \n",
        "\n",
        "    # Resolver la ecuación diferencial\n",
        "    solution = sp.dsolve(eq)\n",
        "\n",
        "    # Obtener los valores de C1, C2 y C3, # Agregar las condiciones iniciales aquí\n",
        "    constants = sp.solve([solution.rhs.subs(x, 0) -8.2, solution.rhs.diff(x).subs(x, 0) + 0, solution.rhs.diff(x, x).subs(x, 0) -6.8], (sp.Symbol('C1'), sp.Symbol('C2'), sp.Symbol('C3')))\n",
        "\n",
        "    # Agregar los valores de las constantes a la solución\n",
        "    solution = solution.subs(constants)\n",
        "\n",
        "    return solution, constants\n",
        "\n",
        "solution, constants = solve_differential_equation()\n",
        "\n",
        "print(\"Solución de la ecuación diferencial:\")\n",
        "print(solution)\n",
        "print()\n",
        "print(\"Valores de las constantes:\")\n",
        "print(\"C1 =\", constants[sp.Symbol('C1')])\n",
        "print(\"C2 =\", constants[sp.Symbol('C2')])\n",
        "print(\"C3 =\", constants[sp.Symbol('C3')])"
      ],
      "metadata": {
        "colab": {
          "base_uri": "https://localhost:8080/"
        },
        "id": "adk9mzv7dZcH",
        "outputId": "71464af5-b48e-47b6-f097-895a5ac52f73"
      },
      "execution_count": null,
      "outputs": [
        {
          "output_type": "stream",
          "name": "stdout",
          "text": [
            "Solución de la ecuación diferencial:\n",
            "Eq(y(x), (28.0 - 31.4*exp(-x) + 11.6*exp(-2*x))*exp(-x))\n",
            "\n",
            "Valores de las constantes:\n",
            "C1 = 28.0000000000000\n",
            "C2 = 11.6000000000000\n",
            "C3 = -31.4000000000000\n"
          ]
        }
      ]
    },
    {
      "cell_type": "code",
      "source": [
        "import sympy as sp\n",
        "y = (28.0*2.7182818284**(-7.7) - 31.4*2.7182818284**(-7.7) + 11.6*2.7182818284**(-2*7.7))\n",
        "print(y) "
      ],
      "metadata": {
        "id": "A-tcVzCcjh7m",
        "outputId": "4d7eabff-9e5c-4db6-f716-055986b94333",
        "colab": {
          "base_uri": "https://localhost:8080/"
        }
      },
      "execution_count": 4,
      "outputs": [
        {
          "output_type": "stream",
          "name": "stdout",
          "text": [
            "-0.0015372338135641137\n"
          ]
        }
      ]
    },
    {
      "cell_type": "code",
      "source": [
        "import sympy as sp\n",
        "\n",
        "def solve_differential_equation():\n",
        "    x = sp.symbols('x')\n",
        "    y = sp.Function('y')(x)\n",
        "\n",
        "    # Definir la ecuación diferencial\n",
        "    eq = sp.Eq(sp.diff(y, x, x), x**(-1/2))\n",
        "\n",
        "    # Resolver la ecuación diferencial mediante el método de variación de parámetros\n",
        "    W = sp.Function('W')(x)  # Determinante Wronskiano\n",
        "    yp = sp.Function('yp')(x)  # Solución particular\n",
        "\n",
        "    # Encontrar la solución general\n",
        "    general_solution = sp.dsolve(eq, y)\n",
        "\n",
        "    # Encontrar el Wronskiano y la solución particular\n",
        "    Wronskian = sp.simplify(sp.Matrix([[y, yp], [y.diff(x), yp.diff(x)]]).det())\n",
        "    particular_solution = sp.integrate(Wronskian / W, x)\n",
        "\n",
        "    # Aplicar las condiciones iniciales y resolver para las constantes\n",
        "    constants = sp.solve([general_solution.rhs.subs(x, 0), general_solution.rhs.diff(x).subs(x, 0)], (sp.Symbol('C1'), sp.Symbol('C2')))\n",
        "    \n",
        "    # Agregar los valores de las constantes a la solución particular\n",
        "    particular_solution = particular_solution.subs(constants)\n",
        "\n",
        "    # Sumar la solución particular a la solución general\n",
        "    solution = general_solution.rhs + particular_solution\n",
        "\n",
        "    return solution, constants\n",
        "\n",
        "solution, constants = solve_differential_equation()\n",
        "\n",
        "print(\"Solución de la ecuación diferencial:\")\n",
        "print(solution)\n",
        "print()\n",
        "print(\"Valores de las constantes:\")\n",
        "print(\"C1 =\", constants[sp.Symbol('C1')])\n",
        "print(\"C2 =\", constants[sp.Symbol('C2')])"
      ],
      "metadata": {
        "id": "ctQIYeSA3MCg",
        "colab": {
          "base_uri": "https://localhost:8080/"
        },
        "outputId": "e156fa6f-93df-4ea9-ee50-b08f6fcbda62"
      },
      "execution_count": null,
      "outputs": [
        {
          "output_type": "stream",
          "name": "stdout",
          "text": [
            "Solución de la ecuación diferencial:\n",
            "C1 + C2*x + 1.33333333333333*x**1.5 - Integral(-y(x)*Derivative(yp(x), x)/W(x), x) - Integral(yp(x)*Derivative(y(x), x)/W(x), x)\n",
            "\n",
            "Valores de las constantes:\n",
            "C1 = 0\n",
            "C2 = 0\n"
          ]
        }
      ]
    },
    {
      "cell_type": "code",
      "source": [],
      "metadata": {
        "id": "zjKlm75o3MAN"
      },
      "execution_count": null,
      "outputs": []
    },
    {
      "cell_type": "code",
      "source": [],
      "metadata": {
        "id": "ZQbOkl7E3L9j"
      },
      "execution_count": null,
      "outputs": []
    },
    {
      "cell_type": "code",
      "source": [],
      "metadata": {
        "id": "HKvDapDrDGlk"
      },
      "execution_count": null,
      "outputs": []
    },
    {
      "cell_type": "code",
      "source": [
        "# Resuelve un sistema de ecuaciones 3 x 3, esto tras sustituir los valores de la función característica y a continuación derivar \n",
        "# dicha función, de acuerdo a las condiciones iniciales dadas\n",
        "# Al ejecutar el código encontramos los valores de c1, c2 y c3 \n",
        "def solve_system(A, B):\n",
        "    n = len(A)\n",
        "    \n",
        "    # Concatenar matriz A y vector B\n",
        "    AB = []\n",
        "    for i in range(n):\n",
        "        AB.append(A[i] + [B[i]])\n",
        "\n",
        "    # Eliminación hacia adelante\n",
        "    for i in range(n):\n",
        "        if AB[i][i] == 0:\n",
        "            # Intercambiar filas si el pivote es cero\n",
        "            for j in range(i+1, n):\n",
        "                if AB[j][i] != 0:\n",
        "                    AB[i], AB[j] = AB[j], AB[i]\n",
        "                    break\n",
        "\n",
        "        pivot = AB[i][i]\n",
        "        if pivot == 0:\n",
        "            # Sistema no tiene solución única\n",
        "            return None\n",
        "\n",
        "        # Hacer que el pivote sea igual a 1\n",
        "        for j in range(i, n+1):\n",
        "            AB[i][j] /= pivot\n",
        "\n",
        "        # Hacer que los elementos debajo del pivote sean igual a cero\n",
        "        for j in range(i+1, n):\n",
        "            factor = AB[j][i]\n",
        "            for k in range(i, n+1):\n",
        "                AB[j][k] -= factor * AB[i][k]\n",
        "\n",
        "    # Sustitución hacia atrás\n",
        "    for i in range(n-1, 0, -1):\n",
        "        for j in range(i-1, -1, -1):\n",
        "            factor = AB[j][i]\n",
        "            for k in range(i, n+1):\n",
        "                AB[j][k] -= factor * AB[i][k]\n",
        "\n",
        "    # Extraer la solución del sistema\n",
        "    solution = []\n",
        "    for i in range(n):\n",
        "        solution.append(AB[i][-1])\n",
        "\n",
        "    return solution"
      ],
      "metadata": {
        "id": "1sReCVHbD-qn"
      },
      "execution_count": null,
      "outputs": []
    },
    {
      "cell_type": "code",
      "source": [
        "# Acá se resuelve el sistema de ecuaciones deel ejemplo 3 del capitulo 4.4, pagina 159 del libro de Ecuaciones diferenciales Zill \n",
        "\n",
        "A = [[0, 1, 1],\n",
        "     [0, 0 , 0],\n",
        "     [0, -2, 1]]\n",
        "     #[0, 0, 2,-3]]\n",
        "\n",
        "B = [12,-2, -56]\n",
        "\n",
        "solution = solve_system(A, B)\n",
        "if solution is not None:\n",
        "    print(\"La solución es:\", solution)\n",
        "else:\n",
        "    print(\"El sistema no tiene solución única.\")\n",
        "# La solución aquí mostrada concuerda con los valores obtenidos en el ejercicio del libro"
      ],
      "metadata": {
        "colab": {
          "base_uri": "https://localhost:8080/"
        },
        "id": "zPJ9TWH42D5K",
        "outputId": "129d8585-a918-4751-91d8-ecad1db9e9c2"
      },
      "execution_count": null,
      "outputs": [
        {
          "output_type": "stream",
          "name": "stdout",
          "text": [
            "El sistema no tiene solución única.\n"
          ]
        }
      ]
    },
    {
      "cell_type": "code",
      "source": [],
      "metadata": {
        "id": "ntnVg_9W2D2n"
      },
      "execution_count": null,
      "outputs": []
    },
    {
      "cell_type": "code",
      "source": [
        "import numpy as np\n",
        "from scipy.integrate import solve_ivp\n",
        "import matplotlib.pyplot as plt\n",
        "\n",
        "def f(x, y):\n",
        "    return np.array([y[1], y[2], -27*y[2] - 27*y[1] - 27*y[0] + 30*np.exp(-3*x)])\n",
        "\n",
        "# Condiciones iniciales\n",
        "y0 = np.array([1, 1, 1])\n",
        "\n",
        "# Rango de valores de x\n",
        "x_range = np.linspace(0, 1, 100)\n",
        "\n",
        "# Resolver la ecuación diferencial\n",
        "sol = solve_ivp(f, [0, 1], y0, t_eval=x_range)\n",
        "\n",
        "# Obtener la solución y(x)\n",
        "y_solution = sol.y[0]\n",
        "\n",
        "# Graficar la solución\n",
        "plt.plot(sol.t, y_solution)\n",
        "plt.xlabel('x')\n",
        "plt.ylabel('y(x)')\n",
        "plt.title('Solución de la ecuación diferencial')\n",
        "plt.grid(True)\n",
        "plt.show()"
      ],
      "metadata": {
        "colab": {
          "base_uri": "https://localhost:8080/",
          "height": 472
        },
        "id": "xDtjWXso2D00",
        "outputId": "3da15182-b485-4ee9-c691-6ae1113aaaf7"
      },
      "execution_count": null,
      "outputs": [
        {
          "output_type": "display_data",
          "data": {
            "text/plain": [
              "<Figure size 640x480 with 1 Axes>"
            ],
            "image/png": "[encoded data removed]"
          },
          "metadata": {}
        }
      ]
    },
    {
      "cell_type": "code",
      "source": [],
      "metadata": {
        "id": "MF49Nspu2Dy8"
      },
      "execution_count": null,
      "outputs": []
    },
    {
      "cell_type": "code",
      "source": [],
      "metadata": {
        "id": "xTs3_Ioc2Dw0"
      },
      "execution_count": null,
      "outputs": []
    },
    {
      "cell_type": "code",
      "source": [],
      "metadata": {
        "id": "uDc5IZ5V2DuW"
      },
      "execution_count": null,
      "outputs": []
    },
    {
      "cell_type": "code",
      "source": [],
      "metadata": {
        "id": "bK44sNM42Dr4"
      },
      "execution_count": null,
      "outputs": []
    },
    {
      "cell_type": "code",
      "source": [],
      "metadata": {
        "id": "IxzN_nGY2DiP"
      },
      "execution_count": null,
      "outputs": []
    },
    {
      "cell_type": "code",
      "source": [],
      "metadata": {
        "id": "oK6IpEYS2Dfu"
      },
      "execution_count": null,
      "outputs": []
    },
    {
      "cell_type": "code",
      "source": [],
      "metadata": {
        "id": "Yw9CpcGP2DdU"
      },
      "execution_count": null,
      "outputs": []
    }
  ]
}