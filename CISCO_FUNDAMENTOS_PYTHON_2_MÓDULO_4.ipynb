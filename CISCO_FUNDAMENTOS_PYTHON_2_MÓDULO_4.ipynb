{
  "nbformat": 4,
  "nbformat_minor": 0,
  "metadata": {
    "colab": {
      "provenance": [],
      "authorship_tag": "ABX9TyP0c8T1QhvAYbglKHvvkIVy",
      "include_colab_link": true
    },
    "kernelspec": {
      "name": "python3",
      "display_name": "Python 3"
    },
    "language_info": {
      "name": "python"
    }
  },
  "cells": [
    {
      "cell_type": "markdown",
      "metadata": {
        "id": "view-in-github",
        "colab_type": "text"
      },
      "source": [
        "<a href=\"https://colab.research.google.com/github/LeonardoAlunaM/COMPUTADORAS-Y-PROGRAMACI-N-2O23-/blob/main-COMPUTADORAS-Y-PROGTRAMACI%C3%93N-2023/CISCO_FUNDAMENTOS_PYTHON_2_M%C3%93DULO_4.ipynb\" target=\"_parent\"><img src=\"https://colab.research.google.com/assets/colab-badge.svg\" alt=\"Open In Colab\"/></a>"
      ]
    },
    {
      "cell_type": "markdown",
      "source": [
        "# Módulo 4: Misceláneos "
      ],
      "metadata": {
        "id": "9xA7ztyOmOJg"
      }
    },
    {
      "cell_type": "markdown",
      "source": [
        "4.1 Sección 1 - generadores, iteradores y cierres"
      ],
      "metadata": {
        "id": "rrUAx33fmN0b"
      }
    },
    {
      "cell_type": "code",
      "execution_count": null,
      "metadata": {
        "colab": {
          "base_uri": "https://localhost:8080/"
        },
        "id": "mm5CHriwmJvb",
        "outputId": "ea093217-e0ba-44a6-89e0-1d04892c5280"
      },
      "outputs": [
        {
          "output_type": "stream",
          "name": "stdout",
          "text": [
            "0\n",
            "1\n",
            "2\n",
            "3\n",
            "4\n"
          ]
        }
      ],
      "source": [
        "for i in range(5):\n",
        "    print(i)\n",
        "# La función range() es un generador, la cual también es un iterador."
      ]
    },
    {
      "cell_type": "code",
      "source": [
        "class Fib:\n",
        "    def __init__(self, nn):\n",
        "        print(\"__init__\")\n",
        "        self.__n = nn\n",
        "        self.__i = 0\n",
        "        self.__p1 = self.__p2 = 1\n",
        "\n",
        "    def __iter__(self):\n",
        "        print(\"__iter__\")\n",
        "        return self\n",
        "\n",
        "    def __next__(self):\n",
        "        print(\"__next__\")\t\t\n",
        "        self.__i += 1\n",
        "        if self.__i > self.__n:\n",
        "            raise StopIteration\n",
        "        if self.__i in [1, 2]:\n",
        "            return 1\n",
        "        ret = self.__p1 + self.__p2\n",
        "        self.__p1, self.__p2 = self.__p2, ret\n",
        "        return ret\n",
        "\n",
        "\n",
        "for i in Fib(10):\n",
        "    print(i)"
      ],
      "metadata": {
        "id": "kTYRHkWepG8r",
        "colab": {
          "base_uri": "https://localhost:8080/"
        },
        "outputId": "b3cb5a93-71d8-4d98-9220-8d8c0a39ed54"
      },
      "execution_count": null,
      "outputs": [
        {
          "output_type": "stream",
          "name": "stdout",
          "text": [
            "__init__\n",
            "__iter__\n",
            "__next__\n",
            "1\n",
            "__next__\n",
            "1\n",
            "__next__\n",
            "2\n",
            "__next__\n",
            "3\n",
            "__next__\n",
            "5\n",
            "__next__\n",
            "8\n",
            "__next__\n",
            "13\n",
            "__next__\n",
            "21\n",
            "__next__\n",
            "34\n",
            "__next__\n",
            "55\n",
            "__next__\n"
          ]
        }
      ]
    },
    {
      "cell_type": "code",
      "source": [
        "class Fib:\n",
        "    def __init__(self, nn):\n",
        "        print(\"__init__\")\n",
        "        self.__n = nn\n",
        "        self.__i = 0\n",
        "        self.__p1 = self.__p2 = 1\n",
        "\n",
        "    def __iter__(self):\n",
        "        print(\"__iter__\")\n",
        "        return self\n",
        "\n",
        "    def __next__(self):\n",
        "        print(\"__next__\")\t\t\n",
        "        self.__i += 1\n",
        "        if self.__i > self.__n:\n",
        "            raise StopIteration\n",
        "        if self.__i in [1, 2]:\n",
        "            return 1\n",
        "        ret = self.__p1 + self.__p2\n",
        "        self.__p1, self.__p2 = self.__p2, ret\n",
        "        return ret\n",
        "\n",
        "\n",
        "for i in Fib(15):\n",
        "    print(i)"
      ],
      "metadata": {
        "id": "KFK00MlnpG6U",
        "colab": {
          "base_uri": "https://localhost:8080/"
        },
        "outputId": "551e4ab4-79c7-4483-a29b-c53ca641bb46"
      },
      "execution_count": null,
      "outputs": [
        {
          "output_type": "stream",
          "name": "stdout",
          "text": [
            "__init__\n",
            "__iter__\n",
            "__next__\n",
            "1\n",
            "__next__\n",
            "1\n",
            "__next__\n",
            "2\n",
            "__next__\n",
            "3\n",
            "__next__\n",
            "5\n",
            "__next__\n",
            "8\n",
            "__next__\n",
            "13\n",
            "__next__\n",
            "21\n",
            "__next__\n",
            "34\n",
            "__next__\n",
            "55\n",
            "__next__\n",
            "89\n",
            "__next__\n",
            "144\n",
            "__next__\n",
            "233\n",
            "__next__\n",
            "377\n",
            "__next__\n",
            "610\n",
            "__next__\n"
          ]
        }
      ]
    },
    {
      "cell_type": "code",
      "source": [
        "class Fib:\n",
        "    def __init__(self, nn):\n",
        "        self.__n = nn\n",
        "        self.__i = 0\n",
        "        self.__p1 = self.__p2 = 1\n",
        "\n",
        "    def __iter__(self):\n",
        "        print(\"Fib iter\")\n",
        "        return self\n",
        "\n",
        "    def __next__(self):\n",
        "        self.__i += 1\n",
        "        if self.__i > self.__n:\n",
        "            raise StopIteration\n",
        "        if self.__i in [1, 2]:\n",
        "            return 1\n",
        "        ret = self.__p1 + self.__p2\n",
        "        self.__p1, self.__p2 = self.__p2, ret\n",
        "        return ret\n",
        "\n",
        "\n",
        "class Class:\n",
        "    def __init__(self, n):\n",
        "        self.__iter = Fib(n)\n",
        "\n",
        "    def __iter__(self):\n",
        "        print(\"Class iter\")\n",
        "        return self.__iter\n",
        "\n",
        "\n",
        "object = Class(8)\n",
        "\n",
        "for i in object:\n",
        "    print(i)\n",
        "    "
      ],
      "metadata": {
        "id": "6kjnkt3VpG4o",
        "colab": {
          "base_uri": "https://localhost:8080/"
        },
        "outputId": "0ba20960-622b-4600-9a6a-c0fba09b2146"
      },
      "execution_count": 1,
      "outputs": [
        {
          "output_type": "stream",
          "name": "stdout",
          "text": [
            "Class iter\n",
            "1\n",
            "1\n",
            "2\n",
            "3\n",
            "5\n",
            "8\n",
            "13\n",
            "21\n"
          ]
        }
      ]
    },
    {
      "cell_type": "code",
      "source": [
        "def fun(n):\n",
        "    for i in range(n):\n",
        "        return i"
      ],
      "metadata": {
        "id": "H8tqwnBOpG1w"
      },
      "execution_count": 2,
      "outputs": []
    },
    {
      "cell_type": "code",
      "source": [
        "def fun(n):\n",
        "    for i in range(n):\n",
        "        yield i\n",
        "# Las identaciones de este código estaban mal antes de que yo las corriegiera "
      ],
      "metadata": {
        "id": "RzBSRTMlcqgE"
      },
      "execution_count": 4,
      "outputs": []
    },
    {
      "cell_type": "markdown",
      "source": [
        "Hemos puesto yield en lugar de return. Esta pequeña enmienda convierte la función en un generador, y el ejecutar la sentencia yield tiene algunos efectos muy interesantes.\n",
        "\n",
        "Primeramente, proporciona el valor de la expresión especificada después de la palabra clave reservada yield, al igual que return, pero no pierde el estado de la función."
      ],
      "metadata": {
        "id": "500VXaVbdMFr"
      }
    },
    {
      "cell_type": "code",
      "source": [
        "def fun(n):\n",
        "    for i in range(n):\n",
        "        yield i\n",
        " \n",
        " \n",
        "for v in fun(5):\n",
        "    print(v)"
      ],
      "metadata": {
        "id": "BMKWq6mypGz2",
        "colab": {
          "base_uri": "https://localhost:8080/"
        },
        "outputId": "0d8675dd-4af3-411f-86e3-509e16c9eb0b"
      },
      "execution_count": 5,
      "outputs": [
        {
          "output_type": "stream",
          "name": "stdout",
          "text": [
            "0\n",
            "1\n",
            "2\n",
            "3\n",
            "4\n"
          ]
        }
      ]
    },
    {
      "cell_type": "code",
      "source": [
        "def powers_of_2(n):\n",
        "    power = 1\n",
        "    for i in range(n):\n",
        "        yield power\n",
        "        power *= 2\n",
        " \n",
        " \n",
        "for v in powers_of_2(8):\n",
        "    print(v)"
      ],
      "metadata": {
        "id": "Kumiz-2IpGxL",
        "colab": {
          "base_uri": "https://localhost:8080/"
        },
        "outputId": "c1f7bcc0-a4f8-4186-a601-cd6e0def6140"
      },
      "execution_count": 6,
      "outputs": [
        {
          "output_type": "stream",
          "name": "stdout",
          "text": [
            "1\n",
            "2\n",
            "4\n",
            "8\n",
            "16\n",
            "32\n",
            "64\n",
            "128\n"
          ]
        }
      ]
    },
    {
      "cell_type": "code",
      "source": [
        "def powers_of_2(n):\n",
        "    power = 1\n",
        "    for i in range(n):\n",
        "        yield power\n",
        "        power *= 2\n",
        " \n",
        " \n",
        "t = [x for x in powers_of_2(5)]\n",
        "print(t)"
      ],
      "metadata": {
        "id": "6JV_DWprpGvG",
        "colab": {
          "base_uri": "https://localhost:8080/"
        },
        "outputId": "3379e292-a6ca-4da2-a70e-af5395a87967"
      },
      "execution_count": 9,
      "outputs": [
        {
          "output_type": "stream",
          "name": "stdout",
          "text": [
            "[1, 2, 4, 8, 16]\n"
          ]
        }
      ]
    },
    {
      "cell_type": "code",
      "source": [
        "def powers_of_2(n):\n",
        "    power = 1\n",
        "    for i in range(n):\n",
        "        yield power\n",
        "        power *= 2\n",
        " \n",
        " \n",
        "t = list(powers_of_2(3))\n",
        "print(t)"
      ],
      "metadata": {
        "id": "fVWcTAEwpGsm",
        "colab": {
          "base_uri": "https://localhost:8080/"
        },
        "outputId": "6e2d3ad1-586d-452b-987a-5621a2150149"
      },
      "execution_count": 18,
      "outputs": [
        {
          "output_type": "stream",
          "name": "stdout",
          "text": [
            "[1, 2, 4]\n"
          ]
        }
      ]
    },
    {
      "cell_type": "code",
      "source": [
        "def powers_of_2(n):\n",
        "    power = 1\n",
        "    for i in range(n):\n",
        "        yield power\n",
        "        power *= 2\n",
        " \n",
        " \n",
        "for i in range(20):\n",
        "    if i in powers_of_2(4):\n",
        "        print(i)"
      ],
      "metadata": {
        "id": "-RZjcMDVpGqX",
        "colab": {
          "base_uri": "https://localhost:8080/"
        },
        "outputId": "60f72061-745c-45c8-bd8b-6f7f8af12eae"
      },
      "execution_count": 19,
      "outputs": [
        {
          "output_type": "stream",
          "name": "stdout",
          "text": [
            "1\n",
            "2\n",
            "4\n",
            "8\n"
          ]
        }
      ]
    },
    {
      "cell_type": "markdown",
      "source": [
        "Ahora veamos un generador de números de la serie Fibonacci, asegurandonos que se vea mucho mejor que la versión orientada a objetos basada en la implementación directa del protocolo iterador."
      ],
      "metadata": {
        "id": "QJb34EacfkxN"
      }
    },
    {
      "cell_type": "code",
      "source": [
        "def fibonacci(n):\n",
        "    p = pp = 1\n",
        "    for i in range(n):\n",
        "        if i in [0, 1]:\n",
        "            yield 1\n",
        "        else:\n",
        "            n = p + pp\n",
        "            pp, p = p, n\n",
        "            yield n\n",
        " \n",
        "fibs = list(fibonacci(10))\n",
        "print(fibs)"
      ],
      "metadata": {
        "id": "YD_kQCgUpGl7",
        "colab": {
          "base_uri": "https://localhost:8080/"
        },
        "outputId": "6d63d45f-4ec8-468b-cc89-4b4e95748903"
      },
      "execution_count": 20,
      "outputs": [
        {
          "output_type": "stream",
          "name": "stdout",
          "text": [
            "[1, 1, 2, 3, 5, 8, 13, 21, 34, 55]\n"
          ]
        }
      ]
    },
    {
      "cell_type": "markdown",
      "source": [
        "# Horas que faltan para que termine el año "
      ],
      "metadata": {
        "id": "PhkVpLAVg4g6"
      }
    },
    {
      "cell_type": "code",
      "source": [
        "# Programa que calcula las horas que faltan para que se acabe el año\n",
        "\n",
        "# Aún me faltaría agregar una regla que determinara el número de horas en función del día presente\n",
        "# Agregar una función calendario a la larga :V, osea después \n",
        "# En función de la hora inicial ( El mal llamado presente)\n",
        "\n",
        "hora_1 = int(input(\"Ingrese el número de horas que faltan para que se acabe el año:  \"))   \n",
        "if 0 <= hora_1 <= 8760:  ##Condicional 1    # Rango valido de horas en un año normal, no bisiesto \n",
        "    for i in range(365): # Días en un año == número de iteraciones que se llevana cabo durante el programa\n",
        "        hora_1 -= 24     # El valor ingresado por el usuario, -24 horas, en cada iteración \n",
        "        if hora_1 >= 0:  ##Condicional 2    # Solo aquellos valores de hora_1 -=24 >= (mayores que ) 0, son impresos en consola\n",
        "            print(f\"Horas que faltan para que se acabe el año: {hora_1} horas.\") # Desconozco si todos los valores del intervalo son calculados, en todo caso solo se imprimen \n",
        "else: # aquellos cuyo valor es mayor a 0 \n",
        "    print(\"Revisa el número de horas que faltan para terminar el año\")\n",
        "\n",
        "# Este código ya funciona según como se espera, pero sigue siendo muy simple\n",
        "\n",
        "# No recuerdo como funcionaba mi programa :C :V "
      ],
      "metadata": {
        "id": "xYhhFBbCpGkK"
      },
      "execution_count": null,
      "outputs": []
    },
    {
      "cell_type": "code",
      "source": [
        "list_1 = []\n",
        "\n",
        "for ex in range(6):\n",
        "    list_1.append(10 ** ex)\n",
        "\n",
        "list_2 = [10 ** ex for ex in range(6)]\n",
        "\n",
        "print(list_1)\n",
        "print(list_2)\n",
        "    "
      ],
      "metadata": {
        "id": "nlNdGUIGpGhl",
        "colab": {
          "base_uri": "https://localhost:8080/"
        },
        "outputId": "b2b8a8b2-5dd9-4537-8fa2-b14b055a034b"
      },
      "execution_count": 24,
      "outputs": [
        {
          "output_type": "stream",
          "name": "stdout",
          "text": [
            "[1, 10, 100, 1000, 10000, 100000]\n",
            "[1, 10, 100, 1000, 10000, 100000]\n"
          ]
        }
      ]
    },
    {
      "cell_type": "code",
      "source": [
        "the_list = []\n",
        "\n",
        "for x in range(10):\n",
        "    the_list.append(1 if x % 2 == 0 else 0)\n",
        "\n",
        "print(the_list)\n",
        "    "
      ],
      "metadata": {
        "id": "P7HLTUvcpGfk",
        "colab": {
          "base_uri": "https://localhost:8080/"
        },
        "outputId": "ef5509ae-e173-4d56-bacc-110d7c07a0da"
      },
      "execution_count": 25,
      "outputs": [
        {
          "output_type": "stream",
          "name": "stdout",
          "text": [
            "[1, 0, 1, 0, 1, 0, 1, 0, 1, 0]\n"
          ]
        }
      ]
    },
    {
      "cell_type": "code",
      "source": [
        "the_list = [1 if x % 2 == 0 else 0 for x in range(10)]\n",
        "\n",
        "print(the_list)\n",
        "    \n",
        "    "
      ],
      "metadata": {
        "id": "AqP8EhYppGdH",
        "colab": {
          "base_uri": "https://localhost:8080/"
        },
        "outputId": "6526d148-b9d2-4100-f0c2-1585b19bfd97"
      },
      "execution_count": 27,
      "outputs": [
        {
          "output_type": "stream",
          "name": "stdout",
          "text": [
            "[1, 0, 1, 0, 1, 0, 1, 0, 1, 0]\n"
          ]
        }
      ]
    },
    {
      "cell_type": "code",
      "source": [],
      "metadata": {
        "id": "dZ5kMvhvpGbT"
      },
      "execution_count": null,
      "outputs": []
    },
    {
      "cell_type": "code",
      "source": [],
      "metadata": {
        "id": "J86cligppGZF"
      },
      "execution_count": null,
      "outputs": []
    },
    {
      "cell_type": "code",
      "source": [],
      "metadata": {
        "id": "4OLOSgvppGXH"
      },
      "execution_count": null,
      "outputs": []
    },
    {
      "cell_type": "code",
      "source": [],
      "metadata": {
        "id": "McclOqzepGUq"
      },
      "execution_count": null,
      "outputs": []
    },
    {
      "cell_type": "code",
      "source": [],
      "metadata": {
        "id": "gYgihLofpGSv"
      },
      "execution_count": null,
      "outputs": []
    },
    {
      "cell_type": "code",
      "source": [],
      "metadata": {
        "id": "b2dyGfdBpGQu"
      },
      "execution_count": null,
      "outputs": []
    },
    {
      "cell_type": "code",
      "source": [],
      "metadata": {
        "id": "QRI7qzkApGOy"
      },
      "execution_count": null,
      "outputs": []
    },
    {
      "cell_type": "code",
      "source": [],
      "metadata": {
        "id": "piTBSbKhpGMi"
      },
      "execution_count": null,
      "outputs": []
    },
    {
      "cell_type": "code",
      "source": [],
      "metadata": {
        "id": "djlp1DXapGKy"
      },
      "execution_count": null,
      "outputs": []
    },
    {
      "cell_type": "code",
      "source": [],
      "metadata": {
        "id": "rtLKE-WIpGIY"
      },
      "execution_count": null,
      "outputs": []
    },
    {
      "cell_type": "code",
      "source": [],
      "metadata": {
        "id": "VIu-FsfcpGGb"
      },
      "execution_count": null,
      "outputs": []
    },
    {
      "cell_type": "code",
      "source": [],
      "metadata": {
        "id": "LC1DJpeFpGD5"
      },
      "execution_count": null,
      "outputs": []
    }
  ]
}