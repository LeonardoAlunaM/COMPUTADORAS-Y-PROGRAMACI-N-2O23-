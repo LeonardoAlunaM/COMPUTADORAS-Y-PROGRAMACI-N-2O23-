{
  "nbformat": 4,
  "nbformat_minor": 0,
  "metadata": {
    "colab": {
      "provenance": [],
      "authorship_tag": "ABX9TyPF/zSD3rfIIfiC2cVLGL4Z",
      "include_colab_link": true
    },
    "kernelspec": {
      "name": "python3",
      "display_name": "Python 3"
    },
    "language_info": {
      "name": "python"
    }
  },
  "cells": [
    {
      "cell_type": "markdown",
      "metadata": {
        "id": "view-in-github",
        "colab_type": "text"
      },
      "source": [
        "<a href=\"https://colab.research.google.com/github/LeonardoAlunaM/COMPUTADORAS-Y-PROGRAMACI-N-2O23-/blob/main-COMPUTADORAS-Y-PROGTRAMACI%C3%93N-2023/CISCO_FUNDAMENTOS_PYTHON_2_M%C3%93DULO_4.ipynb\" target=\"_parent\"><img src=\"https://colab.research.google.com/assets/colab-badge.svg\" alt=\"Open In Colab\"/></a>"
      ]
    },
    {
      "cell_type": "markdown",
      "source": [
        "# Módulo 4: Misceláneos "
      ],
      "metadata": {
        "id": "9xA7ztyOmOJg"
      }
    },
    {
      "cell_type": "markdown",
      "source": [
        "4.1 Sección 1 - generadores, iteradores y cierres"
      ],
      "metadata": {
        "id": "rrUAx33fmN0b"
      }
    },
    {
      "cell_type": "code",
      "execution_count": null,
      "metadata": {
        "colab": {
          "base_uri": "https://localhost:8080/"
        },
        "id": "mm5CHriwmJvb",
        "outputId": "ea093217-e0ba-44a6-89e0-1d04892c5280"
      },
      "outputs": [
        {
          "output_type": "stream",
          "name": "stdout",
          "text": [
            "0\n",
            "1\n",
            "2\n",
            "3\n",
            "4\n"
          ]
        }
      ],
      "source": [
        "for i in range(5):\n",
        "    print(i)\n",
        "# La función range() es un generador, la cual también es un iterador."
      ]
    },
    {
      "cell_type": "code",
      "source": [
        "class Fib:\n",
        "    def __init__(self, nn):\n",
        "        print(\"__init__\")\n",
        "        self.__n = nn\n",
        "        self.__i = 0\n",
        "        self.__p1 = self.__p2 = 1\n",
        "\n",
        "    def __iter__(self):\n",
        "        print(\"__iter__\")\n",
        "        return self\n",
        "\n",
        "    def __next__(self):\n",
        "        print(\"__next__\")\t\t\n",
        "        self.__i += 1\n",
        "        if self.__i > self.__n:\n",
        "            raise StopIteration\n",
        "        if self.__i in [1, 2]:\n",
        "            return 1\n",
        "        ret = self.__p1 + self.__p2\n",
        "        self.__p1, self.__p2 = self.__p2, ret\n",
        "        return ret\n",
        "\n",
        "\n",
        "for i in Fib(10):\n",
        "    print(i)"
      ],
      "metadata": {
        "id": "kTYRHkWepG8r",
        "colab": {
          "base_uri": "https://localhost:8080/"
        },
        "outputId": "b3cb5a93-71d8-4d98-9220-8d8c0a39ed54"
      },
      "execution_count": null,
      "outputs": [
        {
          "output_type": "stream",
          "name": "stdout",
          "text": [
            "__init__\n",
            "__iter__\n",
            "__next__\n",
            "1\n",
            "__next__\n",
            "1\n",
            "__next__\n",
            "2\n",
            "__next__\n",
            "3\n",
            "__next__\n",
            "5\n",
            "__next__\n",
            "8\n",
            "__next__\n",
            "13\n",
            "__next__\n",
            "21\n",
            "__next__\n",
            "34\n",
            "__next__\n",
            "55\n",
            "__next__\n"
          ]
        }
      ]
    },
    {
      "cell_type": "code",
      "source": [
        "class Fib:\n",
        "    def __init__(self, nn):\n",
        "        print(\"__init__\")\n",
        "        self.__n = nn\n",
        "        self.__i = 0\n",
        "        self.__p1 = self.__p2 = 1\n",
        "\n",
        "    def __iter__(self):\n",
        "        print(\"__iter__\")\n",
        "        return self\n",
        "\n",
        "    def __next__(self):\n",
        "        print(\"__next__\")\t\t\n",
        "        self.__i += 1\n",
        "        if self.__i > self.__n:\n",
        "            raise StopIteration\n",
        "        if self.__i in [1, 2]:\n",
        "            return 1\n",
        "        ret = self.__p1 + self.__p2\n",
        "        self.__p1, self.__p2 = self.__p2, ret\n",
        "        return ret\n",
        "\n",
        "\n",
        "for i in Fib(15):\n",
        "    print(i)"
      ],
      "metadata": {
        "id": "KFK00MlnpG6U",
        "colab": {
          "base_uri": "https://localhost:8080/"
        },
        "outputId": "551e4ab4-79c7-4483-a29b-c53ca641bb46"
      },
      "execution_count": null,
      "outputs": [
        {
          "output_type": "stream",
          "name": "stdout",
          "text": [
            "__init__\n",
            "__iter__\n",
            "__next__\n",
            "1\n",
            "__next__\n",
            "1\n",
            "__next__\n",
            "2\n",
            "__next__\n",
            "3\n",
            "__next__\n",
            "5\n",
            "__next__\n",
            "8\n",
            "__next__\n",
            "13\n",
            "__next__\n",
            "21\n",
            "__next__\n",
            "34\n",
            "__next__\n",
            "55\n",
            "__next__\n",
            "89\n",
            "__next__\n",
            "144\n",
            "__next__\n",
            "233\n",
            "__next__\n",
            "377\n",
            "__next__\n",
            "610\n",
            "__next__\n"
          ]
        }
      ]
    },
    {
      "cell_type": "code",
      "source": [
        "class Fib:\n",
        "    def __init__(self, nn):\n",
        "        self.__n = nn\n",
        "        self.__i = 0\n",
        "        self.__p1 = self.__p2 = 1\n",
        "\n",
        "    def __iter__(self):\n",
        "        print(\"Fib iter\")\n",
        "        return self\n",
        "\n",
        "    def __next__(self):\n",
        "        self.__i += 1\n",
        "        if self.__i > self.__n:\n",
        "            raise StopIteration\n",
        "        if self.__i in [1, 2]:\n",
        "            return 1\n",
        "        ret = self.__p1 + self.__p2\n",
        "        self.__p1, self.__p2 = self.__p2, ret\n",
        "        return ret\n",
        "\n",
        "\n",
        "class Class:\n",
        "    def __init__(self, n):\n",
        "        self.__iter = Fib(n)\n",
        "\n",
        "    def __iter__(self):\n",
        "        print(\"Class iter\")\n",
        "        return self.__iter\n",
        "\n",
        "\n",
        "object = Class(8)\n",
        "\n",
        "for i in object:\n",
        "    print(i)\n",
        "    "
      ],
      "metadata": {
        "id": "6kjnkt3VpG4o",
        "colab": {
          "base_uri": "https://localhost:8080/"
        },
        "outputId": "0ba20960-622b-4600-9a6a-c0fba09b2146"
      },
      "execution_count": 1,
      "outputs": [
        {
          "output_type": "stream",
          "name": "stdout",
          "text": [
            "Class iter\n",
            "1\n",
            "1\n",
            "2\n",
            "3\n",
            "5\n",
            "8\n",
            "13\n",
            "21\n"
          ]
        }
      ]
    },
    {
      "cell_type": "code",
      "source": [
        "def fun(n):\n",
        "    for i in range(n):\n",
        "        return i"
      ],
      "metadata": {
        "id": "H8tqwnBOpG1w"
      },
      "execution_count": 2,
      "outputs": []
    },
    {
      "cell_type": "code",
      "source": [
        "def fun(n):\n",
        "    for i in range(n):\n",
        "        yield i\n",
        "# Las identaciones de este código estaban mal antes de que yo las corriegiera "
      ],
      "metadata": {
        "id": "RzBSRTMlcqgE"
      },
      "execution_count": 4,
      "outputs": []
    },
    {
      "cell_type": "markdown",
      "source": [
        "Hemos puesto yield en lugar de return. Esta pequeña enmienda convierte la función en un generador, y el ejecutar la sentencia yield tiene algunos efectos muy interesantes.\n",
        "\n",
        "Primeramente, proporciona el valor de la expresión especificada después de la palabra clave reservada yield, al igual que return, pero no pierde el estado de la función."
      ],
      "metadata": {
        "id": "500VXaVbdMFr"
      }
    },
    {
      "cell_type": "code",
      "source": [
        "def fun(n):\n",
        "    for i in range(n):\n",
        "        yield i\n",
        " \n",
        " \n",
        "for v in fun(5):\n",
        "    print(v)"
      ],
      "metadata": {
        "id": "BMKWq6mypGz2",
        "colab": {
          "base_uri": "https://localhost:8080/"
        },
        "outputId": "0d8675dd-4af3-411f-86e3-509e16c9eb0b"
      },
      "execution_count": 5,
      "outputs": [
        {
          "output_type": "stream",
          "name": "stdout",
          "text": [
            "0\n",
            "1\n",
            "2\n",
            "3\n",
            "4\n"
          ]
        }
      ]
    },
    {
      "cell_type": "code",
      "source": [
        "def powers_of_2(n):\n",
        "    power = 1\n",
        "    for i in range(n):\n",
        "        yield power\n",
        "        power *= 2\n",
        " \n",
        " \n",
        "for v in powers_of_2(8):\n",
        "    print(v)"
      ],
      "metadata": {
        "id": "Kumiz-2IpGxL",
        "colab": {
          "base_uri": "https://localhost:8080/"
        },
        "outputId": "c1f7bcc0-a4f8-4186-a601-cd6e0def6140"
      },
      "execution_count": 6,
      "outputs": [
        {
          "output_type": "stream",
          "name": "stdout",
          "text": [
            "1\n",
            "2\n",
            "4\n",
            "8\n",
            "16\n",
            "32\n",
            "64\n",
            "128\n"
          ]
        }
      ]
    },
    {
      "cell_type": "code",
      "source": [
        "def powers_of_2(n):\n",
        "    power = 1\n",
        "    for i in range(n):\n",
        "        yield power\n",
        "        power *= 2\n",
        " \n",
        " \n",
        "t = [x for x in powers_of_2(5)]\n",
        "print(t)"
      ],
      "metadata": {
        "id": "6JV_DWprpGvG",
        "colab": {
          "base_uri": "https://localhost:8080/"
        },
        "outputId": "3379e292-a6ca-4da2-a70e-af5395a87967"
      },
      "execution_count": 9,
      "outputs": [
        {
          "output_type": "stream",
          "name": "stdout",
          "text": [
            "[1, 2, 4, 8, 16]\n"
          ]
        }
      ]
    },
    {
      "cell_type": "code",
      "source": [
        "def powers_of_2(n):\n",
        "    power = 1\n",
        "    for i in range(n):\n",
        "        yield power\n",
        "        power *= 2\n",
        " \n",
        " \n",
        "t = list(powers_of_2(3))\n",
        "print(t)"
      ],
      "metadata": {
        "id": "fVWcTAEwpGsm",
        "colab": {
          "base_uri": "https://localhost:8080/"
        },
        "outputId": "6e2d3ad1-586d-452b-987a-5621a2150149"
      },
      "execution_count": 18,
      "outputs": [
        {
          "output_type": "stream",
          "name": "stdout",
          "text": [
            "[1, 2, 4]\n"
          ]
        }
      ]
    },
    {
      "cell_type": "code",
      "source": [
        "def powers_of_2(n):\n",
        "    power = 1\n",
        "    for i in range(n):\n",
        "        yield power\n",
        "        power *= 2\n",
        " \n",
        " \n",
        "for i in range(20):\n",
        "    if i in powers_of_2(4):\n",
        "        print(i)"
      ],
      "metadata": {
        "id": "-RZjcMDVpGqX",
        "colab": {
          "base_uri": "https://localhost:8080/"
        },
        "outputId": "60f72061-745c-45c8-bd8b-6f7f8af12eae"
      },
      "execution_count": 19,
      "outputs": [
        {
          "output_type": "stream",
          "name": "stdout",
          "text": [
            "1\n",
            "2\n",
            "4\n",
            "8\n"
          ]
        }
      ]
    },
    {
      "cell_type": "markdown",
      "source": [
        "Ahora veamos un generador de números de la serie Fibonacci, asegurandonos que se vea mucho mejor que la versión orientada a objetos basada en la implementación directa del protocolo iterador."
      ],
      "metadata": {
        "id": "QJb34EacfkxN"
      }
    },
    {
      "cell_type": "code",
      "source": [
        "def fibonacci(n):\n",
        "    p = pp = 1\n",
        "    for i in range(n):\n",
        "        if i in [0, 1]:\n",
        "            yield 1\n",
        "        else:\n",
        "            n = p + pp\n",
        "            pp, p = p, n\n",
        "            yield n\n",
        " \n",
        "fibs = list(fibonacci(10))\n",
        "print(fibs)"
      ],
      "metadata": {
        "id": "YD_kQCgUpGl7",
        "colab": {
          "base_uri": "https://localhost:8080/"
        },
        "outputId": "6d63d45f-4ec8-468b-cc89-4b4e95748903"
      },
      "execution_count": 20,
      "outputs": [
        {
          "output_type": "stream",
          "name": "stdout",
          "text": [
            "[1, 1, 2, 3, 5, 8, 13, 21, 34, 55]\n"
          ]
        }
      ]
    },
    {
      "cell_type": "markdown",
      "source": [
        "# Horas que faltan para que termine el año "
      ],
      "metadata": {
        "id": "PhkVpLAVg4g6"
      }
    },
    {
      "cell_type": "code",
      "source": [
        "# Programa que calcula las horas que faltan para que se acabe el año\n",
        "\n",
        "# Aún me faltaría agregar una regla que determinara el número de horas en función del día presente\n",
        "# Agregar una función calendario a la larga :V, osea después \n",
        "# En función de la hora inicial ( El mal llamado presente)\n",
        "\n",
        "hora_1 = int(input(\"Ingrese el número de horas que faltan para que se acabe el año:  \"))   \n",
        "if 0 <= hora_1 <= 8760:  ##Condicional 1    # Rango valido de horas en un año normal, no bisiesto \n",
        "    for i in range(365): # Días en un año == número de iteraciones que se llevana cabo durante el programa\n",
        "        hora_1 -= 24     # El valor ingresado por el usuario, -24 horas, en cada iteración \n",
        "        if hora_1 >= 0:  ##Condicional 2    # Solo aquellos valores de hora_1 -=24 >= (mayores que ) 0, son impresos en consola\n",
        "            print(f\"Horas que faltan para que se acabe el año: {hora_1} horas.\") # Desconozco si todos los valores del intervalo son calculados, en todo caso solo se imprimen \n",
        "else: # aquellos cuyo valor es mayor a 0 \n",
        "    print(\"Revisa el número de horas que faltan para terminar el año\")\n",
        "\n",
        "# Este código ya funciona según como se espera, pero sigue siendo muy simple\n",
        "\n",
        "# No recuerdo como funcionaba mi programa :C :V "
      ],
      "metadata": {
        "id": "xYhhFBbCpGkK"
      },
      "execution_count": null,
      "outputs": []
    },
    {
      "cell_type": "code",
      "source": [
        "list_1 = []\n",
        "\n",
        "for ex in range(6):\n",
        "    list_1.append(10 ** ex)\n",
        "\n",
        "list_2 = [10 ** ex for ex in range(6)]\n",
        "\n",
        "print(list_1)\n",
        "print(list_2)\n",
        "    "
      ],
      "metadata": {
        "id": "nlNdGUIGpGhl",
        "colab": {
          "base_uri": "https://localhost:8080/"
        },
        "outputId": "b2b8a8b2-5dd9-4537-8fa2-b14b055a034b"
      },
      "execution_count": 24,
      "outputs": [
        {
          "output_type": "stream",
          "name": "stdout",
          "text": [
            "[1, 10, 100, 1000, 10000, 100000]\n",
            "[1, 10, 100, 1000, 10000, 100000]\n"
          ]
        }
      ]
    },
    {
      "cell_type": "code",
      "source": [
        "the_list = []\n",
        "\n",
        "for x in range(10):\n",
        "    the_list.append(1 if x % 2 == 0 else 0)\n",
        "\n",
        "print(the_list)\n",
        "    "
      ],
      "metadata": {
        "id": "P7HLTUvcpGfk",
        "colab": {
          "base_uri": "https://localhost:8080/"
        },
        "outputId": "ef5509ae-e173-4d56-bacc-110d7c07a0da"
      },
      "execution_count": 25,
      "outputs": [
        {
          "output_type": "stream",
          "name": "stdout",
          "text": [
            "[1, 0, 1, 0, 1, 0, 1, 0, 1, 0]\n"
          ]
        }
      ]
    },
    {
      "cell_type": "code",
      "source": [
        "the_list = [1 if x % 2 == 0 else 0 for x in range(10)]\n",
        "\n",
        "print(the_list)\n",
        "    \n",
        "    "
      ],
      "metadata": {
        "id": "AqP8EhYppGdH",
        "colab": {
          "base_uri": "https://localhost:8080/"
        },
        "outputId": "6526d148-b9d2-4100-f0c2-1585b19bfd97"
      },
      "execution_count": 27,
      "outputs": [
        {
          "output_type": "stream",
          "name": "stdout",
          "text": [
            "[1, 0, 1, 0, 1, 0, 1, 0, 1, 0]\n"
          ]
        }
      ]
    },
    {
      "cell_type": "code",
      "source": [
        "the_list = [1 if x % 2 == 0 else 0 for x in range(10)]  # Corchetes = comprensión \n",
        "the_generator = (1 if x % 2 == 0 else 0 for x in range(10)) # Parentesis = generador \n",
        " \n",
        "for v in the_list:\n",
        "    print(v, end=\" \")\n",
        "print()\n",
        " \n",
        "for v in the_generator:\n",
        "    print(v, end=\" \")\n",
        "print()\n"
      ],
      "metadata": {
        "id": "dZ5kMvhvpGbT",
        "colab": {
          "base_uri": "https://localhost:8080/"
        },
        "outputId": "9243385e-1844-4d17-fd24-ce240e961810"
      },
      "execution_count": 28,
      "outputs": [
        {
          "output_type": "stream",
          "name": "stdout",
          "text": [
            "1 0 1 0 1 0 1 0 1 0 \n",
            "1 0 1 0 1 0 1 0 1 0 \n"
          ]
        }
      ]
    },
    {
      "cell_type": "code",
      "source": [
        "the_list = [1 if x % 2 == 0 else 0 for x in range(10)]  # Corchetes = comprensión \n",
        "the_generator = (1 if x % 2 == 0 else 0 for x in range(10)) # Parentesis = generador \n",
        " \n",
        "for v in the_list:\n",
        "    print(v, end=\" \")\n",
        "print()\n",
        " \n",
        "for v in the_generator:\n",
        "    print(v, end=\" \")\n",
        "print()\n",
        "len(the_list) # Longitud de la lista, la cual es una comprensión "
      ],
      "metadata": {
        "id": "J86cligppGZF",
        "colab": {
          "base_uri": "https://localhost:8080/"
        },
        "outputId": "891fc179-1eed-44fc-9d14-87f0a48780e3"
      },
      "execution_count": 29,
      "outputs": [
        {
          "output_type": "stream",
          "name": "stdout",
          "text": [
            "1 0 1 0 1 0 1 0 1 0 \n",
            "1 0 1 0 1 0 1 0 1 0 \n"
          ]
        },
        {
          "output_type": "execute_result",
          "data": {
            "text/plain": [
              "10"
            ]
          },
          "metadata": {},
          "execution_count": 29
        }
      ]
    },
    {
      "cell_type": "code",
      "source": [
        "the_list = [1 if x % 2 == 0 else 0 for x in range(10)]  # Corchetes = comprensión \n",
        "the_generator = (1 if x % 2 == 0 else 0 for x in range(10)) # Parentesis = generador \n",
        " \n",
        "for v in the_list:\n",
        "    print(v, end=\" \")\n",
        "print()\n",
        " \n",
        "for v in the_generator:\n",
        "    print(v, end=\" \")\n",
        "print()\n",
        "len(the_generator)\n",
        "\n",
        "# Se generá el error mostrado abajo en la consola "
      ],
      "metadata": {
        "id": "4OLOSgvppGXH",
        "colab": {
          "base_uri": "https://localhost:8080/",
          "height": 235
        },
        "outputId": "7a43a405-5c08-4c86-ad7b-110f9820ff6e"
      },
      "execution_count": 30,
      "outputs": [
        {
          "output_type": "stream",
          "name": "stdout",
          "text": [
            "1 0 1 0 1 0 1 0 1 0 \n",
            "1 0 1 0 1 0 1 0 1 0 \n"
          ]
        },
        {
          "output_type": "error",
          "ename": "TypeError",
          "evalue": "ignored",
          "traceback": [
            "\u001b[0;31m---------------------------------------------------------------------------\u001b[0m",
            "\u001b[0;31mTypeError\u001b[0m                                 Traceback (most recent call last)",
            "\u001b[0;32m<ipython-input-30-8f20e6984a94>\u001b[0m in \u001b[0;36m<cell line: 11>\u001b[0;34m()\u001b[0m\n\u001b[1;32m      9\u001b[0m     \u001b[0mprint\u001b[0m\u001b[0;34m(\u001b[0m\u001b[0mv\u001b[0m\u001b[0;34m,\u001b[0m \u001b[0mend\u001b[0m\u001b[0;34m=\u001b[0m\u001b[0;34m\" \"\u001b[0m\u001b[0;34m)\u001b[0m\u001b[0;34m\u001b[0m\u001b[0;34m\u001b[0m\u001b[0m\n\u001b[1;32m     10\u001b[0m \u001b[0mprint\u001b[0m\u001b[0;34m(\u001b[0m\u001b[0;34m)\u001b[0m\u001b[0;34m\u001b[0m\u001b[0;34m\u001b[0m\u001b[0m\n\u001b[0;32m---> 11\u001b[0;31m \u001b[0mlen\u001b[0m\u001b[0;34m(\u001b[0m\u001b[0mthe_generator\u001b[0m\u001b[0;34m)\u001b[0m\u001b[0;34m\u001b[0m\u001b[0;34m\u001b[0m\u001b[0m\n\u001b[0m",
            "\u001b[0;31mTypeError\u001b[0m: object of type 'generator' has no len()"
          ]
        }
      ]
    },
    {
      "cell_type": "code",
      "source": [
        "for v in [1 if x % 2 == 0 else 0 for x in range(10)]: # Lista de comprensión \n",
        "    print(v, end=\" \")\n",
        "print()\n",
        " \n",
        "for v in (1 if x % 2 == 0 else 0 for x in range(10)): # Generador \n",
        "    print(v, end=\" \")\n",
        "print()\n",
        " "
      ],
      "metadata": {
        "id": "McclOqzepGUq",
        "colab": {
          "base_uri": "https://localhost:8080/"
        },
        "outputId": "45968ce8-1bf8-4f4a-87b1-bc97c217fc3a"
      },
      "execution_count": 31,
      "outputs": [
        {
          "output_type": "stream",
          "name": "stdout",
          "text": [
            "1 0 1 0 1 0 1 0 1 0 \n",
            "1 0 1 0 1 0 1 0 1 0 \n"
          ]
        }
      ]
    },
    {
      "cell_type": "code",
      "source": [
        "lambda parameters: expression"
      ],
      "metadata": {
        "id": "gYgihLofpGSv",
        "colab": {
          "base_uri": "https://localhost:8080/"
        },
        "outputId": "48509680-793b-47a1-fd39-7e70174f2161"
      },
      "execution_count": 32,
      "outputs": [
        {
          "output_type": "execute_result",
          "data": {
            "text/plain": [
              "<function __main__.<lambda>(parameters)>"
            ]
          },
          "metadata": {},
          "execution_count": 32
        }
      ]
    },
    {
      "cell_type": "markdown",
      "source": [
        "Tal cláusula devuelve el valor de la expresión al tomar en cuenta el valor del argumento lambda actual."
      ],
      "metadata": {
        "id": "FOgSZ9Fmna5J"
      }
    },
    {
      "cell_type": "code",
      "source": [
        "two = lambda: 2\n",
        "sqr = lambda x: x * x\n",
        "pwr = lambda x, y: x ** y\n",
        " \n",
        "for a in range(-2, 3):\n",
        "    print(sqr(a), end=\" \")\n",
        "    print(pwr(a, two()))\n",
        " "
      ],
      "metadata": {
        "id": "b2dyGfdBpGQu",
        "colab": {
          "base_uri": "https://localhost:8080/"
        },
        "outputId": "4b403ed3-a2ff-4e2b-d662-b451cb202771"
      },
      "execution_count": 37,
      "outputs": [
        {
          "output_type": "stream",
          "name": "stdout",
          "text": [
            "4 4\n",
            "1 1\n",
            "0 0\n",
            "1 1\n",
            "4 4\n"
          ]
        }
      ]
    },
    {
      "cell_type": "code",
      "source": [
        "# Debo decir que este es uno de los algoritmos más ingeniosos que he visto \n",
        "def print_function(args, fun):\n",
        "    for x in args:\n",
        "        print('f(', x,')=', fun(x), sep='')\n",
        "\n",
        "\n",
        "def poly(x):\n",
        "    return 2 * x**2 - 4 * x + 2\n",
        "\n",
        "\n",
        "print_function([x for x in range(-2, 3)], poly)\n",
        "    "
      ],
      "metadata": {
        "id": "QRI7qzkApGOy",
        "colab": {
          "base_uri": "https://localhost:8080/"
        },
        "outputId": "7a76d63f-e631-40a8-b954-70d45d8f08cf"
      },
      "execution_count": 38,
      "outputs": [
        {
          "output_type": "stream",
          "name": "stdout",
          "text": [
            "f(-2)=18\n",
            "f(-1)=8\n",
            "f(0)=2\n",
            "f(1)=0\n",
            "f(2)=2\n"
          ]
        }
      ]
    },
    {
      "cell_type": "code",
      "source": [
        "# Este código es aún más ingenioso que el anterior \n",
        "def print_function(args, fun):\n",
        "    for x in args:\n",
        "        print('f(', x,')=', fun(x), sep='')\n",
        " \n",
        "print_function([x for x in range(-2, 3)],lambda x: 2 * x**2 - 4 * x + 2)  # lambda x: 2 * x**2 - 4 * x + 2) l DIFERENCIA ENTRE EL CÓDIGO ANTERIOR \n",
        "# Y EL CÓDIGO QUE SE PRESENTA EN ESTA PARTE \n",
        "\n",
        "# Estas dos líneas que siguen las escribí para comprobar un punto \n",
        "print(\".----------------------------------------------------------------------\")\n",
        "print_function([x for x in range(-2, 3)],lambda x: 2 * x**3 - 6 * x + 8) # Lo ultra suponía :V "
      ],
      "metadata": {
        "id": "piTBSbKhpGMi",
        "colab": {
          "base_uri": "https://localhost:8080/"
        },
        "outputId": "a596bdd2-d125-4365-d88d-edc09470e312"
      },
      "execution_count": 40,
      "outputs": [
        {
          "output_type": "stream",
          "name": "stdout",
          "text": [
            "f(-2)=18\n",
            "f(-1)=8\n",
            "f(0)=2\n",
            "f(1)=0\n",
            "f(2)=2\n",
            ".----------------------------------------------------------------------\n",
            "f(-2)=4\n",
            "f(-1)=12\n",
            "f(0)=8\n",
            "f(1)=4\n",
            "f(2)=12\n"
          ]
        }
      ]
    },
    {
      "cell_type": "code",
      "source": [
        "# Sintaxis de la función map( )\n",
        "\n",
        "map(function, list)"
      ],
      "metadata": {
        "id": "djlp1DXapGKy"
      },
      "execution_count": 42,
      "outputs": []
    },
    {
      "cell_type": "code",
      "source": [
        "list_1 = [x for x in range(5)]\n",
        "list_2 = list(map(lambda x: 2 ** x, list_1))\n",
        "print(list_2)\n",
        "\n",
        "for x in map(lambda x: x * x, list_2):\n",
        "    print(x, end=' ')\n",
        "print()\n",
        "    "
      ],
      "metadata": {
        "id": "rtLKE-WIpGIY",
        "colab": {
          "base_uri": "https://localhost:8080/"
        },
        "outputId": "163b22be-f4c4-4108-f831-7d6be508d9be"
      },
      "execution_count": 45,
      "outputs": [
        {
          "output_type": "stream",
          "name": "stdout",
          "text": [
            "[1, 2, 4, 8, 16]\n",
            "1 4 16 64 256 \n"
          ]
        }
      ]
    },
    {
      "cell_type": "code",
      "source": [
        "from random import seed, randint\n",
        "\n",
        "seed()\n",
        "data = [randint(-10,10) for x in range(5)]\n",
        "filtered = list(filter(lambda x: x > 0 and x % 2 == 0, data))\n",
        "\n",
        "print(data)\n",
        "print(filtered)\n",
        "    "
      ],
      "metadata": {
        "id": "VIu-FsfcpGGb",
        "colab": {
          "base_uri": "https://localhost:8080/"
        },
        "outputId": "fb2ced97-7fba-4d8d-a369-bb1cdd813aa2"
      },
      "execution_count": 50,
      "outputs": [
        {
          "output_type": "stream",
          "name": "stdout",
          "text": [
            "[7, 6, -2, -3, 10]\n",
            "[6, 10]\n"
          ]
        }
      ]
    },
    {
      "cell_type": "code",
      "source": [
        "# Analicemos un ejemplo simple:\n",
        "\n",
        "def outer(par):\n",
        "    loc = par\n",
        " \n",
        " \n",
        "var = 1\n",
        "outer(var)\n",
        " \n",
        "print(var)\n",
        "print(loc)\n",
        " "
      ],
      "metadata": {
        "id": "LC1DJpeFpGD5",
        "colab": {
          "base_uri": "https://localhost:8080/",
          "height": 235
        },
        "outputId": "11c25bfb-21ae-47f5-ed21-e6835baa58e4"
      },
      "execution_count": 51,
      "outputs": [
        {
          "output_type": "stream",
          "name": "stdout",
          "text": [
            "1\n"
          ]
        },
        {
          "output_type": "error",
          "ename": "NameError",
          "evalue": "ignored",
          "traceback": [
            "\u001b[0;31m---------------------------------------------------------------------------\u001b[0m",
            "\u001b[0;31mNameError\u001b[0m                                 Traceback (most recent call last)",
            "\u001b[0;32m<ipython-input-51-59ef70e9f2ed>\u001b[0m in \u001b[0;36m<cell line: 11>\u001b[0;34m()\u001b[0m\n\u001b[1;32m      9\u001b[0m \u001b[0;34m\u001b[0m\u001b[0m\n\u001b[1;32m     10\u001b[0m \u001b[0mprint\u001b[0m\u001b[0;34m(\u001b[0m\u001b[0mvar\u001b[0m\u001b[0;34m)\u001b[0m\u001b[0;34m\u001b[0m\u001b[0;34m\u001b[0m\u001b[0m\n\u001b[0;32m---> 11\u001b[0;31m \u001b[0mprint\u001b[0m\u001b[0;34m(\u001b[0m\u001b[0mloc\u001b[0m\u001b[0;34m)\u001b[0m\u001b[0;34m\u001b[0m\u001b[0;34m\u001b[0m\u001b[0m\n\u001b[0m\u001b[1;32m     12\u001b[0m \u001b[0;34m\u001b[0m\u001b[0m\n",
            "\u001b[0;31mNameError\u001b[0m: name 'loc' is not defined"
          ]
        }
      ]
    },
    {
      "cell_type": "code",
      "source": [],
      "metadata": {
        "id": "VMNhXcyp1FCw"
      },
      "execution_count": null,
      "outputs": []
    },
    {
      "cell_type": "code",
      "source": [],
      "metadata": {
        "id": "5U_H0-Im1E_5"
      },
      "execution_count": null,
      "outputs": []
    },
    {
      "cell_type": "code",
      "source": [],
      "metadata": {
        "id": "ubSnwvy21E7q"
      },
      "execution_count": null,
      "outputs": []
    },
    {
      "cell_type": "code",
      "source": [],
      "metadata": {
        "id": "M5VbmxuB1E5x"
      },
      "execution_count": null,
      "outputs": []
    },
    {
      "cell_type": "code",
      "source": [],
      "metadata": {
        "id": "KbZSRflE1E3a"
      },
      "execution_count": null,
      "outputs": []
    },
    {
      "cell_type": "code",
      "source": [],
      "metadata": {
        "id": "PbHvobi31E1f"
      },
      "execution_count": null,
      "outputs": []
    },
    {
      "cell_type": "code",
      "source": [],
      "metadata": {
        "id": "vkBHI2cI1EzZ"
      },
      "execution_count": null,
      "outputs": []
    },
    {
      "cell_type": "code",
      "source": [],
      "metadata": {
        "id": "YBJJ0kcL1Exr"
      },
      "execution_count": null,
      "outputs": []
    },
    {
      "cell_type": "code",
      "source": [],
      "metadata": {
        "id": "M-P6IL9u1EvI"
      },
      "execution_count": null,
      "outputs": []
    },
    {
      "cell_type": "code",
      "source": [],
      "metadata": {
        "id": "AI-TCDvV1EtH"
      },
      "execution_count": null,
      "outputs": []
    },
    {
      "cell_type": "code",
      "source": [],
      "metadata": {
        "id": "QHqJ0kc-1Eqb"
      },
      "execution_count": null,
      "outputs": []
    },
    {
      "cell_type": "code",
      "source": [],
      "metadata": {
        "id": "iOWKydWF1Emk"
      },
      "execution_count": null,
      "outputs": []
    },
    {
      "cell_type": "code",
      "source": [],
      "metadata": {
        "id": "b2WkczLy1Ekq"
      },
      "execution_count": null,
      "outputs": []
    },
    {
      "cell_type": "code",
      "source": [],
      "metadata": {
        "id": "Y1gfiR0K1EjJ"
      },
      "execution_count": null,
      "outputs": []
    },
    {
      "cell_type": "code",
      "source": [],
      "metadata": {
        "id": "mKZNP54P1Ego"
      },
      "execution_count": null,
      "outputs": []
    },
    {
      "cell_type": "code",
      "source": [],
      "metadata": {
        "id": "bR-5HYAE1EeC"
      },
      "execution_count": null,
      "outputs": []
    },
    {
      "cell_type": "code",
      "source": [],
      "metadata": {
        "id": "mwpNMPV71Ebk"
      },
      "execution_count": null,
      "outputs": []
    },
    {
      "cell_type": "code",
      "source": [],
      "metadata": {
        "id": "Mz0UHUbV1EZ5"
      },
      "execution_count": null,
      "outputs": []
    },
    {
      "cell_type": "code",
      "source": [],
      "metadata": {
        "id": "llsyxoEs1EYM"
      },
      "execution_count": null,
      "outputs": []
    },
    {
      "cell_type": "code",
      "source": [],
      "metadata": {
        "id": "iabBu8oT1EWn"
      },
      "execution_count": null,
      "outputs": []
    },
    {
      "cell_type": "code",
      "source": [],
      "metadata": {
        "id": "vu0OkYMV1EUR"
      },
      "execution_count": null,
      "outputs": []
    },
    {
      "cell_type": "code",
      "source": [],
      "metadata": {
        "id": "sJjGrHOO1ERU"
      },
      "execution_count": null,
      "outputs": []
    },
    {
      "cell_type": "code",
      "source": [],
      "metadata": {
        "id": "zF7HtT1L1EPW"
      },
      "execution_count": null,
      "outputs": []
    }
  ]
}