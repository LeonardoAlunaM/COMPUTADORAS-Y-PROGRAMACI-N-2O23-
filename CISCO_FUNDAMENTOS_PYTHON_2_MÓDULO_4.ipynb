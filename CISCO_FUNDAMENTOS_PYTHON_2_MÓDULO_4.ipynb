{
  "nbformat": 4,
  "nbformat_minor": 0,
  "metadata": {
    "colab": {
      "provenance": [],
      "authorship_tag": "ABX9TyMRnkgNjFPPSfyagslmM8Jh",
      "include_colab_link": true
    },
    "kernelspec": {
      "name": "python3",
      "display_name": "Python 3"
    },
    "language_info": {
      "name": "python"
    }
  },
  "cells": [
    {
      "cell_type": "markdown",
      "metadata": {
        "id": "view-in-github",
        "colab_type": "text"
      },
      "source": [
        "<a href=\"https://colab.research.google.com/github/LeonardoAlunaM/COMPUTADORAS-Y-PROGRAMACI-N-2O23-/blob/main-COMPUTADORAS-Y-PROGTRAMACI%C3%93N-2023/CISCO_FUNDAMENTOS_PYTHON_2_M%C3%93DULO_4.ipynb\" target=\"_parent\"><img src=\"https://colab.research.google.com/assets/colab-badge.svg\" alt=\"Open In Colab\"/></a>"
      ]
    },
    {
      "cell_type": "markdown",
      "source": [
        "# Módulo 4: Misceláneos "
      ],
      "metadata": {
        "id": "9xA7ztyOmOJg"
      }
    },
    {
      "cell_type": "markdown",
      "source": [
        "4.1 Sección 1 - generadores, iteradores y cierres"
      ],
      "metadata": {
        "id": "rrUAx33fmN0b"
      }
    },
    {
      "cell_type": "code",
      "execution_count": null,
      "metadata": {
        "colab": {
          "base_uri": "https://localhost:8080/"
        },
        "id": "mm5CHriwmJvb",
        "outputId": "ea093217-e0ba-44a6-89e0-1d04892c5280"
      },
      "outputs": [
        {
          "output_type": "stream",
          "name": "stdout",
          "text": [
            "0\n",
            "1\n",
            "2\n",
            "3\n",
            "4\n"
          ]
        }
      ],
      "source": [
        "for i in range(5):\n",
        "    print(i)\n",
        "# La función range() es un generador, la cual también es un iterador."
      ]
    },
    {
      "cell_type": "code",
      "source": [
        "class Fib:\n",
        "    def __init__(self, nn):\n",
        "        print(\"__init__\")\n",
        "        self.__n = nn\n",
        "        self.__i = 0\n",
        "        self.__p1 = self.__p2 = 1\n",
        "\n",
        "    def __iter__(self):\n",
        "        print(\"__iter__\")\n",
        "        return self\n",
        "\n",
        "    def __next__(self):\n",
        "        print(\"__next__\")\t\t\n",
        "        self.__i += 1\n",
        "        if self.__i > self.__n:\n",
        "            raise StopIteration\n",
        "        if self.__i in [1, 2]:\n",
        "            return 1\n",
        "        ret = self.__p1 + self.__p2\n",
        "        self.__p1, self.__p2 = self.__p2, ret\n",
        "        return ret\n",
        "\n",
        "\n",
        "for i in Fib(15):\n",
        "    print(i)"
      ],
      "metadata": {
        "id": "_kE8Hq_hpHEb",
        "colab": {
          "base_uri": "https://localhost:8080/"
        },
        "outputId": "246d0e6d-8c49-4beb-a97a-a960c6101edb"
      },
      "execution_count": 1,
      "outputs": [
        {
          "output_type": "stream",
          "name": "stdout",
          "text": [
            "__init__\n",
            "__iter__\n",
            "__next__\n",
            "1\n",
            "__next__\n",
            "1\n",
            "__next__\n",
            "2\n",
            "__next__\n",
            "3\n",
            "__next__\n",
            "5\n",
            "__next__\n",
            "8\n",
            "__next__\n",
            "13\n",
            "__next__\n",
            "21\n",
            "__next__\n",
            "34\n",
            "__next__\n",
            "55\n",
            "__next__\n"
          ]
        }
      ]
    },
    {
      "cell_type": "code",
      "source": [],
      "metadata": {
        "id": "Yii8NGR7pHCT"
      },
      "execution_count": null,
      "outputs": []
    },
    {
      "cell_type": "code",
      "source": [],
      "metadata": {
        "id": "QOurlWB-pHAe"
      },
      "execution_count": null,
      "outputs": []
    },
    {
      "cell_type": "code",
      "source": [],
      "metadata": {
        "id": "mnqDDsSZpG-f"
      },
      "execution_count": null,
      "outputs": []
    },
    {
      "cell_type": "code",
      "source": [],
      "metadata": {
        "id": "kTYRHkWepG8r"
      },
      "execution_count": null,
      "outputs": []
    },
    {
      "cell_type": "code",
      "source": [],
      "metadata": {
        "id": "KFK00MlnpG6U"
      },
      "execution_count": null,
      "outputs": []
    },
    {
      "cell_type": "code",
      "source": [],
      "metadata": {
        "id": "6kjnkt3VpG4o"
      },
      "execution_count": null,
      "outputs": []
    },
    {
      "cell_type": "code",
      "source": [],
      "metadata": {
        "id": "H8tqwnBOpG1w"
      },
      "execution_count": null,
      "outputs": []
    },
    {
      "cell_type": "code",
      "source": [],
      "metadata": {
        "id": "BMKWq6mypGz2"
      },
      "execution_count": null,
      "outputs": []
    },
    {
      "cell_type": "code",
      "source": [],
      "metadata": {
        "id": "Kumiz-2IpGxL"
      },
      "execution_count": null,
      "outputs": []
    },
    {
      "cell_type": "code",
      "source": [],
      "metadata": {
        "id": "6JV_DWprpGvG"
      },
      "execution_count": null,
      "outputs": []
    },
    {
      "cell_type": "code",
      "source": [],
      "metadata": {
        "id": "fVWcTAEwpGsm"
      },
      "execution_count": null,
      "outputs": []
    },
    {
      "cell_type": "code",
      "source": [],
      "metadata": {
        "id": "-RZjcMDVpGqX"
      },
      "execution_count": null,
      "outputs": []
    },
    {
      "cell_type": "code",
      "source": [],
      "metadata": {
        "id": "YD_kQCgUpGl7"
      },
      "execution_count": null,
      "outputs": []
    },
    {
      "cell_type": "code",
      "source": [],
      "metadata": {
        "id": "xYhhFBbCpGkK"
      },
      "execution_count": null,
      "outputs": []
    },
    {
      "cell_type": "code",
      "source": [],
      "metadata": {
        "id": "nlNdGUIGpGhl"
      },
      "execution_count": null,
      "outputs": []
    },
    {
      "cell_type": "code",
      "source": [],
      "metadata": {
        "id": "P7HLTUvcpGfk"
      },
      "execution_count": null,
      "outputs": []
    },
    {
      "cell_type": "code",
      "source": [],
      "metadata": {
        "id": "AqP8EhYppGdH"
      },
      "execution_count": null,
      "outputs": []
    },
    {
      "cell_type": "code",
      "source": [],
      "metadata": {
        "id": "dZ5kMvhvpGbT"
      },
      "execution_count": null,
      "outputs": []
    },
    {
      "cell_type": "code",
      "source": [],
      "metadata": {
        "id": "J86cligppGZF"
      },
      "execution_count": null,
      "outputs": []
    },
    {
      "cell_type": "code",
      "source": [],
      "metadata": {
        "id": "4OLOSgvppGXH"
      },
      "execution_count": null,
      "outputs": []
    },
    {
      "cell_type": "code",
      "source": [],
      "metadata": {
        "id": "McclOqzepGUq"
      },
      "execution_count": null,
      "outputs": []
    },
    {
      "cell_type": "code",
      "source": [],
      "metadata": {
        "id": "gYgihLofpGSv"
      },
      "execution_count": null,
      "outputs": []
    },
    {
      "cell_type": "code",
      "source": [],
      "metadata": {
        "id": "b2dyGfdBpGQu"
      },
      "execution_count": null,
      "outputs": []
    },
    {
      "cell_type": "code",
      "source": [],
      "metadata": {
        "id": "QRI7qzkApGOy"
      },
      "execution_count": null,
      "outputs": []
    },
    {
      "cell_type": "code",
      "source": [],
      "metadata": {
        "id": "piTBSbKhpGMi"
      },
      "execution_count": null,
      "outputs": []
    },
    {
      "cell_type": "code",
      "source": [],
      "metadata": {
        "id": "djlp1DXapGKy"
      },
      "execution_count": null,
      "outputs": []
    },
    {
      "cell_type": "code",
      "source": [],
      "metadata": {
        "id": "rtLKE-WIpGIY"
      },
      "execution_count": null,
      "outputs": []
    },
    {
      "cell_type": "code",
      "source": [],
      "metadata": {
        "id": "VIu-FsfcpGGb"
      },
      "execution_count": null,
      "outputs": []
    },
    {
      "cell_type": "code",
      "source": [],
      "metadata": {
        "id": "LC1DJpeFpGD5"
      },
      "execution_count": null,
      "outputs": []
    }
  ]
}