{
  "nbformat": 4,
  "nbformat_minor": 0,
  "metadata": {
    "colab": {
      "provenance": [],
      "authorship_tag": "ABX9TyMmy5FmHHJgNEKNEJU2qY3P",
      "include_colab_link": true
    },
    "kernelspec": {
      "name": "python3",
      "display_name": "Python 3"
    },
    "language_info": {
      "name": "python"
    }
  },
  "cells": [
    {
      "cell_type": "markdown",
      "metadata": {
        "id": "view-in-github",
        "colab_type": "text"
      },
      "source": [
        "<a href=\"https://colab.research.google.com/github/LeonardoAlunaM/COMPUTADORAS-Y-PROGRAMACI-N-2O23-/blob/main-COMPUTADORAS-Y-PROGTRAMACI%C3%93N-2023/CISCO_FUNDAMENTOS_PYTHON_2_M%C3%93DULO_4.ipynb\" target=\"_parent\"><img src=\"https://colab.research.google.com/assets/colab-badge.svg\" alt=\"Open In Colab\"/></a>"
      ]
    },
    {
      "cell_type": "markdown",
      "source": [
        "# Módulo 4: Misceláneos "
      ],
      "metadata": {
        "id": "9xA7ztyOmOJg"
      }
    },
    {
      "cell_type": "markdown",
      "source": [
        "4.1 Sección 1 - generadores, iteradores y cierres"
      ],
      "metadata": {
        "id": "rrUAx33fmN0b"
      }
    },
    {
      "cell_type": "code",
      "execution_count": null,
      "metadata": {
        "colab": {
          "base_uri": "https://localhost:8080/"
        },
        "id": "mm5CHriwmJvb",
        "outputId": "ea093217-e0ba-44a6-89e0-1d04892c5280"
      },
      "outputs": [
        {
          "output_type": "stream",
          "name": "stdout",
          "text": [
            "0\n",
            "1\n",
            "2\n",
            "3\n",
            "4\n"
          ]
        }
      ],
      "source": [
        "for i in range(5):\n",
        "    print(i)\n",
        "# La función range() es un generador, la cual también es un iterador."
      ]
    },
    {
      "cell_type": "code",
      "source": [
        "class Fib:\n",
        "    def __init__(self, nn):\n",
        "        print(\"__init__\")\n",
        "        self.__n = nn\n",
        "        self.__i = 0\n",
        "        self.__p1 = self.__p2 = 1\n",
        "\n",
        "    def __iter__(self):\n",
        "        print(\"__iter__\")\n",
        "        return self\n",
        "\n",
        "    def __next__(self):\n",
        "        print(\"__next__\")\t\t\n",
        "        self.__i += 1\n",
        "        if self.__i > self.__n:\n",
        "            raise StopIteration\n",
        "        if self.__i in [1, 2]:\n",
        "            return 1\n",
        "        ret = self.__p1 + self.__p2\n",
        "        self.__p1, self.__p2 = self.__p2, ret\n",
        "        return ret\n",
        "\n",
        "\n",
        "for i in Fib(10):\n",
        "    print(i)"
      ],
      "metadata": {
        "id": "kTYRHkWepG8r",
        "colab": {
          "base_uri": "https://localhost:8080/"
        },
        "outputId": "b3cb5a93-71d8-4d98-9220-8d8c0a39ed54"
      },
      "execution_count": null,
      "outputs": [
        {
          "output_type": "stream",
          "name": "stdout",
          "text": [
            "__init__\n",
            "__iter__\n",
            "__next__\n",
            "1\n",
            "__next__\n",
            "1\n",
            "__next__\n",
            "2\n",
            "__next__\n",
            "3\n",
            "__next__\n",
            "5\n",
            "__next__\n",
            "8\n",
            "__next__\n",
            "13\n",
            "__next__\n",
            "21\n",
            "__next__\n",
            "34\n",
            "__next__\n",
            "55\n",
            "__next__\n"
          ]
        }
      ]
    },
    {
      "cell_type": "code",
      "source": [
        "class Fib:\n",
        "    def __init__(self, nn):\n",
        "        print(\"__init__\")\n",
        "        self.__n = nn\n",
        "        self.__i = 0\n",
        "        self.__p1 = self.__p2 = 1\n",
        "\n",
        "    def __iter__(self):\n",
        "        print(\"__iter__\")\n",
        "        return self\n",
        "\n",
        "    def __next__(self):\n",
        "        print(\"__next__\")\t\t\n",
        "        self.__i += 1\n",
        "        if self.__i > self.__n:\n",
        "            raise StopIteration\n",
        "        if self.__i in [1, 2]:\n",
        "            return 1\n",
        "        ret = self.__p1 + self.__p2\n",
        "        self.__p1, self.__p2 = self.__p2, ret\n",
        "        return ret\n",
        "\n",
        "\n",
        "for i in Fib(15):\n",
        "    print(i)"
      ],
      "metadata": {
        "id": "KFK00MlnpG6U",
        "colab": {
          "base_uri": "https://localhost:8080/"
        },
        "outputId": "551e4ab4-79c7-4483-a29b-c53ca641bb46"
      },
      "execution_count": null,
      "outputs": [
        {
          "output_type": "stream",
          "name": "stdout",
          "text": [
            "__init__\n",
            "__iter__\n",
            "__next__\n",
            "1\n",
            "__next__\n",
            "1\n",
            "__next__\n",
            "2\n",
            "__next__\n",
            "3\n",
            "__next__\n",
            "5\n",
            "__next__\n",
            "8\n",
            "__next__\n",
            "13\n",
            "__next__\n",
            "21\n",
            "__next__\n",
            "34\n",
            "__next__\n",
            "55\n",
            "__next__\n",
            "89\n",
            "__next__\n",
            "144\n",
            "__next__\n",
            "233\n",
            "__next__\n",
            "377\n",
            "__next__\n",
            "610\n",
            "__next__\n"
          ]
        }
      ]
    },
    {
      "cell_type": "code",
      "source": [
        "class Fib:\n",
        "    def __init__(self, nn):\n",
        "        self.__n = nn\n",
        "        self.__i = 0\n",
        "        self.__p1 = self.__p2 = 1\n",
        "\n",
        "    def __iter__(self):\n",
        "        print(\"Fib iter\")\n",
        "        return self\n",
        "\n",
        "    def __next__(self):\n",
        "        self.__i += 1\n",
        "        if self.__i > self.__n:\n",
        "            raise StopIteration\n",
        "        if self.__i in [1, 2]:\n",
        "            return 1\n",
        "        ret = self.__p1 + self.__p2\n",
        "        self.__p1, self.__p2 = self.__p2, ret\n",
        "        return ret\n",
        "\n",
        "\n",
        "class Class:\n",
        "    def __init__(self, n):\n",
        "        self.__iter = Fib(n)\n",
        "\n",
        "    def __iter__(self):\n",
        "        print(\"Class iter\")\n",
        "        return self.__iter\n",
        "\n",
        "\n",
        "object = Class(8)\n",
        "\n",
        "for i in object:\n",
        "    print(i)\n",
        "    "
      ],
      "metadata": {
        "id": "6kjnkt3VpG4o",
        "colab": {
          "base_uri": "https://localhost:8080/"
        },
        "outputId": "0ba20960-622b-4600-9a6a-c0fba09b2146"
      },
      "execution_count": null,
      "outputs": [
        {
          "output_type": "stream",
          "name": "stdout",
          "text": [
            "Class iter\n",
            "1\n",
            "1\n",
            "2\n",
            "3\n",
            "5\n",
            "8\n",
            "13\n",
            "21\n"
          ]
        }
      ]
    },
    {
      "cell_type": "code",
      "source": [
        "def fun(n):\n",
        "    for i in range(n):\n",
        "        return i"
      ],
      "metadata": {
        "id": "H8tqwnBOpG1w"
      },
      "execution_count": null,
      "outputs": []
    },
    {
      "cell_type": "code",
      "source": [
        "def fun(n):\n",
        "    for i in range(n):\n",
        "        yield i\n",
        "# Las identaciones de este código estaban mal antes de que yo las corriegiera "
      ],
      "metadata": {
        "id": "RzBSRTMlcqgE"
      },
      "execution_count": null,
      "outputs": []
    },
    {
      "cell_type": "markdown",
      "source": [
        "Hemos puesto yield en lugar de return. Esta pequeña enmienda convierte la función en un generador, y el ejecutar la sentencia yield tiene algunos efectos muy interesantes.\n",
        "\n",
        "Primeramente, proporciona el valor de la expresión especificada después de la palabra clave reservada yield, al igual que return, pero no pierde el estado de la función."
      ],
      "metadata": {
        "id": "500VXaVbdMFr"
      }
    },
    {
      "cell_type": "code",
      "source": [
        "def fun(n):\n",
        "    for i in range(n):\n",
        "        yield i\n",
        " \n",
        " \n",
        "for v in fun(5):\n",
        "    print(v)"
      ],
      "metadata": {
        "id": "BMKWq6mypGz2",
        "colab": {
          "base_uri": "https://localhost:8080/"
        },
        "outputId": "0d8675dd-4af3-411f-86e3-509e16c9eb0b"
      },
      "execution_count": null,
      "outputs": [
        {
          "output_type": "stream",
          "name": "stdout",
          "text": [
            "0\n",
            "1\n",
            "2\n",
            "3\n",
            "4\n"
          ]
        }
      ]
    },
    {
      "cell_type": "code",
      "source": [
        "def powers_of_2(n):\n",
        "    power = 1\n",
        "    for i in range(n):\n",
        "        yield power\n",
        "        power *= 2\n",
        " \n",
        " \n",
        "for v in powers_of_2(8):\n",
        "    print(v)"
      ],
      "metadata": {
        "id": "Kumiz-2IpGxL",
        "colab": {
          "base_uri": "https://localhost:8080/"
        },
        "outputId": "c1f7bcc0-a4f8-4186-a601-cd6e0def6140"
      },
      "execution_count": null,
      "outputs": [
        {
          "output_type": "stream",
          "name": "stdout",
          "text": [
            "1\n",
            "2\n",
            "4\n",
            "8\n",
            "16\n",
            "32\n",
            "64\n",
            "128\n"
          ]
        }
      ]
    },
    {
      "cell_type": "code",
      "source": [
        "def powers_of_2(n):\n",
        "    power = 1\n",
        "    for i in range(n):\n",
        "        yield power\n",
        "        power *= 2\n",
        " \n",
        " \n",
        "t = [x for x in powers_of_2(5)]\n",
        "print(t)"
      ],
      "metadata": {
        "id": "6JV_DWprpGvG",
        "colab": {
          "base_uri": "https://localhost:8080/"
        },
        "outputId": "3379e292-a6ca-4da2-a70e-af5395a87967"
      },
      "execution_count": null,
      "outputs": [
        {
          "output_type": "stream",
          "name": "stdout",
          "text": [
            "[1, 2, 4, 8, 16]\n"
          ]
        }
      ]
    },
    {
      "cell_type": "code",
      "source": [
        "def powers_of_2(n):\n",
        "    power = 1\n",
        "    for i in range(n):\n",
        "        yield power\n",
        "        power *= 2\n",
        " \n",
        " \n",
        "t = list(powers_of_2(3))\n",
        "print(t)"
      ],
      "metadata": {
        "id": "fVWcTAEwpGsm",
        "colab": {
          "base_uri": "https://localhost:8080/"
        },
        "outputId": "6e2d3ad1-586d-452b-987a-5621a2150149"
      },
      "execution_count": null,
      "outputs": [
        {
          "output_type": "stream",
          "name": "stdout",
          "text": [
            "[1, 2, 4]\n"
          ]
        }
      ]
    },
    {
      "cell_type": "code",
      "source": [
        "def powers_of_2(n):\n",
        "    power = 1\n",
        "    for i in range(n):\n",
        "        yield power\n",
        "        power *= 2\n",
        " \n",
        " \n",
        "for i in range(20):\n",
        "    if i in powers_of_2(4):\n",
        "        print(i)"
      ],
      "metadata": {
        "id": "-RZjcMDVpGqX",
        "colab": {
          "base_uri": "https://localhost:8080/"
        },
        "outputId": "60f72061-745c-45c8-bd8b-6f7f8af12eae"
      },
      "execution_count": null,
      "outputs": [
        {
          "output_type": "stream",
          "name": "stdout",
          "text": [
            "1\n",
            "2\n",
            "4\n",
            "8\n"
          ]
        }
      ]
    },
    {
      "cell_type": "markdown",
      "source": [
        "Ahora veamos un generador de números de la serie Fibonacci, asegurandonos que se vea mucho mejor que la versión orientada a objetos basada en la implementación directa del protocolo iterador."
      ],
      "metadata": {
        "id": "QJb34EacfkxN"
      }
    },
    {
      "cell_type": "code",
      "source": [
        "def fibonacci(n):\n",
        "    p = pp = 1\n",
        "    for i in range(n):\n",
        "        if i in [0, 1]:\n",
        "            yield 1\n",
        "        else:\n",
        "            n = p + pp\n",
        "            pp, p = p, n\n",
        "            yield n\n",
        " \n",
        "fibs = list(fibonacci(10))\n",
        "print(fibs)"
      ],
      "metadata": {
        "id": "YD_kQCgUpGl7",
        "colab": {
          "base_uri": "https://localhost:8080/"
        },
        "outputId": "6d63d45f-4ec8-468b-cc89-4b4e95748903"
      },
      "execution_count": null,
      "outputs": [
        {
          "output_type": "stream",
          "name": "stdout",
          "text": [
            "[1, 1, 2, 3, 5, 8, 13, 21, 34, 55]\n"
          ]
        }
      ]
    },
    {
      "cell_type": "markdown",
      "source": [
        "# Horas que faltan para que termine el año "
      ],
      "metadata": {
        "id": "PhkVpLAVg4g6"
      }
    },
    {
      "cell_type": "code",
      "source": [
        "# Programa que calcula las horas que faltan para que se acabe el año\n",
        "\n",
        "# Aún me faltaría agregar una regla que determinara el número de horas en función del día presente\n",
        "# Agregar una función calendario a la larga :V, osea después \n",
        "# En función de la hora inicial ( El mal llamado presente)\n",
        "\n",
        "hora_1 = int(input(\"Ingrese el número de horas que faltan para que se acabe el año:  \"))   \n",
        "if 0 <= hora_1 <= 8760:  ##Condicional 1    # Rango valido de horas en un año normal, no bisiesto \n",
        "    for i in range(365): # Días en un año == número de iteraciones que se llevana cabo durante el programa\n",
        "        hora_1 -= 24     # El valor ingresado por el usuario, -24 horas, en cada iteración \n",
        "        if hora_1 >= 0:  ##Condicional 2    # Solo aquellos valores de hora_1 -=24 >= (mayores que ) 0, son impresos en consola\n",
        "            print(f\"Horas que faltan para que se acabe el año: {hora_1} horas.\") # Desconozco si todos los valores del intervalo son calculados, en todo caso solo se imprimen \n",
        "else: # aquellos cuyo valor es mayor a 0 \n",
        "    print(\"Revisa el número de horas que faltan para terminar el año\")\n",
        "\n",
        "# Este código ya funciona según como se espera, pero sigue siendo muy simple\n",
        "\n",
        "# No recuerdo como funcionaba mi programa :C :V "
      ],
      "metadata": {
        "id": "xYhhFBbCpGkK"
      },
      "execution_count": null,
      "outputs": []
    },
    {
      "cell_type": "code",
      "source": [
        "list_1 = []\n",
        "\n",
        "for ex in range(6):\n",
        "    list_1.append(10 ** ex)\n",
        "\n",
        "list_2 = [10 ** ex for ex in range(6)]\n",
        "\n",
        "print(list_1)\n",
        "print(list_2)\n",
        "    "
      ],
      "metadata": {
        "id": "nlNdGUIGpGhl",
        "colab": {
          "base_uri": "https://localhost:8080/"
        },
        "outputId": "b2b8a8b2-5dd9-4537-8fa2-b14b055a034b"
      },
      "execution_count": null,
      "outputs": [
        {
          "output_type": "stream",
          "name": "stdout",
          "text": [
            "[1, 10, 100, 1000, 10000, 100000]\n",
            "[1, 10, 100, 1000, 10000, 100000]\n"
          ]
        }
      ]
    },
    {
      "cell_type": "code",
      "source": [
        "the_list = []\n",
        "\n",
        "for x in range(10):\n",
        "    the_list.append(1 if x % 2 == 0 else 0)\n",
        "\n",
        "print(the_list)\n",
        "    "
      ],
      "metadata": {
        "id": "P7HLTUvcpGfk",
        "colab": {
          "base_uri": "https://localhost:8080/"
        },
        "outputId": "ef5509ae-e173-4d56-bacc-110d7c07a0da"
      },
      "execution_count": null,
      "outputs": [
        {
          "output_type": "stream",
          "name": "stdout",
          "text": [
            "[1, 0, 1, 0, 1, 0, 1, 0, 1, 0]\n"
          ]
        }
      ]
    },
    {
      "cell_type": "code",
      "source": [
        "the_list = [1 if x % 2 == 0 else 0 for x in range(10)]\n",
        "\n",
        "print(the_list)\n",
        "    \n",
        "    "
      ],
      "metadata": {
        "id": "AqP8EhYppGdH",
        "colab": {
          "base_uri": "https://localhost:8080/"
        },
        "outputId": "6526d148-b9d2-4100-f0c2-1585b19bfd97"
      },
      "execution_count": null,
      "outputs": [
        {
          "output_type": "stream",
          "name": "stdout",
          "text": [
            "[1, 0, 1, 0, 1, 0, 1, 0, 1, 0]\n"
          ]
        }
      ]
    },
    {
      "cell_type": "code",
      "source": [
        "the_list = [1 if x % 2 == 0 else 0 for x in range(10)]  # Corchetes = comprensión \n",
        "the_generator = (1 if x % 2 == 0 else 0 for x in range(10)) # Parentesis = generador \n",
        " \n",
        "for v in the_list:\n",
        "    print(v, end=\" \")\n",
        "print()\n",
        " \n",
        "for v in the_generator:\n",
        "    print(v, end=\" \")\n",
        "print()\n"
      ],
      "metadata": {
        "id": "dZ5kMvhvpGbT",
        "colab": {
          "base_uri": "https://localhost:8080/"
        },
        "outputId": "9243385e-1844-4d17-fd24-ce240e961810"
      },
      "execution_count": null,
      "outputs": [
        {
          "output_type": "stream",
          "name": "stdout",
          "text": [
            "1 0 1 0 1 0 1 0 1 0 \n",
            "1 0 1 0 1 0 1 0 1 0 \n"
          ]
        }
      ]
    },
    {
      "cell_type": "code",
      "source": [
        "the_list = [1 if x % 2 == 0 else 0 for x in range(10)]  # Corchetes = comprensión \n",
        "the_generator = (1 if x % 2 == 0 else 0 for x in range(10)) # Parentesis = generador \n",
        " \n",
        "for v in the_list:\n",
        "    print(v, end=\" \")\n",
        "print()\n",
        " \n",
        "for v in the_generator:\n",
        "    print(v, end=\" \")\n",
        "print()\n",
        "len(the_list) # Longitud de la lista, la cual es una comprensión "
      ],
      "metadata": {
        "id": "J86cligppGZF",
        "colab": {
          "base_uri": "https://localhost:8080/"
        },
        "outputId": "891fc179-1eed-44fc-9d14-87f0a48780e3"
      },
      "execution_count": null,
      "outputs": [
        {
          "output_type": "stream",
          "name": "stdout",
          "text": [
            "1 0 1 0 1 0 1 0 1 0 \n",
            "1 0 1 0 1 0 1 0 1 0 \n"
          ]
        },
        {
          "output_type": "execute_result",
          "data": {
            "text/plain": [
              "10"
            ]
          },
          "metadata": {},
          "execution_count": 29
        }
      ]
    },
    {
      "cell_type": "code",
      "source": [
        "the_list = [1 if x % 2 == 0 else 0 for x in range(10)]  # Corchetes = comprensión \n",
        "the_generator = (1 if x % 2 == 0 else 0 for x in range(10)) # Parentesis = generador \n",
        " \n",
        "for v in the_list:\n",
        "    print(v, end=\" \")\n",
        "print()\n",
        " \n",
        "for v in the_generator:\n",
        "    print(v, end=\" \")\n",
        "print()\n",
        "len(the_generator)\n",
        "\n",
        "# Se generá el error mostrado abajo en la consola "
      ],
      "metadata": {
        "id": "4OLOSgvppGXH",
        "colab": {
          "base_uri": "https://localhost:8080/",
          "height": 235
        },
        "outputId": "7a43a405-5c08-4c86-ad7b-110f9820ff6e"
      },
      "execution_count": null,
      "outputs": [
        {
          "output_type": "stream",
          "name": "stdout",
          "text": [
            "1 0 1 0 1 0 1 0 1 0 \n",
            "1 0 1 0 1 0 1 0 1 0 \n"
          ]
        },
        {
          "output_type": "error",
          "ename": "TypeError",
          "evalue": "ignored",
          "traceback": [
            "\u001b[0;31m---------------------------------------------------------------------------\u001b[0m",
            "\u001b[0;31mTypeError\u001b[0m                                 Traceback (most recent call last)",
            "\u001b[0;32m<ipython-input-30-8f20e6984a94>\u001b[0m in \u001b[0;36m<cell line: 11>\u001b[0;34m()\u001b[0m\n\u001b[1;32m      9\u001b[0m     \u001b[0mprint\u001b[0m\u001b[0;34m(\u001b[0m\u001b[0mv\u001b[0m\u001b[0;34m,\u001b[0m \u001b[0mend\u001b[0m\u001b[0;34m=\u001b[0m\u001b[0;34m\" \"\u001b[0m\u001b[0;34m)\u001b[0m\u001b[0;34m\u001b[0m\u001b[0;34m\u001b[0m\u001b[0m\n\u001b[1;32m     10\u001b[0m \u001b[0mprint\u001b[0m\u001b[0;34m(\u001b[0m\u001b[0;34m)\u001b[0m\u001b[0;34m\u001b[0m\u001b[0;34m\u001b[0m\u001b[0m\n\u001b[0;32m---> 11\u001b[0;31m \u001b[0mlen\u001b[0m\u001b[0;34m(\u001b[0m\u001b[0mthe_generator\u001b[0m\u001b[0;34m)\u001b[0m\u001b[0;34m\u001b[0m\u001b[0;34m\u001b[0m\u001b[0m\n\u001b[0m",
            "\u001b[0;31mTypeError\u001b[0m: object of type 'generator' has no len()"
          ]
        }
      ]
    },
    {
      "cell_type": "code",
      "source": [
        "for v in [1 if x % 2 == 0 else 0 for x in range(10)]: # Lista de comprensión \n",
        "    print(v, end=\" \")\n",
        "print()\n",
        " \n",
        "for v in (1 if x % 2 == 0 else 0 for x in range(10)): # Generador \n",
        "    print(v, end=\" \")\n",
        "print()\n",
        " "
      ],
      "metadata": {
        "id": "McclOqzepGUq",
        "colab": {
          "base_uri": "https://localhost:8080/"
        },
        "outputId": "45968ce8-1bf8-4f4a-87b1-bc97c217fc3a"
      },
      "execution_count": null,
      "outputs": [
        {
          "output_type": "stream",
          "name": "stdout",
          "text": [
            "1 0 1 0 1 0 1 0 1 0 \n",
            "1 0 1 0 1 0 1 0 1 0 \n"
          ]
        }
      ]
    },
    {
      "cell_type": "code",
      "source": [
        "lambda parameters: expression"
      ],
      "metadata": {
        "id": "gYgihLofpGSv",
        "colab": {
          "base_uri": "https://localhost:8080/"
        },
        "outputId": "48509680-793b-47a1-fd39-7e70174f2161"
      },
      "execution_count": null,
      "outputs": [
        {
          "output_type": "execute_result",
          "data": {
            "text/plain": [
              "<function __main__.<lambda>(parameters)>"
            ]
          },
          "metadata": {},
          "execution_count": 32
        }
      ]
    },
    {
      "cell_type": "markdown",
      "source": [
        "Tal cláusula devuelve el valor de la expresión al tomar en cuenta el valor del argumento lambda actual."
      ],
      "metadata": {
        "id": "FOgSZ9Fmna5J"
      }
    },
    {
      "cell_type": "code",
      "source": [
        "two = lambda: 2\n",
        "sqr = lambda x: x * x\n",
        "pwr = lambda x, y: x ** y\n",
        " \n",
        "for a in range(-2, 3):\n",
        "    print(sqr(a), end=\" \")\n",
        "    print(pwr(a, two()))\n",
        " "
      ],
      "metadata": {
        "id": "b2dyGfdBpGQu",
        "colab": {
          "base_uri": "https://localhost:8080/"
        },
        "outputId": "4b403ed3-a2ff-4e2b-d662-b451cb202771"
      },
      "execution_count": null,
      "outputs": [
        {
          "output_type": "stream",
          "name": "stdout",
          "text": [
            "4 4\n",
            "1 1\n",
            "0 0\n",
            "1 1\n",
            "4 4\n"
          ]
        }
      ]
    },
    {
      "cell_type": "code",
      "source": [
        "# Debo decir que este es uno de los algoritmos más ingeniosos que he visto \n",
        "def print_function(args, fun):\n",
        "    for x in args:\n",
        "        print('f(', x,')=', fun(x), sep='')\n",
        "\n",
        "\n",
        "def poly(x):\n",
        "    return 2 * x**2 - 4 * x + 2\n",
        "\n",
        "\n",
        "print_function([x for x in range(-2, 3)], poly)\n",
        "    "
      ],
      "metadata": {
        "id": "QRI7qzkApGOy",
        "colab": {
          "base_uri": "https://localhost:8080/"
        },
        "outputId": "7a76d63f-e631-40a8-b954-70d45d8f08cf"
      },
      "execution_count": null,
      "outputs": [
        {
          "output_type": "stream",
          "name": "stdout",
          "text": [
            "f(-2)=18\n",
            "f(-1)=8\n",
            "f(0)=2\n",
            "f(1)=0\n",
            "f(2)=2\n"
          ]
        }
      ]
    },
    {
      "cell_type": "code",
      "source": [
        "# Este código es aún más ingenioso que el anterior \n",
        "def print_function(args, fun):\n",
        "    for x in args:\n",
        "        print('f(', x,')=', fun(x), sep='')\n",
        " \n",
        "print_function([x for x in range(-2, 3)],lambda x: 2 * x**2 - 4 * x + 2)  # lambda x: 2 * x**2 - 4 * x + 2) l DIFERENCIA ENTRE EL CÓDIGO ANTERIOR \n",
        "# Y EL CÓDIGO QUE SE PRESENTA EN ESTA PARTE \n",
        "\n",
        "# Estas dos líneas que siguen las escribí para comprobar un punto \n",
        "print(\".----------------------------------------------------------------------\")\n",
        "print_function([x for x in range(-2, 3)],lambda x: 2 * x**3 - 6 * x + 8) # Lo ultra suponía :V "
      ],
      "metadata": {
        "id": "piTBSbKhpGMi",
        "colab": {
          "base_uri": "https://localhost:8080/"
        },
        "outputId": "a596bdd2-d125-4365-d88d-edc09470e312"
      },
      "execution_count": null,
      "outputs": [
        {
          "output_type": "stream",
          "name": "stdout",
          "text": [
            "f(-2)=18\n",
            "f(-1)=8\n",
            "f(0)=2\n",
            "f(1)=0\n",
            "f(2)=2\n",
            ".----------------------------------------------------------------------\n",
            "f(-2)=4\n",
            "f(-1)=12\n",
            "f(0)=8\n",
            "f(1)=4\n",
            "f(2)=12\n"
          ]
        }
      ]
    },
    {
      "cell_type": "code",
      "source": [
        "# Sintaxis de la función map( )\n",
        "\n",
        "map(function, list)"
      ],
      "metadata": {
        "id": "djlp1DXapGKy"
      },
      "execution_count": null,
      "outputs": []
    },
    {
      "cell_type": "code",
      "source": [
        "list_1 = [x for x in range(5)]\n",
        "list_2 = list(map(lambda x: 2 ** x, list_1))\n",
        "print(list_2)\n",
        "\n",
        "for x in map(lambda x: x * x, list_2):\n",
        "    print(x, end=' ')\n",
        "print()\n",
        "    "
      ],
      "metadata": {
        "id": "rtLKE-WIpGIY",
        "colab": {
          "base_uri": "https://localhost:8080/"
        },
        "outputId": "163b22be-f4c4-4108-f831-7d6be508d9be"
      },
      "execution_count": null,
      "outputs": [
        {
          "output_type": "stream",
          "name": "stdout",
          "text": [
            "[1, 2, 4, 8, 16]\n",
            "1 4 16 64 256 \n"
          ]
        }
      ]
    },
    {
      "cell_type": "code",
      "source": [
        "from random import seed, randint\n",
        "\n",
        "seed()\n",
        "data = [randint(-10,10) for x in range(5)]\n",
        "filtered = list(filter(lambda x: x > 0 and x % 2 == 0, data))\n",
        "\n",
        "print(data)\n",
        "print(filtered)\n",
        "    "
      ],
      "metadata": {
        "id": "VIu-FsfcpGGb",
        "colab": {
          "base_uri": "https://localhost:8080/"
        },
        "outputId": "fb2ced97-7fba-4d8d-a369-bb1cdd813aa2"
      },
      "execution_count": null,
      "outputs": [
        {
          "output_type": "stream",
          "name": "stdout",
          "text": [
            "[7, 6, -2, -3, 10]\n",
            "[6, 10]\n"
          ]
        }
      ]
    },
    {
      "cell_type": "code",
      "source": [
        "# Analicemos un ejemplo simple:\n",
        "\n",
        "def outer(par):\n",
        "    loc = par\n",
        " \n",
        " \n",
        "var = 1\n",
        "outer(var)\n",
        " \n",
        "print(var)\n",
        "print(loc)\n",
        " "
      ],
      "metadata": {
        "id": "LC1DJpeFpGD5",
        "colab": {
          "base_uri": "https://localhost:8080/",
          "height": 235
        },
        "outputId": "11c25bfb-21ae-47f5-ed21-e6835baa58e4"
      },
      "execution_count": null,
      "outputs": [
        {
          "output_type": "stream",
          "name": "stdout",
          "text": [
            "1\n"
          ]
        },
        {
          "output_type": "error",
          "ename": "NameError",
          "evalue": "ignored",
          "traceback": [
            "\u001b[0;31m---------------------------------------------------------------------------\u001b[0m",
            "\u001b[0;31mNameError\u001b[0m                                 Traceback (most recent call last)",
            "\u001b[0;32m<ipython-input-51-59ef70e9f2ed>\u001b[0m in \u001b[0;36m<cell line: 11>\u001b[0;34m()\u001b[0m\n\u001b[1;32m      9\u001b[0m \u001b[0;34m\u001b[0m\u001b[0m\n\u001b[1;32m     10\u001b[0m \u001b[0mprint\u001b[0m\u001b[0;34m(\u001b[0m\u001b[0mvar\u001b[0m\u001b[0;34m)\u001b[0m\u001b[0;34m\u001b[0m\u001b[0;34m\u001b[0m\u001b[0m\n\u001b[0;32m---> 11\u001b[0;31m \u001b[0mprint\u001b[0m\u001b[0;34m(\u001b[0m\u001b[0mloc\u001b[0m\u001b[0;34m)\u001b[0m\u001b[0;34m\u001b[0m\u001b[0;34m\u001b[0m\u001b[0m\n\u001b[0m\u001b[1;32m     12\u001b[0m \u001b[0;34m\u001b[0m\u001b[0m\n",
            "\u001b[0;31mNameError\u001b[0m: name 'loc' is not defined"
          ]
        }
      ]
    },
    {
      "cell_type": "code",
      "source": [
        "def outer(par):\n",
        "    loc = par\n",
        "\n",
        "    def inner():\n",
        "        return loc\n",
        "    return inner\n",
        "\n",
        "\n",
        "var = 1\n",
        "fun = outer(var)\n",
        "print(fun())\n",
        "    "
      ],
      "metadata": {
        "colab": {
          "base_uri": "https://localhost:8080/"
        },
        "id": "VMNhXcyp1FCw",
        "outputId": "7304e05f-5ea4-4e90-f64f-b1cda4b78eac"
      },
      "execution_count": null,
      "outputs": [
        {
          "output_type": "stream",
          "name": "stdout",
          "text": [
            "1\n"
          ]
        }
      ]
    },
    {
      "cell_type": "code",
      "source": [
        "def outer(par):\n",
        "    loc = par\n",
        " \n",
        "    def inner():\n",
        "        return loc\n",
        "    return inner\n",
        " \n",
        " \n",
        "var = 1\n",
        "fun = outer(var)\n",
        "print(fun())"
      ],
      "metadata": {
        "colab": {
          "base_uri": "https://localhost:8080/"
        },
        "id": "5U_H0-Im1E_5",
        "outputId": "4f84c3ce-a18e-4b58-fde1-549dfebedfa4"
      },
      "execution_count": null,
      "outputs": [
        {
          "output_type": "stream",
          "name": "stdout",
          "text": [
            "1\n"
          ]
        }
      ]
    },
    {
      "cell_type": "code",
      "source": [
        "def make_closure(par):\n",
        "    loc = par\n",
        "\n",
        "    def power(p):\n",
        "        return p ** loc\n",
        "    return power\n",
        "\n",
        "\n",
        "fsqr = make_closure(2)\n",
        "fcub = make_closure(3)\n",
        "\n",
        "ffor = make_closure(4) # Escrita por mí para comprobar un punto \n",
        "\n",
        "for i in range(5):\n",
        "    print(i, fsqr(i), fcub(i),ffor(i)) # Agregué \"\",ffor(i)\"\" aquí, para que la línea 12 fuera válida y se imprimiese "
      ],
      "metadata": {
        "colab": {
          "base_uri": "https://localhost:8080/"
        },
        "id": "ubSnwvy21E7q",
        "outputId": "11d2d14a-3caa-4076-dae7-8d866927ec2a"
      },
      "execution_count": null,
      "outputs": [
        {
          "output_type": "stream",
          "name": "stdout",
          "text": [
            "0 0 0 0\n",
            "1 1 1 1\n",
            "2 4 8 16\n",
            "3 9 27 81\n",
            "4 16 64 256\n"
          ]
        }
      ]
    },
    {
      "cell_type": "code",
      "source": [
        "print(True if 0 >= 0 else False)"
      ],
      "metadata": {
        "colab": {
          "base_uri": "https://localhost:8080/"
        },
        "id": "M5VbmxuB1E5x",
        "outputId": "3c85d08a-371f-4ba3-b2cb-1480c3dcb608"
      },
      "execution_count": null,
      "outputs": [
        {
          "output_type": "stream",
          "name": "stdout",
          "text": [
            "True\n"
          ]
        }
      ]
    },
    {
      "cell_type": "code",
      "source": [
        "for x in (el * 2 for el in range(5)):\n",
        "    print(x)\n",
        " "
      ],
      "metadata": {
        "colab": {
          "base_uri": "https://localhost:8080/"
        },
        "id": "KbZSRflE1E3a",
        "outputId": "1f55bfc9-0af9-4ced-ed44-a97ccc5231a5"
      },
      "execution_count": null,
      "outputs": [
        {
          "output_type": "stream",
          "name": "stdout",
          "text": [
            "0\n",
            "2\n",
            "4\n",
            "6\n",
            "8\n"
          ]
        }
      ]
    },
    {
      "cell_type": "code",
      "source": [
        "def foo(x, f):\n",
        "    return f(x)\n",
        " \n",
        "print(foo(9, lambda x: x ** 0.5))\n",
        " "
      ],
      "metadata": {
        "colab": {
          "base_uri": "https://localhost:8080/"
        },
        "id": "PbHvobi31E1f",
        "outputId": "882223e8-40ba-4448-d96f-9b2480c7f76a"
      },
      "execution_count": null,
      "outputs": [
        {
          "output_type": "stream",
          "name": "stdout",
          "text": [
            "3.0\n"
          ]
        }
      ]
    },
    {
      "cell_type": "code",
      "source": [
        "short_list = ['mython', 'python', 'cayó', 'en', 'el', 'piso']\n",
        "new_list = list(map(lambda s: s.title(), short_list))\n",
        "print(new_list)\n",
        " "
      ],
      "metadata": {
        "colab": {
          "base_uri": "https://localhost:8080/"
        },
        "id": "vkBHI2cI1EzZ",
        "outputId": "7af6bbed-4feb-43c6-9811-badf6ae39199"
      },
      "execution_count": null,
      "outputs": [
        {
          "output_type": "stream",
          "name": "stdout",
          "text": [
            "['Mython', 'Python', 'Cayó', 'En', 'El', 'Piso']\n"
          ]
        }
      ]
    },
    {
      "cell_type": "code",
      "source": [
        "short_list = [1, \"Python\", -1, \"Monty\"]\n",
        "new_list = list(filter(lambda s: isinstance(s, str), short_list))\n",
        "print(new_list)\n",
        " "
      ],
      "metadata": {
        "colab": {
          "base_uri": "https://localhost:8080/"
        },
        "id": "YBJJ0kcL1Exr",
        "outputId": "0966a0f8-670a-4570-b780-a862a8b16a03"
      },
      "execution_count": null,
      "outputs": [
        {
          "output_type": "stream",
          "name": "stdout",
          "text": [
            "['Python', 'Monty']\n"
          ]
        }
      ]
    },
    {
      "cell_type": "code",
      "source": [
        "def tag(tg):\n",
        "    tg2 = tg\n",
        "    tg2 = tg[0] + '/' + tg[1:]\n",
        " \n",
        "    def inner(str):\n",
        "        return tg + str + tg2\n",
        "    return inner\n",
        " \n",
        " \n",
        "b_tag = tag('<b>')\n",
        "print(b_tag('Monty Python'))"
      ],
      "metadata": {
        "colab": {
          "base_uri": "https://localhost:8080/"
        },
        "id": "M-P6IL9u1EvI",
        "outputId": "2e22d642-f53c-428d-cf35-eadcb8948cdc"
      },
      "execution_count": null,
      "outputs": [
        {
          "output_type": "stream",
          "name": "stdout",
          "text": [
            "<b>Monty Python</b>\n"
          ]
        }
      ]
    },
    {
      "cell_type": "markdown",
      "source": [
        "# resumen de sección "
      ],
      "metadata": {
        "id": "6s11jhjb96Ox"
      }
    },
    {
      "cell_type": "code",
      "source": [
        "class Vowels:\n",
        "    def __init__(self):\n",
        "        self.vow = \"aeiouy \" # Sí, sabemos que y no siempre se considera una vocal.\n",
        "        self.pos = 0\n",
        " \n",
        "    def __iter__(self):\n",
        "        return self\n",
        " \n",
        "    def __next__(self):\n",
        "        if self.pos == len(self.vow):\n",
        "            raise StopIteration\n",
        "        self.pos += 1\n",
        "        return self.vow[self.pos - 1]\n",
        " \n",
        " \n",
        "vowels = Vowels()\n",
        "for v in vowels:\n",
        "    print(v, end=' ')\n",
        " "
      ],
      "metadata": {
        "colab": {
          "base_uri": "https://localhost:8080/"
        },
        "id": "AI-TCDvV1EtH",
        "outputId": "01162aca-54fe-495f-a2cd-cfe4fdcc3c21"
      },
      "execution_count": null,
      "outputs": [
        {
          "output_type": "stream",
          "name": "stdout",
          "text": [
            "a e i o u y   "
          ]
        }
      ]
    },
    {
      "cell_type": "code",
      "source": [
        "any_list = [1, 2, 3, 4]\n",
        "even_list = list(map(lambda n: n | 1, any_list)) # Completa la línea aquí.\n",
        "print(even_list)"
      ],
      "metadata": {
        "colab": {
          "base_uri": "https://localhost:8080/"
        },
        "id": "QHqJ0kc-1Eqb",
        "outputId": "aba20cea-93c0-423c-b262-1cee94717a77"
      },
      "execution_count": null,
      "outputs": [
        {
          "output_type": "stream",
          "name": "stdout",
          "text": [
            "[1, 3, 3, 5]\n"
          ]
        }
      ]
    },
    {
      "cell_type": "code",
      "source": [
        "def replace_spaces(replacement='*'):\n",
        "    def new_replacement(text):\n",
        "        return text.replace(' ', replacement)\n",
        "    return new_replacement\n",
        " \n",
        " \n",
        "stars = replace_spaces()\n",
        "print(stars(\"And Now for Something Completely Different\"))\n",
        " "
      ],
      "metadata": {
        "colab": {
          "base_uri": "https://localhost:8080/"
        },
        "id": "iOWKydWF1Emk",
        "outputId": "796c43a1-37b6-445d-800e-6fe08fd499e2"
      },
      "execution_count": null,
      "outputs": [
        {
          "output_type": "stream",
          "name": "stdout",
          "text": [
            "And*Now*for*Something*Completely*Different\n"
          ]
        }
      ]
    },
    {
      "cell_type": "markdown",
      "source": [
        "# Nota importante \n",
        "\n",
        "PEP 8, la Guía de Estilo para Código Python, recomienda que las funciones lambdas no deben asignarse a variables, sino que deben definirse como funciones.\n",
        "\n",
        "Esto significa que es mejor utilizar una sentencia def, y evita usar una sentencia de asignación que vincule una expresión lambda a un identificador. Analiza el código a continuación:"
      ],
      "metadata": {
        "id": "KwSl9t3G-c7U"
      }
    },
    {
      "cell_type": "code",
      "source": [
        "# Recomendado:\n",
        "def f(x): return 3*x\n",
        " \n",
        " \n",
        "# No recomendado:\n",
        "f = lambda x: 3*x\n",
        " "
      ],
      "metadata": {
        "id": "b2WkczLy1Ekq"
      },
      "execution_count": null,
      "outputs": []
    },
    {
      "cell_type": "markdown",
      "source": [
        "La vinculación de lambdas a identificadores generalmente duplica la funcionalidad de la declaración def. El uso de sentencias def, por otro lado, genera más líneas de código.\n",
        "\n",
        "Es importante comprender que a la realidad a menudo le gusta dibujar sus propios escenarios, que no necesariamente siguen las convenciones o recomendaciones formales. Si decides seguirlos o no, dependerá de muchas cosas: tus preferencias, otras convenciones adoptadas, las pautas internas de la empresa, la compatibilidad con el código existente, etc. Toma en cuenta esto.\n",
        "\n"
      ],
      "metadata": {
        "id": "ppAXnCJF-lTG"
      }
    },
    {
      "cell_type": "markdown",
      "source": [
        "# 4.2 Sección 2 – Archivos (flujos de archivos, procesamiento de archivos, diagnóstico de problemas de flujo)"
      ],
      "metadata": {
        "id": "dcaHn5gT_H6G"
      }
    },
    {
      "cell_type": "code",
      "source": [
        "# sintaxis para abrir flujos o streams \n",
        "stream = open(file, mode = 'r', encoding = None)\n",
        " "
      ],
      "metadata": {
        "id": "Y1gfiR0K1EjJ"
      },
      "execution_count": null,
      "outputs": []
    },
    {
      "cell_type": "markdown",
      "source": [
        "# 4.2.7 Abriendo el flujo (stream) por primera vez\n",
        "\n",
        "Imagina que queremos desarrollar un programa que lea el contenido del archivo \n",
        "de texto llamado:\n",
        "\n",
        "C:\\Users\\User\\Desktop\\file.txt.\n",
        "\n",
        "\n",
        "¿Cómo abrir ese archivo para leerlo? Aquí está el fragmento del código:"
      ],
      "metadata": {
        "id": "0M1K9adxYlqN"
      }
    },
    {
      "cell_type": "code",
      "source": [
        "try:\n",
        "    stream = open(\"C:\\Users\\User\\Desktopile.txt\", \"rt\")\n",
        "    # El procesamiento va aquí.\n",
        "    stream.close()\n",
        "except Exception as exc:\n",
        "    print(\"No se puede abrir el archivo:\", exc)"
      ],
      "metadata": {
        "id": "mKZNP54P1Ego"
      },
      "execution_count": null,
      "outputs": []
    },
    {
      "cell_type": "code",
      "source": [
        "import sys"
      ],
      "metadata": {
        "id": "bR-5HYAE1EeC"
      },
      "execution_count": null,
      "outputs": []
    },
    {
      "cell_type": "code",
      "source": [
        "try:\n",
        "    # Algunas operaciones con streams.\n",
        "except IOError as exc:\n",
        "    print(exc.errno)\n",
        " "
      ],
      "metadata": {
        "id": "mwpNMPV71Ebk"
      },
      "execution_count": null,
      "outputs": []
    },
    {
      "cell_type": "code",
      "source": [
        "import errno\n",
        "\n",
        "try:\n",
        "    s = open(\"c:/users/user/Desktop/file.txt\", \"rt\")\n",
        "    # El procesamiento va aquí.\n",
        "    s.close()\n",
        "except Exception as exc:\n",
        "    if exc.errno == errno.ENOENT:\n",
        "        print(\"El archivo no existe.\")\n",
        "    elif exc.errno == errno.EMFILE:\n",
        "        print(\"Demasiados archivos abiertos.\")\n",
        "    else:\n",
        "        print(\"El numero del error es:\", exc.errno)\n",
        "\n",
        "# Salida en la consola \n",
        "##   El archivo no existe."
      ],
      "metadata": {
        "id": "Mz0UHUbV1EZ5"
      },
      "execution_count": null,
      "outputs": []
    },
    {
      "cell_type": "code",
      "source": [
        "from os import strerror\n",
        "\n",
        "try:\n",
        "    s = open(\"c:/users/user/Desktop/file.txt\", \"rt\")\n",
        "    # El procesamiento va aquí.\n",
        "    s.close()\n",
        "except Exception as exc:\n",
        "    print(\"El archivo no pudo ser abierto:\", strerror(exc.errno))\n",
        "# Salida en la consola \n",
        "## El archivo no pudo ser abierto: No such file or directory"
      ],
      "metadata": {
        "id": "llsyxoEs1EYM"
      },
      "execution_count": null,
      "outputs": []
    },
    {
      "cell_type": "code",
      "source": [
        "open(file_name, mode=open_mode, encoding=text_encoding)"
      ],
      "metadata": {
        "id": "iabBu8oT1EWn"
      },
      "execution_count": null,
      "outputs": []
    },
    {
      "cell_type": "code",
      "source": [
        "import errno\n",
        " \n",
        "try:\n",
        "    stream = open(\"file\", \"rb\")\n",
        "        print(\"exists\")\n",
        "    stream.close()\n",
        "except IOError as error:\n",
        "    if error.errno == errno.ENOENT:\n",
        "        print(\"ausente\")\n",
        "    else:\n",
        "        print(\"desconocido\")\n",
        "# suponiendo que estuviese bin identado , la salida del algoritmo es \n",
        "\n",
        "# ausente"
      ],
      "metadata": {
        "id": "vu0OkYMV1EUR"
      },
      "execution_count": null,
      "outputs": []
    },
    {
      "cell_type": "markdown",
      "source": [
        "# 4.3 Sección 3 – Trabajando con archivos reales"
      ],
      "metadata": {
        "id": "om7_iSuklMhE"
      }
    },
    {
      "cell_type": "code",
      "source": [
        "stream = open('file.txt', 'rt', encoding='utf-8')"
      ],
      "metadata": {
        "id": "sJjGrHOO1ERU"
      },
      "execution_count": null,
      "outputs": []
    },
    {
      "cell_type": "code",
      "source": [
        "from os import strerror\n",
        "\n",
        "try:\n",
        "    counter = 0\n",
        "    stream = open('text.txt', \"rt\")\n",
        "    char = stream.read(1)\n",
        "    while char != '':\n",
        "        print(char, end='')\n",
        "        counter += 1\n",
        "        char = stream.read(1)\n",
        "    stream.close()\n",
        "    print(\"\\n\\nCaracteres en el archivo:\", counter)\n",
        "except IOError as e:\n",
        "    print(\"Se produjo un error de E/S: \", strerror(e.errno))\n",
        "\n",
        "    # Acá se produce un error debido a que no tengo fuardado el archivo de texto dentro de mi computadora \n",
        "# dentro del skills for all el archivo si existe, y por lo tanto la salida del algoritmo es: \n",
        "\n",
        "# Beautiful is better than ugly.\n",
        "# Explicit is better than implicit.\n",
        "# Simple is better than complex.\n",
        "# Complex is better than complicated.\n",
        "\n",
        "# Caracteres en el archivo: 131"
      ],
      "metadata": {
        "colab": {
          "base_uri": "https://localhost:8080/"
        },
        "id": "zF7HtT1L1EPW",
        "outputId": "600e5077-4366-49a7-d991-233010dafbe6"
      },
      "execution_count": null,
      "outputs": [
        {
          "output_type": "stream",
          "name": "stdout",
          "text": [
            "Se produjo un error de E/S:  No such file or directory\n"
          ]
        }
      ]
    },
    {
      "cell_type": "code",
      "source": [
        "from os import strerror\n",
        "\n",
        "try:\n",
        "    counter = 0\n",
        "    stream = open('text.txt', \"rt\")\n",
        "    content = stream.read()\n",
        "    for char in content:\n",
        "        print(char, end='')\n",
        "        counter += 1\n",
        "    stream.close()\n",
        "    print(\"\\n\\nCaracteres en el archivo:\", counter)\n",
        "except IOError as e:\n",
        "    print(\"Se produjo un error de E/S: \", strerr(e.errno)) # strerror"
      ],
      "metadata": {
        "id": "q-kxeFDwmrDs"
      },
      "execution_count": null,
      "outputs": []
    },
    {
      "cell_type": "markdown",
      "source": [
        "Console \n",
        "\n",
        "Beautiful is better than ugly.\n",
        "\n",
        "Explicit is better than implicit.\n",
        "\n",
        "Simple is better than complex.\n",
        "\n",
        "Complex is better than complicated.\n",
        "\n",
        "Caracteres en el archivo: 131"
      ],
      "metadata": {
        "id": "4hv7PVaQsGFd"
      }
    },
    {
      "cell_type": "code",
      "source": [
        "from os import strerror\n",
        "\n",
        "try:\n",
        "    character_counter = line_counter = 0\n",
        "    stream = open('text.txt', 'rt')\n",
        "    line = stream.readline()\n",
        "    while line != '':\n",
        "        line_counter += 1\n",
        "        for char in line:\n",
        "            print(char, end='')\n",
        "            character_counter += 1\n",
        "        line = stream.readline()\n",
        "    stream.close()\n",
        "    print(\"\\n\\nCaracteres en el archivo:\", character_counter)\n",
        "    print(\"Líneas en el archivo:     \", line_counter)\n",
        "except IOError as e:\n",
        "    print(\"Se produjo un error de E/S:\", strerror(e.errno))\n",
        "    "
      ],
      "metadata": {
        "id": "OHOemS8qmrBO"
      },
      "execution_count": null,
      "outputs": []
    },
    {
      "cell_type": "markdown",
      "source": [
        "Beautiful is better than ugly.\n",
        "\n",
        "Explicit is better than implicit.\n",
        "\n",
        "Simple is better than complex.\n",
        "\n",
        "Complex is better than complicated.\n",
        "\n",
        "Caracteres en el archivo: 131\n",
        "\n",
        "Líneas en el archivo:      4"
      ],
      "metadata": {
        "id": "1YnfbK8TxptI"
      }
    },
    {
      "cell_type": "code",
      "source": [
        "stream = open(\"text.txt\")\n",
        "print(stream.readlines(20))\n",
        "print(stream.readlines(20))\n",
        "print(stream.readlines(20))\n",
        "print(stream.readlines(20))\n",
        "stream.close()"
      ],
      "metadata": {
        "id": "LeM-LSuQmpqz"
      },
      "execution_count": null,
      "outputs": []
    },
    {
      "cell_type": "markdown",
      "source": [
        "Salida del codigo mostrado en el bloque de arriba \n",
        "['Beautiful is better than ugly.\\n']\n",
        " \n",
        "['Explicit is better than implicit.\\n']\n",
        "\n",
        "['Simple is better than complex.\\n']\n",
        "\n",
        "['Complex is better than complicated.']"
      ],
      "metadata": {
        "id": "_v1uwQ0-ydQP"
      }
    },
    {
      "cell_type": "code",
      "source": [
        "from os import strerror\n",
        "\n",
        "try:\n",
        "    ccnt = lcnt = 0\n",
        "    s = open('text.txt', 'rt')\n",
        "    lines = s.readlines(20)\n",
        "    while len(lines) != 0:\n",
        "        for line in lines:\n",
        "            lcnt += 1\n",
        "            for ch in line:\n",
        "                print(ch, end='')\n",
        "                ccnt += 1\n",
        "        lines = s.readlines(10)\n",
        "    s.close()\n",
        "    print(\"\\n\\nCaracteres en el archivo:\", ccnt)\n",
        "    print(\"Líneas en archivo:     \", lcnt)\n",
        "except IOError as e:\n",
        "    print(\"Se produjo un error de E/S:\", strerror(e.errno))"
      ],
      "metadata": {
        "id": "PehEryEempl8"
      },
      "execution_count": null,
      "outputs": []
    },
    {
      "cell_type": "markdown",
      "source": [
        "Beautiful is better than ugly.\n",
        "\n",
        "Explicit is better than implicit.\n",
        "\n",
        "Simple is better than complex.\n",
        "\n",
        "Complex is better than complicated.\n",
        "\n",
        "Caracteres en el archivo: 131\n",
        "\n",
        "Líneas en archivo:      4"
      ],
      "metadata": {
        "id": "lkv3MPJazO82"
      }
    },
    {
      "cell_type": "code",
      "source": [
        "from os import strerror\n",
        "\n",
        "try:\n",
        "\tccnt = lcnt = 0\n",
        "\tfor line in open('text.txt', 'rt'):\n",
        "\t\tlcnt += 1\n",
        "\t\tfor ch in line:\n",
        "\t\t\tprint(ch, end='')\n",
        "\t\t\tccnt += 1\n",
        "\tprint(\"\\n\\nCaracteres en el archivo:\", ccnt)\n",
        "\tprint(\"Líneas en el archivo:     \", lcnt)\n",
        "except IOError as e:\n",
        "\tprint(\"Se produjo un error de E/S: \", strerror(e.errno))\n",
        "    "
      ],
      "metadata": {
        "colab": {
          "base_uri": "https://localhost:8080/"
        },
        "id": "qb5kaK_hmpj7",
        "outputId": "2875220b-5ea4-4186-fe12-b3984d100e1d"
      },
      "execution_count": null,
      "outputs": [
        {
          "output_type": "stream",
          "name": "stdout",
          "text": [
            "Se produjo un error de E/S:  No such file or directory\n"
          ]
        }
      ]
    },
    {
      "cell_type": "markdown",
      "source": [
        "Beautiful is better than ugly.\n",
        "\n",
        "Explicit is better than implicit.\n",
        "\n",
        "Simple is better than complex.\n",
        "\n",
        "Complex is better than complicated.\n",
        "\n",
        "Caracteres en el archivo: 131\n",
        "\n",
        "Líneas en el archivo:      4"
      ],
      "metadata": {
        "id": "jlC6SWSd0CyS"
      }
    },
    {
      "cell_type": "code",
      "source": [
        "from os import strerror\n",
        "\n",
        "try:\n",
        "\tfile = open('newtext.txt', 'wt') # Un nuevo archivo (newtext.txt) es creado.\n",
        "\tfor i in range(10):\n",
        "\t\ts = \"línea #\" + str(i+1) + \"\\n\"\n",
        "\t\tfor char in s:\n",
        "\t\t\tfile.write(char)\n",
        "\tfile.close()\n",
        "except IOError as e:\n",
        "\tprint(\"Se produjo un error de E/S: \", strerror(e.errno))\n",
        "    # Al seleccionar este codigo aparecen unas flechas que apuntan en dirección izquierda - derecha, así --> "
      ],
      "metadata": {
        "id": "EBJRKVT0mpht"
      },
      "execution_count": null,
      "outputs": []
    },
    {
      "cell_type": "code",
      "source": [
        "from os import strerror\n",
        "\n",
        "try:\n",
        "    file = open('newtext.txt', 'wt')\n",
        "    for i in range(10):\n",
        "        file.write(\"línea #\" + str(i+1) + \"\\n\")\n",
        "    file.close()\n",
        "except IOError as e:\n",
        "    print(\"Se produjo un error de E/S: \", strerror(e.errno))\n",
        "    "
      ],
      "metadata": {
        "id": "AWdO_Qhhmpfy"
      },
      "execution_count": null,
      "outputs": []
    },
    {
      "cell_type": "code",
      "source": [
        "import sys\n",
        "sys.stderr.write(\"Mensaje de Error\")"
      ],
      "metadata": {
        "id": "YppvhURwmpd-"
      },
      "execution_count": null,
      "outputs": []
    },
    {
      "cell_type": "code",
      "source": [
        "data = bytearray(10)"
      ],
      "metadata": {
        "id": "eolvRClImpcG"
      },
      "execution_count": null,
      "outputs": []
    },
    {
      "cell_type": "code",
      "source": [
        "data = bytearray(10)\n",
        "\n",
        "for i in range(len(data)):\n",
        "    data[i] = 10 - i\n",
        "\n",
        "for b in data:\n",
        "    print(hex(b))\n",
        "    "
      ],
      "metadata": {
        "colab": {
          "base_uri": "https://localhost:8080/"
        },
        "id": "bP-gEcwAmpXj",
        "outputId": "d3761639-8385-4b7b-80f5-51b4c226833d"
      },
      "execution_count": null,
      "outputs": [
        {
          "output_type": "stream",
          "name": "stdout",
          "text": [
            "0xa\n",
            "0x9\n",
            "0x8\n",
            "0x7\n",
            "0x6\n",
            "0x5\n",
            "0x4\n",
            "0x3\n",
            "0x2\n",
            "0x1\n"
          ]
        }
      ]
    },
    {
      "cell_type": "code",
      "source": [
        "from os import strerror\n",
        "\n",
        "data = bytearray(10)\n",
        "\n",
        "for i in range(len(data)):\n",
        "    data[i] = 10 + i\n",
        "\n",
        "try:\n",
        "    bf = open('file.bin', 'wb')\n",
        "    bf.write(data)\n",
        "    bf.close()\n",
        "except IOError as e:\n",
        "    print(\"Se produjo un error de E/S:\", strerror(e.errno))\n",
        "\n",
        "# Ingresa aquí el código que lee los bytes del stream."
      ],
      "metadata": {
        "id": "u_-h8WQJmpVd"
      },
      "execution_count": null,
      "outputs": []
    },
    {
      "cell_type": "code",
      "source": [
        "from os import strerror\n",
        "\n",
        "data = bytearray(10)\n",
        "\n",
        "try:\n",
        "    binary_file = open('file.bin', 'rb')\n",
        "    binary_file.readinto(data)\n",
        "    binary_file.close()\n",
        "\n",
        "    for b in data:\n",
        "        print(hex(b), end=' ')\n",
        "except IOError as e:\n",
        "    print(\"Se produjo un error de E/S:\", strerror(e.errno))"
      ],
      "metadata": {
        "id": "Eyft7BACmpSw"
      },
      "execution_count": null,
      "outputs": []
    },
    {
      "cell_type": "code",
      "source": [
        "from os import strerror\n",
        "\n",
        "try:\n",
        "    binary_file = open('file.bin', 'rb')\n",
        "    data = bytearray(binary_file.read())\n",
        "    binary_file.close()\n",
        "\n",
        "    for b in data:\n",
        "        print(hex(b), end=' ')\n",
        "\n",
        "except IOError as e:\n",
        "    print(\"Se produjo un error de E/S:\", strerror(e.errno))\n",
        "    "
      ],
      "metadata": {
        "id": "0FU7z7hAmpQr"
      },
      "execution_count": null,
      "outputs": []
    },
    {
      "cell_type": "code",
      "source": [
        "from os import strerror\n",
        "\n",
        "try:\n",
        "    binary_file = open('file.bin', 'rb')\n",
        "    data = bytearray(binary_file.read(5))\n",
        "    binary_file.close()\n",
        "\n",
        "    for b in data:\n",
        "        print(hex(b), end=' ')\n",
        "\n",
        "except IOError as e:\n",
        "    print(\"Se produjo un error de E/S:\", strerror(e.errno))\n",
        "    "
      ],
      "metadata": {
        "id": "7zza1hNMmpNv"
      },
      "execution_count": null,
      "outputs": []
    },
    {
      "cell_type": "code",
      "source": [
        "from os import strerror\n",
        "\n",
        "srcname = input(\"Ingresa el nombre del archivo fuente: \")\n",
        "try:\n",
        "    src = open(srcname, 'rb')\n",
        "except IOError as e:\n",
        "    print(\"No se puede abrir archivo fuente: \", strerror(e.errno))\n",
        "    exit(e.errno)\t\n",
        "\n",
        "dstname = input(\"Ingresa el nombre del archivo destino: \")\n",
        "try:\n",
        "    dst = open(dstname, 'wb')\n",
        "except Exception as e:\n",
        "    print(\"No se puede crear el archivo de destino: \", strerror(e.errno))\n",
        "    src.close()\n",
        "    exit(e.errno)\t\n",
        "\n",
        "buffer = bytearray(65536)\n",
        "total  = 0\n",
        "try:\n",
        "    readin = src.readinto(buffer)\n",
        "    while readin > 0:\n",
        "        written = dst.write(buffer[:readin])\n",
        "        total += written\n",
        "        readin = src.readinto(buffer)\n",
        "except IOError as e:\n",
        "    print(\"No se puede crear el archivo de destino: \", strerror(e.errno))\n",
        "    exit(e.errno)\t\n",
        "    \n",
        "print(total,'byte(s) escritos con éxito')\n",
        "src.close()\n",
        "dst.close()"
      ],
      "metadata": {
        "id": "keypeW0QmpLw"
      },
      "execution_count": null,
      "outputs": []
    },
    {
      "cell_type": "markdown",
      "source": [
        "# 4.3.8   LAB   Histograma de frecuencia de caracteres"
      ],
      "metadata": {
        "id": "TgqIoTEf6vS_"
      }
    },
    {
      "cell_type": "code",
      "source": [
        "from os import strerror\n",
        "\n",
        "# Inicializa 26 contadores para cada letra latina.\n",
        "# Nota: hemos usado una comprensión para esto.\n",
        "counters = {chr(ch): 0 for ch in range(ord('a'), ord('z') + 1)}\n",
        "file_name = input(\"Ingresa el nombre del archivo a analizar: \")\n",
        "try:\n",
        "    file = open(file_name, \"rt\")\n",
        "    for line in file:\n",
        "        for char in line:\n",
        "            # Si es una letra...\n",
        "            if char.isalpha():\n",
        "                # ... lo trataremos en minúsculas y actualizaremos el contador apropiado.\n",
        "                counters[char.lower()] += 1\n",
        "    file.close()\n",
        "    # Imprimamos los contadores.\n",
        "    for char in counters.keys():\n",
        "        c = counters[char]\n",
        "        if c > 0:\n",
        "            print(char, '->', c)\n",
        "except IOError as e:\n",
        "    print(\"Se produjo un error de E/S: \", strerror(e.errno))"
      ],
      "metadata": {
        "id": "1D6OaSNZmpIl"
      },
      "execution_count": null,
      "outputs": []
    },
    {
      "cell_type": "markdown",
      "source": [
        "# 4.3.9   LAB   Histograma de frecuencia de caracteres ordenado"
      ],
      "metadata": {
        "id": "K9WjzZR37Q2K"
      }
    },
    {
      "cell_type": "code",
      "source": [
        "from os import strerror\n",
        "\n",
        "counters = {chr(ch): 0 for ch in range(ord('a'), ord('z') + 1)}\n",
        "file_name = input(\"Ingresa el nombre del archivo a analizar: \")\n",
        "try:\n",
        "    file = open(file_name, \"rt\")\n",
        "    for line in file:\n",
        "        for char in line:\n",
        "            if char.isalpha():\n",
        "                counters[char.lower()] += 1\n",
        "    file.close()\n",
        "    file = open(file_name + '.hist', 'wt')\n",
        "    # Nota: hemos utilizado una lambda para acceder a los elementos del directorio y se ha establecido reverse a True para obtener un orden válido.\n",
        "    for char in sorted(counters.keys(), key=lambda x: counters[x], reverse=True):\n",
        "        c = counters[char]\n",
        "        if c > 0:\n",
        "            file.write(char + ' -> ' + str(c) + '\\n')\n",
        "    file.close()\n",
        "except IOError as e:\n",
        "    print(\"Se produjo un error de E/S: \", strerror(e.errno))"
      ],
      "metadata": {
        "id": "oZchuDRRmpGd"
      },
      "execution_count": null,
      "outputs": []
    },
    {
      "cell_type": "markdown",
      "source": [
        "# 4.3.10   LAB   Evaluando los resultados de los estudiantes\n"
      ],
      "metadata": {
        "id": "U-jchq5e72lx"
      }
    },
    {
      "cell_type": "code",
      "source": [
        "# Una clase de la excepción base para nuestro código:\n",
        "class StudentsDataException(Exception):\n",
        "    pass\n",
        "\n",
        "\n",
        "# Una excepción para líneas erróneas:\n",
        "class WrongLine(StudentsDataException):\n",
        "    def __init__(self, line_number, line_string):\n",
        "        super().__init__(self)\n",
        "        self.line_number = line_number\n",
        "        self.line_string = line_string\n",
        "\n",
        "\n",
        "# Una excepción para un archivo vacío.\n",
        "class FileEmpty(StudentsDataException):\n",
        "    def __init__(self):\n",
        "        super().__init__(self)\n",
        "\n",
        "\n",
        "from os import strerror\n",
        "\n",
        "# Un diccionario para los datos de los estudiantes:\n",
        "data = { }\n",
        "\n",
        "file_name = input(\"Ingresa el nombre del archivo de datos del estudiante: \")\n",
        "line_number = 1\n",
        "try:\n",
        "    f = open(file_name, \"rt\")\n",
        "    # Leer el archivo completo en la lista.\n",
        "    lines = f.readlines()\n",
        "    f.close()\n",
        "    # ¿El archivo está vacío?\n",
        "    if len(lines) == 0:\n",
        "        raise FileEmpty()\n",
        "    # Escanee el archivo línea por línea.\n",
        "    for i in range(len(lines)):\n",
        "        # Obtener la línea n.\n",
        "        line = lines[i]\n",
        "        # Divídirlo en columnas.\n",
        "        columns = line.split()\n",
        "        # Debe haber 3 columnas, ¿están ahí?\n",
        "        if len(columns) != 3:\n",
        "            raise WrongLine(i + 1, line)\n",
        "        # Construye una clave a partir del nombre y apellido del estudiante.\n",
        "        student = columns[0] + ' ' + columns[1]\n",
        "        # Obtener puntos.\n",
        "        try:\n",
        "            points = float(columns[2])\n",
        "        except ValueError:\n",
        "            raise WrongLine(i + 1, line)\n",
        "        # Actualizar el diccionario.\n",
        "        try:\n",
        "            data[student] += points\n",
        "        except KeyError:\n",
        "            data[student] = points\n",
        "    # Imprimir resultados.\n",
        "    for student in sorted(data.keys()):\n",
        "        print(student,'\\t', data[student])\n",
        "\n",
        "except IOError as e:\n",
        "    print(\"Se produjo un error de E/S: \", strerror(e.errno))\n",
        "except WrongLine as e:\n",
        "    print(\"Línea incorrecta #\" + str(e.line_number) + \" en el archivo fuente:\" + e.line_string)\n",
        "except FileEmpty:\n",
        "    print(\"Archivo fuente vacío\")\n",
        "    "
      ],
      "metadata": {
        "id": "KeVCr2xfmpD8"
      },
      "execution_count": null,
      "outputs": []
    },
    {
      "cell_type": "code",
      "source": [
        "for line in open(\"file\", \"rt\"):\n",
        "    print(line, end='')"
      ],
      "metadata": {
        "id": "h4MvgnebmpBm"
      },
      "execution_count": null,
      "outputs": []
    },
    {
      "cell_type": "code",
      "source": [
        "for line in open(\"file\", \"rt\"):\n",
        "    for char in line:\n",
        "        if char.lower() not in \"aeiouy \":\n",
        "            print(char, end='')"
      ],
      "metadata": {
        "id": "CWMlggvrmo_c"
      },
      "execution_count": null,
      "outputs": []
    },
    {
      "cell_type": "code",
      "source": [
        "try:\n",
        "    stream = open(\"image.png\", \"rb\")\n",
        "    image = bytearray(stream.read()) # Inserta una línea aquí.\n",
        "    stream.close()\n",
        "except IOError:\n",
        "    print(\"fallido\")\n",
        "else:\n",
        "    print(\"exitoso\")"
      ],
      "metadata": {
        "id": "PQQFz-q6mo9i"
      },
      "execution_count": null,
      "outputs": []
    },
    {
      "cell_type": "markdown",
      "source": [
        "# 4.4 Sección 4 – El módulo os - interactuando con el sistema operativo"
      ],
      "metadata": {
        "id": "Et-ani27-Y3r"
      }
    },
    {
      "cell_type": "code",
      "source": [
        "import os\n",
        "print(os.uname())\n",
        " "
      ],
      "metadata": {
        "id": "Z-MHD_0Lmo7i"
      },
      "execution_count": null,
      "outputs": []
    },
    {
      "cell_type": "code",
      "source": [
        "import os\n",
        "print(os.name)"
      ],
      "metadata": {
        "id": "3ZCn9N9V_o__"
      },
      "execution_count": null,
      "outputs": []
    },
    {
      "cell_type": "code",
      "source": [
        "import os\n",
        "\n",
        "os.mkdir(\"my_first_directory\")\n",
        "print(os.listdir())\n",
        "    "
      ],
      "metadata": {
        "id": "YR4WG5-jmo4J"
      },
      "execution_count": null,
      "outputs": []
    },
    {
      "cell_type": "code",
      "source": [
        "import os\n",
        "\n",
        "os.makedirs(\"my_first_directory/my_second_directory\")\n",
        "os.chdir(\"my_first_directory\")\n",
        "print(os.listdir())\n",
        "    "
      ],
      "metadata": {
        "id": "jaKcFzo8mo0Y"
      },
      "execution_count": null,
      "outputs": []
    },
    {
      "cell_type": "code",
      "source": [
        "import os\n",
        "\n",
        "os.makedirs(\"my_first_directory/my_second_directory\")\n",
        "os.chdir(\"my_first_directory\")\n",
        "print(os.getcwd())\n",
        "os.chdir(\"my_second_directory\")\n",
        "print(os.getcwd())\n",
        "    "
      ],
      "metadata": {
        "id": "40ow158CmoyL"
      },
      "execution_count": null,
      "outputs": []
    },
    {
      "cell_type": "code",
      "source": [
        "import os\n",
        "\n",
        "os.mkdir(\"my_first_directory\")\n",
        "print(os.listdir())\n",
        "os.rmdir(\"my_first_directory\")\n",
        "print(os.listdir())\n",
        "    "
      ],
      "metadata": {
        "id": "dTJwVxC5movs"
      },
      "execution_count": null,
      "outputs": []
    },
    {
      "cell_type": "code",
      "source": [
        "import os\n",
        " \n",
        "os.makedirs(\"my_first_directory/my_second_directory\")\n",
        "os.removedirs(\"my_first_directory/my_second_directory\")\n",
        "print(os.listdir())\n",
        " "
      ],
      "metadata": {
        "id": "JBltNv_8motc"
      },
      "execution_count": null,
      "outputs": []
    },
    {
      "cell_type": "code",
      "source": [
        "import os\n",
        "\n",
        "returned_value = os.system(\"mkdir my_first_directory\")\n",
        "print(returned_value)\n",
        "    "
      ],
      "metadata": {
        "id": "1SmV4PB6mopr"
      },
      "execution_count": null,
      "outputs": []
    },
    {
      "cell_type": "markdown",
      "source": [
        "# 4.4.8   LAB   El módulo os"
      ],
      "metadata": {
        "id": "zeY2oiIwDoXa"
      }
    },
    {
      "cell_type": "code",
      "source": [
        "import os\n",
        "\n",
        "class DirectorySearcher:\n",
        "    def find(self, path, dir):\n",
        "        try:\n",
        "            os.chdir(path)\n",
        "        except OSError:\n",
        "            # No procesa un archivo que no es un directorio.\n",
        "            return\n",
        "\n",
        "        current_dir = os.getcwd()\n",
        "        for entry in os.listdir(\".\"):\n",
        "            if entry == dir:\n",
        "                print(os.getcwd() + \"/\" + dir)\n",
        "            self.find(current_dir + \"/\" + entry, dir)\n",
        "\n",
        "\n",
        "directory_searchv3er = DirectorySearcher()\n",
        "directory_searchv3er.find(\"./tree\", \"python\")"
      ],
      "metadata": {
        "id": "0gJ-OOlqmon6"
      },
      "execution_count": null,
      "outputs": []
    },
    {
      "cell_type": "markdown",
      "source": [
        "# 4.5 Sección 5 - el módulo datetime - trabajar con funciones relacionadas con la hora y la fecha"
      ],
      "metadata": {
        "id": "NaUcq6o6FcmF"
      }
    },
    {
      "cell_type": "code",
      "source": [
        "from datetime import date\n",
        "\n",
        "today = date.today()\n",
        "\n",
        "print(\"Hoy:\", today)\n",
        "print(\"Año:\", today.year)\n",
        "print(\"Mes:\", today.month)\n",
        "print(\"Día:\", today.day)\n",
        "    "
      ],
      "metadata": {
        "id": "0s6u_edlmolG",
        "colab": {
          "base_uri": "https://localhost:8080/"
        },
        "outputId": "48b917fc-4513-422c-e0a7-84110af08648"
      },
      "execution_count": null,
      "outputs": [
        {
          "output_type": "stream",
          "name": "stdout",
          "text": [
            "Hoy: 2023-06-10\n",
            "Año: 2023\n",
            "Mes: 6\n",
            "Día: 10\n"
          ]
        }
      ]
    },
    {
      "cell_type": "code",
      "source": [
        "from datetime import date\n",
        "\n",
        "my_date = date(2019, 11, 4)\n",
        "print(my_date)\n",
        "    "
      ],
      "metadata": {
        "id": "XtLLaymPmojE",
        "colab": {
          "base_uri": "https://localhost:8080/"
        },
        "outputId": "1649d32a-ef6a-4443-ac28-dfc4ce638c24"
      },
      "execution_count": null,
      "outputs": [
        {
          "output_type": "stream",
          "name": "stdout",
          "text": [
            "2019-11-04\n"
          ]
        }
      ]
    },
    {
      "cell_type": "code",
      "source": [
        "from datetime import date\n",
        "import time\n",
        "\n",
        "timestamp = time.time()\n",
        "print(\"Marca de tiempo:\", timestamp)\n",
        "\n",
        "d = date.fromtimestamp(timestamp)\n",
        "print(\"Fecha:\", d)\n",
        "    "
      ],
      "metadata": {
        "id": "Jm9hu053mod8"
      },
      "execution_count": null,
      "outputs": []
    },
    {
      "cell_type": "code",
      "source": [
        "from datetime import date\n",
        "\n",
        "d = date(1991, 2, 5)\n",
        "print(d)\n",
        "\n",
        "d = d.replace(year=1992, month=1, day=16)\n",
        "print(d)\n",
        "    "
      ],
      "metadata": {
        "id": "RGcWYossmobP",
        "colab": {
          "base_uri": "https://localhost:8080/"
        },
        "outputId": "4fd06701-6a6b-4489-f38b-16188b24f3cd"
      },
      "execution_count": null,
      "outputs": [
        {
          "output_type": "stream",
          "name": "stdout",
          "text": [
            "1991-02-05\n",
            "1992-01-16\n"
          ]
        }
      ]
    },
    {
      "cell_type": "code",
      "source": [
        "from datetime import date\n",
        "\n",
        "d = date(2019, 11, 4)\n",
        "print(d.weekday())\n",
        "    "
      ],
      "metadata": {
        "colab": {
          "base_uri": "https://localhost:8080/"
        },
        "id": "4e65zXZfU1BY",
        "outputId": "513b3a51-20a9-4499-89b1-8486c3b9a40b"
      },
      "execution_count": null,
      "outputs": [
        {
          "output_type": "stream",
          "name": "stdout",
          "text": [
            "0\n"
          ]
        }
      ]
    },
    {
      "cell_type": "code",
      "source": [
        "from datetime import date\n",
        "\n",
        "d = date(2023, 6, 10)\n",
        "print(d.weekday())\n",
        "    "
      ],
      "metadata": {
        "id": "ceKnnTn6moZT",
        "colab": {
          "base_uri": "https://localhost:8080/"
        },
        "outputId": "8c99add1-66c1-4677-fab9-fc839a2a87cc"
      },
      "execution_count": null,
      "outputs": [
        {
          "output_type": "stream",
          "name": "stdout",
          "text": [
            "5\n"
          ]
        }
      ]
    },
    {
      "cell_type": "code",
      "source": [
        "from datetime import date\n",
        " \n",
        "d = date(2019, 11, 4)\n",
        "print(d.isoweekday())"
      ],
      "metadata": {
        "id": "5oA2XLCNmoXG",
        "colab": {
          "base_uri": "https://localhost:8080/"
        },
        "outputId": "bc3dafe0-660c-44cc-d30c-07cd483faa11"
      },
      "execution_count": null,
      "outputs": [
        {
          "output_type": "stream",
          "name": "stdout",
          "text": [
            "1\n"
          ]
        }
      ]
    },
    {
      "cell_type": "code",
      "source": [
        "from datetime import time\n",
        "\n",
        "t = time(14, 53, 20, 1)\n",
        "\n",
        "print(\"Tiempo:\", t)\n",
        "print(\"Hora:\", t.hour)\n",
        "print(\"Minutos:\", t.minute)\n",
        "print(\"Segundos:\", t.second)\n",
        "print(\"Microsegundo:\", t.microsecond)\n",
        "    "
      ],
      "metadata": {
        "id": "n2fDm-nZmoVN",
        "colab": {
          "base_uri": "https://localhost:8080/"
        },
        "outputId": "f465f97b-9607-4199-dd95-6b367efce04f"
      },
      "execution_count": null,
      "outputs": [
        {
          "output_type": "stream",
          "name": "stdout",
          "text": [
            "Tiempo: 14:53:20.000001\n",
            "Hora: 14\n",
            "Minutos: 53\n",
            "Segundos: 20\n",
            "Microsegundo: 1\n"
          ]
        }
      ]
    },
    {
      "cell_type": "code",
      "source": [
        "import time\n",
        "\n",
        "class Student:\n",
        "    def take_nap(self, seconds):\n",
        "        print(\"Estoy muy cansado. Tengo que tomar una siesta. Hasta luego.\")\n",
        "        time.sleep(seconds)\n",
        "        print(\"¡Dormí bien! ¡Me siento genial!\")\n",
        "\n",
        "student = Student()\n",
        "student.take_nap(10)\n",
        "    "
      ],
      "metadata": {
        "id": "NU4Y4gewmoTM",
        "colab": {
          "base_uri": "https://localhost:8080/"
        },
        "outputId": "73b8d004-b4d9-43b5-e9af-a1c6c0875cb0"
      },
      "execution_count": null,
      "outputs": [
        {
          "output_type": "stream",
          "name": "stdout",
          "text": [
            "Estoy muy cansado. Tengo que tomar una siesta. Hasta luego.\n",
            "¡Dormí bien! ¡Me siento genial!\n"
          ]
        }
      ]
    },
    {
      "cell_type": "code",
      "source": [
        "import time\n",
        "\n",
        "timestamp = 1572879180\n",
        "print(time.ctime(timestamp))\n",
        "    "
      ],
      "metadata": {
        "id": "c0l8sUNZmoRX",
        "colab": {
          "base_uri": "https://localhost:8080/"
        },
        "outputId": "852ba36f-ac74-43af-f153-d29c93a2865f"
      },
      "execution_count": null,
      "outputs": [
        {
          "output_type": "stream",
          "name": "stdout",
          "text": [
            "Mon Nov  4 14:53:00 2019\n"
          ]
        }
      ]
    },
    {
      "cell_type": "code",
      "source": [
        "import time\n",
        "print(time.ctime())\n",
        " "
      ],
      "metadata": {
        "id": "ZpVweUMKmoPk",
        "colab": {
          "base_uri": "https://localhost:8080/"
        },
        "outputId": "f35c1975-92b3-4891-8c3f-619178c1a424"
      },
      "execution_count": null,
      "outputs": [
        {
          "output_type": "stream",
          "name": "stdout",
          "text": [
            "Sat Jun 10 09:15:38 2023\n"
          ]
        }
      ]
    },
    {
      "cell_type": "code",
      "source": [
        "time.struct_time:\n",
        "    tm_year   # Especifica el año.\n",
        "    tm_mon    # Especifica el mes (valor de 1 a 12)\n",
        "    tm_mday   # Especifica el día del mes (value from 1 to 31)\n",
        "    tm_hour   # Especifica la hora (valor de 0 a 23)\n",
        "    tm_min    # Especifica el minuto (valor de 0 a 59)\n",
        "    tm_sec    # Especifica el segundo (valor de 0 a 61)\n",
        "    tm_wday    # Especifica el día de la semana (valor de 0 a 6)\n",
        "    tm_yday   # Especifica el día del año (valor de 1 a 366)\n",
        "    tm_isdst  # Especifica si se aplica el horario de verano (1: sí, 0: no, -1: no se sabe)\n",
        "    tm_zone   # Especifica el nombre de la zona horaria (valor en forma abreviada)\n",
        "    tm_gmtoff # Especifica el desplazamiento al este del UTC (valor en segundos)"
      ],
      "metadata": {
        "id": "KVvCTt3cmoNW"
      },
      "execution_count": null,
      "outputs": []
    },
    {
      "cell_type": "code",
      "source": [
        "import time\n",
        "\n",
        "timestamp = 1572879180\n",
        "print(time.gmtime(timestamp))\n",
        "print(time.localtime(timestamp))\n",
        "    "
      ],
      "metadata": {
        "id": "DiMMqHWvmoLi",
        "colab": {
          "base_uri": "https://localhost:8080/"
        },
        "outputId": "d65d3bbc-874a-4a9c-ed3b-326d8484e259"
      },
      "execution_count": null,
      "outputs": [
        {
          "output_type": "stream",
          "name": "stdout",
          "text": [
            "time.struct_time(tm_year=2019, tm_mon=11, tm_mday=4, tm_hour=14, tm_min=53, tm_sec=0, tm_wday=0, tm_yday=308, tm_isdst=0)\n",
            "time.struct_time(tm_year=2019, tm_mon=11, tm_mday=4, tm_hour=14, tm_min=53, tm_sec=0, tm_wday=0, tm_yday=308, tm_isdst=0)\n"
          ]
        }
      ]
    },
    {
      "cell_type": "code",
      "source": [
        "import time\n",
        "\n",
        "timestamp = 1572879180\n",
        "st = time.gmtime(timestamp)\n",
        "\n",
        "print(time.asctime(st))\n",
        "print(time.mktime((2019, 11, 4, 14, 53, 0, 0, 308, 0)))\n",
        "    "
      ],
      "metadata": {
        "id": "Vp6tH8n7moHO",
        "colab": {
          "base_uri": "https://localhost:8080/"
        },
        "outputId": "286aa03c-366a-4340-baf4-2ca7ef80c3a2"
      },
      "execution_count": null,
      "outputs": [
        {
          "output_type": "stream",
          "name": "stdout",
          "text": [
            "Mon Nov  4 14:53:00 2019\n",
            "1572879180.0\n"
          ]
        }
      ]
    },
    {
      "cell_type": "code",
      "source": [
        "from datetime import datetime\n",
        "\n",
        "print(\"hoy:\", datetime.today())\n",
        "print(\"ahora:\", datetime.now())\n",
        "print(\"utc_ahora:\", datetime.utcnow())"
      ],
      "metadata": {
        "id": "U3UvoHA4breO"
      },
      "execution_count": null,
      "outputs": []
    },
    {
      "cell_type": "code",
      "source": [
        "from datetime import datetime\n",
        "\n",
        "dt = datetime(2020, 10, 4, 14, 55)\n",
        "print(\"Timestamp:\", dt.timestamp())\n",
        "    "
      ],
      "metadata": {
        "id": "bCgCLm22moDI",
        "colab": {
          "base_uri": "https://localhost:8080/"
        },
        "outputId": "ab5893a5-0b99-401d-a473-ed83d525b6c3"
      },
      "execution_count": null,
      "outputs": [
        {
          "output_type": "stream",
          "name": "stdout",
          "text": [
            "Timestamp: 1601823300.0\n"
          ]
        }
      ]
    },
    {
      "cell_type": "code",
      "source": [
        "from datetime import date\n",
        "\n",
        "d = date(2020, 1, 4)\n",
        "print(d.strftime('%Y/%m/%d'))\n",
        "    "
      ],
      "metadata": {
        "id": "9YK_tAzBmoAX",
        "colab": {
          "base_uri": "https://localhost:8080/"
        },
        "outputId": "1be56e81-5a57-44bf-a3b7-1f40ccdb8cc4"
      },
      "execution_count": null,
      "outputs": [
        {
          "output_type": "stream",
          "name": "stdout",
          "text": [
            "2020/01/04\n"
          ]
        }
      ]
    },
    {
      "cell_type": "code",
      "source": [
        "from datetime import time\n",
        "from datetime import datetime\n",
        "\n",
        "t = time(14, 53)\n",
        "print(t.strftime(\"%H:%M:%S\"))\n",
        "\n",
        "dt = datetime(2020, 11, 4, 14, 53)\n",
        "print(dt.strftime(\"%y/%B/%d %H:%M:%S\"))\n",
        "    "
      ],
      "metadata": {
        "id": "MvlID80jmn-S",
        "colab": {
          "base_uri": "https://localhost:8080/"
        },
        "outputId": "b0721d10-9853-474d-c92c-623413888f37"
      },
      "execution_count": null,
      "outputs": [
        {
          "output_type": "stream",
          "name": "stdout",
          "text": [
            "14:53:00\n",
            "20/November/04 14:53:00\n"
          ]
        }
      ]
    },
    {
      "cell_type": "code",
      "source": [
        "import time\n",
        "\n",
        "timestamp = 1572879180\n",
        "st = time.gmtime(timestamp)\n",
        "\n",
        "print(time.strftime(\"%Y/%m/%d %H:%M:%S\", st))\n",
        "print(time.strftime(\"%Y/%m/%d %H:%M:%S\"))\n",
        "    "
      ],
      "metadata": {
        "id": "RtOOOJr7dvZO"
      },
      "execution_count": null,
      "outputs": []
    },
    {
      "cell_type": "code",
      "source": [
        "from datetime import datetime\n",
        "print(datetime.strptime(\"2019/11/04 14:53:00\", \"%Y/%m/%d %H:%M:%S\"))\n",
        "    "
      ],
      "metadata": {
        "colab": {
          "base_uri": "https://localhost:8080/"
        },
        "id": "IjwtGPkCdvWv",
        "outputId": "0a3380ce-f498-40a9-d55f-b432945a0030"
      },
      "execution_count": null,
      "outputs": [
        {
          "output_type": "stream",
          "name": "stdout",
          "text": [
            "2019-11-04 14:53:00\n"
          ]
        }
      ]
    },
    {
      "cell_type": "code",
      "source": [
        "import time\n",
        "print(time.strptime(\"2019/11/04 14:53:00\", \"%Y/%m/%d %H:%M:%S\"))"
      ],
      "metadata": {
        "colab": {
          "base_uri": "https://localhost:8080/"
        },
        "id": "BtCNUNVbdvUO",
        "outputId": "98858266-0afc-4596-8a08-5c1f4fd900d5"
      },
      "execution_count": null,
      "outputs": [
        {
          "output_type": "stream",
          "name": "stdout",
          "text": [
            "time.struct_time(tm_year=2019, tm_mon=11, tm_mday=4, tm_hour=14, tm_min=53, tm_sec=0, tm_wday=0, tm_yday=308, tm_isdst=-1)\n"
          ]
        }
      ]
    },
    {
      "cell_type": "code",
      "source": [
        "from datetime import date\n",
        "from datetime import datetime\n",
        "\n",
        "d1 = date(2020, 11, 4)\n",
        "d2 = date(2019, 11, 4)\n",
        "\n",
        "print(d1 - d2)\n",
        "\n",
        "dt1 = datetime(2020, 11, 4, 0, 0, 0)\n",
        "dt2 = datetime(2019, 11, 4, 14, 53, 0)\n",
        "\n",
        "print(dt1 - dt2)\n",
        "    "
      ],
      "metadata": {
        "colab": {
          "base_uri": "https://localhost:8080/"
        },
        "id": "rRmFR3X-dvRv",
        "outputId": "6299a903-cb22-4409-afb2-f7e3573d72f0"
      },
      "execution_count": null,
      "outputs": [
        {
          "output_type": "stream",
          "name": "stdout",
          "text": [
            "366 days, 0:00:00\n",
            "365 days, 9:07:00\n"
          ]
        }
      ]
    },
    {
      "cell_type": "code",
      "source": [
        "from datetime import timedelta\n",
        "\n",
        "delta = timedelta(weeks=2, days=2, hours=3)\n",
        "print(delta)\n",
        "    "
      ],
      "metadata": {
        "colab": {
          "base_uri": "https://localhost:8080/"
        },
        "id": "KC1_iTu8dvPW",
        "outputId": "0cfa697a-f6c8-42ac-fc8d-9c7458a220c5"
      },
      "execution_count": null,
      "outputs": [
        {
          "output_type": "stream",
          "name": "stdout",
          "text": [
            "16 days, 3:00:00\n"
          ]
        }
      ]
    },
    {
      "cell_type": "code",
      "source": [
        "from datetime import timedelta\n",
        " \n",
        "delta = timedelta(weeks=2, days=2, hours=3)\n",
        "print(\"Días:\", delta.days)\n",
        "print(\"Segundos:\", delta.seconds)\n",
        "print(\"Microsegundos:\", delta.microseconds)\n",
        " \n"
      ],
      "metadata": {
        "colab": {
          "base_uri": "https://localhost:8080/"
        },
        "id": "fWhQh0TZdvMq",
        "outputId": "e72c9d22-4617-4931-e5e8-e3a1bea4844e"
      },
      "execution_count": null,
      "outputs": [
        {
          "output_type": "stream",
          "name": "stdout",
          "text": [
            "Días: 16\n",
            "Segundos: 10800\n",
            "Microsegundos: 0\n"
          ]
        }
      ]
    },
    {
      "cell_type": "code",
      "source": [
        "from datetime import timedelta\n",
        "from datetime import date\n",
        "from datetime import datetime\n",
        "\n",
        "delta = timedelta(weeks=2, days=2, hours=2)\n",
        "print(delta)\n",
        "\n",
        "delta2 = delta * 2\n",
        "print(delta2)\n",
        "\n",
        "d = date(2019, 10, 4) + delta2\n",
        "print(d)\n",
        "\n",
        "dt = datetime(2019, 10, 4, 14, 53) + delta2\n",
        "print(dt)"
      ],
      "metadata": {
        "colab": {
          "base_uri": "https://localhost:8080/"
        },
        "id": "yunt9urVdvJ8",
        "outputId": "c41eb364-e0ac-41a9-a772-e52b87ec99ad"
      },
      "execution_count": null,
      "outputs": [
        {
          "output_type": "stream",
          "name": "stdout",
          "text": [
            "16 days, 2:00:00\n",
            "32 days, 4:00:00\n",
            "2019-11-05\n",
            "2019-11-05 18:53:00\n"
          ]
        }
      ]
    },
    {
      "cell_type": "markdown",
      "source": [
        "# 4.5.20   LAB   Los módulos datetime y time"
      ],
      "metadata": {
        "id": "5H3DJ5qLkj52"
      }
    },
    {
      "cell_type": "code",
      "source": [
        "from datetime import datetime\n",
        "\n",
        "my_date = datetime(2020, 11, 4, 14, 53)\n",
        "\n",
        "print(my_date.strftime(\"%Y/%m/%d %H:%M:%S\"))\n",
        "print(my_date.strftime(\"%y/%B/%d %H:%M:%S %p\"))\n",
        "print(my_date.strftime(\"%a, %Y %b %d\"))\n",
        "print(my_date.strftime(\"%A, %Y %B %d\"))\n",
        "print(my_date.strftime(\"Día de la semana: %w\"))\n",
        "print(my_date.strftime(\"Día del año: %j\"))\n",
        "print(my_date.strftime(\"Número de semana en el año: %W\"))\n",
        "    "
      ],
      "metadata": {
        "colab": {
          "base_uri": "https://localhost:8080/"
        },
        "id": "gOM6ZBF8kjhe",
        "outputId": "f0cace64-d4d1-486b-e58c-dac17b69a640"
      },
      "execution_count": null,
      "outputs": [
        {
          "output_type": "stream",
          "name": "stdout",
          "text": [
            "2020/11/04 14:53:00\n",
            "20/November/04 14:53:00 PM\n",
            "Wed, 2020 Nov 04\n",
            "Wednesday, 2020 November 04\n",
            "Día de la semana: 3\n",
            "Día del año: 309\n",
            "Número de semana en el año: 44\n"
          ]
        }
      ]
    },
    {
      "cell_type": "markdown",
      "source": [
        "4.5.21 RESUMEN DE SECCIÓN\n",
        "\n",
        "1. Para crear un objeto date, debes pasar los argumentos de año, mes y día de la siguiente manera:"
      ],
      "metadata": {
        "id": "0BK_LfHAl7N4"
      }
    },
    {
      "cell_type": "code",
      "source": [
        "from datetime import date\n",
        " \n",
        "my_date = date(2020, 9, 29)\n",
        "print(\"Año:\", my_date.year) # Año: 2020\n",
        "print(\"Mes:\", my_date.month) # Mes: 9\n",
        "print(\"Día:\", my_date.day) # Día: 29\n",
        " "
      ],
      "metadata": {
        "colab": {
          "base_uri": "https://localhost:8080/"
        },
        "id": "IS0XZ1tBdvHZ",
        "outputId": "28ee5e25-51d1-4ac2-d1c3-9049d055768f"
      },
      "execution_count": null,
      "outputs": [
        {
          "output_type": "stream",
          "name": "stdout",
          "text": [
            "Año: 2020\n",
            "Mes: 9\n",
            "Día: 29\n"
          ]
        }
      ]
    },
    {
      "cell_type": "markdown",
      "source": [
        "El objeto date tiene tres atributos (de solo lectura): año, mes y día.\n",
        "\n",
        "\n",
        "2. El método today devuelve un objeto de fecha que representa la fecha local actual:"
      ],
      "metadata": {
        "id": "z2N-ikaql7KW"
      }
    },
    {
      "cell_type": "code",
      "source": [
        "from datetime import date\n",
        "print(\"Hoy:\", date.today()) # Muestra: Hoy: 2020-09-29\n",
        " "
      ],
      "metadata": {
        "id": "u2ysFO_bdvCE"
      },
      "execution_count": null,
      "outputs": []
    },
    {
      "cell_type": "markdown",
      "source": [
        "3. En Unix, la marca de tiempo expresa el número de segundos desde el 1 de Enero de 1970 a las 00:00:00 (UTC). Esta fecha se llama la \"época de Unix\", porque ahí comenzó el conteo del tiempo en los sistemas Unix. La marca de tiempo es en realidad la diferencia entre una fecha en particular (incluida la hora) y el 1 de Enero de 1970, 00:00:00 (UTC), expresada en segundos. Para crear un objeto de fecha a partir de una marca de tiempo, debemos pasar una marca de tiempo Unix al método fromtimestamp:"
      ],
      "metadata": {
        "id": "ogBMU7sSmWpZ"
      }
    },
    {
      "cell_type": "code",
      "source": [
        "from datetime import date\n",
        "import time\n",
        " \n",
        "timestamp = time.time()\n",
        "d = date.fromtimestamp(timestamp)\n",
        " "
      ],
      "metadata": {
        "id": "kVQGAOgKdu_U"
      },
      "execution_count": null,
      "outputs": []
    },
    {
      "cell_type": "markdown",
      "source": [
        "Nota: La función time devuelve el número de segundos desde el 1 de Enero de 1970 hasta el momento actual en forma de número punto flotante.\n",
        "\n",
        "\n",
        "4. El constructor de la clase time acepta seís argumentos (hour, minute, second, microsecond, tzinfo, y fold). Cada uno de estos argumentos es opcional."
      ],
      "metadata": {
        "id": "t0RITnNdmhWD"
      }
    },
    {
      "cell_type": "code",
      "source": [
        "from datetime import time\n",
        " \n",
        "t = time(13, 22, 20)\n",
        " \n",
        "print(\"Hora:\", t.hour) # Hora: 13\n",
        "print(\"Minuto:\", t.minute) # Minuto: 22\n",
        "print(\"Segundo:\", t.second) # Segundo: 20"
      ],
      "metadata": {
        "colab": {
          "base_uri": "https://localhost:8080/"
        },
        "id": "sy_0HXn4du87",
        "outputId": "f634c7aa-c6f9-48cc-cdb0-a3c8bf30dfe9"
      },
      "execution_count": null,
      "outputs": [
        {
          "output_type": "stream",
          "name": "stdout",
          "text": [
            "Hora: 13\n",
            "Minuto: 22\n",
            "Segundo: 20\n"
          ]
        }
      ]
    },
    {
      "cell_type": "markdown",
      "source": [
        "5. El módulo time contiene la función sleep, que suspende la ejecución del programa durante un número determinado de segundos, por ejemplo:"
      ],
      "metadata": {
        "id": "Rwdd81mAmuSL"
      }
    },
    {
      "cell_type": "code",
      "source": [
        "import time\n",
        " \n",
        "time.sleep(10)\n",
        "print(\"¡Hola Mundo!\") # Este texto se mostrará después de 10 segundos.\n",
        " "
      ],
      "metadata": {
        "colab": {
          "base_uri": "https://localhost:8080/"
        },
        "id": "0vs4GH3Odu5X",
        "outputId": "54c1a9df-30bc-4495-f490-1a4eb157d7d9"
      },
      "execution_count": null,
      "outputs": [
        {
          "output_type": "stream",
          "name": "stdout",
          "text": [
            "¡Hola Mundo!\n"
          ]
        }
      ]
    },
    {
      "cell_type": "markdown",
      "source": [
        "6. En el módulo datetime, la fecha y la hora se pueden representar como objetos separados o como un solo objeto. La clase que combina fecha y hora se llama datetime. Todos los argumentos pasados al constructor van a atributos de clase de solo lectura. Son year, month, day, hour, minute, second, microsecond, tzinfo, y fold:"
      ],
      "metadata": {
        "id": "ZFJetZcQm9LC"
      }
    },
    {
      "cell_type": "code",
      "source": [
        "from datetime import datetime\n",
        " \n",
        "dt = datetime(2020, 9, 29, 13, 51)\n",
        "print(\"Fecha y Hora:\", dt) # Muestra: Fecha y Hora: 2020-09-29 13:51:00\n",
        " "
      ],
      "metadata": {
        "colab": {
          "base_uri": "https://localhost:8080/"
        },
        "id": "DJ07PJbmdu1G",
        "outputId": "1cafc3c2-f33d-4c37-8ecc-9dc0c3046570"
      },
      "execution_count": null,
      "outputs": [
        {
          "output_type": "stream",
          "name": "stdout",
          "text": [
            "Fecha y Hora: 2020-09-29 13:51:00\n"
          ]
        }
      ]
    },
    {
      "cell_type": "markdown",
      "source": [
        "7. El método strftime toma solo un argumento en forma de cadena que especifica un formato que puede constar de directivas. Una directiva es una cadena que consta del carácter % (porcentaje) y una letra minúscula o mayúscula. A continuación se muestran algunas directivas útiles:\n",
        "\n",
        "* %Y: devuelve el año con el siglo como número decimal.\n",
        "* %m: devuelve el mes como un número decimal con relleno de ceros.\n",
        "* %d: devuelve el día como un número decimal con relleno de ceros.\n",
        "* %H: devuelve la hora como un número decimal con relleno de ceros.\n",
        "* %M: devuelve el minuto como un número decimal con relleno de ceros.\n",
        "* %S: devuelve el segundo como un número decimal con relleno de ceros.\n",
        "Ejemplo:\n"
      ],
      "metadata": {
        "id": "mEun0AlEndZk"
      }
    },
    {
      "cell_type": "code",
      "source": [
        "from datetime import date\n",
        " \n",
        "d = date(2020, 9, 29)\n",
        "print(d.strftime('%Y/%m/%d')) # Muestra: 2020/09/29"
      ],
      "metadata": {
        "id": "IM8aeQ_Rduye"
      },
      "execution_count": null,
      "outputs": []
    },
    {
      "cell_type": "markdown",
      "source": [
        "8. Es posible realizar cálculos en los objetos date y datetime, por ejemplo:"
      ],
      "metadata": {
        "id": "Ci9WM1VvntmP"
      }
    },
    {
      "cell_type": "code",
      "source": [
        "from datetime import date\n",
        " \n",
        "d1 = date(2020, 11, 4)\n",
        "d2 = date(2019, 11, 4)\n",
        " \n",
        "d = d1 - d2\n",
        "print(d) # Muestra: 366 days, 0:00:00.\n",
        "print(d * 2) # Muestra: 732 days, 0:00:00."
      ],
      "metadata": {
        "colab": {
          "base_uri": "https://localhost:8080/"
        },
        "id": "t22HVjJlduwA",
        "outputId": "1dfb29ec-2e69-40a0-a061-5b1acfb3849d"
      },
      "execution_count": null,
      "outputs": [
        {
          "output_type": "stream",
          "name": "stdout",
          "text": [
            "366 days, 0:00:00\n",
            "732 days, 0:00:00\n"
          ]
        }
      ]
    },
    {
      "cell_type": "markdown",
      "source": [
        "\n",
        "El resultado de la resta se devuelve como un objeto timedelta que expresa la diferencia en días entre las dos fechas en el ejemplo anterior.\n",
        "\n",
        "Toma en cuenta que también se muestra la diferencia en horas, minutos y segundos. El objeto timedelta se puede utilizar para realizar más cálculos (por ejemplo, puedes multiplicarlo por 2).\n",
        "\n"
      ],
      "metadata": {
        "id": "NqkDDKRln-n1"
      }
    },
    {
      "cell_type": "code",
      "source": [],
      "metadata": {
        "id": "E3hP4hAgdutm"
      },
      "execution_count": null,
      "outputs": []
    },
    {
      "cell_type": "code",
      "source": [
        "from datetime import time\n",
        " \n",
        "t = time(14, 53)\n",
        "print(t.strftime(\"%H:%M:%S\"))"
      ],
      "metadata": {
        "colab": {
          "base_uri": "https://localhost:8080/"
        },
        "id": "E8PTOYjLdurI",
        "outputId": "1675db00-62d1-4e1f-e8a5-2d3c7693f2d2"
      },
      "execution_count": null,
      "outputs": [
        {
          "output_type": "stream",
          "name": "stdout",
          "text": [
            "14:53:00\n"
          ]
        }
      ]
    },
    {
      "cell_type": "code",
      "source": [
        "from datetime import time\n",
        " \n",
        "t = time(14, 53)\n",
        "print(t.strftime(\"%H:%M:%S\"))"
      ],
      "metadata": {
        "colab": {
          "base_uri": "https://localhost:8080/"
        },
        "id": "Dr9A5wIfduoW",
        "outputId": "144e4441-9f84-4724-dc27-c2656e46a1ca"
      },
      "execution_count": null,
      "outputs": [
        {
          "output_type": "stream",
          "name": "stdout",
          "text": [
            "14:53:00\n"
          ]
        }
      ]
    },
    {
      "cell_type": "code",
      "source": [
        "from datetime import datetime\n",
        " \n",
        "dt1 = datetime(2020, 9, 29, 14, 41, 0)\n",
        "dt2 = datetime(2020, 9, 28, 14, 41, 0)\n",
        " \n",
        "print(dt1 - dt2)\n",
        " "
      ],
      "metadata": {
        "colab": {
          "base_uri": "https://localhost:8080/"
        },
        "id": "DcFPNvuxdul_",
        "outputId": "159d8bc4-9d38-4e6b-f0d2-13de96d42d14"
      },
      "execution_count": null,
      "outputs": [
        {
          "output_type": "stream",
          "name": "stdout",
          "text": [
            "1 day, 0:00:00\n"
          ]
        }
      ]
    },
    {
      "cell_type": "markdown",
      "source": [
        "# 4.6 Sección 6 – El módulo calendar - trabajando con funciones relacionadas con el calendario"
      ],
      "metadata": {
        "id": "1my4fQ_HoyFd"
      }
    },
    {
      "cell_type": "code",
      "source": [
        "import calendar\n",
        "print(calendar.calendar(2020))\n",
        "    "
      ],
      "metadata": {
        "colab": {
          "base_uri": "https://localhost:8080/"
        },
        "id": "Y4sowsMZdujX",
        "outputId": "bd7b54eb-31d1-4c4e-ea51-d9ee0cd77494"
      },
      "execution_count": null,
      "outputs": [
        {
          "output_type": "stream",
          "name": "stdout",
          "text": [
            "                                  2020\n",
            "\n",
            "      January                   February                   March\n",
            "Mo Tu We Th Fr Sa Su      Mo Tu We Th Fr Sa Su      Mo Tu We Th Fr Sa Su\n",
            "       1  2  3  4  5                      1  2                         1\n",
            " 6  7  8  9 10 11 12       3  4  5  6  7  8  9       2  3  4  5  6  7  8\n",
            "13 14 15 16 17 18 19      10 11 12 13 14 15 16       9 10 11 12 13 14 15\n",
            "20 21 22 23 24 25 26      17 18 19 20 21 22 23      16 17 18 19 20 21 22\n",
            "27 28 29 30 31            24 25 26 27 28 29         23 24 25 26 27 28 29\n",
            "                                                    30 31\n",
            "\n",
            "       April                      May                       June\n",
            "Mo Tu We Th Fr Sa Su      Mo Tu We Th Fr Sa Su      Mo Tu We Th Fr Sa Su\n",
            "       1  2  3  4  5                   1  2  3       1  2  3  4  5  6  7\n",
            " 6  7  8  9 10 11 12       4  5  6  7  8  9 10       8  9 10 11 12 13 14\n",
            "13 14 15 16 17 18 19      11 12 13 14 15 16 17      15 16 17 18 19 20 21\n",
            "20 21 22 23 24 25 26      18 19 20 21 22 23 24      22 23 24 25 26 27 28\n",
            "27 28 29 30               25 26 27 28 29 30 31      29 30\n",
            "\n",
            "        July                     August                  September\n",
            "Mo Tu We Th Fr Sa Su      Mo Tu We Th Fr Sa Su      Mo Tu We Th Fr Sa Su\n",
            "       1  2  3  4  5                      1  2          1  2  3  4  5  6\n",
            " 6  7  8  9 10 11 12       3  4  5  6  7  8  9       7  8  9 10 11 12 13\n",
            "13 14 15 16 17 18 19      10 11 12 13 14 15 16      14 15 16 17 18 19 20\n",
            "20 21 22 23 24 25 26      17 18 19 20 21 22 23      21 22 23 24 25 26 27\n",
            "27 28 29 30 31            24 25 26 27 28 29 30      28 29 30\n",
            "                          31\n",
            "\n",
            "      October                   November                  December\n",
            "Mo Tu We Th Fr Sa Su      Mo Tu We Th Fr Sa Su      Mo Tu We Th Fr Sa Su\n",
            "          1  2  3  4                         1          1  2  3  4  5  6\n",
            " 5  6  7  8  9 10 11       2  3  4  5  6  7  8       7  8  9 10 11 12 13\n",
            "12 13 14 15 16 17 18       9 10 11 12 13 14 15      14 15 16 17 18 19 20\n",
            "19 20 21 22 23 24 25      16 17 18 19 20 21 22      21 22 23 24 25 26 27\n",
            "26 27 28 29 30 31         23 24 25 26 27 28 29      28 29 30 31\n",
            "                          30\n",
            "\n"
          ]
        }
      ]
    },
    {
      "cell_type": "code",
      "source": [
        "import calendar\n",
        "calendar.prcal(2020)"
      ],
      "metadata": {
        "colab": {
          "base_uri": "https://localhost:8080/"
        },
        "id": "e81Yp-8_dugx",
        "outputId": "6ecf0188-4da7-4759-ab14-ca0ea6804175"
      },
      "execution_count": null,
      "outputs": [
        {
          "output_type": "stream",
          "name": "stdout",
          "text": [
            "                                  2020\n",
            "\n",
            "      January                   February                   March\n",
            "Mo Tu We Th Fr Sa Su      Mo Tu We Th Fr Sa Su      Mo Tu We Th Fr Sa Su\n",
            "       1  2  3  4  5                      1  2                         1\n",
            " 6  7  8  9 10 11 12       3  4  5  6  7  8  9       2  3  4  5  6  7  8\n",
            "13 14 15 16 17 18 19      10 11 12 13 14 15 16       9 10 11 12 13 14 15\n",
            "20 21 22 23 24 25 26      17 18 19 20 21 22 23      16 17 18 19 20 21 22\n",
            "27 28 29 30 31            24 25 26 27 28 29         23 24 25 26 27 28 29\n",
            "                                                    30 31\n",
            "\n",
            "       April                      May                       June\n",
            "Mo Tu We Th Fr Sa Su      Mo Tu We Th Fr Sa Su      Mo Tu We Th Fr Sa Su\n",
            "       1  2  3  4  5                   1  2  3       1  2  3  4  5  6  7\n",
            " 6  7  8  9 10 11 12       4  5  6  7  8  9 10       8  9 10 11 12 13 14\n",
            "13 14 15 16 17 18 19      11 12 13 14 15 16 17      15 16 17 18 19 20 21\n",
            "20 21 22 23 24 25 26      18 19 20 21 22 23 24      22 23 24 25 26 27 28\n",
            "27 28 29 30               25 26 27 28 29 30 31      29 30\n",
            "\n",
            "        July                     August                  September\n",
            "Mo Tu We Th Fr Sa Su      Mo Tu We Th Fr Sa Su      Mo Tu We Th Fr Sa Su\n",
            "       1  2  3  4  5                      1  2          1  2  3  4  5  6\n",
            " 6  7  8  9 10 11 12       3  4  5  6  7  8  9       7  8  9 10 11 12 13\n",
            "13 14 15 16 17 18 19      10 11 12 13 14 15 16      14 15 16 17 18 19 20\n",
            "20 21 22 23 24 25 26      17 18 19 20 21 22 23      21 22 23 24 25 26 27\n",
            "27 28 29 30 31            24 25 26 27 28 29 30      28 29 30\n",
            "                          31\n",
            "\n",
            "      October                   November                  December\n",
            "Mo Tu We Th Fr Sa Su      Mo Tu We Th Fr Sa Su      Mo Tu We Th Fr Sa Su\n",
            "          1  2  3  4                         1          1  2  3  4  5  6\n",
            " 5  6  7  8  9 10 11       2  3  4  5  6  7  8       7  8  9 10 11 12 13\n",
            "12 13 14 15 16 17 18       9 10 11 12 13 14 15      14 15 16 17 18 19 20\n",
            "19 20 21 22 23 24 25      16 17 18 19 20 21 22      21 22 23 24 25 26 27\n",
            "26 27 28 29 30 31         23 24 25 26 27 28 29      28 29 30 31\n",
            "                          30\n"
          ]
        }
      ]
    },
    {
      "cell_type": "code",
      "source": [
        "import calendar\n",
        "print(calendar.month(2020, 11))\n",
        "    "
      ],
      "metadata": {
        "colab": {
          "base_uri": "https://localhost:8080/"
        },
        "id": "E_jTrSyNdueK",
        "outputId": "c3fe29ea-17d3-4db1-8460-d5a8b8c0d234"
      },
      "execution_count": null,
      "outputs": [
        {
          "output_type": "stream",
          "name": "stdout",
          "text": [
            "   November 2020\n",
            "Mo Tu We Th Fr Sa Su\n",
            "                   1\n",
            " 2  3  4  5  6  7  8\n",
            " 9 10 11 12 13 14 15\n",
            "16 17 18 19 20 21 22\n",
            "23 24 25 26 27 28 29\n",
            "30\n",
            "\n"
          ]
        }
      ]
    },
    {
      "cell_type": "code",
      "source": [
        "import calendar\n",
        "\n",
        "calendar.setfirstweekday(calendar.SUNDAY)\n",
        "calendar.prmonth(2020, 12)\n",
        "    "
      ],
      "metadata": {
        "colab": {
          "base_uri": "https://localhost:8080/"
        },
        "id": "hT8h8oyXdubt",
        "outputId": "8eba2511-a109-4a52-b00a-7828c32eb6f6"
      },
      "execution_count": null,
      "outputs": [
        {
          "output_type": "stream",
          "name": "stdout",
          "text": [
            "   December 2020\n",
            "Su Mo Tu We Th Fr Sa\n",
            "       1  2  3  4  5\n",
            " 6  7  8  9 10 11 12\n",
            "13 14 15 16 17 18 19\n",
            "20 21 22 23 24 25 26\n",
            "27 28 29 30 31\n"
          ]
        }
      ]
    },
    {
      "cell_type": "code",
      "source": [
        "import calendar\n",
        "print(calendar.weekday(2020, 12, 24))\n",
        "    "
      ],
      "metadata": {
        "colab": {
          "base_uri": "https://localhost:8080/"
        },
        "id": "xBrtfDFwduZN",
        "outputId": "2819dfa1-9f95-42e6-866d-6246507ea289"
      },
      "execution_count": null,
      "outputs": [
        {
          "output_type": "stream",
          "name": "stdout",
          "text": [
            "3\n"
          ]
        }
      ]
    },
    {
      "cell_type": "code",
      "source": [
        "import calendar\n",
        "print(calendar.weekheader(3))\n",
        "    "
      ],
      "metadata": {
        "colab": {
          "base_uri": "https://localhost:8080/"
        },
        "id": "u_NyTlNVduWl",
        "outputId": "d7d532ee-0402-48e6-a3f7-d5424882ce91"
      },
      "execution_count": 1,
      "outputs": [
        {
          "output_type": "stream",
          "name": "stdout",
          "text": [
            "Mon Tue Wed Thu Fri Sat Sun\n"
          ]
        }
      ]
    },
    {
      "cell_type": "code",
      "source": [
        "import calendar\n",
        "\n",
        "print(calendar.isleap(2020))\n",
        "print(calendar.leapdays(2010, 2021))  # Hasta 2021, pero sin incluirlo.\n",
        "    "
      ],
      "metadata": {
        "id": "01O42CExduUK",
        "colab": {
          "base_uri": "https://localhost:8080/"
        },
        "outputId": "a88f09b0-c46a-46fd-97b1-7470fd7861da"
      },
      "execution_count": 7,
      "outputs": [
        {
          "output_type": "stream",
          "name": "stdout",
          "text": [
            "True\n",
            "3\n"
          ]
        }
      ]
    },
    {
      "cell_type": "code",
      "source": [
        "import calendar  \n",
        "\n",
        "c = calendar.Calendar(calendar.SUNDAY)\n",
        "\n",
        "for weekday in c.iterweekdays():\n",
        "    print(weekday, end=\" \")\n",
        "    "
      ],
      "metadata": {
        "id": "FP8cqaRRduRx",
        "colab": {
          "base_uri": "https://localhost:8080/"
        },
        "outputId": "f9f91d95-590f-4694-ba79-36f1f8967681"
      },
      "execution_count": 8,
      "outputs": [
        {
          "output_type": "stream",
          "name": "stdout",
          "text": [
            "6 0 1 2 3 4 5 "
          ]
        }
      ]
    },
    {
      "cell_type": "code",
      "source": [
        "import calendar  \n",
        "\n",
        "c = calendar.Calendar()\n",
        "\n",
        "for date in c.itermonthdates(2019, 11):\n",
        "    print(date, end=\" \")\n",
        "    "
      ],
      "metadata": {
        "id": "u5QJQDekduPY",
        "colab": {
          "base_uri": "https://localhost:8080/"
        },
        "outputId": "ea2dc59c-f668-4efe-8328-4515b666acf4"
      },
      "execution_count": 9,
      "outputs": [
        {
          "output_type": "stream",
          "name": "stdout",
          "text": [
            "2019-10-28 2019-10-29 2019-10-30 2019-10-31 2019-11-01 2019-11-02 2019-11-03 2019-11-04 2019-11-05 2019-11-06 2019-11-07 2019-11-08 2019-11-09 2019-11-10 2019-11-11 2019-11-12 2019-11-13 2019-11-14 2019-11-15 2019-11-16 2019-11-17 2019-11-18 2019-11-19 2019-11-20 2019-11-21 2019-11-22 2019-11-23 2019-11-24 2019-11-25 2019-11-26 2019-11-27 2019-11-28 2019-11-29 2019-11-30 2019-12-01 "
          ]
        }
      ]
    },
    {
      "cell_type": "code",
      "source": [
        "import calendar  \n",
        "\n",
        "c = calendar.Calendar()\n",
        "\n",
        "for iter in c.itermonthdays(2019, 11):\n",
        "    print(iter, end=\" \")\n",
        "    "
      ],
      "metadata": {
        "id": "V-jlPbGKduNF",
        "colab": {
          "base_uri": "https://localhost:8080/"
        },
        "outputId": "081a3fde-2454-45a9-e718-daab94b5aee7"
      },
      "execution_count": 10,
      "outputs": [
        {
          "output_type": "stream",
          "name": "stdout",
          "text": [
            "0 0 0 0 1 2 3 4 5 6 7 8 9 10 11 12 13 14 15 16 17 18 19 20 21 22 23 24 25 26 27 28 29 30 0 "
          ]
        }
      ]
    },
    {
      "cell_type": "code",
      "source": [
        "import calendar  \n",
        "\n",
        "c = calendar.Calendar()\n",
        "\n",
        "for data in c.monthdays2calendar(2020, 12):\n",
        "    print(data)\n",
        "    "
      ],
      "metadata": {
        "id": "2tSMCtGhduKp",
        "colab": {
          "base_uri": "https://localhost:8080/"
        },
        "outputId": "8ed9ef30-1946-4f2f-934c-7218fae27e30"
      },
      "execution_count": 11,
      "outputs": [
        {
          "output_type": "stream",
          "name": "stdout",
          "text": [
            "[(0, 0), (1, 1), (2, 2), (3, 3), (4, 4), (5, 5), (6, 6)]\n",
            "[(7, 0), (8, 1), (9, 2), (10, 3), (11, 4), (12, 5), (13, 6)]\n",
            "[(14, 0), (15, 1), (16, 2), (17, 3), (18, 4), (19, 5), (20, 6)]\n",
            "[(21, 0), (22, 1), (23, 2), (24, 3), (25, 4), (26, 5), (27, 6)]\n",
            "[(28, 0), (29, 1), (30, 2), (31, 3), (0, 4), (0, 5), (0, 6)]\n"
          ]
        }
      ]
    },
    {
      "cell_type": "markdown",
      "source": [
        "# 4.6.13   LAB   El módulo calendar\n"
      ],
      "metadata": {
        "id": "jNsq5tLO2T9H"
      }
    },
    {
      "cell_type": "markdown",
      "source": [
        "Durante este curso, echamos un breve vistazo a la clase Calendar. Tu tarea ahora es ampliar su funcionalidad con un nuevo método llamado count_weekday_in_year, que toma un año y un día de la semana como parámetros, y luego devuelve el número de ocurrencias de un día de la semana específico en el año.\n",
        "\n",
        "Utiliza los siguientes consejos:\n",
        "Crea una clase llamada MyCalendar que se extiende de la clase Calendar.\n",
        "Crea el método count_weekday_in_year con los parámetros de year y weekday. El parámetro weekday debe tener un valor entre 0 y 6, donde 0 es el lunes y 6 es el domingo. El método debe devolver el número de días como un número entero.\n",
        "En tu implementación, usa el método monthdays2calendar de la clase Calendar.\n",
        "Los siguientes son resultados esperados de ejemplo:\n",
        "Argumentos de muestra\n",
        "\n",
        "year=2019, weekday=0\n",
        "Output\n",
        "\n",
        "Salida esperada\n",
        "52\n",
        "\n",
        "Output\n",
        "\n",
        "\n",
        "Argumentos de muestra\n",
        "\n",
        "year=2000, weekday=6\n",
        "\n",
        "Salida esperada\n",
        "\n",
        "53\n",
        "Output\n"
      ],
      "metadata": {
        "id": "qWuMwjEb3Tey"
      }
    },
    {
      "cell_type": "code",
      "source": [
        "import calendar\n",
        "\n",
        "\n",
        "class MyCalendar(calendar.Calendar):\n",
        "    def count_weekday_in_year(self, year, weekday):\n",
        "        current_month = 1\n",
        "        number_of_days = 0\n",
        "        while (current_month <= 12):\n",
        "            for data in self.monthdays2calendar(year, current_month):\n",
        "                if data[weekday][0] != 0:\n",
        "                    number_of_days = number_of_days + 1\n",
        "\n",
        "            current_month = current_month + 1\n",
        "        return number_of_days\n",
        "\n",
        "my_calendar = MyCalendar()\n",
        "number_of_days = my_calendar.count_weekday_in_year(2019, calendar.MONDAY)\n",
        "\n",
        "print(number_of_days)"
      ],
      "metadata": {
        "id": "jVEcZS1tduIK",
        "colab": {
          "base_uri": "https://localhost:8080/"
        },
        "outputId": "e9f49c0e-f674-4072-aa14-d5481abf1ccc"
      },
      "execution_count": 12,
      "outputs": [
        {
          "output_type": "stream",
          "name": "stdout",
          "text": [
            "52\n"
          ]
        }
      ]
    },
    {
      "cell_type": "code",
      "source": [
        "import calendar\n",
        "print(calendar.calendar(2020))"
      ],
      "metadata": {
        "id": "Og04wm8OduFt",
        "colab": {
          "base_uri": "https://localhost:8080/"
        },
        "outputId": "81c3cbb8-b653-4327-80a2-e6a7587ca972"
      },
      "execution_count": 13,
      "outputs": [
        {
          "output_type": "stream",
          "name": "stdout",
          "text": [
            "                                  2020\n",
            "\n",
            "      January                   February                   March\n",
            "Mo Tu We Th Fr Sa Su      Mo Tu We Th Fr Sa Su      Mo Tu We Th Fr Sa Su\n",
            "       1  2  3  4  5                      1  2                         1\n",
            " 6  7  8  9 10 11 12       3  4  5  6  7  8  9       2  3  4  5  6  7  8\n",
            "13 14 15 16 17 18 19      10 11 12 13 14 15 16       9 10 11 12 13 14 15\n",
            "20 21 22 23 24 25 26      17 18 19 20 21 22 23      16 17 18 19 20 21 22\n",
            "27 28 29 30 31            24 25 26 27 28 29         23 24 25 26 27 28 29\n",
            "                                                    30 31\n",
            "\n",
            "       April                      May                       June\n",
            "Mo Tu We Th Fr Sa Su      Mo Tu We Th Fr Sa Su      Mo Tu We Th Fr Sa Su\n",
            "       1  2  3  4  5                   1  2  3       1  2  3  4  5  6  7\n",
            " 6  7  8  9 10 11 12       4  5  6  7  8  9 10       8  9 10 11 12 13 14\n",
            "13 14 15 16 17 18 19      11 12 13 14 15 16 17      15 16 17 18 19 20 21\n",
            "20 21 22 23 24 25 26      18 19 20 21 22 23 24      22 23 24 25 26 27 28\n",
            "27 28 29 30               25 26 27 28 29 30 31      29 30\n",
            "\n",
            "        July                     August                  September\n",
            "Mo Tu We Th Fr Sa Su      Mo Tu We Th Fr Sa Su      Mo Tu We Th Fr Sa Su\n",
            "       1  2  3  4  5                      1  2          1  2  3  4  5  6\n",
            " 6  7  8  9 10 11 12       3  4  5  6  7  8  9       7  8  9 10 11 12 13\n",
            "13 14 15 16 17 18 19      10 11 12 13 14 15 16      14 15 16 17 18 19 20\n",
            "20 21 22 23 24 25 26      17 18 19 20 21 22 23      21 22 23 24 25 26 27\n",
            "27 28 29 30 31            24 25 26 27 28 29 30      28 29 30\n",
            "                          31\n",
            "\n",
            "      October                   November                  December\n",
            "Mo Tu We Th Fr Sa Su      Mo Tu We Th Fr Sa Su      Mo Tu We Th Fr Sa Su\n",
            "          1  2  3  4                         1          1  2  3  4  5  6\n",
            " 5  6  7  8  9 10 11       2  3  4  5  6  7  8       7  8  9 10 11 12 13\n",
            "12 13 14 15 16 17 18       9 10 11 12 13 14 15      14 15 16 17 18 19 20\n",
            "19 20 21 22 23 24 25      16 17 18 19 20 21 22      21 22 23 24 25 26 27\n",
            "26 27 28 29 30 31         23 24 25 26 27 28 29      28 29 30 31\n",
            "                          30\n",
            "\n"
          ]
        }
      ]
    },
    {
      "cell_type": "code",
      "source": [
        "import calendar\n",
        "print(calendar.month(2019, 9))"
      ],
      "metadata": {
        "id": "CuvqU9EeduDR",
        "colab": {
          "base_uri": "https://localhost:8080/"
        },
        "outputId": "37f26349-fd58-4faf-8d9b-9bc6e47cadad"
      },
      "execution_count": 17,
      "outputs": [
        {
          "output_type": "stream",
          "name": "stdout",
          "text": [
            "   September 2019\n",
            "Mo Tu We Th Fr Sa Su\n",
            "                   1\n",
            " 2  3  4  5  6  7  8\n",
            " 9 10 11 12 13 14 15\n",
            "16 17 18 19 20 21 22\n",
            "23 24 25 26 27 28 29\n",
            "30\n",
            "\n"
          ]
        }
      ]
    },
    {
      "cell_type": "code",
      "source": [
        "import calendar\n",
        "print(calendar.weekday(2020, 9, 29)) # Esto muestra 1, que significa martes. "
      ],
      "metadata": {
        "id": "CjA_olG_dt-G",
        "colab": {
          "base_uri": "https://localhost:8080/"
        },
        "outputId": "ca922561-5354-4845-fa24-f8106806701b"
      },
      "execution_count": 18,
      "outputs": [
        {
          "output_type": "stream",
          "name": "stdout",
          "text": [
            "1\n"
          ]
        }
      ]
    },
    {
      "cell_type": "code",
      "source": [
        "import calendar\n",
        "print(calendar.weekheader(2)) # Esto muestra: Mo Tu We Th Fr Sa Su\n",
        " "
      ],
      "metadata": {
        "id": "r0eJWIUndt7j"
      },
      "execution_count": null,
      "outputs": []
    },
    {
      "cell_type": "code",
      "source": [
        "print(\"¡Hola mundo!\")"
      ],
      "metadata": {
        "id": "MlQNMoDedt43",
        "colab": {
          "base_uri": "https://localhost:8080/"
        },
        "outputId": "16bb22d8-6a41-488d-e512-47e20a2cd506"
      },
      "execution_count": 19,
      "outputs": [
        {
          "output_type": "stream",
          "name": "stdout",
          "text": [
            "¡Hola mundo!\n"
          ]
        }
      ]
    },
    {
      "cell_type": "code",
      "source": [
        "import calendar\n",
        " \n",
        "c = calendar.Calendar(2)\n",
        " \n",
        "for weekday in c.iterweekdays():\n",
        "    print(weekday, end=\" \")\n",
        "# Resultado: 2 3 4 5 6 0 1"
      ],
      "metadata": {
        "colab": {
          "base_uri": "https://localhost:8080/"
        },
        "id": "VmP8Ht8z6EqA",
        "outputId": "2f27269c-9a91-49a7-f19c-76970d7d9913"
      },
      "execution_count": 20,
      "outputs": [
        {
          "output_type": "stream",
          "name": "stdout",
          "text": [
            "2 3 4 5 6 0 1 "
          ]
        }
      ]
    },
    {
      "cell_type": "code",
      "source": [
        "import calendar\n",
        "print(calendar.weekheader(1))"
      ],
      "metadata": {
        "colab": {
          "base_uri": "https://localhost:8080/"
        },
        "id": "d0tIjZZe6Edd",
        "outputId": "bb07f270-14a6-4e01-fd5e-dc514ee4d7e8"
      },
      "execution_count": 21,
      "outputs": [
        {
          "output_type": "stream",
          "name": "stdout",
          "text": [
            "M T W T F S S\n"
          ]
        }
      ]
    },
    {
      "cell_type": "code",
      "source": [
        "import calendar\n",
        " \n",
        "c = calendar.Calendar()\n",
        " \n",
        "for weekday in c.iterweekdays():\n",
        "    print(weekday, end=\" \")"
      ],
      "metadata": {
        "colab": {
          "base_uri": "https://localhost:8080/"
        },
        "id": "-xYHVy106Eau",
        "outputId": "b0aacea8-2817-4193-e03e-e849a0aaacc2"
      },
      "execution_count": 22,
      "outputs": [
        {
          "output_type": "stream",
          "name": "stdout",
          "text": [
            "0 1 2 3 4 5 6 "
          ]
        }
      ]
    },
    {
      "cell_type": "markdown",
      "source": [
        "# 4.7 Finalización del Módulo 4 – Prueba del Módulo"
      ],
      "metadata": {
        "id": "s4r2SqEg8cF0"
      }
    },
    {
      "cell_type": "code",
      "source": [
        "my_list = [1, 2, 3]\n",
        "\n",
        "foo = tuple(map(lambda x: x**x, my_list))   # Insertar línea de código aquí.\n",
        "print(foo)\n",
        " "
      ],
      "metadata": {
        "colab": {
          "base_uri": "https://localhost:8080/"
        },
        "id": "Xd4Xf_756EYB",
        "outputId": "41264d4b-6204-49d9-b412-5a2e53603b13"
      },
      "execution_count": 27,
      "outputs": [
        {
          "output_type": "stream",
          "name": "stdout",
          "text": [
            "(1, 4, 27)\n"
          ]
        }
      ]
    },
    {
      "cell_type": "markdown",
      "source": [
        "¿Qué fragmento insertarías para que el programa genere el siguiente resultado (tupla)?:\n",
        "\n",
        "(1, 4, 27)\n",
        "\n",
        "foo = list(map(lambda x: x*x, my_list))  \n",
        "\n",
        "foo = tuple(map(lambda x: x**x, my_list))  \n",
        "\n",
        "foo = list(map(lambda x: x**x, my_list))  \n",
        "\n",
        "foo = tuple(map(lambda x: x*x, my_list))  \n",
        "Incompleto Pregunta 4Pregunta 4"
      ],
      "metadata": {
        "id": "gw0-GsumByJC"
      }
    },
    {
      "cell_type": "markdown",
      "source": [
        "# Pregunta 4\n",
        "Pregunta de opción múltiple\n",
        "Observa el código a continuación:\n",
        "\n",
        "salida esperada\n",
        "\n",
        "\n",
        "[2, 3, 4, 5, 6]"
      ],
      "metadata": {
        "id": "AQTliOMSCry-"
      }
    },
    {
      "cell_type": "code",
      "source": [
        "my_tuple = (0, 1, 2, 3, 4, 5, 6)\n",
        "foo = list(filter(lambda x: x-0 and x-1, my_tuple))  # Insertar línea de código aquí.\n",
        "print(foo)"
      ],
      "metadata": {
        "colab": {
          "base_uri": "https://localhost:8080/"
        },
        "id": "IX_ivyJA6EGk",
        "outputId": "2a1bf9a0-687c-4a6c-c9a7-28164c2389ef"
      },
      "execution_count": 32,
      "outputs": [
        {
          "output_type": "stream",
          "name": "stdout",
          "text": [
            "[2, 3, 4, 5, 6]\n"
          ]
        }
      ]
    },
    {
      "cell_type": "markdown",
      "source": [],
      "metadata": {
        "id": "cmeq5Ll0Dhu3"
      }
    },
    {
      "cell_type": "code",
      "source": [
        "def I():\n",
        "    s = 'abcdef'\n",
        "    for c in s[::2]:\n",
        "        yield c\n",
        " \n",
        " \n",
        "for x in I():\n",
        "    print(x, end='')\n",
        " "
      ],
      "metadata": {
        "colab": {
          "base_uri": "https://localhost:8080/"
        },
        "id": "bd8qOqPd6ED8",
        "outputId": "c74b72b5-f952-4872-82d9-55b60ac61d28"
      },
      "execution_count": 33,
      "outputs": [
        {
          "output_type": "stream",
          "name": "stdout",
          "text": [
            "ace"
          ]
        }
      ]
    },
    {
      "cell_type": "code",
      "source": [
        "# Pregunta 6\n",
        "\n",
        "def fun(n):\n",
        "    s = '+'\n",
        "    for i in range(n):\n",
        "        s += s\n",
        "        yield s\n",
        " \n",
        " \n",
        "for x in fun(2):\n",
        "    print(x, end='');\n",
        " "
      ],
      "metadata": {
        "colab": {
          "base_uri": "https://localhost:8080/"
        },
        "id": "ZhniG0_56EBg",
        "outputId": "b63efa8f-7176-47c8-b247-b23ae9a6e7aa"
      },
      "execution_count": 36,
      "outputs": [
        {
          "output_type": "stream",
          "name": "stdout",
          "text": [
            "++++++"
          ]
        }
      ]
    },
    {
      "cell_type": "code",
      "source": [
        "# Pregunta 7 \n",
        "def o(p):\n",
        "    def q():\n",
        "        return '*' * p\n",
        "    return q\n",
        " \n",
        " \n",
        "r = o(1)\n",
        "s = o(2)\n",
        "print(r() + s())"
      ],
      "metadata": {
        "colab": {
          "base_uri": "https://localhost:8080/"
        },
        "id": "gMheDABe6D-m",
        "outputId": "d18edc54-1cf8-46a7-dd23-fd0a1dc6bafd"
      },
      "execution_count": 37,
      "outputs": [
        {
          "output_type": "stream",
          "name": "stdout",
          "text": [
            "***\n"
          ]
        }
      ]
    },
    {
      "cell_type": "code",
      "source": [
        "# pregunta 10 \n",
        "\n",
        "b = bytearray(3)\n",
        "print(b)"
      ],
      "metadata": {
        "colab": {
          "base_uri": "https://localhost:8080/"
        },
        "id": "lln6mTNv6D8C",
        "outputId": "6dadae83-eaac-4d36-92ca-738a49e59ff3"
      },
      "execution_count": 38,
      "outputs": [
        {
          "output_type": "stream",
          "name": "stdout",
          "text": [
            "bytearray(b'\\x00\\x00\\x00')\n"
          ]
        }
      ]
    },
    {
      "cell_type": "code",
      "source": [
        "# Pregunta 12 \n",
        "import os\n",
        " \n",
        "os.mkdir('pictures')\n",
        "os.chdir('pictures')\n",
        "os.mkdir('thumbnails')\n",
        "os.chdir('thumbnails')\n",
        "os.mkdir('tmp')\n",
        "os.chdir('../')\n",
        " \n",
        "print(os.getcwd())"
      ],
      "metadata": {
        "colab": {
          "base_uri": "https://localhost:8080/"
        },
        "id": "CZTTU_Rv6D5S",
        "outputId": "aa564499-b542-4ef7-fd3a-f479ab2d6e76"
      },
      "execution_count": 39,
      "outputs": [
        {
          "output_type": "stream",
          "name": "stdout",
          "text": [
            "/content/pictures\n"
          ]
        }
      ]
    },
    {
      "cell_type": "code",
      "source": [
        "# Pregunta 13 \n",
        "import os\n",
        " \n",
        "os.mkdir('thumbnails')\n",
        "os.chdir('thumbnails')\n",
        " \n",
        "sizes = ['small', 'medium', 'large']\n",
        " \n",
        "for size in sizes:\n",
        "    os.mkdir(size)\n",
        " \n",
        "print(os.listdir())\n",
        " "
      ],
      "metadata": {
        "colab": {
          "base_uri": "https://localhost:8080/",
          "height": 235
        },
        "id": "0ZAqA-sV6D2v",
        "outputId": "39bee4df-050f-4208-e53e-ee3e83c25126"
      },
      "execution_count": 40,
      "outputs": [
        {
          "output_type": "error",
          "ename": "FileExistsError",
          "evalue": "ignored",
          "traceback": [
            "\u001b[0;31m---------------------------------------------------------------------------\u001b[0m",
            "\u001b[0;31mFileExistsError\u001b[0m                           Traceback (most recent call last)",
            "\u001b[0;32m<ipython-input-40-b3253032d35a>\u001b[0m in \u001b[0;36m<cell line: 4>\u001b[0;34m()\u001b[0m\n\u001b[1;32m      2\u001b[0m \u001b[0;32mimport\u001b[0m \u001b[0mos\u001b[0m\u001b[0;34m\u001b[0m\u001b[0;34m\u001b[0m\u001b[0m\n\u001b[1;32m      3\u001b[0m \u001b[0;34m\u001b[0m\u001b[0m\n\u001b[0;32m----> 4\u001b[0;31m \u001b[0mos\u001b[0m\u001b[0;34m.\u001b[0m\u001b[0mmkdir\u001b[0m\u001b[0;34m(\u001b[0m\u001b[0;34m'thumbnails'\u001b[0m\u001b[0;34m)\u001b[0m\u001b[0;34m\u001b[0m\u001b[0;34m\u001b[0m\u001b[0m\n\u001b[0m\u001b[1;32m      5\u001b[0m \u001b[0mos\u001b[0m\u001b[0;34m.\u001b[0m\u001b[0mchdir\u001b[0m\u001b[0;34m(\u001b[0m\u001b[0;34m'thumbnails'\u001b[0m\u001b[0;34m)\u001b[0m\u001b[0;34m\u001b[0m\u001b[0;34m\u001b[0m\u001b[0m\n\u001b[1;32m      6\u001b[0m \u001b[0;34m\u001b[0m\u001b[0m\n",
            "\u001b[0;31mFileExistsError\u001b[0m: [Errno 17] File exists: 'thumbnails'"
          ]
        }
      ]
    },
    {
      "cell_type": "code",
      "source": [
        "# Pregunta 13 \n",
        "from datetime import date\n",
        " \n",
        "date_1 = date(1992, 1, 16)\n",
        "date_2 = date(1991, 2, 5)\n",
        " \n",
        "print(date_1 - date_2)"
      ],
      "metadata": {
        "colab": {
          "base_uri": "https://localhost:8080/"
        },
        "id": "5LWwboZj6Dz_",
        "outputId": "e6a7e40a-e490-454c-b5bb-ea0c9aca8138"
      },
      "execution_count": 41,
      "outputs": [
        {
          "output_type": "stream",
          "name": "stdout",
          "text": [
            "345 days, 0:00:00\n"
          ]
        }
      ]
    },
    {
      "cell_type": "code",
      "source": [
        "# Pregunta 14 \n",
        "\n",
        "from datetime import datetime\n",
        " \n",
        "datetime = datetime(2019, 11, 27, 11, 27, 22)\n",
        "print(datetime.strftime('%y/%B/%d %H:%M:%S'))"
      ],
      "metadata": {
        "colab": {
          "base_uri": "https://localhost:8080/"
        },
        "id": "6I9FzM8x6Dxh",
        "outputId": "9458c4ee-3d09-48a8-8c73-6226341d5fae"
      },
      "execution_count": 42,
      "outputs": [
        {
          "output_type": "stream",
          "name": "stdout",
          "text": [
            "19/November/27 11:27:22\n"
          ]
        }
      ]
    },
    {
      "cell_type": "code",
      "source": [
        "import calendar\n",
        "print(calendar.weekheader(2))"
      ],
      "metadata": {
        "colab": {
          "base_uri": "https://localhost:8080/"
        },
        "id": "BXebXd7t6Dug",
        "outputId": "948d622f-70ff-4ca4-95ce-75ab177716f9"
      },
      "execution_count": 43,
      "outputs": [
        {
          "output_type": "stream",
          "name": "stdout",
          "text": [
            "Mo Tu We Th Fr Sa Su\n"
          ]
        }
      ]
    },
    {
      "cell_type": "code",
      "source": [
        "import calendar\n",
        " \n",
        "c = calendar.Calendar()\n",
        " \n",
        "for weekday in c.iterweekdays():\n",
        "    print(weekday, end=\" \")\n",
        "    "
      ],
      "metadata": {
        "colab": {
          "base_uri": "https://localhost:8080/"
        },
        "id": "X9rLU-ET6Dox",
        "outputId": "8bee705d-8510-47ce-de53-ae2e39a2c3ea"
      },
      "execution_count": 45,
      "outputs": [
        {
          "output_type": "stream",
          "name": "stdout",
          "text": [
            "0 1 2 3 4 5 6 "
          ]
        }
      ]
    },
    {
      "cell_type": "markdown",
      "source": [
        "# Prueba Final"
      ],
      "metadata": {
        "id": "AiNzBtvTUKj0"
      }
    },
    {
      "cell_type": "code",
      "source": [
        "# Pregunta 1 \n",
        "from mod import fun\n",
        " "
      ],
      "metadata": {
        "id": "G3BBktzR6Dik"
      },
      "execution_count": null,
      "outputs": []
    },
    {
      "cell_type": "code",
      "source": [
        "import math\n",
        "print(dir(math))"
      ],
      "metadata": {
        "colab": {
          "base_uri": "https://localhost:8080/"
        },
        "id": "c6-9xudX6Dfg",
        "outputId": "13ca9dc4-0ee7-45db-f949-fb7f84ccc970"
      },
      "execution_count": 50,
      "outputs": [
        {
          "output_type": "stream",
          "name": "stdout",
          "text": [
            "['__doc__', '__loader__', '__name__', '__package__', '__spec__', 'acos', 'acosh', 'asin', 'asinh', 'atan', 'atan2', 'atanh', 'ceil', 'comb', 'copysign', 'cos', 'cosh', 'degrees', 'dist', 'e', 'erf', 'erfc', 'exp', 'expm1', 'fabs', 'factorial', 'floor', 'fmod', 'frexp', 'fsum', 'gamma', 'gcd', 'hypot', 'inf', 'isclose', 'isfinite', 'isinf', 'isnan', 'isqrt', 'lcm', 'ldexp', 'lgamma', 'log', 'log10', 'log1p', 'log2', 'modf', 'nan', 'nextafter', 'perm', 'pi', 'pow', 'prod', 'radians', 'remainder', 'sin', 'sinh', 'sqrt', 'tan', 'tanh', 'tau', 'trunc', 'ulp']\n"
          ]
        }
      ]
    },
    {
      "cell_type": "code",
      "source": [
        "# archivo a.py\n",
        "print(\"a\", end='')\n",
        " \n",
        "# archivo b.py\n",
        "import a\n",
        "print(\"b\", end='')\n",
        " \n",
        "# archivo c.py\n",
        "print(\"c\", end='')\n",
        "import a\n",
        "import b"
      ],
      "metadata": {
        "colab": {
          "base_uri": "https://localhost:8080/",
          "height": 391
        },
        "id": "x8XlxuCa6DZ4",
        "outputId": "2ade5456-d592-4586-c1d2-2241a78d2441"
      },
      "execution_count": 52,
      "outputs": [
        {
          "output_type": "stream",
          "name": "stdout",
          "text": [
            "a"
          ]
        },
        {
          "output_type": "error",
          "ename": "ModuleNotFoundError",
          "evalue": "ignored",
          "traceback": [
            "\u001b[0;31m---------------------------------------------------------------------------\u001b[0m",
            "\u001b[0;31mModuleNotFoundError\u001b[0m                       Traceback (most recent call last)",
            "\u001b[0;32m<ipython-input-52-2c54261d4993>\u001b[0m in \u001b[0;36m<cell line: 5>\u001b[0;34m()\u001b[0m\n\u001b[1;32m      3\u001b[0m \u001b[0;34m\u001b[0m\u001b[0m\n\u001b[1;32m      4\u001b[0m \u001b[0;31m# archivo b.py\u001b[0m\u001b[0;34m\u001b[0m\u001b[0;34m\u001b[0m\u001b[0m\n\u001b[0;32m----> 5\u001b[0;31m \u001b[0;32mimport\u001b[0m \u001b[0ma\u001b[0m\u001b[0;34m\u001b[0m\u001b[0;34m\u001b[0m\u001b[0m\n\u001b[0m\u001b[1;32m      6\u001b[0m \u001b[0mprint\u001b[0m\u001b[0;34m(\u001b[0m\u001b[0;34m\"b\"\u001b[0m\u001b[0;34m,\u001b[0m \u001b[0mend\u001b[0m\u001b[0;34m=\u001b[0m\u001b[0;34m''\u001b[0m\u001b[0;34m)\u001b[0m\u001b[0;34m\u001b[0m\u001b[0;34m\u001b[0m\u001b[0m\n\u001b[1;32m      7\u001b[0m \u001b[0;34m\u001b[0m\u001b[0m\n",
            "\u001b[0;31mModuleNotFoundError\u001b[0m: No module named 'a'",
            "",
            "\u001b[0;31m---------------------------------------------------------------------------\u001b[0;32m\nNOTE: If your import is failing due to a missing package, you can\nmanually install dependencies using either !pip or !apt.\n\nTo view examples of installing some common dependencies, click the\n\"Open Examples\" button below.\n\u001b[0;31m---------------------------------------------------------------------------\u001b[0m\n"
          ],
          "errorDetails": {
            "actions": [
              {
                "action": "open_url",
                "actionText": "Open Examples",
                "url": "/notebooks/snippets/importing_libraries.ipynb"
              }
            ]
          }
        }
      ]
    },
    {
      "cell_type": "code",
      "source": [
        "print(__name__)\n",
        " \n",
        " "
      ],
      "metadata": {
        "colab": {
          "base_uri": "https://localhost:8080/"
        },
        "id": "uz7_oWgD6DXt",
        "outputId": "702a4adf-ae59-43e6-c113-b67bed536327"
      },
      "execution_count": 53,
      "outputs": [
        {
          "output_type": "stream",
          "name": "stdout",
          "text": [
            "__main__\n"
          ]
        }
      ]
    },
    {
      "cell_type": "code",
      "source": [
        "from a.b import c"
      ],
      "metadata": {
        "colab": {
          "base_uri": "https://localhost:8080/",
          "height": 130
        },
        "id": "pvcC48RQ6DVT",
        "outputId": "88972848-3773-4566-b16d-99539f1866f9"
      },
      "execution_count": 56,
      "outputs": [
        {
          "output_type": "error",
          "ename": "IndentationError",
          "evalue": "ignored",
          "traceback": [
            "\u001b[0;36m  File \u001b[0;32m\"<tokenize>\"\u001b[0;36m, line \u001b[0;32m9\u001b[0m\n\u001b[0;31m    from a.b import c\u001b[0m\n\u001b[0m    ^\u001b[0m\n\u001b[0;31mIndentationError\u001b[0m\u001b[0;31m:\u001b[0m unindent does not match any outer indentation level\n"
          ]
        }
      ]
    },
    {
      "cell_type": "code",
      "source": [
        "try:\n",
        "    raise Exception\n",
        "except BaseException:\n",
        "    print(\"a\")\n",
        "except Exception:\n",
        "    print(\"b\")\n",
        "except:\n",
        "    print(\"c\")\n",
        " "
      ],
      "metadata": {
        "colab": {
          "base_uri": "https://localhost:8080/"
        },
        "id": "UzP2945y6DTF",
        "outputId": "ff76b125-a4c4-42f8-bda1-a647343dcf45"
      },
      "execution_count": 58,
      "outputs": [
        {
          "output_type": "stream",
          "name": "stdout",
          "text": [
            "a\n"
          ]
        }
      ]
    },
    {
      "cell_type": "code",
      "source": [
        "for line in open('text.txt', 'rt'):\n",
        " "
      ],
      "metadata": {
        "colab": {
          "base_uri": "https://localhost:8080/",
          "height": 130
        },
        "id": "7YxjhPvx6DQp",
        "outputId": "677f9c71-77c6-42b3-8038-1e7bfd537317"
      },
      "execution_count": 59,
      "outputs": [
        {
          "output_type": "error",
          "ename": "SyntaxError",
          "evalue": "ignored",
          "traceback": [
            "\u001b[0;36m  File \u001b[0;32m\"<ipython-input-59-dacab193b570>\"\u001b[0;36m, line \u001b[0;32m2\u001b[0m\n\u001b[0;31m    \u001b[0m\n\u001b[0m    ^\u001b[0m\n\u001b[0;31mSyntaxError\u001b[0m\u001b[0;31m:\u001b[0m incomplete input\n"
          ]
        }
      ]
    },
    {
      "cell_type": "code",
      "source": [
        "try:\n",
        "    raise Exception\n",
        "except:\n",
        "    print(\"c\")\n",
        "except BaseException:\n",
        "    print(\"a\")\n",
        "except Exception:\n",
        "    print(\"b\")\n",
        " "
      ],
      "metadata": {
        "colab": {
          "base_uri": "https://localhost:8080/",
          "height": 130
        },
        "id": "Gl5RBSwY6DOb",
        "outputId": "1a53a01c-2686-400c-be1f-827eaf31c4f1"
      },
      "execution_count": 60,
      "outputs": [
        {
          "output_type": "error",
          "ename": "SyntaxError",
          "evalue": "ignored",
          "traceback": [
            "\u001b[0;36m  File \u001b[0;32m\"<ipython-input-60-13c01958fe8f>\"\u001b[0;36m, line \u001b[0;32m3\u001b[0m\n\u001b[0;31m    except:\u001b[0m\n\u001b[0m    ^\u001b[0m\n\u001b[0;31mSyntaxError\u001b[0m\u001b[0;31m:\u001b[0m default 'except:' must be last\n"
          ]
        }
      ]
    },
    {
      "cell_type": "code",
      "source": [
        "assert var != 0"
      ],
      "metadata": {
        "colab": {
          "base_uri": "https://localhost:8080/",
          "height": 165
        },
        "id": "ds40lmI06DLx",
        "outputId": "eae3c074-e450-4018-f8d3-50a73604d2a4"
      },
      "execution_count": 61,
      "outputs": [
        {
          "output_type": "error",
          "ename": "NameError",
          "evalue": "ignored",
          "traceback": [
            "\u001b[0;31m---------------------------------------------------------------------------\u001b[0m",
            "\u001b[0;31mNameError\u001b[0m                                 Traceback (most recent call last)",
            "\u001b[0;32m<ipython-input-61-406d9d21b0d1>\u001b[0m in \u001b[0;36m<cell line: 1>\u001b[0;34m()\u001b[0m\n\u001b[0;32m----> 1\u001b[0;31m \u001b[0;32massert\u001b[0m \u001b[0mvar\u001b[0m \u001b[0;34m!=\u001b[0m \u001b[0;36m0\u001b[0m\u001b[0;34m\u001b[0m\u001b[0;34m\u001b[0m\u001b[0m\n\u001b[0m",
            "\u001b[0;31mNameError\u001b[0m: name 'var' is not defined"
          ]
        }
      ]
    },
    {
      "cell_type": "code",
      "source": [
        "x = \"\\\\\"\n",
        "print(len(x))\n",
        " "
      ],
      "metadata": {
        "colab": {
          "base_uri": "https://localhost:8080/"
        },
        "id": "sNOo_YhR6DJq",
        "outputId": "edf7f78b-a73a-4043-9354-0f709b276c05"
      },
      "execution_count": 62,
      "outputs": [
        {
          "output_type": "stream",
          "name": "stdout",
          "text": [
            "1\n"
          ]
        }
      ]
    },
    {
      "cell_type": "code",
      "source": [
        "x = \"\\\\\\\"\n",
        "\n",
        "print(len(x))\n"
      ],
      "metadata": {
        "id": "LhqdEQqs6DHO"
      },
      "execution_count": null,
      "outputs": []
    },
    {
      "cell_type": "code",
      "source": [
        "x = \"\\\\\\\"\n",
        "print(len(x))"
      ],
      "metadata": {
        "id": "jFxtZc3p6DFE"
      },
      "execution_count": null,
      "outputs": []
    },
    {
      "cell_type": "code",
      "source": [
        "print(chr(ord('p') + 2))"
      ],
      "metadata": {
        "colab": {
          "base_uri": "https://localhost:8080/"
        },
        "id": "DkBIg79O6DCv",
        "outputId": "17d883f5-a610-4503-94d5-846b955ff9f7"
      },
      "execution_count": 63,
      "outputs": [
        {
          "output_type": "stream",
          "name": "stdout",
          "text": [
            "r\n"
          ]
        }
      ]
    },
    {
      "cell_type": "code",
      "source": [
        "print(float(\"1.3\"))"
      ],
      "metadata": {
        "colab": {
          "base_uri": "https://localhost:8080/"
        },
        "id": "ZQ3_9uK76DAe",
        "outputId": "71166029-e597-40a4-a3e2-ada10b8d4867"
      },
      "execution_count": 64,
      "outputs": [
        {
          "output_type": "stream",
          "name": "stdout",
          "text": [
            "1.3\n"
          ]
        }
      ]
    },
    {
      "cell_type": "code",
      "source": [
        "class Class:\n",
        "    def __init__(self, val=0):\n",
        "        pass\n",
        " \n",
        "\n"
      ],
      "metadata": {
        "id": "YjwB0GPq6C-J"
      },
      "execution_count": 65,
      "outputs": []
    },
    {
      "cell_type": "code",
      "source": [
        "class A:\n",
        "    def __init__(self, v=2):\n",
        "        self.v = v\n",
        " \n",
        "    def set(self, v=1):\n",
        "        self.v += v\n",
        "        return self.v\n",
        " \n",
        " \n",
        "a = A()\n",
        "b = a\n",
        "b.set()\n",
        "print(a.v)"
      ],
      "metadata": {
        "colab": {
          "base_uri": "https://localhost:8080/"
        },
        "id": "SZIFFEWV6C79",
        "outputId": "464f246b-43e7-41d7-a9e4-8f90c5c0458e"
      },
      "execution_count": 66,
      "outputs": [
        {
          "output_type": "stream",
          "name": "stdout",
          "text": [
            "3\n"
          ]
        }
      ]
    },
    {
      "cell_type": "code",
      "source": [
        "class A:\n",
        "    A = 1\n",
        "    def __init__(self):\n",
        "        self.a = 0\n",
        " \n",
        " \n",
        "print(hasattr(A, 'a'))\n",
        " \n",
        " "
      ],
      "metadata": {
        "colab": {
          "base_uri": "https://localhost:8080/"
        },
        "id": "kiZXAuh_6C5P",
        "outputId": "b3c04730-f265-4cae-fae5-87ae679f9736"
      },
      "execution_count": 67,
      "outputs": [
        {
          "output_type": "stream",
          "name": "stdout",
          "text": [
            "False\n"
          ]
        }
      ]
    },
    {
      "cell_type": "code",
      "source": [
        "class A:\n",
        "    pass\n",
        " \n",
        " \n",
        "class B(A):\n",
        "    pass\n",
        " \n",
        " \n",
        "class C(B):\n",
        "    pass\n",
        " \n",
        " \n",
        "print(issubclass(A, C))"
      ],
      "metadata": {
        "colab": {
          "base_uri": "https://localhost:8080/"
        },
        "id": "-xDHtATX6C21",
        "outputId": "631af0f6-6c79-492d-e541-b314061b4cc0"
      },
      "execution_count": 68,
      "outputs": [
        {
          "output_type": "stream",
          "name": "stdout",
          "text": [
            "False\n"
          ]
        }
      ]
    },
    {
      "cell_type": "code",
      "source": [
        "class A:\n",
        "    def __init__(self, v):\n",
        "        self.__a = v + 1\n",
        " \n",
        " \n",
        "a = A(0)\n",
        "print(a.__a)\n",
        " "
      ],
      "metadata": {
        "colab": {
          "base_uri": "https://localhost:8080/",
          "height": 217
        },
        "id": "jFg5RQan6C0V",
        "outputId": "ce2a7b46-3c9f-49be-d50f-6097096126de"
      },
      "execution_count": 69,
      "outputs": [
        {
          "output_type": "error",
          "ename": "AttributeError",
          "evalue": "ignored",
          "traceback": [
            "\u001b[0;31m---------------------------------------------------------------------------\u001b[0m",
            "\u001b[0;31mAttributeError\u001b[0m                            Traceback (most recent call last)",
            "\u001b[0;32m<ipython-input-69-f1edefd76356>\u001b[0m in \u001b[0;36m<cell line: 7>\u001b[0;34m()\u001b[0m\n\u001b[1;32m      5\u001b[0m \u001b[0;34m\u001b[0m\u001b[0m\n\u001b[1;32m      6\u001b[0m \u001b[0ma\u001b[0m \u001b[0;34m=\u001b[0m \u001b[0mA\u001b[0m\u001b[0;34m(\u001b[0m\u001b[0;36m0\u001b[0m\u001b[0;34m)\u001b[0m\u001b[0;34m\u001b[0m\u001b[0;34m\u001b[0m\u001b[0m\n\u001b[0;32m----> 7\u001b[0;31m \u001b[0mprint\u001b[0m\u001b[0;34m(\u001b[0m\u001b[0ma\u001b[0m\u001b[0;34m.\u001b[0m\u001b[0m__a\u001b[0m\u001b[0;34m)\u001b[0m\u001b[0;34m\u001b[0m\u001b[0;34m\u001b[0m\u001b[0m\n\u001b[0m\u001b[1;32m      8\u001b[0m \u001b[0;34m\u001b[0m\u001b[0m\n",
            "\u001b[0;31mAttributeError\u001b[0m: 'A' object has no attribute '__a'"
          ]
        }
      ]
    },
    {
      "cell_type": "code",
      "source": [
        "class A:\n",
        "    def __init__(self):\n",
        "        pass\n",
        " \n",
        " \n",
        "a = A()\n",
        "print(hasattr(a, 'A'))\n",
        " "
      ],
      "metadata": {
        "colab": {
          "base_uri": "https://localhost:8080/"
        },
        "id": "XkAmQQeu6B-7",
        "outputId": "cb96a3e4-fcf9-437b-9fa9-32df09be941b"
      },
      "execution_count": 71,
      "outputs": [
        {
          "output_type": "stream",
          "name": "stdout",
          "text": [
            "False\n"
          ]
        }
      ]
    },
    {
      "cell_type": "code",
      "source": [
        "class A:\n",
        "    def a(self):\n",
        "        print('a')\n",
        " \n",
        " \n",
        "class B:\n",
        "    def a(self):\n",
        "        print('b')\n",
        " \n",
        " \n",
        "class C(B, A):\n",
        "    def a(self):\n",
        "        self.a()\n",
        " \n",
        " \n",
        "o = C()\n",
        "o.c()"
      ],
      "metadata": {
        "id": "T-8SfSvEwQ48",
        "outputId": "5dc3ac18-6b46-4e2d-feb8-458480e5763e",
        "colab": {
          "base_uri": "https://localhost:8080/",
          "height": 200
        }
      },
      "execution_count": 72,
      "outputs": [
        {
          "output_type": "error",
          "ename": "AttributeError",
          "evalue": "ignored",
          "traceback": [
            "\u001b[0;31m---------------------------------------------------------------------------\u001b[0m",
            "\u001b[0;31mAttributeError\u001b[0m                            Traceback (most recent call last)",
            "\u001b[0;32m<ipython-input-72-b532a5c5f8cc>\u001b[0m in \u001b[0;36m<cell line: 17>\u001b[0;34m()\u001b[0m\n\u001b[1;32m     15\u001b[0m \u001b[0;34m\u001b[0m\u001b[0m\n\u001b[1;32m     16\u001b[0m \u001b[0mo\u001b[0m \u001b[0;34m=\u001b[0m \u001b[0mC\u001b[0m\u001b[0;34m(\u001b[0m\u001b[0;34m)\u001b[0m\u001b[0;34m\u001b[0m\u001b[0;34m\u001b[0m\u001b[0m\n\u001b[0;32m---> 17\u001b[0;31m \u001b[0mo\u001b[0m\u001b[0;34m.\u001b[0m\u001b[0mc\u001b[0m\u001b[0;34m(\u001b[0m\u001b[0;34m)\u001b[0m\u001b[0;34m\u001b[0m\u001b[0;34m\u001b[0m\u001b[0m\n\u001b[0m",
            "\u001b[0;31mAttributeError\u001b[0m: 'C' object has no attribute 'c'"
          ]
        }
      ]
    },
    {
      "cell_type": "code",
      "source": [
        "try:\n",
        "    raise Exception(1, 2, 3)\n",
        "except Exception as e:\n",
        "     print(len(e.args))\n",
        " "
      ],
      "metadata": {
        "id": "qr_P8nj1wQ0D",
        "outputId": "66ff41c0-92e1-4705-82c8-3ab662894498",
        "colab": {
          "base_uri": "https://localhost:8080/"
        }
      },
      "execution_count": 74,
      "outputs": [
        {
          "output_type": "stream",
          "name": "stdout",
          "text": [
            "3\n"
          ]
        }
      ]
    },
    {
      "cell_type": "code",
      "source": [
        "# Pregunta 25 \n",
        "#¿Cuál es el resultado esperado al ejecutar el siguiente código?\n",
        "\n",
        "def my_fun(n):\n",
        "    s = '+'\n",
        "    for i in range(n):\n",
        "        s += s\n",
        "        yield s\n",
        " \n",
        " \n",
        "for x in my_fun(2):\n",
        "    print(x, end='')\n",
        " "
      ],
      "metadata": {
        "id": "Rtrq8bvBwQwE",
        "outputId": "1a03a994-d6cc-4bf0-a709-6940e41e9a1e",
        "colab": {
          "base_uri": "https://localhost:8080/"
        }
      },
      "execution_count": 76,
      "outputs": [
        {
          "output_type": "stream",
          "name": "stdout",
          "text": [
            "++++++"
          ]
        }
      ]
    },
    {
      "cell_type": "code",
      "source": [
        "class I:\n",
        "    def __init__(self):\n",
        "        self.s = 'abc'\n",
        "        self.i = 0\n",
        " \n",
        "    def __iter__(self):\n",
        "        return self\n",
        " \n",
        "    def __next__(self):\n",
        "        if self.i == len(self.s):\n",
        "            raise StopIteration\n",
        "        v = self.s[self.i]\n",
        "        self.i += 1\n",
        "        return v\n",
        " \n",
        " \n",
        "for x in I():\n",
        "    print(x, end='')"
      ],
      "metadata": {
        "id": "ElFagVE3wQrT",
        "outputId": "cce8610e-aa8a-4efa-a359-b82c91f47d75",
        "colab": {
          "base_uri": "https://localhost:8080/"
        }
      },
      "execution_count": 77,
      "outputs": [
        {
          "output_type": "stream",
          "name": "stdout",
          "text": [
            "abc"
          ]
        }
      ]
    },
    {
      "cell_type": "code",
      "source": [
        "def o(p):\n",
        "    def q():\n",
        "        return '*' * p\n",
        "    return q\n",
        " \n",
        " \n",
        "r = o(1)\n",
        "s = o(2)\n",
        "print(r() + s())"
      ],
      "metadata": {
        "id": "DvKXwQOTwQoR",
        "outputId": "61c70a15-1094-44e2-c8ad-2cbef6ca1c58",
        "colab": {
          "base_uri": "https://localhost:8080/"
        }
      },
      "execution_count": 78,
      "outputs": [
        {
          "output_type": "stream",
          "name": "stdout",
          "text": [
            "***\n"
          ]
        }
      ]
    },
    {
      "cell_type": "code",
      "source": [],
      "metadata": {
        "id": "Igp9K80-wQka"
      },
      "execution_count": null,
      "outputs": []
    },
    {
      "cell_type": "code",
      "source": [],
      "metadata": {
        "id": "3hkpsTPwwQhY"
      },
      "execution_count": null,
      "outputs": []
    },
    {
      "cell_type": "code",
      "source": [],
      "metadata": {
        "id": "U_-Rs1lQwQex"
      },
      "execution_count": null,
      "outputs": []
    },
    {
      "cell_type": "code",
      "source": [],
      "metadata": {
        "id": "NBC4QQW7wQcJ"
      },
      "execution_count": null,
      "outputs": []
    },
    {
      "cell_type": "code",
      "source": [],
      "metadata": {
        "id": "XUSwsq-9wQZm"
      },
      "execution_count": null,
      "outputs": []
    },
    {
      "cell_type": "code",
      "source": [],
      "metadata": {
        "id": "Y-LzvfOJwQV-"
      },
      "execution_count": null,
      "outputs": []
    },
    {
      "cell_type": "code",
      "source": [],
      "metadata": {
        "id": "TDVhbknzwQR0"
      },
      "execution_count": null,
      "outputs": []
    },
    {
      "cell_type": "code",
      "source": [],
      "metadata": {
        "id": "Q95BJVsHwQNk"
      },
      "execution_count": null,
      "outputs": []
    },
    {
      "cell_type": "code",
      "source": [],
      "metadata": {
        "id": "LZSOOlAIwQJ7"
      },
      "execution_count": null,
      "outputs": []
    },
    {
      "cell_type": "code",
      "source": [],
      "metadata": {
        "id": "u8OZk7xiwQGI"
      },
      "execution_count": null,
      "outputs": []
    },
    {
      "cell_type": "code",
      "source": [],
      "metadata": {
        "id": "7A9BlNVVwQA0"
      },
      "execution_count": null,
      "outputs": []
    },
    {
      "cell_type": "code",
      "source": [],
      "metadata": {
        "id": "mw15hM6RwP8O"
      },
      "execution_count": null,
      "outputs": []
    }
  ]
}