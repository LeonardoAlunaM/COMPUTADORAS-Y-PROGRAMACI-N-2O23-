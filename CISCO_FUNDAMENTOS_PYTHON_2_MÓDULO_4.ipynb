{
  "nbformat": 4,
  "nbformat_minor": 0,
  "metadata": {
    "colab": {
      "provenance": [],
      "authorship_tag": "ABX9TyOQkRinH22SndFCjjYbajOF",
      "include_colab_link": true
    },
    "kernelspec": {
      "name": "python3",
      "display_name": "Python 3"
    },
    "language_info": {
      "name": "python"
    }
  },
  "cells": [
    {
      "cell_type": "markdown",
      "metadata": {
        "id": "view-in-github",
        "colab_type": "text"
      },
      "source": [
        "<a href=\"https://colab.research.google.com/github/LeonardoAlunaM/COMPUTADORAS-Y-PROGRAMACI-N-2O23-/blob/main-COMPUTADORAS-Y-PROGTRAMACI%C3%93N-2023/CISCO_FUNDAMENTOS_PYTHON_2_M%C3%93DULO_4.ipynb\" target=\"_parent\"><img src=\"https://colab.research.google.com/assets/colab-badge.svg\" alt=\"Open In Colab\"/></a>"
      ]
    },
    {
      "cell_type": "markdown",
      "source": [
        "# Módulo 4: Misceláneos "
      ],
      "metadata": {
        "id": "9xA7ztyOmOJg"
      }
    },
    {
      "cell_type": "markdown",
      "source": [
        "4.1 Sección 1 - generadores, iteradores y cierres"
      ],
      "metadata": {
        "id": "rrUAx33fmN0b"
      }
    },
    {
      "cell_type": "code",
      "execution_count": null,
      "metadata": {
        "colab": {
          "base_uri": "https://localhost:8080/"
        },
        "id": "mm5CHriwmJvb",
        "outputId": "ea093217-e0ba-44a6-89e0-1d04892c5280"
      },
      "outputs": [
        {
          "output_type": "stream",
          "name": "stdout",
          "text": [
            "0\n",
            "1\n",
            "2\n",
            "3\n",
            "4\n"
          ]
        }
      ],
      "source": [
        "for i in range(5):\n",
        "    print(i)\n",
        "# La función range() es un generador, la cual también es un iterador."
      ]
    },
    {
      "cell_type": "code",
      "source": [
        "class Fib:\n",
        "    def __init__(self, nn):\n",
        "        print(\"__init__\")\n",
        "        self.__n = nn\n",
        "        self.__i = 0\n",
        "        self.__p1 = self.__p2 = 1\n",
        "\n",
        "    def __iter__(self):\n",
        "        print(\"__iter__\")\n",
        "        return self\n",
        "\n",
        "    def __next__(self):\n",
        "        print(\"__next__\")\t\t\n",
        "        self.__i += 1\n",
        "        if self.__i > self.__n:\n",
        "            raise StopIteration\n",
        "        if self.__i in [1, 2]:\n",
        "            return 1\n",
        "        ret = self.__p1 + self.__p2\n",
        "        self.__p1, self.__p2 = self.__p2, ret\n",
        "        return ret\n",
        "\n",
        "\n",
        "for i in Fib(10):\n",
        "    print(i)"
      ],
      "metadata": {
        "id": "kTYRHkWepG8r",
        "colab": {
          "base_uri": "https://localhost:8080/"
        },
        "outputId": "b3cb5a93-71d8-4d98-9220-8d8c0a39ed54"
      },
      "execution_count": null,
      "outputs": [
        {
          "output_type": "stream",
          "name": "stdout",
          "text": [
            "__init__\n",
            "__iter__\n",
            "__next__\n",
            "1\n",
            "__next__\n",
            "1\n",
            "__next__\n",
            "2\n",
            "__next__\n",
            "3\n",
            "__next__\n",
            "5\n",
            "__next__\n",
            "8\n",
            "__next__\n",
            "13\n",
            "__next__\n",
            "21\n",
            "__next__\n",
            "34\n",
            "__next__\n",
            "55\n",
            "__next__\n"
          ]
        }
      ]
    },
    {
      "cell_type": "code",
      "source": [
        "class Fib:\n",
        "    def __init__(self, nn):\n",
        "        print(\"__init__\")\n",
        "        self.__n = nn\n",
        "        self.__i = 0\n",
        "        self.__p1 = self.__p2 = 1\n",
        "\n",
        "    def __iter__(self):\n",
        "        print(\"__iter__\")\n",
        "        return self\n",
        "\n",
        "    def __next__(self):\n",
        "        print(\"__next__\")\t\t\n",
        "        self.__i += 1\n",
        "        if self.__i > self.__n:\n",
        "            raise StopIteration\n",
        "        if self.__i in [1, 2]:\n",
        "            return 1\n",
        "        ret = self.__p1 + self.__p2\n",
        "        self.__p1, self.__p2 = self.__p2, ret\n",
        "        return ret\n",
        "\n",
        "\n",
        "for i in Fib(15):\n",
        "    print(i)"
      ],
      "metadata": {
        "id": "KFK00MlnpG6U",
        "colab": {
          "base_uri": "https://localhost:8080/"
        },
        "outputId": "551e4ab4-79c7-4483-a29b-c53ca641bb46"
      },
      "execution_count": null,
      "outputs": [
        {
          "output_type": "stream",
          "name": "stdout",
          "text": [
            "__init__\n",
            "__iter__\n",
            "__next__\n",
            "1\n",
            "__next__\n",
            "1\n",
            "__next__\n",
            "2\n",
            "__next__\n",
            "3\n",
            "__next__\n",
            "5\n",
            "__next__\n",
            "8\n",
            "__next__\n",
            "13\n",
            "__next__\n",
            "21\n",
            "__next__\n",
            "34\n",
            "__next__\n",
            "55\n",
            "__next__\n",
            "89\n",
            "__next__\n",
            "144\n",
            "__next__\n",
            "233\n",
            "__next__\n",
            "377\n",
            "__next__\n",
            "610\n",
            "__next__\n"
          ]
        }
      ]
    },
    {
      "cell_type": "code",
      "source": [
        "class Fib:\n",
        "    def __init__(self, nn):\n",
        "        self.__n = nn\n",
        "        self.__i = 0\n",
        "        self.__p1 = self.__p2 = 1\n",
        "\n",
        "    def __iter__(self):\n",
        "        print(\"Fib iter\")\n",
        "        return self\n",
        "\n",
        "    def __next__(self):\n",
        "        self.__i += 1\n",
        "        if self.__i > self.__n:\n",
        "            raise StopIteration\n",
        "        if self.__i in [1, 2]:\n",
        "            return 1\n",
        "        ret = self.__p1 + self.__p2\n",
        "        self.__p1, self.__p2 = self.__p2, ret\n",
        "        return ret\n",
        "\n",
        "\n",
        "class Class:\n",
        "    def __init__(self, n):\n",
        "        self.__iter = Fib(n)\n",
        "\n",
        "    def __iter__(self):\n",
        "        print(\"Class iter\")\n",
        "        return self.__iter\n",
        "\n",
        "\n",
        "object = Class(8)\n",
        "\n",
        "for i in object:\n",
        "    print(i)\n",
        "    "
      ],
      "metadata": {
        "id": "6kjnkt3VpG4o",
        "colab": {
          "base_uri": "https://localhost:8080/"
        },
        "outputId": "0ba20960-622b-4600-9a6a-c0fba09b2146"
      },
      "execution_count": 1,
      "outputs": [
        {
          "output_type": "stream",
          "name": "stdout",
          "text": [
            "Class iter\n",
            "1\n",
            "1\n",
            "2\n",
            "3\n",
            "5\n",
            "8\n",
            "13\n",
            "21\n"
          ]
        }
      ]
    },
    {
      "cell_type": "code",
      "source": [
        "def fun(n):\n",
        "    for i in range(n):\n",
        "        return i"
      ],
      "metadata": {
        "id": "H8tqwnBOpG1w"
      },
      "execution_count": 2,
      "outputs": []
    },
    {
      "cell_type": "code",
      "source": [
        "def fun(n):\n",
        "    for i in range(n):\n",
        "        yield i\n",
        "# Las identaciones de este código estaban mal antes de que yo las corriegiera "
      ],
      "metadata": {
        "id": "RzBSRTMlcqgE"
      },
      "execution_count": 4,
      "outputs": []
    },
    {
      "cell_type": "markdown",
      "source": [
        "Hemos puesto yield en lugar de return. Esta pequeña enmienda convierte la función en un generador, y el ejecutar la sentencia yield tiene algunos efectos muy interesantes.\n",
        "\n",
        "Primeramente, proporciona el valor de la expresión especificada después de la palabra clave reservada yield, al igual que return, pero no pierde el estado de la función."
      ],
      "metadata": {
        "id": "500VXaVbdMFr"
      }
    },
    {
      "cell_type": "code",
      "source": [
        "def fun(n):\n",
        "    for i in range(n):\n",
        "        yield i\n",
        " \n",
        " \n",
        "for v in fun(5):\n",
        "    print(v)"
      ],
      "metadata": {
        "id": "BMKWq6mypGz2",
        "colab": {
          "base_uri": "https://localhost:8080/"
        },
        "outputId": "0d8675dd-4af3-411f-86e3-509e16c9eb0b"
      },
      "execution_count": 5,
      "outputs": [
        {
          "output_type": "stream",
          "name": "stdout",
          "text": [
            "0\n",
            "1\n",
            "2\n",
            "3\n",
            "4\n"
          ]
        }
      ]
    },
    {
      "cell_type": "code",
      "source": [
        "def powers_of_2(n):\n",
        "    power = 1\n",
        "    for i in range(n):\n",
        "        yield power\n",
        "        power *= 2\n",
        " \n",
        " \n",
        "for v in powers_of_2(8):\n",
        "    print(v)"
      ],
      "metadata": {
        "id": "Kumiz-2IpGxL",
        "colab": {
          "base_uri": "https://localhost:8080/"
        },
        "outputId": "c1f7bcc0-a4f8-4186-a601-cd6e0def6140"
      },
      "execution_count": 6,
      "outputs": [
        {
          "output_type": "stream",
          "name": "stdout",
          "text": [
            "1\n",
            "2\n",
            "4\n",
            "8\n",
            "16\n",
            "32\n",
            "64\n",
            "128\n"
          ]
        }
      ]
    },
    {
      "cell_type": "code",
      "source": [
        "def powers_of_2(n):\n",
        "    power = 1\n",
        "    for i in range(n):\n",
        "        yield power\n",
        "        power *= 2\n",
        " \n",
        " \n",
        "t = [x for x in powers_of_2(5)]\n",
        "print(t)"
      ],
      "metadata": {
        "id": "6JV_DWprpGvG",
        "colab": {
          "base_uri": "https://localhost:8080/"
        },
        "outputId": "3379e292-a6ca-4da2-a70e-af5395a87967"
      },
      "execution_count": 9,
      "outputs": [
        {
          "output_type": "stream",
          "name": "stdout",
          "text": [
            "[1, 2, 4, 8, 16]\n"
          ]
        }
      ]
    },
    {
      "cell_type": "code",
      "source": [
        "def powers_of_2(n):\n",
        "    power = 1\n",
        "    for i in range(n):\n",
        "        yield power\n",
        "        power *= 2\n",
        " \n",
        " \n",
        "t = list(powers_of_2(3))\n",
        "print(t)"
      ],
      "metadata": {
        "id": "fVWcTAEwpGsm",
        "colab": {
          "base_uri": "https://localhost:8080/"
        },
        "outputId": "6e2d3ad1-586d-452b-987a-5621a2150149"
      },
      "execution_count": 18,
      "outputs": [
        {
          "output_type": "stream",
          "name": "stdout",
          "text": [
            "[1, 2, 4]\n"
          ]
        }
      ]
    },
    {
      "cell_type": "code",
      "source": [
        "def powers_of_2(n):\n",
        "    power = 1\n",
        "    for i in range(n):\n",
        "        yield power\n",
        "        power *= 2\n",
        " \n",
        " \n",
        "for i in range(20):\n",
        "    if i in powers_of_2(4):\n",
        "        print(i)"
      ],
      "metadata": {
        "id": "-RZjcMDVpGqX",
        "colab": {
          "base_uri": "https://localhost:8080/"
        },
        "outputId": "60f72061-745c-45c8-bd8b-6f7f8af12eae"
      },
      "execution_count": 19,
      "outputs": [
        {
          "output_type": "stream",
          "name": "stdout",
          "text": [
            "1\n",
            "2\n",
            "4\n",
            "8\n"
          ]
        }
      ]
    },
    {
      "cell_type": "markdown",
      "source": [
        "Ahora veamos un generador de números de la serie Fibonacci, asegurandonos que se vea mucho mejor que la versión orientada a objetos basada en la implementación directa del protocolo iterador."
      ],
      "metadata": {
        "id": "QJb34EacfkxN"
      }
    },
    {
      "cell_type": "code",
      "source": [
        "def fibonacci(n):\n",
        "    p = pp = 1\n",
        "    for i in range(n):\n",
        "        if i in [0, 1]:\n",
        "            yield 1\n",
        "        else:\n",
        "            n = p + pp\n",
        "            pp, p = p, n\n",
        "            yield n\n",
        " \n",
        "fibs = list(fibonacci(10))\n",
        "print(fibs)"
      ],
      "metadata": {
        "id": "YD_kQCgUpGl7",
        "colab": {
          "base_uri": "https://localhost:8080/"
        },
        "outputId": "6d63d45f-4ec8-468b-cc89-4b4e95748903"
      },
      "execution_count": 20,
      "outputs": [
        {
          "output_type": "stream",
          "name": "stdout",
          "text": [
            "[1, 1, 2, 3, 5, 8, 13, 21, 34, 55]\n"
          ]
        }
      ]
    },
    {
      "cell_type": "markdown",
      "source": [
        "# Horas que faltan para que termine el año "
      ],
      "metadata": {
        "id": "PhkVpLAVg4g6"
      }
    },
    {
      "cell_type": "code",
      "source": [
        "# Programa que calcula las horas que faltan para que se acabe el año\n",
        "\n",
        "# Aún me faltaría agregar una regla que determinara el número de horas en función del día presente\n",
        "# Agregar una función calendario a la larga :V, osea después \n",
        "# En función de la hora inicial ( El mal llamado presente)\n",
        "\n",
        "hora_1 = int(input(\"Ingrese el número de horas que faltan para que se acabe el año:  \"))   \n",
        "if 0 <= hora_1 <= 8760:  ##Condicional 1    # Rango valido de horas en un año normal, no bisiesto \n",
        "    for i in range(365): # Días en un año == número de iteraciones que se llevana cabo durante el programa\n",
        "        hora_1 -= 24     # El valor ingresado por el usuario, -24 horas, en cada iteración \n",
        "        if hora_1 >= 0:  ##Condicional 2    # Solo aquellos valores de hora_1 -=24 >= (mayores que ) 0, son impresos en consola\n",
        "            print(f\"Horas que faltan para que se acabe el año: {hora_1} horas.\") # Desconozco si todos los valores del intervalo son calculados, en todo caso solo se imprimen \n",
        "else: # aquellos cuyo valor es mayor a 0 \n",
        "    print(\"Revisa el número de horas que faltan para terminar el año\")\n",
        "\n",
        "# Este código ya funciona según como se espera, pero sigue siendo muy simple\n",
        "\n",
        "# No recuerdo como funcionaba mi programa :C :V "
      ],
      "metadata": {
        "id": "xYhhFBbCpGkK"
      },
      "execution_count": null,
      "outputs": []
    },
    {
      "cell_type": "code",
      "source": [
        "list_1 = []\n",
        "\n",
        "for ex in range(6):\n",
        "    list_1.append(10 ** ex)\n",
        "\n",
        "list_2 = [10 ** ex for ex in range(6)]\n",
        "\n",
        "print(list_1)\n",
        "print(list_2)\n",
        "    "
      ],
      "metadata": {
        "id": "nlNdGUIGpGhl",
        "colab": {
          "base_uri": "https://localhost:8080/"
        },
        "outputId": "b2b8a8b2-5dd9-4537-8fa2-b14b055a034b"
      },
      "execution_count": 24,
      "outputs": [
        {
          "output_type": "stream",
          "name": "stdout",
          "text": [
            "[1, 10, 100, 1000, 10000, 100000]\n",
            "[1, 10, 100, 1000, 10000, 100000]\n"
          ]
        }
      ]
    },
    {
      "cell_type": "code",
      "source": [
        "the_list = []\n",
        "\n",
        "for x in range(10):\n",
        "    the_list.append(1 if x % 2 == 0 else 0)\n",
        "\n",
        "print(the_list)\n",
        "    "
      ],
      "metadata": {
        "id": "P7HLTUvcpGfk",
        "colab": {
          "base_uri": "https://localhost:8080/"
        },
        "outputId": "ef5509ae-e173-4d56-bacc-110d7c07a0da"
      },
      "execution_count": 25,
      "outputs": [
        {
          "output_type": "stream",
          "name": "stdout",
          "text": [
            "[1, 0, 1, 0, 1, 0, 1, 0, 1, 0]\n"
          ]
        }
      ]
    },
    {
      "cell_type": "code",
      "source": [
        "the_list = [1 if x % 2 == 0 else 0 for x in range(10)]\n",
        "\n",
        "print(the_list)\n",
        "    \n",
        "    "
      ],
      "metadata": {
        "id": "AqP8EhYppGdH",
        "colab": {
          "base_uri": "https://localhost:8080/"
        },
        "outputId": "6526d148-b9d2-4100-f0c2-1585b19bfd97"
      },
      "execution_count": 27,
      "outputs": [
        {
          "output_type": "stream",
          "name": "stdout",
          "text": [
            "[1, 0, 1, 0, 1, 0, 1, 0, 1, 0]\n"
          ]
        }
      ]
    },
    {
      "cell_type": "code",
      "source": [
        "the_list = [1 if x % 2 == 0 else 0 for x in range(10)]  # Corchetes = comprensión \n",
        "the_generator = (1 if x % 2 == 0 else 0 for x in range(10)) # Parentesis = generador \n",
        " \n",
        "for v in the_list:\n",
        "    print(v, end=\" \")\n",
        "print()\n",
        " \n",
        "for v in the_generator:\n",
        "    print(v, end=\" \")\n",
        "print()\n"
      ],
      "metadata": {
        "id": "dZ5kMvhvpGbT",
        "colab": {
          "base_uri": "https://localhost:8080/"
        },
        "outputId": "9243385e-1844-4d17-fd24-ce240e961810"
      },
      "execution_count": 28,
      "outputs": [
        {
          "output_type": "stream",
          "name": "stdout",
          "text": [
            "1 0 1 0 1 0 1 0 1 0 \n",
            "1 0 1 0 1 0 1 0 1 0 \n"
          ]
        }
      ]
    },
    {
      "cell_type": "code",
      "source": [
        "the_list = [1 if x % 2 == 0 else 0 for x in range(10)]  # Corchetes = comprensión \n",
        "the_generator = (1 if x % 2 == 0 else 0 for x in range(10)) # Parentesis = generador \n",
        " \n",
        "for v in the_list:\n",
        "    print(v, end=\" \")\n",
        "print()\n",
        " \n",
        "for v in the_generator:\n",
        "    print(v, end=\" \")\n",
        "print()\n",
        "len(the_list) # Longitud de la lista, la cual es una comprensión "
      ],
      "metadata": {
        "id": "J86cligppGZF",
        "colab": {
          "base_uri": "https://localhost:8080/"
        },
        "outputId": "891fc179-1eed-44fc-9d14-87f0a48780e3"
      },
      "execution_count": 29,
      "outputs": [
        {
          "output_type": "stream",
          "name": "stdout",
          "text": [
            "1 0 1 0 1 0 1 0 1 0 \n",
            "1 0 1 0 1 0 1 0 1 0 \n"
          ]
        },
        {
          "output_type": "execute_result",
          "data": {
            "text/plain": [
              "10"
            ]
          },
          "metadata": {},
          "execution_count": 29
        }
      ]
    },
    {
      "cell_type": "code",
      "source": [
        "the_list = [1 if x % 2 == 0 else 0 for x in range(10)]  # Corchetes = comprensión \n",
        "the_generator = (1 if x % 2 == 0 else 0 for x in range(10)) # Parentesis = generador \n",
        " \n",
        "for v in the_list:\n",
        "    print(v, end=\" \")\n",
        "print()\n",
        " \n",
        "for v in the_generator:\n",
        "    print(v, end=\" \")\n",
        "print()\n",
        "len(the_generator)\n",
        "\n",
        "# Se generá el error mostrado abajo en la consola "
      ],
      "metadata": {
        "id": "4OLOSgvppGXH",
        "colab": {
          "base_uri": "https://localhost:8080/",
          "height": 235
        },
        "outputId": "7a43a405-5c08-4c86-ad7b-110f9820ff6e"
      },
      "execution_count": 30,
      "outputs": [
        {
          "output_type": "stream",
          "name": "stdout",
          "text": [
            "1 0 1 0 1 0 1 0 1 0 \n",
            "1 0 1 0 1 0 1 0 1 0 \n"
          ]
        },
        {
          "output_type": "error",
          "ename": "TypeError",
          "evalue": "ignored",
          "traceback": [
            "\u001b[0;31m---------------------------------------------------------------------------\u001b[0m",
            "\u001b[0;31mTypeError\u001b[0m                                 Traceback (most recent call last)",
            "\u001b[0;32m<ipython-input-30-8f20e6984a94>\u001b[0m in \u001b[0;36m<cell line: 11>\u001b[0;34m()\u001b[0m\n\u001b[1;32m      9\u001b[0m     \u001b[0mprint\u001b[0m\u001b[0;34m(\u001b[0m\u001b[0mv\u001b[0m\u001b[0;34m,\u001b[0m \u001b[0mend\u001b[0m\u001b[0;34m=\u001b[0m\u001b[0;34m\" \"\u001b[0m\u001b[0;34m)\u001b[0m\u001b[0;34m\u001b[0m\u001b[0;34m\u001b[0m\u001b[0m\n\u001b[1;32m     10\u001b[0m \u001b[0mprint\u001b[0m\u001b[0;34m(\u001b[0m\u001b[0;34m)\u001b[0m\u001b[0;34m\u001b[0m\u001b[0;34m\u001b[0m\u001b[0m\n\u001b[0;32m---> 11\u001b[0;31m \u001b[0mlen\u001b[0m\u001b[0;34m(\u001b[0m\u001b[0mthe_generator\u001b[0m\u001b[0;34m)\u001b[0m\u001b[0;34m\u001b[0m\u001b[0;34m\u001b[0m\u001b[0m\n\u001b[0m",
            "\u001b[0;31mTypeError\u001b[0m: object of type 'generator' has no len()"
          ]
        }
      ]
    },
    {
      "cell_type": "code",
      "source": [
        "for v in [1 if x % 2 == 0 else 0 for x in range(10)]: # Lista de comprensión \n",
        "    print(v, end=\" \")\n",
        "print()\n",
        " \n",
        "for v in (1 if x % 2 == 0 else 0 for x in range(10)): # Generador \n",
        "    print(v, end=\" \")\n",
        "print()\n",
        " "
      ],
      "metadata": {
        "id": "McclOqzepGUq",
        "colab": {
          "base_uri": "https://localhost:8080/"
        },
        "outputId": "45968ce8-1bf8-4f4a-87b1-bc97c217fc3a"
      },
      "execution_count": 31,
      "outputs": [
        {
          "output_type": "stream",
          "name": "stdout",
          "text": [
            "1 0 1 0 1 0 1 0 1 0 \n",
            "1 0 1 0 1 0 1 0 1 0 \n"
          ]
        }
      ]
    },
    {
      "cell_type": "code",
      "source": [
        "lambda parameters: expression"
      ],
      "metadata": {
        "id": "gYgihLofpGSv",
        "colab": {
          "base_uri": "https://localhost:8080/"
        },
        "outputId": "48509680-793b-47a1-fd39-7e70174f2161"
      },
      "execution_count": 32,
      "outputs": [
        {
          "output_type": "execute_result",
          "data": {
            "text/plain": [
              "<function __main__.<lambda>(parameters)>"
            ]
          },
          "metadata": {},
          "execution_count": 32
        }
      ]
    },
    {
      "cell_type": "markdown",
      "source": [
        "Tal cláusula devuelve el valor de la expresión al tomar en cuenta el valor del argumento lambda actual."
      ],
      "metadata": {
        "id": "FOgSZ9Fmna5J"
      }
    },
    {
      "cell_type": "code",
      "source": [
        "two = lambda: 2\n",
        "sqr = lambda x: x * x\n",
        "pwr = lambda x, y: x ** y\n",
        " \n",
        "for a in range(-2, 3):\n",
        "    print(sqr(a), end=\" \")\n",
        "    print(pwr(a, two()))\n",
        " "
      ],
      "metadata": {
        "id": "b2dyGfdBpGQu",
        "colab": {
          "base_uri": "https://localhost:8080/"
        },
        "outputId": "4b403ed3-a2ff-4e2b-d662-b451cb202771"
      },
      "execution_count": 37,
      "outputs": [
        {
          "output_type": "stream",
          "name": "stdout",
          "text": [
            "4 4\n",
            "1 1\n",
            "0 0\n",
            "1 1\n",
            "4 4\n"
          ]
        }
      ]
    },
    {
      "cell_type": "code",
      "source": [
        "# Debo decir que este es uno de los algoritmos más ingeniosos que he visto \n",
        "def print_function(args, fun):\n",
        "    for x in args:\n",
        "        print('f(', x,')=', fun(x), sep='')\n",
        "\n",
        "\n",
        "def poly(x):\n",
        "    return 2 * x**2 - 4 * x + 2\n",
        "\n",
        "\n",
        "print_function([x for x in range(-2, 3)], poly)\n",
        "    "
      ],
      "metadata": {
        "id": "QRI7qzkApGOy",
        "colab": {
          "base_uri": "https://localhost:8080/"
        },
        "outputId": "7a76d63f-e631-40a8-b954-70d45d8f08cf"
      },
      "execution_count": 38,
      "outputs": [
        {
          "output_type": "stream",
          "name": "stdout",
          "text": [
            "f(-2)=18\n",
            "f(-1)=8\n",
            "f(0)=2\n",
            "f(1)=0\n",
            "f(2)=2\n"
          ]
        }
      ]
    },
    {
      "cell_type": "code",
      "source": [
        "# Este código es aún más ingenioso que el anterior \n",
        "def print_function(args, fun):\n",
        "    for x in args:\n",
        "        print('f(', x,')=', fun(x), sep='')\n",
        " \n",
        "print_function([x for x in range(-2, 3)],lambda x: 2 * x**2 - 4 * x + 2)  # lambda x: 2 * x**2 - 4 * x + 2) l DIFERENCIA ENTRE EL CÓDIGO ANTERIOR \n",
        "# Y EL CÓDIGO QUE SE PRESENTA EN ESTA PARTE \n",
        "\n",
        "# Estas dos líneas que siguen las escribí para comprobar un punto \n",
        "print(\".----------------------------------------------------------------------\")\n",
        "print_function([x for x in range(-2, 3)],lambda x: 2 * x**3 - 6 * x + 8) # Lo ultra suponía :V "
      ],
      "metadata": {
        "id": "piTBSbKhpGMi",
        "colab": {
          "base_uri": "https://localhost:8080/"
        },
        "outputId": "a596bdd2-d125-4365-d88d-edc09470e312"
      },
      "execution_count": 40,
      "outputs": [
        {
          "output_type": "stream",
          "name": "stdout",
          "text": [
            "f(-2)=18\n",
            "f(-1)=8\n",
            "f(0)=2\n",
            "f(1)=0\n",
            "f(2)=2\n",
            ".----------------------------------------------------------------------\n",
            "f(-2)=4\n",
            "f(-1)=12\n",
            "f(0)=8\n",
            "f(1)=4\n",
            "f(2)=12\n"
          ]
        }
      ]
    },
    {
      "cell_type": "code",
      "source": [
        "# Sintaxis de la función map( )\n",
        "\n",
        "map(function, list)"
      ],
      "metadata": {
        "id": "djlp1DXapGKy"
      },
      "execution_count": 42,
      "outputs": []
    },
    {
      "cell_type": "code",
      "source": [
        "list_1 = [x for x in range(5)]\n",
        "list_2 = list(map(lambda x: 2 ** x, list_1))\n",
        "print(list_2)\n",
        "\n",
        "for x in map(lambda x: x * x, list_2):\n",
        "    print(x, end=' ')\n",
        "print()\n",
        "    "
      ],
      "metadata": {
        "id": "rtLKE-WIpGIY",
        "colab": {
          "base_uri": "https://localhost:8080/"
        },
        "outputId": "163b22be-f4c4-4108-f831-7d6be508d9be"
      },
      "execution_count": 45,
      "outputs": [
        {
          "output_type": "stream",
          "name": "stdout",
          "text": [
            "[1, 2, 4, 8, 16]\n",
            "1 4 16 64 256 \n"
          ]
        }
      ]
    },
    {
      "cell_type": "code",
      "source": [
        "from random import seed, randint\n",
        "\n",
        "seed()\n",
        "data = [randint(-10,10) for x in range(5)]\n",
        "filtered = list(filter(lambda x: x > 0 and x % 2 == 0, data))\n",
        "\n",
        "print(data)\n",
        "print(filtered)\n",
        "    "
      ],
      "metadata": {
        "id": "VIu-FsfcpGGb",
        "colab": {
          "base_uri": "https://localhost:8080/"
        },
        "outputId": "fb2ced97-7fba-4d8d-a369-bb1cdd813aa2"
      },
      "execution_count": 50,
      "outputs": [
        {
          "output_type": "stream",
          "name": "stdout",
          "text": [
            "[7, 6, -2, -3, 10]\n",
            "[6, 10]\n"
          ]
        }
      ]
    },
    {
      "cell_type": "code",
      "source": [
        "# Analicemos un ejemplo simple:\n",
        "\n",
        "def outer(par):\n",
        "    loc = par\n",
        " \n",
        " \n",
        "var = 1\n",
        "outer(var)\n",
        " \n",
        "print(var)\n",
        "print(loc)\n",
        " "
      ],
      "metadata": {
        "id": "LC1DJpeFpGD5",
        "colab": {
          "base_uri": "https://localhost:8080/",
          "height": 235
        },
        "outputId": "11c25bfb-21ae-47f5-ed21-e6835baa58e4"
      },
      "execution_count": 51,
      "outputs": [
        {
          "output_type": "stream",
          "name": "stdout",
          "text": [
            "1\n"
          ]
        },
        {
          "output_type": "error",
          "ename": "NameError",
          "evalue": "ignored",
          "traceback": [
            "\u001b[0;31m---------------------------------------------------------------------------\u001b[0m",
            "\u001b[0;31mNameError\u001b[0m                                 Traceback (most recent call last)",
            "\u001b[0;32m<ipython-input-51-59ef70e9f2ed>\u001b[0m in \u001b[0;36m<cell line: 11>\u001b[0;34m()\u001b[0m\n\u001b[1;32m      9\u001b[0m \u001b[0;34m\u001b[0m\u001b[0m\n\u001b[1;32m     10\u001b[0m \u001b[0mprint\u001b[0m\u001b[0;34m(\u001b[0m\u001b[0mvar\u001b[0m\u001b[0;34m)\u001b[0m\u001b[0;34m\u001b[0m\u001b[0;34m\u001b[0m\u001b[0m\n\u001b[0;32m---> 11\u001b[0;31m \u001b[0mprint\u001b[0m\u001b[0;34m(\u001b[0m\u001b[0mloc\u001b[0m\u001b[0;34m)\u001b[0m\u001b[0;34m\u001b[0m\u001b[0;34m\u001b[0m\u001b[0m\n\u001b[0m\u001b[1;32m     12\u001b[0m \u001b[0;34m\u001b[0m\u001b[0m\n",
            "\u001b[0;31mNameError\u001b[0m: name 'loc' is not defined"
          ]
        }
      ]
    },
    {
      "cell_type": "code",
      "source": [
        "def outer(par):\n",
        "    loc = par\n",
        "\n",
        "    def inner():\n",
        "        return loc\n",
        "    return inner\n",
        "\n",
        "\n",
        "var = 1\n",
        "fun = outer(var)\n",
        "print(fun())\n",
        "    "
      ],
      "metadata": {
        "colab": {
          "base_uri": "https://localhost:8080/"
        },
        "id": "VMNhXcyp1FCw",
        "outputId": "7304e05f-5ea4-4e90-f64f-b1cda4b78eac"
      },
      "execution_count": 52,
      "outputs": [
        {
          "output_type": "stream",
          "name": "stdout",
          "text": [
            "1\n"
          ]
        }
      ]
    },
    {
      "cell_type": "code",
      "source": [
        "def outer(par):\n",
        "    loc = par\n",
        " \n",
        "    def inner():\n",
        "        return loc\n",
        "    return inner\n",
        " \n",
        " \n",
        "var = 1\n",
        "fun = outer(var)\n",
        "print(fun())"
      ],
      "metadata": {
        "colab": {
          "base_uri": "https://localhost:8080/"
        },
        "id": "5U_H0-Im1E_5",
        "outputId": "4f84c3ce-a18e-4b58-fde1-549dfebedfa4"
      },
      "execution_count": 53,
      "outputs": [
        {
          "output_type": "stream",
          "name": "stdout",
          "text": [
            "1\n"
          ]
        }
      ]
    },
    {
      "cell_type": "code",
      "source": [
        "def make_closure(par):\n",
        "    loc = par\n",
        "\n",
        "    def power(p):\n",
        "        return p ** loc\n",
        "    return power\n",
        "\n",
        "\n",
        "fsqr = make_closure(2)\n",
        "fcub = make_closure(3)\n",
        "\n",
        "ffor = make_closure(4) # Escrita por mí para comprobar un punto \n",
        "\n",
        "for i in range(5):\n",
        "    print(i, fsqr(i), fcub(i),ffor(i)) # Agregué \"\",ffor(i)\"\" aquí, para que la línea 12 fuera válida y se imprimiese "
      ],
      "metadata": {
        "colab": {
          "base_uri": "https://localhost:8080/"
        },
        "id": "ubSnwvy21E7q",
        "outputId": "11d2d14a-3caa-4076-dae7-8d866927ec2a"
      },
      "execution_count": 55,
      "outputs": [
        {
          "output_type": "stream",
          "name": "stdout",
          "text": [
            "0 0 0 0\n",
            "1 1 1 1\n",
            "2 4 8 16\n",
            "3 9 27 81\n",
            "4 16 64 256\n"
          ]
        }
      ]
    },
    {
      "cell_type": "code",
      "source": [
        "print(True if 0 >= 0 else False)"
      ],
      "metadata": {
        "colab": {
          "base_uri": "https://localhost:8080/"
        },
        "id": "M5VbmxuB1E5x",
        "outputId": "3c85d08a-371f-4ba3-b2cb-1480c3dcb608"
      },
      "execution_count": 56,
      "outputs": [
        {
          "output_type": "stream",
          "name": "stdout",
          "text": [
            "True\n"
          ]
        }
      ]
    },
    {
      "cell_type": "code",
      "source": [
        "for x in (el * 2 for el in range(5)):\n",
        "    print(x)\n",
        " "
      ],
      "metadata": {
        "colab": {
          "base_uri": "https://localhost:8080/"
        },
        "id": "KbZSRflE1E3a",
        "outputId": "1f55bfc9-0af9-4ced-ed44-a97ccc5231a5"
      },
      "execution_count": 59,
      "outputs": [
        {
          "output_type": "stream",
          "name": "stdout",
          "text": [
            "0\n",
            "2\n",
            "4\n",
            "6\n",
            "8\n"
          ]
        }
      ]
    },
    {
      "cell_type": "code",
      "source": [
        "def foo(x, f):\n",
        "    return f(x)\n",
        " \n",
        "print(foo(9, lambda x: x ** 0.5))\n",
        " "
      ],
      "metadata": {
        "colab": {
          "base_uri": "https://localhost:8080/"
        },
        "id": "PbHvobi31E1f",
        "outputId": "882223e8-40ba-4448-d96f-9b2480c7f76a"
      },
      "execution_count": 60,
      "outputs": [
        {
          "output_type": "stream",
          "name": "stdout",
          "text": [
            "3.0\n"
          ]
        }
      ]
    },
    {
      "cell_type": "code",
      "source": [
        "short_list = ['mython', 'python', 'cayó', 'en', 'el', 'piso']\n",
        "new_list = list(map(lambda s: s.title(), short_list))\n",
        "print(new_list)\n",
        " "
      ],
      "metadata": {
        "colab": {
          "base_uri": "https://localhost:8080/"
        },
        "id": "vkBHI2cI1EzZ",
        "outputId": "7af6bbed-4feb-43c6-9811-badf6ae39199"
      },
      "execution_count": 61,
      "outputs": [
        {
          "output_type": "stream",
          "name": "stdout",
          "text": [
            "['Mython', 'Python', 'Cayó', 'En', 'El', 'Piso']\n"
          ]
        }
      ]
    },
    {
      "cell_type": "code",
      "source": [
        "short_list = [1, \"Python\", -1, \"Monty\"]\n",
        "new_list = list(filter(lambda s: isinstance(s, str), short_list))\n",
        "print(new_list)\n",
        " "
      ],
      "metadata": {
        "colab": {
          "base_uri": "https://localhost:8080/"
        },
        "id": "YBJJ0kcL1Exr",
        "outputId": "0966a0f8-670a-4570-b780-a862a8b16a03"
      },
      "execution_count": 62,
      "outputs": [
        {
          "output_type": "stream",
          "name": "stdout",
          "text": [
            "['Python', 'Monty']\n"
          ]
        }
      ]
    },
    {
      "cell_type": "code",
      "source": [
        "def tag(tg):\n",
        "    tg2 = tg\n",
        "    tg2 = tg[0] + '/' + tg[1:]\n",
        " \n",
        "    def inner(str):\n",
        "        return tg + str + tg2\n",
        "    return inner\n",
        " \n",
        " \n",
        "b_tag = tag('<b>')\n",
        "print(b_tag('Monty Python'))"
      ],
      "metadata": {
        "colab": {
          "base_uri": "https://localhost:8080/"
        },
        "id": "M-P6IL9u1EvI",
        "outputId": "2e22d642-f53c-428d-cf35-eadcb8948cdc"
      },
      "execution_count": 63,
      "outputs": [
        {
          "output_type": "stream",
          "name": "stdout",
          "text": [
            "<b>Monty Python</b>\n"
          ]
        }
      ]
    },
    {
      "cell_type": "markdown",
      "source": [
        "# resumen de sección "
      ],
      "metadata": {
        "id": "6s11jhjb96Ox"
      }
    },
    {
      "cell_type": "code",
      "source": [
        "class Vowels:\n",
        "    def __init__(self):\n",
        "        self.vow = \"aeiouy \" # Sí, sabemos que y no siempre se considera una vocal.\n",
        "        self.pos = 0\n",
        " \n",
        "    def __iter__(self):\n",
        "        return self\n",
        " \n",
        "    def __next__(self):\n",
        "        if self.pos == len(self.vow):\n",
        "            raise StopIteration\n",
        "        self.pos += 1\n",
        "        return self.vow[self.pos - 1]\n",
        " \n",
        " \n",
        "vowels = Vowels()\n",
        "for v in vowels:\n",
        "    print(v, end=' ')\n",
        " "
      ],
      "metadata": {
        "colab": {
          "base_uri": "https://localhost:8080/"
        },
        "id": "AI-TCDvV1EtH",
        "outputId": "01162aca-54fe-495f-a2cd-cfe4fdcc3c21"
      },
      "execution_count": 64,
      "outputs": [
        {
          "output_type": "stream",
          "name": "stdout",
          "text": [
            "a e i o u y   "
          ]
        }
      ]
    },
    {
      "cell_type": "code",
      "source": [
        "any_list = [1, 2, 3, 4]\n",
        "even_list = list(map(lambda n: n | 1, any_list)) # Completa la línea aquí.\n",
        "print(even_list)"
      ],
      "metadata": {
        "colab": {
          "base_uri": "https://localhost:8080/"
        },
        "id": "QHqJ0kc-1Eqb",
        "outputId": "aba20cea-93c0-423c-b262-1cee94717a77"
      },
      "execution_count": 66,
      "outputs": [
        {
          "output_type": "stream",
          "name": "stdout",
          "text": [
            "[1, 3, 3, 5]\n"
          ]
        }
      ]
    },
    {
      "cell_type": "code",
      "source": [
        "def replace_spaces(replacement='*'):\n",
        "    def new_replacement(text):\n",
        "        return text.replace(' ', replacement)\n",
        "    return new_replacement\n",
        " \n",
        " \n",
        "stars = replace_spaces()\n",
        "print(stars(\"And Now for Something Completely Different\"))\n",
        " "
      ],
      "metadata": {
        "colab": {
          "base_uri": "https://localhost:8080/"
        },
        "id": "iOWKydWF1Emk",
        "outputId": "796c43a1-37b6-445d-800e-6fe08fd499e2"
      },
      "execution_count": 67,
      "outputs": [
        {
          "output_type": "stream",
          "name": "stdout",
          "text": [
            "And*Now*for*Something*Completely*Different\n"
          ]
        }
      ]
    },
    {
      "cell_type": "markdown",
      "source": [
        "# Nota importante \n",
        "\n",
        "PEP 8, la Guía de Estilo para Código Python, recomienda que las funciones lambdas no deben asignarse a variables, sino que deben definirse como funciones.\n",
        "\n",
        "Esto significa que es mejor utilizar una sentencia def, y evita usar una sentencia de asignación que vincule una expresión lambda a un identificador. Analiza el código a continuación:"
      ],
      "metadata": {
        "id": "KwSl9t3G-c7U"
      }
    },
    {
      "cell_type": "code",
      "source": [
        "# Recomendado:\n",
        "def f(x): return 3*x\n",
        " \n",
        " \n",
        "# No recomendado:\n",
        "f = lambda x: 3*x\n",
        " "
      ],
      "metadata": {
        "id": "b2WkczLy1Ekq"
      },
      "execution_count": 68,
      "outputs": []
    },
    {
      "cell_type": "markdown",
      "source": [
        "La vinculación de lambdas a identificadores generalmente duplica la funcionalidad de la declaración def. El uso de sentencias def, por otro lado, genera más líneas de código.\n",
        "\n",
        "Es importante comprender que a la realidad a menudo le gusta dibujar sus propios escenarios, que no necesariamente siguen las convenciones o recomendaciones formales. Si decides seguirlos o no, dependerá de muchas cosas: tus preferencias, otras convenciones adoptadas, las pautas internas de la empresa, la compatibilidad con el código existente, etc. Toma en cuenta esto.\n",
        "\n"
      ],
      "metadata": {
        "id": "ppAXnCJF-lTG"
      }
    },
    {
      "cell_type": "markdown",
      "source": [
        "# 4.2 Sección 2 – Archivos (flujos de archivos, procesamiento de archivos, diagnóstico de problemas de flujo)"
      ],
      "metadata": {
        "id": "dcaHn5gT_H6G"
      }
    },
    {
      "cell_type": "code",
      "source": [
        "# sintaxis para abrir flujos o streams \n",
        "stream = open(file, mode = 'r', encoding = None)\n",
        " "
      ],
      "metadata": {
        "id": "Y1gfiR0K1EjJ"
      },
      "execution_count": 70,
      "outputs": []
    },
    {
      "cell_type": "markdown",
      "source": [
        "# 4.2.7 Abriendo el flujo (stream) por primera vez\n",
        "\n",
        "Imagina que queremos desarrollar un programa que lea el contenido del archivo \n",
        "de texto llamado:\n",
        "\n",
        "C:\\Users\\User\\Desktop\\file.txt.\n",
        "\n",
        "\n",
        "¿Cómo abrir ese archivo para leerlo? Aquí está el fragmento del código:"
      ],
      "metadata": {
        "id": "0M1K9adxYlqN"
      }
    },
    {
      "cell_type": "code",
      "source": [
        "try:\n",
        "    stream = open(\"C:\\Users\\User\\Desktop\file.txt\", \"rt\")\n",
        "    # El procesamiento va aquí.\n",
        "    stream.close()\n",
        "except Exception as exc:\n",
        "    print(\"No se puede abrir el archivo:\", exc)"
      ],
      "metadata": {
        "id": "mKZNP54P1Ego"
      },
      "execution_count": 74,
      "outputs": []
    },
    {
      "cell_type": "code",
      "source": [
        "import sys"
      ],
      "metadata": {
        "id": "bR-5HYAE1EeC"
      },
      "execution_count": null,
      "outputs": []
    },
    {
      "cell_type": "code",
      "source": [
        "try:\n",
        "    # Algunas operaciones con streams.\n",
        "except IOError as exc:\n",
        "    print(exc.errno)\n",
        " "
      ],
      "metadata": {
        "id": "mwpNMPV71Ebk"
      },
      "execution_count": null,
      "outputs": []
    },
    {
      "cell_type": "code",
      "source": [
        "import errno\n",
        "\n",
        "try:\n",
        "    s = open(\"c:/users/user/Desktop/file.txt\", \"rt\")\n",
        "    # El procesamiento va aquí.\n",
        "    s.close()\n",
        "except Exception as exc:\n",
        "    if exc.errno == errno.ENOENT:\n",
        "        print(\"El archivo no existe.\")\n",
        "    elif exc.errno == errno.EMFILE:\n",
        "        print(\"Demasiados archivos abiertos.\")\n",
        "    else:\n",
        "        print(\"El numero del error es:\", exc.errno)\n",
        "\n",
        "# Salida en la consola \n",
        "##   El archivo no existe."
      ],
      "metadata": {
        "id": "Mz0UHUbV1EZ5"
      },
      "execution_count": null,
      "outputs": []
    },
    {
      "cell_type": "code",
      "source": [
        "from os import strerror\n",
        "\n",
        "try:\n",
        "    s = open(\"c:/users/user/Desktop/file.txt\", \"rt\")\n",
        "    # El procesamiento va aquí.\n",
        "    s.close()\n",
        "except Exception as exc:\n",
        "    print(\"El archivo no pudo ser abierto:\", strerror(exc.errno))\n",
        "# Salida en la consola \n",
        "## El archivo no pudo ser abierto: No such file or directory"
      ],
      "metadata": {
        "id": "llsyxoEs1EYM"
      },
      "execution_count": null,
      "outputs": []
    },
    {
      "cell_type": "code",
      "source": [
        "open(file_name, mode=open_mode, encoding=text_encoding)"
      ],
      "metadata": {
        "id": "iabBu8oT1EWn"
      },
      "execution_count": null,
      "outputs": []
    },
    {
      "cell_type": "code",
      "source": [
        "import errno\n",
        " \n",
        "try:\n",
        "    stream = open(\"file\", \"rb\")\n",
        "        print(\"exists\")\n",
        "    stream.close()\n",
        "except IOError as error:\n",
        "    if error.errno == errno.ENOENT:\n",
        "        print(\"ausente\")\n",
        "    else:\n",
        "        print(\"desconocido\")\n",
        "# suponiendo que estuviese bin identado , la salida del algoritmo es \n",
        "\n",
        "# ausente"
      ],
      "metadata": {
        "id": "vu0OkYMV1EUR"
      },
      "execution_count": null,
      "outputs": []
    },
    {
      "cell_type": "markdown",
      "source": [
        "# 4.3 Sección 3 – Trabajando con archivos reales"
      ],
      "metadata": {
        "id": "om7_iSuklMhE"
      }
    },
    {
      "cell_type": "code",
      "source": [
        "stream = open('file.txt', 'rt', encoding='utf-8')"
      ],
      "metadata": {
        "id": "sJjGrHOO1ERU"
      },
      "execution_count": null,
      "outputs": []
    },
    {
      "cell_type": "code",
      "source": [
        "from os import strerror\n",
        "\n",
        "try:\n",
        "    counter = 0\n",
        "    stream = open('text.txt', \"rt\")\n",
        "    char = stream.read(1)\n",
        "    while char != '':\n",
        "        print(char, end='')\n",
        "        counter += 1\n",
        "        char = stream.read(1)\n",
        "    stream.close()\n",
        "    print(\"\\n\\nCaracteres en el archivo:\", counter)\n",
        "except IOError as e:\n",
        "    print(\"Se produjo un error de E/S: \", strerror(e.errno))\n",
        "\n",
        "    # Acá se produce un error debido a que no tengo fuardado el archivo de texto dentro de mi computadora \n",
        "# dentro del skills for all el archivo si existe, y por lo tanto la salida del algoritmo es: \n",
        "\n",
        "# Beautiful is better than ugly.\n",
        "# Explicit is better than implicit.\n",
        "# Simple is better than complex.\n",
        "# Complex is better than complicated.\n",
        "\n",
        "# Caracteres en el archivo: 131"
      ],
      "metadata": {
        "colab": {
          "base_uri": "https://localhost:8080/"
        },
        "id": "zF7HtT1L1EPW",
        "outputId": "600e5077-4366-49a7-d991-233010dafbe6"
      },
      "execution_count": 75,
      "outputs": [
        {
          "output_type": "stream",
          "name": "stdout",
          "text": [
            "Se produjo un error de E/S:  No such file or directory\n"
          ]
        }
      ]
    },
    {
      "cell_type": "code",
      "source": [
        "from os import strerror\n",
        "\n",
        "try:\n",
        "    counter = 0\n",
        "    stream = open('text.txt', \"rt\")\n",
        "    content = stream.read()\n",
        "    for char in content:\n",
        "        print(char, end='')\n",
        "        counter += 1\n",
        "    stream.close()\n",
        "    print(\"\\n\\nCaracteres en el archivo:\", counter)\n",
        "except IOError as e:\n",
        "    print(\"Se produjo un error de E/S: \", strerr(e.errno)) # strerror"
      ],
      "metadata": {
        "id": "q-kxeFDwmrDs"
      },
      "execution_count": null,
      "outputs": []
    },
    {
      "cell_type": "markdown",
      "source": [
        "Console \n",
        "\n",
        "Beautiful is better than ugly.\n",
        "\n",
        "Explicit is better than implicit.\n",
        "\n",
        "Simple is better than complex.\n",
        "\n",
        "Complex is better than complicated.\n",
        "\n",
        "Caracteres en el archivo: 131"
      ],
      "metadata": {
        "id": "4hv7PVaQsGFd"
      }
    },
    {
      "cell_type": "code",
      "source": [
        "from os import strerror\n",
        "\n",
        "try:\n",
        "    character_counter = line_counter = 0\n",
        "    stream = open('text.txt', 'rt')\n",
        "    line = stream.readline()\n",
        "    while line != '':\n",
        "        line_counter += 1\n",
        "        for char in line:\n",
        "            print(char, end='')\n",
        "            character_counter += 1\n",
        "        line = stream.readline()\n",
        "    stream.close()\n",
        "    print(\"\\n\\nCaracteres en el archivo:\", character_counter)\n",
        "    print(\"Líneas en el archivo:     \", line_counter)\n",
        "except IOError as e:\n",
        "    print(\"Se produjo un error de E/S:\", strerror(e.errno))\n",
        "    "
      ],
      "metadata": {
        "id": "OHOemS8qmrBO"
      },
      "execution_count": null,
      "outputs": []
    },
    {
      "cell_type": "markdown",
      "source": [
        "Beautiful is better than ugly.\n",
        "\n",
        "Explicit is better than implicit.\n",
        "\n",
        "Simple is better than complex.\n",
        "\n",
        "Complex is better than complicated.\n",
        "\n",
        "Caracteres en el archivo: 131\n",
        "\n",
        "Líneas en el archivo:      4"
      ],
      "metadata": {
        "id": "1YnfbK8TxptI"
      }
    },
    {
      "cell_type": "code",
      "source": [
        "stream = open(\"text.txt\")\n",
        "print(stream.readlines(20))\n",
        "print(stream.readlines(20))\n",
        "print(stream.readlines(20))\n",
        "print(stream.readlines(20))\n",
        "stream.close()"
      ],
      "metadata": {
        "id": "LeM-LSuQmpqz"
      },
      "execution_count": null,
      "outputs": []
    },
    {
      "cell_type": "markdown",
      "source": [
        "Salida del codigo mostrado en el bloque de arriba \n",
        "['Beautiful is better than ugly.\\n']\n",
        " \n",
        "['Explicit is better than implicit.\\n']\n",
        "\n",
        "['Simple is better than complex.\\n']\n",
        "\n",
        "['Complex is better than complicated.']"
      ],
      "metadata": {
        "id": "_v1uwQ0-ydQP"
      }
    },
    {
      "cell_type": "code",
      "source": [
        "from os import strerror\n",
        "\n",
        "try:\n",
        "    ccnt = lcnt = 0\n",
        "    s = open('text.txt', 'rt')\n",
        "    lines = s.readlines(20)\n",
        "    while len(lines) != 0:\n",
        "        for line in lines:\n",
        "            lcnt += 1\n",
        "            for ch in line:\n",
        "                print(ch, end='')\n",
        "                ccnt += 1\n",
        "        lines = s.readlines(10)\n",
        "    s.close()\n",
        "    print(\"\\n\\nCaracteres en el archivo:\", ccnt)\n",
        "    print(\"Líneas en archivo:     \", lcnt)\n",
        "except IOError as e:\n",
        "    print(\"Se produjo un error de E/S:\", strerror(e.errno))"
      ],
      "metadata": {
        "id": "PehEryEempl8"
      },
      "execution_count": null,
      "outputs": []
    },
    {
      "cell_type": "markdown",
      "source": [
        "Beautiful is better than ugly.\n",
        "\n",
        "Explicit is better than implicit.\n",
        "\n",
        "Simple is better than complex.\n",
        "\n",
        "Complex is better than complicated.\n",
        "\n",
        "Caracteres en el archivo: 131\n",
        "\n",
        "Líneas en archivo:      4"
      ],
      "metadata": {
        "id": "lkv3MPJazO82"
      }
    },
    {
      "cell_type": "code",
      "source": [
        "from os import strerror\n",
        "\n",
        "try:\n",
        "\tccnt = lcnt = 0\n",
        "\tfor line in open('text.txt', 'rt'):\n",
        "\t\tlcnt += 1\n",
        "\t\tfor ch in line:\n",
        "\t\t\tprint(ch, end='')\n",
        "\t\t\tccnt += 1\n",
        "\tprint(\"\\n\\nCaracteres en el archivo:\", ccnt)\n",
        "\tprint(\"Líneas en el archivo:     \", lcnt)\n",
        "except IOError as e:\n",
        "\tprint(\"Se produjo un error de E/S: \", strerror(e.errno))\n",
        "    "
      ],
      "metadata": {
        "colab": {
          "base_uri": "https://localhost:8080/"
        },
        "id": "qb5kaK_hmpj7",
        "outputId": "2875220b-5ea4-4186-fe12-b3984d100e1d"
      },
      "execution_count": 76,
      "outputs": [
        {
          "output_type": "stream",
          "name": "stdout",
          "text": [
            "Se produjo un error de E/S:  No such file or directory\n"
          ]
        }
      ]
    },
    {
      "cell_type": "markdown",
      "source": [
        "Beautiful is better than ugly.\n",
        "\n",
        "Explicit is better than implicit.\n",
        "\n",
        "Simple is better than complex.\n",
        "\n",
        "Complex is better than complicated.\n",
        "\n",
        "Caracteres en el archivo: 131\n",
        "\n",
        "Líneas en el archivo:      4"
      ],
      "metadata": {
        "id": "jlC6SWSd0CyS"
      }
    },
    {
      "cell_type": "code",
      "source": [
        "from os import strerror\n",
        "\n",
        "try:\n",
        "\tfile = open('newtext.txt', 'wt') # Un nuevo archivo (newtext.txt) es creado.\n",
        "\tfor i in range(10):\n",
        "\t\ts = \"línea #\" + str(i+1) + \"\\n\"\n",
        "\t\tfor char in s:\n",
        "\t\t\tfile.write(char)\n",
        "\tfile.close()\n",
        "except IOError as e:\n",
        "\tprint(\"Se produjo un error de E/S: \", strerror(e.errno))\n",
        "    # Al seleccionar este codigo aparecen unas flechas que apuntan en dirección izquierda - derecha, así --> "
      ],
      "metadata": {
        "id": "EBJRKVT0mpht"
      },
      "execution_count": null,
      "outputs": []
    },
    {
      "cell_type": "code",
      "source": [
        "from os import strerror\n",
        "\n",
        "try:\n",
        "    file = open('newtext.txt', 'wt')\n",
        "    for i in range(10):\n",
        "        file.write(\"línea #\" + str(i+1) + \"\\n\")\n",
        "    file.close()\n",
        "except IOError as e:\n",
        "    print(\"Se produjo un error de E/S: \", strerror(e.errno))\n",
        "    "
      ],
      "metadata": {
        "id": "AWdO_Qhhmpfy"
      },
      "execution_count": null,
      "outputs": []
    },
    {
      "cell_type": "code",
      "source": [
        "import sys\n",
        "sys.stderr.write(\"Mensaje de Error\")"
      ],
      "metadata": {
        "id": "YppvhURwmpd-"
      },
      "execution_count": null,
      "outputs": []
    },
    {
      "cell_type": "code",
      "source": [
        "data = bytearray(10)"
      ],
      "metadata": {
        "id": "eolvRClImpcG"
      },
      "execution_count": null,
      "outputs": []
    },
    {
      "cell_type": "code",
      "source": [
        "data = bytearray(10)\n",
        "\n",
        "for i in range(len(data)):\n",
        "    data[i] = 10 - i\n",
        "\n",
        "for b in data:\n",
        "    print(hex(b))\n",
        "    "
      ],
      "metadata": {
        "colab": {
          "base_uri": "https://localhost:8080/"
        },
        "id": "bP-gEcwAmpXj",
        "outputId": "d3761639-8385-4b7b-80f5-51b4c226833d"
      },
      "execution_count": 77,
      "outputs": [
        {
          "output_type": "stream",
          "name": "stdout",
          "text": [
            "0xa\n",
            "0x9\n",
            "0x8\n",
            "0x7\n",
            "0x6\n",
            "0x5\n",
            "0x4\n",
            "0x3\n",
            "0x2\n",
            "0x1\n"
          ]
        }
      ]
    },
    {
      "cell_type": "code",
      "source": [
        "from os import strerror\n",
        "\n",
        "data = bytearray(10)\n",
        "\n",
        "for i in range(len(data)):\n",
        "    data[i] = 10 + i\n",
        "\n",
        "try:\n",
        "    bf = open('file.bin', 'wb')\n",
        "    bf.write(data)\n",
        "    bf.close()\n",
        "except IOError as e:\n",
        "    print(\"Se produjo un error de E/S:\", strerror(e.errno))\n",
        "\n",
        "# Ingresa aquí el código que lee los bytes del stream."
      ],
      "metadata": {
        "id": "u_-h8WQJmpVd"
      },
      "execution_count": null,
      "outputs": []
    },
    {
      "cell_type": "code",
      "source": [
        "from os import strerror\n",
        "\n",
        "data = bytearray(10)\n",
        "\n",
        "try:\n",
        "    binary_file = open('file.bin', 'rb')\n",
        "    binary_file.readinto(data)\n",
        "    binary_file.close()\n",
        "\n",
        "    for b in data:\n",
        "        print(hex(b), end=' ')\n",
        "except IOError as e:\n",
        "    print(\"Se produjo un error de E/S:\", strerror(e.errno))"
      ],
      "metadata": {
        "id": "Eyft7BACmpSw"
      },
      "execution_count": null,
      "outputs": []
    },
    {
      "cell_type": "code",
      "source": [
        "from os import strerror\n",
        "\n",
        "try:\n",
        "    binary_file = open('file.bin', 'rb')\n",
        "    data = bytearray(binary_file.read())\n",
        "    binary_file.close()\n",
        "\n",
        "    for b in data:\n",
        "        print(hex(b), end=' ')\n",
        "\n",
        "except IOError as e:\n",
        "    print(\"Se produjo un error de E/S:\", strerror(e.errno))\n",
        "    "
      ],
      "metadata": {
        "id": "0FU7z7hAmpQr"
      },
      "execution_count": null,
      "outputs": []
    },
    {
      "cell_type": "code",
      "source": [
        "from os import strerror\n",
        "\n",
        "try:\n",
        "    binary_file = open('file.bin', 'rb')\n",
        "    data = bytearray(binary_file.read(5))\n",
        "    binary_file.close()\n",
        "\n",
        "    for b in data:\n",
        "        print(hex(b), end=' ')\n",
        "\n",
        "except IOError as e:\n",
        "    print(\"Se produjo un error de E/S:\", strerror(e.errno))\n",
        "    "
      ],
      "metadata": {
        "id": "7zza1hNMmpNv"
      },
      "execution_count": null,
      "outputs": []
    },
    {
      "cell_type": "code",
      "source": [
        "from os import strerror\n",
        "\n",
        "srcname = input(\"Ingresa el nombre del archivo fuente: \")\n",
        "try:\n",
        "    src = open(srcname, 'rb')\n",
        "except IOError as e:\n",
        "    print(\"No se puede abrir archivo fuente: \", strerror(e.errno))\n",
        "    exit(e.errno)\t\n",
        "\n",
        "dstname = input(\"Ingresa el nombre del archivo destino: \")\n",
        "try:\n",
        "    dst = open(dstname, 'wb')\n",
        "except Exception as e:\n",
        "    print(\"No se puede crear el archivo de destino: \", strerror(e.errno))\n",
        "    src.close()\n",
        "    exit(e.errno)\t\n",
        "\n",
        "buffer = bytearray(65536)\n",
        "total  = 0\n",
        "try:\n",
        "    readin = src.readinto(buffer)\n",
        "    while readin > 0:\n",
        "        written = dst.write(buffer[:readin])\n",
        "        total += written\n",
        "        readin = src.readinto(buffer)\n",
        "except IOError as e:\n",
        "    print(\"No se puede crear el archivo de destino: \", strerror(e.errno))\n",
        "    exit(e.errno)\t\n",
        "    \n",
        "print(total,'byte(s) escritos con éxito')\n",
        "src.close()\n",
        "dst.close()"
      ],
      "metadata": {
        "id": "keypeW0QmpLw"
      },
      "execution_count": null,
      "outputs": []
    },
    {
      "cell_type": "markdown",
      "source": [
        "# 4.3.8   LAB   Histograma de frecuencia de caracteres"
      ],
      "metadata": {
        "id": "TgqIoTEf6vS_"
      }
    },
    {
      "cell_type": "code",
      "source": [
        "from os import strerror\n",
        "\n",
        "# Inicializa 26 contadores para cada letra latina.\n",
        "# Nota: hemos usado una comprensión para esto.\n",
        "counters = {chr(ch): 0 for ch in range(ord('a'), ord('z') + 1)}\n",
        "file_name = input(\"Ingresa el nombre del archivo a analizar: \")\n",
        "try:\n",
        "    file = open(file_name, \"rt\")\n",
        "    for line in file:\n",
        "        for char in line:\n",
        "            # Si es una letra...\n",
        "            if char.isalpha():\n",
        "                # ... lo trataremos en minúsculas y actualizaremos el contador apropiado.\n",
        "                counters[char.lower()] += 1\n",
        "    file.close()\n",
        "    # Imprimamos los contadores.\n",
        "    for char in counters.keys():\n",
        "        c = counters[char]\n",
        "        if c > 0:\n",
        "            print(char, '->', c)\n",
        "except IOError as e:\n",
        "    print(\"Se produjo un error de E/S: \", strerror(e.errno))"
      ],
      "metadata": {
        "id": "1D6OaSNZmpIl"
      },
      "execution_count": null,
      "outputs": []
    },
    {
      "cell_type": "markdown",
      "source": [
        "# 4.3.9   LAB   Histograma de frecuencia de caracteres ordenado"
      ],
      "metadata": {
        "id": "K9WjzZR37Q2K"
      }
    },
    {
      "cell_type": "code",
      "source": [
        "from os import strerror\n",
        "\n",
        "counters = {chr(ch): 0 for ch in range(ord('a'), ord('z') + 1)}\n",
        "file_name = input(\"Ingresa el nombre del archivo a analizar: \")\n",
        "try:\n",
        "    file = open(file_name, \"rt\")\n",
        "    for line in file:\n",
        "        for char in line:\n",
        "            if char.isalpha():\n",
        "                counters[char.lower()] += 1\n",
        "    file.close()\n",
        "    file = open(file_name + '.hist', 'wt')\n",
        "    # Nota: hemos utilizado una lambda para acceder a los elementos del directorio y se ha establecido reverse a True para obtener un orden válido.\n",
        "    for char in sorted(counters.keys(), key=lambda x: counters[x], reverse=True):\n",
        "        c = counters[char]\n",
        "        if c > 0:\n",
        "            file.write(char + ' -> ' + str(c) + '\\n')\n",
        "    file.close()\n",
        "except IOError as e:\n",
        "    print(\"Se produjo un error de E/S: \", strerror(e.errno))"
      ],
      "metadata": {
        "id": "oZchuDRRmpGd"
      },
      "execution_count": null,
      "outputs": []
    },
    {
      "cell_type": "markdown",
      "source": [
        "# 4.3.10   LAB   Evaluando los resultados de los estudiantes\n"
      ],
      "metadata": {
        "id": "U-jchq5e72lx"
      }
    },
    {
      "cell_type": "code",
      "source": [
        "# Una clase de la excepción base para nuestro código:\n",
        "class StudentsDataException(Exception):\n",
        "    pass\n",
        "\n",
        "\n",
        "# Una excepción para líneas erróneas:\n",
        "class WrongLine(StudentsDataException):\n",
        "    def __init__(self, line_number, line_string):\n",
        "        super().__init__(self)\n",
        "        self.line_number = line_number\n",
        "        self.line_string = line_string\n",
        "\n",
        "\n",
        "# Una excepción para un archivo vacío.\n",
        "class FileEmpty(StudentsDataException):\n",
        "    def __init__(self):\n",
        "        super().__init__(self)\n",
        "\n",
        "\n",
        "from os import strerror\n",
        "\n",
        "# Un diccionario para los datos de los estudiantes:\n",
        "data = { }\n",
        "\n",
        "file_name = input(\"Ingresa el nombre del archivo de datos del estudiante: \")\n",
        "line_number = 1\n",
        "try:\n",
        "    f = open(file_name, \"rt\")\n",
        "    # Leer el archivo completo en la lista.\n",
        "    lines = f.readlines()\n",
        "    f.close()\n",
        "    # ¿El archivo está vacío?\n",
        "    if len(lines) == 0:\n",
        "        raise FileEmpty()\n",
        "    # Escanee el archivo línea por línea.\n",
        "    for i in range(len(lines)):\n",
        "        # Obtener la línea n.\n",
        "        line = lines[i]\n",
        "        # Divídirlo en columnas.\n",
        "        columns = line.split()\n",
        "        # Debe haber 3 columnas, ¿están ahí?\n",
        "        if len(columns) != 3:\n",
        "            raise WrongLine(i + 1, line)\n",
        "        # Construye una clave a partir del nombre y apellido del estudiante.\n",
        "        student = columns[0] + ' ' + columns[1]\n",
        "        # Obtener puntos.\n",
        "        try:\n",
        "            points = float(columns[2])\n",
        "        except ValueError:\n",
        "            raise WrongLine(i + 1, line)\n",
        "        # Actualizar el diccionario.\n",
        "        try:\n",
        "            data[student] += points\n",
        "        except KeyError:\n",
        "            data[student] = points\n",
        "    # Imprimir resultados.\n",
        "    for student in sorted(data.keys()):\n",
        "        print(student,'\\t', data[student])\n",
        "\n",
        "except IOError as e:\n",
        "    print(\"Se produjo un error de E/S: \", strerror(e.errno))\n",
        "except WrongLine as e:\n",
        "    print(\"Línea incorrecta #\" + str(e.line_number) + \" en el archivo fuente:\" + e.line_string)\n",
        "except FileEmpty:\n",
        "    print(\"Archivo fuente vacío\")\n",
        "    "
      ],
      "metadata": {
        "id": "KeVCr2xfmpD8"
      },
      "execution_count": null,
      "outputs": []
    },
    {
      "cell_type": "code",
      "source": [
        "for line in open(\"file\", \"rt\"):\n",
        "    print(line, end='')"
      ],
      "metadata": {
        "id": "h4MvgnebmpBm"
      },
      "execution_count": null,
      "outputs": []
    },
    {
      "cell_type": "code",
      "source": [
        "for line in open(\"file\", \"rt\"):\n",
        "    for char in line:\n",
        "        if char.lower() not in \"aeiouy \":\n",
        "            print(char, end='')"
      ],
      "metadata": {
        "id": "CWMlggvrmo_c"
      },
      "execution_count": null,
      "outputs": []
    },
    {
      "cell_type": "code",
      "source": [
        "try:\n",
        "    stream = open(\"image.png\", \"rb\")\n",
        "    image = bytearray(stream.read()) # Inserta una línea aquí.\n",
        "    stream.close()\n",
        "except IOError:\n",
        "    print(\"fallido\")\n",
        "else:\n",
        "    print(\"exitoso\")"
      ],
      "metadata": {
        "id": "PQQFz-q6mo9i"
      },
      "execution_count": null,
      "outputs": []
    },
    {
      "cell_type": "markdown",
      "source": [
        "# 4.4 Sección 4 – El módulo os - interactuando con el sistema operativo"
      ],
      "metadata": {
        "id": "Et-ani27-Y3r"
      }
    },
    {
      "cell_type": "code",
      "source": [
        "import os\n",
        "print(os.uname())\n",
        " "
      ],
      "metadata": {
        "id": "Z-MHD_0Lmo7i"
      },
      "execution_count": null,
      "outputs": []
    },
    {
      "cell_type": "code",
      "source": [],
      "metadata": {
        "id": "3ZCn9N9V_o__"
      },
      "execution_count": null,
      "outputs": []
    },
    {
      "cell_type": "code",
      "source": [],
      "metadata": {
        "id": "YR4WG5-jmo4J"
      },
      "execution_count": null,
      "outputs": []
    },
    {
      "cell_type": "code",
      "source": [],
      "metadata": {
        "id": "jaKcFzo8mo0Y"
      },
      "execution_count": null,
      "outputs": []
    },
    {
      "cell_type": "code",
      "source": [],
      "metadata": {
        "id": "40ow158CmoyL"
      },
      "execution_count": null,
      "outputs": []
    },
    {
      "cell_type": "code",
      "source": [],
      "metadata": {
        "id": "dTJwVxC5movs"
      },
      "execution_count": null,
      "outputs": []
    },
    {
      "cell_type": "code",
      "source": [],
      "metadata": {
        "id": "JBltNv_8motc"
      },
      "execution_count": null,
      "outputs": []
    },
    {
      "cell_type": "code",
      "source": [],
      "metadata": {
        "id": "1SmV4PB6mopr"
      },
      "execution_count": null,
      "outputs": []
    },
    {
      "cell_type": "code",
      "source": [],
      "metadata": {
        "id": "0gJ-OOlqmon6"
      },
      "execution_count": null,
      "outputs": []
    },
    {
      "cell_type": "code",
      "source": [],
      "metadata": {
        "id": "0s6u_edlmolG"
      },
      "execution_count": null,
      "outputs": []
    },
    {
      "cell_type": "code",
      "source": [],
      "metadata": {
        "id": "XtLLaymPmojE"
      },
      "execution_count": null,
      "outputs": []
    },
    {
      "cell_type": "code",
      "source": [],
      "metadata": {
        "id": "EeGm7f0_mogC"
      },
      "execution_count": null,
      "outputs": []
    },
    {
      "cell_type": "code",
      "source": [],
      "metadata": {
        "id": "Jm9hu053mod8"
      },
      "execution_count": null,
      "outputs": []
    },
    {
      "cell_type": "code",
      "source": [],
      "metadata": {
        "id": "RGcWYossmobP"
      },
      "execution_count": null,
      "outputs": []
    },
    {
      "cell_type": "code",
      "source": [],
      "metadata": {
        "id": "ceKnnTn6moZT"
      },
      "execution_count": null,
      "outputs": []
    },
    {
      "cell_type": "code",
      "source": [],
      "metadata": {
        "id": "5oA2XLCNmoXG"
      },
      "execution_count": null,
      "outputs": []
    },
    {
      "cell_type": "code",
      "source": [],
      "metadata": {
        "id": "n2fDm-nZmoVN"
      },
      "execution_count": null,
      "outputs": []
    },
    {
      "cell_type": "code",
      "source": [],
      "metadata": {
        "id": "NU4Y4gewmoTM"
      },
      "execution_count": null,
      "outputs": []
    },
    {
      "cell_type": "code",
      "source": [],
      "metadata": {
        "id": "c0l8sUNZmoRX"
      },
      "execution_count": null,
      "outputs": []
    },
    {
      "cell_type": "code",
      "source": [],
      "metadata": {
        "id": "ZpVweUMKmoPk"
      },
      "execution_count": null,
      "outputs": []
    },
    {
      "cell_type": "code",
      "source": [],
      "metadata": {
        "id": "KVvCTt3cmoNW"
      },
      "execution_count": null,
      "outputs": []
    },
    {
      "cell_type": "code",
      "source": [],
      "metadata": {
        "id": "DiMMqHWvmoLi"
      },
      "execution_count": null,
      "outputs": []
    },
    {
      "cell_type": "code",
      "source": [],
      "metadata": {
        "id": "Vp6tH8n7moHO"
      },
      "execution_count": null,
      "outputs": []
    },
    {
      "cell_type": "code",
      "source": [],
      "metadata": {
        "id": "jERJObremoFN"
      },
      "execution_count": null,
      "outputs": []
    },
    {
      "cell_type": "code",
      "source": [],
      "metadata": {
        "id": "bCgCLm22moDI"
      },
      "execution_count": null,
      "outputs": []
    },
    {
      "cell_type": "code",
      "source": [],
      "metadata": {
        "id": "9YK_tAzBmoAX"
      },
      "execution_count": null,
      "outputs": []
    },
    {
      "cell_type": "code",
      "source": [],
      "metadata": {
        "id": "MvlID80jmn-S"
      },
      "execution_count": null,
      "outputs": []
    }
  ]
}