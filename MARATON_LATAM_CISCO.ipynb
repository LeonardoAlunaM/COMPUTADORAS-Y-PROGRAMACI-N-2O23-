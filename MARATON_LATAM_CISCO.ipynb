{
  "nbformat": 4,
  "nbformat_minor": 0,
  "metadata": {
    "colab": {
      "provenance": [],
      "authorship_tag": "ABX9TyNQAZfLlv7BzKJXVOiLAPDN",
      "include_colab_link": true
    },
    "kernelspec": {
      "name": "python3",
      "display_name": "Python 3"
    },
    "language_info": {
      "name": "python"
    }
  },
  "cells": [
    {
      "cell_type": "markdown",
      "metadata": {
        "id": "view-in-github",
        "colab_type": "text"
      },
      "source": [
        "<a href=\"https://colab.research.google.com/github/LeonardoAlunaM/COMPUTADORAS-Y-PROGRAMACI-N-2O23-/blob/main-COMPUTADORAS-Y-PROGTRAMACI%C3%93N-2023/MARATON_LATAM_CISCO.ipynb\" target=\"_parent\"><img src=\"https://colab.research.google.com/assets/colab-badge.svg\" alt=\"Open In Colab\"/></a>"
      ]
    },
    {
      "cell_type": "code",
      "execution_count": 1,
      "metadata": {
        "id": "VpLbL0GGRysx",
        "outputId": "8bc4db48-b577-486b-ed91-828d1c6f7dd3",
        "colab": {
          "base_uri": "https://localhost:8080/"
        }
      },
      "outputs": [
        {
          "output_type": "stream",
          "name": "stdout",
          "text": [
            "2\n"
          ]
        }
      ],
      "source": [
        "print(+2)"
      ]
    },
    {
      "cell_type": "code",
      "source": [
        "print(-3 ** 2)\n",
        "print(-2 ** 3)\n",
        "print(-(3 ** 2))\n",
        "\n"
      ],
      "metadata": {
        "id": "nkJ5rH7cHsqr",
        "outputId": "2c6405a6-a987-4c18-e47d-3ff6236585cc",
        "colab": {
          "base_uri": "https://localhost:8080/"
        }
      },
      "execution_count": 2,
      "outputs": [
        {
          "output_type": "stream",
          "name": "stdout",
          "text": [
            "-9\n",
            "-8\n",
            "-9\n"
          ]
        }
      ]
    },
    {
      "cell_type": "code",
      "source": [
        "print(2 * 3 % 5)"
      ],
      "metadata": {
        "id": "ciRF5Oy1IYBv",
        "outputId": "366f7620-c48c-4486-fd8a-b9318d3fd611",
        "colab": {
          "base_uri": "https://localhost:8080/"
        }
      },
      "execution_count": 3,
      "outputs": [
        {
          "output_type": "stream",
          "name": "stdout",
          "text": [
            "1\n"
          ]
        }
      ]
    },
    {
      "cell_type": "code",
      "source": [
        "(25 % 13)"
      ],
      "metadata": {
        "id": "-7b33o3QKmOO",
        "outputId": "72eb27b4-4028-4ba7-c5c0-d67f707219db",
        "colab": {
          "base_uri": "https://localhost:8080/"
        }
      },
      "execution_count": 5,
      "outputs": [
        {
          "output_type": "execute_result",
          "data": {
            "text/plain": [
              "12"
            ]
          },
          "metadata": {},
          "execution_count": 5
        }
      ]
    },
    {
      "cell_type": "code",
      "source": [
        "print( ((5 * 12 + 100)) / ( (2 * 13) // 2 ) )"
      ],
      "metadata": {
        "id": "T8Gef_RVKrhr",
        "outputId": "d706accc-4f65-435c-e974-e8f539ce7408",
        "colab": {
          "base_uri": "https://localhost:8080/"
        }
      },
      "execution_count": 11,
      "outputs": [
        {
          "output_type": "stream",
          "name": "stdout",
          "text": [
            "12.307692307692308\n"
          ]
        }
      ]
    },
    {
      "cell_type": "code",
      "source": [
        "( 26 // 2 )\n",
        "\n"
      ],
      "metadata": {
        "id": "jjHoUUsrLkM0",
        "outputId": "b876e00a-9fc0-4ceb-e029-10cf6b307683",
        "colab": {
          "base_uri": "https://localhost:8080/"
        }
      },
      "execution_count": 14,
      "outputs": [
        {
          "output_type": "execute_result",
          "data": {
            "text/plain": [
              "13"
            ]
          },
          "metadata": {},
          "execution_count": 14
        }
      ]
    },
    {
      "cell_type": "code",
      "source": [
        "print( ((5 * 12 + 100) ) / ( 26 // 2 ))"
      ],
      "metadata": {
        "id": "71FjUOMTLWzi",
        "outputId": "a893adda-64d4-479f-9470-266958008af3",
        "colab": {
          "base_uri": "https://localhost:8080/"
        }
      },
      "execution_count": 12,
      "outputs": [
        {
          "output_type": "stream",
          "name": "stdout",
          "text": [
            "12.307692307692308\n"
          ]
        }
      ]
    },
    {
      "cell_type": "code",
      "source": [
        "print( (160) / 13)"
      ],
      "metadata": {
        "id": "SqDqvIXrLl3P",
        "outputId": "1e3e8840-4b25-4cb8-949f-ed92d956a329",
        "colab": {
          "base_uri": "https://localhost:8080/"
        }
      },
      "execution_count": 15,
      "outputs": [
        {
          "output_type": "stream",
          "name": "stdout",
          "text": [
            "12.307692307692308\n"
          ]
        }
      ]
    },
    {
      "cell_type": "code",
      "source": [
        "160 / 13"
      ],
      "metadata": {
        "id": "6fjoXvXzMtj8",
        "outputId": "81e47222-ade6-4a03-b32c-c2f68479490e",
        "colab": {
          "base_uri": "https://localhost:8080/"
        }
      },
      "execution_count": 24,
      "outputs": [
        {
          "output_type": "execute_result",
          "data": {
            "text/plain": [
              "12.307692307692308"
            ]
          },
          "metadata": {},
          "execution_count": 24
        }
      ]
    },
    {
      "cell_type": "code",
      "source": [
        "print( (2 * 13) // 2)"
      ],
      "metadata": {
        "id": "ONTLkKdkMit3",
        "outputId": "702e8735-f095-4e8d-ee02-55b9afd7adb8",
        "colab": {
          "base_uri": "https://localhost:8080/"
        }
      },
      "execution_count": 23,
      "outputs": [
        {
          "output_type": "stream",
          "name": "stdout",
          "text": [
            "13\n"
          ]
        }
      ]
    },
    {
      "cell_type": "code",
      "source": [
        "print( (5 * (25 % 13) + 100) ) \n",
        "\n"
      ],
      "metadata": {
        "id": "Jt2mxTB5MAHj",
        "outputId": "de6b4c1f-d916-410a-8729-bd5390097823",
        "colab": {
          "base_uri": "https://localhost:8080/"
        }
      },
      "execution_count": 21,
      "outputs": [
        {
          "output_type": "stream",
          "name": "stdout",
          "text": [
            "160\n"
          ]
        }
      ]
    },
    {
      "cell_type": "code",
      "source": [
        "print((5 * ((25 % 13) + 100) / (2 * 13)) // 2)"
      ],
      "metadata": {
        "id": "tl7ZqKetKhVN",
        "outputId": "d451e323-9f3b-4b48-8f86-86dc64c32a05",
        "colab": {
          "base_uri": "https://localhost:8080/"
        }
      },
      "execution_count": 4,
      "outputs": [
        {
          "output_type": "stream",
          "name": "stdout",
          "text": [
            "10.0\n"
          ]
        }
      ]
    },
    {
      "cell_type": "code",
      "source": [
        "print((2 ** 4), (2 * 4.), (2 * 4))"
      ],
      "metadata": {
        "id": "m8tilofgOV1Q",
        "outputId": "cd81ec3f-139f-464a-d972-c552ecde4331",
        "colab": {
          "base_uri": "https://localhost:8080/"
        }
      },
      "execution_count": 25,
      "outputs": [
        {
          "output_type": "stream",
          "name": "stdout",
          "text": [
            "16 8.0 8\n"
          ]
        }
      ]
    },
    {
      "cell_type": "code",
      "source": [
        "print((-2 / 4), (2 / 4), (2 // 4), (-2 // 4))"
      ],
      "metadata": {
        "id": "pqoqcqmBOu8E",
        "outputId": "c42c7f97-aa21-49d6-bbe6-d53fa1821743",
        "colab": {
          "base_uri": "https://localhost:8080/"
        }
      },
      "execution_count": 27,
      "outputs": [
        {
          "output_type": "stream",
          "name": "stdout",
          "text": [
            "-0.5 0.5 0 -1\n"
          ]
        }
      ]
    },
    {
      "cell_type": "code",
      "source": [
        "print((2 % -4), (2 % 4), (2 ** 3 ** 2))"
      ],
      "metadata": {
        "id": "GthXBn9qO6pZ",
        "outputId": "e36cdcfa-ea8c-4269-cd09-48c05d3aff0c",
        "colab": {
          "base_uri": "https://localhost:8080/"
        }
      },
      "execution_count": 28,
      "outputs": [
        {
          "output_type": "stream",
          "name": "stdout",
          "text": [
            "-2 2 512\n"
          ]
        }
      ]
    },
    {
      "cell_type": "code",
      "source": [
        "var = 1\n",
        "print(var)"
      ],
      "metadata": {
        "id": "atTtzojDRwbX",
        "outputId": "fd9d7ce3-cf27-4993-e4f3-4babe8099e13",
        "colab": {
          "base_uri": "https://localhost:8080/"
        }
      },
      "execution_count": 29,
      "outputs": [
        {
          "output_type": "stream",
          "name": "stdout",
          "text": [
            "1\n"
          ]
        }
      ]
    },
    {
      "cell_type": "code",
      "source": [],
      "metadata": {
        "id": "hRfj8FaJRyfA"
      },
      "execution_count": null,
      "outputs": []
    },
    {
      "cell_type": "code",
      "source": [],
      "metadata": {
        "id": "2HLYDJ1TRyds"
      },
      "execution_count": null,
      "outputs": []
    }
  ]
}