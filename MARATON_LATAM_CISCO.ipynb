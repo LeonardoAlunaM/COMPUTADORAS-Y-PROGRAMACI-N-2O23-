{
  "nbformat": 4,
  "nbformat_minor": 0,
  "metadata": {
    "colab": {
      "provenance": [],
      "authorship_tag": "ABX9TyMH1ueujQOP0gXGVI5ueoXS",
      "include_colab_link": true
    },
    "kernelspec": {
      "name": "python3",
      "display_name": "Python 3"
    },
    "language_info": {
      "name": "python"
    }
  },
  "cells": [
    {
      "cell_type": "markdown",
      "metadata": {
        "id": "view-in-github",
        "colab_type": "text"
      },
      "source": [
        "<a href=\"https://colab.research.google.com/github/LeonardoAlunaM/COMPUTADORAS-Y-PROGRAMACI-N-2O23-/blob/main-COMPUTADORAS-Y-PROGTRAMACI%C3%93N-2023/MARATON_LATAM_CISCO.ipynb\" target=\"_parent\"><img src=\"https://colab.research.google.com/assets/colab-badge.svg\" alt=\"Open In Colab\"/></a>"
      ]
    },
    {
      "cell_type": "code",
      "execution_count": null,
      "metadata": {
        "id": "VpLbL0GGRysx",
        "colab": {
          "base_uri": "https://localhost:8080/"
        },
        "outputId": "8bc4db48-b577-486b-ed91-828d1c6f7dd3"
      },
      "outputs": [
        {
          "output_type": "stream",
          "name": "stdout",
          "text": [
            "2\n"
          ]
        }
      ],
      "source": [
        "print(+2)"
      ]
    },
    {
      "cell_type": "code",
      "source": [
        "print(-3 ** 2)\n",
        "print(-2 ** 3)\n",
        "print(-(3 ** 2))\n",
        "\n"
      ],
      "metadata": {
        "colab": {
          "base_uri": "https://localhost:8080/"
        },
        "id": "nkJ5rH7cHsqr",
        "outputId": "2c6405a6-a987-4c18-e47d-3ff6236585cc"
      },
      "execution_count": null,
      "outputs": [
        {
          "output_type": "stream",
          "name": "stdout",
          "text": [
            "-9\n",
            "-8\n",
            "-9\n"
          ]
        }
      ]
    },
    {
      "cell_type": "code",
      "source": [
        "print(2 * 3 % 5)"
      ],
      "metadata": {
        "colab": {
          "base_uri": "https://localhost:8080/"
        },
        "id": "ciRF5Oy1IYBv",
        "outputId": "366f7620-c48c-4486-fd8a-b9318d3fd611"
      },
      "execution_count": null,
      "outputs": [
        {
          "output_type": "stream",
          "name": "stdout",
          "text": [
            "1\n"
          ]
        }
      ]
    },
    {
      "cell_type": "code",
      "source": [
        "(25 % 13)"
      ],
      "metadata": {
        "colab": {
          "base_uri": "https://localhost:8080/"
        },
        "id": "-7b33o3QKmOO",
        "outputId": "72eb27b4-4028-4ba7-c5c0-d67f707219db"
      },
      "execution_count": null,
      "outputs": [
        {
          "output_type": "execute_result",
          "data": {
            "text/plain": [
              "12"
            ]
          },
          "metadata": {},
          "execution_count": 5
        }
      ]
    },
    {
      "cell_type": "code",
      "source": [
        "print( ((5 * 12 + 100)) / ( (2 * 13) // 2 ) )"
      ],
      "metadata": {
        "colab": {
          "base_uri": "https://localhost:8080/"
        },
        "id": "T8Gef_RVKrhr",
        "outputId": "d706accc-4f65-435c-e974-e8f539ce7408"
      },
      "execution_count": null,
      "outputs": [
        {
          "output_type": "stream",
          "name": "stdout",
          "text": [
            "12.307692307692308\n"
          ]
        }
      ]
    },
    {
      "cell_type": "code",
      "source": [
        "( 26 // 2 )\n",
        "\n"
      ],
      "metadata": {
        "colab": {
          "base_uri": "https://localhost:8080/"
        },
        "id": "jjHoUUsrLkM0",
        "outputId": "b876e00a-9fc0-4ceb-e029-10cf6b307683"
      },
      "execution_count": null,
      "outputs": [
        {
          "output_type": "execute_result",
          "data": {
            "text/plain": [
              "13"
            ]
          },
          "metadata": {},
          "execution_count": 14
        }
      ]
    },
    {
      "cell_type": "code",
      "source": [
        "print( ((5 * 12 + 100) ) / ( 26 // 2 ))"
      ],
      "metadata": {
        "colab": {
          "base_uri": "https://localhost:8080/"
        },
        "id": "71FjUOMTLWzi",
        "outputId": "a893adda-64d4-479f-9470-266958008af3"
      },
      "execution_count": null,
      "outputs": [
        {
          "output_type": "stream",
          "name": "stdout",
          "text": [
            "12.307692307692308\n"
          ]
        }
      ]
    },
    {
      "cell_type": "code",
      "source": [
        "print( (160) / 13)"
      ],
      "metadata": {
        "colab": {
          "base_uri": "https://localhost:8080/"
        },
        "id": "SqDqvIXrLl3P",
        "outputId": "1e3e8840-4b25-4cb8-949f-ed92d956a329"
      },
      "execution_count": null,
      "outputs": [
        {
          "output_type": "stream",
          "name": "stdout",
          "text": [
            "12.307692307692308\n"
          ]
        }
      ]
    },
    {
      "cell_type": "code",
      "source": [
        "160 / 13"
      ],
      "metadata": {
        "colab": {
          "base_uri": "https://localhost:8080/"
        },
        "id": "6fjoXvXzMtj8",
        "outputId": "81e47222-ade6-4a03-b32c-c2f68479490e"
      },
      "execution_count": null,
      "outputs": [
        {
          "output_type": "execute_result",
          "data": {
            "text/plain": [
              "12.307692307692308"
            ]
          },
          "metadata": {},
          "execution_count": 24
        }
      ]
    },
    {
      "cell_type": "code",
      "source": [
        "print( (2 * 13) // 2)"
      ],
      "metadata": {
        "colab": {
          "base_uri": "https://localhost:8080/"
        },
        "id": "ONTLkKdkMit3",
        "outputId": "702e8735-f095-4e8d-ee02-55b9afd7adb8"
      },
      "execution_count": null,
      "outputs": [
        {
          "output_type": "stream",
          "name": "stdout",
          "text": [
            "13\n"
          ]
        }
      ]
    },
    {
      "cell_type": "code",
      "source": [
        "print( (5 * (25 % 13) + 100) ) \n",
        "\n"
      ],
      "metadata": {
        "colab": {
          "base_uri": "https://localhost:8080/"
        },
        "id": "Jt2mxTB5MAHj",
        "outputId": "de6b4c1f-d916-410a-8729-bd5390097823"
      },
      "execution_count": null,
      "outputs": [
        {
          "output_type": "stream",
          "name": "stdout",
          "text": [
            "160\n"
          ]
        }
      ]
    },
    {
      "cell_type": "code",
      "source": [
        "print((5 * ((25 % 13) + 100) / (2 * 13)) // 2)"
      ],
      "metadata": {
        "colab": {
          "base_uri": "https://localhost:8080/"
        },
        "id": "tl7ZqKetKhVN",
        "outputId": "d451e323-9f3b-4b48-8f86-86dc64c32a05"
      },
      "execution_count": null,
      "outputs": [
        {
          "output_type": "stream",
          "name": "stdout",
          "text": [
            "10.0\n"
          ]
        }
      ]
    },
    {
      "cell_type": "code",
      "source": [
        "print((2 ** 4), (2 * 4.), (2 * 4))"
      ],
      "metadata": {
        "colab": {
          "base_uri": "https://localhost:8080/"
        },
        "id": "m8tilofgOV1Q",
        "outputId": "cd81ec3f-139f-464a-d972-c552ecde4331"
      },
      "execution_count": null,
      "outputs": [
        {
          "output_type": "stream",
          "name": "stdout",
          "text": [
            "16 8.0 8\n"
          ]
        }
      ]
    },
    {
      "cell_type": "code",
      "source": [
        "print((-2 / 4), (2 / 4), (2 // 4), (-2 // 4))"
      ],
      "metadata": {
        "colab": {
          "base_uri": "https://localhost:8080/"
        },
        "id": "pqoqcqmBOu8E",
        "outputId": "c42c7f97-aa21-49d6-bbe6-d53fa1821743"
      },
      "execution_count": null,
      "outputs": [
        {
          "output_type": "stream",
          "name": "stdout",
          "text": [
            "-0.5 0.5 0 -1\n"
          ]
        }
      ]
    },
    {
      "cell_type": "code",
      "source": [
        "print((2 % -4), (2 % 4), (2 ** 3 ** 2))"
      ],
      "metadata": {
        "colab": {
          "base_uri": "https://localhost:8080/"
        },
        "id": "GthXBn9qO6pZ",
        "outputId": "e36cdcfa-ea8c-4269-cd09-48c05d3aff0c"
      },
      "execution_count": null,
      "outputs": [
        {
          "output_type": "stream",
          "name": "stdout",
          "text": [
            "-2 2 512\n"
          ]
        }
      ]
    },
    {
      "cell_type": "code",
      "source": [
        "var = 1\n",
        "print(var)"
      ],
      "metadata": {
        "colab": {
          "base_uri": "https://localhost:8080/"
        },
        "id": "atTtzojDRwbX",
        "outputId": "fd9d7ce3-cf27-4993-e4f3-4babe8099e13"
      },
      "execution_count": null,
      "outputs": [
        {
          "output_type": "stream",
          "name": "stdout",
          "text": [
            "1\n"
          ]
        }
      ]
    },
    {
      "cell_type": "code",
      "source": [
        "var = 1\n",
        "account_balance = 1000.0\n",
        "client_name = 'John Doe'\n",
        "print(var, account_balance, client_name)\n",
        "print(var)"
      ],
      "metadata": {
        "colab": {
          "base_uri": "https://localhost:8080/"
        },
        "id": "hRfj8FaJRyfA",
        "outputId": "a5119388-83b3-4955-d7d2-1ff4a15bcbfe"
      },
      "execution_count": null,
      "outputs": [
        {
          "output_type": "stream",
          "name": "stdout",
          "text": [
            "1 1000.0 John Doe\n",
            "1\n"
          ]
        }
      ]
    },
    {
      "cell_type": "code",
      "source": [
        "var = \"3.8.5\"\n",
        "print(\"Python version: \" + var)"
      ],
      "metadata": {
        "colab": {
          "base_uri": "https://localhost:8080/"
        },
        "id": "2HLYDJ1TRyds",
        "outputId": "d567154c-f430-40f1-9bdc-49aa35fbe5a0"
      },
      "execution_count": null,
      "outputs": [
        {
          "output_type": "stream",
          "name": "stdout",
          "text": [
            "Python version: 3.8.5\n"
          ]
        }
      ]
    },
    {
      "cell_type": "code",
      "source": [
        "var = 1\n",
        "print(var)\n",
        "var = var + 1\n",
        "print(var)\n",
        "\n"
      ],
      "metadata": {
        "colab": {
          "base_uri": "https://localhost:8080/"
        },
        "id": "M2oj2QUQbvt2",
        "outputId": "ad412ee8-48d0-4283-e87b-fa16004167f1"
      },
      "execution_count": null,
      "outputs": [
        {
          "output_type": "stream",
          "name": "stdout",
          "text": [
            "1\n",
            "2\n"
          ]
        }
      ]
    },
    {
      "cell_type": "code",
      "source": [
        "var = 1\n",
        "print(var)\n",
        "var = var + 1\n",
        "print(var)"
      ],
      "metadata": {
        "colab": {
          "base_uri": "https://localhost:8080/"
        },
        "id": "lzgs71vNcFIm",
        "outputId": "6230f27f-3876-4926-cedf-c499d3edab27"
      },
      "execution_count": null,
      "outputs": [
        {
          "output_type": "stream",
          "name": "stdout",
          "text": [
            "1\n",
            "2\n"
          ]
        }
      ]
    },
    {
      "cell_type": "code",
      "source": [
        "var = 1\n",
        "print(var)\n",
        "var = var + (2*var)\n",
        "print(var)\n",
        "\n"
      ],
      "metadata": {
        "colab": {
          "base_uri": "https://localhost:8080/"
        },
        "id": "HlD7kutNbyEC",
        "outputId": "85faba8d-258b-4e14-e4c4-8905fb4c0379"
      },
      "execution_count": null,
      "outputs": [
        {
          "output_type": "stream",
          "name": "stdout",
          "text": [
            "1\n",
            "3\n"
          ]
        }
      ]
    },
    {
      "cell_type": "code",
      "source": [
        "var = 100\n",
        "var = 200 + 300\n",
        "print(var)"
      ],
      "metadata": {
        "colab": {
          "base_uri": "https://localhost:8080/"
        },
        "id": "2L1Im3FMiWHq",
        "outputId": "4d303780-d0d2-47cf-e32c-de7fb32e621f"
      },
      "execution_count": null,
      "outputs": [
        {
          "output_type": "stream",
          "name": "stdout",
          "text": [
            "500\n"
          ]
        }
      ]
    },
    {
      "cell_type": "code",
      "source": [
        "a = 3.0\n",
        "b = 4.0\n",
        "c = (a ** 2 + b ** 2) ** 0.5\n",
        "print(\"c =\", c)"
      ],
      "metadata": {
        "colab": {
          "base_uri": "https://localhost:8080/"
        },
        "id": "f6iWlU1IjD9m",
        "outputId": "e7e856de-044c-4110-a0d9-c650f7c965a9"
      },
      "execution_count": null,
      "outputs": [
        {
          "output_type": "stream",
          "name": "stdout",
          "text": [
            "c = 5.0\n"
          ]
        }
      ]
    },
    {
      "cell_type": "markdown",
      "source": [
        "2.4.7   LAB   Variables\n",
        "Escenario\n",
        "A continuación una historia:\n",
        "\n",
        "Érase una vez en la Tierra de las Manzanas, Juan tenía tres manzanas, María tenía cinco manzanas, y Adán tenía seis manzanas. Todos eran muy felices y vivieron por muchísimo tiempo. Fin de la Historia.\n",
        "\n",
        "Tu tarea es:\n",
        "\n",
        "Crear las variables: john, mary, y adam;\n",
        "Asignar valores a las variables. El valor debe de ser igual al número de manzanas que cada quien tenía;\n",
        "Una vez almacenados los números en las variables, imprimir las variables en una línea, y separar cada una de ellas con una coma;\n",
        "Después se debe crear una nueva variable llamada total_apples y se debe igualar a la suma de las tres variables anteriores;\n",
        "Imprime el valor almacenado en total_apples en la consola;\n",
        "Experimenta con tu código: crea nuevas variables, asigna diferentes valores a ellas, y realiza varias operaciones aritméticas con ellas (por ejemplo, +, -, *, /, //, etc.). Intenta poner una cadena con un entero juntos en la misma línea, por ejemplo, \"Número total de manzanas:\" y total_apples."
      ],
      "metadata": {
        "id": "KHiezYq1j27b"
      }
    },
    {
      "cell_type": "code",
      "source": [],
      "metadata": {
        "id": "kHXx0LK9j_-w"
      },
      "execution_count": null,
      "outputs": []
    },
    {
      "cell_type": "code",
      "source": [
        "john = 3\n",
        "mary = 5\n",
        "adam = 6\n",
        "\n",
        "print(john, mary, adam, sep=',')\n",
        "\n",
        "total_apples = john + mary + adam\n",
        "print(total_apples)\n",
        "\n",
        "# peter = 12.5\n",
        "# suzy = 2\n",
        "# print(peter / suzy)\n",
        "# print(\"Total number of apples:\", total_apples)"
      ],
      "metadata": {
        "id": "liTNdusIkA1s"
      },
      "execution_count": null,
      "outputs": []
    },
    {
      "cell_type": "markdown",
      "source": [
        "2.4.9   LAB   Variables: un convertidor simple\n",
        "Escenario\n",
        "Millas y kilómetros son unidades de longitud o distancia.\n",
        "\n",
        "Teniendo en mente que 1 milla equivale aproximadamente a 1.61 kilómetros, complementa el programa en el editor para que convierta de:\n",
        "\n",
        "Millas a kilómetros;\n",
        "Kilómetros a millas.\n",
        "No se debe cambiar el código existente. Escribe tu código en los lugares indicados con ###. Prueba tu programa con los datos que han sido provistos en el código fuente.\n",
        "\n",
        "Pon mucha atención a lo que esta ocurriendo dentro de la función print(). Analiza como es que se proveen múltiples argumentos para la función, y como es que se muestra el resultado.\n",
        "\n",
        "Nota que algunos de los argumentos dentro de la función print() son cadenas (por ejemplo, \"millas son\", y otros son variables (por ejemplo, miles).\n",
        "\n",
        "  Consejo  \n",
        "Hay una cosa interesante más que esta ocurriendo. ¿Puedes ver otra función dentro de la función print()? Es la función round(). Su trabajo es redondear la salida del resultado al número de decimales especificados en el paréntesis, y regresar un valor flotante (dentro de la función round() se puede encontrar el nombre de la variable, el nombre, una coma, y el número de decimales que se desean mostrar). Se hablará más de esta función muy pronto, no te preocupes si no todo queda muy claro. Solo se quiere impulsar tu curios"
      ],
      "metadata": {
        "id": "R_pqqbj-loAr"
      }
    },
    {
      "cell_type": "code",
      "source": [
        "kilometers = 12.25\n",
        "miles = 7.38\n",
        "\n",
        "miles_to_kilometers = ###\n",
        "kilometers_to_miles = ###\n",
        "\n",
        "print(miles, \"millas son\", round(miles_to_kilometers, 2), \"kilómetros\")\n",
        "print(kilometers, \"kilómetros son\", round(kilometers_to_miles, 2), \"millas\")\n"
      ],
      "metadata": {
        "id": "efxTmhgVlmp_"
      },
      "execution_count": null,
      "outputs": []
    },
    {
      "cell_type": "code",
      "source": [
        "sheep = sheep + 1\n",
        "\n",
        "#x *= 2\n",
        "#sheep += 1\n",
        "print(sheep)\n",
        "\n"
      ],
      "metadata": {
        "colab": {
          "base_uri": "https://localhost:8080/",
          "height": 244
        },
        "id": "Gxmczm5NkAsE",
        "outputId": "c98f97b6-15f7-4f52-9ebf-6d24d9ea222b"
      },
      "execution_count": null,
      "outputs": [
        {
          "output_type": "error",
          "ename": "NameError",
          "evalue": "ignored",
          "traceback": [
            "\u001b[0;31m---------------------------------------------------------------------------\u001b[0m",
            "\u001b[0;31mNameError\u001b[0m                                 Traceback (most recent call last)",
            "\u001b[0;32m<ipython-input-49-3f47592edadb>\u001b[0m in \u001b[0;36m<cell line: 1>\u001b[0;34m()\u001b[0m\n\u001b[0;32m----> 1\u001b[0;31m \u001b[0msheep\u001b[0m \u001b[0;34m=\u001b[0m \u001b[0msheep\u001b[0m \u001b[0;34m+\u001b[0m \u001b[0;36m1\u001b[0m\u001b[0;34m\u001b[0m\u001b[0;34m\u001b[0m\u001b[0m\n\u001b[0m\u001b[1;32m      2\u001b[0m \u001b[0;34m\u001b[0m\u001b[0m\n\u001b[1;32m      3\u001b[0m \u001b[0;31m#x *= 2\u001b[0m\u001b[0;34m\u001b[0m\u001b[0;34m\u001b[0m\u001b[0m\n\u001b[1;32m      4\u001b[0m \u001b[0;31m#sheep += 1\u001b[0m\u001b[0;34m\u001b[0m\u001b[0;34m\u001b[0m\u001b[0m\n\u001b[1;32m      5\u001b[0m \u001b[0mprint\u001b[0m\u001b[0;34m(\u001b[0m\u001b[0msheep\u001b[0m\u001b[0;34m)\u001b[0m\u001b[0;34m\u001b[0m\u001b[0;34m\u001b[0m\u001b[0m\n",
            "\u001b[0;31mNameError\u001b[0m: name 'sheep' is not defined"
          ]
        }
      ]
    },
    {
      "cell_type": "code",
      "source": [
        "\n",
        "\n",
        "var = 2\n",
        "var = 3\n",
        "print(var)\n",
        "del "
      ],
      "metadata": {
        "colab": {
          "base_uri": "https://localhost:8080/"
        },
        "id": "dgiKg-mmm5Aj",
        "outputId": "8fc2cd4d-7f06-4041-cccf-910cb512b2dd"
      },
      "execution_count": null,
      "outputs": [
        {
          "output_type": "stream",
          "name": "stdout",
          "text": [
            "3\n"
          ]
        }
      ]
    },
    {
      "cell_type": "code",
      "source": [
        "\n",
        "a = '1'\n",
        "b = \"1\"\n",
        "print(a + b)"
      ],
      "metadata": {
        "colab": {
          "base_uri": "https://localhost:8080/"
        },
        "id": "KqZS6OGDnUsL",
        "outputId": "52ec0741-325e-4504-a561-097ac03e8905"
      },
      "execution_count": null,
      "outputs": [
        {
          "output_type": "stream",
          "name": "stdout",
          "text": [
            "11\n"
          ]
        }
      ]
    },
    {
      "cell_type": "code",
      "source": [
        "a = 6\n",
        "b = 3\n",
        "a /= 2 * b\n",
        "print(a)"
      ],
      "metadata": {
        "colab": {
          "base_uri": "https://localhost:8080/"
        },
        "id": "K1RuylFnnh2y",
        "outputId": "4cd96953-5101-48ad-e4b4-58de37db40ec"
      },
      "execution_count": null,
      "outputs": [
        {
          "output_type": "stream",
          "name": "stdout",
          "text": [
            "1.0\n"
          ]
        }
      ]
    },
    {
      "cell_type": "code",
      "source": [
        "a = 6\n",
        "a /= 8\n",
        "print(a)"
      ],
      "metadata": {
        "colab": {
          "base_uri": "https://localhost:8080/"
        },
        "id": "X5Cdo7vuno1_",
        "outputId": "06195f00-ee6c-44cf-8ff2-a7367dafd42e"
      },
      "execution_count": null,
      "outputs": [
        {
          "output_type": "stream",
          "name": "stdout",
          "text": [
            "0.75\n"
          ]
        }
      ]
    },
    {
      "cell_type": "code",
      "source": [
        "6 /= 2 "
      ],
      "metadata": {
        "colab": {
          "base_uri": "https://localhost:8080/",
          "height": 135
        },
        "id": "XjB8KEA0n2KE",
        "outputId": "f16c4caf-84cb-4860-fa8e-aa641afd00fa"
      },
      "execution_count": null,
      "outputs": [
        {
          "output_type": "error",
          "ename": "SyntaxError",
          "evalue": "ignored",
          "traceback": [
            "\u001b[0;36m  File \u001b[0;32m\"<ipython-input-54-a3d00d3ac618>\"\u001b[0;36m, line \u001b[0;32m1\u001b[0m\n\u001b[0;31m    6 /= 2\u001b[0m\n\u001b[0m    ^\u001b[0m\n\u001b[0;31mSyntaxError\u001b[0m\u001b[0;31m:\u001b[0m 'literal' is an illegal expression for augmented assignment\n"
          ]
        }
      ]
    },
    {
      "cell_type": "code",
      "source": [
        "print(\"Dime lo que sea...\")\n",
        "anything = input()\n",
        "print(\"Hmm...\", anything, \"... ¿en serio?\")"
      ],
      "metadata": {
        "id": "g_9MydpQlGGL",
        "outputId": "cda97ff4-32d6-4d35-b0e1-dc5c47aef010",
        "colab": {
          "base_uri": "https://localhost:8080/"
        }
      },
      "execution_count": 1,
      "outputs": [
        {
          "output_type": "stream",
          "name": "stdout",
          "text": [
            "Dime lo que sea...\n",
            "lo que sea \n",
            "Hmm... lo que sea  ... ¿en serio?\n"
          ]
        }
      ]
    },
    {
      "cell_type": "code",
      "source": [
        "anything = input(\"Dime lo que sea...\")\n",
        "print(\"Hmm...\", anything, \"...¿en serio?\")"
      ],
      "metadata": {
        "id": "vasBdCqZl8pS",
        "outputId": "d3a918ba-9f20-434e-c0e9-fe014196ca3f",
        "colab": {
          "base_uri": "https://localhost:8080/"
        }
      },
      "execution_count": 2,
      "outputs": [
        {
          "output_type": "stream",
          "name": "stdout",
          "text": [
            "Dime lo que sea...lo que sea \n",
            "Hmm... lo que sea  ...¿en serio?\n"
          ]
        }
      ]
    },
    {
      "cell_type": "code",
      "source": [
        "anything = input(\"Ingresa un número:\")\n",
        "something = anything ** 2.0\n",
        "print(anything, \"al cuadrado es\", something)"
      ],
      "metadata": {
        "id": "uE56ETnIm4Qt",
        "outputId": "f1bfcff9-5531-46db-885f-1f2feff15bb8",
        "colab": {
          "base_uri": "https://localhost:8080/",
          "height": 244
        }
      },
      "execution_count": 3,
      "outputs": [
        {
          "name": "stdout",
          "output_type": "stream",
          "text": [
            "Ingresa un número:4\n"
          ]
        },
        {
          "output_type": "error",
          "ename": "TypeError",
          "evalue": "ignored",
          "traceback": [
            "\u001b[0;31m---------------------------------------------------------------------------\u001b[0m",
            "\u001b[0;31mTypeError\u001b[0m                                 Traceback (most recent call last)",
            "\u001b[0;32m<ipython-input-3-e267bde1eece>\u001b[0m in \u001b[0;36m<cell line: 2>\u001b[0;34m()\u001b[0m\n\u001b[1;32m      1\u001b[0m \u001b[0manything\u001b[0m \u001b[0;34m=\u001b[0m \u001b[0minput\u001b[0m\u001b[0;34m(\u001b[0m\u001b[0;34m\"Ingresa un número:\"\u001b[0m\u001b[0;34m)\u001b[0m\u001b[0;34m\u001b[0m\u001b[0;34m\u001b[0m\u001b[0m\n\u001b[0;32m----> 2\u001b[0;31m \u001b[0msomething\u001b[0m \u001b[0;34m=\u001b[0m \u001b[0manything\u001b[0m \u001b[0;34m**\u001b[0m \u001b[0;36m2.0\u001b[0m\u001b[0;34m\u001b[0m\u001b[0;34m\u001b[0m\u001b[0m\n\u001b[0m\u001b[1;32m      3\u001b[0m \u001b[0mprint\u001b[0m\u001b[0;34m(\u001b[0m\u001b[0manything\u001b[0m\u001b[0;34m,\u001b[0m \u001b[0;34m\"al cuadrado es\"\u001b[0m\u001b[0;34m,\u001b[0m \u001b[0msomething\u001b[0m\u001b[0;34m)\u001b[0m\u001b[0;34m\u001b[0m\u001b[0;34m\u001b[0m\u001b[0m\n\u001b[1;32m      4\u001b[0m \u001b[0;34m\u001b[0m\u001b[0m\n",
            "\u001b[0;31mTypeError\u001b[0m: unsupported operand type(s) for ** or pow(): 'str' and 'float'"
          ]
        }
      ]
    },
    {
      "cell_type": "code",
      "source": [
        "# Probando un mensaje de error TypeError.\n",
        "\n",
        "anything = input(\"Ingresa un número: \")\n",
        "something = anything ** 2.0\n",
        "print(anything, \"al cuadrado es\", something)\n"
      ],
      "metadata": {
        "id": "BM4pYvpSnLjn",
        "outputId": "dc4eea42-5b5f-48d4-dbb8-7b2d9fa0d5b3",
        "colab": {
          "base_uri": "https://localhost:8080/",
          "height": 244
        }
      },
      "execution_count": 4,
      "outputs": [
        {
          "name": "stdout",
          "output_type": "stream",
          "text": [
            "Ingresa un número: 6\n"
          ]
        },
        {
          "output_type": "error",
          "ename": "TypeError",
          "evalue": "ignored",
          "traceback": [
            "\u001b[0;31m---------------------------------------------------------------------------\u001b[0m",
            "\u001b[0;31mTypeError\u001b[0m                                 Traceback (most recent call last)",
            "\u001b[0;32m<ipython-input-4-8a0364e129f7>\u001b[0m in \u001b[0;36m<cell line: 4>\u001b[0;34m()\u001b[0m\n\u001b[1;32m      2\u001b[0m \u001b[0;34m\u001b[0m\u001b[0m\n\u001b[1;32m      3\u001b[0m \u001b[0manything\u001b[0m \u001b[0;34m=\u001b[0m \u001b[0minput\u001b[0m\u001b[0;34m(\u001b[0m\u001b[0;34m\"Ingresa un número: \"\u001b[0m\u001b[0;34m)\u001b[0m\u001b[0;34m\u001b[0m\u001b[0;34m\u001b[0m\u001b[0m\n\u001b[0;32m----> 4\u001b[0;31m \u001b[0msomething\u001b[0m \u001b[0;34m=\u001b[0m \u001b[0manything\u001b[0m \u001b[0;34m**\u001b[0m \u001b[0;36m2.0\u001b[0m\u001b[0;34m\u001b[0m\u001b[0;34m\u001b[0m\u001b[0m\n\u001b[0m\u001b[1;32m      5\u001b[0m \u001b[0mprint\u001b[0m\u001b[0;34m(\u001b[0m\u001b[0manything\u001b[0m\u001b[0;34m,\u001b[0m \u001b[0;34m\"al cuadrado es\"\u001b[0m\u001b[0;34m,\u001b[0m \u001b[0msomething\u001b[0m\u001b[0;34m)\u001b[0m\u001b[0;34m\u001b[0m\u001b[0;34m\u001b[0m\u001b[0m\n",
            "\u001b[0;31mTypeError\u001b[0m: unsupported operand type(s) for ** or pow(): 'str' and 'float'"
          ]
        }
      ]
    },
    {
      "cell_type": "code",
      "source": [
        "anything = float(input(\"Ingresa un número: \"))\n",
        "something = anything ** 2.0\n",
        "print(anything, \"a la potencia de 2 es\", something)"
      ],
      "metadata": {
        "id": "F6hlJjeCnOho",
        "outputId": "09b7d8fa-4791-4499-bd51-89634112447e",
        "colab": {
          "base_uri": "https://localhost:8080/"
        }
      },
      "execution_count": 5,
      "outputs": [
        {
          "output_type": "stream",
          "name": "stdout",
          "text": [
            "Ingresa un número: 5\n",
            "5.0 a la potencia de 2 es 25.0\n"
          ]
        }
      ]
    },
    {
      "cell_type": "code",
      "source": [
        "leg_a = float(input(\"Ingresa la longitud del primer cateto: \"))\n",
        "leg_b = float(input(\"Ingresa la longitud del segundo cateto: \"))\n",
        "hypo = (leg_a**2 + leg_b**2) ** .5\n",
        "print(\"La longitud de la hipotenusa es:\", hypo)"
      ],
      "metadata": {
        "id": "6cS-varIol_b",
        "outputId": "426a661d-e0e0-49c7-8509-8cb98a739ba9",
        "colab": {
          "base_uri": "https://localhost:8080/"
        }
      },
      "execution_count": 6,
      "outputs": [
        {
          "output_type": "stream",
          "name": "stdout",
          "text": [
            "Ingresa la longitud del primer cateto: 7\n",
            "Ingresa la longitud del segundo cateto: 6\n",
            "La longitud de la hipotenusa es: 9.219544457292887\n"
          ]
        }
      ]
    },
    {
      "cell_type": "code",
      "source": [
        "leg_a = float(input(\"Ingresa la longitud del primer cateto: \"))\n",
        "leg_b = float(input(\"Ingresa la longitud del segundo cateto: \"))\n",
        "print(\"La longitud de la hipotenusa es:\", (leg_a**2 + leg_b**2) ** .5)"
      ],
      "metadata": {
        "id": "OQh6-g8Hol8i",
        "outputId": "773ff066-8015-40a7-a0f4-0afb9654f9ec",
        "colab": {
          "base_uri": "https://localhost:8080/"
        }
      },
      "execution_count": 7,
      "outputs": [
        {
          "output_type": "stream",
          "name": "stdout",
          "text": [
            "Ingresa la longitud del primer cateto: 5\n",
            "Ingresa la longitud del segundo cateto: 6\n",
            "La longitud de la hipotenusa es: 7.810249675906654\n"
          ]
        }
      ]
    },
    {
      "cell_type": "code",
      "source": [
        "fnam = input(\"¿Me puedes dar tu nombre por favor? \")\n",
        "lnam = input(\"¿Me puedes dar tu apellido por favor? \")\n",
        "print(\"Gracias. \")\n",
        "print(\"\\nTu nombre es \" + fnam + \" \" + lnam + \".\")\n"
      ],
      "metadata": {
        "id": "zYcbT_PCol6K",
        "outputId": "154b6181-e1f1-4a66-d5a5-e3b5305e0df7",
        "colab": {
          "base_uri": "https://localhost:8080/"
        }
      },
      "execution_count": 8,
      "outputs": [
        {
          "output_type": "stream",
          "name": "stdout",
          "text": [
            "¿Me puedes dar tu nombre por favor? leo\n",
            "¿Me puedes dar tu apellido por favor? l \n",
            "Gracias. \n",
            "\n",
            "Tu nombre es leo l .\n"
          ]
        }
      ]
    },
    {
      "cell_type": "code",
      "source": [
        "print(\"+\" + 10 * \"-\" + \"+\")\n",
        "print((\"|\" + \" \" * 10 + \"|\\n\") * 5, end=\"\")\n",
        "print(\"+\" + 10 * \"-\" + \"+\")"
      ],
      "metadata": {
        "id": "hTK5MSKgsbGu",
        "outputId": "88e0eadc-5777-4d70-8c0b-c960187d0cdc",
        "colab": {
          "base_uri": "https://localhost:8080/"
        }
      },
      "execution_count": 9,
      "outputs": [
        {
          "output_type": "stream",
          "name": "stdout",
          "text": [
            "+----------+\n",
            "|          |\n",
            "|          |\n",
            "|          |\n",
            "|          |\n",
            "|          |\n",
            "+----------+\n"
          ]
        }
      ]
    },
    {
      "cell_type": "code",
      "source": [
        "leg_a = float(input(\"Ingresa la longitud del primer cateto: \"))\n",
        "leg_b = float(input(\"Ingresa la longitud del segundo cateto: \"))\n",
        "print(\"La longitud de la hipotenusa es \" + str((leg_a**2 + leg_b**2) ** .5))"
      ],
      "metadata": {
        "id": "FKQD2mAhje04",
        "outputId": "3319675a-13d1-4e22-fa4e-119c1ce6c2f4",
        "colab": {
          "base_uri": "https://localhost:8080/"
        }
      },
      "execution_count": 1,
      "outputs": [
        {
          "output_type": "stream",
          "name": "stdout",
          "text": [
            "Ingresa la longitud del primer cateto: 8\n",
            "Ingresa la longitud del segundo cateto: 9\n",
            "La longitud de la hipotenusa es 12.041594578792296\n"
          ]
        }
      ]
    },
    {
      "cell_type": "code",
      "source": [
        "# ingresa un valor flotante para la variable a aquí\n",
        "a = float(input(\"Ingresa el valor de a: \"))\n",
        "# ingresa un valor flotante para la variable b aquí\n",
        "b = float(input(\"Ingresa el valor de b: \"))\n",
        "\n",
        "# mostrar el resultado de la suma aquí\n",
        "print(str(a+b))\n",
        "# mostrar el resultado de la resta aquí\n",
        "print(str(a-b))\n",
        "# mostrar el resultado de la multiplicación aquí\n",
        "print(str(a*b))\n",
        "# mostrar el resultado de la división aquí\n",
        "print(str(a/b))\n",
        "\n",
        "print(\"\\n¡Eso es todo, amigos!\")\n"
      ],
      "metadata": {
        "id": "Rgmi7ZGujhT6",
        "outputId": "82f5d8c6-6b10-44e2-92ea-4fdeb128745a",
        "colab": {
          "base_uri": "https://localhost:8080/"
        }
      },
      "execution_count": 9,
      "outputs": [
        {
          "output_type": "stream",
          "name": "stdout",
          "text": [
            "Ingresa el valor de a: 4\n",
            "Ingresa el valor de b: 5\n",
            "9.0\n",
            "-1.0\n",
            "20.0\n",
            "0.8\n",
            "\n",
            "¡Eso es todo, amigos!\n"
          ]
        }
      ]
    },
    {
      "cell_type": "code",
      "source": [
        "a = float(input(\"Ingresa el valor de a: \"))\n",
        "# ingresa un valor flotante para la variable b aquí\n",
        "b = float(input(\"Ingresa el valor de b: \"))\n",
        "print(str(a/b))"
      ],
      "metadata": {
        "id": "Vdo60y6ajhOu",
        "outputId": "6beb34b6-d219-402f-e2bb-486ec9afb355",
        "colab": {
          "base_uri": "https://localhost:8080/"
        }
      },
      "execution_count": 14,
      "outputs": [
        {
          "output_type": "stream",
          "name": "stdout",
          "text": [
            "Ingresa el valor de a: 4\n",
            "Ingresa el valor de b: 5\n",
            "0.8\n"
          ]
        }
      ]
    },
    {
      "cell_type": "code",
      "source": [
        "# Solución de CISCO  \n",
        "a = float(input(\"Ingresa el primer valor: \"))\n",
        "b = float(input(\"Ingresa el segundo valor: \"))\n",
        "print(\"Suma:\", a + b)\n",
        "print(\"Resta:\", a - b)\n",
        "print(\"Multiplicación:\", a * b)\n",
        "print(\"División:\", a / b)\n",
        "print(\"\\n¡Eso es todo, amigos!\")\n",
        "\n",
        "\n"
      ],
      "metadata": {
        "id": "_zW8_aSPlQAY"
      },
      "execution_count": null,
      "outputs": []
    },
    {
      "cell_type": "code",
      "source": [
        "x = float(input(\"Ingresa el valor para x: \"))\n",
        "\n",
        "# Escribe tu código aquí.\n",
        "y = (1 / (x + (1 / (x + (1/(x + (1 / x)))))))\n",
        "print(\"y =\", y)"
      ],
      "metadata": {
        "id": "Y-CCr-Oalni2",
        "outputId": "245f77ab-64a6-4968-a73c-30eba664e12d",
        "colab": {
          "base_uri": "https://localhost:8080/"
        }
      },
      "execution_count": 20,
      "outputs": [
        {
          "output_type": "stream",
          "name": "stdout",
          "text": [
            "Ingresa el valor para x: -5\n",
            "y = -0.19258202567760344\n"
          ]
        }
      ]
    },
    {
      "cell_type": "code",
      "source": [
        "\n",
        "x_sol = (1 / (x + (1 / (x + (1/(x + (1 / x)))))))"
      ],
      "metadata": {
        "id": "Z_xF4kd5nlU4"
      },
      "execution_count": null,
      "outputs": []
    },
    {
      "cell_type": "markdown",
      "source": [
        "Escenario\n",
        "La tarea es preparar un código simple para evaluar o encontrar el tiempo final de un periodo de tiempo dado, expresándolo en horas y minutos. La hora de inicio se da como un par de horas (0..23) y minutos (0..59). El resultado debe ser mostrado en la consola.\n",
        "\n",
        "Por ejemplo, si el evento comienza a las 12:17 y dura 59 minutos, terminará a las 13:16.\n",
        "\n",
        "No te preocupes si tu código no es perfecto - está bien si acepta una hora invalida - lo más importante es que el código produzca una salida correcta acorde a la entrada dada.\n",
        "\n",
        "Prueba el código cuidadosamente. Pista: utilizar el operador % puede ser clave para el éxito.\n",
        "Entrada de muestra:\n",
        "\n",
        "12\n",
        "17\n",
        "59"
      ],
      "metadata": {
        "id": "kLWPmDXbpbxU"
      }
    },
    {
      "cell_type": "code",
      "source": [
        "hour = int(input(\"Hora de inicio (horas): \"))\n",
        "mins = int(input(\"Minuto de inicio (minutos): \"))\n",
        "dura = int(input(\"Duración del evento (minutos): \"))\n",
        "\n",
        "# Escribe tu código aquí.\n",
        "\n",
        "inicio = (hour + mins) \n",
        "salida = (inicio, dura % mins)\n",
        "print(salida) \n"
      ],
      "metadata": {
        "id": "Zy4dklN6pbiY",
        "outputId": "04e05dbf-6e5e-4cd2-b150-8a934ff5f312",
        "colab": {
          "base_uri": "https://localhost:8080/"
        }
      },
      "execution_count": 26,
      "outputs": [
        {
          "output_type": "stream",
          "name": "stdout",
          "text": [
            "Hora de inicio (horas): 12\n",
            "Minuto de inicio (minutos): 17\n",
            "Duración del evento (minutos): 59\n",
            "(29, 8)\n"
          ]
        }
      ]
    },
    {
      "cell_type": "code",
      "source": [
        "hour = int(input(\"Hora de inicio (horas): \"))\n",
        "mins = int(input(\"Minuto de inicio (minutos): \"))\n",
        "dura = int(input(\"Duración del evento (minutos) \"))\n",
        "# encuentra el número total de minutos\n",
        "tmins = (mins + dura ) / 60\n",
        "\n",
        "print(tmins)\n",
        "# encuentra el número de horas ocultas en los minutos y actualiza las horas\n",
        "#hourfin = (hour % 59 + tmins / 23) + dura\n",
        "# corrige los minutos para que estén en un rango de (0..59)\n",
        "#if  0 < tmins < 59: \n",
        " #   if 0 < hourfin < 23:\n",
        "# corrige las horas para que estén en un rango de (0..23) \n",
        "  #      print(hour, \":\", mins, sep='')\n",
        "   # else:\n",
        "    #    print(\"No procede\")\n",
        "\n",
        "\n",
        "# Solución del problema \n",
        "hour = int(input(\"Hora de inicio (horas): \"))\n",
        "mins = int(input(\"Minuto de inicio (minutos): \"))\n",
        "dura = int(input(\"Duración del evento (minutos): \"))\n",
        "mins = mins + dura # encuentra el número total de minutos\n",
        "hour = hour + mins // 60 # encuentra el número de horas ocultas en los minutos y actualiza las horas\n",
        "mins = mins % 60 # corrige los minutos para que estén en un rango de (0..59)\n",
        "hour = hour % 24 # corrige las horas para que estén en un rango de (0..23) \n",
        "print(hour, \":\", mins, sep='')\n",
        "\n",
        "\n"
      ],
      "metadata": {
        "id": "zjqKhspErmTP",
        "outputId": "90b200fb-6261-4dac-e8cc-045cfbf950fe",
        "colab": {
          "base_uri": "https://localhost:8080/"
        }
      },
      "execution_count": 33,
      "outputs": [
        {
          "output_type": "stream",
          "name": "stdout",
          "text": [
            "Hora de inicio (horas): 12\n",
            "Minuto de inicio (minutos): 17\n",
            "Duración del evento (minutos) 59\n",
            "1.2666666666666666\n"
          ]
        }
      ]
    },
    {
      "cell_type": "code",
      "source": [
        "name = input(\"Ingresa tu nombre: \")\n",
        "print(\"Hola, \" + name + \". '¡Gusto en conocerte'!\")\n",
        " \n",
        "print(\"\\nPresiona Enter para terminar el programa.\")\n",
        "input()\n",
        "print(\"FIN.\")"
      ],
      "metadata": {
        "id": "s57kNBn6ud3_",
        "outputId": "913a10b2-9edf-4c27-a655-e171964b5904",
        "colab": {
          "base_uri": "https://localhost:8080/"
        }
      },
      "execution_count": 34,
      "outputs": [
        {
          "output_type": "stream",
          "name": "stdout",
          "text": [
            "Ingresa tu nombre: \n",
            "Hola, . '¡Gusto en conocerte'!\n",
            "\n",
            "Presiona Enter para terminar el programa.\n",
            "\n",
            "FIN.\n"
          ]
        }
      ]
    }
  ]
}