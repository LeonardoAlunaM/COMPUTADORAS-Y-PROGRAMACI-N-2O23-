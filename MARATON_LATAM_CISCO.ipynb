{
  "nbformat": 4,
  "nbformat_minor": 0,
  "metadata": {
    "colab": {
      "provenance": [],
      "authorship_tag": "ABX9TyN0d+rxmHLTmfIO6JNKURHt",
      "include_colab_link": true
    },
    "kernelspec": {
      "name": "python3",
      "display_name": "Python 3"
    },
    "language_info": {
      "name": "python"
    }
  },
  "cells": [
    {
      "cell_type": "markdown",
      "metadata": {
        "id": "view-in-github",
        "colab_type": "text"
      },
      "source": [
        "<a href=\"https://colab.research.google.com/github/LeonardoAlunaM/COMPUTADORAS-Y-PROGRAMACI-N-2O23-/blob/main-COMPUTADORAS-Y-PROGTRAMACI%C3%93N-2023/MARATON_LATAM_CISCO.ipynb\" target=\"_parent\"><img src=\"https://colab.research.google.com/assets/colab-badge.svg\" alt=\"Open In Colab\"/></a>"
      ]
    },
    {
      "cell_type": "code",
      "execution_count": 1,
      "metadata": {
        "id": "VpLbL0GGRysx",
        "colab": {
          "base_uri": "https://localhost:8080/"
        },
        "outputId": "8bc4db48-b577-486b-ed91-828d1c6f7dd3"
      },
      "outputs": [
        {
          "output_type": "stream",
          "name": "stdout",
          "text": [
            "2\n"
          ]
        }
      ],
      "source": [
        "print(+2)"
      ]
    },
    {
      "cell_type": "code",
      "source": [
        "print(-3 ** 2)\n",
        "print(-2 ** 3)\n",
        "print(-(3 ** 2))\n",
        "\n"
      ],
      "metadata": {
        "colab": {
          "base_uri": "https://localhost:8080/"
        },
        "id": "nkJ5rH7cHsqr",
        "outputId": "2c6405a6-a987-4c18-e47d-3ff6236585cc"
      },
      "execution_count": 2,
      "outputs": [
        {
          "output_type": "stream",
          "name": "stdout",
          "text": [
            "-9\n",
            "-8\n",
            "-9\n"
          ]
        }
      ]
    },
    {
      "cell_type": "code",
      "source": [
        "print(2 * 3 % 5)"
      ],
      "metadata": {
        "colab": {
          "base_uri": "https://localhost:8080/"
        },
        "id": "ciRF5Oy1IYBv",
        "outputId": "366f7620-c48c-4486-fd8a-b9318d3fd611"
      },
      "execution_count": 3,
      "outputs": [
        {
          "output_type": "stream",
          "name": "stdout",
          "text": [
            "1\n"
          ]
        }
      ]
    },
    {
      "cell_type": "code",
      "source": [
        "(25 % 13)"
      ],
      "metadata": {
        "colab": {
          "base_uri": "https://localhost:8080/"
        },
        "id": "-7b33o3QKmOO",
        "outputId": "72eb27b4-4028-4ba7-c5c0-d67f707219db"
      },
      "execution_count": 5,
      "outputs": [
        {
          "output_type": "execute_result",
          "data": {
            "text/plain": [
              "12"
            ]
          },
          "metadata": {},
          "execution_count": 5
        }
      ]
    },
    {
      "cell_type": "code",
      "source": [
        "print( ((5 * 12 + 100)) / ( (2 * 13) // 2 ) )"
      ],
      "metadata": {
        "colab": {
          "base_uri": "https://localhost:8080/"
        },
        "id": "T8Gef_RVKrhr",
        "outputId": "d706accc-4f65-435c-e974-e8f539ce7408"
      },
      "execution_count": 11,
      "outputs": [
        {
          "output_type": "stream",
          "name": "stdout",
          "text": [
            "12.307692307692308\n"
          ]
        }
      ]
    },
    {
      "cell_type": "code",
      "source": [
        "( 26 // 2 )\n",
        "\n"
      ],
      "metadata": {
        "colab": {
          "base_uri": "https://localhost:8080/"
        },
        "id": "jjHoUUsrLkM0",
        "outputId": "b876e00a-9fc0-4ceb-e029-10cf6b307683"
      },
      "execution_count": 14,
      "outputs": [
        {
          "output_type": "execute_result",
          "data": {
            "text/plain": [
              "13"
            ]
          },
          "metadata": {},
          "execution_count": 14
        }
      ]
    },
    {
      "cell_type": "code",
      "source": [
        "print( ((5 * 12 + 100) ) / ( 26 // 2 ))"
      ],
      "metadata": {
        "colab": {
          "base_uri": "https://localhost:8080/"
        },
        "id": "71FjUOMTLWzi",
        "outputId": "a893adda-64d4-479f-9470-266958008af3"
      },
      "execution_count": 12,
      "outputs": [
        {
          "output_type": "stream",
          "name": "stdout",
          "text": [
            "12.307692307692308\n"
          ]
        }
      ]
    },
    {
      "cell_type": "code",
      "source": [
        "print( (160) / 13)"
      ],
      "metadata": {
        "colab": {
          "base_uri": "https://localhost:8080/"
        },
        "id": "SqDqvIXrLl3P",
        "outputId": "1e3e8840-4b25-4cb8-949f-ed92d956a329"
      },
      "execution_count": 15,
      "outputs": [
        {
          "output_type": "stream",
          "name": "stdout",
          "text": [
            "12.307692307692308\n"
          ]
        }
      ]
    },
    {
      "cell_type": "code",
      "source": [
        "160 / 13"
      ],
      "metadata": {
        "colab": {
          "base_uri": "https://localhost:8080/"
        },
        "id": "6fjoXvXzMtj8",
        "outputId": "81e47222-ade6-4a03-b32c-c2f68479490e"
      },
      "execution_count": 24,
      "outputs": [
        {
          "output_type": "execute_result",
          "data": {
            "text/plain": [
              "12.307692307692308"
            ]
          },
          "metadata": {},
          "execution_count": 24
        }
      ]
    },
    {
      "cell_type": "code",
      "source": [
        "print( (2 * 13) // 2)"
      ],
      "metadata": {
        "colab": {
          "base_uri": "https://localhost:8080/"
        },
        "id": "ONTLkKdkMit3",
        "outputId": "702e8735-f095-4e8d-ee02-55b9afd7adb8"
      },
      "execution_count": 23,
      "outputs": [
        {
          "output_type": "stream",
          "name": "stdout",
          "text": [
            "13\n"
          ]
        }
      ]
    },
    {
      "cell_type": "code",
      "source": [
        "print( (5 * (25 % 13) + 100) ) \n",
        "\n"
      ],
      "metadata": {
        "colab": {
          "base_uri": "https://localhost:8080/"
        },
        "id": "Jt2mxTB5MAHj",
        "outputId": "de6b4c1f-d916-410a-8729-bd5390097823"
      },
      "execution_count": 21,
      "outputs": [
        {
          "output_type": "stream",
          "name": "stdout",
          "text": [
            "160\n"
          ]
        }
      ]
    },
    {
      "cell_type": "code",
      "source": [
        "print((5 * ((25 % 13) + 100) / (2 * 13)) // 2)"
      ],
      "metadata": {
        "colab": {
          "base_uri": "https://localhost:8080/"
        },
        "id": "tl7ZqKetKhVN",
        "outputId": "d451e323-9f3b-4b48-8f86-86dc64c32a05"
      },
      "execution_count": 4,
      "outputs": [
        {
          "output_type": "stream",
          "name": "stdout",
          "text": [
            "10.0\n"
          ]
        }
      ]
    },
    {
      "cell_type": "code",
      "source": [
        "print((2 ** 4), (2 * 4.), (2 * 4))"
      ],
      "metadata": {
        "colab": {
          "base_uri": "https://localhost:8080/"
        },
        "id": "m8tilofgOV1Q",
        "outputId": "cd81ec3f-139f-464a-d972-c552ecde4331"
      },
      "execution_count": 25,
      "outputs": [
        {
          "output_type": "stream",
          "name": "stdout",
          "text": [
            "16 8.0 8\n"
          ]
        }
      ]
    },
    {
      "cell_type": "code",
      "source": [
        "print((-2 / 4), (2 / 4), (2 // 4), (-2 // 4))"
      ],
      "metadata": {
        "colab": {
          "base_uri": "https://localhost:8080/"
        },
        "id": "pqoqcqmBOu8E",
        "outputId": "c42c7f97-aa21-49d6-bbe6-d53fa1821743"
      },
      "execution_count": 27,
      "outputs": [
        {
          "output_type": "stream",
          "name": "stdout",
          "text": [
            "-0.5 0.5 0 -1\n"
          ]
        }
      ]
    },
    {
      "cell_type": "code",
      "source": [
        "print((2 % -4), (2 % 4), (2 ** 3 ** 2))"
      ],
      "metadata": {
        "colab": {
          "base_uri": "https://localhost:8080/"
        },
        "id": "GthXBn9qO6pZ",
        "outputId": "e36cdcfa-ea8c-4269-cd09-48c05d3aff0c"
      },
      "execution_count": 28,
      "outputs": [
        {
          "output_type": "stream",
          "name": "stdout",
          "text": [
            "-2 2 512\n"
          ]
        }
      ]
    },
    {
      "cell_type": "code",
      "source": [
        "var = 1\n",
        "print(var)"
      ],
      "metadata": {
        "colab": {
          "base_uri": "https://localhost:8080/"
        },
        "id": "atTtzojDRwbX",
        "outputId": "fd9d7ce3-cf27-4993-e4f3-4babe8099e13"
      },
      "execution_count": 29,
      "outputs": [
        {
          "output_type": "stream",
          "name": "stdout",
          "text": [
            "1\n"
          ]
        }
      ]
    },
    {
      "cell_type": "code",
      "source": [
        "var = 1\n",
        "account_balance = 1000.0\n",
        "client_name = 'John Doe'\n",
        "print(var, account_balance, client_name)\n",
        "print(var)"
      ],
      "metadata": {
        "colab": {
          "base_uri": "https://localhost:8080/"
        },
        "id": "hRfj8FaJRyfA",
        "outputId": "a5119388-83b3-4955-d7d2-1ff4a15bcbfe"
      },
      "execution_count": 30,
      "outputs": [
        {
          "output_type": "stream",
          "name": "stdout",
          "text": [
            "1 1000.0 John Doe\n",
            "1\n"
          ]
        }
      ]
    },
    {
      "cell_type": "code",
      "source": [
        "var = \"3.8.5\"\n",
        "print(\"Python version: \" + var)"
      ],
      "metadata": {
        "colab": {
          "base_uri": "https://localhost:8080/"
        },
        "id": "2HLYDJ1TRyds",
        "outputId": "d567154c-f430-40f1-9bdc-49aa35fbe5a0"
      },
      "execution_count": 32,
      "outputs": [
        {
          "output_type": "stream",
          "name": "stdout",
          "text": [
            "Python version: 3.8.5\n"
          ]
        }
      ]
    },
    {
      "cell_type": "code",
      "source": [
        "var = 1\n",
        "print(var)\n",
        "var = var + 1\n",
        "print(var)\n",
        "\n"
      ],
      "metadata": {
        "id": "M2oj2QUQbvt2",
        "outputId": "ad412ee8-48d0-4283-e87b-fa16004167f1",
        "colab": {
          "base_uri": "https://localhost:8080/"
        }
      },
      "execution_count": 33,
      "outputs": [
        {
          "output_type": "stream",
          "name": "stdout",
          "text": [
            "1\n",
            "2\n"
          ]
        }
      ]
    },
    {
      "cell_type": "code",
      "source": [
        "var = 1\n",
        "print(var)\n",
        "var = var + 1\n",
        "print(var)"
      ],
      "metadata": {
        "id": "lzgs71vNcFIm",
        "outputId": "6230f27f-3876-4926-cedf-c499d3edab27",
        "colab": {
          "base_uri": "https://localhost:8080/"
        }
      },
      "execution_count": 42,
      "outputs": [
        {
          "output_type": "stream",
          "name": "stdout",
          "text": [
            "1\n",
            "2\n"
          ]
        }
      ]
    },
    {
      "cell_type": "code",
      "source": [
        "var = 1\n",
        "print(var)\n",
        "var = var + (2*var)\n",
        "print(var)\n",
        "\n"
      ],
      "metadata": {
        "id": "HlD7kutNbyEC",
        "outputId": "85faba8d-258b-4e14-e4c4-8905fb4c0379",
        "colab": {
          "base_uri": "https://localhost:8080/"
        }
      },
      "execution_count": 41,
      "outputs": [
        {
          "output_type": "stream",
          "name": "stdout",
          "text": [
            "1\n",
            "3\n"
          ]
        }
      ]
    },
    {
      "cell_type": "code",
      "source": [
        "var = 100\n",
        "var = 200 + 300\n",
        "print(var)"
      ],
      "metadata": {
        "id": "2L1Im3FMiWHq",
        "outputId": "4d303780-d0d2-47cf-e32c-de7fb32e621f",
        "colab": {
          "base_uri": "https://localhost:8080/"
        }
      },
      "execution_count": 45,
      "outputs": [
        {
          "output_type": "stream",
          "name": "stdout",
          "text": [
            "500\n"
          ]
        }
      ]
    },
    {
      "cell_type": "code",
      "source": [
        "a = 3.0\n",
        "b = 4.0\n",
        "c = (a ** 2 + b ** 2) ** 0.5\n",
        "print(\"c =\", c)"
      ],
      "metadata": {
        "id": "f6iWlU1IjD9m",
        "outputId": "e7e856de-044c-4110-a0d9-c650f7c965a9",
        "colab": {
          "base_uri": "https://localhost:8080/"
        }
      },
      "execution_count": 46,
      "outputs": [
        {
          "output_type": "stream",
          "name": "stdout",
          "text": [
            "c = 5.0\n"
          ]
        }
      ]
    },
    {
      "cell_type": "markdown",
      "source": [
        "2.4.7   LAB   Variables\n",
        "Escenario\n",
        "A continuación una historia:\n",
        "\n",
        "Érase una vez en la Tierra de las Manzanas, Juan tenía tres manzanas, María tenía cinco manzanas, y Adán tenía seis manzanas. Todos eran muy felices y vivieron por muchísimo tiempo. Fin de la Historia.\n",
        "\n",
        "Tu tarea es:\n",
        "\n",
        "Crear las variables: john, mary, y adam;\n",
        "Asignar valores a las variables. El valor debe de ser igual al número de manzanas que cada quien tenía;\n",
        "Una vez almacenados los números en las variables, imprimir las variables en una línea, y separar cada una de ellas con una coma;\n",
        "Después se debe crear una nueva variable llamada total_apples y se debe igualar a la suma de las tres variables anteriores;\n",
        "Imprime el valor almacenado en total_apples en la consola;\n",
        "Experimenta con tu código: crea nuevas variables, asigna diferentes valores a ellas, y realiza varias operaciones aritméticas con ellas (por ejemplo, +, -, *, /, //, etc.). Intenta poner una cadena con un entero juntos en la misma línea, por ejemplo, \"Número total de manzanas:\" y total_apples."
      ],
      "metadata": {
        "id": "KHiezYq1j27b"
      }
    },
    {
      "cell_type": "code",
      "source": [],
      "metadata": {
        "id": "kHXx0LK9j_-w"
      },
      "execution_count": null,
      "outputs": []
    },
    {
      "cell_type": "code",
      "source": [
        "john = 3\n",
        "mary = 5\n",
        "adam = 6\n",
        "\n",
        "print(john, mary, adam, sep=',')\n",
        "\n",
        "total_apples = john + mary + adam\n",
        "print(total_apples)\n",
        "\n",
        "# peter = 12.5\n",
        "# suzy = 2\n",
        "# print(peter / suzy)\n",
        "# print(\"Total number of apples:\", total_apples)"
      ],
      "metadata": {
        "id": "liTNdusIkA1s"
      },
      "execution_count": null,
      "outputs": []
    },
    {
      "cell_type": "markdown",
      "source": [
        "2.4.9   LAB   Variables: un convertidor simple\n",
        "Escenario\n",
        "Millas y kilómetros son unidades de longitud o distancia.\n",
        "\n",
        "Teniendo en mente que 1 milla equivale aproximadamente a 1.61 kilómetros, complementa el programa en el editor para que convierta de:\n",
        "\n",
        "Millas a kilómetros;\n",
        "Kilómetros a millas.\n",
        "No se debe cambiar el código existente. Escribe tu código en los lugares indicados con ###. Prueba tu programa con los datos que han sido provistos en el código fuente.\n",
        "\n",
        "Pon mucha atención a lo que esta ocurriendo dentro de la función print(). Analiza como es que se proveen múltiples argumentos para la función, y como es que se muestra el resultado.\n",
        "\n",
        "Nota que algunos de los argumentos dentro de la función print() son cadenas (por ejemplo, \"millas son\", y otros son variables (por ejemplo, miles).\n",
        "\n",
        "  Consejo  \n",
        "Hay una cosa interesante más que esta ocurriendo. ¿Puedes ver otra función dentro de la función print()? Es la función round(). Su trabajo es redondear la salida del resultado al número de decimales especificados en el paréntesis, y regresar un valor flotante (dentro de la función round() se puede encontrar el nombre de la variable, el nombre, una coma, y el número de decimales que se desean mostrar). Se hablará más de esta función muy pronto, no te preocupes si no todo queda muy claro. Solo se quiere impulsar tu curios"
      ],
      "metadata": {
        "id": "R_pqqbj-loAr"
      }
    },
    {
      "cell_type": "code",
      "source": [
        "kilometers = 12.25\n",
        "miles = 7.38\n",
        "\n",
        "miles_to_kilometers = ###\n",
        "kilometers_to_miles = ###\n",
        "\n",
        "print(miles, \"millas son\", round(miles_to_kilometers, 2), \"kilómetros\")\n",
        "print(kilometers, \"kilómetros son\", round(kilometers_to_miles, 2), \"millas\")\n"
      ],
      "metadata": {
        "id": "efxTmhgVlmp_"
      },
      "execution_count": null,
      "outputs": []
    },
    {
      "cell_type": "code",
      "source": [
        "sheep = sheep + 1\n",
        "\n",
        "#x *= 2\n",
        "#sheep += 1\n",
        "print(sheep)\n",
        "\n"
      ],
      "metadata": {
        "id": "Gxmczm5NkAsE",
        "outputId": "c98f97b6-15f7-4f52-9ebf-6d24d9ea222b",
        "colab": {
          "base_uri": "https://localhost:8080/",
          "height": 244
        }
      },
      "execution_count": 49,
      "outputs": [
        {
          "output_type": "error",
          "ename": "NameError",
          "evalue": "ignored",
          "traceback": [
            "\u001b[0;31m---------------------------------------------------------------------------\u001b[0m",
            "\u001b[0;31mNameError\u001b[0m                                 Traceback (most recent call last)",
            "\u001b[0;32m<ipython-input-49-3f47592edadb>\u001b[0m in \u001b[0;36m<cell line: 1>\u001b[0;34m()\u001b[0m\n\u001b[0;32m----> 1\u001b[0;31m \u001b[0msheep\u001b[0m \u001b[0;34m=\u001b[0m \u001b[0msheep\u001b[0m \u001b[0;34m+\u001b[0m \u001b[0;36m1\u001b[0m\u001b[0;34m\u001b[0m\u001b[0;34m\u001b[0m\u001b[0m\n\u001b[0m\u001b[1;32m      2\u001b[0m \u001b[0;34m\u001b[0m\u001b[0m\n\u001b[1;32m      3\u001b[0m \u001b[0;31m#x *= 2\u001b[0m\u001b[0;34m\u001b[0m\u001b[0;34m\u001b[0m\u001b[0m\n\u001b[1;32m      4\u001b[0m \u001b[0;31m#sheep += 1\u001b[0m\u001b[0;34m\u001b[0m\u001b[0;34m\u001b[0m\u001b[0m\n\u001b[1;32m      5\u001b[0m \u001b[0mprint\u001b[0m\u001b[0;34m(\u001b[0m\u001b[0msheep\u001b[0m\u001b[0;34m)\u001b[0m\u001b[0;34m\u001b[0m\u001b[0;34m\u001b[0m\u001b[0m\n",
            "\u001b[0;31mNameError\u001b[0m: name 'sheep' is not defined"
          ]
        }
      ]
    },
    {
      "cell_type": "code",
      "source": [
        "\n",
        "\n",
        "var = 2\n",
        "var = 3\n",
        "print(var)\n",
        "del "
      ],
      "metadata": {
        "id": "dgiKg-mmm5Aj",
        "outputId": "8fc2cd4d-7f06-4041-cccf-910cb512b2dd",
        "colab": {
          "base_uri": "https://localhost:8080/"
        }
      },
      "execution_count": 50,
      "outputs": [
        {
          "output_type": "stream",
          "name": "stdout",
          "text": [
            "3\n"
          ]
        }
      ]
    },
    {
      "cell_type": "code",
      "source": [
        "\n",
        "a = '1'\n",
        "b = \"1\"\n",
        "print(a + b)"
      ],
      "metadata": {
        "id": "KqZS6OGDnUsL",
        "outputId": "52ec0741-325e-4504-a561-097ac03e8905",
        "colab": {
          "base_uri": "https://localhost:8080/"
        }
      },
      "execution_count": 51,
      "outputs": [
        {
          "output_type": "stream",
          "name": "stdout",
          "text": [
            "11\n"
          ]
        }
      ]
    },
    {
      "cell_type": "code",
      "source": [
        "a = 6\n",
        "b = 3\n",
        "a /= 2 * b\n",
        "print(a)"
      ],
      "metadata": {
        "id": "K1RuylFnnh2y",
        "outputId": "4cd96953-5101-48ad-e4b4-58de37db40ec",
        "colab": {
          "base_uri": "https://localhost:8080/"
        }
      },
      "execution_count": 52,
      "outputs": [
        {
          "output_type": "stream",
          "name": "stdout",
          "text": [
            "1.0\n"
          ]
        }
      ]
    },
    {
      "cell_type": "code",
      "source": [
        "a = 6\n",
        "a /= 8\n",
        "print(a)"
      ],
      "metadata": {
        "id": "X5Cdo7vuno1_",
        "outputId": "06195f00-ee6c-44cf-8ff2-a7367dafd42e",
        "colab": {
          "base_uri": "https://localhost:8080/"
        }
      },
      "execution_count": 53,
      "outputs": [
        {
          "output_type": "stream",
          "name": "stdout",
          "text": [
            "0.75\n"
          ]
        }
      ]
    },
    {
      "cell_type": "code",
      "source": [
        "6 /= 2 "
      ],
      "metadata": {
        "id": "XjB8KEA0n2KE",
        "outputId": "f16c4caf-84cb-4860-fa8e-aa641afd00fa",
        "colab": {
          "base_uri": "https://localhost:8080/",
          "height": 135
        }
      },
      "execution_count": 54,
      "outputs": [
        {
          "output_type": "error",
          "ename": "SyntaxError",
          "evalue": "ignored",
          "traceback": [
            "\u001b[0;36m  File \u001b[0;32m\"<ipython-input-54-a3d00d3ac618>\"\u001b[0;36m, line \u001b[0;32m1\u001b[0m\n\u001b[0;31m    6 /= 2\u001b[0m\n\u001b[0m    ^\u001b[0m\n\u001b[0;31mSyntaxError\u001b[0m\u001b[0;31m:\u001b[0m 'literal' is an illegal expression for augmented assignment\n"
          ]
        }
      ]
    }
  ]
}