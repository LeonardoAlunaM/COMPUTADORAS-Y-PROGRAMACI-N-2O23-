{
  "nbformat": 4,
  "nbformat_minor": 0,
  "metadata": {
    "colab": {
      "provenance": [],
      "authorship_tag": "ABX9TyM3chdgneYeyBNVwXTofHcj",
      "include_colab_link": true
    },
    "kernelspec": {
      "name": "python3",
      "display_name": "Python 3"
    },
    "language_info": {
      "name": "python"
    }
  },
  "cells": [
    {
      "cell_type": "markdown",
      "metadata": {
        "id": "view-in-github",
        "colab_type": "text"
      },
      "source": [
        "<a href=\"https://colab.research.google.com/github/LeonardoAlunaM/COMPUTADORAS-Y-PROGRAMACI-N-2O23-/blob/main-COMPUTADORAS-Y-PROGTRAMACI%C3%93N-2023/PYTHONYOUTUBE.ipynb\" target=\"_parent\"><img src=\"https://colab.research.google.com/assets/colab-badge.svg\" alt=\"Open In Colab\"/></a>"
      ]
    },
    {
      "cell_type": "code",
      "source": [
        "print(\"Hola de nuevo\");print(\"Leonardo Luna\")\n",
        "# Permite unir dos comandos print en una misma línea \n",
        "# E imprime ambas líneas, una tras otra, en la consola "
      ],
      "metadata": {
        "colab": {
          "base_uri": "https://localhost:8080/"
        },
        "id": "9sE0MMNbL00B",
        "outputId": "cffe1cdd-500d-43d4-dc4b-11680cccaceb"
      },
      "execution_count": null,
      "outputs": [
        {
          "output_type": "stream",
          "name": "stdout",
          "text": [
            "Hola de nuevo\n",
            "Leonardo Luna\n"
          ]
        }
      ]
    },
    {
      "cell_type": "code",
      "source": [
        "# Declarar una variable\n",
        "mi_nombre = \"Mí nombre es él Leonardo Alexis Luna Moreno\"\n",
        "mi_nombre # Muestra los valores que asignamos a la variable 'mi_nombre'"
      ],
      "metadata": {
        "colab": {
          "base_uri": "https://localhost:8080/",
          "height": 35
        },
        "id": "Lg9e47cnM7Tu",
        "outputId": "b406d3e0-278b-4567-e292-e90d86993537"
      },
      "execution_count": null,
      "outputs": [
        {
          "output_type": "execute_result",
          "data": {
            "text/plain": [
              "'Mí nombre es él Leonardo Alexis Luna Moreno'"
            ],
            "application/vnd.google.colaboratory.intrinsic+json": {
              "type": "string"
            }
          },
          "metadata": {},
          "execution_count": 6
        }
      ]
    },
    {
      "cell_type": "code",
      "source": [
        "# Escribir usando saltos de línea\n",
        "mi_nombre = \"Mí nombre es él \\\n",
        "Leonardo Alexis Luna Moreno\" # Permite escribir la variable por separado\n",
        "mi_nombre # Muestra los valores que asignamos a la variable 'mi_nombre'"
      ],
      "metadata": {
        "colab": {
          "base_uri": "https://localhost:8080/",
          "height": 35
        },
        "id": "G3HHIOgVOoRu",
        "outputId": "f0de8f44-a8c6-41f1-c1e9-cce594a0501e"
      },
      "execution_count": null,
      "outputs": [
        {
          "output_type": "execute_result",
          "data": {
            "text/plain": [
              "'Mí nombre es él Leonardo Alexis Luna Moreno'"
            ],
            "application/vnd.google.colaboratory.intrinsic+json": {
              "type": "string"
            }
          },
          "metadata": {},
          "execution_count": 7
        }
      ]
    },
    {
      "cell_type": "code",
      "source": [
        "a = 5  # Se declara la variable a, con el valor inicial 0\n",
        "for i in range(8): # Se establece una condición: para i, en el rango de valor 5, que será el número de iteraciones del programa \n",
        "    a += 5 # Sumar el valor de 1 a la variable a, en cada iteración\n",
        "    print(a)\n",
        "# Con esté código tan simple, se pueden modelar progresiones aritméticas\n",
        "\n",
        "# Puedo utilizarla en métodos númericos, para calcular valores\n",
        "# Puedo utilizarla para calcular series de potencias en métodos númericos\n"
      ],
      "metadata": {
        "colab": {
          "base_uri": "https://localhost:8080/"
        },
        "id": "rBUvXTPNPXC9",
        "outputId": "2c4c9662-8dec-45c4-991a-3a6ca548a9be"
      },
      "execution_count": null,
      "outputs": [
        {
          "output_type": "stream",
          "name": "stdout",
          "text": [
            "10\n",
            "15\n",
            "20\n",
            "25\n",
            "30\n",
            "35\n",
            "40\n",
            "45\n"
          ]
        }
      ]
    },
    {
      "cell_type": "code",
      "source": [
        "a = 8760  # Se declara la variable a, con el valor inicial 8760\n",
        "for i in range(365): \n",
        "    a -= 24 \n",
        "    print(a)\n",
        "# Antes de escribir estás líneas salí a caminar al patio, y hacia menos de un minuto que me había aprendido el método \n",
        "# Cuando volví al teclado escribí la solución de la sucesión aritmética del año en un momento"
      ],
      "metadata": {
        "colab": {
          "base_uri": "https://localhost:8080/"
        },
        "id": "B_fzESP_PnCv",
        "outputId": "020ea4ff-0509-4c4c-fcf1-422cfd5aece7"
      },
      "execution_count": null,
      "outputs": [
        {
          "output_type": "stream",
          "name": "stdout",
          "text": [
            "8736\n",
            "8712\n",
            "8688\n",
            "8664\n",
            "8640\n",
            "8616\n",
            "8592\n",
            "8568\n",
            "8544\n",
            "8520\n",
            "8496\n",
            "8472\n",
            "8448\n",
            "8424\n",
            "8400\n",
            "8376\n",
            "8352\n",
            "8328\n",
            "8304\n",
            "8280\n",
            "8256\n",
            "8232\n",
            "8208\n",
            "8184\n",
            "8160\n",
            "8136\n",
            "8112\n",
            "8088\n",
            "8064\n",
            "8040\n",
            "8016\n",
            "7992\n",
            "7968\n",
            "7944\n",
            "7920\n",
            "7896\n",
            "7872\n",
            "7848\n",
            "7824\n",
            "7800\n",
            "7776\n",
            "7752\n",
            "7728\n",
            "7704\n",
            "7680\n",
            "7656\n",
            "7632\n",
            "7608\n",
            "7584\n",
            "7560\n",
            "7536\n",
            "7512\n",
            "7488\n",
            "7464\n",
            "7440\n",
            "7416\n",
            "7392\n",
            "7368\n",
            "7344\n",
            "7320\n",
            "7296\n",
            "7272\n",
            "7248\n",
            "7224\n",
            "7200\n",
            "7176\n",
            "7152\n",
            "7128\n",
            "7104\n",
            "7080\n",
            "7056\n",
            "7032\n",
            "7008\n",
            "6984\n",
            "6960\n",
            "6936\n",
            "6912\n",
            "6888\n",
            "6864\n",
            "6840\n",
            "6816\n",
            "6792\n",
            "6768\n",
            "6744\n",
            "6720\n",
            "6696\n",
            "6672\n",
            "6648\n",
            "6624\n",
            "6600\n",
            "6576\n",
            "6552\n",
            "6528\n",
            "6504\n",
            "6480\n",
            "6456\n",
            "6432\n",
            "6408\n",
            "6384\n",
            "6360\n",
            "6336\n",
            "6312\n",
            "6288\n",
            "6264\n",
            "6240\n",
            "6216\n",
            "6192\n",
            "6168\n",
            "6144\n",
            "6120\n",
            "6096\n",
            "6072\n",
            "6048\n",
            "6024\n",
            "6000\n",
            "5976\n",
            "5952\n",
            "5928\n",
            "5904\n",
            "5880\n",
            "5856\n",
            "5832\n",
            "5808\n",
            "5784\n",
            "5760\n",
            "5736\n",
            "5712\n",
            "5688\n",
            "5664\n",
            "5640\n",
            "5616\n",
            "5592\n",
            "5568\n",
            "5544\n",
            "5520\n",
            "5496\n",
            "5472\n",
            "5448\n",
            "5424\n",
            "5400\n",
            "5376\n",
            "5352\n",
            "5328\n",
            "5304\n",
            "5280\n",
            "5256\n",
            "5232\n",
            "5208\n",
            "5184\n",
            "5160\n",
            "5136\n",
            "5112\n",
            "5088\n",
            "5064\n",
            "5040\n",
            "5016\n",
            "4992\n",
            "4968\n",
            "4944\n",
            "4920\n",
            "4896\n",
            "4872\n",
            "4848\n",
            "4824\n",
            "4800\n",
            "4776\n",
            "4752\n",
            "4728\n",
            "4704\n",
            "4680\n",
            "4656\n",
            "4632\n",
            "4608\n",
            "4584\n",
            "4560\n",
            "4536\n",
            "4512\n",
            "4488\n",
            "4464\n",
            "4440\n",
            "4416\n",
            "4392\n",
            "4368\n",
            "4344\n",
            "4320\n",
            "4296\n",
            "4272\n",
            "4248\n",
            "4224\n",
            "4200\n",
            "4176\n",
            "4152\n",
            "4128\n",
            "4104\n",
            "4080\n",
            "4056\n",
            "4032\n",
            "4008\n",
            "3984\n",
            "3960\n",
            "3936\n",
            "3912\n",
            "3888\n",
            "3864\n",
            "3840\n",
            "3816\n",
            "3792\n",
            "3768\n",
            "3744\n",
            "3720\n",
            "3696\n",
            "3672\n",
            "3648\n",
            "3624\n",
            "3600\n",
            "3576\n",
            "3552\n",
            "3528\n",
            "3504\n",
            "3480\n",
            "3456\n",
            "3432\n",
            "3408\n",
            "3384\n",
            "3360\n",
            "3336\n",
            "3312\n",
            "3288\n",
            "3264\n",
            "3240\n",
            "3216\n",
            "3192\n",
            "3168\n",
            "3144\n",
            "3120\n",
            "3096\n",
            "3072\n",
            "3048\n",
            "3024\n",
            "3000\n",
            "2976\n",
            "2952\n",
            "2928\n",
            "2904\n",
            "2880\n",
            "2856\n",
            "2832\n",
            "2808\n",
            "2784\n",
            "2760\n",
            "2736\n",
            "2712\n",
            "2688\n",
            "2664\n",
            "2640\n",
            "2616\n",
            "2592\n",
            "2568\n",
            "2544\n",
            "2520\n",
            "2496\n",
            "2472\n",
            "2448\n",
            "2424\n",
            "2400\n",
            "2376\n",
            "2352\n",
            "2328\n",
            "2304\n",
            "2280\n",
            "2256\n",
            "2232\n",
            "2208\n",
            "2184\n",
            "2160\n",
            "2136\n",
            "2112\n",
            "2088\n",
            "2064\n",
            "2040\n",
            "2016\n",
            "1992\n",
            "1968\n",
            "1944\n",
            "1920\n",
            "1896\n",
            "1872\n",
            "1848\n",
            "1824\n",
            "1800\n",
            "1776\n",
            "1752\n",
            "1728\n",
            "1704\n",
            "1680\n",
            "1656\n",
            "1632\n",
            "1608\n",
            "1584\n",
            "1560\n",
            "1536\n",
            "1512\n",
            "1488\n",
            "1464\n",
            "1440\n",
            "1416\n",
            "1392\n",
            "1368\n",
            "1344\n",
            "1320\n",
            "1296\n",
            "1272\n",
            "1248\n",
            "1224\n",
            "1200\n",
            "1176\n",
            "1152\n",
            "1128\n",
            "1104\n",
            "1080\n",
            "1056\n",
            "1032\n",
            "1008\n",
            "984\n",
            "960\n",
            "936\n",
            "912\n",
            "888\n",
            "864\n",
            "840\n",
            "816\n",
            "792\n",
            "768\n",
            "744\n",
            "720\n",
            "696\n",
            "672\n",
            "648\n",
            "624\n",
            "600\n",
            "576\n",
            "552\n",
            "528\n",
            "504\n",
            "480\n",
            "456\n",
            "432\n",
            "408\n",
            "384\n",
            "360\n",
            "336\n",
            "312\n",
            "288\n",
            "264\n",
            "240\n",
            "216\n",
            "192\n",
            "168\n",
            "144\n",
            "120\n",
            "96\n",
            "72\n",
            "48\n",
            "24\n",
            "0\n"
          ]
        }
      ]
    },
    {
      "cell_type": "code",
      "source": [
        "# Espacio de la memoria del ordenador \n",
        "# donde se almacenará un valor que podrá cambiar durante \n",
        "# la ejecución del programa \n",
        "\n",
        "5+6 # Sumar números "
      ],
      "metadata": {
        "colab": {
          "base_uri": "https://localhost:8080/"
        },
        "id": "bPqB66632qCO",
        "outputId": "c90c960a-0d8d-4f52-c8b8-289ebd02a101"
      },
      "execution_count": null,
      "outputs": [
        {
          "output_type": "execute_result",
          "data": {
            "text/plain": [
              "11"
            ]
          },
          "metadata": {},
          "execution_count": 33
        }
      ]
    },
    {
      "cell_type": "code",
      "source": [
        "10 % 3 # Operación modulo, resto de una división "
      ],
      "metadata": {
        "colab": {
          "base_uri": "https://localhost:8080/"
        },
        "id": "qairzpIC6egb",
        "outputId": "a77c1dd3-df71-4749-b762-7f42e1146325"
      },
      "execution_count": null,
      "outputs": [
        {
          "output_type": "execute_result",
          "data": {
            "text/plain": [
              "1"
            ]
          },
          "metadata": {},
          "execution_count": 32
        }
      ]
    },
    {
      "cell_type": "code",
      "source": [
        "10**3 # Exponente de un número, aquí tenemos a 10 elevado al cubo "
      ],
      "metadata": {
        "colab": {
          "base_uri": "https://localhost:8080/"
        },
        "id": "kdzainw76gwE",
        "outputId": "0bc341d3-f07f-4279-8cd5-b87075b6d9b7"
      },
      "execution_count": null,
      "outputs": [
        {
          "output_type": "execute_result",
          "data": {
            "text/plain": [
              "1000"
            ]
          },
          "metadata": {},
          "execution_count": 34
        }
      ]
    },
    {
      "cell_type": "code",
      "source": [
        "9/2 # División con punto flotante "
      ],
      "metadata": {
        "colab": {
          "base_uri": "https://localhost:8080/"
        },
        "id": "2LjeDdDU6oY7",
        "outputId": "d0912d75-6b3f-4671-9575-f32f49c4a8c4"
      },
      "execution_count": null,
      "outputs": [
        {
          "output_type": "execute_result",
          "data": {
            "text/plain": [
              "4.5"
            ]
          },
          "metadata": {},
          "execution_count": 38
        }
      ]
    },
    {
      "cell_type": "code",
      "source": [
        "9//2 # División cerrada "
      ],
      "metadata": {
        "colab": {
          "base_uri": "https://localhost:8080/"
        },
        "id": "OW79t2Xh6wO9",
        "outputId": "059f434a-805b-44b5-8166-c07988a806f4"
      },
      "execution_count": null,
      "outputs": [
        {
          "output_type": "execute_result",
          "data": {
            "text/plain": [
              "4"
            ]
          },
          "metadata": {},
          "execution_count": 37
        }
      ]
    },
    {
      "cell_type": "code",
      "source": [
        "# En python el tipo de variable lo establece el contenido \n",
        "# de la variable\n",
        "\n",
        "# Contenedor de un objeto = Objeto dentro del contenedor \n",
        "nombre = 5 \n",
        "type(nombre)  "
      ],
      "metadata": {
        "colab": {
          "base_uri": "https://localhost:8080/"
        },
        "id": "I5m7reBf66JE",
        "outputId": "c83fda39-6936-48b2-cec5-fa2eee3bd553"
      },
      "execution_count": null,
      "outputs": [
        {
          "output_type": "execute_result",
          "data": {
            "text/plain": [
              "int"
            ]
          },
          "metadata": {},
          "execution_count": 39
        }
      ]
    },
    {
      "cell_type": "code",
      "source": [
        "nombre = \"Leonardo\"\n",
        "type(nombre)  "
      ],
      "metadata": {
        "colab": {
          "base_uri": "https://localhost:8080/"
        },
        "id": "6X-q89dP-L_K",
        "outputId": "9ccfc429-ae53-4554-9852-8ee9b4db43c4"
      },
      "execution_count": null,
      "outputs": [
        {
          "output_type": "execute_result",
          "data": {
            "text/plain": [
              "str"
            ]
          },
          "metadata": {},
          "execution_count": 41
        }
      ]
    },
    {
      "cell_type": "code",
      "source": [
        "nombre = 422.0\n",
        "type(nombre)  "
      ],
      "metadata": {
        "colab": {
          "base_uri": "https://localhost:8080/"
        },
        "id": "lkuYC8rq-Xmb",
        "outputId": "6585e930-3bb8-41be-b609-ba830874ea2b"
      },
      "execution_count": null,
      "outputs": [
        {
          "output_type": "execute_result",
          "data": {
            "text/plain": [
              "float"
            ]
          },
          "metadata": {},
          "execution_count": 42
        }
      ]
    },
    {
      "cell_type": "code",
      "source": [
        "mensaje = \"\"\" Buenos días damas y caballeros \n",
        "somos el entretenimiento \"\"\" \n",
        "print(mensaje) # Permite imprimir el mensaje de esta forma "
      ],
      "metadata": {
        "colab": {
          "base_uri": "https://localhost:8080/"
        },
        "id": "4J4NTFy6-rHc",
        "outputId": "06d6630e-3197-4375-bc51-62fc63a09ede"
      },
      "execution_count": null,
      "outputs": [
        {
          "output_type": "stream",
          "name": "stdout",
          "text": [
            " Buenos días damas y caballeros \n",
            "somos el entretenimiento \n"
          ]
        }
      ]
    },
    {
      "cell_type": "code",
      "source": [
        "# Está es la estructura mostrada en el video\n",
        "numero1 = 5 \n",
        "numero2 = 7 \n",
        "if numero1>numero2: \n",
        "    print(\"El número 1 es mayor\")\n",
        "else: \n",
        "    print(\"El número 2 es mayor\")"
      ],
      "metadata": {
        "colab": {
          "base_uri": "https://localhost:8080/"
        },
        "id": "Ou8kjiVCAEEl",
        "outputId": "3182f49b-3508-422f-bec4-5151fbd73f24"
      },
      "execution_count": null,
      "outputs": [
        {
          "output_type": "stream",
          "name": "stdout",
          "text": [
            "El número 2 es mayor\n"
          ]
        }
      ]
    },
    {
      "cell_type": "code",
      "source": [
        "# Estructura condicional\n",
        "# Código escrito por mí \n",
        "numero1 = 1\n",
        "numero2 = 1\n",
        "if numero1==numero2: \n",
        "    print(\"Ambos números son iguales\")\n",
        "else: \n",
        "    if numero1<numero2:\n",
        "        print(\"El número 2 es mayor\")\n",
        "    else:\n",
        "        print(\"El número 1 es mayor\")"
      ],
      "metadata": {
        "colab": {
          "base_uri": "https://localhost:8080/"
        },
        "id": "GUoDN3hWB3iU",
        "outputId": "8a1a4321-8c0e-4f29-d8d7-bc9c2e206d19"
      },
      "execution_count": null,
      "outputs": [
        {
          "output_type": "stream",
          "name": "stdout",
          "text": [
            "Ambos números son iguales\n"
          ]
        }
      ]
    },
    {
      "cell_type": "code",
      "source": [
        "# Fuciones en Python \n",
        "# Conjunto de líneas de código agrupadas (bloque de código)\n",
        "# que funciona como una unidad realizando una tarea específica\n",
        "\n",
        "# Las funciones en Python pueden devolver valores \n",
        "\n",
        "# Las funciones en Python pueden tener parámetros/argumentos \n",
        "\n",
        "# A las funciones también se les denomina \" métodos \" cuando se \n",
        "# encuentran definidas dentr de una clase \n",
        "\n",
        "# La utilidad de las funciones es el hecho de que se puede \n",
        "# reutilizar el código ( cuando sea o siempre que sea necesario)\n",
        "\n",
        "\n",
        "# Sintaxis de una función en python \n",
        "\n",
        "# def nombre_función():\n",
        "#     * Instrucciones de la función\n",
        "#     * return (opcional)   \n",
        "\n",
        "# def nombre_función(parámetros)\n",
        "#     * Instrucciones de la función\n",
        "#     * return (opcional)"
      ],
      "metadata": {
        "id": "iNFMvqsxGtV9"
      },
      "execution_count": null,
      "outputs": []
    },
    {
      "cell_type": "code",
      "source": [
        "# print() Es una función predefinida por python\n",
        "\n",
        "# También es posible crear nuestras propias funciones, este comentario \n",
        "# corresponde a la serie 5/79 \n",
        "# En este momento escucho el minuto 9 ; 17 "
      ],
      "metadata": {
        "id": "-I4xgQSSJScp"
      },
      "execution_count": null,
      "outputs": []
    },
    {
      "cell_type": "code",
      "source": [
        "# Está es una función\n",
        "def mensaje():             # Declaración de la función\n",
        "\n",
        "    print(\"Algo \")         #\n",
        "    print(\"Algo más\")      # Cuerpo de la función \n",
        "    print(\"Algo, más Algo más, más Algo más además de Algo más :V \") #\n",
        "\n",
        "# Está función si bien puede ejecutarse no produce nada :V \n",
        "# A menos que llamemos o invoquemos a la función mensaje \n",
        "   \n",
        "mensaje()                  # Llamado de la función # 1 \n",
        "mensaje()                  # Llamado de la función # 2 \n",
        "\n",
        "print(\"Ejecutando código fuera de la función\")\n",
        "\n",
        "mensaje()                  # Lllamado de la función # 3 \n",
        "\n",
        "# Entonces se puede invocar a la función mensaje tantas veces como se quiera \n",
        "# Solo basta invocar la función para mostrar todo el cuerpo "
      ],
      "metadata": {
        "colab": {
          "base_uri": "https://localhost:8080/"
        },
        "id": "jGYTcHxPKHYu",
        "outputId": "cfd6df69-755f-4f40-d570-209339a81d2b"
      },
      "execution_count": null,
      "outputs": [
        {
          "output_type": "stream",
          "name": "stdout",
          "text": [
            "Algo \n",
            "Algo más\n",
            "Algo, más Algo más, más Algo más además de Algo más :V \n",
            "Algo \n",
            "Algo más\n",
            "Algo, más Algo más, más Algo más además de Algo más :V \n",
            "Ejecutando código fuera de la función\n",
            "Algo \n",
            "Algo más\n",
            "Algo, más Algo más, más Algo más además de Algo más :V \n"
          ]
        }
      ]
    },
    {
      "cell_type": "code",
      "source": [
        "# El video 6 /79 dura 16:34 minutos\n",
        "\n",
        "# Parametro o Argumento \n",
        "\n",
        "def suma(): # Aquí hemos definido 2 parámetros, num1 y num2 \n",
        "    num1 = 5 \n",
        "    num2 = 7 \n",
        "    print(num1 + num2) \n",
        "\n",
        "suma()\n",
        "# Como hacer que la función suma, sume diferentes valores en cada \n",
        "# invocación de la función suma"
      ],
      "metadata": {
        "colab": {
          "base_uri": "https://localhost:8080/"
        },
        "id": "WH2TarfxdTCT",
        "outputId": "fb39f999-b30c-4c6d-97b2-b1107bc89cd0"
      },
      "execution_count": null,
      "outputs": [
        {
          "output_type": "stream",
          "name": "stdout",
          "text": [
            "12\n"
          ]
        }
      ]
    },
    {
      "cell_type": "code",
      "source": [
        "# Parametro o Argumento \n",
        "\n",
        "def suma(num1,num2): # Aquí hemos definido 2 parámetros, num1 y num2 \n",
        "#    num1 = 5          Al momento de definir los parámetros en la \n",
        "#    num2 = 7          función, ya no son necesarias estás 2 líneas\n",
        "    print(num1 + num2) \n",
        "suma(3,4) # Ahora al invocar la función, debo agregar los datos\n",
        "suma(59,76)\n",
        "suma(2000,476)\n",
        "suma(67,-17) # Porque sumar el negativo de un número es el equivalente a \n",
        "# restarlo \n",
        "# En estos casos, los valores, 3, 59, 2000, 67 se almacenan en el \n",
        "# parámetro num1  \n",
        "suma(2.3,4.7) \n",
        "suma(\"hola\",\" Leo\") # Al parecer también se pueden sumar strings\n",
        "suma(\"LEONARDO\",\" 422\")\n"
      ],
      "metadata": {
        "colab": {
          "base_uri": "https://localhost:8080/"
        },
        "id": "vOZyTECHeoaz",
        "outputId": "adc28b2a-015a-4db4-eb13-cd87cefb95bd"
      },
      "execution_count": null,
      "outputs": [
        {
          "output_type": "stream",
          "name": "stdout",
          "text": [
            "7\n",
            "135\n",
            "2476\n",
            "50\n",
            "7.0\n",
            "hola Leo\n",
            "LEONARDO 422\n"
          ]
        }
      ]
    },
    {
      "cell_type": "code",
      "source": [
        "def suma(num1,num2):\n",
        "    resultado = num1 + num2\n",
        "    return resultado \n",
        "print(suma(67,89))"
      ],
      "metadata": {
        "colab": {
          "base_uri": "https://localhost:8080/"
        },
        "id": "BZTLF9xyhIfV",
        "outputId": "bbb0d83b-ae4e-4fe2-a117-70f4dd5da452"
      },
      "execution_count": null,
      "outputs": [
        {
          "output_type": "stream",
          "name": "stdout",
          "text": [
            "156\n"
          ]
        }
      ]
    },
    {
      "cell_type": "code",
      "source": [
        "def suma(num1,num2):\n",
        "    resultado = num1 + num2\n",
        "    return resultado \n",
        "almacena_resultado = suma(5,8)\n",
        "print(almacena_resultado)"
      ],
      "metadata": {
        "colab": {
          "base_uri": "https://localhost:8080/"
        },
        "id": "CJf53npbiMfV",
        "outputId": "121718bf-dc18-472f-d206-6e7e29590e59"
      },
      "execution_count": null,
      "outputs": [
        {
          "output_type": "stream",
          "name": "stdout",
          "text": [
            "13\n"
          ]
        }
      ]
    },
    {
      "cell_type": "code",
      "source": [
        "# Video 7 / 79  Listas y demás relacionado 24 minutos \n",
        "milista = [\"1\",\"2\",\"3\",\"4\"]\n",
        "print(milista[:]) # De este modo se imprime la lista completa \n",
        "# Corchetes, comillas y comas incluidos"
      ],
      "metadata": {
        "colab": {
          "base_uri": "https://localhost:8080/"
        },
        "id": "cXhAAqbej5zw",
        "outputId": "779c3a36-39da-4c9b-a71c-ab3f6b3553f7"
      },
      "execution_count": null,
      "outputs": [
        {
          "output_type": "stream",
          "name": "stdout",
          "text": [
            "['1', '2', '3', '4']\n"
          ]
        }
      ]
    },
    {
      "cell_type": "code",
      "source": [
        "milista = [\"1\",\"2\",\"3\",\"4\"]\n",
        "print(milista[3]) # De esta manera se accede al elemento '4' de la lista"
      ],
      "metadata": {
        "colab": {
          "base_uri": "https://localhost:8080/"
        },
        "id": "8CW1wLseotrC",
        "outputId": "1453baad-3b13-4694-91ed-6ffc0a291c9a"
      },
      "execution_count": null,
      "outputs": [
        {
          "output_type": "stream",
          "name": "stdout",
          "text": [
            "4\n"
          ]
        }
      ]
    },
    {
      "cell_type": "code",
      "source": [
        "milista = [\"1\",\"2\",\"3\",\"4\"]\n",
        "print(milista[0:3]) # De esta manera se accede a los 3 primeros elementos\n",
        "# de la lista que escribí aquí"
      ],
      "metadata": {
        "colab": {
          "base_uri": "https://localhost:8080/"
        },
        "id": "2rktTZqEnxO4",
        "outputId": "57c59848-815c-47d2-faac-da77c021489e"
      },
      "execution_count": null,
      "outputs": [
        {
          "output_type": "stream",
          "name": "stdout",
          "text": [
            "['1', '2', '3']\n"
          ]
        }
      ]
    },
    {
      "cell_type": "code",
      "source": [
        "milista = [\"1\",\"2\",\"3\",\"4\"]\n",
        "print(milista[:3]) # Al parecer también funciona si se deja el \n",
        "# lado izquierdo de los corchetes vacío"
      ],
      "metadata": {
        "colab": {
          "base_uri": "https://localhost:8080/"
        },
        "id": "1ombEQ9TlH1G",
        "outputId": "b58756c7-b8a6-4031-b26c-58902cb190f3"
      },
      "execution_count": null,
      "outputs": [
        {
          "output_type": "stream",
          "name": "stdout",
          "text": [
            "['1', '2', '3']\n"
          ]
        }
      ]
    },
    {
      "cell_type": "code",
      "source": [
        "milista = [\"1\",\"2\",\"3\",\"4\"]\n",
        "print(milista[1:2]) "
      ],
      "metadata": {
        "colab": {
          "base_uri": "https://localhost:8080/"
        },
        "id": "UVwIPJlzk4t4",
        "outputId": "8f33ba36-30ab-4d13-cf7e-597e622c76ed"
      },
      "execution_count": null,
      "outputs": [
        {
          "output_type": "stream",
          "name": "stdout",
          "text": [
            "['2']\n"
          ]
        }
      ]
    },
    {
      "cell_type": "code",
      "source": [
        "milista = [\"1\",\"2\",\"3\",\"4\"]\n",
        "print(milista[2:])"
      ],
      "metadata": {
        "colab": {
          "base_uri": "https://localhost:8080/"
        },
        "id": "nVC8i44rmYe5",
        "outputId": "75ef5cf0-990d-4356-d093-669345668ba6"
      },
      "execution_count": null,
      "outputs": [
        {
          "output_type": "stream",
          "name": "stdout",
          "text": [
            "['3', '4']\n"
          ]
        }
      ]
    },
    {
      "cell_type": "code",
      "source": [
        "milista = [\"1\",\"2\",\"3\",\"4\"]\n",
        "milista.append(\"141\") # Se agrega un elemento nuevo a la lista\n",
        "                      # Y lo agrega al final de la lista \n",
        "print(milista[:])     # Con los corchetes con los puntos se agrega el elemento\n",
        "# 141 "
      ],
      "metadata": {
        "colab": {
          "base_uri": "https://localhost:8080/"
        },
        "id": "VtMIqtyCmY4-",
        "outputId": "dc7cbef5-5fe0-42ab-85a3-82eaf867c3fd"
      },
      "execution_count": null,
      "outputs": [
        {
          "output_type": "stream",
          "name": "stdout",
          "text": [
            "['1', '2', '3', '4', '141']\n"
          ]
        }
      ]
    },
    {
      "cell_type": "code",
      "source": [
        "milista = [\"1\",\"2\",\"3\",\"4\"]\n",
        "milista.insert(0,\"141\") # Se agrega un elemento nuevo a la lista\n",
        "# Con este metodo puedo agregar 141, en cualquier parte de la lista\n",
        "print(milista[:])     "
      ],
      "metadata": {
        "colab": {
          "base_uri": "https://localhost:8080/"
        },
        "id": "NIFmtSMinfeG",
        "outputId": "8c2a206e-8d66-4bf2-8954-d9fc66da831e"
      },
      "execution_count": null,
      "outputs": [
        {
          "output_type": "stream",
          "name": "stdout",
          "text": [
            "['141', '1', '2', '3', '4']\n"
          ]
        }
      ]
    },
    {
      "cell_type": "code",
      "source": [
        "# Para agregar varios elementos nuevos a la lista se utiliza el siguiente método\n",
        "milista = [\"1\",\"2\",\"3\",\"4\"]\n",
        "milista.extend([\"422\",\"141\",\"73\",\"1\"]) \n",
        "# Con este metodo se agregan 4 elementos, al final de la lista \n",
        "print(milista[:])  "
      ],
      "metadata": {
        "colab": {
          "base_uri": "https://localhost:8080/"
        },
        "id": "Dy5Fu_j-nxKc",
        "outputId": "b84df80e-c123-4230-dd9d-7993711d0882"
      },
      "execution_count": null,
      "outputs": [
        {
          "output_type": "stream",
          "name": "stdout",
          "text": [
            "['1', '2', '3', '4', '422', '141', '73', '1']\n"
          ]
        }
      ]
    },
    {
      "cell_type": "code",
      "source": [
        "# Con el metodo index, puedo conocer el número de elemento que ocupa un\n",
        "# un valor dentro de la lista, por ejemplo, el valor 422 ocupa el valor\n",
        "# dentro de la lista \n",
        "milista = [\"1\",\"2\",\"3\",\"4\"]\n",
        "milista.extend([\"422\",\"141\",\"73\",\"1\"]) \n",
        "# Con este metodo se agregan 4 elementos, al final de la lista \n",
        "print(milista.index(\"422\"))  "
      ],
      "metadata": {
        "colab": {
          "base_uri": "https://localhost:8080/"
        },
        "id": "CvGZ5VvXoBta",
        "outputId": "4d480a7e-568d-4a1a-9213-a0fd01de76a6"
      },
      "execution_count": null,
      "outputs": [
        {
          "output_type": "stream",
          "name": "stdout",
          "text": [
            "4\n"
          ]
        }
      ]
    },
    {
      "cell_type": "code",
      "source": [
        "# ¿Que hacer si se repite un elemento dentro de la lista \n",
        "# En esta caso el número 1 se repite \n",
        "# Al compilarlo, el primer el index reconocido es el del primer valor \n",
        "# Repetido dentro de la lista\n",
        "milista = [\"1\",\"2\",\"3\",\"4\"]\n",
        "milista.extend([\"422\",\"141\",\"73\",\"1\"]) \n",
        "# Con este metodo se agregan 4 elementos, al final de la lista \n",
        "print(\"141\" in milista)"
      ],
      "metadata": {
        "colab": {
          "base_uri": "https://localhost:8080/"
        },
        "id": "kYq5skWsoBhQ",
        "outputId": "bac7cebd-a689-4134-ed98-4a50248dfdf1"
      },
      "execution_count": null,
      "outputs": [
        {
          "output_type": "stream",
          "name": "stdout",
          "text": [
            "True\n"
          ]
        }
      ]
    },
    {
      "cell_type": "code",
      "source": [
        "# Con el metodo index, puedo conocer el número de elemento que ocupa un\n",
        "# un valor dentro de la lista, por ejemplo, el valor 422 ocupa el valor\n",
        "# dentro de la lista \n",
        "milista = [\"1\",\"2\",\"3\",\"4\"]\n",
        "milista.extend([\"422\",\"141\",\"73\",\"1\"]) \n",
        "# Con este metodo se agregan 4 elementos, al final de la lista \n",
        "print(\"2000\" in milista)"
      ],
      "metadata": {
        "colab": {
          "base_uri": "https://localhost:8080/"
        },
        "id": "n-hYF63Xq5o9",
        "outputId": "6d79c94f-5cc5-4b43-c12b-88c7ba2bfcd8"
      },
      "execution_count": null,
      "outputs": [
        {
          "output_type": "stream",
          "name": "stdout",
          "text": [
            "False\n"
          ]
        }
      ]
    },
    {
      "cell_type": "code",
      "source": [
        "milista = [\"1\",\"LEONARDO\",3.12,True]\n",
        "milista.extend([\"422\",\"141\",\"73\"]) \n",
        "# Con este metodo se agregan 4 elementos, al final de la lista \n",
        "print(milista[:])"
      ],
      "metadata": {
        "colab": {
          "base_uri": "https://localhost:8080/"
        },
        "id": "Vo5YLi4KqP2k",
        "outputId": "a0de5e53-73b1-44b9-da58-baba9f73b94b"
      },
      "execution_count": null,
      "outputs": [
        {
          "output_type": "stream",
          "name": "stdout",
          "text": [
            "['1', 'LEONARDO', 3.12, True, '422', '141', '73']\n"
          ]
        }
      ]
    },
    {
      "cell_type": "code",
      "source": [
        "milista = [\"1\",\"LEONARDO\",3.12,True]\n",
        "milista.extend([\"422\",\"141\",\"73\",1]) \n",
        "# Con este metodo se agregan 4 elementos, al final de la lista \n",
        "print(milista[1])"
      ],
      "metadata": {
        "colab": {
          "base_uri": "https://localhost:8080/"
        },
        "id": "IKnKUyJNoBRZ",
        "outputId": "b0dbc250-0f16-4fce-93ce-cb002ac2577f"
      },
      "execution_count": null,
      "outputs": [
        {
          "output_type": "stream",
          "name": "stdout",
          "text": [
            "LEONARDO\n"
          ]
        }
      ]
    },
    {
      "cell_type": "code",
      "source": [
        "# Eliminar elementos de la lista \n",
        "milista = [\"1\",\"LEONARDO\",3.12,True]\n",
        "milista.extend([\"422\",\"141\",\"73\",1]) \n",
        "milista.remove(\"73\")\n",
        "milista.remove(3.12)\n",
        "# Despues de usar .remove, elimine el elemento \" 73 \"\n",
        "# Al parecer con este metodo solo se puede eliminar un elemento a la vez\n",
        "print(milista[:])  # Cambiar aquí el valor antes y después de los : \n",
        "# no eliminaria los datos omitidos en el rango, sino que solo mostraría\n",
        "# aquellos elementos definidos por nosotros"
      ],
      "metadata": {
        "colab": {
          "base_uri": "https://localhost:8080/"
        },
        "id": "hr3s6UPOsf1h",
        "outputId": "c0668417-069e-4a65-e82e-f7c4ad931cae"
      },
      "execution_count": null,
      "outputs": [
        {
          "output_type": "stream",
          "name": "stdout",
          "text": [
            "['1', 'LEONARDO', True, '422', '141', 1]\n"
          ]
        }
      ]
    },
    {
      "cell_type": "code",
      "source": [
        "# Eliminar elementos de la lista \n",
        "milista = [\"1\",\"LEONARDO\",3.12,True]\n",
        "milista.extend([\"422\",\"141\",\"73\",1]) \n",
        "milista.pop() # Segun parece elimina el ultimo elemento de la lista\n",
        "print(milista[:])  # Cambiar aquí el valor antes y después de los : \n",
        "# no eliminaria los datos omitidos en el rango, sino que solo mostraría\n",
        "# aquellos elementos definidos por nosotros \n",
        "\n",
        "# No se si esto será válido para el programa de agregación y eliminación \n",
        "# de datos, pero sin duda haría el código más funcional"
      ],
      "metadata": {
        "colab": {
          "base_uri": "https://localhost:8080/"
        },
        "id": "1XNem94dtr1f",
        "outputId": "f393b066-dc41-400c-a11b-4b6827921128"
      },
      "execution_count": null,
      "outputs": [
        {
          "output_type": "stream",
          "name": "stdout",
          "text": [
            "['1', 'LEONARDO', 3.12, True, '422', '141', '73']\n"
          ]
        }
      ]
    },
    {
      "cell_type": "code",
      "source": [
        "# Sumar listas\n",
        "milista = [\"1\",\"LEONARDO\",3.12,True]\n",
        "milista.extend([\"422\",\"141\",\"73\",1]) \n",
        "\n",
        "milista2 = [\"LUNA\", \"2022\", True]\n",
        "milista3 = milista + milista2 # El operador suma, suma ambas listas\n",
        "# En una nueva lsita 3, que es la suma de la lista1 y la lista 2 \n",
        "print(milista3[:])"
      ],
      "metadata": {
        "colab": {
          "base_uri": "https://localhost:8080/"
        },
        "id": "u6cKMuYMskrB",
        "outputId": "ba31fe9a-22d0-48f7-a525-4a79372c9f13"
      },
      "execution_count": null,
      "outputs": [
        {
          "output_type": "stream",
          "name": "stdout",
          "text": [
            "['1', 'LEONARDO', 3.12, True, '422', '141', '73', 1, 'LUNA', '2022', True]\n"
          ]
        }
      ]
    },
    {
      "cell_type": "code",
      "source": [
        "# Multiplicar listas\n",
        "milista = [\"1\",\"LEONARDO\",3.12,True]*3 \n",
        "milista.extend([\"422\",\"141\",\"73\",1])\n",
        "# Al parecer es posible multiplicar la lista un monton de veces posibles\n",
        "# En este caso 3, el problema es que solamente se multiplica la parte \n",
        "# De arriba, más no la parte de abajo de la lista, la parte extendida de la lista\n",
        "print(milista[:])"
      ],
      "metadata": {
        "colab": {
          "base_uri": "https://localhost:8080/"
        },
        "id": "asszGgp0sfhl",
        "outputId": "5cdbaca9-b6f2-43b1-b97b-65fc3d89a804"
      },
      "execution_count": null,
      "outputs": [
        {
          "output_type": "stream",
          "name": "stdout",
          "text": [
            "['1', 'LEONARDO', 3.12, True, '1', 'LEONARDO', 3.12, True, '1', 'LEONARDO', 3.12, True, '422', '141', '73', 1]\n"
          ]
        }
      ]
    },
    {
      "cell_type": "code",
      "source": [],
      "metadata": {
        "id": "uOe7jaUFsfeL"
      },
      "execution_count": null,
      "outputs": []
    },
    {
      "cell_type": "code",
      "source": [],
      "metadata": {
        "id": "a6RJUqvmsfZZ"
      },
      "execution_count": null,
      "outputs": []
    },
    {
      "cell_type": "code",
      "source": [
        "a = float(input(\"Ingrese el valor 'a' del intervalo: \"))\n",
        "b = float(input(\"Ingrese el valor 'b' del intervalo: \"))\n",
        "for i in range(3): # Se establece una condición: para i, en el rango de valor 5, que será el número de iteraciones del programa \n",
        "    cn = (a+b) / 2  # Sumar el valor de 1 a la variable a, en cada iteración\n",
        "    print(f\"{cn}\")\n",
        "    for i in range(3): # Se establece una condición: para i, en el rango de valor 5, que será el número de iteraciones del programa \n",
        "        cn = (a+b) / 2  # Sumar el valor de 1 a la variable a, en cada iteración\n",
        "        print(f\"{cn}\")\n",
        "    \n",
        "# print(f\"El valor C(n) para la siguiente iteración es:{cn}\")"
      ],
      "metadata": {
        "id": "tTOZqWaQqSNF",
        "colab": {
          "base_uri": "https://localhost:8080/"
        },
        "outputId": "9a73c73f-c470-4e1d-8980-3b3316dbfb1f"
      },
      "execution_count": null,
      "outputs": [
        {
          "output_type": "stream",
          "name": "stdout",
          "text": [
            "Ingrese el valor 'a' del intervalo: 1\n",
            "Ingrese el valor 'b' del intervalo: 2\n",
            "1.5\n",
            "1.5\n",
            "1.5\n",
            "1.5\n",
            "1.5\n",
            "1.5\n",
            "1.5\n",
            "1.5\n",
            "1.5\n",
            "1.5\n",
            "1.5\n",
            "1.5\n"
          ]
        }
      ]
    },
    {
      "cell_type": "code",
      "source": [
        "# Aquí construi la función de la tarea 1 y la evalue con c1 = 1.5, f(Cn) = 4.5938, que concuerda con los valores obtenidos \n",
        "a = 1.5*1.5*1.5*1.5*1.5 - 2*1.5\n",
        "print(f\" {a}\")"
      ],
      "metadata": {
        "colab": {
          "base_uri": "https://localhost:8080/"
        },
        "id": "qdLIl2YtKH0m",
        "outputId": "181d2eb9-47fe-4f71-ee04-bd7ee84e425d"
      },
      "execution_count": null,
      "outputs": [
        {
          "output_type": "stream",
          "name": "stdout",
          "text": [
            " 4.59375\n"
          ]
        }
      ]
    },
    {
      "cell_type": "code",
      "source": [
        "import math \n",
        "print(math.pow(2,3)) # Esto significa, 2 elevado a la potencia 3, osease 2 al cubo igual a 8 "
      ],
      "metadata": {
        "id": "qy48vbYnK2Mq"
      },
      "execution_count": null,
      "outputs": []
    },
    {
      "cell_type": "code",
      "source": [
        "# Aquí he resuelto el problema para \n",
        "import math \n",
        "a = math.pow(1.5,5) - 2 * (1.5)\n",
        "print(f\" {a}\")"
      ],
      "metadata": {
        "colab": {
          "base_uri": "https://localhost:8080/"
        },
        "id": "5Tl9n2tmKnBT",
        "outputId": "1068bcb8-c64b-459a-eb14-33643bb9b953"
      },
      "execution_count": null,
      "outputs": [
        {
          "output_type": "stream",
          "name": "stdout",
          "text": [
            " 4.59375\n"
          ]
        }
      ]
    },
    {
      "cell_type": "code",
      "source": [],
      "metadata": {
        "id": "680CXRkSLtdk"
      },
      "execution_count": null,
      "outputs": []
    },
    {
      "cell_type": "code",
      "source": [],
      "metadata": {
        "id": "bB33H3yULgbZ"
      },
      "execution_count": null,
      "outputs": []
    },
    {
      "cell_type": "code",
      "source": [
        "# Interfaz actualizada de estructura de datos\n",
        "from tkinter import * \n",
        "import tkinter as tk   \n",
        "import datetime \n",
        "from datetime import date \n",
        "import time \n",
        "\n",
        "class Ventana():        \n",
        "    def __init__(self):    \n",
        "            # Ventana principal \n",
        "            self.ventana = tk.Tk()\n",
        "            self.ventana.iconbitmap(\"../pythonprog/graphics/mad.ico\") \n",
        "            self.ventana.geometry(\"750x150\") \n",
        "            self.ventana.resizable(1200,1200)\n",
        "            self.ventana.title(\"LA CALCULADORA DEL DIABLO\") \n",
        "            self.ventana.config(background = \"darkred\")    \n",
        "            self.ventana.config(bd = 10)   \n",
        "            self.ventana.config(relief = \"groove\")  \n",
        "            self.ventana.config(cursor = \"hand2\")   \n",
        "        \n",
        "            # Reloj dígital\n",
        "            self.etiquetahms = tk.Label(text = \"\", font = (\"Arial\", 32), fg = \"darkred\", bg = \"white\", pady = 10, padx = 10)\n",
        "            self.etiquetahms.config(bd = 10)   \n",
        "            self.etiquetahms.config(relief = \"groove\")   \n",
        "            self.etiquetahms.place(x = 0, y = 0)   \n",
        "            self.actualizacion()     \n",
        "\n",
        "            # Calendario dígital\n",
        "            self.week_day_label = tk.Label(text=\"ñau\", font=(\"Arial\",32), fg = 'darkred', bg = 'white', pady = 10, padx = 10)\n",
        "            self.week_day_label.config(bd= 10)\n",
        "            self.week_day_label.config(relief = \"groove\")\n",
        "            self.week_day_label.place(x = 1090, y = 0)\n",
        "            self.actualizar_fecha()\n",
        "\n",
        "            # Encabezado \" ESTRUCTURA DE DATOS \"\n",
        "            miFrame = Frame()  \n",
        "            miFrame.pack(side = \"top\") \n",
        "            miFrame.config(background = \"midnightblue\" ) \n",
        "            miFrame.config(width = \"750\", height = \"150\") \n",
        "            Label(miFrame, text = \"Estructura de Datos\", fg = \"midnightblue\", font = (\"Arial\", 30)).place(x = 190, y = 40)\n",
        "            miFrame.config(bd = 10)  \n",
        "            miFrame.config(relief = \"groove\") \n",
        "            miFrame.config(cursor = \"pirate\") \n",
        "            \n",
        "            # Nueva ventana, Ventana1 \n",
        "            def openNewWindow():\n",
        "                # Definición de la Venatana1, similar a la ventana principal\n",
        "                newWindow = Tk()\n",
        "                newWindow.iconbitmap(\"../pythonprog/graphics/mad.ico\") \n",
        "                newWindow.resizable(1200,1200)\n",
        "                newWindow.title(\"MENÚ DE LA CALCULADORA DEL DIABLO\")\n",
        "                newWindow.config(background = \"darkred\")\n",
        "                newWindow.config(bd = 10)\n",
        "                newWindow.config(relief = \"groove\")\n",
        "                \n",
        "                # Define el menú de operaciones en la Ventana1 \n",
        "                # ¿ Cuantas operaciones debe resolver el programa, por semestre, por equipo, ?\n",
        "                barraMenu = Menu(newWindow)\n",
        "                mnuArchivo = Menu(barraMenu)\n",
        "                mnuArchivo.add_command(label = \"Tarea 1: Transformación de 2 matrices triangulares inferiores A y B, en un arreglo rectangular AxB\")\n",
        "                mnuArchivo.add_command(label = \"Tarea 2: Programa que ordena datos por el método de la burbuja\")\n",
        "                mnuArchivo.add_command(label = \"Tarea 3: Programa que agrega y elimina datos en una pila, en una cola, y en una cola de doble entrada\")\n",
        "                mnuArchivo.add_command(label = \"Tarea 4: Ordenamiento de datos por el método de mínimos sucesivos\")\n",
        "                mnuArchivo.add_command(label = \"Tarea 5: \")\n",
        "                mnuArchivo.add_command(label = \"Tarea 6: \")\n",
        "                mnuArchivo.add_command(label = \"Tarea 7:\")\n",
        "                mnuArchivo.add_command(label = \"Tarea 8: \")\n",
        "                mnuArchivo.add_command(label = \"salir\")           \n",
        "                barraMenu.add_cascade(label = \" LOS CALCULOS DEL DIABLO \", menu = mnuArchivo)\n",
        "                newWindow.config(menu = barraMenu)\n",
        "\n",
        "                # Reloj dígital, Ventana1 \n",
        "                self.etiquetahms = tk.Label(newWindow, text = \"\", font = (\"Arial\", 32), fg = \"darkred\", bg = \"white\", pady = 10, padx = 10) \n",
        "                self.etiquetahms.config(bd = 10)   \n",
        "                self.etiquetahms.config(relief = \"groove\")   \n",
        "                self.etiquetahms.place(x = 0, y = 0)   \n",
        "                self.actualizacion()  \n",
        "                \n",
        "                # Calendario dígital, Ventana1\n",
        "                self.week_day_label = tk.Label(newWindow, text= \"\", font=(\"Arial\",32), fg = 'darkred', bg = 'white', pady = 10, padx = 10) # Aquí según parece me faltaba agregar NewWindow, al principio del comando\n",
        "                self.week_day_label.config(bd= 10)\n",
        "                self.week_day_label.config(relief = \"groove\")\n",
        "                self.week_day_label.place(x = 1090, y = 0)\n",
        "                self.actualizar_fecha()\n",
        "\n",
        "                # Encabezado de la Ventana1 \n",
        "                miFrame = Frame(newWindow) \n",
        "                miFrame.pack(side = \"top\") \n",
        "                miFrame.config(background = \"midnightblue\" ) \n",
        "                miFrame.config(width = \"750\", height = \"150\") \n",
        "                Label(miFrame, text = \"Estructura de Datos\", fg = \"midnightblue\", font = (\"Arial\", 30)).place(x = 190, y = 40)\n",
        "                miFrame.config(bd = 10)  \n",
        "                miFrame.config(relief = \"groove\") \n",
        "                miFrame.config(cursor = \"pirate\") \n",
        "                \n",
        "                # Botones de la ventana 1 \n",
        "                botonEnvio = Button(newWindow, text = \"Volver a la ventana principal y cerrar esta ventana\", command = newWindow.destroy) # Al agregar el comando \" exit \" en el botón \" Cerrar \", fue posible finalizar el programa\n",
        "                botonEnvio.config(cursor = \"pirate\")\n",
        "                botonEnvio.place(x = 0, y = 640)\n",
        "\n",
        "            # Botones de la ventana principal     \n",
        "            botonEnvio = Button(self.ventana, text = \" Menú \", command = openNewWindow)\n",
        "            botonEnvio.pack()    \n",
        "            botonEnvio = Button(self.ventana, text = \"Tarea 1: Transformación de 2 matrices triangulares inferiores A y B, en un arreglo rectangular AxB\") \n",
        "            botonEnvio.pack()\n",
        "            botonEnvio = Button(self.ventana, text = \"Tarea 2: Programa que ordena datos por el método de la burbuja\") \n",
        "            botonEnvio.pack()\n",
        "            botonEnvio = Button(self.ventana, text = \"Tarea 3: Programa que agrega y elimina datos en una pila, en una cola, y en una cola de doble entrada\") \n",
        "            botonEnvio.pack()\n",
        "            botonEnvio = Button(self.ventana, text = \"Tarea 4: Ordenamiento de datos por el método de mínimos sucesivos\") \n",
        "            botonEnvio.pack()\n",
        "            botonEnvio = Button(self.ventana, text = \"Tarea 5: \") \n",
        "            botonEnvio.pack()\n",
        "            botonEnvio = Button(self.ventana, text = \"Tarea 6: \") \n",
        "            botonEnvio.pack()\n",
        "            botonEnvio = Button(self.ventana, text = \"Tarea 7: \") \n",
        "            botonEnvio.pack()\n",
        "            botonEnvio = Button(self.ventana, text = \"Tarea 8: \") \n",
        "            botonEnvio.pack()    \n",
        "            botonEnvio = Button(self.ventana, text = \"Anuncios: Sobre las novedades de la informática\") # Colocar anuncios sobre las novedades de las computadoras\n",
        "            botonEnvio.pack()\n",
        "            botonEnvio = Button(self.ventana, text = \"Cerrar\", command = exit) # Al agregar el comando \" exit \" en el botón \" Cerrar \", fue posible finalizar el programa\n",
        "            botonEnvio.config(cursor = \"pirate\")\n",
        "            botonEnvio.place(x = 0, y = 660)\n",
        "            self.ventana.mainloop() \n",
        "# Al escribir la línea 124 es posible visualizar la ventana principal e interactuar con ella, incluyendo la ventana1 \n",
        "            \n",
        "    # Actualización de la hora\n",
        "    def actualizacion(self):       \n",
        "        hora = time.strftime(\"%Hh:%Mm:%Ss\")\n",
        "        self.etiquetahms.config(text = hora)\n",
        "        self.ventana.after(1000, self.actualizacion)\n",
        "\n",
        "    # Actualiza la fecha del calendario dígital    \n",
        "    def actualizar_fecha(self):\n",
        "        datetime_object = datetime.datetime.now()\n",
        "        today = date.today()\n",
        "        d1 = today.strftime(\"%d/%m/%Y\")\n",
        "        self.week_day_label.configure(text=d1)\n",
        "        \n",
        "# Mantiene la ventana principal en un loop infinito\n",
        "if __name__ == \"__main__\":\n",
        "    main = Ventana()\n",
        "\n",
        "# Como hacer que el reloj de la ventana 1 continué funcionando después "
      ],
      "metadata": {
        "id": "KLjTXYyuqLv_"
      },
      "execution_count": null,
      "outputs": []
    },
    {
      "cell_type": "code",
      "source": [
        "# INTERFAZ DE MÉTODOS NUMÉRICOS 5 DE MARZO DEL 2023 \n",
        "\n",
        "\n",
        "from tkinter import * \n",
        "import tkinter as tk   \n",
        "import datetime \n",
        "from datetime import date \n",
        "import time \n",
        "\n",
        "\n",
        "# from tkinter import *\n",
        "# from tkinter import ttk\n",
        "\n",
        "\n",
        "# Acutalmente estoy trabajando con el Python 3.10.9 \n",
        "\n",
        "class Ventana():        \n",
        "    def __init__(self):    \n",
        "            # Ventana principal \n",
        "            self.ventana = tk.Tk()\n",
        "            self.ventana.iconbitmap(\"../pythonprog/graphics/mad.ico\") \n",
        "            self.ventana.geometry(\"2000x700\") \n",
        "          # self.ventana.geometry(\"750x150\") \n",
        "            self.ventana.resizable(1200,1200)\n",
        "            self.ventana.title(\"LA CALCULADORA DE LÉON: EL PROFESIONAL\") \n",
        "            self.ventana.config(bg = \"darkred\")   # bg funciona igual que background  \n",
        "            self.ventana.config(bd = 10)   \n",
        "            self.ventana.config(relief = \"groove\")  \n",
        "            self.ventana.config(cursor = \"hand2\")  \n",
        "            #miImagen = PhotoImage(file = \"blanco1.png\") # photoimage permite rescatar y manipular imagenes\n",
        "            #Label(self.ventana,image = miImagen).place(x = 60, y = 10)\n",
        "\n",
        "             # Reloj dígital\n",
        "            self.etiquetahms = tk.Label(text = \"\", font = (\"Arial\", 32), fg = \"darkred\", bg = \"white\", pady = 10, padx = 10)\n",
        "            self.etiquetahms.config(bd=10)   \n",
        "            self.etiquetahms.config(relief = \"groove\")   \n",
        "            self.etiquetahms.place(x = 0, y = 0)   \n",
        "            self.actualizacion()     \n",
        "\n",
        "            # Calendario dígital\n",
        "            self.week_day_label = tk.Label(text=\"L\", font=(\"Arial\",32), fg = 'darkred', bg = 'white', pady = 10, padx = 10)\n",
        "            self.week_day_label.config(bd=10)\n",
        "            self.week_day_label.config(relief = \"groove\")\n",
        "            self.week_day_label.place(x = 1090, y = 0)\n",
        "            self.actualizar_fecha()\n",
        "            \n",
        "\n",
        "            # ENCABEZADO VENTANA 2 (DE MOMENTO LA ESTOY TRABAJANDO COMO SI FUERA LA VENTANA 1  )\n",
        "            Frame1 = Frame()  # al parecer funciona con y sin el self.ventana \n",
        "            Frame1.pack(side = \"top\") \n",
        "            Frame1.config(background = \"midnightblue\" ) \n",
        "            Frame1.config(width = \"750\", height = \"150\") \n",
        "            #Label(miFrame, text = \"Estructura de Datos\", fg = \"white\", bg = \"midnightblue\", font = (\"Arial\", 30)).place(x = 190, y = 40) # para presentarlo en una tarea \n",
        "            Label(Frame1, text = \"MÉTODOS NUMÉRICOS\", fg = \"white\", bg = \"midnightblue\", font = (\"Arial\", 30)).place(x = 135, y = 40) # Código propio \n",
        "            Frame1.config(bd = 10)  \n",
        "            Frame1.config(relief = \"groove\") \n",
        "            Frame1.config(cursor = \"hand2\") \n",
        "            miImagen = PhotoImage(file = \"blanco2.png\") # photoimage permite rescatar y manipular imagenes\n",
        "            Label(Frame1, image = miImagen).place(x = 0, y = 0)\n",
        "            miImagen2 = PhotoImage(file = \"blanco2.png\") # photoimage permite rescatar y manipular imagenes\n",
        "            Label(Frame1, image = miImagen2).place(x = 632, y = 0)\n",
        "\n",
        "            # Según parece es necesario definir las operaciones antes de los botones del menú\n",
        "            # # Eso en caso de escribirlas aquí mismo, en caso de que no, lo que haré será importarlas desde otro \n",
        "            # modulo de python, aunque al parecer, no se si sería lo ideal  \n",
        "            \n",
        "          #  numeroPantalla= StringVar()\n",
        "           # pantalla = Entry(miFrame2, textvariable = numeroPantalla )\n",
        "\n",
        "            # Módulo que define el número de horas que faltan para que se termine el año, corresponde a la primera \n",
        "            # instruccion dentro del menu de metodos numericos \n",
        "            # fue un pedo agregarla, por que no tenia idea de en que nivel tenia que identar la funcion para \n",
        "            # hacer funcionar el programa \n",
        "            def horasf(hora_1): \n",
        "                hora_1 = int(input(\"Ingrese el número de horas que faltan para que se acabe el año:  \"))\n",
        "                if 0 <= hora_1 <= 8760:  ##Condicional 1    # Rango valido de horas en un año normal, no bisiesto \n",
        "                    for i in range(365): \n",
        "                        hora_1 -= 24     # El valor ingresado por el usuario, -24 horas, en cada iteración \n",
        "                        if hora_1 >= 0:  ##Condicional 2    # Solo aquellos valores de hora_1 -=24 >= (mayores que ) 0, son impresos en consola\n",
        "                            print(f\"Horas que faltan para que se acabe el año: {hora_1} horas.\") # Desconozco si todos los valores del intervalo son calculados, en todo caso solo se imprimen \n",
        "                else: # aquellos cuyo valor es mayor a 0 \n",
        "                    print(\"Revisa el número de horas que faltan para terminar el año\")\n",
        "\n",
        "\n",
        "\n",
        "            \n",
        "            # Configuración inical del Menú \n",
        "            barraMenu = Menu(self.ventana)\n",
        "\n",
        "            # Menu de MENU DE METODOS NUMERICOS\n",
        "            menuMetNum = Menu(barraMenu, tearoff = 0 )\n",
        "            self.ventana.config(menu = barraMenu, width = 2000, height = 300)\n",
        "\n",
        "            # Menu \"MÉTODOS NÚMERICOS \"de la ventana2 \n",
        "            barraMenu.add_cascade(label =\"MÉTODOS NUMÉRICOS\", menu = menuMetNum)\n",
        "            menuMetNum.add_command(label = \"HORAS QUE FALTAN PARA QUE TERMINE EL AÑO (EN FUNCIÓN DE LAS HORAS).\", command = lambda:horasf)  # command = horasf\n",
        "            menuMetNum.add_command(label = \"HORAS QUE FALTAN PARA QUE TERMINE EL AÑO (EN FUNCIÓN DE LOS DÍAS).\") \n",
        "            menuMetNum.add_command(label = \"CEROS DE UNA FUNCIÓN: MÉTODO DE DESCARTES Y LA DIVISIÓN SINTÉTICA\")\n",
        "            menuMetNum.add_command(label = \"MÉTODO DE BISECCIÓN.\")\n",
        "            menuMetNum.add_command(label = \"MÉTODO DEL PUNTO FIJO.\")\n",
        "            menuMetNum.add_command(label = \"MÉTODO DE NEWTON - RAPHSON.\")\n",
        "            menuMetNum.add_command(label = \"MÉTODO DE GAUSS - JORDAN.\")\n",
        "            menuMetNum.add_command(label = \"MÉTODO DE GAUSS - SEIDEL.\")\n",
        "            menuMetNum.add_command(label = \"MÉTODO DE JACOBI.\")\n",
        "            menuMetNum.add_command(label = \"INTERPOLACIÓN LINEAL.\")\n",
        "            menuMetNum.add_command(label = \"EXTRAPOLACIÓN LINEAL.\")\n",
        "            menuMetNum.add_command(label = \"INTERPOLACIÓN CUADRÁTICA.\")\n",
        "            menuMetNum.add_command(label = \"EXTRAPOLACIÓN CUADRÁTICA.\")\n",
        "            menuMetNum.add_command(label = \"EL POLINOMIO INTERPOLADOR DE LAGRANGE.\")\n",
        "            menuMetNum.add_command(label = \"APROXIMACIÓN DE UNA SOLUCIÓN POR SERIES DE TAYLOR.\")\n",
        "            menuMetNum.add_command(label = \"APROXIMACIÓN DE UNA SOLUCIÓN POR SERIES DE MCLAURIN.\")\n",
        "\n",
        "\n",
        "            #menuArchivo.add_command(label = \"Tarea 8: Venta, Compra, y revisión del inventario de un lote de 100 Automóviles\")\n",
        "            menuMetNum.add_command(label = \"salir del menú actual\")           \n",
        "            \n",
        "            \n",
        "            # MENU DE ECUACIONES DIFERENCIALES \n",
        "            menuED = Menu(barraMenu, tearoff = 0 )\n",
        "            barraMenu.add_cascade(label = \"ECUACIONES DIFERENCIALES\", menu = menuED)\n",
        "            menuED.add_command(label = \"CLASIFICACIÓN DE UNA ED.\")\n",
        "            menuED.add_command(label = \"SOLUCIÓN DE UNA ED POR SEPARACIÓN DE VARIABLES.\")\n",
        "            menuED.add_command(label = \"SOLUCIÓN DE UNA ED POR FACTOR INTEGRANTE\")\n",
        "            menuED.add_command(label = \"SOLUCIÓN DE UNA ED POR SUSTITUCIÓN\")\n",
        "            menuED.add_command(label = \"SOLUCIÓN DE UNA ED EXACTA\")\n",
        "            menuED.add_command(label = \"SOLUCION DE UNA ED POR VARIACIÓN DE PARAMÉTROS\")\n",
        "            menuED.add_command(label = \"Salir del menú acutal\" )\n",
        "\n",
        "            # MENU DE ESTRUCTURA DE DATOS \n",
        "            menuEstrDts = Menu(barraMenu, tearoff = 0 )\n",
        "            barraMenu.add_cascade(label =\"ESTRUCTURA DE DATOS\", menu = menuEstrDts)\n",
        "            menuEstrDts.add_command(label =\"Transformación de 2 matrices triangulares inferiores A y B, en un arreglo rectangular AxB.\")\n",
        "            menuEstrDts.add_command(label =\" Salir del menú acutal\" )\n",
        "\n",
        "            # MENU DE ALGEBRA LINEAL \n",
        "            menuLA = Menu(barraMenu, tearoff = 0 )\n",
        "            barraMenu.add_cascade(label = \"ALGEBRA LINEAL\", menu = menuLA)\n",
        "            menuLA.add_command(label = \"PENDIENTE DE UNA RECTA\")\n",
        "            \n",
        "        # menuLA.add_command(label = \"CEROS DE UNA FUNCIÓN: MÉTODO DE DESCARTES\")\n",
        "            menuLA.add_command(label =\" Salir del menú acutal\" )\n",
        "            \n",
        "            # AHORA QUE HE AGREGADO LOS MENÚS DE LA VENTANA, ES NECESARIO AGREGAR LA FUNCIONALIDAD AL BOTON 1\n",
        "            # Y DESPUES NECESITO ENCONTRAR UNA MANERA DE MOSTRAR EL RESULTADO EN OTRO FRAME, QUE ESTOY A PUNTO DE \n",
        "            # DE ESCRIBIR ACÁ ABAJO\n",
        "            \n",
        "            \n",
        "            #  ESTE FRAME SI SE PUEDE DIVIDIR EN UNA GRAN CUADRICULA QUE ES DE HECHO LO QUE NECESITAMOS HACER\n",
        "            # DEBEMOS DIVIDIR LA PARTE EN AL MENOS 3 O 4 SECCIONES, 1 EN DONDE SE ESPECIFIQUE DE FORMA RAPIDA EL \n",
        "            # CALCULO A REALIZAR, DESPUES DE ESO ES NECESARIA UNA SIGUIENTE LINEA, QUE PIDA EL INGRESO DE LOS DATOS \n",
        "            # EN SEGUIDA NECESITO OTRA FILA EN DONDE SE MUESTREN LOS RESULTADOS\n",
        "            # TAMBIEN QUIERO AL PROFESOR BLANCO DICIENDO QUE TODO FUE MUY SIMPLON XD \n",
        "\n",
        "            # El frame donde se mostraran las operaciones realizadas por la calculadora \n",
        "            miFrame2 = Frame(self.ventana) # había intentado agregar el recuadro pero con la instrucción \"miFrame\", en lugar de \"miFrame1\", el código funciona con \"miFrame1 como se ve\"\n",
        "            #miFrame2.grid()\n",
        "            \n",
        "            miFrame2.config(background = \"midnightblue\" ) \n",
        "            miFrame2.config(width = \"750\", height = \"515\") \n",
        "                #Label(miFrame1, text = \"Buenos días usuario, elija un calculo en la barra del menú, en la esquina superior izquierda.\", fg =\"white\", bg=\"midnightblue\", font = (\"Arial\", 12)).place(x = 50, y = 0)\n",
        "                #Label(miFrame1, text = \"Ingrese los datos en los recuadros mostrados a continuación\", fg =\"white\", bg=\"midnightblue\", font = (\"Arial\", 12)).place(x = 50, y = 30)\n",
        "                # ¿Será prudente agregar una descripción o saludo random cada vez que se inicialice la calculadora del diablo?\n",
        "            Label(miFrame2, text = \" ''Un método numérico es una serie de pasos (procedimiento) que se plantean \\npara obtener una solución aproximada de un problema. \\nPara lograr este objetivo, se utilizan cálculos puramente aritméticos y lógicos.'' \",\n",
        "                   fg = \"white\", bg = \"midnightblue\", font = (\"Arial\", 10)).place(x = 150, y = 0)\n",
        "            miFrame2.config(bd = 10)  \n",
        "            miFrame2.config(relief = \"groove\") \n",
        "            miFrame2.config(cursor = \"hand2\") \n",
        "\n",
        "            # Entry 1 \n",
        "            numeroPantalla= StringVar()\n",
        "            pantalla = Entry(miFrame2, textvariable = numeroPantalla )\n",
        "            pantalla.place(x = 300, y = 70)\n",
        "            pantalla.config(background=\"midnightblue\", fg= \"red\",justify=\"right\")\n",
        "\n",
        "            # Entry 2 \n",
        "            numeroPantalla1= StringVar()\n",
        "            pantalla = Entry(miFrame2, textvariable = numeroPantalla1 )\n",
        "            pantalla.place(x = 300, y = 100 )\n",
        "            pantalla.config(background=\"midnightblue\", fg= \"red\",justify=\"right\")\n",
        "\n",
        "            # Entry 3, En el tercer Entry, pretendo que se muestren los resultados de los calculos, si el calculo\n",
        "            # es pequeño \n",
        "            numeroPantalla2= StringVar()\n",
        "            pantalla = Entry(miFrame2, textvariable = numeroPantalla2)\n",
        "            pantalla.place(x = 300, y = 130 )\n",
        "            pantalla.config(background=\"midnightblue\", fg= \"red\",justify=\"right\")\n",
        "\n",
        "            # Según parece, el tamaño de cada recuadro entry es de 20 unidades, por asi decirlo\n",
        "\n",
        "\n",
        "            \n",
        "            miFrame2.pack() \n",
        "         #   miFrame2.pack(self.ventana)\n",
        "            #miFrame1.grid(row = 100, column = 100)\n",
        "            # También me gustaría que se agregará información sobre el método propiamente dicho, esto antes o \n",
        "            # o despues de realizar la operacion asi como un poco de la historia tras el metodo en cuestion \n",
        "            # En una parte del frame se recibirán datos, y en otra parte del frame se mostraran los resultados\n",
        "\n",
        "            miFrame3 = Frame(self.ventana)\n",
        "            miFrame3.pack(side = \"left\") \n",
        "            miFrame3.config(background = \"midnightblue\" ) \n",
        "            miFrame3.config(width = \"10\", height = \"30\") \n",
        "            miFrame3.config(bd = 10)  \n",
        "            miFrame3.config(relief = \"groove\") \n",
        "            miFrame3.config(cursor = \"hand2\") \n",
        "            Label(miFrame3, text = \"1\", fg = \"white\", bg = \"midnightblue\", font = (\"Arial\", 10)).place(x = 0, y = 0)\n",
        "            \n",
        "            botonEnvio = Button(self.ventana, text = \"Cerrar ventana\", command = self.ventana.destroy) # Al agregar el comando \" exit \" en el botón \" Cerrar \", fue posible finalizar el programa\n",
        "            botonEnvio.config(cursor = \"pirate\")\n",
        "            botonEnvio.place(x = 0, y = 640)\n",
        "\n",
        "            botonEnvio = Button(self.ventana, text = \"INGRESAR DATOS\") # Al agregar el comando \" exit \" en el botón \" Cerrar \", fue posible finalizar el programA\n",
        "            botonEnvio.config(cursor = \"pirate\")\n",
        "            botonEnvio.place(x = 120, y = 640)\n",
        "            \n",
        "            botonEnvio = Button(self.ventana, text = \"EJECUTAR\") # Al agregar el comando \" exit \" en el botón \" Cerrar \", fue posible finalizar el programa\n",
        "            botonEnvio.config(cursor = \"pirate\")\n",
        "            botonEnvio.place(x = 1090, y = 640)\n",
        "            \n",
        "            botonEnvio = Button(self.ventana, text = \"NUEVO CÁLCULO\") # Al agregar el comando \" exit \" en el botón \" Cerrar \", fue posible finalizar el programa\n",
        "            botonEnvio.config(cursor = \"pirate\")\n",
        "            botonEnvio.place(x = 1180, y = 640)\n",
        "\n",
        "\n",
        "            self.ventana.mainloop() # iNDISPENSABLE PARA PODER TRABAJAR CON LA VENTANA SIN QUE SE CIERRE INMEDIATAMENTE\n",
        "\n",
        "    def actualizacion(self):       \n",
        "        hora = time.strftime(\"%H:%M:%S\")\n",
        "        self.etiquetahms.config(text = hora)\n",
        "        self.ventana.after(1000, self.actualizacion)\n",
        "\n",
        "    # Actualiza la fecha del calendario dígital    \n",
        " \n",
        "    def actualizar_fecha(self):\n",
        "        datetime_object = datetime.datetime.now()\n",
        "        today = date.today()\n",
        "        d1 = today.strftime(\"%d/%m/%Y\")\n",
        "        self.week_day_label.configure(text=d1)\n",
        "\n",
        "if __name__ == \"__main__\":\n",
        "    main = Ventana()"
      ],
      "metadata": {
        "id": "PTC459s9l7mI"
      },
      "execution_count": null,
      "outputs": []
    }
  ]
}