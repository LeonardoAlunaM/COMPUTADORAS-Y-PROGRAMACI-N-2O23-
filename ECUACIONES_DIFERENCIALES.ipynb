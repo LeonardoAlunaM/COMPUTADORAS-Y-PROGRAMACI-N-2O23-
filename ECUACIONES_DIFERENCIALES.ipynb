{
  "nbformat": 4,
  "nbformat_minor": 0,
  "metadata": {
    "colab": {
      "provenance": [],
      "authorship_tag": "ABX9TyMeOg0ckn54qtk0R/uhKzH1",
      "include_colab_link": true
    },
    "kernelspec": {
      "name": "python3",
      "display_name": "Python 3"
    },
    "language_info": {
      "name": "python"
    }
  },
  "cells": [
    {
      "cell_type": "markdown",
      "metadata": {
        "id": "view-in-github",
        "colab_type": "text"
      },
      "source": [
        "<a href=\"https://colab.research.google.com/github/LeonardoAlunaM/COMPUTADORAS-Y-PROGRAMACI-N-2O23-/blob/main-COMPUTADORAS-Y-PROGTRAMACI%C3%93N-2023/ECUACIONES_DIFERENCIALES.ipynb\" target=\"_parent\"><img src=\"https://colab.research.google.com/assets/colab-badge.svg\" alt=\"Open In Colab\"/></a>"
      ]
    },
    {
      "cell_type": "code",
      "source": [
        "# DERIVADAS BÁSICAS "
      ],
      "metadata": {
        "id": "DMGNZPxO_FBb"
      },
      "execution_count": null,
      "outputs": []
    },
    {
      "cell_type": "code",
      "source": [
        "# 1.- La derivada de una constante\n",
        "\n",
        "c = float(input(\"Ingrese el numéro de la constante: \"))\n",
        "if c > 0 or c < 0: \n",
        "    dx = (c - c)/ 1  # Utilizando la definición de límite\n",
        "    print(f\"La derivada de la constante es: {dx}\")\n",
        "else: \n",
        "    print(c)  # Imprimiento c, en caso de que el valor \n",
        "              # Ingresado sea igual a \" 0 \""
      ],
      "metadata": {
        "colab": {
          "base_uri": "https://localhost:8080/"
        },
        "id": "RqqXgeBW_eGV",
        "outputId": "46580779-837f-409a-c8c2-bdea367c6f96"
      },
      "execution_count": 10,
      "outputs": [
        {
          "output_type": "stream",
          "name": "stdout",
          "text": [
            "Ingrese el numéro de la constante: 0\n",
            "0.0\n"
          ]
        }
      ]
    },
    {
      "cell_type": "code",
      "source": [
        "# 2.- La derivada del producto de una constante por una función\n",
        "\n",
        "c = float(input(\"Ingrese el numéro de la constante: \"))\n",
        "# Primero tendría que calcular el valor de la derivada de la función\n",
        "# que multiplica a la constante \" c \"\n",
        "f = float(input(\"Ingrese una función: \"))\n",
        "if c > 0 or c < 0: \n",
        "    dx = c * f\n",
        "    print(f\"La derivada de la constante es: {dx}\")\n",
        "else: \n",
        "    print(\"Derive la función que multiplica a la constante 'c' \")\n",
        "    # Acá suponemos que el resultado de la derivada es 5 \n",
        "    # Se multiplica por 5 y todo solucionado \n",
        "    # ¿ Cómo agregar una función con letras y números que sea \n",
        "    # operable ? "
      ],
      "metadata": {
        "colab": {
          "base_uri": "https://localhost:8080/"
        },
        "id": "5ZrHthYVBny2",
        "outputId": "2c7ca677-5177-4c16-e68f-2a35b341858d"
      },
      "execution_count": 14,
      "outputs": [
        {
          "output_type": "stream",
          "name": "stdout",
          "text": [
            "Ingrese el numéro de la constante: 2\n",
            "Ingrese una función: 5\n",
            "La derivada de la constante es: 10.0\n"
          ]
        }
      ]
    },
    {
      "cell_type": "code",
      "source": [
        "# 3.- La derivada de la suma de 2 funciones \n",
        "# Regla de la suma\n",
        "\n",
        "def dx_sum_nfun1(): # De esta manera pudiera capturar más de un parámetro \n",
        "                        # Además de definir cuantos parámetros aceptará \n",
        "                        # La función en sí, esto sería el equivalente a dictar \n",
        "                        # El grado de la derivada, en este caso sería la derivada\n",
        "                        # de la suma de 2 derivadas, que fueron derivadas \n",
        "                        # por separado en teoría\n",
        "\n",
        "# El código también funciona con estas dos líneas marcadas como comentario \n",
        "    f1 = float(input(\"Ingrese una función: \"))\n",
        "    f2 = float(input(\"Ingrese una función: \"))\n",
        "\n",
        "    dx = f1 + f2\n",
        "    print(f\"{dx}\")\n",
        "\n",
        "# Invoncando la función con \"\" dx_sum_nfun(0,0) \" \n",
        "# Es posible hacerla funcionar utilizando los valores(0,0)"
      ],
      "metadata": {
        "id": "O_lgeNm-FX7F"
      },
      "execution_count": 23,
      "outputs": []
    },
    {
      "cell_type": "code",
      "source": [
        "# 3.- Usando la función de la regla de la suma \n",
        "\n",
        "dx_sum_nfun1() # De esta manera se puede utilizar el código según lo \n",
        "# esperado, utilizando f1 y f2, las funciones correspondientes "
      ],
      "metadata": {
        "colab": {
          "base_uri": "https://localhost:8080/"
        },
        "id": "0Wj94030Ffd3",
        "outputId": "bae1b3b1-35b4-45c9-b83e-aa10095ab869"
      },
      "execution_count": 25,
      "outputs": [
        {
          "output_type": "stream",
          "name": "stdout",
          "text": [
            "Ingrese una función: 8\n",
            "Ingrese una función: 8\n",
            "16.0\n"
          ]
        }
      ]
    },
    {
      "cell_type": "code",
      "source": [
        "# 3.- La derivada de la suma de 2 funciones \n",
        "# Regla de la suma (ALTERNO)\n",
        "\n",
        "# Código alterno para el cálculo de la misma derivada\n",
        "def dx_sum_nfun(f1,f2): # De esta manera pudiera capturar más de un parámetro \n",
        "                        # Además de definir cuantos parámetros aceptará \n",
        "                        # La función en sí, esto sería el equivalente a dictar \n",
        "                        # El grado de la derivada, en este caso sería la derivada\n",
        "                        # de la suma de 2 derivadas, que fueron derivadas \n",
        "                        # por separado en teoría\n",
        "\n",
        "# El código también funciona con estas dos líneas marcadas como comentario \n",
        "#    f1 = float(input(\"Ingrese una función: \"))\n",
        "#    f2 = float(input(\"Ingrese una función: \"))\n",
        "\n",
        "    dx = f1 + f2\n",
        "    print(f\"{dx}\")\n",
        "\n",
        "# Invoncando la función con \"\" dx_sum_nfun(0,0) \" \n",
        "# Es posible hacerla funcionar utilizando los valores(0,0)\n"
      ],
      "metadata": {
        "id": "wYdmvyYEDDil"
      },
      "execution_count": 21,
      "outputs": []
    },
    {
      "cell_type": "code",
      "source": [
        "# 3.- Usando la función de la regla de la suma (ALTERNA)\n",
        "\n",
        "dx_sum_nfun(2,3) # Utilizando la función definida arriba\n",
        "# Los parámetros se le pasan a la función aquí mismo"
      ],
      "metadata": {
        "colab": {
          "base_uri": "https://localhost:8080/"
        },
        "id": "gfmj1DhLEGuV",
        "outputId": "ca51c16c-fc57-4105-9261-01513a59c0aa"
      },
      "execution_count": 26,
      "outputs": [
        {
          "output_type": "stream",
          "name": "stdout",
          "text": [
            "5\n"
          ]
        }
      ]
    },
    {
      "cell_type": "code",
      "source": [
        "# 4.- La derivada de la resta de 2 funciones \n",
        "# Regla de la diferencia\n",
        "\n",
        "def dx_res_nfun1(): # De esta manera pudiera capturar más de un parámetro \n",
        "                        # Además de definir cuantos parámetros aceptará \n",
        "                        # La función en sí, esto sería el equivalente a dictar \n",
        "                        # El grado de la derivada, en este caso sería la derivada\n",
        "                        # de la resta de 2 derivadas, que fueron derivadas \n",
        "                        # por separado en teoría\n",
        "\n",
        "# El código también funciona con estas dos líneas marcadas como comentario \n",
        "    f1 = float(input(\"Ingrese una función: \"))\n",
        "    f2 = float(input(\"Ingrese una función: \"))\n",
        "\n",
        "    dx = f1 - f2\n",
        "    print(f\"{dx}\")\n",
        "\n",
        "# Invoncando la función con \"\" dx_res_nfun1(0,0) \" \n",
        "# Es posible hacerla funcionar utilizando los valores(0,0)"
      ],
      "metadata": {
        "id": "MaY17oyXDDga"
      },
      "execution_count": 30,
      "outputs": []
    },
    {
      "cell_type": "code",
      "source": [
        "# 4.- Usando la función de la regla de la resta \n",
        "\n",
        "dx_res_nfun1() # De esta manera se puede utilizar el código según lo \n",
        "# esperado, utilizando f1 y f2, las funciones correspondientes \n",
        "\n",
        "# Funciona para cada uno de los valores que esperaríamos que funcione "
      ],
      "metadata": {
        "colab": {
          "base_uri": "https://localhost:8080/"
        },
        "id": "DKp-7wI7DDet",
        "outputId": "2e854717-7bb2-4183-e5fa-b3880a81d27d"
      },
      "execution_count": 34,
      "outputs": [
        {
          "output_type": "stream",
          "name": "stdout",
          "text": [
            "Ingrese una función: 0\n",
            "Ingrese una función: -6\n",
            "6.0\n"
          ]
        }
      ]
    },
    {
      "cell_type": "code",
      "source": [
        "# 4.- La derivada de la resta de 2 funciones \n",
        "# Regla de la resta (ALTERNO)\n",
        "\n",
        "# Código alterno para el cálculo de la misma derivada\n",
        "def dx_res_nfun(f1,f2): # De esta manera pudiera capturar más de un parámetro \n",
        "                        # Además de definir cuantos parámetros aceptará \n",
        "                        # La función en sí, esto sería el equivalente a dictar \n",
        "                        # El grado de la derivada, en este caso sería la derivada\n",
        "                        # de la resta de 2 derivadas, que fueron derivadas \n",
        "                        # por separado en teoría\n",
        "\n",
        "# El código también funciona con estas dos líneas marcadas como comentario \n",
        "#    f1 = float(input(\"Ingrese una función: \"))\n",
        "#    f2 = float(input(\"Ingrese una función: \"))\n",
        "\n",
        "    dx = f1 - f2\n",
        "    print(f\"{dx}\")\n",
        "\n",
        "# Invoncando la función con \" dx_res_nfun(0,0) \" \n",
        "# Es posible hacerla funcionar utilizando los valores(0,0)"
      ],
      "metadata": {
        "id": "RAjJr_WfBiEk"
      },
      "execution_count": null,
      "outputs": []
    },
    {
      "cell_type": "code",
      "source": [
        "# \n",
        "dx_res_nfun(0,0)"
      ],
      "metadata": {
        "id": "hplNYgp8IVPw"
      },
      "execution_count": null,
      "outputs": []
    },
    {
      "cell_type": "code",
      "source": [],
      "metadata": {
        "id": "JxeaGmBcIVFg"
      },
      "execution_count": null,
      "outputs": []
    },
    {
      "cell_type": "code",
      "execution_count": null,
      "metadata": {
        "id": "zRNSP6PtzrTT"
      },
      "outputs": [],
      "source": [
        "# Comenzar a programar física vol 2 a partir del capitulo 25 del libro de fisica, pagina 164 "
      ]
    }
  ]
}