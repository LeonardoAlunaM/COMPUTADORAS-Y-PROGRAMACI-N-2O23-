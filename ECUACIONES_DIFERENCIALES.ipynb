{
  "nbformat": 4,
  "nbformat_minor": 0,
  "metadata": {
    "colab": {
      "provenance": [],
      "authorship_tag": "ABX9TyMeiIjb93a6a014m06r6Gky",
      "include_colab_link": true
    },
    "kernelspec": {
      "name": "python3",
      "display_name": "Python 3"
    },
    "language_info": {
      "name": "python"
    }
  },
  "cells": [
    {
      "cell_type": "markdown",
      "metadata": {
        "id": "view-in-github",
        "colab_type": "text"
      },
      "source": [
        "<a href=\"https://colab.research.google.com/github/LeonardoAlunaM/COMPUTADORAS-Y-PROGRAMACI-N-2O23-/blob/main-COMPUTADORAS-Y-PROGTRAMACI%C3%93N-2023/ECUACIONES_DIFERENCIALES.ipynb\" target=\"_parent\"><img src=\"https://colab.research.google.com/assets/colab-badge.svg\" alt=\"Open In Colab\"/></a>"
      ]
    },
    {
      "cell_type": "code",
      "source": [
        "# DERIVADAS BÁSICAS "
      ],
      "metadata": {
        "id": "DMGNZPxO_FBb"
      },
      "execution_count": null,
      "outputs": []
    },
    {
      "cell_type": "code",
      "source": [
        "# 1.- La derivada de una constante\n",
        "\n",
        "c = float(input(\"Ingrese el numéro de la constante: \"))\n",
        "if c > 0 or c < 0: \n",
        "    dx = (c - c)/ 1  # Utilizando la definición de límite\n",
        "    print(f\"La derivada de la constante es: {dx}\")\n",
        "else: \n",
        "    print(c)  # Imprimiento c, en caso de que el valor \n",
        "              # Ingresado sea igual a \" 0 \""
      ],
      "metadata": {
        "colab": {
          "base_uri": "https://localhost:8080/"
        },
        "id": "RqqXgeBW_eGV",
        "outputId": "46580779-837f-409a-c8c2-bdea367c6f96"
      },
      "execution_count": null,
      "outputs": [
        {
          "output_type": "stream",
          "name": "stdout",
          "text": [
            "Ingrese el numéro de la constante: 0\n",
            "0.0\n"
          ]
        }
      ]
    },
    {
      "cell_type": "code",
      "source": [
        "# 2.- La derivada del producto de una constante por una función\n",
        "\n",
        "c = float(input(\"Ingrese el numéro de la constante: \"))\n",
        "# Primero tendría que calcular el valor de la derivada de la función\n",
        "# que multiplica a la constante \" c \"\n",
        "f = float(input(\"Ingrese una función: \"))\n",
        "if c > 0 or c < 0: \n",
        "    dx = c * f\n",
        "    print(f\"La derivada de la constante es: {dx}\")\n",
        "else: \n",
        "    print(\"Derive la función que multiplica a la constante 'c' \")\n",
        "    # Acá suponemos que el resultado de la derivada es 5 \n",
        "    # Se multiplica por 5 y todo solucionado \n",
        "    # ¿ Cómo agregar una función con letras y números que sea \n",
        "    # operable ? "
      ],
      "metadata": {
        "colab": {
          "base_uri": "https://localhost:8080/"
        },
        "id": "5ZrHthYVBny2",
        "outputId": "2c7ca677-5177-4c16-e68f-2a35b341858d"
      },
      "execution_count": null,
      "outputs": [
        {
          "output_type": "stream",
          "name": "stdout",
          "text": [
            "Ingrese el numéro de la constante: 2\n",
            "Ingrese una función: 5\n",
            "La derivada de la constante es: 10.0\n"
          ]
        }
      ]
    },
    {
      "cell_type": "code",
      "source": [
        "# 3.- La derivada de la suma de 2 funciones \n",
        "# Regla de la suma\n",
        "\n",
        "def dx_sum_nfun1(): # De esta manera pudiera capturar más de un parámetro \n",
        "                        # Además de definir cuantos parámetros aceptará \n",
        "                        # La función en sí, esto sería el equivalente a dictar \n",
        "                        # El grado de la derivada, en este caso sería la derivada\n",
        "                        # de la suma de 2 derivadas, que fueron derivadas \n",
        "                        # por separado en teoría\n",
        "\n",
        "# El código también funciona con estas dos líneas marcadas como comentario \n",
        "    f1 = float(input(\"Ingrese una función: \"))\n",
        "    g1 = float(input(\"Ingrese una función: \"))\n",
        "\n",
        "    dx = f1 + g1\n",
        "    print(f\"{dx}\")\n",
        "\n",
        "# Invoncando la función con \"\" dx_sum_nfun(0,0) \" \n",
        "# Es posible hacerla funcionar utilizando los valores(0,0)"
      ],
      "metadata": {
        "id": "O_lgeNm-FX7F"
      },
      "execution_count": null,
      "outputs": []
    },
    {
      "cell_type": "code",
      "source": [
        "# 3.- Usando la función de la regla de la suma \n",
        "\n",
        "dx_sum_nfun1() # De esta manera se puede utilizar el código según lo \n",
        "# esperado, utilizando f1 y f2, las funciones correspondientes "
      ],
      "metadata": {
        "colab": {
          "base_uri": "https://localhost:8080/"
        },
        "id": "0Wj94030Ffd3",
        "outputId": "270dff3e-bb52-44a1-cc37-ee45d9998de9"
      },
      "execution_count": null,
      "outputs": [
        {
          "output_type": "stream",
          "name": "stdout",
          "text": [
            "Ingrese una función: 8\n",
            "Ingrese una función: 8\n",
            "16.0\n"
          ]
        }
      ]
    },
    {
      "cell_type": "code",
      "source": [
        "# 3.- La derivada de la suma de 2 funciones \n",
        "# Regla de la suma (ALTERNO)\n",
        "\n",
        "# Código alterno para el cálculo de la misma derivada\n",
        "def dx_sum_nfun(f1,g1): # De esta manera pudiera capturar más de un parámetro \n",
        "                        # Además de definir cuantos parámetros aceptará \n",
        "                        # La función en sí, esto sería el equivalente a dictar \n",
        "                        # El grado de la derivada, en este caso sería la derivada\n",
        "                        # de la suma de 2 derivadas, que fueron derivadas \n",
        "                        # por separado en teoría\n",
        "\n",
        "# El código también funciona con estas dos líneas marcadas como comentario \n",
        "#    f1 = float(input(\"Ingrese una función: \"))\n",
        "#    f2 = float(input(\"Ingrese una función: \"))\n",
        "\n",
        "    dx = f1 + g1\n",
        "    print(f\"{dx}\")\n",
        "\n",
        "# Invoncando la función con \"\" dx_sum_nfun(0,0) \" \n",
        "# Es posible hacerla funcionar utilizando los valores(0,0)\n"
      ],
      "metadata": {
        "id": "wYdmvyYEDDil"
      },
      "execution_count": null,
      "outputs": []
    },
    {
      "cell_type": "code",
      "source": [
        "# 3.- Usando la función de la regla de la suma (ALTERNA)\n",
        "\n",
        "dx_sum_nfun(2,3) # Utilizando la función definida arriba\n",
        "# Los parámetros se le pasan a la función aquí mismo"
      ],
      "metadata": {
        "colab": {
          "base_uri": "https://localhost:8080/"
        },
        "id": "gfmj1DhLEGuV",
        "outputId": "ca51c16c-fc57-4105-9261-01513a59c0aa"
      },
      "execution_count": null,
      "outputs": [
        {
          "output_type": "stream",
          "name": "stdout",
          "text": [
            "5\n"
          ]
        }
      ]
    },
    {
      "cell_type": "code",
      "source": [
        "# 4.- La derivada de la resta de 2 funciones \n",
        "# Regla de la diferencia\n",
        "\n",
        "def dx_res_nfun1(): # De esta manera pudiera capturar más de un parámetro \n",
        "                        # Además de definir cuantos parámetros aceptará \n",
        "                        # La función en sí, esto sería el equivalente a dictar \n",
        "                        # El grado de la derivada, en este caso sería la derivada\n",
        "                        # de la resta de 2 derivadas, que fueron derivadas \n",
        "                        # por separado en teoría\n",
        "\n",
        "# El código también funciona con estas dos líneas marcadas como comentario \n",
        "    f1 = float(input(\"Ingrese una función: \"))\n",
        "    g1 = float(input(\"Ingrese una función: \"))\n",
        "\n",
        "    dx = f1 - g1\n",
        "    print(f\"{dx}\")\n",
        "\n",
        "# Invoncando la función con \"\" dx_res_nfun1(0,0) \" \n",
        "# Es posible hacerla funcionar utilizando los valores(0,0)"
      ],
      "metadata": {
        "id": "MaY17oyXDDga"
      },
      "execution_count": null,
      "outputs": []
    },
    {
      "cell_type": "code",
      "source": [
        "# 4.- Usando la función de la regla de la resta \n",
        "\n",
        "dx_res_nfun1() # De esta manera se puede utilizar el código según lo \n",
        "# esperado, utilizando f1 y f2, las funciones correspondientes \n",
        "\n",
        "# Funciona para cada uno de los valores que esperaríamos que funcione "
      ],
      "metadata": {
        "colab": {
          "base_uri": "https://localhost:8080/"
        },
        "id": "DKp-7wI7DDet",
        "outputId": "2e854717-7bb2-4183-e5fa-b3880a81d27d"
      },
      "execution_count": null,
      "outputs": [
        {
          "output_type": "stream",
          "name": "stdout",
          "text": [
            "Ingrese una función: 0\n",
            "Ingrese una función: -6\n",
            "6.0\n"
          ]
        }
      ]
    },
    {
      "cell_type": "code",
      "source": [
        "# 4.- La derivada de la resta de 2 funciones \n",
        "# Regla de la resta (ALTERNO)\n",
        "\n",
        "# Código alterno para el cálculo de la misma derivada\n",
        "def dx_res_nfun(f1,g1): # De esta manera pudiera capturar más de un parámetro \n",
        "                        # Además de definir cuantos parámetros aceptará \n",
        "                        # La función en sí, esto sería el equivalente a dictar \n",
        "                        # El grado de la derivada, en este caso sería la derivada\n",
        "                        # de la resta de 2 derivadas, que fueron derivadas \n",
        "                        # por separado en teoría\n",
        "\n",
        "# El código también funciona con estas dos líneas marcadas como comentario \n",
        "#    f1 = float(input(\"Ingrese una función: \"))\n",
        "#    f2 = float(input(\"Ingrese una función: \"))\n",
        "\n",
        "    dx = f1 - g1\n",
        "    print(f\"{dx}\")\n",
        "\n",
        "# Invoncando la función con \" dx_res_nfun(0,0) \" \n",
        "# Es posible hacerla funcionar utilizando los valores(0,0)"
      ],
      "metadata": {
        "id": "RAjJr_WfBiEk"
      },
      "execution_count": null,
      "outputs": []
    },
    {
      "cell_type": "code",
      "source": [
        "# 4.- Usando la función de la regla de la resta (ALTERNA)\n",
        "\n",
        "dx_res_nfun(0,-9) # De esta manera se puede utilizar el código según lo \n",
        "# esperado, utilizando f1 y f2, las funciones correspondientes "
      ],
      "metadata": {
        "colab": {
          "base_uri": "https://localhost:8080/"
        },
        "id": "hplNYgp8IVPw",
        "outputId": "64e4c797-b347-4e21-a46e-a7408a34033d"
      },
      "execution_count": null,
      "outputs": [
        {
          "output_type": "stream",
          "name": "stdout",
          "text": [
            "9\n"
          ]
        }
      ]
    },
    {
      "cell_type": "code",
      "source": [
        "# 5.- Regla del producto\n",
        "\n",
        "f1 = float(input(\"Ingrese la función f1: \"))\n",
        "g1 = float(input(\"Ingrese la función g1: \"))\n",
        "\n",
        "if f1 or g1 > 0: \n",
        "    g_dx = g1 # Derivada de g1\n",
        "    f_dx = f1 # Derivada de f1 \n",
        "    dx = (f1 * g_dx) + (g1 * f_dx) \n",
        "    print(f\" La derivada es entonces{dx}\")\n",
        "    # Hasta está parte del código todo funciona según lo esperado\n",
        "    # Se ingresarón los siguientes valores desde la consola y esto \n",
        "    # fue lo que la consola devolvió \n",
        "    \"\"\" Ingrese la función 1: 3\n",
        "        Ingrese la función 1: 4\n",
        "        Resultado = 24.0 \"\"\"\n",
        "else: \n",
        "    print(\"Este código va a estar cabrón jajajjajjajs\")"
      ],
      "metadata": {
        "id": "Vf1MLKSlLdTp",
        "colab": {
          "base_uri": "https://localhost:8080/"
        },
        "outputId": "5ef407fa-9188-4c1c-ddda-06a625e8cd53"
      },
      "execution_count": 1,
      "outputs": [
        {
          "output_type": "stream",
          "name": "stdout",
          "text": [
            "Ingrese la función 1: 3\n",
            "Ingrese la función 1: 4\n",
            "24.0\n"
          ]
        }
      ]
    },
    {
      "cell_type": "code",
      "source": [
        "# Código alterno de la regla número 5, utilizando funciones "
      ],
      "metadata": {
        "id": "64_KL1VVLdRQ"
      },
      "execution_count": null,
      "outputs": []
    },
    {
      "cell_type": "code",
      "source": [
        "# 6.- Regla del cociente \n",
        "f1 = float(input(\"Ingrese la función f1: \"))\n",
        "g1 = float(input(\"Ingrese la función g1: \"))\n",
        "\n",
        "if g1 > 0: \n",
        "    g_dx = g1 # Derivada de g1\n",
        "    f_dx = f1 # Derivada de f1 \n",
        "    dx = ((g1 * f_dx) - (f1 * g_dx)) / (g1**2) \n",
        "    print(f\"El resultado de la derivada: {dx}\")\n",
        "    # El resultado de este código hasta el momento es \n",
        "    \"\"\" Ingrese la función f1: 4\n",
        "        Ingrese la función g1: 6\n",
        "        El resultado de la derivada: 0.0   \"\"\"\n",
        "    # Lo cual tiene sentido considerando que el denominador queda \n",
        "    # igualado a cero después de multiplicar y restar el mismo \n",
        "    # valor\n"
      ],
      "metadata": {
        "colab": {
          "base_uri": "https://localhost:8080/"
        },
        "id": "0FLiNP_vmIA7",
        "outputId": "48de1c39-f4d8-4a08-b80a-85aade0a0890"
      },
      "execution_count": 2,
      "outputs": [
        {
          "output_type": "stream",
          "name": "stdout",
          "text": [
            "Ingrese la función f1: 4\n",
            "Ingrese la función g1: 6\n",
            " El resultado de la derivada: 0.0\n"
          ]
        }
      ]
    },
    {
      "cell_type": "code",
      "source": [
        "# 6.- Regla del cociente \n",
        "# Modificando el código de arriba con algunos numéros diferentes\n",
        "\n",
        "f1 = float(input(\"Ingrese la función f1: \"))\n",
        "g1 = float(input(\"Ingrese la función g1: \"))\n",
        "\n",
        "if g1 > 0: \n",
        "    g_dx = 2 # Derivada de g1\n",
        "    f_dx = 3 # Derivada de f1 \n",
        "    dx = ((g1 * f_dx) - (f1 * g_dx)) / (g1**2) \n",
        "    print(f\"El resultado de la derivada: {dx}\")\n",
        "    # El resultado de este código hasta el momento es \n",
        "    \"\"\" Ingrese la función f1: 4\n",
        "        Ingrese la función g1: 6\n",
        "        El resultado de la derivada: 0.0   \"\"\"\n",
        "    # Lo cual tiene sentido considerando que el denominador queda \n",
        "    # igualado a cero después de multiplicar y restar el mismo \n",
        "    # valor\n",
        "\n",
        "    # Ahora el resultado del código tras modificar los valores de \n",
        "    \"\"\"   g_dx = 2 # Derivada de g1\n",
        "          f_dx = 3 # Derivada de f1   \"\"\" \n",
        "    # El resultado mostrado en consola es entonces: \n",
        "    \"\"\" Ingrese la función f1: 5\n",
        "        Ingrese la función g1: 1\n",
        "        El resultado de la derivada: -7.0    \"\"\"  \n"
      ],
      "metadata": {
        "colab": {
          "base_uri": "https://localhost:8080/"
        },
        "id": "fAkHgnfdmH_K",
        "outputId": "b51f4520-b1b8-4b69-b6af-6386c3b29fb1"
      },
      "execution_count": 3,
      "outputs": [
        {
          "output_type": "stream",
          "name": "stdout",
          "text": [
            "Ingrese la función f1: 5\n",
            "Ingrese la función g1: 1\n",
            "El resultado de la derivada: -7.0\n"
          ]
        }
      ]
    },
    {
      "cell_type": "code",
      "source": [
        "# 7.- Regla de la cadena\n",
        "\n"
      ],
      "metadata": {
        "id": "BTzlS5iZmH8S"
      },
      "execution_count": null,
      "outputs": []
    },
    {
      "cell_type": "code",
      "source": [
        "# 8 Regla de potencias \n",
        "n = float(input(\"Ingrese el valor de n: \")) \n",
        "#x = float(input(\"Ingrese el valor de x: \"))\n",
        "\n",
        "if n > 0: \n",
        "    e = n - 1\n",
        "    #dx1 = n * x \n",
        "    # dx2 = n**e \n",
        "    print(f\"Los valores que acompañan a la derivada de x: {n}, exponente :{e}\")\n"
      ],
      "metadata": {
        "colab": {
          "base_uri": "https://localhost:8080/"
        },
        "id": "l80NIDfpmH6W",
        "outputId": "e79c5d1c-c665-42a7-af93-57e0ae14a575"
      },
      "execution_count": 11,
      "outputs": [
        {
          "output_type": "stream",
          "name": "stdout",
          "text": [
            "Ingrese el valor de n: 5\n",
            "Los valores que acompañan a la derivada de x: 5.0, exponente :4.0\n"
          ]
        }
      ]
    },
    {
      "cell_type": "code",
      "source": [],
      "metadata": {
        "id": "JxeaGmBcIVFg"
      },
      "execution_count": null,
      "outputs": []
    },
    {
      "cell_type": "code",
      "execution_count": null,
      "metadata": {
        "id": "zRNSP6PtzrTT"
      },
      "outputs": [],
      "source": [
        "# Comenzar a programar física vol 2 a partir del capitulo 25 del libro de fisica, pagina 164 "
      ]
    }
  ]
}