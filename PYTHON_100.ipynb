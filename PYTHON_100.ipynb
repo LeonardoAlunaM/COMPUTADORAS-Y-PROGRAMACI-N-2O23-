{
  "nbformat": 4,
  "nbformat_minor": 0,
  "metadata": {
    "colab": {
      "provenance": [],
      "authorship_tag": "ABX9TyMsKfxT9h8mMvba9D6H9EUZ",
      "include_colab_link": true
    },
    "kernelspec": {
      "name": "python3",
      "display_name": "Python 3"
    },
    "language_info": {
      "name": "python"
    }
  },
  "cells": [
    {
      "cell_type": "markdown",
      "metadata": {
        "id": "view-in-github",
        "colab_type": "text"
      },
      "source": [
        "<a href=\"https://colab.research.google.com/github/LeonardoAlunaM/COMPUTADORAS-Y-PROGRAMACI-N-2O23-/blob/main-COMPUTADORAS-Y-PROGTRAMACI%C3%93N-2023/PYTHON_100.ipynb\" target=\"_parent\"><img src=\"https://colab.research.google.com/assets/colab-badge.svg\" alt=\"Open In Colab\"/></a>"
      ]
    },
    {
      "cell_type": "code",
      "source": [
        "my_tup = (1, 2, 3)\n",
        "print(my_tup[2])"
      ],
      "metadata": {
        "id": "T_nl6sBYa0EM",
        "outputId": "6b1d8beb-9de4-4355-e0f9-a3f9ad836555",
        "colab": {
          "base_uri": "https://localhost:8080/"
        }
      },
      "execution_count": 2,
      "outputs": [
        {
          "output_type": "stream",
          "name": "stdout",
          "text": [
            "3\n"
          ]
        }
      ]
    },
    {
      "cell_type": "code",
      "source": [
        "tup = 1, 2, 3\n",
        "a, b, c = tup\n",
        " \n",
        "print(a * b * c)"
      ],
      "metadata": {
        "id": "h7nOtctia82w",
        "outputId": "22ad490a-d5ac-4711-89be-6ef1524ec0c7",
        "colab": {
          "base_uri": "https://localhost:8080/"
        }
      },
      "execution_count": 6,
      "outputs": [
        {
          "output_type": "stream",
          "name": "stdout",
          "text": [
            "6\n"
          ]
        }
      ]
    },
    {
      "cell_type": "code",
      "source": [
        "tup = 1, 2, 3, 2, 4, 5, 6, 2, 7, 2, 8, 9\n",
        "tup = 1, 2, 3, 2, 4, 5, 6, 2, 7, 2, 8, 9\n",
        "duplicados = tup.count(2)\n",
        "\n",
        "imprimir (duplicados) # salidas: 4\n",
        "\n",
        "\n",
        "\n",
        "\n",
        "\n",
        "\n",
        " # Write your code here.\n",
        " \n",
        "print(duplicates) # outputs: 4"
      ],
      "metadata": {
        "id": "AOXx4hRBbWFR",
        "outputId": "d1bb1eac-a8d7-44c2-8256-5f75854f2fcc",
        "colab": {
          "base_uri": "https://localhost:8080/",
          "height": 235
        }
      },
      "execution_count": 8,
      "outputs": [
        {
          "output_type": "error",
          "ename": "NameError",
          "evalue": "ignored",
          "traceback": [
            "\u001b[0;31m---------------------------------------------------------------------------\u001b[0m",
            "\u001b[0;31mNameError\u001b[0m                                 Traceback (most recent call last)",
            "\u001b[0;32m<ipython-input-8-319426269853>\u001b[0m in \u001b[0;36m<cell line: 5>\u001b[0;34m()\u001b[0m\n\u001b[1;32m      3\u001b[0m \u001b[0mduplicados\u001b[0m \u001b[0;34m=\u001b[0m \u001b[0mtup\u001b[0m\u001b[0;34m.\u001b[0m\u001b[0mcount\u001b[0m\u001b[0;34m(\u001b[0m\u001b[0;36m2\u001b[0m\u001b[0;34m)\u001b[0m\u001b[0;34m\u001b[0m\u001b[0;34m\u001b[0m\u001b[0m\n\u001b[1;32m      4\u001b[0m \u001b[0;34m\u001b[0m\u001b[0m\n\u001b[0;32m----> 5\u001b[0;31m \u001b[0mimprimir\u001b[0m \u001b[0;34m(\u001b[0m\u001b[0mduplicados\u001b[0m\u001b[0;34m)\u001b[0m \u001b[0;31m# salidas: 4\u001b[0m\u001b[0;34m\u001b[0m\u001b[0;34m\u001b[0m\u001b[0m\n\u001b[0m\u001b[1;32m      6\u001b[0m \u001b[0;34m\u001b[0m\u001b[0m\n\u001b[1;32m      7\u001b[0m \u001b[0;34m\u001b[0m\u001b[0m\n",
            "\u001b[0;31mNameError\u001b[0m: name 'imprimir' is not defined"
          ]
        }
      ]
    },
    {
      "cell_type": "code",
      "execution_count": null,
      "metadata": {
        "colab": {
          "base_uri": "https://localhost:8080/"
        },
        "id": "Vja3bPUtBsW_",
        "outputId": "e501ca5a-ba8d-43f0-9a83-1480079add86"
      },
      "outputs": [
        {
          "output_type": "stream",
          "name": "stdout",
          "text": [
            "9\n"
          ]
        }
      ],
      "source": [
        "def fun(x, y, z):\n",
        "    return x + 2 * y + 3 * z\n",
        " \n",
        " \n",
        "print(fun(0, z=1, y=3))\n",
        " "
      ]
    },
    {
      "cell_type": "code",
      "source": [],
      "metadata": {
        "id": "Qob2XgCrazH9"
      },
      "execution_count": null,
      "outputs": []
    },
    {
      "cell_type": "code",
      "source": [
        "# Proyecto final mostrado en el python latam "
      ],
      "metadata": {
        "id": "MWArHA0VW5lP"
      },
      "execution_count": null,
      "outputs": []
    },
    {
      "cell_type": "code",
      "source": [
        "from random import randrange\n",
        "\n",
        "\n",
        "def display_board(board):\n",
        "\tprint(\"+-------\" * 3,\"+\", sep=\"\")\n",
        "\tfor row in range(3):\n",
        "\t\tprint(\"|       \" * 3,\"|\", sep=\"\")\n",
        "\t\tfor col in range(3):\n",
        "\t\t\tprint(\"|   \" + str(board[row][col]) + \"   \", end=\"\")\n",
        "\t\tprint(\"|\")\n",
        "\t\tprint(\"|       \" * 3,\"|\",sep=\"\")\n",
        "\t\tprint(\"+-------\" * 3,\"+\",sep=\"\")\n",
        "\n",
        "\n",
        "def enter_move(board):\n",
        "\tok = False\t# fake assumption - we need it to enter the loop\n",
        "\twhile not ok:\n",
        "\t\tmove = input(\"Enter your move: \") \n",
        "\t\tok = len(move) == 1 and move >= '1' and move <= '9' # is user's input valid?\n",
        "\t\tif not ok:\n",
        "\t\t\tprint(\"Bad move - repeat your input!\") # no, it isn't - do the input again\n",
        "\t\t\tcontinue\n",
        "\t\tmove = int(move) - 1 \t# cell's number from 0 to 8\n",
        "\t\trow = move // 3 \t# cell's row\n",
        "\t\tcol = move % 3\t\t# cell's column\n",
        "\t\tsign = board[row][col]\t# check the selected square\n",
        "\t\tok = sign not in ['O','X'] \n",
        "\t\tif not ok:\t# it's occupied - to the input again\n",
        "\t\t\tprint(\"Field already occupied - repeat your input!\")\n",
        "\t\t\tcontinue\n",
        "\tboard[row][col] = 'O' \t# set '0' at the selected square\n",
        "\n",
        "\n",
        "def make_list_of_free_fields(board):\n",
        "\tfree = []\t# the list is empty initially\n",
        "\tfor row in range(3): # iterate through rows\n",
        "\t\tfor col in range(3): # iterate through columns\n",
        "\t\t\tif board[row][col] not in ['O','X']: # is the cell free?\n",
        "\t\t\t\tfree.append((row,col)) # yes, it is - append new tuple to the list\n",
        "\treturn free\n",
        "\n",
        "\n",
        "def victory_for(board,sgn):\n",
        "\tif sgn == \"X\":\t# are we looking for X?\n",
        "\t\twho = 'me'\t# yes - it's computer's side\n",
        "\telif sgn == \"O\": # ... or for O?\n",
        "\t\twho = 'you'\t# yes - it's our side\n",
        "\telse:\n",
        "\t\twho = None\t# we should not fall here!\n",
        "\tcross1 = cross2 = True  # for diagonals\n",
        "\tfor rc in range(3):\n",
        "\t\tif board[rc][0] == sgn and board[rc][1] == sgn and board[rc][2] == sgn:\t# check row rc\n",
        "\t\t\treturn who\n",
        "\t\tif board[0][rc] == sgn and board[1][rc] == sgn and board[2][rc] == sgn: # check column rc\n",
        "\t\t\treturn who\n",
        "\t\tif board[rc][rc] != sgn: # check 1st diagonal\n",
        "\t\t\tcross1 = False\n",
        "\t\tif board[2 - rc][2 - rc] != sgn: # check 2nd diagonal\n",
        "\t\t\tcross2 = False\n",
        "\tif cross1 or cross2:\n",
        "\t\treturn who\n",
        "\treturn None\n",
        "\n",
        "\n",
        "def draw_move(board):\n",
        "\tfree = make_list_of_free_fields(board) # make a list of free fields\n",
        "\tcnt = len(free)\n",
        "\tif cnt > 0:\t# if the list is not empty, choose a place for 'X' and set it\n",
        "\t\tthis = randrange(cnt)\n",
        "\t\trow, col = free[this]\n",
        "\t\tboard[row][col] = 'X'\n",
        "\n",
        "\n",
        "board = [ [3 * j + i + 1 for i in range(3)] for j in range(3) ] # make an empty board\n",
        "board[1][1] = 'X' # set first 'X' in the middle\n",
        "free = make_list_of_free_fields(board)\n",
        "human_turn = True # which turn is it now?\n",
        "while len(free):\n",
        "\tdisplay_board(board)\n",
        "\tif human_turn:\n",
        "\t\tenter_move(board)\n",
        "\t\tvictor = victory_for(board,'O')\n",
        "\telse:\t\n",
        "\t\tdraw_move(board)\n",
        "\t\tvictor = victory_for(board,'X')\n",
        "\tif victor != None:\n",
        "\t\tbreak\n",
        "\thuman_turn = not human_turn\t\t\n",
        "\tfree = make_list_of_free_fields(board)\n",
        "\n",
        "display_board(board)\n",
        "if victor == 'you':\n",
        "\tprint(\"You won!\")\n",
        "elif victor == 'me':\n",
        "\tprint(\"I won\")\n",
        "else:\n",
        "\tprint(\"Tie!\")"
      ],
      "metadata": {
        "colab": {
          "base_uri": "https://localhost:8080/"
        },
        "id": "lja5ImlADCnA",
        "outputId": "bd3a1ac6-fca4-4f6d-cdef-80a7bcdc9188"
      },
      "execution_count": 1,
      "outputs": [
        {
          "output_type": "stream",
          "name": "stdout",
          "text": [
            "+-------+-------+-------+\n",
            "|       |       |       |\n",
            "|   1   |   2   |   3   |\n",
            "|       |       |       |\n",
            "+-------+-------+-------+\n",
            "|       |       |       |\n",
            "|   4   |   X   |   6   |\n",
            "|       |       |       |\n",
            "+-------+-------+-------+\n",
            "|       |       |       |\n",
            "|   7   |   8   |   9   |\n",
            "|       |       |       |\n",
            "+-------+-------+-------+\n",
            "Enter your move: 8\n",
            "+-------+-------+-------+\n",
            "|       |       |       |\n",
            "|   1   |   2   |   3   |\n",
            "|       |       |       |\n",
            "+-------+-------+-------+\n",
            "|       |       |       |\n",
            "|   4   |   X   |   6   |\n",
            "|       |       |       |\n",
            "+-------+-------+-------+\n",
            "|       |       |       |\n",
            "|   7   |   O   |   9   |\n",
            "|       |       |       |\n",
            "+-------+-------+-------+\n",
            "+-------+-------+-------+\n",
            "|       |       |       |\n",
            "|   1   |   2   |   3   |\n",
            "|       |       |       |\n",
            "+-------+-------+-------+\n",
            "|       |       |       |\n",
            "|   X   |   X   |   6   |\n",
            "|       |       |       |\n",
            "+-------+-------+-------+\n",
            "|       |       |       |\n",
            "|   7   |   O   |   9   |\n",
            "|       |       |       |\n",
            "+-------+-------+-------+\n",
            "Enter your move: 2\n",
            "+-------+-------+-------+\n",
            "|       |       |       |\n",
            "|   1   |   O   |   3   |\n",
            "|       |       |       |\n",
            "+-------+-------+-------+\n",
            "|       |       |       |\n",
            "|   X   |   X   |   6   |\n",
            "|       |       |       |\n",
            "+-------+-------+-------+\n",
            "|       |       |       |\n",
            "|   7   |   O   |   9   |\n",
            "|       |       |       |\n",
            "+-------+-------+-------+\n",
            "+-------+-------+-------+\n",
            "|       |       |       |\n",
            "|   X   |   O   |   3   |\n",
            "|       |       |       |\n",
            "+-------+-------+-------+\n",
            "|       |       |       |\n",
            "|   X   |   X   |   6   |\n",
            "|       |       |       |\n",
            "+-------+-------+-------+\n",
            "|       |       |       |\n",
            "|   7   |   O   |   9   |\n",
            "|       |       |       |\n",
            "+-------+-------+-------+\n",
            "Enter your move: 1\n",
            "Field already occupied - repeat your input!\n",
            "Enter your move: 4\n",
            "Field already occupied - repeat your input!\n",
            "Enter your move: 8\n",
            "Field already occupied - repeat your input!\n",
            "Enter your move: 3\n",
            "+-------+-------+-------+\n",
            "|       |       |       |\n",
            "|   X   |   O   |   O   |\n",
            "|       |       |       |\n",
            "+-------+-------+-------+\n",
            "|       |       |       |\n",
            "|   X   |   X   |   6   |\n",
            "|       |       |       |\n",
            "+-------+-------+-------+\n",
            "|       |       |       |\n",
            "|   7   |   O   |   9   |\n",
            "|       |       |       |\n",
            "+-------+-------+-------+\n",
            "+-------+-------+-------+\n",
            "|       |       |       |\n",
            "|   X   |   O   |   O   |\n",
            "|       |       |       |\n",
            "+-------+-------+-------+\n",
            "|       |       |       |\n",
            "|   X   |   X   |   6   |\n",
            "|       |       |       |\n",
            "+-------+-------+-------+\n",
            "|       |       |       |\n",
            "|   X   |   O   |   9   |\n",
            "|       |       |       |\n",
            "+-------+-------+-------+\n",
            "I won\n"
          ]
        }
      ]
    },
    {
      "cell_type": "code",
      "source": [],
      "metadata": {
        "id": "kJZ5YCgDDans"
      },
      "execution_count": null,
      "outputs": []
    },
    {
      "cell_type": "code",
      "source": [],
      "metadata": {
        "id": "wEukvlyjDalZ"
      },
      "execution_count": null,
      "outputs": []
    },
    {
      "cell_type": "code",
      "source": [],
      "metadata": {
        "id": "FsVS3y-bDajB"
      },
      "execution_count": null,
      "outputs": []
    },
    {
      "cell_type": "code",
      "source": [
        "Examen final\n",
        "Desplácese para comenzar  \n",
        "\n",
        "¡Bien hecho! Llegó al final del curso y completó un hito importante en su educación en programación Python.\n",
        "\n",
        "Ahora está preparado para asumir el último desafío, la prueba final , que lo ayudará a repasar la información más importante que ha leído y evaluar las habilidades y los conocimientos que ha adquirido a lo largo del curso.\n",
        "\n",
        "La prueba final se basa en lo que ha aprendido en todo el curso. Hay 35 preguntas en total, y debe obtener al menos un 70% para aprobar. ¡Buena suerte!\n",
        "\n",
        "Pregunta incompleta 1Pregunta 1\n",
        "Pregunta de opción múltiple\n",
        "¿Cuál es el resultado del siguiente fragmento?"
      ],
      "metadata": {
        "id": "gP5r5G6YDagY"
      },
      "execution_count": null,
      "outputs": []
    },
    {
      "cell_type": "code",
      "source": [
        "my_list = [1, 2]\n",
        " \n",
        "for v in range(2):\n",
        "    my_list.insert(-1, my_list[v])\n",
        " \n",
        "print(my_list)\n",
        " "
      ],
      "metadata": {
        "colab": {
          "base_uri": "https://localhost:8080/"
        },
        "id": "KPACAh7pDadm",
        "outputId": "bfdbf32e-8e45-45a5-f39a-444c59f56e23"
      },
      "execution_count": null,
      "outputs": [
        {
          "output_type": "stream",
          "name": "stdout",
          "text": [
            "[1, 1, 1, 2]\n"
          ]
        }
      ]
    },
    {
      "cell_type": "code",
      "source": [],
      "metadata": {
        "id": "rguot2neDaaO"
      },
      "execution_count": null,
      "outputs": []
    }
  ]
}