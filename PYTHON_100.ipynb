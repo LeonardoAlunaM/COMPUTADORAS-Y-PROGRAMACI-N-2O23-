{
  "nbformat": 4,
  "nbformat_minor": 0,
  "metadata": {
    "colab": {
      "provenance": [],
      "authorship_tag": "ABX9TyP6ZSZCLohnWDFn7BeGP6ZK",
      "include_colab_link": true
    },
    "kernelspec": {
      "name": "python3",
      "display_name": "Python 3"
    },
    "language_info": {
      "name": "python"
    }
  },
  "cells": [
    {
      "cell_type": "markdown",
      "metadata": {
        "id": "view-in-github",
        "colab_type": "text"
      },
      "source": [
        "<a href=\"https://colab.research.google.com/github/LeonardoAlunaM/COMPUTADORAS-Y-PROGRAMACI-N-2O23-/blob/main-COMPUTADORAS-Y-PROGTRAMACI%C3%93N-2023/PYTHON_100.ipynb\" target=\"_parent\"><img src=\"https://colab.research.google.com/assets/colab-badge.svg\" alt=\"Open In Colab\"/></a>"
      ]
    },
    {
      "cell_type": "code",
      "source": [
        "# Pregunta 2 mo dulo 4 \n",
        "def function(x=0):\n",
        "    return x\n",
        "    "
      ],
      "metadata": {
        "id": "zcf0uZoOTzsR"
      },
      "execution_count": 4,
      "outputs": []
    },
    {
      "cell_type": "code",
      "source": [
        "function(0)"
      ],
      "metadata": {
        "id": "iqF_BVceTzpW",
        "outputId": "216ed9d1-1306-456b-c229-88e06231d527",
        "colab": {
          "base_uri": "https://localhost:8080/"
        }
      },
      "execution_count": 7,
      "outputs": [
        {
          "output_type": "execute_result",
          "data": {
            "text/plain": [
              "0"
            ]
          },
          "metadata": {},
          "execution_count": 7
        }
      ]
    },
    {
      "cell_type": "code",
      "source": [
        "def function(x=0):\n",
        "    return x"
      ],
      "metadata": {
        "id": "djub1KEPTzk9"
      },
      "execution_count": 8,
      "outputs": []
    },
    {
      "cell_type": "code",
      "source": [
        "def f(x):\n",
        "    if x == 0:\n",
        "        return 0\n",
        "    return x + f(x - 1)\n",
        " \n",
        " \n",
        "print(f(3))"
      ],
      "metadata": {
        "id": "Rx83a8QcTzij",
        "outputId": "3e392419-9089-4b25-8be9-6f1de45e4cac",
        "colab": {
          "base_uri": "https://localhost:8080/"
        }
      },
      "execution_count": 9,
      "outputs": [
        {
          "output_type": "stream",
          "name": "stdout",
          "text": [
            "6\n"
          ]
        }
      ]
    },
    {
      "cell_type": "code",
      "source": [
        "def fun(x):\n",
        "    x += 1\n",
        "    return x\n",
        " \n",
        " \n",
        "x = 2\n",
        "x = fun(x + 1)\n",
        "print(x)"
      ],
      "metadata": {
        "id": "aDmLSrGCVhc9",
        "outputId": "10a4d989-cb97-45f9-8633-54b4dd331218",
        "colab": {
          "base_uri": "https://localhost:8080/"
        }
      },
      "execution_count": 10,
      "outputs": [
        {
          "output_type": "stream",
          "name": "stdout",
          "text": [
            "4\n"
          ]
        }
      ]
    },
    {
      "cell_type": "code",
      "source": [
        "dictionary = {}\n",
        "my_list = ['a', 'b', 'c', 'd']\n",
        " \n",
        "for i in range(len(my_list) - 1):\n",
        "    dictionary[my_list[i]] = (my_list[i], )\n",
        " \n",
        "for i in sorted(dictionary.keys()):\n",
        "    k = dictionary[i]\n",
        "    print(k[0])\n",
        "    # print(k) "
      ],
      "metadata": {
        "colab": {
          "base_uri": "https://localhost:8080/"
        },
        "id": "a3IDQWFaVkM2",
        "outputId": "0f3705ab-0f65-4017-a585-f49dca996c17"
      },
      "execution_count": 23,
      "outputs": [
        {
          "output_type": "stream",
          "name": "stdout",
          "text": [
            "a\n",
            "b\n",
            "c\n"
          ]
        }
      ]
    },
    {
      "cell_type": "code",
      "source": [
        "imprimir(k[0])\n",
        "\n",
        "imprimir(k[\"0\"])\n",
        "\n",
        "imprimir (k)\n",
        "\n",
        "imprimir(k['0'])"
      ],
      "metadata": {
        "id": "pdVmnbO1VkJ_"
      },
      "execution_count": null,
      "outputs": []
    },
    {
      "cell_type": "code",
      "source": [
        "def func(a, b):\n",
        "    return a ** a\n",
        " \n",
        " \n",
        "print(func(2))"
      ],
      "metadata": {
        "id": "eufyP1nkVkHc",
        "outputId": "82daa59a-bb53-4d18-91d8-64a7fd4170bc",
        "colab": {
          "base_uri": "https://localhost:8080/",
          "height": 200
        }
      },
      "execution_count": 24,
      "outputs": [
        {
          "output_type": "error",
          "ename": "TypeError",
          "evalue": "ignored",
          "traceback": [
            "\u001b[0;31m---------------------------------------------------------------------------\u001b[0m",
            "\u001b[0;31mTypeError\u001b[0m                                 Traceback (most recent call last)",
            "\u001b[0;32m<ipython-input-24-543f010b631a>\u001b[0m in \u001b[0;36m<cell line: 5>\u001b[0;34m()\u001b[0m\n\u001b[1;32m      3\u001b[0m \u001b[0;34m\u001b[0m\u001b[0m\n\u001b[1;32m      4\u001b[0m \u001b[0;34m\u001b[0m\u001b[0m\n\u001b[0;32m----> 5\u001b[0;31m \u001b[0mprint\u001b[0m\u001b[0;34m(\u001b[0m\u001b[0mfunc\u001b[0m\u001b[0;34m(\u001b[0m\u001b[0;36m2\u001b[0m\u001b[0;34m)\u001b[0m\u001b[0;34m)\u001b[0m\u001b[0;34m\u001b[0m\u001b[0;34m\u001b[0m\u001b[0m\n\u001b[0m",
            "\u001b[0;31mTypeError\u001b[0m: func() missing 1 required positional argument: 'b'"
          ]
        }
      ]
    },
    {
      "cell_type": "code",
      "source": [
        "def func_1(a):\n",
        "    return a ** a\n",
        " \n",
        " \n",
        "def func_2(a):\n",
        "    return func_1(a) * func_1(a)\n",
        " \n",
        " \n",
        "print(func_2(2))\n",
        " "
      ],
      "metadata": {
        "id": "0E8aII5iVkE3",
        "outputId": "54d128a9-9ea9-45c0-b620-0f832e1bc821",
        "colab": {
          "base_uri": "https://localhost:8080/"
        }
      },
      "execution_count": 25,
      "outputs": [
        {
          "output_type": "stream",
          "name": "stdout",
          "text": [
            "16\n"
          ]
        }
      ]
    },
    {
      "cell_type": "code",
      "source": [
        "def fun(x):\n",
        "    if x % 2 == 0:\n",
        "        return 1\n",
        "    else:\n",
        "        return\n",
        " \n",
        " \n",
        "print(fun(fun(2)) + 1)\n",
        " "
      ],
      "metadata": {
        "id": "YwtrovonVkCd",
        "outputId": "bbf9d2a0-42b9-40d7-ec8c-e257149037d8",
        "colab": {
          "base_uri": "https://localhost:8080/",
          "height": 217
        }
      },
      "execution_count": 26,
      "outputs": [
        {
          "output_type": "error",
          "ename": "TypeError",
          "evalue": "ignored",
          "traceback": [
            "\u001b[0;31m---------------------------------------------------------------------------\u001b[0m",
            "\u001b[0;31mTypeError\u001b[0m                                 Traceback (most recent call last)",
            "\u001b[0;32m<ipython-input-26-7eca0acf0ec1>\u001b[0m in \u001b[0;36m<cell line: 8>\u001b[0;34m()\u001b[0m\n\u001b[1;32m      6\u001b[0m \u001b[0;34m\u001b[0m\u001b[0m\n\u001b[1;32m      7\u001b[0m \u001b[0;34m\u001b[0m\u001b[0m\n\u001b[0;32m----> 8\u001b[0;31m \u001b[0mprint\u001b[0m\u001b[0;34m(\u001b[0m\u001b[0mfun\u001b[0m\u001b[0;34m(\u001b[0m\u001b[0mfun\u001b[0m\u001b[0;34m(\u001b[0m\u001b[0;36m2\u001b[0m\u001b[0;34m)\u001b[0m\u001b[0;34m)\u001b[0m \u001b[0;34m+\u001b[0m \u001b[0;36m1\u001b[0m\u001b[0;34m)\u001b[0m\u001b[0;34m\u001b[0m\u001b[0;34m\u001b[0m\u001b[0m\n\u001b[0m\u001b[1;32m      9\u001b[0m \u001b[0;34m\u001b[0m\u001b[0m\n",
            "\u001b[0;31mTypeError\u001b[0m: unsupported operand type(s) for +: 'NoneType' and 'int'"
          ]
        }
      ]
    },
    {
      "cell_type": "code",
      "source": [
        "def fun(x):\n",
        "    global y\n",
        "    y = x * x\n",
        "    return y\n",
        " \n",
        " \n",
        "fun(2)\n",
        "print(y)\n",
        " "
      ],
      "metadata": {
        "id": "I9PN1XW-Vj_1",
        "outputId": "4d6aa04d-5b98-425c-8b6b-a4aa32d21ef2",
        "colab": {
          "base_uri": "https://localhost:8080/"
        }
      },
      "execution_count": 27,
      "outputs": [
        {
          "output_type": "stream",
          "name": "stdout",
          "text": [
            "4\n"
          ]
        }
      ]
    },
    {
      "cell_type": "code",
      "source": [
        "def any():\n",
        "    print(var + 1, end='')\n",
        " \n",
        " \n",
        "var = 1\n",
        "any()\n",
        "print(var)"
      ],
      "metadata": {
        "id": "PACtewQLVj9U",
        "outputId": "c1129388-0e5f-4d3a-aace-e2e732a0c3d4",
        "colab": {
          "base_uri": "https://localhost:8080/"
        }
      },
      "execution_count": 28,
      "outputs": [
        {
          "output_type": "stream",
          "name": "stdout",
          "text": [
            "21\n"
          ]
        }
      ]
    },
    {
      "cell_type": "code",
      "source": [
        "my_tuple[1] = my_tuple[1] + my_tuple[0]"
      ],
      "metadata": {
        "id": "XhOlzI-7Vj6b",
        "outputId": "0d3a13f2-a7f0-4d14-cb63-97a8ca359443",
        "colab": {
          "base_uri": "https://localhost:8080/",
          "height": 165
        }
      },
      "execution_count": 29,
      "outputs": [
        {
          "output_type": "error",
          "ename": "NameError",
          "evalue": "ignored",
          "traceback": [
            "\u001b[0;31m---------------------------------------------------------------------------\u001b[0m",
            "\u001b[0;31mNameError\u001b[0m                                 Traceback (most recent call last)",
            "\u001b[0;32m<ipython-input-29-c6c2e0fca9eb>\u001b[0m in \u001b[0;36m<cell line: 1>\u001b[0;34m()\u001b[0m\n\u001b[0;32m----> 1\u001b[0;31m \u001b[0mmy_tuple\u001b[0m\u001b[0;34m[\u001b[0m\u001b[0;36m1\u001b[0m\u001b[0;34m]\u001b[0m \u001b[0;34m=\u001b[0m \u001b[0mmy_tuple\u001b[0m\u001b[0;34m[\u001b[0m\u001b[0;36m1\u001b[0m\u001b[0;34m]\u001b[0m \u001b[0;34m+\u001b[0m \u001b[0mmy_tuple\u001b[0m\u001b[0;34m[\u001b[0m\u001b[0;36m0\u001b[0m\u001b[0;34m]\u001b[0m\u001b[0;34m\u001b[0m\u001b[0;34m\u001b[0m\u001b[0m\n\u001b[0m",
            "\u001b[0;31mNameError\u001b[0m: name 'my_tuple' is not defined"
          ]
        }
      ]
    },
    {
      "cell_type": "code",
      "source": [
        "\n",
        "my_list = ['Mary', 'had', 'a', 'little', 'lamb']\n",
        " \n",
        " \n",
        "def my_list(my_list):\n",
        "    del my_list[3]\n",
        "    my_list[3] = 'ram'\n",
        " \n",
        " \n",
        "print(my_list(my_list))"
      ],
      "metadata": {
        "id": "vlat6KEiVj3w",
        "outputId": "6412d09f-ac7a-4965-aadf-ba21384f19b0",
        "colab": {
          "base_uri": "https://localhost:8080/",
          "height": 321
        }
      },
      "execution_count": 32,
      "outputs": [
        {
          "output_type": "error",
          "ename": "TypeError",
          "evalue": "ignored",
          "traceback": [
            "\u001b[0;31m---------------------------------------------------------------------------\u001b[0m",
            "\u001b[0;31mTypeError\u001b[0m                                 Traceback (most recent call last)",
            "\u001b[0;32m<ipython-input-32-34e61382032d>\u001b[0m in \u001b[0;36m<cell line: 9>\u001b[0;34m()\u001b[0m\n\u001b[1;32m      7\u001b[0m \u001b[0;34m\u001b[0m\u001b[0m\n\u001b[1;32m      8\u001b[0m \u001b[0;34m\u001b[0m\u001b[0m\n\u001b[0;32m----> 9\u001b[0;31m \u001b[0mprint\u001b[0m\u001b[0;34m(\u001b[0m\u001b[0mmy_list\u001b[0m\u001b[0;34m(\u001b[0m\u001b[0mmy_list\u001b[0m\u001b[0;34m)\u001b[0m\u001b[0;34m)\u001b[0m\u001b[0;34m\u001b[0m\u001b[0;34m\u001b[0m\u001b[0m\n\u001b[0m",
            "\u001b[0;32m<ipython-input-32-34e61382032d>\u001b[0m in \u001b[0;36mmy_list\u001b[0;34m(my_list)\u001b[0m\n\u001b[1;32m      3\u001b[0m \u001b[0;34m\u001b[0m\u001b[0m\n\u001b[1;32m      4\u001b[0m \u001b[0;32mdef\u001b[0m \u001b[0mmy_list\u001b[0m\u001b[0;34m(\u001b[0m\u001b[0mmy_list\u001b[0m\u001b[0;34m)\u001b[0m\u001b[0;34m:\u001b[0m\u001b[0;34m\u001b[0m\u001b[0;34m\u001b[0m\u001b[0m\n\u001b[0;32m----> 5\u001b[0;31m     \u001b[0;32mdel\u001b[0m \u001b[0mmy_list\u001b[0m\u001b[0;34m[\u001b[0m\u001b[0;36m3\u001b[0m\u001b[0;34m]\u001b[0m\u001b[0;34m\u001b[0m\u001b[0;34m\u001b[0m\u001b[0m\n\u001b[0m\u001b[1;32m      6\u001b[0m     \u001b[0mmy_list\u001b[0m\u001b[0;34m[\u001b[0m\u001b[0;36m3\u001b[0m\u001b[0;34m]\u001b[0m \u001b[0;34m=\u001b[0m \u001b[0;34m'ram'\u001b[0m\u001b[0;34m\u001b[0m\u001b[0;34m\u001b[0m\u001b[0m\n\u001b[1;32m      7\u001b[0m \u001b[0;34m\u001b[0m\u001b[0m\n",
            "\u001b[0;31mTypeError\u001b[0m: 'function' object does not support item deletion"
          ]
        }
      ]
    },
    {
      "cell_type": "code",
      "source": [],
      "metadata": {
        "id": "mmWUXeQGh4iE"
      },
      "execution_count": null,
      "outputs": []
    },
    {
      "cell_type": "code",
      "source": [],
      "metadata": {
        "id": "BAu62EQJh4ex"
      },
      "execution_count": null,
      "outputs": []
    },
    {
      "cell_type": "code",
      "source": [],
      "metadata": {
        "id": "xqdV_Af0h4cW"
      },
      "execution_count": null,
      "outputs": []
    },
    {
      "cell_type": "code",
      "source": [],
      "metadata": {
        "id": "CfW9jq-fh4Zo"
      },
      "execution_count": null,
      "outputs": []
    },
    {
      "cell_type": "code",
      "source": [],
      "metadata": {
        "id": "z8rH9rzRh4Wx"
      },
      "execution_count": null,
      "outputs": []
    },
    {
      "cell_type": "code",
      "source": [],
      "metadata": {
        "id": "HZbAhrkzh4T4"
      },
      "execution_count": null,
      "outputs": []
    },
    {
      "cell_type": "code",
      "source": [],
      "metadata": {
        "id": "hO9XCuG2h4RL"
      },
      "execution_count": null,
      "outputs": []
    },
    {
      "cell_type": "code",
      "source": [],
      "metadata": {
        "id": "N_PoNjTih4OP"
      },
      "execution_count": null,
      "outputs": []
    },
    {
      "cell_type": "code",
      "source": [],
      "metadata": {
        "id": "GSaR6fX_h4Lm"
      },
      "execution_count": null,
      "outputs": []
    },
    {
      "cell_type": "code",
      "source": [],
      "metadata": {
        "id": "-8V5T_XUh4JC"
      },
      "execution_count": null,
      "outputs": []
    },
    {
      "cell_type": "code",
      "source": [
        "my_list = ['Mary', 'had', 'a', 'little', 'lamb']\n",
        " \n",
        " \n",
        "def my_list(my_list):\n",
        "    del my_list[3]\n",
        "    my_list[3] = 'ram'\n",
        " \n",
        " \n",
        "print(my_list(my_list))"
      ],
      "metadata": {
        "id": "2iY_EQ0TYJu_",
        "outputId": "f8620249-c207-4e5e-90ca-8752d54f0967",
        "colab": {
          "base_uri": "https://localhost:8080/",
          "height": 321
        }
      },
      "execution_count": 33,
      "outputs": [
        {
          "output_type": "error",
          "ename": "TypeError",
          "evalue": "ignored",
          "traceback": [
            "\u001b[0;31m---------------------------------------------------------------------------\u001b[0m",
            "\u001b[0;31mTypeError\u001b[0m                                 Traceback (most recent call last)",
            "\u001b[0;32m<ipython-input-33-34e61382032d>\u001b[0m in \u001b[0;36m<cell line: 9>\u001b[0;34m()\u001b[0m\n\u001b[1;32m      7\u001b[0m \u001b[0;34m\u001b[0m\u001b[0m\n\u001b[1;32m      8\u001b[0m \u001b[0;34m\u001b[0m\u001b[0m\n\u001b[0;32m----> 9\u001b[0;31m \u001b[0mprint\u001b[0m\u001b[0;34m(\u001b[0m\u001b[0mmy_list\u001b[0m\u001b[0;34m(\u001b[0m\u001b[0mmy_list\u001b[0m\u001b[0;34m)\u001b[0m\u001b[0;34m)\u001b[0m\u001b[0;34m\u001b[0m\u001b[0;34m\u001b[0m\u001b[0m\n\u001b[0m",
            "\u001b[0;32m<ipython-input-33-34e61382032d>\u001b[0m in \u001b[0;36mmy_list\u001b[0;34m(my_list)\u001b[0m\n\u001b[1;32m      3\u001b[0m \u001b[0;34m\u001b[0m\u001b[0m\n\u001b[1;32m      4\u001b[0m \u001b[0;32mdef\u001b[0m \u001b[0mmy_list\u001b[0m\u001b[0;34m(\u001b[0m\u001b[0mmy_list\u001b[0m\u001b[0;34m)\u001b[0m\u001b[0;34m:\u001b[0m\u001b[0;34m\u001b[0m\u001b[0;34m\u001b[0m\u001b[0m\n\u001b[0;32m----> 5\u001b[0;31m     \u001b[0;32mdel\u001b[0m \u001b[0mmy_list\u001b[0m\u001b[0;34m[\u001b[0m\u001b[0;36m3\u001b[0m\u001b[0;34m]\u001b[0m\u001b[0;34m\u001b[0m\u001b[0;34m\u001b[0m\u001b[0m\n\u001b[0m\u001b[1;32m      6\u001b[0m     \u001b[0mmy_list\u001b[0m\u001b[0;34m[\u001b[0m\u001b[0;36m3\u001b[0m\u001b[0;34m]\u001b[0m \u001b[0;34m=\u001b[0m \u001b[0;34m'ram'\u001b[0m\u001b[0;34m\u001b[0m\u001b[0;34m\u001b[0m\u001b[0m\n\u001b[1;32m      7\u001b[0m \u001b[0;34m\u001b[0m\u001b[0m\n",
            "\u001b[0;31mTypeError\u001b[0m: 'function' object does not support item deletion"
          ]
        }
      ]
    },
    {
      "cell_type": "code",
      "source": [
        "def fun(x, y, z):\n",
        "    return x + 2 * y + 3 * z\n",
        " \n",
        " \n",
        "print(fun(0, z=1, y=3))"
      ],
      "metadata": {
        "id": "_DfTQSTdYJrF",
        "outputId": "459db0ce-4dfc-46c9-9104-226c265bfb1e",
        "colab": {
          "base_uri": "https://localhost:8080/"
        }
      },
      "execution_count": 34,
      "outputs": [
        {
          "output_type": "stream",
          "name": "stdout",
          "text": [
            "9\n"
          ]
        }
      ]
    },
    {
      "cell_type": "code",
      "source": [
        "def fun(inp=2, out=3):\n",
        "    return inp * out\n",
        " \n",
        " \n",
        "print(fun(out=2))"
      ],
      "metadata": {
        "id": "If94T1fmYJok",
        "outputId": "38273a50-6bf9-4c7b-a362-35eae22e8e21",
        "colab": {
          "base_uri": "https://localhost:8080/"
        }
      },
      "execution_count": 35,
      "outputs": [
        {
          "output_type": "stream",
          "name": "stdout",
          "text": [
            "4\n"
          ]
        }
      ]
    },
    {
      "cell_type": "code",
      "source": [
        "dictionary = {'one': 'two', 'three': 'one', 'two': 'three'}\n",
        "v = dictionary['one']\n",
        " \n",
        "for k in range(len(dictionary)):\n",
        "    v = dictionary[v]\n",
        " \n",
        "print(v)"
      ],
      "metadata": {
        "id": "cYnlzFp7YJmH",
        "outputId": "30e9326f-bd99-4a17-df0a-1f04054363af",
        "colab": {
          "base_uri": "https://localhost:8080/"
        }
      },
      "execution_count": 36,
      "outputs": [
        {
          "output_type": "stream",
          "name": "stdout",
          "text": [
            "two\n"
          ]
        }
      ]
    },
    {
      "cell_type": "code",
      "source": [
        "tup = (1, 2, 4, 8)\n",
        "tup = tup[1:-1]\n",
        "tup = tup[0]\n",
        "print(tup)"
      ],
      "metadata": {
        "id": "oqOfpxqZYd_O",
        "outputId": "ad951b9f-3d8d-42c1-f2e7-0f00d67086b2",
        "colab": {
          "base_uri": "https://localhost:8080/"
        }
      },
      "execution_count": 37,
      "outputs": [
        {
          "output_type": "stream",
          "name": "stdout",
          "text": [
            "2\n"
          ]
        }
      ]
    },
    {
      "cell_type": "code",
      "source": [
        "try:\n",
        "    value = input(\"Enter a value: \")\n",
        "    print(value/value)\n",
        "except ValueError:\n",
        "    print(\"Bad input...\")\n",
        "except ZeroDivisionError:\n",
        "    print(\"Very bad input...\")\n",
        "except TypeError:\n",
        "    print(\"Very very bad input...\")\n",
        "except:\n",
        "    print(\"Booo!\")"
      ],
      "metadata": {
        "id": "twhKUP9HYd8f",
        "outputId": "42babe88-d24d-42d5-fadb-7ee0388d2cae",
        "colab": {
          "base_uri": "https://localhost:8080/"
        }
      },
      "execution_count": 38,
      "outputs": [
        {
          "output_type": "stream",
          "name": "stdout",
          "text": [
            "Enter a value: 7\n",
            "Very very bad input...\n"
          ]
        }
      ]
    },
    {
      "cell_type": "code",
      "source": [
        "nums = [1, 2, 3]\n",
        "vals = numsnums = [1, 2, 3]\n",
        "vals = nums"
      ],
      "metadata": {
        "id": "5AVeCNkrYd5r"
      },
      "execution_count": 39,
      "outputs": []
    },
    {
      "cell_type": "code",
      "source": [
        "nums = [1, 2, 3]\n",
        "vals = nums\n",
        "print(nums)\n",
        "print(vals)"
      ],
      "metadata": {
        "id": "x6bxtty8Yd22",
        "outputId": "fcc91302-f2a5-468f-cb12-d923ad53de74",
        "colab": {
          "base_uri": "https://localhost:8080/"
        }
      },
      "execution_count": 42,
      "outputs": [
        {
          "output_type": "stream",
          "name": "stdout",
          "text": [
            "[1, 2, 3]\n",
            "[1, 2, 3]\n"
          ]
        }
      ]
    },
    {
      "cell_type": "code",
      "source": [
        "def function_1(a):\n",
        "    return None\n",
        " \n",
        " \n",
        "def function_2(a):\n",
        "    return function_1(a) * function_1(a)\n",
        " \n",
        " \n",
        "print(function_2(2))"
      ],
      "metadata": {
        "id": "0bjPQcpUTzf-",
        "outputId": "8005fa44-3ada-45f3-a130-7614174f83c7",
        "colab": {
          "base_uri": "https://localhost:8080/",
          "height": 321
        }
      },
      "execution_count": 43,
      "outputs": [
        {
          "output_type": "error",
          "ename": "TypeError",
          "evalue": "ignored",
          "traceback": [
            "\u001b[0;31m---------------------------------------------------------------------------\u001b[0m",
            "\u001b[0;31mTypeError\u001b[0m                                 Traceback (most recent call last)",
            "\u001b[0;32m<ipython-input-43-b5ea012c8eb0>\u001b[0m in \u001b[0;36m<cell line: 9>\u001b[0;34m()\u001b[0m\n\u001b[1;32m      7\u001b[0m \u001b[0;34m\u001b[0m\u001b[0m\n\u001b[1;32m      8\u001b[0m \u001b[0;34m\u001b[0m\u001b[0m\n\u001b[0;32m----> 9\u001b[0;31m \u001b[0mprint\u001b[0m\u001b[0;34m(\u001b[0m\u001b[0mfunction_2\u001b[0m\u001b[0;34m(\u001b[0m\u001b[0;36m2\u001b[0m\u001b[0;34m)\u001b[0m\u001b[0;34m)\u001b[0m\u001b[0;34m\u001b[0m\u001b[0;34m\u001b[0m\u001b[0m\n\u001b[0m",
            "\u001b[0;32m<ipython-input-43-b5ea012c8eb0>\u001b[0m in \u001b[0;36mfunction_2\u001b[0;34m(a)\u001b[0m\n\u001b[1;32m      4\u001b[0m \u001b[0;34m\u001b[0m\u001b[0m\n\u001b[1;32m      5\u001b[0m \u001b[0;32mdef\u001b[0m \u001b[0mfunction_2\u001b[0m\u001b[0;34m(\u001b[0m\u001b[0ma\u001b[0m\u001b[0;34m)\u001b[0m\u001b[0;34m:\u001b[0m\u001b[0;34m\u001b[0m\u001b[0;34m\u001b[0m\u001b[0m\n\u001b[0;32m----> 6\u001b[0;31m     \u001b[0;32mreturn\u001b[0m \u001b[0mfunction_1\u001b[0m\u001b[0;34m(\u001b[0m\u001b[0ma\u001b[0m\u001b[0;34m)\u001b[0m \u001b[0;34m*\u001b[0m \u001b[0mfunction_1\u001b[0m\u001b[0;34m(\u001b[0m\u001b[0ma\u001b[0m\u001b[0;34m)\u001b[0m\u001b[0;34m\u001b[0m\u001b[0;34m\u001b[0m\u001b[0m\n\u001b[0m\u001b[1;32m      7\u001b[0m \u001b[0;34m\u001b[0m\u001b[0m\n\u001b[1;32m      8\u001b[0m \u001b[0;34m\u001b[0m\u001b[0m\n",
            "\u001b[0;31mTypeError\u001b[0m: unsupported operand type(s) for *: 'NoneType' and 'NoneType'"
          ]
        }
      ]
    },
    {
      "cell_type": "code",
      "source": [
        "1 // 2"
      ],
      "metadata": {
        "id": "W9dc1zg4TzRz",
        "outputId": "d068e686-d8e7-4dec-f082-f955815435af",
        "colab": {
          "base_uri": "https://localhost:8080/"
        }
      },
      "execution_count": 44,
      "outputs": [
        {
          "output_type": "execute_result",
          "data": {
            "text/plain": [
              "0"
            ]
          },
          "metadata": {},
          "execution_count": 44
        }
      ]
    },
    {
      "cell_type": "code",
      "source": [
        "def func(a, b):\n",
        "    return b ** a\n",
        " \n",
        " \n",
        "print(func(b=2, 2))\n",
        " "
      ],
      "metadata": {
        "id": "FGHKGfeBiCkD",
        "outputId": "4b10ac41-279c-43ec-a3ef-9ce370ecb829",
        "colab": {
          "base_uri": "https://localhost:8080/",
          "height": 130
        }
      },
      "execution_count": 45,
      "outputs": [
        {
          "output_type": "error",
          "ename": "SyntaxError",
          "evalue": "ignored",
          "traceback": [
            "\u001b[0;36m  File \u001b[0;32m\"<ipython-input-45-26808e43b51d>\"\u001b[0;36m, line \u001b[0;32m5\u001b[0m\n\u001b[0;31m    print(func(b=2, 2))\u001b[0m\n\u001b[0m                     ^\u001b[0m\n\u001b[0;31mSyntaxError\u001b[0m\u001b[0;31m:\u001b[0m positional argument follows keyword argument\n"
          ]
        }
      ]
    },
    {
      "cell_type": "code",
      "source": [
        "z = 0\n",
        "y = 10\n",
        "x = y < z and z > y or y < z and z < y\n",
        "print(x)"
      ],
      "metadata": {
        "id": "iAlqLYwTiChC",
        "outputId": "2fb2f94b-9b64-4f28-f930-c32f814ba09c",
        "colab": {
          "base_uri": "https://localhost:8080/"
        }
      },
      "execution_count": 47,
      "outputs": [
        {
          "output_type": "stream",
          "name": "stdout",
          "text": [
            "False\n"
          ]
        }
      ]
    },
    {
      "cell_type": "code",
      "source": [
        "my_list = [x * x for x in range(5)]\n",
        " \n",
        " \n",
        "def fun(lst):\n",
        "    del lst[lst[2]]\n",
        "    return lst\n",
        " \n",
        " \n",
        "print(fun(my_list))"
      ],
      "metadata": {
        "id": "qEYIVcYAiCeS",
        "outputId": "50e64ad3-8861-4936-fa47-3d98f582d897",
        "colab": {
          "base_uri": "https://localhost:8080/"
        }
      },
      "execution_count": 48,
      "outputs": [
        {
          "output_type": "stream",
          "name": "stdout",
          "text": [
            "[0, 1, 4, 9]\n"
          ]
        }
      ]
    },
    {
      "cell_type": "code",
      "source": [
        "x = 1\n",
        "y = 2\n",
        "x, y, z = x, x, y\n",
        "z, y, z = x, y, z\n",
        " \n",
        "print(x, y, z)\n",
        " "
      ],
      "metadata": {
        "id": "Mi93kY2RiCbq",
        "outputId": "95fe909f-90da-4aee-f2e5-bd5ad80f9df7",
        "colab": {
          "base_uri": "https://localhost:8080/"
        }
      },
      "execution_count": 49,
      "outputs": [
        {
          "output_type": "stream",
          "name": "stdout",
          "text": [
            "1 1 2\n"
          ]
        }
      ]
    },
    {
      "cell_type": "code",
      "source": [
        "a = 1\n",
        "b = 0\n",
        "a = a ^ b\n",
        "b = a ^ b\n",
        "a = a ^ b\n",
        " \n",
        "print(a, b)\n",
        " "
      ],
      "metadata": {
        "id": "kKptgFVciCZJ",
        "outputId": "dc791310-958c-4ecf-f959-00a9a79c27a3",
        "colab": {
          "base_uri": "https://localhost:8080/"
        }
      },
      "execution_count": 50,
      "outputs": [
        {
          "output_type": "stream",
          "name": "stdout",
          "text": [
            "0 1\n"
          ]
        }
      ]
    },
    {
      "cell_type": "code",
      "source": [
        "def fun(x):\n",
        "    if x % 2 == 0:\n",
        "        return 1\n",
        "    else:\n",
        "        return 2\n",
        " \n",
        " \n",
        "print(fun(fun(2)))\n",
        " "
      ],
      "metadata": {
        "id": "Qo-2jdw-jTe6",
        "outputId": "485002e1-30c2-475b-c93b-1a3f006c9e66",
        "colab": {
          "base_uri": "https://localhost:8080/"
        }
      },
      "execution_count": 51,
      "outputs": [
        {
          "output_type": "stream",
          "name": "stdout",
          "text": [
            "2\n"
          ]
        }
      ]
    },
    {
      "cell_type": "code",
      "source": [
        "y = input()\n",
        "print(x + y)\n",
        " "
      ],
      "metadata": {
        "id": "LE0Lv-2djTbt",
        "outputId": "3e020717-8a8b-4534-fbfe-cec3461743ec",
        "colab": {
          "base_uri": "https://localhost:8080/"
        }
      },
      "execution_count": 52,
      "outputs": [
        {
          "output_type": "stream",
          "name": "stdout",
          "text": [
            "3\n",
            "6\n",
            "63\n"
          ]
        }
      ]
    },
    {
      "cell_type": "code",
      "source": [
        "x = 1 // 5 + 1 / 5\n",
        "print(x)"
      ],
      "metadata": {
        "id": "cvUQpPavjTYz",
        "outputId": "2ade576e-6234-49c4-dfaf-bf697c797427",
        "colab": {
          "base_uri": "https://localhost:8080/"
        }
      },
      "execution_count": 53,
      "outputs": [
        {
          "output_type": "stream",
          "name": "stdout",
          "text": [
            "0.2\n"
          ]
        }
      ]
    },
    {
      "cell_type": "code",
      "source": [
        "my_tuple[1] = my_tuple[1] + my_tuple[0]\n"
      ],
      "metadata": {
        "id": "IYCD_KRwiCVu",
        "outputId": "70581786-efe0-4f16-862e-289ed31d35e6",
        "colab": {
          "base_uri": "https://localhost:8080/",
          "height": 165
        }
      },
      "execution_count": 54,
      "outputs": [
        {
          "output_type": "error",
          "ename": "NameError",
          "evalue": "ignored",
          "traceback": [
            "\u001b[0;31m---------------------------------------------------------------------------\u001b[0m",
            "\u001b[0;31mNameError\u001b[0m                                 Traceback (most recent call last)",
            "\u001b[0;32m<ipython-input-54-c6c2e0fca9eb>\u001b[0m in \u001b[0;36m<cell line: 1>\u001b[0;34m()\u001b[0m\n\u001b[0;32m----> 1\u001b[0;31m \u001b[0mmy_tuple\u001b[0m\u001b[0;34m[\u001b[0m\u001b[0;36m1\u001b[0m\u001b[0;34m]\u001b[0m \u001b[0;34m=\u001b[0m \u001b[0mmy_tuple\u001b[0m\u001b[0;34m[\u001b[0m\u001b[0;36m1\u001b[0m\u001b[0;34m]\u001b[0m \u001b[0;34m+\u001b[0m \u001b[0mmy_tuple\u001b[0m\u001b[0;34m[\u001b[0m\u001b[0;36m0\u001b[0m\u001b[0;34m]\u001b[0m\u001b[0;34m\u001b[0m\u001b[0;34m\u001b[0m\u001b[0m\n\u001b[0m",
            "\u001b[0;31mNameError\u001b[0m: name 'my_tuple' is not defined"
          ]
        }
      ]
    },
    {
      "cell_type": "code",
      "source": [
        "x = float(input())\n",
        "y = float(input())\n",
        "print(y ** (1 / x))\n",
        " "
      ],
      "metadata": {
        "id": "rLgRnbaPiCTA",
        "outputId": "64ed8a99-323a-4379-ee0c-be7193f990e5",
        "colab": {
          "base_uri": "https://localhost:8080/"
        }
      },
      "execution_count": 55,
      "outputs": [
        {
          "output_type": "stream",
          "name": "stdout",
          "text": [
            "2\n",
            "4\n",
            "2.0\n"
          ]
        }
      ]
    },
    {
      "cell_type": "code",
      "source": [
        "try:\n",
        "    print(5/0)\n",
        "    break\n",
        "except:\n",
        "    print(\"Sorry, something went wrong...\")\n",
        "except (ValueError, ZeroDivisionError):\n",
        "    print(\"Too bad...\")"
      ],
      "metadata": {
        "id": "PtbTsTO5nPeR",
        "outputId": "df849cf7-c3fc-4fad-b068-32fe55b75a8e",
        "colab": {
          "base_uri": "https://localhost:8080/",
          "height": 130
        }
      },
      "execution_count": 56,
      "outputs": [
        {
          "output_type": "error",
          "ename": "SyntaxError",
          "evalue": "ignored",
          "traceback": [
            "\u001b[0;36m  File \u001b[0;32m\"<ipython-input-56-02ccb526213d>\"\u001b[0;36m, line \u001b[0;32m3\u001b[0m\n\u001b[0;31m    break\u001b[0m\n\u001b[0m    ^\u001b[0m\n\u001b[0;31mSyntaxError\u001b[0m\u001b[0;31m:\u001b[0m 'break' outside loop\n"
          ]
        }
      ]
    },
    {
      "cell_type": "code",
      "source": [
        "print(Hello, World!)"
      ],
      "metadata": {
        "id": "7dGaN6nJnPZr",
        "outputId": "b7745c83-26da-4306-ee31-6ad9de19fb09",
        "colab": {
          "base_uri": "https://localhost:8080/",
          "height": 130
        }
      },
      "execution_count": 57,
      "outputs": [
        {
          "output_type": "error",
          "ename": "SyntaxError",
          "evalue": "ignored",
          "traceback": [
            "\u001b[0;36m  File \u001b[0;32m\"<ipython-input-57-0eb003ed9968>\"\u001b[0;36m, line \u001b[0;32m1\u001b[0m\n\u001b[0;31m    print(Hello, World!)\u001b[0m\n\u001b[0m                      ^\u001b[0m\n\u001b[0;31mSyntaxError\u001b[0m\u001b[0;31m:\u001b[0m invalid syntax\n"
          ]
        }
      ]
    },
    {
      "cell_type": "code",
      "source": [],
      "metadata": {
        "id": "JITSdBx5nPTw"
      },
      "execution_count": null,
      "outputs": []
    },
    {
      "cell_type": "code",
      "source": [],
      "metadata": {
        "id": "myCx7IJWnPRG"
      },
      "execution_count": null,
      "outputs": []
    },
    {
      "cell_type": "code",
      "source": [],
      "metadata": {
        "id": "LGM4iuLXiCQa"
      },
      "execution_count": null,
      "outputs": []
    },
    {
      "cell_type": "code",
      "source": [],
      "metadata": {
        "id": "5-zdeNfuiCMI"
      },
      "execution_count": null,
      "outputs": []
    },
    {
      "cell_type": "code",
      "source": [
        "my_tup = (1, 2, 3)\n",
        "print(my_tup[2])"
      ],
      "metadata": {
        "colab": {
          "base_uri": "https://localhost:8080/"
        },
        "id": "T_nl6sBYa0EM",
        "outputId": "6b1d8beb-9de4-4355-e0f9-a3f9ad836555"
      },
      "execution_count": null,
      "outputs": [
        {
          "output_type": "stream",
          "name": "stdout",
          "text": [
            "3\n"
          ]
        }
      ]
    },
    {
      "cell_type": "code",
      "source": [
        "tup = 1, 2, 3\n",
        "a, b, c = tup\n",
        " \n",
        "print(a * b * c)"
      ],
      "metadata": {
        "colab": {
          "base_uri": "https://localhost:8080/"
        },
        "id": "h7nOtctia82w",
        "outputId": "22ad490a-d5ac-4711-89be-6ef1524ec0c7"
      },
      "execution_count": null,
      "outputs": [
        {
          "output_type": "stream",
          "name": "stdout",
          "text": [
            "6\n"
          ]
        }
      ]
    },
    {
      "cell_type": "code",
      "source": [
        "tup = 1, 2, 3, 2, 4, 5, 6, 2, 7, 2, 8, 9\n",
        "tup = 1, 2, 3, 2, 4, 5, 6, 2, 7, 2, 8, 9\n",
        "duplicados = tup.count(2)\n",
        "\n",
        "imprimir (duplicados) # salidas: 4\n",
        "\n",
        "\n",
        "\n",
        "\n",
        "\n",
        "\n",
        " # Write your code here.\n",
        " \n",
        "print(duplicates) # outputs: 4"
      ],
      "metadata": {
        "colab": {
          "base_uri": "https://localhost:8080/",
          "height": 235
        },
        "id": "AOXx4hRBbWFR",
        "outputId": "d1bb1eac-a8d7-44c2-8256-5f75854f2fcc"
      },
      "execution_count": null,
      "outputs": [
        {
          "output_type": "error",
          "ename": "NameError",
          "evalue": "ignored",
          "traceback": [
            "\u001b[0;31m---------------------------------------------------------------------------\u001b[0m",
            "\u001b[0;31mNameError\u001b[0m                                 Traceback (most recent call last)",
            "\u001b[0;32m<ipython-input-8-319426269853>\u001b[0m in \u001b[0;36m<cell line: 5>\u001b[0;34m()\u001b[0m\n\u001b[1;32m      3\u001b[0m \u001b[0mduplicados\u001b[0m \u001b[0;34m=\u001b[0m \u001b[0mtup\u001b[0m\u001b[0;34m.\u001b[0m\u001b[0mcount\u001b[0m\u001b[0;34m(\u001b[0m\u001b[0;36m2\u001b[0m\u001b[0;34m)\u001b[0m\u001b[0;34m\u001b[0m\u001b[0;34m\u001b[0m\u001b[0m\n\u001b[1;32m      4\u001b[0m \u001b[0;34m\u001b[0m\u001b[0m\n\u001b[0;32m----> 5\u001b[0;31m \u001b[0mimprimir\u001b[0m \u001b[0;34m(\u001b[0m\u001b[0mduplicados\u001b[0m\u001b[0;34m)\u001b[0m \u001b[0;31m# salidas: 4\u001b[0m\u001b[0;34m\u001b[0m\u001b[0;34m\u001b[0m\u001b[0m\n\u001b[0m\u001b[1;32m      6\u001b[0m \u001b[0;34m\u001b[0m\u001b[0m\n\u001b[1;32m      7\u001b[0m \u001b[0;34m\u001b[0m\u001b[0m\n",
            "\u001b[0;31mNameError\u001b[0m: name 'imprimir' is not defined"
          ]
        }
      ]
    },
    {
      "cell_type": "code",
      "execution_count": null,
      "metadata": {
        "colab": {
          "base_uri": "https://localhost:8080/"
        },
        "id": "Vja3bPUtBsW_",
        "outputId": "e501ca5a-ba8d-43f0-9a83-1480079add86"
      },
      "outputs": [
        {
          "output_type": "stream",
          "name": "stdout",
          "text": [
            "9\n"
          ]
        }
      ],
      "source": [
        "def fun(x, y, z):\n",
        "    return x + 2 * y + 3 * z\n",
        " \n",
        " \n",
        "print(fun(0, z=1, y=3))\n",
        " "
      ]
    },
    {
      "cell_type": "code",
      "source": [],
      "metadata": {
        "id": "Qob2XgCrazH9"
      },
      "execution_count": null,
      "outputs": []
    },
    {
      "cell_type": "code",
      "source": [
        "# Proyecto final mostrado en el python latam "
      ],
      "metadata": {
        "id": "MWArHA0VW5lP"
      },
      "execution_count": null,
      "outputs": []
    },
    {
      "cell_type": "code",
      "source": [
        "from random import randrange\n",
        "\n",
        "\n",
        "def display_board(board):\n",
        "\tprint(\"+-------\" * 3,\"+\", sep=\"\")\n",
        "\tfor row in range(3):\n",
        "\t\tprint(\"|       \" * 3,\"|\", sep=\"\")\n",
        "\t\tfor col in range(3):\n",
        "\t\t\tprint(\"|   \" + str(board[row][col]) + \"   \", end=\"\")\n",
        "\t\tprint(\"|\")\n",
        "\t\tprint(\"|       \" * 3,\"|\",sep=\"\")\n",
        "\t\tprint(\"+-------\" * 3,\"+\",sep=\"\")\n",
        "\n",
        "\n",
        "def enter_move(board):\n",
        "\tok = False\t# fake assumption - we need it to enter the loop\n",
        "\twhile not ok:\n",
        "\t\tmove = input(\"Enter your move: \") \n",
        "\t\tok = len(move) == 1 and move >= '1' and move <= '9' # is user's input valid?\n",
        "\t\tif not ok:\n",
        "\t\t\tprint(\"Bad move - repeat your input!\") # no, it isn't - do the input again\n",
        "\t\t\tcontinue\n",
        "\t\tmove = int(move) - 1 \t# cell's number from 0 to 8\n",
        "\t\trow = move // 3 \t# cell's row\n",
        "\t\tcol = move % 3\t\t# cell's column\n",
        "\t\tsign = board[row][col]\t# check the selected square\n",
        "\t\tok = sign not in ['O','X'] \n",
        "\t\tif not ok:\t# it's occupied - to the input again\n",
        "\t\t\tprint(\"Field already occupied - repeat your input!\")\n",
        "\t\t\tcontinue\n",
        "\tboard[row][col] = 'O' \t# set '0' at the selected square\n",
        "\n",
        "\n",
        "def make_list_of_free_fields(board):\n",
        "\tfree = []\t# the list is empty initially\n",
        "\tfor row in range(3): # iterate through rows\n",
        "\t\tfor col in range(3): # iterate through columns\n",
        "\t\t\tif board[row][col] not in ['O','X']: # is the cell free?\n",
        "\t\t\t\tfree.append((row,col)) # yes, it is - append new tuple to the list\n",
        "\treturn free\n",
        "\n",
        "\n",
        "def victory_for(board,sgn):\n",
        "\tif sgn == \"X\":\t# are we looking for X?\n",
        "\t\twho = 'me'\t# yes - it's computer's side\n",
        "\telif sgn == \"O\": # ... or for O?\n",
        "\t\twho = 'you'\t# yes - it's our side\n",
        "\telse:\n",
        "\t\twho = None\t# we should not fall here!\n",
        "\tcross1 = cross2 = True  # for diagonals\n",
        "\tfor rc in range(3):\n",
        "\t\tif board[rc][0] == sgn and board[rc][1] == sgn and board[rc][2] == sgn:\t# check row rc\n",
        "\t\t\treturn who\n",
        "\t\tif board[0][rc] == sgn and board[1][rc] == sgn and board[2][rc] == sgn: # check column rc\n",
        "\t\t\treturn who\n",
        "\t\tif board[rc][rc] != sgn: # check 1st diagonal\n",
        "\t\t\tcross1 = False\n",
        "\t\tif board[2 - rc][2 - rc] != sgn: # check 2nd diagonal\n",
        "\t\t\tcross2 = False\n",
        "\tif cross1 or cross2:\n",
        "\t\treturn who\n",
        "\treturn None\n",
        "\n",
        "\n",
        "def draw_move(board):\n",
        "\tfree = make_list_of_free_fields(board) # make a list of free fields\n",
        "\tcnt = len(free)\n",
        "\tif cnt > 0:\t# if the list is not empty, choose a place for 'X' and set it\n",
        "\t\tthis = randrange(cnt)\n",
        "\t\trow, col = free[this]\n",
        "\t\tboard[row][col] = 'X'\n",
        "\n",
        "\n",
        "board = [ [3 * j + i + 1 for i in range(3)] for j in range(3) ] # make an empty board\n",
        "board[1][1] = 'X' # set first 'X' in the middle\n",
        "free = make_list_of_free_fields(board)\n",
        "human_turn = True # which turn is it now?\n",
        "while len(free):\n",
        "\tdisplay_board(board)\n",
        "\tif human_turn:\n",
        "\t\tenter_move(board)\n",
        "\t\tvictor = victory_for(board,'O')\n",
        "\telse:\t\n",
        "\t\tdraw_move(board)\n",
        "\t\tvictor = victory_for(board,'X')\n",
        "\tif victor != None:\n",
        "\t\tbreak\n",
        "\thuman_turn = not human_turn\t\t\n",
        "\tfree = make_list_of_free_fields(board)\n",
        "\n",
        "display_board(board)\n",
        "if victor == 'you':\n",
        "\tprint(\"You won!\")\n",
        "elif victor == 'me':\n",
        "\tprint(\"I won\")\n",
        "else:\n",
        "\tprint(\"Tie!\")"
      ],
      "metadata": {
        "colab": {
          "base_uri": "https://localhost:8080/"
        },
        "id": "lja5ImlADCnA",
        "outputId": "bd3a1ac6-fca4-4f6d-cdef-80a7bcdc9188"
      },
      "execution_count": null,
      "outputs": [
        {
          "output_type": "stream",
          "name": "stdout",
          "text": [
            "+-------+-------+-------+\n",
            "|       |       |       |\n",
            "|   1   |   2   |   3   |\n",
            "|       |       |       |\n",
            "+-------+-------+-------+\n",
            "|       |       |       |\n",
            "|   4   |   X   |   6   |\n",
            "|       |       |       |\n",
            "+-------+-------+-------+\n",
            "|       |       |       |\n",
            "|   7   |   8   |   9   |\n",
            "|       |       |       |\n",
            "+-------+-------+-------+\n",
            "Enter your move: 8\n",
            "+-------+-------+-------+\n",
            "|       |       |       |\n",
            "|   1   |   2   |   3   |\n",
            "|       |       |       |\n",
            "+-------+-------+-------+\n",
            "|       |       |       |\n",
            "|   4   |   X   |   6   |\n",
            "|       |       |       |\n",
            "+-------+-------+-------+\n",
            "|       |       |       |\n",
            "|   7   |   O   |   9   |\n",
            "|       |       |       |\n",
            "+-------+-------+-------+\n",
            "+-------+-------+-------+\n",
            "|       |       |       |\n",
            "|   1   |   2   |   3   |\n",
            "|       |       |       |\n",
            "+-------+-------+-------+\n",
            "|       |       |       |\n",
            "|   X   |   X   |   6   |\n",
            "|       |       |       |\n",
            "+-------+-------+-------+\n",
            "|       |       |       |\n",
            "|   7   |   O   |   9   |\n",
            "|       |       |       |\n",
            "+-------+-------+-------+\n",
            "Enter your move: 2\n",
            "+-------+-------+-------+\n",
            "|       |       |       |\n",
            "|   1   |   O   |   3   |\n",
            "|       |       |       |\n",
            "+-------+-------+-------+\n",
            "|       |       |       |\n",
            "|   X   |   X   |   6   |\n",
            "|       |       |       |\n",
            "+-------+-------+-------+\n",
            "|       |       |       |\n",
            "|   7   |   O   |   9   |\n",
            "|       |       |       |\n",
            "+-------+-------+-------+\n",
            "+-------+-------+-------+\n",
            "|       |       |       |\n",
            "|   X   |   O   |   3   |\n",
            "|       |       |       |\n",
            "+-------+-------+-------+\n",
            "|       |       |       |\n",
            "|   X   |   X   |   6   |\n",
            "|       |       |       |\n",
            "+-------+-------+-------+\n",
            "|       |       |       |\n",
            "|   7   |   O   |   9   |\n",
            "|       |       |       |\n",
            "+-------+-------+-------+\n",
            "Enter your move: 1\n",
            "Field already occupied - repeat your input!\n",
            "Enter your move: 4\n",
            "Field already occupied - repeat your input!\n",
            "Enter your move: 8\n",
            "Field already occupied - repeat your input!\n",
            "Enter your move: 3\n",
            "+-------+-------+-------+\n",
            "|       |       |       |\n",
            "|   X   |   O   |   O   |\n",
            "|       |       |       |\n",
            "+-------+-------+-------+\n",
            "|       |       |       |\n",
            "|   X   |   X   |   6   |\n",
            "|       |       |       |\n",
            "+-------+-------+-------+\n",
            "|       |       |       |\n",
            "|   7   |   O   |   9   |\n",
            "|       |       |       |\n",
            "+-------+-------+-------+\n",
            "+-------+-------+-------+\n",
            "|       |       |       |\n",
            "|   X   |   O   |   O   |\n",
            "|       |       |       |\n",
            "+-------+-------+-------+\n",
            "|       |       |       |\n",
            "|   X   |   X   |   6   |\n",
            "|       |       |       |\n",
            "+-------+-------+-------+\n",
            "|       |       |       |\n",
            "|   X   |   O   |   9   |\n",
            "|       |       |       |\n",
            "+-------+-------+-------+\n",
            "I won\n"
          ]
        }
      ]
    },
    {
      "cell_type": "code",
      "source": [],
      "metadata": {
        "id": "kJZ5YCgDDans"
      },
      "execution_count": null,
      "outputs": []
    },
    {
      "cell_type": "code",
      "source": [],
      "metadata": {
        "id": "wEukvlyjDalZ"
      },
      "execution_count": null,
      "outputs": []
    },
    {
      "cell_type": "code",
      "source": [],
      "metadata": {
        "id": "FsVS3y-bDajB"
      },
      "execution_count": null,
      "outputs": []
    },
    {
      "cell_type": "code",
      "source": [
        "Examen final\n",
        "Desplácese para comenzar  \n",
        "\n",
        "¡Bien hecho! Llegó al final del curso y completó un hito importante en su educación en programación Python.\n",
        "\n",
        "Ahora está preparado para asumir el último desafío, la prueba final , que lo ayudará a repasar la información más importante que ha leído y evaluar las habilidades y los conocimientos que ha adquirido a lo largo del curso.\n",
        "\n",
        "La prueba final se basa en lo que ha aprendido en todo el curso. Hay 35 preguntas en total, y debe obtener al menos un 70% para aprobar. ¡Buena suerte!\n",
        "\n",
        "Pregunta incompleta 1Pregunta 1\n",
        "Pregunta de opción múltiple\n",
        "¿Cuál es el resultado del siguiente fragmento?"
      ],
      "metadata": {
        "id": "gP5r5G6YDagY"
      },
      "execution_count": null,
      "outputs": []
    },
    {
      "cell_type": "code",
      "source": [
        "my_list = [1, 2]\n",
        " \n",
        "for v in range(2):\n",
        "    my_list.insert(-1, my_list[v])\n",
        " \n",
        "print(my_list)\n",
        " "
      ],
      "metadata": {
        "colab": {
          "base_uri": "https://localhost:8080/"
        },
        "id": "KPACAh7pDadm",
        "outputId": "bfdbf32e-8e45-45a5-f39a-444c59f56e23"
      },
      "execution_count": null,
      "outputs": [
        {
          "output_type": "stream",
          "name": "stdout",
          "text": [
            "[1, 1, 1, 2]\n"
          ]
        }
      ]
    },
    {
      "cell_type": "code",
      "source": [],
      "metadata": {
        "id": "rguot2neDaaO"
      },
      "execution_count": null,
      "outputs": []
    }
  ]
}