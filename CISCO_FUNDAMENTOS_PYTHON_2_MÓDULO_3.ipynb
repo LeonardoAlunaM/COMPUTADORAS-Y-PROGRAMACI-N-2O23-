{
  "nbformat": 4,
  "nbformat_minor": 0,
  "metadata": {
    "colab": {
      "provenance": [],
      "authorship_tag": "ABX9TyMvXsJf1oIG/YWm/jXJDClm",
      "include_colab_link": true
    },
    "kernelspec": {
      "name": "python3",
      "display_name": "Python 3"
    },
    "language_info": {
      "name": "python"
    }
  },
  "cells": [
    {
      "cell_type": "markdown",
      "metadata": {
        "id": "view-in-github",
        "colab_type": "text"
      },
      "source": [
        "<a href=\"https://colab.research.google.com/github/LeonardoAlunaM/COMPUTADORAS-Y-PROGRAMACI-N-2O23-/blob/main-COMPUTADORAS-Y-PROGTRAMACI%C3%93N-2023/CISCO_FUNDAMENTOS_PYTHON_2_M%C3%93DULO_3.ipynb\" target=\"_parent\"><img src=\"https://colab.research.google.com/assets/colab-badge.svg\" alt=\"Open In Colab\"/></a>"
      ]
    },
    {
      "cell_type": "markdown",
      "source": [
        "# Módulo 3: Programación orientada a objetos "
      ],
      "metadata": {
        "id": "zTogpZR6FZpk"
      }
    },
    {
      "cell_type": "markdown",
      "source": [
        "## 3.1 Sección 1 – Los fundamentos de la POO"
      ],
      "metadata": {
        "id": "6LThfSj7Fl6K"
      }
    },
    {
      "cell_type": "code",
      "execution_count": null,
      "metadata": {
        "id": "434qOzwmFPaj"
      },
      "outputs": [],
      "source": [
        "class TheSimplestClass:\n",
        "    pass\n",
        " "
      ]
    },
    {
      "cell_type": "markdown",
      "source": [
        "La definición comienza con la palabra clave reservada class. La palabra clave reservada es seguida por un identificador que le dará nombre a la clase (nota: no lo confundas con el nombre del objeto: estas son dos cosas diferentes).\n",
        "\n",
        "A continuación, se agregan dos puntos (:), como clases, como funciones, forman su propio bloque anidado. El contenido dentro del bloque define todas las propiedades y actividades de la clase.\n",
        "\n",
        "La palabra clave reservada pass llena la clase con nada. No contiene ningún método ni propiedades."
      ],
      "metadata": {
        "id": "OEt9CRqydcvr"
      }
    },
    {
      "cell_type": "code",
      "source": [
        "# Creación del primer objeto\n",
        "my_first_object = TheSimplestClass()"
      ],
      "metadata": {
        "id": "Vcgp2uwjdqiV"
      },
      "execution_count": null,
      "outputs": []
    },
    {
      "cell_type": "markdown",
      "source": [
        "Nota:\n",
        "\n",
        "El nombre de la clase intenta fingir que es una función, ¿puedes ver esto? Lo discutiremos pronto.\n",
        "El objeto recién creado está equipado con todo lo que trae la clase. Como esta clase está completamente vacía, el objeto también está vacío.\n",
        "El acto de crear un objeto de la clase seleccionada también se llama instanciación (ya que el objeto se convierte en una instancia de la clase).\n",
        "\n",
        "Dejemos las clases en paz por un breve momento, ya que ahora diremos algunas palabras sobre pilas. Sabemos que el concepto de clases y objetos puede no estar completamente claro todavía. No te preocupes, te explicaremos todo muy pronto."
      ],
      "metadata": {
        "id": "cu7AXiazeTiN"
      }
    },
    {
      "cell_type": "code",
      "source": [
        "# 4. Para definir una clase de Python, se necesita usar la palabra clave reservada class. Por ejemplo:\n",
        "\n",
        "\n",
        "class This_Is_A_Class:\n",
        "    pass"
      ],
      "metadata": {
        "id": "7YwoLM0hdqgH"
      },
      "execution_count": null,
      "outputs": []
    },
    {
      "cell_type": "code",
      "source": [
        "# 5. Para crear un objeto de la clase previamente definida, se necesita usar la clase como si fuera una función. Por ejemplo:\n",
        "\n",
        "\n",
        "this_is_an_object = This_Is_A_Class()"
      ],
      "metadata": {
        "id": "oNgz1bnZdqeI"
      },
      "execution_count": null,
      "outputs": []
    },
    {
      "cell_type": "markdown",
      "source": [
        "# 3.2 Sección 2 – Un corto viaje desde el enfoque procedimental hacia el orientado a objetos"
      ],
      "metadata": {
        "id": "_Y14LIhDfIZ5"
      }
    },
    {
      "cell_type": "code",
      "source": [
        "stack = []"
      ],
      "metadata": {
        "id": "fqovSpavdqbt"
      },
      "execution_count": null,
      "outputs": []
    },
    {
      "cell_type": "markdown",
      "source": [
        "Estamos listos para definir una función que coloca un valor en la pila. Aquí están las presuposiciones para ello:\n",
        "\n",
        "* El nombre para la función es push.\n",
        "* La función obtiene un parámetro (este es el valor que se debe colocar en la pila).\n",
        "* La función no retorna nada.\n",
        "* La función agrega el valor del parámetro al final de la pila.\n",
        "\n",
        "\n",
        "Así es como lo hemos hecho, echa un vistazo:"
      ],
      "metadata": {
        "id": "mYA3xhm3iN8I"
      }
    },
    {
      "cell_type": "code",
      "source": [
        "def push(val):\n",
        "    stack.append(val)\n",
        " "
      ],
      "metadata": {
        "id": "t0zUIulgdqZk"
      },
      "execution_count": null,
      "outputs": []
    },
    {
      "cell_type": "markdown",
      "source": [
        "Ahora es tiempo de que una función quite un valor de la pila. Así es como puedes hacerlo:\n",
        "\n",
        "* El nombre de la función es pop.\n",
        "* La función no obtiene ningún parámetro.\n",
        "* La función devuelve el valor tomado de la pila.\n",
        "* La función lee el valor de la parte superior de la pila y lo elimina.\n",
        "\n",
        "\n",
        "La función esta aqui:"
      ],
      "metadata": {
        "id": "-Mc3tJX_iYFD"
      }
    },
    {
      "cell_type": "code",
      "source": [
        "def pop():\n",
        "    val = stack[-1]\n",
        "    del stack[-1]\n",
        "    return val"
      ],
      "metadata": {
        "id": "wg5L59l7dqXm"
      },
      "execution_count": null,
      "outputs": []
    },
    {
      "cell_type": "markdown",
      "source": [
        "Nota: la función no verifica si hay algún elemento en la pila.\n",
        "\n",
        "Armemos todas las piezas juntas para poner la pila en movimiento. El programa completo empuja (push) tres números a la pila, los saca e imprime sus valores en pantalla. Puedes verlo en la ventana del editor."
      ],
      "metadata": {
        "id": "BpNui3Lri91C"
      }
    },
    {
      "cell_type": "code",
      "source": [
        "stack = []\n",
        "\n",
        "def push(val):\n",
        "    stack.append(val)\n",
        "\n",
        "def pop():\n",
        "    val = stack[-1]\n",
        "    del stack[-1]\n",
        "    return val\n",
        "\n",
        "push(3)\n",
        "push(2)\n",
        "push(1)\n",
        "\n",
        "print(pop())\n",
        "print(pop())\n",
        "print(pop())"
      ],
      "metadata": {
        "colab": {
          "base_uri": "https://localhost:8080/"
        },
        "id": "6JywZ9HqdqV7",
        "outputId": "3e75a03a-bbdc-4e81-a985-dd5519bf4cd7"
      },
      "execution_count": null,
      "outputs": [
        {
          "output_type": "stream",
          "name": "stdout",
          "text": [
            "1\n",
            "2\n",
            "3\n"
          ]
        }
      ]
    },
    {
      "cell_type": "code",
      "source": [
        "# Pila creada con el enfoque de la programación orientada a objetos \n",
        "\n",
        "stack[0] = 0\n",
        " "
      ],
      "metadata": {
        "id": "d8bri_5ndqTj"
      },
      "execution_count": null,
      "outputs": []
    },
    {
      "cell_type": "code",
      "source": [
        "class Stack:"
      ],
      "metadata": {
        "colab": {
          "base_uri": "https://localhost:8080/",
          "height": 130
        },
        "id": "LY68fLAVdqQ2",
        "outputId": "bae97818-ce6f-4620-cec3-6012246b88e5"
      },
      "execution_count": null,
      "outputs": [
        {
          "output_type": "error",
          "ename": "SyntaxError",
          "evalue": "ignored",
          "traceback": [
            "\u001b[0;36m  File \u001b[0;32m\"<ipython-input-7-0d761e433961>\"\u001b[0;36m, line \u001b[0;32m1\u001b[0m\n\u001b[0;31m    class Stack:\u001b[0m\n\u001b[0m                ^\u001b[0m\n\u001b[0;31mSyntaxError\u001b[0m\u001b[0;31m:\u001b[0m incomplete input\n"
          ]
        }
      ]
    },
    {
      "cell_type": "code",
      "source": [
        "class Stack:\n",
        "    def __init__ (self):\n",
        "        print(\"¡Hola!\")\n",
        " \n",
        " \n",
        "stack_object = Stack()"
      ],
      "metadata": {
        "colab": {
          "base_uri": "https://localhost:8080/"
        },
        "id": "kFtUBYvpdqOr",
        "outputId": "d8eea94d-6ef4-4059-874f-15605bc28a0f"
      },
      "execution_count": null,
      "outputs": [
        {
          "output_type": "stream",
          "name": "stdout",
          "text": [
            "¡Hola!\n"
          ]
        }
      ]
    },
    {
      "cell_type": "code",
      "source": [
        "# Código explicado debidamente \n",
        "class Stack:  # Definiendo la clase Stack.\n",
        "    def __init__(self):  # Definiendo la función del constructor.\n",
        "        print(\"¡Hola!\")\n",
        "\n",
        "\n",
        "stack_object = Stack()  # Instanciando el objeto.\n",
        "    "
      ],
      "metadata": {
        "colab": {
          "base_uri": "https://localhost:8080/"
        },
        "id": "3cEG1oVNdqMt",
        "outputId": "eaccf260-7a39-40b3-9fc8-a9be8b8f304a"
      },
      "execution_count": null,
      "outputs": [
        {
          "output_type": "stream",
          "name": "stdout",
          "text": [
            "¡Hola!\n"
          ]
        }
      ]
    },
    {
      "cell_type": "code",
      "source": [
        "class Stack:\n",
        "    def __init__(self):\n",
        "        self.stack_list = []\n",
        "\n",
        "\n",
        "stack_object = Stack()\n",
        "print(len(stack_object.stack_list))\n",
        "    "
      ],
      "metadata": {
        "colab": {
          "base_uri": "https://localhost:8080/"
        },
        "id": "pPWRqrXudqKW",
        "outputId": "6c7ecf1a-5c9d-4119-ea55-4272da974e39"
      },
      "execution_count": null,
      "outputs": [
        {
          "output_type": "stream",
          "name": "stdout",
          "text": [
            "0\n"
          ]
        }
      ]
    },
    {
      "cell_type": "code",
      "source": [
        "class Stack:\n",
        "    def __init__(self):\n",
        "        self.__stack_list = []\n",
        "\n",
        "\n",
        "stack_object = Stack()\n",
        "print(len(stack_object.__stack_list))\n",
        "    "
      ],
      "metadata": {
        "colab": {
          "base_uri": "https://localhost:8080/",
          "height": 217
        },
        "id": "iJY1gvvndqIQ",
        "outputId": "6b855d79-b324-4f85-ef37-247602387229"
      },
      "execution_count": null,
      "outputs": [
        {
          "output_type": "error",
          "ename": "AttributeError",
          "evalue": "ignored",
          "traceback": [
            "\u001b[0;31m---------------------------------------------------------------------------\u001b[0m",
            "\u001b[0;31mAttributeError\u001b[0m                            Traceback (most recent call last)",
            "\u001b[0;32m<ipython-input-11-c3d515de54b9>\u001b[0m in \u001b[0;36m<cell line: 7>\u001b[0;34m()\u001b[0m\n\u001b[1;32m      5\u001b[0m \u001b[0;34m\u001b[0m\u001b[0m\n\u001b[1;32m      6\u001b[0m \u001b[0mstack_object\u001b[0m \u001b[0;34m=\u001b[0m \u001b[0mStack\u001b[0m\u001b[0;34m(\u001b[0m\u001b[0;34m)\u001b[0m\u001b[0;34m\u001b[0m\u001b[0;34m\u001b[0m\u001b[0m\n\u001b[0;32m----> 7\u001b[0;31m \u001b[0mprint\u001b[0m\u001b[0;34m(\u001b[0m\u001b[0mlen\u001b[0m\u001b[0;34m(\u001b[0m\u001b[0mstack_object\u001b[0m\u001b[0;34m.\u001b[0m\u001b[0m__stack_list\u001b[0m\u001b[0;34m)\u001b[0m\u001b[0;34m)\u001b[0m\u001b[0;34m\u001b[0m\u001b[0;34m\u001b[0m\u001b[0m\n\u001b[0m\u001b[1;32m      8\u001b[0m \u001b[0;34m\u001b[0m\u001b[0m\n",
            "\u001b[0;31mAttributeError\u001b[0m: 'Stack' object has no attribute '__stack_list'"
          ]
        }
      ]
    },
    {
      "cell_type": "code",
      "source": [
        "class Stack:\n",
        "    def __init__(self):\n",
        "        self.__stack_list = []\n",
        "\n",
        "\n",
        "    def push(self, val):\n",
        "        self.__stack_list.append(val)\n",
        "\n",
        "\n",
        "    def pop(self):\n",
        "        val = self.__stack_list[-1]\n",
        "        del self.__stack_list[-1]\n",
        "        return val\n",
        "\n",
        "\n",
        "stack_object = Stack()\n",
        "\n",
        "stack_object.push(3)\n",
        "stack_object.push(2)\n",
        "stack_object.push(1)\n",
        "\n",
        "print(stack_object.pop())\n",
        "print(stack_object.pop())\n",
        "print(stack_object.pop())"
      ],
      "metadata": {
        "colab": {
          "base_uri": "https://localhost:8080/"
        },
        "id": "1JoJN7oKdqGH",
        "outputId": "833911a3-64c4-472f-e25c-83e1377714ba"
      },
      "execution_count": null,
      "outputs": [
        {
          "output_type": "stream",
          "name": "stdout",
          "text": [
            "1\n",
            "2\n",
            "3\n"
          ]
        }
      ]
    },
    {
      "cell_type": "code",
      "source": [
        "class Stack:\n",
        "    def __init__(self):\n",
        "        self.__stack_list = []\n",
        "\n",
        "    def push(self, val):\n",
        "        self.__stack_list.append(val)\n",
        "\n",
        "    def pop(self):\n",
        "        val = self.__stack_list[-1]\n",
        "        del self.__stack_list[-1]\n",
        "        return val\n",
        "\n",
        "\n",
        "stack_object_1 = Stack()\n",
        "stack_object_2 = Stack()\n",
        "\n",
        "stack_object_1.push(3)\n",
        "stack_object_2.push(stack_object_1.pop())\n",
        "\n",
        "print(stack_object_2.pop())"
      ],
      "metadata": {
        "colab": {
          "base_uri": "https://localhost:8080/"
        },
        "id": "i8RXCEZddqEU",
        "outputId": "cbe088cf-645f-42f2-fbc3-99a9e8b4a190"
      },
      "execution_count": null,
      "outputs": [
        {
          "output_type": "stream",
          "name": "stdout",
          "text": [
            "3\n"
          ]
        }
      ]
    },
    {
      "cell_type": "code",
      "source": [
        "class Stack:\n",
        "    def __init__(self):\n",
        "        self.__stack_list = []\n",
        "\n",
        "    def push(self, val):\n",
        "        self.__stack_list.append(val)\n",
        "\n",
        "    def pop(self):\n",
        "        val = self.__stack_list[-1]\n",
        "        del self.__stack_list[-1]\n",
        "        return val\n",
        "\n",
        "\n",
        "little_stack = Stack()\n",
        "another_stack = Stack()\n",
        "funny_stack = Stack()\n",
        "\n",
        "little_stack.push(1)\n",
        "another_stack.push(little_stack.pop() + 1)\n",
        "funny_stack.push(another_stack.pop() - 2)\n",
        "\n",
        "print(funny_stack.pop())"
      ],
      "metadata": {
        "colab": {
          "base_uri": "https://localhost:8080/"
        },
        "id": "nMB0SBWmdqBx",
        "outputId": "492f45d8-c47d-4ce7-8637-dc08ff1fcb34"
      },
      "execution_count": null,
      "outputs": [
        {
          "output_type": "stream",
          "name": "stdout",
          "text": [
            "0\n"
          ]
        }
      ]
    },
    {
      "cell_type": "code",
      "source": [
        "class AddingStack(Stack):\n",
        "    pass"
      ],
      "metadata": {
        "id": "rPcj0Y2Udp_z"
      },
      "execution_count": null,
      "outputs": []
    },
    {
      "cell_type": "code",
      "source": [
        "class AddingStack(Stack):\n",
        "    def __init__(self):\n",
        "        Stack.__init__(self)\n",
        "        self.__sum = 0\n",
        " "
      ],
      "metadata": {
        "id": "meB4gTCBdp9k"
      },
      "execution_count": null,
      "outputs": []
    },
    {
      "cell_type": "code",
      "source": [
        "class Stack:\n",
        "    def __init__(self):\n",
        "        self.__stack_list = []\n",
        "\n",
        "    def push(self, val):\n",
        "        self.__stack_list.append(val)\n",
        "\n",
        "    def pop(self):\n",
        "        val = self.__stack_list[-1]\n",
        "        del self.__stack_list[-1]\n",
        "        return val\n",
        "\n",
        "\n",
        "class AddingStack(Stack):\n",
        "    def __init__(self):\n",
        "        Stack.__init__(self)\n",
        "        self.__sum = 0"
      ],
      "metadata": {
        "id": "N1w22H6Zdp7b"
      },
      "execution_count": null,
      "outputs": []
    },
    {
      "cell_type": "code",
      "source": [
        "def push(self, val):\n",
        "    self.__sum += val\n",
        "    Stack.push(self, val)"
      ],
      "metadata": {
        "id": "QF_2yLFyvIWr"
      },
      "execution_count": null,
      "outputs": []
    },
    {
      "cell_type": "code",
      "source": [
        "class Stack:\n",
        "    def __init__(self):\n",
        "        self.__stackList = []\n",
        "\n",
        "    def push(self, val):\n",
        "        self.__stackList.append(val)\n",
        "\n",
        "    def pop(self):\n",
        "        val = self.__stackList[-1]\n",
        "        del self.__stackList[-1]\n",
        "        return val\n",
        "\n",
        "\n",
        "class AddingStack(Stack):\n",
        "    def __init__(self):\n",
        "        Stack.__init__(self)\n",
        "        self.__sum = 0\n",
        "\n",
        "\n",
        "# Ingresar código aquí."
      ],
      "metadata": {
        "id": "EYllP3mWv_u0"
      },
      "execution_count": null,
      "outputs": []
    },
    {
      "cell_type": "code",
      "source": [
        "class Stack:\n",
        "    def __init__(self):\n",
        "        self.__stackList = []\n",
        "\n",
        "    def push(self, val):\n",
        "        self.__stackList.append(val)\n",
        "\n",
        "    def pop(self):\n",
        "        val = self.__stackList[-1]\n",
        "        del self.__stackList[-1]\n",
        "        return val\n",
        "\n",
        "\n",
        "class AddingStack(Stack):\n",
        "    def __init__(self):\n",
        "        Stack.__init__(self)\n",
        "        self.__sum = 0\n",
        "\n",
        "\n",
        "# Ingresar código aquí.\n",
        "    def push(self, val):\n",
        "        self.__sum += val\n",
        "        Stack.push(self, val)"
      ],
      "metadata": {
        "id": "6R6gokCYvIUC"
      },
      "execution_count": null,
      "outputs": []
    },
    {
      "cell_type": "code",
      "source": [
        "def get_sum(self):\n",
        "    return self.__sum\n",
        " "
      ],
      "metadata": {
        "id": "ewf0uLn7vISF"
      },
      "execution_count": null,
      "outputs": []
    },
    {
      "cell_type": "code",
      "source": [
        "class Stack:\n",
        "    def __init__(self):\n",
        "        self.__stack_list = []\n",
        "\n",
        "    def push(self, val):\n",
        "        self.__stack_list.append(val)\n",
        "\n",
        "    def pop(self):\n",
        "        val = self.__stack_list[-1]\n",
        "        del self.__stack_list[-1]\n",
        "        return val\n",
        "\n",
        "\n",
        "class AddingStack(Stack):\n",
        "    def __init__(self):\n",
        "        Stack.__init__(self)\n",
        "        self.__sum = 0\n",
        "\n",
        "    def get_sum(self):\n",
        "        return self.__sum\n",
        "\n",
        "    def push(self, val):\n",
        "        self.__sum += val\n",
        "        Stack.push(self, val)\n",
        "\n",
        "    def pop(self):\n",
        "        val = Stack.pop(self)\n",
        "        self.__sum -= val\n",
        "        return val\n",
        "\n",
        "\n",
        "stack_object = AddingStack()\n",
        "\n",
        "for i in range(5):\n",
        "    stack_object.push(i)\n",
        "print(stack_object.get_sum())\n",
        "\n",
        "for i in range(5):\n",
        "    print(stack_object.pop())"
      ],
      "metadata": {
        "colab": {
          "base_uri": "https://localhost:8080/"
        },
        "id": "pk5llJi8vIPt",
        "outputId": "59d74c22-5dbd-47f9-f0bc-3d52df2e48b4"
      },
      "execution_count": null,
      "outputs": [
        {
          "output_type": "stream",
          "name": "stdout",
          "text": [
            "10\n",
            "4\n",
            "3\n",
            "2\n",
            "1\n",
            "0\n"
          ]
        }
      ]
    },
    {
      "cell_type": "code",
      "source": [
        "class Snakes:\n",
        "    def __init__(self):\n",
        "        self.__venomous = True\n",
        "\n"
      ],
      "metadata": {
        "id": "lb0HHh9YvINq"
      },
      "execution_count": null,
      "outputs": []
    },
    {
      "cell_type": "code",
      "source": [
        "class Stack:\n",
        "    def __init__(self):\n",
        "        self.__stk = []\n",
        "\n",
        "    def push(self, val):\n",
        "        self.__stk.append(val)\n",
        "\n",
        "    def pop(self):\n",
        "        val = self.__stk[-1]\n",
        "        del self.__stk[-1]\n",
        "        return val\n",
        "\n",
        "\n",
        "class CountingStack(Stack):\n",
        "    def __init__(self):\n",
        "    #\n",
        "    # Llena el constructor con acciones apropiadas.\n",
        "    #\n",
        "\n",
        "    def get_counter(self):\n",
        "    #\n",
        "    # Presenta el valor actual del contador al mundo.\n",
        "    #\n",
        "\n",
        "    def pop(self):\n",
        "    #\n",
        "    # Haz un pop y actualiza el contador.\n",
        "    #\n",
        "\t\n",
        "\n",
        "stk = CountingStack()\n",
        "for i in range(100):\n",
        "    stk.push(i)\n",
        "    stk.pop()\n",
        "print(stk.get_counter())"
      ],
      "metadata": {
        "id": "p_0ONjjPvILH"
      },
      "execution_count": null,
      "outputs": []
    },
    {
      "cell_type": "code",
      "source": [
        "class Stack:\n",
        "    def __init__(self):\n",
        "        self.__stk = []\n",
        "\n",
        "    def push(self, val):\n",
        "        self.__stk.append(val)\n",
        "\n",
        "    def pop(self):\n",
        "        val = self.__stk[-1]\n",
        "        del self.__stk[-1]\n",
        "        return val\n",
        "\n",
        "\n",
        "class CountingStack(Stack):\n",
        "    def __init__(self):\n",
        "        Stack.__init__(self)\n",
        "        self.__counter = 0\n",
        "\n",
        "    def get_counter(self):\n",
        "        return self.__counter\n",
        "\n",
        "    def pop(self):\n",
        "        self.__counter += 1\n",
        "        return Stack.pop(self)\n",
        "\n",
        "\n",
        "stk = CountingStack()\n",
        "for i in range(100):\n",
        "    stk.push(i)\n",
        "    stk.pop()\n",
        "print(stk.get_counter())"
      ],
      "metadata": {
        "colab": {
          "base_uri": "https://localhost:8080/"
        },
        "id": "QTj3ztOLvIGi",
        "outputId": "7563f348-9a33-4746-9a1b-f897daa4aab1"
      },
      "execution_count": null,
      "outputs": [
        {
          "output_type": "stream",
          "name": "stdout",
          "text": [
            "100\n"
          ]
        }
      ]
    },
    {
      "cell_type": "code",
      "source": [
        "class QueueError(???):  # Eligir la clase base para la nueva excepción.\n",
        "    #\n",
        "    #  Escribe el código aquí.\n",
        "    #\n",
        "\n",
        "\n",
        "class Queue:\n",
        "    def __init__(self):\n",
        "        #\n",
        "        # Escribe el código aquí.\n",
        "        #\n",
        "\n",
        "    def put(self, elem):\n",
        "        #\n",
        "        # Escribe el código aquí.\n",
        "        #\n",
        "\n",
        "    def get(self):\n",
        "        #\n",
        "        # Escribe el código aquí.\n",
        "        #\n",
        "\n",
        "\n",
        "que = Queue()\n",
        "que.put(1)\n",
        "que.put(\"perro\")\n",
        "que.put(False)\n",
        "try:\n",
        "    for i in range(4):\n",
        "        print(que.get())\n",
        "except:\n",
        "    print(\"Queue error\")"
      ],
      "metadata": {
        "colab": {
          "base_uri": "https://localhost:8080/",
          "height": 130
        },
        "id": "_Hd2J7uTvIEK",
        "outputId": "4490424c-6a16-4870-d8e4-69b0d86868ec"
      },
      "execution_count": null,
      "outputs": [
        {
          "output_type": "error",
          "ename": "SyntaxError",
          "evalue": "ignored",
          "traceback": [
            "\u001b[0;36m  File \u001b[0;32m\"<ipython-input-27-9ad3b2335497>\"\u001b[0;36m, line \u001b[0;32m1\u001b[0m\n\u001b[0;31m    class QueueError(???):  # Eligir la clase base para la nueva excepción.\u001b[0m\n\u001b[0m                     ^\u001b[0m\n\u001b[0;31mSyntaxError\u001b[0m\u001b[0;31m:\u001b[0m invalid syntax\n"
          ]
        }
      ]
    },
    {
      "cell_type": "code",
      "source": [
        "class QueueError(IndexError):\n",
        "    pass\n",
        "\n",
        "\n",
        "class Queue:\n",
        "    def __init__(self):\n",
        "        self.queue = []\n",
        "\n",
        "    def put(self, elem):\n",
        "        self.queue.insert(0, elem)\n",
        "\n",
        "    def get(self):\n",
        "        if len(self.queue) > 0:\n",
        "            elem = self.queue[-1]\n",
        "            del self.queue[-1]\n",
        "            return elem\n",
        "        else:\n",
        "            raise QueueError\n",
        "\n",
        "\n",
        "que = Queue()\n",
        "que.put(1)\n",
        "que.put(\"perro\")\n",
        "que.put(False)\n",
        "try:\n",
        "    for i in range(4):\n",
        "        print(que.get())\n",
        "except:\n",
        "    print(\"Queue error\")"
      ],
      "metadata": {
        "colab": {
          "base_uri": "https://localhost:8080/"
        },
        "id": "jdcQ4SJUvICI",
        "outputId": "c93fe613-84c3-4b7b-c574-e6661bc6ebdf"
      },
      "execution_count": null,
      "outputs": [
        {
          "output_type": "stream",
          "name": "stdout",
          "text": [
            "1\n",
            "perro\n",
            "False\n",
            "Queue error\n"
          ]
        }
      ]
    },
    {
      "cell_type": "markdown",
      "source": [
        "# 3.2.10   LAB   Colas alias FIFO: parte 2"
      ],
      "metadata": {
        "id": "sjwlSmEHz2Mn"
      }
    },
    {
      "cell_type": "code",
      "source": [
        "class QueueError(???):\n",
        "    pass\n",
        "\n",
        "\n",
        "class Queue:\n",
        "    #\n",
        "    # Código del laboratorio anterior.\n",
        "    #\n",
        "\n",
        "\n",
        "class SuperQueue(Queue):\n",
        "    #\n",
        "    # Escribe código nuevo aquí.\n",
        "    #\n",
        "\n",
        "\n",
        "que = SuperQueue()\n",
        "que.put(1)\n",
        "que.put(\"perro\")\n",
        "que.put(False)\n",
        "for i in range(4):\n",
        "    if not que.isempty():\n",
        "        print(que.get())\n",
        "    else:\n",
        "        print(\"Cola vacía\")"
      ],
      "metadata": {
        "id": "hGDDaV1gvH_z"
      },
      "execution_count": null,
      "outputs": []
    },
    {
      "cell_type": "code",
      "source": [
        "class QueueError(IndexError):\n",
        "    pass\n",
        "\n",
        "\n",
        "class Queue:\n",
        "    def __init__(self):\n",
        "        self.queue = []\n",
        "    def put(self,elem):\n",
        "        self.queue.insert(0,elem)\n",
        "    def get(self):\n",
        "        if len(self.queue) > 0:\n",
        "            elem = self.queue[-1]\n",
        "            del self.queue[-1]\n",
        "            return elem\n",
        "        else:\n",
        "            raise QueueError\n",
        "\n",
        "\n",
        "class SuperQueue(Queue):\n",
        "    def isempty(self):\n",
        "        return len(self.queue) == 0\n",
        "\n",
        "\n",
        "que = SuperQueue()\n",
        "que.put(1)\n",
        "que.put(\"perro\")\n",
        "que.put(False)\n",
        "for i in range(4):\n",
        "    if not que.isempty():\n",
        "        print(que.get())\n",
        "    else:\n",
        "        print(\"Cola vacía\")"
      ],
      "metadata": {
        "colab": {
          "base_uri": "https://localhost:8080/"
        },
        "id": "c5BgJDI5vH95",
        "outputId": "4a78d10d-5ee3-4998-952a-8bd18d5834cf"
      },
      "execution_count": null,
      "outputs": [
        {
          "output_type": "stream",
          "name": "stdout",
          "text": [
            "1\n",
            "perro\n",
            "False\n",
            "Cola vacía\n"
          ]
        }
      ]
    },
    {
      "cell_type": "markdown",
      "source": [
        "# 3.3 Sección 3 – POO: Propiedades"
      ],
      "metadata": {
        "id": "1VuROfX30lkS"
      }
    },
    {
      "cell_type": "code",
      "source": [
        "class ExampleClass:\n",
        "    def __init__(self, val = 1):\n",
        "        self.first = val\n",
        " \n",
        "    def set_second(self, val):\n",
        "        self.second = val\n",
        " \n",
        " \n",
        "example_object_1 = ExampleClass()\n",
        "example_object_2 = ExampleClass(2)\n",
        " \n",
        "example_object_2.set_second(3)\n",
        " \n",
        "example_object_3 = ExampleClass(4)\n",
        "example_object_3.third = 5\n",
        " \n",
        "print(example_object_1.__dict__)\n",
        "print(example_object_2.__dict__)\n",
        "print(example_object_3.__dict__)"
      ],
      "metadata": {
        "colab": {
          "base_uri": "https://localhost:8080/"
        },
        "id": "beHQDKtNvH7a",
        "outputId": "577f106c-3b7d-43d8-cb91-6452cd99c22d"
      },
      "execution_count": null,
      "outputs": [
        {
          "output_type": "stream",
          "name": "stdout",
          "text": [
            "{'first': 1}\n",
            "{'first': 2, 'second': 3}\n",
            "{'first': 4, 'third': 5}\n"
          ]
        }
      ]
    },
    {
      "cell_type": "code",
      "source": [
        "class ExampleClass:\n",
        "    def __init__(self, val = 1):\n",
        "        self.__first = val\n",
        "\n",
        "    def set_second(self, val = 2):\n",
        "        self.__second = val\n",
        "\n",
        "\n",
        "example_object_1 = ExampleClass()\n",
        "example_object_2 = ExampleClass(2)\n",
        "\n",
        "example_object_2.set_second(3)\n",
        "\n",
        "example_object_3 = ExampleClass(4)\n",
        "example_object_3.__third = 5\n",
        "\n",
        "\n",
        "print(example_object_1.__dict__)\n",
        "print(example_object_2.__dict__)\n",
        "print(example_object_3.__dict__)\n",
        "print(example_object_1._ExampleClass__first)"
      ],
      "metadata": {
        "colab": {
          "base_uri": "https://localhost:8080/"
        },
        "id": "w9mxyy0mvH55",
        "outputId": "d425ce06-a162-47dc-ccff-ba0eece25e7d"
      },
      "execution_count": null,
      "outputs": [
        {
          "output_type": "stream",
          "name": "stdout",
          "text": [
            "{'_ExampleClass__first': 1}\n",
            "{'_ExampleClass__first': 2, '_ExampleClass__second': 3}\n",
            "{'_ExampleClass__first': 4, '__third': 5}\n",
            "1\n"
          ]
        }
      ]
    },
    {
      "cell_type": "code",
      "source": [
        "print(example_object_1._ExampleClass__first)"
      ],
      "metadata": {
        "colab": {
          "base_uri": "https://localhost:8080/"
        },
        "id": "PtzQNWvQvH4S",
        "outputId": "a7a44f83-29c3-4af2-deb4-021d7810c2b5"
      },
      "execution_count": null,
      "outputs": [
        {
          "output_type": "stream",
          "name": "stdout",
          "text": [
            "1\n"
          ]
        }
      ]
    },
    {
      "cell_type": "markdown",
      "source": [
        "Obtendrás un resultado válido sin errores ni excepciones.\n",
        "\n",
        "Como puedes ver, hacer que una propiedad sea privada es limitado.\n",
        "\n",
        "No funcionará si agregas una variable de instancia fuera del código de la clase. En este caso, se comportará como cualquier otra propiedad ordinaria."
      ],
      "metadata": {
        "id": "af5b6Fmf_m8y"
      }
    },
    {
      "cell_type": "code",
      "source": [
        "class ExampleClass:\n",
        "    counter = 0\n",
        "    def __init__(self, val = 1):\n",
        "        self.__first = val\n",
        "        ExampleClass.counter += 1\n",
        " \n",
        " \n",
        "example_object_1 = ExampleClass()\n",
        "example_object_2 = ExampleClass(2)\n",
        "example_object_3 = ExampleClass(4)\n",
        " \n",
        "print(example_object_1.__dict__, example_object_1.counter)\n",
        "print(example_object_2.__dict__, example_object_2.counter)\n",
        "print(example_object_3.__dict__, example_object_3.counter)"
      ],
      "metadata": {
        "colab": {
          "base_uri": "https://localhost:8080/"
        },
        "id": "4UuhSKaQvH1f",
        "outputId": "d82733e1-539f-45bc-ed55-1d122e496484"
      },
      "execution_count": null,
      "outputs": [
        {
          "output_type": "stream",
          "name": "stdout",
          "text": [
            "{'_ExampleClass__first': 1} 3\n",
            "{'_ExampleClass__first': 2} 3\n",
            "{'_ExampleClass__first': 4} 3\n"
          ]
        }
      ]
    },
    {
      "cell_type": "code",
      "source": [
        "class ExampleClass:\n",
        "    varia = 1\n",
        "    def __init__(self, val):\n",
        "        ExampleClass.varia = val\n",
        "\n",
        "\n",
        "print(ExampleClass.__dict__)\n",
        "example_object = ExampleClass(2)\n",
        "\n",
        "print(ExampleClass.__dict__)\n",
        "print(example_object.__dict__)\n",
        "    "
      ],
      "metadata": {
        "colab": {
          "base_uri": "https://localhost:8080/"
        },
        "id": "ylY_HLpCvHy4",
        "outputId": "b9c86754-7c61-4cb0-91b9-5420944368e1"
      },
      "execution_count": null,
      "outputs": [
        {
          "output_type": "stream",
          "name": "stdout",
          "text": [
            "{'__module__': '__main__', 'varia': 1, '__init__': <function ExampleClass.__init__ at 0x7f244c783e20>, '__dict__': <attribute '__dict__' of 'ExampleClass' objects>, '__weakref__': <attribute '__weakref__' of 'ExampleClass' objects>, '__doc__': None}\n",
            "{'__module__': '__main__', 'varia': 2, '__init__': <function ExampleClass.__init__ at 0x7f244c783e20>, '__dict__': <attribute '__dict__' of 'ExampleClass' objects>, '__weakref__': <attribute '__weakref__' of 'ExampleClass' objects>, '__doc__': None}\n",
            "{}\n"
          ]
        }
      ]
    },
    {
      "cell_type": "code",
      "source": [
        "class ExampleClass:\n",
        "    def __init__(self, val):\n",
        "        if val % 2 != 0:\n",
        "            self.a = 1\n",
        "        else:\n",
        "            self.b = 1\n",
        "\n",
        "\n",
        "example_object = ExampleClass(1)\n",
        "\n",
        "print(example_object.a)\n",
        "print(example_object.b)\n",
        "    "
      ],
      "metadata": {
        "colab": {
          "base_uri": "https://localhost:8080/",
          "height": 235
        },
        "id": "CkbkqqBYKy-L",
        "outputId": "f44a2218-b7c5-4395-d1a5-80834adee0b7"
      },
      "execution_count": null,
      "outputs": [
        {
          "output_type": "stream",
          "name": "stdout",
          "text": [
            "1\n"
          ]
        },
        {
          "output_type": "error",
          "ename": "AttributeError",
          "evalue": "ignored",
          "traceback": [
            "\u001b[0;31m---------------------------------------------------------------------------\u001b[0m",
            "\u001b[0;31mAttributeError\u001b[0m                            Traceback (most recent call last)",
            "\u001b[0;32m<ipython-input-37-006973e8d4bb>\u001b[0m in \u001b[0;36m<cell line: 12>\u001b[0;34m()\u001b[0m\n\u001b[1;32m     10\u001b[0m \u001b[0;34m\u001b[0m\u001b[0m\n\u001b[1;32m     11\u001b[0m \u001b[0mprint\u001b[0m\u001b[0;34m(\u001b[0m\u001b[0mexample_object\u001b[0m\u001b[0;34m.\u001b[0m\u001b[0ma\u001b[0m\u001b[0;34m)\u001b[0m\u001b[0;34m\u001b[0m\u001b[0;34m\u001b[0m\u001b[0m\n\u001b[0;32m---> 12\u001b[0;31m \u001b[0mprint\u001b[0m\u001b[0;34m(\u001b[0m\u001b[0mexample_object\u001b[0m\u001b[0;34m.\u001b[0m\u001b[0mb\u001b[0m\u001b[0;34m)\u001b[0m\u001b[0;34m\u001b[0m\u001b[0;34m\u001b[0m\u001b[0m\n\u001b[0m\u001b[1;32m     13\u001b[0m \u001b[0;34m\u001b[0m\u001b[0m\n",
            "\u001b[0;31mAttributeError\u001b[0m: 'ExampleClass' object has no attribute 'b'"
          ]
        }
      ]
    },
    {
      "cell_type": "code",
      "source": [
        "class ExampleClass:\n",
        "    def __init__(self, val):\n",
        "        if val % 2 != 0:\n",
        "            self.a = 1\n",
        "        else:\n",
        "            self.b = 1\n",
        "\n",
        "\n",
        "example_object = ExampleClass(1)\n",
        "print(example_object.a)\n",
        "\n",
        "try:\n",
        "    print(example_object.b)\n",
        "except AttributeError:\n",
        "    pass"
      ],
      "metadata": {
        "colab": {
          "base_uri": "https://localhost:8080/"
        },
        "id": "xbFwJaClKy7d",
        "outputId": "3cbbf8fd-78ea-461e-91e8-52f0c322057a"
      },
      "execution_count": null,
      "outputs": [
        {
          "output_type": "stream",
          "name": "stdout",
          "text": [
            "1\n"
          ]
        }
      ]
    },
    {
      "cell_type": "code",
      "source": [
        "class ExampleClass:\n",
        "    def __init__(self, val):\n",
        "        if val % 2 != 0:\n",
        "            self.a = 1\n",
        "        else:\n",
        "            self.b = 1\n",
        " \n",
        " \n",
        "example_object = ExampleClass(1)\n",
        "print(example_object.a)\n",
        " \n",
        "if hasattr(example_object, 'b'):\n",
        "    print(example_object.b)\n",
        " "
      ],
      "metadata": {
        "colab": {
          "base_uri": "https://localhost:8080/"
        },
        "id": "P1bxMvxsKyxz",
        "outputId": "6220d6c9-bafb-425b-be1e-432db042d761"
      },
      "execution_count": null,
      "outputs": [
        {
          "output_type": "stream",
          "name": "stdout",
          "text": [
            "1\n"
          ]
        }
      ]
    },
    {
      "cell_type": "code",
      "source": [
        "class ExampleClass:\n",
        "    attr = 1\n",
        "\n",
        "\n",
        "print(hasattr(ExampleClass, 'attr'))\n",
        "print(hasattr(ExampleClass, 'prop'))\n",
        "    "
      ],
      "metadata": {
        "colab": {
          "base_uri": "https://localhost:8080/"
        },
        "id": "kFcRjAC0KyvP",
        "outputId": "71d0f3b6-e3ef-4ed3-d2f8-7e0c6c81d59d"
      },
      "execution_count": null,
      "outputs": [
        {
          "output_type": "stream",
          "name": "stdout",
          "text": [
            "True\n",
            "False\n"
          ]
        }
      ]
    },
    {
      "cell_type": "code",
      "source": [
        "class ExampleClass:\n",
        "    a = 1\n",
        "    def __init__(self):\n",
        "        self.b = 2\n",
        " \n",
        " \n",
        "example_object = ExampleClass()\n",
        " \n",
        "print(hasattr(example_object, 'b'))\n",
        "print(hasattr(example_object, 'a'))\n",
        "print(hasattr(ExampleClass, 'b'))\n",
        "print(hasattr(ExampleClass, 'a'))\n",
        " "
      ],
      "metadata": {
        "colab": {
          "base_uri": "https://localhost:8080/"
        },
        "id": "MU9tny4BKysg",
        "outputId": "56a23b35-1f2c-4506-96ce-7f701733d2bc"
      },
      "execution_count": null,
      "outputs": [
        {
          "output_type": "stream",
          "name": "stdout",
          "text": [
            "True\n",
            "True\n",
            "False\n",
            "True\n"
          ]
        }
      ]
    },
    {
      "cell_type": "code",
      "source": [
        "class Sample:\n",
        "    gamma = 0 # Variable de clase.\n",
        "    def __init__(self):\n",
        " \n",
        "        self.alpha = 1 # Variable de instancia.\n",
        "        self.__delta = 3 # Instancia de variable privada.\n",
        " \n",
        " \n",
        "obj = Sample()\n",
        "obj.beta = 2 # Otra variable de instancia (que existe solo dentro de la instancia \"obj\".)\n",
        "print(obj.__dict__)\n",
        " "
      ],
      "metadata": {
        "colab": {
          "base_uri": "https://localhost:8080/"
        },
        "id": "ikVo-GYAKyp2",
        "outputId": "97eebaf9-599f-4489-98f9-9b3950a0edfa"
      },
      "execution_count": null,
      "outputs": [
        {
          "output_type": "stream",
          "name": "stdout",
          "text": [
            "{'alpha': 1, '_Sample__delta': 3, 'beta': 2}\n"
          ]
        }
      ]
    },
    {
      "cell_type": "markdown",
      "source": [
        "Pregunta 1: ¿Cuáles de las propiedades de la clase Python son variables de instancia y cuáles son variables de clase? ¿Cuáles de ellos son privados?\n",
        "\n",
        "class Python:\n",
        "    population = 1\n",
        "    victims = 0\n",
        "    def __init__(self):\n",
        "        self.length_ft = 3\n",
        "        self.__venomous = False\n",
        " \n",
        "Ocultar\n",
        "population y victims son variables de clase, mientras que length y __venomous son variables de instancia (esta última también es privada)."
      ],
      "metadata": {
        "id": "tJ1r0g4xNtJS"
      }
    },
    {
      "cell_type": "code",
      "source": [
        "class Python:\n",
        "    population = 1\n",
        "    victims = 0\n",
        "    def __init__(self):\n",
        "        self.length_ft = 3\n",
        "        self.__venomous = False"
      ],
      "metadata": {
        "id": "Y6my_ucsKynY"
      },
      "execution_count": null,
      "outputs": []
    },
    {
      "cell_type": "markdown",
      "source": [
        "# 3.4 Sección 4 – POO: Métodos"
      ],
      "metadata": {
        "id": "7fRcPm9ONvtC"
      }
    },
    {
      "cell_type": "code",
      "source": [
        "class Classy:\n",
        "    def method(self):\n",
        "        print(\"método\")\n",
        "\n",
        "\n",
        "obj = Classy()\n",
        "obj.method()\n",
        "    "
      ],
      "metadata": {
        "colab": {
          "base_uri": "https://localhost:8080/"
        },
        "id": "s0S0L-ncKyk6",
        "outputId": "688dc1a6-3f41-490d-a71a-aa8d206c5f72"
      },
      "execution_count": null,
      "outputs": [
        {
          "output_type": "stream",
          "name": "stdout",
          "text": [
            "método\n"
          ]
        }
      ]
    },
    {
      "cell_type": "code",
      "source": [
        "class Classy:\n",
        "    def method(self, par):\n",
        "        print(\"método:\", par)\n",
        " \n",
        " \n",
        "obj = Classy()\n",
        "obj.method(1)\n",
        "obj.method(2)\n",
        "obj.method(3)\n"
      ],
      "metadata": {
        "colab": {
          "base_uri": "https://localhost:8080/"
        },
        "id": "A8oU8F0qKyh-",
        "outputId": "5693cab6-8d4f-4007-f9b2-9fc7c9c26c81"
      },
      "execution_count": null,
      "outputs": [
        {
          "output_type": "stream",
          "name": "stdout",
          "text": [
            "método: 1\n",
            "método: 2\n",
            "método: 3\n"
          ]
        }
      ]
    },
    {
      "cell_type": "code",
      "source": [
        "class Classy:\n",
        "    varia = 2\n",
        "    def method(self):\n",
        "        print(self.varia, self.var)\n",
        " \n",
        " \n",
        "obj = Classy()\n",
        "obj.var = 3\n",
        "obj.method()"
      ],
      "metadata": {
        "colab": {
          "base_uri": "https://localhost:8080/"
        },
        "id": "l5eTwjetKye-",
        "outputId": "73be0e30-2932-4343-bc1c-0e839c413e78"
      },
      "execution_count": null,
      "outputs": [
        {
          "output_type": "stream",
          "name": "stdout",
          "text": [
            "2 3\n"
          ]
        }
      ]
    },
    {
      "cell_type": "code",
      "source": [
        "class Classy:\n",
        "    def other(self):\n",
        "        print(\"otro\")\n",
        " \n",
        "    def method(self):\n",
        "        print(\"método\")\n",
        "        self.other()\n",
        " \n",
        " \n",
        "obj = Classy()\n",
        "obj.method()"
      ],
      "metadata": {
        "colab": {
          "base_uri": "https://localhost:8080/"
        },
        "id": "vULxFtVpvHwd",
        "outputId": "4cec0616-3107-41c4-d25d-6bada8213ba7"
      },
      "execution_count": null,
      "outputs": [
        {
          "output_type": "stream",
          "name": "stdout",
          "text": [
            "método\n",
            "otro\n"
          ]
        }
      ]
    },
    {
      "cell_type": "code",
      "source": [
        "class Classy:\n",
        "    def __init__(self, value):\n",
        "        self.var = value\n",
        "\n",
        "\n",
        "obj_1 = Classy(\"objeto\")\n",
        "\n",
        "print(obj_1.var)\n",
        "    \n"
      ],
      "metadata": {
        "colab": {
          "base_uri": "https://localhost:8080/"
        },
        "id": "jjJwErqFvHuP",
        "outputId": "c8d6b21b-acd2-41aa-cd28-ba88bfced90d"
      },
      "execution_count": null,
      "outputs": [
        {
          "output_type": "stream",
          "name": "stdout",
          "text": [
            "objeto\n"
          ]
        }
      ]
    },
    {
      "cell_type": "code",
      "source": [
        "class Classy:\n",
        "    def __init__(self, value = None):\n",
        "        self.var = value\n",
        "\n",
        "\n",
        "obj_1 = Classy(\"objeto\")\n",
        "obj_2 = Classy()\n",
        "\n",
        "print(obj_1.var)\n",
        "print(obj_2.var)\n",
        "    \n"
      ],
      "metadata": {
        "colab": {
          "base_uri": "https://localhost:8080/"
        },
        "id": "1JhGHVL_dp5O",
        "outputId": "9a98eed0-f98f-4f60-d159-5b35bd7ebc5c"
      },
      "execution_count": null,
      "outputs": [
        {
          "output_type": "stream",
          "name": "stdout",
          "text": [
            "objeto\n",
            "None\n"
          ]
        }
      ]
    },
    {
      "cell_type": "code",
      "source": [
        "class Classy:\n",
        "    def visible(self):\n",
        "        print(\"visible\")\n",
        " \n",
        "    def __hidden(self):\n",
        "        print(\"oculto\")\n",
        " \n",
        " \n",
        "obj = Classy()\n",
        "obj.visible()\n",
        " \n",
        "try:\n",
        "    obj.__hidden()\n",
        "except:\n",
        "    print(\"fallido\")\n",
        " \n",
        "obj._Classy__hidden()"
      ],
      "metadata": {
        "colab": {
          "base_uri": "https://localhost:8080/"
        },
        "id": "dzs7u-aadpba",
        "outputId": "d47c3c9b-0de2-410b-8c2b-0d8ea01f9dd4"
      },
      "execution_count": null,
      "outputs": [
        {
          "output_type": "stream",
          "name": "stdout",
          "text": [
            "visible\n",
            "fallido\n",
            "oculto\n"
          ]
        }
      ]
    },
    {
      "cell_type": "code",
      "source": [
        "class Classy:\n",
        "    varia = 1\n",
        "    def __init__(self):\n",
        "        self.var = 2\n",
        "\n",
        "    def method(self):\n",
        "        pass\n",
        "\n",
        "    def __hidden(self):\n",
        "        pass\n",
        "\n",
        "\n",
        "obj = Classy()\n",
        "\n",
        "print(obj.__dict__)\n",
        "print(Classy.__dict__)"
      ],
      "metadata": {
        "colab": {
          "base_uri": "https://localhost:8080/"
        },
        "id": "ljmq3jEfwipx",
        "outputId": "7ec83113-09ac-4a7b-a7e0-2631d7461a32"
      },
      "execution_count": null,
      "outputs": [
        {
          "output_type": "stream",
          "name": "stdout",
          "text": [
            "{'var': 2}\n",
            "{'__module__': '__main__', 'varia': 1, '__init__': <function Classy.__init__ at 0x7fcd76a75360>, 'method': <function Classy.method at 0x7fcd76a75480>, '_Classy__hidden': <function Classy.__hidden at 0x7fcd76a755a0>, '__dict__': <attribute '__dict__' of 'Classy' objects>, '__weakref__': <attribute '__weakref__' of 'Classy' objects>, '__doc__': None}\n"
          ]
        }
      ]
    },
    {
      "cell_type": "code",
      "source": [
        "class Classy:\n",
        "    pass\n",
        "\n",
        "\n",
        "print(Classy.__name__)\n",
        "obj = Classy()\n",
        "print(type(obj).__name__)\n",
        "\n",
        "# print(obj.__name__)  se provocá un error al ejecutar está línea \n",
        "    "
      ],
      "metadata": {
        "colab": {
          "base_uri": "https://localhost:8080/",
          "height": 252
        },
        "id": "mdsCce5Wwirw",
        "outputId": "4a23b020-2738-491b-d3eb-1f31e7222317"
      },
      "execution_count": null,
      "outputs": [
        {
          "output_type": "stream",
          "name": "stdout",
          "text": [
            "Classy\n",
            "Classy\n"
          ]
        },
        {
          "output_type": "error",
          "ename": "AttributeError",
          "evalue": "ignored",
          "traceback": [
            "\u001b[0;31m---------------------------------------------------------------------------\u001b[0m",
            "\u001b[0;31mAttributeError\u001b[0m                            Traceback (most recent call last)",
            "\u001b[0;32m<ipython-input-12-89564273ad0d>\u001b[0m in \u001b[0;36m<cell line: 9>\u001b[0;34m()\u001b[0m\n\u001b[1;32m      7\u001b[0m \u001b[0mprint\u001b[0m\u001b[0;34m(\u001b[0m\u001b[0mtype\u001b[0m\u001b[0;34m(\u001b[0m\u001b[0mobj\u001b[0m\u001b[0;34m)\u001b[0m\u001b[0;34m.\u001b[0m\u001b[0m__name__\u001b[0m\u001b[0;34m)\u001b[0m\u001b[0;34m\u001b[0m\u001b[0;34m\u001b[0m\u001b[0m\n\u001b[1;32m      8\u001b[0m \u001b[0;34m\u001b[0m\u001b[0m\n\u001b[0;32m----> 9\u001b[0;31m \u001b[0mprint\u001b[0m\u001b[0;34m(\u001b[0m\u001b[0mobj\u001b[0m\u001b[0;34m.\u001b[0m\u001b[0m__name__\u001b[0m\u001b[0;34m)\u001b[0m\u001b[0;34m\u001b[0m\u001b[0;34m\u001b[0m\u001b[0m\n\u001b[0m\u001b[1;32m     10\u001b[0m \u001b[0;34m\u001b[0m\u001b[0m\n",
            "\u001b[0;31mAttributeError\u001b[0m: 'Classy' object has no attribute '__name__'"
          ]
        }
      ]
    },
    {
      "cell_type": "code",
      "source": [
        "print(obj.__name__)"
      ],
      "metadata": {
        "colab": {
          "base_uri": "https://localhost:8080/",
          "height": 165
        },
        "id": "jMoHbmuLwino",
        "outputId": "d16e542f-8c98-428e-abea-dabe0c12c6d1"
      },
      "execution_count": null,
      "outputs": [
        {
          "output_type": "error",
          "ename": "AttributeError",
          "evalue": "ignored",
          "traceback": [
            "\u001b[0;31m---------------------------------------------------------------------------\u001b[0m",
            "\u001b[0;31mAttributeError\u001b[0m                            Traceback (most recent call last)",
            "\u001b[0;32m<ipython-input-11-86aa408a8704>\u001b[0m in \u001b[0;36m<cell line: 1>\u001b[0;34m()\u001b[0m\n\u001b[0;32m----> 1\u001b[0;31m \u001b[0mprint\u001b[0m\u001b[0;34m(\u001b[0m\u001b[0mobj\u001b[0m\u001b[0;34m.\u001b[0m\u001b[0m__name__\u001b[0m\u001b[0;34m)\u001b[0m\u001b[0;34m\u001b[0m\u001b[0;34m\u001b[0m\u001b[0m\n\u001b[0m",
            "\u001b[0;31mAttributeError\u001b[0m: 'Classy' object has no attribute '__name__'"
          ]
        }
      ]
    },
    {
      "cell_type": "code",
      "source": [
        "class Classy:\n",
        "    pass\n",
        "\n",
        "\n",
        "print(Classy.__module__)\n",
        "obj = Classy()\n",
        "print(obj.__module__)\n",
        "    "
      ],
      "metadata": {
        "colab": {
          "base_uri": "https://localhost:8080/"
        },
        "id": "OcQh8ULfwiln",
        "outputId": "ec95bd00-1173-4635-c8fe-0f4041ee63cc"
      },
      "execution_count": null,
      "outputs": [
        {
          "output_type": "stream",
          "name": "stdout",
          "text": [
            "__main__\n",
            "__main__\n"
          ]
        }
      ]
    },
    {
      "cell_type": "code",
      "source": [
        "class SuperOne:\n",
        "    pass\n",
        "\n",
        "\n",
        "class SuperTwo:\n",
        "    pass\n",
        "\n",
        "\n",
        "class Sub(SuperOne, SuperTwo):\n",
        "    pass\n",
        "\n",
        "\n",
        "def printBases(cls):\n",
        "    print('( ', end='')\n",
        "\n",
        "    for x in cls.__bases__:\n",
        "        print(x.__name__, end=' ')\n",
        "    print(')')\n",
        "\n",
        "\n",
        "printBases(SuperOne)\n",
        "printBases(SuperTwo)\n",
        "printBases(Sub)"
      ],
      "metadata": {
        "colab": {
          "base_uri": "https://localhost:8080/"
        },
        "id": "i96GcqT0wijn",
        "outputId": "a2a50279-f60b-49c3-c810-b0a9d2aea84d"
      },
      "execution_count": null,
      "outputs": [
        {
          "output_type": "stream",
          "name": "stdout",
          "text": [
            "( object )\n",
            "( object )\n",
            "( SuperOne SuperTwo )\n"
          ]
        }
      ]
    },
    {
      "cell_type": "code",
      "source": [
        "class MyClass:\n",
        "    pass\n",
        "\n",
        "\n",
        "obj = MyClass()\n",
        "obj.a = 1\n",
        "obj.b = 2\n",
        "obj.i = 3\n",
        "obj.ireal = 3.5\n",
        "obj.integer = 4\n",
        "obj.z = 5\n",
        "\n",
        "\n",
        "def incIntsI(obj):\n",
        "    for name in obj.__dict__.keys():\n",
        "        if name.startswith('i'):\n",
        "            val = getattr(obj, name)\n",
        "            if isinstance(val, int):\n",
        "                setattr(obj, name, val + 1)\n",
        "\n",
        "\n",
        "print(obj.__dict__)\n",
        "incIntsI(obj)\n",
        "print(obj.__dict__)"
      ],
      "metadata": {
        "colab": {
          "base_uri": "https://localhost:8080/"
        },
        "id": "ae0fAQr3wihf",
        "outputId": "ba6e6611-6988-4687-ef64-f064ac357cf7"
      },
      "execution_count": null,
      "outputs": [
        {
          "output_type": "stream",
          "name": "stdout",
          "text": [
            "{'a': 1, 'b': 2, 'i': 3, 'ireal': 3.5, 'integer': 4, 'z': 5}\n",
            "{'a': 1, 'b': 2, 'i': 4, 'ireal': 3.5, 'integer': 5, 'z': 5}\n"
          ]
        }
      ]
    },
    {
      "cell_type": "code",
      "source": [
        "class Sample:\n",
        "    def __init__(self):\n",
        "        self.name = Sample.__name__\n",
        "    def myself(self):\n",
        "        print(\"Mi nombre es \" + self.name + \" y estoy viviendo en \" + Sample.__module__)\n",
        " \n",
        " \n",
        "obj = Sample()\n",
        "obj.myself()\n",
        " "
      ],
      "metadata": {
        "colab": {
          "base_uri": "https://localhost:8080/"
        },
        "id": "MDaycr7uwie4",
        "outputId": "3e849dc0-ac54-40f2-fac7-f2756ddf23e3"
      },
      "execution_count": null,
      "outputs": [
        {
          "output_type": "stream",
          "name": "stdout",
          "text": [
            "Mi nombre es Sample y estoy viviendo en __main__\n"
          ]
        }
      ]
    },
    {
      "cell_type": "code",
      "source": [
        "class Snake:\n",
        "    def __init__(self):\n",
        "        self.victims = 0"
      ],
      "metadata": {
        "id": "u2LCKkGawicp"
      },
      "execution_count": null,
      "outputs": []
    },
    {
      "cell_type": "code",
      "source": [
        "class Snake:\n",
        "    def __init__(self):\n",
        "        self.victims = 0\n",
        "\n",
        "    def increment(self):\n",
        "        self.victims += 1"
      ],
      "metadata": {
        "id": "fWtGV7CNwiat"
      },
      "execution_count": null,
      "outputs": []
    },
    {
      "cell_type": "code",
      "source": [
        "class Snake:\n",
        "    def __init__(self, victims):\n",
        "        self.victims = victims"
      ],
      "metadata": {
        "id": "MbAVGXeRwiYz"
      },
      "execution_count": null,
      "outputs": []
    },
    {
      "cell_type": "code",
      "source": [
        "class Snake:\n",
        "    pass\n",
        " \n",
        " \n",
        "class Python(Snake):\n",
        "    pass\n",
        " \n",
        " \n",
        "print(Python.__name__, 'es una', Snake.__name__)\n",
        "print(Python.__bases__[0].__name__, 'puede ser una', Python.__name__)\n",
        " "
      ],
      "metadata": {
        "colab": {
          "base_uri": "https://localhost:8080/"
        },
        "id": "_oabLXUKwiUk",
        "outputId": "128306a3-5f61-4e09-931e-62b6c8c072b2"
      },
      "execution_count": null,
      "outputs": [
        {
          "output_type": "stream",
          "name": "stdout",
          "text": [
            "Python es una Snake\n",
            "Snake puede ser una Python\n"
          ]
        }
      ]
    },
    {
      "cell_type": "markdown",
      "source": [
        "# 3.4.7   LAB   La clase Timer"
      ],
      "metadata": {
        "id": "G7EX_ipD0ot_"
      }
    },
    {
      "cell_type": "markdown",
      "source": [
        "Necesitamos una clase capaz de contar segundos. ¿Fácil? No es tan fácil como podrías pensar, ya que tendremos algunos requisitos específicos.\n",
        "\n",
        "Léelos con atención, ya que la clase sobre la que escribes se utilizará para lanzar cohetes en misiones internacionales a Marte. Es una gran responsabilidad. ¡Contamos contigo!\n",
        "\n",
        "Tu clase se llamará Timer (temporizador en español). Su constructor acepta tres argumentos que representan horas (un valor del rango [0..23]; usaremos tiempo militar), minutos (del rango [0. .59]) y segundos (del rango [0..59]).\n",
        "\n",
        "Cero es el valor predeterminado para todos los parámetros anteriores. No es necesario realizar ninguna comprobación de validación.\n",
        "\n",
        "La clase en sí debería proporcionar las siguientes facilidades:\n",
        "\n",
        "Los objetos de la clase deben ser \"imprimibles\", es decir, deben poder convertirse implícitamente en cadenas de la siguiente forma: \"hh:mm:ss\", con ceros a la izquierda agregados cuando cualquiera de los valores es menor que 10.\n",
        "La clase debe estar equipada con métodos sin parámetros llamados next_second() y previous_second(), incrementando el tiempo almacenado dentro de los objetos en +1/-1 segundos respectivamente.\n",
        "Emplea las siguientes sugerencias:\n",
        "\n",
        "Todas las propiedades del objeto deben ser privadas.\n",
        "Considera escribir una función separada (¡no un método!) para formatear la cadena con el tiempo.\n",
        "Completa la plantilla que te proporcionamos en el editor. Ejecuta tu código y comprueba si el resultado es el mismo que el nuestro.\n",
        "\n",
        "Salida Esperada\n",
        "23:59:59\n",
        "00:00:00\n",
        "23:59:59"
      ],
      "metadata": {
        "id": "KUBbZeVl1DYG"
      }
    },
    {
      "cell_type": "code",
      "source": [
        "def two_digits(val):\n",
        "    s = str(val)\n",
        "    if len(s) == 1:\n",
        "        s = '0' + s\n",
        "    return s\n",
        "\n",
        "\n",
        "class Timer:\n",
        "    def __init__(self, hours=0, minutes=0, seconds=0):\n",
        "        self.__hours = hours\n",
        "        self.__minutes = minutes\n",
        "        self.__seconds = seconds\n",
        "\n",
        "    def __str__(self):\n",
        "        return two_digits(self.__hours) + \":\" + \\\n",
        "               two_digits(self.__minutes) + \":\" + \\\n",
        "               two_digits(self.__seconds)\n",
        "\n",
        "    def next_second(self):\n",
        "        self.__seconds += 1\n",
        "        if self.__seconds > 59:\n",
        "            self.__seconds = 0\n",
        "            self.__minutes += 1\n",
        "            if self.__minutes > 59:\n",
        "                self.__minutes = 0\n",
        "                self.__hours += 1\n",
        "                if self.__hours > 23:\n",
        "                    self.__hours = 0\n",
        "\n",
        "    def prev_second(self):\n",
        "        self.__seconds -= 1\n",
        "        if self.__seconds < 0:\n",
        "            self.__seconds = 59\n",
        "            self.__minutes -= 1\n",
        "            if self.__minutes < 0:\n",
        "                self.__minutes = 59\n",
        "                self.__hours -= 1\n",
        "                if self.__hours < 0:\n",
        "                    self.__hours = 23\n",
        "\n",
        "\n",
        "timer = Timer(23, 59, 59)\n",
        "print(timer)\n",
        "timer.next_second()\n",
        "print(timer)\n",
        "timer.prev_second()\n",
        "print(timer)\n",
        "    "
      ],
      "metadata": {
        "colab": {
          "base_uri": "https://localhost:8080/"
        },
        "id": "KtbeM11YwiSi",
        "outputId": "5cc69e60-a18b-432b-a723-d17a9da5d2bd"
      },
      "execution_count": null,
      "outputs": [
        {
          "output_type": "stream",
          "name": "stdout",
          "text": [
            "23:59:59\n",
            "00:00:00\n",
            "23:59:59\n"
          ]
        }
      ]
    },
    {
      "cell_type": "markdown",
      "source": [
        "# 3.4.8   LAB   Días de la semana"
      ],
      "metadata": {
        "id": "qUF-X8U-1NeQ"
      }
    },
    {
      "cell_type": "markdown",
      "source": [
        "Tu tarea es implementar una clase llamada Weeker. Sí, tus ojos no te engañan, este nombre proviene del hecho de que los objetos de esta clase podrán almacenar y manipular los días de la semana.\n",
        "\n",
        "El constructor de la clase acepta un argumento: una cadena. La cadena representa el nombre del día de la semana y los únicos valores aceptables deben provenir del siguiente conjunto:\n",
        "\n",
        "Lun Mar Mie Jue Vie Sab Dom\n",
        "\n",
        "Invocar al constructor con un argumento desde fuera de este conjunto debería generar la excepción WeekDayError (defínela tu mismo; no te preocupes, pronto hablaremos sobre la naturaleza objetiva de las excepciones). La clase debe proporcionar las siguientes facilidades:\n",
        "\n",
        "Los objetos de la clase deben ser \"imprimibles\", es decir, deben poder convertirse implícitamente en cadenas de la misma forma que los argumentos del constructor.\n",
        "La clase debe estar equipada con métodos de un parámetro llamados add_days(n) y subtract_days(n), siendo n un número entero que actualiza el día de la semana almacenado dentro del objeto mediante el número de días indicado, hacia adelante o hacia atrás.\n",
        "Todas las propiedades del objeto deben ser privadas.\n",
        "Completa la plantilla que te proporcionamos en el editor, ejecuta su código y verifica si tu salida se ve igual que la nuestra. Completa la plantilla que te proporcionamos en el editor, ejecuta su código y verifica si tu salida se ve igual que la nuestra.\n",
        "\n",
        "Salida Esperada\n",
        "Lun\n",
        "Mar\n",
        "Dom\n",
        "Lo siento, no puedo atender tu solicitud."
      ],
      "metadata": {
        "id": "PaIJ09g91bzN"
      }
    },
    {
      "cell_type": "code",
      "source": [
        "class WeekDayError(Exception):\n",
        "    pass\n",
        "\n",
        "\n",
        "class Weeker:\n",
        "    __names = ['Lun', 'Mar', 'Mie', 'Jue', 'Vie', 'Sab', 'Dom']\n",
        "\n",
        "    def __init__(self, day):\n",
        "        try:\n",
        "            self.__current = Weeker.__names.index(day)\n",
        "        except ValueError:\n",
        "            raise WeekDayError\n",
        "\n",
        "    def __str__(self):\n",
        "        return Weeker.__names[self.__current]\n",
        "\n",
        "    def add_days(self, n):\n",
        "        self.__current = (self.__current + n) % 7\n",
        "\n",
        "    def subtract_days(self, n):\n",
        "        self.__current = (self.__current - n) % 7\n",
        "\n",
        "\n",
        "try:\n",
        "    weekday = Weeker('Lun')\n",
        "    print(weekday)\n",
        "    weekday.add_days(15)\n",
        "    print(weekday)\n",
        "    weekday.subtract_days(23)\n",
        "    print(weekday)\n",
        "    weekday = Weeker('Lunes')\n",
        "except WeekDayError:\n",
        "    print(\"Lo siento, no puedo atender tu solicitud.\")\n",
        "    "
      ],
      "metadata": {
        "colab": {
          "base_uri": "https://localhost:8080/"
        },
        "id": "PAQiyJ2rwiQM",
        "outputId": "f4932d33-f0d2-452a-b1e9-2f97148ac396"
      },
      "execution_count": null,
      "outputs": [
        {
          "output_type": "stream",
          "name": "stdout",
          "text": [
            "Lun\n",
            "Mar\n",
            "Dom\n",
            "Lo siento, no puedo atender tu solicitud.\n"
          ]
        }
      ]
    },
    {
      "cell_type": "markdown",
      "source": [
        "# 3.4.9   LAB   Puntos en un plano"
      ],
      "metadata": {
        "id": "25YK2HtU1v7d"
      }
    },
    {
      "cell_type": "markdown",
      "source": [
        "Visitemos un lugar muy especial: un plano con el sistema de coordenadas cartesianas (puedes obtener más información sobre este concepto aquí: https://en.wikipedia.org/wiki/Cartesian_coordinate_system).\n",
        "\n",
        "Cada punto ubicado en el plano puede describirse como un par de coordenadas habitualmente llamadas x y y. Queremos que escribas una clase en Python que almacene ambas coordenadas como números flotantes. Además, queremos que los objetos de esta clase evalúen las distancias entre cualquiera de los dos puntos situados en el plano.\n",
        "\n",
        "La tarea es bastante fácil si empleas la función denominada hypot() (disponible a través del módulo math) que evalúa la longitud de la hipotenusa de un triángulo rectángulo (más detalles aquí: https://en.wikipedia.org/wiki/Hypotenuse) y aquí: https://docs.python.org/3.7/library/math.html#trigonometric-functions.\n",
        "\n",
        "Así es como imaginamos la clase:\n",
        "\n",
        "Se llama Point.\n",
        "Su constructor acepta dos argumentos (x y y respectivamente), ambos por defecto se igualan a cero.\n",
        "Todas las propiedades deben ser privadas.\n",
        "La clase contiene dos métodos sin parámetros llamados getx() y gety(), que devuelven cada una de las dos coordenadas (las coordenadas se almacenan de forma privada, por lo que no se puede acceder a ellas directamente desde el objeto).\n",
        "La clase proporciona un método llamado distance_from_xy(x,y), que calcula y devuelve la distancia entre el punto almacenado dentro del objeto y el otro punto dado en un par de números flotantes.\n",
        "La clase proporciona un método llamado distance_from_point(point), que calcula la distancia (como el método anterior), pero la ubicación del otro punto se da como otro objeto de clase Point.\n",
        "Completa la plantilla que te proporcionamos en el editor, ejecuta tu código y verifica si tu salida se ve igual que la nuestra.\n",
        "\n",
        "Salida esperada\n",
        "1.4142135623730951\n",
        "1.4142135623730951"
      ],
      "metadata": {
        "id": "BipnWY2916Qr"
      }
    },
    {
      "cell_type": "code",
      "source": [
        "import math\n",
        "\n",
        "\n",
        "class Point:\n",
        "    def __init__(self, x=0.0, y=0.0):\n",
        "        self.__x = x\n",
        "        self.__y = y\n",
        "\n",
        "    def getx(self):\n",
        "        return self.__x\n",
        "\n",
        "    def gety(self):\n",
        "        return self.__y\n",
        "\n",
        "    def distance_from_xy(self, x, y):\n",
        "        return math.hypot(abs(self.__x - x), abs(self.__y - y))\n",
        "\n",
        "    def distance_from_point(self, point):\n",
        "        return self.distance_from_xy(point.getx(), point.gety())\n",
        "\n",
        "\n",
        "point1 = Point(0, 0)\n",
        "point2 = Point(1, 1)\n",
        "print(point1.distance_from_point(point2))\n",
        "print(point2.distance_from_xy(2, 0))\n",
        "    "
      ],
      "metadata": {
        "colab": {
          "base_uri": "https://localhost:8080/"
        },
        "id": "kIHGcM1IwiOJ",
        "outputId": "06cad71d-b192-4afc-a05a-1dc833011250"
      },
      "execution_count": null,
      "outputs": [
        {
          "output_type": "stream",
          "name": "stdout",
          "text": [
            "1.4142135623730951\n",
            "1.4142135623730951\n"
          ]
        }
      ]
    },
    {
      "cell_type": "markdown",
      "source": [
        "# 3.4.10   LAB   Tríangulo"
      ],
      "metadata": {
        "id": "DZrAeYJA2NIe"
      }
    },
    {
      "cell_type": "markdown",
      "source": [
        "Ahora vamos a colocar la clase Point (ver Lab anterior) dentro de otra clase. Además, vamos a poner tres puntos en una clase, lo que nos permitirá definir un triángulo. ¿Cómo podemos hacerlo?\n",
        "\n",
        "La nueva clase se llamará Triangle y esto es lo que queremos:\n",
        "\n",
        "El constructor acepta tres argumentos - todos ellos son objetos de la clase Point.\n",
        "Los puntos se almacenan dentro del objeto como una lista privada.\n",
        "La clase proporciona un método sin parámetros llamado perimeter(), que calcula el perímetro del triángulo descrito por los tres puntos; el perímetro es la suma de todas las longitudes de los lados (lo mencionamos para que conste, aunque estamos seguros de que tú mismo lo conoces perfectamente).\n",
        "Completa la plantilla que te proporcionamos en el editor, ejecuta tu código y verifica si tu salida se ve igual que la nuestra.\n",
        "\n",
        "A continuación puedes copiar el código de la clase Point, el cual se utilizo en el laboratorio anterior:\n",
        "\n",
        "Ocultar\n",
        "class Point:\n",
        "    def __init__(self, x=0.0, y=0.0):\n",
        "        self.__x = x\n",
        "        self.__y = y\n",
        "    \n",
        "Salida esperada\n",
        "3.414213562373095"
      ],
      "metadata": {
        "id": "U_YjPvj62U99"
      }
    },
    {
      "cell_type": "code",
      "source": [
        "import math\n",
        "\n",
        "\n",
        "class Point:\n",
        "    def __init__(self, x=0.0, y=0.0):\n",
        "        self.__x = x\n",
        "        self.__y = y\n",
        "\n",
        "    def getx(self):\n",
        "        return self.__x\n",
        "\n",
        "    def gety(self):\n",
        "        return self.__y\n",
        "\n",
        "    def distance_from_xy(self, x, y):\n",
        "        return math.hypot(abs(self.__x - x), abs(self.__y - y))\n",
        "\n",
        "    def distance_from_point(self, point):\n",
        "        return self.distance_from_xy(point.getx(), point.gety())\n",
        "\n",
        "\n",
        "class Triangle:\n",
        "    def __init__(self, vertice1, vertice2, vertice3):\n",
        "        self.__vertices = [vertice1, vertice2, vertice3]\n",
        "\n",
        "    def perimeter(self):\n",
        "        per = 0\n",
        "        for i in range(3):\n",
        "            per += self.__vertices[i].distance_from_point(self.__vertices[(i + 1) % 3])\n",
        "        return per\n",
        "\n",
        "\n",
        "triangle = Triangle(Point(0, 0), Point(1, 0), Point(0, 1))\n",
        "print(triangle.perimeter())"
      ],
      "metadata": {
        "colab": {
          "base_uri": "https://localhost:8080/"
        },
        "id": "XRdgogs0wiLz",
        "outputId": "2aeecc7f-a122-4605-c1e6-4b42b7f02ac2"
      },
      "execution_count": null,
      "outputs": [
        {
          "output_type": "stream",
          "name": "stdout",
          "text": [
            "3.414213562373095\n"
          ]
        }
      ]
    },
    {
      "cell_type": "markdown",
      "source": [
        "# 3.5 Sección 5 – Fundamentos de la POO: Herencia"
      ],
      "metadata": {
        "id": "CTOCIsDz2vQD"
      }
    },
    {
      "cell_type": "code",
      "source": [
        "class Star:\n",
        "    def __init__(self, name, galaxy):\n",
        "        self.name = name\n",
        "        self.galaxy = galaxy\n",
        "\n",
        "\n",
        "sun = Star(\"Sol\", \"Vía Láctea\")\n",
        "print(sun)\n",
        "    "
      ],
      "metadata": {
        "id": "vFjwmkvowiJt"
      },
      "execution_count": 26,
      "outputs": []
    },
    {
      "cell_type": "code",
      "source": [
        "#<code>\n",
        "class Star:\n",
        "    def __init__(self, name, galaxy):\n",
        "        self.name = name\n",
        "        self.galaxy = galaxy\n",
        "\n",
        "    def __str__(self):\n",
        "        return self.name + ' en ' + self.galaxy\n",
        "\n",
        "\n",
        "sun = Star(\"Sol\", \"Vía Láctea\")\n",
        "print(sun)\n",
        "    "
      ],
      "metadata": {
        "id": "YYa8J9wcwiGR"
      },
      "execution_count": null,
      "outputs": []
    },
    {
      "cell_type": "code",
      "source": [
        "class Vehicle:\n",
        "    pass\n",
        " \n",
        " \n",
        "class LandVehicle(Vehicle):\n",
        "    pass\n",
        " \n",
        " \n",
        "class TrackedVehicle(LandVehicle):\n",
        "    pass"
      ],
      "metadata": {
        "id": "yFlKxinewiEU"
      },
      "execution_count": 27,
      "outputs": []
    },
    {
      "cell_type": "code",
      "source": [
        "issubclass(ClassOne, ClassTwo)"
      ],
      "metadata": {
        "id": "F1eilRqMwiBu"
      },
      "execution_count": 29,
      "outputs": []
    },
    {
      "cell_type": "code",
      "source": [
        "class Vehicle:\n",
        "    pass\n",
        "\n",
        "\n",
        "class LandVehicle(Vehicle):\n",
        "    pass\n",
        "\n",
        "\n",
        "class TrackedVehicle(LandVehicle):\n",
        "    pass\n",
        "\n",
        "\n",
        "for cls1 in [Vehicle, LandVehicle, TrackedVehicle]:\n",
        "    for cls2 in [Vehicle, LandVehicle, TrackedVehicle]:\n",
        "        print(issubclass(cls1, cls2), end=\"\\t\")\n",
        "    print()"
      ],
      "metadata": {
        "id": "yNMJZA5Hwh_z",
        "colab": {
          "base_uri": "https://localhost:8080/"
        },
        "outputId": "fc44e1e1-bb9b-4bd1-f839-782f0079b995"
      },
      "execution_count": 30,
      "outputs": [
        {
          "output_type": "stream",
          "name": "stdout",
          "text": [
            "True\tFalse\tFalse\t\n",
            "True\tTrue\tFalse\t\n",
            "True\tTrue\tTrue\t\n"
          ]
        }
      ]
    },
    {
      "cell_type": "code",
      "source": [],
      "metadata": {
        "id": "kA3Ge0Vzwh81"
      },
      "execution_count": null,
      "outputs": []
    },
    {
      "cell_type": "code",
      "source": [],
      "metadata": {
        "id": "m9UMlOkIwh66"
      },
      "execution_count": null,
      "outputs": []
    },
    {
      "cell_type": "code",
      "source": [],
      "metadata": {
        "id": "KWnFNC5Ewh4G"
      },
      "execution_count": null,
      "outputs": []
    },
    {
      "cell_type": "code",
      "source": [],
      "metadata": {
        "id": "XA73BRQtwh2E"
      },
      "execution_count": null,
      "outputs": []
    },
    {
      "cell_type": "code",
      "source": [],
      "metadata": {
        "id": "e-nFAnXYwhzd"
      },
      "execution_count": null,
      "outputs": []
    },
    {
      "cell_type": "code",
      "source": [],
      "metadata": {
        "id": "nXSI6KOwwhxb"
      },
      "execution_count": null,
      "outputs": []
    },
    {
      "cell_type": "code",
      "source": [],
      "metadata": {
        "id": "itJ1Sk6hwhuQ"
      },
      "execution_count": null,
      "outputs": []
    },
    {
      "cell_type": "code",
      "source": [],
      "metadata": {
        "id": "IpTmfq2ZwhsX"
      },
      "execution_count": null,
      "outputs": []
    },
    {
      "cell_type": "code",
      "source": [],
      "metadata": {
        "id": "Jpx-yGFpwhqN"
      },
      "execution_count": null,
      "outputs": []
    },
    {
      "cell_type": "code",
      "source": [],
      "metadata": {
        "id": "u-bpeo5WwhoR"
      },
      "execution_count": null,
      "outputs": []
    },
    {
      "cell_type": "code",
      "source": [],
      "metadata": {
        "id": "rdoaNNGiwhmW"
      },
      "execution_count": null,
      "outputs": []
    },
    {
      "cell_type": "code",
      "source": [],
      "metadata": {
        "id": "utM1HRTewhkh"
      },
      "execution_count": null,
      "outputs": []
    },
    {
      "cell_type": "code",
      "source": [],
      "metadata": {
        "id": "ifL9jAXFwhiN"
      },
      "execution_count": null,
      "outputs": []
    },
    {
      "cell_type": "code",
      "source": [],
      "metadata": {
        "id": "stFCLI8UwhgR"
      },
      "execution_count": null,
      "outputs": []
    },
    {
      "cell_type": "code",
      "source": [],
      "metadata": {
        "id": "DqMRSyV1wheU"
      },
      "execution_count": null,
      "outputs": []
    },
    {
      "cell_type": "code",
      "source": [],
      "metadata": {
        "id": "Jh5upTcGwhaj"
      },
      "execution_count": null,
      "outputs": []
    },
    {
      "cell_type": "code",
      "source": [],
      "metadata": {
        "id": "6Qq4GkbDwhXS"
      },
      "execution_count": null,
      "outputs": []
    },
    {
      "cell_type": "code",
      "source": [],
      "metadata": {
        "id": "fVMLg10ZwhVf"
      },
      "execution_count": null,
      "outputs": []
    },
    {
      "cell_type": "code",
      "source": [],
      "metadata": {
        "id": "vmpYAqljwhTT"
      },
      "execution_count": null,
      "outputs": []
    },
    {
      "cell_type": "code",
      "source": [],
      "metadata": {
        "id": "qvaXusBRwhRU"
      },
      "execution_count": null,
      "outputs": []
    },
    {
      "cell_type": "code",
      "source": [],
      "metadata": {
        "id": "cdysIl9RwhOi"
      },
      "execution_count": null,
      "outputs": []
    },
    {
      "cell_type": "code",
      "source": [],
      "metadata": {
        "id": "S1Y4L6_iwhMn"
      },
      "execution_count": null,
      "outputs": []
    },
    {
      "cell_type": "code",
      "source": [],
      "metadata": {
        "id": "bADLOJD9whJm"
      },
      "execution_count": null,
      "outputs": []
    },
    {
      "cell_type": "code",
      "source": [],
      "metadata": {
        "id": "7Owk_6cZwhHu"
      },
      "execution_count": null,
      "outputs": []
    },
    {
      "cell_type": "code",
      "source": [],
      "metadata": {
        "id": "Hv50hDA0wg_9"
      },
      "execution_count": null,
      "outputs": []
    },
    {
      "cell_type": "code",
      "source": [],
      "metadata": {
        "id": "A2pd0fruwg24"
      },
      "execution_count": null,
      "outputs": []
    },
    {
      "cell_type": "code",
      "source": [],
      "metadata": {
        "id": "Na9ueiP1wgxo"
      },
      "execution_count": null,
      "outputs": []
    }
  ]
}