{
  "nbformat": 4,
  "nbformat_minor": 0,
  "metadata": {
    "colab": {
      "provenance": [],
      "authorship_tag": "ABX9TyOwx4khhEQpk2VHhBUVFkcU",
      "include_colab_link": true
    },
    "kernelspec": {
      "name": "python3",
      "display_name": "Python 3"
    },
    "language_info": {
      "name": "python"
    }
  },
  "cells": [
    {
      "cell_type": "markdown",
      "metadata": {
        "id": "view-in-github",
        "colab_type": "text"
      },
      "source": [
        "<a href=\"https://colab.research.google.com/github/LeonardoAlunaM/COMPUTADORAS-Y-PROGRAMACI-N-2O23-/blob/main-COMPUTADORAS-Y-PROGTRAMACI%C3%93N-2023/CISCO_FUNDAMENTOS_PYTHON_2_M%C3%93DULO_3.ipynb\" target=\"_parent\"><img src=\"https://colab.research.google.com/assets/colab-badge.svg\" alt=\"Open In Colab\"/></a>"
      ]
    },
    {
      "cell_type": "markdown",
      "source": [
        "# Módulo 3: Programación orientada a objetos "
      ],
      "metadata": {
        "id": "zTogpZR6FZpk"
      }
    },
    {
      "cell_type": "markdown",
      "source": [
        "## 3.1 Sección 1 – Los fundamentos de la POO"
      ],
      "metadata": {
        "id": "6LThfSj7Fl6K"
      }
    },
    {
      "cell_type": "code",
      "execution_count": null,
      "metadata": {
        "id": "434qOzwmFPaj"
      },
      "outputs": [],
      "source": [
        "class TheSimplestClass:\n",
        "    pass\n",
        " "
      ]
    },
    {
      "cell_type": "markdown",
      "source": [
        "La definición comienza con la palabra clave reservada class. La palabra clave reservada es seguida por un identificador que le dará nombre a la clase (nota: no lo confundas con el nombre del objeto: estas son dos cosas diferentes).\n",
        "\n",
        "A continuación, se agregan dos puntos (:), como clases, como funciones, forman su propio bloque anidado. El contenido dentro del bloque define todas las propiedades y actividades de la clase.\n",
        "\n",
        "La palabra clave reservada pass llena la clase con nada. No contiene ningún método ni propiedades."
      ],
      "metadata": {
        "id": "OEt9CRqydcvr"
      }
    },
    {
      "cell_type": "code",
      "source": [
        "# Creación del primer objeto\n",
        "my_first_object = TheSimplestClass()"
      ],
      "metadata": {
        "id": "Vcgp2uwjdqiV"
      },
      "execution_count": 2,
      "outputs": []
    },
    {
      "cell_type": "markdown",
      "source": [
        "Nota:\n",
        "\n",
        "El nombre de la clase intenta fingir que es una función, ¿puedes ver esto? Lo discutiremos pronto.\n",
        "El objeto recién creado está equipado con todo lo que trae la clase. Como esta clase está completamente vacía, el objeto también está vacío.\n",
        "El acto de crear un objeto de la clase seleccionada también se llama instanciación (ya que el objeto se convierte en una instancia de la clase).\n",
        "\n",
        "Dejemos las clases en paz por un breve momento, ya que ahora diremos algunas palabras sobre pilas. Sabemos que el concepto de clases y objetos puede no estar completamente claro todavía. No te preocupes, te explicaremos todo muy pronto."
      ],
      "metadata": {
        "id": "cu7AXiazeTiN"
      }
    },
    {
      "cell_type": "code",
      "source": [
        "# 4. Para definir una clase de Python, se necesita usar la palabra clave reservada class. Por ejemplo:\n",
        "\n",
        "\n",
        "class This_Is_A_Class:\n",
        "    pass"
      ],
      "metadata": {
        "id": "7YwoLM0hdqgH"
      },
      "execution_count": null,
      "outputs": []
    },
    {
      "cell_type": "code",
      "source": [
        "# 5. Para crear un objeto de la clase previamente definida, se necesita usar la clase como si fuera una función. Por ejemplo:\n",
        "\n",
        "\n",
        "this_is_an_object = This_Is_A_Class()"
      ],
      "metadata": {
        "id": "oNgz1bnZdqeI"
      },
      "execution_count": null,
      "outputs": []
    },
    {
      "cell_type": "markdown",
      "source": [
        "# 3.2 Sección 2 – Un corto viaje desde el enfoque procedimental hacia el orientado a objetos"
      ],
      "metadata": {
        "id": "_Y14LIhDfIZ5"
      }
    },
    {
      "cell_type": "code",
      "source": [
        "stack = []"
      ],
      "metadata": {
        "id": "fqovSpavdqbt"
      },
      "execution_count": 3,
      "outputs": []
    },
    {
      "cell_type": "markdown",
      "source": [
        "Estamos listos para definir una función que coloca un valor en la pila. Aquí están las presuposiciones para ello:\n",
        "\n",
        "* El nombre para la función es push.\n",
        "* La función obtiene un parámetro (este es el valor que se debe colocar en la pila).\n",
        "* La función no retorna nada.\n",
        "* La función agrega el valor del parámetro al final de la pila.\n",
        "\n",
        "\n",
        "Así es como lo hemos hecho, echa un vistazo:"
      ],
      "metadata": {
        "id": "mYA3xhm3iN8I"
      }
    },
    {
      "cell_type": "code",
      "source": [
        "def push(val):\n",
        "    stack.append(val)\n",
        " "
      ],
      "metadata": {
        "id": "t0zUIulgdqZk"
      },
      "execution_count": 4,
      "outputs": []
    },
    {
      "cell_type": "markdown",
      "source": [
        "Ahora es tiempo de que una función quite un valor de la pila. Así es como puedes hacerlo:\n",
        "\n",
        "* El nombre de la función es pop.\n",
        "* La función no obtiene ningún parámetro.\n",
        "* La función devuelve el valor tomado de la pila.\n",
        "* La función lee el valor de la parte superior de la pila y lo elimina.\n",
        "\n",
        "\n",
        "La función esta aqui:"
      ],
      "metadata": {
        "id": "-Mc3tJX_iYFD"
      }
    },
    {
      "cell_type": "code",
      "source": [
        "def pop():\n",
        "    val = stack[-1]\n",
        "    del stack[-1]\n",
        "    return val"
      ],
      "metadata": {
        "id": "wg5L59l7dqXm"
      },
      "execution_count": 5,
      "outputs": []
    },
    {
      "cell_type": "markdown",
      "source": [
        "Nota: la función no verifica si hay algún elemento en la pila.\n",
        "\n",
        "Armemos todas las piezas juntas para poner la pila en movimiento. El programa completo empuja (push) tres números a la pila, los saca e imprime sus valores en pantalla. Puedes verlo en la ventana del editor."
      ],
      "metadata": {
        "id": "BpNui3Lri91C"
      }
    },
    {
      "cell_type": "code",
      "source": [
        "stack = []\n",
        "\n",
        "def push(val):\n",
        "    stack.append(val)\n",
        "\n",
        "def pop():\n",
        "    val = stack[-1]\n",
        "    del stack[-1]\n",
        "    return val\n",
        "\n",
        "push(3)\n",
        "push(2)\n",
        "push(1)\n",
        "\n",
        "print(pop())\n",
        "print(pop())\n",
        "print(pop())"
      ],
      "metadata": {
        "colab": {
          "base_uri": "https://localhost:8080/"
        },
        "id": "6JywZ9HqdqV7",
        "outputId": "3e75a03a-bbdc-4e81-a985-dd5519bf4cd7"
      },
      "execution_count": 6,
      "outputs": [
        {
          "output_type": "stream",
          "name": "stdout",
          "text": [
            "1\n",
            "2\n",
            "3\n"
          ]
        }
      ]
    },
    {
      "cell_type": "code",
      "source": [
        "# Pila creada con el enfoque de la programación orientada a objetos \n",
        "\n",
        "stack[0] = 0\n",
        " "
      ],
      "metadata": {
        "id": "d8bri_5ndqTj"
      },
      "execution_count": null,
      "outputs": []
    },
    {
      "cell_type": "code",
      "source": [
        "class Stack:"
      ],
      "metadata": {
        "colab": {
          "base_uri": "https://localhost:8080/",
          "height": 130
        },
        "id": "LY68fLAVdqQ2",
        "outputId": "bae97818-ce6f-4620-cec3-6012246b88e5"
      },
      "execution_count": 7,
      "outputs": [
        {
          "output_type": "error",
          "ename": "SyntaxError",
          "evalue": "ignored",
          "traceback": [
            "\u001b[0;36m  File \u001b[0;32m\"<ipython-input-7-0d761e433961>\"\u001b[0;36m, line \u001b[0;32m1\u001b[0m\n\u001b[0;31m    class Stack:\u001b[0m\n\u001b[0m                ^\u001b[0m\n\u001b[0;31mSyntaxError\u001b[0m\u001b[0;31m:\u001b[0m incomplete input\n"
          ]
        }
      ]
    },
    {
      "cell_type": "code",
      "source": [
        "class Stack:\n",
        "    def __init__ (self):\n",
        "        print(\"¡Hola!\")\n",
        " \n",
        " \n",
        "stack_object = Stack()"
      ],
      "metadata": {
        "colab": {
          "base_uri": "https://localhost:8080/"
        },
        "id": "kFtUBYvpdqOr",
        "outputId": "d8eea94d-6ef4-4059-874f-15605bc28a0f"
      },
      "execution_count": 8,
      "outputs": [
        {
          "output_type": "stream",
          "name": "stdout",
          "text": [
            "¡Hola!\n"
          ]
        }
      ]
    },
    {
      "cell_type": "code",
      "source": [
        "# Código explicado debidamente \n",
        "class Stack:  # Definiendo la clase Stack.\n",
        "    def __init__(self):  # Definiendo la función del constructor.\n",
        "        print(\"¡Hola!\")\n",
        "\n",
        "\n",
        "stack_object = Stack()  # Instanciando el objeto.\n",
        "    "
      ],
      "metadata": {
        "colab": {
          "base_uri": "https://localhost:8080/"
        },
        "id": "3cEG1oVNdqMt",
        "outputId": "eaccf260-7a39-40b3-9fc8-a9be8b8f304a"
      },
      "execution_count": 9,
      "outputs": [
        {
          "output_type": "stream",
          "name": "stdout",
          "text": [
            "¡Hola!\n"
          ]
        }
      ]
    },
    {
      "cell_type": "code",
      "source": [],
      "metadata": {
        "id": "pPWRqrXudqKW"
      },
      "execution_count": null,
      "outputs": []
    },
    {
      "cell_type": "code",
      "source": [],
      "metadata": {
        "id": "iJY1gvvndqIQ"
      },
      "execution_count": null,
      "outputs": []
    },
    {
      "cell_type": "code",
      "source": [],
      "metadata": {
        "id": "1JoJN7oKdqGH"
      },
      "execution_count": null,
      "outputs": []
    },
    {
      "cell_type": "code",
      "source": [],
      "metadata": {
        "id": "i8RXCEZddqEU"
      },
      "execution_count": null,
      "outputs": []
    },
    {
      "cell_type": "code",
      "source": [],
      "metadata": {
        "id": "nMB0SBWmdqBx"
      },
      "execution_count": null,
      "outputs": []
    },
    {
      "cell_type": "code",
      "source": [],
      "metadata": {
        "id": "rPcj0Y2Udp_z"
      },
      "execution_count": null,
      "outputs": []
    },
    {
      "cell_type": "code",
      "source": [],
      "metadata": {
        "id": "meB4gTCBdp9k"
      },
      "execution_count": null,
      "outputs": []
    },
    {
      "cell_type": "code",
      "source": [],
      "metadata": {
        "id": "N1w22H6Zdp7b"
      },
      "execution_count": null,
      "outputs": []
    },
    {
      "cell_type": "code",
      "source": [],
      "metadata": {
        "id": "1JhGHVL_dp5O"
      },
      "execution_count": null,
      "outputs": []
    },
    {
      "cell_type": "code",
      "source": [],
      "metadata": {
        "id": "dzs7u-aadpba"
      },
      "execution_count": null,
      "outputs": []
    }
  ]
}