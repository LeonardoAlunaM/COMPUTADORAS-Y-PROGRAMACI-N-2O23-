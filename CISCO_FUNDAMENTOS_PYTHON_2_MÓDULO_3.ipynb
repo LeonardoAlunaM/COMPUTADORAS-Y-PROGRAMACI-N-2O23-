{
  "nbformat": 4,
  "nbformat_minor": 0,
  "metadata": {
    "colab": {
      "provenance": [],
      "authorship_tag": "ABX9TyPgyj02AqNy9KTtmmpjt0LD",
      "include_colab_link": true
    },
    "kernelspec": {
      "name": "python3",
      "display_name": "Python 3"
    },
    "language_info": {
      "name": "python"
    }
  },
  "cells": [
    {
      "cell_type": "markdown",
      "metadata": {
        "id": "view-in-github",
        "colab_type": "text"
      },
      "source": [
        "<a href=\"https://colab.research.google.com/github/LeonardoAlunaM/COMPUTADORAS-Y-PROGRAMACI-N-2O23-/blob/main-COMPUTADORAS-Y-PROGTRAMACI%C3%93N-2023/CISCO_FUNDAMENTOS_PYTHON_2_M%C3%93DULO_3.ipynb\" target=\"_parent\"><img src=\"https://colab.research.google.com/assets/colab-badge.svg\" alt=\"Open In Colab\"/></a>"
      ]
    },
    {
      "cell_type": "markdown",
      "source": [
        "# Módulo 3: Programación orientada a objetos "
      ],
      "metadata": {
        "id": "zTogpZR6FZpk"
      }
    },
    {
      "cell_type": "markdown",
      "source": [
        "## 3.1 Sección 1 – Los fundamentos de la POO"
      ],
      "metadata": {
        "id": "6LThfSj7Fl6K"
      }
    },
    {
      "cell_type": "code",
      "execution_count": null,
      "metadata": {
        "id": "434qOzwmFPaj"
      },
      "outputs": [],
      "source": [
        "class TheSimplestClass:\n",
        "    pass\n",
        " "
      ]
    },
    {
      "cell_type": "markdown",
      "source": [
        "La definición comienza con la palabra clave reservada class. La palabra clave reservada es seguida por un identificador que le dará nombre a la clase (nota: no lo confundas con el nombre del objeto: estas son dos cosas diferentes).\n",
        "\n",
        "A continuación, se agregan dos puntos (:), como clases, como funciones, forman su propio bloque anidado. El contenido dentro del bloque define todas las propiedades y actividades de la clase.\n",
        "\n",
        "La palabra clave reservada pass llena la clase con nada. No contiene ningún método ni propiedades."
      ],
      "metadata": {
        "id": "OEt9CRqydcvr"
      }
    },
    {
      "cell_type": "code",
      "source": [
        "# Creación del primer objeto\n",
        "my_first_object = TheSimplestClass()"
      ],
      "metadata": {
        "id": "Vcgp2uwjdqiV"
      },
      "execution_count": 2,
      "outputs": []
    },
    {
      "cell_type": "markdown",
      "source": [
        "Nota:\n",
        "\n",
        "El nombre de la clase intenta fingir que es una función, ¿puedes ver esto? Lo discutiremos pronto.\n",
        "El objeto recién creado está equipado con todo lo que trae la clase. Como esta clase está completamente vacía, el objeto también está vacío.\n",
        "El acto de crear un objeto de la clase seleccionada también se llama instanciación (ya que el objeto se convierte en una instancia de la clase).\n",
        "\n",
        "Dejemos las clases en paz por un breve momento, ya que ahora diremos algunas palabras sobre pilas. Sabemos que el concepto de clases y objetos puede no estar completamente claro todavía. No te preocupes, te explicaremos todo muy pronto."
      ],
      "metadata": {
        "id": "cu7AXiazeTiN"
      }
    },
    {
      "cell_type": "code",
      "source": [
        "# 4. Para definir una clase de Python, se necesita usar la palabra clave reservada class. Por ejemplo:\n",
        "\n",
        "\n",
        "class This_Is_A_Class:\n",
        "    pass"
      ],
      "metadata": {
        "id": "7YwoLM0hdqgH"
      },
      "execution_count": null,
      "outputs": []
    },
    {
      "cell_type": "code",
      "source": [
        "# 5. Para crear un objeto de la clase previamente definida, se necesita usar la clase como si fuera una función. Por ejemplo:\n",
        "\n",
        "\n",
        "this_is_an_object = This_Is_A_Class()"
      ],
      "metadata": {
        "id": "oNgz1bnZdqeI"
      },
      "execution_count": null,
      "outputs": []
    },
    {
      "cell_type": "markdown",
      "source": [
        "# 3.2 Sección 2 – Un corto viaje desde el enfoque procedimental hacia el orientado a objetos"
      ],
      "metadata": {
        "id": "_Y14LIhDfIZ5"
      }
    },
    {
      "cell_type": "code",
      "source": [
        "stack = []"
      ],
      "metadata": {
        "id": "fqovSpavdqbt"
      },
      "execution_count": 3,
      "outputs": []
    },
    {
      "cell_type": "markdown",
      "source": [
        "Estamos listos para definir una función que coloca un valor en la pila. Aquí están las presuposiciones para ello:\n",
        "\n",
        "* El nombre para la función es push.\n",
        "* La función obtiene un parámetro (este es el valor que se debe colocar en la pila).\n",
        "* La función no retorna nada.\n",
        "* La función agrega el valor del parámetro al final de la pila.\n",
        "\n",
        "\n",
        "Así es como lo hemos hecho, echa un vistazo:"
      ],
      "metadata": {
        "id": "mYA3xhm3iN8I"
      }
    },
    {
      "cell_type": "code",
      "source": [
        "def push(val):\n",
        "    stack.append(val)\n",
        " "
      ],
      "metadata": {
        "id": "t0zUIulgdqZk"
      },
      "execution_count": 4,
      "outputs": []
    },
    {
      "cell_type": "markdown",
      "source": [
        "Ahora es tiempo de que una función quite un valor de la pila. Así es como puedes hacerlo:\n",
        "\n",
        "* El nombre de la función es pop.\n",
        "* La función no obtiene ningún parámetro.\n",
        "* La función devuelve el valor tomado de la pila.\n",
        "* La función lee el valor de la parte superior de la pila y lo elimina.\n",
        "\n",
        "\n",
        "La función esta aqui:"
      ],
      "metadata": {
        "id": "-Mc3tJX_iYFD"
      }
    },
    {
      "cell_type": "code",
      "source": [
        "def pop():\n",
        "    val = stack[-1]\n",
        "    del stack[-1]\n",
        "    return val"
      ],
      "metadata": {
        "id": "wg5L59l7dqXm"
      },
      "execution_count": 5,
      "outputs": []
    },
    {
      "cell_type": "markdown",
      "source": [
        "Nota: la función no verifica si hay algún elemento en la pila.\n",
        "\n",
        "Armemos todas las piezas juntas para poner la pila en movimiento. El programa completo empuja (push) tres números a la pila, los saca e imprime sus valores en pantalla. Puedes verlo en la ventana del editor."
      ],
      "metadata": {
        "id": "BpNui3Lri91C"
      }
    },
    {
      "cell_type": "code",
      "source": [
        "stack = []\n",
        "\n",
        "def push(val):\n",
        "    stack.append(val)\n",
        "\n",
        "def pop():\n",
        "    val = stack[-1]\n",
        "    del stack[-1]\n",
        "    return val\n",
        "\n",
        "push(3)\n",
        "push(2)\n",
        "push(1)\n",
        "\n",
        "print(pop())\n",
        "print(pop())\n",
        "print(pop())"
      ],
      "metadata": {
        "colab": {
          "base_uri": "https://localhost:8080/"
        },
        "id": "6JywZ9HqdqV7",
        "outputId": "3e75a03a-bbdc-4e81-a985-dd5519bf4cd7"
      },
      "execution_count": 6,
      "outputs": [
        {
          "output_type": "stream",
          "name": "stdout",
          "text": [
            "1\n",
            "2\n",
            "3\n"
          ]
        }
      ]
    },
    {
      "cell_type": "code",
      "source": [
        "# Pila creada con el enfoque de la programación orientada a objetos \n",
        "\n",
        "stack[0] = 0\n",
        " "
      ],
      "metadata": {
        "id": "d8bri_5ndqTj"
      },
      "execution_count": null,
      "outputs": []
    },
    {
      "cell_type": "code",
      "source": [
        "class Stack:"
      ],
      "metadata": {
        "colab": {
          "base_uri": "https://localhost:8080/",
          "height": 130
        },
        "id": "LY68fLAVdqQ2",
        "outputId": "bae97818-ce6f-4620-cec3-6012246b88e5"
      },
      "execution_count": 7,
      "outputs": [
        {
          "output_type": "error",
          "ename": "SyntaxError",
          "evalue": "ignored",
          "traceback": [
            "\u001b[0;36m  File \u001b[0;32m\"<ipython-input-7-0d761e433961>\"\u001b[0;36m, line \u001b[0;32m1\u001b[0m\n\u001b[0;31m    class Stack:\u001b[0m\n\u001b[0m                ^\u001b[0m\n\u001b[0;31mSyntaxError\u001b[0m\u001b[0;31m:\u001b[0m incomplete input\n"
          ]
        }
      ]
    },
    {
      "cell_type": "code",
      "source": [
        "class Stack:\n",
        "    def __init__ (self):\n",
        "        print(\"¡Hola!\")\n",
        " \n",
        " \n",
        "stack_object = Stack()"
      ],
      "metadata": {
        "colab": {
          "base_uri": "https://localhost:8080/"
        },
        "id": "kFtUBYvpdqOr",
        "outputId": "d8eea94d-6ef4-4059-874f-15605bc28a0f"
      },
      "execution_count": 8,
      "outputs": [
        {
          "output_type": "stream",
          "name": "stdout",
          "text": [
            "¡Hola!\n"
          ]
        }
      ]
    },
    {
      "cell_type": "code",
      "source": [
        "# Código explicado debidamente \n",
        "class Stack:  # Definiendo la clase Stack.\n",
        "    def __init__(self):  # Definiendo la función del constructor.\n",
        "        print(\"¡Hola!\")\n",
        "\n",
        "\n",
        "stack_object = Stack()  # Instanciando el objeto.\n",
        "    "
      ],
      "metadata": {
        "colab": {
          "base_uri": "https://localhost:8080/"
        },
        "id": "3cEG1oVNdqMt",
        "outputId": "eaccf260-7a39-40b3-9fc8-a9be8b8f304a"
      },
      "execution_count": 9,
      "outputs": [
        {
          "output_type": "stream",
          "name": "stdout",
          "text": [
            "¡Hola!\n"
          ]
        }
      ]
    },
    {
      "cell_type": "code",
      "source": [
        "class Stack:\n",
        "    def __init__(self):\n",
        "        self.stack_list = []\n",
        "\n",
        "\n",
        "stack_object = Stack()\n",
        "print(len(stack_object.stack_list))\n",
        "    "
      ],
      "metadata": {
        "colab": {
          "base_uri": "https://localhost:8080/"
        },
        "id": "pPWRqrXudqKW",
        "outputId": "6c7ecf1a-5c9d-4119-ea55-4272da974e39"
      },
      "execution_count": 10,
      "outputs": [
        {
          "output_type": "stream",
          "name": "stdout",
          "text": [
            "0\n"
          ]
        }
      ]
    },
    {
      "cell_type": "code",
      "source": [
        "class Stack:\n",
        "    def __init__(self):\n",
        "        self.__stack_list = []\n",
        "\n",
        "\n",
        "stack_object = Stack()\n",
        "print(len(stack_object.__stack_list))\n",
        "    "
      ],
      "metadata": {
        "colab": {
          "base_uri": "https://localhost:8080/",
          "height": 217
        },
        "id": "iJY1gvvndqIQ",
        "outputId": "6b855d79-b324-4f85-ef37-247602387229"
      },
      "execution_count": 11,
      "outputs": [
        {
          "output_type": "error",
          "ename": "AttributeError",
          "evalue": "ignored",
          "traceback": [
            "\u001b[0;31m---------------------------------------------------------------------------\u001b[0m",
            "\u001b[0;31mAttributeError\u001b[0m                            Traceback (most recent call last)",
            "\u001b[0;32m<ipython-input-11-c3d515de54b9>\u001b[0m in \u001b[0;36m<cell line: 7>\u001b[0;34m()\u001b[0m\n\u001b[1;32m      5\u001b[0m \u001b[0;34m\u001b[0m\u001b[0m\n\u001b[1;32m      6\u001b[0m \u001b[0mstack_object\u001b[0m \u001b[0;34m=\u001b[0m \u001b[0mStack\u001b[0m\u001b[0;34m(\u001b[0m\u001b[0;34m)\u001b[0m\u001b[0;34m\u001b[0m\u001b[0;34m\u001b[0m\u001b[0m\n\u001b[0;32m----> 7\u001b[0;31m \u001b[0mprint\u001b[0m\u001b[0;34m(\u001b[0m\u001b[0mlen\u001b[0m\u001b[0;34m(\u001b[0m\u001b[0mstack_object\u001b[0m\u001b[0;34m.\u001b[0m\u001b[0m__stack_list\u001b[0m\u001b[0;34m)\u001b[0m\u001b[0;34m)\u001b[0m\u001b[0;34m\u001b[0m\u001b[0;34m\u001b[0m\u001b[0m\n\u001b[0m\u001b[1;32m      8\u001b[0m \u001b[0;34m\u001b[0m\u001b[0m\n",
            "\u001b[0;31mAttributeError\u001b[0m: 'Stack' object has no attribute '__stack_list'"
          ]
        }
      ]
    },
    {
      "cell_type": "code",
      "source": [
        "class Stack:\n",
        "    def __init__(self):\n",
        "        self.__stack_list = []\n",
        "\n",
        "\n",
        "    def push(self, val):\n",
        "        self.__stack_list.append(val)\n",
        "\n",
        "\n",
        "    def pop(self):\n",
        "        val = self.__stack_list[-1]\n",
        "        del self.__stack_list[-1]\n",
        "        return val\n",
        "\n",
        "\n",
        "stack_object = Stack()\n",
        "\n",
        "stack_object.push(3)\n",
        "stack_object.push(2)\n",
        "stack_object.push(1)\n",
        "\n",
        "print(stack_object.pop())\n",
        "print(stack_object.pop())\n",
        "print(stack_object.pop())"
      ],
      "metadata": {
        "colab": {
          "base_uri": "https://localhost:8080/"
        },
        "id": "1JoJN7oKdqGH",
        "outputId": "833911a3-64c4-472f-e25c-83e1377714ba"
      },
      "execution_count": 12,
      "outputs": [
        {
          "output_type": "stream",
          "name": "stdout",
          "text": [
            "1\n",
            "2\n",
            "3\n"
          ]
        }
      ]
    },
    {
      "cell_type": "code",
      "source": [
        "class Stack:\n",
        "    def __init__(self):\n",
        "        self.__stack_list = []\n",
        "\n",
        "    def push(self, val):\n",
        "        self.__stack_list.append(val)\n",
        "\n",
        "    def pop(self):\n",
        "        val = self.__stack_list[-1]\n",
        "        del self.__stack_list[-1]\n",
        "        return val\n",
        "\n",
        "\n",
        "stack_object_1 = Stack()\n",
        "stack_object_2 = Stack()\n",
        "\n",
        "stack_object_1.push(3)\n",
        "stack_object_2.push(stack_object_1.pop())\n",
        "\n",
        "print(stack_object_2.pop())"
      ],
      "metadata": {
        "colab": {
          "base_uri": "https://localhost:8080/"
        },
        "id": "i8RXCEZddqEU",
        "outputId": "cbe088cf-645f-42f2-fbc3-99a9e8b4a190"
      },
      "execution_count": 13,
      "outputs": [
        {
          "output_type": "stream",
          "name": "stdout",
          "text": [
            "3\n"
          ]
        }
      ]
    },
    {
      "cell_type": "code",
      "source": [
        "class Stack:\n",
        "    def __init__(self):\n",
        "        self.__stack_list = []\n",
        "\n",
        "    def push(self, val):\n",
        "        self.__stack_list.append(val)\n",
        "\n",
        "    def pop(self):\n",
        "        val = self.__stack_list[-1]\n",
        "        del self.__stack_list[-1]\n",
        "        return val\n",
        "\n",
        "\n",
        "little_stack = Stack()\n",
        "another_stack = Stack()\n",
        "funny_stack = Stack()\n",
        "\n",
        "little_stack.push(1)\n",
        "another_stack.push(little_stack.pop() + 1)\n",
        "funny_stack.push(another_stack.pop() - 2)\n",
        "\n",
        "print(funny_stack.pop())"
      ],
      "metadata": {
        "colab": {
          "base_uri": "https://localhost:8080/"
        },
        "id": "nMB0SBWmdqBx",
        "outputId": "492f45d8-c47d-4ce7-8637-dc08ff1fcb34"
      },
      "execution_count": 14,
      "outputs": [
        {
          "output_type": "stream",
          "name": "stdout",
          "text": [
            "0\n"
          ]
        }
      ]
    },
    {
      "cell_type": "code",
      "source": [
        "class AddingStack(Stack):\n",
        "    pass"
      ],
      "metadata": {
        "id": "rPcj0Y2Udp_z"
      },
      "execution_count": 15,
      "outputs": []
    },
    {
      "cell_type": "code",
      "source": [
        "class AddingStack(Stack):\n",
        "    def __init__(self):\n",
        "        Stack.__init__(self)\n",
        "        self.__sum = 0\n",
        " "
      ],
      "metadata": {
        "id": "meB4gTCBdp9k"
      },
      "execution_count": 16,
      "outputs": []
    },
    {
      "cell_type": "code",
      "source": [
        "class Stack:\n",
        "    def __init__(self):\n",
        "        self.__stack_list = []\n",
        "\n",
        "    def push(self, val):\n",
        "        self.__stack_list.append(val)\n",
        "\n",
        "    def pop(self):\n",
        "        val = self.__stack_list[-1]\n",
        "        del self.__stack_list[-1]\n",
        "        return val\n",
        "\n",
        "\n",
        "class AddingStack(Stack):\n",
        "    def __init__(self):\n",
        "        Stack.__init__(self)\n",
        "        self.__sum = 0"
      ],
      "metadata": {
        "id": "N1w22H6Zdp7b"
      },
      "execution_count": 18,
      "outputs": []
    },
    {
      "cell_type": "code",
      "source": [
        "def push(self, val):\n",
        "    self.__sum += val\n",
        "    Stack.push(self, val)"
      ],
      "metadata": {
        "id": "QF_2yLFyvIWr"
      },
      "execution_count": null,
      "outputs": []
    },
    {
      "cell_type": "code",
      "source": [
        "class Stack:\n",
        "    def __init__(self):\n",
        "        self.__stackList = []\n",
        "\n",
        "    def push(self, val):\n",
        "        self.__stackList.append(val)\n",
        "\n",
        "    def pop(self):\n",
        "        val = self.__stackList[-1]\n",
        "        del self.__stackList[-1]\n",
        "        return val\n",
        "\n",
        "\n",
        "class AddingStack(Stack):\n",
        "    def __init__(self):\n",
        "        Stack.__init__(self)\n",
        "        self.__sum = 0\n",
        "\n",
        "\n",
        "# Ingresar código aquí."
      ],
      "metadata": {
        "id": "EYllP3mWv_u0"
      },
      "execution_count": 21,
      "outputs": []
    },
    {
      "cell_type": "code",
      "source": [
        "class Stack:\n",
        "    def __init__(self):\n",
        "        self.__stackList = []\n",
        "\n",
        "    def push(self, val):\n",
        "        self.__stackList.append(val)\n",
        "\n",
        "    def pop(self):\n",
        "        val = self.__stackList[-1]\n",
        "        del self.__stackList[-1]\n",
        "        return val\n",
        "\n",
        "\n",
        "class AddingStack(Stack):\n",
        "    def __init__(self):\n",
        "        Stack.__init__(self)\n",
        "        self.__sum = 0\n",
        "\n",
        "\n",
        "# Ingresar código aquí.\n",
        "    def push(self, val):\n",
        "        self.__sum += val\n",
        "        Stack.push(self, val)"
      ],
      "metadata": {
        "id": "6R6gokCYvIUC"
      },
      "execution_count": 20,
      "outputs": []
    },
    {
      "cell_type": "code",
      "source": [
        "def get_sum(self):\n",
        "    return self.__sum\n",
        " "
      ],
      "metadata": {
        "id": "ewf0uLn7vISF"
      },
      "execution_count": 22,
      "outputs": []
    },
    {
      "cell_type": "code",
      "source": [
        "class Stack:\n",
        "    def __init__(self):\n",
        "        self.__stack_list = []\n",
        "\n",
        "    def push(self, val):\n",
        "        self.__stack_list.append(val)\n",
        "\n",
        "    def pop(self):\n",
        "        val = self.__stack_list[-1]\n",
        "        del self.__stack_list[-1]\n",
        "        return val\n",
        "\n",
        "\n",
        "class AddingStack(Stack):\n",
        "    def __init__(self):\n",
        "        Stack.__init__(self)\n",
        "        self.__sum = 0\n",
        "\n",
        "    def get_sum(self):\n",
        "        return self.__sum\n",
        "\n",
        "    def push(self, val):\n",
        "        self.__sum += val\n",
        "        Stack.push(self, val)\n",
        "\n",
        "    def pop(self):\n",
        "        val = Stack.pop(self)\n",
        "        self.__sum -= val\n",
        "        return val\n",
        "\n",
        "\n",
        "stack_object = AddingStack()\n",
        "\n",
        "for i in range(5):\n",
        "    stack_object.push(i)\n",
        "print(stack_object.get_sum())\n",
        "\n",
        "for i in range(5):\n",
        "    print(stack_object.pop())"
      ],
      "metadata": {
        "colab": {
          "base_uri": "https://localhost:8080/"
        },
        "id": "pk5llJi8vIPt",
        "outputId": "59d74c22-5dbd-47f9-f0bc-3d52df2e48b4"
      },
      "execution_count": 23,
      "outputs": [
        {
          "output_type": "stream",
          "name": "stdout",
          "text": [
            "10\n",
            "4\n",
            "3\n",
            "2\n",
            "1\n",
            "0\n"
          ]
        }
      ]
    },
    {
      "cell_type": "code",
      "source": [
        "class Snakes:\n",
        "    def __init__(self):\n",
        "        self.__venomous = True\n",
        "\n"
      ],
      "metadata": {
        "id": "lb0HHh9YvINq"
      },
      "execution_count": 25,
      "outputs": []
    },
    {
      "cell_type": "code",
      "source": [
        "class Stack:\n",
        "    def __init__(self):\n",
        "        self.__stk = []\n",
        "\n",
        "    def push(self, val):\n",
        "        self.__stk.append(val)\n",
        "\n",
        "    def pop(self):\n",
        "        val = self.__stk[-1]\n",
        "        del self.__stk[-1]\n",
        "        return val\n",
        "\n",
        "\n",
        "class CountingStack(Stack):\n",
        "    def __init__(self):\n",
        "    #\n",
        "    # Llena el constructor con acciones apropiadas.\n",
        "    #\n",
        "\n",
        "    def get_counter(self):\n",
        "    #\n",
        "    # Presenta el valor actual del contador al mundo.\n",
        "    #\n",
        "\n",
        "    def pop(self):\n",
        "    #\n",
        "    # Haz un pop y actualiza el contador.\n",
        "    #\n",
        "\t\n",
        "\n",
        "stk = CountingStack()\n",
        "for i in range(100):\n",
        "    stk.push(i)\n",
        "    stk.pop()\n",
        "print(stk.get_counter())"
      ],
      "metadata": {
        "id": "p_0ONjjPvILH"
      },
      "execution_count": null,
      "outputs": []
    },
    {
      "cell_type": "code",
      "source": [
        "class Stack:\n",
        "    def __init__(self):\n",
        "        self.__stk = []\n",
        "\n",
        "    def push(self, val):\n",
        "        self.__stk.append(val)\n",
        "\n",
        "    def pop(self):\n",
        "        val = self.__stk[-1]\n",
        "        del self.__stk[-1]\n",
        "        return val\n",
        "\n",
        "\n",
        "class CountingStack(Stack):\n",
        "    def __init__(self):\n",
        "        Stack.__init__(self)\n",
        "        self.__counter = 0\n",
        "\n",
        "    def get_counter(self):\n",
        "        return self.__counter\n",
        "\n",
        "    def pop(self):\n",
        "        self.__counter += 1\n",
        "        return Stack.pop(self)\n",
        "\n",
        "\n",
        "stk = CountingStack()\n",
        "for i in range(100):\n",
        "    stk.push(i)\n",
        "    stk.pop()\n",
        "print(stk.get_counter())"
      ],
      "metadata": {
        "colab": {
          "base_uri": "https://localhost:8080/"
        },
        "id": "QTj3ztOLvIGi",
        "outputId": "7563f348-9a33-4746-9a1b-f897daa4aab1"
      },
      "execution_count": 26,
      "outputs": [
        {
          "output_type": "stream",
          "name": "stdout",
          "text": [
            "100\n"
          ]
        }
      ]
    },
    {
      "cell_type": "code",
      "source": [
        "class QueueError(???):  # Eligir la clase base para la nueva excepción.\n",
        "    #\n",
        "    #  Escribe el código aquí.\n",
        "    #\n",
        "\n",
        "\n",
        "class Queue:\n",
        "    def __init__(self):\n",
        "        #\n",
        "        # Escribe el código aquí.\n",
        "        #\n",
        "\n",
        "    def put(self, elem):\n",
        "        #\n",
        "        # Escribe el código aquí.\n",
        "        #\n",
        "\n",
        "    def get(self):\n",
        "        #\n",
        "        # Escribe el código aquí.\n",
        "        #\n",
        "\n",
        "\n",
        "que = Queue()\n",
        "que.put(1)\n",
        "que.put(\"perro\")\n",
        "que.put(False)\n",
        "try:\n",
        "    for i in range(4):\n",
        "        print(que.get())\n",
        "except:\n",
        "    print(\"Queue error\")"
      ],
      "metadata": {
        "colab": {
          "base_uri": "https://localhost:8080/",
          "height": 130
        },
        "id": "_Hd2J7uTvIEK",
        "outputId": "4490424c-6a16-4870-d8e4-69b0d86868ec"
      },
      "execution_count": 27,
      "outputs": [
        {
          "output_type": "error",
          "ename": "SyntaxError",
          "evalue": "ignored",
          "traceback": [
            "\u001b[0;36m  File \u001b[0;32m\"<ipython-input-27-9ad3b2335497>\"\u001b[0;36m, line \u001b[0;32m1\u001b[0m\n\u001b[0;31m    class QueueError(???):  # Eligir la clase base para la nueva excepción.\u001b[0m\n\u001b[0m                     ^\u001b[0m\n\u001b[0;31mSyntaxError\u001b[0m\u001b[0;31m:\u001b[0m invalid syntax\n"
          ]
        }
      ]
    },
    {
      "cell_type": "code",
      "source": [
        "class QueueError(IndexError):\n",
        "    pass\n",
        "\n",
        "\n",
        "class Queue:\n",
        "    def __init__(self):\n",
        "        self.queue = []\n",
        "\n",
        "    def put(self, elem):\n",
        "        self.queue.insert(0, elem)\n",
        "\n",
        "    def get(self):\n",
        "        if len(self.queue) > 0:\n",
        "            elem = self.queue[-1]\n",
        "            del self.queue[-1]\n",
        "            return elem\n",
        "        else:\n",
        "            raise QueueError\n",
        "\n",
        "\n",
        "que = Queue()\n",
        "que.put(1)\n",
        "que.put(\"perro\")\n",
        "que.put(False)\n",
        "try:\n",
        "    for i in range(4):\n",
        "        print(que.get())\n",
        "except:\n",
        "    print(\"Queue error\")"
      ],
      "metadata": {
        "colab": {
          "base_uri": "https://localhost:8080/"
        },
        "id": "jdcQ4SJUvICI",
        "outputId": "c93fe613-84c3-4b7b-c574-e6661bc6ebdf"
      },
      "execution_count": 28,
      "outputs": [
        {
          "output_type": "stream",
          "name": "stdout",
          "text": [
            "1\n",
            "perro\n",
            "False\n",
            "Queue error\n"
          ]
        }
      ]
    },
    {
      "cell_type": "markdown",
      "source": [
        "# 3.2.10   LAB   Colas alias FIFO: parte 2"
      ],
      "metadata": {
        "id": "sjwlSmEHz2Mn"
      }
    },
    {
      "cell_type": "code",
      "source": [
        "class QueueError(???):\n",
        "    pass\n",
        "\n",
        "\n",
        "class Queue:\n",
        "    #\n",
        "    # Código del laboratorio anterior.\n",
        "    #\n",
        "\n",
        "\n",
        "class SuperQueue(Queue):\n",
        "    #\n",
        "    # Escribe código nuevo aquí.\n",
        "    #\n",
        "\n",
        "\n",
        "que = SuperQueue()\n",
        "que.put(1)\n",
        "que.put(\"perro\")\n",
        "que.put(False)\n",
        "for i in range(4):\n",
        "    if not que.isempty():\n",
        "        print(que.get())\n",
        "    else:\n",
        "        print(\"Cola vacía\")"
      ],
      "metadata": {
        "id": "hGDDaV1gvH_z"
      },
      "execution_count": null,
      "outputs": []
    },
    {
      "cell_type": "code",
      "source": [
        "class QueueError(IndexError):\n",
        "    pass\n",
        "\n",
        "\n",
        "class Queue:\n",
        "    def __init__(self):\n",
        "        self.queue = []\n",
        "    def put(self,elem):\n",
        "        self.queue.insert(0,elem)\n",
        "    def get(self):\n",
        "        if len(self.queue) > 0:\n",
        "            elem = self.queue[-1]\n",
        "            del self.queue[-1]\n",
        "            return elem\n",
        "        else:\n",
        "            raise QueueError\n",
        "\n",
        "\n",
        "class SuperQueue(Queue):\n",
        "    def isempty(self):\n",
        "        return len(self.queue) == 0\n",
        "\n",
        "\n",
        "que = SuperQueue()\n",
        "que.put(1)\n",
        "que.put(\"perro\")\n",
        "que.put(False)\n",
        "for i in range(4):\n",
        "    if not que.isempty():\n",
        "        print(que.get())\n",
        "    else:\n",
        "        print(\"Cola vacía\")"
      ],
      "metadata": {
        "colab": {
          "base_uri": "https://localhost:8080/"
        },
        "id": "c5BgJDI5vH95",
        "outputId": "4a78d10d-5ee3-4998-952a-8bd18d5834cf"
      },
      "execution_count": 29,
      "outputs": [
        {
          "output_type": "stream",
          "name": "stdout",
          "text": [
            "1\n",
            "perro\n",
            "False\n",
            "Cola vacía\n"
          ]
        }
      ]
    },
    {
      "cell_type": "markdown",
      "source": [
        "# 3.3 Sección 3 – POO: Propiedades"
      ],
      "metadata": {
        "id": "1VuROfX30lkS"
      }
    },
    {
      "cell_type": "code",
      "source": [
        "class ExampleClass:\n",
        "    def __init__(self, val = 1):\n",
        "        self.first = val\n",
        " \n",
        "    def set_second(self, val):\n",
        "        self.second = val\n",
        " \n",
        " \n",
        "example_object_1 = ExampleClass()\n",
        "example_object_2 = ExampleClass(2)\n",
        " \n",
        "example_object_2.set_second(3)\n",
        " \n",
        "example_object_3 = ExampleClass(4)\n",
        "example_object_3.third = 5\n",
        " \n",
        "print(example_object_1.__dict__)\n",
        "print(example_object_2.__dict__)\n",
        "print(example_object_3.__dict__)"
      ],
      "metadata": {
        "colab": {
          "base_uri": "https://localhost:8080/"
        },
        "id": "beHQDKtNvH7a",
        "outputId": "577f106c-3b7d-43d8-cb91-6452cd99c22d"
      },
      "execution_count": 30,
      "outputs": [
        {
          "output_type": "stream",
          "name": "stdout",
          "text": [
            "{'first': 1}\n",
            "{'first': 2, 'second': 3}\n",
            "{'first': 4, 'third': 5}\n"
          ]
        }
      ]
    },
    {
      "cell_type": "code",
      "source": [
        "class ExampleClass:\n",
        "    def __init__(self, val = 1):\n",
        "        self.__first = val\n",
        "\n",
        "    def set_second(self, val = 2):\n",
        "        self.__second = val\n",
        "\n",
        "\n",
        "example_object_1 = ExampleClass()\n",
        "example_object_2 = ExampleClass(2)\n",
        "\n",
        "example_object_2.set_second(3)\n",
        "\n",
        "example_object_3 = ExampleClass(4)\n",
        "example_object_3.__third = 5\n",
        "\n",
        "\n",
        "print(example_object_1.__dict__)\n",
        "print(example_object_2.__dict__)\n",
        "print(example_object_3.__dict__)\n",
        "print(example_object_1._ExampleClass__first)"
      ],
      "metadata": {
        "colab": {
          "base_uri": "https://localhost:8080/"
        },
        "id": "w9mxyy0mvH55",
        "outputId": "d425ce06-a162-47dc-ccff-ba0eece25e7d"
      },
      "execution_count": 33,
      "outputs": [
        {
          "output_type": "stream",
          "name": "stdout",
          "text": [
            "{'_ExampleClass__first': 1}\n",
            "{'_ExampleClass__first': 2, '_ExampleClass__second': 3}\n",
            "{'_ExampleClass__first': 4, '__third': 5}\n",
            "1\n"
          ]
        }
      ]
    },
    {
      "cell_type": "code",
      "source": [
        "print(example_object_1._ExampleClass__first)"
      ],
      "metadata": {
        "colab": {
          "base_uri": "https://localhost:8080/"
        },
        "id": "PtzQNWvQvH4S",
        "outputId": "a7a44f83-29c3-4af2-deb4-021d7810c2b5"
      },
      "execution_count": 32,
      "outputs": [
        {
          "output_type": "stream",
          "name": "stdout",
          "text": [
            "1\n"
          ]
        }
      ]
    },
    {
      "cell_type": "markdown",
      "source": [
        "Obtendrás un resultado válido sin errores ni excepciones.\n",
        "\n",
        "Como puedes ver, hacer que una propiedad sea privada es limitado.\n",
        "\n",
        "No funcionará si agregas una variable de instancia fuera del código de la clase. En este caso, se comportará como cualquier otra propiedad ordinaria."
      ],
      "metadata": {
        "id": "af5b6Fmf_m8y"
      }
    },
    {
      "cell_type": "code",
      "source": [
        "class ExampleClass:\n",
        "    counter = 0\n",
        "    def __init__(self, val = 1):\n",
        "        self.__first = val\n",
        "        ExampleClass.counter += 1\n",
        " \n",
        " \n",
        "example_object_1 = ExampleClass()\n",
        "example_object_2 = ExampleClass(2)\n",
        "example_object_3 = ExampleClass(4)\n",
        " \n",
        "print(example_object_1.__dict__, example_object_1.counter)\n",
        "print(example_object_2.__dict__, example_object_2.counter)\n",
        "print(example_object_3.__dict__, example_object_3.counter)"
      ],
      "metadata": {
        "colab": {
          "base_uri": "https://localhost:8080/"
        },
        "id": "4UuhSKaQvH1f",
        "outputId": "d82733e1-539f-45bc-ed55-1d122e496484"
      },
      "execution_count": 35,
      "outputs": [
        {
          "output_type": "stream",
          "name": "stdout",
          "text": [
            "{'_ExampleClass__first': 1} 3\n",
            "{'_ExampleClass__first': 2} 3\n",
            "{'_ExampleClass__first': 4} 3\n"
          ]
        }
      ]
    },
    {
      "cell_type": "code",
      "source": [
        "class ExampleClass:\n",
        "    varia = 1\n",
        "    def __init__(self, val):\n",
        "        ExampleClass.varia = val\n",
        "\n",
        "\n",
        "print(ExampleClass.__dict__)\n",
        "example_object = ExampleClass(2)\n",
        "\n",
        "print(ExampleClass.__dict__)\n",
        "print(example_object.__dict__)\n",
        "    "
      ],
      "metadata": {
        "colab": {
          "base_uri": "https://localhost:8080/"
        },
        "id": "ylY_HLpCvHy4",
        "outputId": "b9c86754-7c61-4cb0-91b9-5420944368e1"
      },
      "execution_count": 36,
      "outputs": [
        {
          "output_type": "stream",
          "name": "stdout",
          "text": [
            "{'__module__': '__main__', 'varia': 1, '__init__': <function ExampleClass.__init__ at 0x7f244c783e20>, '__dict__': <attribute '__dict__' of 'ExampleClass' objects>, '__weakref__': <attribute '__weakref__' of 'ExampleClass' objects>, '__doc__': None}\n",
            "{'__module__': '__main__', 'varia': 2, '__init__': <function ExampleClass.__init__ at 0x7f244c783e20>, '__dict__': <attribute '__dict__' of 'ExampleClass' objects>, '__weakref__': <attribute '__weakref__' of 'ExampleClass' objects>, '__doc__': None}\n",
            "{}\n"
          ]
        }
      ]
    },
    {
      "cell_type": "code",
      "source": [],
      "metadata": {
        "id": "CkbkqqBYKy-L"
      },
      "execution_count": null,
      "outputs": []
    },
    {
      "cell_type": "code",
      "source": [],
      "metadata": {
        "id": "xbFwJaClKy7d"
      },
      "execution_count": null,
      "outputs": []
    },
    {
      "cell_type": "code",
      "source": [],
      "metadata": {
        "id": "P1bxMvxsKyxz"
      },
      "execution_count": null,
      "outputs": []
    },
    {
      "cell_type": "code",
      "source": [],
      "metadata": {
        "id": "kFcRjAC0KyvP"
      },
      "execution_count": null,
      "outputs": []
    },
    {
      "cell_type": "code",
      "source": [],
      "metadata": {
        "id": "MU9tny4BKysg"
      },
      "execution_count": null,
      "outputs": []
    },
    {
      "cell_type": "code",
      "source": [],
      "metadata": {
        "id": "ikVo-GYAKyp2"
      },
      "execution_count": null,
      "outputs": []
    },
    {
      "cell_type": "code",
      "source": [],
      "metadata": {
        "id": "Y6my_ucsKynY"
      },
      "execution_count": null,
      "outputs": []
    },
    {
      "cell_type": "code",
      "source": [],
      "metadata": {
        "id": "s0S0L-ncKyk6"
      },
      "execution_count": null,
      "outputs": []
    },
    {
      "cell_type": "code",
      "source": [],
      "metadata": {
        "id": "A8oU8F0qKyh-"
      },
      "execution_count": null,
      "outputs": []
    },
    {
      "cell_type": "code",
      "source": [],
      "metadata": {
        "id": "l5eTwjetKye-"
      },
      "execution_count": null,
      "outputs": []
    },
    {
      "cell_type": "code",
      "source": [],
      "metadata": {
        "id": "vULxFtVpvHwd"
      },
      "execution_count": null,
      "outputs": []
    },
    {
      "cell_type": "code",
      "source": [],
      "metadata": {
        "id": "jjJwErqFvHuP"
      },
      "execution_count": null,
      "outputs": []
    },
    {
      "cell_type": "code",
      "source": [],
      "metadata": {
        "id": "1JhGHVL_dp5O"
      },
      "execution_count": null,
      "outputs": []
    },
    {
      "cell_type": "code",
      "source": [],
      "metadata": {
        "id": "dzs7u-aadpba"
      },
      "execution_count": null,
      "outputs": []
    }
  ]
}