{
  "nbformat": 4,
  "nbformat_minor": 0,
  "metadata": {
    "colab": {
      "provenance": [],
      "authorship_tag": "ABX9TyNOr8oMtiJ6t9pKecYnBXv3",
      "include_colab_link": true
    },
    "kernelspec": {
      "name": "python3",
      "display_name": "Python 3"
    },
    "language_info": {
      "name": "python"
    }
  },
  "cells": [
    {
      "cell_type": "markdown",
      "metadata": {
        "id": "view-in-github",
        "colab_type": "text"
      },
      "source": [
        "<a href=\"https://colab.research.google.com/github/LeonardoAlunaM/COMPUTADORAS-Y-PROGRAMACI-N-2O23-/blob/main-COMPUTADORAS-Y-PROGTRAMACI%C3%93N-2023/GR%C3%81FICOS_CON_MATPLOTLIB.ipynb\" target=\"_parent\"><img src=\"https://colab.research.google.com/assets/colab-badge.svg\" alt=\"Open In Colab\"/></a>"
      ]
    },
    {
      "cell_type": "code",
      "execution_count": null,
      "metadata": {
        "id": "rD451l91acCG"
      },
      "outputs": [],
      "source": [
        "# LLAM CREANDO GRÁFICOS CON MATPLOTLIB, 06 / 08 / 2023, 08/07/2023\n",
        "import matplotlib.pyplot as plt\n",
        "\n",
        "# Estableciendo los datos para crear los gráficos\n",
        "# Estos datos conciernen a la serie de animación \"Los Simpsoms\"\n",
        "seasons = ['Season 1','Season 2','Season 3','Season 4','Season 5']  # Temporada\n",
        "years = [1989        , 1990     , 1991     , 1992     , 1993     ]  # Años\n",
        "ratings = [7.9       , 8.1      , 8.2      , 8.4      , 8.4      ]  # Calificación\n",
        "views = [27.8        , 24.4     , 21.8     , 22.4     , 18.9      ] # Vistas\n",
        "\n",
        "# Configuración general\n",
        "fig = plt.figure(figsize = (12,8)) # Se crea la ventana en donde se mostrarán los gráficos, el tamaño de esta ventana se mide en pulgadas\n",
        "\n",
        "# Gráfico de ratings\n",
        "ax_rating = fig.add_axes([0.05, 0.05, 0.9, 0.35]) # De este modo el eje comienza en el 5%  desde la izquierda de la ventana\n",
        "ax_rating.bar(x = seasons, height = ratings) # Con esta línea se mandan a llamar los datos de forma gráfica, usando un grafico de barras\n",
        "ax_rating.set_xticks([0,1,2,3,4]) # Se indexan los valores de las temporadas 1 a 5, en realidad son 30 temporadas, pero con 5 bastará el ejemplo de como utilizar las gráficas\n",
        "ax_rating.set_ylim(6,9) # Se muestra un valor determinado para las calificaciones, que va de 6 a 9, en el eje y\n",
        "ax_rating.set_title('IMDB Calificaciones')\n",
        "ax_rating.text(2, 7.5, 'Era dorada', bbox = {})\n",
        "\n",
        "# Gráfico de Vistas\n",
        "ax_views = fig.add_axes([0.05, 0.45, 0.9, 0.5]) # De está manera se agregan 2 ejes para visualizar los datos, el x y el y\n",
        "ax_views.plot(years, views) # Con está línea se muestran los datos como una gráfica de puntos\n",
        "ax_views.set_xticks([])\n",
        "ax_views.set_title('Views (en millones)')\n",
        "ax_views.text(1989.01, 27.8, '1989') # La primera parte de las tuplas dentro de este parámetro es para mostrar el año de emisión, y el segundo parametro para mostrar las vistas en millones\n",
        "ax_views.text(1993.01, 18.9, '1993')\n",
        "\n",
        "plt.show() # Se muestra la ventana en donde posteriormente se mostrarán los datos\n"
      ]
    }
  ]
}