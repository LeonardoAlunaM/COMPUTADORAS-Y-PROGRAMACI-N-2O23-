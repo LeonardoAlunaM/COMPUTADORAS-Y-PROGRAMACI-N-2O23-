{
  "nbformat": 4,
  "nbformat_minor": 0,
  "metadata": {
    "colab": {
      "name": "ÀLGEBRA LINEAL_1_LEONARDO LUNA ",
      "provenance": [],
      "authorship_tag": "ABX9TyPjFevWAb3ivcE1vXwR9+nW",
      "include_colab_link": true
    },
    "kernelspec": {
      "name": "python3",
      "display_name": "Python 3"
    },
    "language_info": {
      "name": "python"
    }
  },
  "cells": [
    {
      "cell_type": "markdown",
      "metadata": {
        "id": "view-in-github",
        "colab_type": "text"
      },
      "source": [
        "<a href=\"https://colab.research.google.com/github/LeonardoAlunaM/COMPUTADORAS-Y-PROGRAMACI-N-2O23-/blob/main-COMPUTADORAS-Y-PROGTRAMACI%C3%93N-2023/%C3%80LGEBRA_LINEAL_1_LEONARDO_LUNA.ipynb\" target=\"_parent\"><img src=\"https://colab.research.google.com/assets/colab-badge.svg\" alt=\"Open In Colab\"/></a>"
      ]
    },
    {
      "cell_type": "markdown",
      "source": [
        "# Algebra Lineal Cápitulo 1 \n",
        "# Sistemas de ecuaciones lineales y matrices"
      ],
      "metadata": {
        "id": "cr4NS99_pcyp"
      }
    },
    {
      "cell_type": "markdown",
      "source": [
        "## 1.1 Hechos fundamentales sobre las líneas rectas"
      ],
      "metadata": {
        "id": "vDYifwEfNRU-"
      }
    },
    {
      "cell_type": "code",
      "execution_count": null,
      "metadata": {
        "colab": {
          "base_uri": "https://localhost:8080/"
        },
        "id": "qXmc65vdJSwy",
        "outputId": "74ab08f4-9d68-41a7-8703-73e499df9670"
      },
      "outputs": [
        {
          "output_type": "stream",
          "name": "stdout",
          "text": [
            "Ingrese la coordenada ysub2: 10\n",
            "Ingrese la coordenada ysub1: -2\n",
            "Ingrese la coordenada xsub2: 4\n",
            "Ingrese la coordenada xsub1: 2\n",
            "m = 6.0\n",
            "Fin del programa\n"
          ]
        }
      ],
      "source": [
        "# Las siguientes líneas de código fueron escritas considerando la Teoría del Álgebra Lineal \n",
        "# Aplicadas en la programación, esto con 2 razones, una computadora puede hacer los cálculos más rápido\n",
        "# El profesor comento que en algún momento parte del trabajo en el mercado laboral consistiría en esto \n",
        "\n",
        "# Hecho 1. \n",
        "# La pendiente de una recta que pasa por los puntos (x1,y1) y (x2,y2) está dada por: \n",
        "\n",
        "#  m = (y2 -y1) / (x2 - x1) = diferencial y / diferencial x ; siempre y cuando x1 != x2\n",
        "\n",
        "# El siguiente programa puede calcular la pendiente m \n",
        "y2 = int(input(\"Ingrese la coordenada ysub2: \"))\n",
        "y1 = int(input(\"Ingrese la coordenada ysub1: \"))\n",
        "x2 = int(input(\"Ingrese la coordenada xsub2: \"))\n",
        "x1 = int(input(\"Ingrese la coordenada xsub1: \"))\n",
        "if x2 - x1 is not 0:       # aquí \"is not\" es un método reservado de python que funciona como una desigualdad\n",
        "    m = (y2 -y1) / (x2 - x1)\n",
        "    print(f\"m = {m}\")\n",
        "    print(\"Fin del programa\")\n",
        "else: \n",
        "    print(\"No es posible, por que: x1 != x2 \")\n",
        "    print(\"Fin del programa.\")"
      ]
    },
    {
      "cell_type": "code",
      "source": [
        "# El mismo código, pero con extensión para float, es decir, pueden ingresarse valores para números irracionales, escritos en forma decimal\n",
        "\n",
        "y2 = float(input(\"Ingrese la coordenada ysub2: \"))\n",
        "y1 = float(input(\"Ingrese la coordenada ysub1: \"))\n",
        "x2 = float(input(\"Ingrese la coordenada xsub2: \"))\n",
        "x1 = float(input(\"Ingrese la coordenada xsub1: \"))\n",
        "if x2 - x1 is not 0:       # aquí \"is not\" es un método reservado de python que funciona como una desigualdad\n",
        "    m = (y2 -y1) / (x2 - x1)\n",
        "    print(f\"m = {m}\")\n",
        "    print(\"Fin del programa\")\n",
        "else: \n",
        "    print(\"No es posible, por que: x1 != x2 \")\n",
        "    print(\"Fin del programa.\")"
      ],
      "metadata": {
        "id": "1NSDY4Ydo-dw",
        "colab": {
          "base_uri": "https://localhost:8080/"
        },
        "outputId": "b368e58b-c921-43c6-8ca1-f390de7e3ed4"
      },
      "execution_count": null,
      "outputs": [
        {
          "output_type": "stream",
          "name": "stdout",
          "text": [
            "Ingrese la coordenada ysub2: 1.2\n",
            "Ingrese la coordenada ysub1: 4.5\n",
            "Ingrese la coordenada xsub2: 3.4\n",
            "Ingrese la coordenada xsub1: 5.4\n",
            "m = 1.6499999999999995\n",
            "Fin del programa\n"
          ]
        }
      ]
    },
    {
      "cell_type": "code",
      "source": [
        "# El mismo código con una diferencia en la línea 6, el operador \" is not \" es diferente de \" != \"\n",
        "y2 = int(input(\"Ingrese la coordenada ysub2: \"))\n",
        "y1 = int(input(\"Ingrese la coordenada ysub1: \"))\n",
        "x2 = int(input(\"Ingrese la coordenada xsub2: \"))\n",
        "x1 = int(input(\"Ingrese la coordenada xsub1: \"))\n",
        "if x2 - x1 != 0:       # aquí \"!=\" es un operador de python que funciona como una desigualdad\n",
        "    m = (y2 -y1) / (x2 - x1)\n",
        "    print(f\"m = {m}\")\n",
        "    print(\"Fin del programa.\")\n",
        "else: \n",
        "    print(\"No es posible, por que: x1 != x2 \")\n",
        "    print(\"Fin del programa.\")"
      ],
      "metadata": {
        "colab": {
          "base_uri": "https://localhost:8080/"
        },
        "id": "P4IZ9fPVM_6P",
        "outputId": "6c8f8d62-57f5-4d67-fa44-529de432d240"
      },
      "execution_count": null,
      "outputs": [
        {
          "output_type": "stream",
          "name": "stdout",
          "text": [
            "Ingrese la coordenada ysub2: 10\n",
            "Ingrese la coordenada ysub1: -4\n",
            "Ingrese la coordenada xsub2: 5\n",
            "Ingrese la coordenada xsub1: 1\n",
            "m = 3.5\n",
            "Fin del programa.\n"
          ]
        }
      ]
    },
    {
      "cell_type": "markdown",
      "source": [
        "El hecho 1, está descrito mediante los 3 programas de arriba, que en escencia calculan el mismo valor, a saber la pendiente m. \n",
        "La diferencia es que en la sentencia condicional if, del primer y segundo código se utiliza \"is not\", y en cambio en el tercer código se utiliza \" != \", ambos operadores o métodos funcionan para indicar que un parametro es distinto respecto de otro. "
      ],
      "metadata": {
        "id": "iLmgwZrHO3xw"
      }
    },
    {
      "cell_type": "code",
      "source": [
        "# Hecho 2 \n",
        "# Sí x2 - x1 == 0   y   y2 != y1 , entonces la recta es vertical y se dice que la pendiente es indefinida. \n",
        "# No elabore ningún algoritmo como solución al respecto, porque ello implica la división sobre 0, lo cual Python prohibe de forma rotunda :V "
      ],
      "metadata": {
        "id": "o-XsF9kfO_p4"
      },
      "execution_count": null,
      "outputs": []
    },
    {
      "cell_type": "code",
      "source": [
        "# Hecho 3 \n",
        "# Cualquier recta (a excepción de aquella que tiene una pendiente indefinida) se puede describir al escribr su ecuacón en la forma \n",
        "# pendiente - ordenada y = mx + b, donde m es la pendiente de la recta y b es la ordenada\n",
        "# (el valor de y en el punto en el que la recta cruza el eje y)\n",
        "\n",
        "# Este algoritmo calcula el valor de y, dados los valores de \"x\", \"b\" y las coordenadas de la pendiente de la recta. \n",
        "print(\"A continuación obtendrás el valor de y, con la ecuación y = mx + b\")\n",
        "x = float(input(\"Ingrese el valor de x: \"))\n",
        "b = float(input(\"Ingrese el valor de b: \"))\n",
        "print(\"Ingrese las coordenadas de la pendiente m\")\n",
        "y2 = float(input(\"Ingrese la coordenada ysub2: \"))\n",
        "y1 = float(input(\"Ingrese la coordenada ysub1: \"))\n",
        "x2 = float(input(\"Ingrese la coordenada xsub2: \"))\n",
        "x1 = float(input(\"Ingrese la coordenada xsub1: \"))\n",
        "m = (y2 - y1) / (x2 - x1)\n",
        "if x2 - x1 != 0:       \n",
        "    y = m*x + b\n",
        "    print(f\"y = {y}\")\n",
        "else: \n",
        "    print(\"ingresa valores diferentes para x2 y x1\")"
      ],
      "metadata": {
        "id": "N_yH43tVRW1e",
        "colab": {
          "base_uri": "https://localhost:8080/"
        },
        "outputId": "afddad59-925e-4abe-a72f-872225395111"
      },
      "execution_count": null,
      "outputs": [
        {
          "output_type": "stream",
          "name": "stdout",
          "text": [
            "Ingrese el valor de x: 4\n",
            "Ingrese el valor de b: 3\n",
            "Ingrese las coordenadas de la pendiente m\n",
            "Ingrese la coordenada ysub2: 10\n",
            "Ingrese la coordenada ysub1: 2\n",
            "Ingrese la coordenada xsub2: 12\n",
            "Ingrese la coordenada xsub1: 4\n",
            "y = 7.0\n"
          ]
        }
      ]
    },
    {
      "cell_type": "code",
      "source": [
        "# Hecho 4 \n",
        "# Dos rectas distintas son paralelas si y sólo si tienen la misma pendiente\n",
        "print(\"Ingrese las coordenadas de la pendiente m1\")\n",
        "y2 = int(input(\"Ingrese la coordenada ysub2: \"))\n",
        "y1 = int(input(\"Ingrese la coordenada ysub1: \"))\n",
        "x2 = int(input(\"Ingrese la coordenada xsub2: \"))\n",
        "x1 = int(input(\"Ingrese la coordenada xsub1: \"))\n",
        "m1 = (y2 - y1) / (x2 - x1)\n",
        "print(\"Ingrese las coordenadas de la pendiente m2\")\n",
        "y2 = int(input(\"Ingrese la coordenada ysub2: \"))\n",
        "y1 = int(input(\"Ingrese la coordenada ysub1: \"))\n",
        "x2 = int(input(\"Ingrese la coordenada xsub2: \"))\n",
        "x1 = int(input(\"Ingrese la coordenada xsub1: \"))\n",
        "m2 = (y2 - y1) / (x2 - x1)\n",
        "if m1 != m2: \n",
        "    print(f\"Las rectas L1 y L2 no son paralelas por que el valor de su pendiente es diferente {m1} // = {m2}\")\n",
        "else: \n",
        "    print(f\"Las rectas L1 y L2 son paralelas por que el valor de sus pendientes es el mismo {m1} = {m2}\")\n",
        "\n",
        "# Este algoritmo determina si dos rectas L1 y L2 son paralelas, dependiendo del valor de sus pendientes "
      ],
      "metadata": {
        "colab": {
          "base_uri": "https://localhost:8080/"
        },
        "id": "MkgmnhCLUsAs",
        "outputId": "8ab627be-2be2-4121-baa9-24f89694254e"
      },
      "execution_count": null,
      "outputs": [
        {
          "output_type": "stream",
          "name": "stdout",
          "text": [
            "Ingrese las coordenadas de la pendiente m1\n",
            "Ingrese la coordenada ysub2: 3\n",
            "Ingrese la coordenada ysub1: 4\n",
            "Ingrese la coordenada xsub2: 7\n",
            "Ingrese la coordenada xsub1: 2\n",
            "Ingrese las coordenadas de la pendiente m2\n",
            "Ingrese la coordenada ysub2: 9\n",
            "Ingrese la coordenada ysub1: 4\n",
            "Ingrese la coordenada xsub2: 7\n",
            "Ingrese la coordenada xsub1: 3\n",
            "Las rectas L1 y L2 no son paralelas por que el valor de su pendiente es diferente -0.2 // = 1.25\n"
          ]
        }
      ]
    },
    {
      "cell_type": "code",
      "source": [
        "# Extensión del algoritmo anterior, para float \n",
        "print(\"Ingrese las coordenadas de la pendiente m1\")\n",
        "y2 = float(input(\"Ingrese la coordenada ysub2: \"))\n",
        "y1 = float(input(\"Ingrese la coordenada ysub1: \"))\n",
        "x2 = float(input(\"Ingrese la coordenada xsub2: \"))\n",
        "x1 = float(input(\"Ingrese la coordenada xsub1: \"))\n",
        "m1 = (y2 - y1) / (x2 - x1)\n",
        "print(\"Ingrese las coordenadas de la pendiente m2\")\n",
        "y2 = float(input(\"Ingrese la coordenada ysub2: \"))\n",
        "y1 = float(input(\"Ingrese la coordenada ysub1: \"))\n",
        "x2 = float(input(\"Ingrese la coordenada xsub2: \"))\n",
        "x1 = float(input(\"Ingrese la coordenada xsub1: \"))\n",
        "m2 = (y2 - y1) / (x2 - x1)\n",
        "if m1 != m2: \n",
        "    print(f\"Las rectas L1 y L2 no son paralelas por que el valor de su pendiente es diferente {m1} // = {m2}\")\n",
        "else: \n",
        "    print(f\"Las rectas L1 y L2 son paralelas por que el valor de sus pendientes es el mismo {m1} = {m2}\")\n",
        "\n",
        "# Este algoritmo determina si dos rectas L1 y L2 son paralelas, dependiendo del valor de sus pendientes "
      ],
      "metadata": {
        "id": "3YFJ4XjgrZdU",
        "colab": {
          "base_uri": "https://localhost:8080/"
        },
        "outputId": "49d02d6d-b897-4ff7-ccc0-87a8884e7fb7"
      },
      "execution_count": null,
      "outputs": [
        {
          "output_type": "stream",
          "name": "stdout",
          "text": [
            "Ingrese las coordenadas de la pendiente m1\n",
            "Ingrese la coordenada ysub2: 1.2\n",
            "Ingrese la coordenada ysub1: 4.566\n",
            "Ingrese la coordenada xsub2: 3.4\n",
            "Ingrese la coordenada xsub1: .75\n",
            "Ingrese las coordenadas de la pendiente m2\n",
            "Ingrese la coordenada ysub2: 1.45\n",
            "Ingrese la coordenada ysub1: 5.333\n",
            "Ingrese la coordenada xsub2: 3.4\n",
            "Ingrese la coordenada xsub1: 3.8\n",
            "Las rectas L1 y L2 no son paralelas por que el valor de su pendiente es diferente -1.270188679245283 // = 9.707500000000001\n"
          ]
        }
      ]
    },
    {
      "cell_type": "code",
      "source": [
        "# Hecho 5 \n",
        "# Sí la ecuación de la recta se escribe en la forma ax + by = c, (b is not 0), entonces se puede calcular fácilmente,m = -(a/b)\n",
        "# Es decir sí se tiene una ecuación como 3x + 5b = c, donde a = 3 y b = 5, un algoritmo calcularia lo siguiente \n",
        "print(\"Sí se tiene una ecuación del tipo ax + by = c , ingrese los valores de a y b para obtener la pendiente de la recta dada por la ecuación.\")\n",
        "a = int(input(\"Ingrese el valor de a: \"))\n",
        "b = int(input(\"Ingrese el valor de b: \"))\n",
        "m = -(a/b)\n",
        "print(f\"m ={m}\")"
      ],
      "metadata": {
        "colab": {
          "base_uri": "https://localhost:8080/"
        },
        "id": "LcTdCEkWiUvV",
        "outputId": "71e88759-ba9c-4f9b-a407-8fb5ca8201c0"
      },
      "execution_count": null,
      "outputs": [
        {
          "output_type": "stream",
          "name": "stdout",
          "text": [
            "Sí se tiene una ecuación del tipo ax + by = c , ingrese los valores de a y b para obtener la pendiente de la recta dada por la ecuación\n",
            "Ingrese el valor de a: 1\n",
            "Ingrese el valor de b: -1\n",
            "m =1.0\n"
          ]
        }
      ]
    },
    {
      "cell_type": "code",
      "source": [
        "# Extensión con float \n",
        "print(\"Sí se tiene una ecuación del tipo ax + by = c , ingrese los valores de a y b para obtener la pendiente de la recta dada por la ecuación.\")\n",
        "a = float(input(\"Ingrese el valor de a: \"))\n",
        "b = float(input(\"Ingrese el valor de b: \"))\n",
        "m = -(a/b)\n",
        "print(f\"m ={m}\")"
      ],
      "metadata": {
        "id": "NDqJ42vZv0xC",
        "colab": {
          "base_uri": "https://localhost:8080/"
        },
        "outputId": "ed18c528-9264-4ecd-e581-03837832da6e"
      },
      "execution_count": null,
      "outputs": [
        {
          "output_type": "stream",
          "name": "stdout",
          "text": [
            "Sí se tiene una ecuación del tipo ax + by = c , ingrese los valores de a y b para obtener la pendiente de la recta dada por la ecuación.\n",
            "Ingrese el valor de a: 8.7\n",
            "Ingrese el valor de b: 9.54\n",
            "m =-0.9119496855345912\n"
          ]
        }
      ]
    },
    {
      "cell_type": "code",
      "source": [
        "# Hecho 6 \n",
        "# Sí m1 es la pendiente de la recta L1, m2 es la pendiente de la recta L2, m1 != 0 y L1 y L2 son perpendiculares, entonces \n",
        "# m2 = -1 / m1 \n",
        "print(\"Ingrese las coordenadas de la pendiente m1\")\n",
        "y2 = int(input(\"Ingrese la coordenada ysub2: \"))\n",
        "y1 = int(input(\"Ingrese la coordenada ysub1: \"))\n",
        "x2 = int(input(\"Ingrese la coordenada xsub2: \"))\n",
        "x1 = int(input(\"Ingrese la coordenada xsub1: \"))\n",
        "m1 = (y2 - y1) / (x2 - x1)\n",
        "if m1 is not 0: \n",
        "    m2 = (-1 / m1)  \n",
        "    print(f\"m2 = {m2}\")\n",
        "# El programa obtiene el valor de la pendiente m2, y como puede notarse, es el negativo de la inversa de la pendiente m1\n",
        "# Puede aplicarse el mismo procedimiento para obtener el valor de m1, si se considera que m1 = - 1 / m2\n",
        "print(\"Ingrese las coordenadas de la pendiente m2\")\n",
        "y2 = int(input(\"Ingrese la coordenada ysub2: \"))\n",
        "y1 = int(input(\"Ingrese la coordenada ysub1: \"))\n",
        "x2 = int(input(\"Ingrese la coordenada xsub2: \"))\n",
        "x1 = int(input(\"Ingrese la coordenada xsub1: \"))\n",
        "m2 = (y2 - y1) / (x2 - x1)\n",
        "if m2 is not 0: \n",
        "    m1 = (-1 / m2)\n",
        "    print(f\"m2 = {m1}\")\n",
        "if m1*m2 == -1:\n",
        "    print(\"Las rectas son perpendiculares, es decir se cumple m1*m2 == -1 , o lo que es lo mismo m1 = - 1 / m2 \")\n",
        "if m1 == m2: \n",
        "    print(f\"Las rectas son paralelas\")"
      ],
      "metadata": {
        "colab": {
          "base_uri": "https://localhost:8080/"
        },
        "id": "RqVlTd_pR_au",
        "outputId": "c4b8de4b-257c-4e3d-f091-112f78a3ef29"
      },
      "execution_count": null,
      "outputs": [
        {
          "output_type": "stream",
          "name": "stdout",
          "text": [
            "Ingrese las coordenadas de la pendiente m1\n",
            "Ingrese la coordenada ysub2: 30\n",
            "Ingrese la coordenada ysub1: -2\n",
            "Ingrese la coordenada xsub2: 8\n",
            "Ingrese la coordenada xsub1: 4\n",
            "m2 = -0.125\n",
            "Ingrese las coordenadas de la pendiente m2\n",
            "Ingrese la coordenada ysub2: 2\n",
            "Ingrese la coordenada ysub1: 3\n",
            "Ingrese la coordenada xsub2: 16\n",
            "Ingrese la coordenada xsub1: 8\n",
            "m2 = 8.0\n",
            "Las rectas son perpendiculares, es decir se cumple m1*m2 == -1 , o lo que es lo mismo m1 = - 1 / m2 \n"
          ]
        }
      ]
    },
    {
      "cell_type": "code",
      "source": [
        "# Extensión del algoritmo anterior con float \n",
        "print(\"Ingrese las coordenadas de la pendiente m1\")\n",
        "y2 = float(input(\"Ingrese la coordenada ysub2: \"))\n",
        "y1 = float(input(\"Ingrese la coordenada ysub1: \"))\n",
        "x2 = float(input(\"Ingrese la coordenada xsub2: \"))\n",
        "x1 = float(input(\"Ingrese la coordenada xsub1: \"))\n",
        "m1 = (y2 - y1) / (x2 - x1)\n",
        "if m1 is not 0: \n",
        "    m2 = (-1 / m1)\n",
        "    print(f\"m2 = {m2}\")\n",
        "print(\"Ingrese las coordenadas de la pendiente m2\")\n",
        "y2 = float(input(\"Ingrese la coordenada ysub2: \"))\n",
        "y1 = float(input(\"Ingrese la coordenada ysub1: \"))\n",
        "x2 = float(input(\"Ingrese la coordenada xsub2: \"))\n",
        "x1 = float(input(\"Ingrese la coordenada xsub1: \"))\n",
        "m2 = (y2 - y1) / (x2 - x1)\n",
        "if m2 is not 0: \n",
        "    m1 = (-1 / m2)\n",
        "    print(f\"m2 = {m1}\")\n",
        "if m1*m2 == -1:\n",
        "    print(\"Las rectas son perpendiculares, es decir se cumple m1*m2 == -1 , o lo que es lo mismo m1 = - 1 / m2 \")\n",
        "if m1 == m2: \n",
        "    print(f\"Las rectas son paralelas\")"
      ],
      "metadata": {
        "id": "bwG_aKxffchi"
      },
      "execution_count": null,
      "outputs": []
    },
    {
      "cell_type": "code",
      "source": [
        "# Hecho 7 \n",
        "# Las rectas paralelas al eje x tienen una pendiente cero\n",
        "y2 = int(input(\"Ingrese la coordenada ysub2: \"))\n",
        "y1 = int(input(\"Ingrese la coordenada ysub1: \"))\n",
        "x2 = int(input(\"Ingrese la coordenada xsub2: \"))\n",
        "x1 = int(input(\"Ingrese la coordenada xsub1: \"))\n",
        "# b = int(input(\"Ingrese el valor de b: \"))\n",
        "# x = int(input(\"Ingrese el valor de x: \"))\n",
        "m = (y2 - y1) / (x2 - x1) \n",
        "# y = m*0 + b \n",
        "if m == 0: # Aquí podría agregar la ecuación de la recta, es decir escribirla y agregarla como input, y después agregar tal input con una llave {}\n",
        "    print(f\"La recta tiene pendiente m = {m}, y por lo tanto es paralela al eje x\")\n",
        "else: \n",
        "    print(f\"La pendiente es m = {m}\")"
      ],
      "metadata": {
        "colab": {
          "base_uri": "https://localhost:8080/"
        },
        "id": "4GGUW5AZkeiv",
        "outputId": "4d815798-3595-489a-9c90-60e7936aec84"
      },
      "execution_count": null,
      "outputs": [
        {
          "output_type": "stream",
          "name": "stdout",
          "text": [
            "Ingrese la coordenada ysub2: 56\n",
            "Ingrese la coordenada ysub1: 34\n",
            "Ingrese la coordenada xsub2: 4\n",
            "Ingrese la coordenada xsub1: 5\n",
            "La pendiente es m = -22.0\n"
          ]
        }
      ]
    },
    {
      "cell_type": "code",
      "source": [
        "# Hecho 8 \n",
        "# Las rectas paralelas al eje y tienen una pendiente indefinida, esto es, cuando el denominador x2 - x1 es igual a 0\n",
        "\n",
        "\n",
        "# Como python no permite la propia división por cero, omitimos el tratar de agregar la sentencia al código \n",
        "# más sin embargo si podría colocarse un letrero advirtiendo sobre la división entre cero, por otra parte, al no avisar al usuario \n",
        "# tal situaciñon podría considerarse un bug, ¿Cómo se podría solucionar ese problema? "
      ],
      "metadata": {
        "id": "21nQZthEmFXJ"
      },
      "execution_count": null,
      "outputs": []
    },
    {
      "cell_type": "markdown",
      "source": [
        "## 1.2 Dos ecuaciones lineales con dos incógnitas "
      ],
      "metadata": {
        "id": "fqUmGnDrxLuH"
      }
    },
    {
      "cell_type": "code",
      "source": [
        "# Dos o más rectas no paralelas presentan una solución cuando dichas rectas cruzan el mismo punto.\n",
        "# Sí dos o más rectas son paralelas, entonces el sistema no tiene soluciones. \n",
        "# Sí dos o más rectas coinciden, entonces el sistema tiene muchas soluciones \n",
        "\n",
        "# Parte de la solución al problema aparece en los códigos que aparecen más abajo y se resuelve a lo largo del capítulo. \n",
        "\n",
        "print(\"Ingrese las coordenadas de la pendiente m1\")\n",
        "y2 = float(input(\"Ingrese la coordenada ysub2: \"))\n",
        "y1 = float(input(\"Ingrese la coordenada ysub1: \"))\n",
        "x2 = float(input(\"Ingrese la coordenada xsub2: \"))\n",
        "x1 = float(input(\"Ingrese la coordenada xsub1: \"))\n",
        "m1 = (y2 - y1) / (x2 - x1)\n",
        "if m1 is not 0: \n",
        "    m2 = (-1 / m1)\n",
        "    print(f\"m2 = {m2}\")"
      ],
      "metadata": {
        "id": "b8XLrgWypznF"
      },
      "execution_count": null,
      "outputs": []
    },
    {
      "cell_type": "code",
      "source": [
        "# Sea el sistema \n",
        "\n",
        "# Ecuación 1 ----->  a11x + a12y = b1 \n",
        "# Ecuación 2 ----->  a21x + a22y = b2 \n",
        "\n",
        "# Sí se consiedera a12 = 0 ,y a22 = 0  entonces se pueden despejar las variables x o y, según se considere a11 o a11 igual a 0 en la primera ec \n",
        "# o a21 o a22 igual a cero en la segunda ecuación \n",
        "print(\"El valor de x para la ecuación 1 del sistema es: \")\n",
        "a11 = float(input(\"Ingrese el valor de asub11: \"))\n",
        "b1 = float(input(\"Ingrese el valor de b1: \"))\n",
        "x1 = b1 / a11 \n",
        "if a11 != 0 : \n",
        "    print(f\"El valor de x para la ecuación 1 es  x = {x1} \")\n",
        "else: \n",
        "    print(\"Ingresa un valor diferente para a11\")\n",
        "print(\"El valor de x para la ecuación 2 del sistema es: \")\n",
        "a21 = float(input(\"Ingrese el valor de asub11: \"))\n",
        "b2 = float(input(\"Ingrese el valor de b1: \"))\n",
        "x2 = b2 / a21 \n",
        "if a21 != 0 : \n",
        "    print(f\"El valor de x para la ecuación 2 es x = {x2} \")\n",
        "else: \n",
        "    print(\"Ingresa un valor diferente para a21\")\n",
        "\n",
        "# Considerar el caso en que a12 = a22 = 0 "
      ],
      "metadata": {
        "id": "vNQ6n3ucyz5o",
        "outputId": "34f6d43c-66e6-43cc-f7df-f53c2c4a2734",
        "colab": {
          "base_uri": "https://localhost:8080/"
        }
      },
      "execution_count": null,
      "outputs": [
        {
          "output_type": "stream",
          "name": "stdout",
          "text": [
            "El valor de x para la ecuación 1 del sistema es: \n",
            "Ingrese el valor de asub11: 7\n",
            "Ingrese el valor de b1: 1\n",
            "El valor de x para la ecuación 1 es  x = 0.14285714285714285 \n",
            "El valor de x para la ecuación 2 del sistema es: \n",
            "Ingrese el valor de asub11: 5\n",
            "Ingrese el valor de b1: 1\n",
            "El valor de x para la ecuación 2 es x = 0.2 \n"
          ]
        }
      ]
    },
    {
      "cell_type": "code",
      "source": [
        "# 27 / 02 / 2023 \n",
        "# Forma alternativa de resolver una ecuación de 2 variables \n",
        "\n",
        "# Ecuación 1 ----->  a11x + a12y = b1 \n",
        "# Ecuación 2 ----->  a21x + a22y = b2 \n",
        "\n",
        "# Considerar que a12y, y a22y, son iguales a cero,\n",
        "\n",
        "# Entonces sumar los valores de x, los valores de b1 y b2, y el resultado sustituirlo en la ecuacion 1 o 2 a\n",
        "\n",
        "print(\"Sistema de 2 ecuaciones con dos incognitas\")\n",
        "# Sí a12 = a22 = 0, entonces el sistema de ecuaciones sólo una incognita  x\n",
        "\n",
        "# Constantes que acompañan a x en ambas ecuaciones\n",
        "a11 = int(input(\"Ingrese el valor de a11: \"))\n",
        "a21 = int(input(\"Ingrese el valor de a21: \"))\n",
        "\n",
        "# Constantes a las cuales están igualadas las ecuaciones\n",
        "b1 = int(input(\"Ingrese el valor de b1: \"))\n",
        "b2 = int(input(\"Ingrese el valor de b2: \"))\n",
        "\n",
        "# Primera operación involucrada\n",
        "x = ( b1 + b2 ) / (a11 + a21)\n",
        "print(f\"x = {x}\")\n",
        "if a11 + a21 != 0: \n",
        "    a12 = int(input(\"Ingrese el valor de a12: \"))\n",
        "    a22 = int(input(\"Ingrese el valor de a12: \"))\n",
        "    y1 = (b1 - a11*x) / a12 \n",
        "    y2 = (b2 - a21*x) / a22\n",
        "    if y1 == y2: \n",
        "        print(f\"y = {y1}\")\n",
        "        print(\"El sistema de ecuaciones es válido\")\n",
        "        print(f\"La solución del sistema es: x = {x}, y = {y1}\")\n",
        "    else: \n",
        "        print(\"Ingresa nuevos valores\") \n",
        "else:\n",
        "    print(\"Ingresa nuevos valores\")\n",
        "\n",
        "# Este ejercicio fue resuelto mientras leía el primer ejemplo de álgebra lineal \n",
        "# El código aunque es muy simple funciona excelentemente bien, y muy probablemente será parteaguas para la resolución de sistemas de ecuaciones \n",
        "# más grandes, aunque de momento el código mostrado en esta pantalla esta muy rústico"
      ],
      "metadata": {
        "colab": {
          "base_uri": "https://localhost:8080/"
        },
        "id": "NPNh7u1EtXeW",
        "outputId": "7f637f39-45cc-4de4-9873-b9baf6f6409d"
      },
      "execution_count": null,
      "outputs": [
        {
          "output_type": "stream",
          "name": "stdout",
          "text": [
            "Sistema de 2 ecuaciones con dos incognitas\n",
            "Ingrese el valor de a11: 1\n",
            "Ingrese el valor de a21: 1\n",
            "Ingrese el valor de a11: 7\n",
            "Ingrese el valor de a11: 5\n",
            "x = 6.0\n",
            "Ingrese el valor de a12: -1\n",
            "Ingrese el valor de a12: 1\n",
            "y = -1.0\n",
            "El sistema de ecuaciones es válido\n",
            "La solución del sistema es: x = 6.0, y = -1.0\n"
          ]
        }
      ]
    },
    {
      "cell_type": "code",
      "source": [
        "print(\"higher:\")\n",
        "print(\"    *\")\n",
        "print(\"   * *\")\n",
        "print(\"  *   *\")\n",
        "print(\" *     *\")\n",
        "print(\"***   ***\")\n",
        "print(\"  *   *\")\n",
        "print(\"  *   *\")\n",
        "print(\"  *****\")\n"
      ],
      "metadata": {
        "id": "ETSFvX8FMylE",
        "outputId": "ae5289d7-3504-494f-8bf1-f6a04a9474ea",
        "colab": {
          "base_uri": "https://localhost:8080/"
        }
      },
      "execution_count": null,
      "outputs": [
        {
          "output_type": "stream",
          "name": "stdout",
          "text": [
            "higher:\n",
            "    *\n",
            "   * *\n",
            "  *   *\n",
            " *     *\n",
            "***   ***\n",
            "  *   *\n",
            "  *   *\n",
            "  *****\n"
          ]
        }
      ]
    },
    {
      "cell_type": "code",
      "source": [
        "print(\"        *        \"*2)\n",
        "print(\"       * *       \"*2)\n",
        "print(\"      *   *      \"*2)\n",
        "print(\"     *     *     \"*2)\n",
        "print(\"    *       *    \"*2)\n",
        "print(\"   *         *   \"*2)\n",
        "print(\"  *           *  \"*2)\n",
        "print(\" *             * \"*2)\n",
        "print(\"******     ******\"*2)\n",
        "print(\"     *     *     \"*2)\n",
        "print(\"     *     *     \"*2)\n",
        "print(\"     *     *     \"*2)\n",
        "print(\"     *     *     \"*2)\n",
        "print(\"     *     *     \"*2)\n",
        "print(\"     *     *     \"*2)\n",
        "print(\"     *******     \"*2)"
      ],
      "metadata": {
        "id": "ijsTF3pBNcMU",
        "outputId": "9fa02bd1-78e4-49e8-d878-f65e9b4c9b01",
        "colab": {
          "base_uri": "https://localhost:8080/"
        }
      },
      "execution_count": null,
      "outputs": [
        {
          "output_type": "stream",
          "name": "stdout",
          "text": [
            "        *                *        \n",
            "       * *              * *       \n",
            "      *   *            *   *      \n",
            "     *     *          *     *     \n",
            "    *       *        *       *    \n",
            "   *         *      *         *   \n",
            "  *           *    *           *  \n",
            " *             *  *             * \n",
            "******     ************     ******\n",
            "     *     *          *     *     \n",
            "     *     *          *     *     \n",
            "     *     *          *     *     \n",
            "     *     *          *     *     \n",
            "     *     *          *     *     \n",
            "     *     *          *     *     \n",
            "     *******          *******     \n"
          ]
        }
      ]
    },
    {
      "cell_type": "code",
      "source": [
        "print(\"Mi\\nnombre\\nes\\nBond.\", end=\" \")\n",
        "print(\"James Bond.\")"
      ],
      "metadata": {
        "id": "zosUrQ7UXu48",
        "outputId": "e33b6ed0-9465-45c3-ea9e-bde465ce5b8a",
        "colab": {
          "base_uri": "https://localhost:8080/"
        }
      },
      "execution_count": null,
      "outputs": [
        {
          "output_type": "stream",
          "name": "stdout",
          "text": [
            "Mi\n",
            "nombre\n",
            "es\n",
            "Bond. James Bond.\n"
          ]
        }
      ]
    },
    {
      "cell_type": "code",
      "source": [
        "#print(sep=\"&\", \"fish\", \"chips\")\n",
        "\n",
        "\n",
        "print(\"fish\",\"chips\", sep = \"$\")\n"
      ],
      "metadata": {
        "id": "8QAs32fVYFuf",
        "outputId": "82080a35-0598-46f8-9b98-6e81f11d201b",
        "colab": {
          "base_uri": "https://localhost:8080/"
        }
      },
      "execution_count": null,
      "outputs": [
        {
          "output_type": "stream",
          "name": "stdout",
          "text": [
            "fish$chips\n"
          ]
        }
      ]
    },
    {
      "cell_type": "code",
      "source": [
        "print('Greg\\'s book.')\n",
        "print(\"'Greg's book.'\")\n",
        "print('\"Greg\\'s book.\"')\n",
        "print(\"Greg\\'s book.\")\n",
        "# print('\"Greg's book.\"')\n",
        "# File \"<ipython-input-8-e6aa5e3f2742>\", line 5\n",
        "#    print('\"Greg's book.\"')\n",
        "                 #^\n",
        "#SyntaxError: invalid syntax\n"
      ],
      "metadata": {
        "id": "yLlGkW76YTUo",
        "outputId": "a1c00dbc-a587-49c8-c615-5441b5ac316f",
        "colab": {
          "base_uri": "https://localhost:8080/"
        }
      },
      "execution_count": null,
      "outputs": [
        {
          "output_type": "stream",
          "name": "stdout",
          "text": [
            "Greg's book.\n",
            "'Greg's book.'\n",
            "\"Greg's book.\"\n",
            "Greg's book.\n"
          ]
        }
      ]
    },
    {
      "cell_type": "code",
      "source": [
        "print(0x123) # Un número escrito en represencación hexadecimal \n",
        "\n",
        "print(0o123) # Un numero escrito en representación octal "
      ],
      "metadata": {
        "id": "sfEliRJSb04J",
        "outputId": "7929e4f8-525b-4ba8-f21e-fc840d325c97",
        "colab": {
          "base_uri": "https://localhost:8080/"
        }
      },
      "execution_count": null,
      "outputs": [
        {
          "output_type": "stream",
          "name": "stdout",
          "text": [
            "291\n",
            "83\n"
          ]
        }
      ]
    },
    {
      "cell_type": "code",
      "source": [
        "print(\"Me gusta \\\"Monty Python\\\"\")\n",
        "print('Me gusta \"Monty Python\"')\n",
        "print('I\\'m Monty Python.')\n",
        "print('I\\'m Monty Python.')\n",
        "print(\"I'm Monty Python.\")\n"
      ],
      "metadata": {
        "id": "82kcbE4luKoB",
        "outputId": "3271fb34-c15f-4982-cda4-0f6a8277e92b",
        "colab": {
          "base_uri": "https://localhost:8080/"
        }
      },
      "execution_count": null,
      "outputs": [
        {
          "output_type": "stream",
          "name": "stdout",
          "text": [
            "Me gusta \"Monty Python\"\n",
            "Me gusta \"Monty Python\"\n",
            "I'm Monty Python.\n",
            "I'm Monty Python.\n",
            "I'm Monty Python.\n"
          ]
        }
      ]
    },
    {
      "cell_type": "code",
      "source": [
        "print(\" \",'\\n\"Estoy\"','\\n\"\"Aprendiendo\"\"', '\\n\"\"\"Python', end='\"\"\" ')\n",
        "print()\n",
        "print()\n",
        "# La solución de cisco se muestra abajo \n",
        "print(\"\\\"I'm\\\"\\n\\\"\\\"learning\\\"\\\"\\n\\\"\\\"\\\"Python\\\"\\\"\\\"\")\n",
        "print(\" \\\"I'm\\\" \\n\\\"\\\"learning\\\"\\\" \\n\\\"\\\"\\\"Python \\\"\\\"\\\" \")"
      ],
      "metadata": {
        "id": "eoELbWut0lWC",
        "outputId": "ea51fd3b-7b59-4c0f-dc2d-4de9719325f5",
        "colab": {
          "base_uri": "https://localhost:8080/"
        }
      },
      "execution_count": null,
      "outputs": [
        {
          "output_type": "stream",
          "name": "stdout",
          "text": [
            "  \n",
            "\"Estoy\" \n",
            "\"\"Aprendiendo\"\" \n",
            "\"\"\"Python\"\"\" \n",
            "\n",
            " \"I'm\" \n",
            "\"\"learning\"\" \n",
            "\"\"\"Python \"\"\" \n"
          ]
        }
      ]
    },
    {
      "cell_type": "code",
      "source": [
        "print(2 ** 3)\n",
        "print(2 ** 3.)\n",
        "print(2. ** 3)\n",
        "print(2. ** 3.)"
      ],
      "metadata": {
        "id": "fOu6cOan4Hoi",
        "outputId": "2d592206-b777-475a-dc36-c86339f61e35",
        "colab": {
          "base_uri": "https://localhost:8080/"
        }
      },
      "execution_count": null,
      "outputs": [
        {
          "output_type": "stream",
          "name": "stdout",
          "text": [
            "8\n",
            "8.0\n",
            "8.0\n",
            "8.0\n"
          ]
        }
      ]
    },
    {
      "cell_type": "code",
      "source": [
        "print(2 * 3)\n",
        "print(2 * 3.)\n",
        "print(2. * 3)\n",
        "print(2. * 3.)\n"
      ],
      "metadata": {
        "id": "11TXDweJ-lfK",
        "outputId": "47a91f0f-35b5-4135-cdfb-52fd01d08306",
        "colab": {
          "base_uri": "https://localhost:8080/"
        }
      },
      "execution_count": null,
      "outputs": [
        {
          "output_type": "stream",
          "name": "stdout",
          "text": [
            "6\n",
            "6.0\n",
            "6.0\n",
            "6.0\n"
          ]
        }
      ]
    },
    {
      "cell_type": "code",
      "source": [
        "print(6 / 3)\n",
        "print(6 / 3.)\n",
        "print(6. / 3)\n",
        "print(6. / 3.)"
      ],
      "metadata": {
        "id": "BEy7bdkX-vwp",
        "outputId": "1293b60b-e505-480f-b1e4-680df17474df",
        "colab": {
          "base_uri": "https://localhost:8080/"
        }
      },
      "execution_count": null,
      "outputs": [
        {
          "output_type": "stream",
          "name": "stdout",
          "text": [
            "2.0\n",
            "2.0\n",
            "2.0\n",
            "2.0\n"
          ]
        }
      ]
    },
    {
      "cell_type": "code",
      "source": [
        "print(6 // 3)\n",
        "print(6 // 3.)\n",
        "print(6. // 3)\n",
        "print(6. // 3.)"
      ],
      "metadata": {
        "id": "IHaGtLHW_C5g",
        "outputId": "5cd487f2-db41-4908-f509-5116ea72e333",
        "colab": {
          "base_uri": "https://localhost:8080/"
        }
      },
      "execution_count": null,
      "outputs": [
        {
          "output_type": "stream",
          "name": "stdout",
          "text": [
            "2\n",
            "2.0\n",
            "2.0\n",
            "2.0\n"
          ]
        }
      ]
    },
    {
      "cell_type": "code",
      "source": [
        "print(-6 // 4)\n",
        "print(6. // -4)"
      ],
      "metadata": {
        "id": "26FVzxj__pgv",
        "outputId": "3f9e906a-5d02-4c30-87c3-7a2366487527",
        "colab": {
          "base_uri": "https://localhost:8080/"
        }
      },
      "execution_count": null,
      "outputs": [
        {
          "output_type": "stream",
          "name": "stdout",
          "text": [
            "-2\n",
            "-2.0\n"
          ]
        }
      ]
    },
    {
      "cell_type": "code",
      "source": [
        "print(14 % 4)"
      ],
      "metadata": {
        "id": "Bm5ZxSAuAW7Q",
        "outputId": "ea246fc8-6c02-48d1-96aa-75b172619650",
        "colab": {
          "base_uri": "https://localhost:8080/"
        }
      },
      "execution_count": null,
      "outputs": [
        {
          "output_type": "stream",
          "name": "stdout",
          "text": [
            "2\n"
          ]
        }
      ]
    },
    {
      "cell_type": "code",
      "source": [
        "print(12 % 4.5)"
      ],
      "metadata": {
        "id": "q3LAllj0AgQ7",
        "outputId": "65dca9de-1d8c-4666-adea-00e404c02ab1",
        "colab": {
          "base_uri": "https://localhost:8080/"
        }
      },
      "execution_count": null,
      "outputs": [
        {
          "output_type": "stream",
          "name": "stdout",
          "text": [
            "3.0\n"
          ]
        }
      ]
    },
    {
      "cell_type": "code",
      "source": [
        "print(-4 + 4)\n",
        "print(-4. + 8)"
      ],
      "metadata": {
        "id": "RJdx2NUCBK2d",
        "outputId": "c5c8c866-186a-4eeb-affb-f84cb058bff3",
        "colab": {
          "base_uri": "https://localhost:8080/"
        }
      },
      "execution_count": null,
      "outputs": [
        {
          "output_type": "stream",
          "name": "stdout",
          "text": [
            "0\n",
            "4.0\n"
          ]
        }
      ]
    },
    {
      "cell_type": "code",
      "source": [
        "print(-4 - 4)\n",
        "print(4. - 8)\n",
        "print(-1.1)\n"
      ],
      "metadata": {
        "id": "3HsZpq_nCKU8"
      },
      "execution_count": null,
      "outputs": []
    },
    {
      "cell_type": "code",
      "source": [
        "print(\"\\\\\")"
      ],
      "metadata": {
        "id": "vnp_KM6V2DgG",
        "outputId": "2a6271b6-311a-46ee-d974-f65196aec69b",
        "colab": {
          "base_uri": "https://localhost:8080/"
        }
      },
      "execution_count": null,
      "outputs": [
        {
          "output_type": "stream",
          "name": "stdout",
          "text": [
            "\\\n"
          ]
        }
      ]
    },
    {
      "cell_type": "code",
      "source": [
        "a = '1'\n",
        "b = \"1\"\n",
        "print(a + b)\n",
        " "
      ],
      "metadata": {
        "colab": {
          "base_uri": "https://localhost:8080/"
        },
        "id": "yoVeimq9zUvy",
        "outputId": "12d76d8d-e0ed-4cb6-e9a0-5a4b489b7c8f"
      },
      "execution_count": 1,
      "outputs": [
        {
          "output_type": "stream",
          "name": "stdout",
          "text": [
            "11\n"
          ]
        }
      ]
    },
    {
      "cell_type": "code",
      "source": [
        "a = 6\n",
        "b = 3\n",
        "a /= 2 * b\n",
        "print(a)"
      ],
      "metadata": {
        "colab": {
          "base_uri": "https://localhost:8080/"
        },
        "id": "9OUkVrDLzf_G",
        "outputId": "d439f3ff-1c29-454a-f392-341f524d19ea"
      },
      "execution_count": 2,
      "outputs": [
        {
          "output_type": "stream",
          "name": "stdout",
          "text": [
            "1.0\n"
          ]
        }
      ]
    },
    {
      "cell_type": "code",
      "source": [
        "x = int(input())\n",
        "y = int(input())\n",
        " \n",
        "x = x // y\n",
        "y = y // x\n",
        " \n",
        "print(y)"
      ],
      "metadata": {
        "colab": {
          "base_uri": "https://localhost:8080/",
          "height": 269
        },
        "id": "4Zld0WdH3SPk",
        "outputId": "c16e2b0b-84fa-4ba1-d1c5-5735dff139cb"
      },
      "execution_count": 3,
      "outputs": [
        {
          "name": "stdout",
          "output_type": "stream",
          "text": [
            "2\n",
            "4\n"
          ]
        },
        {
          "output_type": "error",
          "ename": "ZeroDivisionError",
          "evalue": "ignored",
          "traceback": [
            "\u001b[0;31m---------------------------------------------------------------------------\u001b[0m",
            "\u001b[0;31mZeroDivisionError\u001b[0m                         Traceback (most recent call last)",
            "\u001b[0;32m<ipython-input-3-3464a5fd0437>\u001b[0m in \u001b[0;36m<cell line: 5>\u001b[0;34m()\u001b[0m\n\u001b[1;32m      3\u001b[0m \u001b[0;34m\u001b[0m\u001b[0m\n\u001b[1;32m      4\u001b[0m \u001b[0mx\u001b[0m \u001b[0;34m=\u001b[0m \u001b[0mx\u001b[0m \u001b[0;34m//\u001b[0m \u001b[0my\u001b[0m\u001b[0;34m\u001b[0m\u001b[0;34m\u001b[0m\u001b[0m\n\u001b[0;32m----> 5\u001b[0;31m \u001b[0my\u001b[0m \u001b[0;34m=\u001b[0m \u001b[0my\u001b[0m \u001b[0;34m//\u001b[0m \u001b[0mx\u001b[0m\u001b[0;34m\u001b[0m\u001b[0;34m\u001b[0m\u001b[0m\n\u001b[0m\u001b[1;32m      6\u001b[0m \u001b[0;34m\u001b[0m\u001b[0m\n\u001b[1;32m      7\u001b[0m \u001b[0mprint\u001b[0m\u001b[0;34m(\u001b[0m\u001b[0my\u001b[0m\u001b[0;34m)\u001b[0m\u001b[0;34m\u001b[0m\u001b[0;34m\u001b[0m\u001b[0m\n",
            "\u001b[0;31mZeroDivisionError\u001b[0m: integer division or modulo by zero"
          ]
        }
      ]
    },
    {
      "cell_type": "code",
      "source": [
        "x = 1\n",
        "x = x == x\n",
        "print(x)"
      ],
      "metadata": {
        "colab": {
          "base_uri": "https://localhost:8080/"
        },
        "id": "rwpQ3wig9sYx",
        "outputId": "eb6c56ce-26e2-4084-fb29-dc7c96803c63"
      },
      "execution_count": 5,
      "outputs": [
        {
          "output_type": "stream",
          "name": "stdout",
          "text": [
            "True\n"
          ]
        }
      ]
    },
    {
      "cell_type": "code",
      "source": [
        "# Sea el mismo sistema \n",
        "\n",
        "# Ecuación 1 ----->  a11x + a12y = b1 \n",
        "# Ecuación 2 ----->  a21x + a22y = b2 \n",
        "\n",
        "# Este programa demuestra que cuando a11*a22 - a12*a21 is not 0 , el sistema de ecuaciones presenta una única solución. \n",
        "# Cuando a11*a22 - a12*a21 == 0 , el sistema no tiene solución o tiene soluciones infinitas \n",
        "# Nos referiremos a esta demostración como \"Teorema del resumen\"\n",
        "\n",
        "a11 = float(input(\"Ingrese el valor de a11: \"))\n",
        "a12 = float(input(\"Ingrese el valor de a12: \"))\n",
        "b1 = float(input(\"Ingrese el valor de b1: \"))\n",
        "a21 = float(input(\"Ingrese el valor de a21: \"))\n",
        "a22 = float(input(\"Ingrese el valor de a22: \"))\n",
        "b2 = float(input(\"Inbgrese el valor de b2: \"))\n",
        "m1 = - (a11/a12)\n",
        "print(f\"La pendiente de la recta a11x + a12y = b1 es m = {m1}\")\n",
        "m2 = - (a21/a22)\n",
        "print(f\"La pendiente de la recta a21x + a22y = b2 es m = {m2}\")\n",
        "x = (b1*a22 - b2*a12) / (a11*a22 - a12*a21)\n",
        "if a11*a22 - a12*a21 is not 0: \n",
        "    print(f\"x = {x}\")\n",
        "    y = (b1-a11*x) / a12\n",
        "    if a12 is not 0:            # Cuando ambas pendientes son iguales, significa que el sistema tiene infinitas soluciones o no tiene ninguna \n",
        "        print(f\"y = {y}\")\n",
        "        print(f\"Por lo tanto la solución del sistema es: ({x} , {y})\")\n",
        "        print(\"Como a11*a22 - a12*a21 != 0 el sistema únicamente presenta una solución, y las rectas no son paralelas.\")\n",
        "    else: \n",
        "        print(\"Ingresa valores diferentes para a12\")\n",
        "else:  \n",
        "   print(\"Ingresa valores diferentes para a11, a22, a12 y a21\") \n",
        "# if a11*x + a12*y == a21*x + a22*y:       # Está parte del código funciona, aunque no se aplica debido a la división por 0 \n",
        "#    c1 = a11*x + a12*y \n",
        "#    c2 = a21*x + a22*y \n",
        "#    print(f\"Como {c1} = {c2} entonces el sistema tiene infinitas soluciones.\")\n",
        "# else: \n",
        "#     print(\"Ambas rectas son paralelas, por lo tanto no tienen soluciones en común.\")"
      ],
      "metadata": {
        "id": "FFofBhIS9iGC",
        "outputId": "b4f5ff51-33c4-4483-c59e-77714b54bc93",
        "colab": {
          "base_uri": "https://localhost:8080/"
        }
      },
      "execution_count": null,
      "outputs": [
        {
          "output_type": "stream",
          "name": "stdout",
          "text": [
            "Ingrese el valor de a11: 5\n",
            "Ingrese el valor de a12: 1\n",
            "Ingrese el valor de b1: 1\n",
            "Ingrese el valor de a21: -3\n",
            "Ingrese el valor de a22: 7\n",
            "Inbgrese el valor de b2: 0\n",
            "La pendiente de la recta a11x + a12y = b1 es m = -5.0\n",
            "La pendiente de la recta a21x + a22y = b2 es m = 0.42857142857142855\n",
            "x = 0.18421052631578946\n",
            "y = 0.07894736842105265\n",
            "Por lo tanto la solución del sistema es: (0.18421052631578946 , 0.07894736842105265)\n",
            "Como a11*a22 - a12*a21 != 0 el sistema únicamente presenta una solución, y las rectas no son paralelas.\n"
          ]
        }
      ]
    },
    {
      "cell_type": "code",
      "source": [
        "14/4\n",
        "\n"
      ],
      "metadata": {
        "id": "gy2k-GhRziw9",
        "outputId": "5bfd43cd-e757-42a7-cf22-a38ddd6298b3",
        "colab": {
          "base_uri": "https://localhost:8080/"
        }
      },
      "execution_count": null,
      "outputs": [
        {
          "output_type": "execute_result",
          "data": {
            "text/plain": [
              "3.5"
            ]
          },
          "metadata": {},
          "execution_count": 1
        }
      ]
    },
    {
      "cell_type": "code",
      "source": [
        "14 / 3 "
      ],
      "metadata": {
        "id": "aKHxzf3Jzmku",
        "outputId": "86460323-7522-4f70-b636-830c52b40bee",
        "colab": {
          "base_uri": "https://localhost:8080/"
        }
      },
      "execution_count": null,
      "outputs": [
        {
          "output_type": "execute_result",
          "data": {
            "text/plain": [
              "4.666666666666667"
            ]
          },
          "metadata": {},
          "execution_count": 2
        }
      ]
    },
    {
      "cell_type": "code",
      "source": [
        "print(\"¡Hola!\")"
      ],
      "metadata": {
        "id": "eJmgX2xaxVH2",
        "outputId": "23fd1904-fe07-4198-d13a-b217eba6b86e",
        "colab": {
          "base_uri": "https://localhost:8080/"
        }
      },
      "execution_count": null,
      "outputs": [
        {
          "output_type": "stream",
          "name": "stdout",
          "text": [
            "¡Hola!\n"
          ]
        }
      ]
    },
    {
      "cell_type": "code",
      "source": [],
      "metadata": {
        "id": "BrlvMm31xVF4"
      },
      "execution_count": null,
      "outputs": []
    },
    {
      "cell_type": "code",
      "source": [
        "15/ 3 \n"
      ],
      "metadata": {
        "id": "tICgXspnzqWL",
        "outputId": "39b9462b-4834-4e4e-dbe9-6f1739e272a1",
        "colab": {
          "base_uri": "https://localhost:8080/"
        }
      },
      "execution_count": null,
      "outputs": [
        {
          "output_type": "execute_result",
          "data": {
            "text/plain": [
              "5.0"
            ]
          },
          "metadata": {},
          "execution_count": 3
        }
      ]
    },
    {
      "cell_type": "code",
      "source": [
        "8/ 3"
      ],
      "metadata": {
        "id": "JzvTfQZ5zsl1",
        "outputId": "5ed57e2a-bc94-4617-bc63-c61043fd07db",
        "colab": {
          "base_uri": "https://localhost:8080/"
        }
      },
      "execution_count": null,
      "outputs": [
        {
          "output_type": "execute_result",
          "data": {
            "text/plain": [
              "2.6666666666666665"
            ]
          },
          "metadata": {},
          "execution_count": 4
        }
      ]
    },
    {
      "cell_type": "code",
      "source": [
        "8// 3"
      ],
      "metadata": {
        "id": "hhNhA6h30Msn",
        "outputId": "cd30fe98-a6e3-45ef-e2bc-8b5814d77979",
        "colab": {
          "base_uri": "https://localhost:8080/"
        }
      },
      "execution_count": null,
      "outputs": [
        {
          "output_type": "execute_result",
          "data": {
            "text/plain": [
              "2"
            ]
          },
          "metadata": {},
          "execution_count": 5
        }
      ]
    },
    {
      "cell_type": "code",
      "source": [
        "8 // 2"
      ],
      "metadata": {
        "id": "8bE1mNOI0PDs",
        "outputId": "b80f039d-4be3-49cc-8812-95e2abba7c97",
        "colab": {
          "base_uri": "https://localhost:8080/"
        }
      },
      "execution_count": null,
      "outputs": [
        {
          "output_type": "execute_result",
          "data": {
            "text/plain": [
              "4"
            ]
          },
          "metadata": {},
          "execution_count": 6
        }
      ]
    },
    {
      "cell_type": "code",
      "source": [
        "14 //3 "
      ],
      "metadata": {
        "id": "UPUgjJ1D0SKG",
        "outputId": "9d4c84c0-4ae5-4062-ca13-368c589c03d4",
        "colab": {
          "base_uri": "https://localhost:8080/"
        }
      },
      "execution_count": null,
      "outputs": [
        {
          "output_type": "execute_result",
          "data": {
            "text/plain": [
              "4"
            ]
          },
          "metadata": {},
          "execution_count": 7
        }
      ]
    },
    {
      "cell_type": "code",
      "source": [
        "# algoritmo d eecuclides \n",
        " \n",
        "b = int(input(\"Ingrese el numero b : \"))\n",
        "q = int(input(\"Ingrese el numero q : \"))\n",
        "r = int(input(\"Ingrese el numero r: \"))\n",
        "\n",
        "b = b + b*q + r \n",
        "\n",
        "\n"
      ],
      "metadata": {
        "id": "2zK8Q62B04c8"
      },
      "execution_count": null,
      "outputs": []
    },
    {
      "cell_type": "code",
      "source": [
        "# 27 / 02 / 2023, Leí de la página 1 a la página 28 del libro de Álgebra lineal. \n",
        "# Además programe algunos ejemplos para prácticar, de suma importancia será desarrollar programas para la resolución de \n",
        "# sistemas de ecuaciones lineales, debido a que en la materia de electricidad y magnetismo, el análisis de circuitos implica \n",
        "# resolver tales sistemes, y suelen ser ejercicios con muchas ecuaciones. "
      ],
      "metadata": {
        "id": "hfSK7mkUtSlW"
      },
      "execution_count": null,
      "outputs": []
    },
    {
      "cell_type": "markdown",
      "source": [
        "### Para resolver sistemas de ecuaciones más complejos, se utilizan los métodos de eliminación de Gauss y Gauss-Jordan.\n",
        "### En todo caso, elaboraremos un algoritmo similar al que está aquí arriba para resolver un sistema de 3 ecuaciones con 3 incógnitas"
      ],
      "metadata": {
        "id": "tVrrjOLJR-BZ"
      }
    },
    {
      "cell_type": "code",
      "source": [
        "# Sea el sistema\n",
        "\n",
        "# a11x + a12y + a13z = b1 \n",
        "# a21x + a22y + a23z = b2 \n",
        "# a31x + a32y + a33z = b3\n",
        "\n",
        "print(\"Para despejar el valor de z, considerar a11, a12, a21, a22, a31 y a32 con valor igual a 0: \")\n",
        "a13 = float(input(\"Ingrese el valor de a13: \"))\n",
        "b1 = float(input(\"Ingrese el valor de b1: \"))\n",
        "a23 = float(input(\"Ingrese el valor de a23: \"))\n",
        "b2 = float(input(\"Ingrese el valor de b2: \"))\n",
        "a33 = float(input(\"Ingrese el valor de a33: \"))\n",
        "b3 = float(input(\"Ingrese el valor de b3: \"))\n",
        "z = (a13+a23+a33) / (b1+b2+b3)\n",
        "print(f\"z = {z}\")\n",
        "a11 = float(input(\"Ingrese el valor de a11: \"))\n",
        "a12 = float(input(\"Ingrese el valor de a12: \"))\n",
        "a21 = float(input(\"Ingrese el valor de a21: \"))\n",
        "a22 = float(input(\"Ingrese el valor de a22: \"))\n",
        "\n",
        "a31 = float(input(\"Ingrese el valor de a31: \"))\n",
        "a32 = float(input(\"Ingrese el valor de a32: \"))\n",
        "\n",
        "x = (b2*a32 - b3*a22 - (a23*a32 + a33*a22)*z) / (a21*a32 - a31*a22)\n",
        "if a21*a32 - a31*a22 is not 0: \n",
        "    print(f\"x = {x}\")\n",
        "    y = (b1-a13*z-a11*x) / a12\n",
        "    if a12 is not 0: \n",
        "        print(f\"y = {y}\")\n",
        "        print(f\"Por lo tanto la solución del sistema es: ({x} , {y}, {z})\")\n",
        "        print(\"Como el sistema únicamente presenta una solución, las rectas no pueden ser paralelas.\")\n",
        "    else: \n",
        "        print(\"Ingresa valores diferentes para a12\")\n",
        "else:  \n",
        "   print(\"Ingresa valores diferentes para a11, a22, a12 y a21\")"
      ],
      "metadata": {
        "colab": {
          "base_uri": "https://localhost:8080/",
          "height": 339
        },
        "id": "mHDUugDbUl0z",
        "outputId": "a15f4dd3-a834-41fa-cba3-449cb6e63a43"
      },
      "execution_count": null,
      "outputs": [
        {
          "output_type": "stream",
          "name": "stderr",
          "text": [
            "<>:26: SyntaxWarning: \"is not\" with a literal. Did you mean \"!=\"?\n",
            "<>:29: SyntaxWarning: \"is not\" with a literal. Did you mean \"!=\"?\n",
            "<>:26: SyntaxWarning: \"is not\" with a literal. Did you mean \"!=\"?\n",
            "<>:29: SyntaxWarning: \"is not\" with a literal. Did you mean \"!=\"?\n"
          ]
        },
        {
          "name": "stdout",
          "output_type": "stream",
          "text": [
            "Para despejar el valor de z, considerar a11, a12, a21, a22, a31 y a32 con valor igual a 0: \n",
            "Ingrese el valor de a13: \n"
          ]
        },
        {
          "output_type": "error",
          "ename": "ValueError",
          "evalue": "ignored",
          "traceback": [
            "\u001b[0;31m---------------------------------------------------------------------------\u001b[0m",
            "\u001b[0;31mValueError\u001b[0m                                Traceback (most recent call last)",
            "\u001b[0;32m<ipython-input-3-188da49cf8cb>\u001b[0m in \u001b[0;36m<module>\u001b[0;34m\u001b[0m\n\u001b[1;32m      6\u001b[0m \u001b[0;34m\u001b[0m\u001b[0m\n\u001b[1;32m      7\u001b[0m \u001b[0mprint\u001b[0m\u001b[0;34m(\u001b[0m\u001b[0;34m\"Para despejar el valor de z, considerar a11, a12, a21, a22, a31 y a32 con valor igual a 0: \"\u001b[0m\u001b[0;34m)\u001b[0m\u001b[0;34m\u001b[0m\u001b[0;34m\u001b[0m\u001b[0m\n\u001b[0;32m----> 8\u001b[0;31m \u001b[0ma13\u001b[0m \u001b[0;34m=\u001b[0m \u001b[0mfloat\u001b[0m\u001b[0;34m(\u001b[0m\u001b[0minput\u001b[0m\u001b[0;34m(\u001b[0m\u001b[0;34m\"Ingrese el valor de a13: \"\u001b[0m\u001b[0;34m)\u001b[0m\u001b[0;34m)\u001b[0m\u001b[0;34m\u001b[0m\u001b[0;34m\u001b[0m\u001b[0m\n\u001b[0m\u001b[1;32m      9\u001b[0m \u001b[0mb1\u001b[0m \u001b[0;34m=\u001b[0m \u001b[0mfloat\u001b[0m\u001b[0;34m(\u001b[0m\u001b[0minput\u001b[0m\u001b[0;34m(\u001b[0m\u001b[0;34m\"Ingrese el valor de b1: \"\u001b[0m\u001b[0;34m)\u001b[0m\u001b[0;34m)\u001b[0m\u001b[0;34m\u001b[0m\u001b[0;34m\u001b[0m\u001b[0m\n\u001b[1;32m     10\u001b[0m \u001b[0ma23\u001b[0m \u001b[0;34m=\u001b[0m \u001b[0mfloat\u001b[0m\u001b[0;34m(\u001b[0m\u001b[0minput\u001b[0m\u001b[0;34m(\u001b[0m\u001b[0;34m\"Ingrese el valor de a23: \"\u001b[0m\u001b[0;34m)\u001b[0m\u001b[0;34m)\u001b[0m\u001b[0;34m\u001b[0m\u001b[0;34m\u001b[0m\u001b[0m\n",
            "\u001b[0;31mValueError\u001b[0m: could not convert string to float: ''"
          ]
        }
      ]
    },
    {
      "cell_type": "code",
      "source": [
        "print(\"Para despejar el valor de z, considerar a11, a12, a21, a22, a31 y a32 con valor igual a 0: \")\n",
        "\n",
        "a11 = int(input(\"Ingrese el valor de a11: \"))\n",
        "a12 = int(input(\"Ingrese el valor de a12: \"))\n",
        "a13 = int(input(\"Ingrese el valor de a13: \"))\n",
        "b1 = int(input(\"Ingrese el valor de b1: \"))\n",
        "a21 = int(input(\"Ingrese el valor de a21: \"))\n",
        "a22 = int(input(\"Ingrese el valor de a22: \"))\n",
        "a23 = int(input(\"Ingrese el valor de a23: \"))\n",
        "b2 = int(input(\"Ingrese el valor de b2: \"))\n",
        "a31 = int(input(\"Ingrese el valor de a31: \"))\n",
        "a32 = int(input(\"Ingrese el valor de a32: \"))\n",
        "a33 = int(input(\"Ingrese el valor de a33: \"))\n",
        "b3 = int(input(\"Ingrese el valor de b3: \"))\n",
        "z = ((a21*a32*a22*b1) - (a21*a32*a12*b2) - (a31*a22*a22*b1) + (a31*a22*a12*b2) - (a11*a22*a32*b2) + (a11*a22*a22*b3) + (a12*a21*a32*b2) - (a12*a21*a22*b3)) / (a13*a22*a21*a32 - a21*a32*a23*a12 - a31*a22*a13*a22 + a31*a22*a23*a12 - a11*a22*a23*a32 + a11*a22*a33*a32 + a12*a21*a23*a32 - a12*a21*a33*a32)\n",
        "print(f\"z = {z}\")\n",
        "x = (b2*a32 - b3*a22 - a23*a32*z + a33*a22*z) / (a21*a32 - a31*a22)\n",
        "if a21*a32 - a31*a22 is not 0: \n",
        "    print(f\"x = {x}\")\n",
        "    y = (b1-a13*z-a11*x) / a12\n",
        "    if a12 is not 0: \n",
        "        print(f\"y = {y}\")\n",
        "        print(f\"Por lo tanto la solución del sistema es: ({x} , {y}, {z})\")\n",
        "        print(\"Como el sistema únicamente presenta una solución, las rectas no pueden ser paralelas.\")\n",
        "    else: \n",
        "        print(\"Ingresa valores diferentes para a12\")\n",
        "else:  \n",
        "   print(\"Ingresa valores diferentes para a11, a22, a12 y a21\")\n",
        "\n",
        "# Almenos, por ahora, con los métodos de programación que conozco no soy capaz de escribir un programa que pueda resolver un sistema \n",
        "# De tres ecuaciones con tres incógnitas "
      ],
      "metadata": {
        "colab": {
          "base_uri": "https://localhost:8080/"
        },
        "id": "J4uyWVsThkUf",
        "outputId": "c6b56487-93be-40dd-eaeb-1cfbf46da92d"
      },
      "execution_count": null,
      "outputs": [
        {
          "output_type": "stream",
          "name": "stderr",
          "text": [
            "<>:18: SyntaxWarning: \"is not\" with a literal. Did you mean \"!=\"?\n",
            "<>:21: SyntaxWarning: \"is not\" with a literal. Did you mean \"!=\"?\n",
            "<>:18: SyntaxWarning: \"is not\" with a literal. Did you mean \"!=\"?\n",
            "<>:21: SyntaxWarning: \"is not\" with a literal. Did you mean \"!=\"?\n"
          ]
        },
        {
          "output_type": "stream",
          "name": "stdout",
          "text": [
            "Para despejar el valor de z, considerar a11, a12, a21, a22, a31 y a32 con valor igual a 0: \n",
            "Ingrese el valor de a11: 1\n",
            "Ingrese el valor de a12: 5\n",
            "Ingrese el valor de a13: 2\n",
            "Ingrese el valor de b1: -4\n",
            "Ingrese el valor de a21: -1\n",
            "Ingrese el valor de a22: -4\n",
            "Ingrese el valor de a23: 1\n",
            "Ingrese el valor de b2: -12\n",
            "Ingrese el valor de a31: 1\n",
            "Ingrese el valor de a32: 3\n",
            "Ingrese el valor de a33: 1\n",
            "Ingrese el valor de b3: 11\n",
            "z = -5.230769230769231\n",
            "x = 44.61538461538461\n",
            "y = -7.63076923076923\n",
            "Por lo tanto la solución del sistema es: (44.61538461538461 , -7.63076923076923, -5.230769230769231)\n",
            "Como el sistema únicamente presenta una solución, las rectas no pueden ser paralelas.\n"
          ]
        },
        {
          "output_type": "stream",
          "name": "stderr",
          "text": [
            "<ipython-input-6-1fdfb7083ecc>:18: SyntaxWarning: \"is not\" with a literal. Did you mean \"!=\"?\n",
            "  if a21*a32 - a31*a22 is not 0:\n",
            "<ipython-input-6-1fdfb7083ecc>:21: SyntaxWarning: \"is not\" with a literal. Did you mean \"!=\"?\n",
            "  if a12 is not 0:\n"
          ]
        }
      ]
    },
    {
      "cell_type": "code",
      "source": [
        "# Algoritmo para la resolución del ejercicio 1, problemas 1 al 16 \n",
        "\n",
        "# En los problemas 1 a 16 encuentre las soluciones (si las hay) de los sistemas dados. En cada caso calcule el valor de a11*a22 - a12*a21  \n",
        "\n",
        "a11 = float(input(\"Ingrese el valor de a11: \"))\n",
        "a12 = float(input(\"Ingrese el valor de a12: \"))\n",
        "b1 = float(input(\"Ingrese el valor de b1: \"))\n",
        "a21 = float(input(\"Ingrese el valor de a21: \"))\n",
        "a22 = float(input(\"Ingrese el valor de a22: \"))\n",
        "b2 = float(input(\"Inbgrese el valor de b2: \"))\n",
        "m1 = - (a11/a12)\n",
        "print(f\"La pendiente de la recta a11x + a12y = b1 es m = {m1}\")\n",
        "m2 = - (a21/a22)\n",
        "print(f\"La pendiente de la recta a21x + a22y = b2 es m = {m2}\")\n",
        "d = a11*a22 - a12*a21\n",
        "print(f\"El valor del determinante es d = {d}\")\n",
        "if d != 0:\n",
        "    print(\"El sistema solamente tiene una solución.\")\n",
        "else:\n",
        "    print(\"El sistema no tiene solución o tiene infinitas soluciones-\")\n",
        "x = (b1*a22 - b2*a12) / (a11*a22 - a12*a21)\n",
        "if a11*a22 - a12*a21 is not 0: \n",
        "    print(f\"x = {x}\")\n",
        "    y = (b1-a11*x) / a12\n",
        "    if a12 is not 0:            # Cuando ambas pendientes son iguales, significa que el sistema tiene infinitas soluciones o no tiene ninguna \n",
        "        print(f\"y = {y}\")\n",
        "        print(f\"Por lo tanto la solución del sistema es: ({x} , {y})\")\n",
        "        print(\"Como a11*a22 - a12*a21 != 0 el sistema únicamente presenta una solución, y las rectas no son paralelas.\")\n",
        "    else: \n",
        "        print(\"Ingresa valores diferentes para a12\")\n",
        "else:  \n",
        "   print(\"Ingresa valores diferentes para a11, a22, a12 y a21\") "
      ],
      "metadata": {
        "id": "EtL1Rh4npy4s"
      },
      "execution_count": null,
      "outputs": []
    },
    {
      "cell_type": "markdown",
      "source": [
        "#Algebra Lineal Cápitulo 2\n",
        "\n",
        "## 1.3 m ecuaciones con n incógnitas: Eliminación de Gauss-Jordan y Gaussiana"
      ],
      "metadata": {
        "id": "j8Z_Eogx3mPi"
      }
    },
    {
      "cell_type": "code",
      "source": [],
      "metadata": {
        "id": "YlEOifISJotl"
      },
      "execution_count": null,
      "outputs": []
    },
    {
      "cell_type": "code",
      "source": [
        "x = 1\n",
        "x = x == x\n",
        "print(x)"
      ],
      "metadata": {
        "id": "tIyOi3ZcJoAZ",
        "colab": {
          "base_uri": "https://localhost:8080/"
        },
        "outputId": "f4e8836c-66e9-4579-ae21-27761969ec0f"
      },
      "execution_count": 6,
      "outputs": [
        {
          "output_type": "stream",
          "name": "stdout",
          "text": [
            "True\n"
          ]
        }
      ]
    },
    {
      "cell_type": "code",
      "source": [
        "z = 10\n",
        "y = 0\n",
        "x = y < z and z > y or y > z and z < y\n",
        "print(x)"
      ],
      "metadata": {
        "id": "nROrNW7GJn0j",
        "colab": {
          "base_uri": "https://localhost:8080/"
        },
        "outputId": "107dc07b-d5a1-4e32-e1a7-24ff04cde275"
      },
      "execution_count": 7,
      "outputs": [
        {
          "output_type": "stream",
          "name": "stdout",
          "text": [
            "True\n"
          ]
        }
      ]
    },
    {
      "cell_type": "code",
      "source": [
        "a = 1\n",
        "b = 0\n",
        "c = a & b\n",
        "d = a | b\n",
        "e = a ^ b\n",
        " \n",
        "print(c + d + e)"
      ],
      "metadata": {
        "id": "P5gfgW2AJnfP",
        "colab": {
          "base_uri": "https://localhost:8080/"
        },
        "outputId": "62716cf2-91f8-4af6-f9f6-a711a6cbf064"
      },
      "execution_count": 8,
      "outputs": [
        {
          "output_type": "stream",
          "name": "stdout",
          "text": [
            "2\n"
          ]
        }
      ]
    },
    {
      "cell_type": "code",
      "source": [
        "my_list = [3, 1, -2]\n",
        "print(my_list[my_list[-1]])"
      ],
      "metadata": {
        "id": "5c_DR3Fh92dH",
        "colab": {
          "base_uri": "https://localhost:8080/"
        },
        "outputId": "b5433e62-2ce9-4fac-fd9c-0d39107e8f3f"
      },
      "execution_count": 9,
      "outputs": [
        {
          "output_type": "stream",
          "name": "stdout",
          "text": [
            "1\n"
          ]
        }
      ]
    },
    {
      "cell_type": "code",
      "source": [
        "my_list = [1, 2, 3, 4]\n",
        "print(my_list[-3:-2])"
      ],
      "metadata": {
        "colab": {
          "base_uri": "https://localhost:8080/"
        },
        "id": "mfeKTyPS-uES",
        "outputId": "c110298f-13b8-425b-d614-a9535fdee140"
      },
      "execution_count": 10,
      "outputs": [
        {
          "output_type": "stream",
          "name": "stdout",
          "text": [
            "[2]\n"
          ]
        }
      ]
    },
    {
      "cell_type": "code",
      "source": [
        "vals = [0, 1, 2]\n",
        "vals.insert(0, 1)\n",
        "del vals[1]\n",
        "print(vals)"
      ],
      "metadata": {
        "colab": {
          "base_uri": "https://localhost:8080/"
        },
        "id": "sdJDb4RV-uCR",
        "outputId": "5e74c8d0-06a8-4315-97ff-b0dfd427012b"
      },
      "execution_count": 13,
      "outputs": [
        {
          "output_type": "stream",
          "name": "stdout",
          "text": [
            "[1, 1, 2]\n"
          ]
        }
      ]
    },
    {
      "cell_type": "code",
      "source": [
        "my_list_1 = [1, 2, 3]\n",
        "my_list_2 = []\n",
        "for v in my_list_1:\n",
        "    my_list_2.insert(0, v)\n",
        "print(my_list_2)"
      ],
      "metadata": {
        "colab": {
          "base_uri": "https://localhost:8080/"
        },
        "id": "xGfo2RdV-t_u",
        "outputId": "49275180-fda4-4ed2-961c-f325225c7143"
      },
      "execution_count": 14,
      "outputs": [
        {
          "output_type": "stream",
          "name": "stdout",
          "text": [
            "[3, 2, 1]\n"
          ]
        }
      ]
    },
    {
      "cell_type": "code",
      "source": [
        "my_list = [1, 2, 3]\n",
        "for v in range(len(my_list)):\n",
        "    my_list.insert(1, my_list[v])\n",
        "print(my_list)"
      ],
      "metadata": {
        "colab": {
          "base_uri": "https://localhost:8080/"
        },
        "id": "z7KjjBnZ-t85",
        "outputId": "660e28d7-673b-4397-f8cf-41d7696117de"
      },
      "execution_count": 15,
      "outputs": [
        {
          "output_type": "stream",
          "name": "stdout",
          "text": [
            "[1, 1, 1, 1, 2, 3]\n"
          ]
        }
      ]
    },
    {
      "cell_type": "code",
      "source": [
        "t = [[3-i for i in range (3)] for j in range (3)]\n",
        "s = 0\n",
        "for i in range(3):\n",
        "    s += t[i][i]\n",
        "print(s)"
      ],
      "metadata": {
        "colab": {
          "base_uri": "https://localhost:8080/"
        },
        "id": "GKHNEZAc_tlE",
        "outputId": "c56cf907-808b-459b-87af-d05c5fe1565a"
      },
      "execution_count": 16,
      "outputs": [
        {
          "output_type": "stream",
          "name": "stdout",
          "text": [
            "6\n"
          ]
        }
      ]
    },
    {
      "cell_type": "code",
      "source": [],
      "metadata": {
        "id": "7GKXHvr6_tib"
      },
      "execution_count": null,
      "outputs": []
    },
    {
      "cell_type": "code",
      "source": [],
      "metadata": {
        "id": "yN0agtRP_fAe"
      },
      "execution_count": null,
      "outputs": []
    },
    {
      "cell_type": "code",
      "source": [],
      "metadata": {
        "id": "VLOv7o0x_e94"
      },
      "execution_count": null,
      "outputs": []
    },
    {
      "cell_type": "code",
      "source": [],
      "metadata": {
        "id": "ovekwpiL_e6Y"
      },
      "execution_count": null,
      "outputs": []
    },
    {
      "cell_type": "code",
      "source": [],
      "metadata": {
        "id": "95k-tAol_e35"
      },
      "execution_count": null,
      "outputs": []
    },
    {
      "cell_type": "code",
      "source": [],
      "metadata": {
        "id": "NJfHKcBg_eQU"
      },
      "execution_count": null,
      "outputs": []
    },
    {
      "cell_type": "code",
      "source": [],
      "metadata": {
        "id": "uvvtw9pe-t6Y"
      },
      "execution_count": null,
      "outputs": []
    },
    {
      "cell_type": "code",
      "source": [
        "# La inversa de una matriz A \n",
        "# El siguiente programa cálcula los valores de la inversa de una matriz de 2 renglones por 2 columnas\n",
        "\n",
        "a = float(input(\"Ingrese el valor de a: \"))\n",
        "b = float(input(\"Ingrese el valor de b: \"))\n",
        "c = float(input(\"Ingrese el valor de c: \"))\n",
        "d = float(input(\"Ingrese el valor de d: \"))\n",
        "a1 = (d/(a*d-b*c))\n",
        "a2 = (-b/(a*d-b*c))\n",
        "a3 = (-c/(a*d-b*c))\n",
        "a4 = (a/(a*d-b*c)) \n",
        "print(f\"Los valores de la inversa de la matriz A es: {a1} , {a2}, {a3}, {a4}\")\n"
      ],
      "metadata": {
        "id": "ijv55W_jLySc",
        "outputId": "8c2f6bcf-7db0-404a-db69-01b25550d24a",
        "colab": {
          "base_uri": "https://localhost:8080/"
        }
      },
      "execution_count": null,
      "outputs": [
        {
          "output_type": "stream",
          "name": "stdout",
          "text": [
            "Ingrese el valor de a: 3\n",
            "Ingrese el valor de b: 1\n",
            "Ingrese el valor de c: 4\n",
            "Ingrese el valor de d: -2\n",
            "Los valores de la inversa de la matriz A es: 0.2 , 0.1, 0.4, -0.3\n"
          ]
        }
      ]
    },
    {
      "cell_type": "code",
      "source": [
        " "
      ],
      "metadata": {
        "id": "PZ78XEOGKe8j",
        "outputId": "9ca3abc0-8771-41dc-a3d0-3dcd3624155e",
        "colab": {
          "base_uri": "https://localhost:8080/"
        }
      },
      "execution_count": null,
      "outputs": [
        {
          "output_type": "stream",
          "name": "stdout",
          "text": [
            "Ingrese el valor de a11: 1\n",
            "Ingrese el valor de a12: -3\n",
            "Ingrese el valor de b1: 4\n",
            "Ingrese el valor de a21: -4\n",
            "Ingrese el valor de a22: 2\n",
            "Inbgrese el valor de b2: 6\n",
            "La pendiente de la recta a11x + a12y = b1 es m = 0.3333333333333333\n",
            "La pendiente de la recta a21x + a22y = b2 es m = 2.0\n",
            "El valor del determinante d es -10.0\n",
            "El sistema solamente tiene una solución.\n",
            "x = -2.6\n",
            "y = -2.1999999999999997\n",
            "Por lo tanto la solución del sistema es: (-2.6 , -2.1999999999999997)\n",
            "Como a11*a22 - a12*a21 != 0 el sistema únicamente presenta una solución, y las rectas no son paralelas.\n"
          ]
        }
      ]
    },
    {
      "cell_type": "code",
      "source": [
        "# 27 / 02 / 2023 \n",
        "# Forma alternativa de resolver una ecuación de 2 variables \n",
        "\n",
        "# Ecuación 1 ----->  a11x + a12y = b1 \n",
        "# Ecuación 2 ----->  a21x + a22y = b2 \n",
        "\n",
        "# Considerar que a12y, y a22y, son iguales a cero,\n",
        "\n",
        "# Entonces sumar los valores de x, los valores de b1 y b2, y el resultado sustituirlo en la ecuacion 1 o 2 a\n",
        "\n",
        "print(\"Sistema de 2 ecuaciones con dos incognitas\")\n",
        "\n",
        "# Constantes que acompañan a x en ambas ecuaciones\n",
        "a11 = int(input(\"Ingrese el valor de a11: \"))\n",
        "a21 = int(input(\"Ingrese el valor de a21: \"))\n",
        "\n",
        "# Constantes a las cuales están igualadas las ecuaciones\n",
        "b1 = int(input(\"Ingrese el valor de a11: \"))\n",
        "b2 = int(input(\"Ingrese el valor de a11: \"))\n",
        "\n",
        "# Primera operación involucrada\n",
        "x = ( b1 + b2 ) / (a11 + a21)\n",
        "print(f\"x = {x}\")\n",
        "if a11 + a21 != 0: \n",
        "    a12 = int(input(\"Ingrese el valor de a12: \"))\n",
        "    a22 = int(input(\"Ingrese el valor de a12: \"))\n",
        "    y1 = (b1 - a11*x) / a12 \n",
        "    y2 = (b2 - a21*x) / a22\n",
        "    if y1 == y2: \n",
        "        print(\"El sistema de ecuaciones es válido\")\n",
        "        print(f\"La solución del sistema es: x = {x}, y = {y1}\")\n",
        "    else: \n",
        "        print(\"Ingresa nuevos valores\") \n",
        "else:\n",
        "    print(\"Ingresa nuevos valores\")\n",
        "\n",
        "# Este ejercicio fue resuelto mientras leía el primer ejemplo de álgebra lineal \n",
        "# El código aunque es muy simple funciona excelentemente bien, y muy probablemente será parteaguas para la resolución de sistemas de ecuaciones \n",
        "# más grandes, aunque de momento el código mostrado en esta pantalla esta muy rústico\n",
        "\n",
        "\n",
        "\"\"\" Sistema de 2 ecuaciones con dos incognitas\n",
        "Ingrese el valor de a11: 1\n",
        "Ingrese el valor de a21: 1\n",
        "Ingrese el valor de a11: 7\n",
        "Ingrese el valor de a11: 5\n",
        "x = 6.0\n",
        "Ingrese el valor de a12: -1\n",
        "Ingrese el valor de a12: 1\n",
        "y = -1.0\n",
        "El sistema de ecuaciones es válido\n",
        "La solución del sistema es: x = 6.0, y = -1.0 \"\"\" "
      ],
      "metadata": {
        "id": "9rikx7-1tARy"
      },
      "execution_count": null,
      "outputs": []
    },
    {
      "cell_type": "code",
      "source": [
        "# 27 / 02 / 2023 \n",
        "# Forma alternativa de resolver una ecuación de 2 variables \n",
        "\n",
        "# Ecuación 1 ----->  a11x + a12y = b1 \n",
        "# Ecuación 2 ----->  a21x + a22y = b2 \n",
        "\n",
        "# Considerar que a12y, y a22y, son iguales a cero,\n",
        "\n",
        "# Entonces sumar los valores de x, los valores de b1 y b2, y el resultado sustituirlo en la ecuacion 1 o 2 a\n",
        "\n",
        "print(\"Sistema de 2 ecuaciones con dos incognitas\")\n",
        "# Sí a12 = a22 = 0, entonces el sistema de ecuaciones sólo una incognita  x\n",
        "\n",
        "# Constantes que acompañan a x en ambas ecuaciones\n",
        "a11 = int(input(\"Ingrese el valor de a11: \"))\n",
        "a21 = int(input(\"Ingrese el valor de a21: \"))\n",
        "\n",
        "# Constantes a las cuales están igualadas las ecuaciones\n",
        "b1 = int(input(\"Ingrese el valor de a11: \"))\n",
        "b2 = int(input(\"Ingrese el valor de a11: \"))\n",
        "\n",
        "# Primera operación involucrada\n",
        "x = ( b1 + b2 ) / (a11 + a21)\n",
        "print(f\"x = {x}\")\n",
        "if a11 + a21 != 0: \n",
        "    a12 = int(input(\"Ingrese el valor de a12: \"))\n",
        "    a22 = int(input(\"Ingrese el valor de a12: \"))\n",
        "    y1 = (b1 - a11*x) / a12 \n",
        "    y2 = (b2 - a21*x) / a22\n",
        "    if y1 == y2: \n",
        "        print(f\"y = {y1}\")\n",
        "        print(\"El sistema de ecuaciones es válido\")\n",
        "        print(f\"La solución del sistema es: x = {x}, y = {y1}\")\n",
        "    else: \n",
        "        print(\"Ingresa nuevos valores\") \n",
        "else:\n",
        "    print(\"Ingresa nuevos valores\")\n",
        "\n",
        "# Este ejercicio fue resuelto mientras leía el primer ejemplo de álgebra lineal \n",
        "# El código aunque es muy simple funciona excelentemente bien, y muy probablemente será parteaguas para la resolución de sistemas de ecuaciones \n",
        "# más grandes, aunque de momento el código mostrado en esta pantalla esta muy rústico"
      ],
      "metadata": {
        "id": "FYEr90GHtAEW"
      },
      "execution_count": null,
      "outputs": []
    },
    {
      "cell_type": "code",
      "source": [
        "# 10 / 03 / 2023\n",
        "# Forma alternativa de resolver una ecuación de 2 variables \n",
        "\n",
        "# Ecuación 1 ----->  a11x + a12y + a13z = b1 \n",
        "# Ecuación 2 ----->  a21x + a22y + a23z = b2 \n",
        "# Ecaución 3 ----->  a31x + a32y + a33z = b3 \n",
        "\n",
        "# Para encontrar x \n",
        "\n",
        "# Considerar que a12y, a22y, a32, a13z, a23z, y a33z son iguales a cero,\n",
        "\n",
        "# A continuación  sumar los valores de x, los valores de b1, b2, y b3, y el resultado sustituirlo en la ecuacion 1 o 2 a\n",
        "\n",
        "print(\"Sistema de 3 ecuaciones con tres incognitas\")\n",
        "# Sí a12 = a22 = a32 = a13 = a23 = a33 = 0, entonces el sistema de ecuaciones sólo contiene a la incognita  x\n",
        "\n",
        "# Constantes que acompañan a x en las 3 ecuaciones\n",
        "a11 = int(input(\"Ingrese el valor de a11: \"))\n",
        "a21 = int(input(\"Ingrese el valor de a21: \"))\n",
        "a31 = int(input(\"Ingrese el valor de a31: \"))\n",
        "\n",
        "# Constantes a las cuales están igualadas las ecuaciones\n",
        "b1 = int(input(\"Ingrese el valor de b1: \"))\n",
        "b2 = int(input(\"Ingrese el valor de b2: \"))\n",
        "b3 = int(input(\"Ingrese el valor de b3: \"))\n",
        "\n",
        "\n",
        "# Primera operación involucrada\n",
        "x = ( b1 + b2 + b3) / (a11 + a21 + a31)\n",
        "print(f\"x = {x}\")\n",
        "if a11 + a21 + a31 != 0: \n",
        "\n",
        "    # Consideraciones para obetner el valor del valor de y, que el valor de z = 0 \n",
        "    # y por tanto la operación con los coeficientes, sea cual sea, se iguale a cero \n",
        "    a12 = int(input(\"Ingrese el valor de a12: \"))\n",
        "    a22 = int(input(\"Ingrese el valor de a22: \"))\n",
        "    a32 = int(input(\"Ingrese el valor de a32: \"))\n",
        "\n",
        "    y1 = (b1 - a11*x) / a12 \n",
        "    y2 = (b2 - a21*x) / a22\n",
        "    y3 = (b3 - a31*x) / a32 \n",
        "    if y1 == y2 == y3: \n",
        "        print(f\"y = {y1}\")\n",
        "        a13 = int(input(\"Ingrese el valor de a13: \")) \n",
        "        a23 = int(input(\"Ingrese el valor de a23: \")) \n",
        "        a33 = int(input(\"Ingrese el valor de a33: \")) \n",
        "\n",
        "        # Consideraciones para encontrar el valor de z\n",
        "        z1 = (b1 - a11*x - a12*y1 ) / a13 \n",
        "        z2 = (b2 - a21*x - a22*y1 ) / a23 \n",
        "        z3 = (b3 - a31*x - a32*y1 ) / a33 \n",
        "\n",
        "        if z1 == z2 == z3: \n",
        "            print(\"El sistema de ecuaciones es válido.\")      \n",
        "       # print(\"El sistema de ecuaciones es válido\")\n",
        "            print(f\"La solución del sistema es: x = {x}, y = {y1}, z = {z1}\")\n",
        "        else: \n",
        "            print(\"Ingresa nuevos valores\") \n",
        "    else:\n",
        "        print(\"Ingresa nuevos valores\")\n",
        "else:\n",
        "        print(\"Ingresa nuevos valores\")\n"
      ],
      "metadata": {
        "colab": {
          "base_uri": "https://localhost:8080/"
        },
        "id": "7SSDmSBk3Y-U",
        "outputId": "3a684ec3-d382-4987-cfc1-476dfd08ddc5"
      },
      "execution_count": null,
      "outputs": [
        {
          "output_type": "stream",
          "name": "stdout",
          "text": [
            "Sistema de 3 ecuaciones con tres incognitas\n",
            "Ingrese el valor de a11: 1\n",
            "Ingrese el valor de a21: 5\n",
            "Ingrese el valor de a31: 2\n",
            "Ingrese el valor de b1: -4\n",
            "Ingrese el valor de b2: -12\n",
            "Ingrese el valor de b3: 11\n",
            "x = -0.625\n",
            "Ingrese el valor de a12: -1\n",
            "Ingrese el valor de a22: -4\n",
            "Ingrese el valor de a32: 1\n",
            "Ingresa nuevos valores\n"
          ]
        }
      ]
    },
    {
      "cell_type": "code",
      "source": [
        "# 10 / 02 / 2023 \n",
        "# Resolución de un sistema de ecuaciones de 4 x 4 \n",
        "\n",
        "# Ecuación 1 ----->  a11x + a12y + a13z + a14w = b1 \n",
        "# Ecuación 2 ----->  a21x + a22y + a23z + a24w = b2 \n",
        "# Ecuación 3 ----->  a31x + a32y + a33z + a34w = b3 \n",
        "# Ecuación 2 ----->  a41x + a42y + a43z + a44w = b4 \n",
        "\n",
        "# Para encontrar x:\n",
        "# Considerar que a12y, a22y, a32y, y a42w son iguales a cero,\n",
        "\n",
        "# Entonces sumar los valores de x, los valores de b1 y b2, y el resultado sustituirlo en la ecuacion 1 o 2 a\n",
        "\n",
        "print(\"Sistema de 2 ecuaciones con dos incognitas\")\n",
        "# Sí a12 = a22 = 0, entonces el sistema de ecuaciones sólo una incognita  x\n",
        "\n",
        "# Constantes que acompañan a x en ambas ecuaciones\n",
        "a11 = int(input(\"Ingrese el valor de a11: \"))\n",
        "a21 = int(input(\"Ingrese el valor de a21: \"))\n",
        "\n",
        "# Constantes a las cuales están igualadas las ecuaciones\n",
        "b1 = int(input(\"Ingrese el valor de a11: \"))\n",
        "b2 = int(input(\"Ingrese el valor de a11: \"))\n",
        "\n",
        "# Primera operación involucrada\n",
        "x = ( b1 + b2 ) / (a11 + a21)\n",
        "print(f\"x = {x}\")\n",
        "if a11 + a21 != 0: \n",
        "    a12 = int(input(\"Ingrese el valor de a12: \"))\n",
        "    a22 = int(input(\"Ingrese el valor de a12: \"))\n",
        "    y1 = (b1 - a11*x) / a12 \n",
        "    y2 = (b2 - a21*x) / a22\n",
        "    if y1 == y2: \n",
        "        print(f\"y = {y1}\")\n",
        "        print(\"El sistema de ecuaciones es válido\")\n",
        "        print(f\"La solución del sistema es: x = {x}, y = {y1}\")\n",
        "    else: \n",
        "        print(\"Ingresa nuevos valores\") \n",
        "else:\n",
        "    print(\"Ingresa nuevos valores\")\n",
        "\n",
        "# Este ejercicio fue resuelto mientras leía el primer ejemplo de álgebra lineal \n",
        "# El código aunque es muy simple funciona excelentemente bien, y muy probablemente será parteaguas para la resolución de sistemas de ecuaciones \n",
        "# más grandes, aunque de momento el código mostrado en esta pantalla esta muy rústico"
      ],
      "metadata": {
        "colab": {
          "base_uri": "https://localhost:8080/"
        },
        "outputId": "7f637f39-45cc-4de4-9873-b9baf6f6409d",
        "id": "UCN5NOKf3ZpS"
      },
      "execution_count": null,
      "outputs": [
        {
          "output_type": "stream",
          "name": "stdout",
          "text": [
            "Sistema de 2 ecuaciones con dos incognitas\n",
            "Ingrese el valor de a11: 1\n",
            "Ingrese el valor de a21: 1\n",
            "Ingrese el valor de a11: 7\n",
            "Ingrese el valor de a11: 5\n",
            "x = 6.0\n",
            "Ingrese el valor de a12: -1\n",
            "Ingrese el valor de a12: 1\n",
            "y = -1.0\n",
            "El sistema de ecuaciones es válido\n",
            "La solución del sistema es: x = 6.0, y = -1.0\n"
          ]
        }
      ]
    },
    {
      "cell_type": "code",
      "source": [
        "# Leonardo Alexis Luna Moreno, 18 de septiembre del 20022, 5:55 de la tarde\n",
        "# He avanzado mucho desde la madrugada del día de hoy\n",
        "\n",
        "from tkinter import *  # Se importan todas herramientas de la libreria tkinter \n",
        "#from tkinter.ttk import * \n",
        "import tkinter as tk   # Se importan otros herramientas de tkinter \n",
        "from time import strftime # Se importan las librerias para definir la hora y la fecha\n",
        "import time # Se importan más librerias para el tiempo\n",
        "\n",
        "#miFrame = Frame()\n",
        "\n",
        "class Ventana():        # Aquí se define la clase ventana, y se almacenan diversos datos de interés para la interfaz\n",
        "    def _init(self):    # Se utiliza el método __init_, es un constructor que establece el estado inicial de un objeto. \n",
        "            self.ventana = tk.Tk()\n",
        "            self.ventana.iconbitmap(\"../graphics/mad.ico\") # Aquí se agrega un ícono a la ventana principal del programa           # A partir de este punto, si se ejecuta el programa, durante un instante aparece la ventana principal, después se cierra\n",
        "\n",
        "            self.ventana.geometry(\"750x150\") # Con está línea se define el tamaño con el cual la ventana principal se muestra en cuanto inicia el programa\n",
        "            # ¿Cómo hacer que la ventana principal del programa abarque todo el monitor en cuanto inicialice el programa?\n",
        "            self.ventana.resizable(1200,1200)\n",
        "\n",
        "            self.ventana.title(\"LA CALCULADORA DEL DIABLO\") # Con está instrucción agregamos el nombre a la ventana principal, en este caso \" LA CALCULADORA DEL DIABLO \"\n",
        "\n",
        "            self.ventana.config(background = \"darkred\")    # Con está línea es posible colorear el fondo de la ventana principal\n",
        "            self.ventana.config(bd = 10)  # Se agregan bordes a la ventana principal, cuyo grosor es 10                           # A partir de aquí el programa comienza a funcionar, pero se queda trabado sin las instrucciones definidas más abajo \n",
        "            self.ventana.config(relief = \"groove\")   # Se elige un tipo de borde, de entre los muchos que ofrece la libreria tkinter\n",
        "\n",
        "            self.ventana.config(cursor = \"hand2\")     # Aquí se cambia la forma del cursor mientras el mismo se encuentre sobre la ventana principal del programa\n",
        "        \n",
        "            # En este recuadro creado en las líneas siguientes se almacenan los datos del reloj dígital.\n",
        "            self.etiquetahms = tk.Label(text = \"\", font = (\"Arial\", 32), fg = \"darkred\", bg = \"white\", pady = 10, padx = 10) # En esta línea se define el nombre de la etiqueta para el reloj, así como el tipo de letra, el tamaño de la letra, fg define el color de la letra, mientras que bg define el color del recuadro donde se almacenan los valores del tiempo, padx y pady son un espacio entre el elemento definido, y suponiendo un numero n, tal numero se divide a la mitad, y en la mitad del interalo se coloca el objeto definido por nosotros \n",
        "            self.etiquetahms.config(bd = 10)   # Se agrega el grosor para el borde \n",
        "            self.etiquetahms.config(relief = \"groove\")   # Se agrega un tipo de borde para el recuadro que contiene la hora\n",
        "            self.etiquetahms.place(x = 0, y = 0)   # Se elige la posición para el recuadro de la hora\n",
        "            self.actualizacion()     # Permite que la información del reloj cambie, cada 1 / 1000 segundos la información del reloj se actualiza\n",
        "\n",
        "            # En este recuadro creado en las líneas siguientes se almacenan los datos de la fecha\n",
        "            # Al parecer utilizare el método .grid, eventualmente, esto con la intención de colocar los botones a mi antojo \n",
        "\n",
        "            # Sí se mantinene las 5 lineas siguientes, y en cambio, se muestra como comentario la etiqueta definida en ala clase actualización, se observa un recuadro blanco en la pantalla\n",
        "            # ¿ Cómo lograr que los recuadros se ajusten a la ventana en todo momento, incluso cuando la ventana cambia de tamaño ?\n",
        "            self.etiqueta = tk.Label(text = \"dd/mm/aaaa\", font = (\"Arial\", 32), fg = \"darkred\", bg = \"white\", pady = 10, padx = 10)\n",
        "            self.etiqueta.config(bd = 10)  # Se agrega el grosor para el borde\n",
        "            self.etiqueta.config(relief = \"groove\") # Se agrega un tipo de borde para el recuadro que contiene la fecha\n",
        "            #self.etiqueta.place(x = 10) \n",
        "            self.etiqueta.place( x = 1065, y = 0)  # Se elige una posición estática para el recuadro de la fecha, eso por el momento \n",
        "            self.actualizacion() # permite que la información dentro del recuadro de la fecha cambie\n",
        "\n",
        "            miFrame = Frame()  # Después de agregar está línea por sí sola no sucede nada, pero estamos por definir el encabezado\n",
        "            miFrame.pack(side = \"top\") # Define la posición dentro de la ventana, con esté método el encabezado se mueve conforme la ventana principal mientras cambia de tamaño, en cambio con el metodo .place, los recuadros permanecen estáticos\n",
        "            miFrame.config(background = \"midnightblue\" ) # Permite cambiar el color del encabezado\n",
        "            miFrame.config(width = \"750\", height = \"150\") # Define el tamaño del encabezado\n",
        "            Label(miFrame, text = \"Estructura de Datos\", fg = \"midnightblue\", font = (\"Arial\", 30)).place(x = 190, y = 40)\n",
        "            miFrame.config(bd = 10)  # Se define el grosor del recuadro del encabezado \n",
        "            miFrame.config(relief = \"groove\") # Se elige un tipo de borde para el recuadro del encabezado \n",
        "            miFrame.config(cursor = \"pirate\") # Cambia la forma del cursor al colocarlo sobre el área que ocupa el encabezado\n",
        "\n",
        "            #botonEnvio = Button(self.ventana, text = \"Menú\") # Con está línea es posible crear un boton#\n",
        "            #botonEnvio.pack() # Con está línea es posible visualizar el botón en la pantalla, cuando no se rellena .pack(), el boton es colocado debajo del encabezado, esto por defecto \n",
        "            \n",
        "            def openNewWindow():\n",
        "                newWindow = Tk()\n",
        "                newWindow.iconbitmap(\"../graphics/mad.ico\") # Hasta aquí la segunda ventana aun se puede configurar\n",
        "                # newWindow.geometry(\"750,150\") Después de eliminar está línea del código, la segunda ventana se pinto de rojo \n",
        "                newWindow.resizable(1200,1200)\n",
        "                newWindow.title(\"MENÚ DE LA CALCULADORA DEL DIABLO\")\n",
        "                newWindow.config(background = \"darkred\")\n",
        "                newWindow.config(bd = 10)\n",
        "                newWindow.config(relief = \"groove\")\n",
        "\n",
        "                barraMenu = Menu(newWindow)\n",
        "                mnuArchivo = Menu(barraMenu)\n",
        "                mnuArchivo.add_command(label = \"Tarea 1: Transformación de 2 matrices triangulares inferiores A y B, en un arreglo rectangular AxB\")\n",
        "                mnuArchivo.add_command(label = \"Tarea 2: Programa que ordena datos por el método de la burbuja\")\n",
        "                mnuArchivo.add_command(label = \"Tarea 3: Programa que agrega y elimina datos en una pila, en una cola, y en una cola de doble entrada\")\n",
        "                mnuArchivo.add_command(label = \"Tarea 4: Ordenamiento de datos por el método de mínimos sucesivos\")\n",
        "                mnuArchivo.add_command(label = \"salir\")           \n",
        "                barraMenu.add_cascade(label = \" LOS CALCULOS DEL DIABLO \", menu = mnuArchivo)\n",
        "                newWindow.config(menu = barraMenu)\n",
        "\n",
        "                # Con la sintaxis de las 5 siguientes líneas fue posible agregar el reloj a la segunda ventana\n",
        "                self.etiquetahms = tk.Label(newWindow, text = \"\", font = (\"Arial\", 32), fg = \"darkred\", bg = \"white\", pady = 10, padx = 10) # En esta línea se define el nombre de la etiqueta para el reloj, así como el tipo de letra, el tamaño de la letra, fg define el color de la letra, mientras que bg define el color del recuadro donde se almacenan los valores del tiempo, padx y pady son un espacio entre el elemento definido, y suponiendo un numero n, tal numero se divide a la mitad, y en la mitad del interalo se coloca el objeto definido por nosotros \n",
        "                self.etiquetahms.config(bd = 10)   # Se agrega el grosor para el borde \n",
        "                self.etiquetahms.config(relief = \"groove\")   # Se agrega un tipo de borde para el recuadro que contiene la hora\n",
        "                self.etiquetahms.place(x = 0, y = 0)   # Se elige la posición para el recuadro de la hora\n",
        "                self.actualizacion()  \n",
        "\n",
        "                self.etiqueta = tk.Label(newWindow, text = \"dd/mm/aaaa\", font = (\"Arial\", 32), fg = \"darkred\", bg = \"white\", pady = 10, padx = 10)\n",
        "                self.etiqueta.config(bd = 10)  # Se agrega el grosor para el borde\n",
        "                self.etiqueta.config(relief = \"groove\") # Se agrega un tipo de borde para el recuadro que contiene la fecha\n",
        "                #self.etiqueta.place(x = 10) \n",
        "                self.etiqueta.place( x = 1065, y = 0)  # Se elige una posición estática para el recuadro de la fecha, eso por el momento \n",
        "                self.actualizacion() # permite que la información dentro del recuadro de la fecha cambie\n",
        "\n",
        "                # Para evitar que un cuadro de texto aparezca duplicada en la primera ventana es necesario escribir \n",
        "                # miFrame = Frame(lugar en donde se espera que aparezca el recuadro, en este caso newWindow)\n",
        "                miFrame = Frame(newWindow)  # Después de agregar está línea por sí sola no sucede nada, pero estamos por definir el encabezado\n",
        "                miFrame.pack(side = \"top\") # Define la posición dentro de la ventana, con esté método el encabezado se mueve conforme la ventana principal mientras cambia de tamaño, en cambio con el metodo .place, los recuadros permanecen estáticos\n",
        "                miFrame.config(background = \"midnightblue\" ) # Permite cambiar el color del encabezado\n",
        "                miFrame.config(width = \"750\", height = \"150\") # Define el tamaño del encabezado\n",
        "                Label(miFrame, text = \"Estructura de Datos\", fg = \"midnightblue\", font = (\"Arial\", 30)).place(x = 190, y = 40)\n",
        "                miFrame.config(bd = 10)  # Se define el grosor del recuadro del encabezado \n",
        "                miFrame.config(relief = \"groove\") # Se elige un tipo de borde para el recuadro del encabezado \n",
        "                miFrame.config(cursor = \"pirate\") \n",
        "\n",
        "                botonEnvio = Button(newWindow, text = \"Volver a la ventana principal y cerrar esta ventana\", command = newWindow.destroy) # Al agregar el comando \" exit \" en el botón \" Cerrar \", fue posible finalizar el programa\n",
        "                botonEnvio.config(cursor = \"pirate\")\n",
        "                botonEnvio.place(x = 0, y = 640)\n",
        "                # Label(newWindow, text = \"This is a new Window\").pack()  \n",
        "                # newWindow.mainloop()\n",
        "\n",
        "                # miFrame = Frame()  # Después de agregar está línea por sí sola no sucede nada, pero estamos por definir el encabezado\n",
        "                # miFrame.pack(side = \"top\") # Define la posición dentro de la ventana, con esté método el encabezado se mueve conforme la ventana principal mientras cambia de tamaño, en cambio con el metodo .place, los recuadros permanecen estáticos\n",
        "                # miFrame.config(background = \"midnightblue\" ) # Permite cambiar el color del encabezado\n",
        "                # miFrame.config(width = \"750\", height = \"150\") # Define el tamaño del encabezado\n",
        "                # Label(miFrame, text = \"Estructura de Datos\", fg = \"midnightblue\", font = (\"Arial\", 30)).place(x = 190, y = 40)\n",
        "                # miFrame.config(bd = 10)  # Se define el grosor del recuadro del encabezado \n",
        "                # miFrame.config(relief = \"groove\") # Se elige un tipo de borde para el recuadro del encabezado \n",
        "                # miFrame.config(cursor = \"pirate\")\n",
        "\n",
        "                #etiquetahms = tk.Label(text = \"\", font = (\"Arial\", 32), fg = \"darkred\", bg = \"white\", pady = 10, padx = 10) # En esta línea se define el nombre de la etiqueta para el reloj, así como el tipo de letra, el tamaño de la letra, fg define el color de la letra, mientras que bg define el color del recuadro donde se almacenan los valores del tiempo, padx y pady son un espacio entre el elemento definido, y suponiendo un numero n, tal numero se divide a la mitad, y en la mitad del interalo se coloca el objeto definido por nosotros \n",
        "                #etiquetahms.config(bd = 10)   # Se agrega el grosor para el borde \n",
        "                #etiquetahms.config(relief = \"groove\")   # Se agrega un tipo de borde para el recuadro que contiene la hora\n",
        "                #etiquetahms.place(x = 0, y = 0)   # Se elige la posición para el recuadro de la hora\n",
        "                #self.actualizacion()\n",
        "            \n",
        "            botonEnvio = Button(self.ventana, text = \" Menú \", command = openNewWindow)\n",
        "            botonEnvio.pack()\n",
        "\n",
        "            botonEnvio = Button(self.ventana, text = \"Tarea 1: Transformación de 2 matrices triangulares inferiores A y B, en un arreglo rectangular AxB\") \n",
        "            botonEnvio.pack()\n",
        "\n",
        "            botonEnvio = Button(self.ventana, text = \"Tarea 2: Programa que ordena datos por el método de la burbuja\") \n",
        "            botonEnvio.pack()\n",
        "\n",
        "            botonEnvio = Button(self.ventana, text = \"Tarea 3: Programa que agrega y elimina datos en una pila, en una cola, y en una cola de doble entrada\") \n",
        "            botonEnvio.pack()\n",
        "\n",
        "            botonEnvio = Button(self.ventana, text = \"Tarea 4: Ordenamiento de datos por el método de mínimos sucesivos\") \n",
        "            botonEnvio.pack()\n",
        "\n",
        "            botonEnvio = Button(self.ventana, text = \"Anuncios: Sobre las novedades de la informática\") # Colocar anuncios sobre las novedades de las computadoras\n",
        "            botonEnvio.pack()\n",
        "\n",
        "            botonEnvio = Button(self.ventana, text = \"Cerrar\", command = exit) # Al agregar el comando \" exit \" en el botón \" Cerrar \", fue posible finalizar el programa\n",
        "            botonEnvio.config(cursor = \"pirate\")\n",
        "            botonEnvio.place(x = 0, y = 660)\n",
        "#           botonEnvio.place(x = 0, y = 475)   Aquí trate de posicionar el botón cerrar en la esquina inferior izquierda, esto con diferentes metodos\n",
        "#           botonEnvio.pack(side = (BOTTOM))\n",
        "\n",
        "        #botonEnvio.place(x = 0, y = 475)\n",
        "\n",
        "            self.ventana.mainloop()     # Al escribir está línea, la cual es la instrucción de un bucle infinito, es posible visualizar la ventana principal e interactuar con ella\n",
        "\n",
        "    \n",
        "    def actualizacion(self):       # Aquí se definen los métodos para actualizar la hora y la fecha \n",
        "\n",
        "        hora = time.strftime(\"%Hh:%Mm:%Ss\")\n",
        "        self.etiquetahms.config(text = hora)\n",
        "\n",
        "        #fecha = time.strftime(\"%A,%d/%m/%Y\")\n",
        "        #self.etiqueta.config(text = fecha)\n",
        "\n",
        "        \n",
        "        #fecha = etiqueta_fecha.config(text = strftime(\"%A,%d/%m/%Y\"))\n",
        "        self.ventana.after(1000, self.actualizacion)\n",
        "    \n",
        "    \n",
        "\n",
        "#def actualiza_reloj(): \n",
        "#    etiqueta_hm.config(text = strftime (\"%H:%M\"))\n",
        "#    etiqueta_s.config(text = strftime(\"%S\"))\n",
        "#    etiqueta_fecha.config(text = strftime(\"%A,%d/%m/%Y\"))\n",
        "#    etiqueta_s.after(1000, actualiza_reloj)\n",
        "\n",
        "\n",
        "#Label(miFrame,text = \"Estructura de datos\", bg = \"midnightblue\", font = (100)).place(x = 295, y = 50) # Con está línea se agrega la frase \" Estructura de datos \" en el cuadro que elegí como encabezado, también es posible cambiar el color de las letras eligidas para el encabezado, el tamaño y el tipo de letra también son definidos aquí mismo \n",
        "#miFrame.config(bd = 10) # Se elige el tamaño del borde del encabezado\n",
        "#miFrame.config(relief = \"groove\") # Se elige el tipo de borde para el encabezado \n",
        "#miFrame.config(cursor = \"pirate\") \"\"\"\n",
        "\n",
        "if _name_ == \"_main_\":\n",
        "    main = Ventana()"
      ],
      "metadata": {
        "id": "HIqXFPtJ9kx2"
      },
      "execution_count": null,
      "outputs": []
    },
    {
      "cell_type": "code",
      "source": [],
      "metadata": {
        "id": "8dH8Rcufsqc1"
      },
      "execution_count": null,
      "outputs": []
    }
  ]
}