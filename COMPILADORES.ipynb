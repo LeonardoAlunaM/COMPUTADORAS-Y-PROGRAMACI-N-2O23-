{
  "nbformat": 4,
  "nbformat_minor": 0,
  "metadata": {
    "colab": {
      "provenance": [],
      "authorship_tag": "ABX9TyMSuCQD1uopOtkN9emYCKT3",
      "include_colab_link": true
    },
    "kernelspec": {
      "name": "python3",
      "display_name": "Python 3"
    },
    "language_info": {
      "name": "python"
    }
  },
  "cells": [
    {
      "cell_type": "markdown",
      "metadata": {
        "id": "view-in-github",
        "colab_type": "text"
      },
      "source": [
        "<a href=\"https://colab.research.google.com/github/LeonardoAlunaM/COMPUTADORAS-Y-PROGRAMACI-N-2O23-/blob/main-COMPUTADORAS-Y-PROGTRAMACI%C3%93N-2023/COMPILADORES.ipynb\" target=\"_parent\"><img src=\"https://colab.research.google.com/assets/colab-badge.svg\" alt=\"Open In Colab\"/></a>"
      ]
    },
    {
      "cell_type": "code",
      "execution_count": null,
      "metadata": {
        "id": "VNvaj_rQSzra"
      },
      "outputs": [],
      "source": [
        "Crear un programa que sea capaz de leer un archivo de texto plano con extensión. Fes\n",
        "\n",
        "Crear un segundo programa que cree un archivo de texto claro y ocupar el primer programa que eleaboraste, para leer el primer archivo\n",
        "\n",
        "Crear un programa que cree un archivo"
      ]
    },
    {
      "cell_type": "markdown",
      "source": [],
      "metadata": {
        "id": "Cby5RRChMj3p"
      }
    },
    {
      "cell_type": "code",
      "source": [
        "import java.io.BufferedReader;\n",
        "import java.io.FileReader;\n",
        "import java.io.IOException;\n",
        "\n",
        "public class LeerArchivoFES {\n",
        "    public static void main(String[] args) {\n",
        "        String rutaArchivo = \"archivo.fes\"; // Reemplaza con la ruta correcta de tu archivo .fes\n",
        "\n",
        "        try (BufferedReader br = new BufferedReader(new FileReader(rutaArchivo))) {\n",
        "            String linea;\n",
        "            while ((linea = br.readLine()) != null) {\n",
        "                System.out.println(linea);\n",
        "            }\n",
        "        } catch (IOException e) {\n",
        "            e.printStackTrace();\n",
        "        }\n",
        "    }\n",
        "}"
      ],
      "metadata": {
        "id": "xRi4X6zpMjJR"
      },
      "execution_count": null,
      "outputs": []
    },
    {
      "cell_type": "markdown",
      "source": [],
      "metadata": {
        "id": "jJ21UdI5Mk6D"
      }
    },
    {
      "cell_type": "code",
      "source": [
        "import java.io.BufferedWriter;\n",
        "import java.io.FileWriter;\n",
        "import java.io.IOException;\n",
        "\n",
        "public class CrearArchivoFES {\n",
        "    public static void main(String[] args) {\n",
        "        String rutaArchivo = \"archivo.fes\"; // Nombre del archivo .fes\n",
        "\n",
        "        try (BufferedWriter bw = new BufferedWriter(new FileWriter(rutaArchivo))) {\n",
        "            // Escribir contenido en el archivo\n",
        "            bw.write(\"Hola, esto es un archivo .fes\");\n",
        "            // Puedes agregar más líneas según sea necesario\n",
        "\n",
        "            System.out.println(\"Archivo creado correctamente: \" + rutaArchivo);\n",
        "        } catch (IOException e) {\n",
        "            e.printStackTrace();\n",
        "        }\n",
        "    }\n",
        "}"
      ],
      "metadata": {
        "id": "G9jnA0zDMn6-"
      },
      "execution_count": null,
      "outputs": []
    },
    {
      "cell_type": "markdown",
      "source": [],
      "metadata": {
        "id": "cRVVzPRjMy1N"
      }
    },
    {
      "cell_type": "code",
      "source": [
        "import java.io.BufferedReader;\n",
        "import java.io.FileReader;\n",
        "import java.io.IOException;\n",
        "\n",
        "public class LeerArchivoFES {\n",
        "    public static void main(String[] args) {\n",
        "        String rutaArchivo = \"archivo.fes\"; // Nombre del archivo .fes\n",
        "\n",
        "        try (BufferedReader br = new BufferedReader(new FileReader(rutaArchivo))) {\n",
        "            String linea;\n",
        "            while ((linea = br.readLine()) != null) {\n",
        "                System.out.println(linea);\n",
        "            }\n",
        "        } catch (IOException e) {\n",
        "            e.printStackTrace();\n",
        "        }\n",
        "    }\n",
        "}"
      ],
      "metadata": {
        "id": "_9H9now5MzNC"
      },
      "execution_count": null,
      "outputs": []
    }
  ]
}