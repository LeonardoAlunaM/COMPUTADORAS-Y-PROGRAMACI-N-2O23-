{
  "nbformat": 4,
  "nbformat_minor": 0,
  "metadata": {
    "colab": {
      "provenance": [],
      "authorship_tag": "ABX9TyNmqLbOKxjUfbOUMJq2jLcI",
      "include_colab_link": true
    },
    "kernelspec": {
      "name": "python3",
      "display_name": "Python 3"
    },
    "language_info": {
      "name": "python"
    }
  },
  "cells": [
    {
      "cell_type": "markdown",
      "metadata": {
        "id": "view-in-github",
        "colab_type": "text"
      },
      "source": [
        "<a href=\"https://colab.research.google.com/github/LeonardoAlunaM/COMPUTADORAS-Y-PROGRAMACI-N-2O23-/blob/main-COMPUTADORAS-Y-PROGTRAMACI%C3%93N-2023/COMPILADORES.ipynb\" target=\"_parent\"><img src=\"https://colab.research.google.com/assets/colab-badge.svg\" alt=\"Open In Colab\"/></a>"
      ]
    },
    {
      "cell_type": "code",
      "execution_count": null,
      "metadata": {
        "id": "VNvaj_rQSzra"
      },
      "outputs": [],
      "source": [
        "Crear un programa que sea capaz de leer un archivo de texto plano con extensión. Fes\n",
        "\n",
        "Crear un segundo programa que cree un archivo de texto claro y ocupar el primer programa que eleaboraste, para leer el primer archivo\n",
        "\n",
        "Crear un programa que cree un archivo"
      ]
    }
  ]
}