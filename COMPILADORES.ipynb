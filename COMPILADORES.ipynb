{
  "nbformat": 4,
  "nbformat_minor": 0,
  "metadata": {
    "colab": {
      "provenance": [],
      "authorship_tag": "ABX9TyMQj/Vm0QpfC8Ml4zst3wxf",
      "include_colab_link": true
    },
    "kernelspec": {
      "name": "python3",
      "display_name": "Python 3"
    },
    "language_info": {
      "name": "python"
    }
  },
  "cells": [
    {
      "cell_type": "markdown",
      "metadata": {
        "id": "view-in-github",
        "colab_type": "text"
      },
      "source": [
        "<a href=\"https://colab.research.google.com/github/LeonardoAlunaM/COMPUTADORAS-Y-PROGRAMACI-N-2O23-/blob/main-COMPUTADORAS-Y-PROGTRAMACI%C3%93N-2023/COMPILADORES.ipynb\" target=\"_parent\"><img src=\"https://colab.research.google.com/assets/colab-badge.svg\" alt=\"Open In Colab\"/></a>"
      ]
    },
    {
      "cell_type": "code",
      "execution_count": null,
      "metadata": {
        "id": "VNvaj_rQSzra"
      },
      "outputs": [],
      "source": [
        "Crear un programa que sea capaz de leer un archivo de texto plano con extensión. Fes\n",
        "\n",
        "Crear un segundo programa que cree un archivo de texto claro y ocupar el primer programa que eleaboraste, para leer el primer archivo\n",
        "\n",
        "Crear un programa que cree un archivo"
      ]
    },
    {
      "cell_type": "markdown",
      "source": [],
      "metadata": {
        "id": "Cby5RRChMj3p"
      }
    },
    {
      "cell_type": "code",
      "source": [
        "import java.io.BufferedReader;\n",
        "import java.io.FileReader;\n",
        "import java.io.IOException;\n",
        "\n",
        "public class LeerArchivoFES {\n",
        "    public static void main(String[] args) {\n",
        "        String rutaArchivo = \"archivo.fes\"; // Reemplaza con la ruta correcta de tu archivo .fes\n",
        "\n",
        "        try (BufferedReader br = new BufferedReader(new FileReader(rutaArchivo))) {\n",
        "            String linea;\n",
        "            while ((linea = br.readLine()) != null) {\n",
        "                System.out.println(linea);\n",
        "            }\n",
        "        } catch (IOException e) {\n",
        "            e.printStackTrace();\n",
        "        }\n",
        "    }\n",
        "}"
      ],
      "metadata": {
        "id": "xRi4X6zpMjJR"
      },
      "execution_count": null,
      "outputs": []
    },
    {
      "cell_type": "code",
      "source": [
        "import java.io.BufferedReader;\n",
        "import java.io.FileReader;\n",
        "import java.io.IOException;\n",
        "# En estas líneas, se están importando las clases necesarias del paquete java.io.\n",
        "# Estas clases son necesarias para trabajar con entrada y salida de datos,\n",
        "# específicamente para leer archivos. BufferedReader se utiliza para leer el archivo\n",
        "# de manera eficiente, y FileReader se utiliza para abrir el archivo para lectura.\n",
        "# IOException se maneja para gestionar excepciones relacionadas con operaciones\n",
        "# de entrada/salida que pueden producirse al trabajar con archivos."
      ],
      "metadata": {
        "id": "vj0ep8N8fTMJ"
      },
      "execution_count": null,
      "outputs": []
    },
    {
      "cell_type": "markdown",
      "source": [
        "En estas líneas, se están importando las clases necesarias del paquete java.io. Estas clases son necesarias para trabajar con entrada y salida de datos, específicamente para leer archivos. BufferedReader se utiliza para leer el archivo de manera eficiente, y FileReader se utiliza para abrir el archivo para lectura. IOException se maneja para gestionar excepciones relacionadas con operaciones de entrada/salida que pueden producirse al trabajar con archivos."
      ],
      "metadata": {
        "id": "yWHqpgr_fG7E"
      }
    },
    {
      "cell_type": "code",
      "source": [
        "public class LeerArchivoFES {\n",
        "\n",
        "# Aquí se define una clase llamada LeerArchivoFES. Todas las líneas de código pertenecen a esta clase."
      ],
      "metadata": {
        "id": "1ARWhJjNfXL5"
      },
      "execution_count": null,
      "outputs": []
    },
    {
      "cell_type": "code",
      "source": [
        "public static void main(String[] args) {\n",
        "# Comienza el método principal (main) que es el punto de entrada para la ejecución del programa."
      ],
      "metadata": {
        "id": "udEn9GwKgEYF"
      },
      "execution_count": null,
      "outputs": []
    },
    {
      "cell_type": "code",
      "source": [
        "String rutaArchivo = \"archivo.fes\"; // Reemplaza con la ruta correcta de tu archivo .fes\n",
        "# Se define una cadena (String) llamada rutaArchivo que almacena la ruta del archivo que se va a leer.\n",
        "# Se proporciona un comentario para indicar que se debe reemplazar con la ruta correcta del archivo .fes."
      ],
      "metadata": {
        "id": "fnWw5bc4gfRS"
      },
      "execution_count": null,
      "outputs": []
    },
    {
      "cell_type": "code",
      "source": [
        " try (BufferedReader br = new BufferedReader(new FileReader(rutaArchivo))) {\n",
        "# Se inicia un bloque try para manejar las operaciones que pueden lanzar excepciones.\n",
        "# Aquí se está creando un objeto BufferedReader que envuelve un objeto FileReader\n",
        "# para leer el archivo especificado en rutaArchivo."
      ],
      "metadata": {
        "id": "6QONIGLEhGH-"
      },
      "execution_count": null,
      "outputs": []
    },
    {
      "cell_type": "code",
      "source": [
        "String linea;\n",
        "while ((linea = br.readLine()) != null) {\n",
        "# Dentro de un bucle while, se lee cada línea del archivo usando readLine() del objeto BufferedReader.\n",
        "# El bucle se ejecuta mientras haya más líneas en el archivo (readLine()\n",
        "# devuelve null cuando alcanza el final del archivo)."
      ],
      "metadata": {
        "id": "c36_BGqejC-C"
      },
      "execution_count": null,
      "outputs": []
    },
    {
      "cell_type": "code",
      "source": [
        "System.out.println(linea);\n",
        "# Cada línea leída se imprime en la consola usando System.out.println()."
      ],
      "metadata": {
        "id": "C-aZ5AfJjC29"
      },
      "execution_count": null,
      "outputs": []
    },
    {
      "cell_type": "code",
      "source": [
        "   }\n",
        "        } catch (IOException e) {\n",
        "            e.printStackTrace();\n",
        "        }\n",
        "# Se captura cualquier excepción de tipo IOException que pueda ocurrir durante la lectura del archivo.\n",
        "# En caso de una excepción, se imprime la traza de la excepción en la consola mediante e.printStackTrace()."
      ],
      "metadata": {
        "id": "ZUc8A82ajZi3"
      },
      "execution_count": null,
      "outputs": []
    },
    {
      "cell_type": "code",
      "source": [
        "    }\n",
        "}\n",
        "# El bloque try-catch envuelve todo el código y maneja las excepciones relacionadas con la lectura del archivo.\n",
        "# La finalidad de este programa es leer un archivo llamado \"archivo.fes\" (se espera que sea un archivo de texto)\n",
        "# y mostrar su contenido en la consola. Es una operación común al trabajar con archivos para realizar\n",
        "# tareas como la lectura de configuraciones, datos, o cualquier tipo de información almacenada en un archivo."
      ],
      "metadata": {
        "id": "RKk125iBjkho"
      },
      "execution_count": null,
      "outputs": []
    },
    {
      "cell_type": "markdown",
      "source": [],
      "metadata": {
        "id": "DEkZbgkffG4I"
      }
    },
    {
      "cell_type": "markdown",
      "source": [],
      "metadata": {
        "id": "HU2N_O3FfG1i"
      }
    },
    {
      "cell_type": "markdown",
      "source": [],
      "metadata": {
        "id": "jJ21UdI5Mk6D"
      }
    },
    {
      "cell_type": "code",
      "source": [
        "import java.io.BufferedWriter;\n",
        "import java.io.FileWriter;\n",
        "import java.io.IOException;\n",
        "\n",
        "public class CrearArchivoFES {\n",
        "    public static void main(String[] args) {\n",
        "        String rutaArchivo = \"archivo.fes\"; // Nombre del archivo .fes\n",
        "\n",
        "        try (BufferedWriter bw = new BufferedWriter(new FileWriter(rutaArchivo))) {\n",
        "            // Escribir contenido en el archivo\n",
        "            bw.write(\"Hola, esto es un archivo .fes\");\n",
        "            // Puedes agregar más líneas según sea necesario\n",
        "\n",
        "            System.out.println(\"Archivo creado correctamente: \" + rutaArchivo);\n",
        "        } catch (IOException e) {\n",
        "            e.printStackTrace();\n",
        "        }\n",
        "    }\n",
        "}"
      ],
      "metadata": {
        "id": "G9jnA0zDMn6-"
      },
      "execution_count": null,
      "outputs": []
    },
    {
      "cell_type": "markdown",
      "source": [
        "El código de arriba, escrito en Java tiene el propósito de crear un archivo con extensión \".fes\" y escribir en él el texto \"Hola, esto es un archivo .fes\".\n",
        "\n",
        "1.- import java.io.BufferedWriter;: Importa la clase BufferedWriter desde el paquete java.io. Esta clase se utiliza para escribir texto de manera eficiente en un flujo de salida.\n",
        "\n",
        "2.- import java.io.FileWriter;: Importa la clase FileWriter desde el paquete java.io. Esta clase se utiliza para escribir caracteres en un archivo.\n",
        "\n",
        "3.- import java.io.IOException;: Importa la excepción IOException desde el paquete java.io. IOException es una excepción común que puede ocurrir al trabajar con operaciones de entrada/salida (I/O).\n",
        "\n",
        "4.- public class CrearArchivoFES {: Define la clase principal llamada CrearArchivoFES.\n",
        "\n",
        "5.- public static void main(String[] args) {: Define el método principal main que se ejecuta cuando se inicia el programa.\n",
        "\n",
        "6.- String rutaArchivo = \"archivo.fes\";: Crea una cadena llamada rutaArchivo y le asigna el valor \"archivo.fes\". Esta será la ruta y el nombre del archivo que se creará.\n",
        "\n",
        "7.- try (BufferedWriter bw = new BufferedWriter(new FileWriter(rutaArchivo))) {: Inicia un bloque try para manejar operaciones que pueden lanzar excepciones. Dentro de este bloque, se crea un objeto BufferedWriter que envuelve un FileWriter para escribir en el archivo especificado por rutaArchivo. El uso de try-with-resources garantiza que el BufferedWriter se cierre automáticamente al salir del bloque try.\n",
        "\n",
        "8.- bw.write(\"Hola, esto es un archivo .fes\");: Escribe la cadena \"Hola, esto es un archivo .fes\" en el archivo utilizando el BufferedWriter.\n",
        "\n",
        "9.- System.out.println(\"Archivo creado correctamente: \" + rutaArchivo);: Imprime en la consola un mensaje indicando que el archivo se ha creado correctamente, junto con la ruta y el nombre del archivo.\n",
        "\n",
        "10.- } catch (IOException e) {: Inicia el bloque catch para manejar excepciones del tipo IOException. Si ocurre algún problema durante la escritura del archivo, se imprime el rastreo de la excepción.\n",
        "\n",
        "11.- e.printStackTrace();: Imprime el rastreo de la excepción en la consola. Esto es útil para depurar y entender la causa del error en caso de que ocurra una excepción durante la escritura del archivo.\n",
        "\n",
        "12.- }: Cierra el bloque try-catch.\n",
        "\n",
        "En resumen, este programa Java crea un archivo llamado \"archivo.fes\", escribe la cadena \"Hola, esto es un archivo .fes\" en él y luego imprime un mensaje en la consola indicando que el archivo se ha creado correctamente."
      ],
      "metadata": {
        "id": "cRVVzPRjMy1N"
      }
    },
    {
      "cell_type": "code",
      "source": [
        "import java.io.BufferedReader;\n",
        "import java.io.FileReader;\n",
        "import java.io.IOException;\n",
        "\n",
        "public class LeerArchivoFES {\n",
        "    public static void main(String[] args) {\n",
        "        String rutaArchivo = \"archivo.fes\"; // Nombre del archivo .fes\n",
        "\n",
        "        try (BufferedReader br = new BufferedReader(new FileReader(rutaArchivo))) {\n",
        "            String linea;\n",
        "            while ((linea = br.readLine()) != null) {\n",
        "                System.out.println(linea);\n",
        "            }\n",
        "        } catch (IOException e) {\n",
        "            e.printStackTrace();\n",
        "        }\n",
        "    }\n",
        "}"
      ],
      "metadata": {
        "id": "_9H9now5MzNC"
      },
      "execution_count": null,
      "outputs": []
    },
    {
      "cell_type": "markdown",
      "source": [
        "1.- import java.io.BufferedReader;: Importa la clase BufferedReader desde el paquete java.io. BufferedReader se utiliza para leer texto de un flujo de entrada de caracteres de manera eficiente.\n",
        "\n",
        "2.- import java.io.FileReader;: Importa la clase FileReader desde el paquete java.io. FileReader se utiliza para leer caracteres desde un archivo.\n",
        "\n",
        "3.- import java.io.IOException;: Importa la excepción IOException desde el paquete java.io. IOException es una excepción común que puede ocurrir al trabajar con operaciones de entrada/salida (I/O).\n",
        "\n",
        "4.- public class LeerArchivoFES {: Define la clase llamada LeerArchivoFES.\n",
        "\n",
        "5.- public static void main(String[] args) {: Define el método principal main que se ejecuta cuando se inicia el programa.\n",
        "\n",
        "6.- String rutaArchivo = \"archivo.fes\";: Crea una cadena llamada rutaArchivo y le asigna el valor \"archivo.fes\". Esta será la ruta y el nombre del archivo que se leerá.\n",
        "\n",
        "7.- try (BufferedReader br = new BufferedReader(new FileReader(rutaArchivo))) {: Inicia un bloque try para manejar operaciones que pueden lanzar excepciones. Dentro de este bloque, se crea un objeto BufferedReader que envuelve un FileReader para leer el archivo especificado por rutaArchivo. El uso de try-with-resources garantiza que el BufferedReader se cierre automáticamente al salir del bloque try.\n",
        "\n",
        "8.- String linea;: Declara una variable linea de tipo String que se utilizará para almacenar cada línea leída del archivo.\n",
        "\n",
        "9.- while ((linea = br.readLine()) != null) {: Inicia un bucle while que continúa leyendo líneas del archivo hasta que se alcance el final del archivo (cuando readLine() devuelve null). Cada línea se asigna a la variable linea.\n",
        "\n",
        "10.- System.out.println(linea);: Imprime la línea actual en la consola.\n",
        "\n",
        "11.-}: Cierra el bucle while.\n",
        "\n",
        "12.- } catch (IOException e) {: Inicia el bloque catch para manejar excepciones del tipo IOException. Si ocurre algún problema durante la lectura del archivo, se imprime el rastreo de la excepción.\n",
        "\n",
        "13.- e.printStackTrace();: Imprime el rastreo de la excepción en la consola en caso de que haya un error durante la lectura del archivo.\n",
        "\n",
        "14.- }: Cierra el bloque try-catch.\n",
        "\n",
        "En resumen, este programa Java lee el contenido del archivo \"archivo.fes\" línea por línea y lo imprime en la consola. Se relaciona con el primer programa en el sentido de que ambos trabajan con el mismo archivo (\"archivo.fes\"). El primero crea el archivo y escribe en él, mientras que el segundo lo lee y muestra su contenido. Puedes pensar en ellos como un programa de escritura y un programa de lectura que trabajan juntos para manipular un archivo de texto."
      ],
      "metadata": {
        "id": "v-jfxhD3kmz5"
      }
    }
  ]
}