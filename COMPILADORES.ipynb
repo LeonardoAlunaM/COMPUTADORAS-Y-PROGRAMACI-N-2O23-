{
  "nbformat": 4,
  "nbformat_minor": 0,
  "metadata": {
    "colab": {
      "provenance": [],
      "authorship_tag": "ABX9TyMutrwrwgwud/VFgb2eLQKa",
      "include_colab_link": true
    },
    "kernelspec": {
      "name": "python3",
      "display_name": "Python 3"
    },
    "language_info": {
      "name": "python"
    }
  },
  "cells": [
    {
      "cell_type": "markdown",
      "metadata": {
        "id": "view-in-github",
        "colab_type": "text"
      },
      "source": [
        "<a href=\"https://colab.research.google.com/github/LeonardoAlunaM/COMPUTADORAS-Y-PROGRAMACI-N-2O23-/blob/main-COMPUTADORAS-Y-PROGTRAMACI%C3%93N-2023/COMPILADORES.ipynb\" target=\"_parent\"><img src=\"https://colab.research.google.com/assets/colab-badge.svg\" alt=\"Open In Colab\"/></a>"
      ]
    },
    {
      "cell_type": "code",
      "execution_count": null,
      "metadata": {
        "id": "VNvaj_rQSzra"
      },
      "outputs": [],
      "source": [
        "Crear un programa que sea capaz de leer un archivo de texto plano con extensión. Fes\n",
        "\n",
        "Crear un segundo programa que cree un archivo de texto claro y ocupar el primer programa que eleaboraste, para leer el primer archivo\n",
        "\n",
        "Crear un programa que cree un archivo"
      ]
    },
    {
      "cell_type": "markdown",
      "source": [],
      "metadata": {
        "id": "Cby5RRChMj3p"
      }
    },
    {
      "cell_type": "code",
      "source": [
        "import java.io.BufferedReader;\n",
        "import java.io.FileReader;\n",
        "import java.io.IOException;\n",
        "\n",
        "public class LeerArchivoFES {\n",
        "    public static void main(String[] args) {\n",
        "        String rutaArchivo = \"archivo.fes\"; // Reemplaza con la ruta correcta de tu archivo .fes\n",
        "\n",
        "        try (BufferedReader br = new BufferedReader(new FileReader(rutaArchivo))) {\n",
        "            String linea;\n",
        "            while ((linea = br.readLine()) != null) {\n",
        "                System.out.println(linea);\n",
        "            }\n",
        "        } catch (IOException e) {\n",
        "            e.printStackTrace();\n",
        "        }\n",
        "    }\n",
        "}"
      ],
      "metadata": {
        "id": "xRi4X6zpMjJR"
      },
      "execution_count": null,
      "outputs": []
    },
    {
      "cell_type": "code",
      "source": [
        "import java.io.BufferedReader;\n",
        "import java.io.FileReader;\n",
        "import java.io.IOException;\n",
        "# En estas líneas, se están importando las clases necesarias del paquete java.io.\n",
        "# Estas clases son necesarias para trabajar con entrada y salida de datos,\n",
        "# específicamente para leer archivos. BufferedReader se utiliza para leer el archivo\n",
        "# de manera eficiente, y FileReader se utiliza para abrir el archivo para lectura.\n",
        "# IOException se maneja para gestionar excepciones relacionadas con operaciones\n",
        "# de entrada/salida que pueden producirse al trabajar con archivos."
      ],
      "metadata": {
        "id": "vj0ep8N8fTMJ"
      },
      "execution_count": null,
      "outputs": []
    },
    {
      "cell_type": "markdown",
      "source": [
        "En estas líneas, se están importando las clases necesarias del paquete java.io. Estas clases son necesarias para trabajar con entrada y salida de datos, específicamente para leer archivos. BufferedReader se utiliza para leer el archivo de manera eficiente, y FileReader se utiliza para abrir el archivo para lectura. IOException se maneja para gestionar excepciones relacionadas con operaciones de entrada/salida que pueden producirse al trabajar con archivos."
      ],
      "metadata": {
        "id": "yWHqpgr_fG7E"
      }
    },
    {
      "cell_type": "code",
      "source": [
        "public class LeerArchivoFES {\n",
        "\n",
        "# Aquí se define una clase llamada LeerArchivoFES. Todas las líneas de código pertenecen a esta clase."
      ],
      "metadata": {
        "id": "1ARWhJjNfXL5"
      },
      "execution_count": null,
      "outputs": []
    },
    {
      "cell_type": "code",
      "source": [
        "public static void main(String[] args) {\n",
        "# Comienza el método principal (main) que es el punto de entrada para la ejecución del programa."
      ],
      "metadata": {
        "id": "udEn9GwKgEYF"
      },
      "execution_count": null,
      "outputs": []
    },
    {
      "cell_type": "code",
      "source": [
        "String rutaArchivo = \"archivo.fes\"; // Reemplaza con la ruta correcta de tu archivo .fes\n",
        "# Se define una cadena (String) llamada rutaArchivo que almacena la ruta del archivo que se va a leer.\n",
        "# Se proporciona un comentario para indicar que se debe reemplazar con la ruta correcta del archivo .fes."
      ],
      "metadata": {
        "id": "fnWw5bc4gfRS"
      },
      "execution_count": null,
      "outputs": []
    },
    {
      "cell_type": "code",
      "source": [
        " try (BufferedReader br = new BufferedReader(new FileReader(rutaArchivo))) {\n",
        "# Se inicia un bloque try para manejar las operaciones que pueden lanzar excepciones.\n",
        "# Aquí se está creando un objeto BufferedReader que envuelve un objeto FileReader\n",
        "# para leer el archivo especificado en rutaArchivo."
      ],
      "metadata": {
        "id": "6QONIGLEhGH-"
      },
      "execution_count": null,
      "outputs": []
    },
    {
      "cell_type": "code",
      "source": [
        "String linea;\n",
        "while ((linea = br.readLine()) != null) {\n",
        "# Dentro de un bucle while, se lee cada línea del archivo usando readLine() del objeto BufferedReader.\n",
        "# El bucle se ejecuta mientras haya más líneas en el archivo (readLine()\n",
        "# devuelve null cuando alcanza el final del archivo)."
      ],
      "metadata": {
        "id": "c36_BGqejC-C"
      },
      "execution_count": null,
      "outputs": []
    },
    {
      "cell_type": "code",
      "source": [
        "System.out.println(linea);\n",
        "# Cada línea leída se imprime en la consola usando System.out.println()."
      ],
      "metadata": {
        "id": "C-aZ5AfJjC29"
      },
      "execution_count": null,
      "outputs": []
    },
    {
      "cell_type": "code",
      "source": [
        "   }\n",
        "        } catch (IOException e) {\n",
        "            e.printStackTrace();\n",
        "        }\n",
        "# Se captura cualquier excepción de tipo IOException que pueda ocurrir durante la lectura del archivo.\n",
        "# En caso de una excepción, se imprime la traza de la excepción en la consola mediante e.printStackTrace()."
      ],
      "metadata": {
        "id": "ZUc8A82ajZi3"
      },
      "execution_count": null,
      "outputs": []
    },
    {
      "cell_type": "code",
      "source": [
        "    }\n",
        "}\n",
        "# El bloque try-catch envuelve todo el código y maneja las excepciones relacionadas con la lectura del archivo.\n",
        "# La finalidad de este programa es leer un archivo llamado \"archivo.fes\" (se espera que sea un archivo de texto)\n",
        "# y mostrar su contenido en la consola. Es una operación común al trabajar con archivos para realizar\n",
        "# tareas como la lectura de configuraciones, datos, o cualquier tipo de información almacenada en un archivo."
      ],
      "metadata": {
        "id": "RKk125iBjkho"
      },
      "execution_count": null,
      "outputs": []
    },
    {
      "cell_type": "markdown",
      "source": [],
      "metadata": {
        "id": "DEkZbgkffG4I"
      }
    },
    {
      "cell_type": "markdown",
      "source": [],
      "metadata": {
        "id": "HU2N_O3FfG1i"
      }
    },
    {
      "cell_type": "markdown",
      "source": [],
      "metadata": {
        "id": "jJ21UdI5Mk6D"
      }
    },
    {
      "cell_type": "code",
      "source": [
        "import java.io.BufferedWriter;\n",
        "import java.io.FileWriter;\n",
        "import java.io.IOException;\n",
        "\n",
        "public class CrearArchivoFES {\n",
        "    public static void main(String[] args) {\n",
        "        String rutaArchivo = \"archivo.fes\"; // Nombre del archivo .fes\n",
        "\n",
        "        try (BufferedWriter bw = new BufferedWriter(new FileWriter(rutaArchivo))) {\n",
        "            // Escribir contenido en el archivo\n",
        "            bw.write(\"Hola, esto es un archivo .fes\");\n",
        "            // Puedes agregar más líneas según sea necesario\n",
        "\n",
        "            System.out.println(\"Archivo creado correctamente: \" + rutaArchivo);\n",
        "        } catch (IOException e) {\n",
        "            e.printStackTrace();\n",
        "        }\n",
        "    }\n",
        "}"
      ],
      "metadata": {
        "id": "G9jnA0zDMn6-"
      },
      "execution_count": null,
      "outputs": []
    },
    {
      "cell_type": "markdown",
      "source": [],
      "metadata": {
        "id": "cRVVzPRjMy1N"
      }
    },
    {
      "cell_type": "code",
      "source": [
        "import java.io.BufferedReader;\n",
        "import java.io.FileReader;\n",
        "import java.io.IOException;\n",
        "\n",
        "public class LeerArchivoFES {\n",
        "    public static void main(String[] args) {\n",
        "        String rutaArchivo = \"archivo.fes\"; // Nombre del archivo .fes\n",
        "\n",
        "        try (BufferedReader br = new BufferedReader(new FileReader(rutaArchivo))) {\n",
        "            String linea;\n",
        "            while ((linea = br.readLine()) != null) {\n",
        "                System.out.println(linea);\n",
        "            }\n",
        "        } catch (IOException e) {\n",
        "            e.printStackTrace();\n",
        "        }\n",
        "    }\n",
        "}"
      ],
      "metadata": {
        "id": "_9H9now5MzNC"
      },
      "execution_count": null,
      "outputs": []
    }
  ]
}