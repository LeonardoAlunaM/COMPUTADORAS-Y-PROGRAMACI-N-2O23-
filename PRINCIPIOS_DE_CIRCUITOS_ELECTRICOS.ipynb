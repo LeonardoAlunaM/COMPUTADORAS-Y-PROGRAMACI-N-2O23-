{
  "nbformat": 4,
  "nbformat_minor": 0,
  "metadata": {
    "colab": {
      "provenance": [],
      "authorship_tag": "ABX9TyMPrXSJVLA+1YeWqSMancpE",
      "include_colab_link": true
    },
    "kernelspec": {
      "name": "python3",
      "display_name": "Python 3"
    },
    "language_info": {
      "name": "python"
    }
  },
  "cells": [
    {
      "cell_type": "markdown",
      "metadata": {
        "id": "view-in-github",
        "colab_type": "text"
      },
      "source": [
        "<a href=\"https://colab.research.google.com/github/LeonardoAlunaM/COMPUTADORAS-Y-PROGRAMACI-N-2O23-/blob/main-COMPUTADORAS-Y-PROGTRAMACI%C3%93N-2023/PRINCIPIOS_DE_CIRCUITOS_ELECTRICOS.ipynb\" target=\"_parent\"><img src=\"https://colab.research.google.com/assets/colab-badge.svg\" alt=\"Open In Colab\"/></a>"
      ]
    },
    {
      "cell_type": "code",
      "execution_count": null,
      "metadata": {
        "colab": {
          "base_uri": "https://localhost:8080/"
        },
        "id": "QRM27ZITLWXS",
        "outputId": "0d218095-4ca2-465f-f94d-b6726a91a60b"
      },
      "outputs": [
        {
          "output_type": "stream",
          "name": "stdout",
          "text": [
            "Energía en Joules(J): 100\n",
            "Tiempo en segundos(s): 5\n",
            "20.0 WATTS\n"
          ]
        }
      ],
      "source": [
        "# CAPÍTULO 4 DEL LIBRO\n",
        "# EN ALGÚN LUGAR DESPUÉS DE LA PÁGINA 19\n",
        "\n",
        "# ENERGÍA ES LA CAPACIDAD DE REALIZAR TRABAJO, Y POTENCIA EES LA VELOCIDAD A LA CUAL SE UTILIZA LA ENERGÍA\n",
        "# LA CORRIENTE TRANSPORTA ENERGÍA ELÉCTRICA A TRAVÉS DE UN CIRCUITO\n",
        "# LA RAZÓN DE CAMBIO A LA CUAL SE UTILIZA LA ENERGÍA ELÉCTRICA ES LA POTENCIA QUE HAY ENE LE CIRCUITO.\n",
        "\n",
        "# POTENCIA (p) ES CIERTA CANTIDAD DE ENERGÍA (W) UTILIZADA EN CIERTO TIEMPO (t) Y EXPRESADA COMO SIGUE\n",
        " # P = W / t\n",
        "\n",
        "# CÁLCULO DE LA POTENCIA\n",
        "\n",
        "W = int(input(\"Energía en Joules(J): \"))\n",
        "t = int(input(\"Tiempo en segundos(s): \"))\n",
        "P = W / t\n",
        "print(f\"{P} WATTS\")"
      ]
    },
    {
      "cell_type": "code",
      "source": [
        "# CONTADOR DE KILOWATTS POR HORA\n"
      ],
      "metadata": {
        "id": "qItoCk6kQGcr"
      },
      "execution_count": null,
      "outputs": []
    },
    {
      "cell_type": "code",
      "source": [
        "# CUANDO SE UTILIZA UN RESISTOR EN UN CIRCUITO, SU ENERÍA NOMINAL DEBE SER MAYOR QUE LA PONTECIA MÁXIMA QUE DEBERÁ MANEJAR.\n",
        "# POR EJEMPLO, SI UN RESISTOR TIENE QUE DISIPAR 0.75W EN UNA APLICACIÓN DE CIRCUITO, SU CAPACIDAD DEBE SER DE POR LO MENOS EL SIGUIENTE\n",
        "# VALOR ESTÁNDAR MÁS ALTO, EN ESTE CASO 1W.\n",
        "\"\"\" SE DEBERÁ UTILIZAR UNA POTENCIA NOMINAL MÁS GRANDE QUE LA PONTENCIA EXISTENTE SIEMPRE QUE SEA POSIBLE, COMO UN MARGEN DE SEGURIDAD \"\"\"\n"
      ],
      "metadata": {
        "id": "M7Eo7O13WMCr"
      },
      "execution_count": null,
      "outputs": []
    }
  ]
}