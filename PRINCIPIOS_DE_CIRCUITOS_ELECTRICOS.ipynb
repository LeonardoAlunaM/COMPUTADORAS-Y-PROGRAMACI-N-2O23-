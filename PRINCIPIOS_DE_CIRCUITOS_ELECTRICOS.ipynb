{
  "nbformat": 4,
  "nbformat_minor": 0,
  "metadata": {
    "colab": {
      "provenance": [],
      "authorship_tag": "ABX9TyMKAZBtRHqNv1L+nJe79DIr",
      "include_colab_link": true
    },
    "kernelspec": {
      "name": "python3",
      "display_name": "Python 3"
    },
    "language_info": {
      "name": "python"
    }
  },
  "cells": [
    {
      "cell_type": "markdown",
      "metadata": {
        "id": "view-in-github",
        "colab_type": "text"
      },
      "source": [
        "<a href=\"https://colab.research.google.com/github/LeonardoAlunaM/COMPUTADORAS-Y-PROGRAMACI-N-2O23-/blob/main-COMPUTADORAS-Y-PROGTRAMACI%C3%93N-2023/PRINCIPIOS_DE_CIRCUITOS_ELECTRICOS.ipynb\" target=\"_parent\"><img src=\"https://colab.research.google.com/assets/colab-badge.svg\" alt=\"Open In Colab\"/></a>"
      ]
    },
    {
      "cell_type": "markdown",
      "source": [
        "# CAPITULO 2.1"
      ],
      "metadata": {
        "id": "XHJH2aT4cfjJ"
      }
    },
    {
      "cell_type": "code",
      "source": [
        "# CAPITULO 2.1\n",
        "\n",
        "# ESTRUCTURA ATÓMICA\n",
        "\n",
        "# Número de electrones presentes en cada capa, de acuerdo al átomo en que se aplique la fórmula\n",
        "\n",
        "N = int(input(\"Ingrese el número de la capa: \"))\n",
        "elec = (2)*(N**2)\n",
        "print(f\"El número de electrones en la capa 'N' del átomo es: {elec}\")\n",
        "\n",
        "# Hasta acá el código funciona bien, pero es necesario agregar algunas restricciones\n",
        "# 1.- El número de la capa debe ser mayor que 0, de lo contrario pedir que los datos se ingresen de nuevo\n",
        "# 2.- Dudo mucho que un átomo tenga una capa 67 o 100, en cuyo caso debería investigar por cuenta propia hasta que número de capa\n",
        "#     es válida la operación que planteamos, a saber  \"\" elec = (2)*(N**2) \"\""
      ],
      "metadata": {
        "colab": {
          "base_uri": "https://localhost:8080/"
        },
        "id": "DXRjEA4eYoJf",
        "outputId": "1347a155-a9eb-4df8-f902-f86866bc233f"
      },
      "execution_count": null,
      "outputs": [
        {
          "output_type": "stream",
          "name": "stdout",
          "text": [
            "Ingrese el número de la capa: 4\n",
            "El número de electrones en la capa 'N' del átomo es: 32\n"
          ]
        }
      ]
    },
    {
      "cell_type": "markdown",
      "source": [
        "# CAPÍTULO 2.2 CARGA ELÉCTRICA"
      ],
      "metadata": {
        "id": "ceHZ5zhbchzr"
      }
    },
    {
      "cell_type": "code",
      "source": [
        "# CAPÍTULO 2.2 CARGA ELÉCTRICA\n",
        "\n",
        "# Coulomb: La unidad de carga\n",
        "\n",
        "# La carga eléctrica (Q) se mide en coulombs, simbolizada mediante C\n",
        "# Un coulomb es la carga total poseída por 6.25 x 10**18 electrones.\n",
        "\n",
        "# Un solo electrón tiene una carga de 1.6 x 10**-19 C\n",
        "\n",
        "n_electro = float(input(\"Ingrese el número de electrones: \"))\n",
        "Q = n_electro / ((6.25) * (10**18))\n",
        "print(f\"La carga eléctrica en función de los electrones es: {Q} C\" )\n",
        "\n",
        "# Acá también hay algunos temas que revisar respecto de este código, ¿es posible escribir el número de electrones\n",
        "# tal cual se necesita escribirlo, es decir en notación exponencial o de base 10,\n",
        "# Según me parece ese es el mayor problema de este código, fuera de esto todo funciona bien, muy bien\n",
        "\n",
        "# Es decir, eso a mi parecer, de mí yo desvelao :v"
      ],
      "metadata": {
        "id": "Jl8c-37T9xBa",
        "colab": {
          "base_uri": "https://localhost:8080/"
        },
        "outputId": "0eea518e-ceff-4797-fd02-163123a1069f"
      },
      "execution_count": null,
      "outputs": [
        {
          "output_type": "stream",
          "name": "stdout",
          "text": [
            "Ingrese el número de electrones: 938000000000000000\n",
            "La carga eléctrica en función de los electrones es: 0.15008 C\n"
          ]
        }
      ]
    },
    {
      "cell_type": "code",
      "source": [
        "# Escribir otra versión del programa en donde se cálcule el número de eléctrones en función de la carga (Q)"
      ],
      "metadata": {
        "id": "TJBZUBVOY3Qq"
      },
      "execution_count": null,
      "outputs": []
    },
    {
      "cell_type": "code",
      "source": [],
      "metadata": {
        "id": "NVLZab12Y5Ox"
      },
      "execution_count": null,
      "outputs": []
    },
    {
      "cell_type": "markdown",
      "source": [
        "# CAPÍTULO 2.3 VOLTAJE, CORRIENTE Y RESISTENCIA"
      ],
      "metadata": {
        "id": "9fcoSDSVcjP4"
      }
    },
    {
      "cell_type": "markdown",
      "source": [
        "VOLTAJE"
      ],
      "metadata": {
        "id": "9AJ1B2hkf9mT"
      }
    },
    {
      "cell_type": "code",
      "source": [
        "# CAPÍTULO 2.3 VOLTAJE, CORRIENTE Y RESISTENCIA\n",
        "\n",
        "# Voltaje, Un volt es la diferencia de potencial (voltaje) entre 2 puntos cuando se utiliza un joule de energía para mover un coulomb de carga de un punto\n",
        "# a otro\n",
        "\n",
        "# Para obtener el voltaje, función de la energía en Joules y la carga en Coulombs\n",
        "W = float(input(\"Ingrese la energía, en Joules: \"))\n",
        "Q = float(input(\"Ingrese la carga, en Coulombs: \"))\n",
        "V = W / Q\n",
        "print(f\"El voltaje es: {V} Volts\")\n",
        "\n",
        "# Revisar el manejo de excepción, división por cero.\n",
        "# ¿Qué implicaciones físicas existen cuando la carga es cero?\n"
      ],
      "metadata": {
        "id": "Pu-GjSCB9qDb",
        "colab": {
          "base_uri": "https://localhost:8080/"
        },
        "outputId": "b4938f6a-f409-409e-cf40-d3f8b0725d5d"
      },
      "execution_count": null,
      "outputs": [
        {
          "output_type": "stream",
          "name": "stdout",
          "text": [
            "Ingrese la energía, en Joules: 50\n",
            "Ingrese la carga, en Coulombs: 10\n",
            "El voltaje es: 5.0 Volts\n"
          ]
        }
      ]
    },
    {
      "cell_type": "code",
      "source": [
        "# Para obtener la energía en función del Voltaje en volts y la carga en coulombs\n",
        "V = float(input(\"Ingrese el voltaje en Volts: \"))\n",
        "Q = float(input(\"Ingrese la carga, en Coulombs: \"))\n",
        "W = V * Q\n",
        "print(f\"La energía es: {W} Joules\")\n",
        "\n",
        "# Revisar esi existen excepciones en este código, me parece que no."
      ],
      "metadata": {
        "colab": {
          "base_uri": "https://localhost:8080/"
        },
        "id": "3tEI4X-yd7xK",
        "outputId": "be0c6307-d611-4109-eade-45ffc9a08a42"
      },
      "execution_count": null,
      "outputs": [
        {
          "output_type": "stream",
          "name": "stdout",
          "text": [
            "Ingrese el voltaje en Volts: 12\n",
            "Ingrese la carga, en Coulombs: 50\n",
            "La energía es: 600.0 Joules\n"
          ]
        }
      ]
    },
    {
      "cell_type": "code",
      "source": [
        "# Para obtener la carga en función de la energía en Joules y el Voltaje en volts\n",
        "W = float(input(\"Ingrese la energía, en Joules: \"))\n",
        "V = float(input(\"Ingrese el voltaje, en Volts: \"))\n",
        "Q = W / V\n",
        "print(f\"La carga es: {Q} Coulombs\")\n",
        "\n",
        "# Revisar el manejo de excepciones, división por cero, el voltaje no puede ser cero en este caso\n",
        "# ¿Qué implicaciones físicas existen cuando el voltaje es 0 ?"
      ],
      "metadata": {
        "colab": {
          "base_uri": "https://localhost:8080/"
        },
        "id": "HCRv9CDeerr-",
        "outputId": "79521de4-5240-4b63-ce64-eae4e6ea2a9c"
      },
      "execution_count": null,
      "outputs": [
        {
          "output_type": "stream",
          "name": "stdout",
          "text": [
            "Ingrese la energía, en Joules: 600\n",
            "Ingrese el voltaje, en Volts: 12\n",
            "La carga es: 50.0 Coulombs\n"
          ]
        }
      ]
    },
    {
      "cell_type": "markdown",
      "source": [
        "CORRIENTE"
      ],
      "metadata": {
        "id": "8eYydxQOgAbZ"
      }
    },
    {
      "cell_type": "code",
      "source": [
        "# Un ampere (1 A) es la cantidad de corriente que existe cuando cierto número de electrones, cuya carga total es de un coulomb (1 C), pasa por un área\n",
        "# de sección trnasversal dada en un segundo (1 s)\n",
        "\n",
        "# La corriente eléctrica es la velocidad que lleva el flujo de la carga.\n",
        "\n",
        "# Es decir, en un material conductor, el número de electrones (cantidad de carga) que fluyen más allá de cierto punto\n",
        "# en una unidad de tiempo determinan la corriente\n",
        "\n",
        "Q = float(input(\"Ingrese la carga, en Coulombs: \"))\n",
        "t = float(input(\"Ingrese el tiempo, en Segundos: \"))\n",
        "I = Q / t\n",
        "print(f\"La corriente es: {I} amperes\")\n",
        "\n",
        "# Revisar el manejo de excepción de división por cero\n"
      ],
      "metadata": {
        "colab": {
          "base_uri": "https://localhost:8080/"
        },
        "id": "xtT2PCRpd7u3",
        "outputId": "6dfb5d72-c1cf-439f-d722-f45fb9e177d1"
      },
      "execution_count": null,
      "outputs": [
        {
          "output_type": "stream",
          "name": "stdout",
          "text": [
            "Ingrese la carga, en Coulombs: 10\n",
            "Ingrese el tiempo, en Segundos: 2\n",
            "La corriente es: 5.0 amperes\n"
          ]
        }
      ]
    },
    {
      "cell_type": "code",
      "source": [
        "I = float(input(\"Ingrese la corriente, en amperes: \"))\n",
        "t = float(input(\"Ingrese el tiempo, en Segundos: \"))\n",
        "Q = I * t\n",
        "print(f\"La carga es: {Q} Coulombs\")"
      ],
      "metadata": {
        "colab": {
          "base_uri": "https://localhost:8080/"
        },
        "id": "ZwUgmQNwd7sP",
        "outputId": "f8e9832f-4471-4a4b-d158-7f58b134049a"
      },
      "execution_count": null,
      "outputs": [
        {
          "output_type": "stream",
          "name": "stdout",
          "text": [
            "Ingrese la corriente, en amperes: 8\n",
            "Ingrese el tiempo, en Segundos: 1.5\n",
            "La carga es: 12.0 Coulombs\n"
          ]
        }
      ]
    },
    {
      "cell_type": "code",
      "source": [
        "Q = float(input(\"Ingrese la carga, en Coulombs: \"))\n",
        "I = float(input(\"Ingrese la corriente, en amperes: \"))\n",
        "t = Q / I\n",
        "print(f\"La tiempo es: {t} segundos\")\n",
        "\n",
        "\n",
        "# Revisar el manejo de excepción de división por cero"
      ],
      "metadata": {
        "colab": {
          "base_uri": "https://localhost:8080/"
        },
        "id": "5OaASc_NjIFL",
        "outputId": "ae8d18bf-0ec0-4eff-884b-c782d02ab95f"
      },
      "execution_count": null,
      "outputs": [
        {
          "output_type": "stream",
          "name": "stdout",
          "text": [
            "Ingrese la carga, en Coulombs: 10\n",
            "Ingrese la corriente, en amperes: 5\n",
            "La tiempo es: 2.0 segundos\n"
          ]
        }
      ]
    },
    {
      "cell_type": "markdown",
      "source": [
        "RESISTENCIA"
      ],
      "metadata": {
        "id": "yrQEqNJvlI1F"
      }
    },
    {
      "cell_type": "code",
      "source": [
        "# Existe un ohm de resistencia si hay un ampere (1 A ) de correiente en un material cuando se aplica un volt (1 V) al material\n",
        "\n",
        "# La propiedad de un material de restingir u oponerse al flujo de electrones se llama resistencia, R.\n",
        "# La resistencia es la oposición de la corriente.\n",
        "\n"
      ],
      "metadata": {
        "id": "VdbBItk5jICw"
      },
      "execution_count": null,
      "outputs": []
    },
    {
      "cell_type": "code",
      "source": [],
      "metadata": {
        "id": "yag5FObOjIAu"
      },
      "execution_count": null,
      "outputs": []
    },
    {
      "cell_type": "markdown",
      "source": [
        "CONDUCTANCIA"
      ],
      "metadata": {
        "id": "Jori2Ef-mAvS"
      }
    },
    {
      "cell_type": "code",
      "source": [
        "# El recíproco de la resistencia es la conductancia, simbolizada mediante G\n",
        "#  La conductancia es una medida de la facilidad con que se establece la corriente, la fórmula es\n",
        "\n",
        "# G = 1 / R\n",
        "\n",
        "# La unidad de conductancia es el es siemens, abreviada con S\n",
        "\n",
        "R = float(input(\"Ingrese el valor de la resistencia en ohms: \"))\n",
        "G = 1 / R\n",
        "print(f\"El valor de la conductancia es: {G} Siemens\")\n",
        "\n",
        "# notese el resultado mostrado en la consola, al usar el valor de prueba \" 22 000 \"\n",
        "# 4.545454545454545e-05 Siemens\n",
        "# Sabemos que el resultado es 45.5 micro Siemens, de manera que es importante saber como leer el resultado\n",
        "# y en casos más avanzados será necesario colocar una forma de salida en múltiplos de 3\n",
        "\n",
        "# Revisar el manejo de excepciones para la resistencia == 0\n",
        "# ¿Cuáles son las implicaciones físicas de que R == 0 ohms"
      ],
      "metadata": {
        "colab": {
          "base_uri": "https://localhost:8080/"
        },
        "id": "3F9Z_MpjjH-q",
        "outputId": "96dedc26-908b-4bbe-af85-9e07e8c574ca"
      },
      "execution_count": null,
      "outputs": [
        {
          "output_type": "stream",
          "name": "stdout",
          "text": [
            "Ingrese el valor de la resistencia en ohms: 22000\n",
            "El valor de la conductancia es: 4.545454545454545e-05 Siemens\n"
          ]
        }
      ]
    },
    {
      "cell_type": "markdown",
      "source": [
        "# CAPÍTULO 2.5 RESISTORES"
      ],
      "metadata": {
        "id": "6Zkd6zsmJbfs"
      }
    },
    {
      "cell_type": "code",
      "source": [
        "# ¿Será mucha belleza de mi parte, escribir un programa que determine la resistencia de un resistor\n",
        "# de acuerdo al código de colores?\n",
        "\n",
        "# Caso 1: Para resistores de 4 bandas\n",
        "# Caso 2: Para resistores de 5 bandas\n",
        "\n",
        "# El código de colores cambia drásticamente entre resistores de 4 bandas y resistores de 5 bandas"
      ],
      "metadata": {
        "id": "59r23YPgow0N"
      },
      "execution_count": null,
      "outputs": []
    },
    {
      "cell_type": "code",
      "source": [
        "# RESISTORES DE MONTAJE SUPERFICIAL\n",
        "\n",
        "# Resistores rotulados de forma numérica\n",
        "\n",
        "# Resistores rotulados de forma alfanumérica"
      ],
      "metadata": {
        "id": "BqM1nvU_owxq"
      },
      "execution_count": null,
      "outputs": []
    },
    {
      "cell_type": "code",
      "source": [
        "# RESISTORES VARIABLES\n",
        "\n",
        "# Usos básicos:\n",
        "# Dividir el voltaje: Potenciometro\n",
        "# Controlar la corriente: Reóstato"
      ],
      "metadata": {
        "id": "I0wpSTIDowu2"
      },
      "execution_count": null,
      "outputs": []
    },
    {
      "cell_type": "markdown",
      "source": [
        "# CAPÍTULO 2.6 EL CIRCUITO ELÉCTRICO"
      ],
      "metadata": {
        "id": "sGRG0cMUssZu"
      }
    },
    {
      "cell_type": "code",
      "source": [
        "# ALAMBRES\n",
        "\n",
        "A = d**2"
      ],
      "metadata": {
        "id": "Gf7lNLP2owsP"
      },
      "execution_count": null,
      "outputs": []
    },
    {
      "cell_type": "code",
      "source": [
        "# RESISTENCIA DE UN ALAMBRE\n",
        "\n",
        "R = (p*l) / (A)"
      ],
      "metadata": {
        "id": "UOud7wOitwDc"
      },
      "execution_count": null,
      "outputs": []
    },
    {
      "cell_type": "code",
      "source": [
        "\n"
      ],
      "metadata": {
        "colab": {
          "base_uri": "https://localhost:8080/"
        },
        "id": "Izx7vMxbjH8g",
        "outputId": "89f30342-eee8-44d0-94d5-084019ac0dda"
      },
      "execution_count": null,
      "outputs": [
        {
          "output_type": "execute_result",
          "data": {
            "text/plain": [
              "0.9999999999999999"
            ]
          },
          "metadata": {},
          "execution_count": 17
        }
      ]
    },
    {
      "cell_type": "code",
      "execution_count": null,
      "metadata": {
        "colab": {
          "base_uri": "https://localhost:8080/"
        },
        "id": "QRM27ZITLWXS",
        "outputId": "0d218095-4ca2-465f-f94d-b6726a91a60b"
      },
      "outputs": [
        {
          "output_type": "stream",
          "name": "stdout",
          "text": [
            "Energía en Joules(J): 100\n",
            "Tiempo en segundos(s): 5\n",
            "20.0 WATTS\n"
          ]
        }
      ],
      "source": [
        "# CAPÍTULO 4 DEL LIBRO\n",
        "# EN ALGÚN LUGAR DESPUÉS DE LA PÁGINA 19\n",
        "\n",
        "# ENERGÍA ES LA CAPACIDAD DE REALIZAR TRABAJO, Y POTENCIA EES LA VELOCIDAD A LA CUAL SE UTILIZA LA ENERGÍA\n",
        "# LA CORRIENTE TRANSPORTA ENERGÍA ELÉCTRICA A TRAVÉS DE UN CIRCUITO\n",
        "# LA RAZÓN DE CAMBIO A LA CUAL SE UTILIZA LA ENERGÍA ELÉCTRICA ES LA POTENCIA QUE HAY ENE LE CIRCUITO.\n",
        "\n",
        "# POTENCIA (p) ES CIERTA CANTIDAD DE ENERGÍA (W) UTILIZADA EN CIERTO TIEMPO (t) Y EXPRESADA COMO SIGUE\n",
        " # P = W / t\n",
        "\n",
        "# CÁLCULO DE LA POTENCIA\n",
        "\n",
        "W = int(input(\"Energía en Joules(J): \"))\n",
        "t = int(input(\"Tiempo en segundos(s): \"))\n",
        "P = W / t\n",
        "print(f\"{P} WATTS\")"
      ]
    },
    {
      "cell_type": "code",
      "source": [
        "# CONTADOR DE KILOWATTS POR HORA\n"
      ],
      "metadata": {
        "id": "qItoCk6kQGcr"
      },
      "execution_count": null,
      "outputs": []
    },
    {
      "cell_type": "code",
      "source": [
        "# CUANDO SE UTILIZA UN RESISTOR EN UN CIRCUITO, SU ENERÍA NOMINAL DEBE SER MAYOR QUE LA PONTECIA MÁXIMA QUE DEBERÁ MANEJAR.\n",
        "# POR EJEMPLO, SI UN RESISTOR TIENE QUE DISIPAR 0.75W EN UNA APLICACIÓN DE CIRCUITO, SU CAPACIDAD DEBE SER DE POR LO MENOS EL SIGUIENTE\n",
        "# VALOR ESTÁNDAR MÁS ALTO, EN ESTE CASO 1W.\n",
        "\"\"\" SE DEBERÁ UTILIZAR UNA POTENCIA NOMINAL MÁS GRANDE QUE LA PONTENCIA EXISTENTE SIEMPRE QUE SEA POSIBLE, COMO UN MARGEN DE SEGURIDAD \"\"\"\n"
      ],
      "metadata": {
        "id": "M7Eo7O13WMCr"
      },
      "execution_count": null,
      "outputs": []
    }
  ]
}