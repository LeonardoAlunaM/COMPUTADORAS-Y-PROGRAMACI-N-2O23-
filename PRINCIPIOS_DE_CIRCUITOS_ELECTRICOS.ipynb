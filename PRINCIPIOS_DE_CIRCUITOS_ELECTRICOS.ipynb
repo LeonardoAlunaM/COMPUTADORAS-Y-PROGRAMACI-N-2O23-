{
  "nbformat": 4,
  "nbformat_minor": 0,
  "metadata": {
    "colab": {
      "provenance": [],
      "authorship_tag": "ABX9TyMqEW2iAIZGNtDD1eORoIWi",
      "include_colab_link": true
    },
    "kernelspec": {
      "name": "python3",
      "display_name": "Python 3"
    },
    "language_info": {
      "name": "python"
    }
  },
  "cells": [
    {
      "cell_type": "markdown",
      "metadata": {
        "id": "view-in-github",
        "colab_type": "text"
      },
      "source": [
        "<a href=\"https://colab.research.google.com/github/LeonardoAlunaM/COMPUTADORAS-Y-PROGRAMACI-N-2O23-/blob/main-COMPUTADORAS-Y-PROGTRAMACI%C3%93N-2023/PRINCIPIOS_DE_CIRCUITOS_ELECTRICOS.ipynb\" target=\"_parent\"><img src=\"https://colab.research.google.com/assets/colab-badge.svg\" alt=\"Open In Colab\"/></a>"
      ]
    },
    {
      "cell_type": "code",
      "execution_count": null,
      "metadata": {
        "id": "QRM27ZITLWXS"
      },
      "outputs": [],
      "source": [
        "# CAPÍTULO 4 DEL LIBRO\n",
        "\n",
        "# ENERGÍA ES LA CAPACIDAD DE REALIZAR TRABAJO, Y POTENCIA EES LA VELOCIDAD A LA CUAL SE UTILIZA LA ENERGÍA \n",
        "# LA CORRIENTE TRANSPORTA ENERGÍA ELÉCTRICA A TRAVÉS DE UN CIRCUITO\n",
        "# LA RAZÓN DE CAMBIO A LA CUAL SE UTILIZA LA ENERGÍA ELÉCTRICA ES LA POTENCIA QUE HAY ENE LE CIRCUITO. \n",
        "\n"
      ]
    }
  ]
}