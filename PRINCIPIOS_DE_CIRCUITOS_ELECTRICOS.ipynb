{
  "nbformat": 4,
  "nbformat_minor": 0,
  "metadata": {
    "colab": {
      "provenance": [],
      "authorship_tag": "ABX9TyOkbYvj9va3wDN3Dhh3g4ti",
      "include_colab_link": true
    },
    "kernelspec": {
      "name": "python3",
      "display_name": "Python 3"
    },
    "language_info": {
      "name": "python"
    }
  },
  "cells": [
    {
      "cell_type": "markdown",
      "metadata": {
        "id": "view-in-github",
        "colab_type": "text"
      },
      "source": [
        "<a href=\"https://colab.research.google.com/github/LeonardoAlunaM/COMPUTADORAS-Y-PROGRAMACI-N-2O23-/blob/main-COMPUTADORAS-Y-PROGTRAMACI%C3%93N-2023/PRINCIPIOS_DE_CIRCUITOS_ELECTRICOS.ipynb\" target=\"_parent\"><img src=\"https://colab.research.google.com/assets/colab-badge.svg\" alt=\"Open In Colab\"/></a>"
      ]
    },
    {
      "cell_type": "markdown",
      "source": [
        "# CAPITULO 2.1"
      ],
      "metadata": {
        "id": "XHJH2aT4cfjJ"
      }
    },
    {
      "cell_type": "code",
      "source": [
        "# CAPITULO 2.1\n",
        "\n",
        "# ESTRUCTURA ATÓMICA 1.0\n",
        "\n",
        "# Número de electrones presentes en cada capa, de acuerdo al átomo en que se aplique la fórmula\n",
        "\n",
        "N = int(input(\"Ingrese el número de la capa: \"))\n",
        "elec = (2)*(N**2)\n",
        "\n",
        "print(f\"El número de electrones en la capa 'N' del átomo es: {elec}\")\n",
        "\n",
        "# Hasta acá el código funciona bien, pero es necesario agregar algunas restricciones\n",
        "# 1.- El número de la capa debe ser mayor que 0, de lo contrario pedir que los datos se ingresen de nuevo\n",
        "# 2.- Dudo mucho que un átomo tenga una capa 67 o 100, en cuyo caso debería investigar por cuenta propia hasta que número de capa\n",
        "#     es válida la operación que planteamos, a saber  \"\" elec = (2)*(N**2) \"\""
      ],
      "metadata": {
        "colab": {
          "base_uri": "https://localhost:8080/"
        },
        "id": "DXRjEA4eYoJf",
        "outputId": "1347a155-a9eb-4df8-f902-f86866bc233f"
      },
      "execution_count": null,
      "outputs": [
        {
          "output_type": "stream",
          "name": "stdout",
          "text": [
            "Ingrese el número de la capa: 4\n",
            "El número de electrones en la capa 'N' del átomo es: 32\n"
          ]
        }
      ]
    },
    {
      "cell_type": "code",
      "source": [
        "# CAPITULO 2.1\n",
        "\n",
        "# ESTRUCTURA ATÓMICA 1.1\n",
        "\n",
        "# Número de electrones presentes en cada capa, de acuerdo al átomo en que se aplique la fórmula\n",
        "\n",
        "N = int(input(\"Ingrese el número de la capa: \"))\n",
        "try:\n",
        "    (\"El número de electrones presentes en cada capa es:\", + (2)*(N**2), \"electrones\")\n",
        "except:\n",
        "    print(\"El número de capa 'N' debe ser mayor que 0\")\n",
        "# print(f\"El número de electrones en la capa 'N' del átomo es: {elec}\")\n",
        "\n",
        "# Hasta acá el código funciona bien, pero es necesario agregar algunas restricciones\n",
        "# 1.- El número de la capa debe ser mayor que 0, de lo contrario pedir que los datos se ingresen de nuevo\n",
        "# 2.- Dudo mucho que un átomo tenga una capa 67 o 100, en cuyo caso debería investigar por cuenta propia hasta que número de capa\n",
        "#     es válida la operación que planteamos, a saber  \"\" elec = (2)*(N**2) \"\""
      ],
      "metadata": {
        "colab": {
          "base_uri": "https://localhost:8080/"
        },
        "id": "xBPEV1boclRM",
        "outputId": "8944ff28-32df-4d5c-f6ef-197b03f5e379"
      },
      "execution_count": 8,
      "outputs": [
        {
          "name": "stdout",
          "output_type": "stream",
          "text": [
            "Ingrese el número de la capa: 9\n"
          ]
        }
      ]
    },
    {
      "cell_type": "markdown",
      "source": [
        "# CAPÍTULO 2.2 CARGA ELÉCTRICA"
      ],
      "metadata": {
        "id": "ceHZ5zhbchzr"
      }
    },
    {
      "cell_type": "code",
      "source": [
        "# CAPÍTULO 2.2 CARGA ELÉCTRICA\n",
        "\n",
        "# Coulomb: La unidad de carga\n",
        "\n",
        "# La carga eléctrica (Q) se mide en coulombs, simbolizada mediante C\n",
        "# Un coulomb es la carga total poseída por 6.25 x 10**18 electrones.\n",
        "\n",
        "# Un solo electrón tiene una carga de 1.6 x 10**-19 C\n",
        "\n",
        "n_electro = float(input(\"Ingrese el número de electrones: \"))\n",
        "Q = n_electro / ((6.25) * (10**18))\n",
        "print(f\"La carga eléctrica en función de los electrones es: {Q} C\" )\n",
        "\n",
        "# Acá también hay algunos temas que revisar respecto de este código, ¿es posible escribir el número de electrones\n",
        "# tal cual se necesita escribirlo, es decir en notación exponencial o de base 10,\n",
        "# Según me parece ese es el mayor problema de este código, fuera de esto todo funciona bien, muy bien\n",
        "\n",
        "# Es decir, eso a mi parecer, de mí yo desvelao :v"
      ],
      "metadata": {
        "id": "Jl8c-37T9xBa",
        "colab": {
          "base_uri": "https://localhost:8080/"
        },
        "outputId": "0eea518e-ceff-4797-fd02-163123a1069f"
      },
      "execution_count": null,
      "outputs": [
        {
          "output_type": "stream",
          "name": "stdout",
          "text": [
            "Ingrese el número de electrones: 938000000000000000\n",
            "La carga eléctrica en función de los electrones es: 0.15008 C\n"
          ]
        }
      ]
    },
    {
      "cell_type": "code",
      "source": [
        "# Escribir otra versión del programa en donde se cálcule el número de eléctrones en función de la carga (Q)"
      ],
      "metadata": {
        "id": "TJBZUBVOY3Qq"
      },
      "execution_count": null,
      "outputs": []
    },
    {
      "cell_type": "code",
      "source": [],
      "metadata": {
        "id": "NVLZab12Y5Ox"
      },
      "execution_count": null,
      "outputs": []
    },
    {
      "cell_type": "markdown",
      "source": [
        "# CAPÍTULO 2.3 VOLTAJE, CORRIENTE Y RESISTENCIA"
      ],
      "metadata": {
        "id": "9fcoSDSVcjP4"
      }
    },
    {
      "cell_type": "markdown",
      "source": [
        "VOLTAJE"
      ],
      "metadata": {
        "id": "9AJ1B2hkf9mT"
      }
    },
    {
      "cell_type": "code",
      "source": [
        "# CAPÍTULO 2.3 VOLTAJE, CORRIENTE Y RESISTENCIA\n",
        "\n",
        "# Voltaje, Un volt es la diferencia de potencial (voltaje) entre 2 puntos cuando se utiliza un joule de energía para mover un coulomb de carga de un punto\n",
        "# a otro\n",
        "\n",
        "# Para obtener el voltaje, función de la energía en Joules y la carga en Coulombs\n",
        "W = float(input(\"Ingrese la energía, en Joules: \"))\n",
        "Q = float(input(\"Ingrese la carga, en Coulombs: \"))\n",
        "V = W / Q\n",
        "print(f\"El voltaje es: {V} Volts\")\n",
        "\n",
        "# Revisar el manejo de excepción, división por cero.\n",
        "# ¿Qué implicaciones físicas existen cuando la carga es cero?\n"
      ],
      "metadata": {
        "id": "Pu-GjSCB9qDb",
        "colab": {
          "base_uri": "https://localhost:8080/"
        },
        "outputId": "b4938f6a-f409-409e-cf40-d3f8b0725d5d"
      },
      "execution_count": null,
      "outputs": [
        {
          "output_type": "stream",
          "name": "stdout",
          "text": [
            "Ingrese la energía, en Joules: 50\n",
            "Ingrese la carga, en Coulombs: 10\n",
            "El voltaje es: 5.0 Volts\n"
          ]
        }
      ]
    },
    {
      "cell_type": "code",
      "source": [
        "# Para obtener la energía en función del Voltaje en volts y la carga en coulombs\n",
        "V = float(input(\"Ingrese el voltaje en Volts: \"))\n",
        "Q = float(input(\"Ingrese la carga, en Coulombs: \"))\n",
        "W = V * Q\n",
        "print(f\"La energía es: {W} Joules\")\n",
        "\n",
        "# Revisar esi existen excepciones en este código, me parece que no."
      ],
      "metadata": {
        "colab": {
          "base_uri": "https://localhost:8080/"
        },
        "id": "3tEI4X-yd7xK",
        "outputId": "be0c6307-d611-4109-eade-45ffc9a08a42"
      },
      "execution_count": null,
      "outputs": [
        {
          "output_type": "stream",
          "name": "stdout",
          "text": [
            "Ingrese el voltaje en Volts: 12\n",
            "Ingrese la carga, en Coulombs: 50\n",
            "La energía es: 600.0 Joules\n"
          ]
        }
      ]
    },
    {
      "cell_type": "code",
      "source": [
        "# Para obtener la carga en función de la energía en Joules y el Voltaje en volts\n",
        "W = float(input(\"Ingrese la energía, en Joules: \"))\n",
        "V = float(input(\"Ingrese el voltaje, en Volts: \"))\n",
        "Q = W / V\n",
        "print(f\"La carga es: {Q} Coulombs\")\n",
        "\n",
        "# Revisar el manejo de excepciones, división por cero, el voltaje no puede ser cero en este caso\n",
        "# ¿Qué implicaciones físicas existen cuando el voltaje es 0 ?"
      ],
      "metadata": {
        "colab": {
          "base_uri": "https://localhost:8080/"
        },
        "id": "HCRv9CDeerr-",
        "outputId": "79521de4-5240-4b63-ce64-eae4e6ea2a9c"
      },
      "execution_count": null,
      "outputs": [
        {
          "output_type": "stream",
          "name": "stdout",
          "text": [
            "Ingrese la energía, en Joules: 600\n",
            "Ingrese el voltaje, en Volts: 12\n",
            "La carga es: 50.0 Coulombs\n"
          ]
        }
      ]
    },
    {
      "cell_type": "markdown",
      "source": [
        "CORRIENTE"
      ],
      "metadata": {
        "id": "8eYydxQOgAbZ"
      }
    },
    {
      "cell_type": "code",
      "source": [
        "# Un ampere (1 A) es la cantidad de corriente que existe cuando cierto número de electrones, cuya carga total es de un coulomb (1 C), pasa por un área\n",
        "# de sección trnasversal dada en un segundo (1 s)\n",
        "\n",
        "# La corriente eléctrica es la velocidad que lleva el flujo de la carga.\n",
        "\n",
        "# Es decir, en un material conductor, el número de electrones (cantidad de carga) que fluyen más allá de cierto punto\n",
        "# en una unidad de tiempo determinan la corriente\n",
        "\n",
        "Q = float(input(\"Ingrese la carga, en Coulombs: \"))\n",
        "t = float(input(\"Ingrese el tiempo, en Segundos: \"))\n",
        "I = Q / t\n",
        "print(f\"La corriente es: {I} amperes\")\n",
        "\n",
        "# Revisar el manejo de excepción de división por cero\n"
      ],
      "metadata": {
        "colab": {
          "base_uri": "https://localhost:8080/"
        },
        "id": "xtT2PCRpd7u3",
        "outputId": "6dfb5d72-c1cf-439f-d722-f45fb9e177d1"
      },
      "execution_count": null,
      "outputs": [
        {
          "output_type": "stream",
          "name": "stdout",
          "text": [
            "Ingrese la carga, en Coulombs: 10\n",
            "Ingrese el tiempo, en Segundos: 2\n",
            "La corriente es: 5.0 amperes\n"
          ]
        }
      ]
    },
    {
      "cell_type": "code",
      "source": [
        "I = float(input(\"Ingrese la corriente, en amperes: \"))\n",
        "t = float(input(\"Ingrese el tiempo, en Segundos: \"))\n",
        "Q = I * t\n",
        "print(f\"La carga es: {Q} Coulombs\")"
      ],
      "metadata": {
        "colab": {
          "base_uri": "https://localhost:8080/"
        },
        "id": "ZwUgmQNwd7sP",
        "outputId": "f8e9832f-4471-4a4b-d158-7f58b134049a"
      },
      "execution_count": null,
      "outputs": [
        {
          "output_type": "stream",
          "name": "stdout",
          "text": [
            "Ingrese la corriente, en amperes: 8\n",
            "Ingrese el tiempo, en Segundos: 1.5\n",
            "La carga es: 12.0 Coulombs\n"
          ]
        }
      ]
    },
    {
      "cell_type": "code",
      "source": [
        "Q = float(input(\"Ingrese la carga, en Coulombs: \"))\n",
        "I = float(input(\"Ingrese la corriente, en amperes: \"))\n",
        "t = Q / I\n",
        "print(f\"La tiempo es: {t} segundos\")\n",
        "\n",
        "\n",
        "# Revisar el manejo de excepción de división por cero"
      ],
      "metadata": {
        "colab": {
          "base_uri": "https://localhost:8080/"
        },
        "id": "5OaASc_NjIFL",
        "outputId": "ae8d18bf-0ec0-4eff-884b-c782d02ab95f"
      },
      "execution_count": null,
      "outputs": [
        {
          "output_type": "stream",
          "name": "stdout",
          "text": [
            "Ingrese la carga, en Coulombs: 10\n",
            "Ingrese la corriente, en amperes: 5\n",
            "La tiempo es: 2.0 segundos\n"
          ]
        }
      ]
    },
    {
      "cell_type": "markdown",
      "source": [
        "RESISTENCIA"
      ],
      "metadata": {
        "id": "yrQEqNJvlI1F"
      }
    },
    {
      "cell_type": "code",
      "source": [
        "# Existe un ohm de resistencia si hay un ampere (1 A ) de correiente en un material cuando se aplica un volt (1 V) al material\n",
        "\n",
        "# La propiedad de un material de restingir u oponerse al flujo de electrones se llama resistencia, R.\n",
        "# La resistencia es la oposición de la corriente.\n",
        "\n"
      ],
      "metadata": {
        "id": "VdbBItk5jICw"
      },
      "execution_count": null,
      "outputs": []
    },
    {
      "cell_type": "code",
      "source": [],
      "metadata": {
        "id": "yag5FObOjIAu"
      },
      "execution_count": null,
      "outputs": []
    },
    {
      "cell_type": "markdown",
      "source": [
        "CONDUCTANCIA"
      ],
      "metadata": {
        "id": "Jori2Ef-mAvS"
      }
    },
    {
      "cell_type": "code",
      "source": [
        "# El recíproco de la resistencia es la conductancia, simbolizada mediante G\n",
        "#  La conductancia es una medida de la facilidad con que se establece la corriente, la fórmula es\n",
        "\n",
        "# G = 1 / R\n",
        "\n",
        "# La unidad de conductancia es el es siemens, abreviada con S\n",
        "\n",
        "R = float(input(\"Ingrese el valor de la resistencia en ohms: \"))\n",
        "G = 1 / R\n",
        "print(f\"El valor de la conductancia es: {G} Siemens\")\n",
        "\n",
        "# notese el resultado mostrado en la consola, al usar el valor de prueba \" 22 000 \"\n",
        "# 4.545454545454545e-05 Siemens\n",
        "# Sabemos que el resultado es 45.5 micro Siemens, de manera que es importante saber como leer el resultado\n",
        "# y en casos más avanzados será necesario colocar una forma de salida en múltiplos de 3\n",
        "\n",
        "# Revisar el manejo de excepciones para la resistencia == 0\n",
        "# ¿Cuáles son las implicaciones físicas de que R == 0 ohms"
      ],
      "metadata": {
        "colab": {
          "base_uri": "https://localhost:8080/"
        },
        "id": "3F9Z_MpjjH-q",
        "outputId": "96dedc26-908b-4bbe-af85-9e07e8c574ca"
      },
      "execution_count": null,
      "outputs": [
        {
          "output_type": "stream",
          "name": "stdout",
          "text": [
            "Ingrese el valor de la resistencia en ohms: 22000\n",
            "El valor de la conductancia es: 4.545454545454545e-05 Siemens\n"
          ]
        }
      ]
    },
    {
      "cell_type": "markdown",
      "source": [
        "# CAPÍTULO 2.5 RESISTORES"
      ],
      "metadata": {
        "id": "6Zkd6zsmJbfs"
      }
    },
    {
      "cell_type": "code",
      "source": [
        "# ¿Será mucha belleza de mi parte, escribir un programa que determine la resistencia de un resistor\n",
        "# de acuerdo al código de colores?\n",
        "\n",
        "# Caso 1: Para resistores de 4 bandas\n",
        "# Caso 2: Para resistores de 5 bandas\n",
        "\n",
        "# El código de colores cambia drásticamente entre resistores de 4 bandas y resistores de 5 bandas"
      ],
      "metadata": {
        "id": "59r23YPgow0N"
      },
      "execution_count": null,
      "outputs": []
    },
    {
      "cell_type": "code",
      "source": [
        "# RESISTORES DE MONTAJE SUPERFICIAL\n",
        "\n",
        "# Resistores rotulados de forma numérica\n",
        "\n",
        "# Resistores rotulados de forma alfanumérica"
      ],
      "metadata": {
        "id": "BqM1nvU_owxq"
      },
      "execution_count": null,
      "outputs": []
    },
    {
      "cell_type": "code",
      "source": [
        "# RESISTORES VARIABLES\n",
        "\n",
        "# Usos básicos:\n",
        "# Dividir el voltaje: Potenciometro\n",
        "# Controlar la corriente: Reóstato"
      ],
      "metadata": {
        "id": "I0wpSTIDowu2"
      },
      "execution_count": null,
      "outputs": []
    },
    {
      "cell_type": "markdown",
      "source": [
        "# CAPÍTULO 2.6 EL CIRCUITO ELÉCTRICO"
      ],
      "metadata": {
        "id": "sGRG0cMUssZu"
      }
    },
    {
      "cell_type": "code",
      "source": [
        "# ALAMBRES\n",
        "\n",
        "A = d**2"
      ],
      "metadata": {
        "id": "Gf7lNLP2owsP"
      },
      "execution_count": null,
      "outputs": []
    },
    {
      "cell_type": "code",
      "source": [
        "# RESISTENCIA DE UN ALAMBRE\n",
        "\n",
        "R = (p*l) / (A)"
      ],
      "metadata": {
        "id": "UOud7wOitwDc"
      },
      "execution_count": null,
      "outputs": []
    },
    {
      "cell_type": "markdown",
      "source": [
        "# CAPITULO 3 LEY DE OHM"
      ],
      "metadata": {
        "id": "FpcHw9K3hvov"
      }
    },
    {
      "cell_type": "code",
      "source": [
        "# CÁLCULO DE LA CORRIENTE 1.0\n",
        "\n",
        "V = float(input(\"Ingrese el valor del voltaje en Volts: \"))\n",
        "R = float(input(\"Ingrese el valor de la resistencia, en Ohms: \"))\n",
        "if R != 0:\n",
        "    print('La corriente es =', + V / R, 'Amperes')\n",
        "\n",
        "else:\n",
        "    print(\"-------------------------------------------------------------------\")\n",
        "    print(\"La resistencia 'R' no puede ser igual a 0 ohms\")\n",
        "    print(\"La razón es que el valor de I tiende a infinito, cuando R = 0  \")\n",
        "    print(\"Y por tanto la potencia del circuito también tiende a infinito.\")\n",
        "    print(\"La corriente, la resistencia y la temperatura están relacionados\")\n",
        "    print(\"Mediante la ley de Joule, a saber 'Q = I**2 x R x t '\")\n",
        "    print(\"El hecho de que la corriente tienda a infinito implica que la \")\n",
        "    print(\"Temperatura también, por lo tanto el circuito muy probablemente se quemará\")\n",
        "\n",
        "# Revisar el manejo de excepciones para la división por cero\n",
        "# ¿Qué implicaciones físicas hay en el hecho de que R sea 0?\n",
        "\n",
        "# Hoy es 5 de julio del 2023, y he abordado el manejo de excepciones para la división entre cero, para este ejemplo en particular\n",
        "# R no puede ser igual a cero, ¿ Existen otras excepciones que sean necesario verificar antes de que este algoritmo sea relativamente infalible ?\n",
        "# En todo caso, en este caso aborde la excepción de la forma en la que la abordaria un novato\n",
        "\n",
        "# En la siguiente celda se muestra el código de la forma correcta en la cual la aboraría python"
      ],
      "metadata": {
        "colab": {
          "base_uri": "https://localhost:8080/"
        },
        "id": "Izx7vMxbjH8g",
        "outputId": "7e69e399-255a-4d22-e4bf-2c3653214dfa"
      },
      "execution_count": null,
      "outputs": [
        {
          "output_type": "stream",
          "name": "stdout",
          "text": [
            "Ingrese el valor del voltaje en Volts: 8\n",
            "Ingrese el valor de la resistencia, en Ohms: 0\n",
            "La resistencia 'R' no puede ser igual a 0 ohms\n",
            "La razón es que el valor de I cuando R = 0 \n",
            "Tiende a infinito, y por tanto la potencia también\n",
            "Tiende a infinito, la potencia y la temperatura están relacionados\n",
            "El hecho de que la potencia tienda a infinito implica que la temperatura también\n",
            "Por lo tanto el circuito se quema\n",
            "FIN.\n"
          ]
        }
      ]
    },
    {
      "cell_type": "code",
      "source": [
        "# CÁLCULO DE LA CORRIENTE 1.1\n",
        "\n",
        "# Prueba con V == 100 Volts y R == 50 ohms\n",
        "V = float(input(\"Ingrese el valor del voltaje en Volts: \"))\n",
        "R = float(input(\"Ingrese el valor de la resistencia, en Ohms: \"))\n",
        "try:\n",
        "    print('La corriente es: I =', + V / R, 'Amperes')\n",
        "\n",
        "except:\n",
        "    print(\"-------------------------------------------------------------------\")\n",
        "    print(\"La resistencia 'R' no puede ser igual a 0 ohms\")\n",
        "    print(\"La razón es que el valor de I tiende a infinito, cuando R = 0  \")\n",
        "    print(\"Y por tanto la potencia del circuito también tiende a infinito.\")\n",
        "    print(\"La corriente, la resistencia y la temperatura están relacionados\")\n",
        "    print(\"Mediante la ley de Joule, a saber ' Q = I**2 x R x t '\")\n",
        "    print(\"El hecho de que la corriente tienda a infinito implica que la \")\n",
        "    print(\"Temperatura también, por lo tanto el circuito muy probablemente se quemará\")\n",
        "# print(\"FIN.\")\n",
        "\n",
        "# Este código ya maneja la excepción de la división sobre cero de manera exitosa, del modo en el que python espera que la excepción sea abordada\n",
        "# correctamente, en todo caso ¿ Hay algo más que se pueda mejorar aquí?, ¿O en caso contrario continuare mejorando cada uno de los calculos conforme\n",
        "# Me encuentre con asuntos espinosos en el proceso"
      ],
      "metadata": {
        "colab": {
          "base_uri": "https://localhost:8080/"
        },
        "id": "mGzwcmgp8Gam",
        "outputId": "6cd93a2b-d8ba-4158-baef-5f4f56787d40"
      },
      "execution_count": null,
      "outputs": [
        {
          "output_type": "stream",
          "name": "stdout",
          "text": [
            "Ingrese el valor del voltaje en Volts: 100\n",
            "Ingrese el valor de la resistencia, en Ohms: 50\n",
            "La corriente es: I = 2.0 Amperes\n"
          ]
        }
      ]
    },
    {
      "cell_type": "code",
      "source": [
        "# CÁLCULO DE LA CORRIENTE 1.2\n",
        "\n",
        "# Prueba con V == 100 Volts y R == 0 ohms\n",
        "V = float(input(\"Ingrese el valor del voltaje en Volts: \"))\n",
        "R = float(input(\"Ingrese el valor de la resistencia, en Ohms: \"))\n",
        "try:\n",
        "    print('La corriente es: I =', + V / R, 'Amperes')\n",
        "\n",
        "except:\n",
        "    print(\"-------------------------------------------------------------------\")\n",
        "    print(\"La resistencia 'R' no puede ser igual a 0 ohms\")\n",
        "    print(\"La razón es que el valor de I tiende a infinito, cuando R = 0  \")\n",
        "    print(\"Y por tanto la potencia del circuito también tiende a infinito.\")\n",
        "    print(\"La corriente, la resistencia y la temperatura están relacionados\")\n",
        "    print(\"Mediante la ley de Joule, a saber ' Q = I**2 x R x t '\")\n",
        "    print(\"El hecho de que la corriente tienda a infinito implica que la \")\n",
        "    print(\"Temperatura también, por lo tanto el circuito muy probablemente se quemará\")\n",
        "# print(\"FIN.\")\n",
        "\n",
        "# Este código ya maneja la excepción de la división sobre cero de manera exitosa, del modo en el que python espera que la excepción sea abordada\n",
        "# correctamente, en todo caso ¿ Hay algo más que se pueda mejorar aquí?, ¿O en caso contrario continuare mejorando cada uno de los calculos conforme\n",
        "# Me encuentre con asuntos espinosos en el proceso\n",
        "\n",
        "# Será posibe agregar los simbolos tales como \" tiende a \", \" infinito \", y demás?\n",
        "# Sé que es posible por que Python lo permite, ¿Pero cuáles serían los códigos UTF necesarios para lograrlo?"
      ],
      "metadata": {
        "colab": {
          "base_uri": "https://localhost:8080/"
        },
        "id": "4blXCS734SNS",
        "outputId": "ee55936f-ed94-462f-ceed-471f5a321882"
      },
      "execution_count": null,
      "outputs": [
        {
          "output_type": "stream",
          "name": "stdout",
          "text": [
            "Ingrese el valor del voltaje en Volts: 100 \n",
            "Ingrese el valor de la resistencia, en Ohms: 0\n",
            "-------------------------------------------------------------------\n",
            "La resistencia 'R' no puede ser igual a 0 ohms\n",
            "La razón es que el valor de I tiende a infinito, cuando R = 0  \n",
            "Y por tanto la potencia del circuito también tiende a infinito.\n",
            "La corriente, la resistencia y la temperatura están relacionados\n",
            "Mediante la ley de Joule, a saber ' Q = I**2 x R x t '\n",
            "El hecho de que la corriente tienda a infinito implica que la \n",
            "Temperatura también, por lo tanto el circuito muy probablemente se quemará\n"
          ]
        }
      ]
    },
    {
      "cell_type": "code",
      "source": [
        "# CÁLCULO DEL VOLTAJE\n",
        "\n",
        "I = float(input(\"Ingrese el valor de la corriente, en Amperes: \"))\n",
        "R = float(input(\"Ingrese el valor de la resistencia, en Ohms:\"))\n",
        "V = I * R\n",
        "print(f\"El valor del voltaje es: {V} Volts\")\n",
        "\n",
        "# Según parece este código no necesita nada más ¿Es esto cierto?\n",
        "# ¿ Qué clase de excepciones o errores podría tener el presente algoritmo ?\n",
        "\n",
        "# El usuario podría agregar letras en vez de números en cada uno de los inputs, como cambiar o prevenir este error\n",
        "# ¿De que manera puedo resolver este problema?\n",
        "# ¿ Hay otro problema además de este en el presente algoritmos?\n"
      ],
      "metadata": {
        "colab": {
          "base_uri": "https://localhost:8080/"
        },
        "id": "FSTKeOJridUV",
        "outputId": "5ac1375c-5836-4ffa-8f51-ee5e0cdadaba"
      },
      "execution_count": null,
      "outputs": [
        {
          "output_type": "stream",
          "name": "stdout",
          "text": [
            "Ingrese el valor de la corriente, en Amperes: 0.01\n",
            "Ingrese el valor de la resistencia, en Ohms:1000\n",
            "El valor del voltaje es: 10.0 Volts\n"
          ]
        }
      ]
    },
    {
      "cell_type": "code",
      "source": [
        "# CÁLCULO DE LA RESISTENCIA\n",
        "\n",
        "V = float(input(\"Ingrese el valor del voltaje en Volts: \"))\n",
        "I = float(input(\"Ingrese el valor de la corriente, en Amperes: \"))\n",
        "R = V / I\n",
        "print(f\"La resistencia es de: {R} Ohms\")\n",
        "\n",
        "\n",
        "# Revisar el código para manejo de expciones, así mismo como procurar encontrar otros errores que podría presentarse durante la ejecución del\n",
        "# programa de manera inesperada o debido al uso del usuario."
      ],
      "metadata": {
        "colab": {
          "base_uri": "https://localhost:8080/"
        },
        "id": "orpryMjPidSx",
        "outputId": "fb77cd6d-82a0-4d91-a410-f8b57c0e90fe"
      },
      "execution_count": null,
      "outputs": [
        {
          "output_type": "stream",
          "name": "stdout",
          "text": [
            "Ingrese el valor del voltaje en Volts: 20\n",
            "Ingrese el valor de la corriente, en Amperes: 0.00606\n",
            "La resistencia es de: 3300.3300330033003 Ohms\n"
          ]
        }
      ]
    },
    {
      "cell_type": "markdown",
      "source": [
        "# CAPÍTULO 4 ENERGÍA Y POTENCIA"
      ],
      "metadata": {
        "id": "lv1xH9HzGIUD"
      }
    },
    {
      "cell_type": "code",
      "execution_count": null,
      "metadata": {
        "colab": {
          "base_uri": "https://localhost:8080/"
        },
        "id": "QRM27ZITLWXS",
        "outputId": "0d218095-4ca2-465f-f94d-b6726a91a60b"
      },
      "outputs": [
        {
          "output_type": "stream",
          "name": "stdout",
          "text": [
            "Energía en Joules(J): 100\n",
            "Tiempo en segundos(s): 5\n",
            "20.0 WATTS\n"
          ]
        }
      ],
      "source": [
        "# CAPÍTULO 4 DEL LIBRO\n",
        "# EN ALGÚN LUGAR DESPUÉS DE ALGUNA PÁGINA\n",
        "\n",
        "# ENERGÍA ES LA CAPACIDAD DE REALIZAR TRABAJO, Y POTENCIA EES LA VELOCIDAD A LA CUAL SE UTILIZA LA ENERGÍA\n",
        "# LA CORRIENTE TRANSPORTA ENERGÍA ELÉCTRICA A TRAVÉS DE UN CIRCUITO\n",
        "# LA RAZÓN DE CAMBIO A LA CUAL SE UTILIZA LA ENERGÍA ELÉCTRICA ES LA POTENCIA QUE HAY ENE LE CIRCUITO.\n",
        "\n",
        "# POTENCIA (p) ES CIERTA CANTIDAD DE ENERGÍA (W) UTILIZADA EN CIERTO TIEMPO (t) Y EXPRESADA COMO SIGUE\n",
        " # P = W / t\n",
        "\n",
        "# CÁLCULO DE LA POTENCIA\n",
        "\n",
        "W = int(input(\"Energía en Joules(J): \"))\n",
        "t = int(input(\"Tiempo en segundos(s): \"))\n",
        "P = W / t\n",
        "print(f\"{P} WATTS\")"
      ]
    },
    {
      "cell_type": "code",
      "source": [
        "# CONTADOR DE KILOWATTS POR HORA\n"
      ],
      "metadata": {
        "id": "qItoCk6kQGcr"
      },
      "execution_count": null,
      "outputs": []
    },
    {
      "cell_type": "code",
      "source": [
        "# CUANDO SE UTILIZA UN RESISTOR EN UN CIRCUITO, SU ENERÍA NOMINAL DEBE SER MAYOR QUE LA PONTECIA MÁXIMA QUE DEBERÁ MANEJAR.\n",
        "# POR EJEMPLO, SI UN RESISTOR TIENE QUE DISIPAR 0.75W EN UNA APLICACIÓN DE CIRCUITO, SU CAPACIDAD DEBE SER DE POR LO MENOS EL SIGUIENTE\n",
        "# VALOR ESTÁNDAR MÁS ALTO, EN ESTE CASO 1W.\n",
        "\"\"\" SE DEBERÁ UTILIZAR UNA POTENCIA NOMINAL MÁS GRANDE QUE LA PONTENCIA EXISTENTE SIEMPRE QUE SEA POSIBLE, COMO UN MARGEN DE SEGURIDAD \"\"\"\n"
      ],
      "metadata": {
        "id": "M7Eo7O13WMCr"
      },
      "execution_count": null,
      "outputs": []
    },
    {
      "cell_type": "code",
      "source": [],
      "metadata": {
        "id": "FG7hWQaun5nC"
      },
      "execution_count": null,
      "outputs": []
    },
    {
      "cell_type": "code",
      "source": [],
      "metadata": {
        "id": "I7sCk9mBn5k_"
      },
      "execution_count": null,
      "outputs": []
    },
    {
      "cell_type": "code",
      "source": [],
      "metadata": {
        "id": "6OadjETQn5i2"
      },
      "execution_count": null,
      "outputs": []
    },
    {
      "cell_type": "code",
      "source": [],
      "metadata": {
        "id": "mq7TMp0Qn5gE"
      },
      "execution_count": null,
      "outputs": []
    },
    {
      "cell_type": "code",
      "source": [],
      "metadata": {
        "id": "X0MlmMuFn5d9"
      },
      "execution_count": null,
      "outputs": []
    },
    {
      "cell_type": "code",
      "source": [],
      "metadata": {
        "id": "NVEhpucKn5bH"
      },
      "execution_count": null,
      "outputs": []
    },
    {
      "cell_type": "code",
      "source": [],
      "metadata": {
        "id": "Yb5uHCern5Yl"
      },
      "execution_count": null,
      "outputs": []
    },
    {
      "cell_type": "markdown",
      "source": [],
      "metadata": {
        "id": "Vuh0xNDIhuE8"
      }
    },
    {
      "cell_type": "markdown",
      "source": [
        "# CAPÍTULO 5 CIRCUITOS EN SERIE\n",
        "\n"
      ],
      "metadata": {
        "id": "T1tm3c0Snaq-"
      }
    },
    {
      "cell_type": "code",
      "source": [],
      "metadata": {
        "id": "wie1ynD1rGPq"
      },
      "execution_count": null,
      "outputs": []
    },
    {
      "cell_type": "code",
      "source": [],
      "metadata": {
        "id": "s_5RUPACrGL6"
      },
      "execution_count": null,
      "outputs": []
    },
    {
      "cell_type": "code",
      "source": [],
      "metadata": {
        "id": "KqY7pALgrGJn"
      },
      "execution_count": null,
      "outputs": []
    },
    {
      "cell_type": "code",
      "source": [],
      "metadata": {
        "id": "Aprp-8earGHg"
      },
      "execution_count": null,
      "outputs": []
    },
    {
      "cell_type": "code",
      "source": [],
      "metadata": {
        "id": "EhpIm0xNrGFL"
      },
      "execution_count": null,
      "outputs": []
    },
    {
      "cell_type": "code",
      "source": [],
      "metadata": {
        "id": "-VtmXIazrGC9"
      },
      "execution_count": null,
      "outputs": []
    },
    {
      "cell_type": "code",
      "source": [],
      "metadata": {
        "id": "CadsLOEZrGAu"
      },
      "execution_count": null,
      "outputs": []
    },
    {
      "cell_type": "code",
      "source": [],
      "metadata": {
        "id": "aEq_o0wwrF-m"
      },
      "execution_count": null,
      "outputs": []
    },
    {
      "cell_type": "code",
      "source": [
        "# CAPÍTULO 5.9 MEDICIONES DE VOLTAJE"
      ],
      "metadata": {
        "id": "HiY0Dl1JrF8m"
      },
      "execution_count": null,
      "outputs": []
    },
    {
      "cell_type": "markdown",
      "source": [
        "# CAPÍTULO 6 CIRCUITOS EN PARALELO"
      ],
      "metadata": {
        "id": "wlK96qkqyewz"
      }
    },
    {
      "cell_type": "code",
      "source": [
        "# Cuando dos o más resistores se conectan individualmente entre dos puntos distintos, están en paralelo entre sí.\n",
        "# Un circuito en paralelo proporciona más de una trayectoria para la corriente"
      ],
      "metadata": {
        "id": "bUajoyU9rF6m"
      },
      "execution_count": null,
      "outputs": []
    },
    {
      "cell_type": "code",
      "source": [
        "# Cada trayectoria par ala corriente se denomina rama, y un circuito en paralelo es uno que tien más de una rama."
      ],
      "metadata": {
        "id": "8XnsvqkRrF4P"
      },
      "execution_count": null,
      "outputs": []
    },
    {
      "cell_type": "markdown",
      "source": [
        "LEY DE LAS CORRIENTES DE KIRCHHOFF"
      ],
      "metadata": {
        "id": "QXqgyTjHTzD5"
      }
    },
    {
      "cell_type": "code",
      "source": [],
      "metadata": {
        "id": "wD_4wo3TrF11"
      },
      "execution_count": null,
      "outputs": []
    },
    {
      "cell_type": "code",
      "source": [],
      "metadata": {
        "id": "HLZmUxX7ap6g"
      },
      "execution_count": null,
      "outputs": []
    },
    {
      "cell_type": "code",
      "source": [],
      "metadata": {
        "id": "mrn--ibpap3y"
      },
      "execution_count": null,
      "outputs": []
    },
    {
      "cell_type": "code",
      "source": [],
      "metadata": {
        "id": "PXO2S3Yaap2E"
      },
      "execution_count": null,
      "outputs": []
    },
    {
      "cell_type": "code",
      "source": [],
      "metadata": {
        "id": "NKE6EZ8pap0A"
      },
      "execution_count": null,
      "outputs": []
    },
    {
      "cell_type": "code",
      "source": [],
      "metadata": {
        "id": "TNUPMCeGapx4"
      },
      "execution_count": null,
      "outputs": []
    },
    {
      "cell_type": "code",
      "source": [],
      "metadata": {
        "id": "UN6zLFOFapvz"
      },
      "execution_count": null,
      "outputs": []
    },
    {
      "cell_type": "markdown",
      "source": [
        "#  CAPÍTULO 9 ANÁLISIS DE RAMAS, LAZOS Y NODOS"
      ],
      "metadata": {
        "id": "BqMGtBjFarUC"
      }
    },
    {
      "cell_type": "markdown",
      "source": [
        "### CAPÍTULO 9.1 ECUACIONES SIMULTÁNEAS EN EL ANÁLISIS DE CIRCUITOS"
      ],
      "metadata": {
        "id": "3BLaZx1ha3hw"
      }
    },
    {
      "cell_type": "code",
      "source": [
        "# Resuelve un sistema de ecuaciones 3 x 3, esto tras sustituir los valores de la función característica y a continuación derivar\n",
        "# dicha función, de acuerdo a las condiciones iniciales dadas\n",
        "# Al ejecutar el código encontramos los valores de c1, c2 y c3\n",
        "def solve_system(A, B):\n",
        "    n = len(A)\n",
        "\n",
        "    # Concatenar matriz A y vector B\n",
        "    AB = []\n",
        "    for i in range(n):\n",
        "        AB.append(A[i] + [B[i]])\n",
        "\n",
        "    # Eliminación hacia adelante\n",
        "    for i in range(n):\n",
        "        if AB[i][i] == 0:\n",
        "            # Intercambiar filas si el pivote es cero\n",
        "            for j in range(i+1, n):\n",
        "                if AB[j][i] != 0:\n",
        "                    AB[i], AB[j] = AB[j], AB[i]\n",
        "                    break\n",
        "\n",
        "        pivot = AB[i][i]\n",
        "        if pivot == 0:\n",
        "            # Sistema no tiene solución única\n",
        "            return None\n",
        "\n",
        "        # Hacer que el pivote sea igual a 1\n",
        "        for j in range(i, n+1):\n",
        "            AB[i][j] /= pivot\n",
        "\n",
        "        # Hacer que los elementos debajo del pivote sean igual a cero\n",
        "        for j in range(i+1, n):\n",
        "            factor = AB[j][i]\n",
        "            for k in range(i, n+1):\n",
        "                AB[j][k] -= factor * AB[i][k]\n",
        "\n",
        "    # Sustitución hacia atrás\n",
        "    for i in range(n-1, 0, -1):\n",
        "        for j in range(i-1, -1, -1):\n",
        "            factor = AB[j][i]\n",
        "            for k in range(i, n+1):\n",
        "                AB[j][k] -= factor * AB[i][k]\n",
        "\n",
        "    # Extraer la solución del sistema\n",
        "    solution = []\n",
        "    for i in range(n):\n",
        "        solution.append(AB[i][-1])\n",
        "\n",
        "    return solution"
      ],
      "metadata": {
        "id": "Z190_FXma3EZ"
      },
      "execution_count": 1,
      "outputs": []
    },
    {
      "cell_type": "code",
      "source": [
        "# Llamando a la función escrita arriba\n",
        "\n",
        "# Ejercicio de muestra del capitulo 9.1, aquí se demostraba de que manera resolver el sistema de 3 ecuaciones mediante el método de expansión\n",
        "# Tal ejercicio se encuentra en la página 355 del libro\n",
        "\n",
        "A = [[1, 3, -2],\n",
        "     [0, 4, 1],\n",
        "     [-5, 1, 6]]\n",
        "\n",
        "B = [7, 8, 9]\n",
        "\n",
        "solution = solve_system(A, B)\n",
        "if solution is not None:\n",
        "    print(\"La solución es:\", 'Isub1, Isub2, Isub3',  solution)\n",
        "else:\n",
        "    print(\"El sistema no tiene solución única.\")\n",
        "\n",
        "# De acuerdo a la solución del ejemplo mostrado en el libro el código\n",
        "# funciona de forma correcta para determinar la solución del sistema\n",
        "# 3 x 3, siendo la solución mostrada ' Isub1 = -3.125 A '\n",
        "# Se deja la resolución de Isub2 e Isub3 a consideración del alumno, en todo caso\n",
        "# el algoritmo lo calula"
      ],
      "metadata": {
        "colab": {
          "base_uri": "https://localhost:8080/"
        },
        "id": "xlfE0n4ya12T",
        "outputId": "86c01c8b-0067-4dd0-b61f-b382b313cca0"
      },
      "execution_count": 6,
      "outputs": [
        {
          "output_type": "stream",
          "name": "stdout",
          "text": [
            "La solución es: Isub1, Isub2, Isub3 [-3.125, 2.375, -1.5]\n"
          ]
        }
      ]
    },
    {
      "cell_type": "code",
      "source": [],
      "metadata": {
        "id": "hVm6EZ51blxY"
      },
      "execution_count": null,
      "outputs": []
    },
    {
      "cell_type": "code",
      "source": [],
      "metadata": {
        "id": "s3ux4ryHaptS"
      },
      "execution_count": null,
      "outputs": []
    }
  ]
}