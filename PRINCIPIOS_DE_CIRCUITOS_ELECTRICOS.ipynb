{
  "nbformat": 4,
  "nbformat_minor": 0,
  "metadata": {
    "colab": {
      "provenance": [],
      "authorship_tag": "ABX9TyOz7TiXqeQIGQXNdTfRS+NX",
      "include_colab_link": true
    },
    "kernelspec": {
      "name": "python3",
      "display_name": "Python 3"
    },
    "language_info": {
      "name": "python"
    }
  },
  "cells": [
    {
      "cell_type": "markdown",
      "metadata": {
        "id": "view-in-github",
        "colab_type": "text"
      },
      "source": [
        "<a href=\"https://colab.research.google.com/github/LeonardoAlunaM/COMPUTADORAS-Y-PROGRAMACI-N-2O23-/blob/main-COMPUTADORAS-Y-PROGTRAMACI%C3%93N-2023/PRINCIPIOS_DE_CIRCUITOS_ELECTRICOS.ipynb\" target=\"_parent\"><img src=\"https://colab.research.google.com/assets/colab-badge.svg\" alt=\"Open In Colab\"/></a>"
      ]
    },
    {
      "cell_type": "code",
      "source": [
        "# CAPITULO 2.1\n",
        "\n",
        "# ESTRUCTURA ATÓMICA\n",
        "\n",
        "# Número de electrones presentes en cada capa, de acuerdo al átomo en que se aplique la fórmula\n",
        "\n",
        "N = int(input(\"Ingrese el número de la capa: \"))\n",
        "elec = (2)*(N**2)\n",
        "print(f\"El número de electrones en la capa 'N' del átomo es: {elec}\")\n",
        "\n",
        "# Hasta acá el código funciona bien, pero es necesario agregar algunas restricciones\n",
        "# 1.- El número de la capa debe ser mayor que 0, de lo contrario pedir que los datos se ingresen de nuevo\n",
        "# 2.- Dudo mucho que un átomo tenga una capa 67 o 100, en cuyo caso debería investigar por cuenta propia hasta que número de capa\n",
        "#     es válida la operación que planteamos, a saber  \"\" elec = (2)*(N**2) \"\""
      ],
      "metadata": {
        "colab": {
          "base_uri": "https://localhost:8080/"
        },
        "id": "DXRjEA4eYoJf",
        "outputId": "1347a155-a9eb-4df8-f902-f86866bc233f"
      },
      "execution_count": 2,
      "outputs": [
        {
          "output_type": "stream",
          "name": "stdout",
          "text": [
            "Ingrese el número de la capa: 4\n",
            "El número de electrones en la capa 'N' del átomo es: 32\n"
          ]
        }
      ]
    },
    {
      "cell_type": "code",
      "source": [
        "# CAPÍTULO 2.2 CARGA ELÉCTRICA\n",
        "\n",
        "# Coulomb: La unidad de carga\n",
        "\n",
        "# La carga eléctrica (Q) se mide en coulombs, simbolizada mediante C\n",
        "# Un coulomb es la carga total poseída por 6.25 x 10**18 electrones.\n",
        "\n",
        "# Un solo electrón tiene una carga de 1.6 x 10**-19 C\n",
        "\n",
        "n_electro = float(input(\"Ingrese el número de electrones: \"))\n",
        "Q = n_electro / ((6.25) * (10**18))\n",
        "print(f\"La carga eléctrica en función de los electrones es: {Q}\")\n",
        "\n",
        "# Acá también hay algunos temas que revisar respecto de este código, ¿es posible escribir el número de electrones\n",
        "# tal cual se necesita escribirlo, es decir en notación exponencial o de base 10,\n",
        "# Según me parece ese es el mayor problema de este código, fuera de esto todo funciona bien, muy bien\n",
        "\n",
        "# Es decir, eso a mi parecer, de mí yo desvelao :v"
      ],
      "metadata": {
        "id": "Jl8c-37T9xBa",
        "colab": {
          "base_uri": "https://localhost:8080/"
        },
        "outputId": "2bdeb2c6-aec4-43e1-bd3b-6943338c7a23"
      },
      "execution_count": 3,
      "outputs": [
        {
          "output_type": "stream",
          "name": "stdout",
          "text": [
            "Ingrese el número de electrones: 938000000000000000\n",
            "La carga eléctrica en función de los electrones es: 0.15008\n"
          ]
        }
      ]
    },
    {
      "cell_type": "code",
      "source": [
        "# Escribir otra versión del programa en donde se cálcule el número de eléctrones en función de la carga (Q)"
      ],
      "metadata": {
        "id": "TJBZUBVOY3Qq"
      },
      "execution_count": null,
      "outputs": []
    },
    {
      "cell_type": "code",
      "source": [],
      "metadata": {
        "id": "NVLZab12Y5Ox"
      },
      "execution_count": null,
      "outputs": []
    },
    {
      "cell_type": "code",
      "source": [
        "# CAPÍTULO 2.3 VOLTAJE, CORRIENTE Y RESISTENCIA"
      ],
      "metadata": {
        "id": "Pu-GjSCB9qDb"
      },
      "execution_count": null,
      "outputs": []
    },
    {
      "cell_type": "code",
      "execution_count": null,
      "metadata": {
        "colab": {
          "base_uri": "https://localhost:8080/"
        },
        "id": "QRM27ZITLWXS",
        "outputId": "0d218095-4ca2-465f-f94d-b6726a91a60b"
      },
      "outputs": [
        {
          "output_type": "stream",
          "name": "stdout",
          "text": [
            "Energía en Joules(J): 100\n",
            "Tiempo en segundos(s): 5\n",
            "20.0 WATTS\n"
          ]
        }
      ],
      "source": [
        "# CAPÍTULO 4 DEL LIBRO\n",
        "# EN ALGÚN LUGAR DESPUÉS DE LA PÁGINA 19\n",
        "\n",
        "# ENERGÍA ES LA CAPACIDAD DE REALIZAR TRABAJO, Y POTENCIA EES LA VELOCIDAD A LA CUAL SE UTILIZA LA ENERGÍA\n",
        "# LA CORRIENTE TRANSPORTA ENERGÍA ELÉCTRICA A TRAVÉS DE UN CIRCUITO\n",
        "# LA RAZÓN DE CAMBIO A LA CUAL SE UTILIZA LA ENERGÍA ELÉCTRICA ES LA POTENCIA QUE HAY ENE LE CIRCUITO.\n",
        "\n",
        "# POTENCIA (p) ES CIERTA CANTIDAD DE ENERGÍA (W) UTILIZADA EN CIERTO TIEMPO (t) Y EXPRESADA COMO SIGUE\n",
        " # P = W / t\n",
        "\n",
        "# CÁLCULO DE LA POTENCIA\n",
        "\n",
        "W = int(input(\"Energía en Joules(J): \"))\n",
        "t = int(input(\"Tiempo en segundos(s): \"))\n",
        "P = W / t\n",
        "print(f\"{P} WATTS\")"
      ]
    },
    {
      "cell_type": "code",
      "source": [
        "# CONTADOR DE KILOWATTS POR HORA\n"
      ],
      "metadata": {
        "id": "qItoCk6kQGcr"
      },
      "execution_count": null,
      "outputs": []
    },
    {
      "cell_type": "code",
      "source": [
        "# CUANDO SE UTILIZA UN RESISTOR EN UN CIRCUITO, SU ENERÍA NOMINAL DEBE SER MAYOR QUE LA PONTECIA MÁXIMA QUE DEBERÁ MANEJAR.\n",
        "# POR EJEMPLO, SI UN RESISTOR TIENE QUE DISIPAR 0.75W EN UNA APLICACIÓN DE CIRCUITO, SU CAPACIDAD DEBE SER DE POR LO MENOS EL SIGUIENTE\n",
        "# VALOR ESTÁNDAR MÁS ALTO, EN ESTE CASO 1W.\n",
        "\"\"\" SE DEBERÁ UTILIZAR UNA POTENCIA NOMINAL MÁS GRANDE QUE LA PONTENCIA EXISTENTE SIEMPRE QUE SEA POSIBLE, COMO UN MARGEN DE SEGURIDAD \"\"\"\n"
      ],
      "metadata": {
        "id": "M7Eo7O13WMCr"
      },
      "execution_count": null,
      "outputs": []
    }
  ]
}