{
  "nbformat": 4,
  "nbformat_minor": 0,
  "metadata": {
    "colab": {
      "provenance": [],
      "authorship_tag": "ABX9TyP7J70lAgH5dPFiYylMPo0Y",
      "include_colab_link": true
    },
    "kernelspec": {
      "name": "python3",
      "display_name": "Python 3"
    },
    "language_info": {
      "name": "python"
    }
  },
  "cells": [
    {
      "cell_type": "markdown",
      "metadata": {
        "id": "view-in-github",
        "colab_type": "text"
      },
      "source": [
        "<a href=\"https://colab.research.google.com/github/LeonardoAlunaM/COMPUTADORAS-Y-PROGRAMACI-N-2O23-/blob/main-COMPUTADORAS-Y-PROGTRAMACI%C3%93N-2023/TEMPORIZADOR_pygame_1.ipynb\" target=\"_parent\"><img src=\"https://colab.research.google.com/assets/colab-badge.svg\" alt=\"Open In Colab\"/></a>"
      ]
    },
    {
      "cell_type": "code",
      "execution_count": null,
      "metadata": {
        "id": "_Rsx8i41jjNm"
      },
      "outputs": [],
      "source": [
        "# LLAM, 10 / 08 / 2023, CREANDO LA LÓGICA DE UN TEMPORIZADOR\n",
        "\n",
        "import pygame, sys\n",
        "\n",
        "# Setting up pygame\n",
        "\n",
        "pygame.init()\n",
        "screen = pygame.display.set_mode((700,700)) # 700 parece ser la altura adecuada para una interfaz gráfica o videojuego\n",
        "clock = pygame.time.Clock() # Creación del reloj para medir con precisión el tiempo\n",
        "\n",
        "current_time = 0\n",
        "button_press_time = 0\n",
        "\n",
        "while True:\n",
        "    for event in pygame.event.get():\n",
        "        if event.type == pygame.QUIT:\n",
        "            pygame.quit()\n",
        "            sys.exit()\n",
        "        if event.type == pygame.KEYDOWN: # Este ciclo verificará si algún boton fue presionado\n",
        "            button_press_time = pygame.time.get_ticks()\n",
        "            screen.fill((255,255,255)) # Ahora si el programa es ejecutado y se presiona una tecla la pantalla cambia de color\n",
        "\n",
        "\n",
        "    current_time = pygame.time.get_ticks()\n",
        "    #print(current_time) # Con está línea se imprimen en consola los datos referentes al temporizador\n",
        "\n",
        "    if current_time - button_press_time > 2000:\n",
        "        screen.fill((0,0,0))\n",
        "\n",
        "    print(f\"curent time: {current_time} button press time: {button_press_time}\") # Verifica la hora actual y la hora en la cual fue presionada una tecla\n",
        "    pygame.display.flip()\n",
        "    clock.tick(60) # 60 cuadros por segundo\n",
        "    # De momento el programa muestra una pantalla negra de 700x700\n",
        "\n",
        "\n",
        "# Ahora cuando alguna tecla es presionada la pantalla pasa de ser oscura a ser blanca\n",
        "# y tras unos cuantos segundos, la pantalla vuelve a sue estado normal, que es oscuro\n"
      ]
    }
  ]
}