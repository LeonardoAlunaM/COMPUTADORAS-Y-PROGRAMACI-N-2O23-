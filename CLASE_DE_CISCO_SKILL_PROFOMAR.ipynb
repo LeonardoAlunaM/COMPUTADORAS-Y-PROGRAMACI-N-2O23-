{
  "nbformat": 4,
  "nbformat_minor": 0,
  "metadata": {
    "colab": {
      "provenance": [],
      "authorship_tag": "ABX9TyMMcE24sevO/IGoVpGt71xe",
      "include_colab_link": true
    },
    "kernelspec": {
      "name": "python3",
      "display_name": "Python 3"
    },
    "language_info": {
      "name": "python"
    }
  },
  "cells": [
    {
      "cell_type": "markdown",
      "metadata": {
        "id": "view-in-github",
        "colab_type": "text"
      },
      "source": [
        "<a href=\"https://colab.research.google.com/github/LeonardoAlunaM/COMPUTADORAS-Y-PROGRAMACI-N-2O23-/blob/main-COMPUTADORAS-Y-PROGTRAMACI%C3%93N-2023/CLASE_DE_CISCO_SKILL_PROFOMAR.ipynb\" target=\"_parent\"><img src=\"https://colab.research.google.com/assets/colab-badge.svg\" alt=\"Open In Colab\"/></a>"
      ]
    },
    {
      "cell_type": "markdown",
      "source": [
        "Instalando diversos modulos y paquetes\n",
        "* pip --version\n",
        "\n",
        "\n",
        "* pip insall request\n",
        "Bridna llamadas en distintos request\n",
        "\n",
        "pypi.org/project\n",
        "Aquí hay algunas cosas importantes respect de modulos que se pueden instalar en determinado momento\n",
        "\n"
      ],
      "metadata": {
        "id": "GpNjed8cNz1f"
      }
    },
    {
      "cell_type": "code",
      "source": [
        "rest countries, tiene información de todos los países oficiales.\n",
        "\n",
        "servicio rest: Puntos de accesos a distintos accesos o servicios,\n",
        "restcountries.com\n",
        "\n",
        "Se busca como parte de una URL\n",
        "\n",
        "\n",
        "rescountries, contiene varios elementos, como lo son get,"
      ],
      "metadata": {
        "colab": {
          "base_uri": "https://localhost:8080/",
          "height": 130
        },
        "id": "65NdFBt2OoEN",
        "outputId": "a51a1d22-57f9-4668-99f2-c5b78721ea83"
      },
      "execution_count": 2,
      "outputs": [
        {
          "output_type": "error",
          "ename": "SyntaxError",
          "evalue": "ignored",
          "traceback": [
            "\u001b[0;36m  File \u001b[0;32m\"<ipython-input-2-9ae1de304909>\"\u001b[0;36m, line \u001b[0;32m1\u001b[0m\n\u001b[0;31m    rest countries, tiene información de todos los países oficiales.\u001b[0m\n\u001b[0m         ^\u001b[0m\n\u001b[0;31mSyntaxError\u001b[0m\u001b[0;31m:\u001b[0m invalid syntax\n"
          ]
        }
      ]
    },
    {
      "cell_type": "markdown",
      "source": [
        "Se puede buscar alguna informacion sobre mexico"
      ],
      "metadata": {
        "id": "3K-eyTmAPcvZ"
      }
    },
    {
      "cell_type": "code",
      "source": [
        "# instalar REQUEST"
      ],
      "metadata": {
        "id": "OA7PW9c2QGyJ"
      },
      "execution_count": null,
      "outputs": []
    },
    {
      "cell_type": "code",
      "execution_count": 3,
      "metadata": {
        "colab": {
          "base_uri": "https://localhost:8080/",
          "height": 130
        },
        "id": "17-AXvuZM7vQ",
        "outputId": "7b73d7d8-5773-40c0-a517-4247abca3826"
      },
      "outputs": [
        {
          "output_type": "error",
          "ename": "SyntaxError",
          "evalue": "ignored",
          "traceback": [
            "\u001b[0;36m  File \u001b[0;32m\"<ipython-input-3-88b17560224d>\"\u001b[0;36m, line \u001b[0;32m1\u001b[0m\n\u001b[0;31m    from matematica import\u001b[0m\n\u001b[0m                           ^\u001b[0m\n\u001b[0;31mSyntaxError\u001b[0m\u001b[0;31m:\u001b[0m invalid syntax\n"
          ]
        }
      ],
      "source": [
        "from matematica import\n",
        "\n"
      ]
    },
    {
      "cell_type": "code",
      "source": [
        "https://http.cat/"
      ],
      "metadata": {
        "id": "1maO3_NsQxB9"
      },
      "execution_count": null,
      "outputs": []
    },
    {
      "cell_type": "code",
      "source": [
        "http cat"
      ],
      "metadata": {
        "id": "WkcbChxEQmlv"
      },
      "execution_count": null,
      "outputs": []
    },
    {
      "cell_type": "code",
      "source": [
        "# Con esta linea es posible obtener cierta informacion refernete a la repuesta de una llamada a una pagina de internet\n",
        "# La respuesta depende de cada una de las cosas que agreguemos dentro del string\n",
        "import requests\n",
        "r = requests.get('https://http.cat/')# , auth =(''))\n",
        "r.status_code"
      ],
      "metadata": {
        "colab": {
          "base_uri": "https://localhost:8080/"
        },
        "id": "l7lWIocAPboz",
        "outputId": "08378041-9e4c-4792-c737-c78924620db2"
      },
      "execution_count": 4,
      "outputs": [
        {
          "output_type": "execute_result",
          "data": {
            "text/plain": [
              "200"
            ]
          },
          "metadata": {},
          "execution_count": 4
        }
      ]
    }
  ]
}