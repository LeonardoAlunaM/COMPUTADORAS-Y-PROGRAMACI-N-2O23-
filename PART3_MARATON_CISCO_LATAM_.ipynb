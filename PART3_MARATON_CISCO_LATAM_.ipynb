{
  "nbformat": 4,
  "nbformat_minor": 0,
  "metadata": {
    "colab": {
      "provenance": [],
      "authorship_tag": "ABX9TyOGNsuIbQkbc8ZpZv/QEvxH",
      "include_colab_link": true
    },
    "kernelspec": {
      "name": "python3",
      "display_name": "Python 3"
    },
    "language_info": {
      "name": "python"
    }
  },
  "cells": [
    {
      "cell_type": "markdown",
      "metadata": {
        "id": "view-in-github",
        "colab_type": "text"
      },
      "source": [
        "<a href=\"https://colab.research.google.com/github/LeonardoAlunaM/COMPUTADORAS-Y-PROGRAMACI-N-2O23-/blob/main-COMPUTADORAS-Y-PROGTRAMACI%C3%93N-2023/PART3_MARATON_CISCO_LATAM_.ipynb\" target=\"_parent\"><img src=\"https://colab.research.google.com/assets/colab-badge.svg\" alt=\"Open In Colab\"/></a>"
      ]
    },
    {
      "cell_type": "code",
      "execution_count": null,
      "metadata": {
        "colab": {
          "base_uri": "https://localhost:8080/"
        },
        "id": "M8PrSuCaVgcx",
        "outputId": "12368a46-5d08-4953-d239-6649746140f7"
      },
      "outputs": [
        {
          "name": "stdout",
          "output_type": "stream",
          "text": [
            "Ingresa un valor: \n",
            "5\n",
            "Ingresa un valor: \n",
            "4\n",
            "Ingresa un valor: \n",
            "6\n"
          ]
        }
      ],
      "source": [
        "print(\"Ingresa un valor: \")\n",
        "a = int(input())\n",
        "\n",
        "print(\"Ingresa un valor: \")\n",
        "b = int(input())\n",
        "\n",
        "print(\"Ingresa un valor: \")\n",
        "c = int(input())"
      ]
    },
    {
      "cell_type": "code",
      "source": [
        "def message(): print(\"Ingresar valor: \")"
      ],
      "metadata": {
        "id": "H5iWXCfJhMvk"
      },
      "execution_count": null,
      "outputs": []
    },
    {
      "cell_type": "code",
      "source": [
        "def message(): print(\"Ingresar valor: \") \n",
        "print(\"Inicia aqui.\") \n",
        "print(\"Termina aqui.\")"
      ],
      "metadata": {
        "colab": {
          "base_uri": "https://localhost:8080/"
        },
        "id": "KaNazCsthQiR",
        "outputId": "25c71f7a-95d6-4460-c2c0-eca2db6a1891"
      },
      "execution_count": null,
      "outputs": [
        {
          "output_type": "stream",
          "name": "stdout",
          "text": [
            "Inicia aqui.\n",
            "Termina aqui.\n"
          ]
        }
      ]
    },
    {
      "cell_type": "code",
      "source": [
        "def message(): print(\"Ingresar valor: \") print(\"Inicia aqui.\") message() print(\"Termina aqui.\")"
      ],
      "metadata": {
        "colab": {
          "base_uri": "https://localhost:8080/",
          "height": 130
        },
        "id": "tUY6MVXOhdGf",
        "outputId": "9ab5048b-0a49-4dbb-fb57-101cb3150a7a"
      },
      "execution_count": null,
      "outputs": [
        {
          "output_type": "error",
          "ename": "SyntaxError",
          "evalue": "ignored",
          "traceback": [
            "\u001b[0;36m  File \u001b[0;32m\"<ipython-input-6-73281971a30a>\"\u001b[0;36m, line \u001b[0;32m1\u001b[0m\n\u001b[0;31m    def message(): print(\"Ingresar valor: \") print(\"Inicia aqui.\") message() print(\"Termina aqui.\")\u001b[0m\n\u001b[0m                                             ^\u001b[0m\n\u001b[0;31mSyntaxError\u001b[0m\u001b[0;31m:\u001b[0m invalid syntax\n"
          ]
        }
      ]
    },
    {
      "cell_type": "code",
      "source": [
        "print(\"Inicia aqui.\") message() print(\"Termina aqui.\") def message(): print(\"Ingresar valor: \")"
      ],
      "metadata": {
        "colab": {
          "base_uri": "https://localhost:8080/",
          "height": 130
        },
        "id": "MOJfHoSdhd0z",
        "outputId": "74ad3165-d32c-4278-f3b0-34b87c521f63"
      },
      "execution_count": null,
      "outputs": [
        {
          "output_type": "error",
          "ename": "SyntaxError",
          "evalue": "ignored",
          "traceback": [
            "\u001b[0;36m  File \u001b[0;32m\"<ipython-input-7-9a8693a3a148>\"\u001b[0;36m, line \u001b[0;32m1\u001b[0m\n\u001b[0;31m    print(\"Inicia aqui.\") message() print(\"Termina aqui.\") def message(): print(\"Ingresar valor: \")\u001b[0m\n\u001b[0m                          ^\u001b[0m\n\u001b[0;31mSyntaxError\u001b[0m\u001b[0;31m:\u001b[0m invalid syntax\n"
          ]
        }
      ]
    },
    {
      "cell_type": "code",
      "source": [
        "def message(): print(\"Ingresar valor: \") message = 1"
      ],
      "metadata": {
        "colab": {
          "base_uri": "https://localhost:8080/",
          "height": 130
        },
        "id": "9dg2wDexhdyU",
        "outputId": "1f2bd98d-920b-40aa-c6b1-e6f9f310ae8d"
      },
      "execution_count": null,
      "outputs": [
        {
          "output_type": "error",
          "ename": "SyntaxError",
          "evalue": "ignored",
          "traceback": [
            "\u001b[0;36m  File \u001b[0;32m\"<ipython-input-8-026cb7da1c17>\"\u001b[0;36m, line \u001b[0;32m1\u001b[0m\n\u001b[0;31m    def message(): print(\"Ingresar valor: \") message = 1\u001b[0m\n\u001b[0m                                             ^\u001b[0m\n\u001b[0;31mSyntaxError\u001b[0m\u001b[0;31m:\u001b[0m invalid syntax\n"
          ]
        }
      ]
    },
    {
      "cell_type": "code",
      "source": [
        "print(\"Comienza aqui.\") def message(): print(\"Ingresar valor: \") message() print(\"Termina aqui.\")"
      ],
      "metadata": {
        "colab": {
          "base_uri": "https://localhost:8080/",
          "height": 130
        },
        "id": "Bi40oVRRhdu6",
        "outputId": "6795a8a7-fb92-4b1d-ff99-acad0e1c6ddd"
      },
      "execution_count": null,
      "outputs": [
        {
          "output_type": "error",
          "ename": "SyntaxError",
          "evalue": "ignored",
          "traceback": [
            "\u001b[0;36m  File \u001b[0;32m\"<ipython-input-9-f2800f72dd32>\"\u001b[0;36m, line \u001b[0;32m1\u001b[0m\n\u001b[0;31m    print(\"Comienza aqui.\") def message(): print(\"Ingresar valor: \") message() print(\"Termina aqui.\")\u001b[0m\n\u001b[0m                            ^\u001b[0m\n\u001b[0;31mSyntaxError\u001b[0m\u001b[0;31m:\u001b[0m invalid syntax\n"
          ]
        }
      ]
    },
    {
      "cell_type": "code",
      "source": [
        "def message(): print(\"Ingresar valor: \") message() a = int(input()) message() b = int(input()) message() c = int(input())"
      ],
      "metadata": {
        "colab": {
          "base_uri": "https://localhost:8080/",
          "height": 130
        },
        "id": "j5vH17QDhdqc",
        "outputId": "4ef41a70-3001-415f-fff6-ca3d314e25dc"
      },
      "execution_count": null,
      "outputs": [
        {
          "output_type": "error",
          "ename": "SyntaxError",
          "evalue": "ignored",
          "traceback": [
            "\u001b[0;36m  File \u001b[0;32m\"<ipython-input-10-499cd04556d9>\"\u001b[0;36m, line \u001b[0;32m1\u001b[0m\n\u001b[0;31m    def message(): print(\"Ingresar valor: \") message() a = int(input()) message() b = int(input()) message() c = int(input())\u001b[0m\n\u001b[0m                                             ^\u001b[0m\n\u001b[0;31mSyntaxError\u001b[0m\u001b[0;31m:\u001b[0m invalid syntax\n"
          ]
        }
      ]
    },
    {
      "cell_type": "code",
      "source": [
        "def message(): # definiendo una función print(\"Hello\") # cuerpo de la función message() # invocación de la función"
      ],
      "metadata": {
        "colab": {
          "base_uri": "https://localhost:8080/",
          "height": 130
        },
        "id": "S1LUaQwihdoR",
        "outputId": "0bea7476-fbca-4b99-8765-81e33057a728"
      },
      "execution_count": null,
      "outputs": [
        {
          "output_type": "error",
          "ename": "SyntaxError",
          "evalue": "ignored",
          "traceback": [
            "\u001b[0;36m  File \u001b[0;32m\"<ipython-input-11-da06dc2cc58b>\"\u001b[0;36m, line \u001b[0;32m1\u001b[0m\n\u001b[0;31m    def message(): # definiendo una función print(\"Hello\") # cuerpo de la función message() # invocación de la función\u001b[0m\n\u001b[0m                                                                                                                      ^\u001b[0m\n\u001b[0;31mSyntaxError\u001b[0m\u001b[0;31m:\u001b[0m incomplete input\n"
          ]
        }
      ]
    },
    {
      "cell_type": "code",
      "source": [
        "def hello(name): # definiendo una función print(\"Hello,\", name) # cuerpo de la función name = input(\"Ingresa tu nombre: \") hello(name) # invocación de la función"
      ],
      "metadata": {
        "colab": {
          "base_uri": "https://localhost:8080/",
          "height": 165
        },
        "id": "yIIUTp5Ehdlc",
        "outputId": "70023e8a-3ad7-4dac-e592-59bd4706dbb1"
      },
      "execution_count": null,
      "outputs": [
        {
          "output_type": "error",
          "ename": "SyntaxError",
          "evalue": "ignored",
          "traceback": [
            "\u001b[0;36m  File \u001b[0;32m\"<ipython-input-12-9e907517102c>\"\u001b[0;36m, line \u001b[0;32m1\u001b[0m\n\u001b[0;31m    def hello(name): # definiendo una función print(\"Hello,\", name) # cuerpo de la función name = input(\"Ingresa tu nombre: \") hello(name) # invocación de la función\u001b[0m\n\u001b[0m                                                                                                                                                                     ^\u001b[0m\n\u001b[0;31mSyntaxError\u001b[0m\u001b[0;31m:\u001b[0m incomplete input\n"
          ]
        }
      ]
    },
    {
      "cell_type": "code",
      "source": [
        "def message(number):\n",
        "    print(\"Ingresa un número:\", number)\n",
        " "
      ],
      "metadata": {
        "id": "1s-LUE6Xh2nw"
      },
      "execution_count": 1,
      "outputs": []
    },
    {
      "cell_type": "code",
      "source": [
        "def message(number):\n",
        "    print(\"Ingresa un número:\", number)\n",
        "\n",
        "message()\n"
      ],
      "metadata": {
        "id": "GMTWoC0Uh2lL",
        "colab": {
          "base_uri": "https://localhost:8080/",
          "height": 200
        },
        "outputId": "e9dc86e5-3121-4038-e877-83b5246d269a"
      },
      "execution_count": 2,
      "outputs": [
        {
          "output_type": "error",
          "ename": "TypeError",
          "evalue": "ignored",
          "traceback": [
            "\u001b[0;31m---------------------------------------------------------------------------\u001b[0m",
            "\u001b[0;31mTypeError\u001b[0m                                 Traceback (most recent call last)",
            "\u001b[0;32m<ipython-input-2-0a6c3f3a4df9>\u001b[0m in \u001b[0;36m<cell line: 4>\u001b[0;34m()\u001b[0m\n\u001b[1;32m      2\u001b[0m     \u001b[0mprint\u001b[0m\u001b[0;34m(\u001b[0m\u001b[0;34m\"Ingresa un número:\"\u001b[0m\u001b[0;34m,\u001b[0m \u001b[0mnumber\u001b[0m\u001b[0;34m)\u001b[0m\u001b[0;34m\u001b[0m\u001b[0;34m\u001b[0m\u001b[0m\n\u001b[1;32m      3\u001b[0m \u001b[0;34m\u001b[0m\u001b[0m\n\u001b[0;32m----> 4\u001b[0;31m \u001b[0mmessage\u001b[0m\u001b[0;34m(\u001b[0m\u001b[0;34m)\u001b[0m\u001b[0;34m\u001b[0m\u001b[0;34m\u001b[0m\u001b[0m\n\u001b[0m",
            "\u001b[0;31mTypeError\u001b[0m: message() missing 1 required positional argument: 'number'"
          ]
        }
      ]
    },
    {
      "cell_type": "code",
      "source": [
        "def message(number):\n",
        "    print(\"Ingresa un número:\", number)\n",
        " \n",
        "message(1)"
      ],
      "metadata": {
        "id": "CIQV7Yqgh2ii",
        "colab": {
          "base_uri": "https://localhost:8080/"
        },
        "outputId": "704a18c7-3651-4bcc-c2d2-9e4ebad046c3"
      },
      "execution_count": 3,
      "outputs": [
        {
          "output_type": "stream",
          "name": "stdout",
          "text": [
            "Ingresa un número: 1\n"
          ]
        }
      ]
    },
    {
      "cell_type": "code",
      "source": [
        "def message(number):\n",
        "    print(\"Ingresa un número:\", number)\n",
        " \n",
        "number = 1234\n",
        "message(1)\n",
        "print(number)"
      ],
      "metadata": {
        "id": "hgWj1AaAh2f5",
        "colab": {
          "base_uri": "https://localhost:8080/"
        },
        "outputId": "3e94dcb8-cff2-452c-f85e-43331ba004eb"
      },
      "execution_count": 4,
      "outputs": [
        {
          "output_type": "stream",
          "name": "stdout",
          "text": [
            "Ingresa un número: 1\n",
            "1234\n"
          ]
        }
      ]
    },
    {
      "cell_type": "code",
      "source": [
        "def message(what, number):\n",
        "    print(\"Ingresa\", what, \"número\", number)\n",
        " \n",
        "message(\"teléfono\", 11)\n",
        "message(\"precio\", 5)\n",
        "message(\"número\", \"number\")"
      ],
      "metadata": {
        "id": "le-mrsVrh2cz",
        "colab": {
          "base_uri": "https://localhost:8080/"
        },
        "outputId": "36c614f0-3514-4855-fb0d-a63064dc5806"
      },
      "execution_count": 5,
      "outputs": [
        {
          "output_type": "stream",
          "name": "stdout",
          "text": [
            "Ingresa teléfono número 11\n",
            "Ingresa precio número 5\n",
            "Ingresa número número number\n"
          ]
        }
      ]
    },
    {
      "cell_type": "code",
      "source": [
        "def my_function(a, b, c):\n",
        "    print(a, b, c)\n",
        " \n",
        "my_function(1, 2, 3)"
      ],
      "metadata": {
        "id": "p490LKw9h2a7",
        "colab": {
          "base_uri": "https://localhost:8080/"
        },
        "outputId": "2eeffdf4-39b3-4d87-ccce-056f1103e4d5"
      },
      "execution_count": 6,
      "outputs": [
        {
          "output_type": "stream",
          "name": "stdout",
          "text": [
            "1 2 3\n"
          ]
        }
      ]
    },
    {
      "cell_type": "code",
      "source": [
        "def introduction(first_name, last_name):\n",
        "    print(\"Hola, mi nombre es\", first_name, last_name)\n",
        " \n",
        "introduction(\"Luke\", \"Skywalker\")\n",
        "introduction(\"Jesse\", \"Quick\")\n",
        "introduction(\"Clark\", \"Kent\")\n",
        " "
      ],
      "metadata": {
        "id": "tQS-YRW3h2XB",
        "colab": {
          "base_uri": "https://localhost:8080/"
        },
        "outputId": "be1e3528-91b3-4394-c777-4236208dddd6"
      },
      "execution_count": 7,
      "outputs": [
        {
          "output_type": "stream",
          "name": "stdout",
          "text": [
            "Hola, mi nombre es Luke Skywalker\n",
            "Hola, mi nombre es Jesse Quick\n",
            "Hola, mi nombre es Clark Kent\n"
          ]
        }
      ]
    },
    {
      "cell_type": "code",
      "source": [
        "def introduction(first_name, last_name):\n",
        "    print(\"Hola, mi nombre es\", first_name, last_name)\n",
        " \n",
        "introduction(\"Skywalker\", \"Luke\")\n",
        "introduction(\"Quick\", \"Jesse\")\n",
        "introduction(\"Kent\", \"Clark\")"
      ],
      "metadata": {
        "id": "h6_OzKAVh2RZ",
        "colab": {
          "base_uri": "https://localhost:8080/"
        },
        "outputId": "9cfb9eee-87ba-4afb-c540-5869e17dc1a6"
      },
      "execution_count": 8,
      "outputs": [
        {
          "output_type": "stream",
          "name": "stdout",
          "text": [
            "Hola, mi nombre es Skywalker Luke\n",
            "Hola, mi nombre es Quick Jesse\n",
            "Hola, mi nombre es Kent Clark\n"
          ]
        }
      ]
    },
    {
      "cell_type": "code",
      "source": [
        "def introduction(first_name, last_name):\n",
        "    print(\"Hola, mi nombre es\", first_name, last_name)\n",
        " \n",
        "introduction(first_name = \"James\", last_name = \"Bond\")\n",
        "introduction(last_name = \"Skywalker\", first_name = \"Luke\")"
      ],
      "metadata": {
        "id": "rnqzikK9h2O8",
        "colab": {
          "base_uri": "https://localhost:8080/"
        },
        "outputId": "66ce3308-d739-4bbe-c4cb-b60f71b33473"
      },
      "execution_count": 9,
      "outputs": [
        {
          "output_type": "stream",
          "name": "stdout",
          "text": [
            "Hola, mi nombre es James Bond\n",
            "Hola, mi nombre es Luke Skywalker\n"
          ]
        }
      ]
    },
    {
      "cell_type": "code",
      "source": [
        "def introduction(first_name, last_name):\n",
        "    print(\"Hola, mi nombre es\", first_name, last_name)\n",
        " \n",
        "introduction(surname=\"Skywalker\", first_name=\"Luke\")"
      ],
      "metadata": {
        "id": "5Ec91pn3h2MG",
        "colab": {
          "base_uri": "https://localhost:8080/",
          "height": 200
        },
        "outputId": "d649bba9-fad5-4028-9393-07e7a9a61d7e"
      },
      "execution_count": 10,
      "outputs": [
        {
          "output_type": "error",
          "ename": "TypeError",
          "evalue": "ignored",
          "traceback": [
            "\u001b[0;31m---------------------------------------------------------------------------\u001b[0m",
            "\u001b[0;31mTypeError\u001b[0m                                 Traceback (most recent call last)",
            "\u001b[0;32m<ipython-input-10-f1046bfe07de>\u001b[0m in \u001b[0;36m<cell line: 4>\u001b[0;34m()\u001b[0m\n\u001b[1;32m      2\u001b[0m     \u001b[0mprint\u001b[0m\u001b[0;34m(\u001b[0m\u001b[0;34m\"Hola, mi nombre es\"\u001b[0m\u001b[0;34m,\u001b[0m \u001b[0mfirst_name\u001b[0m\u001b[0;34m,\u001b[0m \u001b[0mlast_name\u001b[0m\u001b[0;34m)\u001b[0m\u001b[0;34m\u001b[0m\u001b[0;34m\u001b[0m\u001b[0m\n\u001b[1;32m      3\u001b[0m \u001b[0;34m\u001b[0m\u001b[0m\n\u001b[0;32m----> 4\u001b[0;31m \u001b[0mintroduction\u001b[0m\u001b[0;34m(\u001b[0m\u001b[0msurname\u001b[0m\u001b[0;34m=\u001b[0m\u001b[0;34m\"Skywalker\"\u001b[0m\u001b[0;34m,\u001b[0m \u001b[0mfirst_name\u001b[0m\u001b[0;34m=\u001b[0m\u001b[0;34m\"Luke\"\u001b[0m\u001b[0;34m)\u001b[0m\u001b[0;34m\u001b[0m\u001b[0;34m\u001b[0m\u001b[0m\n\u001b[0m",
            "\u001b[0;31mTypeError\u001b[0m: introduction() got an unexpected keyword argument 'surname'"
          ]
        }
      ]
    },
    {
      "cell_type": "code",
      "source": [
        "def adding(a, b, c):\n",
        "    print(a, \"+\", b, \"+\", c, \"=\", a + b + c)\n",
        " "
      ],
      "metadata": {
        "id": "LEdqRL9phdJg"
      },
      "execution_count": 11,
      "outputs": []
    },
    {
      "cell_type": "code",
      "source": [
        "adding(1, 2, 3)"
      ],
      "metadata": {
        "colab": {
          "base_uri": "https://localhost:8080/"
        },
        "id": "DLj_4143Onkb",
        "outputId": "9bea4cae-e172-4d56-a862-87f1f399645c"
      },
      "execution_count": 12,
      "outputs": [
        {
          "output_type": "stream",
          "name": "stdout",
          "text": [
            "1 + 2 + 3 = 6\n"
          ]
        }
      ]
    },
    {
      "cell_type": "code",
      "source": [
        "adding(c = 1, a = 2, b = 3)"
      ],
      "metadata": {
        "colab": {
          "base_uri": "https://localhost:8080/"
        },
        "id": "WrP3SA1LOnf2",
        "outputId": "ce17572f-edd0-4ed3-ed8b-c367d8017b82"
      },
      "execution_count": 13,
      "outputs": [
        {
          "output_type": "stream",
          "name": "stdout",
          "text": [
            "2 + 3 + 1 = 6\n"
          ]
        }
      ]
    },
    {
      "cell_type": "code",
      "source": [
        "adding(3, c = 1, b = 2)"
      ],
      "metadata": {
        "colab": {
          "base_uri": "https://localhost:8080/"
        },
        "id": "s61oz0zzOneQ",
        "outputId": "da1f0786-3a0e-4518-a59e-f31e69c2d1b4"
      },
      "execution_count": 14,
      "outputs": [
        {
          "output_type": "stream",
          "name": "stdout",
          "text": [
            "3 + 2 + 1 = 6\n"
          ]
        }
      ]
    },
    {
      "cell_type": "code",
      "source": [
        "adding(3, a = 1, b = 2)"
      ],
      "metadata": {
        "colab": {
          "base_uri": "https://localhost:8080/",
          "height": 165
        },
        "id": "Ihl2oZtOOnaj",
        "outputId": "f2adc6c8-c702-4cf4-d8ac-8320ac375a8f"
      },
      "execution_count": 15,
      "outputs": [
        {
          "output_type": "error",
          "ename": "TypeError",
          "evalue": "ignored",
          "traceback": [
            "\u001b[0;31m---------------------------------------------------------------------------\u001b[0m",
            "\u001b[0;31mTypeError\u001b[0m                                 Traceback (most recent call last)",
            "\u001b[0;32m<ipython-input-15-21a8e7d19d07>\u001b[0m in \u001b[0;36m<cell line: 1>\u001b[0;34m()\u001b[0m\n\u001b[0;32m----> 1\u001b[0;31m \u001b[0madding\u001b[0m\u001b[0;34m(\u001b[0m\u001b[0;36m3\u001b[0m\u001b[0;34m,\u001b[0m \u001b[0ma\u001b[0m \u001b[0;34m=\u001b[0m \u001b[0;36m1\u001b[0m\u001b[0;34m,\u001b[0m \u001b[0mb\u001b[0m \u001b[0;34m=\u001b[0m \u001b[0;36m2\u001b[0m\u001b[0;34m)\u001b[0m\u001b[0;34m\u001b[0m\u001b[0;34m\u001b[0m\u001b[0m\n\u001b[0m",
            "\u001b[0;31mTypeError\u001b[0m: adding() got multiple values for argument 'a'"
          ]
        }
      ]
    },
    {
      "cell_type": "code",
      "source": [
        "adding(4, 3, c = 2)\n",
        " "
      ],
      "metadata": {
        "colab": {
          "base_uri": "https://localhost:8080/"
        },
        "id": "sd5L7mv0OnZC",
        "outputId": "1ac89254-4e04-4d7f-a5aa-a5d00c1b8c8f"
      },
      "execution_count": 16,
      "outputs": [
        {
          "output_type": "stream",
          "name": "stdout",
          "text": [
            "4 + 3 + 2 = 9\n"
          ]
        }
      ]
    },
    {
      "cell_type": "code",
      "source": [
        "def introduction(first_name, last_name=\"Smith\"):\n",
        "     print(\"Hola, mi nombre es\", first_name, last_name)"
      ],
      "metadata": {
        "id": "gs9qfWt3OnWS"
      },
      "execution_count": 20,
      "outputs": []
    },
    {
      "cell_type": "code",
      "source": [
        " introduction(\"Jorge\", \"Pérez\")\n"
      ],
      "metadata": {
        "colab": {
          "base_uri": "https://localhost:8080/"
        },
        "id": "a80gpUWsOnUO",
        "outputId": "65d14f1f-11ae-484f-fa61-e03e49af5f49"
      },
      "execution_count": 21,
      "outputs": [
        {
          "output_type": "stream",
          "name": "stdout",
          "text": [
            "Hola, mi nombre es Jorge Pérez\n"
          ]
        }
      ]
    },
    {
      "cell_type": "code",
      "source": [
        "introduction(\"Enrique\")"
      ],
      "metadata": {
        "colab": {
          "base_uri": "https://localhost:8080/"
        },
        "id": "ZS6afrWoOnQT",
        "outputId": "a26d3eae-ae23-46e9-8f7a-5659091b6cc0"
      },
      "execution_count": 22,
      "outputs": [
        {
          "output_type": "stream",
          "name": "stdout",
          "text": [
            "Hola, mi nombre es Enrique Smith\n"
          ]
        }
      ]
    },
    {
      "cell_type": "code",
      "source": [
        "introduction(first_name=\"Guillermo\")"
      ],
      "metadata": {
        "colab": {
          "base_uri": "https://localhost:8080/"
        },
        "id": "_hu25Tr8OnOx",
        "outputId": "cf3137fc-16eb-48cc-9367-603c4f7b6db9"
      },
      "execution_count": 23,
      "outputs": [
        {
          "output_type": "stream",
          "name": "stdout",
          "text": [
            "Hola, mi nombre es Guillermo Smith\n"
          ]
        }
      ]
    },
    {
      "cell_type": "code",
      "source": [
        "def introduction(first_name=\"Juan\", last_name=\"González\"):\n",
        "    print(\"Hola, mi nombre es\", first_name, last_name)"
      ],
      "metadata": {
        "id": "ajHIIdQxPGeI"
      },
      "execution_count": 24,
      "outputs": []
    },
    {
      "cell_type": "code",
      "source": [
        "introduction()"
      ],
      "metadata": {
        "colab": {
          "base_uri": "https://localhost:8080/"
        },
        "id": "Wysrvrd4PGZd",
        "outputId": "20996dce-6dbf-4f23-9386-6a056c4c139d"
      },
      "execution_count": 25,
      "outputs": [
        {
          "output_type": "stream",
          "name": "stdout",
          "text": [
            "Hola, mi nombre es Juan González\n"
          ]
        }
      ]
    },
    {
      "cell_type": "code",
      "source": [
        "introduction(last_name=\"Rodríguez\")"
      ],
      "metadata": {
        "colab": {
          "base_uri": "https://localhost:8080/"
        },
        "id": "Xr9dsW6MPGXm",
        "outputId": "7cac1d36-f160-4ed2-f4d0-659fd091dc25"
      },
      "execution_count": 26,
      "outputs": [
        {
          "output_type": "stream",
          "name": "stdout",
          "text": [
            "Hola, mi nombre es Juan Rodríguez\n"
          ]
        }
      ]
    },
    {
      "cell_type": "code",
      "source": [
        "def hi(name):\n",
        "    print(\"Hola,\", name)\n",
        " \n",
        "hi(\"Greg\")"
      ],
      "metadata": {
        "colab": {
          "base_uri": "https://localhost:8080/"
        },
        "id": "OBX9cIcDPGVa",
        "outputId": "43ea0c98-5354-4acf-c805-26b62788767a"
      },
      "execution_count": 27,
      "outputs": [
        {
          "output_type": "stream",
          "name": "stdout",
          "text": [
            "Hola, Greg\n"
          ]
        }
      ]
    },
    {
      "cell_type": "code",
      "source": [
        "def hi_all(name_1, name_2):\n",
        "    print(\"Hola,\", name_2)\n",
        "    print(\"Hola,\", name_1)\n",
        " \n",
        "hi_all(\"Sebastián\", \"Konrad\")"
      ],
      "metadata": {
        "colab": {
          "base_uri": "https://localhost:8080/"
        },
        "id": "xpEkxPFSPGTQ",
        "outputId": "03342bce-ba55-4431-8be0-a61553843b5a"
      },
      "execution_count": 28,
      "outputs": [
        {
          "output_type": "stream",
          "name": "stdout",
          "text": [
            "Hola, Konrad\n",
            "Hola, Sebastián\n"
          ]
        }
      ]
    },
    {
      "cell_type": "code",
      "source": [
        "def address(street, city, postal_code):\n",
        "    print(\"Tu dirección es:\", street,\"St.,\", city, postal_code)\n",
        " \n",
        "s = input(\"Calle: \")\n",
        "p_c = input(\"Código Postal: \")\n",
        "c = input(\"Ciudad: \")\n",
        "address(s, c, p_c)\n",
        " "
      ],
      "metadata": {
        "colab": {
          "base_uri": "https://localhost:8080/"
        },
        "id": "sgg1EwLBPm0W",
        "outputId": "65ba4db4-c9c3-4369-9394-018734e0044b"
      },
      "execution_count": 29,
      "outputs": [
        {
          "output_type": "stream",
          "name": "stdout",
          "text": [
            "Calle: 6\n",
            "Código Postal: 453\n",
            "Ciudad: mexico\n",
            "Tu dirección es: 6 St., mexico 453\n"
          ]
        }
      ]
    },
    {
      "cell_type": "code",
      "source": [
        "#Ejemplo 1\n",
        "def subtra(a, b):\n",
        "    print(a - b)\n",
        " \n",
        "subtra(5, 2) # salida: 3\n",
        "subtra(2, 5) # salida: -3\n",
        " \n",
        " \n",
        "#Ejemplo 2\n",
        "def subtra(a, b):\n",
        "    print(a - b)\n",
        " \n",
        "subtra(a=5, b=2) # salida: 3\n",
        "subtra(b=2, a=5) # salida: 3\n",
        " \n",
        "#Ex. 3\n",
        "def subtra(a, b):\n",
        "    print(a - b)\n",
        " \n",
        "subtra(5, b=2) # salida: 3\n",
        "subtra(5, 2) # salida: 3"
      ],
      "metadata": {
        "colab": {
          "base_uri": "https://localhost:8080/"
        },
        "id": "-FnhK3rGPmtA",
        "outputId": "da6dd65e-9e0d-4e72-d26e-b4ccd483caba"
      },
      "execution_count": 31,
      "outputs": [
        {
          "output_type": "stream",
          "name": "stdout",
          "text": [
            "3\n",
            "-3\n",
            "3\n",
            "3\n",
            "3\n",
            "3\n"
          ]
        }
      ]
    },
    {
      "cell_type": "code",
      "source": [
        "def subtra(a, b):\n",
        "    print(a - b)\n",
        " \n",
        "subtra(5, b=2) # salida: 3\n",
        "subtra(a=5, 2) # Syntax Error"
      ],
      "metadata": {
        "colab": {
          "base_uri": "https://localhost:8080/",
          "height": 130
        },
        "id": "LDox7kkEPmfW",
        "outputId": "572a4506-a6dd-43e0-cdef-38cc65f49152"
      },
      "execution_count": 32,
      "outputs": [
        {
          "output_type": "error",
          "ename": "SyntaxError",
          "evalue": "ignored",
          "traceback": [
            "\u001b[0;36m  File \u001b[0;32m\"<ipython-input-32-1c8db4282b73>\"\u001b[0;36m, line \u001b[0;32m5\u001b[0m\n\u001b[0;31m    subtra(a=5, 2) # Syntax Error\u001b[0m\n\u001b[0m                 ^\u001b[0m\n\u001b[0;31mSyntaxError\u001b[0m\u001b[0;31m:\u001b[0m positional argument follows keyword argument\n"
          ]
        }
      ]
    },
    {
      "cell_type": "code",
      "source": [
        "def name(first_name, last_name=\"Pérez\"):\n",
        "    print(first_name, last_name)\n",
        " \n",
        "name(\"Andy\") # salida: Andy Pérez\n",
        "name(\"Bety\", \"Rodríguez\") # salida: Bety Rodríguez (el argumento de palabra clave es reemplazado por \"Rodríguez"
      ],
      "metadata": {
        "colab": {
          "base_uri": "https://localhost:8080/"
        },
        "id": "o5iCmjZ7Pma6",
        "outputId": "a8406583-819d-4541-b748-555e519028bd"
      },
      "execution_count": 33,
      "outputs": [
        {
          "output_type": "stream",
          "name": "stdout",
          "text": [
            "Andy Pérez\n",
            "Bety Rodríguez\n"
          ]
        }
      ]
    },
    {
      "cell_type": "code",
      "source": [
        "def intro(a=\"James Bond\", b=\"Bond\"):\n",
        "     print(\"Mi nombre es\", b + \".\", a + \".\")\n",
        " \n",
        "intro()"
      ],
      "metadata": {
        "colab": {
          "base_uri": "https://localhost:8080/"
        },
        "id": "GLCyc24nPmZJ",
        "outputId": "140fbe51-837c-4b10-a44b-bc65c9d4dd67"
      },
      "execution_count": 34,
      "outputs": [
        {
          "output_type": "stream",
          "name": "stdout",
          "text": [
            "Mi nombre es Bond. James Bond.\n"
          ]
        }
      ]
    },
    {
      "cell_type": "code",
      "source": [
        "def intro(a=\"James Bond\", b=\"Bond\"):\n",
        "    print(\"Mi nombre es\", b + \".\", a + \".\")\n",
        " \n",
        "intro(b=\"Sean Connery\")"
      ],
      "metadata": {
        "colab": {
          "base_uri": "https://localhost:8080/"
        },
        "id": "Pt5YmO1BPmVF",
        "outputId": "059a1340-335d-4bd5-8774-b441e4e56daf"
      },
      "execution_count": 35,
      "outputs": [
        {
          "output_type": "stream",
          "name": "stdout",
          "text": [
            "Mi nombre es Sean Connery. James Bond.\n"
          ]
        }
      ]
    },
    {
      "cell_type": "code",
      "source": [
        "def intro(a, b=\"Bond\"):\n",
        "    print(\"Mi nombre es\", b + \".\", a + \".\")\n",
        " \n",
        "intro(\"Susan\")"
      ],
      "metadata": {
        "colab": {
          "base_uri": "https://localhost:8080/"
        },
        "id": "w4SOP4EGPmRr",
        "outputId": "66fd8b4f-1827-4671-f7f3-eb5e58e9071e"
      },
      "execution_count": 36,
      "outputs": [
        {
          "output_type": "stream",
          "name": "stdout",
          "text": [
            "Mi nombre es Bond. Susan.\n"
          ]
        }
      ]
    },
    {
      "cell_type": "code",
      "source": [
        "def add_numbers(a, b=2, c):\n",
        "    print(a + b + c)\n",
        " \n",
        "add_numbers(a=1, c=3)"
      ],
      "metadata": {
        "colab": {
          "base_uri": "https://localhost:8080/",
          "height": 130
        },
        "id": "tiv-bS7PPmMx",
        "outputId": "3b8a830d-c45f-4a0b-e433-1340690ef664"
      },
      "execution_count": 37,
      "outputs": [
        {
          "output_type": "error",
          "ename": "SyntaxError",
          "evalue": "ignored",
          "traceback": [
            "\u001b[0;36m  File \u001b[0;32m\"<ipython-input-37-290e7a83a5a0>\"\u001b[0;36m, line \u001b[0;32m1\u001b[0m\n\u001b[0;31m    def add_numbers(a, b=2, c):\u001b[0m\n\u001b[0m                            ^\u001b[0m\n\u001b[0;31mSyntaxError\u001b[0m\u001b[0;31m:\u001b[0m non-default argument follows default argument\n"
          ]
        }
      ]
    },
    {
      "cell_type": "code",
      "source": [],
      "metadata": {
        "id": "rpy9pEN-PmI-"
      },
      "execution_count": null,
      "outputs": []
    },
    {
      "cell_type": "code",
      "source": [],
      "metadata": {
        "id": "hsNlpiyVPmFC"
      },
      "execution_count": null,
      "outputs": []
    },
    {
      "cell_type": "code",
      "source": [],
      "metadata": {
        "id": "XpdY0rJ5PmAm"
      },
      "execution_count": null,
      "outputs": []
    },
    {
      "cell_type": "code",
      "source": [],
      "metadata": {
        "id": "RiEeiBbuPGQ2"
      },
      "execution_count": null,
      "outputs": []
    },
    {
      "cell_type": "code",
      "source": [],
      "metadata": {
        "id": "2k-HBktNPGOD"
      },
      "execution_count": null,
      "outputs": []
    }
  ]
}