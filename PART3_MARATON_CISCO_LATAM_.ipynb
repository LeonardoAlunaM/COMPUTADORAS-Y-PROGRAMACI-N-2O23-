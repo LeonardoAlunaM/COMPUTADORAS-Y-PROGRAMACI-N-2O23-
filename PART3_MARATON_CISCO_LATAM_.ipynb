{
  "nbformat": 4,
  "nbformat_minor": 0,
  "metadata": {
    "colab": {
      "provenance": [],
      "authorship_tag": "ABX9TyOPWpXOVBg1MNkR9XOws+mE",
      "include_colab_link": true
    },
    "kernelspec": {
      "name": "python3",
      "display_name": "Python 3"
    },
    "language_info": {
      "name": "python"
    }
  },
  "cells": [
    {
      "cell_type": "markdown",
      "metadata": {
        "id": "view-in-github",
        "colab_type": "text"
      },
      "source": [
        "<a href=\"https://colab.research.google.com/github/LeonardoAlunaM/COMPUTADORAS-Y-PROGRAMACI-N-2O23-/blob/main-COMPUTADORAS-Y-PROGTRAMACI%C3%93N-2023/PART3_MARATON_CISCO_LATAM_.ipynb\" target=\"_parent\"><img src=\"https://colab.research.google.com/assets/colab-badge.svg\" alt=\"Open In Colab\"/></a>"
      ]
    },
    {
      "cell_type": "code",
      "execution_count": 1,
      "metadata": {
        "colab": {
          "base_uri": "https://localhost:8080/"
        },
        "id": "M8PrSuCaVgcx",
        "outputId": "12368a46-5d08-4953-d239-6649746140f7"
      },
      "outputs": [
        {
          "name": "stdout",
          "output_type": "stream",
          "text": [
            "Ingresa un valor: \n",
            "5\n",
            "Ingresa un valor: \n",
            "4\n",
            "Ingresa un valor: \n",
            "6\n"
          ]
        }
      ],
      "source": [
        "print(\"Ingresa un valor: \")\n",
        "a = int(input())\n",
        "\n",
        "print(\"Ingresa un valor: \")\n",
        "b = int(input())\n",
        "\n",
        "print(\"Ingresa un valor: \")\n",
        "c = int(input())"
      ]
    },
    {
      "cell_type": "code",
      "source": [
        "def message(): print(\"Ingresar valor: \")"
      ],
      "metadata": {
        "id": "H5iWXCfJhMvk"
      },
      "execution_count": 2,
      "outputs": []
    },
    {
      "cell_type": "code",
      "source": [
        "def message(): print(\"Ingresar valor: \") \n",
        "print(\"Inicia aqui.\") \n",
        "print(\"Termina aqui.\")"
      ],
      "metadata": {
        "colab": {
          "base_uri": "https://localhost:8080/"
        },
        "id": "KaNazCsthQiR",
        "outputId": "25c71f7a-95d6-4460-c2c0-eca2db6a1891"
      },
      "execution_count": 5,
      "outputs": [
        {
          "output_type": "stream",
          "name": "stdout",
          "text": [
            "Inicia aqui.\n",
            "Termina aqui.\n"
          ]
        }
      ]
    },
    {
      "cell_type": "code",
      "source": [
        "def message(): print(\"Ingresar valor: \") print(\"Inicia aqui.\") message() print(\"Termina aqui.\")"
      ],
      "metadata": {
        "colab": {
          "base_uri": "https://localhost:8080/",
          "height": 130
        },
        "id": "tUY6MVXOhdGf",
        "outputId": "9ab5048b-0a49-4dbb-fb57-101cb3150a7a"
      },
      "execution_count": 6,
      "outputs": [
        {
          "output_type": "error",
          "ename": "SyntaxError",
          "evalue": "ignored",
          "traceback": [
            "\u001b[0;36m  File \u001b[0;32m\"<ipython-input-6-73281971a30a>\"\u001b[0;36m, line \u001b[0;32m1\u001b[0m\n\u001b[0;31m    def message(): print(\"Ingresar valor: \") print(\"Inicia aqui.\") message() print(\"Termina aqui.\")\u001b[0m\n\u001b[0m                                             ^\u001b[0m\n\u001b[0;31mSyntaxError\u001b[0m\u001b[0;31m:\u001b[0m invalid syntax\n"
          ]
        }
      ]
    },
    {
      "cell_type": "code",
      "source": [
        "print(\"Inicia aqui.\") message() print(\"Termina aqui.\") def message(): print(\"Ingresar valor: \")"
      ],
      "metadata": {
        "colab": {
          "base_uri": "https://localhost:8080/",
          "height": 130
        },
        "id": "MOJfHoSdhd0z",
        "outputId": "74ad3165-d32c-4278-f3b0-34b87c521f63"
      },
      "execution_count": 7,
      "outputs": [
        {
          "output_type": "error",
          "ename": "SyntaxError",
          "evalue": "ignored",
          "traceback": [
            "\u001b[0;36m  File \u001b[0;32m\"<ipython-input-7-9a8693a3a148>\"\u001b[0;36m, line \u001b[0;32m1\u001b[0m\n\u001b[0;31m    print(\"Inicia aqui.\") message() print(\"Termina aqui.\") def message(): print(\"Ingresar valor: \")\u001b[0m\n\u001b[0m                          ^\u001b[0m\n\u001b[0;31mSyntaxError\u001b[0m\u001b[0;31m:\u001b[0m invalid syntax\n"
          ]
        }
      ]
    },
    {
      "cell_type": "code",
      "source": [
        "def message(): print(\"Ingresar valor: \") message = 1"
      ],
      "metadata": {
        "colab": {
          "base_uri": "https://localhost:8080/",
          "height": 130
        },
        "id": "9dg2wDexhdyU",
        "outputId": "1f2bd98d-920b-40aa-c6b1-e6f9f310ae8d"
      },
      "execution_count": 8,
      "outputs": [
        {
          "output_type": "error",
          "ename": "SyntaxError",
          "evalue": "ignored",
          "traceback": [
            "\u001b[0;36m  File \u001b[0;32m\"<ipython-input-8-026cb7da1c17>\"\u001b[0;36m, line \u001b[0;32m1\u001b[0m\n\u001b[0;31m    def message(): print(\"Ingresar valor: \") message = 1\u001b[0m\n\u001b[0m                                             ^\u001b[0m\n\u001b[0;31mSyntaxError\u001b[0m\u001b[0;31m:\u001b[0m invalid syntax\n"
          ]
        }
      ]
    },
    {
      "cell_type": "code",
      "source": [
        "print(\"Comienza aqui.\") def message(): print(\"Ingresar valor: \") message() print(\"Termina aqui.\")"
      ],
      "metadata": {
        "colab": {
          "base_uri": "https://localhost:8080/",
          "height": 130
        },
        "id": "Bi40oVRRhdu6",
        "outputId": "6795a8a7-fb92-4b1d-ff99-acad0e1c6ddd"
      },
      "execution_count": 9,
      "outputs": [
        {
          "output_type": "error",
          "ename": "SyntaxError",
          "evalue": "ignored",
          "traceback": [
            "\u001b[0;36m  File \u001b[0;32m\"<ipython-input-9-f2800f72dd32>\"\u001b[0;36m, line \u001b[0;32m1\u001b[0m\n\u001b[0;31m    print(\"Comienza aqui.\") def message(): print(\"Ingresar valor: \") message() print(\"Termina aqui.\")\u001b[0m\n\u001b[0m                            ^\u001b[0m\n\u001b[0;31mSyntaxError\u001b[0m\u001b[0;31m:\u001b[0m invalid syntax\n"
          ]
        }
      ]
    },
    {
      "cell_type": "code",
      "source": [
        "def message(): print(\"Ingresar valor: \") message() a = int(input()) message() b = int(input()) message() c = int(input())"
      ],
      "metadata": {
        "colab": {
          "base_uri": "https://localhost:8080/",
          "height": 130
        },
        "id": "j5vH17QDhdqc",
        "outputId": "4ef41a70-3001-415f-fff6-ca3d314e25dc"
      },
      "execution_count": 10,
      "outputs": [
        {
          "output_type": "error",
          "ename": "SyntaxError",
          "evalue": "ignored",
          "traceback": [
            "\u001b[0;36m  File \u001b[0;32m\"<ipython-input-10-499cd04556d9>\"\u001b[0;36m, line \u001b[0;32m1\u001b[0m\n\u001b[0;31m    def message(): print(\"Ingresar valor: \") message() a = int(input()) message() b = int(input()) message() c = int(input())\u001b[0m\n\u001b[0m                                             ^\u001b[0m\n\u001b[0;31mSyntaxError\u001b[0m\u001b[0;31m:\u001b[0m invalid syntax\n"
          ]
        }
      ]
    },
    {
      "cell_type": "code",
      "source": [
        "def message(): # definiendo una función print(\"Hello\") # cuerpo de la función message() # invocación de la función"
      ],
      "metadata": {
        "colab": {
          "base_uri": "https://localhost:8080/",
          "height": 130
        },
        "id": "S1LUaQwihdoR",
        "outputId": "0bea7476-fbca-4b99-8765-81e33057a728"
      },
      "execution_count": 11,
      "outputs": [
        {
          "output_type": "error",
          "ename": "SyntaxError",
          "evalue": "ignored",
          "traceback": [
            "\u001b[0;36m  File \u001b[0;32m\"<ipython-input-11-da06dc2cc58b>\"\u001b[0;36m, line \u001b[0;32m1\u001b[0m\n\u001b[0;31m    def message(): # definiendo una función print(\"Hello\") # cuerpo de la función message() # invocación de la función\u001b[0m\n\u001b[0m                                                                                                                      ^\u001b[0m\n\u001b[0;31mSyntaxError\u001b[0m\u001b[0;31m:\u001b[0m incomplete input\n"
          ]
        }
      ]
    },
    {
      "cell_type": "code",
      "source": [
        "def hello(name): # definiendo una función print(\"Hello,\", name) # cuerpo de la función name = input(\"Ingresa tu nombre: \") hello(name) # invocación de la función"
      ],
      "metadata": {
        "colab": {
          "base_uri": "https://localhost:8080/",
          "height": 165
        },
        "id": "yIIUTp5Ehdlc",
        "outputId": "70023e8a-3ad7-4dac-e592-59bd4706dbb1"
      },
      "execution_count": 12,
      "outputs": [
        {
          "output_type": "error",
          "ename": "SyntaxError",
          "evalue": "ignored",
          "traceback": [
            "\u001b[0;36m  File \u001b[0;32m\"<ipython-input-12-9e907517102c>\"\u001b[0;36m, line \u001b[0;32m1\u001b[0m\n\u001b[0;31m    def hello(name): # definiendo una función print(\"Hello,\", name) # cuerpo de la función name = input(\"Ingresa tu nombre: \") hello(name) # invocación de la función\u001b[0m\n\u001b[0m                                                                                                                                                                     ^\u001b[0m\n\u001b[0;31mSyntaxError\u001b[0m\u001b[0;31m:\u001b[0m incomplete input\n"
          ]
        }
      ]
    },
    {
      "cell_type": "code",
      "source": [],
      "metadata": {
        "id": "1s-LUE6Xh2nw"
      },
      "execution_count": null,
      "outputs": []
    },
    {
      "cell_type": "code",
      "source": [],
      "metadata": {
        "id": "GMTWoC0Uh2lL"
      },
      "execution_count": null,
      "outputs": []
    },
    {
      "cell_type": "code",
      "source": [],
      "metadata": {
        "id": "CIQV7Yqgh2ii"
      },
      "execution_count": null,
      "outputs": []
    },
    {
      "cell_type": "code",
      "source": [],
      "metadata": {
        "id": "hgWj1AaAh2f5"
      },
      "execution_count": null,
      "outputs": []
    },
    {
      "cell_type": "code",
      "source": [],
      "metadata": {
        "id": "le-mrsVrh2cz"
      },
      "execution_count": null,
      "outputs": []
    },
    {
      "cell_type": "code",
      "source": [],
      "metadata": {
        "id": "p490LKw9h2a7"
      },
      "execution_count": null,
      "outputs": []
    },
    {
      "cell_type": "code",
      "source": [],
      "metadata": {
        "id": "tQS-YRW3h2XB"
      },
      "execution_count": null,
      "outputs": []
    },
    {
      "cell_type": "code",
      "source": [],
      "metadata": {
        "id": "h6_OzKAVh2RZ"
      },
      "execution_count": null,
      "outputs": []
    },
    {
      "cell_type": "code",
      "source": [],
      "metadata": {
        "id": "rnqzikK9h2O8"
      },
      "execution_count": null,
      "outputs": []
    },
    {
      "cell_type": "code",
      "source": [],
      "metadata": {
        "id": "5Ec91pn3h2MG"
      },
      "execution_count": null,
      "outputs": []
    },
    {
      "cell_type": "code",
      "source": [],
      "metadata": {
        "id": "LEdqRL9phdJg"
      },
      "execution_count": null,
      "outputs": []
    }
  ]
}