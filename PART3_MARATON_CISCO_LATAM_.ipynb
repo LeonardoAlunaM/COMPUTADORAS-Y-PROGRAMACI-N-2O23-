{
  "nbformat": 4,
  "nbformat_minor": 0,
  "metadata": {
    "colab": {
      "provenance": [],
      "authorship_tag": "ABX9TyNDwrrTS15deBlyScmYCPE8",
      "include_colab_link": true
    },
    "kernelspec": {
      "name": "python3",
      "display_name": "Python 3"
    },
    "language_info": {
      "name": "python"
    }
  },
  "cells": [
    {
      "cell_type": "markdown",
      "metadata": {
        "id": "view-in-github",
        "colab_type": "text"
      },
      "source": [
        "<a href=\"https://colab.research.google.com/github/LeonardoAlunaM/COMPUTADORAS-Y-PROGRAMACI-N-2O23-/blob/main-COMPUTADORAS-Y-PROGTRAMACI%C3%93N-2023/PART3_MARATON_CISCO_LATAM_.ipynb\" target=\"_parent\"><img src=\"https://colab.research.google.com/assets/colab-badge.svg\" alt=\"Open In Colab\"/></a>"
      ]
    },
    {
      "cell_type": "code",
      "execution_count": null,
      "metadata": {
        "colab": {
          "base_uri": "https://localhost:8080/"
        },
        "id": "M8PrSuCaVgcx",
        "outputId": "12368a46-5d08-4953-d239-6649746140f7"
      },
      "outputs": [
        {
          "name": "stdout",
          "output_type": "stream",
          "text": [
            "Ingresa un valor: \n",
            "5\n",
            "Ingresa un valor: \n",
            "4\n",
            "Ingresa un valor: \n",
            "6\n"
          ]
        }
      ],
      "source": [
        "print(\"Ingresa un valor: \")\n",
        "a = int(input())\n",
        "\n",
        "print(\"Ingresa un valor: \")\n",
        "b = int(input())\n",
        "\n",
        "print(\"Ingresa un valor: \")\n",
        "c = int(input())"
      ]
    },
    {
      "cell_type": "code",
      "source": [
        "def message(): print(\"Ingresar valor: \")"
      ],
      "metadata": {
        "id": "H5iWXCfJhMvk"
      },
      "execution_count": null,
      "outputs": []
    },
    {
      "cell_type": "code",
      "source": [
        "def message(): print(\"Ingresar valor: \") \n",
        "print(\"Inicia aqui.\") \n",
        "print(\"Termina aqui.\")"
      ],
      "metadata": {
        "colab": {
          "base_uri": "https://localhost:8080/"
        },
        "id": "KaNazCsthQiR",
        "outputId": "25c71f7a-95d6-4460-c2c0-eca2db6a1891"
      },
      "execution_count": null,
      "outputs": [
        {
          "output_type": "stream",
          "name": "stdout",
          "text": [
            "Inicia aqui.\n",
            "Termina aqui.\n"
          ]
        }
      ]
    },
    {
      "cell_type": "code",
      "source": [
        "def message(): print(\"Ingresar valor: \") print(\"Inicia aqui.\") message() print(\"Termina aqui.\")"
      ],
      "metadata": {
        "colab": {
          "base_uri": "https://localhost:8080/",
          "height": 130
        },
        "id": "tUY6MVXOhdGf",
        "outputId": "9ab5048b-0a49-4dbb-fb57-101cb3150a7a"
      },
      "execution_count": null,
      "outputs": [
        {
          "output_type": "error",
          "ename": "SyntaxError",
          "evalue": "ignored",
          "traceback": [
            "\u001b[0;36m  File \u001b[0;32m\"<ipython-input-6-73281971a30a>\"\u001b[0;36m, line \u001b[0;32m1\u001b[0m\n\u001b[0;31m    def message(): print(\"Ingresar valor: \") print(\"Inicia aqui.\") message() print(\"Termina aqui.\")\u001b[0m\n\u001b[0m                                             ^\u001b[0m\n\u001b[0;31mSyntaxError\u001b[0m\u001b[0;31m:\u001b[0m invalid syntax\n"
          ]
        }
      ]
    },
    {
      "cell_type": "code",
      "source": [
        "print(\"Inicia aqui.\") message() print(\"Termina aqui.\") def message(): print(\"Ingresar valor: \")"
      ],
      "metadata": {
        "colab": {
          "base_uri": "https://localhost:8080/",
          "height": 130
        },
        "id": "MOJfHoSdhd0z",
        "outputId": "74ad3165-d32c-4278-f3b0-34b87c521f63"
      },
      "execution_count": null,
      "outputs": [
        {
          "output_type": "error",
          "ename": "SyntaxError",
          "evalue": "ignored",
          "traceback": [
            "\u001b[0;36m  File \u001b[0;32m\"<ipython-input-7-9a8693a3a148>\"\u001b[0;36m, line \u001b[0;32m1\u001b[0m\n\u001b[0;31m    print(\"Inicia aqui.\") message() print(\"Termina aqui.\") def message(): print(\"Ingresar valor: \")\u001b[0m\n\u001b[0m                          ^\u001b[0m\n\u001b[0;31mSyntaxError\u001b[0m\u001b[0;31m:\u001b[0m invalid syntax\n"
          ]
        }
      ]
    },
    {
      "cell_type": "code",
      "source": [
        "def message(): print(\"Ingresar valor: \") message = 1"
      ],
      "metadata": {
        "colab": {
          "base_uri": "https://localhost:8080/",
          "height": 130
        },
        "id": "9dg2wDexhdyU",
        "outputId": "1f2bd98d-920b-40aa-c6b1-e6f9f310ae8d"
      },
      "execution_count": null,
      "outputs": [
        {
          "output_type": "error",
          "ename": "SyntaxError",
          "evalue": "ignored",
          "traceback": [
            "\u001b[0;36m  File \u001b[0;32m\"<ipython-input-8-026cb7da1c17>\"\u001b[0;36m, line \u001b[0;32m1\u001b[0m\n\u001b[0;31m    def message(): print(\"Ingresar valor: \") message = 1\u001b[0m\n\u001b[0m                                             ^\u001b[0m\n\u001b[0;31mSyntaxError\u001b[0m\u001b[0;31m:\u001b[0m invalid syntax\n"
          ]
        }
      ]
    },
    {
      "cell_type": "code",
      "source": [
        "print(\"Comienza aqui.\") def message(): print(\"Ingresar valor: \") message() print(\"Termina aqui.\")"
      ],
      "metadata": {
        "colab": {
          "base_uri": "https://localhost:8080/",
          "height": 130
        },
        "id": "Bi40oVRRhdu6",
        "outputId": "6795a8a7-fb92-4b1d-ff99-acad0e1c6ddd"
      },
      "execution_count": null,
      "outputs": [
        {
          "output_type": "error",
          "ename": "SyntaxError",
          "evalue": "ignored",
          "traceback": [
            "\u001b[0;36m  File \u001b[0;32m\"<ipython-input-9-f2800f72dd32>\"\u001b[0;36m, line \u001b[0;32m1\u001b[0m\n\u001b[0;31m    print(\"Comienza aqui.\") def message(): print(\"Ingresar valor: \") message() print(\"Termina aqui.\")\u001b[0m\n\u001b[0m                            ^\u001b[0m\n\u001b[0;31mSyntaxError\u001b[0m\u001b[0;31m:\u001b[0m invalid syntax\n"
          ]
        }
      ]
    },
    {
      "cell_type": "code",
      "source": [
        "def message(): print(\"Ingresar valor: \") message() a = int(input()) message() b = int(input()) message() c = int(input())"
      ],
      "metadata": {
        "colab": {
          "base_uri": "https://localhost:8080/",
          "height": 130
        },
        "id": "j5vH17QDhdqc",
        "outputId": "4ef41a70-3001-415f-fff6-ca3d314e25dc"
      },
      "execution_count": null,
      "outputs": [
        {
          "output_type": "error",
          "ename": "SyntaxError",
          "evalue": "ignored",
          "traceback": [
            "\u001b[0;36m  File \u001b[0;32m\"<ipython-input-10-499cd04556d9>\"\u001b[0;36m, line \u001b[0;32m1\u001b[0m\n\u001b[0;31m    def message(): print(\"Ingresar valor: \") message() a = int(input()) message() b = int(input()) message() c = int(input())\u001b[0m\n\u001b[0m                                             ^\u001b[0m\n\u001b[0;31mSyntaxError\u001b[0m\u001b[0;31m:\u001b[0m invalid syntax\n"
          ]
        }
      ]
    },
    {
      "cell_type": "code",
      "source": [
        "def message(): # definiendo una función print(\"Hello\") # cuerpo de la función message() # invocación de la función"
      ],
      "metadata": {
        "colab": {
          "base_uri": "https://localhost:8080/",
          "height": 130
        },
        "id": "S1LUaQwihdoR",
        "outputId": "0bea7476-fbca-4b99-8765-81e33057a728"
      },
      "execution_count": null,
      "outputs": [
        {
          "output_type": "error",
          "ename": "SyntaxError",
          "evalue": "ignored",
          "traceback": [
            "\u001b[0;36m  File \u001b[0;32m\"<ipython-input-11-da06dc2cc58b>\"\u001b[0;36m, line \u001b[0;32m1\u001b[0m\n\u001b[0;31m    def message(): # definiendo una función print(\"Hello\") # cuerpo de la función message() # invocación de la función\u001b[0m\n\u001b[0m                                                                                                                      ^\u001b[0m\n\u001b[0;31mSyntaxError\u001b[0m\u001b[0;31m:\u001b[0m incomplete input\n"
          ]
        }
      ]
    },
    {
      "cell_type": "code",
      "source": [
        "def hello(name): # definiendo una función print(\"Hello,\", name) # cuerpo de la función name = input(\"Ingresa tu nombre: \") hello(name) # invocación de la función"
      ],
      "metadata": {
        "colab": {
          "base_uri": "https://localhost:8080/",
          "height": 165
        },
        "id": "yIIUTp5Ehdlc",
        "outputId": "70023e8a-3ad7-4dac-e592-59bd4706dbb1"
      },
      "execution_count": null,
      "outputs": [
        {
          "output_type": "error",
          "ename": "SyntaxError",
          "evalue": "ignored",
          "traceback": [
            "\u001b[0;36m  File \u001b[0;32m\"<ipython-input-12-9e907517102c>\"\u001b[0;36m, line \u001b[0;32m1\u001b[0m\n\u001b[0;31m    def hello(name): # definiendo una función print(\"Hello,\", name) # cuerpo de la función name = input(\"Ingresa tu nombre: \") hello(name) # invocación de la función\u001b[0m\n\u001b[0m                                                                                                                                                                     ^\u001b[0m\n\u001b[0;31mSyntaxError\u001b[0m\u001b[0;31m:\u001b[0m incomplete input\n"
          ]
        }
      ]
    },
    {
      "cell_type": "code",
      "source": [
        "def message(number):\n",
        "    print(\"Ingresa un número:\", number)\n",
        " "
      ],
      "metadata": {
        "id": "1s-LUE6Xh2nw"
      },
      "execution_count": null,
      "outputs": []
    },
    {
      "cell_type": "code",
      "source": [
        "def message(number):\n",
        "    print(\"Ingresa un número:\", number)\n",
        "\n",
        "message()\n"
      ],
      "metadata": {
        "id": "GMTWoC0Uh2lL",
        "colab": {
          "base_uri": "https://localhost:8080/",
          "height": 200
        },
        "outputId": "e9dc86e5-3121-4038-e877-83b5246d269a"
      },
      "execution_count": null,
      "outputs": [
        {
          "output_type": "error",
          "ename": "TypeError",
          "evalue": "ignored",
          "traceback": [
            "\u001b[0;31m---------------------------------------------------------------------------\u001b[0m",
            "\u001b[0;31mTypeError\u001b[0m                                 Traceback (most recent call last)",
            "\u001b[0;32m<ipython-input-2-0a6c3f3a4df9>\u001b[0m in \u001b[0;36m<cell line: 4>\u001b[0;34m()\u001b[0m\n\u001b[1;32m      2\u001b[0m     \u001b[0mprint\u001b[0m\u001b[0;34m(\u001b[0m\u001b[0;34m\"Ingresa un número:\"\u001b[0m\u001b[0;34m,\u001b[0m \u001b[0mnumber\u001b[0m\u001b[0;34m)\u001b[0m\u001b[0;34m\u001b[0m\u001b[0;34m\u001b[0m\u001b[0m\n\u001b[1;32m      3\u001b[0m \u001b[0;34m\u001b[0m\u001b[0m\n\u001b[0;32m----> 4\u001b[0;31m \u001b[0mmessage\u001b[0m\u001b[0;34m(\u001b[0m\u001b[0;34m)\u001b[0m\u001b[0;34m\u001b[0m\u001b[0;34m\u001b[0m\u001b[0m\n\u001b[0m",
            "\u001b[0;31mTypeError\u001b[0m: message() missing 1 required positional argument: 'number'"
          ]
        }
      ]
    },
    {
      "cell_type": "code",
      "source": [
        "def message(number):\n",
        "    print(\"Ingresa un número:\", number)\n",
        " \n",
        "message(1)"
      ],
      "metadata": {
        "id": "CIQV7Yqgh2ii",
        "colab": {
          "base_uri": "https://localhost:8080/"
        },
        "outputId": "704a18c7-3651-4bcc-c2d2-9e4ebad046c3"
      },
      "execution_count": null,
      "outputs": [
        {
          "output_type": "stream",
          "name": "stdout",
          "text": [
            "Ingresa un número: 1\n"
          ]
        }
      ]
    },
    {
      "cell_type": "code",
      "source": [
        "def message(number):\n",
        "    print(\"Ingresa un número:\", number)\n",
        " \n",
        "number = 1234\n",
        "message(1)\n",
        "print(number)"
      ],
      "metadata": {
        "id": "hgWj1AaAh2f5",
        "colab": {
          "base_uri": "https://localhost:8080/"
        },
        "outputId": "3e94dcb8-cff2-452c-f85e-43331ba004eb"
      },
      "execution_count": null,
      "outputs": [
        {
          "output_type": "stream",
          "name": "stdout",
          "text": [
            "Ingresa un número: 1\n",
            "1234\n"
          ]
        }
      ]
    },
    {
      "cell_type": "code",
      "source": [
        "def message(what, number):\n",
        "    print(\"Ingresa\", what, \"número\", number)\n",
        " \n",
        "message(\"teléfono\", 11)\n",
        "message(\"precio\", 5)\n",
        "message(\"número\", \"number\")"
      ],
      "metadata": {
        "id": "le-mrsVrh2cz",
        "colab": {
          "base_uri": "https://localhost:8080/"
        },
        "outputId": "36c614f0-3514-4855-fb0d-a63064dc5806"
      },
      "execution_count": null,
      "outputs": [
        {
          "output_type": "stream",
          "name": "stdout",
          "text": [
            "Ingresa teléfono número 11\n",
            "Ingresa precio número 5\n",
            "Ingresa número número number\n"
          ]
        }
      ]
    },
    {
      "cell_type": "code",
      "source": [
        "def my_function(a, b, c):\n",
        "    print(a, b, c)\n",
        " \n",
        "my_function(1, 2, 3)"
      ],
      "metadata": {
        "id": "p490LKw9h2a7",
        "colab": {
          "base_uri": "https://localhost:8080/"
        },
        "outputId": "2eeffdf4-39b3-4d87-ccce-056f1103e4d5"
      },
      "execution_count": null,
      "outputs": [
        {
          "output_type": "stream",
          "name": "stdout",
          "text": [
            "1 2 3\n"
          ]
        }
      ]
    },
    {
      "cell_type": "code",
      "source": [
        "def introduction(first_name, last_name):\n",
        "    print(\"Hola, mi nombre es\", first_name, last_name)\n",
        " \n",
        "introduction(\"Luke\", \"Skywalker\")\n",
        "introduction(\"Jesse\", \"Quick\")\n",
        "introduction(\"Clark\", \"Kent\")\n",
        " "
      ],
      "metadata": {
        "id": "tQS-YRW3h2XB",
        "colab": {
          "base_uri": "https://localhost:8080/"
        },
        "outputId": "be1e3528-91b3-4394-c777-4236208dddd6"
      },
      "execution_count": null,
      "outputs": [
        {
          "output_type": "stream",
          "name": "stdout",
          "text": [
            "Hola, mi nombre es Luke Skywalker\n",
            "Hola, mi nombre es Jesse Quick\n",
            "Hola, mi nombre es Clark Kent\n"
          ]
        }
      ]
    },
    {
      "cell_type": "code",
      "source": [
        "def introduction(first_name, last_name):\n",
        "    print(\"Hola, mi nombre es\", first_name, last_name)\n",
        " \n",
        "introduction(\"Skywalker\", \"Luke\")\n",
        "introduction(\"Quick\", \"Jesse\")\n",
        "introduction(\"Kent\", \"Clark\")"
      ],
      "metadata": {
        "id": "h6_OzKAVh2RZ",
        "colab": {
          "base_uri": "https://localhost:8080/"
        },
        "outputId": "9cfb9eee-87ba-4afb-c540-5869e17dc1a6"
      },
      "execution_count": null,
      "outputs": [
        {
          "output_type": "stream",
          "name": "stdout",
          "text": [
            "Hola, mi nombre es Skywalker Luke\n",
            "Hola, mi nombre es Quick Jesse\n",
            "Hola, mi nombre es Kent Clark\n"
          ]
        }
      ]
    },
    {
      "cell_type": "code",
      "source": [
        "def introduction(first_name, last_name):\n",
        "    print(\"Hola, mi nombre es\", first_name, last_name)\n",
        " \n",
        "introduction(first_name = \"James\", last_name = \"Bond\")\n",
        "introduction(last_name = \"Skywalker\", first_name = \"Luke\")"
      ],
      "metadata": {
        "id": "rnqzikK9h2O8",
        "colab": {
          "base_uri": "https://localhost:8080/"
        },
        "outputId": "66ce3308-d739-4bbe-c4cb-b60f71b33473"
      },
      "execution_count": null,
      "outputs": [
        {
          "output_type": "stream",
          "name": "stdout",
          "text": [
            "Hola, mi nombre es James Bond\n",
            "Hola, mi nombre es Luke Skywalker\n"
          ]
        }
      ]
    },
    {
      "cell_type": "code",
      "source": [
        "def introduction(first_name, last_name):\n",
        "    print(\"Hola, mi nombre es\", first_name, last_name)\n",
        " \n",
        "introduction(surname=\"Skywalker\", first_name=\"Luke\")"
      ],
      "metadata": {
        "id": "5Ec91pn3h2MG",
        "colab": {
          "base_uri": "https://localhost:8080/",
          "height": 200
        },
        "outputId": "d649bba9-fad5-4028-9393-07e7a9a61d7e"
      },
      "execution_count": null,
      "outputs": [
        {
          "output_type": "error",
          "ename": "TypeError",
          "evalue": "ignored",
          "traceback": [
            "\u001b[0;31m---------------------------------------------------------------------------\u001b[0m",
            "\u001b[0;31mTypeError\u001b[0m                                 Traceback (most recent call last)",
            "\u001b[0;32m<ipython-input-10-f1046bfe07de>\u001b[0m in \u001b[0;36m<cell line: 4>\u001b[0;34m()\u001b[0m\n\u001b[1;32m      2\u001b[0m     \u001b[0mprint\u001b[0m\u001b[0;34m(\u001b[0m\u001b[0;34m\"Hola, mi nombre es\"\u001b[0m\u001b[0;34m,\u001b[0m \u001b[0mfirst_name\u001b[0m\u001b[0;34m,\u001b[0m \u001b[0mlast_name\u001b[0m\u001b[0;34m)\u001b[0m\u001b[0;34m\u001b[0m\u001b[0;34m\u001b[0m\u001b[0m\n\u001b[1;32m      3\u001b[0m \u001b[0;34m\u001b[0m\u001b[0m\n\u001b[0;32m----> 4\u001b[0;31m \u001b[0mintroduction\u001b[0m\u001b[0;34m(\u001b[0m\u001b[0msurname\u001b[0m\u001b[0;34m=\u001b[0m\u001b[0;34m\"Skywalker\"\u001b[0m\u001b[0;34m,\u001b[0m \u001b[0mfirst_name\u001b[0m\u001b[0;34m=\u001b[0m\u001b[0;34m\"Luke\"\u001b[0m\u001b[0;34m)\u001b[0m\u001b[0;34m\u001b[0m\u001b[0;34m\u001b[0m\u001b[0m\n\u001b[0m",
            "\u001b[0;31mTypeError\u001b[0m: introduction() got an unexpected keyword argument 'surname'"
          ]
        }
      ]
    },
    {
      "cell_type": "code",
      "source": [
        "def adding(a, b, c):\n",
        "    print(a, \"+\", b, \"+\", c, \"=\", a + b + c)\n",
        " "
      ],
      "metadata": {
        "id": "LEdqRL9phdJg"
      },
      "execution_count": null,
      "outputs": []
    },
    {
      "cell_type": "code",
      "source": [
        "adding(1, 2, 3)"
      ],
      "metadata": {
        "colab": {
          "base_uri": "https://localhost:8080/"
        },
        "id": "DLj_4143Onkb",
        "outputId": "9bea4cae-e172-4d56-a862-87f1f399645c"
      },
      "execution_count": null,
      "outputs": [
        {
          "output_type": "stream",
          "name": "stdout",
          "text": [
            "1 + 2 + 3 = 6\n"
          ]
        }
      ]
    },
    {
      "cell_type": "code",
      "source": [
        "adding(c = 1, a = 2, b = 3)"
      ],
      "metadata": {
        "colab": {
          "base_uri": "https://localhost:8080/"
        },
        "id": "WrP3SA1LOnf2",
        "outputId": "ce17572f-edd0-4ed3-ed8b-c367d8017b82"
      },
      "execution_count": null,
      "outputs": [
        {
          "output_type": "stream",
          "name": "stdout",
          "text": [
            "2 + 3 + 1 = 6\n"
          ]
        }
      ]
    },
    {
      "cell_type": "code",
      "source": [
        "adding(3, c = 1, b = 2)"
      ],
      "metadata": {
        "colab": {
          "base_uri": "https://localhost:8080/"
        },
        "id": "s61oz0zzOneQ",
        "outputId": "da1f0786-3a0e-4518-a59e-f31e69c2d1b4"
      },
      "execution_count": null,
      "outputs": [
        {
          "output_type": "stream",
          "name": "stdout",
          "text": [
            "3 + 2 + 1 = 6\n"
          ]
        }
      ]
    },
    {
      "cell_type": "code",
      "source": [
        "adding(3, a = 1, b = 2)"
      ],
      "metadata": {
        "colab": {
          "base_uri": "https://localhost:8080/",
          "height": 165
        },
        "id": "Ihl2oZtOOnaj",
        "outputId": "f2adc6c8-c702-4cf4-d8ac-8320ac375a8f"
      },
      "execution_count": null,
      "outputs": [
        {
          "output_type": "error",
          "ename": "TypeError",
          "evalue": "ignored",
          "traceback": [
            "\u001b[0;31m---------------------------------------------------------------------------\u001b[0m",
            "\u001b[0;31mTypeError\u001b[0m                                 Traceback (most recent call last)",
            "\u001b[0;32m<ipython-input-15-21a8e7d19d07>\u001b[0m in \u001b[0;36m<cell line: 1>\u001b[0;34m()\u001b[0m\n\u001b[0;32m----> 1\u001b[0;31m \u001b[0madding\u001b[0m\u001b[0;34m(\u001b[0m\u001b[0;36m3\u001b[0m\u001b[0;34m,\u001b[0m \u001b[0ma\u001b[0m \u001b[0;34m=\u001b[0m \u001b[0;36m1\u001b[0m\u001b[0;34m,\u001b[0m \u001b[0mb\u001b[0m \u001b[0;34m=\u001b[0m \u001b[0;36m2\u001b[0m\u001b[0;34m)\u001b[0m\u001b[0;34m\u001b[0m\u001b[0;34m\u001b[0m\u001b[0m\n\u001b[0m",
            "\u001b[0;31mTypeError\u001b[0m: adding() got multiple values for argument 'a'"
          ]
        }
      ]
    },
    {
      "cell_type": "code",
      "source": [
        "adding(4, 3, c = 2)\n",
        " "
      ],
      "metadata": {
        "colab": {
          "base_uri": "https://localhost:8080/"
        },
        "id": "sd5L7mv0OnZC",
        "outputId": "1ac89254-4e04-4d7f-a5aa-a5d00c1b8c8f"
      },
      "execution_count": null,
      "outputs": [
        {
          "output_type": "stream",
          "name": "stdout",
          "text": [
            "4 + 3 + 2 = 9\n"
          ]
        }
      ]
    },
    {
      "cell_type": "code",
      "source": [
        "def introduction(first_name, last_name=\"Smith\"):\n",
        "     print(\"Hola, mi nombre es\", first_name, last_name)"
      ],
      "metadata": {
        "id": "gs9qfWt3OnWS"
      },
      "execution_count": null,
      "outputs": []
    },
    {
      "cell_type": "code",
      "source": [
        " introduction(\"Jorge\", \"Pérez\")\n"
      ],
      "metadata": {
        "colab": {
          "base_uri": "https://localhost:8080/"
        },
        "id": "a80gpUWsOnUO",
        "outputId": "65d14f1f-11ae-484f-fa61-e03e49af5f49"
      },
      "execution_count": null,
      "outputs": [
        {
          "output_type": "stream",
          "name": "stdout",
          "text": [
            "Hola, mi nombre es Jorge Pérez\n"
          ]
        }
      ]
    },
    {
      "cell_type": "code",
      "source": [
        "introduction(\"Enrique\")"
      ],
      "metadata": {
        "colab": {
          "base_uri": "https://localhost:8080/"
        },
        "id": "ZS6afrWoOnQT",
        "outputId": "a26d3eae-ae23-46e9-8f7a-5659091b6cc0"
      },
      "execution_count": null,
      "outputs": [
        {
          "output_type": "stream",
          "name": "stdout",
          "text": [
            "Hola, mi nombre es Enrique Smith\n"
          ]
        }
      ]
    },
    {
      "cell_type": "code",
      "source": [
        "introduction(first_name=\"Guillermo\")"
      ],
      "metadata": {
        "colab": {
          "base_uri": "https://localhost:8080/"
        },
        "id": "_hu25Tr8OnOx",
        "outputId": "cf3137fc-16eb-48cc-9367-603c4f7b6db9"
      },
      "execution_count": null,
      "outputs": [
        {
          "output_type": "stream",
          "name": "stdout",
          "text": [
            "Hola, mi nombre es Guillermo Smith\n"
          ]
        }
      ]
    },
    {
      "cell_type": "code",
      "source": [
        "def introduction(first_name=\"Juan\", last_name=\"González\"):\n",
        "    print(\"Hola, mi nombre es\", first_name, last_name)"
      ],
      "metadata": {
        "id": "ajHIIdQxPGeI"
      },
      "execution_count": null,
      "outputs": []
    },
    {
      "cell_type": "code",
      "source": [
        "introduction()"
      ],
      "metadata": {
        "colab": {
          "base_uri": "https://localhost:8080/"
        },
        "id": "Wysrvrd4PGZd",
        "outputId": "20996dce-6dbf-4f23-9386-6a056c4c139d"
      },
      "execution_count": null,
      "outputs": [
        {
          "output_type": "stream",
          "name": "stdout",
          "text": [
            "Hola, mi nombre es Juan González\n"
          ]
        }
      ]
    },
    {
      "cell_type": "code",
      "source": [
        "introduction(last_name=\"Rodríguez\")"
      ],
      "metadata": {
        "colab": {
          "base_uri": "https://localhost:8080/"
        },
        "id": "Xr9dsW6MPGXm",
        "outputId": "7cac1d36-f160-4ed2-f4d0-659fd091dc25"
      },
      "execution_count": null,
      "outputs": [
        {
          "output_type": "stream",
          "name": "stdout",
          "text": [
            "Hola, mi nombre es Juan Rodríguez\n"
          ]
        }
      ]
    },
    {
      "cell_type": "code",
      "source": [
        "def hi(name):\n",
        "    print(\"Hola,\", name)\n",
        " \n",
        "hi(\"Greg\")"
      ],
      "metadata": {
        "colab": {
          "base_uri": "https://localhost:8080/"
        },
        "id": "OBX9cIcDPGVa",
        "outputId": "43ea0c98-5354-4acf-c805-26b62788767a"
      },
      "execution_count": null,
      "outputs": [
        {
          "output_type": "stream",
          "name": "stdout",
          "text": [
            "Hola, Greg\n"
          ]
        }
      ]
    },
    {
      "cell_type": "code",
      "source": [
        "def hi_all(name_1, name_2):\n",
        "    print(\"Hola,\", name_2)\n",
        "    print(\"Hola,\", name_1)\n",
        " \n",
        "hi_all(\"Sebastián\", \"Konrad\")"
      ],
      "metadata": {
        "colab": {
          "base_uri": "https://localhost:8080/"
        },
        "id": "xpEkxPFSPGTQ",
        "outputId": "03342bce-ba55-4431-8be0-a61553843b5a"
      },
      "execution_count": null,
      "outputs": [
        {
          "output_type": "stream",
          "name": "stdout",
          "text": [
            "Hola, Konrad\n",
            "Hola, Sebastián\n"
          ]
        }
      ]
    },
    {
      "cell_type": "code",
      "source": [
        "def address(street, city, postal_code):\n",
        "    print(\"Tu dirección es:\", street,\"St.,\", city, postal_code)\n",
        " \n",
        "s = input(\"Calle: \")\n",
        "p_c = input(\"Código Postal: \")\n",
        "c = input(\"Ciudad: \")\n",
        "address(s, c, p_c)\n",
        " "
      ],
      "metadata": {
        "colab": {
          "base_uri": "https://localhost:8080/"
        },
        "id": "sgg1EwLBPm0W",
        "outputId": "65ba4db4-c9c3-4369-9394-018734e0044b"
      },
      "execution_count": null,
      "outputs": [
        {
          "output_type": "stream",
          "name": "stdout",
          "text": [
            "Calle: 6\n",
            "Código Postal: 453\n",
            "Ciudad: mexico\n",
            "Tu dirección es: 6 St., mexico 453\n"
          ]
        }
      ]
    },
    {
      "cell_type": "code",
      "source": [
        "#Ejemplo 1\n",
        "def subtra(a, b):\n",
        "    print(a - b)\n",
        " \n",
        "subtra(5, 2) # salida: 3\n",
        "subtra(2, 5) # salida: -3\n",
        " \n",
        " \n",
        "#Ejemplo 2\n",
        "def subtra(a, b):\n",
        "    print(a - b)\n",
        " \n",
        "subtra(a=5, b=2) # salida: 3\n",
        "subtra(b=2, a=5) # salida: 3\n",
        " \n",
        "#Ex. 3\n",
        "def subtra(a, b):\n",
        "    print(a - b)\n",
        " \n",
        "subtra(5, b=2) # salida: 3\n",
        "subtra(5, 2) # salida: 3"
      ],
      "metadata": {
        "colab": {
          "base_uri": "https://localhost:8080/"
        },
        "id": "-FnhK3rGPmtA",
        "outputId": "da6dd65e-9e0d-4e72-d26e-b4ccd483caba"
      },
      "execution_count": null,
      "outputs": [
        {
          "output_type": "stream",
          "name": "stdout",
          "text": [
            "3\n",
            "-3\n",
            "3\n",
            "3\n",
            "3\n",
            "3\n"
          ]
        }
      ]
    },
    {
      "cell_type": "code",
      "source": [
        "def subtra(a, b):\n",
        "    print(a - b)\n",
        " \n",
        "subtra(5, b=2) # salida: 3\n",
        "subtra(a=5, 2) # Syntax Error"
      ],
      "metadata": {
        "colab": {
          "base_uri": "https://localhost:8080/",
          "height": 130
        },
        "id": "LDox7kkEPmfW",
        "outputId": "572a4506-a6dd-43e0-cdef-38cc65f49152"
      },
      "execution_count": null,
      "outputs": [
        {
          "output_type": "error",
          "ename": "SyntaxError",
          "evalue": "ignored",
          "traceback": [
            "\u001b[0;36m  File \u001b[0;32m\"<ipython-input-32-1c8db4282b73>\"\u001b[0;36m, line \u001b[0;32m5\u001b[0m\n\u001b[0;31m    subtra(a=5, 2) # Syntax Error\u001b[0m\n\u001b[0m                 ^\u001b[0m\n\u001b[0;31mSyntaxError\u001b[0m\u001b[0;31m:\u001b[0m positional argument follows keyword argument\n"
          ]
        }
      ]
    },
    {
      "cell_type": "code",
      "source": [
        "def name(first_name, last_name=\"Pérez\"):\n",
        "    print(first_name, last_name)\n",
        " \n",
        "name(\"Andy\") # salida: Andy Pérez\n",
        "name(\"Bety\", \"Rodríguez\") # salida: Bety Rodríguez (el argumento de palabra clave es reemplazado por \"Rodríguez"
      ],
      "metadata": {
        "colab": {
          "base_uri": "https://localhost:8080/"
        },
        "id": "o5iCmjZ7Pma6",
        "outputId": "a8406583-819d-4541-b748-555e519028bd"
      },
      "execution_count": null,
      "outputs": [
        {
          "output_type": "stream",
          "name": "stdout",
          "text": [
            "Andy Pérez\n",
            "Bety Rodríguez\n"
          ]
        }
      ]
    },
    {
      "cell_type": "code",
      "source": [
        "def intro(a=\"James Bond\", b=\"Bond\"):\n",
        "     print(\"Mi nombre es\", b + \".\", a + \".\")\n",
        " \n",
        "intro()"
      ],
      "metadata": {
        "colab": {
          "base_uri": "https://localhost:8080/"
        },
        "id": "GLCyc24nPmZJ",
        "outputId": "140fbe51-837c-4b10-a44b-bc65c9d4dd67"
      },
      "execution_count": null,
      "outputs": [
        {
          "output_type": "stream",
          "name": "stdout",
          "text": [
            "Mi nombre es Bond. James Bond.\n"
          ]
        }
      ]
    },
    {
      "cell_type": "code",
      "source": [
        "def intro(a=\"James Bond\", b=\"Bond\"):\n",
        "    print(\"Mi nombre es\", b + \".\", a + \".\")\n",
        " \n",
        "intro(b=\"Sean Connery\")"
      ],
      "metadata": {
        "colab": {
          "base_uri": "https://localhost:8080/"
        },
        "id": "Pt5YmO1BPmVF",
        "outputId": "059a1340-335d-4bd5-8774-b441e4e56daf"
      },
      "execution_count": null,
      "outputs": [
        {
          "output_type": "stream",
          "name": "stdout",
          "text": [
            "Mi nombre es Sean Connery. James Bond.\n"
          ]
        }
      ]
    },
    {
      "cell_type": "code",
      "source": [
        "def intro(a, b=\"Bond\"):\n",
        "    print(\"Mi nombre es\", b + \".\", a + \".\")\n",
        " \n",
        "intro(\"Susan\")"
      ],
      "metadata": {
        "colab": {
          "base_uri": "https://localhost:8080/"
        },
        "id": "w4SOP4EGPmRr",
        "outputId": "66fd8b4f-1827-4671-f7f3-eb5e58e9071e"
      },
      "execution_count": null,
      "outputs": [
        {
          "output_type": "stream",
          "name": "stdout",
          "text": [
            "Mi nombre es Bond. Susan.\n"
          ]
        }
      ]
    },
    {
      "cell_type": "code",
      "source": [
        "def add_numbers(a, b=2, c):\n",
        "    print(a + b + c)\n",
        " \n",
        "add_numbers(a=1, c=3)"
      ],
      "metadata": {
        "colab": {
          "base_uri": "https://localhost:8080/",
          "height": 130
        },
        "id": "tiv-bS7PPmMx",
        "outputId": "3b8a830d-c45f-4a0b-e433-1340690ef664"
      },
      "execution_count": null,
      "outputs": [
        {
          "output_type": "error",
          "ename": "SyntaxError",
          "evalue": "ignored",
          "traceback": [
            "\u001b[0;36m  File \u001b[0;32m\"<ipython-input-37-290e7a83a5a0>\"\u001b[0;36m, line \u001b[0;32m1\u001b[0m\n\u001b[0;31m    def add_numbers(a, b=2, c):\u001b[0m\n\u001b[0m                            ^\u001b[0m\n\u001b[0;31mSyntaxError\u001b[0m\u001b[0;31m:\u001b[0m non-default argument follows default argument\n"
          ]
        }
      ]
    },
    {
      "cell_type": "code",
      "source": [
        "def happy_new_year(wishes = True):\n",
        "    print(\"Tres...\")\n",
        "    print(\"Dos...\")\n",
        "    print(\"Uno...\")\n",
        "    if not wishes:\n",
        "        return\n",
        " \n",
        "    print(\"¡Feliz año nuevo!\")"
      ],
      "metadata": {
        "id": "rpy9pEN-PmI-"
      },
      "execution_count": 2,
      "outputs": []
    },
    {
      "cell_type": "code",
      "source": [
        "happy_new_year()"
      ],
      "metadata": {
        "id": "hsNlpiyVPmFC",
        "colab": {
          "base_uri": "https://localhost:8080/"
        },
        "outputId": "8b34f2c7-3c3a-40d6-c547-92120c23feef"
      },
      "execution_count": 3,
      "outputs": [
        {
          "output_type": "stream",
          "name": "stdout",
          "text": [
            "Tres...\n",
            "Dos...\n",
            "Uno...\n",
            "¡Feliz año nuevo!\n"
          ]
        }
      ]
    },
    {
      "cell_type": "code",
      "source": [
        "happy_new_year(False)"
      ],
      "metadata": {
        "id": "XpdY0rJ5PmAm",
        "colab": {
          "base_uri": "https://localhost:8080/"
        },
        "outputId": "60436f2d-7bca-4024-9506-b57efbb22ac1"
      },
      "execution_count": 4,
      "outputs": [
        {
          "output_type": "stream",
          "name": "stdout",
          "text": [
            "Tres...\n",
            "Dos...\n",
            "Uno...\n"
          ]
        }
      ]
    },
    {
      "cell_type": "code",
      "source": [
        "def function():\n",
        "    return expression"
      ],
      "metadata": {
        "id": "RiEeiBbuPGQ2"
      },
      "execution_count": 5,
      "outputs": []
    },
    {
      "cell_type": "code",
      "source": [
        "def boring_function():\n",
        "    return 123\n",
        " \n",
        "x = boring_function()\n",
        " \n",
        "print(\"La función boring_function ha devuelto su resultado. Es:\", x)"
      ],
      "metadata": {
        "id": "2k-HBktNPGOD",
        "colab": {
          "base_uri": "https://localhost:8080/"
        },
        "outputId": "d781ab7f-561c-44e6-b553-c234e52d30db"
      },
      "execution_count": 6,
      "outputs": [
        {
          "output_type": "stream",
          "name": "stdout",
          "text": [
            "La función boring_function ha devuelto su resultado. Es: 123\n"
          ]
        }
      ]
    },
    {
      "cell_type": "code",
      "source": [
        "def boring_function():\n",
        "    print(\"'Modo aburrimiento' ON.\")\n",
        "    return 123\n",
        " \n",
        "print(\"¡Esta lección es interesante!\")\n",
        "boring_function()\n",
        "print(\"Esta lección es aburrida...\")"
      ],
      "metadata": {
        "colab": {
          "base_uri": "https://localhost:8080/"
        },
        "id": "U7rXQZg2dg38",
        "outputId": "1a984e45-cc76-49e6-acfb-7712e085051b"
      },
      "execution_count": 7,
      "outputs": [
        {
          "output_type": "stream",
          "name": "stdout",
          "text": [
            "¡Esta lección es interesante!\n",
            "'Modo aburrimiento' ON.\n",
            "Esta lección es aburrida...\n"
          ]
        }
      ]
    },
    {
      "cell_type": "code",
      "source": [
        "print(None + 2)"
      ],
      "metadata": {
        "colab": {
          "base_uri": "https://localhost:8080/",
          "height": 165
        },
        "id": "aZHBbtdgdg1K",
        "outputId": "220a561f-c459-4168-e71b-9c0ef358b77e"
      },
      "execution_count": 8,
      "outputs": [
        {
          "output_type": "error",
          "ename": "TypeError",
          "evalue": "ignored",
          "traceback": [
            "\u001b[0;31m---------------------------------------------------------------------------\u001b[0m",
            "\u001b[0;31mTypeError\u001b[0m                                 Traceback (most recent call last)",
            "\u001b[0;32m<ipython-input-8-14da67643a5a>\u001b[0m in \u001b[0;36m<cell line: 1>\u001b[0;34m()\u001b[0m\n\u001b[0;32m----> 1\u001b[0;31m \u001b[0mprint\u001b[0m\u001b[0;34m(\u001b[0m\u001b[0;32mNone\u001b[0m \u001b[0;34m+\u001b[0m \u001b[0;36m2\u001b[0m\u001b[0;34m)\u001b[0m\u001b[0;34m\u001b[0m\u001b[0;34m\u001b[0m\u001b[0m\n\u001b[0m",
            "\u001b[0;31mTypeError\u001b[0m: unsupported operand type(s) for +: 'NoneType' and 'int'"
          ]
        }
      ]
    },
    {
      "cell_type": "code",
      "source": [
        "value = None\n",
        "if value is None:\n",
        "    print(\"Lo siento, no contienes ningún valor\")\n",
        " "
      ],
      "metadata": {
        "colab": {
          "base_uri": "https://localhost:8080/"
        },
        "id": "bEVfDvQndgyj",
        "outputId": "e06900eb-1497-4b7b-bf6b-2453a35a9d6a"
      },
      "execution_count": 9,
      "outputs": [
        {
          "output_type": "stream",
          "name": "stdout",
          "text": [
            "Lo siento, no contienes ningún valor\n"
          ]
        }
      ]
    },
    {
      "cell_type": "code",
      "source": [
        "def strange_function(n):\n",
        "    if(n % 2 == 0):\n",
        "        return True\n"
      ],
      "metadata": {
        "id": "UwLFYWN1dgwT"
      },
      "execution_count": 10,
      "outputs": []
    },
    {
      "cell_type": "code",
      "source": [
        "print(strange_function(2))\n",
        "print(strange_function(1))\n"
      ],
      "metadata": {
        "colab": {
          "base_uri": "https://localhost:8080/"
        },
        "id": "aifT_CPHdguF",
        "outputId": "482d2dd5-3517-429b-bb33-e6da0ed1e127"
      },
      "execution_count": 11,
      "outputs": [
        {
          "output_type": "stream",
          "name": "stdout",
          "text": [
            "True\n",
            "None\n"
          ]
        }
      ]
    },
    {
      "cell_type": "code",
      "source": [
        "def list_sum(lst):\n",
        "    s = 0\n",
        " \n",
        "    for elem in lst:\n",
        "        s += elem\n",
        " \n",
        "    return s"
      ],
      "metadata": {
        "id": "ntjRTaHFdgrq"
      },
      "execution_count": 12,
      "outputs": []
    },
    {
      "cell_type": "code",
      "source": [
        "print(list_sum([5, 4, 3]))"
      ],
      "metadata": {
        "colab": {
          "base_uri": "https://localhost:8080/"
        },
        "id": "GA6NXxmpdgpV",
        "outputId": "cdee1ccd-5148-40d5-fee1-989917569b18"
      },
      "execution_count": 13,
      "outputs": [
        {
          "output_type": "stream",
          "name": "stdout",
          "text": [
            "12\n"
          ]
        }
      ]
    },
    {
      "cell_type": "code",
      "source": [
        "print(list_sum(5))"
      ],
      "metadata": {
        "colab": {
          "base_uri": "https://localhost:8080/",
          "height": 287
        },
        "id": "BS6wy-H1dgna",
        "outputId": "1fbaa65c-f09d-4e0c-9f49-27373d5bf893"
      },
      "execution_count": 14,
      "outputs": [
        {
          "output_type": "error",
          "ename": "TypeError",
          "evalue": "ignored",
          "traceback": [
            "\u001b[0;31m---------------------------------------------------------------------------\u001b[0m",
            "\u001b[0;31mTypeError\u001b[0m                                 Traceback (most recent call last)",
            "\u001b[0;32m<ipython-input-14-b4a9ba0235a9>\u001b[0m in \u001b[0;36m<cell line: 1>\u001b[0;34m()\u001b[0m\n\u001b[0;32m----> 1\u001b[0;31m \u001b[0mprint\u001b[0m\u001b[0;34m(\u001b[0m\u001b[0mlist_sum\u001b[0m\u001b[0;34m(\u001b[0m\u001b[0;36m5\u001b[0m\u001b[0;34m)\u001b[0m\u001b[0;34m)\u001b[0m\u001b[0;34m\u001b[0m\u001b[0;34m\u001b[0m\u001b[0m\n\u001b[0m",
            "\u001b[0;32m<ipython-input-12-4cf39b4c3306>\u001b[0m in \u001b[0;36mlist_sum\u001b[0;34m(lst)\u001b[0m\n\u001b[1;32m      2\u001b[0m     \u001b[0ms\u001b[0m \u001b[0;34m=\u001b[0m \u001b[0;36m0\u001b[0m\u001b[0;34m\u001b[0m\u001b[0;34m\u001b[0m\u001b[0m\n\u001b[1;32m      3\u001b[0m \u001b[0;34m\u001b[0m\u001b[0m\n\u001b[0;32m----> 4\u001b[0;31m     \u001b[0;32mfor\u001b[0m \u001b[0melem\u001b[0m \u001b[0;32min\u001b[0m \u001b[0mlst\u001b[0m\u001b[0;34m:\u001b[0m\u001b[0;34m\u001b[0m\u001b[0;34m\u001b[0m\u001b[0m\n\u001b[0m\u001b[1;32m      5\u001b[0m         \u001b[0ms\u001b[0m \u001b[0;34m+=\u001b[0m \u001b[0melem\u001b[0m\u001b[0;34m\u001b[0m\u001b[0;34m\u001b[0m\u001b[0m\n\u001b[1;32m      6\u001b[0m \u001b[0;34m\u001b[0m\u001b[0m\n",
            "\u001b[0;31mTypeError\u001b[0m: 'int' object is not iterable"
          ]
        }
      ]
    },
    {
      "cell_type": "code",
      "source": [
        "print(list_sum(5))"
      ],
      "metadata": {
        "colab": {
          "base_uri": "https://localhost:8080/",
          "height": 287
        },
        "id": "KGleh75Cdgla",
        "outputId": "8c282a07-9032-4908-ea80-37c2b2c7ff97"
      },
      "execution_count": 15,
      "outputs": [
        {
          "output_type": "error",
          "ename": "TypeError",
          "evalue": "ignored",
          "traceback": [
            "\u001b[0;31m---------------------------------------------------------------------------\u001b[0m",
            "\u001b[0;31mTypeError\u001b[0m                                 Traceback (most recent call last)",
            "\u001b[0;32m<ipython-input-15-b4a9ba0235a9>\u001b[0m in \u001b[0;36m<cell line: 1>\u001b[0;34m()\u001b[0m\n\u001b[0;32m----> 1\u001b[0;31m \u001b[0mprint\u001b[0m\u001b[0;34m(\u001b[0m\u001b[0mlist_sum\u001b[0m\u001b[0;34m(\u001b[0m\u001b[0;36m5\u001b[0m\u001b[0;34m)\u001b[0m\u001b[0;34m)\u001b[0m\u001b[0;34m\u001b[0m\u001b[0;34m\u001b[0m\u001b[0m\n\u001b[0m",
            "\u001b[0;32m<ipython-input-12-4cf39b4c3306>\u001b[0m in \u001b[0;36mlist_sum\u001b[0;34m(lst)\u001b[0m\n\u001b[1;32m      2\u001b[0m     \u001b[0ms\u001b[0m \u001b[0;34m=\u001b[0m \u001b[0;36m0\u001b[0m\u001b[0;34m\u001b[0m\u001b[0;34m\u001b[0m\u001b[0m\n\u001b[1;32m      3\u001b[0m \u001b[0;34m\u001b[0m\u001b[0m\n\u001b[0;32m----> 4\u001b[0;31m     \u001b[0;32mfor\u001b[0m \u001b[0melem\u001b[0m \u001b[0;32min\u001b[0m \u001b[0mlst\u001b[0m\u001b[0;34m:\u001b[0m\u001b[0;34m\u001b[0m\u001b[0;34m\u001b[0m\u001b[0m\n\u001b[0m\u001b[1;32m      5\u001b[0m         \u001b[0ms\u001b[0m \u001b[0;34m+=\u001b[0m \u001b[0melem\u001b[0m\u001b[0;34m\u001b[0m\u001b[0;34m\u001b[0m\u001b[0m\n\u001b[1;32m      6\u001b[0m \u001b[0;34m\u001b[0m\u001b[0m\n",
            "\u001b[0;31mTypeError\u001b[0m: 'int' object is not iterable"
          ]
        }
      ]
    },
    {
      "cell_type": "code",
      "source": [
        "def strange_list_fun(n):\n",
        "    strange_list = []\n",
        "    \n",
        "    for i in range(0, n):\n",
        "        strange_list.insert(0, i)\n",
        "    \n",
        "    return strange_list\n",
        "\n",
        "print(strange_list_fun(5))\n"
      ],
      "metadata": {
        "colab": {
          "base_uri": "https://localhost:8080/"
        },
        "id": "fi1PKiBydgja",
        "outputId": "4de73ae7-4dff-4da3-c5f2-36e0fccb187c"
      },
      "execution_count": 16,
      "outputs": [
        {
          "output_type": "stream",
          "name": "stdout",
          "text": [
            "[4, 3, 2, 1, 0]\n"
          ]
        }
      ]
    },
    {
      "cell_type": "code",
      "source": [
        "def is_year_leap(year):\n",
        "    #\n",
        "    # Es\n",
        "\n",
        "test_data = [1900, 2000, 2016, 1987]\n",
        "test_results = [False, True, True, False]\n",
        "for i in range(len(test_data)):\n",
        "    yr = test_data[i]\n",
        "    print(yr,\"->\",end=\"\")\n",
        "    result = is_year_leap(yr)\n",
        "    if result == test_results[i]:\n",
        "        print(\"OK\")\n",
        "    else:\n",
        "        print(\"Fallido\")"
      ],
      "metadata": {
        "colab": {
          "base_uri": "https://localhost:8080/",
          "height": 130
        },
        "id": "M-uqcVwrdghd",
        "outputId": "18e6db12-02a3-4464-97c1-3d9e018a2879"
      },
      "execution_count": 17,
      "outputs": [
        {
          "output_type": "error",
          "ename": "IndentationError",
          "evalue": "ignored",
          "traceback": [
            "\u001b[0;36m  File \u001b[0;32m\"<ipython-input-17-85fc7d23147f>\"\u001b[0;36m, line \u001b[0;32m5\u001b[0m\n\u001b[0;31m    test_data = [1900, 2000, 2016, 1987]\u001b[0m\n\u001b[0m    ^\u001b[0m\n\u001b[0;31mIndentationError\u001b[0m\u001b[0;31m:\u001b[0m expected an indented block after function definition on line 1\n"
          ]
        }
      ]
    },
    {
      "cell_type": "code",
      "source": [
        "def is_year_leap(year):\n",
        "    if year % 4 != 0:\n",
        "        #\n",
        "    # elif statement\n",
        "        #\n",
        "    # elif statement\n",
        "        #\n",
        "    # else statement\n",
        "\n",
        "test_data = [1900, 2000, 2016, 1987]\n",
        "test_results = [False, True, True, False]\n",
        "for i in range(len(test_data)):\n",
        "    yr = test_data[i]\n",
        "    print(yr,\"-> \",end=\"\")\n",
        "    result = is_year_leap(yr)\n",
        "    if result == test_results[i]:\n",
        "        print(\"OK\")\n",
        "    else:\n",
        "        print(\"Fallido\")"
      ],
      "metadata": {
        "colab": {
          "base_uri": "https://localhost:8080/",
          "height": 130
        },
        "id": "glZSq6REdgfg",
        "outputId": "52ad792b-d86a-47e5-dffc-fabfa6760a50"
      },
      "execution_count": 18,
      "outputs": [
        {
          "output_type": "error",
          "ename": "IndentationError",
          "evalue": "ignored",
          "traceback": [
            "\u001b[0;36m  File \u001b[0;32m\"<ipython-input-18-a0f551dcbfe9>\"\u001b[0;36m, line \u001b[0;32m10\u001b[0m\n\u001b[0;31m    test_data = [1900, 2000, 2016, 1987]\u001b[0m\n\u001b[0m                                        ^\u001b[0m\n\u001b[0;31mIndentationError\u001b[0m\u001b[0;31m:\u001b[0m expected an indented block after 'if' statement on line 2\n"
          ]
        }
      ]
    },
    {
      "cell_type": "code",
      "source": [
        "def is_year_leap(year):\n",
        "    #\n",
        "    # Tu código del LAB anterior.\n",
        "    #\n",
        "\n",
        "def days_in_month(year, month):\n",
        "    #\n",
        "    # Escribe tu código nuevo aquí.\n",
        "    #\n",
        "\n",
        "test_years = [1900, 2000, 2016, 1987]\n",
        "test_months = [2, 2, 1, 11]\n",
        "test_results = [28, 29, 31, 30]\n",
        "for i in range(len(test_years)):\n",
        "    yr = test_years[i]\n",
        "    mo = test_months[i]\n",
        "    print(yr, mo, \"->\", end=\"\")\n",
        "    result = days_in_month(yr, mo)\n",
        "    if result == test_results[i]:\n",
        "        print(\"OK\")\n",
        "    else:\n",
        "        print(\"Fallido\")"
      ],
      "metadata": {
        "colab": {
          "base_uri": "https://localhost:8080/",
          "height": 130
        },
        "id": "p3j-TxIwdgcm",
        "outputId": "b66e1af9-ff85-4363-eb4b-923401bb5c0d"
      },
      "execution_count": 19,
      "outputs": [
        {
          "output_type": "error",
          "ename": "IndentationError",
          "evalue": "ignored",
          "traceback": [
            "\u001b[0;36m  File \u001b[0;32m\"<ipython-input-19-406f3871bfb1>\"\u001b[0;36m, line \u001b[0;32m6\u001b[0m\n\u001b[0;31m    def days_in_month(year, month):\u001b[0m\n\u001b[0m    ^\u001b[0m\n\u001b[0;31mIndentationError\u001b[0m\u001b[0;31m:\u001b[0m expected an indented block after function definition on line 1\n"
          ]
        }
      ]
    },
    {
      "cell_type": "code",
      "source": [
        "def is_year_leap(year):\n",
        "    if year % 4 != 0:\n",
        "        return False\n",
        "    elif year % 100 != 0:\n",
        "        return True\n",
        "    elif year % 400 != 0:\n",
        "        return False\n",
        "    else:\n",
        "        return True\n",
        "\n",
        "test_data = [1900, 2000, 2016, 1987]\n",
        "test_results = [False, True, True, False]\n",
        "for i in range(len(test_data)):\n",
        "    yr = test_data[i]\n",
        "    print(yr,\"-> \",end=\"\")\n",
        "    result = is_year_leap(yr)\n",
        "    if result == test_results[i]:\n",
        "        print(\"OK\")\n",
        "    else:\n",
        "        print(\"Fallido\")"
      ],
      "metadata": {
        "colab": {
          "base_uri": "https://localhost:8080/"
        },
        "id": "aaMbDi9ofUk6",
        "outputId": "a5a61f35-1fcf-4f1e-bd96-3cc369046a95"
      },
      "execution_count": 22,
      "outputs": [
        {
          "output_type": "stream",
          "name": "stdout",
          "text": [
            "1900 -> OK\n",
            "2000 -> OK\n",
            "2016 -> OK\n",
            "1987 -> OK\n"
          ]
        }
      ]
    },
    {
      "cell_type": "code",
      "source": [
        "def is_year_leap(year):\n",
        "    if year % 4 != 0:\n",
        "        return False\n",
        "    elif year % 100 != 0:\n",
        "        return True\n",
        "    elif year % 400 != 0:\n",
        "        return False\n",
        "    else:\n",
        "        return True\n",
        "\n",
        "def days_in_month(year, month):\n",
        "    # if statement\n",
        "        # ...\n",
        "    days = [31, 28, 31, 30, 31, 30, 31, 31, 30, 31, 30, 31]\n",
        "    res  = days[month - 1]\n",
        "    if month == 2 and is_year_leap(year):\n",
        "        res = 29\n",
        "    return res\n",
        "\n",
        "test_years = [1900, 2000, 2016, 1987]\n",
        "test_months = [ 2, 2, 1, 11]\n",
        "test_results = [28, 29, 31, 30]\n",
        "for i in range(len(test_years)):\n",
        "    yr = test_years[i]\n",
        "    mo = test_months[i]\n",
        "    print(yr,mo,\"-> \",end=\"\")\n",
        "    result = days_in_month(yr, mo)\n",
        "    if result == test_results[i]:\n",
        "        print(\"OK\")\n",
        "    else:\n",
        "        print(\"Fallido\")"
      ],
      "metadata": {
        "colab": {
          "base_uri": "https://localhost:8080/"
        },
        "id": "anPKIvQjdgZm",
        "outputId": "60d70e33-a0ca-4e3c-cd7f-27da797582ec"
      },
      "execution_count": 20,
      "outputs": [
        {
          "output_type": "stream",
          "name": "stdout",
          "text": [
            "1900 2 -> OK\n",
            "2000 2 -> OK\n",
            "2016 1 -> OK\n",
            "1987 11 -> OK\n"
          ]
        }
      ]
    },
    {
      "cell_type": "code",
      "source": [
        "def is_year_leap(year):\n",
        "    if year % 4 != 0:\n",
        "        return False\n",
        "    elif year % 100 != 0:\n",
        "        return True\n",
        "    elif year % 400 != 0:\n",
        "        return False\n",
        "    else:\n",
        "        return True\n",
        "\n",
        "def days_in_month(year,month):\n",
        "    if year < 1582 or month < 1 or month > 12:\n",
        "        return None\n",
        "    days = [31, 28, 31, 30, 31, 30, 31, 31, 30, 31, 30, 31]\n",
        "    res  = days[month - 1]\n",
        "    if month == 2 and is_year_leap(year):\n",
        "        res = 29\n",
        "    return res\n",
        "\n",
        "test_years = [1900, 2000, 2016, 1987]\n",
        "test_months = [ 2, 2, 1, 11]\n",
        "test_results = [28, 29, 31, 30]\n",
        "for i in range(len(test_years)):\n",
        "    yr = test_years[i]\n",
        "    mo = test_months[i]\n",
        "    print(yr,mo,\"-> \",end=\"\")\n",
        "    result = days_in_month(yr, mo)\n",
        "    if result == test_results[i]:\n",
        "        print(\"OK\")\n",
        "    else:\n",
        "        print(\"Fallido\")"
      ],
      "metadata": {
        "colab": {
          "base_uri": "https://localhost:8080/"
        },
        "id": "2dJHLFsSdgXc",
        "outputId": "67068ced-f5c1-43f5-e5ad-fdeb355aaa4f"
      },
      "execution_count": 21,
      "outputs": [
        {
          "output_type": "stream",
          "name": "stdout",
          "text": [
            "1900 2 -> OK\n",
            "2000 2 -> OK\n",
            "2016 1 -> OK\n",
            "1987 11 -> OK\n"
          ]
        }
      ]
    },
    {
      "cell_type": "code",
      "source": [
        "def is_year_leap(year):\n",
        "    #\n",
        "    # Tu código del LAB anterior.\n",
        "    #\n",
        "\n",
        "def days_in_month(year, month):\n",
        "    #\n",
        "    # Tu código del LAB anterior.\n",
        "    #\n",
        "\n",
        "def day_of_year(year, month, day):\n",
        "    #\n",
        "    # Escribe tu código nuevo aquí.\n",
        "    #\n",
        "\n",
        "print(day_of_year(2000, 12, 31))"
      ],
      "metadata": {
        "id": "x2mev90AdgVV"
      },
      "execution_count": null,
      "outputs": []
    },
    {
      "cell_type": "code",
      "source": [
        "def is_year_leap(year):\n",
        "    if year % 4 != 0:\n",
        "        return False\n",
        "    elif year % 100 != 0:\n",
        "        return True\n",
        "    elif year % 400 != 0:\n",
        "        return False\n",
        "    else:\n",
        "        return True\n",
        "\n",
        "def days_in_month(year, month):\n",
        "    if year < 1582 or month < 1 or month > 12:\n",
        "        return None\n",
        "    days = [31, 28, 31, 30, 31, 30, 31, 31, 30, 31, 30, 31]\n",
        "    res  = days[month - 1]\n",
        "    if month == 2 and is_year_leap(year):\n",
        "        res = 29\n",
        "    return res\n",
        "\n",
        "def day_of_year(year, month, day):\n",
        "    days = 0\n",
        "    for m in range(1, month):\n",
        "        # ...\n",
        "        # if statement\n",
        "            # ...\n",
        "        days += md\n",
        "    md = days_in_month(year, month)\n",
        "    if day >= 1 and day <= md:\n",
        "        # ...\n",
        "    else:\n",
        "        # ...\n",
        "\n",
        "print(day_of_year(2000, 12, 31))"
      ],
      "metadata": {
        "id": "R2DaIfEjffls"
      },
      "execution_count": null,
      "outputs": []
    },
    {
      "cell_type": "code",
      "source": [
        "def is_year_leap(year):\n",
        "    if year % 4 != 0:\n",
        "        return False\n",
        "    elif year % 100 != 0:\n",
        "        return True\n",
        "    elif year % 400 != 0:\n",
        "        return False\n",
        "    else:\n",
        "        return True\n",
        "\n",
        "def days_in_month(year, month):\n",
        "    if year < 1582 or month < 1 or month > 12:\n",
        "        return None\n",
        "    days = [31, 28, 31, 30, 31, 30, 31, 31, 30, 31, 30, 31]\n",
        "    res  = days[month - 1]\n",
        "    if month == 2 and is_year_leap(year):\n",
        "        res = 29\n",
        "    return res\n",
        "\n",
        "def day_of_year(year, month, day):\n",
        "    days = 0\n",
        "    for m in range(1, month):\n",
        "        md = days_in_month(year, m)\n",
        "        if md == None:\n",
        "            return None\n",
        "        days += md\n",
        "    md = days_in_month(year, month)\n",
        "    if day >= 1 and day <= md:\n",
        "        return days + day\n",
        "    else:\n",
        "        return None\n",
        "\n",
        "print(day_of_year(2000, 12, 31))"
      ],
      "metadata": {
        "id": "NAs-rhK3ffjg"
      },
      "execution_count": null,
      "outputs": []
    },
    {
      "cell_type": "code",
      "source": [
        "def is_prime(num):\n",
        "    #\n",
        "    # Escribe tu código aquí.\n",
        "    #\n",
        "\n",
        "for i in range(1, 20):\n",
        "    if is_prime(i + 1):\n",
        "        print(i + 1, end=\" \")\n",
        "print()\n"
      ],
      "metadata": {
        "colab": {
          "base_uri": "https://localhost:8080/",
          "height": 130
        },
        "id": "VVZ6wkImffhE",
        "outputId": "c124a3bc-8f65-483f-e290-9b5e2aac96ba"
      },
      "execution_count": 23,
      "outputs": [
        {
          "output_type": "error",
          "ename": "IndentationError",
          "evalue": "ignored",
          "traceback": [
            "\u001b[0;36m  File \u001b[0;32m\"<ipython-input-23-af41ee4d57e9>\"\u001b[0;36m, line \u001b[0;32m6\u001b[0m\n\u001b[0;31m    for i in range(1, 20):\u001b[0m\n\u001b[0m    ^\u001b[0m\n\u001b[0;31mIndentationError\u001b[0m\u001b[0;31m:\u001b[0m expected an indented block after function definition on line 1\n"
          ]
        }
      ]
    },
    {
      "cell_type": "code",
      "source": [
        "def is_prime(num):\n",
        "    # en bucle for\n",
        "        # la sentencia if\n",
        "            return False\n",
        "    return True\n",
        "\n",
        "for i in range(1, 20):\n",
        "    if is_prime(i + 1):\n",
        "        print(i + 1, end=\" \")\n",
        "print()\n"
      ],
      "metadata": {
        "colab": {
          "base_uri": "https://localhost:8080/",
          "height": 130
        },
        "id": "sSKvAl_0ffdt",
        "outputId": "ab4d55fd-e4ff-4808-ff21-d1a101de695e"
      },
      "execution_count": 25,
      "outputs": [
        {
          "output_type": "error",
          "ename": "IndentationError",
          "evalue": "ignored",
          "traceback": [
            "\u001b[0;36m  File \u001b[0;32m\"<tokenize>\"\u001b[0;36m, line \u001b[0;32m5\u001b[0m\n\u001b[0;31m    return True\u001b[0m\n\u001b[0m    ^\u001b[0m\n\u001b[0;31mIndentationError\u001b[0m\u001b[0;31m:\u001b[0m unindent does not match any outer indentation level\n"
          ]
        }
      ]
    },
    {
      "cell_type": "code",
      "source": [
        "def is_prime(num):\n",
        "    for i in range(2, int(1 + num ** 0.5)):\n",
        "        if num % i == 0:\n",
        "            return False\n",
        "    return True\n",
        "\n",
        "for i in range(1, 20):\n",
        "    if is_prime(i + 1):\n",
        "        print(i + 1, end=\" \")\n",
        "print()\n"
      ],
      "metadata": {
        "colab": {
          "base_uri": "https://localhost:8080/"
        },
        "id": "QUDjv9y3ffbk",
        "outputId": "166b3e35-6abd-4bce-ba0a-8740a07b5db2"
      },
      "execution_count": 26,
      "outputs": [
        {
          "output_type": "stream",
          "name": "stdout",
          "text": [
            "2 3 5 7 11 13 17 19 \n"
          ]
        }
      ]
    },
    {
      "cell_type": "code",
      "source": [
        "def liters_100km_to_miles_gallon(liters):\n",
        "    #\n",
        "    # Escribe tu código aquí.\n",
        "    #\n",
        "\n",
        "def miles_gallon_to_liters_100km(miles):\n",
        "    #\n",
        "    # Escribe tu código aquí.\n",
        "    #\n",
        "\n",
        "print(liters_100km_to_miles_gallon(3.9))\n",
        "print(liters_100km_to_miles_gallon(7.5))\n",
        "print(liters_100km_to_miles_gallon(10.))\n",
        "print(miles_gallon_to_liters_100km(60.3))\n",
        "print(miles_gallon_to_liters_100km(31.4))\n",
        "print(miles_gallon_to_liters_100km(23.5))"
      ],
      "metadata": {
        "id": "fIQWIaCjffZN"
      },
      "execution_count": null,
      "outputs": []
    },
    {
      "cell_type": "code",
      "source": [
        "# 1 milla = 1609.344 metros.\n",
        "# 1 galón = 3.785411784 litros.\n",
        "\n",
        "def liters_100km_to_miles_gallon(liters):\n",
        "    gallons = liters / 3.785411784\n",
        "    miles = 100 * 1000 / 1609.344\n",
        "    return miles / gallons\n",
        "\n",
        "def miles_gallon_to_liters_100km(miles):\n",
        "    # ...\n",
        "    # ...\n",
        "    # ...\n",
        "\n",
        "print(liters_100km_to_miles_gallon(3.9))\n",
        "print(liters_100km_to_miles_gallon(7.5))\n",
        "print(liters_100km_to_miles_gallon(10.))\n",
        "print(miles_gallon_to_liters_100km(60.3))\n",
        "print(miles_gallon_to_liters_100km(31.4))\n",
        "print(miles_gallon_to_liters_100km(23.5))\n"
      ],
      "metadata": {
        "colab": {
          "base_uri": "https://localhost:8080/",
          "height": 130
        },
        "id": "eM2_NzXMffXP",
        "outputId": "3f53d981-9b74-4f53-86e6-5e28d32b187b"
      },
      "execution_count": 27,
      "outputs": [
        {
          "output_type": "error",
          "ename": "IndentationError",
          "evalue": "ignored",
          "traceback": [
            "\u001b[0;36m  File \u001b[0;32m\"<ipython-input-27-03363ac02504>\"\u001b[0;36m, line \u001b[0;32m14\u001b[0m\n\u001b[0;31m    print(liters_100km_to_miles_gallon(3.9))\u001b[0m\n\u001b[0m    ^\u001b[0m\n\u001b[0;31mIndentationError\u001b[0m\u001b[0;31m:\u001b[0m expected an indented block after function definition on line 9\n"
          ]
        }
      ]
    },
    {
      "cell_type": "code",
      "source": [
        "# 1 milla = 1609.344 metros.\n",
        "# 1 galón = 3.785411784 litros.\n",
        "\n",
        "def liters_100km_to_miles_gallon(liters):\n",
        "    gallons = liters / 3.785411784\n",
        "    miles = 100 * 1000 / 1609.344\n",
        "    return miles / gallons\n",
        "\n",
        "def miles_gallon_to_liters_100km(miles):\n",
        "    km100 = miles * 1609.344 / 1000 / 100\n",
        "    liters = 3.785411784\n",
        "    return liters / km100\n",
        "\n",
        "print(liters_100km_to_miles_gallon(3.9))\n",
        "print(liters_100km_to_miles_gallon(7.5))\n",
        "print(liters_100km_to_miles_gallon(10.))\n",
        "print(miles_gallon_to_liters_100km(60.3))\n",
        "print(miles_gallon_to_liters_100km(31.4))\n",
        "print(miles_gallon_to_liters_100km(23.5))"
      ],
      "metadata": {
        "colab": {
          "base_uri": "https://localhost:8080/"
        },
        "id": "UGkhpLbCffU0",
        "outputId": "e559c229-d43d-4fd7-fae1-7373c4f83741"
      },
      "execution_count": 28,
      "outputs": [
        {
          "output_type": "stream",
          "name": "stdout",
          "text": [
            "60.31143162393162\n",
            "31.36194444444444\n",
            "23.52145833333333\n",
            "3.9007393587617467\n",
            "7.490910297239916\n",
            "10.009131205673757\n"
          ]
        }
      ]
    },
    {
      "cell_type": "code",
      "source": [
        "def multiply(a, b):\n",
        "    return a * b\n",
        " \n",
        "print(multiply(3, 4)) # salida: 12\n",
        " \n",
        " \n",
        "def multiply(a, b):\n",
        "    return\n",
        " \n",
        "print(multiply(3, 4)) # salida: None"
      ],
      "metadata": {
        "colab": {
          "base_uri": "https://localhost:8080/"
        },
        "id": "N47Xhp5HffSQ",
        "outputId": "bd313ac1-aef0-4382-d96d-008d681c2bbf"
      },
      "execution_count": 29,
      "outputs": [
        {
          "output_type": "stream",
          "name": "stdout",
          "text": [
            "12\n",
            "None\n"
          ]
        }
      ]
    },
    {
      "cell_type": "code",
      "source": [
        "def wishes():\n",
        "    return \"¡Felíz Cumpleaños!\n",
        " \n",
        "w = wishes()\n",
        " \n",
        "print(w) # salida:¡Felíz Cumpleaños!"
      ],
      "metadata": {
        "colab": {
          "base_uri": "https://localhost:8080/",
          "height": 130
        },
        "id": "dSrsoXK8gSfj",
        "outputId": "4a5aad7f-d950-4252-a473-9452ec002e9e"
      },
      "execution_count": 30,
      "outputs": [
        {
          "output_type": "error",
          "ename": "SyntaxError",
          "evalue": "ignored",
          "traceback": [
            "\u001b[0;36m  File \u001b[0;32m\"<ipython-input-30-1ebd1174156e>\"\u001b[0;36m, line \u001b[0;32m2\u001b[0m\n\u001b[0;31m    return \"¡Felíz Cumpleaños!\u001b[0m\n\u001b[0m           ^\u001b[0m\n\u001b[0;31mSyntaxError\u001b[0m\u001b[0;31m:\u001b[0m unterminated string literal (detected at line 2)\n"
          ]
        }
      ]
    },
    {
      "cell_type": "code",
      "source": [
        "# Ejemplo 1\n",
        "def wishes():\n",
        "    print(\"Mis deseos\")\n",
        "    return \"Felíz Cumpleaños\n",
        " \n",
        "wishes() # salida: Mis deseos\n",
        " \n",
        " \n",
        "# Ejemplo 2\n",
        "def wishes():\n",
        "    print(\"Mis deseos\")\n",
        "    return \"Felíz Cumpleaños\n",
        " \n",
        "print(wishes())\n",
        " \n",
        "# salida: Mis deseos\n",
        "# Felíz Cumpleaños"
      ],
      "metadata": {
        "colab": {
          "base_uri": "https://localhost:8080/",
          "height": 130
        },
        "id": "YnI7qso_gSdl",
        "outputId": "d7f24379-a71a-4b06-ba3f-0d15cf3fa154"
      },
      "execution_count": 31,
      "outputs": [
        {
          "output_type": "error",
          "ename": "SyntaxError",
          "evalue": "ignored",
          "traceback": [
            "\u001b[0;36m  File \u001b[0;32m\"<ipython-input-31-c9ac3128eaa4>\"\u001b[0;36m, line \u001b[0;32m4\u001b[0m\n\u001b[0;31m    return \"Felíz Cumpleaños\u001b[0m\n\u001b[0m           ^\u001b[0m\n\u001b[0;31mSyntaxError\u001b[0m\u001b[0;31m:\u001b[0m unterminated string literal (detected at line 4)\n"
          ]
        }
      ]
    },
    {
      "cell_type": "code",
      "source": [
        "def hi_everybody(my_list):\n",
        "    for name in my_list:\n",
        "        print(\"Hola,\", name)\n",
        " \n",
        "hi_everybody([\"Adán\", \"Juan\", \"Lucía\"])"
      ],
      "metadata": {
        "colab": {
          "base_uri": "https://localhost:8080/"
        },
        "id": "H0_gm09agSae",
        "outputId": "78e3627c-e401-476e-c39d-2c0a18fed1d0"
      },
      "execution_count": 32,
      "outputs": [
        {
          "output_type": "stream",
          "name": "stdout",
          "text": [
            "Hola, Adán\n",
            "Hola, Juan\n",
            "Hola, Lucía\n"
          ]
        }
      ]
    },
    {
      "cell_type": "code",
      "source": [
        "def create_list(n):\n",
        "    my_list = []\n",
        "    for i in range(n):\n",
        "        my_list.append(i)\n",
        "    return my_list\n",
        " \n",
        "print(create_list(5))"
      ],
      "metadata": {
        "colab": {
          "base_uri": "https://localhost:8080/"
        },
        "id": "ra3ak4PmgSWv",
        "outputId": "77c2a427-e226-474b-d615-3523ed72e83c"
      },
      "execution_count": 33,
      "outputs": [
        {
          "output_type": "stream",
          "name": "stdout",
          "text": [
            "[0, 1, 2, 3, 4]\n"
          ]
        }
      ]
    },
    {
      "cell_type": "code",
      "source": [
        "def hi():\n",
        "    return\n",
        "    print(\"¡Hola!\")\n",
        " \n",
        "hi()"
      ],
      "metadata": {
        "id": "if1Sc9eXgSUW"
      },
      "execution_count": 39,
      "outputs": []
    },
    {
      "cell_type": "code",
      "source": [
        "def is_int(data):\n",
        "    if type(data) == int:\n",
        "        return True\n",
        "    elif type(data) == float:\n",
        "        return False\n",
        " \n",
        "print(is_int(5))\n",
        "print(is_int(5.0))\n",
        "print(is_int(\"5\"))"
      ],
      "metadata": {
        "colab": {
          "base_uri": "https://localhost:8080/"
        },
        "id": "gy1pDZdegSR_",
        "outputId": "b5aa1de6-faf5-48b3-c62d-444f30f742ab"
      },
      "execution_count": 35,
      "outputs": [
        {
          "output_type": "stream",
          "name": "stdout",
          "text": [
            "True\n",
            "False\n",
            "None\n"
          ]
        }
      ]
    },
    {
      "cell_type": "code",
      "source": [
        "def even_num_lst(ran):\n",
        "    lst = []\n",
        "    for num in range(ran):\n",
        "        if num % 2 == 0:\n",
        "            lst.append(num)\n",
        "    return lst\n",
        " \n",
        "print(even_num_lst(11))"
      ],
      "metadata": {
        "colab": {
          "base_uri": "https://localhost:8080/"
        },
        "id": "povtSV8tgSP1",
        "outputId": "6805abbd-6a31-4c5e-986a-502d82223f17"
      },
      "execution_count": 36,
      "outputs": [
        {
          "output_type": "stream",
          "name": "stdout",
          "text": [
            "[0, 2, 4, 6, 8, 10]\n"
          ]
        }
      ]
    },
    {
      "cell_type": "code",
      "source": [
        "def list_updater(lst):\n",
        "    upd_list = []\n",
        "    for elem in lst:\n",
        "        elem **= 2\n",
        "        upd_list.append(elem)\n",
        "    return upd_list\n",
        " \n",
        "foo = [1, 2, 3, 4, 5]\n",
        "print(list_updater(foo))"
      ],
      "metadata": {
        "colab": {
          "base_uri": "https://localhost:8080/"
        },
        "id": "ekNEXw2ZgSNe",
        "outputId": "920cc250-0898-43ed-a718-6215d018d71a"
      },
      "execution_count": 37,
      "outputs": [
        {
          "output_type": "stream",
          "name": "stdout",
          "text": [
            "[1, 4, 9, 16, 25]\n"
          ]
        }
      ]
    },
    {
      "cell_type": "code",
      "source": [
        "def scope_test():\n",
        "    x = 123\n",
        "\n",
        "\n",
        "scope_test()\n",
        "print(x)\n",
        "\n",
        "# No funciona en el editor de código de cisco, lo cual implica que Cisco o yo estamos mintiendo / :o "
      ],
      "metadata": {
        "colab": {
          "base_uri": "https://localhost:8080/"
        },
        "id": "enXiQd797epb",
        "outputId": "bc5a9314-c23d-4d30-f723-4d7ff6a0c0c1"
      },
      "execution_count": 49,
      "outputs": [
        {
          "output_type": "stream",
          "name": "stdout",
          "text": [
            "123\n"
          ]
        }
      ]
    },
    {
      "cell_type": "code",
      "source": [
        "def my_function():\n",
        "    print(\"¿Conozco a la variable?\", var)\n",
        "\n",
        "\n",
        "var = 1\n",
        "my_function()\n",
        "print(var)\n"
      ],
      "metadata": {
        "colab": {
          "base_uri": "https://localhost:8080/"
        },
        "id": "cKLjIUNI7627",
        "outputId": "76524b78-e775-4f6e-e3a7-4aa62196f8a1"
      },
      "execution_count": 50,
      "outputs": [
        {
          "output_type": "stream",
          "name": "stdout",
          "text": [
            "¿Conozco a la variable? 1\n",
            "1\n"
          ]
        }
      ]
    },
    {
      "cell_type": "code",
      "source": [
        "def my_function():\n",
        "    var = 2\n",
        "    print(\"¿Conozco a la variable?\", var)\n",
        " \n",
        " \n",
        "var = 1\n",
        "my_function()\n",
        "print(var)"
      ],
      "metadata": {
        "colab": {
          "base_uri": "https://localhost:8080/"
        },
        "id": "um6TjzfF78-T",
        "outputId": "a903b2ed-3223-42ef-90c5-f76547d0621d"
      },
      "execution_count": 51,
      "outputs": [
        {
          "output_type": "stream",
          "name": "stdout",
          "text": [
            "¿Conozco a la variable? 2\n",
            "1\n"
          ]
        }
      ]
    },
    {
      "cell_type": "code",
      "source": [
        "def my_function():\n",
        "    var = 2\n",
        "    print(\"¿Conozco a la variable?\", var)\n",
        " \n",
        " \n",
        "var = 1\n",
        "my_function()\n",
        "print(var)\n",
        " "
      ],
      "metadata": {
        "colab": {
          "base_uri": "https://localhost:8080/"
        },
        "id": "HwnMKGuFgSLY",
        "outputId": "5e6c39b3-a381-4dc9-8c5c-b1e8aadc4c94"
      },
      "execution_count": 38,
      "outputs": [
        {
          "output_type": "stream",
          "name": "stdout",
          "text": [
            "¿Conozco a la variable? 2\n",
            "1\n"
          ]
        }
      ]
    },
    {
      "cell_type": "code",
      "source": [
        "def my_function():\n",
        "    global var\n",
        "    var = 2\n",
        "    print(\"¿Conozco a aquella variable?\", var)\n",
        "\n",
        "\n",
        "var = 1\n",
        "my_function()\n",
        "print(var)\n"
      ],
      "metadata": {
        "colab": {
          "base_uri": "https://localhost:8080/"
        },
        "id": "mX-HADRH54xN",
        "outputId": "8e30bf8b-69d9-4547-d1d3-cb60467a394b"
      },
      "execution_count": 54,
      "outputs": [
        {
          "output_type": "stream",
          "name": "stdout",
          "text": [
            "¿Conozco a aquella variable? 2\n",
            "2\n"
          ]
        }
      ]
    },
    {
      "cell_type": "code",
      "source": [
        "def my_function(n):\n",
        "    print(\"Yo recibí\", n)\n",
        "    n += 1\n",
        "    print(\"Ahora tengo\", n)\n",
        "\n",
        "\n",
        "var = 1\n",
        "my_function(var)\n",
        "print(var)\n"
      ],
      "metadata": {
        "colab": {
          "base_uri": "https://localhost:8080/"
        },
        "id": "0pCklacC8CTb",
        "outputId": "62bcb9d1-6e28-43a5-a481-8e0447402c45"
      },
      "execution_count": 55,
      "outputs": [
        {
          "output_type": "stream",
          "name": "stdout",
          "text": [
            "Yo recibí 1\n",
            "Ahora tengo 2\n",
            "1\n"
          ]
        }
      ]
    },
    {
      "cell_type": "code",
      "source": [
        "# Código mostrado por cisco\n",
        "def my_function(my_list_1):\n",
        "    print(\"Print #1:\", my_list_1)\n",
        "    printprint(\"Print #2:\", my_list_2)\n",
        "    my_list_1 = [0, 1]\n",
        "    print(\"Print #3:\", my_list_1)\n",
        "    print(\"Print #4:\", my_list_2)\n",
        " \n",
        " \n",
        "my_list_2 = [2, 3]\n",
        "my_function(my_list_2)\n",
        "print(\"Print #5:\", my_list_2)\n",
        "\n",
        "\n",
        "# Código después de una ligera corrección\n",
        "def my_function(my_list_1):\n",
        "    print(\"Print #1:\", my_list_1)\n",
        "    # print\n",
        "    print(\"Print #2:\", my_list_2)\n",
        "    my_list_1 = [0, 1]\n",
        "    print(\"Print #3:\", my_list_1)\n",
        "    print(\"Print #4:\", my_list_2)\n",
        " \n",
        " \n",
        "my_list_2 = [2, 3]\n",
        "my_function(my_list_2)\n",
        "print(\"Print #5:\", my_list_2)"
      ],
      "metadata": {
        "colab": {
          "base_uri": "https://localhost:8080/"
        },
        "id": "Z3OV__bC8CRF",
        "outputId": "85973b1f-d034-4634-e8be-e9fb4358fb0d"
      },
      "execution_count": 57,
      "outputs": [
        {
          "output_type": "stream",
          "name": "stdout",
          "text": [
            "Print #1: [2, 3]\n",
            "Print #2: [2, 3]\n",
            "Print #3: [0, 1]\n",
            "Print #4: [2, 3]\n",
            "Print #5: [2, 3]\n"
          ]
        }
      ]
    },
    {
      "cell_type": "code",
      "source": [
        "def my_function(my_list_1):\n",
        "    print(\"Print #1:\", my_list_1)\n",
        "    print(\"Print #2:\", my_list_2)\n",
        "    del my_list_1[0] # Presta atención a esta línea.\n",
        "    print(\"Print #3:\", my_list_1)\n",
        "    print(\"Print #4:\", my_list_2)\n",
        " \n",
        " \n",
        "my_list_2 = [2, 3]\n",
        "my_function(my_list_2)\n",
        "print(\"Print #5:\", my_list_2)"
      ],
      "metadata": {
        "colab": {
          "base_uri": "https://localhost:8080/"
        },
        "id": "fz6Qtc_I8COv",
        "outputId": "a603f0ec-a8d2-45db-eb1c-f6041a2b525a"
      },
      "execution_count": 58,
      "outputs": [
        {
          "output_type": "stream",
          "name": "stdout",
          "text": [
            "Print #1: [2, 3]\n",
            "Print #2: [2, 3]\n",
            "Print #3: [3]\n",
            "Print #4: [3]\n",
            "Print #5: [3]\n"
          ]
        }
      ]
    },
    {
      "cell_type": "code",
      "source": [
        "def my_function(my_list_1):\n",
        "    print(\"Print #1:\", my_list_1)\n",
        "    print(\"Print #2:\", my_list_2)\n",
        "    del my_list_1[0] # Presta atención a esta línea.\n",
        "    print(\"Print #3:\", my_list_1)\n",
        "    print(\"Print #4:\", my_list_2)\n",
        " \n",
        " \n",
        "my_list_2 = [2, 3]\n",
        "my_function(my_list_2)\n",
        "print(\"Print #5:\", my_list_2)"
      ],
      "metadata": {
        "colab": {
          "base_uri": "https://localhost:8080/"
        },
        "id": "drb9WB3N8CMj",
        "outputId": "c80bca96-f229-4aae-996e-27475db78a97"
      },
      "execution_count": 59,
      "outputs": [
        {
          "output_type": "stream",
          "name": "stdout",
          "text": [
            "Print #1: [2, 3]\n",
            "Print #2: [2, 3]\n",
            "Print #3: [3]\n",
            "Print #4: [3]\n",
            "Print #5: [3]\n"
          ]
        }
      ]
    },
    {
      "cell_type": "markdown",
      "source": [
        "No se modifica el valor del parámetro my_list_1 (ya se sabe que no afectará el argumento), en lugar de ello se modificará la lista identificada por el.\n",
        "\n",
        "El resultado puede ser sorprendente. Ejecuta el código y verifícalo:\n",
        "\n",
        "Print #1: [2, 3]\n",
        "Print #2: [2, 3]\n",
        "Print #3: [3]\n",
        "Print #4: [3]\n",
        "Print #5: [3]\n",
        "Output\n",
        "¿Lo puedes explicar?\n",
        "\n",
        "Intentémoslo:\n",
        "\n",
        "si el argumento es una lista, el cambiar el valor del parámetro correspondiente no afecta la lista (recuerda: las variables que contienen listas son almacenadas de manera diferente que las escalares)\n",
        "pero si se modifica la lista identificada por el parámetro (nota: ¡la lista, no el parámetro!), la lista reflejará el cambio.\n",
        "Es tiempo de escribir algunos ejemplos de funciones. Lo harás en la siguiente sección."
      ],
      "metadata": {
        "id": "pNU-N2DV9k_l"
      }
    },
    {
      "cell_type": "code",
      "source": [
        "var = 2\n",
        " \n",
        " \n",
        "def mult_by_var(x):\n",
        "    return x * var\n",
        " \n",
        " \n",
        "print(mult_by_var(7)) # salida: 14"
      ],
      "metadata": {
        "colab": {
          "base_uri": "https://localhost:8080/"
        },
        "id": "e7TulwMh8CKF",
        "outputId": "f3f468ed-3e4b-44ff-ae4a-0fbec0216484"
      },
      "execution_count": 60,
      "outputs": [
        {
          "output_type": "stream",
          "name": "stdout",
          "text": [
            "14\n"
          ]
        }
      ]
    },
    {
      "cell_type": "code",
      "source": [
        "def mult(x):\n",
        "    var = 5\n",
        "    return x * var\n",
        " \n",
        " \n",
        "print(mult(7)) # salida: 35"
      ],
      "metadata": {
        "colab": {
          "base_uri": "https://localhost:8080/"
        },
        "id": "ol7fxH9tgSJG",
        "outputId": "6c836250-0f0e-4ad3-d524-f85b027f3f92"
      },
      "execution_count": 61,
      "outputs": [
        {
          "output_type": "stream",
          "name": "stdout",
          "text": [
            "35\n"
          ]
        }
      ]
    },
    {
      "cell_type": "code",
      "source": [
        "def mult(x):\n",
        "    var = 7\n",
        "    return x * var\n",
        " \n",
        " \n",
        "var = 3\n",
        "print(mult(7)) # salida: 49"
      ],
      "metadata": {
        "colab": {
          "base_uri": "https://localhost:8080/"
        },
        "id": "Sjbjsog4gSG4",
        "outputId": "adf6bab0-1a3e-46ad-9825-94ea3e0238e6"
      },
      "execution_count": 62,
      "outputs": [
        {
          "output_type": "stream",
          "name": "stdout",
          "text": [
            "49\n"
          ]
        }
      ]
    },
    {
      "cell_type": "code",
      "source": [
        "def adding(x):\n",
        "    var = 7\n",
        "    return x + var\n",
        " \n",
        " \n",
        "print(adding(4)) # salida: 11\n",
        "print(var) # NameError\n",
        " "
      ],
      "metadata": {
        "colab": {
          "base_uri": "https://localhost:8080/"
        },
        "id": "9X8rE-KEgSEp",
        "outputId": "f75bd309-4d2d-43b9-aba7-9ffef57eb9b7"
      },
      "execution_count": 63,
      "outputs": [
        {
          "output_type": "stream",
          "name": "stdout",
          "text": [
            "11\n",
            "3\n"
          ]
        }
      ]
    },
    {
      "cell_type": "code",
      "source": [
        "var = 2\n",
        "print(var) # salida: 2\n",
        " \n",
        " \n",
        "def return_var():\n",
        "    global var\n",
        "    var = 5\n",
        "    return var\n",
        " \n",
        " \n",
        "print(return_var()) # salida: 5\n",
        "print(var) # salida: 5"
      ],
      "metadata": {
        "colab": {
          "base_uri": "https://localhost:8080/"
        },
        "id": "q4f_T-41dgS_",
        "outputId": "d95f7dca-3b5c-4ee2-9312-aef4fe4c664b"
      },
      "execution_count": 64,
      "outputs": [
        {
          "output_type": "stream",
          "name": "stdout",
          "text": [
            "2\n",
            "5\n",
            "5\n"
          ]
        }
      ]
    },
    {
      "cell_type": "code",
      "source": [
        "# Código ejecutado por mí, probado de muchas maneras y con buenos resultados en cada teclazo \n",
        "\n",
        "# 4.4.5 PRUEBA DE SECCIÓN \n",
        "# Pregunta 1: ¿Cuál es la salida del siguiente fragmento de código?\n",
        "\n",
        "def message():\n",
        "    alt = 1\n",
        "    print(\"¡Hola, mundo!\")\n",
        "    print(alt)\n",
        "message()"
      ],
      "metadata": {
        "colab": {
          "base_uri": "https://localhost:8080/"
        },
        "id": "81vDgxVw56Jv",
        "outputId": "e5d0ea6c-3c10-4c50-c66d-285e487be0ee"
      },
      "execution_count": 48,
      "outputs": [
        {
          "output_type": "stream",
          "name": "stdout",
          "text": [
            "¡Hola, mundo!\n",
            "1\n"
          ]
        }
      ]
    },
    {
      "cell_type": "code",
      "source": [
        "# 4.4.5 PRUEBA DE SECCIÓN \n",
        "# Pregunta 1: ¿Cuál es la salida del siguiente fragmento de código?\n",
        "\n",
        "def message():\n",
        "    alt = 1\n",
        "    print(\"¡Hola, mundo!\")\n",
        " \n",
        " \n",
        "print(alt)\n",
        "# Código mostrado por Cisco \n",
        "# Muestra un error de ejecución "
      ],
      "metadata": {
        "id": "DLP7vKmZ56MD"
      },
      "execution_count": null,
      "outputs": []
    },
    {
      "cell_type": "code",
      "source": [
        "def message():\n",
        "    alt = 1\n",
        "    print(\"¡Hola, mundo!\")\n",
        " \n",
        " \n",
        "print(alt)"
      ],
      "metadata": {
        "colab": {
          "base_uri": "https://localhost:8080/",
          "height": 200
        },
        "id": "acPLE7hEdgQv",
        "outputId": "5edafffe-b900-421c-d002-0dc2a3d50097"
      },
      "execution_count": 65,
      "outputs": [
        {
          "output_type": "error",
          "ename": "NameError",
          "evalue": "ignored",
          "traceback": [
            "\u001b[0;31m---------------------------------------------------------------------------\u001b[0m",
            "\u001b[0;31mNameError\u001b[0m                                 Traceback (most recent call last)",
            "\u001b[0;32m<ipython-input-65-9eb9904f12b8>\u001b[0m in \u001b[0;36m<cell line: 6>\u001b[0;34m()\u001b[0m\n\u001b[1;32m      4\u001b[0m \u001b[0;34m\u001b[0m\u001b[0m\n\u001b[1;32m      5\u001b[0m \u001b[0;34m\u001b[0m\u001b[0m\n\u001b[0;32m----> 6\u001b[0;31m \u001b[0mprint\u001b[0m\u001b[0;34m(\u001b[0m\u001b[0malt\u001b[0m\u001b[0;34m)\u001b[0m\u001b[0;34m\u001b[0m\u001b[0;34m\u001b[0m\u001b[0m\n\u001b[0m",
            "\u001b[0;31mNameError\u001b[0m: name 'alt' is not defined"
          ]
        }
      ]
    },
    {
      "cell_type": "code",
      "source": [
        "a = 1\n",
        " \n",
        " \n",
        "def fun():\n",
        "    a = 2\n",
        "    print(a)\n",
        " \n",
        " \n",
        "fun()\n",
        "print(a)"
      ],
      "metadata": {
        "colab": {
          "base_uri": "https://localhost:8080/"
        },
        "id": "zbJbW553dgOW",
        "outputId": "82d3a33a-b1aa-492a-aced-191ae50cb384"
      },
      "execution_count": 66,
      "outputs": [
        {
          "output_type": "stream",
          "name": "stdout",
          "text": [
            "2\n",
            "1\n"
          ]
        }
      ]
    },
    {
      "cell_type": "code",
      "source": [
        "a = 1\n",
        " \n",
        " \n",
        "def fun():\n",
        "    global a\n",
        "    a = 2\n",
        "    print(a)\n",
        " \n",
        " \n",
        "fun()\n",
        "a = 3\n",
        "print(a)"
      ],
      "metadata": {
        "colab": {
          "base_uri": "https://localhost:8080/"
        },
        "id": "N_-gZ9IQ56ed",
        "outputId": "97b52582-f52a-4156-b9d5-9a7f8a2b71bf"
      },
      "execution_count": 67,
      "outputs": [
        {
          "output_type": "stream",
          "name": "stdout",
          "text": [
            "2\n",
            "3\n"
          ]
        }
      ]
    },
    {
      "cell_type": "code",
      "source": [
        "a = 1\n",
        " \n",
        " \n",
        "def fun():\n",
        "    global a\n",
        "    a = 2\n",
        "    print(a)\n",
        " \n",
        " \n",
        "a = 3\n",
        "fun()\n",
        "print(a)"
      ],
      "metadata": {
        "colab": {
          "base_uri": "https://localhost:8080/"
        },
        "id": "BtqGlC_X56cW",
        "outputId": "c826c3ec-6fd7-420e-c076-94d5256e25c7"
      },
      "execution_count": 68,
      "outputs": [
        {
          "output_type": "stream",
          "name": "stdout",
          "text": [
            "2\n",
            "2\n"
          ]
        }
      ]
    },
    {
      "cell_type": "code",
      "source": [],
      "metadata": {
        "id": "zIrTPGzX56aY"
      },
      "execution_count": null,
      "outputs": []
    },
    {
      "cell_type": "code",
      "source": [],
      "metadata": {
        "id": "iuS5Up6P56YB"
      },
      "execution_count": null,
      "outputs": []
    },
    {
      "cell_type": "code",
      "source": [],
      "metadata": {
        "id": "qlTirArr56Vc"
      },
      "execution_count": null,
      "outputs": []
    },
    {
      "cell_type": "code",
      "source": [],
      "metadata": {
        "id": "7Pa4MxLSCiC4"
      },
      "execution_count": null,
      "outputs": []
    },
    {
      "cell_type": "code",
      "source": [],
      "metadata": {
        "id": "thIXkXR0Ch_A"
      },
      "execution_count": null,
      "outputs": []
    },
    {
      "cell_type": "code",
      "source": [],
      "metadata": {
        "id": "YiQs8sw7Ch8C"
      },
      "execution_count": null,
      "outputs": []
    },
    {
      "cell_type": "code",
      "source": [],
      "metadata": {
        "id": "UOKTtGMtCh5G"
      },
      "execution_count": null,
      "outputs": []
    },
    {
      "cell_type": "code",
      "source": [],
      "metadata": {
        "id": "f6IZ5f7rCh2g"
      },
      "execution_count": null,
      "outputs": []
    },
    {
      "cell_type": "code",
      "source": [],
      "metadata": {
        "id": "fFgXNRiy56Sr"
      },
      "execution_count": null,
      "outputs": []
    },
    {
      "cell_type": "code",
      "source": [],
      "metadata": {
        "id": "csiWlHoN56QF"
      },
      "execution_count": null,
      "outputs": []
    },
    {
      "cell_type": "code",
      "source": [],
      "metadata": {
        "id": "yKNZ4w5N56HY"
      },
      "execution_count": null,
      "outputs": []
    },
    {
      "cell_type": "code",
      "source": [
        "def fun(a):\n",
        "    if a > 30:\n",
        "        return 3  # De el valor 3 depende que se sumen valores o no al resultado final \n",
        "        # Sin la linea con el comentario de arriba el resultado es 23 \n",
        "    else:\n",
        "        return a + fun(a + 3)\n",
        " \n",
        " \n",
        "print(fun(25))"
      ],
      "metadata": {
        "colab": {
          "base_uri": "https://localhost:8080/"
        },
        "id": "I-F3Vp7d56E1",
        "outputId": "24ab8e18-82b3-42bc-a541-cf0d93d86fa5"
      },
      "execution_count": 75,
      "outputs": [
        {
          "output_type": "stream",
          "name": "stdout",
          "text": [
            "56\n"
          ]
        }
      ]
    }
  ]
}