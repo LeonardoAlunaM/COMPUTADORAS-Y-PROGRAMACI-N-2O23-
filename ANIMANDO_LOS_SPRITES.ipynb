{
  "nbformat": 4,
  "nbformat_minor": 0,
  "metadata": {
    "colab": {
      "provenance": [],
      "authorship_tag": "ABX9TyO4uZgR3OMqrMj+gFEu0Y+B",
      "include_colab_link": true
    },
    "kernelspec": {
      "name": "python3",
      "display_name": "Python 3"
    },
    "language_info": {
      "name": "python"
    }
  },
  "cells": [
    {
      "cell_type": "markdown",
      "metadata": {
        "id": "view-in-github",
        "colab_type": "text"
      },
      "source": [
        "<a href=\"https://colab.research.google.com/github/LeonardoAlunaM/COMPUTADORAS-Y-PROGRAMACI-N-2O23-/blob/main-COMPUTADORAS-Y-PROGTRAMACI%C3%93N-2023/ANIMANDO_LOS_SPRITES.ipynb\" target=\"_parent\"><img src=\"https://colab.research.google.com/assets/colab-badge.svg\" alt=\"Open In Colab\"/></a>"
      ]
    },
    {
      "cell_type": "code",
      "execution_count": null,
      "metadata": {
        "id": "aNNVLa4diaRt"
      },
      "outputs": [],
      "source": [
        "# LLAM ANIMACIÓN DE LOS SPRITES, 12/ 08 / 2023\n",
        "\n",
        "import pygame, sys\n",
        "\n",
        "class Player(pygame.sprite.Sprite):\n",
        "    def __init__(self, pos_x, pos_y):\n",
        "        super().__init__()\n",
        "        self.sprites = []\n",
        "        self.is_animating = False # Se inicializa a la animación como una entidad falsa, por lo tanto muestra una imagen estática\n",
        "        self.sprites.append(pygame.image.load('../Graphics/test/Crow1.png')) # Agregar el nombre del sprite que será importado\n",
        "        self.sprites.append(pygame.image.load('../Graphics/test/Crow3.png'))\n",
        "        self.current_sprite = 0\n",
        "        self.image = self.sprites[self.current_sprite]\n",
        "        self.rect = self.image.get_rect()\n",
        "        self.rect.topleft = [pos_x,pos_y]\n",
        "\n",
        "\n",
        "        # Dependiendo de la cantidad de imagenes (fotogramas) para realizar la animación\n",
        "        # se coloca como instrucción la siguiente línea\n",
        "        # self.sprites.append(pygame.image.load(''))\n",
        "\n",
        "\n",
        "       # self.image = pygame.Surface([20,20])\n",
        "       # self.image.fill((255,255,255))\n",
        "       # self.rect = self.image.get_rect()\n",
        "       # self.rect.topleft = [pos_x,pos_y]\n",
        "\n",
        "    def animate(self):\n",
        "        self.is_animating = True\n",
        "\n",
        "\n",
        "\n",
        "\n",
        "    def update(self,speed):\n",
        "        if self.is_animating == True:\n",
        "            self.current_sprite += speed # 1, Se cambia este valor a uno menor que 1, con está línea se controla la velocidad de animación\n",
        "\n",
        "\n",
        "            if self.current_sprite >= len(self.sprites):\n",
        "                self.current_sprite = 0\n",
        "                self.is_animating = False # Ahora la animación comienza y se detiene inmediatamente\n",
        "\n",
        "        #self.image = self.sprites[self.current_sprite]\n",
        "        self.image = self.sprites[int(self.current_sprite)]\n",
        "        # Ejecute el programa en esta parte, y en teoría ya funciona, el problema es que los\n",
        "        # sprites se mueven demasiado rápido, de manera que el código no funciona de la manera en la que esperamos que lo haga\n",
        "        # adecuadamente\n",
        "\n",
        "\n",
        "# Configuración general\n",
        "pygame.init()\n",
        "clock = pygame.time.Clock()\n",
        "\n",
        "# Pantalla del juego\n",
        "screen_width = 400\n",
        "screen_height = 400\n",
        "screen = pygame.display.set_mode((screen_width,screen_height))\n",
        "pygame.display.set_caption(\"Animando el Sprite del cuervo\")\n",
        "\n",
        "# Creación de los sprites y los grupos\n",
        "moving_sprites = pygame.sprite.Group()\n",
        "player = Player(10,10)\n",
        "moving_sprites.add(player)\n",
        "\n",
        "while True:\n",
        "    for event in pygame.event.get():\n",
        "        if event.type == pygame.QUIT:\n",
        "            pygame.quit()\n",
        "            sys.exit()\n",
        "\n",
        "    # Creando la entrada para lograr que la animación comience a moverse\n",
        "        if event.type == pygame.KEYDOWN:\n",
        "            player.animate()\n",
        "\n",
        "\n",
        "    # Dibujando\n",
        "    screen.fill((0,0,0))\n",
        "    moving_sprites.draw(screen)\n",
        "    moving_sprites.update(0.05) # Se llama al método de actualización en cada uno de los sprites,de está manera conseguimos la animación del grupo de imagenes\n",
        "    pygame.display.flip()\n",
        "    clock.tick(60)\n"
      ]
    }
  ]
}