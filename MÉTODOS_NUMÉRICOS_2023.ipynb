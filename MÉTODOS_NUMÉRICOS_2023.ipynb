{
  "nbformat": 4,
  "nbformat_minor": 0,
  "metadata": {
    "colab": {
      "provenance": [],
      "authorship_tag": "ABX9TyO0Nm0e9K0ahjTpXbgXCRGP",
      "include_colab_link": true
    },
    "kernelspec": {
      "name": "python3",
      "display_name": "Python 3"
    },
    "language_info": {
      "name": "python"
    }
  },
  "cells": [
    {
      "cell_type": "markdown",
      "metadata": {
        "id": "view-in-github",
        "colab_type": "text"
      },
      "source": [
        "<a href=\"https://colab.research.google.com/github/LeonardoAlunaM/COMPUTADORAS-Y-PROGRAMACI-N-2O23-/blob/main-COMPUTADORAS-Y-PROGTRAMACI%C3%93N-2023/M%C3%89TODOS_NUM%C3%89RICOS_2023.ipynb\" target=\"_parent\"><img src=\"https://colab.research.google.com/assets/colab-badge.svg\" alt=\"Open In Colab\"/></a>"
      ]
    },
    {
      "cell_type": "code",
      "execution_count": null,
      "metadata": {
        "id": "cjpn5FmedtA3"
      },
      "outputs": [],
      "source": [
        "# Identificación de variables\n",
        "\n",
        "# Inicio\n",
        "# Ingresar la función\n"
      ]
    },
    {
      "cell_type": "code",
      "source": [
        "# Regla de Descartes\n",
        "# Cambio de signo de la función, para valores positivos (x)"
      ],
      "metadata": {
        "id": "IuwX_yYxjKoA"
      },
      "execution_count": null,
      "outputs": []
    },
    {
      "cell_type": "code",
      "source": [
        "# Cambio de signo de la función, para valores negativos (-x)"
      ],
      "metadata": {
        "id": "q9qs1sGzjQGV"
      },
      "execution_count": null,
      "outputs": []
    },
    {
      "cell_type": "code",
      "source": [
        "# División sintética o división larga de polinomios"
      ],
      "metadata": {
        "id": "CM1sdW9IjZqp"
      },
      "execution_count": null,
      "outputs": []
    },
    {
      "cell_type": "code",
      "source": [
        "# Ingresar datos a la pantalla, con el teclado, o bien con teclas\n",
        "# Mostrar el resultado dentro del área de trabajo  "
      ],
      "metadata": {
        "id": "Sgz02iRNjkMB"
      },
      "execution_count": null,
      "outputs": []
    },
    {
      "cell_type": "code",
      "source": [
        "# Funcion que saluda al usuario dentro de la interfaz gráfica"
      ],
      "metadata": {
        "id": "5hT1cB-K1Ojl"
      },
      "execution_count": null,
      "outputs": []
    }
  ]
}