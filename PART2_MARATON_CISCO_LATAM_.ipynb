{
  "nbformat": 4,
  "nbformat_minor": 0,
  "metadata": {
    "colab": {
      "provenance": [],
      "authorship_tag": "ABX9TyM+ldvlOTRef4XoV5jdZ/Ra",
      "include_colab_link": true
    },
    "kernelspec": {
      "name": "python3",
      "display_name": "Python 3"
    },
    "language_info": {
      "name": "python"
    }
  },
  "cells": [
    {
      "cell_type": "markdown",
      "metadata": {
        "id": "view-in-github",
        "colab_type": "text"
      },
      "source": [
        "<a href=\"https://colab.research.google.com/github/LeonardoAlunaM/COMPUTADORAS-Y-PROGRAMACI-N-2O23-/blob/main-COMPUTADORAS-Y-PROGTRAMACI%C3%93N-2023/PART2_MARATON_CISCO_LATAM_.ipynb\" target=\"_parent\"><img src=\"https://colab.research.google.com/assets/colab-badge.svg\" alt=\"Open In Colab\"/></a>"
      ]
    },
    {
      "cell_type": "code",
      "execution_count": 1,
      "metadata": {
        "colab": {
          "base_uri": "https://localhost:8080/",
          "height": 235
        },
        "id": "Z0-wi_VdsTeH",
        "outputId": "97fa100b-2089-4958-98a9-130daf309bf4"
      },
      "outputs": [
        {
          "output_type": "error",
          "ename": "NameError",
          "evalue": "ignored",
          "traceback": [
            "\u001b[0;31m---------------------------------------------------------------------------\u001b[0m",
            "\u001b[0;31mNameError\u001b[0m                                 Traceback (most recent call last)",
            "\u001b[0;32m<ipython-input-1-afea02c7d0fa>\u001b[0m in \u001b[0;36m<cell line: 2>\u001b[0;34m()\u001b[0m\n\u001b[1;32m      1\u001b[0m \u001b[0;31m# Ejemplo 1:\u001b[0m\u001b[0;34m\u001b[0m\u001b[0;34m\u001b[0m\u001b[0m\n\u001b[0;32m----> 2\u001b[0;31m \u001b[0mprint\u001b[0m\u001b[0;34m(\u001b[0m\u001b[0mvar\u001b[0m \u001b[0;34m>\u001b[0m \u001b[0;36m0\u001b[0m\u001b[0;34m)\u001b[0m\u001b[0;34m\u001b[0m\u001b[0;34m\u001b[0m\u001b[0m\n\u001b[0m\u001b[1;32m      3\u001b[0m \u001b[0mprint\u001b[0m\u001b[0;34m(\u001b[0m\u001b[0;32mnot\u001b[0m \u001b[0;34m(\u001b[0m\u001b[0mvar\u001b[0m \u001b[0;34m<=\u001b[0m \u001b[0;36m0\u001b[0m\u001b[0;34m)\u001b[0m\u001b[0;34m)\u001b[0m\u001b[0;34m\u001b[0m\u001b[0;34m\u001b[0m\u001b[0m\n\u001b[1;32m      4\u001b[0m \u001b[0;34m\u001b[0m\u001b[0m\n\u001b[1;32m      5\u001b[0m \u001b[0;34m\u001b[0m\u001b[0m\n",
            "\u001b[0;31mNameError\u001b[0m: name 'var' is not defined"
          ]
        }
      ],
      "source": [
        "# Ejemplo 1:\n",
        "print(var > 0)\n",
        "print(not (var <= 0))\n",
        " \n",
        " \n",
        "# Ejemplo 2:\n",
        "print(var != 0)\n",
        "print(not (var == 0))"
      ]
    },
    {
      "cell_type": "code",
      "source": [
        "not (p and q) == (not p) or (not q)\n",
        "not (p or q) == (not p) and (not q)"
      ],
      "metadata": {
        "id": "IE6cTVQ-1YLO"
      },
      "execution_count": null,
      "outputs": []
    },
    {
      "cell_type": "code",
      "source": [
        "i = 1\n",
        "j = not not i"
      ],
      "metadata": {
        "id": "eokfGTsA1bTA"
      },
      "execution_count": 2,
      "outputs": []
    },
    {
      "cell_type": "code",
      "source": [],
      "metadata": {
        "id": "PR0lj1kx2jFU"
      },
      "execution_count": null,
      "outputs": []
    },
    {
      "cell_type": "code",
      "source": [
        "logneg = not i"
      ],
      "metadata": {
        "id": "1Ow4hTRI1bDN"
      },
      "execution_count": 3,
      "outputs": []
    },
    {
      "cell_type": "code",
      "source": [
        "var = 17\n",
        "var_right = var >> 1\n",
        "var_left = var << 2\n",
        "print(var, var_left, var_right)\n"
      ],
      "metadata": {
        "colab": {
          "base_uri": "https://localhost:8080/"
        },
        "id": "VG-DjZG_1bAo",
        "outputId": "2c7d2566-4333-48a5-a38c-92a9ec1c8266"
      },
      "execution_count": 4,
      "outputs": [
        {
          "output_type": "stream",
          "name": "stdout",
          "text": [
            "17 68 8\n"
          ]
        }
      ]
    },
    {
      "cell_type": "code",
      "source": [],
      "metadata": {
        "id": "1aW_8PQS1aN5"
      },
      "execution_count": null,
      "outputs": []
    },
    {
      "cell_type": "code",
      "source": [
        "x = 1\n",
        "y = 0\n",
        " \n",
        "z = ((x == y) and (x == y)) or not(x == y)\n",
        "print(not(z))"
      ],
      "metadata": {
        "colab": {
          "base_uri": "https://localhost:8080/"
        },
        "id": "X9lusbJd5Ck7",
        "outputId": "ea807690-4531-4f70-ed87-13ebe5aa4cd7"
      },
      "execution_count": 5,
      "outputs": [
        {
          "output_type": "stream",
          "name": "stdout",
          "text": [
            "False\n"
          ]
        }
      ]
    },
    {
      "cell_type": "code",
      "source": [
        "x = 4\n",
        "y = 1\n",
        " \n",
        "a = x & y\n",
        "b = x | y\n",
        "c = ~x  # ¡difícil!\n",
        "d = x ^ 5\n",
        "e = x >> 2\n",
        "f = x << 2\n",
        " \n",
        "print(a, b, c, d, e, f)"
      ],
      "metadata": {
        "colab": {
          "base_uri": "https://localhost:8080/"
        },
        "id": "LUMTsFw31aLo",
        "outputId": "d9e6030c-4c8a-4493-f04f-5584fd30c20f"
      },
      "execution_count": 6,
      "outputs": [
        {
          "output_type": "stream",
          "name": "stdout",
          "text": [
            "0 5 -5 1 1 16\n"
          ]
        }
      ]
    },
    {
      "cell_type": "code",
      "source": [
        "numbers = [10, 5, 7, 2, 1]\n",
        "print(\"Contenido de la lista:\", numbers)  # Imprimiendo contenido de la lista original.\n",
        " \n",
        "numbers[0] = 111\n",
        "print(\"Nuevo contenido de la lista: \", numbers)  # Contenido actual de la lista."
      ],
      "metadata": {
        "colab": {
          "base_uri": "https://localhost:8080/"
        },
        "id": "gOHoJv0y1aJM",
        "outputId": "513b56d1-7151-42d2-c5fd-3999f9258409"
      },
      "execution_count": 7,
      "outputs": [
        {
          "output_type": "stream",
          "name": "stdout",
          "text": [
            "Contenido de la lista: [10, 5, 7, 2, 1]\n",
            "Nuevo contenido de la lista:  [111, 5, 7, 2, 1]\n"
          ]
        }
      ]
    },
    {
      "cell_type": "code",
      "source": [
        "numbers = [10, 5, 7, 2, 1]\n",
        "print(\"Contenido de la lista original:\", numbers)  # Imprimiendo contenido de la lista original.\n",
        " \n",
        "numbers[0] = 111\n",
        "print(\"\\nPrevio contenido de la lista:\", numbers)  # Imprimiendo contenido de la lista anterior.\n",
        " \n",
        "numbers[1] = numbers[4]  # Copiando el valor del quinto elemento al segundo elemento.\n",
        "print(\"Nuevo contenido de la lista:\", numbers)  # Imprimiendo el contenido de la lista actual.\n",
        "\n",
        "print(numbers[0]) # Accediendo al primer elemento de la lista\n",
        "print(numbers[1]) # Accediendo al primer elemento de la lista\n",
        "print(numbers[2]) # Accediendo al primer elemento de la lista\n",
        "print(numbers[3]) # Accediendo al primer elemento de la lista\n",
        "print(numbers[4]) # Accediendo al primer elemento de la lista\n",
        "\n",
        " "
      ],
      "metadata": {
        "colab": {
          "base_uri": "https://localhost:8080/"
        },
        "id": "tWPcLGVe1aGl",
        "outputId": "b8811ad2-f5da-4dcd-bd8b-eb836dc70d7e"
      },
      "execution_count": 18,
      "outputs": [
        {
          "output_type": "stream",
          "name": "stdout",
          "text": [
            "Contenido de la lista original: [10, 5, 7, 2, 1]\n",
            "\n",
            "Previo contenido de la lista: [111, 5, 7, 2, 1]\n",
            "Nuevo contenido de la lista: [111, 1, 7, 2, 1]\n",
            "111\n",
            "1\n",
            "7\n",
            "2\n",
            "1\n"
          ]
        }
      ]
    },
    {
      "cell_type": "code",
      "source": [
        "numbers = [10, 5, 7, 2, 1]\n",
        "print(\"Contenido de la lista original:\", numbers)  # Imprimiendo el contenido de la lista original.\n",
        "\n",
        "numbers[0] = 111\n",
        "print(\"\\nContenido de la lista con cambio:\", numbers)  # Imprimiendo contenido de la lista con 111.\n",
        "\n",
        "numbers[1] = numbers[4]  # Copiando el valor del quinto elemento al segundo elemento.\n",
        "print(\"Contenido de la lista con intercambio:\", numbers)  # Imprimiendo contenido de la lista con intercambio.\n",
        "\n",
        "print(\"\\nLongitud de la lista:\", len(numbers))  # Imprimiendo la longitud de la lista.\n",
        "\n",
        "\n",
        "print(numbers) # Imprimiendo la lista completa."
      ],
      "metadata": {
        "colab": {
          "base_uri": "https://localhost:8080/"
        },
        "id": "Hr_kQ3o29HeW",
        "outputId": "37a8f86f-4bd5-4f65-90a1-92371b44cff6"
      },
      "execution_count": 20,
      "outputs": [
        {
          "output_type": "stream",
          "name": "stdout",
          "text": [
            "Contenido de la lista original: [10, 5, 7, 2, 1]\n",
            "\n",
            "Contenido de la lista con cambio: [111, 5, 7, 2, 1]\n",
            "Contenido de la lista con intercambio: [111, 1, 7, 2, 1]\n",
            "\n",
            "Longitud de la lista: 5\n",
            "[111, 1, 7, 2, 1]\n"
          ]
        }
      ]
    },
    {
      "cell_type": "code",
      "source": [
        "del numbers[1]\n",
        "print(len(numbers))\n",
        "print(numbers)"
      ],
      "metadata": {
        "colab": {
          "base_uri": "https://localhost:8080/"
        },
        "id": "gZbJ6XNr-pFv",
        "outputId": "24fd9082-9db8-4484-9113-05cf663c59cd"
      },
      "execution_count": 23,
      "outputs": [
        {
          "output_type": "stream",
          "name": "stdout",
          "text": [
            "2\n",
            "[111, 1]\n"
          ]
        }
      ]
    },
    {
      "cell_type": "code",
      "source": [
        "del numbers[1]\n",
        "print(len(numbers))\n",
        "print(numbers)\n",
        " \n",
        "print(numbers[4])\n",
        "numbers[4] = 1"
      ],
      "metadata": {
        "colab": {
          "base_uri": "https://localhost:8080/",
          "height": 252
        },
        "id": "KdEx1bNE-SrX",
        "outputId": "62915a11-6221-4a84-d299-1d76929d1a05"
      },
      "execution_count": 22,
      "outputs": [
        {
          "output_type": "stream",
          "name": "stdout",
          "text": [
            "3\n",
            "[111, 2, 1]\n"
          ]
        },
        {
          "output_type": "error",
          "ename": "IndexError",
          "evalue": "ignored",
          "traceback": [
            "\u001b[0;31m---------------------------------------------------------------------------\u001b[0m",
            "\u001b[0;31mIndexError\u001b[0m                                Traceback (most recent call last)",
            "\u001b[0;32m<ipython-input-22-73a462a5756d>\u001b[0m in \u001b[0;36m<cell line: 5>\u001b[0;34m()\u001b[0m\n\u001b[1;32m      3\u001b[0m \u001b[0mprint\u001b[0m\u001b[0;34m(\u001b[0m\u001b[0mnumbers\u001b[0m\u001b[0;34m)\u001b[0m\u001b[0;34m\u001b[0m\u001b[0;34m\u001b[0m\u001b[0m\n\u001b[1;32m      4\u001b[0m \u001b[0;34m\u001b[0m\u001b[0m\n\u001b[0;32m----> 5\u001b[0;31m \u001b[0mprint\u001b[0m\u001b[0;34m(\u001b[0m\u001b[0mnumbers\u001b[0m\u001b[0;34m[\u001b[0m\u001b[0;36m4\u001b[0m\u001b[0;34m]\u001b[0m\u001b[0;34m)\u001b[0m\u001b[0;34m\u001b[0m\u001b[0;34m\u001b[0m\u001b[0m\n\u001b[0m\u001b[1;32m      6\u001b[0m \u001b[0mnumbers\u001b[0m\u001b[0;34m[\u001b[0m\u001b[0;36m4\u001b[0m\u001b[0;34m]\u001b[0m \u001b[0;34m=\u001b[0m \u001b[0;36m1\u001b[0m\u001b[0;34m\u001b[0m\u001b[0;34m\u001b[0m\u001b[0m\n",
            "\u001b[0;31mIndexError\u001b[0m: list index out of range"
          ]
        }
      ]
    },
    {
      "cell_type": "code",
      "source": [],
      "metadata": {
        "id": "icOTsg4c-SoQ"
      },
      "execution_count": null,
      "outputs": []
    },
    {
      "cell_type": "code",
      "source": [
        "numbers = [10, 5, 7, 2, 1]\n",
        "print(\"Contenido de la lista original:\", numbers)  # Imprimiendo el contenido de la lista original.\n",
        "\n",
        "numbers[0] = 111\n",
        "print(\"\\nContenido de la lista con cambio:\", numbers)  # Imprimiendo contenido de la lista con 111.\n",
        "\n",
        "numbers[1] = numbers[4]  # Copiando el valor del quinto elemento al segundo elemento.\n",
        "print(\"Contenido de la lista con intercambio:\", numbers)  # Imprimiendo contenido de la lista con intercambio.\n",
        "\n",
        "print(\"\\nLongitud de la lista:\", len(numbers))  # Imprimiendo la longitud de la lista.\n",
        "\n",
        "###\n",
        "###\n",
        "\n",
        "del numbers[1]  # Eliminando el segundo elemento de la lista.\n",
        "print(\"Longitud de la nueva lista:\", len(numbers))  # Imprimiendo nueva longitud de la lista.\n",
        "print(\"\\nNuevo contenido de la lista:\", numbers)  # Imprimiendo el contenido de la lista actual.\n",
        "\n",
        "###print(numbers[4])\n",
        "#numbers[4] = 1"
      ],
      "metadata": {
        "colab": {
          "base_uri": "https://localhost:8080/"
        },
        "id": "2KTclE0L-SlO",
        "outputId": "7674c1af-fc20-4eb1-d928-4a560a50b375"
      },
      "execution_count": 26,
      "outputs": [
        {
          "output_type": "stream",
          "name": "stdout",
          "text": [
            "Contenido de la lista original: [10, 5, 7, 2, 1]\n",
            "\n",
            "Contenido de la lista con cambio: [111, 5, 7, 2, 1]\n",
            "Contenido de la lista con intercambio: [111, 1, 7, 2, 1]\n",
            "\n",
            "Longitud de la lista: 5\n",
            "Longitud de la nueva lista: 4\n",
            "\n",
            "Nuevo contenido de la lista: [111, 7, 2, 1]\n"
          ]
        }
      ]
    },
    {
      "cell_type": "code",
      "source": [
        "numbers = [111, 7, 2, 1]\n",
        "print(numbers[-1])\n"
      ],
      "metadata": {
        "colab": {
          "base_uri": "https://localhost:8080/"
        },
        "id": "0yH0PZTq-Sjv",
        "outputId": "9bb6abe4-e467-48d1-cd05-366eb34a7547"
      },
      "execution_count": 27,
      "outputs": [
        {
          "output_type": "stream",
          "name": "stdout",
          "text": [
            "1\n"
          ]
        }
      ]
    },
    {
      "cell_type": "code",
      "source": [
        "numbers = [111, 7, 2, 1]\n",
        "print(numbers[-2])\n"
      ],
      "metadata": {
        "colab": {
          "base_uri": "https://localhost:8080/"
        },
        "id": "CzTV8m8C_oLb",
        "outputId": "3b884f3f-117c-40e4-b7d6-6c76db996af1"
      },
      "execution_count": 28,
      "outputs": [
        {
          "output_type": "stream",
          "name": "stdout",
          "text": [
            "2\n"
          ]
        }
      ]
    },
    {
      "cell_type": "code",
      "source": [
        "numbers = []"
      ],
      "metadata": {
        "id": "adcHKmDo_oJF"
      },
      "execution_count": null,
      "outputs": []
    },
    {
      "cell_type": "code",
      "source": [
        "numbers = [111, 7, 2, 1]\n",
        "print(len(numbers))\n",
        "print(numbers)\n",
        "\n",
        "###\n",
        "\n",
        "\n",
        "\n",
        "numbers.append(4)\n",
        "\n",
        "print(len(numbers))\n",
        "print(numbers)\n",
        "\n",
        "###\n",
        "\n",
        "numbers.insert(0, 222)\n",
        "print(len(numbers))\n",
        "print(numbers)\n",
        "\n",
        "#\n"
      ],
      "metadata": {
        "colab": {
          "base_uri": "https://localhost:8080/"
        },
        "id": "GD42C8s6_oG6",
        "outputId": "3c76d9df-2275-4e09-93d2-e39d53a9da1c"
      },
      "execution_count": 29,
      "outputs": [
        {
          "output_type": "stream",
          "name": "stdout",
          "text": [
            "4\n",
            "[111, 7, 2, 1]\n",
            "5\n",
            "[111, 7, 2, 1, 4]\n",
            "6\n",
            "[222, 111, 7, 2, 1, 4]\n"
          ]
        }
      ]
    },
    {
      "cell_type": "code",
      "source": [
        "numbers = [111, 7, 2, 1]\n",
        "print(len(numbers))\n",
        "print(numbers)\n",
        "\n",
        "###\n",
        "numbers.append(4)\n",
        "\n",
        "print(len(numbers))\n",
        "print(numbers)\n",
        "\n",
        "###\n",
        "\n",
        "numbers.insert(0, 222)\n",
        "print(len(numbers))\n",
        "print(numbers) \n",
        "\n",
        "#\n",
        "numbers.insert(1, 333)"
      ],
      "metadata": {
        "colab": {
          "base_uri": "https://localhost:8080/"
        },
        "id": "RkgGoLqU_oE9",
        "outputId": "0fada00d-be13-4f1e-e7bf-9d71180e8217"
      },
      "execution_count": 30,
      "outputs": [
        {
          "output_type": "stream",
          "name": "stdout",
          "text": [
            "4\n",
            "[111, 7, 2, 1]\n",
            "5\n",
            "[111, 7, 2, 1, 4]\n",
            "6\n",
            "[222, 111, 7, 2, 1, 4]\n"
          ]
        }
      ]
    },
    {
      "cell_type": "code",
      "source": [],
      "metadata": {
        "id": "3b5uvGg7-Sf2"
      },
      "execution_count": null,
      "outputs": []
    },
    {
      "cell_type": "code",
      "source": [
        "numbers = [111, 7, 2, 1]\n",
        "print(len(numbers))\n",
        "print(numbers)\n",
        "\n",
        "###\n",
        "\n",
        "numbers.append(4)\n",
        "\n",
        "print(len(numbers))\n",
        "print(numbers)\n",
        "\n",
        "###\n",
        "\n",
        "numbers.insert(0, 222)\n",
        "print(len(numbers))\n",
        "print(numbers)"
      ],
      "metadata": {
        "colab": {
          "base_uri": "https://localhost:8080/"
        },
        "id": "pkz1nqc0XHog",
        "outputId": "e5902039-ef5c-4bff-b0b1-39f5ff4c1d09"
      },
      "execution_count": 32,
      "outputs": [
        {
          "output_type": "stream",
          "name": "stdout",
          "text": [
            "4\n",
            "[111, 7, 2, 1]\n",
            "5\n",
            "[111, 7, 2, 1, 4]\n",
            "6\n",
            "[222, 111, 7, 2, 1, 4]\n"
          ]
        }
      ]
    },
    {
      "cell_type": "code",
      "source": [
        "my_list = []  # Creando una lista vacía.\n",
        "\n",
        "for i in range(5):\n",
        "    my_list.append(i + 1)\n",
        "\n",
        "print(my_list)\n"
      ],
      "metadata": {
        "colab": {
          "base_uri": "https://localhost:8080/"
        },
        "id": "Hgrsk8wlW5-M",
        "outputId": "a8514f59-f205-4e8e-cf3c-12afcb04c10b"
      },
      "execution_count": 31,
      "outputs": [
        {
          "output_type": "stream",
          "name": "stdout",
          "text": [
            "[1, 2, 3, 4, 5]\n"
          ]
        }
      ]
    },
    {
      "cell_type": "code",
      "source": [
        "my_list = []  # Creando una lista vacía.\n",
        " \n",
        "for i in range(5):\n",
        "    my_list.insert(0, i + 1)\n",
        " \n",
        "print(my_list)"
      ],
      "metadata": {
        "colab": {
          "base_uri": "https://localhost:8080/"
        },
        "id": "UsPP6IBTW2Or",
        "outputId": "849b59b4-d857-4a6d-85fb-7a25d1ff21ba"
      },
      "execution_count": 33,
      "outputs": [
        {
          "output_type": "stream",
          "name": "stdout",
          "text": [
            "[5, 4, 3, 2, 1]\n"
          ]
        }
      ]
    },
    {
      "cell_type": "code",
      "source": [
        "my_list = [10, 1, 8, 3, 5]\n",
        "total = 0\n",
        "\n",
        "for i in range(len(my_list)):\n",
        "    total += my_list[i]\n",
        "\n",
        "print(total)\n"
      ],
      "metadata": {
        "colab": {
          "base_uri": "https://localhost:8080/"
        },
        "id": "QupIleeb-SCh",
        "outputId": "efe6691c-a971-46d7-d59b-0f751d022abc"
      },
      "execution_count": 34,
      "outputs": [
        {
          "output_type": "stream",
          "name": "stdout",
          "text": [
            "27\n"
          ]
        }
      ]
    },
    {
      "cell_type": "code",
      "source": [
        "my_list = [10, 1, 8, 3, 5]\n",
        "total = 0\n",
        " \n",
        "for i in my_list:\n",
        "    total += i\n",
        " \n",
        "print(total)"
      ],
      "metadata": {
        "colab": {
          "base_uri": "https://localhost:8080/"
        },
        "id": "MO2lfZAFfDgF",
        "outputId": "3cb99bd8-8a19-4758-aa4f-642717bb3e8e"
      },
      "execution_count": 35,
      "outputs": [
        {
          "output_type": "stream",
          "name": "stdout",
          "text": [
            "27\n"
          ]
        }
      ]
    },
    {
      "cell_type": "code",
      "source": [
        "variable_1 = 1\n",
        "variable_2 = 2\n",
        " \n",
        "variable_2 = variable_1\n",
        "variable_1 = variable_2\n",
        " Si haces algo como esto, perderás el valor previamente almacenado en variable_2. \n",
        "Cambiar el orden de las tareas no ayudará. Necesitas una tercera variable que sirva como almacenamiento auxiliar."
      ],
      "metadata": {
        "id": "5TcO6GitfDeE"
      },
      "execution_count": 36,
      "outputs": []
    },
    {
      "cell_type": "code",
      "source": [
        "variable_1 = 1\n",
        "variable_2 = 2\n",
        " \n",
        "auxiliary = variable_1\n",
        "variable_1 = variable_2\n",
        "variable_2 = auxiliary\n"
      ],
      "metadata": {
        "id": "H6JyJRd5fDcT"
      },
      "execution_count": 37,
      "outputs": []
    },
    {
      "cell_type": "code",
      "source": [
        "variable_1 = 1\n",
        "variable_2 = 2\n",
        " \n",
        "variable_1, variable_2 = variable_2, variable_1"
      ],
      "metadata": {
        "id": "keN8o-V7fDaL"
      },
      "execution_count": 38,
      "outputs": []
    },
    {
      "cell_type": "code",
      "source": [
        "my_list = [10, 1, 8, 3, 5]\n",
        " \n",
        "my_list[0], my_list[4] = my_list[4], my_list[0]\n",
        "my_list[1], my_list[3] = my_list[3], my_list[1]\n",
        " \n",
        "print(my_list)"
      ],
      "metadata": {
        "colab": {
          "base_uri": "https://localhost:8080/"
        },
        "id": "ryfiD8xGfDYj",
        "outputId": "1bb768ae-3214-4315-fe43-05717f465f26"
      },
      "execution_count": 39,
      "outputs": [
        {
          "output_type": "stream",
          "name": "stdout",
          "text": [
            "[5, 3, 8, 1, 10]\n"
          ]
        }
      ]
    },
    {
      "cell_type": "code",
      "source": [
        "for i in range(length // 2):\n",
        "    my_list[i], my_list[length - i - 1] = my_list[length - i - 1], my_list[i]\n",
        " \n",
        "print(my_list)"
      ],
      "metadata": {
        "colab": {
          "base_uri": "https://localhost:8080/",
          "height": 217
        },
        "id": "NtwVNW8SfDWI",
        "outputId": "c647e918-eef0-403c-b4ba-b9e11158b27f"
      },
      "execution_count": 40,
      "outputs": [
        {
          "output_type": "error",
          "ename": "NameError",
          "evalue": "ignored",
          "traceback": [
            "\u001b[0;31m---------------------------------------------------------------------------\u001b[0m",
            "\u001b[0;31mNameError\u001b[0m                                 Traceback (most recent call last)",
            "\u001b[0;32m<ipython-input-40-f2b7a3df375e>\u001b[0m in \u001b[0;36m<cell line: 1>\u001b[0;34m()\u001b[0m\n\u001b[0;32m----> 1\u001b[0;31m \u001b[0;32mfor\u001b[0m \u001b[0mi\u001b[0m \u001b[0;32min\u001b[0m \u001b[0mrange\u001b[0m\u001b[0;34m(\u001b[0m\u001b[0mlength\u001b[0m \u001b[0;34m//\u001b[0m \u001b[0;36m2\u001b[0m\u001b[0;34m)\u001b[0m\u001b[0;34m:\u001b[0m\u001b[0;34m\u001b[0m\u001b[0;34m\u001b[0m\u001b[0m\n\u001b[0m\u001b[1;32m      2\u001b[0m     \u001b[0mmy_list\u001b[0m\u001b[0;34m[\u001b[0m\u001b[0mi\u001b[0m\u001b[0;34m]\u001b[0m\u001b[0;34m,\u001b[0m \u001b[0mmy_list\u001b[0m\u001b[0;34m[\u001b[0m\u001b[0mlength\u001b[0m \u001b[0;34m-\u001b[0m \u001b[0mi\u001b[0m \u001b[0;34m-\u001b[0m \u001b[0;36m1\u001b[0m\u001b[0;34m]\u001b[0m \u001b[0;34m=\u001b[0m \u001b[0mmy_list\u001b[0m\u001b[0;34m[\u001b[0m\u001b[0mlength\u001b[0m \u001b[0;34m-\u001b[0m \u001b[0mi\u001b[0m \u001b[0;34m-\u001b[0m \u001b[0;36m1\u001b[0m\u001b[0;34m]\u001b[0m\u001b[0;34m,\u001b[0m \u001b[0mmy_list\u001b[0m\u001b[0;34m[\u001b[0m\u001b[0mi\u001b[0m\u001b[0;34m]\u001b[0m\u001b[0;34m\u001b[0m\u001b[0;34m\u001b[0m\u001b[0m\n\u001b[1;32m      3\u001b[0m \u001b[0;34m\u001b[0m\u001b[0m\n\u001b[1;32m      4\u001b[0m \u001b[0mprint\u001b[0m\u001b[0;34m(\u001b[0m\u001b[0mmy_list\u001b[0m\u001b[0;34m)\u001b[0m\u001b[0;34m\u001b[0m\u001b[0;34m\u001b[0m\u001b[0m\n",
            "\u001b[0;31mNameError\u001b[0m: name 'length' is not defined"
          ]
        }
      ]
    },
    {
      "cell_type": "code",
      "source": [
        "for i in range(len // 2):\n",
        "    my_list[i], my_list[len - i - 1] = my_list[len - i - 1], my_list[i]\n",
        " \n",
        "print(my_list)"
      ],
      "metadata": {
        "colab": {
          "base_uri": "https://localhost:8080/",
          "height": 217
        },
        "id": "nSOXQqNIfDTN",
        "outputId": "4a76440d-16e0-4a8b-efcb-cd2ff341e207"
      },
      "execution_count": 41,
      "outputs": [
        {
          "output_type": "error",
          "ename": "TypeError",
          "evalue": "ignored",
          "traceback": [
            "\u001b[0;31m---------------------------------------------------------------------------\u001b[0m",
            "\u001b[0;31mTypeError\u001b[0m                                 Traceback (most recent call last)",
            "\u001b[0;32m<ipython-input-41-b26a5458eab4>\u001b[0m in \u001b[0;36m<cell line: 1>\u001b[0;34m()\u001b[0m\n\u001b[0;32m----> 1\u001b[0;31m \u001b[0;32mfor\u001b[0m \u001b[0mi\u001b[0m \u001b[0;32min\u001b[0m \u001b[0mrange\u001b[0m\u001b[0;34m(\u001b[0m\u001b[0mlen\u001b[0m \u001b[0;34m//\u001b[0m \u001b[0;36m2\u001b[0m\u001b[0;34m)\u001b[0m\u001b[0;34m:\u001b[0m\u001b[0;34m\u001b[0m\u001b[0;34m\u001b[0m\u001b[0m\n\u001b[0m\u001b[1;32m      2\u001b[0m     \u001b[0mmy_list\u001b[0m\u001b[0;34m[\u001b[0m\u001b[0mi\u001b[0m\u001b[0;34m]\u001b[0m\u001b[0;34m,\u001b[0m \u001b[0mmy_list\u001b[0m\u001b[0;34m[\u001b[0m\u001b[0mlen\u001b[0m \u001b[0;34m-\u001b[0m \u001b[0mi\u001b[0m \u001b[0;34m-\u001b[0m \u001b[0;36m1\u001b[0m\u001b[0;34m]\u001b[0m \u001b[0;34m=\u001b[0m \u001b[0mmy_list\u001b[0m\u001b[0;34m[\u001b[0m\u001b[0mlen\u001b[0m \u001b[0;34m-\u001b[0m \u001b[0mi\u001b[0m \u001b[0;34m-\u001b[0m \u001b[0;36m1\u001b[0m\u001b[0;34m]\u001b[0m\u001b[0;34m,\u001b[0m \u001b[0mmy_list\u001b[0m\u001b[0;34m[\u001b[0m\u001b[0mi\u001b[0m\u001b[0;34m]\u001b[0m\u001b[0;34m\u001b[0m\u001b[0;34m\u001b[0m\u001b[0m\n\u001b[1;32m      3\u001b[0m \u001b[0;34m\u001b[0m\u001b[0m\n\u001b[1;32m      4\u001b[0m \u001b[0mprint\u001b[0m\u001b[0;34m(\u001b[0m\u001b[0mmy_list\u001b[0m\u001b[0;34m)\u001b[0m\u001b[0;34m\u001b[0m\u001b[0;34m\u001b[0m\u001b[0m\n",
            "\u001b[0;31mTypeError\u001b[0m: unsupported operand type(s) for //: 'builtin_function_or_method' and 'int'"
          ]
        }
      ]
    },
    {
      "cell_type": "code",
      "source": [
        "my_list = [1, None, True, \"Soy una cadena\", 256, 0]"
      ],
      "metadata": {
        "id": "z6ztHfXEfDRU"
      },
      "execution_count": 43,
      "outputs": []
    },
    {
      "cell_type": "code",
      "source": [
        "my_list = [1, None, True, 'Soy una cadena', 256, 0]\n",
        "print(my_list[3])  # output: Soy una cadena\n",
        "print(my_list[-1])  # output: 0\n",
        " \n",
        "my_list[1] = '?'\n",
        "print(my_list)  # output: [1, '?', True, 'Soy una cadena', 256, 0]\n",
        " \n",
        "my_list.insert(0, \"primero\")\n",
        "my_list.append(\"último\")\n",
        "print(my_list)  # output: ['primero', 1, '?', True, 'Soy una cadena', 256, 0, 'último']"
      ],
      "metadata": {
        "colab": {
          "base_uri": "https://localhost:8080/"
        },
        "id": "fTu9u6DlfDPH",
        "outputId": "644dca91-76e6-4ba8-9521-5db38a540696"
      },
      "execution_count": 44,
      "outputs": [
        {
          "output_type": "stream",
          "name": "stdout",
          "text": [
            "Soy una cadena\n",
            "0\n",
            "[1, '?', True, 'Soy una cadena', 256, 0]\n",
            "['primero', 1, '?', True, 'Soy una cadena', 256, 0, 'último']\n"
          ]
        }
      ]
    },
    {
      "cell_type": "code",
      "source": [
        "my_list = [1, 'a', [\"lista\", 64, [0, 1], False]]"
      ],
      "metadata": {
        "id": "UXNxnbvkfDM5"
      },
      "execution_count": 45,
      "outputs": []
    },
    {
      "cell_type": "code",
      "source": [
        "my_list = [1, 2, 3, 4]\n",
        "del my_list[2]\n",
        "print(my_list)  # output: [1, 2, 4]\n",
        " \n",
        "del my_list  # borra la lista entera"
      ],
      "metadata": {
        "colab": {
          "base_uri": "https://localhost:8080/"
        },
        "id": "ncXvdsB1iLrN",
        "outputId": "9993c205-9b68-4b85-fdf2-ba83a7323809"
      },
      "execution_count": 46,
      "outputs": [
        {
          "output_type": "stream",
          "name": "stdout",
          "text": [
            "[1, 2, 4]\n"
          ]
        }
      ]
    },
    {
      "cell_type": "code",
      "source": [
        "my_list = [\"blanco\", \"purpura\", \"azul\", \"amarillo\", \"verde\"]\n",
        " \n",
        "for color in my_list:\n",
        "    print(color)\n",
        " "
      ],
      "metadata": {
        "colab": {
          "base_uri": "https://localhost:8080/"
        },
        "id": "v9MucRHPiLpr",
        "outputId": "fc0285d3-ca34-4478-a92d-30a6838bcda0"
      },
      "execution_count": 47,
      "outputs": [
        {
          "output_type": "stream",
          "name": "stdout",
          "text": [
            "blanco\n",
            "purpura\n",
            "azul\n",
            "amarillo\n",
            "verde\n"
          ]
        }
      ]
    },
    {
      "cell_type": "code",
      "source": [
        "my_list = [\"blanco\", \"purpura\", \"azul\", \"amarillo\", \"verde\"]\n",
        "print(len(my_list))  # output 5\n",
        " \n",
        "del my_list[2]\n",
        "print(len(my_list))  # output 4"
      ],
      "metadata": {
        "colab": {
          "base_uri": "https://localhost:8080/"
        },
        "id": "jhT3ehgKiLn3",
        "outputId": "5d106f3b-560f-468a-cef9-dbc514762d31"
      },
      "execution_count": 48,
      "outputs": [
        {
          "output_type": "stream",
          "name": "stdout",
          "text": [
            "5\n",
            "4\n"
          ]
        }
      ]
    },
    {
      "cell_type": "code",
      "source": [
        "lst = [1, 2, 3, 4, 5]\n",
        "lst.insert(1, 6)\n",
        "del lst[0]\n",
        "lst.append(1)\n",
        " \n",
        "print(lst)"
      ],
      "metadata": {
        "colab": {
          "base_uri": "https://localhost:8080/"
        },
        "id": "CFAsNSnSipRJ",
        "outputId": "86c68b10-bdda-4767-efa2-79371b75e1e0"
      },
      "execution_count": 49,
      "outputs": [
        {
          "output_type": "stream",
          "name": "stdout",
          "text": [
            "[6, 2, 3, 4, 5, 1]\n"
          ]
        }
      ]
    },
    {
      "cell_type": "code",
      "source": [
        "lst = [1, 2, 3, 4, 5]\n",
        "lst_2 = []\n",
        "add = 0\n",
        " \n",
        "for number in lst:\n",
        "    add += number\n",
        "    lst_2.append(add)\n",
        " \n",
        "print(lst_2)"
      ],
      "metadata": {
        "colab": {
          "base_uri": "https://localhost:8080/"
        },
        "id": "a8633zhKiLmW",
        "outputId": "0e00c87d-3ea6-4621-c976-4e66bdfdcfd8"
      },
      "execution_count": 50,
      "outputs": [
        {
          "output_type": "stream",
          "name": "stdout",
          "text": [
            "[1, 3, 6, 10, 15]\n"
          ]
        }
      ]
    },
    {
      "cell_type": "code",
      "source": [
        "lst = []\n",
        "del lst\n",
        "print(lst)"
      ],
      "metadata": {
        "colab": {
          "base_uri": "https://localhost:8080/",
          "height": 200
        },
        "id": "TGYofu2siLkG",
        "outputId": "00ee987f-61d4-419c-8406-9cd9f7bba10e"
      },
      "execution_count": 51,
      "outputs": [
        {
          "output_type": "error",
          "ename": "NameError",
          "evalue": "ignored",
          "traceback": [
            "\u001b[0;31m---------------------------------------------------------------------------\u001b[0m",
            "\u001b[0;31mNameError\u001b[0m                                 Traceback (most recent call last)",
            "\u001b[0;32m<ipython-input-51-23e27814c7e8>\u001b[0m in \u001b[0;36m<cell line: 3>\u001b[0;34m()\u001b[0m\n\u001b[1;32m      1\u001b[0m \u001b[0mlst\u001b[0m \u001b[0;34m=\u001b[0m \u001b[0;34m[\u001b[0m\u001b[0;34m]\u001b[0m\u001b[0;34m\u001b[0m\u001b[0;34m\u001b[0m\u001b[0m\n\u001b[1;32m      2\u001b[0m \u001b[0;32mdel\u001b[0m \u001b[0mlst\u001b[0m\u001b[0;34m\u001b[0m\u001b[0;34m\u001b[0m\u001b[0m\n\u001b[0;32m----> 3\u001b[0;31m \u001b[0mprint\u001b[0m\u001b[0;34m(\u001b[0m\u001b[0mlst\u001b[0m\u001b[0;34m)\u001b[0m\u001b[0;34m\u001b[0m\u001b[0;34m\u001b[0m\u001b[0m\n\u001b[0m",
            "\u001b[0;31mNameError\u001b[0m: name 'lst' is not defined"
          ]
        }
      ]
    },
    {
      "cell_type": "code",
      "source": [
        "lst = []\n",
        "del lst\n",
        "print(lst)"
      ],
      "metadata": {
        "colab": {
          "base_uri": "https://localhost:8080/",
          "height": 200
        },
        "id": "PNHHVBfTi0mX",
        "outputId": "5e24c312-a836-4692-aeab-0aa0d97b4a2e"
      },
      "execution_count": 52,
      "outputs": [
        {
          "output_type": "error",
          "ename": "NameError",
          "evalue": "ignored",
          "traceback": [
            "\u001b[0;31m---------------------------------------------------------------------------\u001b[0m",
            "\u001b[0;31mNameError\u001b[0m                                 Traceback (most recent call last)",
            "\u001b[0;32m<ipython-input-52-23e27814c7e8>\u001b[0m in \u001b[0;36m<cell line: 3>\u001b[0;34m()\u001b[0m\n\u001b[1;32m      1\u001b[0m \u001b[0mlst\u001b[0m \u001b[0;34m=\u001b[0m \u001b[0;34m[\u001b[0m\u001b[0;34m]\u001b[0m\u001b[0;34m\u001b[0m\u001b[0;34m\u001b[0m\u001b[0m\n\u001b[1;32m      2\u001b[0m \u001b[0;32mdel\u001b[0m \u001b[0mlst\u001b[0m\u001b[0;34m\u001b[0m\u001b[0;34m\u001b[0m\u001b[0m\n\u001b[0;32m----> 3\u001b[0;31m \u001b[0mprint\u001b[0m\u001b[0;34m(\u001b[0m\u001b[0mlst\u001b[0m\u001b[0;34m)\u001b[0m\u001b[0;34m\u001b[0m\u001b[0;34m\u001b[0m\u001b[0m\n\u001b[0m",
            "\u001b[0;31mNameError\u001b[0m: name 'lst' is not defined"
          ]
        }
      ]
    },
    {
      "cell_type": "code",
      "source": [
        "lst = [1, [2, 3], 4]\n",
        "print(lst[1])\n",
        "print(len(lst))"
      ],
      "metadata": {
        "colab": {
          "base_uri": "https://localhost:8080/"
        },
        "id": "Jab7AdAai0iL",
        "outputId": "13253fdd-c646-403e-b8c9-846512a02ec2"
      },
      "execution_count": 53,
      "outputs": [
        {
          "output_type": "stream",
          "name": "stdout",
          "text": [
            "[2, 3]\n",
            "3\n"
          ]
        }
      ]
    },
    {
      "cell_type": "code",
      "source": [
        "my_list = [8, 10, 6, 2, 4]  # lista a ordenar\n",
        " \n",
        "for i in range(len(my_list) - 1):  # necesitamos (5 - 1) comparaciones\n",
        "    if my_list[i] > my_list[i + 1]:  # compara elementos adyacentes\n",
        "        my_list[i], my_list[i + 1] = my_list[i + 1], my_list[i]  # Si terminamos aquí, tenemos que intercambiar elementos.\n",
        "print(my_list)"
      ],
      "metadata": {
        "colab": {
          "base_uri": "https://localhost:8080/"
        },
        "id": "BY4TGqX9i0f8",
        "outputId": "453e2256-ecd1-40c5-980e-fc884f2cd79c"
      },
      "execution_count": 55,
      "outputs": [
        {
          "output_type": "stream",
          "name": "stdout",
          "text": [
            "[8, 6, 2, 4, 10]\n"
          ]
        }
      ]
    },
    {
      "cell_type": "code",
      "source": [
        "my_list = [8, 10, 6, 2, 4]  # lista a ordenar\n",
        "swapped = True  # Lo necesitamos verdadero (True) para ingresar al bucle while.\n",
        " \n",
        "while swapped:\n",
        "    swapped = False  # no hay intercambios hasta ahora\n",
        "    for i in range(len(my_list) - 1):\n",
        "        if my_list[i] > my_list[i + 1]:\n",
        "            swapped = True  # ¡ocurrió el intercambio!\n",
        "            my_list[i], my_list[i + 1] = my_list[i + 1], my_list[i]\n",
        " \n",
        "print(my_list)"
      ],
      "metadata": {
        "colab": {
          "base_uri": "https://localhost:8080/"
        },
        "id": "m8ermeWFiLhl",
        "outputId": "ec5dbc31-a56b-4388-ac84-385090fa3393"
      },
      "execution_count": 56,
      "outputs": [
        {
          "output_type": "stream",
          "name": "stdout",
          "text": [
            "[2, 4, 6, 8, 10]\n"
          ]
        }
      ]
    },
    {
      "cell_type": "code",
      "source": [
        "my_list = []\n",
        "swapped = True\n",
        "num = int(input(\"¿Cuántos elementos deseas ordenar?: \"))\n",
        "\n",
        "for i in range(num):\n",
        "    val = float(input(\"Ingresa un elemento de la lista: \"))\n",
        "    my_list.append(val)\n",
        "\n",
        "while swapped:\n",
        "    swapped = False\n",
        "    for i in range(len(my_list) - 1):\n",
        "        if my_list[i] > my_list[i + 1]:\n",
        "            swapped = True\n",
        "            my_list[i], my_list[i + 1] = my_list[i + 1], my_list[i]\n",
        "\n",
        "print(\"\\nOrdenada:\")\n",
        "print(my_list)"
      ],
      "metadata": {
        "colab": {
          "base_uri": "https://localhost:8080/"
        },
        "id": "NfvUhdWGl4i4",
        "outputId": "6ea05f8a-667a-4786-d103-60e222a3f728"
      },
      "execution_count": 57,
      "outputs": [
        {
          "output_type": "stream",
          "name": "stdout",
          "text": [
            "¿Cuántos elementos deseas ordenar?: 34\n",
            "Ingresa un elemento de la lista: 3\n",
            "Ingresa un elemento de la lista: 7\n",
            "Ingresa un elemento de la lista: 4\n",
            "Ingresa un elemento de la lista: 3\n",
            "Ingresa un elemento de la lista: 2\n",
            "Ingresa un elemento de la lista: 34\n",
            "Ingresa un elemento de la lista: 54\n",
            "Ingresa un elemento de la lista: 2\n",
            "Ingresa un elemento de la lista: 2\n",
            "Ingresa un elemento de la lista: 1\n",
            "Ingresa un elemento de la lista: 2\n",
            "Ingresa un elemento de la lista: 3\n",
            "Ingresa un elemento de la lista: 4\n",
            "Ingresa un elemento de la lista: 5\n",
            "Ingresa un elemento de la lista: 4\n",
            "Ingresa un elemento de la lista: 3\n",
            "Ingresa un elemento de la lista: 6\n",
            "Ingresa un elemento de la lista: 45\n",
            "Ingresa un elemento de la lista: 34\n",
            "Ingresa un elemento de la lista: 12\n",
            "Ingresa un elemento de la lista: 2\n",
            "Ingresa un elemento de la lista: 2\n",
            "Ingresa un elemento de la lista: 34\n",
            "Ingresa un elemento de la lista: 6\n",
            "Ingresa un elemento de la lista: 7\n",
            "Ingresa un elemento de la lista: 9\n",
            "Ingresa un elemento de la lista: 7\n",
            "Ingresa un elemento de la lista: 6\n",
            "Ingresa un elemento de la lista: 5\n",
            "Ingresa un elemento de la lista: 3\n",
            "Ingresa un elemento de la lista: 3\n",
            "Ingresa un elemento de la lista: 2\n",
            "Ingresa un elemento de la lista: 75\n",
            "Ingresa un elemento de la lista: 54\n",
            "\n",
            "Ordenada:\n",
            "[1.0, 2.0, 2.0, 2.0, 2.0, 2.0, 2.0, 2.0, 3.0, 3.0, 3.0, 3.0, 3.0, 3.0, 4.0, 4.0, 4.0, 5.0, 5.0, 6.0, 6.0, 6.0, 7.0, 7.0, 7.0, 9.0, 12.0, 34.0, 34.0, 34.0, 45.0, 54.0, 54.0, 75.0]\n"
          ]
        }
      ]
    },
    {
      "cell_type": "code",
      "source": [
        "my_list = [8, 10, 6, 2, 4]\n",
        "my_list.sort()\n",
        "print(my_list)\n",
        " "
      ],
      "metadata": {
        "colab": {
          "base_uri": "https://localhost:8080/"
        },
        "id": "VtSKdaIel4gD",
        "outputId": "64919718-4920-4dfc-9104-0d95f1145ef1"
      },
      "execution_count": 58,
      "outputs": [
        {
          "output_type": "stream",
          "name": "stdout",
          "text": [
            "[2, 4, 6, 8, 10]\n"
          ]
        }
      ]
    },
    {
      "cell_type": "code",
      "source": [
        "lst = [5, 3, 1, 2, 4]\n",
        "print(lst)\n",
        " \n",
        "lst.sort()\n",
        "print(lst)  # output: [1, 2, 3, 4, 5]"
      ],
      "metadata": {
        "colab": {
          "base_uri": "https://localhost:8080/"
        },
        "id": "YhNjn-P5l4co",
        "outputId": "cbd01ab6-4d4b-4b52-8ecd-359ed18997bb"
      },
      "execution_count": 59,
      "outputs": [
        {
          "output_type": "stream",
          "name": "stdout",
          "text": [
            "[5, 3, 1, 2, 4]\n",
            "[1, 2, 3, 4, 5]\n"
          ]
        }
      ]
    },
    {
      "cell_type": "code",
      "source": [
        "lst = [5, 3, 1, 2, 4]\n",
        "print(lst)\n",
        " \n",
        "lst.reverse()\n",
        "print(lst)  # output: [4, 2, 1, 3, 5]"
      ],
      "metadata": {
        "colab": {
          "base_uri": "https://localhost:8080/"
        },
        "id": "8sY9_arBl4ZX",
        "outputId": "eb47ed51-c2a4-48e7-c48a-cd71240087ea"
      },
      "execution_count": 60,
      "outputs": [
        {
          "output_type": "stream",
          "name": "stdout",
          "text": [
            "[5, 3, 1, 2, 4]\n",
            "[4, 2, 1, 3, 5]\n"
          ]
        }
      ]
    },
    {
      "cell_type": "code",
      "source": [
        "lst = [\"D\", \"F\", \"A\", \"Z\"]\n",
        "lst.sort()\n",
        " \n",
        "print(lst)"
      ],
      "metadata": {
        "colab": {
          "base_uri": "https://localhost:8080/"
        },
        "id": "Taix0y3piLf6",
        "outputId": "b301ef2d-d22c-476a-d683-037d2481d57b"
      },
      "execution_count": 61,
      "outputs": [
        {
          "output_type": "stream",
          "name": "stdout",
          "text": [
            "['A', 'D', 'F', 'Z']\n"
          ]
        }
      ]
    },
    {
      "cell_type": "code",
      "source": [
        "a = 3\n",
        "b = 1\n",
        "c = 2\n",
        " \n",
        "lst = [a, c, b]\n",
        "lst.sort()\n",
        " \n",
        "print(lst)"
      ],
      "metadata": {
        "colab": {
          "base_uri": "https://localhost:8080/"
        },
        "id": "jgvrm0LynGTj",
        "outputId": "bcf85d70-4a76-411b-dff3-26a99a3b66b0"
      },
      "execution_count": 62,
      "outputs": [
        {
          "output_type": "stream",
          "name": "stdout",
          "text": [
            "[1, 2, 3]\n"
          ]
        }
      ]
    },
    {
      "cell_type": "code",
      "source": [
        "a = \"A\"\n",
        "b = \"B\"\n",
        "c = \"C\"\n",
        "d = \" \"\n",
        " \n",
        "lst = [a, b, c, d]\n",
        "lst.reverse()\n",
        " \n",
        "print(lst)"
      ],
      "metadata": {
        "colab": {
          "base_uri": "https://localhost:8080/"
        },
        "id": "4Ta3djs1nvV2",
        "outputId": "3ebd5773-15cd-4b9d-c6ef-7ba55fccab65"
      },
      "execution_count": 63,
      "outputs": [
        {
          "output_type": "stream",
          "name": "stdout",
          "text": [
            "[' ', 'C', 'B', 'A']\n"
          ]
        }
      ]
    },
    {
      "cell_type": "code",
      "source": [
        "list_1 = [1]\n",
        "list_2 = list_1\n",
        "list_1[0] = 2\n",
        "print(list_2)\n"
      ],
      "metadata": {
        "colab": {
          "base_uri": "https://localhost:8080/"
        },
        "id": "q7H5Y3JMnvUA",
        "outputId": "14b66d6e-d371-4b78-81ce-c4e3564456ea"
      },
      "execution_count": 64,
      "outputs": [
        {
          "output_type": "stream",
          "name": "stdout",
          "text": [
            "[2]\n"
          ]
        }
      ]
    },
    {
      "cell_type": "code",
      "source": [
        "list_1 = [1]\n",
        "list_2 = list_1[:]\n",
        "list_1[0] = 2\n",
        "print(list_2)\n",
        " "
      ],
      "metadata": {
        "colab": {
          "base_uri": "https://localhost:8080/"
        },
        "id": "MnHJNvYKnvRp",
        "outputId": "5a6809b0-b284-438d-9bd3-fb73bed03c11"
      },
      "execution_count": 65,
      "outputs": [
        {
          "output_type": "stream",
          "name": "stdout",
          "text": [
            "[1]\n"
          ]
        }
      ]
    },
    {
      "cell_type": "code",
      "source": [
        "my_list = [10, 8, 6, 4, 2]\n",
        "new_list = my_list[1:3]\n",
        "print(new_list)\n",
        " "
      ],
      "metadata": {
        "colab": {
          "base_uri": "https://localhost:8080/"
        },
        "id": "sU5xhifMxjox",
        "outputId": "fb51242a-0a7c-4ec9-dfb0-6ebc2a7aecb2"
      },
      "execution_count": 66,
      "outputs": [
        {
          "output_type": "stream",
          "name": "stdout",
          "text": [
            "[8, 6]\n"
          ]
        }
      ]
    },
    {
      "cell_type": "code",
      "source": [
        "# Copiando la lista completa.\n",
        "list_1 = [1]\n",
        "list_2 = list_1[:]\n",
        "list_1[0] = 2\n",
        "print(list_2)\n",
        "\n",
        "# Copiando parte de la lista.\n",
        "my_list = [10, 8, 6, 4, 2]\n",
        "new_list = my_list[1:3]\n",
        "print(new_list)\n"
      ],
      "metadata": {
        "colab": {
          "base_uri": "https://localhost:8080/"
        },
        "id": "R_vI1nudx6Io",
        "outputId": "c59b9d48-c850-481b-d8b8-66d9f09e6264"
      },
      "execution_count": 67,
      "outputs": [
        {
          "output_type": "stream",
          "name": "stdout",
          "text": [
            "[1]\n",
            "[8, 6]\n"
          ]
        }
      ]
    },
    {
      "cell_type": "code",
      "source": [],
      "metadata": {
        "id": "KzFphs32x6GS"
      },
      "execution_count": null,
      "outputs": []
    },
    {
      "cell_type": "code",
      "source": [],
      "metadata": {
        "id": "rWl8CXbNx6Dj"
      },
      "execution_count": null,
      "outputs": []
    },
    {
      "cell_type": "code",
      "source": [],
      "metadata": {
        "id": "Z9vOL7Kfx5_9"
      },
      "execution_count": null,
      "outputs": []
    },
    {
      "cell_type": "code",
      "source": [],
      "metadata": {
        "id": "8dNlrBZTx598"
      },
      "execution_count": null,
      "outputs": []
    },
    {
      "cell_type": "code",
      "source": [],
      "metadata": {
        "id": "DdSerDIAx57x"
      },
      "execution_count": null,
      "outputs": []
    },
    {
      "cell_type": "code",
      "source": [],
      "metadata": {
        "id": "OgPam5VIx55s"
      },
      "execution_count": null,
      "outputs": []
    },
    {
      "cell_type": "code",
      "source": [],
      "metadata": {
        "id": "4UNPdW39x53d"
      },
      "execution_count": null,
      "outputs": []
    },
    {
      "cell_type": "code",
      "source": [],
      "metadata": {
        "id": "w4DQLRIRx51f"
      },
      "execution_count": null,
      "outputs": []
    },
    {
      "cell_type": "code",
      "source": [],
      "metadata": {
        "id": "Sgd5C-wzx5y9"
      },
      "execution_count": null,
      "outputs": []
    },
    {
      "cell_type": "code",
      "source": [],
      "metadata": {
        "id": "y3ErG1Ulx5YF"
      },
      "execution_count": null,
      "outputs": []
    },
    {
      "cell_type": "code",
      "source": [],
      "metadata": {
        "id": "KT6Zc_EAxjmC"
      },
      "execution_count": null,
      "outputs": []
    },
    {
      "cell_type": "code",
      "source": [],
      "metadata": {
        "id": "BfbtCilHxjjT"
      },
      "execution_count": null,
      "outputs": []
    },
    {
      "cell_type": "code",
      "source": [],
      "metadata": {
        "id": "crvPrJgKxjgd"
      },
      "execution_count": null,
      "outputs": []
    },
    {
      "cell_type": "code",
      "source": [],
      "metadata": {
        "id": "NReY9Bfixjc1"
      },
      "execution_count": null,
      "outputs": []
    },
    {
      "cell_type": "code",
      "source": [],
      "metadata": {
        "id": "CwLHv8HKnvPy"
      },
      "execution_count": null,
      "outputs": []
    },
    {
      "cell_type": "code",
      "source": [],
      "metadata": {
        "id": "yltrFf3snvNm"
      },
      "execution_count": null,
      "outputs": []
    },
    {
      "cell_type": "code",
      "source": [],
      "metadata": {
        "id": "ZEosrtE3nGRZ"
      },
      "execution_count": null,
      "outputs": []
    },
    {
      "cell_type": "code",
      "source": [],
      "metadata": {
        "id": "JVNpKF7-nGOs"
      },
      "execution_count": null,
      "outputs": []
    },
    {
      "cell_type": "code",
      "source": [],
      "metadata": {
        "id": "X5r0gFbSnGMG"
      },
      "execution_count": null,
      "outputs": []
    },
    {
      "cell_type": "code",
      "source": [],
      "metadata": {
        "id": "J4zv45ERnGJ8"
      },
      "execution_count": null,
      "outputs": []
    },
    {
      "cell_type": "code",
      "source": [],
      "metadata": {
        "id": "K7SAx-m1nGHv"
      },
      "execution_count": null,
      "outputs": []
    }
  ]
}