{
  "nbformat": 4,
  "nbformat_minor": 0,
  "metadata": {
    "colab": {
      "provenance": [],
      "authorship_tag": "ABX9TyM8A5+WwIz2waOdyxsf0y/W",
      "include_colab_link": true
    },
    "kernelspec": {
      "name": "python3",
      "display_name": "Python 3"
    },
    "language_info": {
      "name": "python"
    }
  },
  "cells": [
    {
      "cell_type": "markdown",
      "metadata": {
        "id": "view-in-github",
        "colab_type": "text"
      },
      "source": [
        "<a href=\"https://colab.research.google.com/github/LeonardoAlunaM/COMPUTADORAS-Y-PROGRAMACI-N-2O23-/blob/main-COMPUTADORAS-Y-PROGTRAMACI%C3%93N-2023/ClasePython11/05/2023.ipynb\" target=\"_parent\"><img src=\"https://colab.research.google.com/assets/colab-badge.svg\" alt=\"Open In Colab\"/></a>"
      ]
    },
    {
      "cell_type": "code",
      "execution_count": null,
      "metadata": {
        "colab": {
          "base_uri": "https://localhost:8080/"
        },
        "id": "_NjTUO2AR1Om",
        "outputId": "7f9ffee8-56ed-46c2-efda-f3e8fce830f5"
      },
      "outputs": [
        {
          "output_type": "stream",
          "name": "stdout",
          "text": [
            "Ingresa un numero100\n",
            "100 False\n"
          ]
        }
      ],
      "source": [
        "n = int(input(\"Ingresa un numero: \"))\n",
        "if n < 100: \n",
        "    print(n,True)\n",
        "else: \n",
        "    print(n, False)"
      ]
    },
    {
      "cell_type": "code",
      "source": [
        "n = int(input(\"Ingresa un monto de compra: \"))\n",
        "tipo_pago = ''\n",
        "if n <= 100:\n",
        "  tipo_pago = 'Efectivo'\n",
        "elif n > 100 and n <= 300:\n",
        "    tipo_pago = 'Tarjeta de debito'\n",
        "elif n > 300 and n <= 500:\n",
        "    tipo_pago = 'Tarjeta de credito oro'\n",
        "else:\n",
        "  tipo_pago = 'Tarjeta de credito platino'\n",
        "\n",
        "print(n, 'pagada con', tipo_pago)"
      ],
      "metadata": {
        "id": "fp356mDIHPN8"
      },
      "execution_count": null,
      "outputs": []
    }
  ]
}