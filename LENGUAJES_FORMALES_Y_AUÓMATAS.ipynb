{
  "nbformat": 4,
  "nbformat_minor": 0,
  "metadata": {
    "colab": {
      "provenance": [],
      "authorship_tag": "ABX9TyO3Dz/cjQ5nSRwIm1AU+THu",
      "include_colab_link": true
    },
    "kernelspec": {
      "name": "python3",
      "display_name": "Python 3"
    },
    "language_info": {
      "name": "python"
    }
  },
  "cells": [
    {
      "cell_type": "markdown",
      "metadata": {
        "id": "view-in-github",
        "colab_type": "text"
      },
      "source": [
        "<a href=\"https://colab.research.google.com/github/LeonardoAlunaM/COMPUTADORAS-Y-PROGRAMACI-N-2O23-/blob/main-COMPUTADORAS-Y-PROGTRAMACI%C3%93N-2023/LENGUAJES_FORMALES_Y_AU%C3%93MATAS.ipynb\" target=\"_parent\"><img src=\"https://colab.research.google.com/assets/colab-badge.svg\" alt=\"Open In Colab\"/></a>"
      ]
    },
    {
      "cell_type": "markdown",
      "source": [
        "La máquina de Turing es un concepto fundamental en la teoría de la computación y la ciencia de la computación. Fue propuesta por el matemático y lógico británico Alan Turing en 1936 como un modelo teórico de una computadora universal. La máquina de Turing es una abstracción matemática que consiste en una cinta infinita dividida en casillas, una cabeza lectora/escritora que se mueve a lo largo de la cinta y un conjunto finito de estados y reglas de transición. A nivel conceptual, puede realizar las siguientes operaciones:\n",
        "\n",
        "Leer un símbolo en la casilla actual de la cinta.\n",
        "Escribir un símbolo en la casilla actual de la cinta.\n",
        "Mover la cabeza lectora/escritora hacia la izquierda o la derecha.\n",
        "Cambiar de estado según las reglas de transición.\n",
        "La máquina de Turing se utiliza para representar cómo funcionan los algoritmos y los procesos de cómputo. A pesar de su simplicidad, se ha demostrado que una Máquina de Turing puede resolver cualquier problema que sea computable de manera algorítmica. Esto significa que cualquier algoritmo que pueda expresarse de manera clara y precisa puede ser implementado en una Máquina de Turing, lo que llevó a la idea de que es un modelo de una computadora universal.\n",
        "\n",
        "El concepto de la máquina de Turing es fundamental para comprender la teoría de la computación y es utilizado en la demostración de la tesis de Church-Turing, que postula que cualquier función que pueda ser calculada algorítmicamente puede ser calculada por una máquina de Turing o equivalente.\n",
        "\n",
        "En resumen, la máquina de Turing es una abstracción matemática que ayuda a entender los fundamentos de la computación y cómo funcionan los algoritmos, y ha tenido un impacto significativo en el desarrollo de la teoría de la computación y la ciencia de la computación en general."
      ],
      "metadata": {
        "id": "Cp8evhkuq98-"
      }
    },
    {
      "cell_type": "code",
      "source": [],
      "metadata": {
        "id": "g_gAgGjRrMYh"
      },
      "execution_count": null,
      "outputs": []
    },
    {
      "cell_type": "markdown",
      "source": [
        "Componentes de una Máquina de Turing:\n",
        "\n",
        "Cinta Infinita: La cinta es una estructura infinita dividida en casillas. Cada casilla puede contener un símbolo de un alfabeto finito (por ejemplo, 0 o 1) o estar en blanco. La cinta es la principal área de trabajo de la máquina.\n",
        "\n",
        "Cabeza Lectora/Escritora: La cabeza lectora/escritora es un dispositivo que se mueve sobre la cinta de izquierda a derecha o viceversa. Puede leer el símbolo actual en la casilla en la que se encuentra y escribir un nuevo símbolo en esa casilla. También puede cambiar el estado de la máquina.\n",
        "\n",
        "Conjunto de Estados: La máquina tiene un conjunto finito de estados que puede tomar. Inicialmente, se encuentra en un estado inicial y se utiliza un conjunto de reglas de transición para determinar cómo cambiar de estado en función del símbolo leído y el estado actual.\n",
        "\n",
        "Reglas de Transición: Las reglas de transición especifican cómo debe comportarse la máquina en función del símbolo leído y el estado actual. Cada regla de transición indica qué símbolo escribir en la cinta, en qué dirección mover la cabeza (izquierda o derecha) y en qué estado debe cambiar.\n",
        "\n",
        "Proceso de Ejecución:\n",
        "\n",
        "El proceso de ejecución de una Máquina de Turing se realiza en pasos discretos y sigue estas pautas:\n",
        "\n",
        "La máquina comienza en un estado inicial con la cabeza lectora/escritora en una casilla inicial en la cinta.\n",
        "\n",
        "La máquina lee el símbolo actual en la casilla en la que se encuentra y consulta sus reglas de transición para determinar qué acción tomar a continuación.\n",
        "\n",
        "Según las reglas de transición, la máquina escribe un símbolo en la casilla actual, cambia de estado y mueve la cabeza lectora/escritora en la dirección especificada (izquierda o derecha).\n",
        "\n",
        "El proceso se repite mientras haya reglas de transición disponibles para el estado actual y el símbolo leído.\n",
        "\n",
        "Si en algún momento la máquina llega a un estado de \"aceptación\" o \"rechazo\" según sus reglas, la ejecución se detiene y se toma la decisión correspondiente (aceptar o rechazar la entrada).\n",
        "\n",
        "En general, una Máquina de Turing continúa ejecutándose hasta que se llega a un estado de parada (aceptación o rechazo) o entra en un bucle infinito.\n",
        "\n",
        "Este proceso se repite para cada entrada que se le da a la Máquina de Turing. La Máquina de Turing puede resolver problemas algorítmicos y, según la tesis de Church-Turing, cualquier algoritmo que se pueda expresar de manera algorítmica se puede implementar en una Máquina de Turing o en un equivalente teórico. Por lo tanto, es una abstracción fundamental para entender la capacidad de cómputo de las computadoras y los algoritmos."
      ],
      "metadata": {
        "id": "7hwo-I2XrKnF"
      }
    },
    {
      "cell_type": "code",
      "execution_count": null,
      "metadata": {
        "id": "e-8YbEnZqkPx"
      },
      "outputs": [],
      "source": [
        "class TuringMachine:\n",
        "    def __init__(self):\n",
        "        self.states = {'q0', 'q1', 'q2', 'q3', 'q4', 'qaccept', 'qreject'}\n",
        "        self.symbols = {'0', '1', ' '}\n",
        "\n",
        "        self.transition_function = {\n",
        "            'q0': {\n",
        "                '0': ('q1', ' ', 'R'),\n",
        "                '1': ('qreject', '1', 'S')\n",
        "            },\n",
        "            'q1': {\n",
        "                '0': ('q1', '0', 'R'),\n",
        "                '1': ('q2', '1', 'R'),\n",
        "                ' ': ('q3', ' ', 'L')\n",
        "            },\n",
        "            'q2': {\n",
        "                '0': ('qreject', '0', 'S'),\n",
        "                '1': ('q2', '1', 'R')\n",
        "            },\n",
        "            'q3': {\n",
        "                '0': ('qaccept', '0', 'S')\n",
        "            }\n",
        "        }\n",
        "\n",
        "        self.current_state = 'q0'\n",
        "        self.tape = []\n",
        "        self.head_position = 0\n",
        "\n",
        "    def reset(self):\n",
        "        self.current_state = 'q0'\n",
        "        self.tape = []\n",
        "        self.head_position = 0\n",
        "\n",
        "    def execute(self, input_string):\n",
        "        self.reset()\n",
        "        self.tape = list(input_string)\n",
        "        while self.current_state != 'qaccept' and self.current_state != 'qreject':\n",
        "            symbol_under_head = self.tape[self.head_position]\n",
        "            if symbol_under_head not in self.symbols:\n",
        "                self.current_state = 'qreject'\n",
        "                break\n",
        "            transition = self.transition_function[self.current_state].get(symbol_under_head)\n",
        "            if transition:\n",
        "                new_state, write_symbol, move_direction = transition\n",
        "                self.tape[self.head_position] = write_symbol\n",
        "                if move_direction == 'R':\n",
        "                    self.head_position += 1\n",
        "                    if self.head_position == len(self.tape):\n",
        "                        self.tape.append(' ')\n",
        "                elif move_direction == 'L':\n",
        "                    self.head_position -= 1\n",
        "                    if self.head_position < 0:\n",
        "                        self.tape.insert(0, ' ')\n",
        "                self.current_state = new_state\n",
        "            else:\n",
        "                self.current_state = 'qreject'\n",
        "\n",
        "        return self.current_state == 'qaccept'\n",
        "\n",
        "\n",
        "# Ejemplo de uso\n",
        "tm = TuringMachine()\n",
        "input_string = '00001111'\n",
        "result = tm.execute(input_string)\n",
        "\n",
        "if result:\n",
        "    print(f\"'{input_string}' es una cadena válida.\")\n",
        "else:\n",
        "    print(f\"'{input_string}' no es una cadena válida.\")"
      ]
    },
    {
      "cell_type": "markdown",
      "source": [
        "Este código implementa una Máquina de Turing muy simple que valida si una cadena consiste en una secuencia de \"0\" seguida de una secuencia igual de \"1\". Ten en cuenta que este es un ejemplo extremadamente básico y simplificado. Las Máquinas de Turing en la práctica son mucho más complejas y se utilizan para una variedad de aplicaciones computacionales."
      ],
      "metadata": {
        "id": "A1FxHe6QrUzc"
      }
    },
    {
      "cell_type": "code",
      "source": [
        "class TuringMachine:\n",
        "    def __init__(self):\n",
        "        # Definición de la tabla de transiciones (estado_actual, símbolo_leído) -> (nuevo_estado, símbolo_escrito, dirección)\n",
        "        self.transitions = {\n",
        "            ('q0', '0'): ('q0', '0', 'R'),  # Permanece en el estado q0 y se mueve a la derecha si lee 0\n",
        "            ('q0', '1'): ('q0', '1', 'R'),  # Permanece en el estado q0 y se mueve a la derecha si lee 1\n",
        "            ('q0', ' '): ('q1', ' ', 'L'),  # Cambia al estado q1 y se mueve a la izquierda si lee un espacio en blanco\n",
        "            ('q1', '0'): ('q1', '0', 'L'),  # Permanece en el estado q1 y se mueve a la izquierda si lee 0\n",
        "            ('q1', '1'): ('q1', '1', 'L'),  # Permanece en el estado q1 y se mueve a la izquierda si lee 1\n",
        "            ('q1', ' '): ('q2', ' ', 'R')   # Cambia al estado q2 y se mueve a la derecha si lee un espacio en blanco\n",
        "        }\n",
        "\n",
        "    def validate(self, input_string):\n",
        "        tape = list(input_string)\n",
        "        state = 'q0'\n",
        "        head = 0\n",
        "\n",
        "        while state != 'q2':\n",
        "            symbol = tape[head]\n",
        "            if (state, symbol) in self.transitions:\n",
        "                new_state, write_symbol, move_direction = self.transitions[(state, symbol)]\n",
        "                tape[head] = write_symbol\n",
        "                state = new_state\n",
        "\n",
        "                if move_direction == 'R':\n",
        "                    head += 1\n",
        "                elif move_direction == 'L':\n",
        "                    head -= 1\n",
        "\n",
        "                if head < 0:\n",
        "                    tape.insert(0, ' ')\n",
        "                    head = 0\n",
        "                elif head >= len(tape):\n",
        "                    tape.append(' ')\n",
        "\n",
        "            else:\n",
        "                return False  # La máquina queda en un estado no definido, la cadena no es válida\n",
        "\n",
        "        return True\n",
        "\n",
        "# Uso de la Máquina de Turing para validar cadenas\n",
        "if __name__ == \"__main__\":\n",
        "    tm = TuringMachine()\n",
        "\n",
        "    # Ejemplos de cadenas para validar\n",
        "    strings_to_validate = [\"0011\", \"1100\", \"000111\", \"010101\", \"00110011\"]\n",
        "\n",
        "    for s in strings_to_validate:\n",
        "        result = tm.validate(s)\n",
        "        print(f'Cadena: {s}, ¿Es válida? {result}')\n"
      ],
      "metadata": {
        "id": "ZMkbzberW-AF"
      },
      "execution_count": null,
      "outputs": []
    },
    {
      "cell_type": "markdown",
      "source": [
        "# TAREA, JERARQUÍA DE NOAM CHOMSKY"
      ],
      "metadata": {
        "id": "CB9P1lnTrhNv"
      }
    },
    {
      "cell_type": "markdown",
      "source": [
        "Noam Chomsky es un lingüista y científico cognitivo conocido por sus contribuciones a la teoría del lenguaje y la gramática. La \"jerarquía de Chomsky\" se refiere a una clasificación de las gramáticas formales, que son sistemas abstractos utilizados para describir la estructura de los lenguajes formales, como los lenguajes de programación y los lenguajes naturales.\n",
        "\n",
        "La jerarquía de Chomsky se divide en cuatro niveles principales:\n",
        "\n",
        "Tipo 0 (Gramáticas recursivamente enumerables): En este nivel se encuentran las gramáticas más generales, que pueden generar cualquier lenguaje reconocible por una máquina de Turing. Estas gramáticas permiten reglas de producción arbitrariamente complejas y son difíciles de analizar en términos de su capacidad para generar lenguajes específicos.\n",
        "\n",
        "Tipo 1 (Gramáticas sensibles al contexto): Las gramáticas de tipo 1 generan lenguajes sensibles al contexto, que son más poderosos que los lenguajes regulares pero menos poderosos que los lenguajes recursivamente enumerables. Estas gramáticas se utilizan en la descripción de la sintaxis de muchos lenguajes naturales y lenguajes de programación.\n",
        "\n",
        "Tipo 2 (Gramáticas libres de contexto): Las gramáticas de tipo 2 generan lenguajes libres de contexto, que son utilizados ampliamente en la descripción de la sintaxis de lenguajes de programación y en la gramática de muchos lenguajes naturales. Son más simples que las gramáticas sensibles al contexto y se pueden analizar más fácilmente.\n",
        "\n",
        "Tipo 3 (Gramáticas regulares): Las gramáticas de tipo 3 generan lenguajes regulares, que son los más simples de todos. Estos lenguajes se utilizan en la descripción de patrones en expresiones regulares y en el análisis léxico de lenguajes de programación.\n",
        "\n",
        "En resumen, la jerarquía de Chomsky clasifica las gramáticas formales en función de su complejidad y poder expresivo. Cada nivel de esta jerarquía tiene restricciones específicas en la forma en que se pueden definir las reglas de producción, y cada nivel es más restrictivo que el anterior en términos de los lenguajes que puede generar. Esta jerarquía es fundamental en la teoría de la computabilidad y la teoría de la gramática, y ha tenido un impacto significativo en la lingüística, la ciencia de la computación y otros campos relacionados."
      ],
      "metadata": {
        "id": "4S-80L7srmW0"
      }
    },
    {
      "cell_type": "code",
      "source": [],
      "metadata": {
        "id": "Ev9qso6rrUnV"
      },
      "execution_count": null,
      "outputs": []
    },
    {
      "cell_type": "code",
      "source": [],
      "metadata": {
        "id": "V533o0tQrUlo"
      },
      "execution_count": null,
      "outputs": []
    },
    {
      "cell_type": "code",
      "source": [],
      "metadata": {
        "id": "CNDyuRG9rUjJ"
      },
      "execution_count": null,
      "outputs": []
    },
    {
      "cell_type": "code",
      "source": [],
      "metadata": {
        "id": "mMQ4aXWrrUg_"
      },
      "execution_count": null,
      "outputs": []
    }
  ]
}