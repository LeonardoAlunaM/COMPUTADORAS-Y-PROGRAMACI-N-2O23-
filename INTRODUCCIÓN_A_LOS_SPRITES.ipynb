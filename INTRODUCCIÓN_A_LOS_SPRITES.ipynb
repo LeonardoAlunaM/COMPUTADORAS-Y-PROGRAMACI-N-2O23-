{
  "nbformat": 4,
  "nbformat_minor": 0,
  "metadata": {
    "colab": {
      "provenance": [],
      "authorship_tag": "ABX9TyMokgoKxS62gZRJNhHcER46",
      "include_colab_link": true
    },
    "kernelspec": {
      "name": "python3",
      "display_name": "Python 3"
    },
    "language_info": {
      "name": "python"
    }
  },
  "cells": [
    {
      "cell_type": "markdown",
      "metadata": {
        "id": "view-in-github",
        "colab_type": "text"
      },
      "source": [
        "<a href=\"https://colab.research.google.com/github/LeonardoAlunaM/COMPUTADORAS-Y-PROGRAMACI-N-2O23-/blob/main-COMPUTADORAS-Y-PROGTRAMACI%C3%93N-2023/INTRODUCCI%C3%93N_A_LOS_SPRITES.ipynb\" target=\"_parent\"><img src=\"https://colab.research.google.com/assets/colab-badge.svg\" alt=\"Open In Colab\"/></a>"
      ]
    },
    {
      "cell_type": "code",
      "execution_count": null,
      "metadata": {
        "id": "snr9FIdTEOuo"
      },
      "outputs": [],
      "source": [
        "# LLAM, 10 / 08 / 2023, INTRODUCCIÓN A LOS SPRITES, 6:48\n",
        "# versión 1.0\n",
        "\n",
        "import pygame, sys, random\n",
        "\n",
        "class Crosshair(pygame.sprite.Sprite):\n",
        "    #def __init__(self,width,height, pos_x, pos_y, color):\n",
        "    def __init__(self,picture_path):\n",
        "        super().__init__()\n",
        "        # self.image = pygame.Surface([width, height])\n",
        "        self.image = pygame.image.load(picture_path)\n",
        "        #  self.image.fill(color)\n",
        "        self.rect = self.image.get_rect()\n",
        "        # self.rect.center = [pos_x,pos_y]\n",
        "        self.gunshot = pygame.mixer.Sound('..RUTA DE ARCHIVO/YameteKudasai.mp3') # Después de agregar está línea, con el audio correspondiente, con el sonido que se supone debería ser un disparo, es que no tengo más audios, es posible escuchar el sonido después de hacer click en la pantalla, al parecer no existe problema en el hecho de que el tipo de audio sea wav o mp3, que en este caso es mp3\n",
        "\n",
        "\n",
        "\n",
        "    def shoot(self): # Definiendo la función que agregara sonido al juego\n",
        "        self.gunshot.play()\n",
        "        pygame.sprite.spritecollide(crosshair, target_group, True) # De esta manera logramos que un objetivo desaparezca después de hacer click sobre él, aún es posible escuchar sonido una vez se hace click sobre el objetivo\n",
        "\n",
        "    def update(self):  # Definimos una manera de trabajar con muchos sprites diferentes\n",
        "        self.rect.center = pygame.mouse.get_pos() # Ahora el mouse es la imagen que definimos previamente, en este caso el cuervo, cuando el cuervo está por debajo de la imagen que definimos para el nivel se dibujan muchos cuervos en la pantalla\n",
        "\n",
        "class Target(pygame.sprite.Sprite): # Bien podría utilizarse la herencia para definir está clase y su función dentro del juego, pero de momento continuaremos con la parte del desarrollo, al igual que lo hizimos para la mira, que tiene la forma de un cuervo\n",
        "    def __init__(self,picture_path, pos_x, pos_y): # En está clase de acá vamos a definir los objetivos\n",
        "        super().__init__()\n",
        "        self.image = pygame.image.load(picture_path)\n",
        "        self.rect = self.image.get_rect()\n",
        "        self.rect.center = [pos_x,pos_y]\n",
        "\n",
        "\n",
        "# Configuración general\n",
        "pygame.init()\n",
        "clock = pygame.time.Clock()\n",
        "\n",
        "# Pantalla del juego\n",
        "screen_width = 1363 # si se exceden las dimensiones de la pantalla, entonces toda la pantalla aparece en negro,y uno podría pensar que la computadora falló\n",
        "screen_height = 702\n",
        "screen = pygame.display.set_mode((screen_width, screen_height))\n",
        "background = pygame.image.load('..RUTA DE ARCHIVO/Stage4D3.png') # Aquí agregamos un fondo para la pantalla de nuestro videojuego, que viene siendo una imagen de sprite de un videojuego antaño, la idea detrás de esto es observar como interactuan las diferentes imagenes dentro del juego\n",
        "pygame.mouse.set_visible(False) # Al agregar está línea de código ya no es posible observar el mouse cuando esté se situa sobre la pantalla del videojuego\n",
        "\n",
        "# Crosshair\n",
        "# crosshair = Crosshair(50,50,100,100,(255,255,255)) # Los dos primeros valores son el tamaño de nuestra imagen, y los valores 3 y cuatro definen la posición en la cual aparecera nuestra imagen, los valores dentro del segundo par de llaves sirven para colorear nuestra imagen\n",
        "crosshair = Crosshair(\"..RUTA DE ARCHIVO/crow1.png\") # Esta imagen ya está limpia incluyendo los los bordes, que por defecto son blancos antes de removerlos con la herramienta de microsoft word\n",
        "# Grupo de los sprites, se crea para poder dibujar todos los sprites de un golpe, es decir de forma no individual+\n",
        "crosshair_group = pygame.sprite.Group()\n",
        "crosshair_group.add(crosshair) # Hecho esto se muestra nuestro leonardo ahí dentro del retangulo blanco que se definió previamente\n",
        "\n",
        "# Objetivos\n",
        "target_group = pygame.sprite.Group()\n",
        "for target in range(20):\n",
        "    new_target = Target(\"../graphics/test/itachi1.png\",random.randrange(0,screen_width),random.randrange(0,screen_height))\n",
        "    target_group.add(new_target)\n",
        "\n",
        "\n",
        "\n",
        "# Ciclo principal del juego, mantiene el bucle del videojeugo abierto\n",
        "while True:\n",
        "    for event in pygame.event.get():\n",
        "        if event.type == pygame.QUIT:\n",
        "            pygame.quit()\n",
        "            sys.exit()\n",
        "\n",
        "        if event.type == pygame.MOUSEBUTTONDOWN: # Se define la funcionalidad del sonido dentro del bucle principal del juego\n",
        "            crosshair.shoot()    # Se llama la función, cuando el evento tiene lugar, por el usuario\n",
        "\n",
        "    pygame.display.flip()\n",
        "    screen.blit(background,(0,0)) # De esta manera conseguimos que la imagen seleccionada, y marcada con la variable \"background\" se muestre en pantalla, la imagen aparece bien centrada en el origen definido por nosotros, como (0,0)\n",
        "    target_group.draw(screen)\n",
        "    crosshair_group.draw(screen)\n",
        "\n",
        "    crosshair_group.update()\n",
        "    clock.tick(60)\n",
        "\n"
      ]
    }
  ]
}