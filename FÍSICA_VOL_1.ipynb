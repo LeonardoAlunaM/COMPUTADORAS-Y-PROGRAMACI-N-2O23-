{
  "nbformat": 4,
  "nbformat_minor": 0,
  "metadata": {
    "colab": {
      "provenance": [],
      "authorship_tag": "ABX9TyOrFAW2RHlnu6Cr5le1ZVNS",
      "include_colab_link": true
    },
    "kernelspec": {
      "name": "python3",
      "display_name": "Python 3"
    },
    "language_info": {
      "name": "python"
    }
  },
  "cells": [
    {
      "cell_type": "markdown",
      "metadata": {
        "id": "view-in-github",
        "colab_type": "text"
      },
      "source": [
        "<a href=\"https://colab.research.google.com/github/LeonardoAlunaM/COMPUTADORAS-Y-PROGRAMACI-N-2O23-/blob/main-COMPUTADORAS-Y-PROGTRAMACI%C3%93N-2023/F%C3%8DSICA_VOL_1.ipynb\" target=\"_parent\"><img src=\"https://colab.research.google.com/assets/colab-badge.svg\" alt=\"Open In Colab\"/></a>"
      ]
    },
    {
      "cell_type": "markdown",
      "source": [
        "# Capítulo 1 UNIDADES, CANTIDADES FÍSICAS Y VECTORES"
      ],
      "metadata": {
        "id": "WAsHrglF39Tr"
      }
    },
    {
      "cell_type": "code",
      "execution_count": null,
      "metadata": {
        "id": "Vh91BVuB3dQL",
        "colab": {
          "base_uri": "https://localhost:8080/"
        },
        "outputId": "bc87984f-dc58-449a-d763-c04970c4833f"
      },
      "outputs": [
        {
          "output_type": "stream",
          "name": "stdout",
          "text": [
            "Ingrese el valor de 1 hora = 1\n",
            "Ingrese el número de horas que han transcurrido desde que comenzó la tormenta: 1\n",
            "La distancia en el eje x cuando se nos menciona la situación es: 12.036300463\n",
            "La distancia en el eje y cuando se nos menciona la situación es: 15.972710201\n",
            "Ahora para conocer la distancia en ambos ejes una hora después de mencionada la situación se tiene\n",
            "La distancia en el eje x una hora después de mencionada la situación es: 24.072600926\n",
            "La distancia en el eje y una hora después de mencionada la situación es: 31.945420402\n"
          ]
        }
      ],
      "source": [
        "# Ser capaz de predecir la trayectoria de un huracán resulta esencial para reducir al mínimo los posibles daños\n",
        "# a las propiedades y a las vidas humanas.\n",
        "# Si un huracán se mueve a 20 Km / h en una dirección de 53º al norte del este \n",
        "# ¿Qué tan lejos al norte se moverá el huracán en una hora?\n",
        "\n",
        "# r = 53 aquí se ha sustituido directamente el valor del seno y coseno de 53º en las fórmulas de \n",
        "# x1, x2, y1 y y2 \n",
        "d1 = 20\n",
        "print(\"Ingrese el valor de 1 hora = 1\")\n",
        "h = float(input(\"Ingrese el número de horas que han transcurrido desde que comenzó la tormenta: \"))\n",
        "if h != 1:\n",
        "    print(\"Nel perro\")\n",
        "else: \n",
        "    x1 = (0.60181502315)*d1*h\n",
        "    print(f\"La distancia en el eje x cuando se nos menciona la situación es: {x1}\")\n",
        "    y1 = (0.79863551005)*d1*h\n",
        "    print(f\"La distancia en el eje y cuando se nos menciona la situación es: {y1}\")\n",
        "\n",
        "print(\"Ahora para conocer la distancia en ambos ejes una hora después de mencionada la situación se tiene\")\n",
        "d2 = 40 # La nueva distancia seria de 40 kilometros, eso con la dirección inicial y las componentes serían\n",
        "# las siguientes\n",
        "if h != 1 : \n",
        "    print(\"Nel perro\") \n",
        "else: \n",
        "    x2 = (0.60181502315)*d2*h\n",
        "    print(f\"La distancia en el eje x una hora después de mencionada la situación es: {x2}\")\n",
        "    y2 = (0.79863551005)*d2*h\n",
        "    print(f\"La distancia en el eje y una hora después de mencionada la situación es: {y2}\")"
      ]
    },
    {
      "cell_type": "code",
      "source": [
        "def suma(self,*matrices):\n",
        "    for i in range(self.filas):\n",
        "        fila = []\n",
        "        for j in range(self.columnas):\n",
        "            temp = self.elems[i][j]\n",
        "            for m in matrices:\n",
        "                temp += m.elems[i][j]\n",
        "            fila.append(temp)\n",
        "        yield fila "
      ],
      "metadata": {
        "id": "4rBvyHFM5Ctk"
      },
      "execution_count": null,
      "outputs": []
    },
    {
      "cell_type": "code",
      "source": [
        "import math \n",
        "print(math.pow(2,3))\n",
        "# Se pueden obtener las potencias de un número determinado.  "
      ],
      "metadata": {
        "colab": {
          "base_uri": "https://localhost:8080/"
        },
        "id": "5oQcgGub-5Rl",
        "outputId": "e38b7efc-a3f2-44af-f339-653e0fd327dc"
      },
      "execution_count": null,
      "outputs": [
        {
          "output_type": "stream",
          "name": "stdout",
          "text": [
            "8.0\n"
          ]
        }
      ]
    },
    {
      "cell_type": "code",
      "source": [
        "print(\"Uso de alguna nueva característica \\najua desbloqueada\") # De está manera con \"\\n\" existe la posibilidad imprimitr codigo desde una linea a otra\n",
        "print()\n",
        "print(\"Ajua otra vez \\nmiau \\nmiua \\nmiarrramiaauuuuuuuu\")"
      ],
      "metadata": {
        "id": "gKrs8PqfA0-F",
        "colab": {
          "base_uri": "https://localhost:8080/"
        },
        "outputId": "179c0835-6759-49b4-dbc2-ab8363ccf254"
      },
      "execution_count": null,
      "outputs": [
        {
          "output_type": "stream",
          "name": "stdout",
          "text": [
            "Uso de alguna nueva característica \n",
            "ajua desbloqueada\n",
            "\n",
            "Ajua otra vez \n",
            "miau \n",
            "miua \n",
            "miarrramiaauuuuuuuu\n"
          ]
        }
      ]
    },
    {
      "cell_type": "code",
      "source": [],
      "metadata": {
        "id": "MCKEemxG6R9_"
      },
      "execution_count": null,
      "outputs": []
    },
    {
      "cell_type": "code",
      "source": [
        "print(\"LLL                   EEE \\nLLL                   EEE \\nLLL               \\nLLL \\nLLL \\nLLL \\nLLL \\nLLL \\nLLLLLLLLLLLLLLLLL \")"
      ],
      "metadata": {
        "colab": {
          "base_uri": "https://localhost:8080/"
        },
        "id": "I968tjt5JcEB",
        "outputId": "51a0b036-fe05-483e-9a50-de410d00d2d0"
      },
      "execution_count": null,
      "outputs": [
        {
          "output_type": "stream",
          "name": "stdout",
          "text": [
            "LLL                   EEE \n",
            "LLL                   EEE \n",
            "LLL \n",
            "LLL \n",
            "LLL \n",
            "LLL \n",
            "LLL \n",
            "LLL \n",
            "LLLLLLLLLLLLLLLLL \n"
          ]
        }
      ]
    },
    {
      "cell_type": "code",
      "source": [
        "# Leonardo Alexis Luna Moreno, 18 de septiembre del 20022, 5:55 de la tarde\n",
        "# He avanzado mucho desde la madrugada del día de hoy\n",
        "\n",
        "from tkinter import *  # Se importan todas herramientas de la libreria tkinter \n",
        "#from tkinter.ttk import * \n",
        "import tkinter as tk   # Se importan otros herramientas de tkinter \n",
        "from time import strftime # Se importan las librerias para definir la hora y la fecha\n",
        "import time # Se importan más librerias para el tiempo\n",
        "\n",
        "#miFrame = Frame()\n",
        "\n",
        "class Ventana():        # Aquí se define la clase ventana, y se almacenan diversos datos de interés para la interfaz\n",
        "    def __init__(self):    # Se utiliza el método __init__, es un constructor que establece el estado inicial de un objeto. \n",
        "            self.ventana = tk.Tk()\n",
        "            self.ventana.iconbitmap(\"../graphics/mad.ico\") # Aquí se agrega un ícono a la ventana principal del programa           # A partir de este punto, si se ejecuta el programa, durante un instante aparece la ventana principal, después se cierra\n",
        "\n",
        "            self.ventana.geometry(\"750x150\") # Con está línea se define el tamaño con el cual la ventana principal se muestra en cuanto inicia el programa\n",
        "            # ¿Cómo hacer que la ventana principal del programa abarque todo el monitor en cuanto inicialice el programa?\n",
        "            self.ventana.resizable(1200,1200)\n",
        "\n",
        "            self.ventana.title(\"LA CALCULADORA DEL DIABLO\") # Con está instrucción agregamos el nombre a la ventana principal, en este caso \" LA CALCULADORA DEL DIABLO \"\n",
        "\n",
        "            self.ventana.config(background = \"darkred\")    # Con está línea es posible colorear el fondo de la ventana principal\n",
        "            self.ventana.config(bd = 10)  # Se agregan bordes a la ventana principal, cuyo grosor es 10                           # A partir de aquí el programa comienza a funcionar, pero se queda trabado sin las instrucciones definidas más abajo \n",
        "            self.ventana.config(relief = \"groove\")   # Se elige un tipo de borde, de entre los muchos que ofrece la libreria tkinter\n",
        "\n",
        "            self.ventana.config(cursor = \"hand2\")     # Aquí se cambia la forma del cursor mientras el mismo se encuentre sobre la ventana principal del programa\n",
        "        \n",
        "            # En este recuadro creado en las líneas siguientes se almacenan los datos del reloj dígital.\n",
        "            self.etiquetahms = tk.Label(text = \"\", font = (\"Arial\", 32), fg = \"darkred\", bg = \"white\", pady = 10, padx = 10) # En esta línea se define el nombre de la etiqueta para el reloj, así como el tipo de letra, el tamaño de la letra, fg define el color de la letra, mientras que bg define el color del recuadro donde se almacenan los valores del tiempo, padx y pady son un espacio entre el elemento definido, y suponiendo un numero n, tal numero se divide a la mitad, y en la mitad del interalo se coloca el objeto definido por nosotros \n",
        "            self.etiquetahms.config(bd = 10)   # Se agrega el grosor para el borde \n",
        "            self.etiquetahms.config(relief = \"groove\")   # Se agrega un tipo de borde para el recuadro que contiene la hora\n",
        "            self.etiquetahms.place(x = 0, y = 0)   # Se elige la posición para el recuadro de la hora\n",
        "            self.actualizacion()     # Permite que la información del reloj cambie, cada 1 / 1000 segundos la información del reloj se actualiza\n",
        "\n",
        "            # En este recuadro creado en las líneas siguientes se almacenan los datos de la fecha\n",
        "            # Al parecer utilizare el método .grid, eventualmente, esto con la intención de colocar los botones a mi antojo \n",
        "\n",
        "            # Sí se mantinene las 5 lineas siguientes, y en cambio, se muestra como comentario la etiqueta definida en ala clase actualización, se observa un recuadro blanco en la pantalla\n",
        "            # ¿ Cómo lograr que los recuadros se ajusten a la ventana en todo momento, incluso cuando la ventana cambia de tamaño ?\n",
        "            self.etiqueta = tk.Label(text = \"dd/mm/aaaa\", font = (\"Arial\", 32), fg = \"darkred\", bg = \"white\", pady = 10, padx = 10)\n",
        "            self.etiqueta.config(bd = 10)  # Se agrega el grosor para el borde\n",
        "            self.etiqueta.config(relief = \"groove\") # Se agrega un tipo de borde para el recuadro que contiene la fecha\n",
        "            #self.etiqueta.place(x = 10) \n",
        "            self.etiqueta.place( x = 1065, y = 0)  # Se elige una posición estática para el recuadro de la fecha, eso por el momento \n",
        "            self.actualizacion() # permite que la información dentro del recuadro de la fecha cambie\n",
        "\n",
        "            miFrame = Frame()  # Después de agregar está línea por sí sola no sucede nada, pero estamos por definir el encabezado\n",
        "            miFrame.pack(side = \"top\") # Define la posición dentro de la ventana, con esté método el encabezado se mueve conforme la ventana principal mientras cambia de tamaño, en cambio con el metodo .place, los recuadros permanecen estáticos\n",
        "            miFrame.config(background = \"midnightblue\" ) # Permite cambiar el color del encabezado\n",
        "            miFrame.config(width = \"750\", height = \"150\") # Define el tamaño del encabezado\n",
        "            Label(miFrame, text = \"Estructura de Datos\", fg = \"midnightblue\", font = (\"Arial\", 30)).place(x = 190, y = 40)\n",
        "            miFrame.config(bd = 10)  # Se define el grosor del recuadro del encabezado \n",
        "            miFrame.config(relief = \"groove\") # Se elige un tipo de borde para el recuadro del encabezado \n",
        "            miFrame.config(cursor = \"pirate\") # Cambia la forma del cursor al colocarlo sobre el área que ocupa el encabezado\n",
        "\n",
        "            #botonEnvio = Button(self.ventana, text = \"Menú\") # Con está línea es posible crear un boton#\n",
        "            #botonEnvio.pack() # Con está línea es posible visualizar el botón en la pantalla, cuando no se rellena .pack(), el boton es colocado debajo del encabezado, esto por defecto \n",
        "            \n",
        "            def openNewWindow():\n",
        "                newWindow = Tk()\n",
        "                newWindow.iconbitmap(\"../graphics/mad.ico\") # Hasta aquí la segunda ventana aun se puede configurar\n",
        "                # newWindow.geometry(\"750,150\") Después de eliminar está línea del código, la segunda ventana se pinto de rojo \n",
        "                newWindow.resizable(1200,1200)\n",
        "                newWindow.title(\"MENÚ DE LA CALCULADORA DEL DIABLO\")\n",
        "                newWindow.config(background = \"darkred\")\n",
        "                newWindow.config(bd = 10)\n",
        "                newWindow.config(relief = \"groove\")\n",
        "\n",
        "                barraMenu = Menu(newWindow)\n",
        "                mnuArchivo = Menu(barraMenu)\n",
        "                mnuArchivo.add_command(label = \"Tarea 1: Transformación de 2 matrices triangulares inferiores A y B, en un arreglo rectangular AxB\")\n",
        "                mnuArchivo.add_command(label = \"Tarea 2: Programa que ordena datos por el método de la burbuja\")\n",
        "                mnuArchivo.add_command(label = \"Tarea 3: Programa que agrega y elimina datos en una pila, en una cola, y en una cola de doble entrada\")\n",
        "                mnuArchivo.add_command(label = \"Tarea 4: Ordenamiento de datos por el método de mínimos sucesivos\")\n",
        "                mnuArchivo.add_command(label = \"salir\")           \n",
        "                barraMenu.add_cascade(label = \" LOS CALCULOS DEL DIABLO \", menu = mnuArchivo)\n",
        "                newWindow.config(menu = barraMenu)\n",
        "\n",
        "                # Con la sintaxis de las 5 siguientes líneas fue posible agregar el reloj a la segunda ventana\n",
        "                self.etiquetahms = tk.Label(newWindow, text = \"\", font = (\"Arial\", 32), fg = \"darkred\", bg = \"white\", pady = 10, padx = 10) # En esta línea se define el nombre de la etiqueta para el reloj, así como el tipo de letra, el tamaño de la letra, fg define el color de la letra, mientras que bg define el color del recuadro donde se almacenan los valores del tiempo, padx y pady son un espacio entre el elemento definido, y suponiendo un numero n, tal numero se divide a la mitad, y en la mitad del interalo se coloca el objeto definido por nosotros \n",
        "                self.etiquetahms.config(bd = 10)   # Se agrega el grosor para el borde \n",
        "                self.etiquetahms.config(relief = \"groove\")   # Se agrega un tipo de borde para el recuadro que contiene la hora\n",
        "                self.etiquetahms.place(x = 0, y = 0)   # Se elige la posición para el recuadro de la hora\n",
        "                self.actualizacion()  \n",
        "\n",
        "                self.etiqueta = tk.Label(newWindow, text = \"dd/mm/aaaa\", font = (\"Arial\", 32), fg = \"darkred\", bg = \"white\", pady = 10, padx = 10)\n",
        "                self.etiqueta.config(bd = 10)  # Se agrega el grosor para el borde\n",
        "                self.etiqueta.config(relief = \"groove\") # Se agrega un tipo de borde para el recuadro que contiene la fecha\n",
        "                #self.etiqueta.place(x = 10) \n",
        "                self.etiqueta.place( x = 1065, y = 0)  # Se elige una posición estática para el recuadro de la fecha, eso por el momento \n",
        "                self.actualizacion() # permite que la información dentro del recuadro de la fecha cambie\n",
        "\n",
        "                # Para evitar que un cuadro de texto aparezca duplicada en la primera ventana es necesario escribir \n",
        "                # miFrame = Frame(lugar en donde se espera que aparezca el recuadro, en este caso newWindow)\n",
        "                miFrame = Frame(newWindow)  # Después de agregar está línea por sí sola no sucede nada, pero estamos por definir el encabezado\n",
        "                miFrame.pack(side = \"top\") # Define la posición dentro de la ventana, con esté método el encabezado se mueve conforme la ventana principal mientras cambia de tamaño, en cambio con el metodo .place, los recuadros permanecen estáticos\n",
        "                miFrame.config(background = \"midnightblue\" ) # Permite cambiar el color del encabezado\n",
        "                miFrame.config(width = \"750\", height = \"150\") # Define el tamaño del encabezado\n",
        "                Label(miFrame, text = \"Estructura de Datos\", fg = \"midnightblue\", font = (\"Arial\", 30)).place(x = 190, y = 40)\n",
        "                miFrame.config(bd = 10)  # Se define el grosor del recuadro del encabezado \n",
        "                miFrame.config(relief = \"groove\") # Se elige un tipo de borde para el recuadro del encabezado \n",
        "                miFrame.config(cursor = \"pirate\") \n",
        "\n",
        "                botonEnvio = Button(newWindow, text = \"Volver a la ventana principal y cerrar esta ventana\", command = newWindow.destroy) # Al agregar el comando \" exit \" en el botón \" Cerrar \", fue posible finalizar el programa\n",
        "                botonEnvio.config(cursor = \"pirate\")\n",
        "                botonEnvio.place(x = 0, y = 640)\n",
        "                # Label(newWindow, text = \"This is a new Window\").pack()  \n",
        "                # newWindow.mainloop()\n",
        "\n",
        "                # miFrame = Frame()  # Después de agregar está línea por sí sola no sucede nada, pero estamos por definir el encabezado\n",
        "                # miFrame.pack(side = \"top\") # Define la posición dentro de la ventana, con esté método el encabezado se mueve conforme la ventana principal mientras cambia de tamaño, en cambio con el metodo .place, los recuadros permanecen estáticos\n",
        "                # miFrame.config(background = \"midnightblue\" ) # Permite cambiar el color del encabezado\n",
        "                # miFrame.config(width = \"750\", height = \"150\") # Define el tamaño del encabezado\n",
        "                # Label(miFrame, text = \"Estructura de Datos\", fg = \"midnightblue\", font = (\"Arial\", 30)).place(x = 190, y = 40)\n",
        "                # miFrame.config(bd = 10)  # Se define el grosor del recuadro del encabezado \n",
        "                # miFrame.config(relief = \"groove\") # Se elige un tipo de borde para el recuadro del encabezado \n",
        "                # miFrame.config(cursor = \"pirate\")\n",
        "\n",
        "                #etiquetahms = tk.Label(text = \"\", font = (\"Arial\", 32), fg = \"darkred\", bg = \"white\", pady = 10, padx = 10) # En esta línea se define el nombre de la etiqueta para el reloj, así como el tipo de letra, el tamaño de la letra, fg define el color de la letra, mientras que bg define el color del recuadro donde se almacenan los valores del tiempo, padx y pady son un espacio entre el elemento definido, y suponiendo un numero n, tal numero se divide a la mitad, y en la mitad del interalo se coloca el objeto definido por nosotros \n",
        "                #etiquetahms.config(bd = 10)   # Se agrega el grosor para el borde \n",
        "                #etiquetahms.config(relief = \"groove\")   # Se agrega un tipo de borde para el recuadro que contiene la hora\n",
        "                #etiquetahms.place(x = 0, y = 0)   # Se elige la posición para el recuadro de la hora\n",
        "                #self.actualizacion()\n",
        "            \n",
        "            botonEnvio = Button(self.ventana, text = \" Menú \", command = openNewWindow)\n",
        "            botonEnvio.pack()\n",
        "\n",
        "            botonEnvio = Button(self.ventana, text = \"Tarea 1: Transformación de 2 matrices triangulares inferiores A y B, en un arreglo rectangular AxB\") \n",
        "            botonEnvio.pack()\n",
        "\n",
        "            botonEnvio = Button(self.ventana, text = \"Tarea 2: Programa que ordena datos por el método de la burbuja\") \n",
        "            botonEnvio.pack()\n",
        "\n",
        "            botonEnvio = Button(self.ventana, text = \"Tarea 3: Programa que agrega y elimina datos en una pila, en una cola, y en una cola de doble entrada\") \n",
        "            botonEnvio.pack()\n",
        "\n",
        "            botonEnvio = Button(self.ventana, text = \"Tarea 4: Ordenamiento de datos por el método de mínimos sucesivos\") \n",
        "            botonEnvio.pack()\n",
        "\n",
        "            botonEnvio = Button(self.ventana, text = \"Anuncios: Sobre las novedades de la informática\") # Colocar anuncios sobre las novedades de las computadoras\n",
        "            botonEnvio.pack()\n",
        "\n",
        "            botonEnvio = Button(self.ventana, text = \"Cerrar\", command = exit) # Al agregar el comando \" exit \" en el botón \" Cerrar \", fue posible finalizar el programa\n",
        "            botonEnvio.config(cursor = \"pirate\")\n",
        "            botonEnvio.place(x = 0, y = 660)\n",
        "#           botonEnvio.place(x = 0, y = 475)   Aquí trate de posicionar el botón cerrar en la esquina inferior izquierda, esto con diferentes metodos\n",
        "#           botonEnvio.pack(side = (BOTTOM))\n",
        "\n",
        "        #botonEnvio.place(x = 0, y = 475)\n",
        "\n",
        "            self.ventana.mainloop()     # Al escribir está línea, la cual es la instrucción de un bucle infinito, es posible visualizar la ventana principal e interactuar con ella\n",
        "\n",
        "    \n",
        "    def actualizacion(self):       # Aquí se definen los métodos para actualizar la hora y la fecha \n",
        "\n",
        "        hora = time.strftime(\"%Hh:%Mm:%Ss\")\n",
        "        self.etiquetahms.config(text = hora)\n",
        "\n",
        "        #fecha = time.strftime(\"%A,%d/%m/%Y\")\n",
        "        #self.etiqueta.config(text = fecha)\n",
        "\n",
        "        \n",
        "        #fecha = etiqueta_fecha.config(text = strftime(\"%A,%d/%m/%Y\"))\n",
        "        self.ventana.after(1000, self.actualizacion)\n",
        "    \n",
        "    \n",
        "\n",
        "#def actualiza_reloj(): \n",
        "#    etiqueta_hm.config(text = strftime (\"%H:%M\"))\n",
        "#    etiqueta_s.config(text = strftime(\"%S\"))\n",
        "#    etiqueta_fecha.config(text = strftime(\"%A,%d/%m/%Y\"))\n",
        "#    etiqueta_s.after(1000, actualiza_reloj)\n",
        "\n",
        "\n",
        "#Label(miFrame,text = \"Estructura de datos\", bg = \"midnightblue\", font = (100)).place(x = 295, y = 50) # Con está línea se agrega la frase \" Estructura de datos \" en el cuadro que elegí como encabezado, también es posible cambiar el color de las letras eligidas para el encabezado, el tamaño y el tipo de letra también son definidos aquí mismo \n",
        "#miFrame.config(bd = 10) # Se elige el tamaño del borde del encabezado\n",
        "#miFrame.config(relief = \"groove\") # Se elige el tipo de borde para el encabezado \n",
        "#miFrame.config(cursor = \"pirate\") \"\"\"\n",
        "\n",
        "if __name__ == \"__main__\":\n",
        "    main = Ventana()"
      ],
      "metadata": {
        "id": "MOQRkJDzYqH5"
      },
      "execution_count": null,
      "outputs": []
    }
  ]
}