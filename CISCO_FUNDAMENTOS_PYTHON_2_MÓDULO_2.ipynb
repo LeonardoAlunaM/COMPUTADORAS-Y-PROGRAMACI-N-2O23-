{
  "nbformat": 4,
  "nbformat_minor": 0,
  "metadata": {
    "colab": {
      "provenance": [],
      "authorship_tag": "ABX9TyPlZWonu2ZId0kqMlSLbzNV",
      "include_colab_link": true
    },
    "kernelspec": {
      "name": "python3",
      "display_name": "Python 3"
    },
    "language_info": {
      "name": "python"
    }
  },
  "cells": [
    {
      "cell_type": "markdown",
      "metadata": {
        "id": "view-in-github",
        "colab_type": "text"
      },
      "source": [
        "<a href=\"https://colab.research.google.com/github/LeonardoAlunaM/COMPUTADORAS-Y-PROGRAMACI-N-2O23-/blob/main-COMPUTADORAS-Y-PROGTRAMACI%C3%93N-2023/CISCO_FUNDAMENTOS_PYTHON_2_M%C3%93DULO_2.ipynb\" target=\"_parent\"><img src=\"https://colab.research.google.com/assets/colab-badge.svg\" alt=\"Open In Colab\"/></a>"
      ]
    },
    {
      "cell_type": "markdown",
      "source": [
        "# Módulo 2: Cadenas, Métodos de cadenas y listas, excepciones \n",
        "\n"
      ],
      "metadata": {
        "id": "Q_JaKDPCda0C"
      }
    },
    {
      "cell_type": "markdown",
      "source": [
        "# 2.2 Sección 2 – La naturaleza de las cadenas en Python"
      ],
      "metadata": {
        "id": "1blYpU-7cb-l"
      }
    },
    {
      "cell_type": "code",
      "execution_count": null,
      "metadata": {
        "colab": {
          "base_uri": "https://localhost:8080/"
        },
        "id": "4d3V1ouRNri0",
        "outputId": "450ab13c-9713-4bb2-9824-5b60c0fe0142"
      },
      "outputs": [
        {
          "output_type": "stream",
          "name": "stdout",
          "text": [
            "2\n",
            "0\n",
            "3\n"
          ]
        }
      ],
      "source": [
        "# Ejemplo 1\n",
        "word = 'by'\n",
        "print(len(word))\n",
        "\n",
        "# Ejemplo 2\n",
        "empty = ''\n",
        "print(len(empty))\n",
        "\n",
        "# Ejemplo 3\n",
        "i_am = 'I\\'m'\n",
        "print(len(i_am))\n"
      ]
    },
    {
      "cell_type": "code",
      "source": [
        "multiline = '''Línea #1\n",
        "Línea #2'''\n",
        "\n",
        "print(len(multiline))\n"
      ],
      "metadata": {
        "colab": {
          "base_uri": "https://localhost:8080/"
        },
        "id": "2tLEXyzja1Hz",
        "outputId": "f9db199a-1c38-42c5-8596-4b7069bd0e05"
      },
      "execution_count": null,
      "outputs": [
        {
          "output_type": "stream",
          "name": "stdout",
          "text": [
            "17\n"
          ]
        }
      ]
    },
    {
      "cell_type": "code",
      "source": [
        "multiline = \"\"\"Line #1\n",
        "Line #2\"\"\"\n",
        " \n",
        "print(len(multiline))\n",
        " "
      ],
      "metadata": {
        "colab": {
          "base_uri": "https://localhost:8080/"
        },
        "id": "XhvuzToUa1FR",
        "outputId": "d3e4467c-d136-4a6b-f945-f88f82b10027"
      },
      "execution_count": null,
      "outputs": [
        {
          "output_type": "stream",
          "name": "stdout",
          "text": [
            "15\n"
          ]
        }
      ]
    },
    {
      "cell_type": "code",
      "source": [
        "str1 = 'a'\n",
        "str2 = 'b'\n",
        "\n",
        "print(str1 + str2)\n",
        "print(str2 + str1)\n",
        "print(5 * 'a')\n",
        "print('b' * 4)\n"
      ],
      "metadata": {
        "colab": {
          "base_uri": "https://localhost:8080/"
        },
        "id": "7e4n8dFCa1BE",
        "outputId": "2782f86f-883f-43f9-d276-9fd95e2a83fc"
      },
      "execution_count": null,
      "outputs": [
        {
          "output_type": "stream",
          "name": "stdout",
          "text": [
            "ab\n",
            "ba\n",
            "aaaaa\n",
            "bbbb\n"
          ]
        }
      ]
    },
    {
      "cell_type": "code",
      "source": [
        "# Demostración de la función ord().\n",
        "\n",
        "char_1 = 'a'\n",
        "char_2 = ' '  # space\n",
        "\n",
        "print(ord(char_1))\n",
        "print(ord(char_2))\n"
      ],
      "metadata": {
        "colab": {
          "base_uri": "https://localhost:8080/"
        },
        "id": "tji5jBiQa0-C",
        "outputId": "fb07f733-c773-49d6-c73e-878b8ed1fd86"
      },
      "execution_count": null,
      "outputs": [
        {
          "output_type": "stream",
          "name": "stdout",
          "text": [
            "97\n",
            "32\n"
          ]
        }
      ]
    },
    {
      "cell_type": "markdown",
      "source": [
        "Ahora asigna diferentes valores a ch1 y ch2, por ejemplo, α (letra griega alfa), y ę (una letra en el alfabeto polaco); luego ejecuta el código y ve qué resultado produce. Realiza tus propios experimentos."
      ],
      "metadata": {
        "id": "VEUzyaS2bMmB"
      }
    },
    {
      "cell_type": "code",
      "source": [
        "# Demostración de la función chr().\n",
        "\n",
        "print(chr(97))\n",
        "print(chr(945))\n"
      ],
      "metadata": {
        "colab": {
          "base_uri": "https://localhost:8080/"
        },
        "id": "UNCnIQRka075",
        "outputId": "5f6b7bad-dc83-4907-8133-3c2b88f77026"
      },
      "execution_count": null,
      "outputs": [
        {
          "output_type": "stream",
          "name": "stdout",
          "text": [
            "a\n",
            "α\n"
          ]
        }
      ]
    },
    {
      "cell_type": "code",
      "source": [
        "# Indexando cadenas.\n",
        "\n",
        "the_string = 'silly walks'\n",
        "\n",
        "for ix in range(len(the_string)):\n",
        "    print(the_string[ix], end=' ')\n",
        "\n",
        "print()\n"
      ],
      "metadata": {
        "colab": {
          "base_uri": "https://localhost:8080/"
        },
        "id": "Yja4T6x0a05h",
        "outputId": "e6fbdfb2-f588-417b-d9ca-2fdb9792960e"
      },
      "execution_count": null,
      "outputs": [
        {
          "output_type": "stream",
          "name": "stdout",
          "text": [
            "s i l l y   w a l k s \n"
          ]
        }
      ]
    },
    {
      "cell_type": "code",
      "source": [
        "# Iterando a través de una cadena.\n",
        "\n",
        "the_string = 'silly walks'\n",
        "\n",
        "for character in the_string:\n",
        "    print(character, end=' ')\n",
        "\n",
        "print()\n"
      ],
      "metadata": {
        "colab": {
          "base_uri": "https://localhost:8080/"
        },
        "id": "kW1mW3DLa03W",
        "outputId": "d69863c9-2635-4a84-d8df-a69ae0f0c0e1"
      },
      "execution_count": null,
      "outputs": [
        {
          "output_type": "stream",
          "name": "stdout",
          "text": [
            "s i l l y   w a l k s \n"
          ]
        }
      ]
    },
    {
      "cell_type": "code",
      "source": [
        "alpha = \"abdefg\"\n",
        "\n",
        "print(alpha[1:3])\n",
        "print(alpha[3:])\n",
        "print(alpha[:3])\n",
        "print(alpha[3:-2])\n",
        "print(alpha[-3:4])\n",
        "print(alpha[::2])\n",
        "print(alpha[1::2])\n"
      ],
      "metadata": {
        "colab": {
          "base_uri": "https://localhost:8080/"
        },
        "id": "yN9OF-S-a00x",
        "outputId": "f747194e-5806-46be-8f3c-c4db8f8403b1"
      },
      "execution_count": null,
      "outputs": [
        {
          "output_type": "stream",
          "name": "stdout",
          "text": [
            "bd\n",
            "efg\n",
            "abd\n",
            "e\n",
            "e\n",
            "adf\n",
            "beg\n"
          ]
        }
      ]
    },
    {
      "cell_type": "code",
      "source": [
        "alphabet = \"abcdefghijklmnopqrstuvwxyz\"\n",
        "\n",
        "print(\"f\" in alphabet)\n",
        "print(\"F\" in alphabet)\n",
        "print(\"1\" in alphabet)\n",
        "print(\"ghi\" in alphabet)\n",
        "print(\"Xyz\" in alphabet)\n"
      ],
      "metadata": {
        "colab": {
          "base_uri": "https://localhost:8080/"
        },
        "id": "gU3CHKxya0yi",
        "outputId": "b6685a10-2b8f-48e5-cd42-2b9b350f3b96"
      },
      "execution_count": null,
      "outputs": [
        {
          "output_type": "stream",
          "name": "stdout",
          "text": [
            "True\n",
            "False\n",
            "False\n",
            "True\n",
            "False\n"
          ]
        }
      ]
    },
    {
      "cell_type": "code",
      "source": [
        "alphabet = \"abcdefghijklmnopqrstuvwxyz\"\n",
        "\n",
        "print(\"f\" not in alphabet)\n",
        "print(\"F\" not in alphabet)\n",
        "print(\"1\" not in alphabet)\n",
        "print(\"ghi\" not in alphabet)\n",
        "print(\"Xyz\" not in alphabet)\n"
      ],
      "metadata": {
        "colab": {
          "base_uri": "https://localhost:8080/"
        },
        "id": "yExKN9qba0wW",
        "outputId": "767be3f2-53a4-4ab2-ff32-c0a0a3269b6b"
      },
      "execution_count": null,
      "outputs": [
        {
          "output_type": "stream",
          "name": "stdout",
          "text": [
            "False\n",
            "True\n",
            "True\n",
            "False\n",
            "True\n"
          ]
        }
      ]
    },
    {
      "cell_type": "code",
      "source": [
        "alphabet = \"bcdefghijklmnopqrstuvwxy\"\n",
        "\n",
        "alphabet = \"a\" + alphabet\n",
        "alphabet = alphabet + \"z\"\n",
        "\n",
        "print(alphabet)\n"
      ],
      "metadata": {
        "colab": {
          "base_uri": "https://localhost:8080/"
        },
        "id": "CDMMjJSka0uG",
        "outputId": "30009a8d-b155-480a-f778-441a5c106b6d"
      },
      "execution_count": null,
      "outputs": [
        {
          "output_type": "stream",
          "name": "stdout",
          "text": [
            "abcdefghijklmnopqrstuvwxyz\n"
          ]
        }
      ]
    },
    {
      "cell_type": "code",
      "source": [
        "# Demonstración de min() - Ejemplo 1:\n",
        "print(min(\"aAbByYzZ\"))\n",
        "\n",
        "\n",
        "# Demonstración de min() - Ejemplos 2 y 3:\n",
        "t = 'Los Caballeros Que Dicen \"Ni!\"'\n",
        "print('[' + min(t) + ']')\n",
        "\n",
        "t = [0, 1, 2]\n",
        "print(min(t))\n"
      ],
      "metadata": {
        "colab": {
          "base_uri": "https://localhost:8080/"
        },
        "id": "-A3iKsICa0qm",
        "outputId": "b801b6dc-1266-46f2-c6b5-b997e2364c13"
      },
      "execution_count": null,
      "outputs": [
        {
          "output_type": "stream",
          "name": "stdout",
          "text": [
            "A\n",
            "[ ]\n",
            "0\n"
          ]
        }
      ]
    },
    {
      "cell_type": "code",
      "source": [
        "# Demostración de max() - Ejemplo 1:\n",
        "print(max(\"aAbByYzZ\"))\n",
        "\n",
        "\n",
        "# Demostración de max() - Ejemplo 2 y 3:\n",
        "t = 'Los Caballeros Que Dicen \"Ni!\"'\n",
        "print('[' + max(t) + ']')\n",
        "\n",
        "t = [0, 1, 2]\n",
        "print(max(t))\n"
      ],
      "metadata": {
        "colab": {
          "base_uri": "https://localhost:8080/"
        },
        "id": "6Cexcdt0a0nw",
        "outputId": "5e51f89a-91a4-4aa0-9d96-dfb2d5c20270"
      },
      "execution_count": null,
      "outputs": [
        {
          "output_type": "stream",
          "name": "stdout",
          "text": [
            "z\n",
            "[u]\n",
            "2\n"
          ]
        }
      ]
    },
    {
      "cell_type": "code",
      "source": [
        "# Demonstración del método index() method:\n",
        "print(\"aAbByYzZaA\".index(\"b\"))\n",
        "print(\"aAbByYzZaA\".index(\"Z\"))\n",
        "print(\"aAbByYzZaA\".index(\"A\"))\n"
      ],
      "metadata": {
        "colab": {
          "base_uri": "https://localhost:8080/"
        },
        "id": "3xUoib1ca0ld",
        "outputId": "d67df922-bb1c-4ac1-8c5d-4e2ccf7c9b9c"
      },
      "execution_count": null,
      "outputs": [
        {
          "output_type": "stream",
          "name": "stdout",
          "text": [
            "2\n",
            "7\n",
            "1\n"
          ]
        }
      ]
    },
    {
      "cell_type": "code",
      "source": [
        "# Demostración de la función list():\n",
        "print(list(\"abcabc\"))\n"
      ],
      "metadata": {
        "colab": {
          "base_uri": "https://localhost:8080/"
        },
        "id": "-G-rEQhQa0jN",
        "outputId": "0a6527e7-fb7b-4980-a588-80ca5b330ca8"
      },
      "execution_count": null,
      "outputs": [
        {
          "output_type": "stream",
          "name": "stdout",
          "text": [
            "['a', 'b', 'c', 'a', 'b', 'c']\n"
          ]
        }
      ]
    },
    {
      "cell_type": "code",
      "source": [
        "# Demostración del método count():\n",
        "print(\"abcabc\".count(\"b\"))\n",
        "print('abcabc'.count(\"d\"))\n"
      ],
      "metadata": {
        "colab": {
          "base_uri": "https://localhost:8080/"
        },
        "id": "ZlYNBwrma0gj",
        "outputId": "75cde714-c00c-4ede-884f-09e4251dceb6"
      },
      "execution_count": null,
      "outputs": [
        {
          "output_type": "stream",
          "name": "stdout",
          "text": [
            "2\n",
            "0\n"
          ]
        }
      ]
    },
    {
      "cell_type": "code",
      "source": [
        "print(len(\"\\n\\n\"))"
      ],
      "metadata": {
        "colab": {
          "base_uri": "https://localhost:8080/"
        },
        "id": "qXtk6OBGcwF2",
        "outputId": "2e5e8da3-952c-4379-e6bd-ade80fb31171"
      },
      "execution_count": null,
      "outputs": [
        {
          "output_type": "stream",
          "name": "stdout",
          "text": [
            "2\n"
          ]
        }
      ]
    },
    {
      "cell_type": "code",
      "source": [
        "asterisk = '*'\n",
        "plus = \"+\"\n",
        "decoration = (asterisk + plus) * 4 + asterisk\n",
        "print(decoration)"
      ],
      "metadata": {
        "colab": {
          "base_uri": "https://localhost:8080/"
        },
        "id": "mkaxxsPbcwDJ",
        "outputId": "98702e2e-da1e-4698-9ad7-11aa9ca72528"
      },
      "execution_count": null,
      "outputs": [
        {
          "output_type": "stream",
          "name": "stdout",
          "text": [
            "*+*+*+*+*\n"
          ]
        }
      ]
    },
    {
      "cell_type": "code",
      "source": [
        "chr(ord(character)) == character\n",
        "ord(chr(codepoint)) == codepoint\n"
      ],
      "metadata": {
        "colab": {
          "base_uri": "https://localhost:8080/",
          "height": 183
        },
        "id": "9NQ5m9Z2cwAK",
        "outputId": "c368044d-66d8-49a2-8b7b-37401e545bd3"
      },
      "execution_count": null,
      "outputs": [
        {
          "output_type": "error",
          "ename": "NameError",
          "evalue": "ignored",
          "traceback": [
            "\u001b[0;31m---------------------------------------------------------------------------\u001b[0m",
            "\u001b[0;31mNameError\u001b[0m                                 Traceback (most recent call last)",
            "\u001b[0;32m<ipython-input-20-703b8d4d284d>\u001b[0m in \u001b[0;36m<cell line: 2>\u001b[0;34m()\u001b[0m\n\u001b[1;32m      1\u001b[0m \u001b[0mchr\u001b[0m\u001b[0;34m(\u001b[0m\u001b[0mord\u001b[0m\u001b[0;34m(\u001b[0m\u001b[0mcharacter\u001b[0m\u001b[0;34m)\u001b[0m\u001b[0;34m)\u001b[0m \u001b[0;34m==\u001b[0m \u001b[0mcharacter\u001b[0m\u001b[0;34m\u001b[0m\u001b[0;34m\u001b[0m\u001b[0m\n\u001b[0;32m----> 2\u001b[0;31m \u001b[0mord\u001b[0m\u001b[0;34m(\u001b[0m\u001b[0mchr\u001b[0m\u001b[0;34m(\u001b[0m\u001b[0mcodepoint\u001b[0m\u001b[0;34m)\u001b[0m\u001b[0;34m)\u001b[0m \u001b[0;34m==\u001b[0m \u001b[0mcodepoint\u001b[0m\u001b[0;34m\u001b[0m\u001b[0;34m\u001b[0m\u001b[0m\n\u001b[0m",
            "\u001b[0;31mNameError\u001b[0m: name 'codepoint' is not defined"
          ]
        }
      ]
    },
    {
      "cell_type": "code",
      "source": [
        "s = 'yesteryears'\n",
        "the_list = list(s)\n",
        "print(the_list[3:6])"
      ],
      "metadata": {
        "colab": {
          "base_uri": "https://localhost:8080/"
        },
        "id": "XaGon3mccv9y",
        "outputId": "013e39f4-f3bb-4023-f140-4291c44218b5"
      },
      "execution_count": null,
      "outputs": [
        {
          "output_type": "stream",
          "name": "stdout",
          "text": [
            "['t', 'e', 'r']\n"
          ]
        }
      ]
    },
    {
      "cell_type": "code",
      "source": [
        "for ch in \"abc\":\n",
        "    print(chr(ord(ch) + 1), end='')"
      ],
      "metadata": {
        "colab": {
          "base_uri": "https://localhost:8080/"
        },
        "id": "1oLiG_phcv4b",
        "outputId": "e45e9951-f654-4088-c4ed-8709cae27530"
      },
      "execution_count": null,
      "outputs": [
        {
          "output_type": "stream",
          "name": "stdout",
          "text": [
            "bcd"
          ]
        }
      ]
    },
    {
      "cell_type": "markdown",
      "source": [
        "# 2.3 Sección 3 – Métodos de Cadenas"
      ],
      "metadata": {
        "id": "yjTawPnbdP5d"
      }
    },
    {
      "cell_type": "code",
      "source": [
        "# Demostración del método capitalize():\n",
        "print('aBcD'.capitalize())\n"
      ],
      "metadata": {
        "colab": {
          "base_uri": "https://localhost:8080/"
        },
        "id": "gfwWmYOJcv10",
        "outputId": "ac4ec675-1769-4cc5-e0f0-a0fff072ede4"
      },
      "execution_count": null,
      "outputs": [
        {
          "output_type": "stream",
          "name": "stdout",
          "text": [
            "Abcd\n"
          ]
        }
      ]
    },
    {
      "cell_type": "code",
      "source": [
        "print(\"Alpha\".capitalize())\n",
        "print('ALPHA'.capitalize())\n",
        "print(' Alpha'.capitalize())\n",
        "print('123'.capitalize())\n",
        "print(\"αβγδ\".capitalize())\n",
        "    "
      ],
      "metadata": {
        "colab": {
          "base_uri": "https://localhost:8080/"
        },
        "id": "ljMPtQR_cvzA",
        "outputId": "2074a35b-1583-4e25-a110-062e9367ba46"
      },
      "execution_count": null,
      "outputs": [
        {
          "output_type": "stream",
          "name": "stdout",
          "text": [
            "Alpha\n",
            "Alpha\n",
            " alpha\n",
            "123\n",
            "Αβγδ\n"
          ]
        }
      ]
    },
    {
      "cell_type": "code",
      "source": [
        "# Demostración del método center():\n",
        "print('[' + 'alpha'.center(10) + ']')\n"
      ],
      "metadata": {
        "colab": {
          "base_uri": "https://localhost:8080/"
        },
        "id": "k8Qso9kGcvwV",
        "outputId": "c6440eff-a0d8-4ea2-a501-5aae2a09d29b"
      },
      "execution_count": null,
      "outputs": [
        {
          "output_type": "stream",
          "name": "stdout",
          "text": [
            "[  alpha   ]\n"
          ]
        }
      ]
    },
    {
      "cell_type": "code",
      "source": [
        "print('[' + 'Beta'.center(2) + ']')\n",
        "print('[' + 'Beta'.center(4) + ']')\n",
        "print('[' + 'Beta'.center(6) + ']')\n"
      ],
      "metadata": {
        "colab": {
          "base_uri": "https://localhost:8080/"
        },
        "id": "SsNCJgUDcvtw",
        "outputId": "c0053825-5a92-4196-c2c3-0c3f685bc454"
      },
      "execution_count": null,
      "outputs": [
        {
          "output_type": "stream",
          "name": "stdout",
          "text": [
            "[Beta]\n",
            "[Beta]\n",
            "[ Beta ]\n"
          ]
        }
      ]
    },
    {
      "cell_type": "code",
      "source": [
        "print('[' + 'gamma'.center(20, '*') + ']')"
      ],
      "metadata": {
        "colab": {
          "base_uri": "https://localhost:8080/"
        },
        "id": "_btxWP33cvq7",
        "outputId": "b33cb503-d6b4-4eb9-bed2-715619b688f5"
      },
      "execution_count": null,
      "outputs": [
        {
          "output_type": "stream",
          "name": "stdout",
          "text": [
            "[*******gamma********]\n"
          ]
        }
      ]
    },
    {
      "cell_type": "code",
      "source": [
        "# Demostración del método endswith():\n",
        "if \"epsilon\".endswith(\"on\"):\n",
        "    print(\"si\")\n",
        "else:\n",
        "    print(\"no\")\n"
      ],
      "metadata": {
        "colab": {
          "base_uri": "https://localhost:8080/"
        },
        "id": "YqJd5Xyrdt5c",
        "outputId": "e96b898f-f22b-4374-d1f8-e981ad04e7c4"
      },
      "execution_count": null,
      "outputs": [
        {
          "output_type": "stream",
          "name": "stdout",
          "text": [
            "si\n"
          ]
        }
      ]
    },
    {
      "cell_type": "code",
      "source": [
        "t = \"zeta\"\n",
        "print(t.endswith(\"a\"))\n",
        "print(t.endswith(\"A\"))\n",
        "print(t.endswith(\"et\"))\n",
        "print(t.endswith(\"eta\"))\n"
      ],
      "metadata": {
        "colab": {
          "base_uri": "https://localhost:8080/"
        },
        "id": "ysZx7V-edt18",
        "outputId": "a81098f5-d563-44ad-9d76-8e258e49762e"
      },
      "execution_count": null,
      "outputs": [
        {
          "output_type": "stream",
          "name": "stdout",
          "text": [
            "True\n",
            "False\n",
            "False\n",
            "True\n"
          ]
        }
      ]
    },
    {
      "cell_type": "code",
      "source": [
        "# Demostración del método find():\n",
        "print(\"Eta\".find(\"ta\"))\n",
        "print(\"Eta\".find(\"mma\"))\n"
      ],
      "metadata": {
        "colab": {
          "base_uri": "https://localhost:8080/"
        },
        "id": "x_viMRqjdtzB",
        "outputId": "b7dfb889-0513-47c8-a3b2-feeaa9e51da7"
      },
      "execution_count": null,
      "outputs": [
        {
          "output_type": "stream",
          "name": "stdout",
          "text": [
            "1\n",
            "-1\n"
          ]
        }
      ]
    },
    {
      "cell_type": "code",
      "source": [
        "t = 'theta'\n",
        "print(t.find('eta'))\n",
        "print(t.find('et'))\n",
        "print(t.find('the'))\n",
        "print(t.find('ha'))\n"
      ],
      "metadata": {
        "colab": {
          "base_uri": "https://localhost:8080/"
        },
        "id": "xIsKqnEIdtv8",
        "outputId": "ebfcd360-b2e4-4e8c-8124-88786caadfeb"
      },
      "execution_count": null,
      "outputs": [
        {
          "output_type": "stream",
          "name": "stdout",
          "text": [
            "2\n",
            "2\n",
            "0\n",
            "-1\n"
          ]
        }
      ]
    },
    {
      "cell_type": "code",
      "source": [
        "print('kappa'.find('a', 2))"
      ],
      "metadata": {
        "colab": {
          "base_uri": "https://localhost:8080/"
        },
        "id": "duMtabG-dttO",
        "outputId": "e863f90e-fee6-42d7-9e34-50e35bac3687"
      },
      "execution_count": null,
      "outputs": [
        {
          "output_type": "stream",
          "name": "stdout",
          "text": [
            "4\n"
          ]
        }
      ]
    },
    {
      "cell_type": "code",
      "source": [
        "the_text = \"\"\"A variation of the ordinary lorem ipsum\n",
        "text has been used in typesetting since the 1960s \n",
        "or earlier, when it was popularized by advertisements \n",
        "for Letraset transfer sheets. It was introduced to \n",
        "the Information Age in the mid-1980s by the Aldus Corporation, \n",
        "which employed it in graphics and word-processing templates\n",
        "for its desktop publishing program PageMaker (from Wikipedia)\"\"\"\n",
        "\n",
        "fnd = the_text.find('the')\n",
        "while fnd != -1:\n",
        "    print(fnd)\n",
        "    fnd = the_text.find('the', fnd + 1)"
      ],
      "metadata": {
        "colab": {
          "base_uri": "https://localhost:8080/"
        },
        "id": "u5ofnftCdtqL",
        "outputId": "4fbe508c-7944-4815-9533-88ac07494bcd"
      },
      "execution_count": null,
      "outputs": [
        {
          "output_type": "stream",
          "name": "stdout",
          "text": [
            "15\n",
            "80\n",
            "198\n",
            "221\n",
            "238\n"
          ]
        }
      ]
    },
    {
      "cell_type": "code",
      "source": [
        "print('kappa'.find('a', 1, 4))\n",
        "print('kappa'.find('a', 2, 4))\n"
      ],
      "metadata": {
        "colab": {
          "base_uri": "https://localhost:8080/"
        },
        "id": "QGPCktNOdtm7",
        "outputId": "512aa368-ba83-48d6-877f-08893052f29f"
      },
      "execution_count": null,
      "outputs": [
        {
          "output_type": "stream",
          "name": "stdout",
          "text": [
            "1\n",
            "-1\n"
          ]
        }
      ]
    },
    {
      "cell_type": "code",
      "source": [
        "# Demostración del método isalnum():\n",
        "print('lambda30'.isalnum())\n",
        "print('lambda'.isalnum())\n",
        "print('30'.isalnum())\n",
        "print('@'.isalnum())\n",
        "print('lambda_30'.isalnum())\n",
        "print(''.isalnum())\n"
      ],
      "metadata": {
        "colab": {
          "base_uri": "https://localhost:8080/"
        },
        "id": "VrvhEBUvdtjq",
        "outputId": "7b6ecad4-0298-4047-8d7b-054ff82b83d0"
      },
      "execution_count": null,
      "outputs": [
        {
          "output_type": "stream",
          "name": "stdout",
          "text": [
            "True\n",
            "True\n",
            "True\n",
            "False\n",
            "False\n",
            "False\n"
          ]
        }
      ]
    },
    {
      "cell_type": "code",
      "source": [
        "t = 'Six lambdas'\n",
        "print(t.isalnum())\n",
        "\n",
        "t = '&Alpha;&beta;&Gamma;&delta;'\n",
        "print(t.isalnum())\n",
        "\n",
        "t = '20E1'\n",
        "print(t.isalnum())\n"
      ],
      "metadata": {
        "colab": {
          "base_uri": "https://localhost:8080/"
        },
        "id": "v2-igQrRdtg-",
        "outputId": "1ec99db9-3d93-4c8f-e947-9e1e337d492e"
      },
      "execution_count": null,
      "outputs": [
        {
          "output_type": "stream",
          "name": "stdout",
          "text": [
            "False\n",
            "False\n",
            "True\n"
          ]
        }
      ]
    },
    {
      "cell_type": "code",
      "source": [
        "# Ejemplo: Demostración del método isalpha():\n",
        "print(\"Moooo\".isalpha())\n",
        "print('Mu40'.isalpha())\n",
        "    "
      ],
      "metadata": {
        "colab": {
          "base_uri": "https://localhost:8080/"
        },
        "id": "S0jNxdQXdtay",
        "outputId": "bb3fc049-5f67-40fe-b74a-ba36c23372f8"
      },
      "execution_count": null,
      "outputs": [
        {
          "output_type": "stream",
          "name": "stdout",
          "text": [
            "True\n",
            "False\n"
          ]
        }
      ]
    },
    {
      "cell_type": "code",
      "source": [
        "# Ejemplo: Demostración del método isdigit():\n",
        "print('2018'.isdigit())\n",
        "print(\"Year2019\".isdigit())\n"
      ],
      "metadata": {
        "colab": {
          "base_uri": "https://localhost:8080/"
        },
        "id": "sqFMPdspdtX6",
        "outputId": "4c25ed36-b683-4f39-d707-d9099e042012"
      },
      "execution_count": null,
      "outputs": [
        {
          "output_type": "stream",
          "name": "stdout",
          "text": [
            "True\n",
            "False\n"
          ]
        }
      ]
    },
    {
      "cell_type": "code",
      "source": [
        "# Ejemplo: Demostración del método islower():\n",
        "print(\"Moooo\".islower())\n",
        "print('moooo'.islower())\n",
        "    "
      ],
      "metadata": {
        "colab": {
          "base_uri": "https://localhost:8080/"
        },
        "id": "qBZbEfdXdtT4",
        "outputId": "902d6705-1e73-4d54-a61a-31f746696c57"
      },
      "execution_count": null,
      "outputs": [
        {
          "output_type": "stream",
          "name": "stdout",
          "text": [
            "False\n",
            "True\n"
          ]
        }
      ]
    },
    {
      "cell_type": "code",
      "source": [
        "# Ejemplo: Demostración del método isspace():\n",
        "print(' \\n '.isspace())\n",
        "print(\" \".isspace())\n",
        "print(\"mooo mooo mooo\".isspace())\n"
      ],
      "metadata": {
        "colab": {
          "base_uri": "https://localhost:8080/"
        },
        "id": "wvKwy6xBdtQx",
        "outputId": "22cd9460-2e29-40b5-cfe6-4536d90f006d"
      },
      "execution_count": null,
      "outputs": [
        {
          "output_type": "stream",
          "name": "stdout",
          "text": [
            "True\n",
            "True\n",
            "False\n"
          ]
        }
      ]
    },
    {
      "cell_type": "code",
      "source": [
        "# Ejemplo: Demostración del método isupper():\n",
        "print(\"Moooo\".isupper())\n",
        "print('moooo'.isupper())\n",
        "print('MOOOO'.isupper())\n",
        "    "
      ],
      "metadata": {
        "colab": {
          "base_uri": "https://localhost:8080/"
        },
        "id": "pcRAm-kPdtNV",
        "outputId": "332da252-a15f-491e-e322-f745c44c76c1"
      },
      "execution_count": null,
      "outputs": [
        {
          "output_type": "stream",
          "name": "stdout",
          "text": [
            "False\n",
            "False\n",
            "True\n"
          ]
        }
      ]
    },
    {
      "cell_type": "code",
      "source": [
        "# Demostración del método join():\n",
        "print(\",\".join([\"omicron\", \"pi\", \"rho\"]))\n"
      ],
      "metadata": {
        "colab": {
          "base_uri": "https://localhost:8080/"
        },
        "id": "q2XDlsi7dtJc",
        "outputId": "93addc75-e39b-4041-8b8d-40ce23671d75"
      },
      "execution_count": null,
      "outputs": [
        {
          "output_type": "stream",
          "name": "stdout",
          "text": [
            "omicron,pi,rho\n"
          ]
        }
      ]
    },
    {
      "cell_type": "code",
      "source": [
        "# Demostración del método lower():\n",
        "print(\"SiGmA=60\".lower())\n"
      ],
      "metadata": {
        "colab": {
          "base_uri": "https://localhost:8080/"
        },
        "id": "NOCe9WiJdtF8",
        "outputId": "2e640160-f188-4a9b-b9fd-71036ead3375"
      },
      "execution_count": null,
      "outputs": [
        {
          "output_type": "stream",
          "name": "stdout",
          "text": [
            "sigma=60\n"
          ]
        }
      ]
    },
    {
      "cell_type": "code",
      "source": [
        "# Demostración del método lstrip():\n",
        "print(\"[\" + \" tau \".lstrip() + \"]\")\n",
        "    "
      ],
      "metadata": {
        "colab": {
          "base_uri": "https://localhost:8080/"
        },
        "id": "blXHgD--dtDV",
        "outputId": "2ba899a3-cb7e-4ccf-9297-2e3ed106c694"
      },
      "execution_count": null,
      "outputs": [
        {
          "output_type": "stream",
          "name": "stdout",
          "text": [
            "[tau ]\n"
          ]
        }
      ]
    },
    {
      "cell_type": "code",
      "source": [
        "print(\"www.cisco.com\".lstrip(\"w.\"))\n",
        "    "
      ],
      "metadata": {
        "colab": {
          "base_uri": "https://localhost:8080/"
        },
        "id": "JgltKicJdtAR",
        "outputId": "2eeb48d9-6bf9-4616-eb16-a398dab4a351"
      },
      "execution_count": null,
      "outputs": [
        {
          "output_type": "stream",
          "name": "stdout",
          "text": [
            "cisco.com\n"
          ]
        }
      ]
    },
    {
      "cell_type": "code",
      "source": [
        "print(\"pythoninstitute.org\".lstrip(\".org\"))\n",
        "    "
      ],
      "metadata": {
        "colab": {
          "base_uri": "https://localhost:8080/"
        },
        "id": "8vpWI2W0ds9x",
        "outputId": "6f0362fc-0fd4-464c-ebb6-ce369e09698e"
      },
      "execution_count": null,
      "outputs": [
        {
          "output_type": "stream",
          "name": "stdout",
          "text": [
            "pythoninstitute.org\n"
          ]
        }
      ]
    },
    {
      "cell_type": "code",
      "source": [
        "# Demostración del método replace():\n",
        "print(\"www.netacad.com\".replace(\"netacad.com\", \"pythoninstitute.org\"))\n",
        "print(\"This is it!\".replace(\"is\", \"are\"))\n",
        "print(\"Apple juice\".replace(\"juice\", \"\"))\n",
        "    "
      ],
      "metadata": {
        "colab": {
          "base_uri": "https://localhost:8080/"
        },
        "id": "HyecYCFTnKGN",
        "outputId": "2f5d1092-ca07-4ce9-9199-d98bd7bf9f2a"
      },
      "execution_count": null,
      "outputs": [
        {
          "output_type": "stream",
          "name": "stdout",
          "text": [
            "www.pythoninstitute.org\n",
            "Thare are it!\n",
            "Apple \n"
          ]
        }
      ]
    },
    {
      "cell_type": "code",
      "source": [
        "print(\"This is it!\".replace(\"is\", \"are\", 1))\n",
        "print(\"This is it!\".replace(\"is\", \"are\", 2))\n",
        "    "
      ],
      "metadata": {
        "colab": {
          "base_uri": "https://localhost:8080/"
        },
        "id": "ty6gn3DNnKBl",
        "outputId": "65397461-fb22-42b8-ae2d-0d91906d394a"
      },
      "execution_count": null,
      "outputs": [
        {
          "output_type": "stream",
          "name": "stdout",
          "text": [
            "Thare is it!\n",
            "Thare are it!\n"
          ]
        }
      ]
    },
    {
      "cell_type": "code",
      "source": [
        "# Demostración del método rfind():\n",
        "print(\"tau tau tau\".rfind(\"ta\"))\n",
        "print(\"tau tau tau\".rfind(\"ta\", 9))\n",
        "print(\"tau tau tau\".rfind(\"ta\", 3, 9))\n",
        "    "
      ],
      "metadata": {
        "colab": {
          "base_uri": "https://localhost:8080/"
        },
        "id": "WrGhdfYAnJ9V",
        "outputId": "259fd4f6-8fd9-4e4c-b4ef-0067ba1667da"
      },
      "execution_count": null,
      "outputs": [
        {
          "output_type": "stream",
          "name": "stdout",
          "text": [
            "8\n",
            "-1\n",
            "4\n"
          ]
        }
      ]
    },
    {
      "cell_type": "code",
      "source": [
        "# Demostración del método rstrip():\n",
        "print(\"[\" + \" upsilon \".rstrip() + \"]\")\n",
        "print(\"cisco.com\".rstrip(\".com\"))\n",
        "    "
      ],
      "metadata": {
        "colab": {
          "base_uri": "https://localhost:8080/"
        },
        "id": "BhB6s8ROnJ4p",
        "outputId": "a57b4493-f637-4af5-e3b5-94d0beb863f0"
      },
      "execution_count": null,
      "outputs": [
        {
          "output_type": "stream",
          "name": "stdout",
          "text": [
            "[ upsilon]\n",
            "cis\n"
          ]
        }
      ]
    },
    {
      "cell_type": "code",
      "source": [
        "# Demostración del método split():\n",
        "print(\"phi       chi\\npsi\".split())\n"
      ],
      "metadata": {
        "colab": {
          "base_uri": "https://localhost:8080/"
        },
        "id": "LHRG7sQPnJ0k",
        "outputId": "8316b7c9-b9c1-4312-bdf1-9f260d136b3c"
      },
      "execution_count": null,
      "outputs": [
        {
          "output_type": "stream",
          "name": "stdout",
          "text": [
            "['phi', 'chi', 'psi']\n"
          ]
        }
      ]
    },
    {
      "cell_type": "code",
      "source": [
        "# Demostración del método startswith():\n",
        "print(\"omega\".startswith(\"meg\"))\n",
        "print(\"omega\".startswith(\"om\"))\n",
        "\n",
        "print()\n"
      ],
      "metadata": {
        "colab": {
          "base_uri": "https://localhost:8080/"
        },
        "id": "_IyTei_MnJuw",
        "outputId": "7bd3b774-33fd-493a-f4fa-6b8be117f452"
      },
      "execution_count": null,
      "outputs": [
        {
          "output_type": "stream",
          "name": "stdout",
          "text": [
            "False\n",
            "True\n",
            "\n"
          ]
        }
      ]
    },
    {
      "cell_type": "code",
      "source": [
        "# Demostración del método strip():\n",
        "print(\"[\" + \"   aleph   \".strip() + \"]\")\n"
      ],
      "metadata": {
        "colab": {
          "base_uri": "https://localhost:8080/"
        },
        "id": "e6RHjEM0nJqh",
        "outputId": "539831e4-fe8b-46a2-c758-61d9d7d09d40"
      },
      "execution_count": null,
      "outputs": [
        {
          "output_type": "stream",
          "name": "stdout",
          "text": [
            "[aleph]\n"
          ]
        }
      ]
    },
    {
      "cell_type": "code",
      "source": [
        "# Demostración del método swapcase():\n",
        "print(\"Yo solo sé que no sé nada\".swapcase())\n",
        "\n",
        "print()\n"
      ],
      "metadata": {
        "colab": {
          "base_uri": "https://localhost:8080/"
        },
        "id": "JhMZE42qnJmq",
        "outputId": "28153ff1-7b37-4022-d9bf-b69d95b33e65"
      },
      "execution_count": null,
      "outputs": [
        {
          "output_type": "stream",
          "name": "stdout",
          "text": [
            "yO SOLO SÉ QUE NO SÉ NADA\n",
            "\n"
          ]
        }
      ]
    },
    {
      "cell_type": "code",
      "source": [
        "# Demostración del método title():\n",
        "print(\"Yo solo sé que no sé nada. Parte 1.\".title())\n",
        "\n",
        "print()\n"
      ],
      "metadata": {
        "colab": {
          "base_uri": "https://localhost:8080/"
        },
        "id": "_em-8QWYnJiK",
        "outputId": "49af9ecd-5a8d-4c07-cfa9-63782ddf9d28"
      },
      "execution_count": null,
      "outputs": [
        {
          "output_type": "stream",
          "name": "stdout",
          "text": [
            "Yo Solo Sé Que No Sé Nada. Parte 1.\n",
            "\n"
          ]
        }
      ]
    },
    {
      "cell_type": "code",
      "source": [
        "# Demostración del método upper():\n",
        "print(\"Yo solo sé que no sé nada. Parte 2.\".upper())\n"
      ],
      "metadata": {
        "colab": {
          "base_uri": "https://localhost:8080/"
        },
        "id": "VlwE0y3snJc7",
        "outputId": "0a54e230-3084-45b1-aa8d-dbd0d798af7c"
      },
      "execution_count": null,
      "outputs": [
        {
          "output_type": "stream",
          "name": "stdout",
          "text": [
            "YO SOLO SÉ QUE NO SÉ NADA. PARTE 2.\n"
          ]
        }
      ]
    },
    {
      "cell_type": "code",
      "source": [
        "for ch in \"abc123XYX\":\n",
        "    if ch.isupper():\n",
        "        print(ch.lower(), end='')\n",
        "    elif ch.islower():\n",
        "        print(ch.upper(), end='')\n",
        "    else:\n",
        "        print(ch, end='')"
      ],
      "metadata": {
        "colab": {
          "base_uri": "https://localhost:8080/"
        },
        "id": "QcA5fBgdnJXT",
        "outputId": "cb133667-116d-44c6-853f-6dc905a8aae3"
      },
      "execution_count": null,
      "outputs": [
        {
          "output_type": "stream",
          "name": "stdout",
          "text": [
            "ABC123xyx"
          ]
        }
      ]
    },
    {
      "cell_type": "code",
      "source": [
        "s1 = '¿Dónde están las nieves de antaño?'\n",
        "s2 = s1.split()\n",
        "print(s2[-2])"
      ],
      "metadata": {
        "colab": {
          "base_uri": "https://localhost:8080/"
        },
        "id": "3mj_dxzNnJTJ",
        "outputId": "f8a66997-678b-4635-d47b-9d270064524b"
      },
      "execution_count": null,
      "outputs": [
        {
          "output_type": "stream",
          "name": "stdout",
          "text": [
            "de\n"
          ]
        }
      ]
    },
    {
      "cell_type": "code",
      "source": [
        "the_list = ['Where', 'are', 'the', 'snows?']\n",
        "s = '*'.join(the_list)\n",
        "print(s)"
      ],
      "metadata": {
        "colab": {
          "base_uri": "https://localhost:8080/"
        },
        "id": "r1mVYS0GnJOA",
        "outputId": "e666652e-9521-41f7-c2c7-2abe3f547771"
      },
      "execution_count": null,
      "outputs": [
        {
          "output_type": "stream",
          "name": "stdout",
          "text": [
            "Where*are*the*snows?\n"
          ]
        }
      ]
    },
    {
      "cell_type": "code",
      "source": [
        "s = 'It is either easy or impossible'\n",
        "s = s.replace('easy', 'hard').replace('im', '')\n",
        "print(s)\n",
        " "
      ],
      "metadata": {
        "colab": {
          "base_uri": "https://localhost:8080/"
        },
        "id": "B7OcK_1nnJIB",
        "outputId": "dc1f9f6f-4a51-41e5-beed-ca9c29ed6093"
      },
      "execution_count": null,
      "outputs": [
        {
          "output_type": "stream",
          "name": "stdout",
          "text": [
            "It is either hard or possible\n"
          ]
        }
      ]
    },
    {
      "cell_type": "markdown",
      "source": [
        "Es dificil o posible"
      ],
      "metadata": {
        "id": "j2qsfKAwoQCU"
      }
    },
    {
      "cell_type": "code",
      "source": [
        "def mysplit(strng):\n",
        "    # devolver [] si la cadena está vacía o solo contiene espacios en blanco\n",
        "    if strng == '' or strng.isspace():\n",
        "        return [ ]\n",
        "    # preparar una lista a devolver\n",
        "    lst = []\n",
        "    # preparar una palabra para construir palabras subsecuentes\n",
        "    word = ''\n",
        "    # verificar si actualmente estamos dentro de una palabra (es decir, si la cadena comienza con una palabra)\n",
        "    inword = not strng[0].isspace()\n",
        "    # iterar a través de todos los caracteres en cadena\n",
        "    for x in strng:\n",
        "        # si actualmente estamos dentro de una cadena...\n",
        "        if inword:\n",
        "            # ... y el carácter actual no es un espacio...\n",
        "            if not x.isspace():\n",
        "                # ... actualizar palabra actual\n",
        "                word = word + x\n",
        "            else:\n",
        "                # ... de lo contrario, llegamos al final de la palabra, por lo que debemos agregarla a la lista...\n",
        "                lst.append(word)\n",
        "                # ... y señalar que estamos ahora fuera de la palabra\n",
        "                inword = False\n",
        "        else:\n",
        "            # si estamos fuera de la palabra y llegamos a un carácter no que no es un espacio en blanco...\n",
        "            if not x.isspace():\n",
        "                # ... significa que ha comenzado una nueva palabra, por lo que debemos recordarla y...\n",
        "                inword = True\n",
        "                # ... almacenar la primera letra de la nueva palabra\n",
        "                word = x\n",
        "            else:\n",
        "                pass\n",
        "    # si hemos dejado la cadena y hay una cadena no vacía en la variable word, necesitamos actualizar la lista\n",
        "    if inword:\n",
        "        lst.append(word)\n",
        "    # devolver la lista al invocador\n",
        "    return lst\n",
        "\n",
        "\n",
        "print(mysplit(\"Ser o no ser, esa es la cuestión\"))\n",
        "print(mysplit(\"Ser o no ser, esa es la cuestión\"))\n",
        "print(mysplit(\"   \"))\n",
        "print(mysplit(\" abc \"))\n",
        "print(mysplit(\"\"))"
      ],
      "metadata": {
        "colab": {
          "base_uri": "https://localhost:8080/"
        },
        "id": "5RZt0_o3nJEa",
        "outputId": "de449ed6-9196-46d4-a3f6-9bf61355fce8"
      },
      "execution_count": null,
      "outputs": [
        {
          "output_type": "stream",
          "name": "stdout",
          "text": [
            "['Ser', 'o', 'no', 'ser,', 'esa', 'es', 'la', 'cuestión']\n",
            "['Ser', 'o', 'no', 'ser,', 'esa', 'es', 'la', 'cuestión']\n",
            "[]\n",
            "['abc']\n",
            "[]\n"
          ]
        }
      ]
    },
    {
      "cell_type": "markdown",
      "source": [
        "## salida esperada del codigo anterior\n",
        "\n",
        "* ['A', 'ser', 'o', 'no', 'a', 'ser', 'eso', 'es', 'el', 'pregunta']\n",
        "* ['A', 'ser', 'o', 'no', 'a', 'ser, eso', 'es', 'el', 'pregunta']\n",
        "* []\n",
        "* ['a B C']\n",
        "* []"
      ],
      "metadata": {
        "id": "jwv4tmGjojmG"
      }
    },
    {
      "cell_type": "markdown",
      "source": [
        "# 2.4 Sección 4 – Cadenas en acción"
      ],
      "metadata": {
        "id": "CMpUTd_Qo9LO"
      }
    },
    {
      "cell_type": "code",
      "source": [
        "'alpha' == 'alpha'\n",
        "'alpha' != 'Alpha'"
      ],
      "metadata": {
        "id": "o2aSmsj2nJAv",
        "colab": {
          "base_uri": "https://localhost:8080/"
        },
        "outputId": "d6ee4e2e-6c86-4768-f1c6-09e02e0e66b9"
      },
      "execution_count": null,
      "outputs": [
        {
          "output_type": "execute_result",
          "data": {
            "text/plain": [
              "True"
            ]
          },
          "metadata": {},
          "execution_count": 1
        }
      ]
    },
    {
      "cell_type": "code",
      "source": [
        "'alpha' < 'alphabet'"
      ],
      "metadata": {
        "id": "U8Tizy4mnI9P",
        "colab": {
          "base_uri": "https://localhost:8080/"
        },
        "outputId": "d74bf786-8e6b-42c4-b88a-3a94421b4428"
      },
      "execution_count": null,
      "outputs": [
        {
          "output_type": "execute_result",
          "data": {
            "text/plain": [
              "True"
            ]
          },
          "metadata": {},
          "execution_count": 2
        }
      ]
    },
    {
      "cell_type": "code",
      "source": [
        "'beta' > 'Beta'"
      ],
      "metadata": {
        "id": "0EhA3zz6nI5v",
        "colab": {
          "base_uri": "https://localhost:8080/"
        },
        "outputId": "1dc56178-821e-4859-bf45-1a90d18ce027"
      },
      "execution_count": null,
      "outputs": [
        {
          "output_type": "execute_result",
          "data": {
            "text/plain": [
              "True"
            ]
          },
          "metadata": {},
          "execution_count": 3
        }
      ]
    },
    {
      "cell_type": "code",
      "source": [
        "'10' == '010'\n",
        "'10' > '010'\n",
        "'10' > '8'\n",
        "'20' < '8'\n",
        "'20' < '80'\n",
        "    "
      ],
      "metadata": {
        "id": "fA7gYMRlnI2V",
        "colab": {
          "base_uri": "https://localhost:8080/"
        },
        "outputId": "41ab5adb-f885-477f-8887-2c9970785f9f"
      },
      "execution_count": null,
      "outputs": [
        {
          "output_type": "execute_result",
          "data": {
            "text/plain": [
              "True"
            ]
          },
          "metadata": {},
          "execution_count": 10
        }
      ]
    },
    {
      "cell_type": "code",
      "source": [
        "'10' > '010'\n"
      ],
      "metadata": {
        "id": "runkOfEFnIy2",
        "colab": {
          "base_uri": "https://localhost:8080/"
        },
        "outputId": "500b49c6-bed8-48ae-ad66-e393065d5926"
      },
      "execution_count": null,
      "outputs": [
        {
          "output_type": "execute_result",
          "data": {
            "text/plain": [
              "True"
            ]
          },
          "metadata": {},
          "execution_count": 6
        }
      ]
    },
    {
      "cell_type": "code",
      "source": [
        "'10' > '8'\n"
      ],
      "metadata": {
        "id": "DypXEanHnIu3",
        "colab": {
          "base_uri": "https://localhost:8080/"
        },
        "outputId": "90b37d3c-7a65-4107-cc2c-b0a409826257"
      },
      "execution_count": null,
      "outputs": [
        {
          "output_type": "execute_result",
          "data": {
            "text/plain": [
              "True"
            ]
          },
          "metadata": {},
          "execution_count": 7
        }
      ]
    },
    {
      "cell_type": "code",
      "source": [
        "'20' < '8'\n"
      ],
      "metadata": {
        "id": "V8V4yq99nIri",
        "colab": {
          "base_uri": "https://localhost:8080/"
        },
        "outputId": "fdc80d28-0588-493c-ec39-491a51569277"
      },
      "execution_count": null,
      "outputs": [
        {
          "output_type": "execute_result",
          "data": {
            "text/plain": [
              "True"
            ]
          },
          "metadata": {},
          "execution_count": 8
        }
      ]
    },
    {
      "cell_type": "code",
      "source": [
        "'20' < '80'"
      ],
      "metadata": {
        "id": "R5CJoVyDnIn9",
        "colab": {
          "base_uri": "https://localhost:8080/"
        },
        "outputId": "7da9df73-47d0-4c8a-b82e-9af53346083c"
      },
      "execution_count": null,
      "outputs": [
        {
          "output_type": "execute_result",
          "data": {
            "text/plain": [
              "True"
            ]
          },
          "metadata": {},
          "execution_count": 9
        }
      ]
    },
    {
      "cell_type": "code",
      "source": [
        "'10' == 10\n",
        "'10' != 10\n",
        "'10' == 1\n",
        "'10' != 1\n",
        "'10' > 10"
      ],
      "metadata": {
        "id": "BjXyn4KBnIkm",
        "colab": {
          "base_uri": "https://localhost:8080/",
          "height": 200
        },
        "outputId": "04615c93-cbe2-4dc6-ee00-5a5de473b537"
      },
      "execution_count": null,
      "outputs": [
        {
          "output_type": "error",
          "ename": "TypeError",
          "evalue": "ignored",
          "traceback": [
            "\u001b[0;31m---------------------------------------------------------------------------\u001b[0m",
            "\u001b[0;31mTypeError\u001b[0m                                 Traceback (most recent call last)",
            "\u001b[0;32m<ipython-input-11-c9a8d9e68ccb>\u001b[0m in \u001b[0;36m<cell line: 5>\u001b[0;34m()\u001b[0m\n\u001b[1;32m      3\u001b[0m \u001b[0;34m'10'\u001b[0m \u001b[0;34m==\u001b[0m \u001b[0;36m1\u001b[0m\u001b[0;34m\u001b[0m\u001b[0;34m\u001b[0m\u001b[0m\n\u001b[1;32m      4\u001b[0m \u001b[0;34m'10'\u001b[0m \u001b[0;34m!=\u001b[0m \u001b[0;36m1\u001b[0m\u001b[0;34m\u001b[0m\u001b[0;34m\u001b[0m\u001b[0m\n\u001b[0;32m----> 5\u001b[0;31m \u001b[0;34m'10'\u001b[0m \u001b[0;34m>\u001b[0m \u001b[0;36m10\u001b[0m\u001b[0;34m\u001b[0m\u001b[0;34m\u001b[0m\u001b[0m\n\u001b[0m",
            "\u001b[0;31mTypeError\u001b[0m: '>' not supported between instances of 'str' and 'int'"
          ]
        }
      ]
    },
    {
      "cell_type": "code",
      "source": [
        "greek = ['omega', 'alpha', 'pi', 'gamma']"
      ],
      "metadata": {
        "id": "rKkmJfjZnIhK"
      },
      "execution_count": null,
      "outputs": []
    },
    {
      "cell_type": "code",
      "source": [
        "# Demostración de la función sorted():\n",
        "first_greek = ['omega', 'alpha', 'pi', 'gamma']\n",
        "first_greek_2 = sorted(first_greek)\n",
        "\n",
        "print(first_greek)\n",
        "print(first_greek_2)\n",
        "\n",
        "print()"
      ],
      "metadata": {
        "id": "YntzWo5_nId1",
        "colab": {
          "base_uri": "https://localhost:8080/"
        },
        "outputId": "17ece450-7157-44d5-86f9-a796b6afb6b3"
      },
      "execution_count": null,
      "outputs": [
        {
          "output_type": "stream",
          "name": "stdout",
          "text": [
            "['omega', 'alpha', 'pi', 'gamma']\n",
            "['alpha', 'gamma', 'omega', 'pi']\n",
            "\n"
          ]
        }
      ]
    },
    {
      "cell_type": "code",
      "source": [
        "# Demostración del método sort():\n",
        "second_greek = ['omega', 'alpha', 'pi', 'gamma']\n",
        "print(second_greek)\n",
        "\n",
        "second_greek.sort()\n",
        "print(second_greek)\n",
        "    "
      ],
      "metadata": {
        "id": "hWu6xtFJnIar",
        "colab": {
          "base_uri": "https://localhost:8080/"
        },
        "outputId": "9c561786-24bf-428f-ad33-6b143c368436"
      },
      "execution_count": null,
      "outputs": [
        {
          "output_type": "stream",
          "name": "stdout",
          "text": [
            "['omega', 'alpha', 'pi', 'gamma']\n",
            "['alpha', 'gamma', 'omega', 'pi']\n"
          ]
        }
      ]
    },
    {
      "cell_type": "code",
      "source": [
        "# Demostración del método sort():\n",
        "second_greek = ['omega', 'alpha', 'pi', 'gamma']\n",
        "print(second_greek)\n",
        "\n",
        "second_greek.sort()\n",
        "print(second_greek)\n",
        "    "
      ],
      "metadata": {
        "id": "CekGw5uCnIWw",
        "colab": {
          "base_uri": "https://localhost:8080/"
        },
        "outputId": "5b4a4082-74d0-46ec-8ff1-6f02010b2ba4"
      },
      "execution_count": null,
      "outputs": [
        {
          "output_type": "stream",
          "name": "stdout",
          "text": [
            "['omega', 'alpha', 'pi', 'gamma']\n",
            "['alpha', 'gamma', 'omega', 'pi']\n"
          ]
        }
      ]
    },
    {
      "cell_type": "code",
      "source": [
        "itg = 13\n",
        "flt = 1.3\n",
        "si = str(itg)\n",
        "sf = str(flt)\n",
        "\n",
        "print(si + ' ' + sf)\n",
        "    "
      ],
      "metadata": {
        "id": "YwdW9ZdynITf",
        "colab": {
          "base_uri": "https://localhost:8080/"
        },
        "outputId": "852155fa-24fc-419a-d26b-119c4088c79e"
      },
      "execution_count": null,
      "outputs": [
        {
          "output_type": "stream",
          "name": "stdout",
          "text": [
            "13 1.3\n"
          ]
        }
      ]
    },
    {
      "cell_type": "code",
      "source": [
        "si = '13'\n",
        "sf = '1.3'\n",
        "itg = int(si)\n",
        "flt = float(sf)\n",
        "\n",
        "print(itg + flt)"
      ],
      "metadata": {
        "id": "XGg5uEzgnIOv",
        "colab": {
          "base_uri": "https://localhost:8080/"
        },
        "outputId": "e2387ff1-de0f-439a-cf64-b11f56de058f"
      },
      "execution_count": null,
      "outputs": [
        {
          "output_type": "stream",
          "name": "stdout",
          "text": [
            "14.3\n"
          ]
        }
      ]
    },
    {
      "cell_type": "code",
      "source": [
        "# según parece no se pueden evaluar todas las sentencias juntas, pero si por separado\n",
        "'smith' > 'Smith'\n",
        "'Smiths' < 'Smith'\n",
        "'Smith' > '1000'\n",
        "'11' < '8'"
      ],
      "metadata": {
        "id": "7EGG0rmvnIJg",
        "colab": {
          "base_uri": "https://localhost:8080/"
        },
        "outputId": "5df0a7ac-c703-4075-b287-504794c70ed4"
      },
      "execution_count": null,
      "outputs": [
        {
          "output_type": "execute_result",
          "data": {
            "text/plain": [
              "True"
            ]
          },
          "metadata": {},
          "execution_count": 19
        }
      ]
    },
    {
      "cell_type": "code",
      "source": [
        "s1 = '¿Dónde están las nieves de antaño?'\n",
        "s2 = s1.split()\n",
        "s3 = sorted(s2)\n",
        "print(s3[1])"
      ],
      "metadata": {
        "id": "Eda8umH4nIGE",
        "colab": {
          "base_uri": "https://localhost:8080/"
        },
        "outputId": "88934101-7852-4dd7-c39e-ccfa7e9be023"
      },
      "execution_count": null,
      "outputs": [
        {
          "output_type": "stream",
          "name": "stdout",
          "text": [
            "de\n"
          ]
        }
      ]
    },
    {
      "cell_type": "code",
      "source": [
        "s1 = '12.8'\n",
        "i = int(s1)\n",
        "s2 = str(i)\n",
        "f = float(s2)\n",
        "print(s1 == s2)"
      ],
      "metadata": {
        "id": "4AzAodKonICk",
        "colab": {
          "base_uri": "https://localhost:8080/",
          "height": 235
        },
        "outputId": "f3d79b96-f1da-474c-e95e-cbf2784fc54d"
      },
      "execution_count": null,
      "outputs": [
        {
          "output_type": "error",
          "ename": "ValueError",
          "evalue": "ignored",
          "traceback": [
            "\u001b[0;31m---------------------------------------------------------------------------\u001b[0m",
            "\u001b[0;31mValueError\u001b[0m                                Traceback (most recent call last)",
            "\u001b[0;32m<ipython-input-21-cab7ce9d0fad>\u001b[0m in \u001b[0;36m<cell line: 2>\u001b[0;34m()\u001b[0m\n\u001b[1;32m      1\u001b[0m \u001b[0ms1\u001b[0m \u001b[0;34m=\u001b[0m \u001b[0;34m'12.8'\u001b[0m\u001b[0;34m\u001b[0m\u001b[0;34m\u001b[0m\u001b[0m\n\u001b[0;32m----> 2\u001b[0;31m \u001b[0mi\u001b[0m \u001b[0;34m=\u001b[0m \u001b[0mint\u001b[0m\u001b[0;34m(\u001b[0m\u001b[0ms1\u001b[0m\u001b[0;34m)\u001b[0m\u001b[0;34m\u001b[0m\u001b[0;34m\u001b[0m\u001b[0m\n\u001b[0m\u001b[1;32m      3\u001b[0m \u001b[0ms2\u001b[0m \u001b[0;34m=\u001b[0m \u001b[0mstr\u001b[0m\u001b[0;34m(\u001b[0m\u001b[0mi\u001b[0m\u001b[0;34m)\u001b[0m\u001b[0;34m\u001b[0m\u001b[0;34m\u001b[0m\u001b[0m\n\u001b[1;32m      4\u001b[0m \u001b[0mf\u001b[0m \u001b[0;34m=\u001b[0m \u001b[0mfloat\u001b[0m\u001b[0;34m(\u001b[0m\u001b[0ms2\u001b[0m\u001b[0;34m)\u001b[0m\u001b[0;34m\u001b[0m\u001b[0;34m\u001b[0m\u001b[0m\n\u001b[1;32m      5\u001b[0m \u001b[0mprint\u001b[0m\u001b[0;34m(\u001b[0m\u001b[0ms1\u001b[0m \u001b[0;34m==\u001b[0m \u001b[0ms2\u001b[0m\u001b[0;34m)\u001b[0m\u001b[0;34m\u001b[0m\u001b[0;34m\u001b[0m\u001b[0m\n",
            "\u001b[0;31mValueError\u001b[0m: invalid literal for int() with base 10: '12.8'"
          ]
        }
      ]
    },
    {
      "cell_type": "markdown",
      "source": [
        "Seguramente has visto un display de siete segmentos.\n",
        "\n",
        "Es un dispositivo (a veces electrónico, a veces mecánico) diseñado para presentar un dígito decimal utilizando un subconjunto de siete segmentos. Si aún no sabes lo qué es, consulta la siguiente liga en Wikipedia: artículo.\n",
        "\n",
        "Tu tarea es escribir un programa que puede simular el funcionamiento de un display de siete segmentos, aunque vas a usar LEDs individuales en lugar de segmentos.\n",
        "\n",
        "Cada dígito es construido con 13 LEDs (algunos iluminados, otros apagados, por supuesto), así es como lo imaginamos:"
      ],
      "metadata": {
        "id": "OjS9TbHTGgRG"
      }
    },
    {
      "cell_type": "markdown",
      "source": [
        "Nota: el número 8 muestra todas las luces LED encendidas.\n",
        "\n",
        "Tu código debe mostrar cualquier número entero no negativo ingresado por el usuario.\n",
        "\n",
        "Consejo: puede ser muy útil usar una lista que contenga patrones de los diez dígitos."
      ],
      "metadata": {
        "id": "6XNITWbPGmZK"
      }
    },
    {
      "cell_type": "code",
      "source": [
        "# Indirecta \n",
        "digits = [ '1111110',  \t# 0\n",
        "\t   '0110000',\t# 1\n",
        "\t   '1101101',\t# 2\n",
        "\t   '1111001',\t# 3\n",
        "\t   '0110011',\t# 4\n",
        "\t   '1011011',\t# 5\n",
        "\t   '1011111',\t# 6\n",
        "\t   '1110000',\t# 7\n",
        "\t   '1111111',\t# 8\n",
        "\t   '1111011',\t# 9\n",
        "\t   ]\n",
        "\n",
        "\n",
        "def print_number(num):\n",
        "    # Escribe la función aquí.\n",
        "\n",
        "\n",
        "print_number(int(input(\"Ingresa el número que deseas mostrar: \")))"
      ],
      "metadata": {
        "id": "BKb00K-pnH_R"
      },
      "execution_count": null,
      "outputs": []
    },
    {
      "cell_type": "code",
      "source": [
        "# PROGRAMA SOBRE UN DISPLAY LED DE 8 SEGMENTOS\n",
        "\n",
        "\n",
        "digits = [ '1111110',  \t# 0\n",
        "\t   '0110000',\t# 1\n",
        "\t   '1101101',\t# 2\n",
        "\t   '1111001',\t# 3\n",
        "\t   '0110011',\t# 4\n",
        "\t   '1011011',\t# 5\n",
        "\t   '1011111',\t# 6\n",
        "\t   '1110000',\t# 7\n",
        "\t   '1111111',\t# 8\n",
        "\t   '1111011',\t# 9\n",
        "\t   ]\n",
        "\n",
        "\n",
        "def print_number(num):\n",
        "\tglobal digits\n",
        "\tdigs = str(num)\n",
        "\tlines = [ '' for lin in range(5) ]\n",
        "\tfor d in digs:\n",
        "\t\tsegs = [ [' ',' ',' '] for lin in range(5) ]\n",
        "\t\tptrn = digits[ord(d) - ord('0')]\n",
        "\t\tif ptrn[0] == '1':\n",
        "\t\t\tsegs[0][0] = segs[0][1] = segs[0][2] = '#'\n",
        "\t\tif ptrn[1] == '1':\n",
        "\t\t\tsegs[0][2] = segs[1][2] = segs[2][2] = '#'\n",
        "\t\tif ptrn[2] == '1':\n",
        "\t\t\tsegs[2][2] = segs[3][2] = segs[4][2] = '#'\n",
        "\t\tif ptrn[3] == '1':\n",
        "\t\t\tsegs[4][0] = segs[4][1] = segs[4][2] = '#'\n",
        "\t\tif ptrn[4] == '1':\n",
        "\t\t\tsegs[2][0] = segs[3][0] = segs[4][0] = '#'\n",
        "\t\tif ptrn[5] == '1':\n",
        "\t\t\tsegs[0][0] = segs[1][0] = segs[2][0] = '#'\n",
        "\t\tif ptrn[6] == '1':\n",
        "\t\t\tsegs[2][0] = segs[2][1] = segs[2][2] = '#'\n",
        "\t\tfor lin in range(5):\n",
        "\t\t\tlines[lin] += ''.join(segs[lin]) + ' '\n",
        "\tfor lin in lines:\n",
        "\t\tprint(lin)\n",
        "\n",
        "\n",
        "print_number(int(input(\"Ingresa el número que deseas mostrar: \")))\n",
        "    "
      ],
      "metadata": {
        "id": "3lhq9qVJnH78",
        "colab": {
          "base_uri": "https://localhost:8080/"
        },
        "outputId": "efa9fa3f-4de9-4d69-e7cb-3a04a3f64ad5"
      },
      "execution_count": null,
      "outputs": [
        {
          "output_type": "stream",
          "name": "stdout",
          "text": [
            "Ingresa el número que deseas mostrar: 141\n",
            "  # # #   # \n",
            "  # # #   # \n",
            "  # ###   # \n",
            "  #   #   # \n",
            "  #   #   # \n"
          ]
        }
      ]
    },
    {
      "cell_type": "markdown",
      "source": [
        "# 2.5 Sección 5 – Cuatro programas simples"
      ],
      "metadata": {
        "id": "pdCnnNMZHief"
      }
    },
    {
      "cell_type": "code",
      "source": [
        "# Cifrado César.\n",
        "text = input(\"Ingresa tu mensaje: \")\n",
        "cipher = ''\n",
        "for char in text:\n",
        "    if not char.isalpha():\n",
        "        continue\n",
        "    char = char.upper()\n",
        "    code = ord(char) + 1\n",
        "    if code > ord('Z'):\n",
        "        code = ord('A')\n",
        "    cipher += chr(code)\n",
        "\n",
        "print(cipher)"
      ],
      "metadata": {
        "id": "z9E7E5UwIy_q",
        "colab": {
          "base_uri": "https://localhost:8080/"
        },
        "outputId": "329285bb-a7a3-4e14-9bce-7d8d9439faff"
      },
      "execution_count": 1,
      "outputs": [
        {
          "output_type": "stream",
          "name": "stdout",
          "text": [
            "Ingresa tu mensaje: AVE CESAR \n",
            "BWFDFTBS\n"
          ]
        }
      ]
    },
    {
      "cell_type": "code",
      "source": [
        "# Cifrado César - descifrando un mensaje.\n",
        "cipher = input('Ingresa tu criptograma: ')\n",
        "text = ''\n",
        "for char in cipher:\n",
        "    if not char.isalpha():\n",
        "        continue\n",
        "    char = char.upper()\n",
        "    code = ord(char) - 1\n",
        "    if code < ord('A'):\n",
        "        code = ord('Z')\n",
        "    text += chr(code)\n",
        "\n",
        "print(text)\n",
        "    "
      ],
      "metadata": {
        "id": "qO3SYQKtIy7_",
        "colab": {
          "base_uri": "https://localhost:8080/"
        },
        "outputId": "ff32acb4-8c92-43b1-96bf-261e78cb9f33"
      },
      "execution_count": 2,
      "outputs": [
        {
          "output_type": "stream",
          "name": "stdout",
          "text": [
            "Ingresa tu criptograma: BWF DFTBS\n",
            "AVECESAR\n"
          ]
        }
      ]
    },
    {
      "cell_type": "code",
      "source": [
        "#Procesador de Números.\n",
        "\n",
        "line = input(\"Ingresa una línea de números, sepáralos con espacios: \")\n",
        "strings = line.split()\n",
        "total = 0\n",
        "try:\n",
        "    for substr in strings:\n",
        "        total += float(substr)\n",
        "    print(\"El total es:\", total)\n",
        "except:\n",
        "    print(substr, \"no es un numero.\")\n",
        "    "
      ],
      "metadata": {
        "id": "n1mfQ60XIy3T",
        "colab": {
          "base_uri": "https://localhost:8080/"
        },
        "outputId": "4ddd3eb0-bd11-4e67-bc4f-f11639631820"
      },
      "execution_count": 3,
      "outputs": [
        {
          "output_type": "stream",
          "name": "stdout",
          "text": [
            "Ingresa una línea de números, sepáralos con espacios: 6\n",
            "El total es: 6.0\n"
          ]
        }
      ]
    },
    {
      "cell_type": "code",
      "source": [
        "# Validador IBAN.\n",
        "\n",
        "iban = input(\"Ingresa un IBAN, por favor: \")\n",
        "iban = iban.replace(' ','')\n",
        "\n",
        "if not iban.isalnum():\n",
        "    print(\"Has introducido caracteres no válidos.\")\n",
        "elif len(iban) < 15:\n",
        "    print(\"El IBAN ingresado es demasiado corto.\")\n",
        "elif len(iban) > 31:\n",
        "    print(\"El IBAN ingresado es demasiado largo.\")\n",
        "else:\n",
        "    iban = (iban[4:] + iban[0:4]).upper()\n",
        "    iban2 = ''\n",
        "    for ch in iban:\n",
        "        if ch.isdigit():\n",
        "            iban2 += ch\n",
        "        else:\n",
        "            iban2 += str(10 + ord(ch) - ord('A'))\n",
        "    iban = int(iban2)\n",
        "    if iban % 97 == 1:\n",
        "        print(\"El IBAN ingresado es válido.\")\n",
        "    else:\n",
        "        print(\"El IBAN ingresado no es válido.\")"
      ],
      "metadata": {
        "id": "9i2eVgbvIyzm",
        "colab": {
          "base_uri": "https://localhost:8080/"
        },
        "outputId": "5e0b3cb2-4551-4945-cd2b-321dd36cb73d"
      },
      "execution_count": 4,
      "outputs": [
        {
          "output_type": "stream",
          "name": "stdout",
          "text": [
            "Ingresa un IBAN, por favor: GB72 HBZU 7006 7212 1253 00\n",
            "El IBAN ingresado es válido.\n"
          ]
        }
      ]
    },
    {
      "cell_type": "markdown",
      "source": [
        "2.5.6   LAB   Mejorando el Cifrado César"
      ],
      "metadata": {
        "id": "x1y1iKN8l_wW"
      }
    },
    {
      "cell_type": "code",
      "source": [
        "# Ingresa el texto a encriptar.\n",
        "text = input(\"Ingresa un mensaje: \")\n",
        "\n",
        "# Ingresar un valor de cambio válido (repitelo hasta que tengas éxito).\n",
        "shift = 0\n",
        "\n",
        "while shift == 0:\n",
        "    try:    \n",
        "        shift = int(input(\"Ingresa el valor de cambio del cifrado (1..25): \"))\n",
        "        if shift not in range(1,26):\n",
        "        \traise ValueError\n",
        "    except ValueError:\n",
        "        shift = 0\n",
        "    if shift == 0:\n",
        "        print(\"¡Valor de cambio inválido!\")\n",
        "\n",
        "cipher = ''\n",
        "\n",
        "for char in text:\n",
        "    # ¿Es un letra?\n",
        "    if char.isalpha():\n",
        "        # Cambia su código.\n",
        "        code = ord(char) + shift\n",
        "        # Encontrar el código de la primera letra (mayúscula o minúscula).\n",
        "        if char.isupper():\n",
        "            first = ord('A')\n",
        "        else:\n",
        "            first = ord('a')\n",
        "        # Realizar corrección.\n",
        "        code -= first\n",
        "        code %= 26\n",
        "        # Agregar carácter codificado al mensaje.\n",
        "        cipher += chr(first + code)\n",
        "    else:\n",
        "        # Agregar carácter original al mensaje.\n",
        "        cipher += char\n",
        "\n",
        "print(cipher)"
      ],
      "metadata": {
        "id": "NkKja0fRIywI",
        "colab": {
          "base_uri": "https://localhost:8080/"
        },
        "outputId": "77846bbc-fd8e-4b50-b19f-a1b2108009a0"
      },
      "execution_count": 5,
      "outputs": [
        {
          "output_type": "stream",
          "name": "stdout",
          "text": [
            "Ingresa un mensaje: LEONARDO\n",
            "Ingresa el valor de cambio del cifrado (1..25): 3\n",
            "OHRQDUGR\n"
          ]
        }
      ]
    },
    {
      "cell_type": "markdown",
      "source": [
        "2.5.7   LAB   Palíndromos"
      ],
      "metadata": {
        "id": "-L0uR5Vymc8x"
      }
    },
    {
      "cell_type": "code",
      "source": [
        "text = input(\"Ingresa un texto: \")\n",
        "\n",
        "# Quitar todos los espacios...\n",
        "text = text.replace(' ','')\n",
        "\n",
        "# ... y revisar si la palabra es igual en ambos sentidos\n",
        "if len(text) > 1 and text.upper() == text[::-1].upper():\n",
        "\tprint(\"Es un palíndromo\")\n",
        "else:\n",
        "\tprint(\"No es un palíndromo\")\n",
        "\t"
      ],
      "metadata": {
        "id": "ggPWIbc_IysB",
        "colab": {
          "base_uri": "https://localhost:8080/"
        },
        "outputId": "92dc114a-fd97-4e01-8708-4db675840efa"
      },
      "execution_count": 6,
      "outputs": [
        {
          "output_type": "stream",
          "name": "stdout",
          "text": [
            "Ingresa un texto: Ten animals I slam in a net\n",
            "Es un palíndromo\n"
          ]
        }
      ]
    },
    {
      "cell_type": "markdown",
      "source": [
        "2.5.8   LAB   Anagrams"
      ],
      "metadata": {
        "id": "3_UywxVTmyfs"
      }
    },
    {
      "cell_type": "code",
      "source": [
        "# Indirecta respecto de la solución \n",
        "\n",
        "str_1 = input(\"Ingresa la primera cadena: \")\n",
        "str_2 = input(\"Ingresa la segunda cadena: \")\n",
        "\n",
        "# Esto es lo que vamos a hacer con ambas cadenas:\n",
        "# - quitar los espacios\n",
        "# - cambiar todas las letras a mayúsculas\n",
        "# - convertirlas en listas\n",
        "# - ordenar las listas\n",
        "# - unir los elementos de cada lista en cadenas separadas\n",
        "# y finalmente, comparar ambas cadenas.\n",
        "# ¡Hagámoslo!\n",
        "    "
      ],
      "metadata": {
        "id": "kEPkAlwxHiHs",
        "colab": {
          "base_uri": "https://localhost:8080/"
        },
        "outputId": "a89375f9-fcbc-4545-cb89-dc40308bb9bc"
      },
      "execution_count": 7,
      "outputs": [
        {
          "name": "stdout",
          "output_type": "stream",
          "text": [
            "Ingresa la primera cadena: ahdkghj\n",
            "Ingresa la segunda cadena: djkfs\n"
          ]
        }
      ]
    },
    {
      "cell_type": "code",
      "source": [
        "str_1 = input(\"Ingresa la primera cadena: \")\n",
        "str_2 = input(\"Ingresa la segunda cadena: \")\n",
        "\n",
        "strx_1 = ''.join(sorted(list(str_1.upper().replace(' ',''))))\n",
        "strx_2 = ''.join(sorted(list(str_2.upper().replace(' ',''))))\n",
        "if len(strx_1) > 0 and strx_1 == strx_2:\n",
        "\tprint(\"Anagramas\")\n",
        "else:\n",
        "\tprint(\"No son anagramas\")\n",
        "\t"
      ],
      "metadata": {
        "id": "cB7CtuQ5HiEH",
        "colab": {
          "base_uri": "https://localhost:8080/"
        },
        "outputId": "17a7bab8-093a-46b1-8798-198b7c6a2c53"
      },
      "execution_count": 8,
      "outputs": [
        {
          "output_type": "stream",
          "name": "stdout",
          "text": [
            "Ingresa la primera cadena: Listen \n",
            "Ingresa la segunda cadena: silent\n",
            "Anagramas\n"
          ]
        }
      ]
    },
    {
      "cell_type": "markdown",
      "source": [
        "2.5.9   LAB   El Dígito de la Vida"
      ],
      "metadata": {
        "id": "DogXF6wcnXnz"
      }
    },
    {
      "cell_type": "code",
      "source": [
        "date = input(\"Ingresa tu fecha de cumpleaños (en el siguiente formato: AAAAMMDD o AAAADDMM, 8 dígitos): \")\n",
        "if len(date) != 8 or not date.isdigit():\n",
        "    print(\"Formato de fecha inválida.\")\n",
        "else:\n",
        "    while len(date) > 1:\n",
        "        the_sum = 0\n",
        "        for dig in date:\n",
        "            the_sum += int(dig)\n",
        "        print(date)\n",
        "        date = str(the_sum)\n",
        "    print(\"Tu Dígito de la Vida es: \" + date)\n",
        "\t"
      ],
      "metadata": {
        "id": "OiyKlBUEHiAq",
        "colab": {
          "base_uri": "https://localhost:8080/"
        },
        "outputId": "f94153ce-9932-4e0a-a03f-99e66c0b44a3"
      },
      "execution_count": 9,
      "outputs": [
        {
          "output_type": "stream",
          "name": "stdout",
          "text": [
            "Ingresa tu fecha de cumpleaños (en el siguiente formato: AAAAMMDD o AAAADDMM, 8 dígitos): 19991229\n",
            "19991229\n",
            "42\n",
            "Tu Dígito de la Vida es: 6\n"
          ]
        }
      ]
    },
    {
      "cell_type": "markdown",
      "source": [
        "2.5.11 Sudoku   de laboratorio  "
      ],
      "metadata": {
        "id": "ZCkyFQZIondu"
      }
    },
    {
      "cell_type": "code",
      "source": [
        "word = input(\"Ingresa la palabra que deseas encontrar: \").upper()\n",
        "strn = input(\"Ingresa la cadena en donde deseas buscar: \").upper()\n",
        "\n",
        "found = True\n",
        "start = 0\n",
        "\n",
        "for ch in word:\n",
        "\tpos = strn.find(ch, start) \n",
        "\tif pos < 0:\n",
        "\t\tfound = False\n",
        "\t\tbreak\n",
        "\tstart = pos + 1\n",
        "if found:\n",
        "\tprint(\"Si\")\n",
        "else:\n",
        "\tprint(\"No\")"
      ],
      "metadata": {
        "id": "8AIwrWVgHh9W",
        "colab": {
          "base_uri": "https://localhost:8080/"
        },
        "outputId": "b7c5ed34-8ddb-4748-d3ba-613cc8f57679"
      },
      "execution_count": 12,
      "outputs": [
        {
          "output_type": "stream",
          "name": "stdout",
          "text": [
            "Ingresa la palabra que deseas encontrar: donos\n",
            "Ingresa la cadena en donde deseas buscar: nabucadonosor \n",
            "Si\n"
          ]
        }
      ]
    },
    {
      "cell_type": "markdown",
      "source": [
        "2.5.11   LAB   Sudoku"
      ],
      "metadata": {
        "id": "DI0WClOtpES1"
      }
    },
    {
      "cell_type": "code",
      "source": [
        "# Una función que verifica si una lista pasada como argumento contiene\n",
        "# nueve dígitos del '1' al '9'.\n",
        "def checkset(digs):\n",
        "    return sorted(list(digs)) == [chr(x + ord('0')) for x in range(1, 10)]\n",
        "\n",
        "\n",
        "# Una lista de filas que representan el Sudoku.\n",
        "rows = [ ]\n",
        "for r in range(9):\n",
        "    ok = False\n",
        "    while not ok:\n",
        "        row = input(\"Ingresa fila #\" + str(r + 1) + \": \")\n",
        "        ok = len(row) == 9 or row.isdigit()\n",
        "        if not ok:\n",
        "            print(\"Datos de fila incorrectos: se requieren 9 dígitos\")\n",
        "    rows.append(row)\n",
        "\n",
        "ok = True\n",
        "\n",
        "# Comprobar si todas las filas son correctas.\n",
        "for r in range(9):\n",
        "    if not checkset(rows[r]):\n",
        "        ok = False\n",
        "        break\n",
        "\n",
        "# Comprobar si todas las columnas son correctas.\t\n",
        "if ok:\n",
        "    for c in range(9):\n",
        "        col = []\n",
        "        for r in range(9):\n",
        "            col.append(rows[r][c])\n",
        "        if not checkset(col):\n",
        "            ok = False\n",
        "            break\n",
        "\n",
        "# Comprobar si todos los subcuadrados (3x3) son correctos.\n",
        "if ok:\n",
        "    for r in range(0, 9, 3):\n",
        "        for c in range(0, 9, 3):\n",
        "            sqr = ''\n",
        "            # Hacer una cadena que contenga todos los dígitos de un subcuadrado.\n",
        "            for i in range(3):\n",
        "                sqr += rows[r+i][c:c+3]\n",
        "            if not checkset(list(sqr)):\n",
        "                ok = False\n",
        "                break\n",
        "\n",
        "# Imprimir el veredicto final.\n",
        "if ok:\n",
        "    print(\"Si\")\n",
        "else:\n",
        "    print(\"No\")\n",
        "\n",
        "# 295743861\n",
        "# 431865927\n",
        "# 876192543\n",
        "# 387459216\n",
        "# 612387495\n",
        "# 549216738\n",
        "# 763524189\n",
        "# 928671354\n",
        "# 154938672\n",
        "\n",
        "#"
      ],
      "metadata": {
        "id": "S0j6Hj3dHh59",
        "colab": {
          "base_uri": "https://localhost:8080/"
        },
        "outputId": "78ae320b-e36f-49fb-b45e-c2413f0ded6d"
      },
      "execution_count": 13,
      "outputs": [
        {
          "output_type": "stream",
          "name": "stdout",
          "text": [
            "Ingresa fila #1: 295743861\n",
            "Ingresa fila #2: 431865927\n",
            "Ingresa fila #3: 876192543\n",
            "Ingresa fila #4: 387459216\n",
            "Ingresa fila #5: 612387495\n",
            "Ingresa fila #6: 549216738\n",
            "Ingresa fila #7: 763524189\n",
            "Ingresa fila #8: 928671354\n",
            "Ingresa fila #9: 54938672\n",
            "No\n"
          ]
        }
      ]
    },
    {
      "cell_type": "code",
      "source": [],
      "metadata": {
        "id": "nbKiUdh6Hh2i"
      },
      "execution_count": null,
      "outputs": []
    },
    {
      "cell_type": "code",
      "source": [],
      "metadata": {
        "id": "f-UI-3tDHhzC"
      },
      "execution_count": null,
      "outputs": []
    },
    {
      "cell_type": "code",
      "source": [],
      "metadata": {
        "id": "p7cwdgvgHhvj"
      },
      "execution_count": null,
      "outputs": []
    },
    {
      "cell_type": "code",
      "source": [],
      "metadata": {
        "id": "BsdqkgiTHhsB"
      },
      "execution_count": null,
      "outputs": []
    },
    {
      "cell_type": "code",
      "source": [],
      "metadata": {
        "id": "qdqq63gNHhoi"
      },
      "execution_count": null,
      "outputs": []
    },
    {
      "cell_type": "code",
      "source": [],
      "metadata": {
        "id": "0r8iY9m5Hhkm"
      },
      "execution_count": null,
      "outputs": []
    },
    {
      "cell_type": "code",
      "source": [],
      "metadata": {
        "id": "aU3YxHoVHhd7"
      },
      "execution_count": null,
      "outputs": []
    },
    {
      "cell_type": "code",
      "source": [],
      "metadata": {
        "id": "FUgSZluMHhaU"
      },
      "execution_count": null,
      "outputs": []
    },
    {
      "cell_type": "code",
      "source": [],
      "metadata": {
        "id": "Rhe_-X2GHhWs"
      },
      "execution_count": null,
      "outputs": []
    },
    {
      "cell_type": "code",
      "source": [],
      "metadata": {
        "id": "BBGQefZRHhS1"
      },
      "execution_count": null,
      "outputs": []
    },
    {
      "cell_type": "code",
      "source": [],
      "metadata": {
        "id": "7r-AF-QBHhPM"
      },
      "execution_count": null,
      "outputs": []
    },
    {
      "cell_type": "code",
      "source": [],
      "metadata": {
        "id": "NePH28qjHhHw"
      },
      "execution_count": null,
      "outputs": []
    },
    {
      "cell_type": "code",
      "source": [],
      "metadata": {
        "id": "a8XC9bmFHhEH"
      },
      "execution_count": null,
      "outputs": []
    },
    {
      "cell_type": "code",
      "source": [],
      "metadata": {
        "id": "wK_rOwVTHhAm"
      },
      "execution_count": null,
      "outputs": []
    },
    {
      "cell_type": "code",
      "source": [],
      "metadata": {
        "id": "KAWakpBdHg8z"
      },
      "execution_count": null,
      "outputs": []
    },
    {
      "cell_type": "code",
      "source": [],
      "metadata": {
        "id": "XN3kx29RHg5C"
      },
      "execution_count": null,
      "outputs": []
    },
    {
      "cell_type": "code",
      "source": [],
      "metadata": {
        "id": "Pucyt0NSHgzm"
      },
      "execution_count": null,
      "outputs": []
    }
  ]
}