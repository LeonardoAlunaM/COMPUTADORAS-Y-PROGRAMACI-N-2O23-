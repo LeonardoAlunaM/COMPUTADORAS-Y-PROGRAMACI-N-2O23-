{
  "nbformat": 4,
  "nbformat_minor": 0,
  "metadata": {
    "colab": {
      "provenance": [],
      "authorship_tag": "ABX9TyMfNYr2/pvl6EpXbLkOQxVX",
      "include_colab_link": true
    },
    "kernelspec": {
      "name": "python3",
      "display_name": "Python 3"
    },
    "language_info": {
      "name": "python"
    }
  },
  "cells": [
    {
      "cell_type": "markdown",
      "metadata": {
        "id": "view-in-github",
        "colab_type": "text"
      },
      "source": [
        "<a href=\"https://colab.research.google.com/github/LeonardoAlunaM/COMPUTADORAS-Y-PROGRAMACI-N-2O23-/blob/main-COMPUTADORAS-Y-PROGTRAMACI%C3%93N-2023/CISCO_FUNDAMENTOS_PYTHON_2_M%C3%93DULO_2.ipynb\" target=\"_parent\"><img src=\"https://colab.research.google.com/assets/colab-badge.svg\" alt=\"Open In Colab\"/></a>"
      ]
    },
    {
      "cell_type": "markdown",
      "source": [
        "# Módulo 2: Cadenas, Métodos de cadenas y listas, excepciones \n",
        "\n"
      ],
      "metadata": {
        "id": "Q_JaKDPCda0C"
      }
    },
    {
      "cell_type": "markdown",
      "source": [
        "# 2.2 Sección 2 – La naturaleza de las cadenas en Python"
      ],
      "metadata": {
        "id": "1blYpU-7cb-l"
      }
    },
    {
      "cell_type": "code",
      "execution_count": 1,
      "metadata": {
        "colab": {
          "base_uri": "https://localhost:8080/"
        },
        "id": "4d3V1ouRNri0",
        "outputId": "450ab13c-9713-4bb2-9824-5b60c0fe0142"
      },
      "outputs": [
        {
          "output_type": "stream",
          "name": "stdout",
          "text": [
            "2\n",
            "0\n",
            "3\n"
          ]
        }
      ],
      "source": [
        "# Ejemplo 1\n",
        "word = 'by'\n",
        "print(len(word))\n",
        "\n",
        "# Ejemplo 2\n",
        "empty = ''\n",
        "print(len(empty))\n",
        "\n",
        "# Ejemplo 3\n",
        "i_am = 'I\\'m'\n",
        "print(len(i_am))\n"
      ]
    },
    {
      "cell_type": "code",
      "source": [
        "multiline = '''Línea #1\n",
        "Línea #2'''\n",
        "\n",
        "print(len(multiline))\n"
      ],
      "metadata": {
        "colab": {
          "base_uri": "https://localhost:8080/"
        },
        "id": "2tLEXyzja1Hz",
        "outputId": "f9db199a-1c38-42c5-8596-4b7069bd0e05"
      },
      "execution_count": 2,
      "outputs": [
        {
          "output_type": "stream",
          "name": "stdout",
          "text": [
            "17\n"
          ]
        }
      ]
    },
    {
      "cell_type": "code",
      "source": [
        "multiline = \"\"\"Line #1\n",
        "Line #2\"\"\"\n",
        " \n",
        "print(len(multiline))\n",
        " "
      ],
      "metadata": {
        "colab": {
          "base_uri": "https://localhost:8080/"
        },
        "id": "XhvuzToUa1FR",
        "outputId": "d3e4467c-d136-4a6b-f945-f88f82b10027"
      },
      "execution_count": 3,
      "outputs": [
        {
          "output_type": "stream",
          "name": "stdout",
          "text": [
            "15\n"
          ]
        }
      ]
    },
    {
      "cell_type": "code",
      "source": [
        "str1 = 'a'\n",
        "str2 = 'b'\n",
        "\n",
        "print(str1 + str2)\n",
        "print(str2 + str1)\n",
        "print(5 * 'a')\n",
        "print('b' * 4)\n"
      ],
      "metadata": {
        "colab": {
          "base_uri": "https://localhost:8080/"
        },
        "id": "7e4n8dFCa1BE",
        "outputId": "2782f86f-883f-43f9-d276-9fd95e2a83fc"
      },
      "execution_count": 4,
      "outputs": [
        {
          "output_type": "stream",
          "name": "stdout",
          "text": [
            "ab\n",
            "ba\n",
            "aaaaa\n",
            "bbbb\n"
          ]
        }
      ]
    },
    {
      "cell_type": "code",
      "source": [
        "# Demostración de la función ord().\n",
        "\n",
        "char_1 = 'a'\n",
        "char_2 = ' '  # space\n",
        "\n",
        "print(ord(char_1))\n",
        "print(ord(char_2))\n"
      ],
      "metadata": {
        "colab": {
          "base_uri": "https://localhost:8080/"
        },
        "id": "tji5jBiQa0-C",
        "outputId": "fb07f733-c773-49d6-c73e-878b8ed1fd86"
      },
      "execution_count": 5,
      "outputs": [
        {
          "output_type": "stream",
          "name": "stdout",
          "text": [
            "97\n",
            "32\n"
          ]
        }
      ]
    },
    {
      "cell_type": "markdown",
      "source": [
        "Ahora asigna diferentes valores a ch1 y ch2, por ejemplo, α (letra griega alfa), y ę (una letra en el alfabeto polaco); luego ejecuta el código y ve qué resultado produce. Realiza tus propios experimentos."
      ],
      "metadata": {
        "id": "VEUzyaS2bMmB"
      }
    },
    {
      "cell_type": "code",
      "source": [
        "# Demostración de la función chr().\n",
        "\n",
        "print(chr(97))\n",
        "print(chr(945))\n"
      ],
      "metadata": {
        "colab": {
          "base_uri": "https://localhost:8080/"
        },
        "id": "UNCnIQRka075",
        "outputId": "5f6b7bad-dc83-4907-8133-3c2b88f77026"
      },
      "execution_count": 6,
      "outputs": [
        {
          "output_type": "stream",
          "name": "stdout",
          "text": [
            "a\n",
            "α\n"
          ]
        }
      ]
    },
    {
      "cell_type": "code",
      "source": [
        "# Indexando cadenas.\n",
        "\n",
        "the_string = 'silly walks'\n",
        "\n",
        "for ix in range(len(the_string)):\n",
        "    print(the_string[ix], end=' ')\n",
        "\n",
        "print()\n"
      ],
      "metadata": {
        "colab": {
          "base_uri": "https://localhost:8080/"
        },
        "id": "Yja4T6x0a05h",
        "outputId": "e6fbdfb2-f588-417b-d9ca-2fdb9792960e"
      },
      "execution_count": 7,
      "outputs": [
        {
          "output_type": "stream",
          "name": "stdout",
          "text": [
            "s i l l y   w a l k s \n"
          ]
        }
      ]
    },
    {
      "cell_type": "code",
      "source": [
        "# Iterando a través de una cadena.\n",
        "\n",
        "the_string = 'silly walks'\n",
        "\n",
        "for character in the_string:\n",
        "    print(character, end=' ')\n",
        "\n",
        "print()\n"
      ],
      "metadata": {
        "colab": {
          "base_uri": "https://localhost:8080/"
        },
        "id": "kW1mW3DLa03W",
        "outputId": "d69863c9-2635-4a84-d8df-a69ae0f0c0e1"
      },
      "execution_count": 8,
      "outputs": [
        {
          "output_type": "stream",
          "name": "stdout",
          "text": [
            "s i l l y   w a l k s \n"
          ]
        }
      ]
    },
    {
      "cell_type": "code",
      "source": [
        "alpha = \"abdefg\"\n",
        "\n",
        "print(alpha[1:3])\n",
        "print(alpha[3:])\n",
        "print(alpha[:3])\n",
        "print(alpha[3:-2])\n",
        "print(alpha[-3:4])\n",
        "print(alpha[::2])\n",
        "print(alpha[1::2])\n"
      ],
      "metadata": {
        "colab": {
          "base_uri": "https://localhost:8080/"
        },
        "id": "yN9OF-S-a00x",
        "outputId": "f747194e-5806-46be-8f3c-c4db8f8403b1"
      },
      "execution_count": 9,
      "outputs": [
        {
          "output_type": "stream",
          "name": "stdout",
          "text": [
            "bd\n",
            "efg\n",
            "abd\n",
            "e\n",
            "e\n",
            "adf\n",
            "beg\n"
          ]
        }
      ]
    },
    {
      "cell_type": "code",
      "source": [
        "alphabet = \"abcdefghijklmnopqrstuvwxyz\"\n",
        "\n",
        "print(\"f\" in alphabet)\n",
        "print(\"F\" in alphabet)\n",
        "print(\"1\" in alphabet)\n",
        "print(\"ghi\" in alphabet)\n",
        "print(\"Xyz\" in alphabet)\n"
      ],
      "metadata": {
        "colab": {
          "base_uri": "https://localhost:8080/"
        },
        "id": "gU3CHKxya0yi",
        "outputId": "b6685a10-2b8f-48e5-cd42-2b9b350f3b96"
      },
      "execution_count": 10,
      "outputs": [
        {
          "output_type": "stream",
          "name": "stdout",
          "text": [
            "True\n",
            "False\n",
            "False\n",
            "True\n",
            "False\n"
          ]
        }
      ]
    },
    {
      "cell_type": "code",
      "source": [
        "alphabet = \"abcdefghijklmnopqrstuvwxyz\"\n",
        "\n",
        "print(\"f\" not in alphabet)\n",
        "print(\"F\" not in alphabet)\n",
        "print(\"1\" not in alphabet)\n",
        "print(\"ghi\" not in alphabet)\n",
        "print(\"Xyz\" not in alphabet)\n"
      ],
      "metadata": {
        "colab": {
          "base_uri": "https://localhost:8080/"
        },
        "id": "yExKN9qba0wW",
        "outputId": "767be3f2-53a4-4ab2-ff32-c0a0a3269b6b"
      },
      "execution_count": 11,
      "outputs": [
        {
          "output_type": "stream",
          "name": "stdout",
          "text": [
            "False\n",
            "True\n",
            "True\n",
            "False\n",
            "True\n"
          ]
        }
      ]
    },
    {
      "cell_type": "code",
      "source": [
        "alphabet = \"bcdefghijklmnopqrstuvwxy\"\n",
        "\n",
        "alphabet = \"a\" + alphabet\n",
        "alphabet = alphabet + \"z\"\n",
        "\n",
        "print(alphabet)\n"
      ],
      "metadata": {
        "colab": {
          "base_uri": "https://localhost:8080/"
        },
        "id": "CDMMjJSka0uG",
        "outputId": "30009a8d-b155-480a-f778-441a5c106b6d"
      },
      "execution_count": 12,
      "outputs": [
        {
          "output_type": "stream",
          "name": "stdout",
          "text": [
            "abcdefghijklmnopqrstuvwxyz\n"
          ]
        }
      ]
    },
    {
      "cell_type": "code",
      "source": [
        "# Demonstración de min() - Ejemplo 1:\n",
        "print(min(\"aAbByYzZ\"))\n",
        "\n",
        "\n",
        "# Demonstración de min() - Ejemplos 2 y 3:\n",
        "t = 'Los Caballeros Que Dicen \"Ni!\"'\n",
        "print('[' + min(t) + ']')\n",
        "\n",
        "t = [0, 1, 2]\n",
        "print(min(t))\n"
      ],
      "metadata": {
        "colab": {
          "base_uri": "https://localhost:8080/"
        },
        "id": "-A3iKsICa0qm",
        "outputId": "b801b6dc-1266-46f2-c6b5-b997e2364c13"
      },
      "execution_count": 13,
      "outputs": [
        {
          "output_type": "stream",
          "name": "stdout",
          "text": [
            "A\n",
            "[ ]\n",
            "0\n"
          ]
        }
      ]
    },
    {
      "cell_type": "code",
      "source": [
        "# Demostración de max() - Ejemplo 1:\n",
        "print(max(\"aAbByYzZ\"))\n",
        "\n",
        "\n",
        "# Demostración de max() - Ejemplo 2 y 3:\n",
        "t = 'Los Caballeros Que Dicen \"Ni!\"'\n",
        "print('[' + max(t) + ']')\n",
        "\n",
        "t = [0, 1, 2]\n",
        "print(max(t))\n"
      ],
      "metadata": {
        "colab": {
          "base_uri": "https://localhost:8080/"
        },
        "id": "6Cexcdt0a0nw",
        "outputId": "5e51f89a-91a4-4aa0-9d96-dfb2d5c20270"
      },
      "execution_count": 14,
      "outputs": [
        {
          "output_type": "stream",
          "name": "stdout",
          "text": [
            "z\n",
            "[u]\n",
            "2\n"
          ]
        }
      ]
    },
    {
      "cell_type": "code",
      "source": [
        "# Demonstración del método index() method:\n",
        "print(\"aAbByYzZaA\".index(\"b\"))\n",
        "print(\"aAbByYzZaA\".index(\"Z\"))\n",
        "print(\"aAbByYzZaA\".index(\"A\"))\n"
      ],
      "metadata": {
        "colab": {
          "base_uri": "https://localhost:8080/"
        },
        "id": "3xUoib1ca0ld",
        "outputId": "d67df922-bb1c-4ac1-8c5d-4e2ccf7c9b9c"
      },
      "execution_count": 15,
      "outputs": [
        {
          "output_type": "stream",
          "name": "stdout",
          "text": [
            "2\n",
            "7\n",
            "1\n"
          ]
        }
      ]
    },
    {
      "cell_type": "code",
      "source": [
        "# Demostración de la función list():\n",
        "print(list(\"abcabc\"))\n"
      ],
      "metadata": {
        "colab": {
          "base_uri": "https://localhost:8080/"
        },
        "id": "-G-rEQhQa0jN",
        "outputId": "0a6527e7-fb7b-4980-a588-80ca5b330ca8"
      },
      "execution_count": 16,
      "outputs": [
        {
          "output_type": "stream",
          "name": "stdout",
          "text": [
            "['a', 'b', 'c', 'a', 'b', 'c']\n"
          ]
        }
      ]
    },
    {
      "cell_type": "code",
      "source": [
        "# Demostración del método count():\n",
        "print(\"abcabc\".count(\"b\"))\n",
        "print('abcabc'.count(\"d\"))\n"
      ],
      "metadata": {
        "colab": {
          "base_uri": "https://localhost:8080/"
        },
        "id": "ZlYNBwrma0gj",
        "outputId": "75cde714-c00c-4ede-884f-09e4251dceb6"
      },
      "execution_count": 17,
      "outputs": [
        {
          "output_type": "stream",
          "name": "stdout",
          "text": [
            "2\n",
            "0\n"
          ]
        }
      ]
    },
    {
      "cell_type": "code",
      "source": [
        "print(len(\"\\n\\n\"))"
      ],
      "metadata": {
        "colab": {
          "base_uri": "https://localhost:8080/"
        },
        "id": "qXtk6OBGcwF2",
        "outputId": "2e5e8da3-952c-4379-e6bd-ade80fb31171"
      },
      "execution_count": 18,
      "outputs": [
        {
          "output_type": "stream",
          "name": "stdout",
          "text": [
            "2\n"
          ]
        }
      ]
    },
    {
      "cell_type": "code",
      "source": [
        "asterisk = '*'\n",
        "plus = \"+\"\n",
        "decoration = (asterisk + plus) * 4 + asterisk\n",
        "print(decoration)"
      ],
      "metadata": {
        "colab": {
          "base_uri": "https://localhost:8080/"
        },
        "id": "mkaxxsPbcwDJ",
        "outputId": "98702e2e-da1e-4698-9ad7-11aa9ca72528"
      },
      "execution_count": 19,
      "outputs": [
        {
          "output_type": "stream",
          "name": "stdout",
          "text": [
            "*+*+*+*+*\n"
          ]
        }
      ]
    },
    {
      "cell_type": "code",
      "source": [
        "chr(ord(character)) == character\n",
        "ord(chr(codepoint)) == codepoint\n"
      ],
      "metadata": {
        "colab": {
          "base_uri": "https://localhost:8080/",
          "height": 183
        },
        "id": "9NQ5m9Z2cwAK",
        "outputId": "c368044d-66d8-49a2-8b7b-37401e545bd3"
      },
      "execution_count": 20,
      "outputs": [
        {
          "output_type": "error",
          "ename": "NameError",
          "evalue": "ignored",
          "traceback": [
            "\u001b[0;31m---------------------------------------------------------------------------\u001b[0m",
            "\u001b[0;31mNameError\u001b[0m                                 Traceback (most recent call last)",
            "\u001b[0;32m<ipython-input-20-703b8d4d284d>\u001b[0m in \u001b[0;36m<cell line: 2>\u001b[0;34m()\u001b[0m\n\u001b[1;32m      1\u001b[0m \u001b[0mchr\u001b[0m\u001b[0;34m(\u001b[0m\u001b[0mord\u001b[0m\u001b[0;34m(\u001b[0m\u001b[0mcharacter\u001b[0m\u001b[0;34m)\u001b[0m\u001b[0;34m)\u001b[0m \u001b[0;34m==\u001b[0m \u001b[0mcharacter\u001b[0m\u001b[0;34m\u001b[0m\u001b[0;34m\u001b[0m\u001b[0m\n\u001b[0;32m----> 2\u001b[0;31m \u001b[0mord\u001b[0m\u001b[0;34m(\u001b[0m\u001b[0mchr\u001b[0m\u001b[0;34m(\u001b[0m\u001b[0mcodepoint\u001b[0m\u001b[0;34m)\u001b[0m\u001b[0;34m)\u001b[0m \u001b[0;34m==\u001b[0m \u001b[0mcodepoint\u001b[0m\u001b[0;34m\u001b[0m\u001b[0;34m\u001b[0m\u001b[0m\n\u001b[0m",
            "\u001b[0;31mNameError\u001b[0m: name 'codepoint' is not defined"
          ]
        }
      ]
    },
    {
      "cell_type": "code",
      "source": [
        "s = 'yesteryears'\n",
        "the_list = list(s)\n",
        "print(the_list[3:6])"
      ],
      "metadata": {
        "colab": {
          "base_uri": "https://localhost:8080/"
        },
        "id": "XaGon3mccv9y",
        "outputId": "013e39f4-f3bb-4023-f140-4291c44218b5"
      },
      "execution_count": 21,
      "outputs": [
        {
          "output_type": "stream",
          "name": "stdout",
          "text": [
            "['t', 'e', 'r']\n"
          ]
        }
      ]
    },
    {
      "cell_type": "code",
      "source": [
        "for ch in \"abc\":\n",
        "    print(chr(ord(ch) + 1), end='')"
      ],
      "metadata": {
        "colab": {
          "base_uri": "https://localhost:8080/"
        },
        "id": "1oLiG_phcv4b",
        "outputId": "e45e9951-f654-4088-c4ed-8709cae27530"
      },
      "execution_count": 22,
      "outputs": [
        {
          "output_type": "stream",
          "name": "stdout",
          "text": [
            "bcd"
          ]
        }
      ]
    },
    {
      "cell_type": "markdown",
      "source": [
        "# 2.3 Sección 3 – Métodos de Cadenas"
      ],
      "metadata": {
        "id": "yjTawPnbdP5d"
      }
    },
    {
      "cell_type": "code",
      "source": [
        "# Demostración del método capitalize():\n",
        "print('aBcD'.capitalize())\n"
      ],
      "metadata": {
        "colab": {
          "base_uri": "https://localhost:8080/"
        },
        "id": "gfwWmYOJcv10",
        "outputId": "ac4ec675-1769-4cc5-e0f0-a0fff072ede4"
      },
      "execution_count": 23,
      "outputs": [
        {
          "output_type": "stream",
          "name": "stdout",
          "text": [
            "Abcd\n"
          ]
        }
      ]
    },
    {
      "cell_type": "code",
      "source": [
        "print(\"Alpha\".capitalize())\n",
        "print('ALPHA'.capitalize())\n",
        "print(' Alpha'.capitalize())\n",
        "print('123'.capitalize())\n",
        "print(\"αβγδ\".capitalize())\n",
        "    "
      ],
      "metadata": {
        "colab": {
          "base_uri": "https://localhost:8080/"
        },
        "id": "ljMPtQR_cvzA",
        "outputId": "2074a35b-1583-4e25-a110-062e9367ba46"
      },
      "execution_count": 24,
      "outputs": [
        {
          "output_type": "stream",
          "name": "stdout",
          "text": [
            "Alpha\n",
            "Alpha\n",
            " alpha\n",
            "123\n",
            "Αβγδ\n"
          ]
        }
      ]
    },
    {
      "cell_type": "code",
      "source": [
        "# Demostración del método center():\n",
        "print('[' + 'alpha'.center(10) + ']')\n"
      ],
      "metadata": {
        "colab": {
          "base_uri": "https://localhost:8080/"
        },
        "id": "k8Qso9kGcvwV",
        "outputId": "c6440eff-a0d8-4ea2-a501-5aae2a09d29b"
      },
      "execution_count": 25,
      "outputs": [
        {
          "output_type": "stream",
          "name": "stdout",
          "text": [
            "[  alpha   ]\n"
          ]
        }
      ]
    },
    {
      "cell_type": "code",
      "source": [
        "print('[' + 'Beta'.center(2) + ']')\n",
        "print('[' + 'Beta'.center(4) + ']')\n",
        "print('[' + 'Beta'.center(6) + ']')\n"
      ],
      "metadata": {
        "colab": {
          "base_uri": "https://localhost:8080/"
        },
        "id": "SsNCJgUDcvtw",
        "outputId": "c0053825-5a92-4196-c2c3-0c3f685bc454"
      },
      "execution_count": 26,
      "outputs": [
        {
          "output_type": "stream",
          "name": "stdout",
          "text": [
            "[Beta]\n",
            "[Beta]\n",
            "[ Beta ]\n"
          ]
        }
      ]
    },
    {
      "cell_type": "code",
      "source": [
        "print('[' + 'gamma'.center(20, '*') + ']')"
      ],
      "metadata": {
        "colab": {
          "base_uri": "https://localhost:8080/"
        },
        "id": "_btxWP33cvq7",
        "outputId": "b33cb503-d6b4-4eb9-bed2-715619b688f5"
      },
      "execution_count": 27,
      "outputs": [
        {
          "output_type": "stream",
          "name": "stdout",
          "text": [
            "[*******gamma********]\n"
          ]
        }
      ]
    },
    {
      "cell_type": "code",
      "source": [
        "# Demostración del método endswith():\n",
        "if \"epsilon\".endswith(\"on\"):\n",
        "    print(\"si\")\n",
        "else:\n",
        "    print(\"no\")\n"
      ],
      "metadata": {
        "colab": {
          "base_uri": "https://localhost:8080/"
        },
        "id": "YqJd5Xyrdt5c",
        "outputId": "e96b898f-f22b-4374-d1f8-e981ad04e7c4"
      },
      "execution_count": 28,
      "outputs": [
        {
          "output_type": "stream",
          "name": "stdout",
          "text": [
            "si\n"
          ]
        }
      ]
    },
    {
      "cell_type": "code",
      "source": [
        "t = \"zeta\"\n",
        "print(t.endswith(\"a\"))\n",
        "print(t.endswith(\"A\"))\n",
        "print(t.endswith(\"et\"))\n",
        "print(t.endswith(\"eta\"))\n"
      ],
      "metadata": {
        "colab": {
          "base_uri": "https://localhost:8080/"
        },
        "id": "ysZx7V-edt18",
        "outputId": "a81098f5-d563-44ad-9d76-8e258e49762e"
      },
      "execution_count": 29,
      "outputs": [
        {
          "output_type": "stream",
          "name": "stdout",
          "text": [
            "True\n",
            "False\n",
            "False\n",
            "True\n"
          ]
        }
      ]
    },
    {
      "cell_type": "code",
      "source": [
        "# Demostración del método find():\n",
        "print(\"Eta\".find(\"ta\"))\n",
        "print(\"Eta\".find(\"mma\"))\n"
      ],
      "metadata": {
        "colab": {
          "base_uri": "https://localhost:8080/"
        },
        "id": "x_viMRqjdtzB",
        "outputId": "b7dfb889-0513-47c8-a3b2-feeaa9e51da7"
      },
      "execution_count": 30,
      "outputs": [
        {
          "output_type": "stream",
          "name": "stdout",
          "text": [
            "1\n",
            "-1\n"
          ]
        }
      ]
    },
    {
      "cell_type": "code",
      "source": [
        "t = 'theta'\n",
        "print(t.find('eta'))\n",
        "print(t.find('et'))\n",
        "print(t.find('the'))\n",
        "print(t.find('ha'))\n"
      ],
      "metadata": {
        "colab": {
          "base_uri": "https://localhost:8080/"
        },
        "id": "xIsKqnEIdtv8",
        "outputId": "ebfcd360-b2e4-4e8c-8124-88786caadfeb"
      },
      "execution_count": 31,
      "outputs": [
        {
          "output_type": "stream",
          "name": "stdout",
          "text": [
            "2\n",
            "2\n",
            "0\n",
            "-1\n"
          ]
        }
      ]
    },
    {
      "cell_type": "code",
      "source": [
        "print('kappa'.find('a', 2))"
      ],
      "metadata": {
        "colab": {
          "base_uri": "https://localhost:8080/"
        },
        "id": "duMtabG-dttO",
        "outputId": "e863f90e-fee6-42d7-9e34-50e35bac3687"
      },
      "execution_count": 32,
      "outputs": [
        {
          "output_type": "stream",
          "name": "stdout",
          "text": [
            "4\n"
          ]
        }
      ]
    },
    {
      "cell_type": "code",
      "source": [
        "the_text = \"\"\"A variation of the ordinary lorem ipsum\n",
        "text has been used in typesetting since the 1960s \n",
        "or earlier, when it was popularized by advertisements \n",
        "for Letraset transfer sheets. It was introduced to \n",
        "the Information Age in the mid-1980s by the Aldus Corporation, \n",
        "which employed it in graphics and word-processing templates\n",
        "for its desktop publishing program PageMaker (from Wikipedia)\"\"\"\n",
        "\n",
        "fnd = the_text.find('the')\n",
        "while fnd != -1:\n",
        "    print(fnd)\n",
        "    fnd = the_text.find('the', fnd + 1)"
      ],
      "metadata": {
        "colab": {
          "base_uri": "https://localhost:8080/"
        },
        "id": "u5ofnftCdtqL",
        "outputId": "4fbe508c-7944-4815-9533-88ac07494bcd"
      },
      "execution_count": 33,
      "outputs": [
        {
          "output_type": "stream",
          "name": "stdout",
          "text": [
            "15\n",
            "80\n",
            "198\n",
            "221\n",
            "238\n"
          ]
        }
      ]
    },
    {
      "cell_type": "code",
      "source": [
        "print('kappa'.find('a', 1, 4))\n",
        "print('kappa'.find('a', 2, 4))\n"
      ],
      "metadata": {
        "colab": {
          "base_uri": "https://localhost:8080/"
        },
        "id": "QGPCktNOdtm7",
        "outputId": "512aa368-ba83-48d6-877f-08893052f29f"
      },
      "execution_count": 34,
      "outputs": [
        {
          "output_type": "stream",
          "name": "stdout",
          "text": [
            "1\n",
            "-1\n"
          ]
        }
      ]
    },
    {
      "cell_type": "code",
      "source": [
        "# Demostración del método isalnum():\n",
        "print('lambda30'.isalnum())\n",
        "print('lambda'.isalnum())\n",
        "print('30'.isalnum())\n",
        "print('@'.isalnum())\n",
        "print('lambda_30'.isalnum())\n",
        "print(''.isalnum())\n"
      ],
      "metadata": {
        "colab": {
          "base_uri": "https://localhost:8080/"
        },
        "id": "VrvhEBUvdtjq",
        "outputId": "7b6ecad4-0298-4047-8d7b-054ff82b83d0"
      },
      "execution_count": 35,
      "outputs": [
        {
          "output_type": "stream",
          "name": "stdout",
          "text": [
            "True\n",
            "True\n",
            "True\n",
            "False\n",
            "False\n",
            "False\n"
          ]
        }
      ]
    },
    {
      "cell_type": "code",
      "source": [
        "t = 'Six lambdas'\n",
        "print(t.isalnum())\n",
        "\n",
        "t = '&Alpha;&beta;&Gamma;&delta;'\n",
        "print(t.isalnum())\n",
        "\n",
        "t = '20E1'\n",
        "print(t.isalnum())\n"
      ],
      "metadata": {
        "colab": {
          "base_uri": "https://localhost:8080/"
        },
        "id": "v2-igQrRdtg-",
        "outputId": "1ec99db9-3d93-4c8f-e947-9e1e337d492e"
      },
      "execution_count": 36,
      "outputs": [
        {
          "output_type": "stream",
          "name": "stdout",
          "text": [
            "False\n",
            "False\n",
            "True\n"
          ]
        }
      ]
    },
    {
      "cell_type": "code",
      "source": [
        "# Ejemplo: Demostración del método isalpha():\n",
        "print(\"Moooo\".isalpha())\n",
        "print('Mu40'.isalpha())\n",
        "    "
      ],
      "metadata": {
        "colab": {
          "base_uri": "https://localhost:8080/"
        },
        "id": "S0jNxdQXdtay",
        "outputId": "bb3fc049-5f67-40fe-b74a-ba36c23372f8"
      },
      "execution_count": 37,
      "outputs": [
        {
          "output_type": "stream",
          "name": "stdout",
          "text": [
            "True\n",
            "False\n"
          ]
        }
      ]
    },
    {
      "cell_type": "code",
      "source": [
        "# Ejemplo: Demostración del método isdigit():\n",
        "print('2018'.isdigit())\n",
        "print(\"Year2019\".isdigit())\n"
      ],
      "metadata": {
        "colab": {
          "base_uri": "https://localhost:8080/"
        },
        "id": "sqFMPdspdtX6",
        "outputId": "4c25ed36-b683-4f39-d707-d9099e042012"
      },
      "execution_count": 38,
      "outputs": [
        {
          "output_type": "stream",
          "name": "stdout",
          "text": [
            "True\n",
            "False\n"
          ]
        }
      ]
    },
    {
      "cell_type": "code",
      "source": [
        "# Ejemplo: Demostración del método islower():\n",
        "print(\"Moooo\".islower())\n",
        "print('moooo'.islower())\n",
        "    "
      ],
      "metadata": {
        "colab": {
          "base_uri": "https://localhost:8080/"
        },
        "id": "qBZbEfdXdtT4",
        "outputId": "902d6705-1e73-4d54-a61a-31f746696c57"
      },
      "execution_count": 39,
      "outputs": [
        {
          "output_type": "stream",
          "name": "stdout",
          "text": [
            "False\n",
            "True\n"
          ]
        }
      ]
    },
    {
      "cell_type": "code",
      "source": [
        "# Ejemplo: Demostración del método isspace():\n",
        "print(' \\n '.isspace())\n",
        "print(\" \".isspace())\n",
        "print(\"mooo mooo mooo\".isspace())\n"
      ],
      "metadata": {
        "colab": {
          "base_uri": "https://localhost:8080/"
        },
        "id": "wvKwy6xBdtQx",
        "outputId": "22cd9460-2e29-40b5-cfe6-4536d90f006d"
      },
      "execution_count": 40,
      "outputs": [
        {
          "output_type": "stream",
          "name": "stdout",
          "text": [
            "True\n",
            "True\n",
            "False\n"
          ]
        }
      ]
    },
    {
      "cell_type": "code",
      "source": [
        "# Ejemplo: Demostración del método isupper():\n",
        "print(\"Moooo\".isupper())\n",
        "print('moooo'.isupper())\n",
        "print('MOOOO'.isupper())\n",
        "    "
      ],
      "metadata": {
        "colab": {
          "base_uri": "https://localhost:8080/"
        },
        "id": "pcRAm-kPdtNV",
        "outputId": "332da252-a15f-491e-e322-f745c44c76c1"
      },
      "execution_count": 41,
      "outputs": [
        {
          "output_type": "stream",
          "name": "stdout",
          "text": [
            "False\n",
            "False\n",
            "True\n"
          ]
        }
      ]
    },
    {
      "cell_type": "code",
      "source": [
        "# Demostración del método join():\n",
        "print(\",\".join([\"omicron\", \"pi\", \"rho\"]))\n"
      ],
      "metadata": {
        "colab": {
          "base_uri": "https://localhost:8080/"
        },
        "id": "q2XDlsi7dtJc",
        "outputId": "93addc75-e39b-4041-8b8d-40ce23671d75"
      },
      "execution_count": 42,
      "outputs": [
        {
          "output_type": "stream",
          "name": "stdout",
          "text": [
            "omicron,pi,rho\n"
          ]
        }
      ]
    },
    {
      "cell_type": "code",
      "source": [
        "# Demostración del método lower():\n",
        "print(\"SiGmA=60\".lower())\n"
      ],
      "metadata": {
        "colab": {
          "base_uri": "https://localhost:8080/"
        },
        "id": "NOCe9WiJdtF8",
        "outputId": "2e640160-f188-4a9b-b9fd-71036ead3375"
      },
      "execution_count": 43,
      "outputs": [
        {
          "output_type": "stream",
          "name": "stdout",
          "text": [
            "sigma=60\n"
          ]
        }
      ]
    },
    {
      "cell_type": "code",
      "source": [
        "# Demostración del método lstrip():\n",
        "print(\"[\" + \" tau \".lstrip() + \"]\")\n",
        "    "
      ],
      "metadata": {
        "colab": {
          "base_uri": "https://localhost:8080/"
        },
        "id": "blXHgD--dtDV",
        "outputId": "2ba899a3-cb7e-4ccf-9297-2e3ed106c694"
      },
      "execution_count": 44,
      "outputs": [
        {
          "output_type": "stream",
          "name": "stdout",
          "text": [
            "[tau ]\n"
          ]
        }
      ]
    },
    {
      "cell_type": "code",
      "source": [
        "print(\"www.cisco.com\".lstrip(\"w.\"))\n",
        "    "
      ],
      "metadata": {
        "colab": {
          "base_uri": "https://localhost:8080/"
        },
        "id": "JgltKicJdtAR",
        "outputId": "2eeb48d9-6bf9-4616-eb16-a398dab4a351"
      },
      "execution_count": 45,
      "outputs": [
        {
          "output_type": "stream",
          "name": "stdout",
          "text": [
            "cisco.com\n"
          ]
        }
      ]
    },
    {
      "cell_type": "code",
      "source": [
        "print(\"pythoninstitute.org\".lstrip(\".org\"))\n",
        "    "
      ],
      "metadata": {
        "colab": {
          "base_uri": "https://localhost:8080/"
        },
        "id": "8vpWI2W0ds9x",
        "outputId": "6f0362fc-0fd4-464c-ebb6-ce369e09698e"
      },
      "execution_count": 46,
      "outputs": [
        {
          "output_type": "stream",
          "name": "stdout",
          "text": [
            "pythoninstitute.org\n"
          ]
        }
      ]
    }
  ]
}