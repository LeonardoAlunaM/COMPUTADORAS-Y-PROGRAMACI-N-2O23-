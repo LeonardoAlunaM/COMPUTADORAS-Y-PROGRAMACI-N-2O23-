{
  "nbformat": 4,
  "nbformat_minor": 0,
  "metadata": {
    "colab": {
      "provenance": [],
      "authorship_tag": "ABX9TyOiyFZWjrZHruZhI7NnJhpt",
      "include_colab_link": true
    },
    "kernelspec": {
      "name": "python3",
      "display_name": "Python 3"
    },
    "language_info": {
      "name": "python"
    }
  },
  "cells": [
    {
      "cell_type": "markdown",
      "metadata": {
        "id": "view-in-github",
        "colab_type": "text"
      },
      "source": [
        "<a href=\"https://colab.research.google.com/github/LeonardoAlunaM/COMPUTADORAS-Y-PROGRAMACI-N-2O23-/blob/main-COMPUTADORAS-Y-PROGTRAMACI%C3%93N-2023/CISCO_FUNDAMENTOS_PYTHON_2.ipynb\" target=\"_parent\"><img src=\"https://colab.research.google.com/assets/colab-badge.svg\" alt=\"Open In Colab\"/></a>"
      ]
    },
    {
      "cell_type": "code",
      "execution_count": null,
      "metadata": {
        "id": "NrplduZvBUNS"
      },
      "outputs": [],
      "source": [
        "import math\n",
        "\n",
        "# La palabra reservada import;\n",
        "# El nombre del módulo que se va a importar.\n",
        "\"\"\" La instrucción puede colocarse en cualquier parte del código, pero debe colocarse antes del primer uso de cualquiera de las entidades del módulo. \"\"\""
      ]
    },
    {
      "cell_type": "code",
      "source": [
        "# Si quiere (o tiene que) importar más de un módulo, puede hacerlo repitiendo la cláusula import (preferida):\n",
        "\n",
        "import math\n",
        "import sys"
      ],
      "metadata": {
        "id": "hbdISaxbHokC"
      },
      "execution_count": null,
      "outputs": []
    },
    {
      "cell_type": "code",
      "source": [
        "# o enumerando los módulos después de la palabra clave reservada import, como aquí:\n",
        "\n",
        "import math, sys\n",
        "\n",
        "# La instrucción importa dos módulos, primero uno llamado math y luego un segundo llamado sys.\n",
        "# La lista de módulos puede ser arbitrariamente larga. "
      ],
      "metadata": {
        "id": "4URw6yQ6H1Rq"
      },
      "execution_count": null,
      "outputs": []
    },
    {
      "cell_type": "code",
      "source": [
        "# Este primer ejemplo no será muy avanzado - solo se desea imprimir el valor de sin(½π).\n",
        "\n",
        "import math\n",
        "print(math.sin(math.pi/2))\n"
      ],
      "metadata": {
        "colab": {
          "base_uri": "https://localhost:8080/"
        },
        "id": "Kg7WOd4NJxzJ",
        "outputId": "fc34db13-7280-4fe1-e987-007bd2ed1b17"
      },
      "execution_count": 3,
      "outputs": [
        {
          "output_type": "stream",
          "name": "stdout",
          "text": [
            "1.0\n"
          ]
        }
      ]
    },
    {
      "cell_type": "code",
      "source": [
        "# Observa el fragmento a continuación, esta es la forma en que se habilitan los nombres de pi y sin con el nombre de su módulo de origen:\n",
        "\n",
        "math.pi\n",
        "math.sin\n",
        "\n",
        "# El nombre del módulo (math).\n",
        "# Un punto (p,ej., .).\n",
        "# El nombre de la entidad (pi).\n",
        "# Tal forma indica claramente el namespace en el que existe el nombre.\n",
        "\n",
        "# Nota: el uso de esto es obligatorio si un módulo ha sido importado con la instrucción import.\n",
        "# No importa si alguno de los nombres del código y del namespace del módulo están en conflicto o no."
      ],
      "metadata": {
        "colab": {
          "base_uri": "https://localhost:8080/"
        },
        "id": "awyO-oFTKCls",
        "outputId": "7c0106b4-b258-45ea-f92c-e427198a5d7a"
      },
      "execution_count": 4,
      "outputs": [
        {
          "output_type": "execute_result",
          "data": {
            "text/plain": [
              "<function math.sin(x, /)>"
            ]
          },
          "metadata": {},
          "execution_count": 4
        }
      ]
    },
    {
      "cell_type": "code",
      "source": [
        "# Nota: el eliminar cualquiera de las dos indicaciones del nombre del módulo hará que el código sea erróneo. \n",
        "# No hay otra forma de entrar al namespace de math si se hizo lo siguiente:\n",
        "\n",
        "import math"
      ],
      "metadata": {
        "id": "V7ZoPYiSKne-"
      },
      "execution_count": 5,
      "outputs": []
    },
    {
      "cell_type": "code",
      "source": [],
      "metadata": {
        "id": "wKG_kc_0J6Oy"
      },
      "execution_count": null,
      "outputs": []
    },
    {
      "cell_type": "code",
      "source": [],
      "metadata": {
        "id": "2ZgZd-POJ6MQ"
      },
      "execution_count": null,
      "outputs": []
    },
    {
      "cell_type": "code",
      "source": [],
      "metadata": {
        "id": "QndFLXfWJ6KA"
      },
      "execution_count": null,
      "outputs": []
    },
    {
      "cell_type": "code",
      "source": [],
      "metadata": {
        "id": "cHbtMNG7J6IX"
      },
      "execution_count": null,
      "outputs": []
    },
    {
      "cell_type": "code",
      "source": [],
      "metadata": {
        "id": "FBPTUJo7J6Fu"
      },
      "execution_count": null,
      "outputs": []
    },
    {
      "cell_type": "code",
      "source": [],
      "metadata": {
        "id": "oWmqI0UlJ6DY"
      },
      "execution_count": null,
      "outputs": []
    },
    {
      "cell_type": "code",
      "source": [],
      "metadata": {
        "id": "smviyHPPJ6A8"
      },
      "execution_count": null,
      "outputs": []
    },
    {
      "cell_type": "code",
      "source": [],
      "metadata": {
        "id": "zO0RPz2lJ5qf"
      },
      "execution_count": null,
      "outputs": []
    },
    {
      "cell_type": "code",
      "source": [],
      "metadata": {
        "id": "cv4OkxKMJxsR"
      },
      "execution_count": null,
      "outputs": []
    }
  ]
}