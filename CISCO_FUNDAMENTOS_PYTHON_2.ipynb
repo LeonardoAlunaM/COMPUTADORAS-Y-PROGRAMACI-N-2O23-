{
  "nbformat": 4,
  "nbformat_minor": 0,
  "metadata": {
    "colab": {
      "provenance": [],
      "authorship_tag": "ABX9TyMwwHreenfiIJAyrMZ617vl",
      "include_colab_link": true
    },
    "kernelspec": {
      "name": "python3",
      "display_name": "Python 3"
    },
    "language_info": {
      "name": "python"
    }
  },
  "cells": [
    {
      "cell_type": "markdown",
      "metadata": {
        "id": "view-in-github",
        "colab_type": "text"
      },
      "source": [
        "<a href=\"https://colab.research.google.com/github/LeonardoAlunaM/COMPUTADORAS-Y-PROGRAMACI-N-2O23-/blob/main-COMPUTADORAS-Y-PROGTRAMACI%C3%93N-2023/CISCO_FUNDAMENTOS_PYTHON_2.ipynb\" target=\"_parent\"><img src=\"https://colab.research.google.com/assets/colab-badge.svg\" alt=\"Open In Colab\"/></a>"
      ]
    },
    {
      "cell_type": "code",
      "execution_count": null,
      "metadata": {
        "id": "NrplduZvBUNS"
      },
      "outputs": [],
      "source": [
        "import math\n",
        "\n",
        "# La palabra reservada import;\n",
        "# El nombre del módulo que se va a importar.\n",
        "\"\"\" La instrucción puede colocarse en cualquier parte del código, pero debe colocarse antes del primer uso de cualquiera de las entidades del módulo. \"\"\""
      ]
    },
    {
      "cell_type": "code",
      "source": [
        "# Si quiere (o tiene que) importar más de un módulo, puede hacerlo repitiendo la cláusula import (preferida):\n",
        "\n",
        "import math\n",
        "import sys"
      ],
      "metadata": {
        "id": "hbdISaxbHokC"
      },
      "execution_count": null,
      "outputs": []
    },
    {
      "cell_type": "code",
      "source": [
        "# o enumerando los módulos después de la palabra clave reservada import, como aquí:\n",
        "\n",
        "import math, sys\n",
        "\n",
        "# La instrucción importa dos módulos, primero uno llamado math y luego un segundo llamado sys.\n",
        "# La lista de módulos puede ser arbitrariamente larga. "
      ],
      "metadata": {
        "id": "4URw6yQ6H1Rq"
      },
      "execution_count": null,
      "outputs": []
    },
    {
      "cell_type": "code",
      "source": [
        "# Este primer ejemplo no será muy avanzado - solo se desea imprimir el valor de sin(½π).\n",
        "\n",
        "import math\n",
        "print(math.sin(math.pi/2))\n"
      ],
      "metadata": {
        "colab": {
          "base_uri": "https://localhost:8080/"
        },
        "id": "Kg7WOd4NJxzJ",
        "outputId": "fc34db13-7280-4fe1-e987-007bd2ed1b17"
      },
      "execution_count": null,
      "outputs": [
        {
          "output_type": "stream",
          "name": "stdout",
          "text": [
            "1.0\n"
          ]
        }
      ]
    },
    {
      "cell_type": "code",
      "source": [
        "# Observa el fragmento a continuación, esta es la forma en que se habilitan los nombres de pi y sin con el nombre de su módulo de origen:\n",
        "\n",
        "math.pi\n",
        "math.sin\n",
        "\n",
        "# El nombre del módulo (math).\n",
        "# Un punto (p,ej., .).\n",
        "# El nombre de la entidad (pi).\n",
        "# Tal forma indica claramente el namespace en el que existe el nombre.\n",
        "\n",
        "# Nota: el uso de esto es obligatorio si un módulo ha sido importado con la instrucción import.\n",
        "# No importa si alguno de los nombres del código y del namespace del módulo están en conflicto o no."
      ],
      "metadata": {
        "colab": {
          "base_uri": "https://localhost:8080/"
        },
        "id": "awyO-oFTKCls",
        "outputId": "7c0106b4-b258-45ea-f92c-e427198a5d7a"
      },
      "execution_count": null,
      "outputs": [
        {
          "output_type": "execute_result",
          "data": {
            "text/plain": [
              "<function math.sin(x, /)>"
            ]
          },
          "metadata": {},
          "execution_count": 4
        }
      ]
    },
    {
      "cell_type": "code",
      "source": [
        "# Nota: el eliminar cualquiera de las dos indicaciones del nombre del módulo hará que el código sea erróneo. \n",
        "# No hay otra forma de entrar al namespace de math si se hizo lo siguiente:\n",
        "\n",
        "import math"
      ],
      "metadata": {
        "id": "V7ZoPYiSKne-"
      },
      "execution_count": null,
      "outputs": []
    },
    {
      "cell_type": "code",
      "source": [
        "import math\n",
        "\n",
        "\n",
        "def sin(x):\n",
        "    if 2 * x == pi:\n",
        "        return 0.99999999\n",
        "    else:\n",
        "        return None\n",
        "\n",
        "\n",
        "pi = 3.14\n",
        "\n",
        "print(sin(pi/2))\n",
        "print(math.sin(math.pi/2))\n"
      ],
      "metadata": {
        "id": "wKG_kc_0J6Oy",
        "colab": {
          "base_uri": "https://localhost:8080/"
        },
        "outputId": "d373c117-6182-4d9f-ec5e-e9fe408033a0"
      },
      "execution_count": 1,
      "outputs": [
        {
          "output_type": "stream",
          "name": "stdout",
          "text": [
            "0.99999999\n",
            "1.0\n"
          ]
        }
      ]
    },
    {
      "cell_type": "code",
      "source": [
        "from math import pi"
      ],
      "metadata": {
        "id": "2ZgZd-POJ6MQ"
      },
      "execution_count": 2,
      "outputs": []
    },
    {
      "cell_type": "code",
      "source": [
        "print(math.e)\n",
        "\n",
        "#Esto ocasionará un error, (e es la constante de Euler: 2.71828...)\n",
        "\n",
        "#Reescribamos el código anterior para incorporar esta nueva técnica.\n",
        "#\n",
        "\n",
        "# En teoria no deberia ser posible imprimir la siguiente linea sin embargo es posible hacerlo "
      ],
      "metadata": {
        "colab": {
          "base_uri": "https://localhost:8080/"
        },
        "id": "v1uCug-6CzwO",
        "outputId": "db3ba578-708c-428b-95bc-d484f6058f50"
      },
      "execution_count": 3,
      "outputs": [
        {
          "output_type": "stream",
          "name": "stdout",
          "text": [
            "2.718281828459045\n"
          ]
        }
      ]
    },
    {
      "cell_type": "code",
      "source": [
        "from math import sin, pi\n",
        "\n",
        "print(sin(pi/2))"
      ],
      "metadata": {
        "colab": {
          "base_uri": "https://localhost:8080/"
        },
        "id": "OdDMkJAxCzuV",
        "outputId": "cafda4bb-81bc-4709-810f-0566eb8028ad"
      },
      "execution_count": 4,
      "outputs": [
        {
          "output_type": "stream",
          "name": "stdout",
          "text": [
            "1.0\n"
          ]
        }
      ]
    },
    {
      "cell_type": "code",
      "source": [
        "from math import sin, pi\n",
        "\n",
        "print(sin(pi / 2))\n",
        "\n",
        "pi = 3.14\n",
        "\n",
        "\n",
        "def sin(x):\n",
        "    if 2 * x == pi:\n",
        "        return 0.99999999\n",
        "    else:\n",
        "        return None"
      ],
      "metadata": {
        "colab": {
          "base_uri": "https://localhost:8080/"
        },
        "id": "EW4y4NGZCzsY",
        "outputId": "a7ceb9c1-d7b3-4572-d0fa-b6610b5add00"
      },
      "execution_count": 5,
      "outputs": [
        {
          "output_type": "stream",
          "name": "stdout",
          "text": [
            "1.0\n"
          ]
        }
      ]
    },
    {
      "cell_type": "code",
      "source": [
        "pi = 3.14\n",
        "\n",
        "\n",
        "def sin(x):\n",
        "    if 2 * x == pi:\n",
        "        return 0.99999999\n",
        "    else:\n",
        "        return None\n",
        "\n",
        "\n",
        "print(sin(pi / 2))\n",
        "\n",
        "from math import sin, pi\n",
        "\n",
        "print(sin(pi / 2))"
      ],
      "metadata": {
        "colab": {
          "base_uri": "https://localhost:8080/"
        },
        "id": "anEAgHt3CzqE",
        "outputId": "cb774c99-6c2e-4c84-80f1-6a0c55e44b09"
      },
      "execution_count": 6,
      "outputs": [
        {
          "output_type": "stream",
          "name": "stdout",
          "text": [
            "0.99999999\n",
            "1.0\n"
          ]
        }
      ]
    },
    {
      "cell_type": "code",
      "source": [
        "from module import *\n",
        "\n",
        "# Está es la sintaxis para importar el modulo de manera que marca un error al ejecutar tal instrucción de código\n",
        "# dado que la función modulo no está definida al menos no de momento "
      ],
      "metadata": {
        "colab": {
          "base_uri": "https://localhost:8080/",
          "height": 304
        },
        "id": "u5fHaJlpCznz",
        "outputId": "670e1794-3067-46fa-ebe1-1ec2e57e2d02"
      },
      "execution_count": 7,
      "outputs": [
        {
          "output_type": "error",
          "ename": "ModuleNotFoundError",
          "evalue": "ignored",
          "traceback": [
            "\u001b[0;31m---------------------------------------------------------------------------\u001b[0m",
            "\u001b[0;31mModuleNotFoundError\u001b[0m                       Traceback (most recent call last)",
            "\u001b[0;32m<ipython-input-7-868418f08736>\u001b[0m in \u001b[0;36m<cell line: 1>\u001b[0;34m()\u001b[0m\n\u001b[0;32m----> 1\u001b[0;31m \u001b[0;32mfrom\u001b[0m \u001b[0mmodule\u001b[0m \u001b[0;32mimport\u001b[0m \u001b[0;34m*\u001b[0m\u001b[0;34m\u001b[0m\u001b[0;34m\u001b[0m\u001b[0m\n\u001b[0m",
            "\u001b[0;31mModuleNotFoundError\u001b[0m: No module named 'module'",
            "",
            "\u001b[0;31m---------------------------------------------------------------------------\u001b[0;32m\nNOTE: If your import is failing due to a missing package, you can\nmanually install dependencies using either !pip or !apt.\n\nTo view examples of installing some common dependencies, click the\n\"Open Examples\" button below.\n\u001b[0;31m---------------------------------------------------------------------------\u001b[0m\n"
          ],
          "errorDetails": {
            "actions": [
              {
                "action": "open_url",
                "actionText": "Open Examples",
                "url": "/notebooks/snippets/importing_libraries.ipynb"
              }
            ]
          }
        }
      ]
    },
    {
      "cell_type": "code",
      "source": [],
      "metadata": {
        "id": "QndFLXfWJ6KA"
      },
      "execution_count": null,
      "outputs": []
    },
    {
      "cell_type": "code",
      "source": [],
      "metadata": {
        "id": "cHbtMNG7J6IX"
      },
      "execution_count": null,
      "outputs": []
    },
    {
      "cell_type": "code",
      "source": [],
      "metadata": {
        "id": "FBPTUJo7J6Fu"
      },
      "execution_count": null,
      "outputs": []
    },
    {
      "cell_type": "code",
      "source": [],
      "metadata": {
        "id": "oWmqI0UlJ6DY"
      },
      "execution_count": null,
      "outputs": []
    },
    {
      "cell_type": "code",
      "source": [],
      "metadata": {
        "id": "smviyHPPJ6A8"
      },
      "execution_count": null,
      "outputs": []
    },
    {
      "cell_type": "code",
      "source": [],
      "metadata": {
        "id": "zO0RPz2lJ5qf"
      },
      "execution_count": null,
      "outputs": []
    },
    {
      "cell_type": "code",
      "source": [],
      "metadata": {
        "id": "cv4OkxKMJxsR"
      },
      "execution_count": null,
      "outputs": []
    }
  ]
}