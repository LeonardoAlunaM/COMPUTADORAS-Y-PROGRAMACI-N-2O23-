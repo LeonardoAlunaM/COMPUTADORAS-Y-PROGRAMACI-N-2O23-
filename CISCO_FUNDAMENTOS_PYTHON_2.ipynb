{
  "nbformat": 4,
  "nbformat_minor": 0,
  "metadata": {
    "colab": {
      "provenance": [],
      "authorship_tag": "ABX9TyMlrbs4Ky88sNktk90f9W4/",
      "include_colab_link": true
    },
    "kernelspec": {
      "name": "python3",
      "display_name": "Python 3"
    },
    "language_info": {
      "name": "python"
    }
  },
  "cells": [
    {
      "cell_type": "markdown",
      "metadata": {
        "id": "view-in-github",
        "colab_type": "text"
      },
      "source": [
        "<a href=\"https://colab.research.google.com/github/LeonardoAlunaM/COMPUTADORAS-Y-PROGRAMACI-N-2O23-/blob/main-COMPUTADORAS-Y-PROGTRAMACI%C3%93N-2023/CISCO_FUNDAMENTOS_PYTHON_2.ipynb\" target=\"_parent\"><img src=\"https://colab.research.google.com/assets/colab-badge.svg\" alt=\"Open In Colab\"/></a>"
      ]
    },
    {
      "cell_type": "markdown",
      "source": [
        "# 1.1 Sección 1 – Introducción a los módulos en Python"
      ],
      "metadata": {
        "id": "PdvUOHB-GCb4"
      }
    },
    {
      "cell_type": "markdown",
      "source": [
        "La cláusula contiene:\n",
        "\n",
        "La palabra reservada import;\n",
        "\n",
        "El nombre del módulo que se va a importar. Math en este caso "
      ],
      "metadata": {
        "id": "GatQtOqakdMw"
      }
    },
    {
      "cell_type": "code",
      "execution_count": null,
      "metadata": {
        "id": "NrplduZvBUNS",
        "colab": {
          "base_uri": "https://localhost:8080/",
          "height": 35
        },
        "outputId": "004b0745-8ecc-456c-ce15-2c1458b1252d"
      },
      "outputs": [
        {
          "output_type": "execute_result",
          "data": {
            "text/plain": [
              "' La instrucción puede colocarse en cualquier parte del código, pero debe colocarse antes del primer uso de cualquiera de las entidades del módulo. '"
            ],
            "application/vnd.google.colaboratory.intrinsic+json": {
              "type": "string"
            }
          },
          "metadata": {},
          "execution_count": 2
        }
      ],
      "source": [
        "import math\n",
        "\n",
        "# La palabra reservada import;\n",
        "# El nombre del módulo que se va a importar.\n",
        "\"\"\" La instrucción puede colocarse en cualquier parte del código, pero debe colocarse antes del primer uso de cualquiera de las entidades del módulo. \"\"\""
      ]
    },
    {
      "cell_type": "markdown",
      "source": [
        "La instrucción puede colocarse en cualquier parte del código, pero debe colocarse antes del primer uso de cualquiera de las entidades del módulo."
      ],
      "metadata": {
        "id": "f2FVs7hvkccs"
      }
    },
    {
      "cell_type": "code",
      "source": [
        "# Si quiere (o tiene que) importar más de un módulo, puede hacerlo repitiendo la cláusula import (preferida):\n",
        "\"\"\" Si quiere (o tiene que) importar más de un módulo, puede hacerlo repitiendo la cláusula import (preferida):\"\"\"\n",
        "\n",
        "import math\n",
        "import sys\n",
        "\n",
        "\"\"\" Si quiere (o tiene que) importar más de un módulo, puede hacerlo repitiendo la cláusula import (preferida):\"\"\"\n",
        "\n",
        "# Al colocar el fragmento anterior de texto antes de la importación de los módulos no sucede nada, \n",
        "# Pero si se importa tales librerias, y después agrega texto y se ejecuta el código entonces aparece el tecto en la consola "
      ],
      "metadata": {
        "id": "hbdISaxbHokC",
        "colab": {
          "base_uri": "https://localhost:8080/",
          "height": 35
        },
        "outputId": "4fbaf4c9-ca38-40e1-ca59-f9e664fda597"
      },
      "execution_count": null,
      "outputs": [
        {
          "output_type": "execute_result",
          "data": {
            "text/plain": [
              "' Si quiere (o tiene que) importar más de un módulo, puede hacerlo repitiendo la cláusula import (preferida):'"
            ],
            "application/vnd.google.colaboratory.intrinsic+json": {
              "type": "string"
            }
          },
          "metadata": {},
          "execution_count": 8
        }
      ]
    },
    {
      "cell_type": "code",
      "source": [
        "# o enumerando los módulos después de la palabra clave reservada import, como aquí:\n",
        "\n",
        "import math, sys\n",
        "\n",
        "# La instrucción importa dos módulos, primero uno llamado math y luego un segundo llamado sys.\n",
        "# La lista de módulos puede ser arbitrariamente larga. "
      ],
      "metadata": {
        "id": "4URw6yQ6H1Rq"
      },
      "execution_count": null,
      "outputs": []
    },
    {
      "cell_type": "code",
      "source": [
        "# Este primer ejemplo no será muy avanzado - solo se desea imprimir el valor de sin(½π).\n",
        "\n",
        "import math\n",
        "print(math.sin(math.pi/2))\n",
        "\n",
        "# print(math.sin(21*(math.pi/2)))\n"
      ],
      "metadata": {
        "colab": {
          "base_uri": "https://localhost:8080/"
        },
        "id": "Kg7WOd4NJxzJ",
        "outputId": "4cee45ab-04c5-43bf-a684-f4e9207bcf04"
      },
      "execution_count": null,
      "outputs": [
        {
          "output_type": "stream",
          "name": "stdout",
          "text": [
            "1.0\n"
          ]
        }
      ]
    },
    {
      "cell_type": "code",
      "source": [
        "# Observa el fragmento a continuación, esta es la forma en que se habilitan los nombres de pi y sin con el nombre de su módulo de origen:\n",
        "\n",
        "math.pi\n",
        "math.sin\n",
        "\n",
        "# El nombre del módulo (math).\n",
        "# Un punto (p,ej., .).\n",
        "# El nombre de la entidad (pi).\n",
        "# Tal forma indica claramente el namespace en el que existe el nombre.\n",
        "\n",
        "# Nota: el uso de esto es obligatorio si un módulo ha sido importado con la instrucción import.\n",
        "# No importa si alguno de los nombres del código y del namespace del módulo están en conflicto o no."
      ],
      "metadata": {
        "colab": {
          "base_uri": "https://localhost:8080/"
        },
        "id": "awyO-oFTKCls",
        "outputId": "da4359bf-a34c-4fe1-cf0a-ba810e5f7dba"
      },
      "execution_count": null,
      "outputs": [
        {
          "output_type": "execute_result",
          "data": {
            "text/plain": [
              "<function math.sin(x, /)>"
            ]
          },
          "metadata": {},
          "execution_count": 24
        }
      ]
    },
    {
      "cell_type": "code",
      "source": [
        "# Esta instrucción funciona por que se ha importado math \n",
        "math.cos\n"
      ],
      "metadata": {
        "colab": {
          "base_uri": "https://localhost:8080/"
        },
        "id": "9nnyLnTZtZhA",
        "outputId": "ea9c384e-f945-4341-e86a-d391c092c7bf"
      },
      "execution_count": null,
      "outputs": [
        {
          "output_type": "execute_result",
          "data": {
            "text/plain": [
              "<function math.cos(x, /)>"
            ]
          },
          "metadata": {},
          "execution_count": 26
        }
      ]
    },
    {
      "cell_type": "code",
      "source": [
        "# Nota: el eliminar cualquiera de las dos indicaciones del nombre del módulo hará que el código sea erróneo. \n",
        "# No hay otra forma de entrar al namespace de math si se hizo lo siguiente:\n",
        "\n",
        "import math"
      ],
      "metadata": {
        "id": "V7ZoPYiSKne-"
      },
      "execution_count": null,
      "outputs": []
    },
    {
      "cell_type": "code",
      "source": [
        "# Math importado desde python \n",
        "import math\n",
        "\n",
        "# pi escrito como libreria \n",
        "def sin(x):\n",
        "    if 2 * x == pi:\n",
        "        return 0.99999999\n",
        "    else:\n",
        "        return None\n",
        "\n",
        "# Math definido como unos cuantos numeros \n",
        "pi = 3.14\n",
        "\n",
        "# impresionde pi definido por nosotros\n",
        "print(sin(pi/2))\n",
        "\n",
        "# imprimiendo pi desde la libreria \n",
        "print(math.sin(math.pi/2))\n"
      ],
      "metadata": {
        "id": "wKG_kc_0J6Oy",
        "colab": {
          "base_uri": "https://localhost:8080/"
        },
        "outputId": "4556c471-c5b7-4b2c-df54-9dbdaa676baa"
      },
      "execution_count": null,
      "outputs": [
        {
          "output_type": "stream",
          "name": "stdout",
          "text": [
            "0.99999999\n",
            "1.0\n"
          ]
        }
      ]
    },
    {
      "cell_type": "markdown",
      "source": [
        "Como puedes ver, las entidades no se afectan entre sí. "
      ],
      "metadata": {
        "id": "VEU5rwlKzcNn"
      }
    },
    {
      "cell_type": "code",
      "source": [
        "from math import pi"
      ],
      "metadata": {
        "id": "2ZgZd-POJ6MQ"
      },
      "execution_count": null,
      "outputs": []
    },
    {
      "cell_type": "markdown",
      "source": [
        "La instrucción consta de los siguientes elementos:\n",
        "\n",
        "* La palabra clave reservada from.\n",
        "\n",
        "* El nombre del módulo a ser (selectivamente) importado.\n",
        "\n",
        "* La palabra clave reservada import.\n",
        "\n",
        "* El nombre o lista de nombres de la entidad o entidades las cuales estan siendo importadas al namespace.\n",
        "\n",
        "La instrucción tiene este efecto:\n",
        "\n",
        "* Las entidades listadas son las únicas que son importadas del módulo indicado.\n",
        "\n",
        "* Los nombres de las entidades importadas pueden ser accedidas dentro del código sin especificar el nombre del módulo de origen.\n",
        "\n",
        "Nota: no se importan otras entidades, únicamente las especificadas. Además, no se pueden importar entidades adicionales utilizando - una línea como esta:"
      ],
      "metadata": {
        "id": "UTxBNoZS1Per"
      }
    },
    {
      "cell_type": "code",
      "source": [
        "print(math.e)\n",
        "print(math.pi)\n",
        "\n",
        "#Esto ocasionará un error, (e es la constante de Euler: 2.71828...)\n",
        "\n",
        "#Reescribamos el código anterior para incorporar esta nueva técnica.\n",
        "#\n",
        "\n",
        "# En teoria no deberia ser posible imprimir la siguiente linea sin embargo es posible hacerlo "
      ],
      "metadata": {
        "colab": {
          "base_uri": "https://localhost:8080/"
        },
        "id": "v1uCug-6CzwO",
        "outputId": "9799f672-4cd9-4324-fa34-9a8984ad6abc"
      },
      "execution_count": null,
      "outputs": [
        {
          "output_type": "stream",
          "name": "stdout",
          "text": [
            "2.718281828459045\n",
            "3.141592653589793\n"
          ]
        }
      ]
    },
    {
      "cell_type": "code",
      "source": [
        "from math import sin, pi\n",
        "\n",
        "print(sin(pi/2))"
      ],
      "metadata": {
        "colab": {
          "base_uri": "https://localhost:8080/"
        },
        "id": "OdDMkJAxCzuV",
        "outputId": "9926f9e4-7e26-4b41-a942-6c46d0661042"
      },
      "execution_count": null,
      "outputs": [
        {
          "output_type": "stream",
          "name": "stdout",
          "text": [
            "1.0\n"
          ]
        }
      ]
    },
    {
      "cell_type": "markdown",
      "source": [
        "Observa el código en el editor. Analízalo cuidadosamente:\n",
        "\n",
        "* La línea 01: lleva a cabo la importación selectiva.\n",
        "* La línea 03: hace uso de las entidades importadas y obtiene el resultado esperado (1.0).\n",
        "* Las líneas 05 a la 12: redefinen el significado de pi y sin - en efecto, reemplazan las definiciones originales (importadas) dentro del namespace del código.\n",
        "* La línea 15: retorna 0.99999999, lo cual confirma nuestras conclusiones."
      ],
      "metadata": {
        "id": "4R8dSKRq3K2q"
      }
    },
    {
      "cell_type": "code",
      "source": [
        "from math import sin, pi\n",
        "\n",
        "print(sin(pi / 2))\n",
        "\n",
        "pi = 3.14\n",
        "\n",
        "\n",
        "def sin(x):\n",
        "    if 2 * x == pi:\n",
        "        return 0.99999999\n",
        "    else:\n",
        "        return None\n",
        "print(sin(pi / 2))"
      ],
      "metadata": {
        "colab": {
          "base_uri": "https://localhost:8080/"
        },
        "id": "EW4y4NGZCzsY",
        "outputId": "bce93e42-6a79-4d80-be25-853157737bdf"
      },
      "execution_count": null,
      "outputs": [
        {
          "output_type": "stream",
          "name": "stdout",
          "text": [
            "1.0\n",
            "0.99999999\n"
          ]
        }
      ]
    },
    {
      "cell_type": "code",
      "source": [
        "pi = 3.14\n",
        "\n",
        "\n",
        "def sin(x):\n",
        "    if 2 * x == pi:\n",
        "        return 0.99999999\n",
        "    else:\n",
        "        return None\n",
        "\n",
        "\n",
        "print(sin(pi / 2))\n",
        "\n",
        "from math import sin, pi\n",
        "\n",
        "print(sin(pi / 2))\n"
      ],
      "metadata": {
        "colab": {
          "base_uri": "https://localhost:8080/"
        },
        "id": "anEAgHt3CzqE",
        "outputId": "26104779-4a73-4c2a-fe7e-0c0be5c671bf"
      },
      "execution_count": null,
      "outputs": [
        {
          "output_type": "stream",
          "name": "stdout",
          "text": [
            "0.99999999\n",
            "1.0\n"
          ]
        }
      ]
    },
    {
      "cell_type": "markdown",
      "source": [
        "Aquí, se ha invertido la secuencia de las operaciones del código:\n",
        "\n",
        "* Las líneas del 01 al 08: definen nuestro propio pi y sin.\n",
        "* La línea 11: hace uso de ellas (0.99999999 aparece en pantalla).\n",
        "* La línea 13: lleva a cabo la importación - los símbolos importados reemplazan sus definiciones anteriores dentro del namespace.\n",
        "* La línea 15: retorna 1.0 como resultado."
      ],
      "metadata": {
        "id": "UPfEX6Zu6RIt"
      }
    },
    {
      "cell_type": "code",
      "source": [
        "# Sintaxis para definir un modulo \n",
        "\n",
        "from module import *\n",
        "\n",
        "# Está es la sintaxis para importar el modulo de manera que marca un error al ejecutar tal instrucción de código\n",
        "# dado que la función modulo no está definida al menos no de momento \n",
        "\n",
        "\n",
        "# Acá \" module \" depende de el módulo que se necesite importar "
      ],
      "metadata": {
        "id": "u5fHaJlpCznz"
      },
      "execution_count": null,
      "outputs": []
    },
    {
      "cell_type": "code",
      "source": [
        "# Sintaxis para renombrar un modulo \n",
        "import module as alias"
      ],
      "metadata": {
        "id": "QndFLXfWJ6KA"
      },
      "execution_count": null,
      "outputs": []
    },
    {
      "cell_type": "code",
      "source": [
        "# Con está instrucción renombremos el mudulo math con el nombre m \n",
        "\n",
        "import math as m\n",
        "    \n",
        "print(m.sin(m.pi/2))\n",
        "\n",
        "# El resultado en pantalla es 1.0 "
      ],
      "metadata": {
        "id": "cHbtMNG7J6IX",
        "colab": {
          "base_uri": "https://localhost:8080/"
        },
        "outputId": "674447bd-2679-4a75-8011-1994259de9db"
      },
      "execution_count": null,
      "outputs": [
        {
          "output_type": "stream",
          "name": "stdout",
          "text": [
            "1.0\n"
          ]
        }
      ]
    },
    {
      "cell_type": "markdown",
      "source": [
        "Nota: después de la ejecución exitosa de una importación con alias, el nombre original del módulo se vuelve inaccesible y no debe ser utilizado."
      ],
      "metadata": {
        "id": "bZ4eFSD98vkh"
      }
    },
    {
      "cell_type": "code",
      "source": [
        "from module import name as alias"
      ],
      "metadata": {
        "id": "FBPTUJo7J6Fu"
      },
      "execution_count": null,
      "outputs": []
    },
    {
      "cell_type": "markdown",
      "source": [
        "Como anteriormente, el nombre original (sin alias) se vuelve inaccesible."
      ],
      "metadata": {
        "id": "R4YfKouU93p-"
      }
    },
    {
      "cell_type": "code",
      "source": [
        "# Más sintaxis sobre como renombrar un módulo de manera diferente \n",
        "from module import n as a, m as b, o as c"
      ],
      "metadata": {
        "id": "oWmqI0UlJ6DY"
      },
      "execution_count": null,
      "outputs": []
    },
    {
      "cell_type": "code",
      "source": [
        "from math import pi as PI, sin as sine\n",
        "  \n",
        "print(sine(PI/2))"
      ],
      "metadata": {
        "id": "smviyHPPJ6A8",
        "colab": {
          "base_uri": "https://localhost:8080/"
        },
        "outputId": "b465ffcf-0406-4090-d6bc-2035da124db1"
      },
      "execution_count": null,
      "outputs": [
        {
          "output_type": "stream",
          "name": "stdout",
          "text": [
            "1.0\n"
          ]
        }
      ]
    },
    {
      "cell_type": "markdown",
      "source": [
        "Ahora estás familiarizado con los conceptos básicos del uso de módulos. Permítenos mostrarte algunos módulos y algunas de sus entidades útiles."
      ],
      "metadata": {
        "id": "ufR_ELmV_I7u"
      }
    },
    {
      "cell_type": "markdown",
      "source": [
        "1. Si deseas importar un módulo como un todo, puedes hacerlo usando la sentencia import nombre_del_módulo. Puedes importar más de un módulo a la vez utilizando una lista separada por comas. Por ejemplo:"
      ],
      "metadata": {
        "id": "5FK-Ksdh_S83"
      }
    },
    {
      "cell_type": "code",
      "source": [
        "import mod1\n",
        "import mod2, mod3, mod4\n",
        "   "
      ],
      "metadata": {
        "id": "zO0RPz2lJ5qf"
      },
      "execution_count": null,
      "outputs": []
    },
    {
      "cell_type": "markdown",
      "source": [
        "Aunque la última forma no se recomienda por razones estilísticas, y es mejor y más bonito expresar la misma intención de una forma más detallada y explícita, como por ejemplo:"
      ],
      "metadata": {
        "id": "pqt5W5D3_Y_t"
      }
    },
    {
      "cell_type": "code",
      "source": [
        "import mod2\n",
        "import mod3\n",
        "import mod4"
      ],
      "metadata": {
        "id": "gU9VawQ38xh8"
      },
      "execution_count": null,
      "outputs": []
    },
    {
      "cell_type": "markdown",
      "source": [
        "2. Si un módulo se importa de la manera anterior y desea acceder a cualquiera de sus entidades, debes anteponer el nombre de la entidad empleando la notación con punto. Por ejemplo:"
      ],
      "metadata": {
        "id": "1nEzC2jqCev4"
      }
    },
    {
      "cell_type": "code",
      "source": [
        "import my_module\n",
        "   \n",
        "result = my_module.my_function(my_module.my_data)"
      ],
      "metadata": {
        "id": "q-Xpj8vFCTDB"
      },
      "execution_count": null,
      "outputs": []
    },
    {
      "cell_type": "markdown",
      "source": [
        "El fragmento de código utiliza dos entidades que provienen del módulo my_module: una función llamada my_function() y una variable con el nombre my_data. Ambos nombres deben tener el prefijo my_module. Ninguno de los nombres de entidad importados entra en conflicto con los nombres idénticos existentes en el namespace de tu código."
      ],
      "metadata": {
        "id": "ENJJExHaC2Ed"
      }
    },
    {
      "cell_type": "markdown",
      "source": [
        "3. Se te permite no solo importar un módulo como un todo, sino también importar solo entidades individuales de él. En este caso, las entidades importadas no deben especificar el prefijo cuando son empleadas. Por ejemplo:"
      ],
      "metadata": {
        "id": "jz7tzZOeC-LW"
      }
    },
    {
      "cell_type": "code",
      "source": [
        "from module import my_function, my_data\n",
        "  \n",
        "result = my_function(my_data)\n",
        " "
      ],
      "metadata": {
        "id": "UYOaLwad8xfD"
      },
      "execution_count": null,
      "outputs": []
    },
    {
      "cell_type": "markdown",
      "source": [
        "La forma anterior, a pesar de su atractivo, no se recomienda debido al peligro de causar conflictos con los nombres derivados de la importación del namespace del código."
      ],
      "metadata": {
        "id": "gC_up7JlDHxr"
      }
    },
    {
      "cell_type": "markdown",
      "source": [
        "4. La forma más general de la sentencia anterior te permite importar todas las entidades ofrecidas por un módulo:"
      ],
      "metadata": {
        "id": "OMEIDE5pDX1L"
      }
    },
    {
      "cell_type": "code",
      "source": [
        "from my_module import *\n",
        "  \n",
        "result = my_function(my_data)"
      ],
      "metadata": {
        "id": "A7s_v79D8xdN"
      },
      "execution_count": null,
      "outputs": []
    },
    {
      "cell_type": "markdown",
      "source": [
        "Nota: la variante de esta importación no se recomienda debido a las mismas razones que antes (la amenaza de un conflicto de nombres es aún más peligrosa aquí)."
      ],
      "metadata": {
        "id": "Rb10v_1aDnN1"
      }
    },
    {
      "cell_type": "markdown",
      "source": [
        "5. Puedes cambiar el nombre de la entidad importada \"sobre la marcha\" utilizando la frase as del import. Por ejemplo:"
      ],
      "metadata": {
        "id": "WOwgOkOPDnLF"
      }
    },
    {
      "cell_type": "code",
      "source": [
        "from module import my_function as fun, my_data as dat\n",
        "  \n",
        "result = fun(dat)"
      ],
      "metadata": {
        "id": "G4vZ7ZX28xbI"
      },
      "execution_count": null,
      "outputs": []
    },
    {
      "cell_type": "markdown",
      "source": [
        "# 1.2 Sección 2 – Módulos selectos de Python (math, random, platform)"
      ],
      "metadata": {
        "id": "ZS4qV_E2F5XA"
      }
    },
    {
      "cell_type": "code",
      "source": [
        "# Sintaxis para importar toda las funcioanlidades dentro de un modulo predeterminado\n",
        "dir(module)\n",
        "dir(math)"
      ],
      "metadata": {
        "colab": {
          "base_uri": "https://localhost:8080/"
        },
        "id": "9yxEADUO8xXm",
        "outputId": "991be656-c168-4d24-a954-9c5a68e095b1"
      },
      "execution_count": null,
      "outputs": [
        {
          "output_type": "execute_result",
          "data": {
            "text/plain": [
              "['__doc__',\n",
              " '__loader__',\n",
              " '__name__',\n",
              " '__package__',\n",
              " '__spec__',\n",
              " 'acos',\n",
              " 'acosh',\n",
              " 'asin',\n",
              " 'asinh',\n",
              " 'atan',\n",
              " 'atan2',\n",
              " 'atanh',\n",
              " 'ceil',\n",
              " 'comb',\n",
              " 'copysign',\n",
              " 'cos',\n",
              " 'cosh',\n",
              " 'degrees',\n",
              " 'dist',\n",
              " 'e',\n",
              " 'erf',\n",
              " 'erfc',\n",
              " 'exp',\n",
              " 'expm1',\n",
              " 'fabs',\n",
              " 'factorial',\n",
              " 'floor',\n",
              " 'fmod',\n",
              " 'frexp',\n",
              " 'fsum',\n",
              " 'gamma',\n",
              " 'gcd',\n",
              " 'hypot',\n",
              " 'inf',\n",
              " 'isclose',\n",
              " 'isfinite',\n",
              " 'isinf',\n",
              " 'isnan',\n",
              " 'isqrt',\n",
              " 'lcm',\n",
              " 'ldexp',\n",
              " 'lgamma',\n",
              " 'log',\n",
              " 'log10',\n",
              " 'log1p',\n",
              " 'log2',\n",
              " 'modf',\n",
              " 'nan',\n",
              " 'nextafter',\n",
              " 'perm',\n",
              " 'pi',\n",
              " 'pow',\n",
              " 'prod',\n",
              " 'radians',\n",
              " 'remainder',\n",
              " 'sin',\n",
              " 'sinh',\n",
              " 'sqrt',\n",
              " 'tan',\n",
              " 'tanh',\n",
              " 'tau',\n",
              " 'trunc',\n",
              " 'ulp']"
            ]
          },
          "metadata": {},
          "execution_count": 44
        }
      ]
    },
    {
      "cell_type": "code",
      "source": [
        "dir(math)"
      ],
      "metadata": {
        "colab": {
          "base_uri": "https://localhost:8080/"
        },
        "id": "OEtzriZ_8xVh",
        "outputId": "596f53e2-8b67-4f07-9892-8641db5488f0"
      },
      "execution_count": null,
      "outputs": [
        {
          "output_type": "execute_result",
          "data": {
            "text/plain": [
              "['__doc__',\n",
              " '__loader__',\n",
              " '__name__',\n",
              " '__package__',\n",
              " '__spec__',\n",
              " 'acos',\n",
              " 'acosh',\n",
              " 'asin',\n",
              " 'asinh',\n",
              " 'atan',\n",
              " 'atan2',\n",
              " 'atanh',\n",
              " 'ceil',\n",
              " 'comb',\n",
              " 'copysign',\n",
              " 'cos',\n",
              " 'cosh',\n",
              " 'degrees',\n",
              " 'dist',\n",
              " 'e',\n",
              " 'erf',\n",
              " 'erfc',\n",
              " 'exp',\n",
              " 'expm1',\n",
              " 'fabs',\n",
              " 'factorial',\n",
              " 'floor',\n",
              " 'fmod',\n",
              " 'frexp',\n",
              " 'fsum',\n",
              " 'gamma',\n",
              " 'gcd',\n",
              " 'hypot',\n",
              " 'inf',\n",
              " 'isclose',\n",
              " 'isfinite',\n",
              " 'isinf',\n",
              " 'isnan',\n",
              " 'isqrt',\n",
              " 'lcm',\n",
              " 'ldexp',\n",
              " 'lgamma',\n",
              " 'log',\n",
              " 'log10',\n",
              " 'log1p',\n",
              " 'log2',\n",
              " 'modf',\n",
              " 'nan',\n",
              " 'nextafter',\n",
              " 'perm',\n",
              " 'pi',\n",
              " 'pow',\n",
              " 'prod',\n",
              " 'radians',\n",
              " 'remainder',\n",
              " 'sin',\n",
              " 'sinh',\n",
              " 'sqrt',\n",
              " 'tan',\n",
              " 'tanh',\n",
              " 'tau',\n",
              " 'trunc',\n",
              " 'ulp']"
            ]
          },
          "metadata": {},
          "execution_count": 45
        }
      ]
    },
    {
      "cell_type": "code",
      "source": [
        "import math\n",
        "  \n",
        "for name in dir(math):\n",
        "  print(name, end=\"/t\")\n",
        "\n",
        "# A decir verdad creo que es más eficiente usar la siguiente instrucción \n",
        "dir(math)"
      ],
      "metadata": {
        "colab": {
          "base_uri": "https://localhost:8080/"
        },
        "id": "08uYcksc8xTX",
        "outputId": "f2d07324-b4aa-4593-a2d9-cf8b3d143a0a"
      },
      "execution_count": null,
      "outputs": [
        {
          "output_type": "stream",
          "name": "stdout",
          "text": [
            "__doc__/t__loader__/t__name__/t__package__/t__spec__/tacos/tacosh/tasin/tasinh/tatan/tatan2/tatanh/tceil/tcomb/tcopysign/tcos/tcosh/tdegrees/tdist/te/terf/terfc/texp/texpm1/tfabs/tfactorial/tfloor/tfmod/tfrexp/tfsum/tgamma/tgcd/thypot/tinf/tisclose/tisfinite/tisinf/tisnan/tisqrt/tlcm/tldexp/tlgamma/tlog/tlog10/tlog1p/tlog2/tmodf/tnan/tnextafter/tperm/tpi/tpow/tprod/tradians/tremainder/tsin/tsinh/tsqrt/ttan/ttanh/ttau/ttrunc/tulp/t"
          ]
        }
      ]
    },
    {
      "cell_type": "markdown",
      "source": [
        "El código del ejemplo debería producir el siguiente resultado:\n",
        "\n",
        "__doc__ __loader__ __name__ __package__ __spec__ acos acosh asin asinh atan atan2\n",
        "atan2 atanh ceil copysign cos cosh degrees e erf erfc exp expm1 fabs factorial floor\n",
        "fmod frexp fsum gamma hypot isfinite isinf isnan ldexp lgamma log log10 log1p\n",
        "log2 modf pi pow radians sin sinh sqrt tan tanh trunc"
      ],
      "metadata": {
        "id": "BzvRjaHWI98N"
      }
    },
    {
      "cell_type": "code",
      "source": [
        "import math\n",
        "dir(math)"
      ],
      "metadata": {
        "colab": {
          "base_uri": "https://localhost:8080/"
        },
        "id": "fFC6UJoH8xRm",
        "outputId": "28ffb981-0194-4880-b7e4-cd167590c2d3"
      },
      "execution_count": null,
      "outputs": [
        {
          "output_type": "execute_result",
          "data": {
            "text/plain": [
              "['__doc__',\n",
              " '__loader__',\n",
              " '__name__',\n",
              " '__package__',\n",
              " '__spec__',\n",
              " 'acos',\n",
              " 'acosh',\n",
              " 'asin',\n",
              " 'asinh',\n",
              " 'atan',\n",
              " 'atan2',\n",
              " 'atanh',\n",
              " 'ceil',\n",
              " 'comb',\n",
              " 'copysign',\n",
              " 'cos',\n",
              " 'cosh',\n",
              " 'degrees',\n",
              " 'dist',\n",
              " 'e',\n",
              " 'erf',\n",
              " 'erfc',\n",
              " 'exp',\n",
              " 'expm1',\n",
              " 'fabs',\n",
              " 'factorial',\n",
              " 'floor',\n",
              " 'fmod',\n",
              " 'frexp',\n",
              " 'fsum',\n",
              " 'gamma',\n",
              " 'gcd',\n",
              " 'hypot',\n",
              " 'inf',\n",
              " 'isclose',\n",
              " 'isfinite',\n",
              " 'isinf',\n",
              " 'isnan',\n",
              " 'isqrt',\n",
              " 'lcm',\n",
              " 'ldexp',\n",
              " 'lgamma',\n",
              " 'log',\n",
              " 'log10',\n",
              " 'log1p',\n",
              " 'log2',\n",
              " 'modf',\n",
              " 'nan',\n",
              " 'nextafter',\n",
              " 'perm',\n",
              " 'pi',\n",
              " 'pow',\n",
              " 'prod',\n",
              " 'radians',\n",
              " 'remainder',\n",
              " 'sin',\n",
              " 'sinh',\n",
              " 'sqrt',\n",
              " 'tan',\n",
              " 'tanh',\n",
              " 'tau',\n",
              " 'trunc',\n",
              " 'ulp']"
            ]
          },
          "metadata": {},
          "execution_count": 50
        }
      ]
    },
    {
      "cell_type": "code",
      "source": [
        "from math import pi, radians, degrees, sin, cos, tan, asin\n",
        "\n",
        "ad = 90\n",
        "ar = radians(ad)\n",
        "ad = degrees(ar)\n",
        "\n",
        "print(ad == 90)\n",
        "print(ar == pi / 2.)\n",
        "print(sin(ar) / cos(ar) == tan(ar))\n",
        "print(asin(sin(ar)) == ar)\n",
        "    "
      ],
      "metadata": {
        "colab": {
          "base_uri": "https://localhost:8080/"
        },
        "id": "7pLJ4cX18xPW",
        "outputId": "bcd22cc5-1b5c-43c2-c4da-7fafd2568d6f"
      },
      "execution_count": null,
      "outputs": [
        {
          "output_type": "stream",
          "name": "stdout",
          "text": [
            "True\n",
            "True\n",
            "True\n",
            "True\n"
          ]
        }
      ]
    },
    {
      "cell_type": "markdown",
      "source": [
        "Además de las funciones circulares (enumeradas anteriormente), el módulo math también contiene un conjunto de sus análogos hiperbólicos:\n",
        "\n",
        "* sinh(x) → el seno hiperbólico.\n",
        "* cosh(x) → el coseno hiperbólico.\n",
        "* tanh(x) → la tangente hiperbólica.\n",
        "* asinh(x) → el arcoseno hiperbólico.\n",
        "* acosh(x) → el arcocoseno hiperbólico.\n",
        "* atanh(x) → el arcotangente hiperbólico.\n"
      ],
      "metadata": {
        "id": "qJJhKJv0OdWQ"
      }
    },
    {
      "cell_type": "markdown",
      "source": [
        "Existe otro grupo de las funciones math relacionadas con la exponenciación:\n",
        "\n",
        "* e → una constante con un valor que es una aproximación del número de Euler (e)\n",
        "* exp(x) → encontrar el valor de ex.\n",
        "* log(x) → el logaritmo natural de x.\n",
        "* log(x, b) → el logaritmo de x con base b.\n",
        "* log10(x) → el logaritmo decimal de x (más preciso que log(x, 10))\n",
        "* log2(x) → el logaritmo binario de x (más preciso que log(x, 2))\n",
        "Nota: la función pow():\n",
        "\n",
        "* pow(x, y) → fencuentra el valor de xy (toma en cuenta los dominios)."
      ],
      "metadata": {
        "id": "ql1iPJGwPZV_"
      }
    },
    {
      "cell_type": "code",
      "source": [
        "from math import e, exp, log\n",
        "\n",
        "print(pow(e, 1) == exp(log(e)))\n",
        "print(pow(2, 2) == exp(2 * log(2)))\n",
        "print(log(e, e) == exp(0))\n"
      ],
      "metadata": {
        "colab": {
          "base_uri": "https://localhost:8080/"
        },
        "id": "1G41fMPv8xNY",
        "outputId": "57ab6492-57e8-4c79-9036-7727e6243594"
      },
      "execution_count": null,
      "outputs": [
        {
          "output_type": "stream",
          "name": "stdout",
          "text": [
            "True\n",
            "True\n",
            "True\n"
          ]
        }
      ]
    },
    {
      "cell_type": "markdown",
      "source": [
        "* ceil(x) → devuelve el entero más pequeño mayor o igual que x.\n",
        "* floor(x) → el entero más grande menor o igual que x.\n",
        "* trunc(x) → el valor de x truncado a un entero (ten cuidado, no es equivalente a ceil o floor).\n",
        "* factorial(x) → devuelve x! (x tiene que ser un valor entero y no negativo).\n",
        "* hypot(x, y) → devuelve la longitud de la hipotenusa de un triángulo rectángulo con las longitudes de los catetos iguales a (x) y (y) (lo mismo que sqrt(pow(x, 2) + pow(y, 2)) pero más preciso)."
      ],
      "metadata": {
        "id": "Qs4IatQaQUSd"
      }
    },
    {
      "cell_type": "code",
      "source": [
        "from math import ceil, floor, trunc\n",
        "\n",
        "x = 1.4\n",
        "y = 2.6\n",
        "\n",
        "print(floor(x), floor(y))\n",
        "print(floor(-x), floor(-y))\n",
        "print(ceil(x), ceil(y))\n",
        "print(ceil(-x), ceil(-y))\n",
        "print(trunc(x), trunc(y))\n",
        "print(trunc(-x), trunc(-y))"
      ],
      "metadata": {
        "colab": {
          "base_uri": "https://localhost:8080/"
        },
        "id": "8xfIs2-M8xKX",
        "outputId": "4b24135d-2d65-4b43-b708-1f3610222977"
      },
      "execution_count": null,
      "outputs": [
        {
          "output_type": "stream",
          "name": "stdout",
          "text": [
            "1 2\n",
            "-2 -3\n",
            "2 3\n",
            "-1 -2\n",
            "1 2\n",
            "-1 -2\n"
          ]
        }
      ]
    },
    {
      "cell_type": "code",
      "source": [
        "from random import random\n",
        "\n",
        "for i in range(5):\n",
        "    print(random())\n",
        "    "
      ],
      "metadata": {
        "colab": {
          "base_uri": "https://localhost:8080/"
        },
        "id": "d0WwqiIE8xIB",
        "outputId": "5ec046ff-edf3-4531-8c18-26fe1c77dabe"
      },
      "execution_count": null,
      "outputs": [
        {
          "output_type": "stream",
          "name": "stdout",
          "text": [
            "0.6229788141217332\n",
            "0.4143631819985615\n",
            "0.272865462308189\n",
            "0.4579871742410805\n",
            "0.9669052757333008\n"
          ]
        }
      ]
    },
    {
      "cell_type": "code",
      "source": [
        "from random import random, seed\n",
        "\n",
        "seed(0)\n",
        "\n",
        "for i in range(5):\n",
        "    print(random())\n",
        "    "
      ],
      "metadata": {
        "id": "DTUtpl_y8xF8",
        "colab": {
          "base_uri": "https://localhost:8080/"
        },
        "outputId": "639d721f-eadc-4738-ff32-3b70c3f69392"
      },
      "execution_count": 58,
      "outputs": [
        {
          "output_type": "stream",
          "name": "stdout",
          "text": [
            "0.8444218515250481\n",
            "0.7579544029403025\n",
            "0.420571580830845\n",
            "0.25891675029296335\n",
            "0.5112747213686085\n"
          ]
        }
      ]
    },
    {
      "cell_type": "code",
      "source": [],
      "metadata": {
        "id": "9mOkDHQzYXnU"
      },
      "execution_count": null,
      "outputs": []
    },
    {
      "cell_type": "code",
      "source": [],
      "metadata": {
        "id": "xIOCWbCzYXkx"
      },
      "execution_count": null,
      "outputs": []
    },
    {
      "cell_type": "code",
      "source": [],
      "metadata": {
        "id": "jAyvQlxvYXh_"
      },
      "execution_count": null,
      "outputs": []
    },
    {
      "cell_type": "code",
      "source": [],
      "metadata": {
        "id": "rvtv61AMYXfv"
      },
      "execution_count": null,
      "outputs": []
    },
    {
      "cell_type": "code",
      "source": [],
      "metadata": {
        "id": "vWX000pvYXdM"
      },
      "execution_count": null,
      "outputs": []
    },
    {
      "cell_type": "code",
      "source": [],
      "metadata": {
        "id": "9nlFVJt9YXa5"
      },
      "execution_count": null,
      "outputs": []
    },
    {
      "cell_type": "code",
      "source": [],
      "metadata": {
        "id": "KS74LiBTYXYU"
      },
      "execution_count": null,
      "outputs": []
    },
    {
      "cell_type": "code",
      "source": [],
      "metadata": {
        "id": "SqJBUi4gYXWC"
      },
      "execution_count": null,
      "outputs": []
    },
    {
      "cell_type": "code",
      "source": [],
      "metadata": {
        "id": "hz-4Vbg0YXTe"
      },
      "execution_count": null,
      "outputs": []
    },
    {
      "cell_type": "code",
      "source": [],
      "metadata": {
        "id": "UAPBSdCPYXRK"
      },
      "execution_count": null,
      "outputs": []
    },
    {
      "cell_type": "code",
      "source": [],
      "metadata": {
        "id": "jwiqG-gMYXOs"
      },
      "execution_count": null,
      "outputs": []
    },
    {
      "cell_type": "code",
      "source": [],
      "metadata": {
        "id": "ch0gxZ21YXMT"
      },
      "execution_count": null,
      "outputs": []
    },
    {
      "cell_type": "code",
      "source": [],
      "metadata": {
        "id": "W8SrptI0YXI6"
      },
      "execution_count": null,
      "outputs": []
    },
    {
      "cell_type": "code",
      "source": [],
      "metadata": {
        "id": "7HFKD_szYXFP"
      },
      "execution_count": null,
      "outputs": []
    },
    {
      "cell_type": "code",
      "source": [],
      "metadata": {
        "id": "nW3pVtu_YXCw"
      },
      "execution_count": null,
      "outputs": []
    },
    {
      "cell_type": "code",
      "source": [],
      "metadata": {
        "id": "PjxqX13jYXAc"
      },
      "execution_count": null,
      "outputs": []
    },
    {
      "cell_type": "code",
      "source": [],
      "metadata": {
        "id": "c-jffmbLYW90"
      },
      "execution_count": null,
      "outputs": []
    },
    {
      "cell_type": "code",
      "source": [],
      "metadata": {
        "id": "P7-mZ899YW7f"
      },
      "execution_count": null,
      "outputs": []
    },
    {
      "cell_type": "code",
      "source": [],
      "metadata": {
        "id": "1u-6VZIZYW5D"
      },
      "execution_count": null,
      "outputs": []
    },
    {
      "cell_type": "code",
      "source": [],
      "metadata": {
        "id": "jULhJGJWYW1B"
      },
      "execution_count": null,
      "outputs": []
    },
    {
      "cell_type": "code",
      "source": [],
      "metadata": {
        "id": "wp_YOSijYWyU"
      },
      "execution_count": null,
      "outputs": []
    },
    {
      "cell_type": "code",
      "source": [],
      "metadata": {
        "id": "6MEg86RfYWwL"
      },
      "execution_count": null,
      "outputs": []
    },
    {
      "cell_type": "code",
      "source": [],
      "metadata": {
        "id": "XYSImt3BYWto"
      },
      "execution_count": null,
      "outputs": []
    },
    {
      "cell_type": "code",
      "source": [],
      "metadata": {
        "id": "PgDj6tHU8xEA"
      },
      "execution_count": null,
      "outputs": []
    },
    {
      "cell_type": "code",
      "source": [],
      "metadata": {
        "id": "INHsgfsC8xBv"
      },
      "execution_count": null,
      "outputs": []
    },
    {
      "cell_type": "code",
      "source": [],
      "metadata": {
        "id": "cv4OkxKMJxsR"
      },
      "execution_count": null,
      "outputs": []
    }
  ]
}