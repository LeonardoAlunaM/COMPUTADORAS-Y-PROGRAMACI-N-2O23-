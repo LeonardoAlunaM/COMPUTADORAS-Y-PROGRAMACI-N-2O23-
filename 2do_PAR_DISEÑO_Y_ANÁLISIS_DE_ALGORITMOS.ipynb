{
  "nbformat": 4,
  "nbformat_minor": 0,
  "metadata": {
    "colab": {
      "provenance": [],
      "authorship_tag": "ABX9TyOPJmE6MxnvvXNFT6ry2jII",
      "include_colab_link": true
    },
    "kernelspec": {
      "name": "python3",
      "display_name": "Python 3"
    },
    "language_info": {
      "name": "python"
    }
  },
  "cells": [
    {
      "cell_type": "markdown",
      "metadata": {
        "id": "view-in-github",
        "colab_type": "text"
      },
      "source": [
        "<a href=\"https://colab.research.google.com/github/LeonardoAlunaM/COMPUTADORAS-Y-PROGRAMACI-N-2O23-/blob/main-COMPUTADORAS-Y-PROGTRAMACI%C3%93N-2023/2do_PAR_DISE%C3%91O_Y_AN%C3%81LISIS_DE_ALGORITMOS.ipynb\" target=\"_parent\"><img src=\"https://colab.research.google.com/assets/colab-badge.svg\" alt=\"Open In Colab\"/></a>"
      ]
    },
    {
      "cell_type": "code",
      "execution_count": null,
      "metadata": {
        "id": "uJqKudVoNMK1"
      },
      "outputs": [],
      "source": [
        "class Nodo:\n",
        "    def __init__(self,datos,hijos = None):\n",
        "        self.datos = datos\n",
        "        self.hijos = hijos\n",
        "        self.padre = None\n",
        "    def set_hijos(self, hijos):\n",
        "        self.hijos = hijos\n",
        "        if(self.hijos = None):\n",
        "            for hij in self.hijos:\n",
        "                hij.padre = self\n",
        "    def get_hijos(self):\n",
        "        return self.hijos\n",
        ""
      ]
    }
  ]
}