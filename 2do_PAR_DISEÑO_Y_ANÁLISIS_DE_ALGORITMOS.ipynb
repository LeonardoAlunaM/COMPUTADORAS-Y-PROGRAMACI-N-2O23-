{
  "nbformat": 4,
  "nbformat_minor": 0,
  "metadata": {
    "colab": {
      "provenance": [],
      "authorship_tag": "ABX9TyONCyn6R46GCW+QcJoqSDpK",
      "include_colab_link": true
    },
    "kernelspec": {
      "name": "python3",
      "display_name": "Python 3"
    },
    "language_info": {
      "name": "python"
    }
  },
  "cells": [
    {
      "cell_type": "markdown",
      "metadata": {
        "id": "view-in-github",
        "colab_type": "text"
      },
      "source": [
        "<a href=\"https://colab.research.google.com/github/LeonardoAlunaM/COMPUTADORAS-Y-PROGRAMACI-N-2O23-/blob/main-COMPUTADORAS-Y-PROGTRAMACI%C3%93N-2023/2do_PAR_DISE%C3%91O_Y_AN%C3%81LISIS_DE_ALGORITMOS.ipynb\" target=\"_parent\"><img src=\"https://colab.research.google.com/assets/colab-badge.svg\" alt=\"Open In Colab\"/></a>"
      ]
    },
    {
      "cell_type": "markdown",
      "source": [
        "# Algoritmo de burbuja  \n",
        "Vamos a mostrar un algoritmo muy simple, fácil de entender, pero desafortunadamente, tampoco es muy eficiente. Se usa muy raramente, y ciertamente no para listas extensas.\n",
        "Digamos que una lista se puede ordenar de dos maneras:\n",
        "ascendente (o más precisamente - no descendente) - si en cada par de elementos adyacentes, el primer elemento no es mayor que el segundo;\n",
        "descendente (o más precisamente - no ascendente) - si en cada par de elementos adyacentes, el primer elemento no es menor que el segundo.\n",
        "\n",
        "\n",
        "Intentaremos utilizar el siguiente enfoque: tomaremos el primer y el segundo elemento y los compararemos; si determinamos que están en el orden incorrecto (es decir, el primero es mayor que el segundo), los intercambiaremos; si su orden es válido, no haremos nada. Un vistazo a nuestra lista confirma lo último - los elementos 01 y 02 están en el orden correcto, así como 8<10.\n",
        "Ahora observa el segundo y el tercer elemento. Están en las posiciones equivocadas. Tenemos que intercambiarlos:\n",
        "\n",
        "\n",
        "\n",
        "8\n",
        "6\n",
        "10\n",
        "2\n",
        "4\n",
        "\n",
        "Vamos más allá y observemos los elementos tercero y cuarto. Una vez más, esto no es lo que se supone que es. Tenemos que intercambiarlos:\n",
        "8\n",
        "6\n",
        "2\n",
        "10\n",
        "4\n",
        "\n",
        "Ahora comprobemos los elementos cuarto y quinto. Si, ellos también están en las posiciones equivocadas. Ocurre otro intercambio:\n",
        "8\n",
        "6\n",
        "2\n",
        "4\n",
        "10\n",
        "\n",
        "El primer paso a través de la lista ya está terminado. Todavía estamos lejos de terminar nuestro trabajo, pero algo curioso ha sucedido mientras tanto. El elemento más grande, 10, ya ha llegado al final de la lista. Ten en cuenta que este es el lugar deseado para el. Todos los elementos restantes forman un lío pintoresco, pero este ya está en su lugar.\n",
        "Ahora, por un momento, intenta imaginar la lista de una manera ligeramente diferente - es decir, de esta manera:\n",
        "10\n",
        "4\n",
        "2\n",
        "6\n",
        "8\n",
        "\n",
        "Observa - El 10 está en la parte superior. Podríamos decir que flotó desde el fondo hasta la superficie, al igual que las burbujas en una copa de champán. El método de clasificación deriva su nombre de la misma observación - se denomina ordenamiento burbuja.\n",
        "Ahora comenzamos con el segundo paso a través de la lista. Miramos el primer y el segundo elemento - es necesario un intercambio:\n",
        "6\n",
        "8\n",
        "2\n",
        "4\n",
        "10\n",
        "\n",
        "Es hora del segundo y tercer elemento: también tenemos que intercambiarlos:\n",
        "6\n",
        "2\n",
        "8\n",
        "4\n",
        "10\n",
        "\n",
        "Ahora el tercer y cuarto elementos, y la segunda pasada, se completa, ya que 8 ya está en su lugar:\n",
        "6\n",
        "2\n",
        "4\n",
        "8\n",
        "10\n",
        "\n",
        "Comenzamos el siguiente pase inmediatamente. Observa atentamente el primer y el segundo elemento - se necesita otro cambio:\n",
        "2\n",
        "6\n",
        "4\n",
        "8\n",
        "10\n",
        "\n",
        "Ahora 6 necesita ir a su lugar. Cambiamos el segundo y el tercer elemento:\n",
        "2\n",
        "4\n",
        "6\n",
        "8\n",
        "10\n",
        "\n",
        "La lista ya está ordenada. No tenemos nada más que hacer. Esto es exactamente lo que queremos.\n",
        "Como puedes ver, la esencia de este algoritmo es simple: comparamos los elementos adyacentes y, al intercambiar algunos de ellos, logramos nuestro objetivo.\n",
        "\n"
      ],
      "metadata": {
        "id": "GGQE9RloQs_Q"
      }
    },
    {
      "cell_type": "code",
      "source": [
        "# Algoritmo de burbuja, escrito por mí\n",
        "\n",
        "def bubble_sort(arr):\n",
        "    n = len(arr)\n",
        "\n",
        "    # Itera a través de todos los elementos en la lista\n",
        "    for i in range(n):\n",
        "        # El último 'i' elementos ya están en su lugar, así que no es necesario compararlos\n",
        "        for j in range(0, n-i-1):\n",
        "            # Compara elementos adyacentes y si están en el orden incorrecto, los intercambia\n",
        "            if arr[j] > arr[j+1]:\n",
        "                arr[j], arr[j+1] = arr[j+1], arr[j]\n",
        "\n",
        "# Ejemplo de uso\n",
        "if __name__ == \"__main__\":\n",
        "    # Lista de números desordenados\n",
        "    numeros = [64, 34, 25, 12, 22, 11, 90]\n",
        "\n",
        "    print(\"Lista original:\")\n",
        "    print(numeros)\n",
        "\n",
        "    # Llama a la función de ordenamiento burbuja\n",
        "    bubble_sort(numeros)\n",
        "\n",
        "    print(\"Lista ordenada:\")\n",
        "    print(numeros)\n"
      ],
      "metadata": {
        "colab": {
          "base_uri": "https://localhost:8080/"
        },
        "id": "zx0wUWcFOw__",
        "outputId": "a3f615fa-53fe-404d-ef7d-2688bce987e2"
      },
      "execution_count": 1,
      "outputs": [
        {
          "output_type": "stream",
          "name": "stdout",
          "text": [
            "Lista original:\n",
            "[64, 34, 25, 12, 22, 11, 90]\n",
            "Lista ordenada:\n",
            "[11, 12, 22, 25, 34, 64, 90]\n"
          ]
        }
      ]
    },
    {
      "cell_type": "code",
      "source": [
        "my_list = [8, 10, 6, 2, 4]  # lista a ordenar\n",
        "\n",
        "for i in range(len(my_list) - 1):  # necesitamos (5 - 1) comparaciones\n",
        "    if my_list[i] > my_list[i + 1]:  # compara elementos adyacentes\n",
        "        my_list[i], my_list[i + 1] = my_list[i + 1], my_list[i]  # Si terminamos aquí, tenemos que intercambiar elementos."
      ],
      "metadata": {
        "id": "r39CEdJlRveF"
      },
      "execution_count": 2,
      "outputs": []
    },
    {
      "cell_type": "code",
      "source": [
        "# Algoritmo de burbuja, sumamente más simplificado\n",
        "\n",
        "my_list = [8, 10, 6, 2, 4]  # lista a ordenar\n",
        "swapped = True  # Lo necesitamos verdadero (True) para ingresar al bucle while.\n",
        "\n",
        "while swapped:\n",
        "    swapped = False  # no hay intercambios hasta ahora\n",
        "    for i in range(len(my_list) - 1):\n",
        "        if my_list[i] > my_list[i + 1]:\n",
        "            swapped = True  # ¡ocurrió el intercambio!\n",
        "            my_list[i], my_list[i + 1] = my_list[i + 1], my_list[i]\n",
        "\n",
        "print(my_list)"
      ],
      "metadata": {
        "colab": {
          "base_uri": "https://localhost:8080/"
        },
        "id": "eiU8lhI9R1TU",
        "outputId": "8e913b02-fc18-4560-a5e7-d2dc7d0fb2e6"
      },
      "execution_count": 3,
      "outputs": [
        {
          "output_type": "stream",
          "name": "stdout",
          "text": [
            "[2, 4, 6, 8, 10]\n"
          ]
        }
      ]
    },
    {
      "cell_type": "code",
      "source": [
        "# Ordenamiento de burbuja en el que el usuario puede agregar datos desde el teclado\n",
        "# Agrega la cantidad de datos a ordenar, y los datos que serán ordenados\n",
        "\n",
        "my_list = []\n",
        "swapped = True\n",
        "num = int(input(\"¿Cuántos elementos deseas ordenar?: \"))\n",
        "\n",
        "\n",
        "for i in range(num):\n",
        "    val = float(input(\"Ingresa un elemento de la lista: \"))\n",
        "    my_list.append(val)\n",
        "\n",
        "\n",
        "while swapped:\n",
        "    swapped = False\n",
        "    for i in range(len(my_list) - 1):\n",
        "        if my_list[i] > my_list[i + 1]:\n",
        "            swapped = True\n",
        "            my_list[i], my_list[i + 1] = my_list[i + 1], my_list[i]\n",
        "\n",
        "\n",
        "print(\"\\nOrdenada:\")\n",
        "print(my_list)\n"
      ],
      "metadata": {
        "colab": {
          "base_uri": "https://localhost:8080/"
        },
        "id": "kJCraqDnSY4M",
        "outputId": "086174bc-2c95-4cfd-c2c4-65fd44a30fe1"
      },
      "execution_count": 4,
      "outputs": [
        {
          "output_type": "stream",
          "name": "stdout",
          "text": [
            "¿Cuántos elementos deseas ordenar?: 4\n",
            "Ingresa un elemento de la lista: 1\n",
            "Ingresa un elemento de la lista: 5\n",
            "Ingresa un elemento de la lista: 3\n",
            "Ingresa un elemento de la lista: 9\n",
            "\n",
            "Ordenada:\n",
            "[1.0, 3.0, 5.0, 9.0]\n"
          ]
        }
      ]
    },
    {
      "cell_type": "code",
      "source": [],
      "metadata": {
        "id": "NvlpGnghTp_9"
      },
      "execution_count": null,
      "outputs": []
    },
    {
      "cell_type": "code",
      "source": [],
      "metadata": {
        "id": "O5ifMVSRTp8q"
      },
      "execution_count": null,
      "outputs": []
    },
    {
      "cell_type": "code",
      "source": [
        "# Algoritmo de selección"
      ],
      "metadata": {
        "id": "MxWodfFOTp6y"
      },
      "execution_count": null,
      "outputs": []
    },
    {
      "cell_type": "code",
      "source": [],
      "metadata": {
        "id": "KlEAsVTuTpt5"
      },
      "execution_count": null,
      "outputs": []
    },
    {
      "cell_type": "code",
      "source": [
        "# Algoritmo de iserción"
      ],
      "metadata": {
        "id": "jusEowiQTprx"
      },
      "execution_count": null,
      "outputs": []
    },
    {
      "cell_type": "code",
      "source": [],
      "metadata": {
        "id": "phydXtbXTpp6"
      },
      "execution_count": null,
      "outputs": []
    },
    {
      "cell_type": "code",
      "source": [
        "# Algoritmo de mezcla"
      ],
      "metadata": {
        "id": "Y7v6C2gHTpn1"
      },
      "execution_count": null,
      "outputs": []
    },
    {
      "cell_type": "code",
      "source": [],
      "metadata": {
        "id": "CCgeWGe6T1Uo"
      },
      "execution_count": null,
      "outputs": []
    },
    {
      "cell_type": "code",
      "source": [
        "# Algoritmo de Quickshort"
      ],
      "metadata": {
        "id": "JFxNxPJET1QL"
      },
      "execution_count": null,
      "outputs": []
    },
    {
      "cell_type": "code",
      "source": [],
      "metadata": {
        "id": "eYWpuUEzT76u"
      },
      "execution_count": null,
      "outputs": []
    },
    {
      "cell_type": "code",
      "source": [
        "# Algoritmo de arboles"
      ],
      "metadata": {
        "id": "YXhe7aRrT712"
      },
      "execution_count": null,
      "outputs": []
    },
    {
      "cell_type": "code",
      "source": [],
      "metadata": {
        "id": "c0CwjVBST-pq"
      },
      "execution_count": null,
      "outputs": []
    },
    {
      "cell_type": "code",
      "source": [
        "# Problemas con árboles"
      ],
      "metadata": {
        "id": "JMeWKNGQT-nh"
      },
      "execution_count": null,
      "outputs": []
    },
    {
      "cell_type": "code",
      "source": [],
      "metadata": {
        "id": "DMy2kMk_T-g7"
      },
      "execution_count": null,
      "outputs": []
    },
    {
      "cell_type": "code",
      "source": [
        "# Transformar algoritmos de recursividad con pila"
      ],
      "metadata": {
        "id": "4BesG85wUBP6"
      },
      "execution_count": null,
      "outputs": []
    },
    {
      "cell_type": "code",
      "source": [],
      "metadata": {
        "id": "Tbvlu1q5UBOD"
      },
      "execution_count": null,
      "outputs": []
    },
    {
      "cell_type": "code",
      "source": [],
      "metadata": {
        "id": "6Bvq16GBUBLr"
      },
      "execution_count": null,
      "outputs": []
    },
    {
      "cell_type": "code",
      "source": [],
      "metadata": {
        "id": "_nRtS356UBJt"
      },
      "execution_count": null,
      "outputs": []
    },
    {
      "cell_type": "markdown",
      "source": [
        "Algoritmos de ordenamiento\n",
        "funcion de complejidad\n",
        "mejor caso\n",
        "peor caso\n",
        "burbuja\n",
        "seleccion\n",
        "insercion\n",
        "mezcla\n",
        "quick sort\n",
        "------------------------------\n",
        "Árboles\n",
        "problemas con árboles\n",
        "Recursividad\n",
        "Problemas de recursividad\n",
        "Transformar algoritmos de recursividad con pila\n",
        "problema"
      ],
      "metadata": {
        "id": "gHXAQN3yQ2ph"
      }
    },
    {
      "cell_type": "code",
      "execution_count": null,
      "metadata": {
        "id": "uJqKudVoNMK1"
      },
      "outputs": [],
      "source": [
        "class Nodo:\n",
        "    def __init__(self,datos,hijos = None):\n",
        "        self.datos = datos\n",
        "        self.hijos = hijos\n",
        "        self.padre = None\n",
        "    def set_hijos(self, hijos):\n",
        "        self.hijos = hijos\n",
        "        if(self.hijos != None):  # Sin el signo de admiración el código devuelve el siguiente error \" SyntaxError: cannot assign to attribute here. Maybe you meant '==' instead of '='? \"\n",
        "            for hij in self.hijos:\n",
        "                hij.padre = self\n",
        "    def get_hijos(self):\n",
        "        return self.hijos\n",
        "    def get_padre(self):\n",
        "        return self.padre\n",
        "    def set_padre(self,padre):\n",
        "        self.padre = padre\n",
        "    def set_datos(self, datos):\n",
        "        self.datos = datos\n",
        "    def get_datos(self):\n",
        "        return self.datos\n",
        "    def igual(self, nodo):\n",
        "        if(self.get_datos()==nodo.get_datos()):\n",
        "            return True\n",
        "        else:\n",
        "            return False\n",
        "    def en_lista(self,lista_nodos):\n",
        "        esta_en_lista = False\n",
        "        for n in lista_nodos:\n",
        "            if self.igual(n):\n",
        "                esta_en_lista = True\n",
        "        return esta_en_lista\n",
        "    def _str_(self):\n",
        "        return str(self.get_datos())"
      ]
    },
    {
      "cell_type": "code",
      "source": [
        "def busqueda_amplitud(estado_inicial,solucion):\n",
        "    solucionado = False\n",
        "    nodos_visitados = []\n",
        "    nodos_pendientes = []\n",
        "    nodoInicial = Nodo(estado_inicial)\n",
        "    nodos_pendientes.append(nodoInicial)\n",
        "    while((not solucionado) and (len(nodos_pendientes) != 0 )):\n",
        "        nodo = nodos_pendientes.pop(0)\n",
        "        # Extraer el nodo y agregar a la tupla de nodo visitado\n",
        "        nodos_visitados.append(nodo)\n",
        "        if(nodo.get_datos()==solucion):\n",
        "            solucionado = True\n",
        "            return nodo\n",
        "        else:\n",
        "            dato_nodo = nodo.get_datos()\n",
        "            # Operación izquierda (x,x,1,4) en el árbol\n",
        "            hijo = [dato_nodo[1], dato_nodo[0], dato_nodo[2], dato_nodo[3]]\n",
        "            hijo_izq = Nodo(hijo)\n",
        "            if((not hijo_izq.en_lista(nodos_pendientes)) and (not hijo_izq.en_lista(nodos_visitados))):\n",
        "                nodos_pendientes.append(hijo_izq)\n",
        "            # Operación del centro (3,x,x,4)\n",
        "            hijo = [dato_nodo[0], dato_nodo[2], dato_nodo[1],dato_nodo[3]]\n",
        "            hijo_centro = Nodo(hijo)\n",
        "            if((not hijo_centro.en_lista(nodos_pendientes)) and (not hijo_centro.en_lista(nodos_visitados))):\n",
        "                nodos_pendientes.append(hijo_centro)\n",
        "            # Operación en el lado derecho del árbol (3,2,x,x)\n",
        "            hijo = [dato_nodo[0], dato_nodo[1], dato_nodo[3], dato_nodo[2]]\n",
        "            hijo_der = Nodo(hijo)\n",
        "            if((not hijo_der.en_lista(nodos_pendientes)) and (not hijo_der.en_lista(nodos_visitados))):\n",
        "                nodos_pendientes.append(hijo_der)\n",
        "            nodo.set_hijos[[hijo_izq,hijo_centro,hijo_der]]\n"
      ],
      "metadata": {
        "id": "ZrD0drcEoDFT"
      },
      "execution_count": null,
      "outputs": []
    },
    {
      "cell_type": "code",
      "source": [
        "if __name__ == \"__main__\":\n",
        "    estado_inicial = [3,2,1,4]\n",
        "    solucion = [3,2,1,4]\n",
        "    nodo_solucion = busqueda_amplitud(estado_inicial, solucion)\n",
        "    #resultados\n",
        "    resultado = []\n",
        "    nodo = nodo_solucion\n",
        "    while (nodo.get_padre()!= None):\n",
        "        resultado.append(nodo.get_datos())\n",
        "        nodo = nodo.get_padre()\n",
        "    resultado.append(estado_inicial)\n",
        "    resultado.reverse()\n",
        "    print(resultado)"
      ],
      "metadata": {
        "colab": {
          "base_uri": "https://localhost:8080/"
        },
        "id": "-fkta_KAoDAr",
        "outputId": "f35768cb-7186-4c03-ebea-86a55bc83225"
      },
      "execution_count": null,
      "outputs": [
        {
          "output_type": "stream",
          "name": "stdout",
          "text": [
            "[[3, 2, 1, 4]]\n"
          ]
        }
      ]
    },
    {
      "cell_type": "code",
      "source": [],
      "metadata": {
        "id": "ZaPDjVn4VPbn"
      },
      "execution_count": null,
      "outputs": []
    },
    {
      "cell_type": "code",
      "source": [
        "# Analisis del algoritmo de busqueda binaria"
      ],
      "metadata": {
        "id": "_zPCsHGOVPaG"
      },
      "execution_count": null,
      "outputs": []
    },
    {
      "cell_type": "code",
      "source": [],
      "metadata": {
        "id": "bY2K8SqHoC_R"
      },
      "execution_count": null,
      "outputs": []
    },
    {
      "cell_type": "code",
      "source": [
        "# Algoritmo recursivo busqueda binaria"
      ],
      "metadata": {
        "id": "ejCMxvF1VUMF"
      },
      "execution_count": null,
      "outputs": []
    },
    {
      "cell_type": "code",
      "source": [],
      "metadata": {
        "id": "uEMmwChBV8hU"
      },
      "execution_count": null,
      "outputs": []
    },
    {
      "cell_type": "code",
      "source": [
        "# Algoritmo recursivo"
      ],
      "metadata": {
        "id": "kWuB08BNV8e0"
      },
      "execution_count": null,
      "outputs": []
    },
    {
      "cell_type": "code",
      "source": [],
      "metadata": {
        "id": "6kq4klGCVYLZ"
      },
      "execution_count": null,
      "outputs": []
    },
    {
      "cell_type": "code",
      "source": [
        "# Consideraciones sobre el algoritmo recursivo / iterativo"
      ],
      "metadata": {
        "id": "x4aHxQpUVYJg"
      },
      "execution_count": null,
      "outputs": []
    },
    {
      "cell_type": "code",
      "source": [],
      "metadata": {
        "id": "MIsOapsoVYHD"
      },
      "execution_count": null,
      "outputs": []
    },
    {
      "cell_type": "code",
      "source": [
        "#  Algoritmo recursivo / Iterativo"
      ],
      "metadata": {
        "id": "hXtrh90NWFYh"
      },
      "execution_count": null,
      "outputs": []
    },
    {
      "cell_type": "code",
      "source": [],
      "metadata": {
        "id": "EnEW19viWFWc"
      },
      "execution_count": null,
      "outputs": []
    },
    {
      "cell_type": "code",
      "source": [
        "# Algoritmo iterativo"
      ],
      "metadata": {
        "id": "trxWw8EMWFUU"
      },
      "execution_count": null,
      "outputs": []
    },
    {
      "cell_type": "code",
      "source": [],
      "metadata": {
        "id": "sBZdDJNNWSCF"
      },
      "execution_count": null,
      "outputs": []
    },
    {
      "cell_type": "code",
      "source": [
        "# Algoritmo recursivo"
      ],
      "metadata": {
        "id": "GJ_DFzjjWRm3"
      },
      "execution_count": null,
      "outputs": []
    },
    {
      "cell_type": "code",
      "source": [],
      "metadata": {
        "id": "x_LbuPC_WRjs"
      },
      "execution_count": null,
      "outputs": []
    },
    {
      "cell_type": "code",
      "source": [
        "# Iteración contra recursión"
      ],
      "metadata": {
        "id": "ZcCvzz28WRhm"
      },
      "execution_count": null,
      "outputs": []
    },
    {
      "cell_type": "code",
      "source": [],
      "metadata": {
        "id": "6qmUUHUoWemV"
      },
      "execution_count": null,
      "outputs": []
    },
    {
      "cell_type": "code",
      "source": [
        "# Metodo recursivo"
      ],
      "metadata": {
        "id": "7Cu8fVD_WeM7"
      },
      "execution_count": null,
      "outputs": []
    },
    {
      "cell_type": "code",
      "source": [],
      "metadata": {
        "id": "Say29brOWlX1"
      },
      "execution_count": null,
      "outputs": []
    },
    {
      "cell_type": "code",
      "source": [
        "#"
      ],
      "metadata": {
        "id": "DHXgeY52WlU6"
      },
      "execution_count": null,
      "outputs": []
    },
    {
      "cell_type": "code",
      "source": [],
      "metadata": {
        "id": "zAWRiDcBWeKL"
      },
      "execution_count": null,
      "outputs": []
    },
    {
      "cell_type": "code",
      "source": [],
      "metadata": {
        "id": "erbVRDoSWeHa"
      },
      "execution_count": null,
      "outputs": []
    },
    {
      "cell_type": "code",
      "source": [],
      "metadata": {
        "id": "r2l_8MUYWFR8"
      },
      "execution_count": null,
      "outputs": []
    },
    {
      "cell_type": "code",
      "source": [
        "# Euclides extendido\n",
        "\n",
        "def Euclides_extendido(e, b):\n",
        "    if b == 0:\n",
        "        return e, 1, 0\n",
        "    else:\n",
        "        d, x, y = Euclides_extendido(b, e % b)\n",
        "        return d, y, x - (e // b) * y\n",
        "\n",
        "\n",
        "def sol_congruencia_lineal(e, b, m):\n",
        "    d, x, y = Euclides_extendido(e, m)\n",
        "    if b % d == 0:\n",
        "        x0 = (x * (b // d)) % m\n",
        "        solucion = [] # El valor D\n",
        "        for i in range(d):\n",
        "            solucion.append((x0 + i * (m // d)) % m)\n",
        "        return solucion\n",
        "    else:\n",
        "        return []\n",
        "\n",
        "\n",
        "# Ingresar los valores implicados en la solución de la congruencia lineal\n",
        "e = 127\n",
        "b = 1   # b = 1 por convención\n",
        "m = 25456  # m = n = módulo de la congruencia\n",
        "\n",
        "\n",
        "solucion = sol_congruencia_lineal(e, b, m)\n",
        "if solucion:\n",
        "    print(\"Las soluciones para la congruencia lineal {}D ≡ {} (mod {}) son:\".format(e, b, m))\n",
        "    for solution in solucion:\n",
        "        print(\"D ≡ {} (mod {})\".format(solucion, m))\n",
        "else:\n",
        "    print(\"No hay soluciones para la congruencia lineal {}D ≡ {} (mod {})\".format(e, b, m))"
      ],
      "metadata": {
        "id": "EAlMgTRYfnJm"
      },
      "execution_count": null,
      "outputs": []
    },
    {
      "cell_type": "code",
      "source": [
        "# Para cifrar los datos\n",
        "((M)**e) % Mod # Ctrl + Enter\n"
      ],
      "metadata": {
        "id": "uJtHnguTfvkQ"
      },
      "execution_count": null,
      "outputs": []
    },
    {
      "cell_type": "code",
      "source": [
        "# Para descifrar los datos\n",
        "((C)**D) % Mod # Ctrl + Enter"
      ],
      "metadata": {
        "id": "_6eUSMIOfwRh"
      },
      "execution_count": null,
      "outputs": []
    },
    {
      "cell_type": "code",
      "source": [],
      "metadata": {
        "id": "v_TTmSUNfnHc"
      },
      "execution_count": null,
      "outputs": []
    },
    {
      "cell_type": "code",
      "source": [
        "# Factorial, nuevamente"
      ],
      "metadata": {
        "id": "qU4Ph7x5QVOb"
      },
      "execution_count": null,
      "outputs": []
    },
    {
      "cell_type": "code",
      "source": [
        "# Función de suma aritmetica ( La que yo he usado durante muchos años )\n",
        "\n",
        "# Programa que calcula las horas que faltan para que se acabe el año\n",
        "# Aún me faltaría agregar una regla que determinara el número de horas en función del día presente\n",
        "# Agregar una función calendario a la larga :V, osea después\n",
        "# En función de la hora inicial ( El mal llamado presente)\n",
        "hora_1 = int(input(\"Ingrese el número de horas que faltan para que se acabe el año:  \"))\n",
        "if 0 <= hora_1 <= 8760:  ##Condicional 1    # Rango valido de horas en un año normal, no bisiesto\n",
        "    for i in range(365): # Días en un año == número de iteraciones que se llevana cabo durante el programa\n",
        "        hora_1 -= 24     # El valor ingresado por el usuario, -24 horas, en cada iteración\n",
        "        if hora_1 >= 0:  ##Condicional 2    # Solo aquellos valores de hora_1 -=24 >= (mayores que ) 0, son impresos en consola\n",
        "            print(f\"Horas que faltan para que se acabe el año: {hora_1} horas.\") # Desconozco si todos los valores del intervalo son calculados, en todo caso solo se imprimen\n",
        "else: # aquellos cuyo valor es mayor a 0\n",
        "    print(\"Revisa el número de horas que faltan para terminar el año\")\n",
        "\n",
        "# Este código ya funciona según como se espera, pero sigue siendo muy simple"
      ],
      "metadata": {
        "id": "CSp4DAe6Wu0m"
      },
      "execution_count": null,
      "outputs": []
    },
    {
      "cell_type": "code",
      "source": [
        "\n",
        "# Programa que calcula las horas que faltan para que se acabe el año\n",
        "# Aún me faltaría agregar una regla que determinara el número de horas en función del día presente\n",
        "# Agregar una función calendario a la larga :V, osea después\n",
        "# En función de la hora inicial ( El mal llamado presente)\n",
        "hora_1 = int(input(\"Ingrese el número de horas que faltan para que se acabe el año:  \"))\n",
        "if 0 <= hora_1 <= 8760:  ##Condicional 1    # Rango valido de horas en un año normal, no bisiesto\n",
        "    for i in range(365): # Días en un año == número de iteraciones que se llevana cabo durante el programa\n",
        "        hora_1 -= 24     # El valor ingresado por el usuario, -24 horas, en cada iteración\n",
        "        if hora_1 >= 0:  ##Condicional 2    # Solo aquellos valores de hora_1 -=24 >= (mayores que ) 0, son impresos en consola\n",
        "            print(f\"Horas que faltan para que se acabe el año: {hora_1} horas.\") # Desconozco si todos los valores del intervalo son calculados, en todo caso solo se imprimen\n",
        "else: # aquellos cuyo valor es mayor a 0\n",
        "    print(\"Revisa el número de horas que faltan para terminar el año\")\n",
        "\n",
        "# Este código ya funciona según como se espera, pero sigue siendo muy simple"
      ],
      "metadata": {
        "id": "jq8O5Kq0_xxL"
      },
      "execution_count": null,
      "outputs": []
    },
    {
      "cell_type": "code",
      "source": [],
      "metadata": {
        "id": "E0WZxyqcW0vg"
      },
      "execution_count": null,
      "outputs": []
    },
    {
      "cell_type": "code",
      "source": [
        "# Sucesión de fibonacci ( metodo recursivo e iterativo )"
      ],
      "metadata": {
        "id": "isb4p6I9W02b"
      },
      "execution_count": null,
      "outputs": []
    },
    {
      "cell_type": "code",
      "source": [],
      "metadata": {
        "id": "zee4oqutW7um"
      },
      "execution_count": null,
      "outputs": []
    },
    {
      "cell_type": "code",
      "source": [
        "# Recursivo, busqueda binaria"
      ],
      "metadata": {
        "id": "dAGAZuyKW7yg"
      },
      "execution_count": null,
      "outputs": []
    },
    {
      "cell_type": "code",
      "source": [],
      "metadata": {
        "id": "HXpfskT9XEsd"
      },
      "execution_count": null,
      "outputs": []
    },
    {
      "cell_type": "code",
      "source": [
        "# Transformar algoritmos de recursividad con pila"
      ],
      "metadata": {
        "id": "0te5Y0hQXEoy"
      },
      "execution_count": null,
      "outputs": []
    },
    {
      "cell_type": "code",
      "source": [],
      "metadata": {
        "id": "WP08tQ9nWuyM"
      },
      "execution_count": null,
      "outputs": []
    },
    {
      "cell_type": "code",
      "source": [],
      "metadata": {
        "id": "gJkhsJlVWuNi"
      },
      "execution_count": null,
      "outputs": []
    },
    {
      "cell_type": "code",
      "source": [
        "<!DOCTYPE html>\n",
        "<html>\n",
        "<head>\n",
        "    <meta charset=\"UTF-8\">\n",
        "    <title>Pushpin Example</title>\n",
        "    <!-- Incluye los archivos CSS y JavaScript de Materialize -->\n",
        "    <link rel=\"stylesheet\" href=\"ruta/a/materialize.min.css\">\n",
        "    <script src=\"ruta/a/materialize.min.js\"></script>\n",
        "</head>\n",
        "<body>\n",
        "    <!-- Agrega un contenedor principal -->\n",
        "    <div class=\"container\">\n",
        "        <!-- Agrega un elemento con la clase pushpin -->\n",
        "\n",
        "        <div class=\"pushpin\" data-target=\"pushed-element\">\n",
        "            <!-- Contenido del pushpin -->\n",
        "            <nav>\n",
        "                <div class=\"nav-wrapper\">\n",
        "                    <a href=\"#!\" class=\"brand-logo\">Logo</a>\n",
        "                    <ul class=\"right hide-on-med-and-down\">\n",
        "                        <li><a href=\"#\">Item 1</a></li>\n",
        "                        <li><a href=\"#\">Item 2</a></li>\n",
        "                        <li><a href=\"#\">Item 3</a></li>\n",
        "                    </ul>\n",
        "                </div>\n",
        "            </nav>\n",
        "        </div>\n",
        "\n",
        "        <!-- Contenido principal -->\n",
        "        <div id=\"pushed-element\">\n",
        "            <h1>Título de la Página</h1>\n",
        "            <p>Contenido de la página.</p>\n",
        "        </div>\n",
        "    </div>\n",
        "\n",
        "    <!-- Inicializa el pushpin -->\n",
        "    <script>\n",
        "        document.addEventListener('DOMContentLoaded', function() {\n",
        "            var elems = document.querySelectorAll('.pushpin');\n",
        "            var instances = M.Pushpin.init(elems, {\n",
        "                top: 200 // Ajusta la posición en la que el pushpin se activa\n",
        "            });\n",
        "        });\n",
        "    </script>\n",
        "</body>\n",
        "</html>"
      ],
      "metadata": {
        "id": "Ut1tgeXIQVL1"
      },
      "execution_count": null,
      "outputs": []
    }
  ]
}