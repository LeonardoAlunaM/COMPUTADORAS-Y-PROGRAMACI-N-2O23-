{
  "nbformat": 4,
  "nbformat_minor": 0,
  "metadata": {
    "colab": {
      "provenance": [],
      "authorship_tag": "ABX9TyPkrE7ZjuKYy2Pv6B4wwg4T",
      "include_colab_link": true
    },
    "kernelspec": {
      "name": "python3",
      "display_name": "Python 3"
    },
    "language_info": {
      "name": "python"
    }
  },
  "cells": [
    {
      "cell_type": "markdown",
      "metadata": {
        "id": "view-in-github",
        "colab_type": "text"
      },
      "source": [
        "<a href=\"https://colab.research.google.com/github/LeonardoAlunaM/COMPUTADORAS-Y-PROGRAMACI-N-2O23-/blob/main-COMPUTADORAS-Y-PROGTRAMACI%C3%93N-2023/2do_PAR_DISE%C3%91O_Y_AN%C3%81LISIS_DE_ALGORITMOS.ipynb\" target=\"_parent\"><img src=\"https://colab.research.google.com/assets/colab-badge.svg\" alt=\"Open In Colab\"/></a>"
      ]
    },
    {
      "cell_type": "code",
      "execution_count": null,
      "metadata": {
        "id": "uJqKudVoNMK1"
      },
      "outputs": [],
      "source": [
        "class Nodo:\n",
        "    def __init__(self,datos,hijos = None):\n",
        "        self.datos = datos\n",
        "        self.hijos = hijos\n",
        "        self.padre = None\n",
        "    def set_hijos(self, hijos):\n",
        "        self.hijos = hijos\n",
        "        if(self.hijos = None):\n",
        "            for hij in self.hijos:\n",
        "                hij.padre = self\n",
        "    def get_hijos(self):\n",
        "        return self.hijos\n",
        "    def get_padre(self):\n",
        "        return self.padre\n",
        "    def set_padre(self,padre):\n",
        "        self.padre = padre\n",
        "    def set_datos(self, datos):\n",
        "        self.datos = datos\n",
        "    def get_datos(self):\n",
        "        return self.datos\n",
        "    def igual(self, nodo):\n",
        "        if(self.get_datos()==nodo.get_datis()):\n",
        "            return True\n",
        "        else:\n",
        "            return False\n",
        "    def en_lista(self,lista_nodos):\n",
        "        esta_en_lista = False\n",
        "        for n in lista_nodos:\n",
        "            if self.igual(n):\n",
        "                esta_en_lista = True\n",
        "        return esta_en_lista\n",
        "    def _str_(self):\n",
        "        return str(self.get_datos())\n",
        "\n"
      ]
    }
  ]
}