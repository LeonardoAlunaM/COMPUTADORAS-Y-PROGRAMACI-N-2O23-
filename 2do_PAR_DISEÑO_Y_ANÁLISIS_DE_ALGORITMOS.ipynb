{
  "nbformat": 4,
  "nbformat_minor": 0,
  "metadata": {
    "colab": {
      "provenance": [],
      "authorship_tag": "ABX9TyPbVYQ2Blr78N+Es1i13S/C",
      "include_colab_link": true
    },
    "kernelspec": {
      "name": "python3",
      "display_name": "Python 3"
    },
    "language_info": {
      "name": "python"
    }
  },
  "cells": [
    {
      "cell_type": "markdown",
      "metadata": {
        "id": "view-in-github",
        "colab_type": "text"
      },
      "source": [
        "<a href=\"https://colab.research.google.com/github/LeonardoAlunaM/COMPUTADORAS-Y-PROGRAMACI-N-2O23-/blob/main-COMPUTADORAS-Y-PROGTRAMACI%C3%93N-2023/2do_PAR_DISE%C3%91O_Y_AN%C3%81LISIS_DE_ALGORITMOS.ipynb\" target=\"_parent\"><img src=\"https://colab.research.google.com/assets/colab-badge.svg\" alt=\"Open In Colab\"/></a>"
      ]
    },
    {
      "cell_type": "markdown",
      "source": [
        "Algoritmos de ordenamiento\n",
        "funcion de complejidad\n",
        "mejor caso\n",
        "peor caso\n",
        "burbuja\n",
        "seleccion\n",
        "insercion\n",
        "mezcla\n",
        "quick sort\n",
        "------------------------------\n",
        "Árboles\n",
        "problemas con árboles\n",
        "Recursividad\n",
        "Problemas de recursividad\n",
        "Transformar algoritmos de recursividad con pila\n",
        "problema"
      ],
      "metadata": {
        "id": "gHXAQN3yQ2ph"
      }
    },
    {
      "cell_type": "code",
      "execution_count": 9,
      "metadata": {
        "id": "uJqKudVoNMK1"
      },
      "outputs": [],
      "source": [
        "class Nodo:\n",
        "    def __init__(self,datos,hijos = None):\n",
        "        self.datos = datos\n",
        "        self.hijos = hijos\n",
        "        self.padre = None\n",
        "    def set_hijos(self, hijos):\n",
        "        self.hijos = hijos\n",
        "        if(self.hijos != None):  # Sin el signo de admiración el código devuelve el siguiente error \" SyntaxError: cannot assign to attribute here. Maybe you meant '==' instead of '='? \"\n",
        "            for hij in self.hijos:\n",
        "                hij.padre = self\n",
        "    def get_hijos(self):\n",
        "        return self.hijos\n",
        "    def get_padre(self):\n",
        "        return self.padre\n",
        "    def set_padre(self,padre):\n",
        "        self.padre = padre\n",
        "    def set_datos(self, datos):\n",
        "        self.datos = datos\n",
        "    def get_datos(self):\n",
        "        return self.datos\n",
        "    def igual(self, nodo):\n",
        "        if(self.get_datos()==nodo.get_datos()):\n",
        "            return True\n",
        "        else:\n",
        "            return False\n",
        "    def en_lista(self,lista_nodos):\n",
        "        esta_en_lista = False\n",
        "        for n in lista_nodos:\n",
        "            if self.igual(n):\n",
        "                esta_en_lista = True\n",
        "        return esta_en_lista\n",
        "    def _str_(self):\n",
        "        return str(self.get_datos())"
      ]
    },
    {
      "cell_type": "code",
      "source": [
        "def busqueda_amplitud(estado_inicial,solucion):\n",
        "    solucionado = False\n",
        "    nodos_visitados = []\n",
        "    nodos_pendientes = []\n",
        "    nodoInicial = Nodo(estado_inicial)\n",
        "    nodos_pendientes.append(nodoInicial)\n",
        "    while((not solucionado) and (len(nodos_pendientes) != 0 )):\n",
        "        nodo = nodos_pendientes.pop(0)\n",
        "        # Extraer el nodo y agregar a la tupla de nodo visitado\n",
        "        nodos_visitados.append(nodo)\n",
        "        if(nodo.get_datos()==solucion):\n",
        "            solucionado = True\n",
        "            return nodo\n",
        "        else:\n",
        "            dato_nodo = nodo.get_datos()\n",
        "            # Operación izquierda (x,x,1,4) en el árbol\n",
        "            hijo = [dato_nodo[1], dato_nodo[0], dato_nodo[2], dato_nodo[3]]\n",
        "            hijo_izq = Nodo(hijo)\n",
        "            if((not hijo_izq.en_lista(nodos_pendientes)) and (not hijo_izq.en_lista(nodos_visitados))):\n",
        "                nodos_pendientes.append(hijo_izq)\n",
        "            # Operación del centro (3,x,x,4)\n",
        "            hijo = [dato_nodo[0], dato_nodo[2], dato_nodo[1],dato_nodo[3]]\n",
        "            hijo_centro = Nodo(hijo)\n",
        "            if((not hijo_centro.en_lista(nodos_pendientes)) and (not hijo_centro.en_lista(nodos_visitados))):\n",
        "                nodos_pendientes.append(hijo_centro)\n",
        "            # Operación en el lado derecho del árbol (3,2,x,x)\n",
        "            hijo = [dato_nodo[0], dato_nodo[1], dato_nodo[3], dato_nodo[2]]\n",
        "            hijo_der = Nodo(hijo)\n",
        "            if((not hijo_der.en_lista(nodos_pendientes)) and (not hijo_der.en_lista(nodos_visitados))):\n",
        "                nodos_pendientes.append(hijo_der)\n",
        "            nodo.set_hijos[[hijo_izq,hijo_centro,hijo_der]]\n"
      ],
      "metadata": {
        "id": "ZrD0drcEoDFT"
      },
      "execution_count": 10,
      "outputs": []
    },
    {
      "cell_type": "code",
      "source": [
        "if __name__ == \"__main__\":\n",
        "    estado_inicial = [3,2,1,4]\n",
        "    solucion = [3,2,1,4]\n",
        "    nodo_solucion = busqueda_amplitud(estado_inicial, solucion)\n",
        "    #resultados\n",
        "    resultado = []\n",
        "    nodo = nodo_solucion\n",
        "    while (nodo.get_padre()!= None):\n",
        "        resultado.append(nodo.get_datos())\n",
        "        nodo = nodo.get_padre()\n",
        "    resultado.append(estado_inicial)\n",
        "    resultado.reverse()\n",
        "    print(resultado)"
      ],
      "metadata": {
        "colab": {
          "base_uri": "https://localhost:8080/"
        },
        "id": "-fkta_KAoDAr",
        "outputId": "f35768cb-7186-4c03-ebea-86a55bc83225"
      },
      "execution_count": 14,
      "outputs": [
        {
          "output_type": "stream",
          "name": "stdout",
          "text": [
            "[[3, 2, 1, 4]]\n"
          ]
        }
      ]
    },
    {
      "cell_type": "code",
      "source": [],
      "metadata": {
        "id": "bY2K8SqHoC_R"
      },
      "execution_count": null,
      "outputs": []
    }
  ]
}