{
  "nbformat": 4,
  "nbformat_minor": 0,
  "metadata": {
    "colab": {
      "provenance": [],
      "authorship_tag": "ABX9TyN34OrtvtT4DHQcYD5xLGTT",
      "include_colab_link": true
    },
    "kernelspec": {
      "name": "python3",
      "display_name": "Python 3"
    },
    "language_info": {
      "name": "python"
    }
  },
  "cells": [
    {
      "cell_type": "markdown",
      "metadata": {
        "id": "view-in-github",
        "colab_type": "text"
      },
      "source": [
        "<a href=\"https://colab.research.google.com/github/LeonardoAlunaM/COMPUTADORAS-Y-PROGRAMACI-N-2O23-/blob/main-COMPUTADORAS-Y-PROGTRAMACI%C3%93N-2023/DISE%C3%91O_L%C3%93GICO_FUNDAMENTOS_DE_SISTEMAS_D%C3%8DGITALES.ipynb\" target=\"_parent\"><img src=\"https://colab.research.google.com/assets/colab-badge.svg\" alt=\"Open In Colab\"/></a>"
      ]
    },
    {
      "cell_type": "markdown",
      "source": [
        "# CAPÍTULO 1\n",
        "# CONCEPTOS DÍGITALES\n",
        "\n",
        "## Capítulo 1.1\n",
        "## Magnitudes analógicas y digitales"
      ],
      "metadata": {
        "id": "onR3VaEiR6RJ"
      }
    },
    {
      "cell_type": "code",
      "execution_count": null,
      "metadata": {
        "id": "GkxV5XnCN2UF"
      },
      "outputs": [],
      "source": [
        "# La frecuencia (f) de un tren de pulsos (digital) es el inverso del período\n",
        "f = 1 / T"
      ]
    },
    {
      "cell_type": "code",
      "source": [
        "fT = 1"
      ],
      "metadata": {
        "id": "T8DEHNHWSPYU"
      },
      "execution_count": null,
      "outputs": []
    },
    {
      "cell_type": "code",
      "source": [
        "T = 1 / f"
      ],
      "metadata": {
        "id": "89H3R-T8SSxB"
      },
      "execution_count": null,
      "outputs": []
    }
  ]
}