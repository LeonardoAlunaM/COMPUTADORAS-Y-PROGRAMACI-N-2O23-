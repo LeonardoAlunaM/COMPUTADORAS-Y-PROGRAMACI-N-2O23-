{
  "nbformat": 4,
  "nbformat_minor": 0,
  "metadata": {
    "colab": {
      "provenance": [],
      "authorship_tag": "ABX9TyPlvCSVe4P0HScvaf2gAutN",
      "include_colab_link": true
    },
    "kernelspec": {
      "name": "python3",
      "display_name": "Python 3"
    },
    "language_info": {
      "name": "python"
    }
  },
  "cells": [
    {
      "cell_type": "markdown",
      "metadata": {
        "id": "view-in-github",
        "colab_type": "text"
      },
      "source": [
        "<a href=\"https://colab.research.google.com/github/LeonardoAlunaM/COMPUTADORAS-Y-PROGRAMACI-N-2O23-/blob/main-COMPUTADORAS-Y-PROGTRAMACI%C3%93N-2023/DISE%C3%91O_L%C3%93GICO_FUNDAMENTOS_DE_SISTEMAS_D%C3%8DGITALES.ipynb\" target=\"_parent\"><img src=\"https://colab.research.google.com/assets/colab-badge.svg\" alt=\"Open In Colab\"/></a>"
      ]
    },
    {
      "cell_type": "markdown",
      "source": [
        "# CAPÍTULO 1\n",
        "# CONCEPTOS DÍGITALES\n",
        "\n",
        "## Capítulo 1.1\n",
        "## Magnitudes analógicas y digitales"
      ],
      "metadata": {
        "id": "onR3VaEiR6RJ"
      }
    },
    {
      "cell_type": "code",
      "execution_count": null,
      "metadata": {
        "id": "GkxV5XnCN2UF"
      },
      "outputs": [],
      "source": [
        "# La frecuencia (f) de un tren de pulsos (digital) es el inverso del período\n",
        "f = 1 / T"
      ]
    },
    {
      "cell_type": "code",
      "source": [
        "fT = 1"
      ],
      "metadata": {
        "id": "T8DEHNHWSPYU"
      },
      "execution_count": null,
      "outputs": []
    },
    {
      "cell_type": "code",
      "source": [
        "T = 1 / f"
      ],
      "metadata": {
        "id": "89H3R-T8SSxB"
      },
      "execution_count": null,
      "outputs": []
    },
    {
      "cell_type": "code",
      "source": [
        "# Una característica importante de una señal digital periódica es su ciclo de trabajo\n",
        "# que es el cociente entre el ancho del impulso (tsubw), y el período (T) y suele expresarse como un porcentaje\n",
        "\n",
        "Ciclo_de_trabajo = (tsubw/T) * 100 # 100%"
      ],
      "metadata": {
        "id": "_H8IGWKnTt28"
      },
      "execution_count": null,
      "outputs": []
    },
    {
      "cell_type": "code",
      "source": [
        "tsubw = (Ciclo_de_trabajo * T) / 100 # 100%"
      ],
      "metadata": {
        "id": "QgjYzQsWUNuK"
      },
      "execution_count": null,
      "outputs": []
    },
    {
      "cell_type": "code",
      "source": [
        "T = (tsubw/Ciclo_de_trabajo) * 100 # 100%"
      ],
      "metadata": {
        "id": "ZlAiWq0QUgHi"
      },
      "execution_count": null,
      "outputs": []
    },
    {
      "cell_type": "code",
      "source": [],
      "metadata": {
        "id": "1WkcDeVL70XK"
      },
      "execution_count": null,
      "outputs": []
    },
    {
      "cell_type": "code",
      "source": [
        "def decimal_a_base(n, base):\n",
        "    if base < 2 or base > 16:\n",
        "        return \"La base debe estar entre 2 y 16.\"\n",
        "\n",
        "    if n == 0:\n",
        "        return \"0\"\n",
        "\n",
        "    digitos = \"0123456789ABCDEF\"\n",
        "    resultado = \"\"\n",
        "\n",
        "    while n > 0:\n",
        "        residuo = n % base\n",
        "        resultado = digitos[residuo] + resultado\n",
        "        n = n // base\n",
        "\n",
        "    return resultado\n",
        "\n",
        "# Input del usuario\n",
        "numero_decimal = int(input(\"Ingresa un número en base 10: \"))\n",
        "base_destino = int(input(\"Ingresa la base a la que deseas convertirlo (2-16): \"))\n",
        "\n",
        "# Realizar la conversión\n",
        "resultado = decimal_a_base(numero_decimal, base_destino)\n",
        "\n",
        "print(f\"{numero_decimal} en base {base_destino} es igual a {resultado}.\")\n",
        "\n",
        "# Inciso 4.\n",
        "# 892 en base 2 es igual a 1101111100\n",
        "# 892 en base 16 es igual a 37C\n",
        "# 892 en base 8 es igual a 1574"
      ],
      "metadata": {
        "colab": {
          "base_uri": "https://localhost:8080/"
        },
        "id": "zi9CAFZY70Ur",
        "outputId": "3b364f45-06cd-4d93-e0dc-6ce5b08ed41b"
      },
      "execution_count": 2,
      "outputs": [
        {
          "output_type": "stream",
          "name": "stdout",
          "text": [
            "Ingresa un número en base 10: 499\n",
            "Ingresa la base a la que deseas convertirlo (2-16): 2\n",
            "499 en base 2 es igual a 111110011.\n"
          ]
        }
      ]
    },
    {
      "cell_type": "code",
      "source": [
        "def binario_a_decimal(numero_binario):\n",
        "    decimal = 0\n",
        "    posicion = 0\n",
        "\n",
        "    # Recorre el número binario de derecha a izquierda\n",
        "    for digito in reversed(numero_binario):\n",
        "        if digito == '1':\n",
        "            decimal += 2**posicion\n",
        "        posicion += 1\n",
        "\n",
        "    return decimal\n",
        "\n",
        "# Input del usuario\n",
        "numero_binario = input(\"Ingresa un número en base binaria: \")\n",
        "\n",
        "# Verificar si el número binario es válido\n",
        "if not all(bit in '01' for bit in numero_binario):\n",
        "    print(\"Número binario inválido. Debe contener solo 0 y 1.\")\n",
        "else:\n",
        "    # Realizar la conversión\n",
        "    resultado_decimal = binario_a_decimal(numero_binario)\n",
        "    print(f\"{numero_binario} en base decimal es igual a {resultado_decimal}.\")\n",
        "\n",
        "\n",
        "# Inciso 3\n",
        "# 10011 es igual a 19 (decimal)\n",
        "\n",
        "\n",
        "# Inciso 8\n",
        "# 10111 es igual a 23 (decimal)"
      ],
      "metadata": {
        "colab": {
          "base_uri": "https://localhost:8080/"
        },
        "id": "il5VH1p09VIb",
        "outputId": "6de8c6a0-10b6-4f83-e350-46d33ef82907"
      },
      "execution_count": null,
      "outputs": [
        {
          "output_type": "stream",
          "name": "stdout",
          "text": [
            "Ingresa un número en base binaria: 10111\n",
            "10111 en base decimal es igual a 23.\n"
          ]
        }
      ]
    },
    {
      "cell_type": "code",
      "source": [],
      "metadata": {
        "id": "c_YIbkehVirL"
      },
      "execution_count": null,
      "outputs": []
    },
    {
      "cell_type": "code",
      "source": [
        "# Inciso 1. 763 en base octal\n",
        "def base8_to_decimal_hex_binary(base8_number):\n",
        "    decimal_number = int(base8_number, 8)\n",
        "    hexadecimal_number = hex(decimal_number)\n",
        "    binary_number = bin(decimal_number)\n",
        "\n",
        "    return decimal_number, hexadecimal_number, binary_number\n",
        "\n",
        "base8_input = input(\"Ingresa un número en base 8: \")\n",
        "decimal, hexadecimal, binary = base8_to_decimal_hex_binary(base8_input)\n",
        "\n",
        "print(f'En base decimal: {decimal}')\n",
        "print(f'En base hexadecimal: {hexadecimal}')\n",
        "print(f'En base binaria: {binary}')"
      ],
      "metadata": {
        "colab": {
          "base_uri": "https://localhost:8080/"
        },
        "id": "bEkk6M5UVipr",
        "outputId": "9b7a3795-7987-4c71-80d8-48fe0dee52f2"
      },
      "execution_count": null,
      "outputs": [
        {
          "output_type": "stream",
          "name": "stdout",
          "text": [
            "Ingresa un número en base 8: 763\n",
            "En base decimal: 499\n",
            "En base hexadecimal: 0x1f3\n",
            "En base binaria: 0b111110011\n"
          ]
        }
      ]
    },
    {
      "cell_type": "code",
      "source": [
        "def base8_to_decimal_hex_binary(base8_number):\n",
        "    decimal_number = int(base8_number, 8)\n",
        "    hexadecimal_number = hex(decimal_number)\n",
        "    binary_number = bin(decimal_number)\n",
        "\n",
        "    return decimal_number, hexadecimal_number, binary_number\n",
        "\n",
        "base8_input = input(\"Ingresa un número en base 8: \")\n",
        "decimal, hexadecimal, binary = base8_to_decimal_hex_binary(base8_input)\n",
        "\n",
        "print(f'En base decimal: {decimal}')\n",
        "print(f'En base hexadecimal: {hexadecimal}')\n",
        "print(f'En base binaria: {binary}')\n"
      ],
      "metadata": {
        "id": "uSO0hBJQVikl",
        "outputId": "4263ad6f-8cf6-49ea-a01e-45c1378d4562",
        "colab": {
          "base_uri": "https://localhost:8080/"
        }
      },
      "execution_count": 3,
      "outputs": [
        {
          "output_type": "stream",
          "name": "stdout",
          "text": [
            "Ingresa un número en base 8: 763\n",
            "En base decimal: 499\n",
            "En base hexadecimal: 0x1f3\n",
            "En base binaria: 0b111110011\n"
          ]
        }
      ]
    },
    {
      "cell_type": "code",
      "source": [],
      "metadata": {
        "id": "m43DoZa5V1Y2"
      },
      "execution_count": null,
      "outputs": []
    },
    {
      "cell_type": "code",
      "source": [
        "# Programa para convertir un número binario a decimal, hexadecimal y octal\n",
        "\n",
        "def binario_a_decimal(binario):\n",
        "    decimal = 0\n",
        "    longitud = len(binario)\n",
        "\n",
        "    for i in range(longitud):\n",
        "        bit = int(binario[i])\n",
        "        posicion = longitud - 1 - i\n",
        "        decimal += bit * (2 ** posicion)\n",
        "\n",
        "    return decimal\n",
        "\n",
        "def binario_a_hexadecimal(binario):\n",
        "    decimal = binario_a_decimal(binario)\n",
        "    hexadecimal = hex(decimal).upper()[2:]\n",
        "    return hexadecimal\n",
        "\n",
        "def binario_a_octal(binario):\n",
        "    decimal = binario_a_decimal(binario)\n",
        "    octal = oct(decimal).upper()[2:]\n",
        "    return octal\n"
      ],
      "metadata": {
        "id": "PJrz3WxZWrr4"
      },
      "execution_count": null,
      "outputs": []
    },
    {
      "cell_type": "code",
      "source": [],
      "metadata": {
        "colab": {
          "base_uri": "https://localhost:8080/",
          "height": 297
        },
        "id": "dulkMjwPWvrg",
        "outputId": "6ca44a84-113e-4f21-eab1-6845dafd7a1d"
      },
      "execution_count": null,
      "outputs": [
        {
          "output_type": "error",
          "ename": "TypeError",
          "evalue": "ignored",
          "traceback": [
            "\u001b[0;31m---------------------------------------------------------------------------\u001b[0m",
            "\u001b[0;31mTypeError\u001b[0m                                 Traceback (most recent call last)",
            "\u001b[0;32m<ipython-input-10-4a6e1bd92a15>\u001b[0m in \u001b[0;36m<cell line: 1>\u001b[0;34m()\u001b[0m\n\u001b[0;32m----> 1\u001b[0;31m \u001b[0mbinario_a_decimal\u001b[0m\u001b[0;34m(\u001b[0m\u001b[0;36m10111\u001b[0m\u001b[0;34m)\u001b[0m\u001b[0;34m\u001b[0m\u001b[0;34m\u001b[0m\u001b[0m\n\u001b[0m",
            "\u001b[0;32m<ipython-input-9-fa9e5ea059f3>\u001b[0m in \u001b[0;36mbinario_a_decimal\u001b[0;34m(binario)\u001b[0m\n\u001b[1;32m      3\u001b[0m \u001b[0;32mdef\u001b[0m \u001b[0mbinario_a_decimal\u001b[0m\u001b[0;34m(\u001b[0m\u001b[0mbinario\u001b[0m\u001b[0;34m)\u001b[0m\u001b[0;34m:\u001b[0m\u001b[0;34m\u001b[0m\u001b[0;34m\u001b[0m\u001b[0m\n\u001b[1;32m      4\u001b[0m     \u001b[0mdecimal\u001b[0m \u001b[0;34m=\u001b[0m \u001b[0;36m0\u001b[0m\u001b[0;34m\u001b[0m\u001b[0;34m\u001b[0m\u001b[0m\n\u001b[0;32m----> 5\u001b[0;31m     \u001b[0mlongitud\u001b[0m \u001b[0;34m=\u001b[0m \u001b[0mlen\u001b[0m\u001b[0;34m(\u001b[0m\u001b[0mbinario\u001b[0m\u001b[0;34m)\u001b[0m\u001b[0;34m\u001b[0m\u001b[0;34m\u001b[0m\u001b[0m\n\u001b[0m\u001b[1;32m      6\u001b[0m \u001b[0;34m\u001b[0m\u001b[0m\n\u001b[1;32m      7\u001b[0m     \u001b[0;32mfor\u001b[0m \u001b[0mi\u001b[0m \u001b[0;32min\u001b[0m \u001b[0mrange\u001b[0m\u001b[0;34m(\u001b[0m\u001b[0mlongitud\u001b[0m\u001b[0;34m)\u001b[0m\u001b[0;34m:\u001b[0m\u001b[0;34m\u001b[0m\u001b[0;34m\u001b[0m\u001b[0m\n",
            "\u001b[0;31mTypeError\u001b[0m: object of type 'int' has no len()"
          ]
        }
      ]
    },
    {
      "cell_type": "code",
      "source": [
        "# Programa para convertir un número binario a decimal, hexadecimal y octal\n",
        "\n",
        "def binario_a_decimal(binario):\n",
        "    decimal = 0\n",
        "    longitud = len(binario)\n",
        "\n",
        "    for i in range(longitud):\n",
        "        bit = int(binario[i])\n",
        "        posicion = longitud - 1 - i\n",
        "        decimal += bit * (2 ** posicion)\n",
        "\n",
        "    return decimal\n",
        "\n",
        "def binario_a_hexadecimal(binario):\n",
        "    decimal = binario_a_decimal(binario)\n",
        "    hexadecimal = hex(decimal).upper()[2:]\n",
        "    return hexadecimal\n",
        "\n",
        "def binario_a_octal(binario):\n",
        "    decimal = binario_a_decimal(binario)\n",
        "    octal = oct(decimal).upper()[2:]\n",
        "    return octal\n",
        "# Programa para convertir un número binario con punto decimal a decimal, hexadecimal y octal\n",
        "\n",
        "def binario_con_punto_a_decimal(binario):\n",
        "    partes = binario.split('.')\n",
        "\n",
        "    parte_entera = partes[0]\n",
        "    parte_decimal = partes[1]\n",
        "\n",
        "    decimal_entero = binario_a_decimal(parte_entera)\n",
        "\n",
        "    decimal_decimal = 0\n",
        "    for i in range(len(parte_decimal)):\n",
        "        bit = int(parte_decimal[i])\n",
        "        decimal_decimal += bit * (2 ** -(i+1))\n",
        "\n",
        "    decimal_total = decimal_entero + decimal_decimal\n",
        "\n",
        "    return decimal_total\n",
        "\n",
        "def binario_con_punto_a_hexadecimal(binario):\n",
        "    decimal_total = binario_con_punto_a_decimal(binario)\n",
        "    hexadecimal = hex(int(decimal_total)).upper()[2:]\n",
        "    return hexadecimal\n",
        "\n",
        "def binario_con_punto_a_octal(binario):\n",
        "    decimal_total = binario_con_punto_a_decimal(binario)\n",
        "    octal = oct(int(decimal_total)).upper()[2:]\n",
        "    return octal\n",
        "\n",
        "# Ejemplos de uso\n",
        "\n",
        "binario_sin_punto = \"11001\"\n",
        "binario_con_punto = \"11000.11\"\n",
        "\n",
        "print(\"Binario sin punto:\")\n",
        "print(f\"Decimal: {binario_a_decimal(binario_sin_punto)}\")\n",
        "print(f\"Hexadecimal: {binario_a_hexadecimal(binario_sin_punto)}\")\n",
        "print(f\"Octal: {binario_a_octal(binario_sin_punto)}\")\n",
        "\n",
        "print(\"\\nBinario con punto:\")\n",
        "print(f\"Decimal: {binario_con_punto_a_decimal(binario_con_punto)}\")\n",
        "print(f\"Hexadecimal: {binario_con_punto_a_hexadecimal(binario_con_punto)}\")\n",
        "print(f\"Octal: {binario_con_punto_a_octal(binario_con_punto)}\")\n",
        "\n",
        "# Este programa funciona, en un primer momento pesnaba que no, pero al parecer es la segunda parate del codigo la que resuelva\n",
        "# Los numeros fraccionarios a  a la siguiente base\n"
      ],
      "metadata": {
        "colab": {
          "base_uri": "https://localhost:8080/"
        },
        "id": "bLPl4-ClV1W_",
        "outputId": "a0e54d96-fdd4-4800-9a53-14c6d309bc52"
      },
      "execution_count": 4,
      "outputs": [
        {
          "output_type": "stream",
          "name": "stdout",
          "text": [
            "Binario sin punto:\n",
            "Decimal: 25\n",
            "Hexadecimal: 19\n",
            "Octal: 31\n",
            "\n",
            "Binario con punto:\n",
            "Decimal: 24.75\n",
            "Hexadecimal: 18\n",
            "Octal: 30\n"
          ]
        }
      ]
    },
    {
      "cell_type": "code",
      "source": [],
      "metadata": {
        "id": "9fic3u4CV1T-"
      },
      "execution_count": null,
      "outputs": []
    },
    {
      "cell_type": "code",
      "source": [
        "# Pedir al usuario que ingrese un número decimal\n",
        "decimal = float(input(\"Ingresa un número decimal: \"))\n",
        "\n",
        "# Convertir el número decimal a binario, hexadecimal y octal\n",
        "binario = bin(int(decimal))\n",
        "hexadecimal = hex(int(decimal))\n",
        "octal = oct(int(decimal))\n",
        "\n",
        "# Imprimir los resultados\n",
        "print(f\"El número {decimal} en binario es: {binario}\")\n",
        "print(f\"El número {decimal} en hexadecimal es: {hexadecimal}\")\n",
        "print(f\"El número {decimal} en octal es: {octal}\")\n"
      ],
      "metadata": {
        "colab": {
          "base_uri": "https://localhost:8080/"
        },
        "id": "Szl0GTU6V1Su",
        "outputId": "1067ea1e-5285-4e99-d95d-c7f38630bcf6"
      },
      "execution_count": null,
      "outputs": [
        {
          "output_type": "stream",
          "name": "stdout",
          "text": [
            "Ingresa un número decimal: 41.6875\n",
            "El número 41.6875 en binario es: 0b101001\n",
            "El número 41.6875 en hexadecimal es: 0x29\n",
            "El número 41.6875 en octal es: 0o51\n"
          ]
        }
      ]
    },
    {
      "cell_type": "code",
      "source": [
        "def convertir_base(numero_hexadecimal):\n",
        "    try:\n",
        "        # Convertir de hexadecimal a decimal\n",
        "        decimal = int(numero_hexadecimal, 16)\n",
        "\n",
        "        # Convertir de decimal a binario\n",
        "        binario = bin(decimal)\n",
        "\n",
        "        # Convertir de decimal a octal\n",
        "        octal = oct(decimal)\n",
        "\n",
        "        return {\n",
        "            \"Decimal\": decimal,\n",
        "            \"Binario\": binario,\n",
        "            \"Octal\": octal\n",
        "        }\n",
        "    except ValueError:\n",
        "        return \"Error: Ingresa un número hexadecimal válido.\"\n",
        "\n",
        "# Pedir al usuario un número hexadecimal\n",
        "numero_hexadecimal = input(\"Ingresa un número hexadecimal: \")\n",
        "\n",
        "# Llamar a la función para realizar la conversión\n",
        "resultado = convertir_base(numero_hexadecimal)\n",
        "\n",
        "# Imprimir los resultados\n",
        "if isinstance(resultado, dict):\n",
        "    print(f\"Número Decimal: {resultado['Decimal']}\")\n",
        "    print(f\"Número Binario: {resultado['Binario']}\")\n",
        "    print(f\"Número Octal: {resultado['Octal']}\")\n",
        "else:\n",
        "    print(resultado)\n"
      ],
      "metadata": {
        "colab": {
          "base_uri": "https://localhost:8080/"
        },
        "id": "E8r_cSsUVijA",
        "outputId": "a1cfee13-7894-477d-8076-725b701e3667"
      },
      "execution_count": null,
      "outputs": [
        {
          "output_type": "stream",
          "name": "stdout",
          "text": [
            "Ingresa un número hexadecimal: AF6\n",
            "Número Decimal: 2806\n",
            "Número Binario: 0b101011110110\n",
            "Número Octal: 0o5366\n"
          ]
        }
      ]
    }
  ]
}