{
  "nbformat": 4,
  "nbformat_minor": 0,
  "metadata": {
    "colab": {
      "provenance": [],
      "authorship_tag": "ABX9TyOWYMwXXnSvWJ6I000xtZRz",
      "include_colab_link": true
    },
    "kernelspec": {
      "name": "python3",
      "display_name": "Python 3"
    },
    "language_info": {
      "name": "python"
    }
  },
  "cells": [
    {
      "cell_type": "markdown",
      "metadata": {
        "id": "view-in-github",
        "colab_type": "text"
      },
      "source": [
        "<a href=\"https://colab.research.google.com/github/LeonardoAlunaM/COMPUTADORAS-Y-PROGRAMACI-N-2O23-/blob/main-COMPUTADORAS-Y-PROGTRAMACI%C3%93N-2023/DISE%C3%91O_L%C3%93GICO_FUNDAMENTOS_DE_SISTEMAS_D%C3%8DGITALES.ipynb\" target=\"_parent\"><img src=\"https://colab.research.google.com/assets/colab-badge.svg\" alt=\"Open In Colab\"/></a>"
      ]
    },
    {
      "cell_type": "markdown",
      "source": [
        "# CAPÍTULO 1\n",
        "# CONCEPTOS DÍGITALES\n",
        "\n",
        "## Capítulo 1.1\n",
        "## Magnitudes analógicas y digitales"
      ],
      "metadata": {
        "id": "onR3VaEiR6RJ"
      }
    },
    {
      "cell_type": "code",
      "execution_count": null,
      "metadata": {
        "id": "GkxV5XnCN2UF"
      },
      "outputs": [],
      "source": [
        "# La frecuencia (f) de un tren de pulsos (digital) es el inverso del período\n",
        "f = 1 / T"
      ]
    },
    {
      "cell_type": "code",
      "source": [
        "fT = 1"
      ],
      "metadata": {
        "id": "T8DEHNHWSPYU"
      },
      "execution_count": null,
      "outputs": []
    },
    {
      "cell_type": "code",
      "source": [
        "T = 1 / f"
      ],
      "metadata": {
        "id": "89H3R-T8SSxB"
      },
      "execution_count": null,
      "outputs": []
    },
    {
      "cell_type": "code",
      "source": [
        "# Una característica importante de una señal digital periódica es su ciclo de trabajo\n",
        "# que es el cociente entre el ancho del impulso (tsubw), y el período (T) y suele expresarse como un porcentaje\n",
        "\n",
        "Ciclo_de_trabajo = (tsubw/T) * 100 # 100%"
      ],
      "metadata": {
        "id": "_H8IGWKnTt28"
      },
      "execution_count": null,
      "outputs": []
    },
    {
      "cell_type": "code",
      "source": [
        "tsubw = (Ciclo_de_trabajo * T) / 100 # 100%"
      ],
      "metadata": {
        "id": "QgjYzQsWUNuK"
      },
      "execution_count": null,
      "outputs": []
    },
    {
      "cell_type": "code",
      "source": [
        "T = (tsubw/Ciclo_de_trabajo) * 100 # 100%"
      ],
      "metadata": {
        "id": "ZlAiWq0QUgHi"
      },
      "execution_count": null,
      "outputs": []
    }
  ]
}