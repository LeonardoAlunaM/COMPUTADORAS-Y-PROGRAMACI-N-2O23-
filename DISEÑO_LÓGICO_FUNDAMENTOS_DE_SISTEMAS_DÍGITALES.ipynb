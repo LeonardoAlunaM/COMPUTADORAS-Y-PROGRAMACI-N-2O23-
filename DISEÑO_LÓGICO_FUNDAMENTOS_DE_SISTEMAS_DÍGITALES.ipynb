{
  "nbformat": 4,
  "nbformat_minor": 0,
  "metadata": {
    "colab": {
      "provenance": [],
      "authorship_tag": "ABX9TyPJxjGM+QcA/WFt1asJncbg",
      "include_colab_link": true
    },
    "kernelspec": {
      "name": "python3",
      "display_name": "Python 3"
    },
    "language_info": {
      "name": "python"
    }
  },
  "cells": [
    {
      "cell_type": "markdown",
      "metadata": {
        "id": "view-in-github",
        "colab_type": "text"
      },
      "source": [
        "<a href=\"https://colab.research.google.com/github/LeonardoAlunaM/COMPUTADORAS-Y-PROGRAMACI-N-2O23-/blob/main-COMPUTADORAS-Y-PROGTRAMACI%C3%93N-2023/DISE%C3%91O_L%C3%93GICO_FUNDAMENTOS_DE_SISTEMAS_D%C3%8DGITALES.ipynb\" target=\"_parent\"><img src=\"https://colab.research.google.com/assets/colab-badge.svg\" alt=\"Open In Colab\"/></a>"
      ]
    },
    {
      "cell_type": "markdown",
      "source": [
        "# CAPÍTULO 1\n",
        "# CONCEPTOS DÍGITALES\n",
        "\n",
        "## Capítulo 1.1\n",
        "## Magnitudes analógicas y digitales"
      ],
      "metadata": {
        "id": "onR3VaEiR6RJ"
      }
    },
    {
      "cell_type": "code",
      "execution_count": null,
      "metadata": {
        "id": "GkxV5XnCN2UF"
      },
      "outputs": [],
      "source": [
        "# La frecuencia (f) de un tren de pulsos (digital) es el inverso del período\n",
        "f = 1 / T"
      ]
    },
    {
      "cell_type": "code",
      "source": [
        "fT = 1"
      ],
      "metadata": {
        "id": "T8DEHNHWSPYU"
      },
      "execution_count": null,
      "outputs": []
    },
    {
      "cell_type": "code",
      "source": [
        "T = 1 / f"
      ],
      "metadata": {
        "id": "89H3R-T8SSxB"
      },
      "execution_count": null,
      "outputs": []
    },
    {
      "cell_type": "code",
      "source": [
        "# Una característica importante de una señal digital periódica es su ciclo de trabajo\n",
        "# que es el cociente entre el ancho del impulso (tsubw), y el período (T) y suele expresarse como un porcentaje\n",
        "\n",
        "Ciclo_de_trabajo = (tsubw/T) * 100 # 100%"
      ],
      "metadata": {
        "id": "_H8IGWKnTt28"
      },
      "execution_count": null,
      "outputs": []
    },
    {
      "cell_type": "code",
      "source": [
        "tsubw = (Ciclo_de_trabajo * T) / 100 # 100%"
      ],
      "metadata": {
        "id": "QgjYzQsWUNuK"
      },
      "execution_count": null,
      "outputs": []
    },
    {
      "cell_type": "code",
      "source": [
        "T = (tsubw/Ciclo_de_trabajo) * 100 # 100%"
      ],
      "metadata": {
        "id": "ZlAiWq0QUgHi"
      },
      "execution_count": null,
      "outputs": []
    },
    {
      "cell_type": "code",
      "source": [],
      "metadata": {
        "id": "1WkcDeVL70XK"
      },
      "execution_count": null,
      "outputs": []
    },
    {
      "cell_type": "code",
      "source": [
        "def decimal_a_base(n, base):\n",
        "    if base < 2 or base > 16:\n",
        "        return \"La base debe estar entre 2 y 16.\"\n",
        "\n",
        "    if n == 0:\n",
        "        return \"0\"\n",
        "\n",
        "    digitos = \"0123456789ABCDEF\"\n",
        "    resultado = \"\"\n",
        "\n",
        "    while n > 0:\n",
        "        residuo = n % base\n",
        "        resultado = digitos[residuo] + resultado\n",
        "        n = n // base\n",
        "\n",
        "    return resultado\n",
        "\n",
        "# Input del usuario\n",
        "numero_decimal = int(input(\"Ingresa un número en base 10: \"))\n",
        "base_destino = int(input(\"Ingresa la base a la que deseas convertirlo (2-16): \"))\n",
        "\n",
        "# Realizar la conversión\n",
        "resultado = decimal_a_base(numero_decimal, base_destino)\n",
        "\n",
        "print(f\"{numero_decimal} en base {base_destino} es igual a {resultado}.\")"
      ],
      "metadata": {
        "id": "zi9CAFZY70Ur",
        "outputId": "b15d0eec-e486-44e2-c8f2-5c8258471586",
        "colab": {
          "base_uri": "https://localhost:8080/"
        }
      },
      "execution_count": 4,
      "outputs": [
        {
          "output_type": "stream",
          "name": "stdout",
          "text": [
            "Ingresa un número en base 10: 22\n",
            "Ingresa la base a la que deseas convertirlo (2-16): 2\n",
            "22 en base 2 es igual a 10110.\n"
          ]
        }
      ]
    },
    {
      "cell_type": "code",
      "source": [
        "def binario_a_decimal(numero_binario):\n",
        "    decimal = 0\n",
        "    posicion = 0\n",
        "\n",
        "    # Recorre el número binario de derecha a izquierda\n",
        "    for digito in reversed(numero_binario):\n",
        "        if digito == '1':\n",
        "            decimal += 2**posicion\n",
        "        posicion += 1\n",
        "\n",
        "    return decimal\n",
        "\n",
        "# Input del usuario\n",
        "numero_binario = input(\"Ingresa un número en base binaria: \")\n",
        "\n",
        "# Verificar si el número binario es válido\n",
        "if not all(bit in '01' for bit in numero_binario):\n",
        "    print(\"Número binario inválido. Debe contener solo 0 y 1.\")\n",
        "else:\n",
        "    # Realizar la conversión\n",
        "    resultado_decimal = binario_a_decimal(numero_binario)\n",
        "    print(f\"{numero_binario} en base decimal es igual a {resultado_decimal}.\")\n"
      ],
      "metadata": {
        "id": "il5VH1p09VIb",
        "outputId": "be0b4411-7a42-4896-fe6a-5e27ccdbd455",
        "colab": {
          "base_uri": "https://localhost:8080/"
        }
      },
      "execution_count": 5,
      "outputs": [
        {
          "output_type": "stream",
          "name": "stdout",
          "text": [
            "Ingresa un número en base binaria: 10111\n",
            "10111 en base decimal es igual a 23.\n"
          ]
        }
      ]
    }
  ]
}