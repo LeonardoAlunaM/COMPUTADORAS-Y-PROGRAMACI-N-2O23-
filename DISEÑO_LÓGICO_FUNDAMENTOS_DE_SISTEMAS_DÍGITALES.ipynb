{
  "nbformat": 4,
  "nbformat_minor": 0,
  "metadata": {
    "colab": {
      "provenance": [],
      "authorship_tag": "ABX9TyOD3AFeEbJ7lshfuyWd75tu",
      "include_colab_link": true
    },
    "kernelspec": {
      "name": "python3",
      "display_name": "Python 3"
    },
    "language_info": {
      "name": "python"
    }
  },
  "cells": [
    {
      "cell_type": "markdown",
      "metadata": {
        "id": "view-in-github",
        "colab_type": "text"
      },
      "source": [
        "<a href=\"https://colab.research.google.com/github/LeonardoAlunaM/COMPUTADORAS-Y-PROGRAMACI-N-2O23-/blob/main-COMPUTADORAS-Y-PROGTRAMACI%C3%93N-2023/DISE%C3%91O_L%C3%93GICO_FUNDAMENTOS_DE_SISTEMAS_D%C3%8DGITALES.ipynb\" target=\"_parent\"><img src=\"https://colab.research.google.com/assets/colab-badge.svg\" alt=\"Open In Colab\"/></a>"
      ]
    },
    {
      "cell_type": "markdown",
      "source": [
        "# CAPÍTULO 1\n",
        "# CONCEPTOS DÍGITALES\n",
        "\n",
        "## Capítulo 1.1\n",
        "## Magnitudes analógicas y digitales"
      ],
      "metadata": {
        "id": "onR3VaEiR6RJ"
      }
    },
    {
      "cell_type": "code",
      "execution_count": null,
      "metadata": {
        "id": "GkxV5XnCN2UF"
      },
      "outputs": [],
      "source": [
        "# La frecuencia (f) de un tren de pulsos (digital) es el inverso del período\n",
        "f = 1 / T"
      ]
    },
    {
      "cell_type": "code",
      "source": [
        "fT = 1"
      ],
      "metadata": {
        "id": "T8DEHNHWSPYU"
      },
      "execution_count": null,
      "outputs": []
    },
    {
      "cell_type": "code",
      "source": [
        "T = 1 / f"
      ],
      "metadata": {
        "id": "89H3R-T8SSxB"
      },
      "execution_count": null,
      "outputs": []
    },
    {
      "cell_type": "code",
      "source": [
        "# Una característica importante de una señal digital periódica es su ciclo de trabajo\n",
        "# que es el cociente entre el ancho del impulso (tsubw), y el período (T) y suele expresarse como un porcentaje\n",
        "\n",
        "Ciclo_de_trabajo = (tsubw/T) * 100 # 100%"
      ],
      "metadata": {
        "id": "_H8IGWKnTt28"
      },
      "execution_count": null,
      "outputs": []
    },
    {
      "cell_type": "code",
      "source": [
        "tsubw = (Ciclo_de_trabajo * T) / 100 # 100%"
      ],
      "metadata": {
        "id": "QgjYzQsWUNuK"
      },
      "execution_count": null,
      "outputs": []
    },
    {
      "cell_type": "code",
      "source": [
        "T = (tsubw/Ciclo_de_trabajo) * 100 # 100%"
      ],
      "metadata": {
        "id": "ZlAiWq0QUgHi"
      },
      "execution_count": null,
      "outputs": []
    },
    {
      "cell_type": "code",
      "source": [],
      "metadata": {
        "id": "1WkcDeVL70XK"
      },
      "execution_count": null,
      "outputs": []
    },
    {
      "cell_type": "code",
      "source": [
        "def decimal_a_base(n, base):\n",
        "    if base < 2 or base > 16:\n",
        "        return \"La base debe estar entre 2 y 16.\"\n",
        "\n",
        "    if n == 0:\n",
        "        return \"0\"\n",
        "\n",
        "    digitos = \"0123456789ABCDEF\"\n",
        "    resultado = \"\"\n",
        "\n",
        "    while n > 0:\n",
        "        residuo = n % base\n",
        "        resultado = digitos[residuo] + resultado\n",
        "        n = n // base\n",
        "\n",
        "    return resultado\n",
        "\n",
        "# Input del usuario\n",
        "numero_decimal = int(input(\"Ingresa un número en base 10: \"))\n",
        "base_destino = int(input(\"Ingresa la base a la que deseas convertirlo (2-16): \"))\n",
        "\n",
        "# Realizar la conversión\n",
        "resultado = decimal_a_base(numero_decimal, base_destino)\n",
        "\n",
        "print(f\"{numero_decimal} en base {base_destino} es igual a {resultado}.\")\n",
        "\n",
        "# Inciso 4.\n",
        "# 892 en base 2 es igual a 1101111100\n",
        "# 892 en base 16 es igual a 37C\n",
        "# 892 en base 8 es igual a 1574"
      ],
      "metadata": {
        "colab": {
          "base_uri": "https://localhost:8080/"
        },
        "id": "zi9CAFZY70Ur",
        "outputId": "deea3c7b-2785-4573-ecd0-25c45ee493f8"
      },
      "execution_count": 22,
      "outputs": [
        {
          "output_type": "stream",
          "name": "stdout",
          "text": [
            "Ingresa un número en base 10: 2\n",
            "Ingresa la base a la que deseas convertirlo (2-16): 2\n",
            "2 en base 2 es igual a 10.\n"
          ]
        }
      ]
    },
    {
      "cell_type": "code",
      "source": [
        "def binario_a_decimal(numero_binario):\n",
        "    decimal = 0\n",
        "    posicion = 0\n",
        "\n",
        "    # Recorre el número binario de derecha a izquierda\n",
        "    for digito in reversed(numero_binario):\n",
        "        if digito == '1':\n",
        "            decimal += 2**posicion\n",
        "        posicion += 1\n",
        "\n",
        "    return decimal\n",
        "\n",
        "# Input del usuario\n",
        "numero_binario = input(\"Ingresa un número en base binaria: \")\n",
        "\n",
        "# Verificar si el número binario es válido\n",
        "if not all(bit in '01' for bit in numero_binario):\n",
        "    print(\"Número binario inválido. Debe contener solo 0 y 1.\")\n",
        "else:\n",
        "    # Realizar la conversión\n",
        "    resultado_decimal = binario_a_decimal(numero_binario)\n",
        "    print(f\"{numero_binario} en base decimal es igual a {resultado_decimal}.\")\n",
        "\n",
        "\n",
        "# Inciso 3\n",
        "# 10011 es igual a 19 (decimal)\n",
        "\n",
        "\n",
        "# Inciso 8\n",
        "# 10111 es igual a 23 (decimal)"
      ],
      "metadata": {
        "colab": {
          "base_uri": "https://localhost:8080/"
        },
        "id": "il5VH1p09VIb",
        "outputId": "5dc8c351-41c1-4a96-ce0a-09fa72841667"
      },
      "execution_count": 27,
      "outputs": [
        {
          "output_type": "stream",
          "name": "stdout",
          "text": [
            "Ingresa un número en base binaria: 100011\n",
            "100011 en base decimal es igual a 35.\n"
          ]
        }
      ]
    },
    {
      "cell_type": "code",
      "source": [],
      "metadata": {
        "id": "c_YIbkehVirL"
      },
      "execution_count": null,
      "outputs": []
    },
    {
      "cell_type": "code",
      "source": [
        "# Inciso 1. 763 en base octal\n",
        "def base8_to_decimal_hex_binary(base8_number):\n",
        "    decimal_number = int(base8_number, 8)\n",
        "    hexadecimal_number = hex(decimal_number)\n",
        "    binary_number = bin(decimal_number)\n",
        "\n",
        "    return decimal_number, hexadecimal_number, binary_number\n",
        "\n",
        "base8_input = input(\"Ingresa un número en base 8: \")\n",
        "decimal, hexadecimal, binary = base8_to_decimal_hex_binary(base8_input)\n",
        "\n",
        "print(f'En base decimal: {decimal}')\n",
        "print(f'En base hexadecimal: {hexadecimal}')\n",
        "print(f'En base binaria: {binary}')"
      ],
      "metadata": {
        "colab": {
          "base_uri": "https://localhost:8080/"
        },
        "id": "bEkk6M5UVipr",
        "outputId": "9b7a3795-7987-4c71-80d8-48fe0dee52f2"
      },
      "execution_count": null,
      "outputs": [
        {
          "output_type": "stream",
          "name": "stdout",
          "text": [
            "Ingresa un número en base 8: 763\n",
            "En base decimal: 499\n",
            "En base hexadecimal: 0x1f3\n",
            "En base binaria: 0b111110011\n"
          ]
        }
      ]
    },
    {
      "cell_type": "code",
      "source": [
        "def base8_to_decimal_hex_binary(base8_number):\n",
        "    decimal_number = int(base8_number, 8)\n",
        "    hexadecimal_number = hex(decimal_number)\n",
        "    binary_number = bin(decimal_number)\n",
        "\n",
        "    return decimal_number, hexadecimal_number, binary_number\n",
        "\n",
        "base8_input = input(\"Ingresa un número en base 8: \")\n",
        "decimal, hexadecimal, binary = base8_to_decimal_hex_binary(base8_input)\n",
        "\n",
        "print(f'En base decimal: {decimal}')\n",
        "print(f'En base hexadecimal: {hexadecimal}')\n",
        "print(f'En base binaria: {binary}')\n"
      ],
      "metadata": {
        "id": "uSO0hBJQVikl",
        "outputId": "4263ad6f-8cf6-49ea-a01e-45c1378d4562",
        "colab": {
          "base_uri": "https://localhost:8080/"
        }
      },
      "execution_count": null,
      "outputs": [
        {
          "output_type": "stream",
          "name": "stdout",
          "text": [
            "Ingresa un número en base 8: 763\n",
            "En base decimal: 499\n",
            "En base hexadecimal: 0x1f3\n",
            "En base binaria: 0b111110011\n"
          ]
        }
      ]
    },
    {
      "cell_type": "code",
      "source": [],
      "metadata": {
        "id": "m43DoZa5V1Y2"
      },
      "execution_count": null,
      "outputs": []
    },
    {
      "cell_type": "code",
      "source": [
        "# Programa para convertir un número binario a decimal, hexadecimal y octal\n",
        "\n",
        "def binario_a_decimal(binario):\n",
        "    decimal = 11000.11\n",
        "    longitud = len(binario)\n",
        "\n",
        "    for i in range(longitud):\n",
        "        bit = float(binario[i])\n",
        "        posicion = longitud - 1 - i\n",
        "        decimal += bit * (2 ** posicion)\n",
        "\n",
        "    return decimal\n",
        "\n",
        "def binario_a_hexadecimal(binario):\n",
        "    decimal = binario_a_decimal(binario)\n",
        "    hexadecimal = hex(decimal).upper()[2:]\n",
        "    return hexadecimal\n",
        "\n",
        "def binario_a_octal(binario):\n",
        "    decimal = binario_a_decimal(binario)\n",
        "    octal = oct(decimal).upper()[2:]\n",
        "    return octal\n"
      ],
      "metadata": {
        "id": "PJrz3WxZWrr4"
      },
      "execution_count": 10,
      "outputs": []
    },
    {
      "cell_type": "code",
      "source": [
        "print(binario_a_decimal(11000.11))"
      ],
      "metadata": {
        "colab": {
          "base_uri": "https://localhost:8080/",
          "height": 297
        },
        "id": "dulkMjwPWvrg",
        "outputId": "998a9d50-6109-4bc7-87a2-ca0a341cd014"
      },
      "execution_count": 11,
      "outputs": [
        {
          "output_type": "error",
          "ename": "TypeError",
          "evalue": "ignored",
          "traceback": [
            "\u001b[0;31m---------------------------------------------------------------------------\u001b[0m",
            "\u001b[0;31mTypeError\u001b[0m                                 Traceback (most recent call last)",
            "\u001b[0;32m<ipython-input-11-f593d9a8f0b5>\u001b[0m in \u001b[0;36m<cell line: 1>\u001b[0;34m()\u001b[0m\n\u001b[0;32m----> 1\u001b[0;31m \u001b[0mprint\u001b[0m\u001b[0;34m(\u001b[0m\u001b[0mbinario_a_decimal\u001b[0m\u001b[0;34m(\u001b[0m\u001b[0;36m11000.11\u001b[0m\u001b[0;34m)\u001b[0m\u001b[0;34m)\u001b[0m\u001b[0;34m\u001b[0m\u001b[0;34m\u001b[0m\u001b[0m\n\u001b[0m",
            "\u001b[0;32m<ipython-input-10-a30b053d15d6>\u001b[0m in \u001b[0;36mbinario_a_decimal\u001b[0;34m(binario)\u001b[0m\n\u001b[1;32m      3\u001b[0m \u001b[0;32mdef\u001b[0m \u001b[0mbinario_a_decimal\u001b[0m\u001b[0;34m(\u001b[0m\u001b[0mbinario\u001b[0m\u001b[0;34m)\u001b[0m\u001b[0;34m:\u001b[0m\u001b[0;34m\u001b[0m\u001b[0;34m\u001b[0m\u001b[0m\n\u001b[1;32m      4\u001b[0m     \u001b[0mdecimal\u001b[0m \u001b[0;34m=\u001b[0m \u001b[0;36m11000.11\u001b[0m\u001b[0;34m\u001b[0m\u001b[0;34m\u001b[0m\u001b[0m\n\u001b[0;32m----> 5\u001b[0;31m     \u001b[0mlongitud\u001b[0m \u001b[0;34m=\u001b[0m \u001b[0mlen\u001b[0m\u001b[0;34m(\u001b[0m\u001b[0mbinario\u001b[0m\u001b[0;34m)\u001b[0m\u001b[0;34m\u001b[0m\u001b[0;34m\u001b[0m\u001b[0m\n\u001b[0m\u001b[1;32m      6\u001b[0m \u001b[0;34m\u001b[0m\u001b[0m\n\u001b[1;32m      7\u001b[0m     \u001b[0;32mfor\u001b[0m \u001b[0mi\u001b[0m \u001b[0;32min\u001b[0m \u001b[0mrange\u001b[0m\u001b[0;34m(\u001b[0m\u001b[0mlongitud\u001b[0m\u001b[0;34m)\u001b[0m\u001b[0;34m:\u001b[0m\u001b[0;34m\u001b[0m\u001b[0;34m\u001b[0m\u001b[0m\n",
            "\u001b[0;31mTypeError\u001b[0m: object of type 'float' has no len()"
          ]
        }
      ]
    },
    {
      "cell_type": "code",
      "source": [
        "# Programa para convertir un número binario a decimal, hexadecimal y octal\n",
        "\n",
        "def binario_a_decimal(binario):\n",
        "    decimal = 0\n",
        "    longitud = len(binario)\n",
        "\n",
        "    for i in range(longitud):\n",
        "        bit = int(binario[i])\n",
        "        posicion = longitud - 1 - i\n",
        "        decimal += bit * (2 ** posicion)\n",
        "\n",
        "    return decimal\n",
        "\n",
        "def binario_a_hexadecimal(binario):\n",
        "    decimal = binario_a_decimal(binario)\n",
        "    hexadecimal = hex(decimal).upper()[2:]\n",
        "    return hexadecimal\n",
        "\n",
        "def binario_a_octal(binario):\n",
        "    decimal = binario_a_decimal(binario)\n",
        "    octal = oct(decimal).upper()[2:]\n",
        "    return octal\n",
        "# Programa para convertir un número binario con punto decimal a decimal, hexadecimal y octal\n",
        "\n",
        "def binario_con_punto_a_decimal(binario):\n",
        "    partes = binario.split('.')\n",
        "\n",
        "    parte_entera = partes[0]\n",
        "    parte_decimal = partes[1]\n",
        "\n",
        "    decimal_entero = binario_a_decimal(parte_entera)\n",
        "\n",
        "    decimal_decimal = 0\n",
        "    for i in range(len(parte_decimal)):\n",
        "        bit = int(parte_decimal[i])\n",
        "        decimal_decimal += bit * (2 ** -(i+1))\n",
        "\n",
        "    decimal_total = decimal_entero + decimal_decimal\n",
        "\n",
        "    return decimal_total\n",
        "\n",
        "def binario_con_punto_a_hexadecimal(binario):\n",
        "    decimal_total = binario_con_punto_a_decimal(binario)\n",
        "    hexadecimal = hex(int(decimal_total)).upper()[2:]\n",
        "    return hexadecimal\n",
        "\n",
        "def binario_con_punto_a_octal(binario):\n",
        "    decimal_total = binario_con_punto_a_decimal(binario)\n",
        "    octal = oct(int(decimal_total)).upper()[2:]\n",
        "    return octal\n",
        "\n",
        "# Ejemplos de uso\n",
        "\n",
        "binario_sin_punto = \"10111\"\n",
        "binario_con_punto = \"1000110010.01011\"\n",
        "\n",
        "print(\"Binario sin punto:\")\n",
        "print(f\"Decimal: {binario_a_decimal(binario_sin_punto)}\")\n",
        "print(f\"Hexadecimal: {binario_a_hexadecimal(binario_sin_punto)}\")\n",
        "print(f\"Octal: {binario_a_octal(binario_sin_punto)}\")\n",
        "\n",
        "print(\"\\nBinario con punto:\")\n",
        "print(f\"Decimal: {binario_con_punto_a_decimal(binario_con_punto)}\")\n",
        "print(f\"Hexadecimal: {binario_con_punto_a_hexadecimal(binario_con_punto)}\")\n",
        "print(f\"Octal: {binario_con_punto_a_octal(binario_con_punto)}\")\n",
        "\n",
        "# Este programa funciona, en un primer momento pesnaba que no, pero al parecer es la segunda parate del codigo la que resuelva\n",
        "# Los numeros fraccionarios a  a la siguiente base\n"
      ],
      "metadata": {
        "colab": {
          "base_uri": "https://localhost:8080/"
        },
        "id": "bLPl4-ClV1W_",
        "outputId": "ceba54ea-769f-49b9-9e5d-28ecbd996a8d"
      },
      "execution_count": 25,
      "outputs": [
        {
          "output_type": "stream",
          "name": "stdout",
          "text": [
            "Binario sin punto:\n",
            "Decimal: 23\n",
            "Hexadecimal: 17\n",
            "Octal: 27\n",
            "\n",
            "Binario con punto:\n",
            "Decimal: 562.34375\n",
            "Hexadecimal: 232\n",
            "Octal: 1062\n"
          ]
        }
      ]
    },
    {
      "cell_type": "code",
      "source": [
        "def binario_a_hexadecimal(numero_binario):\n",
        "    # Completar el número binario con ceros a la izquierda para que sea divisible por 4\n",
        "    while len(numero_binario) % 4 != 0:\n",
        "        numero_binario = '0' + numero_binario\n",
        "\n",
        "    # Crear un diccionario para la conversión binario-hexadecimal\n",
        "    binario_a_hex = {\n",
        "        '0000': '0', '0001': '1', '0010': '2', '0011': '3',\n",
        "        '0100': '4', '0101': '5', '0110': '6', '0111': '7',\n",
        "        '1000': '8', '1001': '9', '1010': 'A', '1011': 'B',\n",
        "        '1100': 'C', '1101': 'D', '1110': 'E', '1111': 'F'\n",
        "    }\n",
        "\n",
        "    # Dividir el número binario en grupos de 4 dígitos y convertirlos a hexadecimal\n",
        "    grupos = [numero_binario[i:i+4] for i in range(0, len(numero_binario), 4)]\n",
        "    hexadecimal = ''.join([binario_a_hex[grupo] for grupo in grupos])\n",
        "\n",
        "    return hexadecimal\n",
        "\n",
        "# Ejemplo de uso\n",
        "numero_binario = \"11000.11\"\n",
        "# Eliminamos el punto decimal para realizar la conversión\n",
        "numero_binario = numero_binario.replace(\".\", \"\")\n",
        "hexadecimal = binario_a_hexadecimal(numero_binario)\n",
        "print(f\"El número binario {numero_binario} en hexadecimal es: {hexadecimal}\")\n"
      ],
      "metadata": {
        "id": "9fic3u4CV1T-",
        "colab": {
          "base_uri": "https://localhost:8080/"
        },
        "outputId": "5eec962b-8e26-40b9-c5f0-2ad2415a0e32"
      },
      "execution_count": 17,
      "outputs": [
        {
          "output_type": "stream",
          "name": "stdout",
          "text": [
            "El número binario 1100011 en hexadecimal es: 63\n"
          ]
        }
      ]
    },
    {
      "cell_type": "code",
      "source": [
        "def binario_a_hexadecimal(numero_binario):\n",
        "    # Dividir el número binario en parte entera y fraccionaria\n",
        "    parte_entera, parte_fraccionaria = numero_binario.split('.')\n",
        "\n",
        "    # Completar la parte entera con ceros a la izquierda para que sea divisible por 4\n",
        "    while len(parte_entera) % 4 != 0:\n",
        "        parte_entera = '0' + parte_entera\n",
        "\n",
        "    # Crear un diccionario para la conversión binario-hexadecimal\n",
        "    binario_a_hex = {\n",
        "        '0000': '0', '0001': '1', '0010': '2', '0011': '3',\n",
        "        '0100': '4', '0101': '5', '0110': '6', '0111': '7',\n",
        "        '1000': '8', '1001': '9', '1010': 'A', '1011': 'B',\n",
        "        '1100': 'C', '1101': 'D', '1110': 'E', '1111': 'F'\n",
        "    }\n",
        "\n",
        "    # Dividir la parte entera en grupos de 4 dígitos y convertirlos a hexadecimal\n",
        "    grupos_enteros = [parte_entera[i:i+4] for i in range(0, len(parte_entera), 4)]\n",
        "    hexadecimal_entero = ''.join([binario_a_hex[grupo] for grupo in grupos_enteros])\n",
        "\n",
        "    # Convertir la parte fraccionaria a hexadecimal\n",
        "    hexadecimal_fraccionaria = ''\n",
        "    for i in range(0, len(parte_fraccionaria), 4):\n",
        "        grupo = parte_fraccionaria[i:i+4]\n",
        "        while len(grupo) < 4:\n",
        "            grupo += '0'\n",
        "        hexadecimal_fraccionaria += binario_a_hex[grupo]\n",
        "\n",
        "    # Combinar la parte entera y fraccionaria en el número hexadecimal final\n",
        "    if hexadecimal_fraccionaria:\n",
        "        resultado = f\"{hexadecimal_entero}.{hexadecimal_fraccionaria}\"\n",
        "    else:\n",
        "        resultado = hexadecimal_entero\n",
        "\n",
        "    return resultado\n",
        "\n",
        "# Ejemplo de uso\n",
        "numero_binario = \"100110010.01011\"\n",
        "hexadecimal = binario_a_hexadecimal(numero_binario)\n",
        "print(f\"El número binario {numero_binario} en hexadecimal es: {hexadecimal}\")\n"
      ],
      "metadata": {
        "colab": {
          "base_uri": "https://localhost:8080/"
        },
        "id": "LBtC9JEkDy6x",
        "outputId": "33217483-32ef-4e54-b3b8-f11010cc348c"
      },
      "execution_count": 24,
      "outputs": [
        {
          "output_type": "stream",
          "name": "stdout",
          "text": [
            "El número binario 100110010.01011 en hexadecimal es: 132.58\n"
          ]
        }
      ]
    },
    {
      "cell_type": "code",
      "source": [
        "# Pedir al usuario que ingrese un número decimal\n",
        "decimal = float(input(\"Ingresa un número decimal: \"))\n",
        "\n",
        "# Convertir el número decimal a binario, hexadecimal y octal\n",
        "binario = bin(int(decimal))\n",
        "hexadecimal = hex(int(decimal))\n",
        "octal = oct(int(decimal))\n",
        "\n",
        "# Imprimir los resultados\n",
        "print(f\"El número {decimal} en binario es: {binario}\")\n",
        "print(f\"El número {decimal} en hexadecimal es: {hexadecimal}\")\n",
        "print(f\"El número {decimal} en octal es: {octal}\")\n"
      ],
      "metadata": {
        "colab": {
          "base_uri": "https://localhost:8080/"
        },
        "id": "Szl0GTU6V1Su",
        "outputId": "b56a3321-b5b5-4fdc-8fb6-56883fe33eea"
      },
      "execution_count": 20,
      "outputs": [
        {
          "output_type": "stream",
          "name": "stdout",
          "text": [
            "Ingresa un número decimal: 892\n",
            "El número 892.0 en binario es: 0b1101111100\n",
            "El número 892.0 en hexadecimal es: 0x37c\n",
            "El número 892.0 en octal es: 0o1574\n"
          ]
        }
      ]
    },
    {
      "cell_type": "code",
      "source": [
        "def convertir_base(numero_hexadecimal):\n",
        "    try:\n",
        "        # Convertir de hexadecimal a decimal\n",
        "        decimal = int(numero_hexadecimal, 16)\n",
        "\n",
        "        # Convertir de decimal a binario\n",
        "        binario = bin(decimal)\n",
        "\n",
        "        # Convertir de decimal a octal\n",
        "        octal = oct(decimal)\n",
        "\n",
        "        return {\n",
        "            \"Decimal\": decimal,\n",
        "            \"Binario\": binario,\n",
        "            \"Octal\": octal\n",
        "        }\n",
        "    except ValueError:\n",
        "        return \"Error: Ingresa un número hexadecimal válido.\"\n",
        "\n",
        "# Pedir al usuario un número hexadecimal\n",
        "numero_hexadecimal = input(\"Ingresa un número hexadecimal: \")\n",
        "\n",
        "# Llamar a la función para realizar la conversión\n",
        "resultado = convertir_base(numero_hexadecimal)\n",
        "\n",
        "# Imprimir los resultados\n",
        "if isinstance(resultado, dict):\n",
        "    print(f\"Número Decimal: {resultado['Decimal']}\")\n",
        "    print(f\"Número Binario: {resultado['Binario']}\")\n",
        "    print(f\"Número Octal: {resultado['Octal']}\")\n",
        "else:\n",
        "    print(resultado)\n"
      ],
      "metadata": {
        "colab": {
          "base_uri": "https://localhost:8080/"
        },
        "id": "E8r_cSsUVijA",
        "outputId": "a1cfee13-7894-477d-8076-725b701e3667"
      },
      "execution_count": null,
      "outputs": [
        {
          "output_type": "stream",
          "name": "stdout",
          "text": [
            "Ingresa un número hexadecimal: AF6\n",
            "Número Decimal: 2806\n",
            "Número Binario: 0b101011110110\n",
            "Número Octal: 0o5366\n"
          ]
        }
      ]
    },
    {
      "cell_type": "markdown",
      "source": [
        "# SUMAS DE NÚMEROS BINARIOS"
      ],
      "metadata": {
        "id": "Oe9loGkWq2Uk"
      }
    },
    {
      "cell_type": "code",
      "source": [
        "def suma_binaria(binario1, binario2, binario3):\n",
        "    # Asegurémonos de que todos los números binarios tengan 4 dígitos\n",
        "    if len(binario1) != 4 or len(binario2) != 4 or len(binario3) != 4:\n",
        "        return \"Los números binarios deben tener exactamente 4 dígitos cada uno.\"\n",
        "\n",
        "    # Convierte los números binarios en enteros\n",
        "    num1 = int(binario1, 2)\n",
        "    num2 = int(binario2, 2)\n",
        "    num3 = int(binario3, 2)\n",
        "    num4 = int(binario4, 2)\n",
        "    num5 = int(binario5, 2)\n",
        "    num6 = int(binario6, 2)\n",
        "\n",
        "    # Realiza la suma\n",
        "    suma = num1 + num2 + num3 + num4 + num5 + num6\n",
        "\n",
        "    # Convierte la suma nuevamente a binario y elimina el prefijo '0b'\n",
        "    resultado_binario = bin(suma)[2:]\n",
        "\n",
        "    # Asegurémonos de que el resultado tenga 4 dígitos\n",
        "    while len(resultado_binario) < 4:\n",
        "        resultado_binario = '0' + resultado_binario\n",
        "\n",
        "    return resultado_binario\n",
        "\n",
        "# Ingresa los números binarios que deseas sumar\n",
        "binario1 = input(\"Ingresa el primer número binario de 4 dígitos: \")\n",
        "binario2 = input(\"Ingresa el segundo número binario de 4 dígitos: \")\n",
        "binario3 = input(\"Ingresa el tercer número binario de 4 dígitos: \")\n",
        "binario4 = input(\"Ingresa el tercer número binario de 4 dígitos: \")\n",
        "binario5 = input(\"Ingresa el tercer número binario de 4 dígitos: \")\n",
        "binario6 = input(\"Ingresa el tercer número binario de 4 dígitos: \")\n",
        "\n",
        "# Llama a la función y muestra el resultado\n",
        "resultado = suma_binaria(binario1, binario2, binario3)\n",
        "print(f\"La suma de {binario1} + {binario2} + {binario3} es igual a {resultado} en binario.\")"
      ],
      "metadata": {
        "colab": {
          "base_uri": "https://localhost:8080/"
        },
        "id": "Lfiji0sGqiw3",
        "outputId": "ede59005-da7f-4a89-f95e-c0b3b82bea7b"
      },
      "execution_count": 42,
      "outputs": [
        {
          "output_type": "stream",
          "name": "stdout",
          "text": [
            "Ingresa el primer número binario de 4 dígitos: 0111\n",
            "Ingresa el segundo número binario de 4 dígitos: 0110\n",
            "Ingresa el tercer número binario de 4 dígitos: 0101\n",
            "Ingresa el tercer número binario de 4 dígitos: 1011\n",
            "Ingresa el tercer número binario de 4 dígitos: 0100\n",
            "Ingresa el tercer número binario de 4 dígitos: 1011\n",
            "La suma de 0111 + 0110 + 0101 es igual a 101100 en binario.\n"
          ]
        }
      ]
    },
    {
      "cell_type": "code",
      "source": [
        "def binario_a_decimal(numero_binario):\n",
        "    decimal = 0\n",
        "    posicion = 0\n",
        "\n",
        "    # Recorre el número binario de derecha a izquierda\n",
        "    for digito in reversed(numero_binario):\n",
        "\n",
        "        if digito == '1':\n",
        "            decimal += 2**posicion\n",
        "        posicion += 1\n",
        "\n",
        "    return decimal\n",
        "\n",
        "# Input del usuario\n",
        "numero_binario = input(\"Ingresa un número en base binaria: \")\n",
        "\n",
        "# Verificar si el número binario es válido\n",
        "if not all(bit in '01' for bit in numero_binario):\n",
        "    print(\"Número binario inválido. Debe contener solo 0 y 1.\")\n",
        "else:\n",
        "    # Realizar la conversión\n",
        "    resultado_decimal = binario_a_decimal(numero_binario)\n",
        "    print(f\"{numero_binario} en base decimal es igual a {resultado_decimal}.\")"
      ],
      "metadata": {
        "colab": {
          "base_uri": "https://localhost:8080/"
        },
        "id": "ukq_yHTzqiu7",
        "outputId": "5a0bb0f4-b6a4-44cb-fe23-0ece63d7d216"
      },
      "execution_count": 43,
      "outputs": [
        {
          "output_type": "stream",
          "name": "stdout",
          "text": [
            "Ingresa un número en base binaria: 101100\n",
            "101100 en base decimal es igual a 44.\n"
          ]
        }
      ]
    },
    {
      "cell_type": "code",
      "source": [
        ""
      ],
      "metadata": {
        "id": "6R9vr8QtqitJ"
      },
      "execution_count": null,
      "outputs": []
    },
    {
      "cell_type": "code",
      "source": [],
      "metadata": {
        "id": "f4fWT1Ltqiq3"
      },
      "execution_count": null,
      "outputs": []
    },
    {
      "cell_type": "code",
      "source": [],
      "metadata": {
        "id": "eWOxj_d6qipI"
      },
      "execution_count": null,
      "outputs": []
    },
    {
      "cell_type": "code",
      "source": [],
      "metadata": {
        "id": "iCL2e0OEqinD"
      },
      "execution_count": null,
      "outputs": []
    },
    {
      "cell_type": "code",
      "source": [],
      "metadata": {
        "id": "HY6sX1qsqilE"
      },
      "execution_count": null,
      "outputs": []
    },
    {
      "cell_type": "code",
      "source": [],
      "metadata": {
        "id": "RGBMg36iqijD"
      },
      "execution_count": null,
      "outputs": []
    },
    {
      "cell_type": "code",
      "source": [],
      "metadata": {
        "id": "oTytnmzzqihQ"
      },
      "execution_count": null,
      "outputs": []
    },
    {
      "cell_type": "code",
      "source": [],
      "metadata": {
        "id": "49GatZeLqie-"
      },
      "execution_count": null,
      "outputs": []
    },
    {
      "cell_type": "code",
      "source": [],
      "metadata": {
        "id": "xyRGWDhrqicz"
      },
      "execution_count": null,
      "outputs": []
    },
    {
      "cell_type": "code",
      "source": [],
      "metadata": {
        "id": "oJCpEvfkqiaz"
      },
      "execution_count": null,
      "outputs": []
    }
  ]
}