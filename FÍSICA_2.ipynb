{
  "nbformat": 4,
  "nbformat_minor": 0,
  "metadata": {
    "colab": {
      "provenance": [],
      "authorship_tag": "ABX9TyP9AyKSesABfobwv1dOlI1m",
      "include_colab_link": true
    },
    "kernelspec": {
      "name": "python3",
      "display_name": "Python 3"
    },
    "language_info": {
      "name": "python"
    }
  },
  "cells": [
    {
      "cell_type": "markdown",
      "metadata": {
        "id": "view-in-github",
        "colab_type": "text"
      },
      "source": [
        "<a href=\"https://colab.research.google.com/github/LeonardoAlunaM/COMPUTADORAS-Y-PROGRAMACI-N-2O23-/blob/main-COMPUTADORAS-Y-PROGTRAMACI%C3%93N-2023/F%C3%8DSICA_2.ipynb\" target=\"_parent\"><img src=\"https://colab.research.google.com/assets/colab-badge.svg\" alt=\"Open In Colab\"/></a>"
      ]
    },
    {
      "cell_type": "code",
      "execution_count": null,
      "metadata": {
        "id": "i5QCGSmczTL9"
      },
      "outputs": [],
      "source": [
        "# Comenzar a programar las leyes del libro, así como procedimientos y demás para obtener valores de una función o demás de forma \n",
        "# rápida "
      ]
    },
    {
      "cell_type": "code",
      "source": [
        "# Comenzar a programar física vol 2 a partir del capitulo 25 del libro de fisica, pagina 164 "
      ],
      "metadata": {
        "id": "0TCmtOpMDSHY"
      },
      "execution_count": 1,
      "outputs": []
    }
  ]
}