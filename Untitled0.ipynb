{
  "nbformat": 4,
  "nbformat_minor": 0,
  "metadata": {
    "colab": {
      "provenance": [],
      "authorship_tag": "ABX9TyPI0mvBb/jW7N26X2RoNmlO",
      "include_colab_link": true
    },
    "kernelspec": {
      "name": "python3",
      "display_name": "Python 3"
    },
    "language_info": {
      "name": "python"
    }
  },
  "cells": [
    {
      "cell_type": "markdown",
      "metadata": {
        "id": "view-in-github",
        "colab_type": "text"
      },
      "source": [
        "<a href=\"https://colab.research.google.com/github/LeonardoAlunaM/COMPUTADORAS-Y-PROGRAMACI-N-2O23-/blob/main-COMPUTADORAS-Y-PROGTRAMACI%C3%93N-2023/Untitled0.ipynb\" target=\"_parent\"><img src=\"https://colab.research.google.com/assets/colab-badge.svg\" alt=\"Open In Colab\"/></a>"
      ]
    },
    {
      "cell_type": "code",
      "execution_count": null,
      "metadata": {
        "colab": {
          "base_uri": "https://localhost:8080/"
        },
        "id": "_NjTUO2AR1Om",
        "outputId": "7f9ffee8-56ed-46c2-efda-f3e8fce830f5"
      },
      "outputs": [
        {
          "output_type": "stream",
          "name": "stdout",
          "text": [
            "Ingresa un numero100\n",
            "100 False\n"
          ]
        }
      ],
      "source": [
        "n = int(input(\"Ingresa un numero: \"))\n",
        "if n < 100: \n",
        "    print(n,True)\n",
        "else: \n",
        "    print(n, False)"
      ]
    },
    {
      "cell_type": "code",
      "source": [
        "n = int(input(\"Ingresa un monto de compra: \"))\n",
        "tipo_pago = ''\n",
        "if n <= 100:\n",
        "  tipo_pago = 'Efectivo'\n",
        "elif n > 100 and n <= 300:\n",
        "    tipo_pago = 'Tarjeta de debito'\n",
        "elif n > 300 and n <= 500:\n",
        "    tipo_pago = 'Tarjeta de credito oro'\n",
        "else:\n",
        "  tipo_pago = 'Tarjeta de credito platino'\n",
        "\n",
        "print(n, 'pagada con', tipo_pago)"
      ],
      "metadata": {
        "id": "fp356mDIHPN8"
      },
      "execution_count": null,
      "outputs": []
    },
    {
      "cell_type": "code",
      "source": [
        "print(\"El número mayor es:\", max(n1,n2,n3))  # Si se le pasan otros numeros dentro de los argumentos python tambien los toma en cuenta \n",
        "print(\"El número menor es: \", min(n1,n2,n3, key = \"Una funcion\"))   "
      ],
      "metadata": {
        "id": "d-K-575rVnSu"
      },
      "execution_count": 2,
      "outputs": []
    },
    {
      "cell_type": "markdown",
      "source": [
        "Key es un argumento que podriamos pasar como un funcion lambda, son funciones anonimas que regresan un valor0 "
      ],
      "metadata": {
        "id": "05rbwLYiWDK3"
      }
    },
    {
      "cell_type": "code",
      "source": [
        "# Calcula si el año es bisiesto o no \n",
        "a = int(input(\"Ingresa el año: \"))\n",
        "\n",
        "if a >= 1582:\n",
        "    if(a%4 != 0):\n",
        "        print(a,\"Es un año común\")\n",
        "    else:\n",
        "        print(a,\" Es un año bisiesto\")\n",
        "else:\n",
        "    print(\"No es un año del calendari gregoriano\")"
      ],
      "metadata": {
        "colab": {
          "base_uri": "https://localhost:8080/"
        },
        "id": "ecAxc_WjWhjc",
        "outputId": "edf33e23-14ed-459b-aa60-8e2f6f66e112"
      },
      "execution_count": 3,
      "outputs": [
        {
          "output_type": "stream",
          "name": "stdout",
          "text": [
            "Ingresa el año: 2023\n",
            "2023 Es un año común\n"
          ]
        }
      ]
    },
    {
      "cell_type": "markdown",
      "source": [
        "Diferencias entre else y elif "
      ],
      "metadata": {
        "id": "rFHvddmoXiN-"
      }
    },
    {
      "cell_type": "code",
      "source": [
        "# Se muestra una iteración entre los valores de 1 al 10\n",
        "for i in range(1,11): \n",
        "    print(i)"
      ],
      "metadata": {
        "colab": {
          "base_uri": "https://localhost:8080/"
        },
        "id": "smpk64S7XhLh",
        "outputId": "fa2ed684-7c5f-4f26-ce3f-0d15eb37917a"
      },
      "execution_count": 4,
      "outputs": [
        {
          "output_type": "stream",
          "name": "stdout",
          "text": [
            "1\n",
            "2\n",
            "3\n",
            "4\n",
            "5\n",
            "6\n",
            "7\n",
            "8\n",
            "9\n",
            "10\n"
          ]
        }
      ]
    },
    {
      "cell_type": "code",
      "source": [
        "# Para avanzar de 3 en 3 \n",
        "for i in range(1,11,3):\n",
        "    print(i)"
      ],
      "metadata": {
        "id": "JPBIHLrFYg90",
        "outputId": "1aff118b-b254-4441-9835-ee7525f799bd",
        "colab": {
          "base_uri": "https://localhost:8080/"
        }
      },
      "execution_count": 5,
      "outputs": [
        {
          "output_type": "stream",
          "name": "stdout",
          "text": [
            "1\n",
            "4\n",
            "7\n",
            "10\n"
          ]
        }
      ]
    },
    {
      "cell_type": "code",
      "source": [
        "# Imprimir numeros pares del 1 al 10 \n",
        "\n",
        "for i in range(1,10):\n",
        "    if i%2==0: \n",
        "        print(i)\n"
      ],
      "metadata": {
        "id": "k8bZuNgOYYSb",
        "outputId": "a7680883-0684-4893-fbd3-9fee36b409cb",
        "colab": {
          "base_uri": "https://localhost:8080/"
        }
      },
      "execution_count": 6,
      "outputs": [
        {
          "output_type": "stream",
          "name": "stdout",
          "text": [
            "2\n",
            "4\n",
            "6\n",
            "8\n"
          ]
        }
      ]
    },
    {
      "cell_type": "code",
      "source": [
        "# Imprimir numeros impares del 1 al 10 \n",
        "\n",
        "for i in range(1,10):\n",
        "    if i%2 !=0: print(i)\n"
      ],
      "metadata": {
        "id": "OVeawHLwYYPv",
        "outputId": "9e37f209-ae35-4348-f348-e72cd9bb77d8",
        "colab": {
          "base_uri": "https://localhost:8080/"
        }
      },
      "execution_count": 7,
      "outputs": [
        {
          "output_type": "stream",
          "name": "stdout",
          "text": [
            "1\n",
            "3\n",
            "5\n",
            "7\n",
            "9\n"
          ]
        }
      ]
    },
    {
      "cell_type": "code",
      "source": [
        "# break rompe el ciclo \n",
        "\n",
        "\n",
        "for i in range (1,6):\n",
        "    if i == 3: \n",
        "        break\n",
        "    print(i)"
      ],
      "metadata": {
        "id": "sK9lZLesYYNE",
        "outputId": "960cdffd-741c-48fa-ce5a-095b951a9eb6",
        "colab": {
          "base_uri": "https://localhost:8080/"
        }
      },
      "execution_count": 8,
      "outputs": [
        {
          "output_type": "stream",
          "name": "stdout",
          "text": [
            "1\n",
            "2\n"
          ]
        }
      ]
    },
    {
      "cell_type": "code",
      "source": [
        "# Continue en eel ciclo \n",
        "\n",
        "\n",
        "for i in range (1,6):\n",
        "    if i == 3: \n",
        "        continue\n",
        "    print(i)"
      ],
      "metadata": {
        "id": "-PDFIR1TYYKN",
        "outputId": "6110db7c-a1db-46af-c6cd-a1f3065ff779",
        "colab": {
          "base_uri": "https://localhost:8080/"
        }
      },
      "execution_count": 9,
      "outputs": [
        {
          "output_type": "stream",
          "name": "stdout",
          "text": [
            "1\n",
            "2\n",
            "4\n",
            "5\n"
          ]
        }
      ]
    },
    {
      "cell_type": "code",
      "source": [
        "# While \n",
        "\n",
        "numero_magico = 390\n",
        "n = 0\n",
        "while n != numero_magico:\n",
        "    print(\"Estas atrapado en el bucle\") \n",
        "    n = int(input(\"Dame un numero \"))\n",
        "print(\"Felicidades \")"
      ],
      "metadata": {
        "id": "sPWfFdNlYYGC",
        "outputId": "6fbf0fd5-3a44-4855-c92a-ea9231752072",
        "colab": {
          "base_uri": "https://localhost:8080/"
        }
      },
      "execution_count": 10,
      "outputs": [
        {
          "output_type": "stream",
          "name": "stdout",
          "text": [
            "Estas atrapado en el bucle\n",
            "Dame un numero 390 \n",
            "Felicidades \n"
          ]
        }
      ]
    },
    {
      "cell_type": "code",
      "source": [
        "# Acá armamos un ciclo indeterminado de tal modo que es posible calcular varias de las tablas de multiplicar\n",
        "n = int(input(\"Qué tabla queires ver: \"))\n",
        "while (n >=1 and n <= 20 ):\n",
        "    #for i in range(1,11):\n",
        "    print(f\"Tabla del {n}\")\n",
        "    for i in range(1,11):\n",
        "        print(n,'x', i, '=', n*i)\n",
        "    n = int(input(\"Que tabla quieres calcular\"))    "
      ],
      "metadata": {
        "id": "I7HRrSxFYYC_",
        "outputId": "2a47d582-1b4a-4cc5-b083-a0fb4f6f8a19",
        "colab": {
          "base_uri": "https://localhost:8080/",
          "height": 1000
        }
      },
      "execution_count": 11,
      "outputs": [
        {
          "output_type": "stream",
          "name": "stdout",
          "text": [
            "Qué tabla queires ver: 7\n",
            "Tabla del 7\n",
            "7 x 1 = 7\n",
            "7 x 2 = 14\n",
            "7 x 3 = 21\n",
            "7 x 4 = 28\n",
            "7 x 5 = 35\n",
            "7 x 6 = 42\n",
            "7 x 7 = 49\n",
            "7 x 8 = 56\n",
            "7 x 9 = 63\n",
            "7 x 10 = 70\n",
            "Que tabla quieres calcular7\n",
            "Tabla del 7\n",
            "7 x 1 = 7\n",
            "7 x 2 = 14\n",
            "7 x 3 = 21\n",
            "7 x 4 = 28\n",
            "7 x 5 = 35\n",
            "7 x 6 = 42\n",
            "7 x 7 = 49\n",
            "7 x 8 = 56\n",
            "7 x 9 = 63\n",
            "7 x 10 = 70\n",
            "Que tabla quieres calcular89\n",
            "Tabla del 89\n",
            "89 x 1 = 89\n",
            "89 x 2 = 178\n",
            "89 x 3 = 267\n",
            "89 x 4 = 356\n",
            "89 x 5 = 445\n",
            "89 x 6 = 534\n",
            "89 x 7 = 623\n",
            "89 x 8 = 712\n",
            "89 x 9 = 801\n",
            "89 x 10 = 890\n",
            "Que tabla quieres calcular0 \n",
            "Tabla del 0\n",
            "0 x 1 = 0\n",
            "0 x 2 = 0\n",
            "0 x 3 = 0\n",
            "0 x 4 = 0\n",
            "0 x 5 = 0\n",
            "0 x 6 = 0\n",
            "0 x 7 = 0\n",
            "0 x 8 = 0\n",
            "0 x 9 = 0\n",
            "0 x 10 = 0\n"
          ]
        },
        {
          "output_type": "error",
          "ename": "KeyboardInterrupt",
          "evalue": "ignored",
          "traceback": [
            "\u001b[0;31m---------------------------------------------------------------------------\u001b[0m",
            "\u001b[0;31mKeyboardInterrupt\u001b[0m                         Traceback (most recent call last)",
            "\u001b[0;32m<ipython-input-11-763d7c341c68>\u001b[0m in \u001b[0;36m<cell line: 2>\u001b[0;34m()\u001b[0m\n\u001b[1;32m      5\u001b[0m         \u001b[0;32mfor\u001b[0m \u001b[0mi\u001b[0m \u001b[0;32min\u001b[0m \u001b[0mrange\u001b[0m\u001b[0;34m(\u001b[0m\u001b[0;36m1\u001b[0m\u001b[0;34m,\u001b[0m\u001b[0;36m11\u001b[0m\u001b[0;34m)\u001b[0m\u001b[0;34m:\u001b[0m\u001b[0;34m\u001b[0m\u001b[0;34m\u001b[0m\u001b[0m\n\u001b[1;32m      6\u001b[0m             \u001b[0mprint\u001b[0m\u001b[0;34m(\u001b[0m\u001b[0mn\u001b[0m\u001b[0;34m,\u001b[0m\u001b[0;34m'x'\u001b[0m\u001b[0;34m,\u001b[0m \u001b[0mi\u001b[0m\u001b[0;34m,\u001b[0m \u001b[0;34m'='\u001b[0m\u001b[0;34m,\u001b[0m \u001b[0mn\u001b[0m\u001b[0;34m*\u001b[0m\u001b[0mi\u001b[0m\u001b[0;34m)\u001b[0m\u001b[0;34m\u001b[0m\u001b[0;34m\u001b[0m\u001b[0m\n\u001b[0;32m----> 7\u001b[0;31m         \u001b[0mn\u001b[0m \u001b[0;34m=\u001b[0m \u001b[0mint\u001b[0m\u001b[0;34m(\u001b[0m\u001b[0minput\u001b[0m\u001b[0;34m(\u001b[0m\u001b[0;34m\"Que tabla quieres calcular\"\u001b[0m\u001b[0;34m)\u001b[0m\u001b[0;34m)\u001b[0m\u001b[0;34m\u001b[0m\u001b[0;34m\u001b[0m\u001b[0m\n\u001b[0m",
            "\u001b[0;32m/usr/local/lib/python3.10/dist-packages/ipykernel/kernelbase.py\u001b[0m in \u001b[0;36mraw_input\u001b[0;34m(self, prompt)\u001b[0m\n\u001b[1;32m    849\u001b[0m                 \u001b[0;34m\"raw_input was called, but this frontend does not support input requests.\"\u001b[0m\u001b[0;34m\u001b[0m\u001b[0;34m\u001b[0m\u001b[0m\n\u001b[1;32m    850\u001b[0m             )\n\u001b[0;32m--> 851\u001b[0;31m         return self._input_request(str(prompt),\n\u001b[0m\u001b[1;32m    852\u001b[0m             \u001b[0mself\u001b[0m\u001b[0;34m.\u001b[0m\u001b[0m_parent_ident\u001b[0m\u001b[0;34m,\u001b[0m\u001b[0;34m\u001b[0m\u001b[0;34m\u001b[0m\u001b[0m\n\u001b[1;32m    853\u001b[0m             \u001b[0mself\u001b[0m\u001b[0;34m.\u001b[0m\u001b[0m_parent_header\u001b[0m\u001b[0;34m,\u001b[0m\u001b[0;34m\u001b[0m\u001b[0;34m\u001b[0m\u001b[0m\n",
            "\u001b[0;32m/usr/local/lib/python3.10/dist-packages/ipykernel/kernelbase.py\u001b[0m in \u001b[0;36m_input_request\u001b[0;34m(self, prompt, ident, parent, password)\u001b[0m\n\u001b[1;32m    893\u001b[0m             \u001b[0;32mexcept\u001b[0m \u001b[0mKeyboardInterrupt\u001b[0m\u001b[0;34m:\u001b[0m\u001b[0;34m\u001b[0m\u001b[0;34m\u001b[0m\u001b[0m\n\u001b[1;32m    894\u001b[0m                 \u001b[0;31m# re-raise KeyboardInterrupt, to truncate traceback\u001b[0m\u001b[0;34m\u001b[0m\u001b[0;34m\u001b[0m\u001b[0m\n\u001b[0;32m--> 895\u001b[0;31m                 \u001b[0;32mraise\u001b[0m \u001b[0mKeyboardInterrupt\u001b[0m\u001b[0;34m(\u001b[0m\u001b[0;34m\"Interrupted by user\"\u001b[0m\u001b[0;34m)\u001b[0m \u001b[0;32mfrom\u001b[0m \u001b[0;32mNone\u001b[0m\u001b[0;34m\u001b[0m\u001b[0;34m\u001b[0m\u001b[0m\n\u001b[0m\u001b[1;32m    896\u001b[0m             \u001b[0;32mexcept\u001b[0m \u001b[0mException\u001b[0m \u001b[0;32mas\u001b[0m \u001b[0me\u001b[0m\u001b[0;34m:\u001b[0m\u001b[0;34m\u001b[0m\u001b[0;34m\u001b[0m\u001b[0m\n\u001b[1;32m    897\u001b[0m                 \u001b[0mself\u001b[0m\u001b[0;34m.\u001b[0m\u001b[0mlog\u001b[0m\u001b[0;34m.\u001b[0m\u001b[0mwarning\u001b[0m\u001b[0;34m(\u001b[0m\u001b[0;34m\"Invalid Message:\"\u001b[0m\u001b[0;34m,\u001b[0m \u001b[0mexc_info\u001b[0m\u001b[0;34m=\u001b[0m\u001b[0;32mTrue\u001b[0m\u001b[0;34m)\u001b[0m\u001b[0;34m\u001b[0m\u001b[0;34m\u001b[0m\u001b[0m\n",
            "\u001b[0;31mKeyboardInterrupt\u001b[0m: Interrupted by user"
          ]
        }
      ]
    },
    {
      "cell_type": "code",
      "source": [
        "c = \"Hola mundo \"\n",
        "print(type(c))\n",
        "for l in c: \n",
        "    print(l)\n",
        "\n",
        "# Se puede recorrer una lista cmo si fuera una cadena, y tambien se puede validar si, se tiene una cadena\n"
      ],
      "metadata": {
        "id": "Lcw3Y6sKYYAb",
        "outputId": "d5763228-0e11-4e85-895e-62ab7bd722a7",
        "colab": {
          "base_uri": "https://localhost:8080/"
        }
      },
      "execution_count": 12,
      "outputs": [
        {
          "output_type": "stream",
          "name": "stdout",
          "text": [
            "<class 'str'>\n",
            "H\n",
            "o\n",
            "l\n",
            "a\n",
            " \n",
            "m\n",
            "u\n",
            "n\n",
            "d\n",
            "o\n",
            " \n"
          ]
        }
      ]
    },
    {
      "cell_type": "code",
      "source": [
        "c = \"Hola mundo\"\n",
        "v = 'aeiou'\n",
        "print(type(c))\n",
        "for l in c.lower():\n",
        "    print(l)"
      ],
      "metadata": {
        "id": "k5Gaq--wYX-E",
        "outputId": "8c16c022-6221-4b0e-e567-255190a79c96",
        "colab": {
          "base_uri": "https://localhost:8080/"
        }
      },
      "execution_count": 14,
      "outputs": [
        {
          "output_type": "stream",
          "name": "stdout",
          "text": [
            "<class 'str'>\n",
            "h\n",
            "o\n",
            "l\n",
            "a\n",
            " \n",
            "m\n",
            "u\n",
            "n\n",
            "d\n",
            "o\n"
          ]
        }
      ]
    },
    {
      "cell_type": "code",
      "source": [
        "c = \"Hola mundo\"\n",
        "v = 'aeiou'\n",
        "print(type(c))\n",
        "for l in c.lower():\n",
        "    print(l)\n",
        "    if l in v: \n",
        "        print(l,\"es un vocal\")\n",
        "# Además de imprimir la cadena el programa nos indica que letras son vocales"
      ],
      "metadata": {
        "id": "A_K7z0v5YX7Z",
        "outputId": "62abe510-2ad6-4a79-9c57-b2d887495282",
        "colab": {
          "base_uri": "https://localhost:8080/"
        }
      },
      "execution_count": 15,
      "outputs": [
        {
          "output_type": "stream",
          "name": "stdout",
          "text": [
            "<class 'str'>\n",
            "h\n",
            "o\n",
            "o es un vocal\n",
            "l\n",
            "a\n",
            "a es un vocal\n",
            " \n",
            "m\n",
            "u\n",
            "u es un vocal\n",
            "n\n",
            "d\n",
            "o\n",
            "o es un vocal\n"
          ]
        }
      ]
    },
    {
      "cell_type": "code",
      "source": [
        "c = \"Hola mundo\"\n",
        "v = 'aeiou'\n",
        "nv = 0 \n",
        "print(type(c))\n",
        "for l in c.lower():\n",
        "    print(l)\n",
        "    if l in v: \n",
        "        print(l,\"es un vocal\")\n",
        "        nv += 1\n",
        "print(c, 'contiene', nv, 'vocales')        "
      ],
      "metadata": {
        "id": "RXPVbNgeYX41",
        "outputId": "cd080afc-1704-4b9f-e645-e8d28de35476",
        "colab": {
          "base_uri": "https://localhost:8080/"
        }
      },
      "execution_count": 16,
      "outputs": [
        {
          "output_type": "stream",
          "name": "stdout",
          "text": [
            "<class 'str'>\n",
            "h\n",
            "o\n",
            "o es un vocal\n",
            "l\n",
            "a\n",
            "a es un vocal\n",
            " \n",
            "m\n",
            "u\n",
            "u es un vocal\n",
            "n\n",
            "d\n",
            "o\n",
            "o es un vocal\n",
            "Hola mundo contiene 4 vocales\n"
          ]
        }
      ]
    },
    {
      "cell_type": "code",
      "source": [],
      "metadata": {
        "id": "LEZ1UbcgYX2S"
      },
      "execution_count": null,
      "outputs": []
    },
    {
      "cell_type": "code",
      "source": [],
      "metadata": {
        "id": "hlhiTwIQYX0D"
      },
      "execution_count": null,
      "outputs": []
    },
    {
      "cell_type": "code",
      "source": [],
      "metadata": {
        "id": "k_hF2O4AYXxp"
      },
      "execution_count": null,
      "outputs": []
    },
    {
      "cell_type": "code",
      "source": [],
      "metadata": {
        "id": "obwsmNRWYXvL"
      },
      "execution_count": null,
      "outputs": []
    },
    {
      "cell_type": "code",
      "source": [],
      "metadata": {
        "id": "VUxvt-k_YXsv"
      },
      "execution_count": null,
      "outputs": []
    },
    {
      "cell_type": "code",
      "source": [],
      "metadata": {
        "id": "xdn0KwqQYXqE"
      },
      "execution_count": null,
      "outputs": []
    },
    {
      "cell_type": "code",
      "source": [],
      "metadata": {
        "id": "11R3Y0f2YXlz"
      },
      "execution_count": null,
      "outputs": []
    },
    {
      "cell_type": "code",
      "source": [],
      "metadata": {
        "id": "0vYX3cSSYXjX"
      },
      "execution_count": null,
      "outputs": []
    },
    {
      "cell_type": "code",
      "source": [],
      "metadata": {
        "id": "gbH87CiXYXhG"
      },
      "execution_count": null,
      "outputs": []
    },
    {
      "cell_type": "code",
      "source": [],
      "metadata": {
        "id": "KsNE7fClYXet"
      },
      "execution_count": null,
      "outputs": []
    },
    {
      "cell_type": "code",
      "source": [],
      "metadata": {
        "id": "5dVYRGu5YXci"
      },
      "execution_count": null,
      "outputs": []
    },
    {
      "cell_type": "code",
      "source": [],
      "metadata": {
        "id": "47gV-EH4YXZ6"
      },
      "execution_count": null,
      "outputs": []
    },
    {
      "cell_type": "code",
      "source": [],
      "metadata": {
        "id": "0kXFIGoFYXV3"
      },
      "execution_count": null,
      "outputs": []
    },
    {
      "cell_type": "code",
      "source": [],
      "metadata": {
        "id": "vE70HMVLYXTd"
      },
      "execution_count": null,
      "outputs": []
    },
    {
      "cell_type": "code",
      "source": [],
      "metadata": {
        "id": "eEO0GHKBYXRH"
      },
      "execution_count": null,
      "outputs": []
    }
  ]
}