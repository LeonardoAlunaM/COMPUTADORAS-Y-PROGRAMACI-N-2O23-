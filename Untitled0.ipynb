{
  "nbformat": 4,
  "nbformat_minor": 0,
  "metadata": {
    "colab": {
      "provenance": [],
      "authorship_tag": "ABX9TyOHgSgvu/3TsQpsc66f8Ehe",
      "include_colab_link": true
    },
    "kernelspec": {
      "name": "python3",
      "display_name": "Python 3"
    },
    "language_info": {
      "name": "python"
    }
  },
  "cells": [
    {
      "cell_type": "markdown",
      "metadata": {
        "id": "view-in-github",
        "colab_type": "text"
      },
      "source": [
        "<a href=\"https://colab.research.google.com/github/LeonardoAlunaM/COMPUTADORAS-Y-PROGRAMACI-N-2O23-/blob/main-COMPUTADORAS-Y-PROGTRAMACI%C3%93N-2023/Untitled0.ipynb\" target=\"_parent\"><img src=\"https://colab.research.google.com/assets/colab-badge.svg\" alt=\"Open In Colab\"/></a>"
      ]
    },
    {
      "cell_type": "code",
      "execution_count": null,
      "metadata": {
        "colab": {
          "base_uri": "https://localhost:8080/"
        },
        "id": "_NjTUO2AR1Om",
        "outputId": "7f9ffee8-56ed-46c2-efda-f3e8fce830f5"
      },
      "outputs": [
        {
          "output_type": "stream",
          "name": "stdout",
          "text": [
            "Ingresa un numero100\n",
            "100 False\n"
          ]
        }
      ],
      "source": [
        "n = int(input(\"Ingresa un numero: \"))\n",
        "if n < 100: \n",
        "    print(n,True)\n",
        "else: \n",
        "    print(n, False)"
      ]
    },
    {
      "cell_type": "code",
      "source": [
        "n = int(input(\"Ingresa un monto de compra: \"))\n",
        "tipo_pago = ''\n",
        "if n <= 100:\n",
        "  tipo_pago = 'Efectivo'\n",
        "elif n > 100 and n <= 300:\n",
        "    tipo_pago = 'Tarjeta de debito'\n",
        "elif n > 300 and n <= 500:\n",
        "    tipo_pago = 'Tarjeta de credito oro'\n",
        "else:\n",
        "  tipo_pago = 'Tarjeta de credito platino'\n",
        "\n",
        "print(n, 'pagada con', tipo_pago)"
      ],
      "metadata": {
        "id": "fp356mDIHPN8"
      },
      "execution_count": null,
      "outputs": []
    },
    {
      "cell_type": "code",
      "source": [
        "print(\"El número mayor es:\", max(n1,n2,n3))  # Si se le pasan otros numeros dentro de los argumentos python tambien los toma en cuenta \n",
        "print(\"El número menor es: \", min(n1,n2,n3, key = \"Una funcion\"))   "
      ],
      "metadata": {
        "id": "d-K-575rVnSu"
      },
      "execution_count": 2,
      "outputs": []
    },
    {
      "cell_type": "markdown",
      "source": [
        "Key es un argumento que podriamos pasar como un funcion lambda, son funciones anonimas que regresan un valor0 "
      ],
      "metadata": {
        "id": "05rbwLYiWDK3"
      }
    },
    {
      "cell_type": "code",
      "source": [
        "# Calcula si el año es bisiesto o no \n",
        "a = int(input(\"Ingresa el año: \"))\n",
        "\n",
        "if a >= 1582:\n",
        "    if(a%4 != 0):\n",
        "        print(a,\"Es un año común\")\n",
        "    else:\n",
        "        print(a,\" Es un año bisiesto\")\n",
        "else:\n",
        "    print(\"No es un año del calendari gregoriano\")"
      ],
      "metadata": {
        "colab": {
          "base_uri": "https://localhost:8080/"
        },
        "id": "ecAxc_WjWhjc",
        "outputId": "edf33e23-14ed-459b-aa60-8e2f6f66e112"
      },
      "execution_count": 3,
      "outputs": [
        {
          "output_type": "stream",
          "name": "stdout",
          "text": [
            "Ingresa el año: 2023\n",
            "2023 Es un año común\n"
          ]
        }
      ]
    },
    {
      "cell_type": "markdown",
      "source": [
        "Diferencias entre else y elif "
      ],
      "metadata": {
        "id": "rFHvddmoXiN-"
      }
    },
    {
      "cell_type": "code",
      "source": [
        "for i in range \n"
      ],
      "metadata": {
        "id": "smpk64S7XhLh"
      },
      "execution_count": null,
      "outputs": []
    }
  ]
}