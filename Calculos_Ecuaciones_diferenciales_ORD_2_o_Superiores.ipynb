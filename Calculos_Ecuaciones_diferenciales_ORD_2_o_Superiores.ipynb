{
  "nbformat": 4,
  "nbformat_minor": 0,
  "metadata": {
    "colab": {
      "provenance": [],
      "authorship_tag": "ABX9TyNrYP3jHTT4z/Z4VQIus+jf",
      "include_colab_link": true
    },
    "kernelspec": {
      "name": "python3",
      "display_name": "Python 3"
    },
    "language_info": {
      "name": "python"
    }
  },
  "cells": [
    {
      "cell_type": "markdown",
      "metadata": {
        "id": "view-in-github",
        "colab_type": "text"
      },
      "source": [
        "<a href=\"https://colab.research.google.com/github/LeonardoAlunaM/COMPUTADORAS-Y-PROGRAMACI-N-2O23-/blob/main-COMPUTADORAS-Y-PROGTRAMACI%C3%93N-2023/Calculos_Ecuaciones_diferenciales_ORD_2_o_Superiores.ipynb\" target=\"_parent\"><img src=\"https://colab.research.google.com/assets/colab-badge.svg\" alt=\"Open In Colab\"/></a>"
      ]
    },
    {
      "cell_type": "code",
      "source": [
        "# # Calcula las raices en una ecuación de tercer orden \n",
        "\n",
        "from sympy import symbols, Eq, solve\n",
        "\n",
        "# Definir la variable r\n",
        "r = symbols('r')\n",
        "\n",
        "# Definir la ecuación característica\n",
        "equation = Eq(r**3 + 6*r**2 + 11*r + 6, 0)\n",
        "\n",
        "# Resolver la ecuación para encontrar las raíces\n",
        "roots = solve(equation, r)\n",
        "\n",
        "print(\"Las raíces de la ecuación son:\")\n",
        "for root in roots:\n",
        "    print(root.evalf())\n",
        "\n",
        "# Estás fueron las raíces de la pregunta número 10 de la serie 1 "
      ],
      "metadata": {
        "colab": {
          "base_uri": "https://localhost:8080/"
        },
        "id": "36vxNaMJ581T",
        "outputId": "a424310a-5134-4a74-f101-dd009e254a42"
      },
      "execution_count": 2,
      "outputs": [
        {
          "output_type": "stream",
          "name": "stdout",
          "text": [
            "Las raíces de la ecuación son:\n",
            "-3.00000000000000\n",
            "-2.00000000000000\n",
            "-1.00000000000000\n"
          ]
        }
      ]
    },
    {
      "cell_type": "code",
      "source": [
        "# Resuelve un sistema de ecuaciones 3 x 3, esto tras sustituir los valores de la función característica y a continuación derivar \n",
        "# dicha función, de acuerdo a las condiciones iniciales dadas\n",
        "# Al ejecutar el código encontramos los valores de c1, c2 y c3 \n",
        "def solve_system(A, B):\n",
        "    n = len(A)\n",
        "    \n",
        "    # Concatenar matriz A y vector B\n",
        "    AB = []\n",
        "    for i in range(n):\n",
        "        AB.append(A[i] + [B[i]])\n",
        "\n",
        "    # Eliminación hacia adelante\n",
        "    for i in range(n):\n",
        "        if AB[i][i] == 0:\n",
        "            # Intercambiar filas si el pivote es cero\n",
        "            for j in range(i+1, n):\n",
        "                if AB[j][i] != 0:\n",
        "                    AB[i], AB[j] = AB[j], AB[i]\n",
        "                    break\n",
        "\n",
        "        pivot = AB[i][i]\n",
        "        if pivot == 0:\n",
        "            # Sistema no tiene solución única\n",
        "            return None\n",
        "\n",
        "        # Hacer que el pivote sea igual a 1\n",
        "        for j in range(i, n+1):\n",
        "            AB[i][j] /= pivot\n",
        "\n",
        "        # Hacer que los elementos debajo del pivote sean igual a cero\n",
        "        for j in range(i+1, n):\n",
        "            factor = AB[j][i]\n",
        "            for k in range(i, n+1):\n",
        "                AB[j][k] -= factor * AB[i][k]\n",
        "\n",
        "    # Sustitución hacia atrás\n",
        "    for i in range(n-1, 0, -1):\n",
        "        for j in range(i-1, -1, -1):\n",
        "            factor = AB[j][i]\n",
        "            for k in range(i, n+1):\n",
        "                AB[j][k] -= factor * AB[i][k]\n",
        "\n",
        "    # Extraer la solución del sistema\n",
        "    solution = []\n",
        "    for i in range(n):\n",
        "        solution.append(AB[i][-1])\n",
        "\n",
        "    return solution"
      ],
      "metadata": {
        "id": "ZJBCGCkf7PeP"
      },
      "execution_count": 5,
      "outputs": []
    },
    {
      "cell_type": "code",
      "source": [
        "A = [[1, 1, 1],\n",
        "     [-1, -2, -3],\n",
        "     [1, 4, 9]]\n",
        "\n",
        "B = [8.2, 0, 6.8]\n",
        "\n",
        "solution = solve_system(A, B)\n",
        "if solution is not None:\n",
        "    print(\"La solución es:\", solution)\n",
        "else:\n",
        "    print(\"El sistema no tiene solución única.\")"
      ],
      "metadata": {
        "colab": {
          "base_uri": "https://localhost:8080/"
        },
        "id": "J8oS1--x7fvH",
        "outputId": "495394fa-c119-4606-9643-b4be8cf347ec"
      },
      "execution_count": 6,
      "outputs": [
        {
          "output_type": "stream",
          "name": "stdout",
          "text": [
            "La solución es: [28.0, -31.4, 11.6]\n"
          ]
        }
      ]
    },
    {
      "cell_type": "code",
      "source": [
        "# Calcula la función complementaria de la ecuación diferencial \n",
        "# Está codigo funciona para ecuaciones de grado 3, o al menos la probe con una ecuación de tercer grado \n",
        "import sympy as sp\n",
        "\n",
        "# Definir la variable simbólica 'x'\n",
        "x = sp.symbols('x')\n",
        "\n",
        "# Definir la función auxiliar y\n",
        "y = sp.Function('y')(x)\n",
        "\n",
        "# Definir la ecuación diferencial\n",
        "ecuacion_diferencial = y.diff(x, x, x) - y.diff(x, x) - 2*y.diff(x) # Aquí se ingresa la ecuación de la cual se requiere conocer \n",
        "#La función complementaria o función auxiliar \n",
        "\n",
        "# Encontrar la función auxiliar\n",
        "funcion_auxiliar = sp.dsolve(ecuacion_diferencial, y)\n",
        "\n",
        "# Imprimir la función auxiliar\n",
        "print(\"La función auxiliar es:\")\n",
        "print(funcion_auxiliar)"
      ],
      "metadata": {
        "colab": {
          "base_uri": "https://localhost:8080/"
        },
        "id": "BMfn7bAU-6Ts",
        "outputId": "f1c23fea-7f03-48e9-8b14-2021ae9db0fc"
      },
      "execution_count": 9,
      "outputs": [
        {
          "output_type": "stream",
          "name": "stdout",
          "text": [
            "La función auxiliar es:\n",
            "Eq(y(x), C1 + C2*exp(-x) + C3*exp(2*x))\n"
          ]
        }
      ]
    },
    {
      "cell_type": "code",
      "execution_count": 3,
      "metadata": {
        "colab": {
          "base_uri": "https://localhost:8080/"
        },
        "id": "jTjLXeK15QaN",
        "outputId": "a6e8719d-a131-4a9c-8656-1e8936b7194d"
      },
      "outputs": [
        {
          "output_type": "stream",
          "name": "stdout",
          "text": [
            "Las raíces de la ecuación son:\n",
            "-1.00000000000000\n",
            "0\n",
            "2.00000000000000\n"
          ]
        }
      ],
      "source": [
        "# Calcula las raices en una ecuación de tercer orden\n",
        "# Ahora estamos calculando las raices del polinomio carácteristico de la ecuación diferencial y´´´−y´´−2y´= 5x**2 + 1.9x + 10\n",
        "\n",
        "# Correspondiente a la \n",
        "from sympy import symbols, Eq, solve\n",
        "\n",
        "# Definir la variable r\n",
        "r = symbols('r')\n",
        "\n",
        "# Definir la ecuación característica\n",
        "equation = Eq(r**3 - r**2 - 2*r, 0)   #La ecuación diferencial que se pretende evaluar\n",
        "\n",
        "# Resolver la ecuación para encontrar las raíces\n",
        "roots = solve(equation, r)\n",
        "\n",
        "print(\"Las raíces de la ecuación son:\")\n",
        "for root in roots:\n",
        "    print(root.evalf())\n",
        "\n",
        "# Este código fue escrito para comprobar que efectivamente las raíces de la función complementaria son correctas "
      ]
    },
    {
      "cell_type": "code",
      "source": [
        "# En la pregunta 3 es necesario desarrollar el producto de la solución particular, y hecho eso \n",
        "# se procede a calcular las derivadas de dicha solución, según sea el caso.\n",
        "# Hecho eso se igualan las derivadas con el lado izquierdo de la ecuación diferencial, con su correspondiente derivada \n",
        "# y en el lado derecho se coloca la función que hace no homogenea la ecuación diferencial \n",
        "# Se obtiene un sistema de ecuaciones que puede variar dependiendo del orden de la ecuación y finalmente \n",
        "# Se determinan los valores de A, B y C, estos valores junto con el orden x**3, x**2, x forman la solución particular de la \n",
        "# Ecuación diferencial"
      ],
      "metadata": {
        "id": "czwSZeihWlxZ"
      },
      "execution_count": null,
      "outputs": []
    },
    {
      "cell_type": "code",
      "source": [
        "# Acá se resuelve el sistema de ecuaciones de la pregunta numero 3 de la serie, y de hecho wolfram alpha y mis propios calculos en papel \n",
        "# respaldan la respuesta\n",
        "A = [[-6, 0, 0],\n",
        "     [-6, -4, 0],\n",
        "     [6, -2, -2]]\n",
        "\n",
        "B = [5, 1.9, 10]\n",
        "\n",
        "solution = solve_system(A, B)\n",
        "if solution is not None:\n",
        "    print(\"La solución es:\", solution)\n",
        "else:\n",
        "    print(\"El sistema no tiene solución única.\")\n",
        "\n",
        "# El valor obtenido que nos interesaba, de acuerdo a la pregunta es 0.775"
      ],
      "metadata": {
        "colab": {
          "base_uri": "https://localhost:8080/"
        },
        "id": "o7s08oikAPnU",
        "outputId": "9dbb0876-28ae-46b5-99cd-534adb11ff0e"
      },
      "execution_count": 11,
      "outputs": [
        {
          "output_type": "stream",
          "name": "stdout",
          "text": [
            "La solución es: [-0.8333333333333334, 0.775, -8.275]\n"
          ]
        }
      ]
    },
    {
      "cell_type": "code",
      "source": [
        "# Ahora contamos con un algoritmo que resuelve directamente la ecuación diferencial, y muestra toda la solución completa de la misma \n",
        "# Determinar con exactitud el valor buscado dependerá en gran medida de la habilidad de la persona que utilice el código\n",
        "import sympy as sp\n",
        "\n",
        "def solve_differential_equation():\n",
        "    x = sp.symbols('x')\n",
        "    y = sp.Function('y')(x)\n",
        "\n",
        "    # Definir la ecuación diferencial\n",
        "    eq = sp.diff(y, x, 3) - sp.diff(y, x, 2) -2*sp.diff(y, x, 1)  - (5*(x**2) + 1.9*(x)+10)\n",
        "\n",
        "    # Resolver la ecuación diferencial\n",
        "    solution = sp.dsolve(eq)\n",
        "    return solution\n",
        "\n",
        "solution = solve_differential_equation()\n",
        "print(solution)"
      ],
      "metadata": {
        "colab": {
          "base_uri": "https://localhost:8080/"
        },
        "id": "TPwMDcDQlsmO",
        "outputId": "22059cdc-b36d-4291-c4dc-63a59fc862e7"
      },
      "execution_count": 17,
      "outputs": [
        {
          "output_type": "stream",
          "name": "stdout",
          "text": [
            "Eq(y(x), C1 + C2/exp(-1.0*x)**2.0 + C3*exp(-1.0*x)**1.0 - 0.833333333333333*x**3 + 0.775*x**2 - 8.275*x)\n"
          ]
        }
      ]
    },
    {
      "cell_type": "markdown",
      "source": [
        "Las 2 siguientes instrucciones de codigo se utilizaron en concreto para poder calcular el vlor del sumando que acompañana a (x**2) * (sen(x))\n",
        "Esto de acuerdo a la pregunta siguiente, la cual corresponde a la numero 5 de la segunda serie de ejercicios\n",
        "\n",
        "Resuelva la siguiente ecuación diferencial por coeficientes indeterminados yIV+5y´´´+7y´´+5y´+6y=3.6xcos(x)+3.9sen(x)\n",
        "  y obtenga el valor del coeficiente que acompaña al sumando x2sen(x)"
      ],
      "metadata": {
        "id": "Thv4jTzAlGIr"
      }
    },
    {
      "cell_type": "code",
      "source": [
        "import sympy as sp\n",
        "\n",
        "def solve_differential_equation():\n",
        "    x = sp.symbols('x')\n",
        "    y = sp.Function('y')(x)\n",
        "\n",
        "    # Definir la ecuación diferencial\n",
        "    eq = sp.diff(y, x, 4) + 5*sp.diff(y, x, 3) + 7*sp.diff(y, x, 2) + 5*sp.diff(y, x) + 6*y - (3.6*x*sp.cos(x) + 3.9*sp.sin(x))\n",
        "\n",
        "    # Resolver la ecuación diferencial\n",
        "    solution = sp.dsolve(eq)\n",
        "    return solution\n",
        "\n",
        "solution = solve_differential_equation()\n",
        "print(solution)"
      ],
      "metadata": {
        "colab": {
          "base_uri": "https://localhost:8080/"
        },
        "id": "4riiLGbJeRFz",
        "outputId": "49ff80e2-d6dd-400d-e682-0ae1f5da94da"
      },
      "execution_count": 13,
      "outputs": [
        {
          "output_type": "stream",
          "name": "stdout",
          "text": [
            "Eq(y(x), C1*exp(-3.0*x) + C2*exp(-2.0*x) + C3*sin(1.0*x) + C4*cos(1.0*x) + 0.09*x**2*sin(x) - 0.09*x**2*cos(x) - 0.177*x*sin(x) + 0.075*x*cos(x))\n"
          ]
        }
      ]
    },
    {
      "cell_type": "code",
      "source": [
        "# Este código fue escrito para comprobar que efectivamente 0.09 es el valor buscado \n",
        "import sympy as sp\n",
        "\n",
        "def solve_differential_equation():\n",
        "    x = sp.symbols('x')\n",
        "    y = sp.Function('y')(x)\n",
        "\n",
        "    # Definir la ecuación diferencial\n",
        "    eq = sp.diff(y, x, 4) + 5*sp.diff(y, x, 3) + 7*sp.diff(y, x, 2) + 5*sp.diff(y, x) + 6*y - (3.6*x*sp.cos(x) + 3.9*sp.sin(x))\n",
        "\n",
        "    # Resolver la ecuación diferencial\n",
        "    solution = sp.dsolve(eq)\n",
        "    return solution\n",
        "\n",
        "solution = solve_differential_equation()\n",
        "\n",
        "# Obtener el coeficiente del término requerido\n",
        "x = sp.symbols('x')\n",
        "term = (x**2) * sp.sin(x)\n",
        "coefficient = sp.collect(solution.rhs, term).coeff(term)\n",
        "print(\"El coeficiente del término (x^2) * sin(x) es:\", coefficient)"
      ],
      "metadata": {
        "colab": {
          "base_uri": "https://localhost:8080/"
        },
        "id": "xod8w58xeRDm",
        "outputId": "0e18ab45-a329-4538-ef1e-ee82180b7716"
      },
      "execution_count": 16,
      "outputs": [
        {
          "output_type": "stream",
          "name": "stdout",
          "text": [
            "El coeficiente del término (x^2) * sin(x) es: 0.0900000000000000\n"
          ]
        }
      ]
    },
    {
      "cell_type": "markdown",
      "source": [
        "Pregunta 6 de la segunda serie de ejercicios"
      ],
      "metadata": {
        "id": "GZsfuZQqnxx0"
      }
    },
    {
      "cell_type": "code",
      "source": [
        "import sympy as sp\n",
        "\n",
        "def solve_differential_equation():\n",
        "    x = sp.symbols('x')\n",
        "    y = sp.Function('y')(x)\n",
        "\n",
        "    # Definir la ecuación diferencial\n",
        "    eq = sp.diff(y, x, 3) + 9*sp.diff(y, x, 2) + 27*sp.diff(y, x, 1) + 27*y - 30*sp.exp(-3*x)\n",
        "\n",
        "    # Resolver la ecuación diferencial\n",
        "    solution = sp.dsolve(eq)\n",
        "    return solution\n",
        "\n",
        "solution = solve_differential_equation()\n",
        "print(solution)"
      ],
      "metadata": {
        "colab": {
          "base_uri": "https://localhost:8080/"
        },
        "id": "CnVMdwFQeRA9",
        "outputId": "0c21b155-32b4-494d-9af6-937e4b8f3e85"
      },
      "execution_count": 18,
      "outputs": [
        {
          "output_type": "stream",
          "name": "stdout",
          "text": [
            "Eq(y(x), (C1 + x*(C2 + x*(C3 + 5*x)))*exp(-3*x))\n"
          ]
        }
      ]
    },
    {
      "cell_type": "code",
      "source": [
        "import sympy as sp\n",
        "\n",
        "def solve_differential_equation():\n",
        "    x = sp.Symbol('x')\n",
        "    y = sp.Function('y')(x)\n",
        "\n",
        "    # Definir la ecuación diferencial\n",
        "    equation = sp.Eq(y.diff(x, 3) + 9*y.diff(x, 2) + 27*y.diff(x) + 27*y, 30*sp.exp(-3*x))\n",
        "\n",
        "    # Resolver la ecuación diferencial\n",
        "    solution = sp.dsolve(equation, y)\n",
        "\n",
        "    # Encontrar las constantes de integración usando las condiciones iniciales\n",
        "    constants = sp.solve((solution.subs(x, 0).subs('C1', 1).subs('C2', 1).subs('C3', 1)), ('C1', 'C2', 'C3'))\n",
        "\n",
        "    # Reemplazar las constantes de integración en la solución general\n",
        "    particular_solution = solution.subs(constants)\n",
        "\n",
        "    return particular_solution\n",
        "\n",
        "# Obtener la solución de la ecuación diferencial\n",
        "solution = solve_differential_equation()\n",
        "\n",
        "# Imprimir la solución\n",
        "print(\"La solución de la ecuación diferencial es:\")\n",
        "print(solution)"
      ],
      "metadata": {
        "colab": {
          "base_uri": "https://localhost:8080/"
        },
        "id": "0TspFf_4nw9o",
        "outputId": "4d1394c0-b191-429f-ad2d-85f6933523c8"
      },
      "execution_count": 19,
      "outputs": [
        {
          "output_type": "stream",
          "name": "stdout",
          "text": [
            "La solución de la ecuación diferencial es:\n",
            "Eq(y(x), (C1 + x*(C2 + x*(C3 + 5*x)))*exp(-3*x))\n"
          ]
        }
      ]
    },
    {
      "cell_type": "code",
      "source": [
        "import sympy as sp\n",
        "\n",
        "def differentiate_expression(expression, variable, n=1):\n",
        "    x = sp.Symbol(variable)\n",
        "    expr = sp.sympify(expression)\n",
        "\n",
        "    for _ in range(n):\n",
        "        expr = sp.diff(expr, x)\n",
        "\n",
        "    return expr\n",
        "\n",
        "# Definir la expresión a derivar\n",
        "expression = \"Eq(y(x), (C1 + x*(C2 + x*(C3 + 5*x)))*exp(-3*x))\"\n",
        "\n",
        "# Derivar la expresión dos veces\n",
        "first_derivative = differentiate_expression(expression, \"x\", 1)\n",
        "second_derivative = differentiate_expression(expression, \"x\", 2)\n",
        "\n",
        "# Imprimir los resultados de las derivadas\n",
        "print(\"Primera derivada:\")\n",
        "print(first_derivative)\n",
        "print(\"\\nSegunda derivada:\")\n",
        "print(second_derivative)"
      ],
      "metadata": {
        "colab": {
          "base_uri": "https://localhost:8080/"
        },
        "id": "ih7mBgEAp2cI",
        "outputId": "48d594e8-4766-4dad-e0b8-efa5829dab68"
      },
      "execution_count": 20,
      "outputs": [
        {
          "output_type": "stream",
          "name": "stdout",
          "text": [
            "Primera derivada:\n",
            "Derivative(Eq(y(x), (C1 + x*(C2 + x*(C3 + 5*x)))*exp(-3*x)), x)\n",
            "\n",
            "Segunda derivada:\n",
            "Derivative(Eq(y(x), (C1 + x*(C2 + x*(C3 + 5*x)))*exp(-3*x)), (x, 2))\n"
          ]
        }
      ]
    },
    {
      "cell_type": "code",
      "source": [
        "A = [[-6, 0, 0],\n",
        "     [-6, -4, 0],\n",
        "     [6, -2, -2]]\n",
        "\n",
        "B = [5, 1.9, 10]\n",
        "\n",
        "solution = solve_system(A, B)\n",
        "if solution is not None:\n",
        "    print(\"La solución es:\", solution)\n",
        "else:\n",
        "    print(\"El sistema no tiene solución única.\")"
      ],
      "metadata": {
        "id": "YoNn6BY5p2aH"
      },
      "execution_count": null,
      "outputs": []
    },
    {
      "cell_type": "code",
      "source": [
        "import numpy as np\n",
        "from scipy.integrate import solve_ivp\n",
        "import matplotlib.pyplot as plt\n",
        "\n",
        "def f(x, y):\n",
        "    return np.array([y[1], y[2], -27*y[2] - 27*y[1] - 27*y[0] + 30*np.exp(-3*x)])\n",
        "\n",
        "# Condiciones iniciales\n",
        "y0 = np.array([1, 1, 1])\n",
        "\n",
        "# Rango de valores de x\n",
        "x_range = np.linspace(0, 1, 100)\n",
        "\n",
        "# Resolver la ecuación diferencial\n",
        "sol = solve_ivp(f, [0, 1], y0, t_eval=x_range)\n",
        "\n",
        "# Obtener la solución y(x)\n",
        "y_solution = sol.y[0]\n",
        "\n",
        "# Graficar la solución\n",
        "plt.plot(sol.t, y_solution)\n",
        "plt.xlabel('x')\n",
        "plt.ylabel('y(x)')\n",
        "plt.title('Solución de la ecuación diferencial')\n",
        "plt.grid(True)\n",
        "plt.show()"
      ],
      "metadata": {
        "colab": {
          "base_uri": "https://localhost:8080/",
          "height": 472
        },
        "id": "j-AZ32Rbp2Yk",
        "outputId": "999fc306-8ee7-44c1-9ce9-3e1fc1dc63cd"
      },
      "execution_count": 21,
      "outputs": [
        {
          "output_type": "display_data",
          "data": {
            "text/plain": [
              "<Figure size 640x480 with 1 Axes>"
            ],
            "image/png": "[encoded data removed]"
          },
          "metadata": {}
        }
      ]
    },
    {
      "cell_type": "code",
      "source": [
        "from sympy import Function, symbols, Eq, exp, diff, dsolve\n",
        "\n",
        "x = symbols('x')\n",
        "y = Function('y')(x)\n",
        "\n",
        "# Definir la ecuación diferencial\n",
        "eq = Eq(diff(y, x, x, x) + 9 * diff(y, x, x) + 27 * diff(y, x) + 27 * y - 30 * exp(-3 * x), 0)\n",
        "\n",
        "# Resolver la ecuación diferencial\n",
        "sol = dsolve(eq, y)\n",
        "\n",
        "# Mostrar la solución en forma de una función\n",
        "print(\"La solución de la ecuación diferencial es:\")\n",
        "print(sol.rhs)"
      ],
      "metadata": {
        "colab": {
          "base_uri": "https://localhost:8080/"
        },
        "id": "CGkA4ZUjp2Uu",
        "outputId": "b731235c-7197-4c5a-810a-cd6374f5c210"
      },
      "execution_count": 22,
      "outputs": [
        {
          "output_type": "stream",
          "name": "stdout",
          "text": [
            "La solución de la ecuación diferencial es:\n",
            "(C1 + x*(C2 + x*(C3 + 5*x)))*exp(-3*x)\n"
          ]
        }
      ]
    },
    {
      "cell_type": "code",
      "source": [
        "import math\n",
        "\n",
        "def evaluate_expression(x):\n",
        "    return (11 - 19*x + (1/2)*x**2) * math.exp(-3*x) - 10*x**2 * math.exp(-3*x) + 20*x * math.exp(-3*x) - 10 * math.exp(-3*x)\n",
        "\n",
        "# Valor de x\n",
        "x_value = -0.92\n",
        "\n",
        "# Evaluar la expresión en x = -0.92\n",
        "y = evaluate_expression(x_value)\n",
        "\n",
        "# Imprimir el resultado\n",
        "print(f\"y({x_value}) = {y}\")"
      ],
      "metadata": {
        "colab": {
          "base_uri": "https://localhost:8080/"
        },
        "id": "8YHLYlF2p2Sn",
        "outputId": "20d798d9-22da-4bec-ad43-fb8e3676459b"
      },
      "execution_count": 25,
      "outputs": [
        {
          "output_type": "stream",
          "name": "stdout",
          "text": [
            "y(-0.92) = -125.7793897425114\n"
          ]
        }
      ]
    },
    {
      "cell_type": "code",
      "source": [
        "import sympy as sp\n",
        "x = sp.symbols('x')\n",
        "y = sp.Function('y')(x)\n",
        "u = sp.Function('u')(x)\n",
        "v = sp.Function('v')(x)\n",
        "w = sp.Function('w')(x)\n",
        "c1, c2, c3 = sp.symbols('c1 c2 c3')\n",
        "yp = u + v*x + w*x**2\n",
        "yp_diff = sp.diff(yp, x, x, x)\n",
        "u_expr = sp.solve(yp_diff - 2.1, u)[0]\n",
        "u_coef = u_expr.coeff(u)\n",
        "print(\"Coeficiente de u(x):\", u_coef)\n",
        "import sympy as sp\n",
        "\n",
        "x = sp.symbols('x')\n",
        "y = sp.Function('y')(x)\n",
        "u = sp.Function('u')(x)\n",
        "v = sp.Function('v')(x)\n",
        "w = sp.Function('w')(x)\n",
        "c1, c2, c3 = sp.symbols('c1 c2 c3')\n",
        "\n",
        "yp = u + v*x + w*x**2\n",
        "yp_diff = sp.diff(yp, x, x, x)\n",
        "u_expr = sp.solve(yp_diff - 2.1, u)[0]\n",
        "u_coef = u_expr.coeff(u)\n",
        "\n",
        "print(\"Coeficiente de u(x):\", u_coef)"
      ],
      "metadata": {
        "colab": {
          "base_uri": "https://localhost:8080/",
          "height": 235
        },
        "id": "dmr3qZYHp2Qd",
        "outputId": "57a148e9-afe5-49f8-9956-4465f6ae65fb"
      },
      "execution_count": 32,
      "outputs": [
        {
          "output_type": "error",
          "ename": "IndexError",
          "evalue": "ignored",
          "traceback": [
            "\u001b[0;31m---------------------------------------------------------------------------\u001b[0m",
            "\u001b[0;31mIndexError\u001b[0m                                Traceback (most recent call last)",
            "\u001b[0;32m<ipython-input-32-fecd420f6cc9>\u001b[0m in \u001b[0;36m<cell line: 10>\u001b[0;34m()\u001b[0m\n\u001b[1;32m      8\u001b[0m \u001b[0myp\u001b[0m \u001b[0;34m=\u001b[0m \u001b[0mu\u001b[0m \u001b[0;34m+\u001b[0m \u001b[0mv\u001b[0m\u001b[0;34m*\u001b[0m\u001b[0mx\u001b[0m \u001b[0;34m+\u001b[0m \u001b[0mw\u001b[0m\u001b[0;34m*\u001b[0m\u001b[0mx\u001b[0m\u001b[0;34m**\u001b[0m\u001b[0;36m2\u001b[0m\u001b[0;34m\u001b[0m\u001b[0;34m\u001b[0m\u001b[0m\n\u001b[1;32m      9\u001b[0m \u001b[0myp_diff\u001b[0m \u001b[0;34m=\u001b[0m \u001b[0msp\u001b[0m\u001b[0;34m.\u001b[0m\u001b[0mdiff\u001b[0m\u001b[0;34m(\u001b[0m\u001b[0myp\u001b[0m\u001b[0;34m,\u001b[0m \u001b[0mx\u001b[0m\u001b[0;34m,\u001b[0m \u001b[0mx\u001b[0m\u001b[0;34m,\u001b[0m \u001b[0mx\u001b[0m\u001b[0;34m)\u001b[0m\u001b[0;34m\u001b[0m\u001b[0;34m\u001b[0m\u001b[0m\n\u001b[0;32m---> 10\u001b[0;31m \u001b[0mu_expr\u001b[0m \u001b[0;34m=\u001b[0m \u001b[0msp\u001b[0m\u001b[0;34m.\u001b[0m\u001b[0msolve\u001b[0m\u001b[0;34m(\u001b[0m\u001b[0myp_diff\u001b[0m \u001b[0;34m-\u001b[0m \u001b[0;36m2.1\u001b[0m\u001b[0;34m,\u001b[0m \u001b[0mu\u001b[0m\u001b[0;34m)\u001b[0m\u001b[0;34m[\u001b[0m\u001b[0;36m0\u001b[0m\u001b[0;34m]\u001b[0m\u001b[0;34m\u001b[0m\u001b[0;34m\u001b[0m\u001b[0m\n\u001b[0m\u001b[1;32m     11\u001b[0m \u001b[0mu_coef\u001b[0m \u001b[0;34m=\u001b[0m \u001b[0mu_expr\u001b[0m\u001b[0;34m.\u001b[0m\u001b[0mcoeff\u001b[0m\u001b[0;34m(\u001b[0m\u001b[0mu\u001b[0m\u001b[0;34m)\u001b[0m\u001b[0;34m\u001b[0m\u001b[0;34m\u001b[0m\u001b[0m\n\u001b[1;32m     12\u001b[0m \u001b[0mprint\u001b[0m\u001b[0;34m(\u001b[0m\u001b[0;34m\"Coeficiente de u(x):\"\u001b[0m\u001b[0;34m,\u001b[0m \u001b[0mu_coef\u001b[0m\u001b[0;34m)\u001b[0m\u001b[0;34m\u001b[0m\u001b[0;34m\u001b[0m\u001b[0m\n",
            "\u001b[0;31mIndexError\u001b[0m: list index out of range"
          ]
        }
      ]
    },
    {
      "cell_type": "code",
      "source": [
        "import sympy as sp\n",
        "\n",
        "# Definir las variables\n",
        "x = sp.Symbol('x')\n",
        "\n",
        "# Definir las funciones desconocidas\n",
        "u = sp.Function('u')(x)\n",
        "v = sp.Function('v')(x)\n",
        "w = sp.Function('w')(x)\n",
        "\n",
        "# Calcular las derivadas\n",
        "u_prime = u.diff(x)\n",
        "u_double_prime = u.diff(x, 2)\n",
        "u_triple_prime = u.diff(x, 3)\n",
        "\n",
        "v_prime = v.diff(x)\n",
        "w_prime = w.diff(x)\n",
        "\n",
        "# Definir la ecuación diferencial\n",
        "eq = sp.Eq(u_triple_prime + 3 * v_prime + 3 * w_prime * x, 2.1)\n",
        "\n",
        "# Resolver la ecuación para u_triple_prime\n",
        "u_triple_prime_val = sp.solve(eq, u_triple_prime)[0]\n",
        "\n",
        "# Coeficiente de u(x)\n",
        "coefficient_u = sp.collect(u_triple_prime_val, u).coeff(u)\n",
        "\n",
        "print(\"El coeficiente correspondiente a u(x) es:\", coefficient_u)\n"
      ],
      "metadata": {
        "colab": {
          "base_uri": "https://localhost:8080/"
        },
        "id": "2oKTjp4qp2OI",
        "outputId": "f1b0619b-a328-42e2-965a-b3065a2d175a"
      },
      "execution_count": 33,
      "outputs": [
        {
          "output_type": "stream",
          "name": "stdout",
          "text": [
            "El coeficiente correspondiente a u(x) es: 0\n"
          ]
        }
      ]
    },
    {
      "cell_type": "code",
      "source": [],
      "metadata": {
        "id": "KUBsjFupp1-W"
      },
      "execution_count": null,
      "outputs": []
    },
    {
      "cell_type": "code",
      "source": [],
      "metadata": {
        "id": "3b2lwFZrAPlf"
      },
      "execution_count": null,
      "outputs": []
    },
    {
      "cell_type": "code",
      "source": [
        "# Acá se resuelve el sistema de ecuaciones deel ejemplo 3 delcapitulo 4.4, pagina 159 del libro de Ecuaciones diferenciales Zill \n",
        "\n",
        "A = [[-3, 0, 0, 0 ],\n",
        "     [-2, -3, 0, 0],\n",
        "     [0, 0, -3, 0],\n",
        "     [0, 0, 2,-3]]\n",
        "\n",
        "B = [4, -5, 6, 0]\n",
        "\n",
        "solution = solve_system(A, B)\n",
        "if solution is not None:\n",
        "    print(\"La solución es:\", solution)\n",
        "else:\n",
        "    print(\"El sistema no tiene solución única.\")\n",
        "# La solución aquí mostrada concuerda con los valores obtenidos en el ejercicio del libro"
      ],
      "metadata": {
        "colab": {
          "base_uri": "https://localhost:8080/"
        },
        "id": "qdywETR9APjP",
        "outputId": "4f923d83-8905-4b58-e1ae-c7ba94452093"
      },
      "execution_count": 12,
      "outputs": [
        {
          "output_type": "stream",
          "name": "stdout",
          "text": [
            "La solución es: [-1.3333333333333333, 2.5555555555555554, -2.0, -1.3333333333333333]\n"
          ]
        }
      ]
    },
    {
      "cell_type": "code",
      "source": [],
      "metadata": {
        "id": "4vQlqgJ7APg7"
      },
      "execution_count": null,
      "outputs": []
    },
    {
      "cell_type": "code",
      "source": [],
      "metadata": {
        "id": "WgePF5xoAPe2"
      },
      "execution_count": null,
      "outputs": []
    },
    {
      "cell_type": "code",
      "source": [],
      "metadata": {
        "id": "H4M1KakdAPcu"
      },
      "execution_count": null,
      "outputs": []
    },
    {
      "cell_type": "code",
      "source": [],
      "metadata": {
        "id": "Ccy2Io_4APbF"
      },
      "execution_count": null,
      "outputs": []
    },
    {
      "cell_type": "code",
      "source": [],
      "metadata": {
        "id": "GHJr31VAAPZX"
      },
      "execution_count": null,
      "outputs": []
    },
    {
      "cell_type": "code",
      "source": [],
      "metadata": {
        "id": "vTv0yWvcAPWT"
      },
      "execution_count": null,
      "outputs": []
    },
    {
      "cell_type": "code",
      "source": [],
      "metadata": {
        "id": "FiCpqQiwAPT_"
      },
      "execution_count": null,
      "outputs": []
    },
    {
      "cell_type": "code",
      "source": [],
      "metadata": {
        "id": "TKtLCpQ5APRq"
      },
      "execution_count": null,
      "outputs": []
    },
    {
      "cell_type": "code",
      "source": [],
      "metadata": {
        "id": "2ngApI-9APPV"
      },
      "execution_count": null,
      "outputs": []
    },
    {
      "cell_type": "code",
      "source": [],
      "metadata": {
        "id": "WTOuLbVYAPM8"
      },
      "execution_count": null,
      "outputs": []
    },
    {
      "cell_type": "code",
      "source": [],
      "metadata": {
        "id": "p2DA_Yo9AO3m"
      },
      "execution_count": null,
      "outputs": []
    },
    {
      "cell_type": "code",
      "source": [],
      "metadata": {
        "id": "5iVopz0158e-"
      },
      "execution_count": null,
      "outputs": []
    }
  ]
}