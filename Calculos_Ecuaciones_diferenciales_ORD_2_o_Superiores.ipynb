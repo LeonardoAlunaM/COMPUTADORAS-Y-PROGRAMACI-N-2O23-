{
  "nbformat": 4,
  "nbformat_minor": 0,
  "metadata": {
    "colab": {
      "provenance": [],
      "authorship_tag": "ABX9TyPx+CCaKm9HTxcn9oWGe3QT",
      "include_colab_link": true
    },
    "kernelspec": {
      "name": "python3",
      "display_name": "Python 3"
    },
    "language_info": {
      "name": "python"
    }
  },
  "cells": [
    {
      "cell_type": "markdown",
      "metadata": {
        "id": "view-in-github",
        "colab_type": "text"
      },
      "source": [
        "<a href=\"https://colab.research.google.com/github/LeonardoAlunaM/COMPUTADORAS-Y-PROGRAMACI-N-2O23-/blob/main-COMPUTADORAS-Y-PROGTRAMACI%C3%93N-2023/Calculos_Ecuaciones_diferenciales_ORD_2_o_Superiores.ipynb\" target=\"_parent\"><img src=\"https://colab.research.google.com/assets/colab-badge.svg\" alt=\"Open In Colab\"/></a>"
      ]
    },
    {
      "cell_type": "code",
      "source": [
        "# # Calcula las raices en una ecuación de tercer orden \n",
        "\n",
        "from sympy import symbols, Eq, solve\n",
        "\n",
        "# Definir la variable r\n",
        "r = symbols('r')\n",
        "\n",
        "# Definir la ecuación característica\n",
        "equation = Eq(r**3 + 6*r**2 + 11*r + 6, 0)\n",
        "\n",
        "# Resolver la ecuación para encontrar las raíces\n",
        "roots = solve(equation, r)\n",
        "\n",
        "print(\"Las raíces de la ecuación son:\")\n",
        "for root in roots:\n",
        "    print(root.evalf())\n",
        "\n",
        "# Estás fueron las raíces de la pregunta número 10 de la serie 1 "
      ],
      "metadata": {
        "colab": {
          "base_uri": "https://localhost:8080/"
        },
        "id": "36vxNaMJ581T",
        "outputId": "a424310a-5134-4a74-f101-dd009e254a42"
      },
      "execution_count": 2,
      "outputs": [
        {
          "output_type": "stream",
          "name": "stdout",
          "text": [
            "Las raíces de la ecuación son:\n",
            "-3.00000000000000\n",
            "-2.00000000000000\n",
            "-1.00000000000000\n"
          ]
        }
      ]
    },
    {
      "cell_type": "code",
      "source": [
        "# Resuelve un sistema de ecuaciones 3 x 3, esto tras sustituir los valores de la función característica y a continuación derivar \n",
        "# dicha función, de acuerdo a las condiciones iniciales dadas\n",
        "# Al ejecutar el código encontramos los valores de c1, c2 y c3 \n",
        "def solve_system(A, B):\n",
        "    n = len(A)\n",
        "    \n",
        "    # Concatenar matriz A y vector B\n",
        "    AB = []\n",
        "    for i in range(n):\n",
        "        AB.append(A[i] + [B[i]])\n",
        "\n",
        "    # Eliminación hacia adelante\n",
        "    for i in range(n):\n",
        "        if AB[i][i] == 0:\n",
        "            # Intercambiar filas si el pivote es cero\n",
        "            for j in range(i+1, n):\n",
        "                if AB[j][i] != 0:\n",
        "                    AB[i], AB[j] = AB[j], AB[i]\n",
        "                    break\n",
        "\n",
        "        pivot = AB[i][i]\n",
        "        if pivot == 0:\n",
        "            # Sistema no tiene solución única\n",
        "            return None\n",
        "\n",
        "        # Hacer que el pivote sea igual a 1\n",
        "        for j in range(i, n+1):\n",
        "            AB[i][j] /= pivot\n",
        "\n",
        "        # Hacer que los elementos debajo del pivote sean igual a cero\n",
        "        for j in range(i+1, n):\n",
        "            factor = AB[j][i]\n",
        "            for k in range(i, n+1):\n",
        "                AB[j][k] -= factor * AB[i][k]\n",
        "\n",
        "    # Sustitución hacia atrás\n",
        "    for i in range(n-1, 0, -1):\n",
        "        for j in range(i-1, -1, -1):\n",
        "            factor = AB[j][i]\n",
        "            for k in range(i, n+1):\n",
        "                AB[j][k] -= factor * AB[i][k]\n",
        "\n",
        "    # Extraer la solución del sistema\n",
        "    solution = []\n",
        "    for i in range(n):\n",
        "        solution.append(AB[i][-1])\n",
        "\n",
        "    return solution"
      ],
      "metadata": {
        "id": "ZJBCGCkf7PeP"
      },
      "execution_count": 5,
      "outputs": []
    },
    {
      "cell_type": "code",
      "source": [
        "A = [[1, 1, 1],\n",
        "     [-1, -2, -3],\n",
        "     [1, 4, 9]]\n",
        "\n",
        "B = [8.2, 0, 6.8]\n",
        "\n",
        "solution = solve_system(A, B)\n",
        "if solution is not None:\n",
        "    print(\"La solución es:\", solution)\n",
        "else:\n",
        "    print(\"El sistema no tiene solución única.\")"
      ],
      "metadata": {
        "colab": {
          "base_uri": "https://localhost:8080/"
        },
        "id": "J8oS1--x7fvH",
        "outputId": "495394fa-c119-4606-9643-b4be8cf347ec"
      },
      "execution_count": 6,
      "outputs": [
        {
          "output_type": "stream",
          "name": "stdout",
          "text": [
            "La solución es: [28.0, -31.4, 11.6]\n"
          ]
        }
      ]
    },
    {
      "cell_type": "code",
      "source": [
        "# Calcula la función complementaria de la ecuación diferencial \n",
        "# Está codigo funciona para ecuaciones de grado 3, o al menos la probe con una ecuación de tercer grado \n",
        "import sympy as sp\n",
        "\n",
        "# Definir la variable simbólica 'x'\n",
        "x = sp.symbols('x')\n",
        "\n",
        "# Definir la función auxiliar y\n",
        "y = sp.Function('y')(x)\n",
        "\n",
        "# Definir la ecuación diferencial\n",
        "ecuacion_diferencial = y.diff(x, x, x) - y.diff(x, x) - 2*y.diff(x) # Aquí se ingresa la ecuación de la cual se requiere conocer \n",
        "#La función complementaria o función auxiliar \n",
        "\n",
        "# Encontrar la función auxiliar\n",
        "funcion_auxiliar = sp.dsolve(ecuacion_diferencial, y)\n",
        "\n",
        "# Imprimir la función auxiliar\n",
        "print(\"La función auxiliar es:\")\n",
        "print(funcion_auxiliar)"
      ],
      "metadata": {
        "colab": {
          "base_uri": "https://localhost:8080/"
        },
        "id": "BMfn7bAU-6Ts",
        "outputId": "f1c23fea-7f03-48e9-8b14-2021ae9db0fc"
      },
      "execution_count": 9,
      "outputs": [
        {
          "output_type": "stream",
          "name": "stdout",
          "text": [
            "La función auxiliar es:\n",
            "Eq(y(x), C1 + C2*exp(-x) + C3*exp(2*x))\n"
          ]
        }
      ]
    },
    {
      "cell_type": "code",
      "execution_count": 3,
      "metadata": {
        "colab": {
          "base_uri": "https://localhost:8080/"
        },
        "id": "jTjLXeK15QaN",
        "outputId": "a6e8719d-a131-4a9c-8656-1e8936b7194d"
      },
      "outputs": [
        {
          "output_type": "stream",
          "name": "stdout",
          "text": [
            "Las raíces de la ecuación son:\n",
            "-1.00000000000000\n",
            "0\n",
            "2.00000000000000\n"
          ]
        }
      ],
      "source": [
        "# Calcula las raices en una ecuación de tercer orden\n",
        "# Ahora estamos calculando las raices del polinomio carácteristico de la ecuación diferencial y´´´−y´´−2y´= 5x**2 + 1.9x + 10\n",
        "\n",
        "# Correspondiente a la \n",
        "from sympy import symbols, Eq, solve\n",
        "\n",
        "# Definir la variable r\n",
        "r = symbols('r')\n",
        "\n",
        "# Definir la ecuación característica\n",
        "equation = Eq(r**3 - r**2 - 2*r, 0)   #La ecuación diferencial que se pretende evaluar\n",
        "\n",
        "# Resolver la ecuación para encontrar las raíces\n",
        "roots = solve(equation, r)\n",
        "\n",
        "print(\"Las raíces de la ecuación son:\")\n",
        "for root in roots:\n",
        "    print(root.evalf())\n",
        "\n",
        "# Este código fue escrito para comprobar que efectivamente las raíces de la función complementaria son correctas "
      ]
    },
    {
      "cell_type": "code",
      "source": [
        "# En la pregunta 3 es necesario desarrollar el producto de la solución particular, y hecho eso \n",
        "# se procede a calcular las derivadas de dicha solución, según sea el caso.\n",
        "# Hecho eso se igualan las derivadas con el lado izquierdo de la ecuación diferencial, con su correspondiente derivada \n",
        "# y en el lado derecho se coloca la función que hace no homogenea la ecuación diferencial \n",
        "# Se obtiene un sistema de ecuaciones que puede variar dependiendo del orden de la ecuación y finalmente \n",
        "# Se determinan los valores de A, B y C, estos valores junto con el orden x**3, x**2, x forman la solución particular de la \n",
        "# Ecuación diferencial"
      ],
      "metadata": {
        "id": "czwSZeihWlxZ"
      },
      "execution_count": null,
      "outputs": []
    },
    {
      "cell_type": "code",
      "source": [
        "# Acá se resuelve el sistema de ecuaciones de la pregunta numero 3, y de hecho wolfram alpha y mis propios calculos en papel \n",
        "# respaldan la respuesta\n",
        "A = [[-6, 0, 0],\n",
        "     [-6, -4, 0],\n",
        "     [6, -2, -2]]\n",
        "\n",
        "B = [5, 1.9, 10]\n",
        "\n",
        "solution = solve_system(A, B)\n",
        "if solution is not None:\n",
        "    print(\"La solución es:\", solution)\n",
        "else:\n",
        "    print(\"El sistema no tiene solución única.\")"
      ],
      "metadata": {
        "colab": {
          "base_uri": "https://localhost:8080/"
        },
        "id": "o7s08oikAPnU",
        "outputId": "9dbb0876-28ae-46b5-99cd-534adb11ff0e"
      },
      "execution_count": 11,
      "outputs": [
        {
          "output_type": "stream",
          "name": "stdout",
          "text": [
            "La solución es: [-0.8333333333333334, 0.775, -8.275]\n"
          ]
        }
      ]
    },
    {
      "cell_type": "code",
      "source": [],
      "metadata": {
        "id": "3b2lwFZrAPlf"
      },
      "execution_count": null,
      "outputs": []
    },
    {
      "cell_type": "code",
      "source": [
        "A = [[-6, 0, 0],\n",
        "     [-6, -4, 0],\n",
        "     [6, -2, -2]]\n",
        "\n",
        "B = [5, 1.9, 10]\n",
        "\n",
        "solution = solve_system(A, B)\n",
        "if solution is not None:\n",
        "    print(\"La solución es:\", solution)\n",
        "else:\n",
        "    print(\"El sistema no tiene solución única.\")"
      ],
      "metadata": {
        "id": "qdywETR9APjP"
      },
      "execution_count": null,
      "outputs": []
    },
    {
      "cell_type": "code",
      "source": [],
      "metadata": {
        "id": "4vQlqgJ7APg7"
      },
      "execution_count": null,
      "outputs": []
    },
    {
      "cell_type": "code",
      "source": [],
      "metadata": {
        "id": "WgePF5xoAPe2"
      },
      "execution_count": null,
      "outputs": []
    },
    {
      "cell_type": "code",
      "source": [],
      "metadata": {
        "id": "H4M1KakdAPcu"
      },
      "execution_count": null,
      "outputs": []
    },
    {
      "cell_type": "code",
      "source": [],
      "metadata": {
        "id": "Ccy2Io_4APbF"
      },
      "execution_count": null,
      "outputs": []
    },
    {
      "cell_type": "code",
      "source": [],
      "metadata": {
        "id": "GHJr31VAAPZX"
      },
      "execution_count": null,
      "outputs": []
    },
    {
      "cell_type": "code",
      "source": [],
      "metadata": {
        "id": "vTv0yWvcAPWT"
      },
      "execution_count": null,
      "outputs": []
    },
    {
      "cell_type": "code",
      "source": [],
      "metadata": {
        "id": "FiCpqQiwAPT_"
      },
      "execution_count": null,
      "outputs": []
    },
    {
      "cell_type": "code",
      "source": [],
      "metadata": {
        "id": "TKtLCpQ5APRq"
      },
      "execution_count": null,
      "outputs": []
    },
    {
      "cell_type": "code",
      "source": [],
      "metadata": {
        "id": "2ngApI-9APPV"
      },
      "execution_count": null,
      "outputs": []
    },
    {
      "cell_type": "code",
      "source": [],
      "metadata": {
        "id": "WTOuLbVYAPM8"
      },
      "execution_count": null,
      "outputs": []
    },
    {
      "cell_type": "code",
      "source": [],
      "metadata": {
        "id": "p2DA_Yo9AO3m"
      },
      "execution_count": null,
      "outputs": []
    },
    {
      "cell_type": "code",
      "source": [],
      "metadata": {
        "id": "5iVopz0158e-"
      },
      "execution_count": null,
      "outputs": []
    }
  ]
}