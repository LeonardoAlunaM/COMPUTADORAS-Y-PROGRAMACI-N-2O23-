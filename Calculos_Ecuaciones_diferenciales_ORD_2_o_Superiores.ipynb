{
  "nbformat": 4,
  "nbformat_minor": 0,
  "metadata": {
    "colab": {
      "provenance": [],
      "authorship_tag": "ABX9TyMFJpMJCnm0KwgOBJ3OQ0na",
      "include_colab_link": true
    },
    "kernelspec": {
      "name": "python3",
      "display_name": "Python 3"
    },
    "language_info": {
      "name": "python"
    }
  },
  "cells": [
    {
      "cell_type": "markdown",
      "metadata": {
        "id": "view-in-github",
        "colab_type": "text"
      },
      "source": [
        "<a href=\"https://colab.research.google.com/github/LeonardoAlunaM/COMPUTADORAS-Y-PROGRAMACI-N-2O23-/blob/main-COMPUTADORAS-Y-PROGTRAMACI%C3%93N-2023/Calculos_Ecuaciones_diferenciales_ORD_2_o_Superiores.ipynb\" target=\"_parent\"><img src=\"https://colab.research.google.com/assets/colab-badge.svg\" alt=\"Open In Colab\"/></a>"
      ]
    },
    {
      "cell_type": "markdown",
      "source": [
        "## WRONSKIANO "
      ],
      "metadata": {
        "id": "9-rMBHPbAklR"
      }
    },
    {
      "cell_type": "code",
      "source": [
        "# Este codigo funciona segun lo esperado \n",
        "import sympy as sp\n",
        "\n",
        "# Definir la variable simbólica\n",
        "x = sp.symbols('x')\n",
        "\n",
        "# Definir las funciones del conjunto B del wronskiano \n",
        "f1 = sp.cos(-5*x)\n",
        "f2 = sp.exp(7*x)\n",
        "f3 = sp.sin(-5*x)\n",
        "\n",
        "# Calcular el wronskiano\n",
        "wronskiano_resultado = sp.wronskian([f1, f2, f3], x)\n",
        "\n",
        "# Imprimir el resultado\n",
        "print(wronskiano_resultado)"
      ],
      "metadata": {
        "id": "2ngApI-9APPV",
        "colab": {
          "base_uri": "https://localhost:8080/"
        },
        "outputId": "4b46cf9f-d8b0-4245-9986-e63d6f370f6c"
      },
      "execution_count": null,
      "outputs": [
        {
          "output_type": "stream",
          "name": "stdout",
          "text": [
            "370*exp(7*x)*sin(5*x)**2 + 370*exp(7*x)*cos(5*x)**2\n"
          ]
        }
      ]
    },
    {
      "cell_type": "markdown",
      "source": [
        "![wronskiano2.png](data:image/png;base64,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)"
      ],
      "metadata": {
        "id": "ooENZlt1Gslm"
      }
    },
    {
      "cell_type": "code",
      "source": [
        "\n",
        "import sympy as sp\n",
        "\n",
        "def calcular_wronskiano(funciones, variable):\n",
        "    # Definir la variable simbólica\n",
        "    x = sp.symbols(variable)\n",
        "    \n",
        "    # Crear una lista para almacenar las derivadas de las funciones\n",
        "    derivadas = []\n",
        "    \n",
        "    # Calcular las derivadas de las funciones y agregarlas a la lista\n",
        "    for funcion in funciones:\n",
        "        derivada = sp.diff(funcion, x)\n",
        "        derivadas.append(derivada)\n",
        "    \n",
        "    # Construir la matriz wronskiana\n",
        "    wronskiano = sp.Matrix([funciones, derivadas])\n",
        "    \n",
        "    # Calcular el determinante del wronskiano\n",
        "    determinante = wronskiano.det()\n",
        "    \n",
        "    return determinante\n",
        "\n",
        "# Ejemplo de uso\n",
        "# Definir las funciones del conjunto B\n",
        "f1 = 9\n",
        "f2 = sp.tan(10*x)\n",
        "\n",
        "# Crear una lista con las funciones\n",
        "funciones = [f1, f2]\n",
        "\n",
        "# Calcular el wronskiano\n",
        "wronskiano_resultado = calcular_wronskiano(funciones, 'x')\n",
        "\n",
        "# Imprimir el resultado\n",
        "print(wronskiano_resultado)"
      ],
      "metadata": {
        "id": "Ccy2Io_4APbF",
        "colab": {
          "base_uri": "https://localhost:8080/"
        },
        "outputId": "81ff3eeb-408c-4091-b54e-a78bc3d38a30"
      },
      "execution_count": null,
      "outputs": [
        {
          "output_type": "stream",
          "name": "stdout",
          "text": [
            "90*tan(10*x)**2 + 90\n"
          ]
        }
      ]
    },
    {
      "cell_type": "code",
      "source": [
        "import sympy as sp\n",
        "\n",
        "# Definir la variable simbólica\n",
        "x = sp.symbols('x')\n",
        "\n",
        "# Definir las funciones del conjunto B\n",
        "f1 = -1\n",
        "f2 = sp.sin(-4*x)\n",
        "f3 = sp.exp(x)\n",
        "\n",
        "# Calcular el wronskiano\n",
        "wronskiano_resultado = sp.wronskian([f1, f2, f3], x)\n",
        "\n",
        "# Imprimir el resultado\n",
        "print(wronskiano_resultado)"
      ],
      "metadata": {
        "id": "WTOuLbVYAPM8",
        "colab": {
          "base_uri": "https://localhost:8080/"
        },
        "outputId": "cc0a6647-4e08-4628-c010-f992455a1d4a"
      },
      "execution_count": null,
      "outputs": [
        {
          "output_type": "stream",
          "name": "stdout",
          "text": [
            "16*exp(x)*sin(4*x) + 4*exp(x)*cos(4*x)\n"
          ]
        }
      ]
    },
    {
      "cell_type": "code",
      "source": [
        "import sympy as sp\n",
        "\n",
        "def calcular_wronskiano(funciones, variable):\n",
        "    # Definir la variable simbólica\n",
        "    x = sp.symbols(variable)\n",
        "    \n",
        "    # Crear una lista para almacenar las derivadas de las funciones\n",
        "    derivadas = []\n",
        "    \n",
        "    # Calcular las derivadas de las funciones y agregarlas a la lista\n",
        "    for funcion in funciones:\n",
        "        derivada = sp.diff(funcion, x)\n",
        "        derivadas.append(derivada)\n",
        "    \n",
        "    # Construir la matriz wronskiana\n",
        "    wronskiano = sp.Matrix([funciones, derivadas])\n",
        "    \n",
        "    # Calcular el determinante del wronskiano\n",
        "    determinante = wronskiano.det()\n",
        "    \n",
        "    return determinante\n",
        "\n",
        "# Ejemplo de uso\n",
        "# Definir las funciones del conjunto B\n",
        "f1 = sp.exp(15*x)\n",
        "f2 = sp.exp(15*x)\n",
        "\n",
        "# Crear una lista con las funciones\n",
        "funciones = [f1, f2]\n",
        "\n",
        "# Calcular el wronskiano\n",
        "wronskiano_resultado = calcular_wronskiano(funciones, 'x')\n",
        "\n",
        "# Imprimir el resultado\n",
        "print(wronskiano_resultado)"
      ],
      "metadata": {
        "id": "GHJr31VAAPZX",
        "colab": {
          "base_uri": "https://localhost:8080/"
        },
        "outputId": "4064a595-50b4-43b1-a2c4-a4cbc6c076fc"
      },
      "execution_count": null,
      "outputs": [
        {
          "output_type": "stream",
          "name": "stdout",
          "text": [
            "0\n"
          ]
        }
      ]
    },
    {
      "cell_type": "code",
      "source": [
        "import sympy as sp\n",
        "\n",
        "def calcular_wronskiano(funciones, variable):\n",
        "    # Definir la variable simbólica\n",
        "    x = sp.symbols(variable)\n",
        "    \n",
        "    # Crear una lista para almacenar las derivadas de las funciones\n",
        "    derivadas = []\n",
        "    \n",
        "    # Calcular las derivadas de las funciones y agregarlas a la lista\n",
        "    for funcion in funciones:\n",
        "        derivada = sp.diff(funcion, x)\n",
        "        derivadas.append(derivada)\n",
        "    \n",
        "    # Construir la matriz wronskiana\n",
        "    wronskiano = sp.Matrix([funciones, derivadas])\n",
        "    \n",
        "    # Calcular el determinante del wronskiano\n",
        "    determinante = wronskiano.det()\n",
        "    \n",
        "    return determinante\n",
        "\n",
        "# Ejemplo de uso\n",
        "# Definir las funciones del conjunto B\n",
        "f1 = sp.sin(9*x)\n",
        "f2 = sp.sin(9*x)\n",
        "\n",
        "# Crear una lista con las funciones\n",
        "funciones = [f1, f2]\n",
        "\n",
        "# Calcular el wronskiano\n",
        "wronskiano_resultado = calcular_wronskiano(funciones, 'x')\n",
        "\n",
        "# Imprimir el resultado\n",
        "print(wronskiano_resultado)"
      ],
      "metadata": {
        "id": "vTv0yWvcAPWT",
        "colab": {
          "base_uri": "https://localhost:8080/"
        },
        "outputId": "7f502604-6658-42b1-edae-a9d5aab78250"
      },
      "execution_count": null,
      "outputs": [
        {
          "output_type": "stream",
          "name": "stdout",
          "text": [
            "0\n"
          ]
        }
      ]
    },
    {
      "cell_type": "code",
      "source": [
        "# # Calcula las raices en una ecuación de tercer orden \n",
        "\n",
        "from sympy import symbols, Eq, solve\n",
        "\n",
        "# Definir la variable r\n",
        "r = symbols('r')\n",
        "\n",
        "# Definir la ecuación característica\n",
        "equation = Eq(r**3 + 6*r**2 + 11*r + 6, 0)\n",
        "\n",
        "# Resolver la ecuación para encontrar las raíces\n",
        "roots = solve(equation, r)\n",
        "\n",
        "print(\"Las raíces de la ecuación son:\")\n",
        "for root in roots:\n",
        "    print(root.evalf())\n",
        "\n",
        "# Estás fueron las raíces de la pregunta número 10 de la serie 1 "
      ],
      "metadata": {
        "colab": {
          "base_uri": "https://localhost:8080/"
        },
        "id": "36vxNaMJ581T",
        "outputId": "a424310a-5134-4a74-f101-dd009e254a42"
      },
      "execution_count": null,
      "outputs": [
        {
          "output_type": "stream",
          "name": "stdout",
          "text": [
            "Las raíces de la ecuación son:\n",
            "-3.00000000000000\n",
            "-2.00000000000000\n",
            "-1.00000000000000\n"
          ]
        }
      ]
    },
    {
      "cell_type": "code",
      "source": [
        "# Resuelve un sistema de ecuaciones 3 x 3, esto tras sustituir los valores de la función característica y a continuación derivar \n",
        "# dicha función, de acuerdo a las condiciones iniciales dadas\n",
        "# Al ejecutar el código encontramos los valores de c1, c2 y c3 \n",
        "def solve_system(A, B):\n",
        "    n = len(A)\n",
        "    \n",
        "    # Concatenar matriz A y vector B\n",
        "    AB = []\n",
        "    for i in range(n):\n",
        "        AB.append(A[i] + [B[i]])\n",
        "\n",
        "    # Eliminación hacia adelante\n",
        "    for i in range(n):\n",
        "        if AB[i][i] == 0:\n",
        "            # Intercambiar filas si el pivote es cero\n",
        "            for j in range(i+1, n):\n",
        "                if AB[j][i] != 0:\n",
        "                    AB[i], AB[j] = AB[j], AB[i]\n",
        "                    break\n",
        "\n",
        "        pivot = AB[i][i]\n",
        "        if pivot == 0:\n",
        "            # Sistema no tiene solución única\n",
        "            return None\n",
        "\n",
        "        # Hacer que el pivote sea igual a 1\n",
        "        for j in range(i, n+1):\n",
        "            AB[i][j] /= pivot\n",
        "\n",
        "        # Hacer que los elementos debajo del pivote sean igual a cero\n",
        "        for j in range(i+1, n):\n",
        "            factor = AB[j][i]\n",
        "            for k in range(i, n+1):\n",
        "                AB[j][k] -= factor * AB[i][k]\n",
        "\n",
        "    # Sustitución hacia atrás\n",
        "    for i in range(n-1, 0, -1):\n",
        "        for j in range(i-1, -1, -1):\n",
        "            factor = AB[j][i]\n",
        "            for k in range(i, n+1):\n",
        "                AB[j][k] -= factor * AB[i][k]\n",
        "\n",
        "    # Extraer la solución del sistema\n",
        "    solution = []\n",
        "    for i in range(n):\n",
        "        solution.append(AB[i][-1])\n",
        "\n",
        "    return solution"
      ],
      "metadata": {
        "id": "ZJBCGCkf7PeP"
      },
      "execution_count": null,
      "outputs": []
    },
    {
      "cell_type": "code",
      "source": [
        "# Llamando a la función escrita arriba \n",
        "A = [[1, 1, 1],\n",
        "     [-1, -2, -3],\n",
        "     [1, 4, 9]]\n",
        "\n",
        "B = [8.2, 0, 6.8]\n",
        "\n",
        "solution = solve_system(A, B)\n",
        "if solution is not None:\n",
        "    print(\"La solución es:\", solution)\n",
        "else:\n",
        "    print(\"El sistema no tiene solución única.\")"
      ],
      "metadata": {
        "colab": {
          "base_uri": "https://localhost:8080/"
        },
        "id": "J8oS1--x7fvH",
        "outputId": "495394fa-c119-4606-9643-b4be8cf347ec"
      },
      "execution_count": null,
      "outputs": [
        {
          "output_type": "stream",
          "name": "stdout",
          "text": [
            "La solución es: [28.0, -31.4, 11.6]\n"
          ]
        }
      ]
    },
    {
      "cell_type": "code",
      "source": [
        "# Calcula la función complementaria de la ecuación diferencial \n",
        "# Está codigo funciona para ecuaciones de grado 3, o al menos la probe con una ecuación de tercer grado \n",
        "import sympy as sp\n",
        "\n",
        "# Definir la variable simbólica 'x'\n",
        "x = sp.symbols('x')\n",
        "\n",
        "# Definir la función auxiliar y\n",
        "y = sp.Function('y')(x)\n",
        "\n",
        "# Definir la ecuación diferencial\n",
        "ecuacion_diferencial = y.diff(x, x, x) - y.diff(x, x) - 2*y.diff(x) # Aquí se ingresa la ecuación de la cual se requiere conocer \n",
        "#La función complementaria o función auxiliar \n",
        "\n",
        "# Encontrar la función auxiliar\n",
        "funcion_auxiliar = sp.dsolve(ecuacion_diferencial, y)\n",
        "\n",
        "# Imprimir la función auxiliar\n",
        "print(\"La función auxiliar es:\")\n",
        "print(funcion_auxiliar)"
      ],
      "metadata": {
        "colab": {
          "base_uri": "https://localhost:8080/"
        },
        "id": "BMfn7bAU-6Ts",
        "outputId": "f1c23fea-7f03-48e9-8b14-2021ae9db0fc"
      },
      "execution_count": null,
      "outputs": [
        {
          "output_type": "stream",
          "name": "stdout",
          "text": [
            "La función auxiliar es:\n",
            "Eq(y(x), C1 + C2*exp(-x) + C3*exp(2*x))\n"
          ]
        }
      ]
    },
    {
      "cell_type": "code",
      "execution_count": null,
      "metadata": {
        "colab": {
          "base_uri": "https://localhost:8080/"
        },
        "id": "jTjLXeK15QaN",
        "outputId": "a6e8719d-a131-4a9c-8656-1e8936b7194d"
      },
      "outputs": [
        {
          "output_type": "stream",
          "name": "stdout",
          "text": [
            "Las raíces de la ecuación son:\n",
            "-1.00000000000000\n",
            "0\n",
            "2.00000000000000\n"
          ]
        }
      ],
      "source": [
        "# Calcula las raices en una ecuación de tercer orden\n",
        "# Ahora estamos calculando las raices del polinomio carácteristico de la ecuación diferencial y´´´−y´´−2y´= 5x**2 + 1.9x + 10\n",
        "\n",
        "# Correspondiente a la \n",
        "from sympy import symbols, Eq, solve\n",
        "\n",
        "# Definir la variable r\n",
        "r = symbols('r')\n",
        "\n",
        "# Definir la ecuación característica\n",
        "equation = Eq(r**3 - r**2 - 2*r, 0)   #La ecuación diferencial que se pretende evaluar\n",
        "\n",
        "# Resolver la ecuación para encontrar las raíces\n",
        "roots = solve(equation, r)\n",
        "\n",
        "print(\"Las raíces de la ecuación son:\")\n",
        "for root in roots:\n",
        "    print(root.evalf())\n",
        "\n",
        "# Este código fue escrito para comprobar que efectivamente las raíces de la función complementaria son correctas "
      ]
    },
    {
      "cell_type": "code",
      "source": [
        "# En la pregunta 3 es necesario desarrollar el producto de la solución particular, y hecho eso \n",
        "# se procede a calcular las derivadas de dicha solución, según sea el caso.\n",
        "# Hecho eso se igualan las derivadas con el lado izquierdo de la ecuación diferencial, con su correspondiente derivada \n",
        "# y en el lado derecho se coloca la función que hace no homogenea la ecuación diferencial \n",
        "# Se obtiene un sistema de ecuaciones que puede variar dependiendo del orden de la ecuación y finalmente \n",
        "# Se determinan los valores de A, B y C, estos valores junto con el orden x**3, x**2, x forman la solución particular de la \n",
        "# Ecuación diferencial"
      ],
      "metadata": {
        "id": "czwSZeihWlxZ"
      },
      "execution_count": null,
      "outputs": []
    },
    {
      "cell_type": "code",
      "source": [
        "# Acá se resuelve el sistema de ecuaciones de la pregunta numero 3 de la serie, y de hecho wolfram alpha y mis propios calculos en papel \n",
        "# respaldan la respuesta\n",
        "A = [[-6, 0, 0],\n",
        "     [-6, -4, 0],\n",
        "     [6, -2, -2]]\n",
        "\n",
        "B = [5, 1.9, 10]\n",
        "\n",
        "solution = solve_system(A, B)\n",
        "if solution is not None:\n",
        "    print(\"La solución es:\", solution)\n",
        "else:\n",
        "    print(\"El sistema no tiene solución única.\")\n",
        "\n",
        "# El valor obtenido que nos interesaba, de acuerdo a la pregunta es 0.775"
      ],
      "metadata": {
        "colab": {
          "base_uri": "https://localhost:8080/"
        },
        "id": "o7s08oikAPnU",
        "outputId": "9dbb0876-28ae-46b5-99cd-534adb11ff0e"
      },
      "execution_count": null,
      "outputs": [
        {
          "output_type": "stream",
          "name": "stdout",
          "text": [
            "La solución es: [-0.8333333333333334, 0.775, -8.275]\n"
          ]
        }
      ]
    },
    {
      "cell_type": "code",
      "source": [
        "# Ahora contamos con un algoritmo que resuelve directamente la ecuación diferencial, y muestra toda la solución completa de la misma \n",
        "# Determinar con exactitud el valor buscado dependerá en gran medida de la habilidad de la persona que utilice el código\n",
        "import sympy as sp\n",
        "\n",
        "def solve_differential_equation():\n",
        "    x = sp.symbols('x')\n",
        "    y = sp.Function('y')(x)\n",
        "\n",
        "    # Definir la ecuación diferencial\n",
        "    eq = sp.diff(y, x, 3) - sp.diff(y, x, 2) -2*sp.diff(y, x, 1)  - (5*(x**2) + 1.9*(x)+10)\n",
        "\n",
        "    # Resolver la ecuación diferencial\n",
        "    solution = sp.dsolve(eq)\n",
        "    return solution\n",
        "\n",
        "solution = solve_differential_equation()\n",
        "print(solution)"
      ],
      "metadata": {
        "colab": {
          "base_uri": "https://localhost:8080/"
        },
        "id": "TPwMDcDQlsmO",
        "outputId": "22059cdc-b36d-4291-c4dc-63a59fc862e7"
      },
      "execution_count": null,
      "outputs": [
        {
          "output_type": "stream",
          "name": "stdout",
          "text": [
            "Eq(y(x), C1 + C2/exp(-1.0*x)**2.0 + C3*exp(-1.0*x)**1.0 - 0.833333333333333*x**3 + 0.775*x**2 - 8.275*x)\n"
          ]
        }
      ]
    },
    {
      "cell_type": "markdown",
      "source": [
        "Las 2 siguientes instrucciones de codigo se utilizaron en concreto para poder calcular el vlor del sumando que acompañana a (x**2) * (sen(x))\n",
        "Esto de acuerdo a la pregunta siguiente, la cual corresponde a la numero 5 de la segunda serie de ejercicios\n",
        "\n",
        "Resuelva la siguiente ecuación diferencial por coeficientes indeterminados yIV+5y´´´+7y´´+5y´+6y=3.6xcos(x)+3.9sen(x)\n",
        "  y obtenga el valor del coeficiente que acompaña al sumando x2sen(x)"
      ],
      "metadata": {
        "id": "Thv4jTzAlGIr"
      }
    },
    {
      "cell_type": "code",
      "source": [
        "import sympy as sp\n",
        "\n",
        "def solve_differential_equation():\n",
        "    x = sp.symbols('x')\n",
        "    y = sp.Function('y')(x)\n",
        "\n",
        "    # Definir la ecuación diferencial\n",
        "    eq = sp.diff(y, x, 4) + 5*sp.diff(y, x, 3) + 7*sp.diff(y, x, 2) + 5*sp.diff(y, x) + 6*y - (3.6*x*sp.cos(x) + 3.9*sp.sin(x))\n",
        "\n",
        "    # Resolver la ecuación diferencial\n",
        "    solution = sp.dsolve(eq)\n",
        "    return solution\n",
        "\n",
        "solution = solve_differential_equation()\n",
        "print(solution)"
      ],
      "metadata": {
        "colab": {
          "base_uri": "https://localhost:8080/"
        },
        "id": "4riiLGbJeRFz",
        "outputId": "49ff80e2-d6dd-400d-e682-0ae1f5da94da"
      },
      "execution_count": null,
      "outputs": [
        {
          "output_type": "stream",
          "name": "stdout",
          "text": [
            "Eq(y(x), C1*exp(-3.0*x) + C2*exp(-2.0*x) + C3*sin(1.0*x) + C4*cos(1.0*x) + 0.09*x**2*sin(x) - 0.09*x**2*cos(x) - 0.177*x*sin(x) + 0.075*x*cos(x))\n"
          ]
        }
      ]
    },
    {
      "cell_type": "code",
      "source": [
        "# Este código fue escrito para comprobar que efectivamente 0.09 es el valor buscado \n",
        "import sympy as sp\n",
        "\n",
        "def solve_differential_equation():\n",
        "    x = sp.symbols('x')\n",
        "    y = sp.Function('y')(x)\n",
        "\n",
        "    # Definir la ecuación diferencial\n",
        "    eq = sp.diff(y, x, 4) + 5*sp.diff(y, x, 3) + 7*sp.diff(y, x, 2) + 5*sp.diff(y, x) + 6*y - (3.6*x*sp.cos(x) + 3.9*sp.sin(x))\n",
        "\n",
        "    # Resolver la ecuación diferencial\n",
        "    solution = sp.dsolve(eq)\n",
        "    return solution\n",
        "\n",
        "solution = solve_differential_equation()\n",
        "\n",
        "# Obtener el coeficiente del término requerido\n",
        "x = sp.symbols('x')\n",
        "term = (x**2) * sp.sin(x)\n",
        "coefficient = sp.collect(solution.rhs, term).coeff(term)\n",
        "print(\"El coeficiente del término (x^2) * sin(x) es:\", coefficient)"
      ],
      "metadata": {
        "colab": {
          "base_uri": "https://localhost:8080/"
        },
        "id": "xod8w58xeRDm",
        "outputId": "0e18ab45-a329-4538-ef1e-ee82180b7716"
      },
      "execution_count": null,
      "outputs": [
        {
          "output_type": "stream",
          "name": "stdout",
          "text": [
            "El coeficiente del término (x^2) * sin(x) es: 0.0900000000000000\n"
          ]
        }
      ]
    },
    {
      "cell_type": "markdown",
      "source": [
        "Pregunta 6 de la segunda serie de ejercicios"
      ],
      "metadata": {
        "id": "GZsfuZQqnxx0"
      }
    },
    {
      "cell_type": "code",
      "source": [
        "import sympy as sp\n",
        "\n",
        "def solve_differential_equation():\n",
        "    x = sp.symbols('x')\n",
        "    y = sp.Function('y')(x)\n",
        "\n",
        "    # Definir la ecuación diferencial\n",
        "    eq = sp.diff(y, x, 3) + 9*sp.diff(y, x, 2) + 27*sp.diff(y, x, 1) + 27*y - 30*sp.exp(-3*x)\n",
        "\n",
        "    # Resolver la ecuación diferencial\n",
        "    solution = sp.dsolve(eq)\n",
        "    return solution\n",
        "\n",
        "solution = solve_differential_equation()\n",
        "print(solution)"
      ],
      "metadata": {
        "colab": {
          "base_uri": "https://localhost:8080/"
        },
        "id": "CnVMdwFQeRA9",
        "outputId": "0c21b155-32b4-494d-9af6-937e4b8f3e85"
      },
      "execution_count": null,
      "outputs": [
        {
          "output_type": "stream",
          "name": "stdout",
          "text": [
            "Eq(y(x), (C1 + x*(C2 + x*(C3 + 5*x)))*exp(-3*x))\n"
          ]
        }
      ]
    },
    {
      "cell_type": "code",
      "source": [
        "import sympy as sp\n",
        "\n",
        "def solve_differential_equation():\n",
        "    x = sp.Symbol('x')\n",
        "    y = sp.Function('y')(x)\n",
        "\n",
        "    # Definir la ecuación diferencial\n",
        "    equation = sp.Eq(y.diff(x, 3) + 9*y.diff(x, 2) + 27*y.diff(x) + 27*y, 30*sp.exp(-3*x))\n",
        "\n",
        "    # Resolver la ecuación diferencial\n",
        "    solution = sp.dsolve(equation, y)\n",
        "\n",
        "    # Encontrar las constantes de integración usando las condiciones iniciales\n",
        "    constants = sp.solve((solution.subs(x, 0).subs('C1', 1).subs('C2', 1).subs('C3', 1)), ('C1', 'C2', 'C3'))\n",
        "\n",
        "    # Reemplazar las constantes de integración en la solución general\n",
        "    particular_solution = solution.subs(constants)\n",
        "\n",
        "    return particular_solution\n",
        "\n",
        "# Obtener la solución de la ecuación diferencial\n",
        "solution = solve_differential_equation()\n",
        "\n",
        "# Imprimir la solución\n",
        "print(\"La solución de la ecuación diferencial es:\")\n",
        "print(solution)"
      ],
      "metadata": {
        "colab": {
          "base_uri": "https://localhost:8080/"
        },
        "id": "0TspFf_4nw9o",
        "outputId": "4d1394c0-b191-429f-ad2d-85f6933523c8"
      },
      "execution_count": null,
      "outputs": [
        {
          "output_type": "stream",
          "name": "stdout",
          "text": [
            "La solución de la ecuación diferencial es:\n",
            "Eq(y(x), (C1 + x*(C2 + x*(C3 + 5*x)))*exp(-3*x))\n"
          ]
        }
      ]
    },
    {
      "cell_type": "code",
      "source": [
        "import sympy as sp\n",
        "\n",
        "def differentiate_expression(expression, variable, n=1):\n",
        "    x = sp.Symbol(variable)\n",
        "    expr = sp.sympify(expression)\n",
        "\n",
        "    for _ in range(n):\n",
        "        expr = sp.diff(expr, x)\n",
        "\n",
        "    return expr\n",
        "\n",
        "# Definir la expresión a derivar\n",
        "expression = \"Eq(y(x), (C1 + x*(C2 + x*(C3 + 5*x)))*exp(-3*x))\"\n",
        "\n",
        "# Derivar la expresión dos veces\n",
        "first_derivative = differentiate_expression(expression, \"x\", 1)\n",
        "second_derivative = differentiate_expression(expression, \"x\", 2)\n",
        "\n",
        "# Imprimir los resultados de las derivadas\n",
        "print(\"Primera derivada:\")\n",
        "print(first_derivative)\n",
        "print(\"\\nSegunda derivada:\")\n",
        "print(second_derivative)"
      ],
      "metadata": {
        "colab": {
          "base_uri": "https://localhost:8080/"
        },
        "id": "ih7mBgEAp2cI",
        "outputId": "48d594e8-4766-4dad-e0b8-efa5829dab68"
      },
      "execution_count": null,
      "outputs": [
        {
          "output_type": "stream",
          "name": "stdout",
          "text": [
            "Primera derivada:\n",
            "Derivative(Eq(y(x), (C1 + x*(C2 + x*(C3 + 5*x)))*exp(-3*x)), x)\n",
            "\n",
            "Segunda derivada:\n",
            "Derivative(Eq(y(x), (C1 + x*(C2 + x*(C3 + 5*x)))*exp(-3*x)), (x, 2))\n"
          ]
        }
      ]
    },
    {
      "cell_type": "code",
      "source": [
        "A = [[-6, 0, 0],\n",
        "     [-6, -4, 0],\n",
        "     [6, -2, -2]]\n",
        "\n",
        "B = [5, 1.9, 10]\n",
        "\n",
        "solution = solve_system(A, B)\n",
        "if solution is not None:\n",
        "    print(\"La solución es:\", solution)\n",
        "else:\n",
        "    print(\"El sistema no tiene solución única.\")"
      ],
      "metadata": {
        "id": "YoNn6BY5p2aH"
      },
      "execution_count": null,
      "outputs": []
    },
    {
      "cell_type": "code",
      "source": [
        "import numpy as np\n",
        "from scipy.integrate import solve_ivp\n",
        "import matplotlib.pyplot as plt\n",
        "\n",
        "def f(x, y):\n",
        "    return np.array([y[1], y[2], -27*y[2] - 27*y[1] - 27*y[0] + 30*np.exp(-3*x)])\n",
        "\n",
        "# Condiciones iniciales\n",
        "y0 = np.array([1, 1, 1])\n",
        "\n",
        "# Rango de valores de x\n",
        "x_range = np.linspace(0, 1, 100)\n",
        "\n",
        "# Resolver la ecuación diferencial\n",
        "sol = solve_ivp(f, [0, 1], y0, t_eval=x_range)\n",
        "\n",
        "# Obtener la solución y(x)\n",
        "y_solution = sol.y[0]\n",
        "\n",
        "# Graficar la solución\n",
        "plt.plot(sol.t, y_solution)\n",
        "plt.xlabel('x')\n",
        "plt.ylabel('y(x)')\n",
        "plt.title('Solución de la ecuación diferencial')\n",
        "plt.grid(True)\n",
        "plt.show()"
      ],
      "metadata": {
        "colab": {
          "base_uri": "https://localhost:8080/",
          "height": 472
        },
        "id": "j-AZ32Rbp2Yk",
        "outputId": "999fc306-8ee7-44c1-9ce9-3e1fc1dc63cd"
      },
      "execution_count": null,
      "outputs": [
        {
          "output_type": "display_data",
          "data": {
            "text/plain": [
              "<Figure size 640x480 with 1 Axes>"
            ],
            "image/png": "[encoded data removed]"
          },
          "metadata": {}
        }
      ]
    },
    {
      "cell_type": "code",
      "source": [
        "from sympy import Function, symbols, Eq, exp, diff, dsolve\n",
        "\n",
        "x = symbols('x')\n",
        "y = Function('y')(x)\n",
        "\n",
        "# Definir la ecuación diferencial\n",
        "eq = Eq(diff(y, x, x, x) + 9 * diff(y, x, x) + 27 * diff(y, x) + 27 * y - 30 * exp(-3 * x), 0)\n",
        "\n",
        "# Resolver la ecuación diferencial\n",
        "sol = dsolve(eq, y)\n",
        "\n",
        "# Mostrar la solución en forma de una función\n",
        "print(\"La solución de la ecuación diferencial es:\")\n",
        "print(sol.rhs)"
      ],
      "metadata": {
        "colab": {
          "base_uri": "https://localhost:8080/"
        },
        "id": "CGkA4ZUjp2Uu",
        "outputId": "b731235c-7197-4c5a-810a-cd6374f5c210"
      },
      "execution_count": null,
      "outputs": [
        {
          "output_type": "stream",
          "name": "stdout",
          "text": [
            "La solución de la ecuación diferencial es:\n",
            "(C1 + x*(C2 + x*(C3 + 5*x)))*exp(-3*x)\n"
          ]
        }
      ]
    },
    {
      "cell_type": "code",
      "source": [
        "import math\n",
        "\n",
        "def evaluate_expression(x):\n",
        "    return (11 - 19*x + (1/2)*x**2) * math.exp(-3*x) - 10*x**2 * math.exp(-3*x) + 20*x * math.exp(-3*x) - 10 * math.exp(-3*x)\n",
        "\n",
        "# Valor de x\n",
        "x_value = -0.92\n",
        "\n",
        "# Evaluar la expresión en x = -0.92\n",
        "y = evaluate_expression(x_value)\n",
        "\n",
        "# Imprimir el resultado\n",
        "print(f\"y({x_value}) = {y}\")"
      ],
      "metadata": {
        "colab": {
          "base_uri": "https://localhost:8080/"
        },
        "id": "8YHLYlF2p2Sn",
        "outputId": "20d798d9-22da-4bec-ad43-fb8e3676459b"
      },
      "execution_count": null,
      "outputs": [
        {
          "output_type": "stream",
          "name": "stdout",
          "text": [
            "y(-0.92) = -125.7793897425114\n"
          ]
        }
      ]
    },
    {
      "cell_type": "code",
      "source": [
        "import sympy as sp\n",
        "\n",
        "# Definir las variables\n",
        "x = sp.Symbol('x')\n",
        "\n",
        "# Definir las funciones desconocidas\n",
        "u = sp.Function('u')(x)\n",
        "v = sp.Function('v')(x)\n",
        "w = sp.Function('w')(x)\n",
        "\n",
        "# Calcular las derivadas\n",
        "u_prime = u.diff(x)\n",
        "u_double_prime = u.diff(x, 2)\n",
        "u_triple_prime = u.diff(x, 3)\n",
        "\n",
        "v_prime = v.diff(x)\n",
        "w_prime = w.diff(x)\n",
        "\n",
        "# Definir la ecuación diferencial\n",
        "eq = sp.Eq(u_triple_prime + 3 * v_prime + 3 * w_prime * x, 2.1)\n",
        "\n",
        "# Resolver la ecuación para u_triple_prime\n",
        "u_triple_prime_val = sp.solve(eq, u_triple_prime)[0]\n",
        "\n",
        "# Coeficiente de u(x)\n",
        "coefficient_u = sp.collect(u_triple_prime_val, u).coeff(u)\n",
        "\n",
        "print(\"El coeficiente correspondiente a u(x) es:\", coefficient_u)\n"
      ],
      "metadata": {
        "colab": {
          "base_uri": "https://localhost:8080/"
        },
        "id": "2oKTjp4qp2OI",
        "outputId": "f1b0619b-a328-42e2-965a-b3065a2d175a"
      },
      "execution_count": null,
      "outputs": [
        {
          "output_type": "stream",
          "name": "stdout",
          "text": [
            "El coeficiente correspondiente a u(x) es: 0\n"
          ]
        }
      ]
    },
    {
      "cell_type": "code",
      "source": [],
      "metadata": {
        "id": "KUBsjFupp1-W"
      },
      "execution_count": null,
      "outputs": []
    },
    {
      "cell_type": "code",
      "source": [
        "# Acá se resuelve el sistema de ecuaciones deel ejemplo 3 del capitulo 4.4, pagina 159 del libro de Ecuaciones diferenciales Zill \n",
        "\n",
        "A = [[-3, 0, 0, 0 ],\n",
        "     [-2, -3, 0, 0],\n",
        "     [0, 0, -3, 0],\n",
        "     [0, 0, 2,-3]]\n",
        "\n",
        "B = [4, -5, 6, 0]\n",
        "\n",
        "solution = solve_system(A, B)\n",
        "if solution is not None:\n",
        "    print(\"La solución es:\", solution)\n",
        "else:\n",
        "    print(\"El sistema no tiene solución única.\")\n",
        "# La solución aquí mostrada concuerda con los valores obtenidos en el ejercicio del libro"
      ],
      "metadata": {
        "colab": {
          "base_uri": "https://localhost:8080/"
        },
        "id": "qdywETR9APjP",
        "outputId": "4f923d83-8905-4b58-e1ae-c7ba94452093"
      },
      "execution_count": null,
      "outputs": [
        {
          "output_type": "stream",
          "name": "stdout",
          "text": [
            "La solución es: [-1.3333333333333333, 2.5555555555555554, -2.0, -1.3333333333333333]\n"
          ]
        }
      ]
    },
    {
      "cell_type": "code",
      "source": [],
      "metadata": {
        "id": "3b2lwFZrAPlf"
      },
      "execution_count": null,
      "outputs": []
    },
    {
      "cell_type": "code",
      "source": [
        "# Este codigo funciona segun lo esperado \n",
        "import sympy as sp\n",
        "\n",
        "# Definir la variable simbólica\n",
        "x = sp.symbols('x')\n",
        "\n",
        "# Definir las funciones del conjunto B del wronskiano \n",
        "f1 = sp.sin(4*x)\n",
        "f2 = sp.exp(5*x)\n",
        "#f3 = sp.sin(-5*x)\n",
        "\n",
        "# Calcular el wronskiano\n",
        "wronskiano_resultado = sp.wronskian([f1, f2], x)\n",
        "\n",
        "# Imprimir el resultado\n",
        "print(wronskiano_resultado)"
      ],
      "metadata": {
        "id": "4vQlqgJ7APg7",
        "colab": {
          "base_uri": "https://localhost:8080/"
        },
        "outputId": "f03f0077-5c2b-44fd-a9ba-3723be5ebadf"
      },
      "execution_count": null,
      "outputs": [
        {
          "output_type": "stream",
          "name": "stdout",
          "text": [
            "5*exp(5*x)*sin(4*x) - 4*exp(5*x)*cos(4*x)\n"
          ]
        }
      ]
    },
    {
      "cell_type": "code",
      "source": [
        "# Este codigo funciona segun lo esperado \n",
        "import sympy as sp\n",
        "\n",
        "# Definir la variable simbólica\n",
        "x = sp.symbols('x')\n",
        "\n",
        "# Definir las funciones del conjunto B del wronskiano \n",
        "f1 = sp.exp(x) \n",
        "f2 = sp.sin(9*x)\n",
        "#f3 = sp.sin(-5*x)\n",
        "\n",
        "# Calcular el wronskiano\n",
        "wronskiano_resultado = sp.wronskian([f1, f2], x)\n",
        "\n",
        "# Imprimir el resultado\n",
        "print(wronskiano_resultado)"
      ],
      "metadata": {
        "id": "p2DA_Yo9AO3m",
        "colab": {
          "base_uri": "https://localhost:8080/"
        },
        "outputId": "2c0beea9-616d-4ec8-cead-7d2f0ea795be"
      },
      "execution_count": null,
      "outputs": [
        {
          "output_type": "stream",
          "name": "stdout",
          "text": [
            "-exp(x)*sin(9*x) + 9*exp(x)*cos(9*x)\n"
          ]
        }
      ]
    },
    {
      "cell_type": "code",
      "source": [
        "# Este codigo funciona segun lo esperado \n",
        "import sympy as sp\n",
        "\n",
        "# Definir la variable simbólica\n",
        "x = sp.symbols('x')\n",
        "\n",
        "# Definir las funciones del conjunto B del wronskiano \n",
        "f1 = sp.exp(13*x) \n",
        "f2 = sp.exp(13*x) \n",
        "#f3 = sp.sin(-5*x)\n",
        "\n",
        "# Calcular el wronskiano\n",
        "wronskiano_resultado = sp.wronskian([f1, f2], x)\n",
        "\n",
        "# Imprimir el resultado\n",
        "print(wronskiano_resultado)"
      ],
      "metadata": {
        "id": "5iVopz0158e-",
        "colab": {
          "base_uri": "https://localhost:8080/"
        },
        "outputId": "e1513a08-b7fc-41a1-9ca8-63eefbf6b378"
      },
      "execution_count": null,
      "outputs": [
        {
          "output_type": "stream",
          "name": "stdout",
          "text": [
            "0\n"
          ]
        }
      ]
    },
    {
      "cell_type": "code",
      "source": [
        "# Este codigo funciona segun lo esperado \n",
        "import sympy as sp\n",
        "\n",
        "# Definir la variable simbólica\n",
        "x = sp.symbols('x')\n",
        "\n",
        "# Definir las funciones del conjunto B del wronskiano \n",
        "f1 = sp.tan(9*x)\n",
        "f2 = sp.sin(-9*x)\n",
        "f3 = -8\n",
        "\n",
        "# Calcular el wronskiano\n",
        "wronskiano_resultado = sp.wronskian([f1, f2, f3], x)\n",
        "\n",
        "# Imprimir el resultado\n",
        "print(wronskiano_resultado)"
      ],
      "metadata": {
        "colab": {
          "base_uri": "https://localhost:8080/"
        },
        "id": "LpoLLFUZJx2H",
        "outputId": "8bfed200-adfb-4a13-d8d1-61632d3b76fa"
      },
      "execution_count": null,
      "outputs": [
        {
          "output_type": "stream",
          "name": "stdout",
          "text": [
            "-5832*sin(9*x)*tan(9*x)**2 - 5832*sin(9*x) - 11664*cos(9*x)*tan(9*x)**3 - 11664*cos(9*x)*tan(9*x)\n"
          ]
        }
      ]
    },
    {
      "cell_type": "code",
      "source": [
        "# Este codigo funciona segun lo esperado \n",
        "import sympy as sp\n",
        "\n",
        "# Definir la variable simbólica\n",
        "x = sp.symbols('x')\n",
        "\n",
        "# Definir las funciones del conjunto B del wronskiano \n",
        "f1 = sp.sin(-9*x)\n",
        "f2 = sp.tan(3*x)\n",
        "f3 = sp.cos(8*x)\n",
        "\n",
        "# Calcular el wronskiano\n",
        "wronskiano_resultado = sp.wronskian([f1, f2, f3], x)\n",
        "\n",
        "# Imprimir el resultado\n",
        "print(wronskiano_resultado)"
      ],
      "metadata": {
        "colab": {
          "base_uri": "https://localhost:8080/"
        },
        "id": "H8qdX2viJxz3",
        "outputId": "945902de-592a-4d14-cbe8-5dddc4e72c5c"
      },
      "execution_count": null,
      "outputs": [
        {
          "output_type": "stream",
          "name": "stdout",
          "text": [
            "-144*sin(8*x)*sin(9*x)*tan(3*x)**3 - 792*sin(8*x)*sin(9*x)*tan(3*x) - 51*sin(9*x)*cos(8*x)*tan(3*x)**2 - 51*sin(9*x)*cos(8*x) - 162*cos(8*x)*cos(9*x)*tan(3*x)**3 - 738*cos(8*x)*cos(9*x)*tan(3*x)\n"
          ]
        }
      ]
    },
    {
      "cell_type": "code",
      "source": [],
      "metadata": {
        "id": "YEiK3X0AJxuN"
      },
      "execution_count": null,
      "outputs": []
    },
    {
      "cell_type": "code",
      "source": [],
      "metadata": {
        "id": "IgoGGAfVJxsD"
      },
      "execution_count": null,
      "outputs": []
    },
    {
      "cell_type": "code",
      "source": [],
      "metadata": {
        "id": "5asWRlrhJxpI"
      },
      "execution_count": null,
      "outputs": []
    },
    {
      "cell_type": "code",
      "source": [],
      "metadata": {
        "id": "ahhYM0XuJxm7"
      },
      "execution_count": null,
      "outputs": []
    },
    {
      "cell_type": "code",
      "source": [],
      "metadata": {
        "id": "Dupy90s9Jxko"
      },
      "execution_count": null,
      "outputs": []
    }
  ]
}