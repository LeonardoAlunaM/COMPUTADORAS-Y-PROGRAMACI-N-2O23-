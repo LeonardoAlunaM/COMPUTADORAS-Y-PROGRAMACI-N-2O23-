{
  "nbformat": 4,
  "nbformat_minor": 0,
  "metadata": {
    "colab": {
      "provenance": [],
      "authorship_tag": "ABX9TyOsdRMp5BOeJJPwCHBRxs1w",
      "include_colab_link": true
    },
    "kernelspec": {
      "name": "python3",
      "display_name": "Python 3"
    },
    "language_info": {
      "name": "python"
    }
  },
  "cells": [
    {
      "cell_type": "markdown",
      "metadata": {
        "id": "view-in-github",
        "colab_type": "text"
      },
      "source": [
        "<a href=\"https://colab.research.google.com/github/LeonardoAlunaM/COMPUTADORAS-Y-PROGRAMACI-N-2O23-/blob/main-COMPUTADORAS-Y-PROGTRAMACI%C3%93N-2023/Calculos_Ecuaciones_diferenciales_ORD_2_o_Superiores.ipynb\" target=\"_parent\"><img src=\"https://colab.research.google.com/assets/colab-badge.svg\" alt=\"Open In Colab\"/></a>"
      ]
    },
    {
      "cell_type": "code",
      "source": [
        "# # Calcula las raices en una ecuación de tercer orden \n",
        "\n",
        "from sympy import symbols, Eq, solve\n",
        "\n",
        "# Definir la variable r\n",
        "r = symbols('r')\n",
        "\n",
        "# Definir la ecuación característica\n",
        "equation = Eq(r**3 + 6*r**2 + 11*r + 6, 0)\n",
        "\n",
        "# Resolver la ecuación para encontrar las raíces\n",
        "roots = solve(equation, r)\n",
        "\n",
        "print(\"Las raíces de la ecuación son:\")\n",
        "for root in roots:\n",
        "    print(root.evalf())\n",
        "\n",
        "# Estás fueron las raíces de la pregunta número 10 de la serie 1 "
      ],
      "metadata": {
        "colab": {
          "base_uri": "https://localhost:8080/"
        },
        "id": "36vxNaMJ581T",
        "outputId": "a424310a-5134-4a74-f101-dd009e254a42"
      },
      "execution_count": 2,
      "outputs": [
        {
          "output_type": "stream",
          "name": "stdout",
          "text": [
            "Las raíces de la ecuación son:\n",
            "-3.00000000000000\n",
            "-2.00000000000000\n",
            "-1.00000000000000\n"
          ]
        }
      ]
    },
    {
      "cell_type": "code",
      "execution_count": 3,
      "metadata": {
        "colab": {
          "base_uri": "https://localhost:8080/"
        },
        "id": "jTjLXeK15QaN",
        "outputId": "a6e8719d-a131-4a9c-8656-1e8936b7194d"
      },
      "outputs": [
        {
          "output_type": "stream",
          "name": "stdout",
          "text": [
            "Las raíces de la ecuación son:\n",
            "-1.00000000000000\n",
            "0\n",
            "2.00000000000000\n"
          ]
        }
      ],
      "source": [
        "# Calcula las raices en una ecuación de tercer orden\n",
        "# Ahora estamos calculando las raices del polinomio carácteristico de la ecuación diferencial y´´´−y´´−2y´= 5x**2 + 1.9x + 10\n",
        "\n",
        "#\n",
        "\n",
        "# Correspondiente a la \n",
        "from sympy import symbols, Eq, solve\n",
        "\n",
        "# Definir la variable r\n",
        "r = symbols('r')\n",
        "\n",
        "# Definir la ecuación característica\n",
        "equation = Eq(r**3 - r**2 - 2*r, 0)\n",
        "\n",
        "# Resolver la ecuación para encontrar las raíces\n",
        "roots = solve(equation, r)\n",
        "\n",
        "print(\"Las raíces de la ecuación son:\")\n",
        "for root in roots:\n",
        "    print(root.evalf())"
      ]
    },
    {
      "cell_type": "code",
      "source": [],
      "metadata": {
        "id": "5iVopz0158e-"
      },
      "execution_count": null,
      "outputs": []
    }
  ]
}